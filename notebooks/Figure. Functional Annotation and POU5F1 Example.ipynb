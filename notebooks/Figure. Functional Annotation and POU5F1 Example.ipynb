{
 "cells": [
  {
   "cell_type": "markdown",
   "metadata": {},
   "source": [
    "# Figure. Functional Annotation and POU5F1 Example"
   ]
  },
  {
   "cell_type": "code",
   "execution_count": 1,
   "metadata": {
    "collapsed": false
   },
   "outputs": [],
   "source": [
    "import cPickle\n",
    "import glob\n",
    "import os\n",
    "import random\n",
    "import subprocess\n",
    "\n",
    "import cdpybio as cpb\n",
    "from ipyparallel import Client\n",
    "import matplotlib as mpl\n",
    "import matplotlib.gridspec as gridspec\n",
    "import matplotlib.pyplot as plt\n",
    "import numpy as np\n",
    "import pandas as pd\n",
    "import pybedtools as pbt\n",
    "from scipy.stats import fisher_exact\n",
    "import seaborn as sns\n",
    "import tabix\n",
    "import vcf as pyvcf\n",
    "import weblogolib as logo\n",
    "\n",
    "import cardipspy as cpy\n",
    "import ciepy\n",
    "\n",
    "%matplotlib inline\n",
    "%load_ext rpy2.ipython\n",
    "\n",
    "dy_name = 'figure_functional_annotation_and_pou5f1_example'\n",
    "\n",
    "import socket\n",
    "if socket.gethostname() == 'fl-hn1' or socket.gethostname() == 'fl-hn2':\n",
    "    dy = os.path.join(ciepy.root, 'sandbox', dy_name)\n",
    "    cpy.makedir(dy)\n",
    "    pbt.set_tempdir(dy)\n",
    "    \n",
    "outdir = os.path.join(ciepy.root, 'output', dy_name)\n",
    "cpy.makedir(outdir)\n",
    "\n",
    "private_outdir = os.path.join(ciepy.root, 'private_output', dy_name)\n",
    "cpy.makedir(private_outdir)"
   ]
  },
  {
   "cell_type": "code",
   "execution_count": 2,
   "metadata": {
    "collapsed": true
   },
   "outputs": [],
   "source": [
    "sns.set_style('whitegrid')"
   ]
  },
  {
   "cell_type": "code",
   "execution_count": 16,
   "metadata": {
    "collapsed": true
   },
   "outputs": [],
   "source": [
    "fn = os.path.join(ciepy.root, 'output', 'functional_annotation_analysis', 'encode_dnase_res.tsv')\n",
    "dnase_res = pd.read_table(fn, index_col=0)\n",
    "\n",
    "fn = os.path.join(ciepy.root, 'output', 'functional_annotation_analysis', 'encode_stem_cell_chip_seq_res.tsv')\n",
    "tf_res = pd.read_table(fn, index_col=0)\n",
    "tf_res = tf_res.drop_duplicates(subset=['target'])\n",
    "\n",
    "fn = os.path.join(ciepy.root, 'output', 'fine_mapping', 'tf_disruption.tsv')\n",
    "tf_disrupt = pd.read_table(fn, index_col=0)"
   ]
  },
  {
   "cell_type": "code",
   "execution_count": 3,
   "metadata": {
    "collapsed": false
   },
   "outputs": [],
   "source": [
    "fn = os.path.join(ciepy.root, 'output', 'eqtl_processing', 'eqtls01', 'lead_variants.tsv')\n",
    "lead_vars = pd.read_table(fn, index_col=0)\n",
    "sig = lead_vars[lead_vars.perm_sig]\n",
    "\n",
    "fn = os.path.join(ciepy.root, 'output', 'eqtl_input', \n",
    "                  'tpm_log_filtered_phe_std_norm_peer_resid.tsv')\n",
    "exp = pd.read_table(fn, index_col=0)\n",
    "\n",
    "fn = os.path.join(ciepy.root, 'output', 'eqtl_processing', 'eqtls01', 'gene_variant_pairs.tsv')\n",
    "gene_variant_pairs = pd.read_table(fn, index_col=0)\n",
    "fn = os.path.join(ciepy.root, 'output', 'eqtl_processing', 'eqtls02', 'gene_variant_pairs.tsv')\n",
    "gene_variant_pairs_secondary = pd.read_table(fn, index_col=0)\n",
    "\n",
    "fn = os.path.join(ciepy.root, 'output', 'fine_mapping', 'gene_variants_annotated.pickle')\n",
    "gene_variant_pairs_annotated = pd.read_pickle(fn)"
   ]
  },
  {
   "cell_type": "code",
   "execution_count": 4,
   "metadata": {
    "collapsed": true
   },
   "outputs": [],
   "source": [
    "fn = os.path.join(ciepy.root, 'output', 'motif_search', 'motif_info_full.tsv')\n",
    "motif_info = pd.read_table(fn, index_col=0)"
   ]
  },
  {
   "cell_type": "code",
   "execution_count": 5,
   "metadata": {
    "collapsed": false
   },
   "outputs": [],
   "source": [
    "gene_info = pd.read_table(cpy.gencode_gene_info, index_col=0)\n",
    "\n",
    "fn = os.path.join(ciepy.root, 'private_output', 'eqtl_input', \n",
    "                  'filtered_all', '0000.vcf.gz')\n",
    "vcf_reader = pyvcf.Reader(open(fn), compressed=True)\n",
    "res_fns = glob.glob(os.path.join(ciepy.root, 'private_output', 'run_eqtl_analysis', 'eqtls01', \n",
    "                                 'gene_results', '*', 'ENS*.tsv'))\n",
    "res_fns = pd.Series(res_fns,\n",
    "                    index=[os.path.splitext(os.path.split(x)[1])[0] for x in res_fns])\n",
    "\n",
    "g = gene_info[gene_info.gene_name == 'POU5F1'].index[0]\n",
    "res = ciepy.read_emmax_output(res_fns[g])\n",
    "res = res.sort_values('PVALUE')\n",
    "    \n",
    "t =  vcf_reader.fetch(res.CHROM.values[0], \n",
    "                      res.BEG.values[0], \n",
    "                      res.BEG.values[0] + 1)\n",
    "r = t.next()\n",
    "tdf = pd.DataFrame(exp.ix[g])\n",
    "tdf.columns = ['expression']\n",
    "tdf['genotype'] = 0\n",
    "hets = set(exp.columns) & set([s.sample for s in r.get_hets()])\n",
    "tdf.ix[hets, 'genotype'] = 1\n",
    "alts = set(exp.columns) & set([s.sample for s in r.get_hom_alts()])\n",
    "tdf.ix[alts, 'genotype'] = 2\n",
    "pou5f1_data = tdf\n",
    "pou5f1_data.columns = ['Expression', 'Genotype']"
   ]
  },
  {
   "cell_type": "code",
   "execution_count": 6,
   "metadata": {
    "collapsed": true
   },
   "outputs": [],
   "source": [
    "fn = os.path.join(ciepy.root, 'output', 'fine_mapping', 'tf_disruption.tsv')\n",
    "tf_disrupt = pd.read_table(fn, index_col=0)\n",
    "\n",
    "fn = os.path.join(ciepy.root, 'output', 'fine_mapping', 'motif_disruption.tsv')\n",
    "motif_disrupt = pd.read_table(fn, index_col=0)"
   ]
  },
  {
   "cell_type": "markdown",
   "metadata": {},
   "source": [
    "Let's see which TF's the significant variants for POU5F1 disrupt."
   ]
  },
  {
   "cell_type": "code",
   "execution_count": 7,
   "metadata": {
    "collapsed": true
   },
   "outputs": [],
   "source": [
    "chrom = 'chr6'\n",
    "start = 31110081\n",
    "end = 31164667"
   ]
  },
  {
   "cell_type": "code",
   "execution_count": 8,
   "metadata": {
    "collapsed": false
   },
   "outputs": [
    {
     "data": {
      "text/plain": [
       "202479      58\n",
       "202485   -1682\n",
       "202510     328\n",
       "Name: tss_dist, dtype: float64"
      ]
     },
     "execution_count": 8,
     "metadata": {},
     "output_type": "execute_result"
    }
   ],
   "source": [
    "tfd = gene_variant_pairs_annotated[gene_variant_pairs_annotated.gene_name == 'POU5F1']\n",
    "tfd = tfd[tfd.tf_disrupt]\n",
    "tfd.tss_dist"
   ]
  },
  {
   "cell_type": "code",
   "execution_count": 9,
   "metadata": {
    "collapsed": false
   },
   "outputs": [],
   "source": [
    "tfd = gene_variant_pairs_annotated[gene_variant_pairs_annotated.gene_name == 'POU5F1']\n",
    "tfd = tfd[tfd.tf_disrupt]\n",
    "tfd = tfd[tfd.H1_roadmap_dnase]"
   ]
  },
  {
   "cell_type": "code",
   "execution_count": 10,
   "metadata": {
    "collapsed": false
   },
   "outputs": [
    {
     "data": {
      "text/plain": [
       "202485    chr6:31140151-31140152\n",
       "Name: location, dtype: object"
      ]
     },
     "execution_count": 10,
     "metadata": {},
     "output_type": "execute_result"
    }
   ],
   "source": [
    "tfd.location"
   ]
  },
  {
   "cell_type": "code",
   "execution_count": 11,
   "metadata": {
    "collapsed": false
   },
   "outputs": [
    {
     "data": {
      "text/plain": [
       "202485    1682\n",
       "Name: tss_dist, dtype: float64"
      ]
     },
     "execution_count": 11,
     "metadata": {},
     "output_type": "execute_result"
    }
   ],
   "source": [
    "tfd.tss_dist.abs()"
   ]
  },
  {
   "cell_type": "code",
   "execution_count": 12,
   "metadata": {
    "collapsed": false
   },
   "outputs": [
    {
     "data": {
      "text/plain": [
       "TATA    True\n",
       "Name: chr6:31138376-31138377, dtype: bool"
      ]
     },
     "execution_count": 12,
     "metadata": {},
     "output_type": "execute_result"
    }
   ],
   "source": [
    "tf_disrupt.ix['chr6:31138376-31138377'][tf_disrupt.ix['chr6:31138376-31138377']]"
   ]
  },
  {
   "cell_type": "code",
   "execution_count": 13,
   "metadata": {
    "collapsed": false
   },
   "outputs": [
    {
     "name": "stdout",
     "output_type": "stream",
     "text": [
      "chr6:31138376-31138377: TATA_disc8\n",
      "chr6:31140151-31140152: TATA_disc7\n",
      "chr6:31138106-31138107: TATA_disc4\n"
     ]
    }
   ],
   "source": [
    "tfd = gene_variant_pairs_annotated[gene_variant_pairs_annotated.gene_name == 'POU5F1']\n",
    "tfd = tfd[tfd.tf_disrupt]\n",
    "#tfd = tfd[tfd.H1_roadmap_dnase]\n",
    "tfd = tfd[(tfd.start > start) & (tfd.end < end)]\n",
    "hstarts = list(set(tfd.start.values))\n",
    "se = tfd[[x for x in tfd.columns if 'motif_disrupted' in x]].sum()\n",
    "se = se[se == 1]\n",
    "t = motif_disrupt.ix[tfd.location]\n",
    "for i in t.index:\n",
    "    se = t.ix[i]\n",
    "    print('{}: {}'.format(i, ','.join(se[se].index)))"
   ]
  },
  {
   "cell_type": "code",
   "execution_count": 14,
   "metadata": {
    "collapsed": true
   },
   "outputs": [],
   "source": [
    "taf1_color = \"#DB7093\"\n",
    "dnase_color = \"#663399\""
   ]
  },
  {
   "cell_type": "code",
   "execution_count": 15,
   "metadata": {
    "collapsed": true
   },
   "outputs": [],
   "source": [
    "legend_colors = [\n",
    "    np.array((255,0,0)) / 255.,\n",
    "    np.array((255,105,105)) / 255.,\n",
    "    np.array((250,202,0)) / 255.,\n",
    "    np.array((255,252,4)) / 255.,\n",
    "    np.array((10,190,254)) / 255.,\n",
    "    np.array((0,176,80)) / 255.,\n",
    "    np.array((0,176,80)) / 255.,\n",
    "    np.array((153,255,102)) / 255.,\n",
    "    np.array((245,245,245)) / 255.,\n",
    "    ]\n",
    "ind = [\n",
    "    'Active promoter',\n",
    "    'Weak promoter',\n",
    "    'Strong enhancer',\n",
    "    'Weak/poised enhancer',\n",
    "    'Insulator',\n",
    "    'Transcriptional transition',\n",
    "    'Transcriptional elongation',\n",
    "    'Weak transcribed',\n",
    "    'Heterochromatin',\n",
    "]\n",
    "legend_colors = pd.Series(legend_colors, index=ind)"
   ]
  },
  {
   "cell_type": "markdown",
   "metadata": {},
   "source": [
    "## Paper"
   ]
  },
  {
   "cell_type": "code",
   "execution_count": 17,
   "metadata": {
    "collapsed": false
   },
   "outputs": [
    {
     "name": "stdout",
     "output_type": "stream",
     "text": [
      "123 samples from 78 cell types.\n",
      "9 skin fibroblasts.\n"
     ]
    }
   ],
   "source": [
    "tdf = dnase_res[dnase_res.biosample_type != 'immortalized cell line'].copy(deep=True)\n",
    "a = tdf.shape[0]\n",
    "b = tdf.cell_type.value_counts().shape[0]\n",
    "print('{} samples from {} cell types.'.format(a, b))\n",
    "print('{} skin fibroblasts.'.format(sum(tdf.cell_type == 'skin fibroblast')))"
   ]
  },
  {
   "cell_type": "code",
   "execution_count": null,
   "metadata": {
    "collapsed": true
   },
   "outputs": [],
   "source": [
    "tdf.sort_values(by='pvalue', inplace=True)\n",
    "np.where(tdf.cell_type == 'skin fibroblast')"
   ]
  },
  {
   "cell_type": "code",
   "execution_count": 19,
   "metadata": {
    "collapsed": false
   },
   "outputs": [
    {
     "data": {
      "text/plain": [
       "transcription factor                                                                                39\n",
       "chromatin remodeller, transcription factor                                                           8\n",
       "RNA binding protein, transcription factor                                                            3\n",
       "broad histone mark, histone, histone modification                                                    2\n",
       "chromatin remodeller, other context, other post-translational modification, transcription factor     1\n",
       "histone, histone modification, narrow histone mark                                                   1\n",
       "Name: target_type, dtype: int64"
      ]
     },
     "execution_count": 19,
     "metadata": {},
     "output_type": "execute_result"
    }
   ],
   "source": [
    "tf_res.target_type.value_counts()"
   ]
  },
  {
   "cell_type": "code",
   "execution_count": 20,
   "metadata": {
    "collapsed": true
   },
   "outputs": [],
   "source": [
    "tf_res = tf_res[tf_res.target_type != 'histone, histone modification']"
   ]
  },
  {
   "cell_type": "code",
   "execution_count": null,
   "metadata": {
    "collapsed": true
   },
   "outputs": [],
   "source": [
    "tf_res.shape"
   ]
  },
  {
   "cell_type": "code",
   "execution_count": null,
   "metadata": {
    "collapsed": true
   },
   "outputs": [],
   "source": [
    "np.where(tf_res.target == 'POU5F1')"
   ]
  },
  {
   "cell_type": "code",
   "execution_count": 34,
   "metadata": {
    "collapsed": false
   },
   "outputs": [
    {
     "data": {
      "text/plain": [
       "0.32967032967032966"
      ]
     },
     "execution_count": 34,
     "metadata": {},
     "output_type": "execute_result"
    }
   ],
   "source": [
    "1.5 / 4.55"
   ]
  },
  {
   "cell_type": "code",
   "execution_count": 33,
   "metadata": {
    "collapsed": false
   },
   "outputs": [
    {
     "data": {
      "text/plain": [
       "4.55"
      ]
     },
     "execution_count": 33,
     "metadata": {},
     "output_type": "execute_result"
    }
   ],
   "source": [
    "2.75 + 0.25 * 6 + 0.05 * 6"
   ]
  },
  {
   "cell_type": "code",
   "execution_count": 56,
   "metadata": {
    "collapsed": false
   },
   "outputs": [
    {
     "data": {
      "image/png": "[encoded data removed]",
      "text/plain": [
       "<matplotlib.figure.Figure at 0x7fc8ba882d90>"
      ]
     },
     "metadata": {},
     "output_type": "display_data"
    }
   ],
   "source": [
    "fig = plt.figure(figsize=(4.48, 5), dpi=300)\n",
    "\n",
    "gs = gridspec.GridSpec(1, 1)\n",
    "ax = fig.add_subplot(gs[0, 0])\n",
    "ax.text(0, 1, 'Figure 2',\n",
    "        size=16, va='top')\n",
    "ciepy.clean_axis(ax)\n",
    "ax.set_xticks([])\n",
    "ax.set_yticks([])\n",
    "gs.tight_layout(fig, rect=[0, 0.90, 0.5, 1])\n",
    "\n",
    "gs = gridspec.GridSpec(1, 1)\n",
    "ax = fig.add_subplot(gs[0, 0])\n",
    "t = dnase_res[dnase_res.biosample_type != 'immortalized cell line']\n",
    "t = dnase_res.ix[t.index].sort_values(by='pvalue', ascending=False).tail(10)\n",
    "t.cell_type = t.cell_type.apply(lambda x: x.replace('induced pluripotent stem cell', 'iPSC'))\n",
    "t.cell_type = t.cell_type.apply(lambda x: x.replace('fibroblast of ', ''))\n",
    "# cdict = dict(zip(set(dnase_res.ix[t.index, 'biosample_type']), sns.color_palette('Set2')))\n",
    "cdict = dict([['induced pluripotent stem cell line', cpb.analysis.tableau20[0]],\n",
    "              ['stem cell', cpb.analysis.tableau20[4]],\n",
    "              ['primary cell', cpb.analysis.tableau20[8]]])\n",
    "#fig, ax = plt.subplots(1, 1, figsize=(5, 10))\n",
    "c = [cdict[x] for x in dnase_res.ix[t.index, 'biosample_type']]\n",
    "ax = (-np.log10(t.pvalue)).plot(kind='barh', ax=ax, color=c, label=None)\n",
    "ax.set_ylabel('')\n",
    "ax.set_xlabel('$-\\log_{10}$ $p$-value', fontsize=8)\n",
    "#ax.set_title('ENCODE DNase enrichments')\n",
    "ya, yb = ax.get_ylim()\n",
    "ax.set_yticklabels(t.ix[t.index, 'cell_type'], fontsize=8)\n",
    "rects = []\n",
    "labels = []\n",
    "for k in ['induced pluripotent stem cell line', 'stem cell',\n",
    "          'primary cell',]:\n",
    "    if k == 'induced pluripotent stem cell line':\n",
    "        labels.append('iPSC')\n",
    "    elif k == 'in vitro differentiated cells':\n",
    "        labels.append('in vitro\\ndifferentiated\\ncell')\n",
    "    elif k == 'primary cell':\n",
    "        labels.append('fibroblast')\n",
    "    else:\n",
    "        labels.append(k)\n",
    "    r = plt.Rectangle((0, 0), 0, 0, fc=cdict[k])\n",
    "    rects.append(r)\n",
    "lgd = ax.legend(rects, labels, loc='lower right', frameon=True, fontsize=6)\n",
    "#bbox_to_anchor=[0.5, -0.05])#, prop={'size':8}), loc='upper center',\n",
    "for p in lgd.get_patches():\n",
    "    p.set_linewidth(0)\n",
    "ax.grid(axis='y')\n",
    "for t in ax.get_xticklabels() + ax.get_yticklabels():\n",
    "    t.set_fontsize(8)\n",
    "gs.tight_layout(fig, rect=[0, 0.58, 0.65, 0.92])\n",
    "\n",
    "gs = gridspec.GridSpec(1, 1)\n",
    "ax = fig.add_subplot(gs[0, 0])\n",
    "t = tf_res.sort_values(by='pvalue', ascending=False).tail(10)\n",
    "ax = (-np.log10(t.pvalue)).plot(kind='barh', ax=ax, color='grey', zorder=2)\n",
    "ax.set_ylabel('')\n",
    "ax.set_xlabel('$-\\log_{10}$ $p$-value', fontsize=8)\n",
    "ya, yb = ax.get_ylim()\n",
    "t = ax.set_yticklabels(t.target, fontsize=8)\n",
    "for t in ax.get_xticklabels() + ax.get_yticklabels():\n",
    "    t.set_fontsize(8)\n",
    "ax.grid(axis='y')\n",
    "gs.tight_layout(fig, rect=[0.6, 0.58, 1, 0.92])\n",
    "\n",
    "# POU5F1 legend\n",
    "gs = gridspec.GridSpec(1, 1)\n",
    "ax = fig.add_subplot(gs[0, 0])\n",
    "ciepy.clean_axis(ax)\n",
    "rects = []\n",
    "labels = []\n",
    "for k in legend_colors.index:\n",
    "    labels.append(k)\n",
    "    rects.append(plt.Rectangle((0, 0), 0, 0, fc=legend_colors[k]))\n",
    "lgd = ax.legend(rects, labels, loc='center', prop={'size':7}, ncol=3)\n",
    "for p in lgd.get_patches():\n",
    "    p.set_linewidth(0)\n",
    "gs.tight_layout(fig, rect=[0, 0, 1, 0.08])\n",
    "\n",
    "t = fig.text(0.005, 0.88, 'A', weight='bold', \n",
    "             size=12)\n",
    "t = fig.text(0.62, 0.88, 'B', weight='bold', \n",
    "             size=12)\n",
    "t = fig.text(0.005, 0.57, 'C', weight='bold', \n",
    "             size=12)\n",
    "\n",
    "plt.savefig(os.path.join(outdir, 'functional_annotation_pou5f1_skeleton.pdf'))"
   ]
  },
  {
   "cell_type": "code",
   "execution_count": 45,
   "metadata": {
    "collapsed": false
   },
   "outputs": [],
   "source": [
    "%%R\n",
    "\n",
    "suppressPackageStartupMessages(library(Gviz))\n",
    "suppressPackageStartupMessages(library(GenomicFeatures))"
   ]
  },
  {
   "cell_type": "code",
   "execution_count": 46,
   "metadata": {
    "collapsed": false
   },
   "outputs": [
    {
     "name": "stderr",
     "output_type": "stream",
     "text": [
      "/frazer01/home/cdeboever/software/anaconda/envs/cie/lib/python2.7/site-packages/IPython/kernel/__main__.py:21: SettingWithCopyWarning: \n",
      "A value is trying to be set on a copy of a slice from a DataFrame.\n",
      "Try using .loc[row_indexer,col_indexer] = value instead\n",
      "\n",
      "See the caveats in the documentation: http://pandas.pydata.org/pandas-docs/stable/indexing.html#indexing-view-versus-copy\n"
     ]
    }
   ],
   "source": [
    "gene_id = gene_info[gene_info.gene_name == 'POU5F1'].index[0]\n",
    "\n",
    "res_fns = glob.glob(os.path.join(ciepy.root, 'private_output', 'run_eqtl_analysis', 'eqtls01', \n",
    "                                 'gene_results', '*', 'ENS*.tsv'))\n",
    "res_fns = pd.Series(res_fns,\n",
    "                    index=[os.path.splitext(os.path.split(x)[1])[0] for x in res_fns])\n",
    "res = ciepy.read_emmax_output(res_fns[gene_id])\n",
    "res = res.sort_values('BEG')\n",
    "res = res.dropna(subset=['PVALUE'])\n",
    "\n",
    "res_fns = glob.glob(os.path.join(ciepy.root, 'private_output', 'run_eqtl_analysis', 'eqtls02', \n",
    "                                 'gene_results', '*', 'ENS*.tsv'))\n",
    "res_fns = pd.Series(res_fns,\n",
    "                    index=[os.path.splitext(os.path.split(x)[1])[0] for x in res_fns])\n",
    "res2 = ciepy.read_emmax_output(res_fns[gene_id])\n",
    "res2 = res2.sort_values('BEG')\n",
    "res2 = res2.dropna(subset=['PVALUE'])\n",
    "\n",
    "grange = res[['BEG']]\n",
    "grange.columns = ['start']\n",
    "grange['end'] = grange['start'] + 1\n",
    "data = pd.DataFrame(-np.log10(res.PVALUE))\n",
    "data = pd.DataFrame([-np.log10(res.PVALUE), -np.log10(res2.PVALUE), \n",
    "                     -np.log10(res.PVALUE), -np.log10(res2.PVALUE)],\n",
    "                    index=['primary', 'secondary', 'primary_sig', 'secondary_sig']).T\n",
    "t = gene_variant_pairs[gene_variant_pairs.gene_id == gene_id]\n",
    "data.index = res.MARKER_ID\n",
    "data.ix[t.marker_id, 'primary'] = np.nan\n",
    "data.ix[set(data.index) - set(t.marker_id), 'primary_sig'] = np.nan\n",
    "t = gene_variant_pairs_secondary[gene_variant_pairs_secondary.gene_id == gene_id]\n",
    "data.ix[t.marker_id, 'secondary'] = np.nan\n",
    "data.ix[set(data.index) - set(t.marker_id), 'secondary_sig'] = np.nan\n",
    "# data['secondary'] = np.nan\n",
    "# data['secondary_sig'] = np.nan\n",
    "starts = res.BEG\n",
    "\n",
    "chrom = 'chr6'\n",
    "start = 31110081\n",
    "end = 31164667\n",
    "fontsize = 8"
   ]
  },
  {
   "cell_type": "code",
   "execution_count": 47,
   "metadata": {
    "collapsed": false
   },
   "outputs": [
    {
     "name": "stderr",
     "output_type": "stream",
     "text": [
      "/frazer01/home/cdeboever/software/anaconda/envs/cie/lib/python2.7/site-packages/rpy2/robjects/functions.py:106: UserWarning: Note that the behaviour of the 'setPar' method has changed. You need to reassign the result to an object for the side effects to happen. Pass-by-reference semantic is no longer supported.\n",
      "\n",
      "  res = super(Function, self).__call__(*new_args, **new_kwargs)\n"
     ]
    }
   ],
   "source": [
    "%%R -i data,grange,chrom,start,end,fontsize,starts,taf1_color,dnase_color,hstarts\n",
    "\n",
    "ideoTrack <- IdeogramTrack(\n",
    "    genome=\"hg19\", \n",
    "    fontsize=fontsize, \n",
    "    fontsize.legend=fontsize,\n",
    "    fontcolor='black', \n",
    "    cex=1, \n",
    "    cex.id=1, \n",
    "    cex.axis=1, \n",
    "    cex.title=1,\n",
    "    fontface=1, \n",
    "    fontface.title=1\n",
    ")\n",
    "\n",
    "gtrack <- GenomeAxisTrack(\n",
    "    col=\"black\", \n",
    "    cex=1, \n",
    "    fontsize=8, \n",
    "    col.id=\"black\", \n",
    "    fontcolor=\"black\", \n",
    "    fontface=1,\n",
    "    fontface.group=1,\n",
    "    lwd=1,\n",
    ")\n",
    "\n",
    "gr <- GRanges(\n",
    "    seqnames=\"chr6\", \n",
    "    ranges=IRanges(start=starts, width=rep(1, length(starts))),\n",
    "    primary=data[\"primary\"],\n",
    "    psig=data[\"primary_sig\"],\n",
    ")\n",
    "\n",
    "pvalTrack <- DataTrack(\n",
    "    gr,\n",
    "    groups=c(\"Not significant\", \"Significant\"),\n",
    "    genome=\"hg19\", \n",
    "    type=\"p\", \n",
    "    alpha=0.75, \n",
    "    lwd=8,\n",
    "    name=\"-log10 p-value\", \n",
    "    fontsize=8,\n",
    "    fontcolor.legend='black', \n",
    "    col.axis='black', \n",
    "    col.title='black',\n",
    "    background.title='transparent', \n",
    "    cex=0.5, \n",
    "    cex.id=1, \n",
    "    cex.axis=1, \n",
    "    cex.title=1,\n",
    "    fontface=1, \n",
    "    fontface.title=1,\n",
    "    fontcolor.title=\"black\",\n",
    "    fontface.title=1, \n",
    "    alpha.title=1,\n",
    "    cex.legend=1,\n",
    "    fontcolor.legend=\"black\",\n",
    "    fontface.legend=1,\n",
    "    fontsize.legend=8,\n",
    ")\n",
    "\n",
    "biomTrack <- BiomartGeneRegionTrack(\n",
    "    genome=\"hg19\", \n",
    "    chromosome=chrom, \n",
    "    start=start, \n",
    "    end=end,\n",
    "    name=\"\", \n",
    "    fontsize=fontsize,\n",
    "    collapseTranscripts='meta',\n",
    "    fontcolor.legend='black', \n",
    "    col.axis='black', \n",
    "    col.title='black', \n",
    "    fontcolor.legend=\"black\",\n",
    "    background.title='transparent', \n",
    "    cex=1, \n",
    "    cex.id=1, \n",
    "    cex.axis=1, \n",
    "    cex.title=1,\n",
    "    fontface=1, \n",
    "    fontface.title=1, \n",
    "    geneSymbols=TRUE,\n",
    "    cex.group=1,\n",
    "    fontcolor.group=\"black\",\n",
    "    fontface.group=1,\n",
    "    fontface.title=1, \n",
    "    alpha.title=1,\n",
    "    lwd=0.8,\n",
    ")\n",
    "\n",
    "hmmTrack <- UcscTrack(\n",
    "    track=\"Broad ChromHMM\", \n",
    "    table=\"wgEncodeBroadHmmH1hescHMM\",\n",
    "    genome=\"hg19\", \n",
    "    chromosome=chrom,\n",
    "    from=start, \n",
    "    to=end, \n",
    "    trackType=\"AnnotationTrack\",\n",
    "    shape=\"box\",\n",
    "    start=\"chromStart\",\n",
    "    end=\"chromEnd\",\n",
    "    feature=\"itemRgb\", \n",
    "    id=\"name\", \n",
    "    collapse=FALSE,\n",
    "    stacking=\"dense\",\n",
    "    fontsize=7,\n",
    "    name=\"chromHMM\",\n",
    "    fontcolor.legend='black', \n",
    "    col.axis='black', \n",
    "    col.title='black',\n",
    "    background.title='transparent', \n",
    "    cex=1,\n",
    "    cex.id=1, \n",
    "    cex.axis=1, \n",
    "    cex.title=1,\n",
    "    fontface=1, \n",
    "    fontface.title=1,\n",
    "    lwd=0,\n",
    "    fontface=1, \n",
    "    fontface.title=1,\n",
    "    rotation.title=0\n",
    ")\n",
    "\n",
    "feat <- unique(feature(hmmTrack))\n",
    "featCol <- setNames(as.list(rgb(t(sapply(strsplit(feat, \",\"),\n",
    "as.numeric)), maxColorValue=255)), feat)\n",
    "displayPars(hmmTrack) <- featCol\n",
    "\n",
    "taf1Track <- UcscTrack(\n",
    "    track=\"Uniform TFBS\", \n",
    "    table=\"wgEncodeAwgTfbsHaibH1hescTaf1V0416102UniPk\",\n",
    "    genome=\"hg19\", \n",
    "    chromosome=chrom,\n",
    "    from=start, \n",
    "    to=end, \n",
    "    trackType=\"AnnotationTrack\",\n",
    "    shape=\"box\",\n",
    "    start=\"chromStart\",\n",
    "    end=\"chromEnd\",\n",
    "    feature=\"itemRgb\", \n",
    "    id=\"name\", \n",
    "    collapse=FALSE,\n",
    "    stacking=\"dense\",\n",
    "    fontsize=7,\n",
    "    name=\"TAF1\",\n",
    "    fontcolor.legend='black', \n",
    "    col.axis='black', \n",
    "    col.title='black',\n",
    "    background.title='transparent', \n",
    "    cex=1,\n",
    "    cex.id=1, \n",
    "    cex.axis=1, \n",
    "    cex.title=1,\n",
    "    fontface=1, \n",
    "    fontface.title=1,\n",
    "    lwd=0,\n",
    "    fontface=1, \n",
    "    fontface.title=1,\n",
    "    rotation.title=0\n",
    ")\n",
    "\n",
    "dnaseTrack <- UcscTrack(\n",
    "    track=\"Uniform DNaseI HS\", \n",
    "    table=\"wgEncodeAwgDnaseUwdukeH1hescUniPk\",\n",
    "    genome=\"hg19\", \n",
    "    chromosome=chrom,\n",
    "    from=start, \n",
    "    to=end, \n",
    "    trackType=\"AnnotationTrack\",\n",
    "    shape=\"box\",\n",
    "    start=\"chromStart\",\n",
    "    end=\"chromEnd\",\n",
    "    feature=\"itemRgb\", \n",
    "    id=\"name\", \n",
    "    collapse=FALSE,\n",
    "    stacking=\"dense\",\n",
    "    fontsize=7,\n",
    "    name=\"DHS\",\n",
    "    fontcolor.legend='black', \n",
    "    col.axis='black', \n",
    "    col.title='black',\n",
    "    background.title='transparent', \n",
    "    cex=1,\n",
    "    cex.id=1, \n",
    "    cex.axis=1, \n",
    "    cex.title=1,\n",
    "    fontface=1, \n",
    "    fontface.title=1,\n",
    "    lwd=0,\n",
    "    fontface=1, \n",
    "    fontface.title=1,\n",
    "    rotation.title=0\n",
    ")\n",
    "\n",
    "hgr <- GRanges(\n",
    "    seqnames=\"chr6\", \n",
    "    ranges=IRanges(start=hstarts, width=rep(1, length(hstarts))),\n",
    "    )\n",
    "\n",
    "pvalHT <- HighlightTrack(\n",
    "    trackList=pvalTrack, \n",
    "    range=hgr,\n",
    "    alpha=0.5,\n",
    "    fill=NA)\n",
    "\n",
    "taf1Track = setPar(taf1Track, \"fill\", taf1_color)\n",
    "dnaseTrack = setPar(dnaseTrack, \"fill\", dnase_color)"
   ]
  },
  {
   "cell_type": "code",
   "execution_count": 48,
   "metadata": {
    "collapsed": true
   },
   "outputs": [],
   "source": [
    "%%R\n",
    "\n",
    "taf1Track <- UcscTrack(\n",
    "    track=\"Uniform TFBS\", \n",
    "    table=\"wgEncodeAwgTfbsHaibH1hescTaf1V0416102UniPk\",\n",
    "    genome=\"hg19\", \n",
    "    chromosome=chrom,\n",
    "    from=start, \n",
    "    to=end, \n",
    "    trackType=\"AnnotationTrack\",\n",
    "    shape=\"box\",\n",
    "    start=\"chromStart\",\n",
    "    end=\"chromEnd\",\n",
    "    feature=\"itemRgb\", \n",
    "    id=\"name\", \n",
    "    collapse=FALSE,\n",
    "    stacking=\"dense\",\n",
    "    fontsize=7,\n",
    "    name=\"TAF1\",\n",
    "    fontcolor.legend='black', \n",
    "    col.axis='black', \n",
    "    col.title='black',\n",
    "    background.title='transparent', \n",
    "    cex=1,\n",
    "    cex.id=1, \n",
    "    cex.axis=1, \n",
    "    cex.title=1,\n",
    "    fontface=1, \n",
    "    fontface.title=1,\n",
    "    lwd=0,\n",
    "    fontface=1, \n",
    "    fontface.title=1,\n",
    "    rotation.title=0\n",
    ")"
   ]
  },
  {
   "cell_type": "code",
   "execution_count": 49,
   "metadata": {
    "collapsed": true
   },
   "outputs": [],
   "source": [
    "%%R\n",
    "\n",
    "hgr <- GRanges(\n",
    "    seqnames=\"chr6\", \n",
    "    ranges=IRanges(start=hstarts, width=rep(1, length(hstarts))),\n",
    "    )\n",
    "\n",
    "pvalHT <- HighlightTrack(\n",
    "    trackList=pvalTrack, \n",
    "    range=hgr,\n",
    "    alpha=0.5,\n",
    "    fill=NA)\n"
   ]
  },
  {
   "cell_type": "code",
   "execution_count": 50,
   "metadata": {
    "collapsed": true
   },
   "outputs": [],
   "source": [
    "fn = os.path.join(outdir, 'pou5f1.pdf')"
   ]
  },
  {
   "cell_type": "code",
   "execution_count": 51,
   "metadata": {
    "collapsed": false
   },
   "outputs": [
    {
     "data": {
      "text/plain": [
       "png \n",
       "  2 \n"
      ]
     },
     "metadata": {},
     "output_type": "display_data"
    }
   ],
   "source": [
    "%%R -i fn,start,end\n",
    "\n",
    "pdf(fn, 4.48, 2.75)\n",
    "plotTracks(c(gtrack, biomTrack, pvalHT, taf1Track,\n",
    "             hmmTrack), chromosome=\"chr6\", from=start, to=end, \n",
    "           col.title=\"black\", sizes=c(1.5, 1.5, 5, 0.5, 0.5))\n",
    "dev.off()"
   ]
  },
  {
   "cell_type": "raw",
   "metadata": {
    "collapsed": false
   },
   "source": [
    "%%R -i fn,start,end\n",
    "\n",
    "pdf(fn, 4.48, 3)\n",
    "plotTracks(c(gtrack, biomTrack, pvalHT, taf1Track,\n",
    "             dnaseTrack, hmmTrack), chromosome=\"chr6\", from=start, to=end, \n",
    "           col.title=\"black\", sizes=c(1.5, 1.5, 5, 0.5, 0.5, 0.5))\n",
    "dev.off()"
   ]
  },
  {
   "cell_type": "raw",
   "metadata": {},
   "source": [
    "9_Txn_Transition\n",
    "np.array((0,176,80)) / 255.,\n",
    "3_Poised_Promoter\n",
    "np.array((207,11,198)) / 255.,\n",
    "13_Heterochrom/lo\n",
    "np.array((245,245,245)) / 255.,\n",
    "1_Active_Promoter\n",
    "np.array((255,0,0)) / 255.,\n",
    "7_Weak_Enhancer\n",
    "np.array((255,252,4)) / 255.,\n",
    "12_Repressed\n",
    "np.array((127,127,127)) / 255.,\n",
    "6_Weak_Enhancer\n",
    "np.array((255,252,4)) / 255.,\n",
    "2_Weak_Promoter\n",
    "np.array((255,105,105)) / 255.,\n",
    "10_Txn_Elongation\n",
    "np.array((0,176,80)) / 255.,\n",
    "8_Insulator\n",
    "np.array((10,190,254)) / 255.,\n",
    "5_Strong_Enhancer\n",
    "np.array((250,202,0)) / 255.,\n",
    "11_Weak_Txn\n",
    "np.array((153,255,102)) / 255.,\n",
    "15_Repetitive/CNV\n",
    "np.array((245,245,245)) / 255.,\n",
    "14_Repetitive/CNV\n",
    "np.array((245,245,245)) / 255.,\n",
    "4_Strong_Enhancer\n",
    "np.array((250,202,0)) / 255.,"
   ]
  },
  {
   "cell_type": "markdown",
   "metadata": {},
   "source": [
    "TODO: Everything below needs to be updated, cleaned up, or removed."
   ]
  },
  {
   "cell_type": "code",
   "execution_count": null,
   "metadata": {
    "collapsed": true
   },
   "outputs": [],
   "source": [
    "3 + "
   ]
  },
  {
   "cell_type": "code",
   "execution_count": 29,
   "metadata": {
    "collapsed": false
   },
   "outputs": [
    {
     "data": {
      "image/png": "[encoded data removed]"
     },
     "metadata": {},
     "output_type": "display_data"
    }
   ],
   "source": [
    "%%R -i start,end\n",
    "\n",
    "plotTracks(c(ideoTrack, gtrack, biomTrack, pvalHT,\n",
    "             egr1Track, dnaseTrack, hmmTrack), \n",
    "           chromosome=\"chr6\", \n",
    "           from=start, to=end, col.title=\"black\")"
   ]
  },
  {
   "cell_type": "code",
   "execution_count": 47,
   "metadata": {
    "collapsed": false
   },
   "outputs": [],
   "source": [
    "fn = os.path.join(ciepy.root, 'output', 'motif_search', 'matrices.pickle')\n",
    "with open(fn) as f:\n",
    "    matrices = cPickle.load(f)\n",
    "fn = os.path.join(ciepy.root, 'output', 'motif_search', 'motif_info_full.tsv')\n",
    "motif_info = pd.read_table(fn, index_col=0)\n",
    "fn = os.path.join(ciepy.root, 'output', 'motif_search', 'motif_info_rep.tsv')\n",
    "motif_info_rep = pd.read_table(fn, index_col=0)"
   ]
  },
  {
   "cell_type": "code",
   "execution_count": 48,
   "metadata": {
    "collapsed": true
   },
   "outputs": [],
   "source": [
    "def plot_tf_disruption(\n",
    "    m,\n",
    "    position, \n",
    "    ref, \n",
    "    alt, \n",
    "    genome_fasta,\n",
    "    root,\n",
    "    title=None,\n",
    "):\n",
    "    \"\"\" \n",
    "    Determine whether there is a difference between the ref and alt\n",
    "    alleles for TF binding.\n",
    "    \n",
    "    Parameters\n",
    "    ----------\n",
    "    m : pd.DataFrame\n",
    "        PWM as data frame. Columns are nucleotides.\n",
    "    \n",
    "    position : str\n",
    "        Zero based genomic coordinates of the reference allele of the form\n",
    "        chrom:start-end (chr5:100-101 for a SNV for instance). The value end -\n",
    "        start should equal the length of the ref allele.\n",
    "\n",
    "    ref : str\n",
    "        Reference allele. This should match the reference sequence at \"position\"\n",
    "        in genome_fasta.\n",
    "\n",
    "    alt : str\n",
    "        Alternate allele.\n",
    "\n",
    "    genome_fasta : str\n",
    "        Path to genome fasta file. This file should be indexed.\n",
    "        \n",
    "    rooot : str\n",
    "        Path root to write images to.\n",
    "\n",
    "    \"\"\"\n",
    "    import tempfile\n",
    "\n",
    "    from Bio.Seq import Seq\n",
    "    import MOODS\n",
    "    max_motif_length = m.shape[0]\n",
    "    chrom, coords = position.split(':')\n",
    "    start,end = [int(x) for x in coords.split('-')]\n",
    "    s = '{}\\t{}\\t{}\\n'.format(chrom, start - max_motif_length + 1, end + max_motif_length - 1)\n",
    "    f = tempfile.NamedTemporaryFile(mode='w', delete=False)\n",
    "    f.write(s)\n",
    "    f.close()\n",
    "    with open(f.name) as f:\n",
    "        seq_lines = [x.strip() for x in f.readlines()]\n",
    "    c = 'bedtools getfasta -fi {} -bed {} -fo /dev/stdout'.format(genome_fasta,\n",
    "                                                                  f.name)\n",
    "    seq_lines = subprocess.check_output(c, shell=True).split()\n",
    "    os.remove(f.name)\n",
    "    ref_seq = seq_lines[1]\n",
    "    alt_seq = ref_seq[0:max_motif_length - 1] + alt + ref_seq[max_motif_length + len(ref) - 1:]\n",
    "\n",
    "    ref_variant_start = max_motif_length - 1\n",
    "    ref_variant_end = max_motif_length - 1 + len(ref)\n",
    "    alt_variant_start = max_motif_length - 1\n",
    "    alt_variant_end = max_motif_length - 1 + len(alt)\n",
    "\n",
    "    ms = [m.T.values.tolist()]\n",
    "    ref_res = MOODS.search(ref_seq, ms, 0.001, both_strands=True,\n",
    "                           bg=[0.25, 0.25, 0.25, 0.25])\n",
    "    alt_res = MOODS.search(alt_seq, ms, 0.001, both_strands=True,\n",
    "                           bg=[0.25, 0.25, 0.25, 0.25])\n",
    "    starts = set([x[0] for x in ref_res[0]]) | set([x[0] for x in alt_res[0]])\n",
    "    assert len(starts) == 1\n",
    "\n",
    "    start = list(starts)[0]\n",
    "\n",
    "    ref_seq = ref_seq[start:start + m.shape[0]]\n",
    "    alt_seq = alt_seq[start:start + m.shape[0]]\n",
    "    \n",
    "    if start < 0:\n",
    "        ref_seq = str(Seq(ref_seq).reverse_complement())\n",
    "        alt_seq = str(Seq(alt_seq).reverse_complement())\n",
    "\n",
    "    alphabet = logo.corebio.seq.unambiguous_dna_alphabet\n",
    "    prior = [0.25, 0.25, 0.25, 0.25]\n",
    "    counts = m.values\n",
    "    assert counts.shape[1] == 4\n",
    "    assert len(ref_seq) == len(alt_seq) == counts.shape[0]\n",
    "    ref_counts = []\n",
    "    for t in ref_seq:\n",
    "        ref_counts.append([int(t.upper() == 'A'), int(t.upper() == 'C'),\n",
    "                           int(t.upper() == 'G'), int(t.upper() == 'T')])\n",
    "    alt_counts = []\n",
    "    for t in alt_seq:\n",
    "        alt_counts.append([int(t.upper() == 'A'), int(t.upper() == 'C'),\n",
    "                           int(t.upper() == 'G'), int(t.upper() == 'T')])\n",
    "    seq_counts = np.array(ref_counts) + np.array(alt_counts)\n",
    "    #counts = np.concatenate([counts, seq_counts])\n",
    "    #counts = np.concatenate([counts, ref_counts, alt_counts])\n",
    "    data = logo.LogoData.from_counts(alphabet, counts, prior=None)\n",
    "    fout = open(root + '_motif.png', 'w')\n",
    "    options = logo.LogoOptions()\n",
    "    options.fineprint = ''\n",
    "    if title:\n",
    "        options.logo_title = title\n",
    "    else:\n",
    "        options.logo_title = ''\n",
    "    options.stacks_per_line = m.shape[0]\n",
    "    options.show_xaxis = False\n",
    "    options.show_yaxis = False\n",
    "    options.color_scheme = logo.ColorScheme([logo.ColorGroup(\"G\", \"orange\"), \n",
    "                                             logo.ColorGroup(\"C\", \"blue\"),\n",
    "                                             logo.ColorGroup(\"A\", \"green\"),\n",
    "                                             logo.ColorGroup(\"T\", \"red\")])\n",
    "    logo_format = logo.LogoFormat(data, options)\n",
    "    fout.write(logo.png_print_formatter(data, logo_format))\n",
    "    #fout.write(logo.pdf_formatter(data, logo_format))\n",
    "    fout.close()\n",
    "    \n",
    "    data = logo.LogoData.from_counts(alphabet, seq_counts, prior=None)\n",
    "    fout = open(root + '_sequence.png', 'w')\n",
    "    options = logo.LogoOptions()\n",
    "    options.fineprint = ''\n",
    "    options.unit_name = 'probability'\n",
    "    if title:\n",
    "        options.logo_title = title\n",
    "    else:\n",
    "        options.logo_title = ''\n",
    "    options.stacks_per_line = m.shape[0]\n",
    "    options.show_xaxis = False\n",
    "    options.show_yaxis = False\n",
    "    options.color_scheme = logo.ColorScheme([logo.ColorGroup(\"G\", \"orange\"), \n",
    "                                             logo.ColorGroup(\"C\", \"blue\"),\n",
    "                                             logo.ColorGroup(\"A\", \"green\"),\n",
    "                                             logo.ColorGroup(\"T\", \"red\")])\n",
    "    logo_format = logo.LogoFormat(data, options)\n",
    "    fout.write(logo.png_print_formatter(data, logo_format))\n",
    "    #fout.write(logo.pdf_formatter(data, logo_format))\n",
    "    fout.close()"
   ]
  },
  {
   "cell_type": "code",
   "execution_count": 49,
   "metadata": {
    "collapsed": false
   },
   "outputs": [
    {
     "data": {
      "text/plain": [
       "202485    chr6:31140151-31140152\n",
       "Name: location, dtype: object"
      ]
     },
     "execution_count": 49,
     "metadata": {},
     "output_type": "execute_result"
    }
   ],
   "source": [
    "tfd.location"
   ]
  },
  {
   "cell_type": "code",
   "execution_count": 51,
   "metadata": {
    "collapsed": false
   },
   "outputs": [],
   "source": [
    "# chr6:31161228-31161229: RAD21_disc9\n",
    "# chr6:31140151-31140152: TATA_disc7\n",
    "# chr6:31140007-31140008: CHD2_disc3,EGR1_known3\n",
    "\n",
    "# 420322    chr6:31161228-31161229\n",
    "# 425471    chr6:31140151-31140152\n",
    "# 425552    chr6:31140007-31140008\n",
    "\n",
    "i = 202485\n",
    "position = 'chr6:31140151-31140152'\n",
    "m = matrices['TATA_disc7']\n",
    "ref = tfd.ix[i, 'ref']\n",
    "alt = tfd.ix[i, 'alt']\n",
    "plot_tf_disruption(m, position, ref, alt, cpy.hg19, os.path.join(outdir, 'TATA'))\n",
    "\n",
    "# i = 425552\n",
    "# position = 'chr6:31140007-31140008'\n",
    "# m = matrices['CHD2_disc3']\n",
    "# ref = tfd.ix[i, 'ref']\n",
    "# alt = tfd.ix[i, 'alt']\n",
    "# c = plot_tf_disruption(m, position, ref, alt, cpy.hg19, os.path.join(outdir, 'CHD2'))\n",
    "\n",
    "# i = 425552\n",
    "# position = 'chr6:31140007-31140008'\n",
    "# m = matrices['EGR1_known3']\n",
    "# ref = tfd.ix[i, 'ref']\n",
    "# alt = tfd.ix[i, 'alt']\n",
    "# c = plot_tf_disruption(m, position, ref, alt, cpy.hg19, os.path.join(outdir, 'EGR1'))\n",
    "\n",
    "# i = 425552\n",
    "# position = 'chr6:31161228-31161229'\n",
    "# m = matrices['RAD21_disc9']\n",
    "# ref = tfd.ix[i, 'ref']\n",
    "# alt = tfd.ix[i, 'alt']\n",
    "# c = plot_tf_disruption(m, position, ref, alt, cpy.hg19, os.path.join(outdir, 'RAD21'))"
   ]
  },
  {
   "cell_type": "code",
   "execution_count": null,
   "metadata": {
    "collapsed": true
   },
   "outputs": [],
   "source": []
  },
  {
   "cell_type": "code",
   "execution_count": null,
   "metadata": {
    "collapsed": true
   },
   "outputs": [],
   "source": []
  },
  {
   "cell_type": "code",
   "execution_count": null,
   "metadata": {
    "collapsed": true
   },
   "outputs": [],
   "source": []
  },
  {
   "cell_type": "code",
   "execution_count": null,
   "metadata": {
    "collapsed": true
   },
   "outputs": [],
   "source": []
  },
  {
   "cell_type": "code",
   "execution_count": null,
   "metadata": {
    "collapsed": true
   },
   "outputs": [],
   "source": [
    "se = tfd[[x for x in tfd.columns if 'motif_disrupted' in x]].ix[0]\n",
    "se[se]"
   ]
  },
  {
   "cell_type": "code",
   "execution_count": 72,
   "metadata": {
    "collapsed": false
   },
   "outputs": [
    {
     "data": {
      "text/plain": [
       "CHD2_disc3_motif_disrupted    True\n",
       "Name: chr6:31140007-31140008:ENSG00000204531.11, dtype: object"
      ]
     },
     "execution_count": 72,
     "metadata": {},
     "output_type": "execute_result"
    }
   ],
   "source": [
    "se = tfd[[x for x in tfd.columns if 'motif_disrupted' in x]].ix[1]\n",
    "se[se]"
   ]
  },
  {
   "cell_type": "code",
   "execution_count": 73,
   "metadata": {
    "collapsed": true
   },
   "outputs": [],
   "source": [
    "position = 'chr6:31140151-31140152'\n",
    "m = matrices['TATA_disc7']\n",
    "ref = tfd.ix['chr6:31140151-31140152:ENSG00000204531.11', 'ref']\n",
    "alt = tfd.ix['chr6:31140151-31140152:ENSG00000204531.11', 'alt']\n",
    "plot_tf_disruption(m, position, ref, alt, cpy.hg19, os.path.join(outdir, 'TAF1'))\n",
    "\n",
    "position = 'chr6:31140007-31140008'\n",
    "m = matrices['CHD2_disc3']\n",
    "ref = tfd.ix['chr6:31140007-31140008:ENSG00000204531.11', 'ref']\n",
    "alt = tfd.ix['chr6:31140007-31140008:ENSG00000204531.11', 'alt']\n",
    "c = plot_tf_disruption(m, position, ref, alt, cpy.hg19, os.path.join(outdir, 'CHD2'))"
   ]
  },
  {
   "cell_type": "code",
   "execution_count": 74,
   "metadata": {
    "collapsed": true
   },
   "outputs": [],
   "source": [
    "from IPython.display import Image "
   ]
  },
  {
   "cell_type": "code",
   "execution_count": 75,
   "metadata": {
    "collapsed": false
   },
   "outputs": [
    {
     "data": {
      "image/png": "[encoded data removed]",
      "text/plain": [
       "<IPython.core.display.Image object>"
      ]
     },
     "execution_count": 75,
     "metadata": {
      "image/png": {
       "width": 200
      }
     },
     "output_type": "execute_result"
    }
   ],
   "source": [
    "Image(filename=os.path.join(outdir, 'TAF1_motif.png'), width=200)"
   ]
  },
  {
   "cell_type": "code",
   "execution_count": 76,
   "metadata": {
    "collapsed": false
   },
   "outputs": [
    {
     "data": {
      "image/png": "[encoded data removed]",
      "text/plain": [
       "<IPython.core.display.Image object>"
      ]
     },
     "execution_count": 76,
     "metadata": {
      "image/png": {
       "width": 200
      }
     },
     "output_type": "execute_result"
    }
   ],
   "source": [
    "Image(filename=os.path.join(outdir, 'TAF1_sequence.png'), width=200)"
   ]
  },
  {
   "cell_type": "code",
   "execution_count": 77,
   "metadata": {
    "collapsed": false
   },
   "outputs": [
    {
     "data": {
      "image/png": "[encoded data removed]",
      "text/plain": [
       "<IPython.core.display.Image object>"
      ]
     },
     "execution_count": 77,
     "metadata": {
      "image/png": {
       "width": 200
      }
     },
     "output_type": "execute_result"
    }
   ],
   "source": [
    "Image(filename=os.path.join(outdir, 'CHD2_motif.png'), width=200)"
   ]
  },
  {
   "cell_type": "code",
   "execution_count": 78,
   "metadata": {
    "collapsed": false
   },
   "outputs": [
    {
     "data": {
      "image/png": "[encoded data removed]",
      "text/plain": [
       "<IPython.core.display.Image object>"
      ]
     },
     "execution_count": 78,
     "metadata": {
      "image/png": {
       "width": 200
      }
     },
     "output_type": "execute_result"
    }
   ],
   "source": [
    "Image(filename=os.path.join(outdir, 'CHD2_sequence.png'), width=200)"
   ]
  },
  {
   "cell_type": "code",
   "execution_count": 79,
   "metadata": {
    "collapsed": false
   },
   "outputs": [
    {
     "data": {
      "image/png": "[encoded data removed]",
      "text/plain": [
       "<matplotlib.figure.Figure at 0x7fa43b9f3790>"
      ]
     },
     "metadata": {},
     "output_type": "display_data"
    }
   ],
   "source": [
    "fig = plt.figure(figsize=(6, 4.5), dpi=300)\n",
    "\n",
    "gs = gridspec.GridSpec(2, 2)\n",
    "ax = fig.add_subplot(gs[0, 0])\n",
    "n,b,p = ax.hist(sig[sig.variant_type == 'snv'].tss_dist, \n",
    "                bins=np.arange(-500000, 510000, 10000),\n",
    "                histtype='stepfilled', linewidth=0)\n",
    "ax.set_ylabel('Number of SNVs')\n",
    "ticks = ax.set_xticks([-300000, 0, 300000])\n",
    "ticks = ax.set_xticklabels([int(x) for x in ax.get_xticks() / 1000])\n",
    "ax.set_xlim(-500000, 500000)\n",
    "ax.set_xlabel('Distance (kb)')\n",
    "ax.spines['right'].set_visible(False)\n",
    "ax.spines['top'].set_visible(False)\n",
    "ax.yaxis.set_major_formatter(ciepy.comma_format)\n",
    "for l in ax.get_xticklines() + ax.get_yticklines(): \n",
    "    l.set_markersize(0)\n",
    "    \n",
    "ax = fig.add_subplot(gs[0, 1])\n",
    "n,b,p = ax.hist(sig[(sig.variant_type == 'ins') | (sig.variant_type == 'del')].tss_dist, \n",
    "                bins=np.arange(-500000, 510000, 10000),\n",
    "                histtype='stepfilled', linewidth=0)\n",
    "ax.set_ylabel('Number of indels')\n",
    "ticks = ax.set_xticks([-300000, 0, 300000])\n",
    "ticks = ax.set_xticklabels([int(x) for x in ax.get_xticks() / 1000])\n",
    "ax.set_xlim(-500000, 500000)\n",
    "ax.set_xlabel('Distance (kb)')\n",
    "ax.spines['right'].set_visible(False)\n",
    "ax.spines['top'].set_visible(False)\n",
    "ax.yaxis.set_major_formatter(ciepy.comma_format)\n",
    "for l in ax.get_xticklines() + ax.get_yticklines(): \n",
    "    l.set_markersize(0)\n",
    "    \n",
    "ax = fig.add_subplot(gs[1, 0])\n",
    "n,b,p = ax.hist(sig[sig.variant_type == 'cnv'].tss_dist, \n",
    "                bins=np.arange(-500000, 510000, 10000),\n",
    "                histtype='stepfilled', linewidth=0)\n",
    "ax.set_ylabel('Number of CNVs')\n",
    "ticks = ax.set_xticks([-300000, 0, 300000])\n",
    "ticks = ax.set_xticklabels([int(x) for x in ax.get_xticks() / 1000])\n",
    "ax.set_xlim(-500000, 500000)\n",
    "ax.set_xlabel('Distance (kb)')\n",
    "ax.spines['right'].set_visible(False)\n",
    "ax.spines['top'].set_visible(False)\n",
    "ax.yaxis.set_major_formatter(ciepy.comma_format)\n",
    "for l in ax.get_xticklines() + ax.get_yticklines(): \n",
    "    l.set_markersize(0)\n",
    "\n",
    "gs.tight_layout(fig)\n",
    "\n",
    "fig.savefig(os.path.join(outdir, 'tss_hists.pdf'), transparent=True)"
   ]
  },
  {
   "cell_type": "code",
   "execution_count": 80,
   "metadata": {
    "collapsed": false
   },
   "outputs": [
    {
     "data": {
      "image/png": "[encoded data removed]",
      "text/plain": [
       "<matplotlib.figure.Figure at 0x7fa43b154990>"
      ]
     },
     "metadata": {},
     "output_type": "display_data"
    }
   ],
   "source": [
    "fig = plt.figure(figsize=(8, 2.25), dpi=300)\n",
    "\n",
    "gs = gridspec.GridSpec(1, 3)\n",
    "ax = fig.add_subplot(gs[0, 0])\n",
    "n,b,p = ax.hist(sig[sig.variant_type == 'snv'].tss_dist, \n",
    "                bins=np.arange(-500000, 510000, 10000),\n",
    "                histtype='stepfilled', linewidth=0)\n",
    "ax.set_ylabel('Number of SNVs')\n",
    "ticks = ax.set_xticks([-300000, 0, 300000])\n",
    "ticks = ax.set_xticklabels([int(x) for x in ax.get_xticks() / 1000])\n",
    "ax.set_xlim(-500000, 500000)\n",
    "ax.set_xlabel('Distance (kb)')\n",
    "ax.spines['right'].set_visible(False)\n",
    "ax.spines['top'].set_visible(False)\n",
    "ax.yaxis.set_major_formatter(ciepy.comma_format)\n",
    "for l in ax.get_xticklines() + ax.get_yticklines(): \n",
    "    l.set_markersize(0)\n",
    "    \n",
    "ax = fig.add_subplot(gs[0, 1])\n",
    "n,b,p = ax.hist(sig[(sig.variant_type == 'ins') | (sig.variant_type == 'del')].tss_dist, \n",
    "                bins=np.arange(-500000, 510000, 10000),\n",
    "                histtype='stepfilled', linewidth=0)\n",
    "ax.set_ylabel('Number of indels')\n",
    "ticks = ax.set_xticks([-300000, 0, 300000])\n",
    "ticks = ax.set_xticklabels([int(x) for x in ax.get_xticks() / 1000])\n",
    "ax.set_xlim(-500000, 500000)\n",
    "ax.set_xlabel('Distance (kb)')\n",
    "ax.spines['right'].set_visible(False)\n",
    "ax.spines['top'].set_visible(False)\n",
    "ax.yaxis.set_major_formatter(ciepy.comma_format)\n",
    "for l in ax.get_xticklines() + ax.get_yticklines(): \n",
    "    l.set_markersize(0)\n",
    "    \n",
    "ax = fig.add_subplot(gs[0, 2])\n",
    "n,b,p = ax.hist(sig[sig.variant_type == 'cnv'].tss_dist, \n",
    "                bins=np.arange(-500000, 510000, 10000),\n",
    "                histtype='stepfilled', linewidth=0)\n",
    "ax.set_ylabel('Number of CNVs')\n",
    "ticks = ax.set_xticks([-300000, 0, 300000])\n",
    "ticks = ax.set_xticklabels([int(x) for x in ax.get_xticks() / 1000])\n",
    "ax.set_xlim(-500000, 500000)\n",
    "ax.set_xlabel('Distance (kb)')\n",
    "ax.spines['right'].set_visible(False)\n",
    "ax.spines['top'].set_visible(False)\n",
    "ax.yaxis.set_major_formatter(ciepy.comma_format)\n",
    "for l in ax.get_xticklines() + ax.get_yticklines(): \n",
    "    l.set_markersize(0)\n",
    "\n",
    "gs.tight_layout(fig)\n",
    "\n",
    "fig.savefig(os.path.join(outdir, 'tss_hists_one_row.pdf'), transparent=True)"
   ]
  },
  {
   "cell_type": "code",
   "execution_count": 81,
   "metadata": {
    "collapsed": false
   },
   "outputs": [
    {
     "data": {
      "image/png": "[encoded data removed]",
      "text/plain": [
       "<matplotlib.figure.Figure at 0x7fa43b29a610>"
      ]
     },
     "metadata": {},
     "output_type": "display_data"
    }
   ],
   "source": [
    "fig,ax = plt.subplots(1, 1, figsize=(10, 2), dpi=300)\n",
    "\n",
    "ciepy.clean_axis(ax)\n",
    "rects = []\n",
    "labels = []\n",
    "for k in legend_colors.index:\n",
    "    labels.append(k)\n",
    "    rects.append(plt.Rectangle((0, 0), 0, 0, fc=legend_colors[k]))\n",
    "lgd = ax.legend(rects, labels, loc='center', ncol=3, prop={'size':16})\n",
    "for p in lgd.get_patches():\n",
    "    p.set_linewidth(0)\n",
    "\n",
    "plt.tight_layout()\n",
    "fig.savefig(os.path.join(outdir, 'ucsc_legend.pdf'), transparent=True)"
   ]
  },
  {
   "cell_type": "code",
   "execution_count": 90,
   "metadata": {
    "collapsed": false
   },
   "outputs": [
    {
     "name": "stderr",
     "output_type": "stream",
     "text": [
      "/frazer01/home/cdeboever/software/anaconda/envs/cie/lib/python2.7/site-packages/IPython/kernel/__main__.py:21: SettingWithCopyWarning: \n",
      "A value is trying to be set on a copy of a slice from a DataFrame.\n",
      "Try using .loc[row_indexer,col_indexer] = value instead\n",
      "\n",
      "See the caveats in the documentation: http://pandas.pydata.org/pandas-docs/stable/indexing.html#indexing-view-versus-copy\n"
     ]
    }
   ],
   "source": [
    "gene_id = gene_info[gene_info.gene_name == 'POU5F1'].index[0]\n",
    "\n",
    "res_fns = glob.glob(os.path.join(ciepy.root, 'private_output', 'run_eqtl_analysis', 'eqtls01', \n",
    "                                 'gene_results', '*', 'ENS*.tsv'))\n",
    "res_fns = pd.Series(res_fns,\n",
    "                    index=[os.path.splitext(os.path.split(x)[1])[0] for x in res_fns])\n",
    "res = ciepy.read_emmax_output(res_fns[gene_id])\n",
    "res = res.sort_values('BEG')\n",
    "res = res.dropna(subset=['PVALUE'])\n",
    "\n",
    "res_fns = glob.glob(os.path.join(ciepy.root, 'private_output', 'run_eqtl_analysis', 'eqtls02', \n",
    "                                 'gene_results', '*', 'ENS*.tsv'))\n",
    "res_fns = pd.Series(res_fns,\n",
    "                    index=[os.path.splitext(os.path.split(x)[1])[0] for x in res_fns])\n",
    "res2 = ciepy.read_emmax_output(res_fns[gene_id])\n",
    "res2 = res2.sort_values('BEG')\n",
    "res2 = res2.dropna(subset=['PVALUE'])\n",
    "\n",
    "grange = res[['BEG']]\n",
    "grange.columns = ['start']\n",
    "grange['end'] = grange['start'] + 1\n",
    "data = pd.DataFrame(-np.log10(res.PVALUE))\n",
    "data = pd.DataFrame([-np.log10(res.PVALUE), -np.log10(res2.PVALUE)],\n",
    "                    index=['one', 'two']).T\n",
    "starts = res.BEG\n",
    "\n",
    "chrom = 'chr6'\n",
    "start = 31122118\n",
    "end = 31158508\n",
    "start = 31110081\n",
    "end = 31164667\n",
    "start=31110081\n",
    "end=31164667\n",
    "fontsize = 8"
   ]
  },
  {
   "cell_type": "code",
   "execution_count": 91,
   "metadata": {
    "collapsed": true
   },
   "outputs": [],
   "source": [
    "fontsize=16"
   ]
  },
  {
   "cell_type": "code",
   "execution_count": 106,
   "metadata": {
    "collapsed": false
   },
   "outputs": [],
   "source": [
    "%%R -i data,grange,chrom,start,end,fontsize,starts,chd2_color,rad21_color,taf1_color,dnase_color,hstarts\n",
    "\n",
    "ideoTrack <- IdeogramTrack(\n",
    "    genome=\"hg19\", \n",
    "    fontsize=fontsize, \n",
    "    fontsize.legend=fontsize,\n",
    "    fontcolor='black', \n",
    "    cex=1, \n",
    "    cex.id=1, \n",
    "    cex.axis=1, \n",
    "    cex.title=1,\n",
    "    fontface=1, \n",
    "    fontface.title=1\n",
    ")\n",
    "\n",
    "gtrack <- GenomeAxisTrack(\n",
    "    col=\"black\", \n",
    "    cex=1, \n",
    "    fontsize=fontsize,\n",
    "    col.id=\"black\", \n",
    "    fontcolor=\"black\", \n",
    "    fontface=1,\n",
    "    fontface.group=1,\n",
    "    lwd=1,\n",
    ")\n",
    "\n",
    "gr <- GRanges(\n",
    "    seqnames=\"chr6\", \n",
    "    ranges=IRanges(start=starts, width=rep(1, length(starts))),\n",
    "    primary=data[\"one\"],\n",
    "    secondary=data[\"two\"]\n",
    "    )\n",
    "\n",
    "pvalTrack <- DataTrack(\n",
    "    gr,\n",
    "    groups=c(\"Primary\", \"Secondary\"),\n",
    "    genome=\"hg19\", \n",
    "    type=\"p\", \n",
    "    alpha=0.75, \n",
    "    lwd=8,\n",
    "    name=\"-log10 p-value\", \n",
    "    fontsize=12,\n",
    "    fontcolor.legend='black', \n",
    "    col.axis='black', \n",
    "    col.title='black',\n",
    "    background.title='transparent', \n",
    "    cex=1, \n",
    "    cex.id=1, \n",
    "    cex.axis=1, \n",
    "    cex.title=1,\n",
    "    fontface=1, \n",
    "    fontface.title=1,\n",
    "    fontcolor.title=\"black\",\n",
    "    fontface.title=1, \n",
    "    alpha.title=1,\n",
    "    cex.legend=1,\n",
    "    fontcolor.legend=\"black\",\n",
    "    fontface.legend=1,\n",
    "    fontsize.legend=fontsize,\n",
    ")\n",
    "\n",
    "biomTrack <- BiomartGeneRegionTrack(\n",
    "    genome=\"hg19\", \n",
    "    chromosome=chrom, \n",
    "    start=start, \n",
    "    end=end,\n",
    "    name=\"\", \n",
    "    fontsize=fontsize,\n",
    "    collapseTranscripts='meta',\n",
    "    fontcolor.legend='black', \n",
    "    col.axis='black', \n",
    "    col.title='black', \n",
    "    fontcolor.legend=\"black\",\n",
    "    background.title='transparent', \n",
    "    cex=1, \n",
    "    cex.id=1, \n",
    "    cex.axis=1, \n",
    "    cex.title=1,\n",
    "    fontface=1, \n",
    "    fontface.title=1, \n",
    "    geneSymbols=TRUE,\n",
    "    cex.group=1,\n",
    "    fontcolor.group=\"black\",\n",
    "    fontface.group=1,\n",
    "    fontface.title=1, \n",
    "    alpha.title=1,\n",
    "    lwd=0.8,\n",
    ")\n",
    "\n",
    "hmmTrack <- UcscTrack(\n",
    "    track=\"Broad ChromHMM\", \n",
    "    table=\"wgEncodeBroadHmmH1hescHMM\",\n",
    "    genome=\"hg19\", \n",
    "    chromosome=chrom,\n",
    "    from=start, \n",
    "    to=end, \n",
    "    trackType=\"AnnotationTrack\",\n",
    "    shape=\"box\",\n",
    "    start=\"chromStart\",\n",
    "    end=\"chromEnd\",\n",
    "    feature=\"itemRgb\", \n",
    "    id=\"name\", \n",
    "    collapse=FALSE,\n",
    "    stacking=\"dense\",\n",
    "    fontsize=12,\n",
    "    name=\"\",\n",
    "    fontcolor.legend='black', \n",
    "    col.axis='black', \n",
    "    col.title='black',\n",
    "    background.title='transparent', \n",
    "    cex=1,\n",
    "    cex.id=1, \n",
    "    cex.axis=1, \n",
    "    cex.title=1,\n",
    "    fontface=1, \n",
    "    fontface.title=1,\n",
    "    lwd=0,\n",
    "    fontface=1, \n",
    "    fontface.title=1,\n",
    "    rotation.title=0\n",
    ")\n",
    "\n",
    "feat <- unique(feature(hmmTrack))\n",
    "featCol <- setNames(as.list(rgb(t(sapply(strsplit(feat, \",\"),\n",
    "as.numeric)), maxColorValue=255)), feat)\n",
    "displayPars(hmmTrack) <- featCol\n",
    "\n",
    "chd2Track <- UcscTrack(\n",
    "    track=\"Uniform TFBS\", \n",
    "    table=\"wgEncodeAwgTfbsSydhH1hescChd2IggrabUniPk\",\n",
    "    genome=\"hg19\", \n",
    "    chromosome=chrom,\n",
    "    from=start, \n",
    "    to=end, \n",
    "    trackType=\"AnnotationTrack\",\n",
    "    shape=\"box\",\n",
    "    start=\"chromStart\",\n",
    "    end=\"chromEnd\",\n",
    "    feature=\"itemRgb\", \n",
    "    id=\"name\", \n",
    "    collapse=FALSE,\n",
    "    stacking=\"dense\",\n",
    "    fontsize=fontsize,\n",
    "    name=\"CHD2\",\n",
    "    fontcolor.legend='black', \n",
    "    col.axis='black', \n",
    "    col.title='black',\n",
    "    background.title='transparent', \n",
    "    cex=1,\n",
    "    cex.id=1, \n",
    "    cex.axis=1, \n",
    "    cex.title=1,\n",
    "    fontface=1, \n",
    "    fontface.title=1,\n",
    "    lwd=0,\n",
    "    fontface=1, \n",
    "    fontface.title=1,\n",
    "    rotation.title=0\n",
    ")\n",
    "\n",
    "taf1Track <- UcscTrack(\n",
    "    track=\"Uniform TFBS\", \n",
    "    table=\"wgEncodeAwgTfbsHaibH1hescTaf1V0416102UniPk\",\n",
    "    genome=\"hg19\", \n",
    "    chromosome=chrom,\n",
    "    from=start, \n",
    "    to=end, \n",
    "    trackType=\"AnnotationTrack\",\n",
    "    shape=\"box\",\n",
    "    start=\"chromStart\",\n",
    "    end=\"chromEnd\",\n",
    "    feature=\"itemRgb\", \n",
    "    id=\"name\", \n",
    "    collapse=FALSE,\n",
    "    stacking=\"dense\",\n",
    "    fontsize=fontsize,\n",
    "    name=\"TAF1\",\n",
    "    fontcolor.legend='black', \n",
    "    col.axis='black', \n",
    "    col.title='black',\n",
    "    background.title='transparent', \n",
    "    cex=1,\n",
    "    cex.id=1, \n",
    "    cex.axis=1, \n",
    "    cex.title=1,\n",
    "    fontface=1, \n",
    "    fontface.title=1,\n",
    "    lwd=0,\n",
    "    fontface=1, \n",
    "    fontface.title=1,\n",
    "    rotation.title=0\n",
    ")\n",
    "\n",
    "rad21Track <- UcscTrack(\n",
    "    track=\"Uniform TFBS\", \n",
    "    table=\"wgEncodeAwgTfbsHaibH1hescRad21V0416102UniPk\",\n",
    "    genome=\"hg19\", \n",
    "    chromosome=chrom,\n",
    "    from=start, \n",
    "    to=end, \n",
    "    trackType=\"AnnotationTrack\",\n",
    "    shape=\"box\",\n",
    "    start=\"chromStart\",\n",
    "    end=\"chromEnd\",\n",
    "    feature=\"itemRgb\", \n",
    "    id=\"name\", \n",
    "    collapse=FALSE,\n",
    "    stacking=\"dense\",\n",
    "    fontsize=fontsize,\n",
    "    name=\"RAD21\",\n",
    "    fontcolor.legend='black', \n",
    "    col.axis='black', \n",
    "    col.title='black',\n",
    "    background.title='transparent', \n",
    "    cex=1,\n",
    "    cex.id=1, \n",
    "    cex.axis=1, \n",
    "    cex.title=1,\n",
    "    fontface=1, \n",
    "    fontface.title=1,\n",
    "    lwd=0,\n",
    "    fontface=1, \n",
    "    fontface.title=1,\n",
    "    rotation.title=0\n",
    ")\n",
    "\n",
    "dnaseTrack <- UcscTrack(\n",
    "    track=\"Uniform DNaseI HS\", \n",
    "    table=\"wgEncodeAwgDnaseUwdukeH1hescUniPk\",\n",
    "    genome=\"hg19\", \n",
    "    chromosome=chrom,\n",
    "    from=start, \n",
    "    to=end, \n",
    "    trackType=\"AnnotationTrack\",\n",
    "    shape=\"box\",\n",
    "    start=\"chromStart\",\n",
    "    end=\"chromEnd\",\n",
    "    feature=\"itemRgb\", \n",
    "    id=\"name\", \n",
    "    collapse=FALSE,\n",
    "    stacking=\"dense\",\n",
    "    fontsize=fontsize,\n",
    "    name=\"DHS\",\n",
    "    fontcolor.legend='black', \n",
    "    col.axis='black', \n",
    "    col.title='black',\n",
    "    background.title='transparent', \n",
    "    cex=1,\n",
    "    cex.id=1, \n",
    "    cex.axis=1, \n",
    "    cex.title=1,\n",
    "    fontface=1, \n",
    "    fontface.title=1,\n",
    "    lwd=0,\n",
    "    fontface=1, \n",
    "    fontface.title=1,\n",
    "    rotation.title=0\n",
    ")\n",
    "\n",
    "hgr <- GRanges(\n",
    "    seqnames=\"chr6\", \n",
    "    ranges=IRanges(start=hstarts, width=rep(1, length(hstarts))),\n",
    "    )\n",
    "\n",
    "pvalHT <- HighlightTrack(\n",
    "    trackList=pvalTrack, \n",
    "    range=hgr,\n",
    "    alpha=0.5,\n",
    "    fill=NA)\n",
    "\n",
    "chd2Track = setPar(chd2Track, \"fill\", chd2_color)\n",
    "rad21Track = setPar(rad21Track, \"fill\", rad21_color)\n",
    "taf1Track = setPar(taf1Track, \"fill\", taf1_color)\n",
    "dnaseTrack = setPar(dnaseTrack, \"fill\", dnase_color)"
   ]
  },
  {
   "cell_type": "code",
   "execution_count": 107,
   "metadata": {
    "collapsed": true
   },
   "outputs": [],
   "source": [
    "fn = os.path.join(outdir, 'pou5f1_presentation.pdf')"
   ]
  },
  {
   "cell_type": "code",
   "execution_count": 108,
   "metadata": {
    "collapsed": false
   },
   "outputs": [
    {
     "data": {
      "text/plain": [
       "png \n",
       "  2 \n"
      ]
     },
     "metadata": {},
     "output_type": "display_data"
    }
   ],
   "source": [
    "%%R -i fn,start,end\n",
    "\n",
    "pdf(fn, 10, 6.5)\n",
    "plotTracks(c(gtrack, biomTrack, pvalHT, chd2Track, rad21Track, taf1Track, dnaseTrack, hmmTrack), chromosome=\"chr6\", \n",
    "           from=start, to=end, col.title=\"black\")\n",
    "dev.off()"
   ]
  },
  {
   "cell_type": "code",
   "execution_count": 109,
   "metadata": {
    "collapsed": false
   },
   "outputs": [
    {
     "data": {
      "image/png": "[encoded data removed]",
      "text/plain": [
       "<matplotlib.figure.Figure at 0x7fa4365e06d0>"
      ]
     },
     "metadata": {},
     "output_type": "display_data"
    }
   ],
   "source": [
    "fig,ax = plt.subplots(1, 1, figsize=(4.5, 4.5))\n",
    "ax = sns.violinplot(x='Genotype', y='Expression', data=pou5f1_data, color='grey',\n",
    "                    order=[0, 1, 2], scale='count')\n",
    "sns.regplot(x='Genotype', y='Expression', data=pou5f1_data, scatter=False, color='red')\n",
    "ya, yb = plt.ylim()\n",
    "ax.set_xlabel('')\n",
    "ax.set_xticklabels(['Homo. ref.', 'Het.', 'Homo. alt.'], fontsize=16)\n",
    "plt.text(0, yb, 'n={}'.format(sum(tdf.Genotype == 0)), \n",
    "         verticalalignment='center', horizontalalignment='center', fontsize=16)\n",
    "plt.text(1, yb, 'n={}'.format(sum(tdf.Genotype == 1)), \n",
    "         verticalalignment='center', horizontalalignment='center', fontsize=16)\n",
    "plt.text(2, yb, 'n={}'.format(sum(tdf.Genotype == 2)), \n",
    "         verticalalignment='center', horizontalalignment='center', fontsize=16)\n",
    "sns.despine(ax=ax)\n",
    "for t in ax.get_yticklabels():\n",
    "    t.set_fontsize(16)\n",
    "ax.set_ylabel('Expression', fontsize=16)\n",
    "\n",
    "plt.tight_layout()\n",
    "fig.savefig(os.path.join(outdir, 'violin.pdf'), transparent=True)"
   ]
  }
 ],
 "metadata": {
  "kernelspec": {
   "display_name": "Environment (cie)",
   "language": "",
   "name": "cie"
  },
  "language_info": {
   "codemirror_mode": {
    "name": "ipython",
    "version": 2
   },
   "file_extension": ".py",
   "mimetype": "text/x-python",
   "name": "python",
   "nbconvert_exporter": "python",
   "pygments_lexer": "ipython2",
   "version": "2.7.11"
  }
 },
 "nbformat": 4,
 "nbformat_minor": 0
}
