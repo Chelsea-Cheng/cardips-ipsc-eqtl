{
 "cells": [
  {
   "cell_type": "markdown",
   "metadata": {},
   "source": [
    "# Figure. CNV eQTL Examples"
   ]
  },
  {
   "cell_type": "code",
   "execution_count": 1,
   "metadata": {
    "collapsed": true
   },
   "outputs": [],
   "source": [
    "import copy\n",
    "import cPickle\n",
    "import os\n",
    "import subprocess\n",
    "\n",
    "import cdpybio as cpb\n",
    "import matplotlib as mpl\n",
    "import matplotlib.gridspec as gridspec\n",
    "import matplotlib.pyplot as plt\n",
    "import numpy as np\n",
    "import pandas as pd\n",
    "pd.options.mode.chained_assignment = None  # default='warn'\n",
    "import pybedtools as pbt\n",
    "import scipy.stats as stats\n",
    "import seaborn as sns\n",
    "\n",
    "import ciepy\n",
    "import cardipspy as cpy\n",
    "\n",
    "%matplotlib inline\n",
    "%load_ext rpy2.ipython\n",
    "\n",
    "dy_name = 'figure_cnv_eqtl_examples'\n",
    "    \n",
    "outdir = os.path.join(ciepy.root, 'output', dy_name)\n",
    "cpy.makedir(outdir)\n",
    "\n",
    "private_outdir = os.path.join(ciepy.root, 'private_output', dy_name)\n",
    "cpy.makedir(private_outdir)\n",
    "\n",
    "import socket\n",
    "if socket.gethostname() == 'fl-hn1' or socket.gethostname() == 'fl-hn2':\n",
    "    dy = os.path.join(ciepy.root, 'sandbox', 'tmp', dy_name)\n",
    "    cpy.makedir(dy)\n",
    "    pbt.set_tempdir(dy)"
   ]
  },
  {
   "cell_type": "code",
   "execution_count": 2,
   "metadata": {
    "collapsed": true
   },
   "outputs": [],
   "source": [
    "fn = os.path.join(ciepy.root, 'output', 'cnv_analysis', 'cnv_gene_variants.pickle')\n",
    "cnv_gv = pd.read_pickle(fn)\n",
    "\n",
    "fn = os.path.join(ciepy.root, 'output', 'cnv_analysis', 'lead_variants.pickle')\n",
    "lead_vars = pd.read_pickle(fn)"
   ]
  },
  {
   "cell_type": "code",
   "execution_count": 3,
   "metadata": {
    "collapsed": true
   },
   "outputs": [],
   "source": [
    "fn = os.path.join(ciepy.root, 'output', 'mcnv_analysis', 'reg_results.tsv')\n",
    "mcnv_results = pd.read_table(fn, index_col=0)\n",
    "mcnv_sig = mcnv_results[mcnv_results.bh_sig]\n",
    "\n",
    "fn = os.path.join(ciepy.root, 'private_output', 'mcnv_analysis', 'filtered_mcnvs.tsv')\n",
    "mcnv_genotypes = pd.read_table(fn, index_col=0)"
   ]
  },
  {
   "cell_type": "code",
   "execution_count": 4,
   "metadata": {
    "collapsed": true
   },
   "outputs": [],
   "source": [
    "cnv_lead_vars = cnv_gv[cnv_gv.cnv_is_lead]\n",
    "cnv_lead_vars = cnv_lead_vars.sort_values(by='pvalue').drop_duplicates(subset=['gene_id'])"
   ]
  },
  {
   "cell_type": "code",
   "execution_count": 5,
   "metadata": {
    "collapsed": false
   },
   "outputs": [
    {
     "data": {
      "text/plain": [
       "(162, 131)"
      ]
     },
     "execution_count": 5,
     "metadata": {},
     "output_type": "execute_result"
    }
   ],
   "source": [
    "mcnv_genotypes.shape"
   ]
  },
  {
   "cell_type": "code",
   "execution_count": 6,
   "metadata": {
    "collapsed": false
   },
   "outputs": [
    {
     "data": {
      "text/plain": [
       "CNV_17_44566797_44580424     11\n",
       "CNV_17_44336433_44367851     10\n",
       "CNV_17_44311202_44328032     10\n",
       "CNV_17_43650217_43655844      7\n",
       "CNV_1_16885240_16950375       7\n",
       "CNV_7_143951166_143953316     7\n",
       "CNV_17_43655545_43662029      6\n",
       "CNV_10_46945989_47151257      6\n",
       "CNV_8_11979660_12009126       6\n",
       "CNV_8_12427702_12432588       5\n",
       "CNV_1_16951816_16969312       5\n",
       "CNV_8_12395839_12427801       5\n",
       "Name: cnv, dtype: int64"
      ]
     },
     "execution_count": 6,
     "metadata": {},
     "output_type": "execute_result"
    }
   ],
   "source": [
    "mcnv_sig.cnv.value_counts().head(12)"
   ]
  },
  {
   "cell_type": "code",
   "execution_count": 7,
   "metadata": {
    "collapsed": false
   },
   "outputs": [
    {
     "name": "stdout",
     "output_type": "stream",
     "text": [
      "mCNV length is 2,150.\n"
     ]
    }
   ],
   "source": [
    "n = 143953316 - 143951166\n",
    "print('mCNV length is {:,}.'.format(n))"
   ]
  },
  {
   "cell_type": "code",
   "execution_count": 8,
   "metadata": {
    "collapsed": true
   },
   "outputs": [],
   "source": [
    "c = 'CNV_7_143951166_143953316'\n",
    "fn = os.path.join(ciepy.root, 'output', 'mcnv_analysis', 'CNV_7_143951166_143953316_data.tsv')\n",
    "data = pd.read_table(fn, index_col=0)\n",
    "data.columns = list(data.columns[0:-1]) + ['Gene']"
   ]
  },
  {
   "cell_type": "code",
   "execution_count": 9,
   "metadata": {
    "collapsed": false
   },
   "outputs": [],
   "source": [
    "sns.set_style('whitegrid')"
   ]
  },
  {
   "cell_type": "code",
   "execution_count": 10,
   "metadata": {
    "collapsed": false
   },
   "outputs": [
    {
     "data": {
      "text/plain": [
       "1340      AC004889.1\n",
       "1701       OR2A1-AS1\n",
       "1808       ARHGEF34P\n",
       "2063           OR2A7\n",
       "2352         ARHGEF5\n",
       "2449         CTAGE15\n",
       "2879    RP4-545C24.1\n",
       "Name: gene_name, dtype: object"
      ]
     },
     "execution_count": 10,
     "metadata": {},
     "output_type": "execute_result"
    }
   ],
   "source": [
    "mcnv_sig[mcnv_sig.cnv == 'CNV_7_143951166_143953316'].gene_name"
   ]
  },
  {
   "cell_type": "code",
   "execution_count": 11,
   "metadata": {
    "collapsed": true
   },
   "outputs": [],
   "source": [
    "legend_colors = [\n",
    "    np.array((255,0,0)) / 255.,\n",
    "    np.array((255,105,105)) / 255.,\n",
    "    np.array((250,202,0)) / 255.,\n",
    "    np.array((255,252,4)) / 255.,\n",
    "    np.array((10,190,254)) / 255.,\n",
    "    np.array((0,176,80)) / 255.,\n",
    "    np.array((0,176,80)) / 255.,\n",
    "    np.array((153,255,102)) / 255.,\n",
    "    np.array((245,245,245)) / 255.,\n",
    "    ]\n",
    "ind = [\n",
    "    'Active promoter',\n",
    "    'Weak promoter',\n",
    "    'Strong enhancer',\n",
    "    'Weak/poised enhancer',\n",
    "    'Insulator',\n",
    "    'Transcriptional transition',\n",
    "    'Transcriptional elongation',\n",
    "    'Weak transcribed',\n",
    "    'Heterochromatin',\n",
    "]\n",
    "legend_colors = pd.Series(legend_colors, index=ind)"
   ]
  },
  {
   "cell_type": "code",
   "execution_count": 12,
   "metadata": {
    "collapsed": false
   },
   "outputs": [
    {
     "name": "stdout",
     "output_type": "stream",
     "text": [
      "Effect sizes are different with p=7.017e-10, Mann Whitney U.\n"
     ]
    }
   ],
   "source": [
    "s,p = stats.mannwhitneyu(cnv_lead_vars.drop_duplicates('gene_id').beta.abs(),\n",
    "                         lead_vars[lead_vars.cnv_sig == False].drop_duplicates('gene_id').beta.abs())\n",
    "print('Effect sizes are different with p={:.3e}, Mann Whitney U.'.format(p))"
   ]
  },
  {
   "cell_type": "code",
   "execution_count": 13,
   "metadata": {
    "collapsed": true
   },
   "outputs": [],
   "source": [
    "cnv_abs_beta_pdf = pd.Series(index=np.arange(0, 3 + 0.1, 0.1))\n",
    "se = cnv_lead_vars.drop_duplicates('gene_id').beta.abs()\n",
    "density = stats.gaussian_kde(se)\n",
    "cnv_abs_beta_pdf = pd.Series(density(cnv_abs_beta_pdf.index), index=cnv_abs_beta_pdf.index)\n",
    "snv_abs_beta_pdf = pd.DataFrame(index=np.arange(0, 3 + 0.005, 0.005))\n",
    "se = lead_vars[lead_vars.cnv_sig == False].drop_duplicates('gene_id').beta.abs()\n",
    "density = stats.gaussian_kde(se)\n",
    "snv_abs_beta_pdf = pd.Series(density(snv_abs_beta_pdf.index), index=snv_abs_beta_pdf.index)"
   ]
  },
  {
   "cell_type": "code",
   "execution_count": 14,
   "metadata": {
    "collapsed": true
   },
   "outputs": [],
   "source": [
    "fn = os.path.join(ciepy.root, 'output', 'cnv_analysis', 'sig_not_genic_vs_not_sig_roadmap_res.tsv')\n",
    "intergenic_res = pd.read_table(fn, index_col=0)\n",
    "\n",
    "repressive = ['H3K9me3', 'H3K27me3']\n",
    "transcribed = ['H3K36me3']\n",
    "intergenic_res['type'] = 'Active'\n",
    "for i in repressive:\n",
    "    intergenic_res.ix[intergenic_res.mark == i, 'type'] = 'Repressive'\n",
    "for i in transcribed:\n",
    "    intergenic_res.ix[intergenic_res.mark == i, 'type'] = 'Transcribed'\n",
    "\n",
    "intergenic_res['mark_mean'] = np.nan\n",
    "for m in set(intergenic_res.mark):\n",
    "    ind = intergenic_res[intergenic_res.mark == m].index\n",
    "    intergenic_res.ix[ind, 'mark_mean'] = intergenic_res.ix[ind, 'neg_log_pvalue'].mean()\n",
    "\n",
    "intergenic_res.sort_values(by=['type', 'mark_mean'], inplace=True, ascending=[True, False])"
   ]
  },
  {
   "cell_type": "code",
   "execution_count": 15,
   "metadata": {
    "collapsed": false
   },
   "outputs": [],
   "source": [
    "data['CNV_7_143951166_143953316'] = data.CNV_7_143951166_143953316.astype(int)"
   ]
  },
  {
   "cell_type": "code",
   "execution_count": 16,
   "metadata": {
    "collapsed": false
   },
   "outputs": [
    {
     "data": {
      "image/png": "[encoded data removed]",
      "text/plain": [
       "<matplotlib.figure.Figure at 0x7fa196d1edd0>"
      ]
     },
     "metadata": {},
     "output_type": "display_data"
    }
   ],
   "source": [
    "sns.boxplot(x='CNV_7_143951166_143953316', y='exp', hue='Gene', data=data, width=0.5,\n",
    "           fliersize=0, linewidth=0.5);"
   ]
  },
  {
   "cell_type": "markdown",
   "metadata": {},
   "source": [
    "For the purposes of plotting I'll group 7 and 8 and call it 7+. I have a feeling the\n",
    "8 calls are really seven. I also think the one calls are really 2 but I'll leave it."
   ]
  },
  {
   "cell_type": "code",
   "execution_count": 17,
   "metadata": {
    "collapsed": true
   },
   "outputs": [],
   "source": [
    "data_f = data.copy(deep=True)\n",
    "data_f.ix[data.CNV_7_143951166_143953316 == 8, 'CNV_7_143951166_143953316'] = 7"
   ]
  },
  {
   "cell_type": "code",
   "execution_count": 18,
   "metadata": {
    "collapsed": false
   },
   "outputs": [
    {
     "name": "stdout",
     "output_type": "stream",
     "text": [
      "49 lead intergenic CNV eGenes.\n",
      "Effect sizes for intergenic lead CNVs are biased (p=9.264e-06, binomial test).\n"
     ]
    },
    {
     "name": "stderr",
     "output_type": "stream",
     "text": [
      "/frazer01/home/cdeboever/software/anaconda/envs/cie/lib/python2.7/site-packages/matplotlib/gridspec.py:302: UserWarning: This figure includes Axes that are not compatible with tight_layout, so its results might be incorrect.\n",
      "  warnings.warn(\"This figure includes Axes that are not \"\n"
     ]
    },
    {
     "data": {
      "image/png": "[encoded data removed]",
      "text/plain": [
       "<matplotlib.figure.Figure at 0x7fa0fbfc99d0>"
      ]
     },
     "metadata": {},
     "output_type": "display_data"
    }
   ],
   "source": [
    "fig = plt.figure(figsize=(4.5, 8), dpi=300)\n",
    "\n",
    "gs = gridspec.GridSpec(1, 1)\n",
    "ax = fig.add_subplot(gs[0, 0])\n",
    "ax.text(0, 1, 'Figure 4',\n",
    "        size=16, va='top')\n",
    "ciepy.clean_axis(ax)\n",
    "ax.set_xticks([])\n",
    "ax.set_yticks([])\n",
    "gs.tight_layout(fig, rect=[0, 0.92, 1, 1])\n",
    "\n",
    "# SNV/indel lead vs. CNV lead effect size\n",
    "gs = gridspec.GridSpec(1, 1)\n",
    "ax = fig.add_subplot(gs[0, 0])\n",
    "cnv_abs_beta_pdf.plot(label='CNV', ax=ax, linestyle='--')\n",
    "snv_abs_beta_pdf.plot(label='Not CNV', ax=ax)\n",
    "for t in ax.get_xticklabels() + ax.get_yticklabels():\n",
    "    t.set_fontsize(8)\n",
    "ax.set_xlabel('$\\\\left|\\\\beta\\\\right|$', fontsize=8)\n",
    "ax.set_ylabel('Density', fontsize=8)\n",
    "ax.legend(fontsize=7, frameon=True, fancybox=True)\n",
    "gs.tight_layout(fig, rect=[0, 0.77, 0.52, 0.94])\n",
    "\n",
    "# Lead variant CNV not overlapping gene\n",
    "gs = gridspec.GridSpec(1, 1)\n",
    "ax = fig.add_subplot(gs[0, 0])\n",
    "g = cnv_lead_vars.ix[cnv_lead_vars.cnv_overlaps_gene_cons, 'gene_id']\n",
    "t = cnv_lead_vars[cnv_lead_vars.gene_id.apply(lambda x: x not in g.values)]\n",
    "bins = np.arange(-3, 3.1, 0.1)\n",
    "t.drop_duplicates('gene_id').beta.hist(bins=bins, histtype='stepfilled', lw=0)\n",
    "p = stats.binom_test((t.drop_duplicates('gene_id').beta > 0).value_counts())\n",
    "print('{:,} lead intergenic CNV eGenes.'.format(t.drop_duplicates('gene_id').shape[0]))\n",
    "print('Effect sizes for intergenic lead CNVs are biased '\n",
    "      '(p={:.3e}, binomial test).'.format(p))\n",
    "for t in ax.get_xticklabels() + ax.get_yticklabels():\n",
    "    t.set_fontsize(8)\n",
    "ax.set_xlabel('$\\\\beta$', fontsize=8)\n",
    "ax.set_ylabel('Number of\\nlead variants', fontsize=8)\n",
    "ax.set_xlim(-3, 3)\n",
    "gs.tight_layout(fig, rect=[0.48, 0.77, 1, 0.94])\n",
    "\n",
    "# Functional annotation enrichment\n",
    "gs = gridspec.GridSpec(1, 1)\n",
    "ax = fig.add_subplot(gs[0, 0])\n",
    "sns.stripplot(x='neg_log_pvalue', y='mark', data=intergenic_res, jitter=0.3, \n",
    "              ax=ax, orient='h', size=4.5)\n",
    "for t in ax.get_xticklabels():\n",
    "    t.set_fontsize(8)\n",
    "ax.set_xlabel('$-\\\\log_{10}$ enrichment $p$-value', fontsize=8)\n",
    "xmin,xmax = ax.get_xlim()\n",
    "ax.set_xlim(-0.1, xmax)\n",
    "ymin,ymax = ax.get_ylim()\n",
    "ax.vlines(-np.log10(0.05), ymin, ymax, linestyle='--', color='grey',\n",
    "          linewidth=1)\n",
    "ax.text(-np.log10(0.05) + 0.1, ymax, '$p=0.05$', ha='left', va='top', fontsize=8)\n",
    "ax.axhspan(-0.5, 4.5, facecolor='blue', alpha=0.2, label='Active', lw=0)\n",
    "ax.axhspan(4.5, 6.5, facecolor='red', alpha=0.2, label='Repressed', lw=0)\n",
    "ax.axhspan(6.5, 7.5, facecolor='grey', alpha=0.2, label='Transcribed', lw=0)\n",
    "ax.legend(frameon=True, fancybox=True, loc=[0.74, 0.17], fontsize=7)\n",
    "ax.set_ylabel('')\n",
    "for t in ax.get_xticklabels() + ax.get_yticklabels():\n",
    "    t.set_fontsize(8)\n",
    "gs.tight_layout(fig, rect=[0, 0.57, 1, 0.79])\n",
    "\n",
    "# mCNV eQTL gene expression\n",
    "gs = gridspec.GridSpec(1, 1)\n",
    "ax = fig.add_subplot(gs[0, 0])\n",
    "sns.boxplot(x='CNV_7_143951166_143953316', y='exp', hue='Gene', data=data_f, \n",
    "            width=0.75, fliersize=0, linewidth=0.5)\n",
    "ax.set_xticklabels([str(x) for x in range(1,7)] + ['7+'])\n",
    "for t in ax.get_xticklabels() + ax.get_yticklabels():\n",
    "    t.set_fontsize(8)\n",
    "ax.set_ylabel('$\\log$ TPM $z$-score', fontsize=8)\n",
    "ax.set_xlabel('Diploid copy number', fontsize=8)\n",
    "ax.legend(fontsize=7, loc='upper left', bbox_to_anchor=(1, 1))\n",
    "gs.tight_layout(fig, rect=[0, 0.4, 0.8, 0.6])\n",
    "\n",
    "# mCNV legend\n",
    "gs = gridspec.GridSpec(1, 1)\n",
    "ax = fig.add_subplot(gs[0, 0])\n",
    "ciepy.clean_axis(ax)\n",
    "rects = []\n",
    "labels = []\n",
    "for k in legend_colors.index:\n",
    "    labels.append(k)\n",
    "    rects.append(plt.Rectangle((0, 0), 0, 0, fc=legend_colors[k]))\n",
    "lgd = ax.legend(rects, labels, loc='center', prop={'size':7}, ncol=3)\n",
    "for p in lgd.get_patches():\n",
    "    p.set_linewidth(0)\n",
    "gs.tight_layout(fig, rect=[0, 0, 1, 0.05])\n",
    "\n",
    "t = fig.text(0.005, 0.915, 'A', weight='bold', \n",
    "             size=12)\n",
    "t = fig.text(0.5, 0.915, 'B', weight='bold', \n",
    "             size=12)\n",
    "t = fig.text(0.005, 0.77, 'C', weight='bold', \n",
    "             size=12)\n",
    "t = fig.text(0.005, 0.58, 'D', weight='bold', \n",
    "             size=12)\n",
    "t = fig.text(0.005, 0.4, 'E', weight='bold', \n",
    "             size=12)\n",
    "\n",
    "plt.savefig(os.path.join(outdir, 'cnv_examples_skeleton.pdf'))"
   ]
  },
  {
   "cell_type": "code",
   "execution_count": 19,
   "metadata": {
    "collapsed": true
   },
   "outputs": [],
   "source": [
    "%%R\n",
    "\n",
    "suppressPackageStartupMessages(library(Gviz))\n",
    "suppressPackageStartupMessages(library(GenomicFeatures))"
   ]
  },
  {
   "cell_type": "code",
   "execution_count": 20,
   "metadata": {
    "collapsed": true
   },
   "outputs": [],
   "source": [
    "chrom = 'chr7'\n",
    "start = 143851293\n",
    "end = 144061217\n",
    "fontsize = 6\n",
    "cnv_color = '#000000'\n",
    "cepbp_color = \"#20B2AA\"\n",
    "dnase_color = \"#663399\"\n",
    "cnvs = os.path.join(ciepy.root, 'output', 'cnv_processing', 'gs_cnvs.bed')"
   ]
  },
  {
   "cell_type": "code",
   "execution_count": 21,
   "metadata": {
    "collapsed": false
   },
   "outputs": [
    {
     "name": "stderr",
     "output_type": "stream",
     "text": [
      "/frazer01/home/cdeboever/software/anaconda/envs/cie/lib/python2.7/site-packages/rpy2/robjects/functions.py:106: UserWarning: Note that the behaviour of the 'setPar' method has changed. You need to reassign the result to an object for the side effects to happen. Pass-by-reference semantic is no longer supported.\n",
      "\n",
      "  res = super(Function, self).__call__(*new_args, **new_kwargs)\n"
     ]
    }
   ],
   "source": [
    "%%R -i data,chrom,start,end,fontsize,cepbp_color,dnase_color,cnv_color,cnvs\n",
    "\n",
    "cnvTrack <- AnnotationTrack(\n",
    "    range=cnvs, \n",
    "    genome=\"hg19\",\n",
    "    chromosome=chrom, \n",
    "    start=start, \n",
    "    end=end,\n",
    "    collapse=FALSE,\n",
    "    stacking=\"dense\",\n",
    "    fontsize=fontsize,\n",
    "    name=\"CNVs\",\n",
    "    fontcolor.legend='black', \n",
    "    col.axis='black', \n",
    "    col.title='black',\n",
    "    background.title='transparent', \n",
    "    cex=1,\n",
    "    cex.id=1, \n",
    "    cex.axis=1, \n",
    "    cex.title=1,\n",
    "    fontface=1, \n",
    "    fontface.title=1,\n",
    "    lwd=0,\n",
    "    fontface=1, \n",
    "    fontface.title=1,\n",
    "    rotation.title=0\n",
    "    )\n",
    "\n",
    "ideoTrack <- IdeogramTrack(\n",
    "    genome=\"hg19\", \n",
    "    fontsize=fontsize, \n",
    "    fontsize.legend=fontsize,\n",
    "    fontcolor='black', \n",
    "    cex=1, \n",
    "    cex.id=1, \n",
    "    cex.axis=1, \n",
    "    cex.title=1,\n",
    "    fontface=1, \n",
    "    fontface.title=1\n",
    ")\n",
    "\n",
    "gtrack <- GenomeAxisTrack(\n",
    "    col=\"black\", \n",
    "    cex=1, \n",
    "    fontsize=8, \n",
    "    col.id=\"black\", \n",
    "    fontcolor=\"black\", \n",
    "    fontface=1,\n",
    "    fontface.group=1,\n",
    "    lwd=1,\n",
    ")\n",
    "\n",
    "biomTrack <- BiomartGeneRegionTrack(\n",
    "    genome=\"hg19\", \n",
    "    chromosome=chrom, \n",
    "    start=start, \n",
    "    end=end,\n",
    "    name=\"\", \n",
    "    fontsize=fontsize,\n",
    "    collapseTranscripts='meta',\n",
    "    fontcolor.legend='black', \n",
    "    col.axis='black', \n",
    "    col.title='black', \n",
    "    fontcolor.legend=\"black\",\n",
    "    background.title='transparent', \n",
    "    cex=1, \n",
    "    cex.id=1, \n",
    "    cex.axis=1, \n",
    "    cex.title=1,\n",
    "    fontface=1, \n",
    "    fontface.title=1, \n",
    "    geneSymbols=TRUE,\n",
    "    cex.group=1,\n",
    "    fontcolor.group=\"black\",\n",
    "    fontface.group=1,\n",
    "    fontface.title=1, \n",
    "    alpha.title=1,\n",
    "    lwd=0.8,\n",
    ")\n",
    "\n",
    "hmmTrack <- UcscTrack(\n",
    "    track=\"Broad ChromHMM\", \n",
    "    table=\"wgEncodeBroadHmmH1hescHMM\",\n",
    "    genome=\"hg19\", \n",
    "    chromosome=chrom,\n",
    "    from=start, \n",
    "    to=end, \n",
    "    trackType=\"AnnotationTrack\",\n",
    "    shape=\"box\",\n",
    "    start=\"chromStart\",\n",
    "    end=\"chromEnd\",\n",
    "    feature=\"itemRgb\", \n",
    "    id=\"name\", \n",
    "    collapse=FALSE,\n",
    "    stacking=\"dense\",\n",
    "    fontsize=fontsize,\n",
    "    name=\"chromHMM\",\n",
    "    fontcolor.legend='black', \n",
    "    col.axis='black', \n",
    "    col.title='black',\n",
    "    background.title='transparent', \n",
    "    cex=1,\n",
    "    cex.id=1, \n",
    "    cex.axis=1, \n",
    "    cex.title=1,\n",
    "    fontface=1, \n",
    "    fontface.title=1,\n",
    "    lwd=0,\n",
    "    fontface=1, \n",
    "    fontface.title=1,\n",
    "    rotation.title=0\n",
    ")\n",
    "\n",
    "feat <- unique(feature(hmmTrack))\n",
    "featCol <- setNames(as.list(rgb(t(sapply(strsplit(feat, \",\"),\n",
    "as.numeric)), maxColorValue=255)), feat)\n",
    "displayPars(hmmTrack) <- featCol\n",
    "\n",
    "cebpbTrack <- UcscTrack(\n",
    "    track=\"Uniform TFBS\", \n",
    "    table=\"wgEncodeAwgTfbsSydhH1hescCebpbIggrabUniPk\",\n",
    "    genome=\"hg19\", \n",
    "    chromosome=chrom,\n",
    "    from=start, \n",
    "    to=end, \n",
    "    trackType=\"AnnotationTrack\",\n",
    "    shape=\"box\",\n",
    "    start=\"chromStart\",\n",
    "    end=\"chromEnd\",\n",
    "    feature=\"itemRgb\", \n",
    "    id=\"name\", \n",
    "    collapse=FALSE,\n",
    "    stacking=\"dense\",\n",
    "    fontsize=fontsize,\n",
    "    name=\"CEBPB\",\n",
    "    fontcolor.legend='black', \n",
    "    col.axis='black', \n",
    "    col.title='black',\n",
    "    background.title='transparent', \n",
    "    cex=1,\n",
    "    cex.id=1, \n",
    "    cex.axis=1, \n",
    "    cex.title=1,\n",
    "    fontface=1, \n",
    "    fontface.title=1,\n",
    "    lwd=0,\n",
    "    fontface=1, \n",
    "    fontface.title=1,\n",
    "    rotation.title=0\n",
    ")\n",
    "\n",
    "dnaseTrack <- UcscTrack(\n",
    "    track=\"Uniform DNaseI HS\", \n",
    "    table=\"wgEncodeAwgDnaseUwdukeH1hescUniPk\",\n",
    "    genome=\"hg19\", \n",
    "    chromosome=chrom,\n",
    "    from=start, \n",
    "    to=end, \n",
    "    trackType=\"AnnotationTrack\",\n",
    "    shape=\"box\",\n",
    "    start=\"chromStart\",\n",
    "    end=\"chromEnd\",\n",
    "    feature=\"itemRgb\", \n",
    "    id=\"name\", \n",
    "    collapse=FALSE,\n",
    "    stacking=\"dense\",\n",
    "    fontsize=fontsize,\n",
    "    name=\"DHS\",\n",
    "    fontcolor.legend='black', \n",
    "    col.axis='black', \n",
    "    col.title='black',\n",
    "    background.title='transparent', \n",
    "    cex=1,\n",
    "    cex.id=1, \n",
    "    cex.axis=1, \n",
    "    cex.title=1,\n",
    "    fontface=1, \n",
    "    fontface.title=1,\n",
    "    lwd=0,\n",
    "    fontface=1, \n",
    "    fontface.title=1,\n",
    "    rotation.title=0\n",
    ")\n",
    "\n",
    "cnvTrack = setPar(cnvTrack, \"fill\", cnv_color)\n",
    "cebpbTrack = setPar(cebpbTrack, \"fill\", cepbp_color)\n",
    "dnaseTrack = setPar(dnaseTrack, \"fill\", dnase_color)"
   ]
  },
  {
   "cell_type": "code",
   "execution_count": 22,
   "metadata": {
    "collapsed": true
   },
   "outputs": [],
   "source": [
    "fn = os.path.join(outdir, 'CNV_7_143951166_143953316_region.pdf')"
   ]
  },
  {
   "cell_type": "code",
   "execution_count": 23,
   "metadata": {
    "collapsed": false
   },
   "outputs": [
    {
     "data": {
      "text/plain": [
       "png \n",
       "  2 \n"
      ]
     },
     "metadata": {},
     "output_type": "display_data"
    }
   ],
   "source": [
    "%%R -i fn,chrom,start,end\n",
    "\n",
    "pdf(fn, 4.5, 3)\n",
    "plotTracks(c(gtrack, biomTrack, cnvTrack, cebpbTrack, dnaseTrack, hmmTrack), chromosome=chrom, \n",
    "           from=start, to=end, col.title=\"black\", sizes=c(0.22, 1, 0.12, 0.12, 0.12, 0.12))\n",
    "dev.off()"
   ]
  },
  {
   "cell_type": "code",
   "execution_count": 24,
   "metadata": {
    "collapsed": true
   },
   "outputs": [],
   "source": [
    "gene_info = pd.read_table(cpy.gencode_gene_info, index_col=0)"
   ]
  },
  {
   "cell_type": "code",
   "execution_count": 25,
   "metadata": {
    "collapsed": false
   },
   "outputs": [
    {
     "data": {
      "text/html": [
       "<div>\n",
       "<table border=\"1\" class=\"dataframe\">\n",
       "  <thead>\n",
       "    <tr style=\"text-align: right;\">\n",
       "      <th></th>\n",
       "      <th>gene_name</th>\n",
       "      <th>gene_type</th>\n",
       "      <th>chrom</th>\n",
       "      <th>start</th>\n",
       "      <th>end</th>\n",
       "      <th>strand</th>\n",
       "      <th>gene_status</th>\n",
       "      <th>source</th>\n",
       "      <th>level</th>\n",
       "    </tr>\n",
       "    <tr>\n",
       "      <th>gene_id</th>\n",
       "      <th></th>\n",
       "      <th></th>\n",
       "      <th></th>\n",
       "      <th></th>\n",
       "      <th></th>\n",
       "      <th></th>\n",
       "      <th></th>\n",
       "      <th></th>\n",
       "      <th></th>\n",
       "    </tr>\n",
       "  </thead>\n",
       "  <tbody>\n",
       "    <tr>\n",
       "      <th>ENSG00000176227.9</th>\n",
       "      <td>CTAGE15</td>\n",
       "      <td>pseudogene</td>\n",
       "      <td>chr7</td>\n",
       "      <td>143268818</td>\n",
       "      <td>143271478</td>\n",
       "      <td>+</td>\n",
       "      <td>KNOWN</td>\n",
       "      <td>ENSEMBL</td>\n",
       "      <td>3</td>\n",
       "    </tr>\n",
       "    <tr>\n",
       "      <th>ENSG00000271079.1</th>\n",
       "      <td>CTAGE15</td>\n",
       "      <td>protein_coding</td>\n",
       "      <td>chr7</td>\n",
       "      <td>143268893</td>\n",
       "      <td>143271480</td>\n",
       "      <td>+</td>\n",
       "      <td>KNOWN</td>\n",
       "      <td>HAVANA</td>\n",
       "      <td>2</td>\n",
       "    </tr>\n",
       "  </tbody>\n",
       "</table>\n",
       "</div>"
      ],
      "text/plain": [
       "                  gene_name       gene_type chrom      start        end  \\\n",
       "gene_id                                                                   \n",
       "ENSG00000176227.9   CTAGE15      pseudogene  chr7  143268818  143271478   \n",
       "ENSG00000271079.1   CTAGE15  protein_coding  chr7  143268893  143271480   \n",
       "\n",
       "                  strand gene_status   source  level  \n",
       "gene_id                                               \n",
       "ENSG00000176227.9      +       KNOWN  ENSEMBL      3  \n",
       "ENSG00000271079.1      +       KNOWN   HAVANA      2  "
      ]
     },
     "execution_count": 25,
     "metadata": {},
     "output_type": "execute_result"
    }
   ],
   "source": [
    "gene_info[gene_info.gene_name == 'CTAGE15']"
   ]
  },
  {
   "cell_type": "markdown",
   "metadata": {},
   "source": [
    "## Presentation"
   ]
  },
  {
   "cell_type": "code",
   "execution_count": 26,
   "metadata": {
    "collapsed": false
   },
   "outputs": [
    {
     "data": {
      "image/png": "[encoded data removed]",
      "text/plain": [
       "<matplotlib.figure.Figure at 0x7fa10bf2f6d0>"
      ]
     },
     "metadata": {},
     "output_type": "display_data"
    }
   ],
   "source": [
    "fig,ax = plt.subplots(1, 1)\n",
    "\n",
    "fs = 14\n",
    "\n",
    "for i,g in enumerate(sorted(list(set(data.Gene)))):\n",
    "    t = data[data.Gene == g]\n",
    "    sns.regplot(x='CNV_7_143951166_143953316', y='exp', data=t,\n",
    "                x_jitter=0.2, fit_reg=False, ax=ax, label=g,\n",
    "                color=sns.color_palette('husl', 7)[i], scatter_kws={'alpha':0.35, 's':40})\n",
    "lgd = ax.legend(fontsize=fs, loc='upper left', bbox_to_anchor=(1, 1))\n",
    "ax.set_ylabel('$\\log$ TPM $z$-score', fontsize=fs)\n",
    "ax.set_xlabel('Diploid copy number', fontsize=fs)\n",
    "for t in ax.get_xticklabels() + ax.get_yticklabels():\n",
    "    t.set_fontsize(fs)\n",
    "    \n",
    "fig.tight_layout()\n",
    "fig.savefig(os.path.join(outdir, 'CNV_7_143951166_143953316_reg.pdf'), bbox_extra_artists=(lgd,), bbox_inches='tight')"
   ]
  },
  {
   "cell_type": "code",
   "execution_count": null,
   "metadata": {
    "collapsed": true
   },
   "outputs": [],
   "source": []
  }
 ],
 "metadata": {
  "kernelspec": {
   "display_name": "Environment (cie)",
   "language": "",
   "name": "cie"
  },
  "language_info": {
   "codemirror_mode": {
    "name": "ipython",
    "version": 2
   },
   "file_extension": ".py",
   "mimetype": "text/x-python",
   "name": "python",
   "nbconvert_exporter": "python",
   "pygments_lexer": "ipython2",
   "version": "2.7.11"
  }
 },
 "nbformat": 4,
 "nbformat_minor": 0
}
