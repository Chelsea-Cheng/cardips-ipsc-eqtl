{
 "cells": [
  {
   "cell_type": "markdown",
   "metadata": {},
   "source": [
    "# Figure. CNV eQTL Effect Sizes"
   ]
  },
  {
   "cell_type": "code",
   "execution_count": 1,
   "metadata": {
    "collapsed": false
   },
   "outputs": [],
   "source": [
    "import copy\n",
    "import cPickle\n",
    "import os\n",
    "import subprocess\n",
    "\n",
    "import cdpybio as cpb\n",
    "import matplotlib as mpl\n",
    "import matplotlib.gridspec as gridspec\n",
    "import matplotlib.pyplot as plt\n",
    "import numpy as np\n",
    "import pandas as pd\n",
    "pd.options.mode.chained_assignment = None  # default='warn'\n",
    "import pybedtools as pbt\n",
    "import scipy.stats as stats\n",
    "import seaborn as sns\n",
    "\n",
    "import ciepy\n",
    "import cardipspy as cpy\n",
    "\n",
    "%matplotlib inline\n",
    "%load_ext rpy2.ipython\n",
    "\n",
    "dy_name = 'figure_cnv_eqtl_effect_sizes'\n",
    "    \n",
    "outdir = os.path.join(ciepy.root, 'output', dy_name)\n",
    "cpy.makedir(outdir)\n",
    "\n",
    "private_outdir = os.path.join(ciepy.root, 'private_output', dy_name)\n",
    "cpy.makedir(private_outdir)\n",
    "\n",
    "import socket\n",
    "if socket.gethostname() == 'fl-hn1' or socket.gethostname() == 'fl-hn2':\n",
    "    dy = os.path.join(ciepy.root, 'sandbox', 'tmp', dy_name)\n",
    "    cpy.makedir(dy)\n",
    "    pbt.set_tempdir(dy)"
   ]
  },
  {
   "cell_type": "markdown",
   "metadata": {},
   "source": [
    "Each figure should be able to fit on a single 8.5 x 11 inch page. Please do not send figure panels as individual files. We use three standard widths for figures: 1 column, 85 mm; 1.5 column, 114 mm; and 2 column, 174 mm (the full width of the page). Although your figure size may be reduced in the print journal, please keep these widths in mind. For Previews and other three-column formats, these widths are also applicable, though the width of a single column will be 55 mm."
   ]
  },
  {
   "cell_type": "code",
   "execution_count": 2,
   "metadata": {
    "collapsed": true
   },
   "outputs": [],
   "source": [
    "fn = os.path.join(ciepy.root, 'output/cnv_analysis/cnv_gene_variants.pickle')\n",
    "cnv_gv = cPickle.load(open(fn))\n",
    "fn = os.path.join(ciepy.root, 'output/cnv_analysis/combined_info.pickle')\n",
    "combined_info = cPickle.load(open(fn))\n",
    "\n",
    "sig_cnvs = set(cnv_gv.cnv_id)\n",
    "not_sig_cnvs = set(combined_info.index) - sig_cnvs"
   ]
  },
  {
   "cell_type": "code",
   "execution_count": 3,
   "metadata": {
    "collapsed": true
   },
   "outputs": [],
   "source": [
    "sns.set_style('whitegrid')"
   ]
  },
  {
   "cell_type": "code",
   "execution_count": 6,
   "metadata": {
    "collapsed": false
   },
   "outputs": [
    {
     "name": "stdout",
     "output_type": "stream",
     "text": [
      "102 lead genic CNVs.\n",
      "Effect sizes for genic lead CNVs are biased (p=3.885e-05, binomial test).\n",
      "145 lead intergenic CNVs.\n",
      "Effect sizes for intergenic lead CNVs are biased (p=1.974e-02, binomial test).\n",
      "370 genic CNVs.\n",
      "Effect sizes for all genic CNV eQTLs are biased (p=5.330e-11, binomial test).\n",
      "408 intergenic CNVs.\n",
      "Effect sizes for all intergenic CNV eQTLs are biased (p=8.432e-13, binomial test).\n"
     ]
    },
    {
     "data": {
      "image/png": "[encoded data removed]",
      "text/plain": [
       "<matplotlib.figure.Figure at 0x7f0a202d4b10>"
      ]
     },
     "metadata": {},
     "output_type": "display_data"
    }
   ],
   "source": [
    "fig = plt.figure(figsize=(6.85, 4.5), dpi=300)\n",
    "\n",
    "gs = gridspec.GridSpec(1, 1)\n",
    "ax = fig.add_subplot(gs[0, 0])\n",
    "ax.text(0, 0, 'Figure S5',\n",
    "        size=16, va='bottom')\n",
    "ciepy.clean_axis(ax)\n",
    "ax.set_xticks([])\n",
    "ax.set_yticks([])\n",
    "gs.tight_layout(fig, rect=[0, 0.90, 0.5, 1])\n",
    "\n",
    "gs = gridspec.GridSpec(2, 2)\n",
    "\n",
    "tdf = cnv_gv.sort_values(by=['cnv_overlaps_gene', 'pvalue'], \n",
    "                         ascending=[False, True]).drop_duplicates(subset=['gene_id'])\n",
    "\n",
    "a = tdf[tdf.cnv_overlaps_gene_cons]\n",
    "b = tdf[tdf.cnv_overlaps_gene_cons == False]\n",
    "\n",
    "# Genic, lead CNV\n",
    "ax = fig.add_subplot(gs[0, 0])\n",
    "ax.set_ylabel('Number of genes', fontsize=8)\n",
    "ax.set_xlabel('$\\\\beta$', fontsize=8)\n",
    "a.beta.hist(bins=np.arange(-2.75, 3, 0.25), ax=ax)\n",
    "ax.grid(axis='x')\n",
    "for t in ax.get_xticklabels() + ax.get_yticklabels():\n",
    "    t.set_fontsize(8)\n",
    "print('{:,} lead genic CNVs.'.format(a.shape[0]))\n",
    "p = stats.binom_test((a.beta > 0).value_counts())\n",
    "print('Effect sizes for genic lead CNVs are biased '\n",
    "      '(p={:.3e}, binomial test).'.format(p))\n",
    "\n",
    "# Intergenic, lead CNV\n",
    "ax = fig.add_subplot(gs[0, 1])\n",
    "b.beta.hist(bins=np.arange(-2.75, 3, 0.25), ax=ax)\n",
    "ax.set_ylabel('Number of genes', fontsize=8)\n",
    "ax.set_xlabel('$\\\\beta$', fontsize=8)\n",
    "ax.grid(axis='x')\n",
    "for t in ax.get_xticklabels() + ax.get_yticklabels():\n",
    "    t.set_fontsize(8)\n",
    "p = stats.binom_test((b.beta > 0).value_counts())\n",
    "print('{:,} lead intergenic CNVs.'.format(b.shape[0]))\n",
    "print('Effect sizes for intergenic lead CNVs are biased '\n",
    "      '(p={:.3e}, binomial test).'.format(p))\n",
    "    \n",
    "a = cnv_gv[cnv_gv.cnv_overlaps_gene_cons]\n",
    "b = cnv_gv[cnv_gv.cnv_overlaps_gene_cons == False]\n",
    "    \n",
    "# Genic, all CNV associations\n",
    "ax = fig.add_subplot(gs[1, 0])\n",
    "ax.set_ylabel('Number of CNVs', fontsize=8)\n",
    "ax.set_xlabel('$\\\\beta$', fontsize=8)\n",
    "a.beta.hist(bins=np.arange(-2.75, 3, 0.25), ax=ax)\n",
    "ax.grid(axis='x')\n",
    "for t in ax.get_xticklabels() + ax.get_yticklabels():\n",
    "    t.set_fontsize(8)\n",
    "p = stats.binom_test((a.beta > 0).value_counts())\n",
    "print('{:,} genic CNVs.'.format(a.shape[0]))\n",
    "print('Effect sizes for all genic CNV eQTLs are biased '\n",
    "      '(p={:.3e}, binomial test).'.format(p))\n",
    "\n",
    "# Intergenic, all CNV associations\n",
    "ax = fig.add_subplot(gs[1, 1])\n",
    "b.beta.hist(bins=np.arange(-2.75, 3, 0.25), ax=ax)\n",
    "ax.set_ylabel('Number of CNVs', fontsize=8)\n",
    "ax.set_xlabel('$\\\\beta$', fontsize=8)\n",
    "ax.grid(axis='x')\n",
    "for t in ax.get_xticklabels() + ax.get_yticklabels():\n",
    "    t.set_fontsize(8)\n",
    "p = stats.binom_test((b.beta > 0).value_counts())\n",
    "print('{:,} intergenic CNVs.'.format(b.shape[0]))\n",
    "print('Effect sizes for all intergenic CNV eQTLs are biased '\n",
    "      '(p={:.3e}, binomial test).'.format(p))\n",
    "\n",
    "gs.tight_layout(fig, rect=[0, 0, 1, 0.9])\n",
    "\n",
    "t = fig.text(0.005, 0.86, 'A', weight='bold', \n",
    "             size=12)\n",
    "t = fig.text(0.5, 0.86, 'B', weight='bold', \n",
    "             size=12)\n",
    "t = fig.text(0.005, 0.42, 'C', weight='bold', \n",
    "             size=12)\n",
    "t = fig.text(0.5, 0.42, 'D', weight='bold', \n",
    "             size=12)\n",
    "\n",
    "fig.savefig(os.path.join(outdir, 'cnv_eqtl_effect_sizes.pdf'))\n",
    "fig.savefig(os.path.join(outdir, 'cnv_eqtl_effect_sizes.png'), dpi=300)"
   ]
  },
  {
   "cell_type": "code",
   "execution_count": 5,
   "metadata": {
    "collapsed": false
   },
   "outputs": [
    {
     "data": {
      "text/plain": [
       "126"
      ]
     },
     "execution_count": 5,
     "metadata": {},
     "output_type": "execute_result"
    }
   ],
   "source": [
    "sum(cnv_gv.gene_id.value_counts() > 1)"
   ]
  }
 ],
 "metadata": {
  "kernelspec": {
   "display_name": "Environment (cie)",
   "language": "",
   "name": "cie"
  },
  "language_info": {
   "codemirror_mode": {
    "name": "ipython",
    "version": 2
   },
   "file_extension": ".py",
   "mimetype": "text/x-python",
   "name": "python",
   "nbconvert_exporter": "python",
   "pygments_lexer": "ipython2",
   "version": "2.7.11"
  }
 },
 "nbformat": 4,
 "nbformat_minor": 0
}
