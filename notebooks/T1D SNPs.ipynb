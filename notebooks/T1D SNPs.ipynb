{
 "cells": [
  {
   "cell_type": "markdown",
   "metadata": {},
   "source": [
    "# T1D SNPs"
   ]
  },
  {
   "cell_type": "code",
   "execution_count": 20,
   "metadata": {
    "collapsed": true
   },
   "outputs": [],
   "source": [
    "import glob\n",
    "import os\n",
    "\n",
    "import matplotlib.pyplot as plt\n",
    "import myvariant\n",
    "import numpy as np\n",
    "import pandas as pd\n",
    "import seaborn as sns\n",
    "\n",
    "%matplotlib inline"
   ]
  },
  {
   "cell_type": "markdown",
   "metadata": {},
   "source": [
    "## iPSC eQTLs"
   ]
  },
  {
   "cell_type": "raw",
   "metadata": {},
   "source": [
    "snps = [ \n",
    "        'rs689',\n",
    "        'rs56994090',\n",
    "        'rs8056814',\n",
    "        'rs6476839',\n",
    "        'rs653178',\n",
    "        'rs3024505',\n",
    "        'rs705705',\n",
    "        'rs72853903',\n",
    "        'rs694739',\n",
    "        'rs722988',\n",
    "        'rs12971201',\n",
    "        'rs113010081',\n",
    "        'rs402072',\n",
    "        'rs151234',\n",
    "        'rs10877012',\n",
    "        'rs72727394',\n",
    "        'rs757411',\n",
    "        'rs12927355',\n",
    "        'rs7221109',\n",
    "        'rs4849135',\n",
    "        'rs10517086',\n",
    "        'rs193778',\n",
    "        'rs11170466',\n",
    "        'rs7574865',\n",
    "        'rs7804356',\n",
    "        'rs1538171',\n",
    "        'rs478222',\n",
    "        'rs12453507',\n",
    "        'rs41295121',\n",
    "        'rs12720356',\n",
    "        'rs4820830',\n",
    "        'rs11954020',\n",
    "        'rs516246',\n",
    "]"
   ]
  },
  {
   "cell_type": "code",
   "execution_count": 2,
   "metadata": {
    "collapsed": true
   },
   "outputs": [],
   "source": [
    "snps = pd.read_table('/projects/CARDIPS/analysis/t1d_grant/T1D_sig.txt')"
   ]
  },
  {
   "cell_type": "code",
   "execution_count": 3,
   "metadata": {
    "collapsed": true
   },
   "outputs": [],
   "source": [
    "mv = myvariant.MyVariantInfo()\n",
    "\n",
    "pos = []\n",
    "for s in snps['SNPs']:\n",
    "    res = mv.query(s)\n",
    "    chrom,rest = res['hits'][0]['_id'].split(':')\n",
    "    start = int(rest.split('.')[1][:-3])\n",
    "    end = start + 1\n",
    "    pos.append([chrom, start, end])\n",
    "    \n",
    "df = pd.DataFrame(pos, columns=['chrom', 'start', 'end'])\n",
    "snps = snps.join(df)"
   ]
  },
  {
   "cell_type": "code",
   "execution_count": 4,
   "metadata": {
    "collapsed": false
   },
   "outputs": [],
   "source": [
    "fn = '/projects/CARDIPS/analysis/cardips-ipsc-eqtl/output/eqtl_processing/gene_variant_pairs.tsv'\n",
    "gv = pd.read_table(fn, low_memory=False)\n",
    "gv.index = gv.chrom + ':' + gv.beg.astype(str)"
   ]
  },
  {
   "cell_type": "code",
   "execution_count": 5,
   "metadata": {
    "collapsed": true
   },
   "outputs": [],
   "source": [
    "fn = '/publicdata/gencode_v19_20151104/gene_info.tsv'\n",
    "gene_info = pd.read_table(fn, index_col=0)"
   ]
  },
  {
   "cell_type": "code",
   "execution_count": 6,
   "metadata": {
    "collapsed": false
   },
   "outputs": [],
   "source": [
    "ens = []\n",
    "gs = []\n",
    "for i in snps.chrom + ':' + snps.start.astype(str):\n",
    "    try:\n",
    "        se = gv.ix[i, 'gene']\n",
    "        if type(se) == str:\n",
    "            ens.append(se)\n",
    "            gs.append(gene_info.ix[se, 'gene_name'])\n",
    "        else:\n",
    "            ens.append(','.join(se.values))\n",
    "            gs.append(','.join(gene_info.ix[se.values, 'gene_name']))\n",
    "    except KeyError:\n",
    "        ens.append(np.nan)\n",
    "        gs.append(np.nan)"
   ]
  },
  {
   "cell_type": "code",
   "execution_count": 7,
   "metadata": {
    "collapsed": true
   },
   "outputs": [],
   "source": [
    "snps['iPSC_eqtl_gencode'] = ens\n",
    "snps['iPSC_eqtl_symbol'] = gs"
   ]
  },
  {
   "cell_type": "code",
   "execution_count": 9,
   "metadata": {
    "collapsed": false
   },
   "outputs": [
    {
     "data": {
      "text/plain": [
       "(22,)"
      ]
     },
     "execution_count": 9,
     "metadata": {},
     "output_type": "execute_result"
    }
   ],
   "source": [
    "snps.ipsc_eqtl_gencode.dropna().shape"
   ]
  },
  {
   "cell_type": "markdown",
   "metadata": {},
   "source": [
    "## GTEx eQTLs"
   ]
  },
  {
   "cell_type": "code",
   "execution_count": 10,
   "metadata": {
    "collapsed": false
   },
   "outputs": [],
   "source": [
    "# This file has the probability of the SNP being a QTL for each tissue\n",
    "# for the top SNP for that gene.\n",
    "fn = ('/publicdata/gtex_20151104/Multi_tissue_eQTL_GTEx_Pilot_Phase_datasets/'\n",
    "      'res_final_amean_com_genes_com_snps.txt')\n",
    "multi_probs = pd.read_table(fn, index_col=0)\n",
    "\n",
    "# Single tissue results.\n",
    "fns = glob.glob('/publicdata/gtex_20151104/*.eqtl')\n",
    "gtex_results = {}\n",
    "for fn in fns:\n",
    "    gtex_results[os.path.split(fn)[1].split('.')[0]] = pd.read_table(fn, index_col=0,\n",
    "                                                                     low_memory=False)"
   ]
  },
  {
   "cell_type": "code",
   "execution_count": 11,
   "metadata": {
    "collapsed": false
   },
   "outputs": [],
   "source": [
    "res = {}\n",
    "for k in gtex_results.keys():\n",
    "    gdf = gtex_results[k]\n",
    "    ens = []\n",
    "    gs = []\n",
    "    for i in snps.index:\n",
    "        if snps.ix[i, 'chrom'] == 'chrX':\n",
    "            ens.append(np.nan)\n",
    "            gs.append(np.nan)\n",
    "        else:\n",
    "            tdf = gdf[(gdf.SNP_Chr == int(snps.ix[i, 'chrom'][3:])) & \n",
    "                      (gdf.SNP_Pos == snps.ix[i, 'start'])]\n",
    "            if tdf.shape[0] > 0:\n",
    "                ens.append(','.join(tdf.Gen_ID.values))\n",
    "                gs.append(','.join(tdf.Gene_Name))\n",
    "            else:\n",
    "                ens.append(np.nan)\n",
    "                gs.append(np.nan)\n",
    "    res['{}_eqtl_gencode'.format(k)] = ens\n",
    "    res['{}_eqtl_symbol'.format(k)] = gs\n",
    "    \n",
    "t = pd.DataFrame(res)\n",
    "snps = snps.join(t)"
   ]
  },
  {
   "cell_type": "code",
   "execution_count": 33,
   "metadata": {
    "collapsed": false
   },
   "outputs": [],
   "source": [
    "tdf = snps[[x for x in snps.columns if 'eqtl_symbol' in x]]\n",
    "tdf.columns = [x[:-12].replace('_', ' ') for x in tdf.columns]"
   ]
  },
  {
   "cell_type": "code",
   "execution_count": 34,
   "metadata": {
    "collapsed": false
   },
   "outputs": [
    {
     "data": {
      "image/png": "[encoded data removed]",
      "text/plain": [
       "<matplotlib.figure.Figure at 0x7f79d8c76fd0>"
      ]
     },
     "metadata": {},
     "output_type": "display_data"
    }
   ],
   "source": [
    "(tdf.shape[0] - tdf.isnull().sum()).plot(kind='barh')\n",
    "plt.ylabel('Number of eQTLs');"
   ]
  },
  {
   "cell_type": "code",
   "execution_count": 13,
   "metadata": {
    "collapsed": true
   },
   "outputs": [],
   "source": [
    "snps.to_csv('t1d_snps.tsv', sep='\\t')"
   ]
  }
 ],
 "metadata": {
  "kernelspec": {
   "display_name": "Environment (cie)",
   "language": "",
   "name": "cie"
  }
 },
 "nbformat": 4,
 "nbformat_minor": 0
}
