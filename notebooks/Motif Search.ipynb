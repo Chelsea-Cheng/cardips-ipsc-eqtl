{
 "cells": [
  {
   "cell_type": "markdown",
   "metadata": {},
   "source": [
    "# Motif Search\n",
    "\n",
    "I want to search for transcription factor binding sites that\n",
    "are disrupted by potential QTNs."
   ]
  },
  {
   "cell_type": "code",
   "execution_count": 376,
   "metadata": {
    "collapsed": false
   },
   "outputs": [
    {
     "name": "stdout",
     "output_type": "stream",
     "text": [
      "The rpy2.ipython extension is already loaded. To reload it, use:\n",
      "  %reload_ext rpy2.ipython\n"
     ]
    }
   ],
   "source": [
    "import copy\n",
    "import os\n",
    "\n",
    "from Bio.Seq import Seq\n",
    "import cdpybio as cpb\n",
    "import matplotlib.pyplot as plt\n",
    "import MOODS\n",
    "import numpy as np\n",
    "import pandas as pd\n",
    "import pybedtools as pbt\n",
    "import seaborn as sns\n",
    "import weblogolib as logo\n",
    "\n",
    "import cardipspy as cpy\n",
    "import ciepy\n",
    "\n",
    "from IPython.display import Image \n",
    "\n",
    "%matplotlib inline\n",
    "%load_ext rpy2.ipython"
   ]
  },
  {
   "cell_type": "code",
   "execution_count": 390,
   "metadata": {
    "collapsed": true
   },
   "outputs": [],
   "source": [
    "outdir = os.path.join(ciepy.root, 'output',\n",
    "                      'motif_search')\n",
    "cpy.makedir(outdir)\n",
    "\n",
    "private_outdir = os.path.join(ciepy.root, 'private_output',\n",
    "                              'motif_search')\n",
    "cpy.makedir(private_outdir)"
   ]
  },
  {
   "cell_type": "code",
   "execution_count": 2,
   "metadata": {
    "collapsed": true
   },
   "outputs": [],
   "source": [
    "fn = os.path.join(ciepy.root, 'output', 'eqtl_processing', 'qvalues.tsv')\n",
    "qvalues = pd.read_table(fn, index_col=0)\n",
    "qvalues.columns = ['{}_gene'.format(x) for x in qvalues.columns]\n",
    "fn = os.path.join(ciepy.root, 'output', 'eqtl_processing', 'most_sig.tsv')\n",
    "most_sig = pd.read_table(fn, index_col=0)\n",
    "\n",
    "fn = os.path.join(ciepy.root, 'output', 'functional_annotation_analysis',\n",
    "                  'encode_stem_cell_chip_seq.tsv')\n",
    "encode_chip_seq = pd.read_table(fn, index_col=0)"
   ]
  },
  {
   "cell_type": "code",
   "execution_count": 3,
   "metadata": {
    "collapsed": true
   },
   "outputs": [],
   "source": [
    "import urllib2\n",
    "import zlib\n",
    "from StringIO import StringIO\n",
    "\n",
    "def read_gzipped_text_url(url):\n",
    "    \"\"\"Read a gzipped text file from a URL and return \n",
    "    contents as a string.\"\"\"\n",
    "    # Create a opener\n",
    "    opener = urllib2.build_opener() \n",
    "\n",
    "    request = urllib2.Request(url)\n",
    "    request.add_header('Accept-encoding', 'gzip')\n",
    "\n",
    "    # Fetch the gzip filer\n",
    "    respond = opener.open(request)\n",
    "    compressedData = respond.read()\n",
    "    respond.close()\n",
    "\n",
    "    opener.close()\n",
    "\n",
    "    # Extract data and save to text file\n",
    "    compressedDataBuf = StringIO(compressedData)\n",
    "    d = zlib.decompressobj(16+zlib.MAX_WBITS)\n",
    "\n",
    "    buffer = compressedDataBuf.read(1024)\n",
    "    #saveFile = open('/tmp/test.txt', \"wb\")\n",
    "    s = []\n",
    "    while buffer:\n",
    "        s.append(d.decompress(buffer))\n",
    "        buffer = compressedDataBuf.read(1024)\n",
    "    s = ''.join(s)\n",
    "    return s"
   ]
  },
  {
   "cell_type": "code",
   "execution_count": 4,
   "metadata": {
    "collapsed": true
   },
   "outputs": [],
   "source": [
    "most_sig = most_sig.join(qvalues)\n",
    "sig = most_sig[most_sig.sig_gene]"
   ]
  },
  {
   "cell_type": "markdown",
   "metadata": {},
   "source": [
    "The columns in the Kheradpour file are ACGT."
   ]
  },
  {
   "cell_type": "code",
   "execution_count": 5,
   "metadata": {
    "collapsed": false
   },
   "outputs": [],
   "source": [
    "key = []\n",
    "tf = []\n",
    "cell_line = []\n",
    "source = []\n",
    "length = []\n",
    "with open(cpy.kheradpour_motifs) as f:\n",
    "    lines = f.read()\n",
    "m = lines.split('>')[1:]\n",
    "m = [x.split('\\n')[:-1] for x in m]\n",
    "matrices = {}\n",
    "for x in m:\n",
    "    k = x[0].split()[0]\n",
    "    key.append(k)\n",
    "    if 'transfac' in x[0]:\n",
    "        tf.append(x[0].split()[1].split('_')[0].upper())\n",
    "        cell_line.append(np.nan)\n",
    "        source.append('transfac')\n",
    "    elif 'jolma' in x[0]:\n",
    "        tf.append(x[0].split()[1].split('_')[0].upper())\n",
    "        cell_line.append(np.nan)\n",
    "        source.append('jolma')\n",
    "    elif 'jaspar' in x[0]:\n",
    "        tf.append(x[0].split()[1].split('_')[0].upper())\n",
    "        cell_line.append(np.nan)\n",
    "        source.append('jaspar')\n",
    "    elif 'bulyk' in x[0]:\n",
    "        tf.append(x[0].split()[1].split('_')[0].upper())\n",
    "        cell_line.append(np.nan)\n",
    "        source.append('bulyk')\n",
    "    else:\n",
    "        tf.append(x[0].split()[1].split('_')[0].upper())\n",
    "        cell_line.append(x[0].split()[1].split('_')[1])\n",
    "        source.append('encode')\n",
    "    t = pd.DataFrame([y.split() for y in x[1:]],\n",
    "                     columns=['base', 'A', 'C', 'G', 'T'])\n",
    "    t.index = t.base\n",
    "    t = t.drop('base', axis=1)\n",
    "    t = t.convert_objects(convert_numeric=True)\n",
    "    matrices[k] = t\n",
    "    length.append(t.shape[0])\n",
    "\n",
    "motif_info = pd.DataFrame({'tf': tf, 'cell_line': cell_line, 'source': source, \n",
    "                           'length': length}, index=key)"
   ]
  },
  {
   "cell_type": "code",
   "execution_count": 6,
   "metadata": {
    "collapsed": false
   },
   "outputs": [],
   "source": [
    "lines = (sig.chrom + '\\t' + (sig.coord - 1).astype(str) + \n",
    "         '\\t' + sig.coord.astype(str) + '\\t' + sig.chrom +\n",
    "         ':' + sig.coord.astype(str))\n",
    "lines = lines.drop_duplicates()\n",
    "sig_bt = pbt.BedTool('\\n'.join(lines + '\\n'), from_string=True)\n",
    "m = max([x.shape[0] for x in matrices.values()])\n",
    "sig_bt = sig_bt.slop(l=m, r=m, g=pbt.genome_registry.hg19)\n",
    "seqs = sig_bt.sequence(fi=cpy.hg19)\n",
    "sig_seqs = [x.strip() for x in open(seqs.seqfn).readlines()]\n",
    "sig_seqs = pd.Series(sig_seqs[1::2], index=[x[1:] for x in sig_seqs[0::2]])\n",
    "sig_seqs = sig_seqs.apply(lambda x: x.upper())"
   ]
  },
  {
   "cell_type": "code",
   "execution_count": 7,
   "metadata": {
    "collapsed": false
   },
   "outputs": [],
   "source": [
    "snvs = sig[['chrom', 'coord', 'loc', 'marker_id']]\n",
    "snvs.index = snvs['loc'].values\n",
    "snvs = snvs.drop_duplicates()\n",
    "snvs['ref'] = snvs.marker_id.apply(lambda x: x.split('_')[1].split('/')[0])\n",
    "snvs['alt'] = snvs.marker_id.apply(lambda x: x.split('_')[1].split('/')[1])\n",
    "\n",
    "snvs['interval'] = ''\n",
    "snvs['seq'] = ''\n",
    "snvs['alt_seq'] = ''\n",
    "for i in sig_seqs.index:\n",
    "    chrom, start, end = cpb.general.parse_region(i)\n",
    "    k = '{}:{}'.format(chrom, int(end) - m)\n",
    "    snvs.ix[k, 'interval'] = i\n",
    "    snvs.ix[k, 'seq'] = sig_seqs[i]\n",
    "    ref, alt = snvs.ix[k, ['ref', 'alt']]\n",
    "    assert sig_seqs[i][m] == ref\n",
    "    snvs.ix[k, 'alt_seq'] = sig_seqs[i][0:m] + alt + sig_seqs[i][m + 1:]"
   ]
  },
  {
   "cell_type": "markdown",
   "metadata": {
    "collapsed": true
   },
   "source": [
    "I'm going to choose a representative motif for each TF. I'll preferentially choose\n",
    "the motifs from H1-hESC experiments."
   ]
  },
  {
   "cell_type": "code",
   "execution_count": 8,
   "metadata": {
    "collapsed": false
   },
   "outputs": [],
   "source": [
    "a = motif_info[motif_info.tf.apply(lambda x: x in encode_chip_seq.target.values)]\n",
    "b = a[a.cell_line == 'H1-hESC']\n",
    "b = b.drop_duplicates(subset='tf')\n",
    "a = a[a.cell_line != 'H1-hESC']\n",
    "a = a[a.tf.apply(lambda x: x not in b.tf.values)]\n",
    "a['so'] = a.source.replace({'jolma': 0, 'bulyk': 1, 'transfac': 2, \n",
    "                            'jaspar': 3, 'encode': 4})\n",
    "a = a.sort(columns='so')\n",
    "a = a.drop_duplicates(subset='tf').drop('so', axis=1)\n",
    "motif_info = pd.concat([b, a])"
   ]
  },
  {
   "cell_type": "code",
   "execution_count": 9,
   "metadata": {
    "collapsed": true
   },
   "outputs": [],
   "source": [
    "encode_chip_seq = encode_chip_seq[encode_chip_seq.target.apply(lambda x: x in motif_info.tf.values)]\n",
    "encode_chip_seq = encode_chip_seq.drop_duplicates(subset='target')"
   ]
  },
  {
   "cell_type": "markdown",
   "metadata": {},
   "source": [
    "There are a few TF ChIP-seq datasets for which I don't have motifs. I can't find\n",
    "them by hand in the Kheradpour data either. I'll skip these for now."
   ]
  },
  {
   "cell_type": "code",
   "execution_count": 16,
   "metadata": {
    "collapsed": true
   },
   "outputs": [],
   "source": [
    "lines = (sig.chrom + '\\t' + (sig.coord - 1).astype(str) + \n",
    "         '\\t' + sig.coord.astype(str) + '\\t' + sig.chrom +\n",
    "         ':' + sig.coord.astype(str))\n",
    "lines = lines.drop_duplicates()\n",
    "sig_bt = pbt.BedTool('\\n'.join(lines + '\\n'), from_string=True)\n",
    "sig_bt = sig_bt.sort()"
   ]
  },
  {
   "cell_type": "code",
   "execution_count": 27,
   "metadata": {
    "collapsed": false
   },
   "outputs": [],
   "source": [
    "snvs_tf = pd.DataFrame(False, index=snvs.index, columns=encode_chip_seq.target)\n",
    "for i in encode_chip_seq.index:\n",
    "    c = encode_chip_seq.ix[i, 'target']\n",
    "    snvs_tf[c] = False\n",
    "    bt = pbt.BedTool(read_gzipped_text_url(encode_chip_seq.ix[i, 'narrowPeak_url']), \n",
    "                     from_string=True)\n",
    "    bt = bt.sort()\n",
    "    res = sig_bt.intersect(bt, sorted=True, wo=True)\n",
    "    for r in res:\n",
    "        snvs_tf.ix['{}:{}'.format(r.chrom, r.end), c] = True"
   ]
  },
  {
   "cell_type": "code",
   "execution_count": 494,
   "metadata": {
    "collapsed": false
   },
   "outputs": [
    {
     "name": "stdout",
     "output_type": "stream",
     "text": [
      "('first', 'RAD21_disc7', [(15, 3.9474764434611007), (31, 4.343954948580402), (-31, 4.074765980429026)])\n",
      "(31, 4.343954948580402)\n",
      "('first', 'SIN3A_disc1', [(-37, 5.897621244820922)])\n",
      "('first', 'EP300_disc9', [(18, 5.09946208612312), (24, 4.0524801130079915), (-52, 3.650658784768004), (-36, 5.01474146727589), (-33, 4.156225333319624), (-20, 4.498303233758044)])\n",
      "(-52, 3.650658784768004)\n",
      "(-20, 4.498303233758044)\n"
     ]
    }
   ],
   "source": [
    "snv_motifs = {}\n",
    "#for i in snvs_tf[snvs_tf.sum(axis=1) > 0].index:\n",
    "for i in ['chr1:146644199']:\n",
    "    se = snvs_tf.ix[i]\n",
    "    se = se[se]\n",
    "    keys = motif_info[motif_info.tf.apply(lambda x: x in se.index)].index\n",
    "    ms = [matrices[x].T.values.tolist() for x in keys]\n",
    "    seq_res = MOODS.search(snvs.ix[i, 'seq'], ms, 0.001, both_strands=True, \n",
    "                           bg=[0.25, 0.25, 0.25, 0.25])\n",
    "    seq_mres = dict(zip(keys, seq_res))\n",
    "    alt_seq_res = MOODS.search(snvs.ix[i, 'alt_seq'], ms, 0.001, both_strands=True, \n",
    "                               bg=[0.25, 0.25, 0.25, 0.25])\n",
    "    alt_seq_mres = dict(zip(keys, alt_seq_res))\n",
    "    if seq_mres != alt_seq_mres:\n",
    "        for k in seq_mres.keys():\n",
    "            if seq_mres[k] == alt_seq_mres[k]:\n",
    "                seq_mres.pop(k)\n",
    "                alt_seq_mres.pop(k)\n",
    "            else:\n",
    "                shared = set(seq_mres[k]) & set(alt_seq_mres)\n",
    "                seq_mres[k] = [x for x in seq_mres[k] if x not in shared]\n",
    "                alt_seq_mres[k] = [x for x in alt_seq_mres[k] if x not in shared]\n",
    "                a = seq_mres[k]\n",
    "                print('first', k, a)\n",
    "                to_remove = []\n",
    "                for v in a:\n",
    "                    sp = len(snvs.ix[i, 'seq']) / 2 \n",
    "                    start = v[0]\n",
    "                    if start < 0:\n",
    "                        start = start + len(snvs.ix[i, 'seq'])\n",
    "                    if not start <= sp <= start + motif_info.ix[k, 'length']:\n",
    "                        print(v)\n",
    "                        to_remove.append(v)\n",
    "                for v in to_remove:\n",
    "                    a.remove(v)\n",
    "                seq_mres[k] = a\n",
    "                a = alt_seq_mres[k]\n",
    "                to_remove = []\n",
    "                for v in a:\n",
    "                    sp = len(snvs.ix[i, 'seq']) / 2 \n",
    "                    start = v[0]\n",
    "                    if start < 0:\n",
    "                        start = start + len(snvs.ix[i, 'seq'])\n",
    "                    if not start <= sp < start + motif_info.ix[k, 'length']:\n",
    "                        to_remove.append(v)\n",
    "                for v in to_remove:\n",
    "                    a.remove(v)\n",
    "                alt_seq_mres[k] = a\n",
    "        snv_motifs[i] = [seq_mres, alt_seq_mres]"
   ]
  },
  {
   "cell_type": "markdown",
   "metadata": {},
   "source": [
    "TODO: Why is (15, 3.9474764434611007) being included in `seq_mres` below?\n",
    "I think it should be filtered out because the motif length is only 15.\n",
    "I should probably refactor the code above and do some careful checking of \n",
    "the indexing/length stuff."
   ]
  },
  {
   "cell_type": "code",
   "execution_count": 490,
   "metadata": {
    "collapsed": true
   },
   "outputs": [],
   "source": [
    "# chr1_146644199_RAD21_disc7_31.png\n",
    "snv = 'chr1:146644199'\n",
    "seq_mres, alt_seq_mres = snv_motifs[snv]"
   ]
  },
  {
   "cell_type": "code",
   "execution_count": 483,
   "metadata": {
    "collapsed": false
   },
   "outputs": [
    {
     "data": {
      "text/plain": [
       "15"
      ]
     },
     "execution_count": 483,
     "metadata": {},
     "output_type": "execute_result"
    }
   ],
   "source": [
    "motif_info.ix['RAD21_disc7', 'length']"
   ]
  },
  {
   "cell_type": "code",
   "execution_count": 495,
   "metadata": {
    "collapsed": false
   },
   "outputs": [
    {
     "data": {
      "text/plain": [
       "{'EP300_disc9': [(18, 5.09946208612312),\n",
       "  (24, 4.0524801130079915),\n",
       "  (-36, 5.01474146727589),\n",
       "  (-33, 4.156225333319624)],\n",
       " 'RAD21_disc7': [(15, 3.9474764434611007), (-31, 4.074765980429026)],\n",
       " 'SIN3A_disc1': [(-37, 5.897621244820922)]}"
      ]
     },
     "execution_count": 495,
     "metadata": {},
     "output_type": "execute_result"
    }
   ],
   "source": [
    "seq_mres"
   ]
  },
  {
   "cell_type": "code",
   "execution_count": 492,
   "metadata": {
    "collapsed": false
   },
   "outputs": [
    {
     "data": {
      "text/plain": [
       "{'EP300_disc9': [(18, 5.113584517939072),\n",
       "  (24, 3.9148735122505554),\n",
       "  (-36, 3.7761782685808867)],\n",
       " 'RAD21_disc7': [],\n",
       " 'SIN3A_disc1': []}"
      ]
     },
     "execution_count": 492,
     "metadata": {},
     "output_type": "execute_result"
    }
   ],
   "source": [
    "alt_seq_mres"
   ]
  },
  {
   "cell_type": "code",
   "execution_count": 465,
   "metadata": {
    "collapsed": false
   },
   "outputs": [
    {
     "name": "stdout",
     "output_type": "stream",
     "text": [
      "(31, 4.343954948580402)\n",
      "(18, 5.113584517939072)\n",
      "(24, 3.9148735122505554)\n",
      "(-36, 3.7761782685808867)\n"
     ]
    }
   ],
   "source": [
    "for k in seq_mres.keys():\n",
    "    if seq_mres[k] == alt_seq_mres[k]:\n",
    "        seq_mres.pop(k)\n",
    "        alt_seq_mres.pop(k)\n",
    "    else:\n",
    "        shared = set(seq_mres[k]) & set(alt_seq_mres)\n",
    "        seq_mres[k] = [x for x in seq_mres[k] if x not in shared]\n",
    "        alt_seq_mres[k] = [x for x in alt_seq_mres[k] if x not in shared]\n",
    "        a = seq_mres[k]\n",
    "        for v in a:\n",
    "            sp = len(snvs.ix[i, 'seq']) / 2 \n",
    "            start = v[0]\n",
    "            if start < 0:\n",
    "                start = start + len(snvs.ix[i, 'seq'])\n",
    "            if not start <= sp <= start + motif_info.ix[k, 'length']:\n",
    "                a.remove(v)\n",
    "        seq_mres[k] = a\n",
    "        a = alt_seq_mres[k]\n",
    "        for v in a:\n",
    "            print(v)\n",
    "            sp = len(snvs.ix[i, 'seq']) / 2 \n",
    "            start = v[0]\n",
    "            if start < 0:\n",
    "                start = start + len(snvs.ix[i, 'seq'])\n",
    "            if not start <= sp < start + motif_info.ix[k, 'length']:\n",
    "                a.remove(v)\n",
    "        alt_seq_mres[k] = a"
   ]
  },
  {
   "cell_type": "code",
   "execution_count": 464,
   "metadata": {
    "collapsed": false
   },
   "outputs": [
    {
     "data": {
      "text/plain": [
       "'CCCGGGACCCGCCGGCCTCTCTAGCCGCCGC'"
      ]
     },
     "execution_count": 464,
     "metadata": {},
     "output_type": "execute_result"
    }
   ],
   "source": [
    "snvs.ix[snv, 'seq'][30:]"
   ]
  },
  {
   "cell_type": "code",
   "execution_count": 457,
   "metadata": {
    "collapsed": false
   },
   "outputs": [
    {
     "data": {
      "text/plain": [
       "cell_line    H1-hESC\n",
       "length            15\n",
       "source        encode\n",
       "tf             RAD21\n",
       "Name: RAD21_disc7, dtype: object"
      ]
     },
     "execution_count": 457,
     "metadata": {},
     "output_type": "execute_result"
    }
   ],
   "source": [
    "motif_info.ix['RAD21_disc7']"
   ]
  },
  {
   "cell_type": "code",
   "execution_count": 452,
   "metadata": {
    "collapsed": true
   },
   "outputs": [],
   "source": [
    "def plot_tf_disruption(m, ref, alt, fn, title=None):\n",
    "    \"\"\"m is the PWM, ref is the ref sequence, alt is the alt sequence\"\"\"\n",
    "    k = 'SIX5_disc2'\n",
    "    alphabet = logo.corebio.seq.unambiguous_dna_alphabet\n",
    "    prior = [0.25, 0.25, 0.25, 0.25]\n",
    "    counts = m.values\n",
    "    assert counts.shape[1] == 4\n",
    "    assert len(ref) == len(alt) == counts.shape[0]\n",
    "    ref_counts = []\n",
    "    for t in ref:\n",
    "        ref_counts.append([int(t.upper() == 'A'), int(t.upper() == 'C'),\n",
    "                           int(t.upper() == 'G'), int(t.upper() == 'T')])\n",
    "    alt_counts = []\n",
    "    for t in alt:\n",
    "        alt_counts.append([int(t.upper() == 'A'), int(t.upper() == 'C'),\n",
    "                           int(t.upper() == 'G'), int(t.upper() == 'T')])\n",
    "    counts = np.concatenate([counts, ref_counts, alt_counts])\n",
    "    data = logo.LogoData.from_counts(alphabet, counts, prior=None)\n",
    "    fout = open(fn, 'w')\n",
    "    options = logo.LogoOptions()\n",
    "    options.fineprint = ''\n",
    "    if title:\n",
    "        options.logo_title = title\n",
    "    else:\n",
    "        options.logo_title = ''\n",
    "    options.stacks_per_line = m.shape[0]\n",
    "    options.show_xaxis = False\n",
    "    options.show_yaxis = False\n",
    "    options.color_scheme = logo.ColorScheme([logo.ColorGroup(\"G\", \"orange\"), \n",
    "                                             logo.ColorGroup(\"C\", \"blue\"),\n",
    "                                             logo.ColorGroup(\"A\", \"green\"),\n",
    "                                             logo.ColorGroup(\"T\", \"red\")])\n",
    "    logo_format = logo.LogoFormat(data, options)\n",
    "    fout.write(logo.png_print_formatter(data, logo_format))\n",
    "    #fout.write(logo.pdf_formatter(data, logo_format))\n",
    "    fout.close()\n",
    "    Image(filename=fn)"
   ]
  },
  {
   "cell_type": "code",
   "execution_count": null,
   "metadata": {
    "collapsed": true
   },
   "outputs": [],
   "source": [
    "for k in snv_motifs.keys()[0:10]:\n",
    "    print k, snv_motifs[k]\n",
    "    print"
   ]
  },
  {
   "cell_type": "markdown",
   "metadata": {},
   "source": [
    "TODO: I need to remove motif matches that are the same between alt and ref\n",
    "(or at least don't overlap the variant).\n",
    "Currently I only check if there is at least one difference."
   ]
  },
  {
   "cell_type": "code",
   "execution_count": 453,
   "metadata": {
    "collapsed": false
   },
   "outputs": [],
   "source": [
    "cpy.makedir(os.path.join(outdir, 'tf_plots'))\n",
    "for snv in snv_motifs.keys():\n",
    "    seq_mres, alt_seq_mres = snv_motifs[snv]\n",
    "    for k in seq_mres.keys():\n",
    "        pwm = matrices[k]\n",
    "        a = seq_mres[k]\n",
    "        b = alt_seq_mres[k]\n",
    "        starts = set([x[0] for x in a]) | set([x[0] for x in b])\n",
    "        for start in starts:\n",
    "            ref_seq = snvs.ix[snv, 'seq'][start: start + motif_info.ix[k, 'length']]\n",
    "            alt_seq = snvs.ix[snv, 'alt_seq'][start: start + motif_info.ix[k, 'length']]\n",
    "            if start < 0:\n",
    "                ref_seq = str(Seq(ref_seq).reverse_complement())\n",
    "                alt_seq = str(Seq(alt_seq).reverse_complement())\n",
    "            fn = os.path.join(outdir, 'tf_plots', '{}_{}_{}.png'.format(\n",
    "                snv.replace(':', '_'), k, str(start).replace('-', 'neg')))\n",
    "            plot_tf_disruption(pwm, ref_seq, alt_seq, fn)"
   ]
  },
  {
   "cell_type": "code",
   "execution_count": 387,
   "metadata": {
    "collapsed": false
   },
   "outputs": [
    {
     "data": {
      "image/png": "[encoded data removed]",
      "text/plain": [
       "<IPython.core.display.Image object>"
      ]
     },
     "execution_count": 387,
     "metadata": {
      "image/png": {
       "height": 300,
       "width": 300
      }
     },
     "output_type": "execute_result"
    }
   ],
   "source": [
    "plot_tf_disruption(pwm, ref_seq, alt_seq, 'test.png')\n",
    "Image(filename='test.png', width=300, height=300)"
   ]
  },
  {
   "cell_type": "code",
   "execution_count": 496,
   "metadata": {
    "collapsed": false
   },
   "outputs": [
    {
     "data": {
      "text/html": [
       "<div>\n",
       "<table border=\"1\" class=\"dataframe\">\n",
       "  <thead>\n",
       "    <tr style=\"text-align: right;\">\n",
       "      <th></th>\n",
       "      <th>chrom</th>\n",
       "      <th>coord</th>\n",
       "      <th>loc</th>\n",
       "      <th>marker_id</th>\n",
       "      <th>ref</th>\n",
       "      <th>alt</th>\n",
       "      <th>interval</th>\n",
       "      <th>seq</th>\n",
       "      <th>alt_seq</th>\n",
       "    </tr>\n",
       "  </thead>\n",
       "  <tbody>\n",
       "    <tr>\n",
       "      <th>chr1:24716529</th>\n",
       "      <td>chr1</td>\n",
       "      <td>24716529</td>\n",
       "      <td>chr1:24716529</td>\n",
       "      <td>1:24716529_C/A</td>\n",
       "      <td>C</td>\n",
       "      <td>A</td>\n",
       "      <td>chr1:24716498-24716559</td>\n",
       "      <td>GGGCACCAGGGCTGGCCAAGGCCCCTCACTCCATGCCTTGGCTCCG...</td>\n",
       "      <td>GGGCACCAGGGCTGGCCAAGGCCCCTCACTACATGCCTTGGCTCCG...</td>\n",
       "    </tr>\n",
       "    <tr>\n",
       "      <th>chr1:24718075</th>\n",
       "      <td>chr1</td>\n",
       "      <td>24718075</td>\n",
       "      <td>chr1:24718075</td>\n",
       "      <td>1:24718075_T/C</td>\n",
       "      <td>T</td>\n",
       "      <td>C</td>\n",
       "      <td>chr1:24718044-24718105</td>\n",
       "      <td>CATTACCTTCTTATGAGGAAATCTCTTGGCTTGACTATTGAATCCT...</td>\n",
       "      <td>CATTACCTTCTTATGAGGAAATCTCTTGGCCTGACTATTGAATCCT...</td>\n",
       "    </tr>\n",
       "    <tr>\n",
       "      <th>chr6:46145461</th>\n",
       "      <td>chr6</td>\n",
       "      <td>46145461</td>\n",
       "      <td>chr6:46145461</td>\n",
       "      <td>6:46145461_C/G_rs2223776</td>\n",
       "      <td>C</td>\n",
       "      <td>G</td>\n",
       "      <td>chr6:46145430-46145491</td>\n",
       "      <td>GGAGGGGCATGTCATGACCAGAGCCACGAACATAATTCCTGAATCA...</td>\n",
       "      <td>GGAGGGGCATGTCATGACCAGAGCCACGAAGATAATTCCTGAATCA...</td>\n",
       "    </tr>\n",
       "    <tr>\n",
       "      <th>chr6:46145547</th>\n",
       "      <td>chr6</td>\n",
       "      <td>46145547</td>\n",
       "      <td>chr6:46145547</td>\n",
       "      <td>6:46145547_A/G_rs2206964</td>\n",
       "      <td>A</td>\n",
       "      <td>G</td>\n",
       "      <td>chr6:46145516-46145577</td>\n",
       "      <td>TTTATTTAATATCAATCTGTAATTGATATTAAAATTAACGTTGCTT...</td>\n",
       "      <td>TTTATTTAATATCAATCTGTAATTGATATTGAAATTAACGTTGCTT...</td>\n",
       "    </tr>\n",
       "    <tr>\n",
       "      <th>chr12:1054956</th>\n",
       "      <td>chr12</td>\n",
       "      <td>1054956</td>\n",
       "      <td>chr12:1054956</td>\n",
       "      <td>12:1054956_C/T_rs147560086</td>\n",
       "      <td>C</td>\n",
       "      <td>T</td>\n",
       "      <td>chr12:1054925-1054986</td>\n",
       "      <td>GAACCCAGTAATCCCAGCACTTTGGGAGGCCGAGGCAGGCAGATCA...</td>\n",
       "      <td>GAACCCAGTAATCCCAGCACTTTGGGAGGCTGAGGCAGGCAGATCA...</td>\n",
       "    </tr>\n",
       "  </tbody>\n",
       "</table>\n",
       "</div>"
      ],
      "text/plain": [
       "               chrom     coord            loc                   marker_id ref  \\\n",
       "chr1:24716529   chr1  24716529  chr1:24716529              1:24716529_C/A   C   \n",
       "chr1:24718075   chr1  24718075  chr1:24718075              1:24718075_T/C   T   \n",
       "chr6:46145461   chr6  46145461  chr6:46145461    6:46145461_C/G_rs2223776   C   \n",
       "chr6:46145547   chr6  46145547  chr6:46145547    6:46145547_A/G_rs2206964   A   \n",
       "chr12:1054956  chr12   1054956  chr12:1054956  12:1054956_C/T_rs147560086   C   \n",
       "\n",
       "              alt                interval  \\\n",
       "chr1:24716529   A  chr1:24716498-24716559   \n",
       "chr1:24718075   C  chr1:24718044-24718105   \n",
       "chr6:46145461   G  chr6:46145430-46145491   \n",
       "chr6:46145547   G  chr6:46145516-46145577   \n",
       "chr12:1054956   T   chr12:1054925-1054986   \n",
       "\n",
       "                                                             seq  \\\n",
       "chr1:24716529  GGGCACCAGGGCTGGCCAAGGCCCCTCACTCCATGCCTTGGCTCCG...   \n",
       "chr1:24718075  CATTACCTTCTTATGAGGAAATCTCTTGGCTTGACTATTGAATCCT...   \n",
       "chr6:46145461  GGAGGGGCATGTCATGACCAGAGCCACGAACATAATTCCTGAATCA...   \n",
       "chr6:46145547  TTTATTTAATATCAATCTGTAATTGATATTAAAATTAACGTTGCTT...   \n",
       "chr12:1054956  GAACCCAGTAATCCCAGCACTTTGGGAGGCCGAGGCAGGCAGATCA...   \n",
       "\n",
       "                                                         alt_seq  \n",
       "chr1:24716529  GGGCACCAGGGCTGGCCAAGGCCCCTCACTACATGCCTTGGCTCCG...  \n",
       "chr1:24718075  CATTACCTTCTTATGAGGAAATCTCTTGGCCTGACTATTGAATCCT...  \n",
       "chr6:46145461  GGAGGGGCATGTCATGACCAGAGCCACGAAGATAATTCCTGAATCA...  \n",
       "chr6:46145547  TTTATTTAATATCAATCTGTAATTGATATTGAAATTAACGTTGCTT...  \n",
       "chr12:1054956  GAACCCAGTAATCCCAGCACTTTGGGAGGCTGAGGCAGGCAGATCA...  "
      ]
     },
     "execution_count": 496,
     "metadata": {},
     "output_type": "execute_result"
    }
   ],
   "source": [
    "snvs.head()"
   ]
  },
  {
   "cell_type": "raw",
   "metadata": {
    "collapsed": true
   },
   "source": [
    "k = 'SIX5_disc2'\n",
    "alphabet = logo.corebio.seq.unambiguous_dna_alphabet\n",
    "prior = [0.25, 0.25, 0.25, 0.25]\n",
    "counts = matrices[k].values\n",
    "data = logo.LogoData.from_counts(alphabet, counts, prior=None)\n",
    "fout = open('test.png', 'w')\n",
    "options = logo.LogoOptions()\n",
    "options.fineprint = ''\n",
    "options.logo_title = ''\n",
    "#options.first_index = -50\n",
    "#options.stacks_per_line = 50\n",
    "#options.show_xaxis = False\n",
    "#options.show_yaxis = False\n",
    "options.color_scheme = logo.ColorScheme([logo.ColorGroup(\"G\", \"orange\"), \n",
    "                                         logo.ColorGroup(\"C\", \"blue\"),\n",
    "                                         logo.ColorGroup(\"A\", \"green\"),\n",
    "                                         logo.ColorGroup(\"T\", \"red\")])\n",
    "logo_format = logo.LogoFormat(data, options)\n",
    "fout.write(logo.png_print_formatter(data, logo_format))\n",
    "#fout.write(logo.pdf_formatter(data, logo_format))\n",
    "fout.close()\n",
    "Image(filename='test.png')"
   ]
  }
 ],
 "metadata": {
  "kernelspec": {
   "display_name": "Python 2",
   "language": "python",
   "name": "python2"
  },
  "language_info": {
   "codemirror_mode": {
    "name": "ipython",
    "version": 2
   },
   "file_extension": ".py",
   "mimetype": "text/x-python",
   "name": "python",
   "nbconvert_exporter": "python",
   "pygments_lexer": "ipython2",
   "version": "2.7.10"
  }
 },
 "nbformat": 4,
 "nbformat_minor": 0
}
