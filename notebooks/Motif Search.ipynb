{
 "cells": [
  {
   "cell_type": "markdown",
   "metadata": {},
   "source": [
    "# Motif Search\n",
    "\n",
    "I want to search for transcription factor binding sites that\n",
    "are disrupted by potential QTNs."
   ]
  },
  {
   "cell_type": "code",
   "execution_count": 1,
   "metadata": {
    "collapsed": false
   },
   "outputs": [],
   "source": [
    "import copy\n",
    "import os\n",
    "\n",
    "from Bio.Seq import Seq\n",
    "import cdpybio as cpb\n",
    "import matplotlib.pyplot as plt\n",
    "import MOODS\n",
    "import numpy as np\n",
    "import pandas as pd\n",
    "import pybedtools as pbt\n",
    "import seaborn as sns\n",
    "import weblogolib as logo\n",
    "\n",
    "import cardipspy as cpy\n",
    "import ciepy\n",
    "\n",
    "from IPython.display import Image \n",
    "\n",
    "%matplotlib inline\n",
    "%load_ext rpy2.ipython"
   ]
  },
  {
   "cell_type": "code",
   "execution_count": 2,
   "metadata": {
    "collapsed": true
   },
   "outputs": [],
   "source": [
    "outdir = os.path.join(ciepy.root, 'output',\n",
    "                      'motif_search')\n",
    "cpy.makedir(outdir)\n",
    "\n",
    "private_outdir = os.path.join(ciepy.root, 'private_output',\n",
    "                              'motif_search')\n",
    "cpy.makedir(private_outdir)"
   ]
  },
  {
   "cell_type": "code",
   "execution_count": 3,
   "metadata": {
    "collapsed": true
   },
   "outputs": [],
   "source": [
    "fn = os.path.join(ciepy.root, 'output', 'eqtl_processing', 'qvalues.tsv')\n",
    "qvalues = pd.read_table(fn, index_col=0)\n",
    "qvalues.columns = ['{}_gene'.format(x) for x in qvalues.columns]\n",
    "fn = os.path.join(ciepy.root, 'output', 'eqtl_processing', 'most_sig.tsv')\n",
    "most_sig = pd.read_table(fn, index_col=0)\n",
    "most_sig = most_sig.join(qvalues)\n",
    "sig = most_sig[most_sig.sig_gene]\n",
    "\n",
    "fn = os.path.join(ciepy.root, 'output', 'functional_annotation_analysis',\n",
    "                  'encode_stem_cell_chip_seq.tsv')\n",
    "encode_chip_seq = pd.read_table(fn, index_col=0)\n",
    "\n",
    "gene_info = pd.read_table(cpy.gencode_gene_info, index_col=0)"
   ]
  },
  {
   "cell_type": "code",
   "execution_count": 4,
   "metadata": {
    "collapsed": true
   },
   "outputs": [],
   "source": [
    "import urllib2\n",
    "import zlib\n",
    "from StringIO import StringIO\n",
    "\n",
    "def read_gzipped_text_url(url):\n",
    "    \"\"\"Read a gzipped text file from a URL and return \n",
    "    contents as a string.\"\"\"\n",
    "    # Create a opener\n",
    "    opener = urllib2.build_opener() \n",
    "\n",
    "    request = urllib2.Request(url)\n",
    "    request.add_header('Accept-encoding', 'gzip')\n",
    "\n",
    "    # Fetch the gzip filer\n",
    "    respond = opener.open(request)\n",
    "    compressedData = respond.read()\n",
    "    respond.close()\n",
    "\n",
    "    opener.close()\n",
    "\n",
    "    # Extract data and save to text file\n",
    "    compressedDataBuf = StringIO(compressedData)\n",
    "    d = zlib.decompressobj(16+zlib.MAX_WBITS)\n",
    "\n",
    "    buffer = compressedDataBuf.read(1024)\n",
    "    #saveFile = open('/tmp/test.txt', \"wb\")\n",
    "    s = []\n",
    "    while buffer:\n",
    "        s.append(d.decompress(buffer))\n",
    "        buffer = compressedDataBuf.read(1024)\n",
    "    s = ''.join(s)\n",
    "    return s"
   ]
  },
  {
   "cell_type": "markdown",
   "metadata": {},
   "source": [
    "The columns in the Kheradpour file are ACGT."
   ]
  },
  {
   "cell_type": "code",
   "execution_count": 6,
   "metadata": {
    "collapsed": false
   },
   "outputs": [],
   "source": [
    "key = []\n",
    "tf = []\n",
    "cell_line = []\n",
    "source = []\n",
    "length = []\n",
    "with open(cpy.kheradpour_motifs) as f:\n",
    "    lines = f.read()\n",
    "m = lines.split('>')[1:]\n",
    "m = [x.split('\\n')[:-1] for x in m]\n",
    "matrices = {}\n",
    "for x in m:\n",
    "    k = x[0].split()[0]\n",
    "    key.append(k)\n",
    "    if 'transfac' in x[0]:\n",
    "        tf.append(x[0].split()[1].split('_')[0].upper())\n",
    "        cell_line.append(np.nan)\n",
    "        source.append('transfac')\n",
    "    elif 'jolma' in x[0]:\n",
    "        tf.append(x[0].split()[1].split('_')[0].upper())\n",
    "        cell_line.append(np.nan)\n",
    "        source.append('jolma')\n",
    "    elif 'jaspar' in x[0]:\n",
    "        tf.append(x[0].split()[1].split('_')[0].upper())\n",
    "        cell_line.append(np.nan)\n",
    "        source.append('jaspar')\n",
    "    elif 'bulyk' in x[0]:\n",
    "        tf.append(x[0].split()[1].split('_')[0].upper())\n",
    "        cell_line.append(np.nan)\n",
    "        source.append('bulyk')\n",
    "    else:\n",
    "        tf.append(x[0].split()[1].split('_')[0].upper())\n",
    "        cell_line.append(x[0].split()[1].split('_')[1])\n",
    "        source.append('encode')\n",
    "    t = pd.DataFrame([y.split() for y in x[1:]],\n",
    "                     columns=['base', 'A', 'C', 'G', 'T'])\n",
    "    t.index = t.base\n",
    "    t = t.drop('base', axis=1)\n",
    "    t = t.convert_objects(convert_numeric=True)\n",
    "    matrices[k] = t\n",
    "    length.append(t.shape[0])\n",
    "\n",
    "motif_info = pd.DataFrame({'tf': tf, 'cell_line': cell_line, 'source': source, \n",
    "                           'length': length}, index=key)"
   ]
  },
  {
   "cell_type": "code",
   "execution_count": 7,
   "metadata": {
    "collapsed": false
   },
   "outputs": [],
   "source": [
    "lines = (sig.chrom + '\\t' + (sig.coord - 1).astype(str) + \n",
    "         '\\t' + sig.coord.astype(str) + '\\t' + sig.chrom +\n",
    "         ':' + sig.coord.astype(str))\n",
    "lines = lines.drop_duplicates()\n",
    "sig_bt = pbt.BedTool('\\n'.join(lines + '\\n'), from_string=True)\n",
    "m = max([x.shape[0] for x in matrices.values()])\n",
    "sig_bt = sig_bt.slop(l=m, r=m, g=pbt.genome_registry.hg19)\n",
    "seqs = sig_bt.sequence(fi=cpy.hg19)\n",
    "sig_seqs = [x.strip() for x in open(seqs.seqfn).readlines()]\n",
    "sig_seqs = pd.Series(sig_seqs[1::2], index=[x[1:] for x in sig_seqs[0::2]])\n",
    "sig_seqs = sig_seqs.apply(lambda x: x.upper())"
   ]
  },
  {
   "cell_type": "code",
   "execution_count": 8,
   "metadata": {
    "collapsed": false
   },
   "outputs": [],
   "source": [
    "snvs = sig[['chrom', 'coord', 'loc', 'marker_id']]\n",
    "snvs.index = snvs['loc'].values\n",
    "snvs = snvs.drop_duplicates()\n",
    "snvs['ref'] = snvs.marker_id.apply(lambda x: x.split('_')[1].split('/')[0])\n",
    "snvs['alt'] = snvs.marker_id.apply(lambda x: x.split('_')[1].split('/')[1])\n",
    "\n",
    "snvs['interval'] = ''\n",
    "snvs['seq'] = ''\n",
    "snvs['alt_seq'] = ''\n",
    "for i in sig_seqs.index:\n",
    "    chrom, start, end = cpb.general.parse_region(i)\n",
    "    k = '{}:{}'.format(chrom, int(end) - m)\n",
    "    snvs.ix[k, 'interval'] = i\n",
    "    snvs.ix[k, 'seq'] = sig_seqs[i]\n",
    "    ref, alt = snvs.ix[k, ['ref', 'alt']]\n",
    "    assert sig_seqs[i][m] == ref\n",
    "    snvs.ix[k, 'alt_seq'] = sig_seqs[i][0:m] + alt + sig_seqs[i][m + 1:]"
   ]
  },
  {
   "cell_type": "markdown",
   "metadata": {
    "collapsed": true
   },
   "source": [
    "I'm going to choose a representative motif for each TF. I'll preferentially choose\n",
    "the motifs from H1-hESC experiments."
   ]
  },
  {
   "cell_type": "code",
   "execution_count": 9,
   "metadata": {
    "collapsed": false
   },
   "outputs": [],
   "source": [
    "a = motif_info[motif_info.tf.apply(lambda x: x in encode_chip_seq.target.values)]\n",
    "b = a[a.cell_line == 'H1-hESC']\n",
    "b = b.drop_duplicates(subset='tf')\n",
    "a = a[a.cell_line != 'H1-hESC']\n",
    "a = a[a.tf.apply(lambda x: x not in b.tf.values)]\n",
    "a['so'] = a.source.replace({'jolma': 0, 'bulyk': 1, 'transfac': 2, \n",
    "                            'jaspar': 3, 'encode': 4})\n",
    "a = a.sort(columns='so')\n",
    "a = a.drop_duplicates(subset='tf').drop('so', axis=1)\n",
    "motif_info = pd.concat([b, a])\n",
    "motif_info.to_csv(os.path.join(outdir, 'motif_info.tsv'), sep='\\t')"
   ]
  },
  {
   "cell_type": "code",
   "execution_count": 10,
   "metadata": {
    "collapsed": true
   },
   "outputs": [],
   "source": [
    "encode_chip_seq = encode_chip_seq[encode_chip_seq.target.apply(lambda x: x in motif_info.tf.values)]\n",
    "encode_chip_seq = encode_chip_seq.drop_duplicates(subset='target')"
   ]
  },
  {
   "cell_type": "markdown",
   "metadata": {},
   "source": [
    "There are a few TF ChIP-seq datasets for which I don't have motifs. I can't find\n",
    "them by hand in the Kheradpour data either. I'll skip these for now."
   ]
  },
  {
   "cell_type": "code",
   "execution_count": 11,
   "metadata": {
    "collapsed": true
   },
   "outputs": [],
   "source": [
    "lines = (sig.chrom + '\\t' + (sig.coord - 1).astype(str) + \n",
    "         '\\t' + sig.coord.astype(str) + '\\t' + sig.chrom +\n",
    "         ':' + sig.coord.astype(str))\n",
    "lines = lines.drop_duplicates()\n",
    "sig_bt = pbt.BedTool('\\n'.join(lines + '\\n'), from_string=True)\n",
    "sig_bt = sig_bt.sort()"
   ]
  },
  {
   "cell_type": "code",
   "execution_count": 13,
   "metadata": {
    "collapsed": false
   },
   "outputs": [],
   "source": [
    "snvs_tf = pd.DataFrame(False, index=snvs.index, columns=encode_chip_seq.target)\n",
    "for i in encode_chip_seq.index:\n",
    "    c = encode_chip_seq.ix[i, 'target']\n",
    "    snvs_tf[c] = False\n",
    "    bt = pbt.BedTool(read_gzipped_text_url(encode_chip_seq.ix[i, 'narrowPeak_url']), \n",
    "                     from_string=True)\n",
    "    bt = bt.sort()\n",
    "    res = sig_bt.intersect(bt, sorted=True, wo=True)\n",
    "    for r in res:\n",
    "        snvs_tf.ix['{}:{}'.format(r.chrom, r.end), c] = True"
   ]
  },
  {
   "cell_type": "code",
   "execution_count": 14,
   "metadata": {
    "collapsed": false
   },
   "outputs": [],
   "source": [
    "snv_motifs = {}\n",
    "for i in snvs_tf[snvs_tf.sum(axis=1) > 0].index:\n",
    "    se = snvs_tf.ix[i]\n",
    "    se = se[se]\n",
    "    keys = motif_info[motif_info.tf.apply(lambda x: x in se.index)].index\n",
    "    ms = [matrices[x].T.values.tolist() for x in keys]\n",
    "    # seq_res is a dict whose keys are motif names and whose values are lists \n",
    "    # of the hits of that motif. Each hit is a tuple of (pos, score). \n",
    "    seq_res = MOODS.search(snvs.ix[i, 'seq'], ms, 0.001, both_strands=True, \n",
    "                           bg=[0.25, 0.25, 0.25, 0.25])\n",
    "    seq_mres = dict(zip(keys, seq_res))\n",
    "    alt_seq_res = MOODS.search(snvs.ix[i, 'alt_seq'], ms, 0.001, both_strands=True, \n",
    "                               bg=[0.25, 0.25, 0.25, 0.25])\n",
    "    alt_seq_mres = dict(zip(keys, alt_seq_res))\n",
    "    sp = len(snvs.ix[i, 'seq']) / 2\n",
    "    if seq_mres != alt_seq_mres:\n",
    "        for k in seq_mres.keys():\n",
    "            # Remove motifs where all the hits have the same score.\n",
    "            if seq_mres[k] == alt_seq_mres[k]:\n",
    "                seq_mres.pop(k)\n",
    "                alt_seq_mres.pop(k)\n",
    "            else:\n",
    "                # Remove individual hits that have the same score for both sequences.\n",
    "                shared = set(seq_mres[k]) & set(alt_seq_mres)\n",
    "                seq_mres[k] = [x for x in seq_mres[k] if x not in shared]\n",
    "                alt_seq_mres[k] = [x for x in alt_seq_mres[k] if x not in shared]\n",
    "                a = seq_mres[k]\n",
    "                to_remove = []\n",
    "                for v in a:\n",
    "                    start = v[0]\n",
    "                    if start < 0:\n",
    "                        start = start + len(snvs.ix[i, 'seq'])\n",
    "                    if not start <= sp < start + motif_info.ix[k, 'length']:\n",
    "                        to_remove.append(v)\n",
    "                for v in to_remove:\n",
    "                    a.remove(v)\n",
    "                seq_mres[k] = a\n",
    "                a = alt_seq_mres[k]\n",
    "                to_remove = []\n",
    "                for v in a:\n",
    "                    start = v[0]\n",
    "                    if start < 0:\n",
    "                        start = start + len(snvs.ix[i, 'seq'])\n",
    "                    if not start <= sp < start + motif_info.ix[k, 'length']:\n",
    "                        to_remove.append(v)\n",
    "                for v in to_remove:\n",
    "                    a.remove(v)\n",
    "                alt_seq_mres[k] = a\n",
    "        snv_motifs[i] = [seq_mres, alt_seq_mres]"
   ]
  },
  {
   "cell_type": "code",
   "execution_count": 15,
   "metadata": {
    "collapsed": true
   },
   "outputs": [],
   "source": [
    "def plot_tf_disruption(m, ref, alt, fn, title=None):\n",
    "    \"\"\"m is the PWM, ref is the ref sequence, alt is the alt sequence\"\"\"\n",
    "    k = 'SIX5_disc2'\n",
    "    alphabet = logo.corebio.seq.unambiguous_dna_alphabet\n",
    "    prior = [0.25, 0.25, 0.25, 0.25]\n",
    "    counts = m.values\n",
    "    assert counts.shape[1] == 4\n",
    "    assert len(ref) == len(alt) == counts.shape[0]\n",
    "    ref_counts = []\n",
    "    for t in ref:\n",
    "        ref_counts.append([int(t.upper() == 'A'), int(t.upper() == 'C'),\n",
    "                           int(t.upper() == 'G'), int(t.upper() == 'T')])\n",
    "    alt_counts = []\n",
    "    for t in alt:\n",
    "        alt_counts.append([int(t.upper() == 'A'), int(t.upper() == 'C'),\n",
    "                           int(t.upper() == 'G'), int(t.upper() == 'T')])\n",
    "    counts = np.concatenate([counts, ref_counts, alt_counts])\n",
    "    data = logo.LogoData.from_counts(alphabet, counts, prior=None)\n",
    "    fout = open(fn, 'w')\n",
    "    options = logo.LogoOptions()\n",
    "    options.fineprint = ''\n",
    "    if title:\n",
    "        options.logo_title = title\n",
    "    else:\n",
    "        options.logo_title = ''\n",
    "    options.stacks_per_line = m.shape[0]\n",
    "    options.show_xaxis = False\n",
    "    options.show_yaxis = False\n",
    "    options.color_scheme = logo.ColorScheme([logo.ColorGroup(\"G\", \"orange\"), \n",
    "                                             logo.ColorGroup(\"C\", \"blue\"),\n",
    "                                             logo.ColorGroup(\"A\", \"green\"),\n",
    "                                             logo.ColorGroup(\"T\", \"red\")])\n",
    "    logo_format = logo.LogoFormat(data, options)\n",
    "    fout.write(logo.png_print_formatter(data, logo_format))\n",
    "    #fout.write(logo.pdf_formatter(data, logo_format))\n",
    "    fout.close()\n",
    "    Image(filename=fn)"
   ]
  },
  {
   "cell_type": "code",
   "execution_count": 16,
   "metadata": {
    "collapsed": false
   },
   "outputs": [],
   "source": [
    "cpy.makedir(os.path.join(outdir, 'tf_plots'))\n",
    "for snv in snv_motifs.keys():\n",
    "    seq_mres, alt_seq_mres = snv_motifs[snv]\n",
    "    for k in seq_mres.keys():\n",
    "        pwm = matrices[k]\n",
    "        a = seq_mres[k]\n",
    "        b = alt_seq_mres[k]\n",
    "        starts = set([x[0] for x in a]) | set([x[0] for x in b])\n",
    "        for start in starts:\n",
    "            ref_seq = snvs.ix[snv, 'seq'][start: start + motif_info.ix[k, 'length']]\n",
    "            alt_seq = snvs.ix[snv, 'alt_seq'][start: start + motif_info.ix[k, 'length']]\n",
    "            if start < 0:\n",
    "                ref_seq = str(Seq(ref_seq).reverse_complement())\n",
    "                alt_seq = str(Seq(alt_seq).reverse_complement())\n",
    "            fn = os.path.join(outdir, 'tf_plots', '{}_{}_{}.png'.format(\n",
    "                snv.replace(':', '_'), k, str(start).replace('-', 'neg')))\n",
    "            plot_tf_disruption(pwm, ref_seq, alt_seq, fn)"
   ]
  },
  {
   "cell_type": "markdown",
   "metadata": {},
   "source": [
    "TODO: Sometimes there are differences in the motif score but I don't think they are significant.\n",
    "For instance, the variant will effect a base that isn't very important for the motif. Even if\n",
    "a base isn't important, as long as the nucleotide frequency is different for the two alleles in\n",
    "the PWM, the score will be different. I should probably come up with a cutoff for difference or \n",
    "a measurement of significance."
   ]
  },
  {
   "cell_type": "code",
   "execution_count": 29,
   "metadata": {
    "collapsed": false
   },
   "outputs": [
    {
     "data": {
      "text/html": [
       "<div>\n",
       "<table border=\"1\" class=\"dataframe\">\n",
       "  <thead>\n",
       "    <tr style=\"text-align: right;\">\n",
       "      <th></th>\n",
       "      <th>chrom</th>\n",
       "      <th>coord</th>\n",
       "      <th>loc</th>\n",
       "      <th>gene</th>\n",
       "      <th>marker_id</th>\n",
       "      <th>ns</th>\n",
       "      <th>ac</th>\n",
       "      <th>callrate</th>\n",
       "      <th>genocnt</th>\n",
       "      <th>maf</th>\n",
       "      <th>stat</th>\n",
       "      <th>pvalue</th>\n",
       "      <th>beta</th>\n",
       "      <th>sebeta</th>\n",
       "      <th>r2</th>\n",
       "      <th>pvalue_gene</th>\n",
       "      <th>qvalue_gene</th>\n",
       "      <th>sig_gene</th>\n",
       "    </tr>\n",
       "  </thead>\n",
       "  <tbody>\n",
       "    <tr>\n",
       "      <th>ENSG00000085449.10</th>\n",
       "      <td>chr2</td>\n",
       "      <td>224802504</td>\n",
       "      <td>chr2:224802504</td>\n",
       "      <td>ENSG00000085449.10</td>\n",
       "      <td>2:224802504_A/G_rs10191160</td>\n",
       "      <td>195</td>\n",
       "      <td>53</td>\n",
       "      <td>1</td>\n",
       "      <td>144/49/2</td>\n",
       "      <td>0.1359</td>\n",
       "      <td>11.6721</td>\n",
       "      <td>3.894000e-24</td>\n",
       "      <td>1.352</td>\n",
       "      <td>0.1159</td>\n",
       "      <td>0.4151</td>\n",
       "      <td>0.0001</td>\n",
       "      <td>0.000358</td>\n",
       "      <td>True</td>\n",
       "    </tr>\n",
       "  </tbody>\n",
       "</table>\n",
       "</div>"
      ],
      "text/plain": [
       "                   chrom      coord             loc                gene  \\\n",
       "ENSG00000085449.10  chr2  224802504  chr2:224802504  ENSG00000085449.10   \n",
       "\n",
       "                                     marker_id   ns  ac  callrate   genocnt  \\\n",
       "ENSG00000085449.10  2:224802504_A/G_rs10191160  195  53         1  144/49/2   \n",
       "\n",
       "                       maf     stat        pvalue   beta  sebeta      r2  \\\n",
       "ENSG00000085449.10  0.1359  11.6721  3.894000e-24  1.352  0.1159  0.4151   \n",
       "\n",
       "                    pvalue_gene  qvalue_gene sig_gene  \n",
       "ENSG00000085449.10       0.0001     0.000358     True  "
      ]
     },
     "execution_count": 29,
     "metadata": {},
     "output_type": "execute_result"
    }
   ],
   "source": [
    "most_sig[most_sig['loc'] == 'chr2:224802504']"
   ]
  },
  {
   "cell_type": "code",
   "execution_count": 32,
   "metadata": {
    "collapsed": false
   },
   "outputs": [
    {
     "data": {
      "text/plain": [
       "gene_name               WDFY1\n",
       "gene_type      protein_coding\n",
       "chrom                    chr2\n",
       "start               224720432\n",
       "end                 224810104\n",
       "strand                      -\n",
       "gene_status             KNOWN\n",
       "source                 HAVANA\n",
       "level                       1\n",
       "Name: ENSG00000085449.10, dtype: object"
      ]
     },
     "execution_count": 32,
     "metadata": {},
     "output_type": "execute_result"
    }
   ],
   "source": [
    "gene_info.ix['ENSG00000085449.10']"
   ]
  },
  {
   "cell_type": "code",
   "execution_count": 34,
   "metadata": {
    "collapsed": false
   },
   "outputs": [
    {
     "data": {
      "text/html": [
       "<div>\n",
       "<table border=\"1\" class=\"dataframe\">\n",
       "  <thead>\n",
       "    <tr style=\"text-align: right;\">\n",
       "      <th></th>\n",
       "      <th>gene_name</th>\n",
       "      <th>gene_type</th>\n",
       "      <th>chrom</th>\n",
       "      <th>start</th>\n",
       "      <th>end</th>\n",
       "      <th>strand</th>\n",
       "      <th>gene_status</th>\n",
       "      <th>source</th>\n",
       "      <th>level</th>\n",
       "    </tr>\n",
       "    <tr>\n",
       "      <th>gene_id</th>\n",
       "      <th></th>\n",
       "      <th></th>\n",
       "      <th></th>\n",
       "      <th></th>\n",
       "      <th></th>\n",
       "      <th></th>\n",
       "      <th></th>\n",
       "      <th></th>\n",
       "      <th></th>\n",
       "    </tr>\n",
       "  </thead>\n",
       "  <tbody>\n",
       "    <tr>\n",
       "      <th>ENSG00000141505.7</th>\n",
       "      <td>ASGR1</td>\n",
       "      <td>protein_coding</td>\n",
       "      <td>chr17</td>\n",
       "      <td>7076749</td>\n",
       "      <td>7082883</td>\n",
       "      <td>-</td>\n",
       "      <td>KNOWN</td>\n",
       "      <td>HAVANA</td>\n",
       "      <td>2</td>\n",
       "    </tr>\n",
       "  </tbody>\n",
       "</table>\n",
       "</div>"
      ],
      "text/plain": [
       "                  gene_name       gene_type  chrom    start      end strand  \\\n",
       "gene_id                                                                       \n",
       "ENSG00000141505.7     ASGR1  protein_coding  chr17  7076749  7082883      -   \n",
       "\n",
       "                  gene_status  source  level  \n",
       "gene_id                                       \n",
       "ENSG00000141505.7       KNOWN  HAVANA      2  "
      ]
     },
     "execution_count": 34,
     "metadata": {},
     "output_type": "execute_result"
    }
   ],
   "source": [
    "gene_info.ix[most_sig.ix[most_sig['loc'] == 'chr17:7036354', 'gene']]"
   ]
  },
  {
   "cell_type": "code",
   "execution_count": 35,
   "metadata": {
    "collapsed": false
   },
   "outputs": [
    {
     "data": {
      "text/html": [
       "<div>\n",
       "<table border=\"1\" class=\"dataframe\">\n",
       "  <thead>\n",
       "    <tr style=\"text-align: right;\">\n",
       "      <th></th>\n",
       "      <th>gene_name</th>\n",
       "      <th>gene_type</th>\n",
       "      <th>chrom</th>\n",
       "      <th>start</th>\n",
       "      <th>end</th>\n",
       "      <th>strand</th>\n",
       "      <th>gene_status</th>\n",
       "      <th>source</th>\n",
       "      <th>level</th>\n",
       "    </tr>\n",
       "    <tr>\n",
       "      <th>gene_id</th>\n",
       "      <th></th>\n",
       "      <th></th>\n",
       "      <th></th>\n",
       "      <th></th>\n",
       "      <th></th>\n",
       "      <th></th>\n",
       "      <th></th>\n",
       "      <th></th>\n",
       "      <th></th>\n",
       "    </tr>\n",
       "  </thead>\n",
       "  <tbody>\n",
       "    <tr>\n",
       "      <th>ENSG00000129116.13</th>\n",
       "      <td>PALLD</td>\n",
       "      <td>protein_coding</td>\n",
       "      <td>chr4</td>\n",
       "      <td>169418216</td>\n",
       "      <td>169849608</td>\n",
       "      <td>+</td>\n",
       "      <td>KNOWN</td>\n",
       "      <td>HAVANA</td>\n",
       "      <td>1</td>\n",
       "    </tr>\n",
       "  </tbody>\n",
       "</table>\n",
       "</div>"
      ],
      "text/plain": [
       "                   gene_name       gene_type chrom      start        end  \\\n",
       "gene_id                                                                    \n",
       "ENSG00000129116.13     PALLD  protein_coding  chr4  169418216  169849608   \n",
       "\n",
       "                   strand gene_status  source  level  \n",
       "gene_id                                               \n",
       "ENSG00000129116.13      +       KNOWN  HAVANA      1  "
      ]
     },
     "execution_count": 35,
     "metadata": {},
     "output_type": "execute_result"
    }
   ],
   "source": [
    "gene_info.ix[most_sig.ix[most_sig['loc'] == 'chr4:169762454', 'gene']]"
   ]
  },
  {
   "cell_type": "code",
   "execution_count": null,
   "metadata": {
    "collapsed": true
   },
   "outputs": [],
   "source": []
  }
 ],
 "metadata": {
  "kernelspec": {
   "display_name": "Python 2",
   "language": "python",
   "name": "python2"
  },
  "language_info": {
   "codemirror_mode": {
    "name": "ipython",
    "version": 2
   },
   "file_extension": ".py",
   "mimetype": "text/x-python",
   "name": "python",
   "nbconvert_exporter": "python",
   "pygments_lexer": "ipython2",
   "version": "2.7.10"
  }
 },
 "nbformat": 4,
 "nbformat_minor": 0
}
