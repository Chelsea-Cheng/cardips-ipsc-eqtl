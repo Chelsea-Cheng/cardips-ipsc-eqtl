{
 "cells": [
  {
   "cell_type": "markdown",
   "metadata": {
    "collapsed": true
   },
   "source": [
    "# Figure. peQTNs and GWAS    "
   ]
  },
  {
   "cell_type": "code",
   "execution_count": 1,
   "metadata": {
    "collapsed": true
   },
   "outputs": [],
   "source": [
    "import cPickle\n",
    "import glob\n",
    "import os\n",
    "import random\n",
    "import subprocess\n",
    "\n",
    "import cdpybio as cpb\n",
    "from ipyparallel import Client\n",
    "import matplotlib as mpl\n",
    "import matplotlib.gridspec as gridspec\n",
    "import matplotlib.pyplot as plt\n",
    "import numpy as np\n",
    "import pandas as pd\n",
    "import pybedtools as pbt\n",
    "from scipy.stats import fisher_exact\n",
    "import seaborn as sns\n",
    "import tabix\n",
    "import vcf as pyvcf\n",
    "import weblogolib as logo\n",
    "\n",
    "import cardipspy as cpy\n",
    "import ciepy\n",
    "\n",
    "%matplotlib inline\n",
    "%load_ext rpy2.ipython\n",
    "\n",
    "dy_name = 'figure_peqtns_and_gwas'\n",
    "\n",
    "import socket\n",
    "if socket.gethostname() == 'fl-hn1' or socket.gethostname() == 'fl-hn2':\n",
    "    dy = os.path.join(ciepy.root, 'sandbox', dy_name)\n",
    "    cpy.makedir(dy)\n",
    "    pbt.set_tempdir(dy)\n",
    "    \n",
    "outdir = os.path.join(ciepy.root, 'output', dy_name)\n",
    "cpy.makedir(outdir)\n",
    "\n",
    "private_outdir = os.path.join(ciepy.root, 'private_output', dy_name)\n",
    "cpy.makedir(private_outdir)"
   ]
  },
  {
   "cell_type": "code",
   "execution_count": 2,
   "metadata": {
    "collapsed": true
   },
   "outputs": [],
   "source": [
    "sns.set_style('whitegrid')"
   ]
  },
  {
   "cell_type": "markdown",
   "metadata": {},
   "source": [
    "Each figure should be able to fit on a single 8.5 x 11 inch page. Please do not send figure panels as individual files. We use three standard widths for figures: 1 column, 85 mm; 1.5 column, 114 mm; and 2 column, 174 mm (the full width of the page). Although your figure size may be reduced in the print journal, please keep these widths in mind. For Previews and other three-column formats, these widths are also applicable, though the width of a single column will be 55 mm."
   ]
  },
  {
   "cell_type": "code",
   "execution_count": 3,
   "metadata": {
    "collapsed": true
   },
   "outputs": [],
   "source": [
    "fn = os.path.join(ciepy.root, 'output', 'fine_mapping', 'no_cnv_nmd_vars_gv.tsv')\n",
    "gv = pd.read_table(fn, index_col=0)\n",
    "\n",
    "fn = os.path.join(ciepy.root, 'output', 'fine_mapping', 'peqtns.tsv')\n",
    "peqtns = pd.read_table(fn, index_col=0)\n",
    "\n",
    "fn = os.path.join(ciepy.root, 'output', 'gwas_analysis', 'pe_no_hla_grasp_counts.tsv')\n",
    "grasp_counts = pd.read_table(fn, index_col=0)\n",
    "\n",
    "fn = os.path.join(ciepy.root, 'output', 'gwas_analysis', 'grasp_results.tsv')\n",
    "grasp_res = pd.read_table(fn, index_col=0)\n",
    "#grasp_res['phenotype'] = grasp_res.phenotype.apply(lambda x: x.split(' (')[0])\n",
    "\n",
    "grasp_counts.index = grasp_res.ix[grasp_counts.index, 'phenotype']\n",
    "grasp_res.index = grasp_res.phenotype\n",
    "grasp_res = grasp_res.ix[[x for x in grasp_res.index if 'xpression' not in x]]"
   ]
  },
  {
   "cell_type": "code",
   "execution_count": 4,
   "metadata": {
    "collapsed": true
   },
   "outputs": [],
   "source": [
    "fn = os.path.join(ciepy.root, 'output', 'fine_mapping', 'gene_variants_annotated.pickle')\n",
    "gene_variant_pairs_annotated = pd.read_pickle(fn)\n",
    "\n",
    "fn = os.path.join(ciepy.root, 'output', 'fine_mapping', 'tf_disruption.tsv')\n",
    "tf_disrupt = pd.read_table(fn, index_col=0)\n",
    "\n",
    "fn = os.path.join(ciepy.root, 'output', 'fine_mapping', 'motif_disruption.tsv')\n",
    "motif_disrupt = pd.read_table(fn, index_col=0)\n",
    "\n",
    "gene_info = pd.read_table(cpy.gencode_gene_info, index_col=0)"
   ]
  },
  {
   "cell_type": "markdown",
   "metadata": {},
   "source": [
    "## POU5F1 Processing "
   ]
  },
  {
   "cell_type": "code",
   "execution_count": 5,
   "metadata": {
    "collapsed": true
   },
   "outputs": [],
   "source": [
    "chrom = 'chr6'\n",
    "start = 31110081\n",
    "end = 31164667"
   ]
  },
  {
   "cell_type": "code",
   "execution_count": 6,
   "metadata": {
    "collapsed": false
   },
   "outputs": [
    {
     "data": {
      "text/plain": [
       "204442      58\n",
       "204448   -1682\n",
       "204473     328\n",
       "Name: tss_dist, dtype: float64"
      ]
     },
     "execution_count": 6,
     "metadata": {},
     "output_type": "execute_result"
    }
   ],
   "source": [
    "tfd = gene_variant_pairs_annotated[gene_variant_pairs_annotated.gene_name == 'POU5F1']\n",
    "tfd = tfd[tfd.tf_disrupt]\n",
    "tfd.tss_dist"
   ]
  },
  {
   "cell_type": "code",
   "execution_count": 7,
   "metadata": {
    "collapsed": true
   },
   "outputs": [],
   "source": [
    "tfd = gene_variant_pairs_annotated[gene_variant_pairs_annotated.gene_name == 'POU5F1']\n",
    "tfd = tfd[tfd.tf_disrupt]\n",
    "tfd = tfd[tfd.H1_roadmap_dnase]"
   ]
  },
  {
   "cell_type": "code",
   "execution_count": 8,
   "metadata": {
    "collapsed": false
   },
   "outputs": [
    {
     "data": {
      "text/plain": [
       "204448    chr6:31140151-31140152\n",
       "Name: location, dtype: object"
      ]
     },
     "execution_count": 8,
     "metadata": {},
     "output_type": "execute_result"
    }
   ],
   "source": [
    "tfd.location"
   ]
  },
  {
   "cell_type": "code",
   "execution_count": 9,
   "metadata": {
    "collapsed": false
   },
   "outputs": [
    {
     "data": {
      "text/plain": [
       "204448    1682\n",
       "Name: tss_dist, dtype: float64"
      ]
     },
     "execution_count": 9,
     "metadata": {},
     "output_type": "execute_result"
    }
   ],
   "source": [
    "tfd.tss_dist.abs()"
   ]
  },
  {
   "cell_type": "code",
   "execution_count": 10,
   "metadata": {
    "collapsed": false
   },
   "outputs": [
    {
     "data": {
      "text/plain": [
       "TATA    True\n",
       "Name: chr6:31138376-31138377, dtype: bool"
      ]
     },
     "execution_count": 10,
     "metadata": {},
     "output_type": "execute_result"
    }
   ],
   "source": [
    "tf_disrupt.ix['chr6:31138376-31138377'][tf_disrupt.ix['chr6:31138376-31138377']]"
   ]
  },
  {
   "cell_type": "code",
   "execution_count": 11,
   "metadata": {
    "collapsed": false
   },
   "outputs": [
    {
     "name": "stdout",
     "output_type": "stream",
     "text": [
      "chr6:31138376-31138377: TATA_disc8\n",
      "chr6:31140151-31140152: TATA_disc7\n",
      "chr6:31138106-31138107: TATA_disc4\n"
     ]
    }
   ],
   "source": [
    "tfd = gene_variant_pairs_annotated[gene_variant_pairs_annotated.gene_name == 'POU5F1']\n",
    "tfd = tfd[tfd.tf_disrupt]\n",
    "#tfd = tfd[tfd.H1_roadmap_dnase]\n",
    "tfd = tfd[(tfd.start > start) & (tfd.end < end)]\n",
    "hstarts = list(set(tfd.start.values))\n",
    "se = tfd[[x for x in tfd.columns if 'motif_disrupted' in x]].sum()\n",
    "se = se[se == 1]\n",
    "t = motif_disrupt.ix[tfd.location]\n",
    "for i in t.index:\n",
    "    se = t.ix[i]\n",
    "    print('{}: {}'.format(i, ','.join(se[se].index)))"
   ]
  },
  {
   "cell_type": "code",
   "execution_count": 12,
   "metadata": {
    "collapsed": true
   },
   "outputs": [],
   "source": [
    "taf1_color = \"#DB7093\"\n",
    "dnase_color = \"#663399\"\n",
    "\n",
    "legend_colors = [\n",
    "    np.array((255,0,0)) / 255.,\n",
    "    np.array((255,105,105)) / 255.,\n",
    "    np.array((250,202,0)) / 255.,\n",
    "    np.array((255,252,4)) / 255.,\n",
    "    np.array((10,190,254)) / 255.,\n",
    "    np.array((0,176,80)) / 255.,\n",
    "    np.array((0,176,80)) / 255.,\n",
    "    np.array((153,255,102)) / 255.,\n",
    "    np.array((245,245,245)) / 255.,\n",
    "    ]\n",
    "ind = [\n",
    "    'Active promoter',\n",
    "    'Weak promoter',\n",
    "    'Strong enhancer',\n",
    "    'Weak/poised enhancer',\n",
    "    'Insulator',\n",
    "    'Transcriptional transition',\n",
    "    'Transcriptional elongation',\n",
    "    'Weak transcribed',\n",
    "    'Heterochromatin',\n",
    "]\n",
    "legend_colors = pd.Series(legend_colors, index=ind)"
   ]
  },
  {
   "cell_type": "markdown",
   "metadata": {},
   "source": [
    "## Paper"
   ]
  },
  {
   "cell_type": "code",
   "execution_count": 13,
   "metadata": {
    "collapsed": false
   },
   "outputs": [],
   "source": [
    "a = pd.Series(gv['q.value_maurano'].values, index=gv.location)\n",
    "b = pd.Series(peqtns['q.value_maurano'].values, index=peqtns.location)\n",
    "a = a.drop(b.index)\n",
    "ana = a.isnull().sum()\n",
    "asig = sum(a.dropna() < 0.05)\n",
    "ansig = a.dropna().shape[0] - asig\n",
    "bna = b.isnull().sum()\n",
    "bsig = sum(b.dropna() < 0.05)\n",
    "bnsig = b.dropna().shape[0] - bsig"
   ]
  },
  {
   "cell_type": "code",
   "execution_count": 145,
   "metadata": {
    "collapsed": false
   },
   "outputs": [
    {
     "data": {
      "image/png": "[encoded data removed]",
      "text/plain": [
       "<matplotlib.figure.Figure at 0x7f2633624ed0>"
      ]
     },
     "metadata": {},
     "output_type": "display_data"
    }
   ],
   "source": [
    "fig = plt.figure(figsize=(4.48, 8), dpi=300)\n",
    "\n",
    "gs = gridspec.GridSpec(1, 1)\n",
    "ax = fig.add_subplot(gs[0, 0])\n",
    "ax.text(0, 1, 'Figure 3',\n",
    "        size=16, va='top')\n",
    "ciepy.clean_axis(ax)\n",
    "ax.set_xticks([])\n",
    "ax.set_yticks([])\n",
    "gs.tight_layout(fig, rect=[0, 0.92, 1, 1])\n",
    "\n",
    "# POU5F1 example and legend\n",
    "# Leave space for it (~3 inches tall)\n",
    "gs = gridspec.GridSpec(1, 1)\n",
    "ax = fig.add_subplot(gs[0, 0])\n",
    "ciepy.clean_axis(ax)\n",
    "rects = []\n",
    "labels = []\n",
    "for k in legend_colors.index:\n",
    "    labels.append(k)\n",
    "    rects.append(plt.Rectangle((0, 0), 0, 0, fc=legend_colors[k]))\n",
    "lgd = ax.legend(rects, labels, loc='center', prop={'size':7}, ncol=3)\n",
    "for p in lgd.get_patches():\n",
    "    p.set_linewidth(0)\n",
    "gs.tight_layout(fig, rect=[0, 0.35, 1, 0.4])\n",
    "\n",
    "# Number of peQTNs\n",
    "gs = gridspec.GridSpec(1, 1)\n",
    "ax = fig.add_subplot(gs[0, 0])\n",
    "vc = peqtns.gene_id.value_counts().value_counts().sort_index()\n",
    "ind = vc[vc.index > 5].index\n",
    "vc['>5'] = vc[ind].sum()\n",
    "vc = vc.drop(ind)\n",
    "vc.plot(kind='bar', ax=ax, color='lightgrey')\n",
    "plt.ylabel('Number of eGenes', fontsize=8)\n",
    "plt.xlabel('Number of peQTNs per gene', fontsize=8)\n",
    "for tick in ax.get_xticklabels() + ax.get_yticklabels():\n",
    "    tick.set_fontsize(8)\n",
    "for tick in ax.get_xticklabels():\n",
    "    tick.set_rotation(0)\n",
    "ax.grid(axis='x')\n",
    "gs.tight_layout(fig, rect=[0.5, 0.73, 1, 0.95])\n",
    "\n",
    "# Number of DHSs overlapped\n",
    "gs = gridspec.GridSpec(1, 1)\n",
    "ax = fig.add_subplot(gs[0, 0])\n",
    "vc = peqtns.drop_duplicates(subset='location').roadmap_dnase_num.value_counts().sort_index()\n",
    "vc.index = [int(x) for x in vc.index]\n",
    "vc.plot(kind='bar', ax=ax, color='lightgrey')\n",
    "for tick in ax.get_xticklabels() + ax.get_yticklabels():\n",
    "    tick.set_fontsize(8)\n",
    "for tick in ax.get_xticklabels():\n",
    "    tick.set_rotation(0)\n",
    "ax.grid(axis='x')\n",
    "ax.set_xlabel('Number of stem cell lines', fontsize=8)\n",
    "ax.set_ylabel('Number of peQTNs', fontsize=8)\n",
    "ax.yaxis.set_major_formatter(ciepy.comma_format)\n",
    "gs.tight_layout(fig, rect=[0, 0.73, 0.5, 0.95])\n",
    "\n",
    "# GWAS enrichment\n",
    "gs = gridspec.GridSpec(1, 1)\n",
    "ax = fig.add_subplot(gs[0, 0])\n",
    "t = grasp_res[(grasp_res[['lead_pvalue', 'pe_pvalue', 'pe_no_hla_pvalue']] < 0.05).sum(axis=1) > 0]\n",
    "t = t[['lead_odds', 'pe_odds', 'pe_no_hla_odds']]\n",
    "t['odds_sum'] = t.sum(axis=1)\n",
    "t.sort_values(by='odds_sum', inplace=True)\n",
    "t = t.drop('odds_sum', axis=1)\n",
    "t.columns = ['Lead SNVs', 'peQTNs', 'peQTNs (no HLA)']\n",
    "t.plot(kind='barh', ax=ax, legend=None, color=sns.color_palette('colorblind'), lw=0)\n",
    "ax.legend(fontsize=6, loc='lower right', frameon=True, fancybox=True)\n",
    "for i in range(t.shape[0])[::2]:\n",
    "    ax.axhspan(-0.5 + i, 0.5 + i, facecolor='grey', alpha=0.2, lw=0)\n",
    "for t in ax.get_xticklabels() + ax.get_yticklabels():\n",
    "    t.set_fontsize(7)\n",
    "ax.set_xlabel('Odds ratio', fontsize=8)\n",
    "ax.set_ylabel('')\n",
    "ax.grid(axis='y')\n",
    "gs.tight_layout(fig, rect=[0, 0, 1, 0.35])\n",
    "\n",
    "t = fig.text(0.005, 0.925, 'A', weight='bold', \n",
    "             size=12)\n",
    "t = fig.text(0.5, 0.925, 'B', weight='bold', \n",
    "             size=12)\n",
    "t = fig.text(0.005, 0.72, 'C', weight='bold', \n",
    "             size=12)\n",
    "t = fig.text(0.005, 0.33, 'D', weight='bold', \n",
    "             size=12)\n",
    "\n",
    "plt.savefig(os.path.join(outdir, 'peqtns_gwas_skeleton.pdf'))\n",
    "#plt.savefig(os.path.join(outdir, 'peqtns_gwas.png'), dpi=300)"
   ]
  },
  {
   "cell_type": "raw",
   "metadata": {
    "collapsed": false
   },
   "source": [
    "fig,ax = plt.subplots(1, 1)\n",
    "t = grasp_res[(grasp_res[['lead_pvalue', 'pe_pvalue', 'pe_no_hla_pvalue']] < 0.05).sum(axis=1) > 0]\n",
    "t = t.sort_values(by=['lead_pvalue', 'pe_pvalue', 'pe_no_hla_pvalue'], ascending=False)\n",
    "t = t[['lead_pvalue', 'pe_pvalue', 'pe_no_hla_pvalue']]\n",
    "t.columns = ['Lead SNVs', 'peQTNs', 'peQTNs (no HLA)']\n",
    "(-1 * np.log10(t)).plot(\n",
    "    kind='barh', ax=ax, legend=None, color=sns.color_palette('colorblind'), lw=0)\n",
    "ax.legend(fontsize=7, loc='center right', frameon=True, fancybox=True)\n",
    "for t in ax.get_xticklabels() + ax.get_yticklabels():\n",
    "    t.set_fontsize(8)\n",
    "ax.set_xlabel('$-\\log_{10}$ $p$-value', fontsize=8)\n",
    "ax.set_ylabel('')"
   ]
  },
  {
   "cell_type": "raw",
   "metadata": {
    "collapsed": false
   },
   "source": [
    "t = grasp_res[(grasp_res[['lead_odds', 'pe_odds', 'pe_no_hla_odds']] < 0.05).sum(axis=1) > 0]"
   ]
  },
  {
   "cell_type": "raw",
   "metadata": {
    "collapsed": false
   },
   "source": [
    "fig,ax = plt.subplots(1, 1)\n",
    "t = grasp_res[(grasp_res[['lead_pvalue', 'pe_pvalue', 'pe_no_hla_pvalue']] < 0.05).sum(axis=1) > 0]\n",
    "t = t[['lead_odds', 'pe_odds', 'pe_no_hla_odds']]\n",
    "t['odds_sum'] = t.sum(axis=1)\n",
    "t.sort_values(by='odds_sum', inplace=True)\n",
    "t = t.drop('odds_sum', axis=1)\n",
    "t.columns = ['Lead SNVs', 'peQTNs', 'peQTNs (no HLA)']\n",
    "t.plot(kind='barh', ax=ax, legend=None, color=sns.color_palette('colorblind'), lw=0)\n",
    "ax.legend(fontsize=7, loc='center right', frameon=True, fancybox=True)\n",
    "for t in ax.get_xticklabels() + ax.get_yticklabels():\n",
    "    t.set_fontsize(8)\n",
    "ax.set_xlabel('Odds ratio', fontsize=8)\n",
    "ax.set_ylabel('')\n",
    "ax.grid(axis='y')"
   ]
  },
  {
   "cell_type": "raw",
   "metadata": {
    "collapsed": false
   },
   "source": [
    "t = grasp_res[(grasp_res[['lead_pvalue', 'pe_pvalue', 'pe_no_hla_pvalue']] < 0.05).sum(axis=1) > 0]\n",
    "t = t[['lead_odds', 'pe_odds', 'pe_no_hla_odds']]\n",
    "t['odds_sum'] = t.sum(axis=1)\n",
    "t.sort_values(by='odds_sum', inplace=True)\n",
    "t = t.drop('odds_sum', axis=1)\n",
    "t.columns = ['Lead SNVs', 'peQTNs', 'peQTNs (no HLA)']\n",
    "t.columns.name = 'Variant Type'\n",
    "t = pd.DataFrame(t.stack(), columns=['OR'])\n",
    "t.reset_index(inplace=True)"
   ]
  },
  {
   "cell_type": "raw",
   "metadata": {
    "collapsed": false
   },
   "source": [
    "fig,ax = plt.subplots(1, 1)\n",
    "t = grasp_res[(grasp_res[['lead_pvalue', 'pe_pvalue', 'pe_no_hla_pvalue']] < 0.05).sum(axis=1) > 0]\n",
    "t = t[['lead_odds', 'pe_odds', 'pe_no_hla_odds']]\n",
    "t['odds_sum'] = t.sum(axis=1)\n",
    "t.sort_values(by='odds_sum', inplace=True)\n",
    "t = t.drop('odds_sum', axis=1)\n",
    "t.columns = ['Lead SNVs', 'peQTNs', 'peQTNs (no HLA)']\n",
    "t.plot(kind='barh', ax=ax, legend=None, color=sns.color_palette('colorblind'), lw=0)\n",
    "ax.legend(fontsize=7, loc='center right', frameon=True, fancybox=True)\n",
    "for i in range(t.shape[0])[::2]:\n",
    "    ax.axhspan(-0.5 + i, 0.5 + i, facecolor='grey', alpha=0.2, lw=0)\n",
    "for t in ax.get_xticklabels() + ax.get_yticklabels():\n",
    "    t.set_fontsize(8)\n",
    "ax.set_xlabel('Odds ratio', fontsize=8)\n",
    "ax.set_ylabel('')\n",
    "ax.grid(axis='y')"
   ]
  },
  {
   "cell_type": "raw",
   "metadata": {
    "collapsed": false
   },
   "source": [
    "t = grasp_res[(grasp_res[['lead_pvalue', 'pe_pvalue', 'pe_no_hla_pvalue']] < 0.05).sum(axis=1) > 0]\n",
    "t = t[['lead_odds', 'pe_odds', 'pe_no_hla_odds']]\n",
    "t['odds_sum'] = t.sum(axis=1)\n",
    "t.sort_values(by='odds_sum', inplace=True)\n",
    "t = t.drop('odds_sum', axis=1)\n",
    "t.columns = ['Lead SNVs', 'peQTNs', 'peQTNs (no HLA)']\n",
    "t.columns.name = 'Variant Type'\n",
    "t = pd.DataFrame(t.stack(), columns=['OR'])\n",
    "t.reset_index(inplace=True)\n",
    "ax = sns.stripplot(y='phenotype', x='OR', hue='Variant Type', data=t, orient='h')\n",
    "ax.legend(loc='upper right', frameon=True, fancybox=True)\n",
    "for i in range(t.shape[0])[::2]:\n",
    "    ax.axhspan(-0.5 + i, 0.5 + i, facecolor='grey', alpha=0.2, lw=0)"
   ]
  },
  {
   "cell_type": "markdown",
   "metadata": {},
   "source": [
    "### MED30 plot"
   ]
  },
  {
   "cell_type": "code",
   "execution_count": null,
   "metadata": {
    "collapsed": true
   },
   "outputs": [],
   "source": [
    "%%R\n",
    "\n",
    "suppressPackageStartupMessages(library(Gviz))\n",
    "suppressPackageStartupMessages(library(GenomicFeatures))"
   ]
  },
  {
   "cell_type": "code",
   "execution_count": 134,
   "metadata": {
    "collapsed": false
   },
   "outputs": [
    {
     "name": "stderr",
     "output_type": "stream",
     "text": [
      "/frazer01/home/cdeboever/software/anaconda/envs/cie/lib/python2.7/site-packages/IPython/kernel/__main__.py:13: SettingWithCopyWarning: \n",
      "A value is trying to be set on a copy of a slice from a DataFrame.\n",
      "Try using .loc[row_indexer,col_indexer] = value instead\n",
      "\n",
      "See the caveats in the documentation: http://pandas.pydata.org/pandas-docs/stable/indexing.html#indexing-view-versus-copy\n"
     ]
    }
   ],
   "source": [
    "gene_id = gene_info[gene_info.gene_name == 'MED30'].index[0]\n",
    "\n",
    "res_fns = glob.glob(os.path.join(ciepy.root, 'private_output', 'run_eqtl_analysis', 'eqtls01', \n",
    "                                 'gene_results', '*', 'ENS*.tsv'))\n",
    "res_fns = pd.Series(res_fns,\n",
    "                    index=[os.path.splitext(os.path.split(x)[1])[0] for x in res_fns])\n",
    "res = ciepy.read_emmax_output(res_fns[gene_id])\n",
    "res = res.sort_values('BEG')\n",
    "res = res.dropna(subset=['PVALUE'])\n",
    "\n",
    "grange = res[['BEG']]\n",
    "grange.columns = ['start']\n",
    "grange['end'] = grange['start'] + 1\n",
    "data = pd.DataFrame(-np.log10(res.PVALUE))\n",
    "data = pd.DataFrame([-np.log10(res.PVALUE), -np.log10(res.PVALUE)],\n",
    "                    index=['primary', 'primary_sig']).T\n",
    "t = gene_variant_pairs_annotated[gene_variant_pairs_annotated.gene_id == gene_id]\n",
    "data.index = res.MARKER_ID\n",
    "data.ix[t.marker_id, 'primary'] = np.nan\n",
    "data.ix[set(data.index) - set(t.marker_id), 'primary_sig'] = np.nan\n",
    "\n",
    "starts = res.BEG\n",
    "\n",
    "chrom = 'chr8'\n",
    "start = 118532965 - 5000\n",
    "end = 118552501 + 5000\n",
    "fontsize = 8"
   ]
  },
  {
   "cell_type": "code",
   "execution_count": 138,
   "metadata": {
    "collapsed": true
   },
   "outputs": [],
   "source": [
    "data['peqtn'] = np.nan\n",
    "data.ix['8:118532953_TG/T_rs148584171', 'peqtn'] = data.ix['8:118532953_TG/T_rs148584171', 'primary_sig']\n",
    "data.ix['8:118532953_TG/T_rs148584171', 'primary_sig'] = np.nan"
   ]
  },
  {
   "cell_type": "code",
   "execution_count": null,
   "metadata": {
    "collapsed": true
   },
   "outputs": [],
   "source": [
    "%%R -i data,grange,chrom,start,end,fontsize,starts,taf1_color,dnase_color,hstarts\n",
    "\n",
    "ideoTrack <- IdeogramTrack(\n",
    "    genome=\"hg19\", \n",
    "    fontsize=fontsize, \n",
    "    fontsize.legend=fontsize,\n",
    "    fontcolor='black', \n",
    "    cex=1, \n",
    "    cex.id=1, \n",
    "    cex.axis=1, \n",
    "    cex.title=1,\n",
    "    fontface=1, \n",
    "    fontface.title=1\n",
    ")\n",
    "\n",
    "gtrack <- GenomeAxisTrack(\n",
    "    col=\"black\", \n",
    "    cex=1, \n",
    "    fontsize=8, \n",
    "    col.id=\"black\", \n",
    "    fontcolor=\"black\", \n",
    "    fontface=1,\n",
    "    fontface.group=1,\n",
    "    lwd=1,\n",
    ")\n",
    "\n",
    "gr <- GRanges(\n",
    "    seqnames=chrom, \n",
    "    ranges=IRanges(start=starts, width=rep(1, length(starts))),\n",
    "    primary=data[\"primary\"],\n",
    "    psig=data[\"primary_sig\"],\n",
    "    peqtn=data['peqtn']\n",
    ")\n",
    "\n",
    "pvalTrack <- DataTrack(\n",
    "    gr,\n",
    "    groups=c(\"Not significant\", \"Significant\", 'peQTN'),\n",
    "    genome=\"hg19\", \n",
    "    type=\"p\", \n",
    "    alpha=0.75, \n",
    "    lwd=8,\n",
    "    name=\"-log10 p-value\", \n",
    "    fontsize=8,\n",
    "    fontcolor.legend='black', \n",
    "    col.axis='black', \n",
    "    col.title='black',\n",
    "    background.title='transparent', \n",
    "    cex=0.5, \n",
    "    cex.id=1, \n",
    "    cex.axis=1, \n",
    "    cex.title=1,\n",
    "    fontface=1, \n",
    "    fontface.title=1,\n",
    "    fontcolor.title=\"black\",\n",
    "    fontface.title=1, \n",
    "    alpha.title=1,\n",
    "    cex.legend=1,\n",
    "    fontcolor.legend=\"black\",\n",
    "    fontface.legend=1,\n",
    "    fontsize.legend=8,\n",
    ")\n",
    "\n",
    "biomTrack <- BiomartGeneRegionTrack(\n",
    "    genome=\"hg19\", \n",
    "    chromosome=chrom, \n",
    "    start=start, \n",
    "    end=end,\n",
    "    name=\"\", \n",
    "    fontsize=fontsize,\n",
    "    collapseTranscripts='meta',\n",
    "    fontcolor.legend='black', \n",
    "    col.axis='black', \n",
    "    col.title='black', \n",
    "    fontcolor.legend=\"black\",\n",
    "    background.title='transparent', \n",
    "    cex=1, \n",
    "    cex.id=1, \n",
    "    cex.axis=1, \n",
    "    cex.title=1,\n",
    "    fontface=1, \n",
    "    fontface.title=1, \n",
    "    geneSymbols=TRUE,\n",
    "    cex.group=1,\n",
    "    fontcolor.group=\"black\",\n",
    "    fontface.group=1,\n",
    "    fontface.title=1, \n",
    "    alpha.title=1,\n",
    "    lwd=0.8,\n",
    ")\n",
    "\n",
    "hmmTrack <- UcscTrack(\n",
    "    track=\"Broad ChromHMM\", \n",
    "    table=\"wgEncodeBroadHmmH1hescHMM\",\n",
    "    genome=\"hg19\", \n",
    "    chromosome=chrom,\n",
    "    from=start, \n",
    "    to=end, \n",
    "    trackType=\"AnnotationTrack\",\n",
    "    shape=\"box\",\n",
    "    start=\"chromStart\",\n",
    "    end=\"chromEnd\",\n",
    "    feature=\"itemRgb\", \n",
    "    id=\"name\", \n",
    "    collapse=FALSE,\n",
    "    stacking=\"dense\",\n",
    "    fontsize=7,\n",
    "    name=\"chromHMM\",\n",
    "    fontcolor.legend='black', \n",
    "    col.axis='black', \n",
    "    col.title='black',\n",
    "    background.title='transparent', \n",
    "    cex=1,\n",
    "    cex.id=1, \n",
    "    cex.axis=1, \n",
    "    cex.title=1,\n",
    "    fontface=1, \n",
    "    fontface.title=1,\n",
    "    lwd=0,\n",
    "    fontface=1, \n",
    "    fontface.title=1,\n",
    "    rotation.title=0\n",
    ")\n",
    "\n",
    "feat <- unique(feature(hmmTrack))\n",
    "featCol <- setNames(as.list(rgb(t(sapply(strsplit(feat, \",\"),\n",
    "as.numeric)), maxColorValue=255)), feat)\n",
    "displayPars(hmmTrack) <- featCol\n",
    "\n",
    "cebpbTrack <- UcscTrack(\n",
    "    track=\"Uniform TFBS\", \n",
    "    table=\"wgEncodeAwgTfbsSydhH1hescCebpbIggrabUniPk\",\n",
    "    genome=\"hg19\", \n",
    "    chromosome=chrom,\n",
    "    from=start, \n",
    "    to=end, \n",
    "    trackType=\"AnnotationTrack\",\n",
    "    shape=\"box\",\n",
    "    start=\"chromStart\",\n",
    "    end=\"chromEnd\",\n",
    "    feature=\"itemRgb\", \n",
    "    id=\"name\", \n",
    "    collapse=FALSE,\n",
    "    stacking=\"dense\",\n",
    "    fontsize=7,\n",
    "    name=\"CEBPB\",\n",
    "    fontcolor.legend='black', \n",
    "    col.axis='black', \n",
    "    col.title='black',\n",
    "    background.title='transparent', \n",
    "    cex=1,\n",
    "    cex.id=1, \n",
    "    cex.axis=1, \n",
    "    cex.title=1,\n",
    "    fontface=1, \n",
    "    fontface.title=1,\n",
    "    lwd=0,\n",
    "    fontface=1, \n",
    "    fontface.title=1,\n",
    "    rotation.title=0\n",
    ")\n",
    "\n",
    "dnaseTrack <- UcscTrack(\n",
    "    track=\"Uniform DNaseI HS\", \n",
    "    table=\"wgEncodeAwgDnaseUwdukeH1hescUniPk\",\n",
    "    genome=\"hg19\", \n",
    "    chromosome=chrom,\n",
    "    from=start, \n",
    "    to=end, \n",
    "    trackType=\"AnnotationTrack\",\n",
    "    shape=\"box\",\n",
    "    start=\"chromStart\",\n",
    "    end=\"chromEnd\",\n",
    "    feature=\"itemRgb\", \n",
    "    id=\"name\", \n",
    "    collapse=FALSE,\n",
    "    stacking=\"dense\",\n",
    "    fontsize=7,\n",
    "    name=\"DHS\",\n",
    "    fontcolor.legend='black', \n",
    "    col.axis='black', \n",
    "    col.title='black',\n",
    "    background.title='transparent', \n",
    "    cex=1,\n",
    "    cex.id=1, \n",
    "    cex.axis=1, \n",
    "    cex.title=1,\n",
    "    fontface=1, \n",
    "    fontface.title=1,\n",
    "    lwd=0,\n",
    "    fontface=1, \n",
    "    fontface.title=1,\n",
    "    rotation.title=0\n",
    ")\n",
    "\n",
    "hgr <- GRanges(\n",
    "    seqnames=\"chr6\", \n",
    "    ranges=IRanges(start=hstarts, width=rep(1, length(hstarts))),\n",
    "    )\n",
    "\n",
    "pvalHT <- HighlightTrack(\n",
    "    trackList=pvalTrack, \n",
    "    range=hgr,\n",
    "    alpha=0.5,\n",
    "    fill=NA)\n",
    "\n",
    "taf1Track = setPar(taf1Track, \"fill\", taf1_color)\n",
    "dnaseTrack = setPar(dnaseTrack, \"fill\", dnase_color)"
   ]
  },
  {
   "cell_type": "code",
   "execution_count": 129,
   "metadata": {
    "collapsed": false
   },
   "outputs": [],
   "source": [
    "%%R -i data,grange,chrom,start,end,fontsize,starts,taf1_color,dnase_color,hstarts\n",
    "\n",
    "ideoTrack <- IdeogramTrack(\n",
    "    genome=\"hg19\", \n",
    "    fontsize=fontsize, \n",
    "    fontsize.legend=fontsize,\n",
    "    fontcolor='black', \n",
    "    cex=1, \n",
    "    cex.id=1, \n",
    "    cex.axis=1, \n",
    "    cex.title=1,\n",
    "    fontface=1, \n",
    "    fontface.title=1\n",
    ")\n",
    "\n",
    "gtrack <- GenomeAxisTrack(\n",
    "    col=\"black\", \n",
    "    cex=1, \n",
    "    fontsize=8, \n",
    "    col.id=\"black\", \n",
    "    fontcolor=\"black\", \n",
    "    fontface=1,\n",
    "    fontface.group=1,\n",
    "    lwd=1,\n",
    ")\n",
    "\n",
    "gr <- GRanges(\n",
    "    seqnames=chrom, \n",
    "    ranges=IRanges(start=starts, width=rep(1, length(starts))),\n",
    "    primary=data[\"primary\"],\n",
    "    psig=data[\"primary_sig\"],\n",
    ")\n",
    "\n",
    "pvalTrack <- DataTrack(\n",
    "    gr,\n",
    "    groups=c(\"Not significant\", \"Significant\"),\n",
    "    genome=\"hg19\", \n",
    "    type=\"p\", \n",
    "    alpha=0.75, \n",
    "    lwd=8,\n",
    "    name=\"-log10 p-value\", \n",
    "    fontsize=8,\n",
    "    fontcolor.legend='black', \n",
    "    col.axis='black', \n",
    "    col.title='black',\n",
    "    background.title='transparent', \n",
    "    cex=0.5, \n",
    "    cex.id=1, \n",
    "    cex.axis=1, \n",
    "    cex.title=1,\n",
    "    fontface=1, \n",
    "    fontface.title=1,\n",
    "    fontcolor.title=\"black\",\n",
    "    fontface.title=1, \n",
    "    alpha.title=1,\n",
    "    cex.legend=1,\n",
    "    fontcolor.legend=\"black\",\n",
    "    fontface.legend=1,\n",
    "    fontsize.legend=8,\n",
    ")\n",
    "\n",
    "biomTrack <- BiomartGeneRegionTrack(\n",
    "    genome=\"hg19\", \n",
    "    chromosome=chrom, \n",
    "    start=start, \n",
    "    end=end,\n",
    "    name=\"\", \n",
    "    fontsize=fontsize,\n",
    "    collapseTranscripts='meta',\n",
    "    fontcolor.legend='black', \n",
    "    col.axis='black', \n",
    "    col.title='black', \n",
    "    fontcolor.legend=\"black\",\n",
    "    background.title='transparent', \n",
    "    cex=1, \n",
    "    cex.id=1, \n",
    "    cex.axis=1, \n",
    "    cex.title=1,\n",
    "    fontface=1, \n",
    "    fontface.title=1, \n",
    "    geneSymbols=TRUE,\n",
    "    cex.group=1,\n",
    "    fontcolor.group=\"black\",\n",
    "    fontface.group=1,\n",
    "    fontface.title=1, \n",
    "    alpha.title=1,\n",
    "    lwd=0.8,\n",
    ")\n",
    "\n",
    "hmmTrack <- UcscTrack(\n",
    "    track=\"Broad ChromHMM\", \n",
    "    table=\"wgEncodeBroadHmmH1hescHMM\",\n",
    "    genome=\"hg19\", \n",
    "    chromosome=chrom,\n",
    "    from=start, \n",
    "    to=end, \n",
    "    trackType=\"AnnotationTrack\",\n",
    "    shape=\"box\",\n",
    "    start=\"chromStart\",\n",
    "    end=\"chromEnd\",\n",
    "    feature=\"itemRgb\", \n",
    "    id=\"name\", \n",
    "    collapse=FALSE,\n",
    "    stacking=\"dense\",\n",
    "    fontsize=7,\n",
    "    name=\"chromHMM\",\n",
    "    fontcolor.legend='black', \n",
    "    col.axis='black', \n",
    "    col.title='black',\n",
    "    background.title='transparent', \n",
    "    cex=1,\n",
    "    cex.id=1, \n",
    "    cex.axis=1, \n",
    "    cex.title=1,\n",
    "    fontface=1, \n",
    "    fontface.title=1,\n",
    "    lwd=0,\n",
    "    fontface=1, \n",
    "    fontface.title=1,\n",
    "    rotation.title=0\n",
    ")\n",
    "\n",
    "feat <- unique(feature(hmmTrack))\n",
    "featCol <- setNames(as.list(rgb(t(sapply(strsplit(feat, \",\"),\n",
    "as.numeric)), maxColorValue=255)), feat)\n",
    "displayPars(hmmTrack) <- featCol\n",
    "\n",
    "cebpbTrack <- UcscTrack(\n",
    "    track=\"Uniform TFBS\", \n",
    "    table=\"wgEncodeAwgTfbsSydhH1hescCebpbIggrabUniPk\",\n",
    "    genome=\"hg19\", \n",
    "    chromosome=chrom,\n",
    "    from=start, \n",
    "    to=end, \n",
    "    trackType=\"AnnotationTrack\",\n",
    "    shape=\"box\",\n",
    "    start=\"chromStart\",\n",
    "    end=\"chromEnd\",\n",
    "    feature=\"itemRgb\", \n",
    "    id=\"name\", \n",
    "    collapse=FALSE,\n",
    "    stacking=\"dense\",\n",
    "    fontsize=7,\n",
    "    name=\"CEBPB\",\n",
    "    fontcolor.legend='black', \n",
    "    col.axis='black', \n",
    "    col.title='black',\n",
    "    background.title='transparent', \n",
    "    cex=1,\n",
    "    cex.id=1, \n",
    "    cex.axis=1, \n",
    "    cex.title=1,\n",
    "    fontface=1, \n",
    "    fontface.title=1,\n",
    "    lwd=0,\n",
    "    fontface=1, \n",
    "    fontface.title=1,\n",
    "    rotation.title=0\n",
    ")\n",
    "\n",
    "dnaseTrack <- UcscTrack(\n",
    "    track=\"Uniform DNaseI HS\", \n",
    "    table=\"wgEncodeAwgDnaseUwdukeH1hescUniPk\",\n",
    "    genome=\"hg19\", \n",
    "    chromosome=chrom,\n",
    "    from=start, \n",
    "    to=end, \n",
    "    trackType=\"AnnotationTrack\",\n",
    "    shape=\"box\",\n",
    "    start=\"chromStart\",\n",
    "    end=\"chromEnd\",\n",
    "    feature=\"itemRgb\", \n",
    "    id=\"name\", \n",
    "    collapse=FALSE,\n",
    "    stacking=\"dense\",\n",
    "    fontsize=7,\n",
    "    name=\"DHS\",\n",
    "    fontcolor.legend='black', \n",
    "    col.axis='black', \n",
    "    col.title='black',\n",
    "    background.title='transparent', \n",
    "    cex=1,\n",
    "    cex.id=1, \n",
    "    cex.axis=1, \n",
    "    cex.title=1,\n",
    "    fontface=1, \n",
    "    fontface.title=1,\n",
    "    lwd=0,\n",
    "    fontface=1, \n",
    "    fontface.title=1,\n",
    "    rotation.title=0\n",
    ")\n",
    "\n",
    "hgr <- GRanges(\n",
    "    seqnames=\"chr6\", \n",
    "    ranges=IRanges(start=hstarts, width=rep(1, length(hstarts))),\n",
    "    )\n",
    "\n",
    "pvalHT <- HighlightTrack(\n",
    "    trackList=pvalTrack, \n",
    "    range=hgr,\n",
    "    alpha=0.5,\n",
    "    fill=NA)\n",
    "\n",
    "taf1Track = setPar(taf1Track, \"fill\", taf1_color)\n",
    "dnaseTrack = setPar(dnaseTrack, \"fill\", dnase_color)"
   ]
  },
  {
   "cell_type": "code",
   "execution_count": 142,
   "metadata": {
    "collapsed": false
   },
   "outputs": [
    {
     "data": {
      "image/png": "[encoded data removed]"
     },
     "metadata": {},
     "output_type": "display_data"
    }
   ],
   "source": [
    "%%R -i fn,start,end\n",
    "\n",
    "plotTracks(c(gtrack, biomTrack, pvalTrack, cebpbTrack, hmmTrack), chromosome=chrom, from=start, to=end, \n",
    "           col.title=\"black\")\n",
    "# plotTracks(c(gtrack, biomTrack, pvalHT, taf1Track,\n",
    "#              hmmTrack), chromosome=chrom, from=start, to=end, \n",
    "#            col.title=\"black\", sizes=c(1.5, 1.5, 5, 0.5, 0.5))"
   ]
  },
  {
   "cell_type": "code",
   "execution_count": 143,
   "metadata": {
    "collapsed": true
   },
   "outputs": [],
   "source": [
    "fn = os.path.join(outdir, 'med30.pdf')"
   ]
  },
  {
   "cell_type": "code",
   "execution_count": 144,
   "metadata": {
    "collapsed": false
   },
   "outputs": [
    {
     "data": {
      "text/plain": [
       "png \n",
       "  2 \n"
      ]
     },
     "metadata": {},
     "output_type": "display_data"
    }
   ],
   "source": [
    "%%R -i fn,start,end\n",
    "\n",
    "pdf(fn, 4.48, 2.75)\n",
    "plotTracks(c(gtrack, biomTrack, pvalTrack, cebpbTrack,\n",
    "             hmmTrack), chromosome=chrom, from=start, to=end, \n",
    "           col.title=\"black\", sizes=c(1.5, 1.5, 5, 0.5, 0.5))\n",
    "dev.off()"
   ]
  },
  {
   "cell_type": "markdown",
   "metadata": {},
   "source": [
    "### POU5F1 plot"
   ]
  },
  {
   "cell_type": "code",
   "execution_count": 15,
   "metadata": {
    "collapsed": true
   },
   "outputs": [],
   "source": [
    "%%R\n",
    "\n",
    "suppressPackageStartupMessages(library(Gviz))\n",
    "suppressPackageStartupMessages(library(GenomicFeatures))"
   ]
  },
  {
   "cell_type": "code",
   "execution_count": 101,
   "metadata": {
    "collapsed": false
   },
   "outputs": [
    {
     "name": "stderr",
     "output_type": "stream",
     "text": [
      "/frazer01/home/cdeboever/software/anaconda/envs/cie/lib/python2.7/site-packages/IPython/kernel/__main__.py:21: SettingWithCopyWarning: \n",
      "A value is trying to be set on a copy of a slice from a DataFrame.\n",
      "Try using .loc[row_indexer,col_indexer] = value instead\n",
      "\n",
      "See the caveats in the documentation: http://pandas.pydata.org/pandas-docs/stable/indexing.html#indexing-view-versus-copy\n"
     ]
    }
   ],
   "source": [
    "gene_id = gene_info[gene_info.gene_name == 'POU5F1'].index[0]\n",
    "\n",
    "res_fns = glob.glob(os.path.join(ciepy.root, 'private_output', 'run_eqtl_analysis', 'eqtls01', \n",
    "                                 'gene_results', '*', 'ENS*.tsv'))\n",
    "res_fns = pd.Series(res_fns,\n",
    "                    index=[os.path.splitext(os.path.split(x)[1])[0] for x in res_fns])\n",
    "res = ciepy.read_emmax_output(res_fns[gene_id])\n",
    "res = res.sort_values('BEG')\n",
    "res = res.dropna(subset=['PVALUE'])\n",
    "\n",
    "# res_fns = glob.glob(os.path.join(ciepy.root, 'private_output', 'run_eqtl_analysis', 'eqtls02', \n",
    "#                                  'gene_results', '*', 'ENS*.tsv'))\n",
    "# res_fns = pd.Series(res_fns,\n",
    "#                     index=[os.path.splitext(os.path.split(x)[1])[0] for x in res_fns])\n",
    "# res2 = ciepy.read_emmax_output(res_fns[gene_id])\n",
    "# res2 = res2.sort_values('BEG')\n",
    "# res2 = res2.dropna(subset=['PVALUE'])\n",
    "\n",
    "grange = res[['BEG']]\n",
    "grange.columns = ['start']\n",
    "grange['end'] = grange['start'] + 1\n",
    "data = pd.DataFrame(-np.log10(res.PVALUE))\n",
    "data = pd.DataFrame([-np.log10(res.PVALUE), -np.log10(res.PVALUE)],\n",
    "                    index=['primary', 'primary_sig']).T\n",
    "t = gene_variant_pairs_annotated[gene_variant_pairs_annotated.gene_id == gene_id]\n",
    "data.index = res.MARKER_ID\n",
    "data.ix[t.marker_id, 'primary'] = np.nan\n",
    "data.ix[set(data.index) - set(t.marker_id), 'primary_sig'] = np.nan\n",
    "# t = gene_variant_pairs_secondary[gene_variant_pairs_secondary.gene_id == gene_id]\n",
    "# data.ix[t.marker_id, 'secondary'] = np.nan\n",
    "# data.ix[set(data.index) - set(t.marker_id), 'secondary_sig'] = np.nan\n",
    "starts = res.BEG\n",
    "\n",
    "chrom = 'chr6'\n",
    "start = 31110081\n",
    "end = 31164667\n",
    "fontsize = 8"
   ]
  },
  {
   "cell_type": "code",
   "execution_count": 102,
   "metadata": {
    "collapsed": false
   },
   "outputs": [
    {
     "data": {
      "text/html": [
       "<div>\n",
       "<table border=\"1\" class=\"dataframe\">\n",
       "  <thead>\n",
       "    <tr style=\"text-align: right;\">\n",
       "      <th></th>\n",
       "      <th>primary</th>\n",
       "      <th>primary_sig</th>\n",
       "    </tr>\n",
       "    <tr>\n",
       "      <th>MARKER_ID</th>\n",
       "      <th></th>\n",
       "      <th></th>\n",
       "    </tr>\n",
       "  </thead>\n",
       "  <tbody>\n",
       "    <tr>\n",
       "      <th>6:30134987_C/T_rs56866777</th>\n",
       "      <td>1.241391</td>\n",
       "      <td>NaN</td>\n",
       "    </tr>\n",
       "    <tr>\n",
       "      <th>6:30135134_T/C_rs117007413</th>\n",
       "      <td>1.241391</td>\n",
       "      <td>NaN</td>\n",
       "    </tr>\n",
       "    <tr>\n",
       "      <th>6:30135198_A/G_rs184969485</th>\n",
       "      <td>0.000913</td>\n",
       "      <td>NaN</td>\n",
       "    </tr>\n",
       "    <tr>\n",
       "      <th>6:30135298_G/C_rs144966950</th>\n",
       "      <td>1.241391</td>\n",
       "      <td>NaN</td>\n",
       "    </tr>\n",
       "    <tr>\n",
       "      <th>6:30135395_C/T_rs116487075</th>\n",
       "      <td>1.241391</td>\n",
       "      <td>NaN</td>\n",
       "    </tr>\n",
       "  </tbody>\n",
       "</table>\n",
       "</div>"
      ],
      "text/plain": [
       "                             primary  primary_sig\n",
       "MARKER_ID                                        \n",
       "6:30134987_C/T_rs56866777   1.241391          NaN\n",
       "6:30135134_T/C_rs117007413  1.241391          NaN\n",
       "6:30135198_A/G_rs184969485  0.000913          NaN\n",
       "6:30135298_G/C_rs144966950  1.241391          NaN\n",
       "6:30135395_C/T_rs116487075  1.241391          NaN"
      ]
     },
     "execution_count": 102,
     "metadata": {},
     "output_type": "execute_result"
    }
   ],
   "source": [
    "data.head()"
   ]
  },
  {
   "cell_type": "code",
   "execution_count": 57,
   "metadata": {
    "collapsed": false
   },
   "outputs": [],
   "source": [
    "%%R -i data,grange,chrom,start,end,fontsize,starts,taf1_color,dnase_color,hstarts\n",
    "\n",
    "ideoTrack <- IdeogramTrack(\n",
    "    genome=\"hg19\", \n",
    "    fontsize=fontsize, \n",
    "    fontsize.legend=fontsize,\n",
    "    fontcolor='black', \n",
    "    cex=1, \n",
    "    cex.id=1, \n",
    "    cex.axis=1, \n",
    "    cex.title=1,\n",
    "    fontface=1, \n",
    "    fontface.title=1\n",
    ")\n",
    "\n",
    "gtrack <- GenomeAxisTrack(\n",
    "    col=\"black\", \n",
    "    cex=1, \n",
    "    fontsize=8, \n",
    "    col.id=\"black\", \n",
    "    fontcolor=\"black\", \n",
    "    fontface=1,\n",
    "    fontface.group=1,\n",
    "    lwd=1,\n",
    ")\n",
    "\n",
    "gr <- GRanges(\n",
    "    seqnames=\"chr6\", \n",
    "    ranges=IRanges(start=starts, width=rep(1, length(starts))),\n",
    "    primary=data[\"primary\"],\n",
    "    psig=data[\"primary_sig\"],\n",
    ")\n",
    "\n",
    "pvalTrack <- DataTrack(\n",
    "    gr,\n",
    "    groups=c(\"Not significant\", \"Significant\"),\n",
    "    genome=\"hg19\", \n",
    "    type=\"p\", \n",
    "    alpha=0.75, \n",
    "    lwd=8,\n",
    "    name=\"-log10 p-value\", \n",
    "    fontsize=8,\n",
    "    fontcolor.legend='black', \n",
    "    col.axis='black', \n",
    "    col.title='black',\n",
    "    background.title='transparent', \n",
    "    cex=0.5, \n",
    "    cex.id=1, \n",
    "    cex.axis=1, \n",
    "    cex.title=1,\n",
    "    fontface=1, \n",
    "    fontface.title=1,\n",
    "    fontcolor.title=\"black\",\n",
    "    fontface.title=1, \n",
    "    alpha.title=1,\n",
    "    cex.legend=1,\n",
    "    fontcolor.legend=\"black\",\n",
    "    fontface.legend=1,\n",
    "    fontsize.legend=8,\n",
    ")\n",
    "\n",
    "biomTrack <- BiomartGeneRegionTrack(\n",
    "    genome=\"hg19\", \n",
    "    chromosome=chrom, \n",
    "    start=start, \n",
    "    end=end,\n",
    "    name=\"\", \n",
    "    fontsize=fontsize,\n",
    "    collapseTranscripts='meta',\n",
    "    fontcolor.legend='black', \n",
    "    col.axis='black', \n",
    "    col.title='black', \n",
    "    fontcolor.legend=\"black\",\n",
    "    background.title='transparent', \n",
    "    cex=1, \n",
    "    cex.id=1, \n",
    "    cex.axis=1, \n",
    "    cex.title=1,\n",
    "    fontface=1, \n",
    "    fontface.title=1, \n",
    "    geneSymbols=TRUE,\n",
    "    cex.group=1,\n",
    "    fontcolor.group=\"black\",\n",
    "    fontface.group=1,\n",
    "    fontface.title=1, \n",
    "    alpha.title=1,\n",
    "    lwd=0.8,\n",
    ")\n",
    "\n",
    "hmmTrack <- UcscTrack(\n",
    "    track=\"Broad ChromHMM\", \n",
    "    table=\"wgEncodeBroadHmmH1hescHMM\",\n",
    "    genome=\"hg19\", \n",
    "    chromosome=chrom,\n",
    "    from=start, \n",
    "    to=end, \n",
    "    trackType=\"AnnotationTrack\",\n",
    "    shape=\"box\",\n",
    "    start=\"chromStart\",\n",
    "    end=\"chromEnd\",\n",
    "    feature=\"itemRgb\", \n",
    "    id=\"name\", \n",
    "    collapse=FALSE,\n",
    "    stacking=\"dense\",\n",
    "    fontsize=7,\n",
    "    name=\"chromHMM\",\n",
    "    fontcolor.legend='black', \n",
    "    col.axis='black', \n",
    "    col.title='black',\n",
    "    background.title='transparent', \n",
    "    cex=1,\n",
    "    cex.id=1, \n",
    "    cex.axis=1, \n",
    "    cex.title=1,\n",
    "    fontface=1, \n",
    "    fontface.title=1,\n",
    "    lwd=0,\n",
    "    fontface=1, \n",
    "    fontface.title=1,\n",
    "    rotation.title=0\n",
    ")\n",
    "\n",
    "feat <- unique(feature(hmmTrack))\n",
    "featCol <- setNames(as.list(rgb(t(sapply(strsplit(feat, \",\"),\n",
    "as.numeric)), maxColorValue=255)), feat)\n",
    "displayPars(hmmTrack) <- featCol\n",
    "\n",
    "taf1Track <- UcscTrack(\n",
    "    track=\"Uniform TFBS\", \n",
    "    table=\"wgEncodeAwgTfbsHaibH1hescTaf1V0416102UniPk\",\n",
    "    genome=\"hg19\", \n",
    "    chromosome=chrom,\n",
    "    from=start, \n",
    "    to=end, \n",
    "    trackType=\"AnnotationTrack\",\n",
    "    shape=\"box\",\n",
    "    start=\"chromStart\",\n",
    "    end=\"chromEnd\",\n",
    "    feature=\"itemRgb\", \n",
    "    id=\"name\", \n",
    "    collapse=FALSE,\n",
    "    stacking=\"dense\",\n",
    "    fontsize=7,\n",
    "    name=\"TAF1\",\n",
    "    fontcolor.legend='black', \n",
    "    col.axis='black', \n",
    "    col.title='black',\n",
    "    background.title='transparent', \n",
    "    cex=1,\n",
    "    cex.id=1, \n",
    "    cex.axis=1, \n",
    "    cex.title=1,\n",
    "    fontface=1, \n",
    "    fontface.title=1,\n",
    "    lwd=0,\n",
    "    fontface=1, \n",
    "    fontface.title=1,\n",
    "    rotation.title=0\n",
    ")\n",
    "\n",
    "dnaseTrack <- UcscTrack(\n",
    "    track=\"Uniform DNaseI HS\", \n",
    "    table=\"wgEncodeAwgDnaseUwdukeH1hescUniPk\",\n",
    "    genome=\"hg19\", \n",
    "    chromosome=chrom,\n",
    "    from=start, \n",
    "    to=end, \n",
    "    trackType=\"AnnotationTrack\",\n",
    "    shape=\"box\",\n",
    "    start=\"chromStart\",\n",
    "    end=\"chromEnd\",\n",
    "    feature=\"itemRgb\", \n",
    "    id=\"name\", \n",
    "    collapse=FALSE,\n",
    "    stacking=\"dense\",\n",
    "    fontsize=7,\n",
    "    name=\"DHS\",\n",
    "    fontcolor.legend='black', \n",
    "    col.axis='black', \n",
    "    col.title='black',\n",
    "    background.title='transparent', \n",
    "    cex=1,\n",
    "    cex.id=1, \n",
    "    cex.axis=1, \n",
    "    cex.title=1,\n",
    "    fontface=1, \n",
    "    fontface.title=1,\n",
    "    lwd=0,\n",
    "    fontface=1, \n",
    "    fontface.title=1,\n",
    "    rotation.title=0\n",
    ")\n",
    "\n",
    "hgr <- GRanges(\n",
    "    seqnames=\"chr6\", \n",
    "    ranges=IRanges(start=hstarts, width=rep(1, length(hstarts))),\n",
    "    )\n",
    "\n",
    "pvalHT <- HighlightTrack(\n",
    "    trackList=pvalTrack, \n",
    "    range=hgr,\n",
    "    alpha=0.5,\n",
    "    fill=NA)\n",
    "\n",
    "taf1Track = setPar(taf1Track, \"fill\", taf1_color)\n",
    "dnaseTrack = setPar(dnaseTrack, \"fill\", dnase_color)"
   ]
  },
  {
   "cell_type": "code",
   "execution_count": 58,
   "metadata": {
    "collapsed": true
   },
   "outputs": [],
   "source": [
    "fn = os.path.join(outdir, 'pou5f1.pdf')"
   ]
  },
  {
   "cell_type": "code",
   "execution_count": 59,
   "metadata": {
    "collapsed": false
   },
   "outputs": [
    {
     "data": {
      "text/plain": [
       "png \n",
       "  2 \n"
      ]
     },
     "metadata": {},
     "output_type": "display_data"
    }
   ],
   "source": [
    "%%R -i fn,start,end\n",
    "\n",
    "pdf(fn, 4.48, 2.75)\n",
    "plotTracks(c(gtrack, biomTrack, pvalHT, taf1Track,\n",
    "             hmmTrack), chromosome=\"chr6\", from=start, to=end, \n",
    "           col.title=\"black\", sizes=c(1.5, 1.5, 5, 0.5, 0.5))\n",
    "dev.off()"
   ]
  },
  {
   "cell_type": "code",
   "execution_count": null,
   "metadata": {
    "collapsed": true
   },
   "outputs": [],
   "source": []
  }
 ],
 "metadata": {
  "kernelspec": {
   "display_name": "Environment (cie)",
   "language": "",
   "name": "cie"
  },
  "language_info": {
   "codemirror_mode": {
    "name": "ipython",
    "version": 2
   },
   "file_extension": ".py",
   "mimetype": "text/x-python",
   "name": "python",
   "nbconvert_exporter": "python",
   "pygments_lexer": "ipython2",
   "version": "2.7.11"
  }
 },
 "nbformat": 4,
 "nbformat_minor": 0
}
