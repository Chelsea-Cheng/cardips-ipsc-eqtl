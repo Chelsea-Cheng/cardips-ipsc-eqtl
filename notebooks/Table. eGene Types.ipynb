{
 "cells": [
  {
   "cell_type": "markdown",
   "metadata": {},
   "source": [
    "# Table. eGene Types"
   ]
  },
  {
   "cell_type": "code",
   "execution_count": 1,
   "metadata": {
    "collapsed": false
   },
   "outputs": [],
   "source": [
    "import copy\n",
    "import cPickle\n",
    "import os\n",
    "import subprocess\n",
    "\n",
    "import cdpybio as cpb\n",
    "import matplotlib as mpl\n",
    "import matplotlib.gridspec as gridspec\n",
    "import matplotlib.pyplot as plt\n",
    "import numpy as np\n",
    "import pandas as pd\n",
    "pd.options.mode.chained_assignment = None  # default='warn'\n",
    "import pybedtools as pbt\n",
    "import scipy.stats as stats\n",
    "import seaborn as sns\n",
    "\n",
    "import ciepy\n",
    "import cardipspy as cpy\n",
    "\n",
    "%matplotlib inline\n",
    "\n",
    "dy_name = 'table_egene_types'\n",
    "    \n",
    "outdir = os.path.join(ciepy.root, 'output', dy_name)\n",
    "cpy.makedir(outdir)\n",
    "\n",
    "private_outdir = os.path.join(ciepy.root, 'private_output', dy_name)\n",
    "cpy.makedir(private_outdir)\n",
    "\n",
    "import socket\n",
    "if socket.gethostname() == 'fl-hn1' or socket.gethostname() == 'fl-hn2':\n",
    "    dy = os.path.join(ciepy.root, 'sandbox', 'tmp', dy_name)\n",
    "    cpy.makedir(dy)\n",
    "    pbt.set_tempdir(dy)"
   ]
  },
  {
   "cell_type": "code",
   "execution_count": 2,
   "metadata": {
    "collapsed": true
   },
   "outputs": [],
   "source": [
    "gene_info = pd.read_table(cpy.gencode_gene_info, index_col=0)"
   ]
  },
  {
   "cell_type": "code",
   "execution_count": 3,
   "metadata": {
    "collapsed": true
   },
   "outputs": [],
   "source": [
    "dy = os.path.join(ciepy.root, 'output/eqtl_processing/eqtls01')\n",
    "fn = os.path.join(dy, 'qvalues.tsv')\n",
    "qvalues = pd.read_table(fn, index_col=0)"
   ]
  },
  {
   "cell_type": "code",
   "execution_count": 6,
   "metadata": {
    "collapsed": false
   },
   "outputs": [],
   "source": [
    "sig = qvalues[qvalues.perm_sig]"
   ]
  },
  {
   "cell_type": "code",
   "execution_count": 29,
   "metadata": {
    "collapsed": false
   },
   "outputs": [],
   "source": [
    "a = gene_info.ix[sig.index, 'gene_type'].value_counts()\n",
    "b = gene_info.ix[qvalues.index, 'gene_type'].value_counts()\n",
    "t = pd.concat([a, b], axis=1)\n",
    "t = t.fillna(0)\n",
    "t.columns = ['Significant', 'Tested']\n",
    "t = t[['Tested', 'Significant']]\n",
    "t.sort_values(by=['Tested', 'Significant'], inplace=True, ascending=False)\n",
    "t['Percent significant'] = (t.Significant / t.Tested).round(3) * 100\n",
    "t['Percent eGenes'] = (t.Significant / t.Significant.sum()).round(3) * 100\n",
    "t.index = [x.replace('_', ' ') for x in t.index]"
   ]
  },
  {
   "cell_type": "code",
   "execution_count": 30,
   "metadata": {
    "collapsed": false
   },
   "outputs": [
    {
     "data": {
      "text/html": [
       "<div>\n",
       "<table border=\"1\" class=\"dataframe\">\n",
       "  <thead>\n",
       "    <tr style=\"text-align: right;\">\n",
       "      <th></th>\n",
       "      <th>Tested</th>\n",
       "      <th>Significant</th>\n",
       "      <th>Percent significant</th>\n",
       "      <th>Percent eGenes</th>\n",
       "    </tr>\n",
       "  </thead>\n",
       "  <tbody>\n",
       "    <tr>\n",
       "      <th>protein coding</th>\n",
       "      <td>13850</td>\n",
       "      <td>4495</td>\n",
       "      <td>32.5</td>\n",
       "      <td>80.0</td>\n",
       "    </tr>\n",
       "    <tr>\n",
       "      <th>pseudogene</th>\n",
       "      <td>1395</td>\n",
       "      <td>342</td>\n",
       "      <td>24.5</td>\n",
       "      <td>6.1</td>\n",
       "    </tr>\n",
       "    <tr>\n",
       "      <th>lincRNA</th>\n",
       "      <td>1049</td>\n",
       "      <td>356</td>\n",
       "      <td>33.9</td>\n",
       "      <td>6.3</td>\n",
       "    </tr>\n",
       "    <tr>\n",
       "      <th>antisense</th>\n",
       "      <td>923</td>\n",
       "      <td>269</td>\n",
       "      <td>29.1</td>\n",
       "      <td>4.8</td>\n",
       "    </tr>\n",
       "    <tr>\n",
       "      <th>processed transcript</th>\n",
       "      <td>222</td>\n",
       "      <td>91</td>\n",
       "      <td>41.0</td>\n",
       "      <td>1.6</td>\n",
       "    </tr>\n",
       "    <tr>\n",
       "      <th>sense intronic</th>\n",
       "      <td>134</td>\n",
       "      <td>29</td>\n",
       "      <td>21.6</td>\n",
       "      <td>0.5</td>\n",
       "    </tr>\n",
       "    <tr>\n",
       "      <th>snoRNA</th>\n",
       "      <td>69</td>\n",
       "      <td>4</td>\n",
       "      <td>5.8</td>\n",
       "      <td>0.1</td>\n",
       "    </tr>\n",
       "    <tr>\n",
       "      <th>misc RNA</th>\n",
       "      <td>62</td>\n",
       "      <td>4</td>\n",
       "      <td>6.5</td>\n",
       "      <td>0.1</td>\n",
       "    </tr>\n",
       "    <tr>\n",
       "      <th>sense overlapping</th>\n",
       "      <td>53</td>\n",
       "      <td>16</td>\n",
       "      <td>30.2</td>\n",
       "      <td>0.3</td>\n",
       "    </tr>\n",
       "    <tr>\n",
       "      <th>snRNA</th>\n",
       "      <td>30</td>\n",
       "      <td>0</td>\n",
       "      <td>0.0</td>\n",
       "      <td>0.0</td>\n",
       "    </tr>\n",
       "    <tr>\n",
       "      <th>polymorphic pseudogene</th>\n",
       "      <td>15</td>\n",
       "      <td>8</td>\n",
       "      <td>53.3</td>\n",
       "      <td>0.1</td>\n",
       "    </tr>\n",
       "    <tr>\n",
       "      <th>3prime overlapping ncrna</th>\n",
       "      <td>7</td>\n",
       "      <td>1</td>\n",
       "      <td>14.3</td>\n",
       "      <td>0.0</td>\n",
       "    </tr>\n",
       "    <tr>\n",
       "      <th>miRNA</th>\n",
       "      <td>3</td>\n",
       "      <td>1</td>\n",
       "      <td>33.3</td>\n",
       "      <td>0.0</td>\n",
       "    </tr>\n",
       "    <tr>\n",
       "      <th>TR C gene</th>\n",
       "      <td>2</td>\n",
       "      <td>2</td>\n",
       "      <td>100.0</td>\n",
       "      <td>0.0</td>\n",
       "    </tr>\n",
       "    <tr>\n",
       "      <th>IG V gene</th>\n",
       "      <td>2</td>\n",
       "      <td>1</td>\n",
       "      <td>50.0</td>\n",
       "      <td>0.0</td>\n",
       "    </tr>\n",
       "    <tr>\n",
       "      <th>TR V gene</th>\n",
       "      <td>2</td>\n",
       "      <td>0</td>\n",
       "      <td>0.0</td>\n",
       "      <td>0.0</td>\n",
       "    </tr>\n",
       "    <tr>\n",
       "      <th>IG V pseudogene</th>\n",
       "      <td>1</td>\n",
       "      <td>0</td>\n",
       "      <td>0.0</td>\n",
       "      <td>0.0</td>\n",
       "    </tr>\n",
       "  </tbody>\n",
       "</table>\n",
       "</div>"
      ],
      "text/plain": [
       "                          Tested  Significant  Percent significant  \\\n",
       "protein coding             13850         4495                 32.5   \n",
       "pseudogene                  1395          342                 24.5   \n",
       "lincRNA                     1049          356                 33.9   \n",
       "antisense                    923          269                 29.1   \n",
       "processed transcript         222           91                 41.0   \n",
       "sense intronic               134           29                 21.6   \n",
       "snoRNA                        69            4                  5.8   \n",
       "misc RNA                      62            4                  6.5   \n",
       "sense overlapping             53           16                 30.2   \n",
       "snRNA                         30            0                  0.0   \n",
       "polymorphic pseudogene        15            8                 53.3   \n",
       "3prime overlapping ncrna       7            1                 14.3   \n",
       "miRNA                          3            1                 33.3   \n",
       "TR C gene                      2            2                100.0   \n",
       "IG V gene                      2            1                 50.0   \n",
       "TR V gene                      2            0                  0.0   \n",
       "IG V pseudogene                1            0                  0.0   \n",
       "\n",
       "                          Percent eGenes  \n",
       "protein coding                      80.0  \n",
       "pseudogene                           6.1  \n",
       "lincRNA                              6.3  \n",
       "antisense                            4.8  \n",
       "processed transcript                 1.6  \n",
       "sense intronic                       0.5  \n",
       "snoRNA                               0.1  \n",
       "misc RNA                             0.1  \n",
       "sense overlapping                    0.3  \n",
       "snRNA                                0.0  \n",
       "polymorphic pseudogene               0.1  \n",
       "3prime overlapping ncrna             0.0  \n",
       "miRNA                                0.0  \n",
       "TR C gene                            0.0  \n",
       "IG V gene                            0.0  \n",
       "TR V gene                            0.0  \n",
       "IG V pseudogene                      0.0  "
      ]
     },
     "execution_count": 30,
     "metadata": {},
     "output_type": "execute_result"
    }
   ],
   "source": [
    "t"
   ]
  },
  {
   "cell_type": "code",
   "execution_count": 31,
   "metadata": {
    "collapsed": false
   },
   "outputs": [],
   "source": [
    "t.to_excel(os.path.join(outdir, 'egene_types.xlsx'))"
   ]
  }
 ],
 "metadata": {
  "kernelspec": {
   "display_name": "Environment (cie)",
   "language": "",
   "name": "cie"
  },
  "language_info": {
   "codemirror_mode": {
    "name": "ipython",
    "version": 2
   },
   "file_extension": ".py",
   "mimetype": "text/x-python",
   "name": "python",
   "nbconvert_exporter": "python",
   "pygments_lexer": "ipython2",
   "version": "2.7.11"
  }
 },
 "nbformat": 4,
 "nbformat_minor": 0
}
