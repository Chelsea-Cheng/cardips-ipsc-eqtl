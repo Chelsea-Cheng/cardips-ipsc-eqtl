{
 "cells": [
  {
   "cell_type": "markdown",
   "metadata": {},
   "source": [
    "# Figure. CNV eQTL Characteristics"
   ]
  },
  {
   "cell_type": "code",
   "execution_count": 1,
   "metadata": {
    "collapsed": true
   },
   "outputs": [],
   "source": [
    "import copy\n",
    "import cPickle\n",
    "import os\n",
    "import subprocess\n",
    "\n",
    "import cdpybio as cpb\n",
    "import matplotlib as mpl\n",
    "import matplotlib.gridspec as gridspec\n",
    "import matplotlib.pyplot as plt\n",
    "import numpy as np\n",
    "import pandas as pd\n",
    "pd.options.mode.chained_assignment = None  # default='warn'\n",
    "import pybedtools as pbt\n",
    "import scipy.stats as stats\n",
    "import seaborn as sns\n",
    "\n",
    "import ciepy\n",
    "import cardipspy as cpy\n",
    "\n",
    "%matplotlib inline\n",
    "%load_ext rpy2.ipython\n",
    "\n",
    "dy_name = 'figure_cnv_eqtl_characteristics'\n",
    "    \n",
    "outdir = os.path.join(ciepy.root, 'output', dy_name)\n",
    "cpy.makedir(outdir)\n",
    "\n",
    "private_outdir = os.path.join(ciepy.root, 'private_output', dy_name)\n",
    "cpy.makedir(private_outdir)\n",
    "\n",
    "import socket\n",
    "if socket.gethostname() == 'fl-hn1' or socket.gethostname() == 'fl-hn2':\n",
    "    dy = os.path.join(ciepy.root, 'sandbox', 'tmp', dy_name)\n",
    "    cpy.makedir(dy)\n",
    "    pbt.set_tempdir(dy)"
   ]
  },
  {
   "cell_type": "markdown",
   "metadata": {},
   "source": [
    "Each figure should be able to fit on a single 8.5 x 11 inch page. Please do not send figure panels as individual files. We use three standard widths for figures: 1 column, 85 mm; 1.5 column, 114 mm; and 2 column, 174 mm (the full width of the page). Although your figure size may be reduced in the print journal, please keep these widths in mind. For Previews and other three-column formats, these widths are also applicable, though the width of a single column will be 55 mm."
   ]
  },
  {
   "cell_type": "code",
   "execution_count": 2,
   "metadata": {
    "collapsed": true
   },
   "outputs": [],
   "source": [
    "fn = os.path.join(ciepy.root, 'output/cnv_analysis/cnv_gene_variants.pickle')\n",
    "cnv_gv = cPickle.load(open(fn))\n",
    "fn = os.path.join(ciepy.root, 'output/cnv_analysis/combined_info.pickle')\n",
    "combined_info = cPickle.load(open(fn))\n",
    "\n",
    "sig_cnvs = set(cnv_gv.cnv_id)\n",
    "not_sig_cnvs = set(combined_info.index) - sig_cnvs"
   ]
  },
  {
   "cell_type": "code",
   "execution_count": 3,
   "metadata": {
    "collapsed": true
   },
   "outputs": [],
   "source": [
    "sns.set_style('whitegrid')"
   ]
  },
  {
   "cell_type": "code",
   "execution_count": 4,
   "metadata": {
    "collapsed": false
   },
   "outputs": [
    {
     "name": "stderr",
     "output_type": "stream",
     "text": [
      "/frazer01/home/cdeboever/software/anaconda/envs/cie/lib/python2.7/site-packages/matplotlib/gridspec.py:302: UserWarning: This figure includes Axes that are not compatible with tight_layout, so its results might be incorrect.\n",
      "  warnings.warn(\"This figure includes Axes that are not \"\n"
     ]
    },
    {
     "data": {
      "image/png": "[encoded data removed]",
      "text/plain": [
       "<matplotlib.figure.Figure at 0x7fd107435710>"
      ]
     },
     "metadata": {},
     "output_type": "display_data"
    }
   ],
   "source": [
    "fig = plt.figure(figsize=(6.85, 4.5), dpi=300)\n",
    "\n",
    "gs = gridspec.GridSpec(1, 1)\n",
    "ax = fig.add_subplot(gs[0, 0])\n",
    "ax.text(0, 0, 'Figure S4',\n",
    "        size=16, va='bottom')\n",
    "ciepy.clean_axis(ax)\n",
    "ax.set_xticks([])\n",
    "ax.set_yticks([])\n",
    "gs.tight_layout(fig, rect=[0, 0.90, 0.5, 1])\n",
    "\n",
    "gs = gridspec.GridSpec(2, 2)\n",
    "\n",
    "# Length\n",
    "ax = fig.add_subplot(gs[0, 0])\n",
    "\n",
    "se = np.log10(combined_info.ix[sig_cnvs, 'svlen'].abs())\n",
    "weights = np.ones_like(se) / float(se.shape[0])\n",
    "se.hist(ax=ax, label='eQTL'.format(se.shape[0]), \n",
    "        alpha=0.5, weights=weights, histtype='stepfilled',\n",
    "        bins=np.arange(0, 6.1, 0.1))\n",
    "\n",
    "se = np.log10(combined_info.ix[not_sig_cnvs, 'svlen'].abs())\n",
    "weights = np.ones_like(se) / float(se.shape[0])\n",
    "se.hist(ax=ax, label='Not eQTL'.format(se.shape[0]), \n",
    "        alpha=0.5, weights=weights, histtype='stepfilled',\n",
    "        bins=np.arange(0, 6.1, 0.1))\n",
    "ax.legend(fontsize=8, loc='upper left', fancybox=True, frameon=True)\n",
    "for t in ax.get_xticklabels() + ax.get_yticklabels():\n",
    "    t.set_fontsize(8)\n",
    "ax.set_xlabel('$\\\\log_{10}$ CNV size', fontsize=8)\n",
    "ax.set_ylabel('Density', fontsize=8)\n",
    "\n",
    "# TSS distance.\n",
    "ax = fig.add_subplot(gs[0, 1])\n",
    "\n",
    "se = np.log10(combined_info.ix[sig_cnvs, 'nearest_tss_dist'].abs() + 1)\n",
    "weights = np.ones_like(se) / float(se.shape[0])\n",
    "se.hist(ax=ax, label='eQTL'.format(se.shape[0]), \n",
    "        alpha=0.5, weights=weights, histtype='stepfilled',\n",
    "        bins=np.arange(0, 6.1, 0.1))\n",
    "\n",
    "se = np.log10(combined_info.ix[not_sig_cnvs, 'nearest_tss_dist'].abs() + 1)\n",
    "weights = np.ones_like(se) / float(se.shape[0])\n",
    "se.hist(ax=ax, label='Not eQTL'.format(se.shape[0]), \n",
    "        alpha=0.5, weights=weights, histtype='stepfilled',\n",
    "        bins=np.arange(0, 6.1, 0.1))\n",
    "ax.legend(fontsize=8, loc='upper left', fancybox=True, frameon=True)\n",
    "for t in ax.get_xticklabels() + ax.get_yticklabels():\n",
    "    t.set_fontsize(8)\n",
    "ax.set_xlabel('$\\\\log_{10}$ distance to nearest TSS', fontsize=8)\n",
    "ax.set_ylabel('Density', fontsize=8)\n",
    "\n",
    "# TSS distance without overlaps.\n",
    "ax = fig.add_subplot(gs[1, 0])\n",
    "a = combined_info.ix[sig_cnvs, 'nearest_tss_dist'].abs()\n",
    "a = a[a != 0]\n",
    "se = np.log10(a.abs())\n",
    "weights = np.ones_like(se) / float(se.shape[0])\n",
    "se.hist(ax=ax, label='eQTL'.format(se.shape[0]), \n",
    "        alpha=0.5, weights=weights, histtype='stepfilled',\n",
    "        bins=np.arange(0, 6.1, 0.1))\n",
    "\n",
    "b = combined_info.ix[not_sig_cnvs, 'nearest_tss_dist'].abs()\n",
    "b = b[b != 0]\n",
    "se = np.log10(b.abs())\n",
    "weights = np.ones_like(se) / float(se.shape[0])\n",
    "se.hist(ax=ax, label='Not eQTL'.format(se.shape[0]), \n",
    "        alpha=0.5, weights=weights, histtype='stepfilled',\n",
    "        bins=np.arange(0, 6.1, 0.1))\n",
    "ax.legend(fontsize=8, loc='upper left', fancybox=True, frameon=True)\n",
    "for t in ax.get_xticklabels() + ax.get_yticklabels():\n",
    "    t.set_fontsize(8)\n",
    "ax.set_xlabel('$\\\\log_{10}$ distance to nearest TSS', fontsize=8)\n",
    "ax.set_ylabel('Density', fontsize=8)\n",
    "\n",
    "t = fig.text(0.005, 0.86, 'A', weight='bold', \n",
    "             size=12)\n",
    "t = fig.text(0.5, 0.86, 'B', weight='bold', \n",
    "             size=12)\n",
    "t = fig.text(0.005, 0.42, 'C', weight='bold', \n",
    "             size=12)\n",
    "\n",
    "gs.tight_layout(fig, rect=[0, 0, 1, 0.9])\n",
    "\n",
    "fig.savefig(os.path.join(outdir, 'cnv_eqtl_chars.pdf'))\n",
    "fig.savefig(os.path.join(outdir, 'cnv_eqtl_chars.png'), dpi=300)"
   ]
  },
  {
   "cell_type": "code",
   "execution_count": null,
   "metadata": {
    "collapsed": true
   },
   "outputs": [],
   "source": []
  }
 ],
 "metadata": {
  "kernelspec": {
   "display_name": "Environment (cie)",
   "language": "",
   "name": "cie"
  },
  "language_info": {
   "codemirror_mode": {
    "name": "ipython",
    "version": 2
   },
   "file_extension": ".py",
   "mimetype": "text/x-python",
   "name": "python",
   "nbconvert_exporter": "python",
   "pygments_lexer": "ipython2",
   "version": "2.7.11"
  }
 },
 "nbformat": 4,
 "nbformat_minor": 0
}
