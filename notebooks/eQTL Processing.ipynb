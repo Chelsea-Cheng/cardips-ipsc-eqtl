{
 "cells": [
  {
   "cell_type": "markdown",
   "metadata": {},
   "source": [
    "# eQTL Processing"
   ]
  },
  {
   "cell_type": "code",
   "execution_count": 1,
   "metadata": {
    "collapsed": false
   },
   "outputs": [],
   "source": [
    "import glob\n",
    "import os\n",
    "import subprocess\n",
    "\n",
    "import matplotlib.pyplot as plt\n",
    "import numpy as np\n",
    "import pandas as pd\n",
    "import seaborn as sns\n",
    "import vcf as pyvcf\n",
    "\n",
    "import cardipspy as cpy\n",
    "import ciepy\n",
    "\n",
    "%matplotlib inline\n",
    "%load_ext rpy2.ipython"
   ]
  },
  {
   "cell_type": "code",
   "execution_count": 2,
   "metadata": {
    "collapsed": true
   },
   "outputs": [],
   "source": [
    "outdir = os.path.join(ciepy.root, 'output',\n",
    "                      'eqtl_processing')\n",
    "cpy.makedir(outdir)\n",
    "\n",
    "private_outdir = os.path.join(ciepy.root, 'private_output',\n",
    "                              'eqtl_processing')\n",
    "cpy.makedir(private_outdir)"
   ]
  },
  {
   "cell_type": "code",
   "execution_count": 3,
   "metadata": {
    "collapsed": false
   },
   "outputs": [],
   "source": [
    "exp = pd.read_table(os.path.join(\n",
    "        ciepy.root, 'output', 'eqtl_input', \n",
    "        'tpm_log_filtered_phe_std_norm_peer_resid.tsv'), \n",
    "                    index_col=0)"
   ]
  },
  {
   "cell_type": "markdown",
   "metadata": {},
   "source": [
    "## Results"
   ]
  },
  {
   "cell_type": "code",
   "execution_count": 6,
   "metadata": {
    "collapsed": true
   },
   "outputs": [],
   "source": [
    "# This calculates empirical p-values based on the p-values from permutations.\n",
    "min_fns = glob.glob(os.path.join(ciepy.root, 'output', 'run_eqtl_analysis', 'results', \n",
    "                                 '*', 'minimum_pvalues.tsv'))\n",
    "fn = os.path.join(outdir, 'pvalues.tsv')\n",
    "if os.path.exists(fn):\n",
    "    pvals = pd.read_table(fn, index_col=0,\n",
    "                          header=None, squeeze=True)\n",
    "else:\n",
    "    pvals = pd.Series()"
   ]
  },
  {
   "cell_type": "code",
   "execution_count": 5,
   "metadata": {
    "collapsed": true
   },
   "outputs": [],
   "source": [
    "# This calculates empirical p-values based on the p-values from permutations.\n",
    "min_fns = glob.glob(os.path.join(ciepy.root, 'output', 'run_eqtl_analysis', 'results', \n",
    "                                 '*', 'minimum_pvalues.tsv'))\n",
    "fn = os.path.join(outdir, 'pvalues.tsv')\n",
    "if os.path.exists(fn):\n",
    "    pvals = pd.read_table(fn, index_col=0,\n",
    "                          header=None, squeeze=True)\n",
    "else:\n",
    "    pvals = pd.Series()\n",
    "fn = os.path.join(outdir, 'most_sig.tsv')\n",
    "if os.path.exists(fn):\n",
    "    ms = pd.read_table(fn, index_col=0)\n",
    "else:\n",
    "    ms = pd.DataFrame()\n",
    "new_pvals = []\n",
    "new_genes = []\n",
    "most_sig = []\n",
    "most_sig_genes = []\n",
    "# I can speed this up by using some set commands here.\n",
    "for fn in min_fns:\n",
    "    if fn.split(os.path.sep)[-2] not in pvals.index:\n",
    "        g = fn.split(os.path.sep)[-2]\n",
    "        new_genes.append(g)\n",
    "        res_fn = os.path.join(os.path.split(fn)[0], '{}.tsv'.format(g))\n",
    "        res = ciepy.read_emmax_output(res_fn)\n",
    "        min_pvals = pd.read_table(fn, header=None, squeeze=True)\n",
    "        p = (1 + sum(min_pvals <= res.PVALUE.min())) / float(min_pvals.shape[0] + 1)\n",
    "        new_pvals.append(p)\n",
    "        t = res[res.PVALUE == res.PVALUE.min()]\n",
    "        most_sig_genes += [g] * t.shape[0]\n",
    "        most_sig += list(t.values)\n",
    "new_pvals = pd.Series(new_pvals, index=new_genes)\n",
    "pvals = pd.concat([pvals, new_pvals])\n",
    "pvals.to_csv(os.path.join(outdir, 'pvalues.tsv'), sep='\\t')\n",
    "most_sig = pd.DataFrame(most_sig, index=most_sig_genes,\n",
    "                        columns=res.columns)\n",
    "most_sig.columns = [x.lower() for x in most_sig.columns]\n",
    "most_sig['chrom'] = 'chr' + most_sig.chrom.astype(str)\n",
    "most_sig['coord'] = most_sig.beg\n",
    "most_sig['loc'] = most_sig.chrom + ':' + most_sig.coord.astype(str)\n",
    "most_sig['gene'] = most_sig.index\n",
    "most_sig = most_sig.drop(['beg'], axis=1)\n",
    "most_sig = most_sig[['chrom', 'coord', 'loc', 'gene', 'marker_id', 'ns', 'ac', \n",
    "                     'callrate', 'genocnt', 'maf', 'stat', 'pvalue', 'beta',\n",
    "                     'sebeta', 'r2']]\n",
    "ms = pd.concat([ms, most_sig])\n",
    "ms.to_csv(os.path.join(outdir, 'most_sig.tsv'), sep='\\t')"
   ]
  },
  {
   "cell_type": "code",
   "execution_count": 28,
   "metadata": {
    "collapsed": false
   },
   "outputs": [
    {
     "data": {
      "image/png": "[encoded data removed]",
      "text/plain": [
       "<matplotlib.figure.Figure at 0x7f43543e12d0>"
      ]
     },
     "metadata": {},
     "output_type": "display_data"
    }
   ],
   "source": [
    "pvals.hist(bins=20)\n",
    "plt.ylabel('Number of genes')\n",
    "plt.xlabel('$p$ value')\n",
    "plt.title('$p$-value distribution')\n",
    "plt.tight_layout()\n",
    "plt.savefig(os.path.join(outdir, 'p_value_hist.pdf'))"
   ]
  },
  {
   "cell_type": "code",
   "execution_count": 8,
   "metadata": {
    "collapsed": false
   },
   "outputs": [
    {
     "data": {
      "image/png": "[encoded data removed]",
      "text/plain": [
       "<matplotlib.figure.Figure at 0x7f43578ab990>"
      ]
     },
     "metadata": {},
     "output_type": "display_data"
    }
   ],
   "source": [
    "(-np.log10(pvals)).hist(bins=20)\n",
    "plt.ylabel('Number of genes')\n",
    "plt.xlabel('$-\\log_{10}$ $p$ value')\n",
    "plt.title('$-\\log_{10}$ $p$-value distribution');"
   ]
  },
  {
   "cell_type": "markdown",
   "metadata": {},
   "source": [
    "## FDR"
   ]
  },
  {
   "cell_type": "code",
   "execution_count": 9,
   "metadata": {
    "collapsed": false
   },
   "outputs": [],
   "source": [
    "%%R\n",
    "\n",
    "library(qvalue)"
   ]
  },
  {
   "cell_type": "markdown",
   "metadata": {},
   "source": [
    "From the qvalue manual:\n",
    "    \n",
    "*The argument stat must be such that the larger the value is the more deviated (i.e., \"more extreme\")\n",
    "from the null hypothesis it is. Examples include an F-statistic or the absolute value of a t-statistic.\n",
    "The argument stat0 should be calculated analogously on data that represents observations from\n",
    "the null hypothesis distribution. The p-values are calculated as the proportion of values from stat0\n",
    "that are greater than or equal to that from stat. If pool=TRUE is selected, then all of stat0 is used\n",
    "in calculating the p-value for a given entry of stat. If pool=FALSE, then it is assumed that stat0\n",
    "is a matrix, where stat0[i,] is used to calculate the p-value for stat[i]. The function empPvals\n",
    "calculates \"pooled\" p-values faster than using a for-loop.*\n",
    "\n",
    "I think I should be able to use the $-\\log_{10}$ $p$-values is a statistic to derive empirical\n",
    "$p$-values that I can then use with qvalue."
   ]
  },
  {
   "cell_type": "code",
   "execution_count": 10,
   "metadata": {
    "collapsed": false
   },
   "outputs": [
    {
     "data": {
      "text/plain": [
       "\n",
       "Call:\n",
       "qvalue(p = pvals, fdr.level = 0.05)\n",
       "\n",
       "pi0:\t0.4571629\t\n",
       "\n",
       "Cumulative number of significant calls:\n",
       "\n",
       "        <1e-04 <0.001 <0.01 <0.025 <0.05 <0.1    <1\n",
       "p-value   2521   3281  4349   5203  6075 7480 19740\n",
       "q-value      0   2883  3869   4501  5417 6800 19749\n",
       "\n"
      ]
     },
     "metadata": {},
     "output_type": "display_data"
    }
   ],
   "source": [
    "%%R -i pvals -o qvalues,pi0,lfdr,sig\n",
    "\n",
    "qobj = qvalue(p=pvals, fdr.level=0.05)\n",
    "#qobj = qvalue(p=pvals)\n",
    "qvalues <- qobj$qvalues\n",
    "pi0 <- qobj$pi0\n",
    "lfdr <- qobj$lfdr\n",
    "sig <- qobj$significant\n",
    "\n",
    "summary(qobj)"
   ]
  },
  {
   "cell_type": "markdown",
   "metadata": {},
   "source": [
    "`pi0` is the estimated proportion of true null hypotheses."
   ]
  },
  {
   "cell_type": "code",
   "execution_count": 11,
   "metadata": {
    "collapsed": false
   },
   "outputs": [
    {
     "data": {
      "image/png": "[encoded data removed]"
     },
     "metadata": {},
     "output_type": "display_data"
    }
   ],
   "source": [
    "%%R\n",
    "\n",
    "plot(qobj)"
   ]
  },
  {
   "cell_type": "code",
   "execution_count": null,
   "metadata": {
    "collapsed": true
   },
   "outputs": [],
   "source": [
    "qvalue_res = pd.DataFrame([list(pvals), list(qvalues), list(sig)], \n",
    "                          index=['pvalue', 'qvalue', 'sig'],\n",
    "                          columns=pvals.index).T\n",
    "qvalue_res = qvalue_res.sort(['qvalue'])\n",
    "qvalues = pd.Series(list(qvalues), index=pvals.index)\n",
    "qvalue_res.index.name = 'gene_id'\n",
    "qvalue_res.to_csv(os.path.join(outdir, 'qvalues.tsv'), sep='\\t')"
   ]
  },
  {
   "cell_type": "code",
   "execution_count": 29,
   "metadata": {
    "collapsed": false
   },
   "outputs": [
    {
     "data": {
      "image/png": "[encoded data removed]",
      "text/plain": [
       "<matplotlib.figure.Figure at 0x7f43578aba10>"
      ]
     },
     "metadata": {},
     "output_type": "display_data"
    }
   ],
   "source": [
    "qvalues.hist()\n",
    "plt.title('$q$-value histogram')\n",
    "plt.ylabel('Number of genes')\n",
    "plt.xlabel('$q$-value')\n",
    "plt.tight_layout()\n",
    "plt.savefig(os.path.join(outdir, 'q_value_hist.pdf'))"
   ]
  },
  {
   "cell_type": "markdown",
   "metadata": {
    "collapsed": true
   },
   "source": [
    "### Significant SNV-Gene Pairs\n",
    "\n",
    "I'm trying to figure out what the GTEx paper did. My understanding is that they\n",
    "determined what empirical $p$-value corresponded to a $q$-value of 0.05. They mapped\n",
    "this empirical $p$-value back to the nominal $p$-values for each gene to produce a \n",
    "cutoff for each gene. I guess this mapping would be \"what nominal $p$-value yields\n",
    "the empirical $p$-value that is equivalent to $q=0.05$?\""
   ]
  },
  {
   "cell_type": "code",
   "execution_count": 13,
   "metadata": {
    "collapsed": false
   },
   "outputs": [
    {
     "data": {
      "text/plain": [
       "0.022977022977022976"
      ]
     },
     "execution_count": 13,
     "metadata": {},
     "output_type": "execute_result"
    }
   ],
   "source": [
    "23 / 1001."
   ]
  },
  {
   "cell_type": "code",
   "execution_count": 14,
   "metadata": {
    "collapsed": false
   },
   "outputs": [
    {
     "data": {
      "text/plain": [
       "0.022897710228977103"
      ]
     },
     "execution_count": 14,
     "metadata": {},
     "output_type": "execute_result"
    }
   ],
   "source": [
    "229/ 10001."
   ]
  },
  {
   "cell_type": "markdown",
   "metadata": {
    "collapsed": true
   },
   "source": [
    "## Pseudoheritability\n",
    "\n",
    "These pseudoheratibility estimates may not be that accurate because I've \n",
    "regressed out the PEER factors which could remove broad genetic effects\n",
    "on expression. I probably want to re-run EMMAX without the PEER factors \n",
    "to estimate heritability."
   ]
  },
  {
   "cell_type": "code",
   "execution_count": null,
   "metadata": {
    "collapsed": true
   },
   "outputs": [],
   "source": [
    "fn = os.path.join(ciepy.root, 'output', 'eqtl_processing',\n",
    "                  'pseudoheritability.tsv')\n",
    "if os.path.exists(fn):\n",
    "    ph = pd.read_table(fn, index_col=0)\n",
    "    todo = set(pvals.index) - set(ph.index)\n",
    "    new_ph = pd.DataFrame(\n",
    "        -1, index=todo,\n",
    "        columns=['observed', 'mean_permuted', 'median_permuted'])\n",
    "else:\n",
    "    todo = list(ph.index)\n",
    "    ph = pd.DataFrame(columns=['observed', 'mean_permuted', 'median_permuted'])\n",
    "    new_ph = pd.DataFrame(\n",
    "        -1, index=todo,\n",
    "        columns=['observed', 'mean_permuted', 'median_permuted'])\n",
    "\n",
    "for i in new_ph.index:\n",
    "    new_ph.ix[i, 'observed'] = float(open(os.path.join(\n",
    "            ciepy.root, 'output', 'run_eqtl_analysis', 'results', i, \n",
    "            '{}.reml'.format(i))).read().split('\\n')[5].split()[1])\n",
    "    fn = os.path.join(ciepy.root, 'output', 'run_eqtl_analysis', \n",
    "                      'results', i, 'permuted_reml.tsv')\n",
    "    df = pd.read_table(fn, low_memory=False)\n",
    "    new_ph.ix[i, 'mean_permuted'] = df.h2.mean()\n",
    "    new_ph.ix[i, 'median_permuted'] = df.h2.median()\n",
    "ph = pd.concat([ph, new_ph])\n",
    "ph.to_csv(fn, sep='\\t')"
   ]
  },
  {
   "cell_type": "markdown",
   "metadata": {},
   "source": [
    "## Combined Results\n",
    "\n",
    "I want to make a file with all EMMAX results combined. I am going to \n",
    "sort this file by position and $p$-value. This will allow me to \n",
    "collect some stats like the smallest $p$-value observed for each SNV,\n",
    "how many times a SNV was tested, etc.\n",
    "\n",
    "Note that the sorting command below takes some time to run."
   ]
  },
  {
   "cell_type": "code",
   "execution_count": null,
   "metadata": {
    "collapsed": true
   },
   "outputs": [],
   "source": [
    "out = os.path.join(outdir, 'all_snv_results_sorted.tsv.gz')\n",
    "if not os.path.exists(out):\n",
    "    fns = glob.glob(os.path.join(ciepy.root, 'output', 'run_eqtl_analysis', \n",
    "                                 'results', 'ENS*', 'ENS*.tsv'))\n",
    "    import tempfile\n",
    "    f = tempfile.NamedTemporaryFile()\n",
    "    f.write('\\n'.join(fns) + '\\n')\n",
    "    c = (r\"cat {} | xargs -n 32 cat | grep -v '^#' | \"\n",
    "         \"sort -T /projects/cdeboever --parallel 16 -k1,1 -k2,2n -k 11 > {}\".format(\n",
    "            f.name, os.path.splitext(out)[0]))\n",
    "    subprocess.check_call(c, shell=True)\n",
    "    f.close()\n",
    "    c = '{}/bgzip {}'.format(cpy.htslib, os.path.splitext(out)[0])\n",
    "    subprocess.check_call(c, shell=True)\n",
    "    c = '{}/tabix -p bed {}'.format(cpy.htslib, out)\n",
    "    subprocess.check_call(c, shell=True)"
   ]
  },
  {
   "cell_type": "code",
   "execution_count": 67,
   "metadata": {
    "collapsed": false
   },
   "outputs": [],
   "source": [
    "out = os.path.join(outdir, 'top_snv_results_sorted.tsv.gz')\n",
    "if not os.path.exists(out):\n",
    "    i = os.path.join(outdir, 'all_snv_results_sorted.tsv.gz')\n",
    "    c = (\"zcat {} | awk 'a!~$1 || b!~$2 || c!~$3 ; {{a=$1}} {{b=$2}} {{c=$3}}' | \"\n",
    "         \"{}/bgzip -c > {}\".format(i, cpy.htslib, out))\n",
    "    subprocess.check_call(c, shell=True)\n",
    "    c = '{}/tabix -p bed {}'.format(cpy.htslib, out)\n",
    "    subprocess.check_call(c, shell=True)"
   ]
  }
 ],
 "metadata": {
  "kernelspec": {
   "display_name": "Python 2",
   "language": "python",
   "name": "python2"
  },
  "language_info": {
   "codemirror_mode": {
    "name": "ipython",
    "version": 2
   },
   "file_extension": ".py",
   "mimetype": "text/x-python",
   "name": "python",
   "nbconvert_exporter": "python",
   "pygments_lexer": "ipython2",
   "version": "2.7.10"
  }
 },
 "nbformat": 4,
 "nbformat_minor": 0
}
