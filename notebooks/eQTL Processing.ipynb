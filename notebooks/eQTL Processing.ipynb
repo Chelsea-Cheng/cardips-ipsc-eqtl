{
 "cells": [
  {
   "cell_type": "code",
   "execution_count": 1,
   "metadata": {
    "collapsed": true
   },
   "outputs": [],
   "source": [
    "import glob\n",
    "import os\n",
    "import subprocess\n",
    "\n",
    "import matplotlib.pyplot as plt\n",
    "import numpy as np\n",
    "import pandas as pd\n",
    "import seaborn as sns\n",
    "\n",
    "import ciepy as cpy\n",
    "import projectpy as ppy\n",
    "\n",
    "%matplotlib inline\n",
    "%load_ext rpy2.ipython"
   ]
  },
  {
   "cell_type": "code",
   "execution_count": 2,
   "metadata": {
    "collapsed": true
   },
   "outputs": [],
   "source": [
    "gene_info = pd.read_table(ppy.gencode_gene_info, index_col=0)"
   ]
  },
  {
   "cell_type": "code",
   "execution_count": 3,
   "metadata": {
    "collapsed": false
   },
   "outputs": [],
   "source": [
    "%%R \n",
    "\n",
    "library(qvalue)"
   ]
  },
  {
   "cell_type": "markdown",
   "metadata": {},
   "source": [
    "From the qvalue manual:\n",
    "    \n",
    "*The argument stat must be such that the larger the value is the more deviated (i.e., \"more extreme\")\n",
    "from the null hypothesis it is. Examples include an F-statistic or the absolute value of a t-statistic.\n",
    "The argument stat0 should be calculated analogously on data that represents observations from\n",
    "the null hypothesis distribution. The p-values are calculated as the proportion of values from stat0\n",
    "that are greater than or equal to that from stat. If pool=TRUE is selected, then all of stat0 is used\n",
    "in calculating the p-value for a given entry of stat. If pool=FALSE, then it is assumed that stat0\n",
    "is a matrix, where stat0[i,] is used to calculate the p-value for stat[i]. The function empPvals\n",
    "calculates \"pooled\" p-values faster than using a for-loop.*\n",
    "\n",
    "I think I should be able to use the $-\\log_{10}$ $p$-values is a statistic to derive empirical\n",
    "$p$-values that I can then use with qvalue."
   ]
  },
  {
   "cell_type": "code",
   "execution_count": 34,
   "metadata": {
    "collapsed": true
   },
   "outputs": [],
   "source": [
    "res_fns = glob.glob(os.path.join(cpy.root, 'output', 'run_eqtl_analysis', 'test_results', \n",
    "                                 '*', 'ENS*.tsv'))\n",
    "min_fns = glob.glob(os.path.join(cpy.root, 'output', 'run_eqtl_analysis', 'test_results', \n",
    "                                 '*', 'minimum_pvalues.tsv'))\n",
    "res_genes = set([os.path.splitext(os.path.split(x)[1])[0] for x in res_fns])\n",
    "min_genes = set([x.split('/')[-2] for x in min_fns])\n",
    "not_done = res_genes - min_genes\n",
    "res_fns = [x for x in res_fns if os.path.splitext(os.path.split(x)[1])[0] not in not_done]\n",
    "\n",
    "xgenes = set(gene_info[gene_info.chrom == 'chrX'].index)\n",
    "res_fns = [x for x in res_fns if os.path.splitext(os.path.split(x)[1])[0] not in xgenes]\n",
    "min_fns = [x for x in min_fns if x.split('/')[-2] not in xgenes]"
   ]
  },
  {
   "cell_type": "code",
   "execution_count": 35,
   "metadata": {
    "collapsed": false
   },
   "outputs": [],
   "source": [
    "pvals = []\n",
    "for i, res_fn in enumerate(res_fns):\n",
    "    assert os.path.splitext(os.path.split(res_fn)[1])[0] == min_fns[i].split('/')[-2]\n",
    "    res = pd.read_table(res_fn)\n",
    "    min_pvals = pd.read_table(min_fns[i], header=None, squeeze=True)\n",
    "    p = sum(min_pvals > res.PVALUE.min()) / float(min_pvals.shape[0])\n",
    "    pvals.append(p)\n",
    "pvals = pd.Series(pvals)"
   ]
  },
  {
   "cell_type": "code",
   "execution_count": 36,
   "metadata": {
    "collapsed": false
   },
   "outputs": [
    {
     "data": {
      "image/png": "[encoded data removed]",
      "text/plain": [
       "<matplotlib.figure.Figure at 0x7f1fcf213110>"
      ]
     },
     "metadata": {},
     "output_type": "display_data"
    }
   ],
   "source": [
    "pvals.hist(bins=20)\n",
    "plt.ylabel('Number of genes')\n",
    "plt.xlabel('$p$ value')\n",
    "plt.title('$p$ value distribution');"
   ]
  },
  {
   "cell_type": "code",
   "execution_count": 43,
   "metadata": {
    "collapsed": false
   },
   "outputs": [
    {
     "data": {
      "text/plain": [
       "\n",
       "Call:\n",
       "qvalue(p = pvals, fdr.level = 0.1)\n",
       "\n",
       "pi0:\t0.9540681\t\n",
       "\n",
       "Cumulative number of significant calls:\n",
       "\n",
       "        <1e-04 <0.001 <0.01 <0.025 <0.05 <0.1   <1\n",
       "p-value      0      0    24     50   118  249 2328\n",
       "q-value      0      0     0      0     0    0 2328\n",
       "\n"
      ]
     },
     "metadata": {},
     "output_type": "display_data"
    }
   ],
   "source": [
    "%%R -i pvals -o qvalues,pi0,lfdr,sig\n",
    "\n",
    "qobj = qvalue(p=pvals, fdr.level=0.1)\n",
    "qvalues <- qobj$qvalues\n",
    "pi0 <- qobj$pi0\n",
    "lfdr <- qobj$lfdr\n",
    "sig <- qobj$significant\n",
    "\n",
    "summary(qobj)"
   ]
  },
  {
   "cell_type": "markdown",
   "metadata": {},
   "source": [
    "`pi0` is the estimated proportion of true null hypotheses."
   ]
  },
  {
   "cell_type": "code",
   "execution_count": 44,
   "metadata": {
    "collapsed": false
   },
   "outputs": [
    {
     "data": {
      "text/plain": [
       "<FloatVector - Python:0x7f1fd04e28c0 / R:0x428ed78>\n",
       "[0.954068]"
      ]
     },
     "execution_count": 44,
     "metadata": {},
     "output_type": "execute_result"
    }
   ],
   "source": [
    "pi0"
   ]
  },
  {
   "cell_type": "code",
   "execution_count": 39,
   "metadata": {
    "collapsed": false
   },
   "outputs": [],
   "source": [
    "qvalues = pd.Series(list(qvalues))"
   ]
  },
  {
   "cell_type": "code",
   "execution_count": 40,
   "metadata": {
    "collapsed": false
   },
   "outputs": [
    {
     "data": {
      "text/plain": [
       "<matplotlib.axes._subplots.AxesSubplot at 0x7f1fd0beb590>"
      ]
     },
     "execution_count": 40,
     "metadata": {},
     "output_type": "execute_result"
    },
    {
     "data": {
      "image/png": "[encoded data removed]",
      "text/plain": [
       "<matplotlib.figure.Figure at 0x7f1fd0bebf90>"
      ]
     },
     "metadata": {},
     "output_type": "display_data"
    }
   ],
   "source": [
    "qvalues.hist()"
   ]
  },
  {
   "cell_type": "code",
   "execution_count": null,
   "metadata": {
    "collapsed": true
   },
   "outputs": [],
   "source": []
  }
 ],
 "metadata": {
  "kernelspec": {
   "display_name": "Python 2",
   "language": "python",
   "name": "python2"
  },
  "language_info": {
   "codemirror_mode": {
    "name": "ipython",
    "version": 2
   },
   "file_extension": ".py",
   "mimetype": "text/x-python",
   "name": "python",
   "nbconvert_exporter": "python",
   "pygments_lexer": "ipython2",
   "version": "2.7.10"
  }
 },
 "nbformat": 4,
 "nbformat_minor": 0
}
