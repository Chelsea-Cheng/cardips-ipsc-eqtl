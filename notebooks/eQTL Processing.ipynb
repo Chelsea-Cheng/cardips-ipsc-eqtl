{
 "cells": [
  {
   "cell_type": "markdown",
   "metadata": {},
   "source": [
    "# eQTL Processing"
   ]
  },
  {
   "cell_type": "code",
   "execution_count": 1,
   "metadata": {
    "collapsed": false
   },
   "outputs": [
    {
     "name": "stderr",
     "output_type": "stream",
     "text": [
      "/frazer01/home/cdeboever/software/anaconda/envs/cie/lib/python2.7/site-packages/matplotlib/__init__.py:872: UserWarning: axes.color_cycle is deprecated and replaced with axes.prop_cycle; please use the latter.\n",
      "  warnings.warn(self.msg_depr % (key, alt_key))\n"
     ]
    }
   ],
   "source": [
    "import glob\n",
    "import os\n",
    "import random\n",
    "random.seed(20151226)\n",
    "import subprocess\n",
    "\n",
    "import cdpybio as cpb\n",
    "import matplotlib.pyplot as plt\n",
    "import numpy as np\n",
    "import pandas as pd\n",
    "import seaborn as sns\n",
    "import vcf as pyvcf\n",
    "\n",
    "import cardipspy as cpy\n",
    "import ciepy\n",
    "\n",
    "%matplotlib inline\n",
    "%load_ext rpy2.ipython"
   ]
  },
  {
   "cell_type": "code",
   "execution_count": 2,
   "metadata": {
    "collapsed": true
   },
   "outputs": [],
   "source": [
    "outdir = os.path.join(ciepy.root, 'output',\n",
    "                      'eqtl_processing')\n",
    "cpy.makedir(outdir)\n",
    "\n",
    "private_outdir = os.path.join(ciepy.root, 'private_output',\n",
    "                              'eqtl_processing')\n",
    "cpy.makedir(private_outdir)"
   ]
  },
  {
   "cell_type": "code",
   "execution_count": 3,
   "metadata": {
    "collapsed": false
   },
   "outputs": [],
   "source": [
    "exp = pd.read_table(os.path.join(\n",
    "        ciepy.root, 'output', 'eqtl_input', \n",
    "        'tpm_log_filtered_phe_std_norm_peer_resid.tsv'), \n",
    "                    index_col=0)"
   ]
  },
  {
   "cell_type": "markdown",
   "metadata": {},
   "source": [
    "## Results"
   ]
  },
  {
   "cell_type": "code",
   "execution_count": 4,
   "metadata": {
    "collapsed": true
   },
   "outputs": [],
   "source": [
    "# This calculates empirical p-values based on the p-values from permutations.\n",
    "min_fns = glob.glob(os.path.join(ciepy.root, 'output', 'run_eqtl_analysis', 'results', \n",
    "                                 '*', 'minimum_pvalues.tsv'))\n",
    "min_fns = pd.Series(min_fns, index=[fn.split(os.path.sep)[-2] for fn in min_fns])\n",
    "fn = os.path.join(outdir, 'pvalues.tsv')\n",
    "if os.path.exists(fn):\n",
    "    pvals = pd.read_table(fn, index_col=0,\n",
    "                          header=None, squeeze=True)\n",
    "else:\n",
    "    pvals = pd.Series()\n",
    "fn = os.path.join(outdir, 'most_sig.tsv')\n",
    "if os.path.exists(fn):\n",
    "    ms = pd.read_table(fn, index_col=0)\n",
    "else:\n",
    "    ms = pd.DataFrame()\n",
    "new_pvals = []\n",
    "new_genes = []\n",
    "most_sig = []\n",
    "most_sig_genes = []\n",
    "\n",
    "min_fns = min_fns[set(min_fns.index) - set(pvals.index)]\n",
    "for fn in min_fns.values:\n",
    "    g = fn.split(os.path.sep)[-2]\n",
    "    new_genes.append(g)\n",
    "    res_fn = os.path.join(os.path.split(fn)[0], '{}.tsv'.format(g))\n",
    "    res = ciepy.read_emmax_output(res_fn)\n",
    "    min_pvals = pd.read_table(fn, header=None, squeeze=True)\n",
    "    p = (1 + sum(min_pvals <= res.PVALUE.min())) / float(min_pvals.shape[0] + 1)\n",
    "    new_pvals.append(p)\n",
    "    t = res[res.PVALUE == res.PVALUE.min()]\n",
    "    most_sig_genes += [g] * t.shape[0]\n",
    "    most_sig += list(t.values)\n",
    "if len(min_fns) == 0:\n",
    "    g = pvals.index[0]\n",
    "    res_fn = os.path.join(ciepy.root, 'output', 'run_eqtl_analysis', \n",
    "                          'results', g, '{}.tsv'.format(g))\n",
    "    res = ciepy.read_emmax_output(res_fn)\n",
    "new_pvals = pd.Series(new_pvals, index=new_genes)\n",
    "if new_pvals.shape[0] > 0:\n",
    "    pvals = pd.concat([pvals, new_pvals])\n",
    "pvals.to_csv(os.path.join(outdir, 'pvalues.tsv'), sep='\\t')\n",
    "\n",
    "if len(most_sig) > 0:    \n",
    "    most_sig = pd.DataFrame(most_sig, index=most_sig_genes,\n",
    "                            columns=res.columns)\n",
    "    most_sig.columns = [x.lower() for x in most_sig.columns]\n",
    "    most_sig['chrom'] = 'chr' + most_sig.chrom.astype(str)\n",
    "    most_sig['coord'] = most_sig.beg\n",
    "    most_sig['loc'] = most_sig.chrom + ':' + most_sig.coord.astype(str)\n",
    "    most_sig['gene'] = most_sig.index\n",
    "    most_sig = most_sig[['chrom', 'beg', 'end', 'loc', 'gene', 'marker_id', 'ns', 'ac', \n",
    "                         'callrate', 'genocnt', 'maf', 'stat', 'pvalue', 'beta',\n",
    "                         'sebeta', 'r2']]\n",
    "    most_sig.columns = ['chrom', 'start'] + list(most_sig.columns[2:])\n",
    "    most_sig['start'] -= 1\n",
    "    most_sig['ref'] = most_sig.marker_id.apply(lambda x: x.split('_')[1].split('/')[0])\n",
    "    most_sig['alt'] = most_sig.marker_id.apply(lambda x: x.split('_')[1].split('/')[1])\n",
    "    most_sig['length'] = most_sig.apply(lambda x: max(len(x['ref']), len(x['alt'])), axis=1)\n",
    "    most_sig['length'] = (most_sig.ref.apply(lambda x: len(x)) - most_sig.alt.apply(lambda x: len(x))).abs()\n",
    "    most_sig['vtype'] = 'snp'\n",
    "    most_sig.ix[most_sig.ref.apply(lambda x: len(x)) > most_sig.alt.apply(lambda x: len(x)), 'vtype'] = 'del'\n",
    "    most_sig.ix[most_sig.ref.apply(lambda x: len(x)) < most_sig.alt.apply(lambda x: len(x)), 'vtype'] = 'ins'\n",
    "    most_sig = pd.concat([ms, most_sig])\n",
    "else:\n",
    "    most_sig = ms\n",
    "most_sig.to_csv(os.path.join(outdir, 'most_sig.tsv'), sep='\\t')"
   ]
  },
  {
   "cell_type": "code",
   "execution_count": 5,
   "metadata": {
    "collapsed": false
   },
   "outputs": [
    {
     "data": {
      "image/png": "[encoded data removed]",
      "text/plain": [
       "<matplotlib.figure.Figure at 0x7f3c439f1f90>"
      ]
     },
     "metadata": {},
     "output_type": "display_data"
    }
   ],
   "source": [
    "pvals.hist(bins=20)\n",
    "plt.ylabel('Number of genes')\n",
    "plt.xlabel('$p$ value')\n",
    "plt.title('$p$-value distribution')\n",
    "plt.tight_layout()\n",
    "plt.savefig(os.path.join(outdir, 'p_value_hist.pdf'))"
   ]
  },
  {
   "cell_type": "code",
   "execution_count": 6,
   "metadata": {
    "collapsed": false
   },
   "outputs": [
    {
     "data": {
      "image/png": "[encoded data removed]",
      "text/plain": [
       "<matplotlib.figure.Figure at 0x7f3c4104f510>"
      ]
     },
     "metadata": {},
     "output_type": "display_data"
    }
   ],
   "source": [
    "(-np.log10(pvals)).hist(bins=20)\n",
    "plt.ylabel('Number of genes')\n",
    "plt.xlabel('$-\\log_{10}$ $p$ value')\n",
    "plt.title('$-\\log_{10}$ $p$-value distribution');"
   ]
  },
  {
   "cell_type": "markdown",
   "metadata": {},
   "source": [
    "## FDR Correction"
   ]
  },
  {
   "cell_type": "code",
   "execution_count": 7,
   "metadata": {
    "collapsed": false
   },
   "outputs": [],
   "source": [
    "%%R\n",
    "\n",
    "library(qvalue)"
   ]
  },
  {
   "cell_type": "markdown",
   "metadata": {},
   "source": [
    "From the qvalue manual:\n",
    "    \n",
    "*The argument stat must be such that the larger the value is the more deviated (i.e., \"more extreme\")\n",
    "from the null hypothesis it is. Examples include an F-statistic or the absolute value of a t-statistic.\n",
    "The argument stat0 should be calculated analogously on data that represents observations from\n",
    "the null hypothesis distribution. The p-values are calculated as the proportion of values from stat0\n",
    "that are greater than or equal to that from stat. If pool=TRUE is selected, then all of stat0 is used\n",
    "in calculating the p-value for a given entry of stat. If pool=FALSE, then it is assumed that stat0\n",
    "is a matrix, where stat0[i,] is used to calculate the p-value for stat[i]. The function empPvals\n",
    "calculates \"pooled\" p-values faster than using a for-loop.*\n",
    "\n",
    "I think I should be able to use the $-\\log_{10}$ $p$-values is a statistic to derive empirical\n",
    "$p$-values that I can then use with qvalue."
   ]
  },
  {
   "cell_type": "code",
   "execution_count": 8,
   "metadata": {
    "collapsed": false
   },
   "outputs": [
    {
     "data": {
      "text/plain": [
       "\n",
       "Call:\n",
       "qvalue(p = pvals, fdr.level = 0.05)\n",
       "\n",
       "pi0:\t0.4053552\t\n",
       "\n",
       "Cumulative number of significant calls:\n",
       "\n",
       "          <1e-04 <0.001 <0.01 <0.025 <0.05 <0.1    <1\n",
       "p-value     2537   3256  4294   5099  5941 7102 17765\n",
       "q-value        0   2975  3969   4685  5563 7066 17769\n",
       "local FDR      0   2537  3136   3421  3706 4247 17769\n",
       "\n"
      ]
     },
     "metadata": {},
     "output_type": "display_data"
    }
   ],
   "source": [
    "%%R -i pvals -o qvalues,pi0,lfdr,sig\n",
    "\n",
    "qobj = qvalue(p=pvals, fdr.level=0.05)\n",
    "#qobj = qvalue(p=pvals)\n",
    "qvalues <- qobj$qvalues\n",
    "pi0 <- qobj$pi0\n",
    "lfdr <- qobj$lfdr\n",
    "sig <- qobj$significant\n",
    "\n",
    "summary(qobj)"
   ]
  },
  {
   "cell_type": "markdown",
   "metadata": {},
   "source": [
    "`pi0` is the estimated proportion of true null hypotheses."
   ]
  },
  {
   "cell_type": "code",
   "execution_count": 9,
   "metadata": {
    "collapsed": false
   },
   "outputs": [
    {
     "data": {
      "image/png": "[encoded data removed]"
     },
     "metadata": {},
     "output_type": "display_data"
    }
   ],
   "source": [
    "%%R\n",
    "\n",
    "plot(qobj)"
   ]
  },
  {
   "cell_type": "code",
   "execution_count": 10,
   "metadata": {
    "collapsed": false
   },
   "outputs": [],
   "source": [
    "qvalue_res = pd.DataFrame([list(pvals), list(qvalues), list(sig)], \n",
    "                          index=['pvalue', 'qvalue', 'sig'],\n",
    "                          columns=pvals.index).T\n",
    "qvalue_res['sig'] = qvalue_res.sig.astype(bool)\n",
    "qvalue_res = qvalue_res.sort_values(['qvalue'])\n",
    "qvalues = pd.Series(list(qvalues), index=pvals.index)\n",
    "qvalue_res.index.name = 'gene_id'\n",
    "qvalue_res.to_csv(os.path.join(outdir, 'qvalues.tsv'), sep='\\t')"
   ]
  },
  {
   "cell_type": "code",
   "execution_count": 11,
   "metadata": {
    "collapsed": false
   },
   "outputs": [
    {
     "data": {
      "image/png": "[encoded data removed]",
      "text/plain": [
       "<matplotlib.figure.Figure at 0x7f3c32e6f190>"
      ]
     },
     "metadata": {},
     "output_type": "display_data"
    }
   ],
   "source": [
    "qvalues.hist()\n",
    "plt.title('$q$-value histogram')\n",
    "plt.ylabel('Number of genes')\n",
    "plt.xlabel('$q$-value')\n",
    "plt.tight_layout()\n",
    "plt.savefig(os.path.join(outdir, 'q_value_hist.pdf'))"
   ]
  },
  {
   "cell_type": "markdown",
   "metadata": {},
   "source": [
    "## Most Significant Variant per Gene\n",
    "\n",
    "It can be useful to define the most significant variant per gene\n",
    "for various analyses. I've already done that except sometimes there\n",
    "are ties. I'll choose just one variant per gene here so that I can \n",
    "use a consistent set of most significant variants in other analyses."
   ]
  },
  {
   "cell_type": "code",
   "execution_count": 12,
   "metadata": {
    "collapsed": true
   },
   "outputs": [],
   "source": [
    "fn = os.path.join(outdir, 'most_sig_single.tsv')\n",
    "if not os.path.exists(fn):\n",
    "    t = qvalue_res.copy(deep=True)\n",
    "    t.columns = ['{}_gene'.format(x) for x in t.columns]\n",
    "    most_sig_single = most_sig.join(t)\n",
    "    # To choose randomly, I'll assign a random number to each row, then sort\n",
    "    # by gene and row.\n",
    "    random.seed(204050)\n",
    "    most_sig_single['random'] = [random.random() for x in most_sig_single.index]\n",
    "    most_sig_single = most_sig_single.sort_values(by=['gene', 'random'])\n",
    "    most_sig_single = most_sig_single.drop_duplicates(subset=['gene'])\n",
    "    most_sig_single = most_sig_single.drop(['gene', 'random'], axis=1)\n",
    "    most_sig_single.to_csv(fn, sep='\\t')\n",
    "else:\n",
    "    most_sig_single = pd.read_table(fn, index_col=0)"
   ]
  },
  {
   "cell_type": "markdown",
   "metadata": {},
   "source": [
    "I also want to get the most significant SNV per gene since some analyses\n",
    "won't work with indels. I'll replace indels with a random most-significant\n",
    "SNV."
   ]
  },
  {
   "cell_type": "code",
   "execution_count": null,
   "metadata": {
    "collapsed": true
   },
   "outputs": [],
   "source": [
    "fn = os.path.join(outdir, 'most_sig_single_snv.tsv')\n",
    "if not os.path.exists(fn):\n",
    "    indel_genes = most_sig_single[(most_sig_single.end - most_sig_single.start) > 1].index\n",
    "    new_rows = []\n",
    "    dy = os.path.join(ciepy.root, 'output', 'run_eqtl_analysis', 'results')\n",
    "    for g in indel_genes:\n",
    "        fn = os.path.join(dy, g, '{}.tsv'.format(g))\n",
    "        df = ciepy.read_emmax_output(fn)\n",
    "        df = df[df.END - df.BEG == 0]\n",
    "        df = df[df.PVALUE == df.PVALUE.min()]\n",
    "        new_rows.append(df.ix[random.choice(df.index)])\n",
    "    tdf = pd.DataFrame(new_rows)\n",
    "    tdf.index = indel_genes\n",
    "    tdf.columns = [x.lower() for x in tdf.columns]\n",
    "\n",
    "    tdf['chrom'] = 'chr' + tdf.chrom.astype(str)\n",
    "    tdf['coord'] = tdf.beg\n",
    "    tdf['loc'] = tdf.chrom + ':' + tdf.coord.astype(str)\n",
    "    tdf['gene'] = tdf.index\n",
    "    tdf = tdf[['chrom', 'beg', 'end', 'loc', 'gene', 'marker_id', 'ns', 'ac', \n",
    "                         'callrate', 'genocnt', 'maf', 'stat', 'pvalue', 'beta',\n",
    "                         'sebeta', 'r2']]\n",
    "    tdf.columns = ['chrom', 'start'] + list(tdf.columns[2:])\n",
    "    tdf['start'] -= 1\n",
    "    tdf['ref'] = tdf.marker_id.apply(lambda x: x.split('_')[1].split('/')[0])\n",
    "    tdf['alt'] = tdf.marker_id.apply(lambda x: x.split('_')[1].split('/')[1])\n",
    "    tdf['length'] = tdf.apply(lambda x: max(len(x['ref']), len(x['alt'])), axis=1)\n",
    "    tdf['length'] = (tdf.ref.apply(lambda x: len(x)) - tdf.alt.apply(lambda x: len(x))).abs()\n",
    "    tdf['vtype'] = 'snp'\n",
    "    tdf = tdf.drop('gene', axis=1)\n",
    "\n",
    "    t = qvalue_res.copy(deep=True)\n",
    "    t.columns = ['{}_gene'.format(x) for x in t.columns]\n",
    "    tdf = tdf.join(t)\n",
    "    most_sig_single_snv = most_sig_single.drop(indel_genes)\n",
    "    most_sig_single_snv = pd.concat([most_sig_single_snv, tdf])\n",
    "    most_sig_single_snv.to_csv(fn, sep='\\t')\n",
    "else:\n",
    "    most_sig_single_snv = pd.read_table(fn, index_col=0)"
   ]
  },
  {
   "cell_type": "markdown",
   "metadata": {},
   "source": [
    "### Null variants\n",
    "\n",
    "I'm going to LD prune the most-significant SNVs and make null sets of SNVs."
   ]
  },
  {
   "cell_type": "raw",
   "metadata": {
    "collapsed": true
   },
   "source": [
    "snpsnap = None"
   ]
  },
  {
   "cell_type": "raw",
   "metadata": {
    "collapsed": true
   },
   "source": [
    "def get_snpsnap():\n",
    "    snpsnap_fns = glob.glob('/publicdata/SNPsnap_20151104/EUR_parse/*.tab')\n",
    "    dfs = []\n",
    "    for tab in snpsnap_fns:\n",
    "        df = pd.read_table(tab, index_col=0, low_memory=False)\n",
    "        tdf = df[['snp_maf', 'dist_nearest_gene_snpsnap_protein_coding',\n",
    "                  'friends_ld08']]\n",
    "        tdf.index = 'chr' + tdf.index\n",
    "        dfs.append(tdf)\n",
    "    snps = pd.concat(dfs)\n",
    "    snps['maf_bin'] = pd.cut(snps.snp_maf, np.arange(0, 0.55, 0.05))\n",
    "    snps['ld_bin'] = pd.cut(np.log10(snps.friends_ld08.replace(np.nan, 0) + 1), 10)\n",
    "    snps['dist_bin'] = pd.cut(np.log10(snps.dist_nearest_gene_snpsnap_protein_coding\n",
    "                                       + 1), 10)\n",
    "    snps = snps[['maf_bin', 'ld_bin', 'dist_bin']]\n",
    "    return snps"
   ]
  },
  {
   "cell_type": "raw",
   "metadata": {
    "collapsed": true
   },
   "source": [
    "fn = os.path.join(outdir, 'sig_snv_independent.tsv')\n",
    "if not os.path.exists(fn):\n",
    "    if snpsnap is None:\n",
    "        snpsnap = get_snpsnap()\n",
    "    ld_beds = glob.glob('/publicdata/1KGP_20151103/LD/tabix/*EUR*.bed.gz')\n",
    "    ld_beds = dict(zip([os.path.split(x)[1].split('_')[0] for x in ld_beds], ld_beds))\n",
    "    sig = most_sig_single_snv[most_sig_single_snv.sig_gene]\n",
    "    sig = sig.drop_duplicates(subset=['loc'])\n",
    "    sig = sig[['chrom', 'start', 'end', 'pvalue']]\n",
    "    sig.index = sig.chrom + ':' + sig.end.astype(str)\n",
    "    indep = cpb.analysis.ld_prune(sig, ld_beds, snvs=list(snpsnap.index))\n",
    "    indep.to_csv(fn, sep='\\t')\n",
    "else:\n",
    "    indep = pd.read_table(fn, index_col=0)"
   ]
  },
  {
   "cell_type": "raw",
   "metadata": {
    "collapsed": false
   },
   "source": [
    "if snpsnap is None:\n",
    "    snpsnap = get_snpsnap()\n",
    "nulls = cpb.analysis.generate_null_snvs(snpsnap, indep.index, num_null_sets=1)"
   ]
  },
  {
   "cell_type": "raw",
   "metadata": {
    "collapsed": false
   },
   "source": [
    "pd.Series([1,3]).astype(str)"
   ]
  },
  {
   "cell_type": "markdown",
   "metadata": {},
   "source": [
    "## Significant Variant-Gene Pairs\n",
    "\n",
    "I'll identitify significant variant-gene pairs the same way that GTEx does. Basically,\n",
    "I need to find what permutation $p$-value maps to a $q$-value of 0.05. Then for each \n",
    "gene. I find out what nominal $p$-value maps to that permutation $p$-value. All variants\n",
    "with $p$ less than this nominal $p$-value are considered significant.\n",
    "\n",
    "I'll use an IPython cluster to speed up the calculation of the permutation $p$-values.\n",
    "This code took several hours to run with 13 engines."
   ]
  },
  {
   "cell_type": "code",
   "execution_count": null,
   "metadata": {
    "collapsed": false
   },
   "outputs": [],
   "source": [
    "def calc_perm_pval(p, min_pvals):\n",
    "    perm_p = (1 + sum(min_pvals <= p)) / float(min_pvals.shape[0] + 1)\n",
    "    return [p, perm_p]\n",
    "\n",
    "out_fn = os.path.join(outdir, 'gene_variant_pairs.tsv')\n",
    "if not os.path.exists():\n",
    "    from ipyparallel import Client\n",
    "    parallel_client = Client()\n",
    "    dview = parallel_client[:]\n",
    "    print('Cluster has {} engines.'.format(len(parallel_client.ids)))\n",
    "    \n",
    "    # Get permutation p-value cutoff that maps to q = 0.05.\n",
    "    diff = qvalue_res.qvalue - 0.05\n",
    "    perm_pval = qvalue_res.ix[diff == diff.abs().min(), 'pvalue'][0]\n",
    "\n",
    "    dview.push(dict(calc_perm_pval=calc_perm_pval))\n",
    "    gene_variant_pairs = []\n",
    "\n",
    "    for g in qvalue_res[qvalue_res.sig].index:\n",
    "        fn = min_fns[g]\n",
    "        res_fn = os.path.join(os.path.split(fn)[0], '{}.tsv'.format(g))\n",
    "        res = ciepy.read_emmax_output(res_fn).dropna(subset=['PVALUE'])\n",
    "        min_pvals = pd.read_table(fn, header=None, squeeze=True)\n",
    "        dview.push(dict(min_pvals=min_pvals))\n",
    "        t = dview.map_sync(lambda x: calc_perm_pval(x, min_pvals), set(res.PVALUE))\n",
    "        t = pd.Series(dict(zip([x[0] for x in t], [x[1] for x in t])))\n",
    "        res['perm_pval'] = t[res.PVALUE].values\n",
    "        tdf = res[res.perm_pval <= perm_pval]\n",
    "        tdf['gene'] = g\n",
    "        gene_variant_pairs.append(tdf)\n",
    "        \n",
    "    gene_variant_pairs = pd.concat(gene_variant_pairs)\n",
    "    gene_variant_pairs.index = range(gene_variant_pairs.shape[0])\n",
    "    gene_variant_pairs.columns = [x.lower() for x in gene_variant_pairs.columns]\n",
    "    gene_variant_pairs['chrom'] = 'chr' + gene_variant_pairs['chrom'].astype(str)\n",
    "    gene_variant_pairs.to_csv(out_fn, sep='\\t', index=None)\n",
    "else:\n",
    "    gene_variant_pairs = pd.read_table(out_fn)"
   ]
  },
  {
   "cell_type": "code",
   "execution_count": 140,
   "metadata": {
    "collapsed": false
   },
   "outputs": [
    {
     "data": {
      "image/png": "[encoded data removed]",
      "text/plain": [
       "<matplotlib.figure.Figure at 0x7f1f28366990>"
      ]
     },
     "metadata": {},
     "output_type": "display_data"
    }
   ],
   "source": [
    "vc = gene_variant_pairs.gene.value_counts()\n",
    "vc.hist(bins=50)\n",
    "plt.ylabel('Number of genes')\n",
    "plt.xlabel('Number of significant variants');"
   ]
  },
  {
   "cell_type": "markdown",
   "metadata": {},
   "source": [
    "## Combined Results\n",
    "\n",
    "I want to make a file with all EMMAX results combined. I am going to \n",
    "sort this file by position and $p$-value. This will allow me to \n",
    "collect some stats like the smallest $p$-value observed for each SNV,\n",
    "how many times a SNV was tested, etc.\n",
    "\n",
    "I'll use the IPython cluster to sort the individual output files then\n",
    "merge them using `sort -m`. This is much faster than concatenating and\n",
    "sorting though the merging still takes a few hours."
   ]
  },
  {
   "cell_type": "code",
   "execution_count": null,
   "metadata": {
    "collapsed": false
   },
   "outputs": [
    {
     "name": "stdout",
     "output_type": "stream",
     "text": [
      "Cluster has 13 engines.\n",
      "importing subprocess on engine(s)\n"
     ]
    }
   ],
   "source": [
    "out = os.path.join(outdir, 'all_snv_results_sorted.tsv.gz')\n",
    "if not os.path.exists(out):\n",
    "    dy = os.path.join(outdir, 'tmp')\n",
    "    cpy.makedir(dy)\n",
    "    fns = glob.glob(os.path.join(ciepy.root, 'output', 'run_eqtl_analysis', \n",
    "                                 'results', 'ENS*', 'ENS*.tsv'))\n",
    "    commands = ['sort -k1,1 -k2,2n -k3,3n -k11,11n {} | grep -v ^# | '\n",
    "                'awk \\'{{print $0\"\\t{}\"}}\\' > {}'.format(x, x.split('/')[-2], os.path.join(dy, os.path.split(x)[1]))\n",
    "                for x in fns]\n",
    "    from ipyparallel import Client\n",
    "    parallel_client = Client()\n",
    "    dview = parallel_client[:]\n",
    "    print('Cluster has {} engines.'.format(len(parallel_client.ids)))\n",
    "    with dview.sync_imports():\n",
    "        import subprocess\n",
    "    dview.scatter('commands', commands)\n",
    "    %px y = [subprocess.check_call(i, shell=True) for i in commands]\n",
    "    c = 'sort -m -k1,1 -k2,2n -k3,3n -k11,11n {} | bgzip -c > {}'.format(os.path.join(dy, '*'), out)\n",
    "    subprocess.check_call(c, shell=True)\n",
    "    c = 'tabix -p bed {}'.format(out)\n",
    "    subprocess.check_call(c, shell=True)\n",
    "    c = 'rm -r {}'.format(dy)\n",
    "    subprocess.check_call(c, shell=True)"
   ]
  },
  {
   "cell_type": "code",
   "execution_count": 193,
   "metadata": {
    "collapsed": false
   },
   "outputs": [],
   "source": [
    "out = os.path.join(outdir, 'top_snv_results_sorted.tsv.gz')\n",
    "if not os.path.exists(out):\n",
    "    i = os.path.join(outdir, 'all_snv_results_sorted.tsv.gz')\n",
    "    c = (\"zcat {} | awk 'a!~$1 || b!~$2 || c!~$3 ; {{a=$1}} {{b=$2}} {{c=$3}}' | \"\n",
    "         \"bgzip -c > {}\".format(i, out))\n",
    "    subprocess.check_call(c, shell=True)\n",
    "    c = 'tabix -p bed {}'.format(out)\n",
    "    subprocess.check_call(c, shell=True)"
   ]
  },
  {
   "cell_type": "code",
   "execution_count": null,
   "metadata": {
    "collapsed": true
   },
   "outputs": [],
   "source": [
    "3 +"
   ]
  },
  {
   "cell_type": "markdown",
   "metadata": {},
   "source": [
    "## Pseudoheritability\n",
    "\n",
    "These pseudoheratibility estimates may not be that accurate because I've \n",
    "regressed out the PEER factors which could remove broad genetic effects\n",
    "on expression. I probably want to re-run EMMAX without the PEER factors \n",
    "to estimate heritability."
   ]
  },
  {
   "cell_type": "code",
   "execution_count": null,
   "metadata": {
    "collapsed": true
   },
   "outputs": [],
   "source": [
    "fn = os.path.join(ciepy.root, 'output', 'eqtl_processing',\n",
    "                  'pseudoheritability.tsv')\n",
    "if os.path.exists(fn):\n",
    "    ph = pd.read_table(fn, index_col=0)\n",
    "    todo = set(pvals.index) - set(ph.index)\n",
    "    new_ph = pd.DataFrame(\n",
    "        -1, index=todo,\n",
    "        columns=['observed', 'mean_permuted', 'median_permuted'])\n",
    "else:\n",
    "    todo = list(ph.index)\n",
    "    ph = pd.DataFrame(columns=['observed', 'mean_permuted', 'median_permuted'])\n",
    "    new_ph = pd.DataFrame(\n",
    "        -1, index=todo,\n",
    "        columns=['observed', 'mean_permuted', 'median_permuted'])\n",
    "\n",
    "for i in new_ph.index:\n",
    "    new_ph.ix[i, 'observed'] = float(open(os.path.join(\n",
    "            ciepy.root, 'output', 'run_eqtl_analysis', 'results', i, \n",
    "            '{}.reml'.format(i))).read().split('\\n')[5].split()[1])\n",
    "    fn = os.path.join(ciepy.root, 'output', 'run_eqtl_analysis', \n",
    "                      'results', i, 'permuted_reml.tsv')\n",
    "    df = pd.read_table(fn, low_memory=False)\n",
    "    new_ph.ix[i, 'mean_permuted'] = df.h2.mean()\n",
    "    new_ph.ix[i, 'median_permuted'] = df.h2.median()\n",
    "ph = pd.concat([ph, new_ph])\n",
    "ph.to_csv(fn, sep='\\t')"
   ]
  }
 ],
 "metadata": {
  "kernelspec": {
   "display_name": "Python 2",
   "language": "python",
   "name": "python2"
  }
 },
 "nbformat": 4,
 "nbformat_minor": 0
}
