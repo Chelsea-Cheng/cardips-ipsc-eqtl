{
 "cells": [
  {
   "cell_type": "markdown",
   "metadata": {},
   "source": [
    "# Trans Associations"
   ]
  },
  {
   "cell_type": "code",
   "execution_count": 24,
   "metadata": {
    "collapsed": false
   },
   "outputs": [],
   "source": [
    "import os\n",
    "import re\n",
    "import subprocess\n",
    "import urllib2\n",
    "\n",
    "import cdpybio as cpb\n",
    "import matplotlib.pyplot as plt\n",
    "import numpy as np\n",
    "import pandas as pd\n",
    "pd.options.mode.chained_assignment = None\n",
    "import pybedtools as pbt\n",
    "import seaborn as sns\n",
    "import vcf as pyvcf\n",
    "\n",
    "import cardipspy as cpy\n",
    "import ciepy\n",
    "\n",
    "%matplotlib inline"
   ]
  },
  {
   "cell_type": "code",
   "execution_count": 3,
   "metadata": {
    "collapsed": true
   },
   "outputs": [],
   "source": [
    "outdir = os.path.join(ciepy.root, 'output',\n",
    "                      'trans_associations')\n",
    "cpy.makedir(outdir)\n",
    "\n",
    "private_outdir = os.path.join(ciepy.root, 'private_output',\n",
    "                              'trans_associations')\n",
    "cpy.makedir(private_outdir)"
   ]
  },
  {
   "cell_type": "code",
   "execution_count": 4,
   "metadata": {
    "collapsed": true
   },
   "outputs": [],
   "source": [
    "fn = os.path.join(os.path.split(cpy.roadmap_15_state_annotation)[0], 'EIDlegend.txt')\n",
    "roadmap_ids = pd.read_table(fn, squeeze=True, index_col=0, header=None)\n",
    "\n",
    "fn = os.path.join(ciepy.root, 'output', 'functional_annotation_analysis',\n",
    "                  'encode_stem_cell_chip_seq.tsv')\n",
    "encode_chip_seq = pd.read_table(fn, index_col=0)\n",
    "\n",
    "gene_info = pd.read_table(cpy.gencode_gene_info, index_col=0)\n",
    "t_to_g = pd.read_table(cpy.gencode_transcript_gene, index_col=0, header=None, \n",
    "                       squeeze=True)\n",
    "\n",
    "fn = 'ftp://ftp.informatics.jax.org/pub/reports/HOM_AllOrganism.rpt'\n",
    "conv = pd.read_table(fn, index_col=0, low_memory=False)\n",
    "mouse_genes = conv[conv['Common Organism Name'] == 'mouse, laboratory']\n",
    "human_genes = conv[conv['Common Organism Name'] == 'human']\n",
    "\n",
    "# Supplementary table from http://www.nature.com/nature/journal/v501/n7466/full/nature12420.html.\n",
    "fn = 'http://www.nature.com/nature/journal/v501/n7466/extref/nature12420-s3.xls'\n",
    "wit_nanog = pd.read_excel(fn)\n",
    "\n",
    "fn = os.path.join(ciepy.root, 'output', 'eqtl_input', \n",
    "                  'tpm_log_filtered_phe_std_norm_peer_resid.tsv')\n",
    "exp = pd.read_table(fn, index_col=0)\n",
    "\n",
    "vcf_fn = os.path.join(ciepy.root, 'private_output/eqtl_input/filtered_all/0000.vcf.gz')\n",
    "vcf_reader = pyvcf.Reader(open(vcf_fn), compressed=True)"
   ]
  },
  {
   "cell_type": "code",
   "execution_count": 5,
   "metadata": {
    "collapsed": true
   },
   "outputs": [],
   "source": [
    "mouse_genes['symbol_upper'] = mouse_genes['Symbol'].apply(lambda x: x.upper())\n",
    "mouse_genes.ix[mouse_genes.Synonyms.isnull() == False, 'synonyms_list'] = \\\n",
    "    mouse_genes.ix[mouse_genes.Synonyms.isnull() == False, \n",
    "                   'Synonyms'].apply(lambda x: [y.upper() for y in x.split('|')])\n",
    "syns = set([item for sublist in mouse_genes.synonyms_list.dropna().values for item in sublist])\n",
    "synonyms_list = mouse_genes.ix[mouse_genes.synonyms_list.isnull() == False, 'synonyms_list']"
   ]
  },
  {
   "cell_type": "markdown",
   "metadata": {},
   "source": [
    "## *NANOG Trans* Associations"
   ]
  },
  {
   "cell_type": "code",
   "execution_count": 6,
   "metadata": {
    "collapsed": true
   },
   "outputs": [],
   "source": [
    "wit_bt = pbt.BedTool('\\n'.join(wit_nanog.chromosome + '\\t' + \n",
    "                               wit_nanog.start.astype(str) + \n",
    "                               '\\t' + wit_nanog.end.astype(str)) + '\\n',\n",
    "                     from_string=True)"
   ]
  },
  {
   "cell_type": "code",
   "execution_count": 7,
   "metadata": {
    "collapsed": false
   },
   "outputs": [],
   "source": [
    "wit_nanog['human_gene_name'] = np.nan\n",
    "wit_nanog['HomoloGene ID'] = np.nan\n",
    "for i in wit_nanog.index:\n",
    "    g = wit_nanog.ix[i, 'associated gene'].upper()\n",
    "    t = mouse_genes[mouse_genes.symbol_upper == g]\n",
    "    if t.shape[0] == 0:\n",
    "        if g in syns:\n",
    "            t = synonyms_list[synonyms_list.apply(lambda x: g in x)]\n",
    "    if t.shape[0] == 1:\n",
    "        if t.index[0] in human_genes.index.values:\n",
    "            wit_nanog.ix[i, 'HomoloGene ID'] = t.index[0]\n",
    "            ht = human_genes.ix[t.index[0], 'Symbol']\n",
    "            if type(ht) == str:\n",
    "                wit_nanog.ix[i, 'human_gene_name'] = ht\n",
    "            else:\n",
    "                wit_nanog.ix[i, 'human_gene_name'] = '|'.join(ht.values)"
   ]
  },
  {
   "cell_type": "code",
   "execution_count": 8,
   "metadata": {
    "collapsed": false
   },
   "outputs": [],
   "source": [
    "wit_nanog['human_gene_id'] = np.nan\n",
    "for i in wit_nanog.human_gene_name.dropna().index:\n",
    "    t = gene_info[gene_info.gene_name == wit_nanog.ix[i, 'human_gene_name']]\n",
    "    if t.shape[0] == 1:\n",
    "        wit_nanog.ix[i, 'human_gene_id'] = t.index[0]\n",
    "    elif t.shape[0] == 0:\n",
    "        t = gene_info[gene_info.gene_name.apply(lambda x: x.upper()) == \n",
    "                      wit_nanog.ix[i, 'human_gene_name'].upper()]"
   ]
  },
  {
   "cell_type": "code",
   "execution_count": 10,
   "metadata": {
    "collapsed": false
   },
   "outputs": [],
   "source": [
    "# I can go to 100000. Most local QTLs are closer than that.\n",
    "tss = pbt.BedTool(cpy.gencode_tss_bed)\n",
    "tss_2kb = tss.slop(l=2000, r=2000, g=pbt.genome_registry.hg19).merge()\n",
    "tss_intersect = tss_2kb.intersect(tss, wo=True, sorted=True)\n",
    "\n",
    "genes_to_tss = {}\n",
    "for r in tss_intersect:\n",
    "    g = t_to_g[r.fields[6].split('_')[0]]\n",
    "    genes_to_tss[g] = genes_to_tss.get(g, set()) | set(['{}:{}-{}'.format(r.chrom, r.start, r.end)])\n",
    "genes_to_tss = pd.Series(genes_to_tss)"
   ]
  },
  {
   "cell_type": "code",
   "execution_count": 11,
   "metadata": {
    "collapsed": false
   },
   "outputs": [
    {
     "name": "stdout",
     "output_type": "stream",
     "text": [
      "Going to test 681 regions from 264 genes encompassing 3,762,272 bp.\n"
     ]
    }
   ],
   "source": [
    "regions = reduce(lambda x,y: x | y, genes_to_tss[wit_nanog.human_gene_id.dropna()])\n",
    "starts = np.array([int(y.split(':')[1]) for y in [x.split('-')[0] for x in regions]])\n",
    "ends = np.array([int(x.split('-')[1]) for x in regions])\n",
    "print('Going to test {} regions from {} genes encompassing {:,} bp.'.format(\n",
    "        len(regions), len(set(wit_nanog.human_gene_id.dropna())), (ends - starts).sum()))"
   ]
  },
  {
   "cell_type": "code",
   "execution_count": 12,
   "metadata": {
    "collapsed": false
   },
   "outputs": [],
   "source": [
    "gene_id = gene_info[gene_info.gene_name == 'NANOG'].index[0]\n",
    "toutdir = os.path.join(outdir, 'wit_nanog_trans')\n",
    "\n",
    "if not os.path.exists(toutdir):\n",
    "    cpy.makedir(toutdir)\n",
    "    fn = os.path.join(toutdir, 'wit_nanog_trans.sh')\n",
    "    regions = ','.join(reduce(lambda x,y: x | y, genes_to_tss[wit_nanog.human_gene_id.dropna()]))\n",
    "    regions = regions.replace('chr', '')\n",
    "    with open(fn, 'w') as f:\n",
    "        c = '#!/bin/bash\\n\\nmodule load cardips\\nsource activate cie\\n\\n'\n",
    "        c += 'python {} \\\\\\n\\t'.format(os.path.join(ciepy.root, 'scripts', 'run_emmax.py'))\n",
    "        c += ' \\\\\\n\\t'.join([\n",
    "                gene_id,\n",
    "                vcf_fn,\n",
    "                regions,\n",
    "                os.path.join(ciepy.root, 'output', 'eqtl_input', \n",
    "                             'tpm_log_filtered_phe_std_norm_peer_resid.tsv'),\n",
    "                os.path.join(ciepy.root, 'output', 'eqtl_input', 'emmax_samples.tsv'),\n",
    "                os.path.join(ciepy.root, 'output', 'eqtl_input', 'wgs.kin'),\n",
    "                toutdir,\n",
    "                '-c {}'.format(os.path.join(ciepy.root, 'output', 'eqtl_input', \n",
    "                                            'emmax_sex_only.tsv')),\n",
    "                '-i 10000 -a 20000'\n",
    "            ])\n",
    "        f.write(c + '\\n')\n",
    "    subprocess.check_call('bash {}'.format(fn), shell=True)"
   ]
  },
  {
   "cell_type": "code",
   "execution_count": 13,
   "metadata": {
    "collapsed": false
   },
   "outputs": [],
   "source": [
    "res = ciepy.read_emmax_output(os.path.join(toutdir, '{}.tsv'.format(gene_id)))\n",
    "res = res.sort_values(by='PVALUE')\n",
    "min_pvals = pd.read_table(os.path.join(toutdir, 'minimum_pvalues.tsv'),                            \n",
    "                          header=None, squeeze=True)\n",
    "p = (1 + sum(min_pvals <= res.PVALUE.min())) / float(min_pvals.shape[0] + 1)"
   ]
  },
  {
   "cell_type": "code",
   "execution_count": 14,
   "metadata": {
    "collapsed": false
   },
   "outputs": [
    {
     "data": {
      "image/png": "[encoded data removed]",
      "text/plain": [
       "<matplotlib.figure.Figure at 0x7f996e5af9d0>"
      ]
     },
     "metadata": {},
     "output_type": "display_data"
    }
   ],
   "source": [
    "fig, axs = plt.subplots(1, 2)\n",
    "ax = axs[0]\n",
    "(-np.log10(res.PVALUE)).hist(ax=ax)\n",
    "ya, yb = ax.get_ylim()\n",
    "ax.vlines(-np.log10(res.PVALUE.min()), ya, yb,\n",
    "          color='red', label='Most significant')\n",
    "ax.legend(loc='upper center')\n",
    "ax.set_title('Observed $p$-value distribution\\nfor Nanog trans')\n",
    "ax.set_xlabel('$-\\log_{10}$ $p$-value')\n",
    "ax.set_ylabel('Number of SNVs')\n",
    "\n",
    "ax = axs[1]\n",
    "ax = (-np.log10(min_pvals)).hist(bins=100, ax=ax)\n",
    "ax.set_ylabel('Number of $p$-values')\n",
    "ax.set_xlabel('$-\\log_{10}$ $p$-value')\n",
    "ya, yb = ax.get_ylim()\n",
    "ax.vlines(-np.log10(res.PVALUE.min()), ya, yb, colors=['red'], \n",
    "          label='Observed: $p$={}'.format(res.PVALUE.min()))\n",
    "ax.legend()\n",
    "ax.set_title('Minimum $p$-value distribution\\nfor Nanog trans\\n(empirical $p$={:.3f})'.format(p))\n",
    "plt.tight_layout();"
   ]
  },
  {
   "cell_type": "code",
   "execution_count": 15,
   "metadata": {
    "collapsed": false
   },
   "outputs": [
    {
     "data": {
      "image/png": "[encoded data removed]",
      "text/plain": [
       "<matplotlib.figure.Figure at 0x7f996e622650>"
      ]
     },
     "metadata": {},
     "output_type": "display_data"
    }
   ],
   "source": [
    "t =  vcf_reader.fetch('{}'.format(res.CHROM.values[0]), \n",
    "                      res.BEG.values[0], res.BEG.values[0] + 1)\n",
    "r = t.next()\n",
    "tdf = pd.DataFrame(exp.ix[gene_id])\n",
    "tdf.columns = ['expression']\n",
    "tdf['genotype'] = 0\n",
    "hets = set(exp.columns) & set([s.sample for s in r.get_hets()])\n",
    "tdf.ix[hets, 'genotype'] = 1\n",
    "alts = set(exp.columns) & set([s.sample for s in r.get_hom_alts()])\n",
    "tdf.ix[alts, 'genotype'] = 2\n",
    "plt.figure()\n",
    "ax = sns.violinplot(x='genotype', y='expression', data=tdf, color='grey',\n",
    "                order=[0, 1, 2], scale='count')\n",
    "ax = sns.regplot(x='genotype', y='expression', data=tdf, scatter=False, color='red')\n",
    "ax.set_xticklabels(['Homo ref', 'Het', 'Homo alt'])\n",
    "ax.set_ylabel('Expression ($\\log_{10}$ TPM)')\n",
    "ax.set_xlabel('')\n",
    "ya, yb = plt.ylim()\n",
    "plt.text(0, yb, 'n={}'.format(sum(tdf.genotype == 0)), \n",
    "         verticalalignment='top', horizontalalignment='center', fontsize=12)\n",
    "plt.text(1, yb, 'n={}'.format(sum(tdf.genotype == 1)), \n",
    "         verticalalignment='top', horizontalalignment='center', fontsize=12)\n",
    "plt.text(2, yb, 'n={}'.format(sum(tdf.genotype == 2)), \n",
    "         verticalalignment='top', horizontalalignment='center', fontsize=12)\n",
    "plt.title('{} trans eQTL'.format(gene_info.ix[gene_id, 'gene_name']));\n",
    "plt.savefig(os.path.join(outdir, 'nanog_trans_eqtl.pdf'));"
   ]
  },
  {
   "cell_type": "markdown",
   "metadata": {},
   "source": [
    "This appears to be a *trans* eQTL for *NANOG*. The variant lies in a\n",
    "weak enhancer region in H1-hESCs (chr16:90,102,249-90,102,518) that \n",
    "is mainly marked by H3K4me1 and is in the intron of the *GAS8* gene."
   ]
  },
  {
   "cell_type": "code",
   "execution_count": 16,
   "metadata": {
    "collapsed": false
   },
   "outputs": [
    {
     "data": {
      "text/html": [
       "<div>\n",
       "<table border=\"1\" class=\"dataframe\">\n",
       "  <thead>\n",
       "    <tr style=\"text-align: right;\">\n",
       "      <th></th>\n",
       "      <th>CHROM</th>\n",
       "      <th>BEG</th>\n",
       "      <th>END</th>\n",
       "      <th>MARKER_ID</th>\n",
       "      <th>NS</th>\n",
       "      <th>AC</th>\n",
       "      <th>CALLRATE</th>\n",
       "      <th>GENOCNT</th>\n",
       "      <th>MAF</th>\n",
       "      <th>STAT</th>\n",
       "      <th>PVALUE</th>\n",
       "      <th>BETA</th>\n",
       "      <th>SEBETA</th>\n",
       "      <th>R2</th>\n",
       "    </tr>\n",
       "  </thead>\n",
       "  <tbody>\n",
       "    <tr>\n",
       "      <th>865</th>\n",
       "      <td>16</td>\n",
       "      <td>90102384</td>\n",
       "      <td>90102384</td>\n",
       "      <td>16:90102384_C/A_rs4785766</td>\n",
       "      <td>207</td>\n",
       "      <td>362</td>\n",
       "      <td>1</td>\n",
       "      <td>6/40/161</td>\n",
       "      <td>0.1256</td>\n",
       "      <td>4.3216</td>\n",
       "      <td>0.000024</td>\n",
       "      <td>0.6094</td>\n",
       "      <td>0.141</td>\n",
       "      <td>0.08387</td>\n",
       "    </tr>\n",
       "  </tbody>\n",
       "</table>\n",
       "</div>"
      ],
      "text/plain": [
       "     CHROM       BEG       END                  MARKER_ID   NS   AC  CALLRATE  \\\n",
       "865     16  90102384  90102384  16:90102384_C/A_rs4785766  207  362         1   \n",
       "\n",
       "      GENOCNT     MAF    STAT    PVALUE    BETA  SEBETA       R2  \n",
       "865  6/40/161  0.1256  4.3216  0.000024  0.6094   0.141  0.08387  "
      ]
     },
     "execution_count": 16,
     "metadata": {},
     "output_type": "execute_result"
    }
   ],
   "source": [
    "res[res.PVALUE == res.PVALUE.min()]"
   ]
  },
  {
   "cell_type": "code",
   "execution_count": null,
   "metadata": {
    "collapsed": false
   },
   "outputs": [],
   "source": [
    "sig_bt = pbt.BedTool('chr{}\\t{}\\t{}\\n'.format(res.CHROM[0], res.BEG[0] - 1, res.END[0]), \n",
    "                     from_string=True)\n",
    "overlap = pd.Series(False, index=encode_chip_seq.target)\n",
    "for i in encode_chip_seq.index:\n",
    "    c = encode_chip_seq.ix[i, 'target']\n",
    "    bt = pbt.BedTool(cpb.general.read_gzipped_text_url(encode_chip_seq.ix[i, 'narrowPeak_url']), \n",
    "                     from_string=True)\n",
    "    bt = bt.sort()\n",
    "    inter = sig_bt.intersect(bt, sorted=True, wo=True)\n",
    "    if len(inter) > 0:\n",
    "        overlap[c] = True"
   ]
  },
  {
   "cell_type": "code",
   "execution_count": 25,
   "metadata": {
    "collapsed": false
   },
   "outputs": [],
   "source": [
    "url = ('http://egg2.wustl.edu/roadmap/data/byFileType'\n",
    "       '/peaks/consolidated/narrowPeak/')\n",
    "website = urllib2.urlopen(url)\n",
    "html = website.read()\n",
    "files = re.findall('href=\"(E\\d\\d\\d-DNase.macs2.narrowPeak.gz)\"', html)\n",
    "roadmap_dnase_res = pd.DataFrame(\n",
    "    -1, index=[x.split('-')[0] for x in files], \n",
    "    columns=['odds_ratio', 'pvalue'])\n",
    "\n",
    "urls = ['http://egg2.wustl.edu/roadmap/data/byFileType/peaks/consolidated/narrowPeak/{}'.format(n)\n",
    "        for n in files]\n",
    "lines = ['iPS-15b Cell Line', 'iPS-18 Cell Line', 'iPS-20b Cell Line',\n",
    "         'iPS DF 6.9 Cell Line', 'iPS DF 19.11 Cell Line', 'H1 Cell Line',\n",
    "         'H9 Cell Line']\n",
    "urls = [x for x in urls if roadmap_ids[os.path.split(x.split('-')[0])[1]] in lines]\n",
    "\n",
    "r = []\n",
    "for url in urls:\n",
    "    line = roadmap_ids[os.path.split(url)[1].split('-')[0]]\n",
    "    bt = pbt.BedTool(cpb.general.read_gzipped_text_url(url), from_string=True).sort()\n",
    "    r.append(sig_bt.intersect(bt, sorted=True, wo=True))"
   ]
  },
  {
   "cell_type": "code",
   "execution_count": 36,
   "metadata": {
    "collapsed": false
   },
   "outputs": [
    {
     "data": {
      "text/plain": [
       "0"
      ]
     },
     "execution_count": 36,
     "metadata": {},
     "output_type": "execute_result"
    }
   ],
   "source": [
    "sum([len(x) > 0 for x in r])"
   ]
  },
  {
   "cell_type": "markdown",
   "metadata": {},
   "source": [
    "### Nearby SNVs\n",
    "\n",
    "I'd like to look at other SNVs near this one that appears to have a significant\n",
    "trans association to see whether any others are more strongly associated. "
   ]
  },
  {
   "cell_type": "code",
   "execution_count": 16,
   "metadata": {
    "collapsed": true
   },
   "outputs": [],
   "source": [
    "gene_id = gene_info[gene_info.gene_name == 'NANOG'].index[0]\n",
    "toutdir = os.path.join(outdir, 'nanog_gas8')\n",
    "\n",
    "if not os.path.exists(toutdir):\n",
    "    t = tss.slop(l=1000000, r=1000000, g=pbt.genome_registry.hg19).merge()\n",
    "    res = t.intersect(tss, wo=True, sorted=True)\n",
    "    t = {}\n",
    "    for r in res:\n",
    "        g = t_to_g[r.fields[6].split('_')[0]]\n",
    "        t[g] = t.get(g, set()) | set(['{}:{}-{}'.format(r.chrom, r.start, r.end)])\n",
    "    t = pd.Series(t)\n",
    "    regions = ','.join(t[gene_info[gene_info.gene_name == 'GAS8'].index[0]]).replace('chr', '')\n",
    "    \n",
    "    cpy.makedir(toutdir)\n",
    "    fn = os.path.join(toutdir, 'nanog_gas8.sh')\n",
    "    with open(fn, 'w') as f:\n",
    "        c = '#!/bin/bash\\n\\nmodule load cardips\\nsource activate cie\\n\\n'\n",
    "        c += 'python {} \\\\\\n\\t'.format(os.path.join(ciepy.root, 'scripts', 'run_emmax.py'))\n",
    "        c += ' \\\\\\n\\t'.join([\n",
    "                gene_id,\n",
    "                vcf_fn,\n",
    "                regions,\n",
    "                os.path.join(ciepy.root, 'output', 'eqtl_input', \n",
    "                             'tpm_log_filtered_phe_std_norm_peer_resid.tsv'),\n",
    "                os.path.join(ciepy.root, 'output', 'eqtl_input', 'emmax_samples.tsv'),\n",
    "                os.path.join(ciepy.root, 'output', 'eqtl_input', 'wgs.kin'),\n",
    "                toutdir,\n",
    "                '-c {}'.format(os.path.join(ciepy.root, 'output', 'eqtl_input', \n",
    "                                            'emmax_sex_only.tsv')),\n",
    "            ])\n",
    "        f.write(c + '\\n')\n",
    "    subprocess.check_call('bash {}'.format(fn), shell=True)"
   ]
  },
  {
   "cell_type": "raw",
   "metadata": {},
   "source": [
    "res = ciepy.read_emmax_output(os.path.join(toutdir, '{}.tsv'.format(gene_id)))\n",
    "res = res.sort(columns=['PVALUE'])\n",
    "min_pvals = pd.read_table(os.path.join(toutdir, 'minimum_pvalues.tsv'),                            \n",
    "                          header=None, squeeze=True)\n",
    "p = (1 + sum(min_pvals <= res.PVALUE.min())) / float(min_pvals.shape[0] + 1)"
   ]
  },
  {
   "cell_type": "code",
   "execution_count": 17,
   "metadata": {
    "collapsed": false
   },
   "outputs": [],
   "source": [
    "gas8_res = ciepy.read_emmax_output(os.path.join(toutdir, '{}.tsv'.format(gene_id)))\n",
    "gas8_res = gas8_res.sort_values(by=['PVALUE'])\n",
    "gas8_min_pvals = pd.read_table(os.path.join(toutdir, 'minimum_pvalues.tsv'),                            \n",
    "                               header=None, squeeze=True)\n",
    "gas8_p = (1 + sum(gas8_min_pvals <= gas8_res.PVALUE.min())) / float(gas8_min_pvals.shape[0] + 1)"
   ]
  },
  {
   "cell_type": "code",
   "execution_count": 18,
   "metadata": {
    "collapsed": false
   },
   "outputs": [
    {
     "name": "stderr",
     "output_type": "stream",
     "text": [
      "/frazer01/home/cdeboever/software/anaconda/envs/cie/lib/python2.7/site-packages/ipykernel/__main__.py:2: FutureWarning: sort(columns=....) is deprecated, use sort_values(by=.....)\n",
      "  from ipykernel import kernelapp as app\n"
     ]
    }
   ],
   "source": [
    "gas8_res = ciepy.read_emmax_output(os.path.join(toutdir, '{}.tsv'.format(gene_id)))\n",
    "gas8_res = gas8_res.sort_values(by=['PVALUE'])"
   ]
  },
  {
   "cell_type": "code",
   "execution_count": 19,
   "metadata": {
    "collapsed": true
   },
   "outputs": [],
   "source": [
    "res.index = ('chr' + res.CHROM.astype(str) + ':' + \n",
    "             res.BEG.astype(str) + '-' + res.END.astype(str))\n",
    "gas8_res.index = ('chr' + gas8_res.CHROM.astype(str) + ':' + \n",
    "                  gas8_res.BEG.astype(str) + '-' + gas8_res.END.astype(str))"
   ]
  },
  {
   "cell_type": "code",
   "execution_count": 20,
   "metadata": {
    "collapsed": true
   },
   "outputs": [],
   "source": [
    "shared = set(res.index) & set(gas8_res.index)\n",
    "not_shared = set(gas8_res.index) - shared"
   ]
  },
  {
   "cell_type": "code",
   "execution_count": 21,
   "metadata": {
    "collapsed": false
   },
   "outputs": [
    {
     "data": {
      "text/plain": [
       "<matplotlib.axes._subplots.AxesSubplot at 0x7ff4b3b0fdd0>"
      ]
     },
     "execution_count": 21,
     "metadata": {},
     "output_type": "execute_result"
    },
    {
     "data": {
      "image/png": "[encoded data removed]",
      "text/plain": [
       "<matplotlib.figure.Figure at 0x7ff49dce6410>"
      ]
     },
     "metadata": {},
     "output_type": "display_data"
    }
   ],
   "source": [
    "(-np.log10(gas8_res.ix[shared, 'PVALUE'])).hist()"
   ]
  },
  {
   "cell_type": "code",
   "execution_count": 22,
   "metadata": {
    "collapsed": false
   },
   "outputs": [
    {
     "data": {
      "text/plain": [
       "<matplotlib.axes._subplots.AxesSubplot at 0x7ff4b39235d0>"
      ]
     },
     "execution_count": 22,
     "metadata": {},
     "output_type": "execute_result"
    },
    {
     "data": {
      "image/png": "[encoded data removed]",
      "text/plain": [
       "<matplotlib.figure.Figure at 0x7ff4b399f410>"
      ]
     },
     "metadata": {},
     "output_type": "display_data"
    }
   ],
   "source": [
    "(-np.log10(gas8_res.ix[not_shared, 'PVALUE'])).hist()"
   ]
  },
  {
   "cell_type": "code",
   "execution_count": null,
   "metadata": {
    "collapsed": true
   },
   "outputs": [],
   "source": [
    "2 + "
   ]
  },
  {
   "cell_type": "code",
   "execution_count": null,
   "metadata": {
    "collapsed": true
   },
   "outputs": [],
   "source": []
  },
  {
   "cell_type": "code",
   "execution_count": null,
   "metadata": {
    "collapsed": true
   },
   "outputs": [],
   "source": []
  },
  {
   "cell_type": "code",
   "execution_count": null,
   "metadata": {
    "collapsed": true
   },
   "outputs": [],
   "source": []
  },
  {
   "cell_type": "code",
   "execution_count": null,
   "metadata": {
    "collapsed": true
   },
   "outputs": [],
   "source": []
  },
  {
   "cell_type": "code",
   "execution_count": null,
   "metadata": {
    "collapsed": true
   },
   "outputs": [],
   "source": []
  },
  {
   "cell_type": "code",
   "execution_count": null,
   "metadata": {
    "collapsed": true
   },
   "outputs": [],
   "source": []
  },
  {
   "cell_type": "markdown",
   "metadata": {},
   "source": [
    "### Interaction Database\n",
    "\n",
    "I want to see if there is any evidence of an interaction between this \n",
    "gene/enhancer and Nanog according to data from the interaction database."
   ]
  },
  {
   "cell_type": "code",
   "execution_count": null,
   "metadata": {
    "collapsed": true
   },
   "outputs": [],
   "source": [
    "fn = '/raid2/projects/chromatin_interactions/downloaded/4DGenome/4DGenome_HomoSapiens_hg19.txt'\n",
    "inter_db = pd.read_table(fn, low_memory=False)"
   ]
  },
  {
   "cell_type": "code",
   "execution_count": null,
   "metadata": {
    "collapsed": false
   },
   "outputs": [],
   "source": [
    "s = '\\n'.join(inter_db.InteractorAChr + '\\t' + inter_db.InteractorAStart.astype(str) + \n",
    "              '\\t' + inter_db.InteractorAEnd.astype(str) + '\\t' + \n",
    "              inter_db.InteractorBChr + ':' + inter_db.InteractorBStart.astype(str) + \n",
    "              '-' + inter_db.InteractorBEnd.astype(str)) + '\\n'\n",
    "abt = pbt.BedTool(s, from_string=True)\n",
    "\n",
    "s = '\\n'.join(inter_db.InteractorBChr + '\\t' + inter_db.InteractorBStart.astype(str) + \n",
    "              '\\t' + inter_db.InteractorBEnd.astype(str) + '\\t' + \n",
    "              inter_db.InteractorAChr + ':' + inter_db.InteractorAStart.astype(str) + \n",
    "              '-' + inter_db.InteractorAEnd.astype(str)) + '\\n'\n",
    "bbt = pbt.BedTool(s, from_string=True)\n",
    "\n",
    "chrom, start, end = gene_info.ix[gene_info.gene_name == 'NANOG', ['chrom', 'start', 'end']].values[0]\n",
    "nanog_bt = pbt.BedTool('{}\\t{}\\t{}\\n'.format(chrom, start, end), from_string=True)\n",
    "resa = nanog_bt.intersect(abt, wo=True)\n",
    "resb = nanog_bt.intersect(bbt, wo=True)"
   ]
  },
  {
   "cell_type": "code",
   "execution_count": null,
   "metadata": {
    "collapsed": false
   },
   "outputs": [],
   "source": [
    "print(resa)"
   ]
  },
  {
   "cell_type": "code",
   "execution_count": null,
   "metadata": {
    "collapsed": false
   },
   "outputs": [],
   "source": [
    "print(resb)"
   ]
  },
  {
   "cell_type": "code",
   "execution_count": null,
   "metadata": {
    "collapsed": true
   },
   "outputs": [],
   "source": []
  },
  {
   "cell_type": "code",
   "execution_count": null,
   "metadata": {
    "collapsed": true
   },
   "outputs": [],
   "source": []
  },
  {
   "cell_type": "code",
   "execution_count": null,
   "metadata": {
    "collapsed": true
   },
   "outputs": [],
   "source": []
  },
  {
   "cell_type": "code",
   "execution_count": null,
   "metadata": {
    "collapsed": true
   },
   "outputs": [],
   "source": []
  },
  {
   "cell_type": "code",
   "execution_count": null,
   "metadata": {
    "collapsed": true
   },
   "outputs": [],
   "source": []
  },
  {
   "cell_type": "code",
   "execution_count": null,
   "metadata": {
    "collapsed": true
   },
   "outputs": [],
   "source": []
  },
  {
   "cell_type": "code",
   "execution_count": null,
   "metadata": {
    "collapsed": true
   },
   "outputs": [],
   "source": []
  },
  {
   "cell_type": "code",
   "execution_count": null,
   "metadata": {
    "collapsed": true
   },
   "outputs": [],
   "source": []
  },
  {
   "cell_type": "code",
   "execution_count": null,
   "metadata": {
    "collapsed": true
   },
   "outputs": [],
   "source": []
  },
  {
   "cell_type": "code",
   "execution_count": null,
   "metadata": {
    "collapsed": true
   },
   "outputs": [],
   "source": []
  },
  {
   "cell_type": "code",
   "execution_count": null,
   "metadata": {
    "collapsed": true
   },
   "outputs": [],
   "source": []
  }
 ],
 "metadata": {
  "kernelspec": {
   "display_name": "Python 2",
   "language": "python",
   "name": "python2"
  },
  "language_info": {
   "codemirror_mode": {
    "name": "ipython",
    "version": 2
   },
   "file_extension": ".py",
   "mimetype": "text/x-python",
   "name": "python",
   "nbconvert_exporter": "python",
   "pygments_lexer": "ipython2",
   "version": "2.7.11"
  }
 },
 "nbformat": 4,
 "nbformat_minor": 0
}
