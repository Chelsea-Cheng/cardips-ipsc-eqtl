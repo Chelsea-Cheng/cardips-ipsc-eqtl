{
 "cells": [
  {
   "cell_type": "markdown",
   "metadata": {},
   "source": [
    "# 3D Structure"
   ]
  },
  {
   "cell_type": "code",
   "execution_count": 1,
   "metadata": {
    "collapsed": false
   },
   "outputs": [
    {
     "name": "stderr",
     "output_type": "stream",
     "text": [
      "/frazer01/home/cdeboever/software/anaconda/envs/cie/lib/python2.7/site-packages/matplotlib/__init__.py:872: UserWarning: axes.color_cycle is deprecated and replaced with axes.prop_cycle; please use the latter.\n",
      "  warnings.warn(self.msg_depr % (key, alt_key))\n"
     ]
    }
   ],
   "source": [
    "import glob\n",
    "import os\n",
    "import re\n",
    "import subprocess\n",
    "import urllib2\n",
    "\n",
    "import cdpybio as cpb\n",
    "import matplotlib.pyplot as plt\n",
    "import numpy as np\n",
    "import pandas as pd\n",
    "pd.options.mode.chained_assignment = None\n",
    "import pybedtools as pbt\n",
    "import seaborn as sns\n",
    "import vcf as pyvcf\n",
    "\n",
    "import cardipspy as cpy\n",
    "import ciepy\n",
    "\n",
    "%matplotlib inline\n",
    "\n",
    "import socket\n",
    "if socket.gethostname() == 'fl-hn1' or socket.gethostname() == 'fl-hn2':\n",
    "    pbt.set_tempdir('/frazer01/home/cdeboever/tmp')\n",
    "    \n",
    "outdir = os.path.join(ciepy.root, 'output',\n",
    "                      '3d_structure')\n",
    "cpy.makedir(outdir)\n",
    "\n",
    "private_outdir = os.path.join(ciepy.root, 'private_output',\n",
    "                              '3d_structure')\n",
    "cpy.makedir(private_outdir)"
   ]
  },
  {
   "cell_type": "code",
   "execution_count": 12,
   "metadata": {
    "collapsed": true
   },
   "outputs": [],
   "source": [
    "tg = pd.read_table(cpy.gencode_transcript_gene, index_col=0, \n",
    "                   header=None, squeeze=True)\n",
    "gene_info = pd.read_table(cpy.gencode_gene_info, index_col=0)\n",
    "fn = os.path.join(ciepy.root, 'output', 'eqtl_input', \n",
    "                  'tpm_log_filtered_phe_std_norm_peer_resid.tsv')\n",
    "exp = pd.read_table(fn, index_col=0)\n",
    "\n",
    "fn = os.path.join(ciepy.root, 'output', 'eqtl_processing', 'qvalues.tsv')\n",
    "qvalues = pd.read_table(fn, index_col=0)\n",
    "qvalues.columns = ['{}_gene'.format(x) for x in qvalues.columns]\n",
    "fn = os.path.join(ciepy.root, 'output', 'eqtl_processing', 'most_sig_single.tsv')\n",
    "most_sig = pd.read_table(fn, index_col=0)\n",
    "\n",
    "genes = pbt.BedTool(cpy.gencode_gene_bed)\n",
    "\n",
    "fn = os.path.join(os.path.split(cpy.roadmap_15_state_annotation)[0], 'EIDlegend.txt')\n",
    "roadmap_ids = pd.read_table(fn, squeeze=True, index_col=0, header=None)\n",
    "\n",
    "fn = os.path.join(ciepy.root, 'output', 'eqtl_processing', 'gene_variant_pairs.tsv')\n",
    "sig_variants = pd.read_table(fn)"
   ]
  },
  {
   "cell_type": "markdown",
   "metadata": {},
   "source": [
    "## TADs\n",
    "\n",
    "I'd like to look for enrichment of eQTLs in TADs. As in the Grubert et al. 2015 paper, I\n",
    "can mirror the position of the variant over the gene and see whether they fall within the\n",
    "same TAD as often. They also shuffled the locations of the TADs and compared the number of\n",
    "distal (> 50 kb) QTLs falling within the same TAD as the gene against the shuffled data.\n",
    "I can do the same analysis using sets of null variants as well."
   ]
  },
  {
   "cell_type": "code",
   "execution_count": 3,
   "metadata": {
    "collapsed": false
   },
   "outputs": [],
   "source": [
    "# Download TADs from Dixon et al. 2012. These coordinates are in hg18 so we'll download the\n",
    "# liftOver chain files and convert the bed file.\n",
    "\n",
    "dy = os.path.join(private_outdir, 'hESC')\n",
    "if not os.path.exists(dy):\n",
    "    out = os.path.join(private_outdir, 'hESC.domain.tar.gz')\n",
    "    !curl http://132.239.201.216/mouse/hi-c/hESC.domain.tar.gz > {out}\n",
    "    !tar -C {private_outdir} -xvf {out}\n",
    "    !rm {out}\n",
    "    \n",
    "fn = os.path.join(private_outdir, 'hg18ToHg19.over.chain')\n",
    "if not os.path.exists(fn):\n",
    "    url = ('http://hgdownload.cse.ucsc.edu/goldenPath/hg18/liftOver/hg18ToHg19.over.chain.gz')\n",
    "    !curl {url} | zcat > {fn}"
   ]
  },
  {
   "cell_type": "code",
   "execution_count": 9,
   "metadata": {
    "collapsed": false
   },
   "outputs": [
    {
     "name": "stdout",
     "output_type": "stream",
     "text": [
      "Converted 3062 of 3127 TADs to hg19.\n"
     ]
    }
   ],
   "source": [
    "# Read in TADs, convert to hg19.\n",
    "tads = pbt.BedTool(os.path.join(private_outdir, 'hESC', 'combined', 'total.combined.domain'))\n",
    "n = len(tads)\n",
    "mapped = os.path.join(outdir, 'hg19_hESC_tads_mapped.bed')\n",
    "unmapped = os.path.join(outdir, 'hg19_hESC_tads_unmapped.txt')\n",
    "tads = cpb.analysis.liftover_bed(tads, os.path.join(private_outdir, 'hg18ToHg19.over.chain'),\n",
    "                                 mapped, unmapped)\n",
    "print('Converted {} of {} TADs to hg19.'.format(len(tads), n))"
   ]
  },
  {
   "cell_type": "code",
   "execution_count": 14,
   "metadata": {
    "collapsed": true
   },
   "outputs": [],
   "source": [
    "sig = most_sig[most_sig.sig_gene]"
   ]
  },
  {
   "cell_type": "code",
   "execution_count": 16,
   "metadata": {
    "collapsed": false
   },
   "outputs": [
    {
     "data": {
      "text/html": [
       "<div>\n",
       "<table border=\"1\" class=\"dataframe\">\n",
       "  <thead>\n",
       "    <tr style=\"text-align: right;\">\n",
       "      <th></th>\n",
       "      <th>chrom</th>\n",
       "      <th>start</th>\n",
       "      <th>end</th>\n",
       "      <th>loc</th>\n",
       "      <th>marker_id</th>\n",
       "      <th>ns</th>\n",
       "      <th>ac</th>\n",
       "      <th>callrate</th>\n",
       "      <th>genocnt</th>\n",
       "      <th>maf</th>\n",
       "      <th>...</th>\n",
       "      <th>beta</th>\n",
       "      <th>sebeta</th>\n",
       "      <th>r2</th>\n",
       "      <th>ref</th>\n",
       "      <th>alt</th>\n",
       "      <th>length</th>\n",
       "      <th>vtype</th>\n",
       "      <th>pvalue_gene</th>\n",
       "      <th>qvalue_gene</th>\n",
       "      <th>sig_gene</th>\n",
       "    </tr>\n",
       "  </thead>\n",
       "  <tbody>\n",
       "    <tr>\n",
       "      <th>ENSG00000000460.12</th>\n",
       "      <td>chr1</td>\n",
       "      <td>169747782</td>\n",
       "      <td>169747783</td>\n",
       "      <td>chr1:169747783</td>\n",
       "      <td>1:169747783_T/G</td>\n",
       "      <td>207</td>\n",
       "      <td>29</td>\n",
       "      <td>1</td>\n",
       "      <td>182/21/4</td>\n",
       "      <td>0.07005</td>\n",
       "      <td>...</td>\n",
       "      <td>0.8657</td>\n",
       "      <td>0.16920</td>\n",
       "      <td>0.1137</td>\n",
       "      <td>T</td>\n",
       "      <td>G</td>\n",
       "      <td>0</td>\n",
       "      <td>snp</td>\n",
       "      <td>0.0007</td>\n",
       "      <td>0.001608</td>\n",
       "      <td>True</td>\n",
       "    </tr>\n",
       "    <tr>\n",
       "      <th>ENSG00000001561.6</th>\n",
       "      <td>chr6</td>\n",
       "      <td>46112388</td>\n",
       "      <td>46112389</td>\n",
       "      <td>chr6:46112389</td>\n",
       "      <td>6:46112389_A/G_rs1048077</td>\n",
       "      <td>207</td>\n",
       "      <td>279</td>\n",
       "      <td>1</td>\n",
       "      <td>26/83/98</td>\n",
       "      <td>0.32609</td>\n",
       "      <td>...</td>\n",
       "      <td>0.7554</td>\n",
       "      <td>0.08975</td>\n",
       "      <td>0.2577</td>\n",
       "      <td>A</td>\n",
       "      <td>G</td>\n",
       "      <td>0</td>\n",
       "      <td>snp</td>\n",
       "      <td>0.0001</td>\n",
       "      <td>0.000284</td>\n",
       "      <td>True</td>\n",
       "    </tr>\n",
       "    <tr>\n",
       "      <th>ENSG00000002016.12</th>\n",
       "      <td>chr12</td>\n",
       "      <td>1043833</td>\n",
       "      <td>1043834</td>\n",
       "      <td>chr12:1043834</td>\n",
       "      <td>12:1043834_T/C_rs10849594</td>\n",
       "      <td>207</td>\n",
       "      <td>59</td>\n",
       "      <td>1</td>\n",
       "      <td>153/49/5</td>\n",
       "      <td>0.14251</td>\n",
       "      <td>...</td>\n",
       "      <td>-0.8211</td>\n",
       "      <td>0.13120</td>\n",
       "      <td>0.1611</td>\n",
       "      <td>T</td>\n",
       "      <td>C</td>\n",
       "      <td>0</td>\n",
       "      <td>snp</td>\n",
       "      <td>0.0001</td>\n",
       "      <td>0.000284</td>\n",
       "      <td>True</td>\n",
       "    </tr>\n",
       "    <tr>\n",
       "      <th>ENSG00000003056.3</th>\n",
       "      <td>chr12</td>\n",
       "      <td>9095748</td>\n",
       "      <td>9095749</td>\n",
       "      <td>chr12:9095749</td>\n",
       "      <td>12:9095749_T/C_rs7309922</td>\n",
       "      <td>207</td>\n",
       "      <td>189</td>\n",
       "      <td>1</td>\n",
       "      <td>69/87/51</td>\n",
       "      <td>0.45652</td>\n",
       "      <td>...</td>\n",
       "      <td>-0.6825</td>\n",
       "      <td>0.08893</td>\n",
       "      <td>0.2240</td>\n",
       "      <td>T</td>\n",
       "      <td>C</td>\n",
       "      <td>0</td>\n",
       "      <td>snp</td>\n",
       "      <td>0.0001</td>\n",
       "      <td>0.000284</td>\n",
       "      <td>True</td>\n",
       "    </tr>\n",
       "    <tr>\n",
       "      <th>ENSG00000003147.13</th>\n",
       "      <td>chr7</td>\n",
       "      <td>9247738</td>\n",
       "      <td>9247739</td>\n",
       "      <td>chr7:9247739</td>\n",
       "      <td>7:9247739_A/G_rs12537168</td>\n",
       "      <td>207</td>\n",
       "      <td>125</td>\n",
       "      <td>1</td>\n",
       "      <td>100/89/18</td>\n",
       "      <td>0.30193</td>\n",
       "      <td>...</td>\n",
       "      <td>-0.5109</td>\n",
       "      <td>0.09957</td>\n",
       "      <td>0.1143</td>\n",
       "      <td>A</td>\n",
       "      <td>G</td>\n",
       "      <td>0</td>\n",
       "      <td>snp</td>\n",
       "      <td>0.0012</td>\n",
       "      <td>0.002603</td>\n",
       "      <td>True</td>\n",
       "    </tr>\n",
       "  </tbody>\n",
       "</table>\n",
       "<p>5 rows × 22 columns</p>\n",
       "</div>"
      ],
      "text/plain": [
       "                    chrom      start        end             loc  \\\n",
       "ENSG00000000460.12   chr1  169747782  169747783  chr1:169747783   \n",
       "ENSG00000001561.6    chr6   46112388   46112389   chr6:46112389   \n",
       "ENSG00000002016.12  chr12    1043833    1043834   chr12:1043834   \n",
       "ENSG00000003056.3   chr12    9095748    9095749   chr12:9095749   \n",
       "ENSG00000003147.13   chr7    9247738    9247739    chr7:9247739   \n",
       "\n",
       "                                    marker_id   ns   ac  callrate    genocnt  \\\n",
       "ENSG00000000460.12            1:169747783_T/G  207   29         1   182/21/4   \n",
       "ENSG00000001561.6    6:46112389_A/G_rs1048077  207  279         1   26/83/98   \n",
       "ENSG00000002016.12  12:1043834_T/C_rs10849594  207   59         1   153/49/5   \n",
       "ENSG00000003056.3    12:9095749_T/C_rs7309922  207  189         1   69/87/51   \n",
       "ENSG00000003147.13   7:9247739_A/G_rs12537168  207  125         1  100/89/18   \n",
       "\n",
       "                        maf    ...       beta   sebeta      r2  ref  alt  \\\n",
       "ENSG00000000460.12  0.07005    ...     0.8657  0.16920  0.1137    T    G   \n",
       "ENSG00000001561.6   0.32609    ...     0.7554  0.08975  0.2577    A    G   \n",
       "ENSG00000002016.12  0.14251    ...    -0.8211  0.13120  0.1611    T    C   \n",
       "ENSG00000003056.3   0.45652    ...    -0.6825  0.08893  0.2240    T    C   \n",
       "ENSG00000003147.13  0.30193    ...    -0.5109  0.09957  0.1143    A    G   \n",
       "\n",
       "                   length vtype  pvalue_gene qvalue_gene  sig_gene  \n",
       "ENSG00000000460.12      0   snp       0.0007    0.001608      True  \n",
       "ENSG00000001561.6       0   snp       0.0001    0.000284      True  \n",
       "ENSG00000002016.12      0   snp       0.0001    0.000284      True  \n",
       "ENSG00000003056.3       0   snp       0.0001    0.000284      True  \n",
       "ENSG00000003147.13      0   snp       0.0012    0.002603      True  \n",
       "\n",
       "[5 rows x 22 columns]"
      ]
     },
     "execution_count": 16,
     "metadata": {},
     "output_type": "execute_result"
    }
   ],
   "source": [
    "sig.head()"
   ]
  },
  {
   "cell_type": "code",
   "execution_count": null,
   "metadata": {
    "collapsed": true
   },
   "outputs": [],
   "source": []
  },
  {
   "cell_type": "code",
   "execution_count": null,
   "metadata": {
    "collapsed": true
   },
   "outputs": [],
   "source": []
  },
  {
   "cell_type": "code",
   "execution_count": null,
   "metadata": {
    "collapsed": true
   },
   "outputs": [],
   "source": []
  },
  {
   "cell_type": "code",
   "execution_count": null,
   "metadata": {
    "collapsed": true
   },
   "outputs": [],
   "source": []
  }
 ],
 "metadata": {
  "kernelspec": {
   "display_name": "Python 2",
   "language": "python",
   "name": "python2"
  },
  "language_info": {
   "codemirror_mode": {
    "name": "ipython",
    "version": 2
   },
   "file_extension": ".py",
   "mimetype": "text/x-python",
   "name": "python",
   "nbconvert_exporter": "python",
   "pygments_lexer": "ipython2",
   "version": "2.7.10"
  }
 },
 "nbformat": 4,
 "nbformat_minor": 0
}
