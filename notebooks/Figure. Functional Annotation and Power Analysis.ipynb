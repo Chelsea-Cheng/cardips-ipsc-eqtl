{
 "cells": [
  {
   "cell_type": "markdown",
   "metadata": {},
   "source": [
    "# Figure. Functional Annotation"
   ]
  },
  {
   "cell_type": "code",
   "execution_count": 1,
   "metadata": {
    "collapsed": false
   },
   "outputs": [],
   "source": [
    "import cPickle\n",
    "import glob\n",
    "import os\n",
    "import random\n",
    "import subprocess\n",
    "\n",
    "import cdpybio as cpb\n",
    "from ipyparallel import Client\n",
    "import matplotlib as mpl\n",
    "import matplotlib.gridspec as gridspec\n",
    "import matplotlib.pyplot as plt\n",
    "import networkx as nx\n",
    "import numpy as np\n",
    "import pandas as pd\n",
    "import pybedtools as pbt\n",
    "from scipy.stats import fisher_exact\n",
    "import seaborn as sns\n",
    "import statsmodels.api as sm\n",
    "import statsmodels.formula.api as smf\n",
    "import statsmodels as sms\n",
    "import tabix\n",
    "import vcf as pyvcf\n",
    "import weblogolib as logo\n",
    "\n",
    "import cardipspy as cpy\n",
    "import ciepy\n",
    "\n",
    "%matplotlib inline\n",
    "%load_ext rpy2.ipython\n",
    "\n",
    "dy_name = 'figure_functional_annotation_and_power_analysis'\n",
    "\n",
    "import socket\n",
    "if socket.gethostname() == 'fl-hn1' or socket.gethostname() == 'fl-hn2':\n",
    "    dy = os.path.join(ciepy.root, 'sandbox', 'tmp', dy_name)\n",
    "    cpy.makedir(dy)\n",
    "    pbt.set_tempdir(dy)\n",
    "    \n",
    "outdir = os.path.join(ciepy.root, 'output', dy_name)\n",
    "cpy.makedir(outdir)\n",
    "\n",
    "private_outdir = os.path.join(ciepy.root, 'private_output', dy_name)\n",
    "cpy.makedir(private_outdir)"
   ]
  },
  {
   "cell_type": "code",
   "execution_count": 2,
   "metadata": {
    "collapsed": true
   },
   "outputs": [],
   "source": [
    "sns.set_style('whitegrid')"
   ]
  },
  {
   "cell_type": "code",
   "execution_count": 5,
   "metadata": {
    "collapsed": false
   },
   "outputs": [],
   "source": [
    "fn = os.path.join(ciepy.root, 'output', 'functional_annotation_analysis', 'encode_dnase_res.tsv')\n",
    "dnase_res = pd.read_table(fn, index_col=0)\n",
    "\n",
    "fn = os.path.join(ciepy.root, 'output', 'functional_annotation_analysis', 'encode_stem_cell_chip_seq_res.tsv')\n",
    "tf_res = pd.read_table(fn, index_col=0)\n",
    "tf_res = tf_res.drop_duplicates(subset=['target'])"
   ]
  },
  {
   "cell_type": "code",
   "execution_count": 6,
   "metadata": {
    "collapsed": true
   },
   "outputs": [],
   "source": [
    "fn = os.path.join(ciepy.root, 'output', 'gtex_analysis', 'plot_data.tsv')\n",
    "plotd = pd.read_table(fn, index_col=0)\n",
    "plotd = plotd.drop('Testis')\n",
    "fn = os.path.join(ciepy.root, 'output', 'input_data', 'rnaseq_metadata.tsv')\n",
    "rna_meta = pd.read_table(fn, index_col=0)"
   ]
  },
  {
   "cell_type": "markdown",
   "metadata": {},
   "source": [
    "## Paper"
   ]
  },
  {
   "cell_type": "code",
   "execution_count": 7,
   "metadata": {
    "collapsed": false
   },
   "outputs": [
    {
     "name": "stdout",
     "output_type": "stream",
     "text": [
      "123 samples from 78 cell types.\n",
      "9 skin fibroblasts.\n"
     ]
    }
   ],
   "source": [
    "tdf = dnase_res[dnase_res.biosample_type != 'immortalized cell line'].copy(deep=True)\n",
    "a = tdf.shape[0]\n",
    "b = tdf.cell_type.value_counts().shape[0]\n",
    "print('{} samples from {} cell types.'.format(a, b))\n",
    "print('{} skin fibroblasts.'.format(sum(tdf.cell_type == 'skin fibroblast')))"
   ]
  },
  {
   "cell_type": "code",
   "execution_count": 8,
   "metadata": {
    "collapsed": false
   },
   "outputs": [],
   "source": [
    "tdf.sort_values(by='pvalue', inplace=True)"
   ]
  },
  {
   "cell_type": "code",
   "execution_count": 9,
   "metadata": {
    "collapsed": false
   },
   "outputs": [
    {
     "data": {
      "text/plain": [
       "(array([16, 27, 39, 61, 62, 64, 72, 90, 94]),)"
      ]
     },
     "execution_count": 9,
     "metadata": {},
     "output_type": "execute_result"
    }
   ],
   "source": [
    "np.where(tdf.cell_type == 'skin fibroblast')"
   ]
  },
  {
   "cell_type": "code",
   "execution_count": 10,
   "metadata": {
    "collapsed": false
   },
   "outputs": [
    {
     "data": {
      "text/plain": [
       "transcription factor                                                                                39\n",
       "chromatin remodeller, transcription factor                                                           8\n",
       "RNA binding protein, transcription factor                                                            3\n",
       "broad histone mark, histone, histone modification                                                    2\n",
       "chromatin remodeller, other context, other post-translational modification, transcription factor     1\n",
       "histone, histone modification, narrow histone mark                                                   1\n",
       "Name: target_type, dtype: int64"
      ]
     },
     "execution_count": 10,
     "metadata": {},
     "output_type": "execute_result"
    }
   ],
   "source": [
    "tf_res.target_type.value_counts()"
   ]
  },
  {
   "cell_type": "code",
   "execution_count": 11,
   "metadata": {
    "collapsed": true
   },
   "outputs": [],
   "source": [
    "tf_res = tf_res[tf_res.target_type != 'histone, histone modification']"
   ]
  },
  {
   "cell_type": "code",
   "execution_count": 21,
   "metadata": {
    "collapsed": false
   },
   "outputs": [],
   "source": [
    "tf_res.sort_values(by='pvalue', inplace=True)"
   ]
  },
  {
   "cell_type": "code",
   "execution_count": 23,
   "metadata": {
    "collapsed": false
   },
   "outputs": [
    {
     "data": {
      "text/plain": [
       "(array([17]),)"
      ]
     },
     "execution_count": 23,
     "metadata": {},
     "output_type": "execute_result"
    }
   ],
   "source": [
    "np.where(tf_res.target == 'POU5F1')"
   ]
  },
  {
   "cell_type": "code",
   "execution_count": 17,
   "metadata": {
    "collapsed": false
   },
   "outputs": [
    {
     "name": "stderr",
     "output_type": "stream",
     "text": [
      "/frazer01/home/cdeboever/software/anaconda/envs/cie/lib/python2.7/site-packages/matplotlib/gridspec.py:302: UserWarning: This figure includes Axes that are not compatible with tight_layout, so its results might be incorrect.\n",
      "  warnings.warn(\"This figure includes Axes that are not \"\n"
     ]
    },
    {
     "ename": "NameError",
     "evalue": "name 'grasp_res' is not defined",
     "output_type": "error",
     "traceback": [
      "\u001b[1;31m---------------------------------------------------------------------------\u001b[0m",
      "\u001b[1;31mNameError\u001b[0m                                 Traceback (most recent call last)",
      "\u001b[1;32m<ipython-input-17-30e8217ec9b5>\u001b[0m in \u001b[0;36m<module>\u001b[1;34m()\u001b[0m\n\u001b[0;32m     63\u001b[0m \u001b[0max2\u001b[0m \u001b[1;33m=\u001b[0m \u001b[0mfig\u001b[0m\u001b[1;33m.\u001b[0m\u001b[0madd_subplot\u001b[0m\u001b[1;33m(\u001b[0m\u001b[0mgs\u001b[0m\u001b[1;33m[\u001b[0m\u001b[1;36m0\u001b[0m\u001b[1;33m,\u001b[0m \u001b[1;36m0\u001b[0m\u001b[1;33m]\u001b[0m\u001b[1;33m)\u001b[0m\u001b[1;33m\u001b[0m\u001b[0m\n\u001b[0;32m     64\u001b[0m \u001b[1;33m\u001b[0m\u001b[0m\n\u001b[1;32m---> 65\u001b[1;33m \u001b[0mgrasp_res\u001b[0m\u001b[1;33m.\u001b[0m\u001b[0msort_values\u001b[0m\u001b[1;33m(\u001b[0m\u001b[0mby\u001b[0m\u001b[1;33m=\u001b[0m\u001b[1;34m'pvalue'\u001b[0m\u001b[1;33m,\u001b[0m \u001b[0minplace\u001b[0m\u001b[1;33m=\u001b[0m\u001b[0mTrue\u001b[0m\u001b[1;33m)\u001b[0m\u001b[1;33m\u001b[0m\u001b[0m\n\u001b[0m\u001b[0;32m     66\u001b[0m \u001b[0mt\u001b[0m \u001b[1;33m=\u001b[0m \u001b[0mgrasp_res\u001b[0m\u001b[1;33m[\u001b[0m\u001b[0mgrasp_res\u001b[0m\u001b[1;33m.\u001b[0m\u001b[0mpvalue\u001b[0m \u001b[1;33m<\u001b[0m \u001b[1;36m0.05\u001b[0m\u001b[1;33m]\u001b[0m\u001b[1;33m\u001b[0m\u001b[0m\n\u001b[0;32m     67\u001b[0m \u001b[0mt\u001b[0m \u001b[1;33m=\u001b[0m \u001b[0mgrasp_res\u001b[0m\u001b[1;33m[\u001b[0m\u001b[0mgrasp_res\u001b[0m\u001b[1;33m.\u001b[0m\u001b[0mbh_sig\u001b[0m\u001b[1;33m]\u001b[0m\u001b[1;33m\u001b[0m\u001b[0m\n",
      "\u001b[1;31mNameError\u001b[0m: name 'grasp_res' is not defined"
     ]
    },
    {
     "data": {
      "image/png": "[encoded data removed]",
      "text/plain": [
       "<matplotlib.figure.Figure at 0x7f0606634d10>"
      ]
     },
     "metadata": {},
     "output_type": "display_data"
    }
   ],
   "source": [
    "fig = plt.figure(figsize=(6.85, 6.1), dpi=300)\n",
    "\n",
    "gs = gridspec.GridSpec(1, 1)\n",
    "ax = fig.add_subplot(gs[0, 0])\n",
    "ax.text(0, 1, 'Figure 2',\n",
    "        size=16, va='top')\n",
    "ciepy.clean_axis(ax)\n",
    "ax.set_xticks([])\n",
    "ax.set_yticks([])\n",
    "gs.tight_layout(fig, rect=[0, 0.90, 0.5, 1])\n",
    "\n",
    "gs = gridspec.GridSpec(1, 1)\n",
    "ax = fig.add_subplot(gs[0, 0])\n",
    "t = dnase_res[dnase_res.biosample_type != 'immortalized cell line']\n",
    "t = dnase_res.ix[t.index].sort_values(by='pvalue', ascending=False).tail(10)\n",
    "# cdict = dict(zip(set(dnase_res.ix[t.index, 'biosample_type']), sns.color_palette('Set2')))\n",
    "cdict = dict([['induced pluripotent stem cell line', cpb.analysis.tableau20[0]],\n",
    "              ['stem cell', cpb.analysis.tableau20[4]],\n",
    "              ['primary cell', cpb.analysis.tableau20[8]]])\n",
    "#fig, ax = plt.subplots(1, 1, figsize=(5, 10))\n",
    "c = [cdict[x] for x in dnase_res.ix[t.index, 'biosample_type']]\n",
    "ax = (-np.log10(t.pvalue)).plot(kind='barh', ax=ax, color=c, label=None)\n",
    "ax.set_ylabel('')\n",
    "ax.set_xlabel('$-\\log_{10}$ $p$-value', fontsize=8)\n",
    "#ax.set_title('ENCODE DNase enrichments')\n",
    "ya, yb = ax.get_ylim()\n",
    "ax.set_yticklabels(dnase_res.ix[t.index, 'cell_type'], fontsize=8)\n",
    "rects = []\n",
    "labels = []\n",
    "for k in ['induced pluripotent stem cell line', 'stem cell',\n",
    "          'primary cell',]:\n",
    "    if k == 'induced pluripotent stem cell line':\n",
    "        labels.append('iPSC')\n",
    "    elif k == 'in vitro differentiated cells':\n",
    "        labels.append('in vitro\\ndifferentiated\\ncell')\n",
    "    else:\n",
    "        labels.append(k)\n",
    "    r = plt.Rectangle((0, 0), 0, 0, fc=cdict[k])\n",
    "    rects.append(r)\n",
    "lgd = ax.legend(rects, labels, loc='lower right', frameon=True, fontsize=7)\n",
    "#bbox_to_anchor=[0.5, -0.05])#, prop={'size':8}), loc='upper center',\n",
    "for p in lgd.get_patches():\n",
    "    p.set_linewidth(0)\n",
    "ax.grid(axis='y')\n",
    "for t in ax.get_xticklabels() + ax.get_yticklabels():\n",
    "    t.set_fontsize(8)\n",
    "gs.tight_layout(fig, rect=[0, 0.27, 0.7, 0.59])\n",
    "\n",
    "gs = gridspec.GridSpec(1, 1)\n",
    "ax = fig.add_subplot(gs[0, 0])\n",
    "t = tf_res.sort_values(by='pvalue', ascending=False).tail(10)\n",
    "ax = (-np.log10(t.pvalue)).plot(kind='barh', ax=ax, color='grey', zorder=2)\n",
    "ax.set_ylabel('')\n",
    "ax.set_xlabel('$-\\log_{10}$ $p$-value', fontsize=8)\n",
    "ya, yb = ax.get_ylim()\n",
    "t = ax.set_yticklabels(t.target, fontsize=8)\n",
    "for t in ax.get_xticklabels() + ax.get_yticklabels():\n",
    "    t.set_fontsize(8)\n",
    "ax.grid(axis='y')\n",
    "gs.tight_layout(fig, rect=[0.7, 0.27, 1, 0.59])\n",
    "\n",
    "gs = gridspec.GridSpec(1, 1)\n",
    "ax2 = fig.add_subplot(gs[0, 0])\n",
    "\n",
    "grasp_res.sort_values(by='pvalue', inplace=True)\n",
    "t = grasp_res[grasp_res.pvalue < 0.05]\n",
    "t = grasp_res[grasp_res.bh_sig]\n",
    "\n",
    "ymin = 0\n",
    "ymax= t.shape[0]\n",
    "\n",
    "ax2.set_xlabel('$-\\log_{10}$ $p$-value', fontsize=8)\n",
    "h = 0.5\n",
    "step = abs(ymax - ymin) / t.shape[0]\n",
    "b = np.arange(ymin, ymax, step) + (step / 2 - h / 2)\n",
    "ax2.barh(b, -np.log10(grasp_res.ix[t.index, 'pvalue']), height=h, \n",
    "         alpha=0.75, zorder=4)\n",
    "\n",
    "ax = ax2.twiny()\n",
    "\n",
    "ax = sns.boxplot(data=grasp_counts.ix[t.index, grasp_counts.columns[1:]].T, ax=ax, \n",
    "                 orient='h', linewidth=0.8)\n",
    "boxes = ax.artists\n",
    "for i,box in enumerate(boxes):\n",
    "    box.set_facecolor('grey')\n",
    "ax.scatter(grasp_counts.ix[t.index, 'real'], range(t.shape[0]), s=50, \n",
    "           color='black', marker='o', zorder=4)\n",
    "\n",
    "xmin, xmax = ax.get_xlim()\n",
    "# for i in range(se.shape[0]):\n",
    "#     ax.text(0.97 * xmax, i, se.values[i], va='center', ha='center')\n",
    "ax.set_xlabel('Number of overlaps', fontsize=8)\n",
    "ax.set_xlim(0, xmax)\n",
    "ax.set_ylabel('')\n",
    "for tick in ax.get_xticklabels() + ax.get_yticklabels():\n",
    "    tick.set_fontsize(8)\n",
    "\n",
    "ymin,ymax = ax.get_ylim()\n",
    "\n",
    "ax.set_ylim(ymin, ymax)\n",
    "#ax.set_xlim(0, 50)\n",
    "# ax2.set_yticklabels(grasp_res.ix[t.index, 'phenotype'], fontsize=8)\n",
    "# for t in ax.get_xticklabels() + ax.get_yticklabels():\n",
    "#     t.set_fontsize(8)\n",
    "\n",
    "ax.grid(axis='x')\n",
    "ax2.grid(axis='y')\n",
    "for tick in ax2.get_xticklabels() + ax2.get_yticklabels():\n",
    "    tick.set_fontsize(8)\n",
    "gs.tight_layout(fig, rect=[0, 0, 1, 0.31])\n",
    "\n",
    "# Number of eGenes vs. number of samples\n",
    "gs = gridspec.GridSpec(1, 1)\n",
    "ax = fig.add_subplot(gs[0, 0])\n",
    "ax.scatter(plotd.ix[plotd.source == 'gtex', 'num_samples'], \n",
    "           plotd.ix[plotd.source == 'gtex', 'num_sig_genes'],\n",
    "           label='GTEx', color=cpb.analysis.tableau20[0], s=30, alpha=0.75)\n",
    "ax.scatter([plotd.ix['ipsc_unrelateds', 'num_samples']], \n",
    "           [plotd.ix['ipsc_unrelateds', 'num_sig_genes']],\n",
    "           label='iPSC unrelateds', color=cpb.analysis.tableau20[2], alpha=0.75, s=30)\n",
    "ax.scatter([plotd.ix['ipsc', 'num_samples']], \n",
    "           [plotd.ix['ipsc', 'num_sig_genes']],\n",
    "           label='iPSC', color=cpb.analysis.tableau20[2], alpha=0.75, s=30, marker='*')\n",
    "ax.set_xlabel('Number of samples', fontsize=8)\n",
    "ax.set_ylabel('Number of eGenes', fontsize=8)\n",
    "for t in ax.get_xticklabels() + ax.get_yticklabels():\n",
    "    t.set_fontsize(8)\n",
    "ax.legend(frameon=True, fancybox=True, fontsize=7, loc='lower right')\n",
    "ax.yaxis.set_major_formatter(ciepy.comma_format)\n",
    "gs.tight_layout(fig, rect=[0, 0.57, 0.5, 0.9])\n",
    "\n",
    "# Percent distinct eGenes\n",
    "gs = gridspec.GridSpec(1, 1)\n",
    "ax = fig.add_subplot(gs[0, 0])\n",
    "ax.scatter(plotd.ix[plotd.source == 'gtex', 'num_samples'], \n",
    "           plotd.ix[plotd.source == 'gtex', 'percent_distinct_egenes'],\n",
    "           label='GTEx', color=cpb.analysis.tableau20[0], s=30, alpha=0.75)\n",
    "ax.scatter([plotd.ix['ipsc_unrelateds', 'num_samples']], \n",
    "           [plotd.ix['ipsc_unrelateds', 'percent_distinct_egenes']],\n",
    "           label='iPSC 131 unrelateds', color=cpb.analysis.tableau20[2], alpha=0.75, s=30)\n",
    "ax.scatter([plotd.ix['ipsc', 'num_samples']], \n",
    "           [plotd.ix['ipsc', 'percent_distinct_egenes']],\n",
    "           label='iPSC', color=cpb.analysis.tableau20[2], alpha=0.75, s=50, marker='*')\n",
    "ax.set_xlabel('Number of samples', fontsize=8)\n",
    "ax.set_ylabel('Percent unique eGenes', fontsize=8)\n",
    "for t in ax.get_xticklabels() + ax.get_yticklabels():\n",
    "    t.set_fontsize(8)\n",
    "#ax.legend(frameon=True, fancybox=True, fontsize=7, loc='upper right')\n",
    "ymin,ymax = ax.get_ylim()\n",
    "ax.set_ylim(0, ymax)\n",
    "gs.tight_layout(fig, rect=[0.5, 0.57, 1, 0.9])\n",
    "\n",
    "t = fig.text(0.005, 0.87, 'A', weight='bold', \n",
    "             size=12)\n",
    "t = fig.text(0.5, 0.87, 'B', weight='bold', \n",
    "             size=12)\n",
    "t = fig.text(0.005, 0.56, 'C', weight='bold', \n",
    "             size=12)\n",
    "t = fig.text(0.7, 0.56, 'D', weight='bold', \n",
    "             size=12)\n",
    "t = fig.text(0.005, 0.25, 'E', weight='bold', \n",
    "             size=12)\n",
    "\n",
    "fig.savefig(os.path.join(outdir, 'functional_annotation_power.pdf'))\n",
    "fig.savefig(os.path.join(outdir, 'functional_annotation_power.png'))"
   ]
  },
  {
   "cell_type": "markdown",
   "metadata": {},
   "source": [
    "## Presentation"
   ]
  },
  {
   "cell_type": "code",
   "execution_count": null,
   "metadata": {
    "collapsed": false
   },
   "outputs": [],
   "source": [
    "fig = plt.figure(figsize=(10, 6.5), dpi=300)\n",
    "\n",
    "gs = gridspec.GridSpec(1, 1)\n",
    "ax = fig.add_subplot(gs[0, 0])\n",
    "t = dnase_res[dnase_res.biosample_type != 'immortalized cell line']\n",
    "t = dnase_res.ix[t.index].sort_values(by='pvalue', ascending=False).tail(20)\n",
    "# cdict = dict(zip(set(dnase_res.ix[t.index, 'biosample_type']), sns.color_palette('Set2')))\n",
    "cdict = dict([['induced pluripotent stem cell line', cpb.analysis.tableau20[0]],\n",
    "              ['stem cell', cpb.analysis.tableau20[4]],\n",
    "              ['in vitro differentiated cells', cpb.analysis.tableau20[6]],\n",
    "              ['primary cell', cpb.analysis.tableau20[8]], \n",
    "              ['tissue', cpb.analysis.tableau20[10]]])\n",
    "#fig, ax = plt.subplots(1, 1, figsize=(5, 10))\n",
    "c = [cdict[x] for x in dnase_res.ix[t.index, 'biosample_type']]\n",
    "ax = (-np.log10(t.pvalue)).plot(kind='barh', ax=ax, color=c, label=None)\n",
    "ax.set_ylabel('')\n",
    "ax.set_xlabel('$-\\log_{10}$ $p$-value', fontsize=16)\n",
    "#ax.set_title('ENCODE DNase enrichments')\n",
    "ya, yb = ax.get_ylim()\n",
    "ax.set_yticklabels(dnase_res.ix[t.index, 'cell_type'], fontsize=8)\n",
    "rects = []\n",
    "labels = []\n",
    "for k in ['induced pluripotent stem cell line', 'stem cell',\n",
    "          'in vitro differentiated cells', 'primary cell', 'tissue']:\n",
    "    if k == 'induced pluripotent stem cell line':\n",
    "        labels.append('iPSC')\n",
    "    elif k == 'in vitro differentiated cells':\n",
    "        labels.append('in vitro\\ndifferentiated\\ncell')\n",
    "    else:\n",
    "        labels.append(k)\n",
    "    r = plt.Rectangle((0, 0), 0, 0, fc=cdict[k])\n",
    "    rects.append(r)\n",
    "lgd = ax.legend(rects, labels, loc='lower right', frameon=True, fontsize=12)\n",
    "#bbox_to_anchor=[0.5, -0.05])#, prop={'size':8}), loc='upper center',\n",
    "for p in lgd.get_patches():\n",
    "    p.set_linewidth(0)\n",
    "ax.grid(axis='y')\n",
    "for t in ax.get_xticklabels() + ax.get_yticklabels():\n",
    "    t.set_fontsize(12)\n",
    "ax.set_title('ENCODE DHS')\n",
    "gs.tight_layout(fig, rect=[0, 0, 0.6, 1])\n",
    "\n",
    "gs = gridspec.GridSpec(1, 1)\n",
    "ax = fig.add_subplot(gs[0, 0])\n",
    "t = tf_res.sort_values(by='pvalue', ascending=False).tail(20)\n",
    "ax = (-np.log10(t.pvalue)).plot(kind='barh', ax=ax, color='grey')\n",
    "ax.set_ylabel('')\n",
    "ax.set_xlabel('$-\\log_{10}$ $p$-value', fontsize=16)\n",
    "ya, yb = ax.get_ylim()\n",
    "t = ax.set_yticklabels(t.target, fontsize=8)\n",
    "for t in ax.get_xticklabels() + ax.get_yticklabels():\n",
    "    t.set_fontsize(12)\n",
    "ax.grid(axis='y')\n",
    "ax.set_title('H1-hESC Transcription Factor ChIP-Seq')\n",
    "gs.tight_layout(fig, rect=[0.6, 0, 1, 1])\n",
    "\n",
    "fig.savefig(os.path.join(outdir, 'dnase_tf_presentation.pdf'))"
   ]
  },
  {
   "cell_type": "code",
   "execution_count": null,
   "metadata": {
    "collapsed": false
   },
   "outputs": [],
   "source": [
    "fig,ax = plt.subplots(1, 1, figsize=(10, 6.5), dpi=300)\n",
    "\n",
    "grasp_res.sort_values(by='pvalue', inplace=True)\n",
    "t = grasp_res[grasp_res.bh_sig]\n",
    "\n",
    "sns.boxplot(data=grasp_counts.ix[t.index, grasp_counts.columns[1:]].T, ax=ax, orient='h')\n",
    "ax.scatter(grasp_counts.ix[t.index, 'real'], range(t.shape[0]), alpha=0.5, s=100)\n",
    "\n",
    "xmin, xmax = ax.get_xlim()\n",
    "# for i in range(se.shape[0]):\n",
    "#     ax.text(0.97 * xmax, i, se.values[i], va='center', ha='center')\n",
    "ax.set_xlabel('Number of overlaps', fontsize=16)\n",
    "ax.set_xlim(0, xmax)\n",
    "ax.set_ylabel('')\n",
    "for tick in ax.get_xticklabels() + ax.get_yticklabels():\n",
    "    tick.set_fontsize(16)\n",
    "\n",
    "ymin,ymax = ax.get_ylim()\n",
    "ax2 = ax.twiny()\n",
    "ax2.set_xlabel('$-\\log_{10}$ Fisher $p$-value', fontsize=16)\n",
    "h = 0.5\n",
    "step = abs(ymax - ymin) / t.shape[0]\n",
    "b = np.arange(ymax, ymin, step) + (step / 2 - h / 2)\n",
    "ax2.barh(b, -np.log10(grasp_res.ix[t.index, 'pvalue']), height=h, alpha=0.5)\n",
    "ax.set_ylim(ymin, ymax)\n",
    "#ax.set_xlim(0, 50)\n",
    "ax.grid(axis='x')\n",
    "ax2.grid(axis='x')\n",
    "ax.grid('x', zorder=4)\n",
    "for tick in ax2.get_xticklabels() + ax2.get_yticklabels():\n",
    "    tick.set_fontsize(16)\n",
    "    \n",
    "fig.tight_layout()\n",
    "\n",
    "fig.savefig(os.path.join(outdir, 'gwas_presentation.pdf'))"
   ]
  },
  {
   "cell_type": "code",
   "execution_count": null,
   "metadata": {
    "collapsed": false
   },
   "outputs": [],
   "source": [
    "fs = 10\n",
    "\n",
    "fig = plt.figure(figsize=(6.8, 4), dpi=300)\n",
    "\n",
    "# Number of eGenes vs. number of samples\n",
    "gs = gridspec.GridSpec(1, 1)\n",
    "ax = fig.add_subplot(gs[0, 0])\n",
    "ax.scatter(plotd.ix[plotd.source == 'gtex', 'num_samples'], \n",
    "           plotd.ix[plotd.source == 'gtex', 'num_sig_genes'],\n",
    "           label='GTEx', color=cpb.analysis.tableau20[0], s=30, alpha=0.75)\n",
    "ax.scatter([plotd.ix['ipsc_unrelateds', 'num_samples']], \n",
    "           [plotd.ix['ipsc_unrelateds', 'num_sig_genes']],\n",
    "           label='iPSC 131 unrelateds', color=cpb.analysis.tableau20[2], alpha=0.75, s=50,\n",
    "           marker='*')\n",
    "ax.scatter([plotd.ix['ipsc', 'num_samples']], \n",
    "           [plotd.ix['ipsc', 'num_sig_genes']],\n",
    "           label='iPSC', color=cpb.analysis.tableau20[2], alpha=0.75, s=30)\n",
    "ax.set_xlabel('Number of samples', fontsize=fs)\n",
    "ax.set_ylabel('Number of eGenes', fontsize=fs)\n",
    "for t in ax.get_xticklabels() + ax.get_yticklabels():\n",
    "    t.set_fontsize(fs)\n",
    "lgd = ax.legend(loc='upper center', bbox_to_anchor=(1.35, 1))\n",
    "ax.yaxis.set_major_formatter(ciepy.comma_format)\n",
    "gs.tight_layout(fig, rect=[0, 0.5, 0.5, 1])\n",
    "\n",
    "# Percent distinct eGenes\n",
    "gs = gridspec.GridSpec(1, 1)\n",
    "ax = fig.add_subplot(gs[0, 0])\n",
    "ax.scatter(plotd.ix[plotd.source == 'gtex', 'num_samples'], \n",
    "           plotd.ix[plotd.source == 'gtex', 'percent_distinct_egenes'],\n",
    "           label='GTEx', color=cpb.analysis.tableau20[0], s=30, alpha=0.75)\n",
    "ax.scatter([plotd.ix['ipsc_unrelateds', 'num_samples']], \n",
    "           [plotd.ix['ipsc_unrelateds', 'percent_distinct_egenes']],\n",
    "           label='iPSC 131 unrelateds', color=cpb.analysis.tableau20[2], alpha=0.75, s=30)\n",
    "ax.scatter([plotd.ix['ipsc', 'num_samples']], \n",
    "           [plotd.ix['ipsc', 'percent_distinct_egenes']],\n",
    "           label='iPSC', color=cpb.analysis.tableau20[2], alpha=0.75, s=50, marker='*')\n",
    "ax.set_xlabel('Number of samples', fontsize=fs)\n",
    "ax.set_ylabel('Percent unique eGenes', fontsize=fs)\n",
    "for t in ax.get_xticklabels() + ax.get_yticklabels():\n",
    "    t.set_fontsize(fs)\n",
    "#ax.legend(frameon=True, fancybox=True, fontsize=fs, loc='upper right')\n",
    "ymin,ymax = ax.get_ylim()\n",
    "ax.set_ylim(0, ymax)\n",
    "gs.tight_layout(fig, rect=[0, 0, 0.5, 0.5])\n",
    "\n",
    "fig.savefig(os.path.join(outdir, 'power_presentation.pdf'))"
   ]
  },
  {
   "cell_type": "code",
   "execution_count": null,
   "metadata": {
    "collapsed": true
   },
   "outputs": [],
   "source": []
  }
 ],
 "metadata": {
  "kernelspec": {
   "display_name": "Environment (cie)",
   "language": "",
   "name": "cie"
  },
  "language_info": {
   "codemirror_mode": {
    "name": "ipython",
    "version": 2
   },
   "file_extension": ".py",
   "mimetype": "text/x-python",
   "name": "python",
   "nbconvert_exporter": "python",
   "pygments_lexer": "ipython2",
   "version": "2.7.11"
  }
 },
 "nbformat": 4,
 "nbformat_minor": 0
}
