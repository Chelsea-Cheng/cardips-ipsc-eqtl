{
 "cells": [
  {
   "cell_type": "code",
   "execution_count": 2,
   "metadata": {
    "collapsed": false
   },
   "outputs": [],
   "source": [
    "import cPickle\n",
    "import glob\n",
    "import gzip\n",
    "import os\n",
    "import random\n",
    "import shutil\n",
    "import subprocess\n",
    "import uuid\n",
    "\n",
    "import cdpybio as cpb\n",
    "import matplotlib.pyplot as plt\n",
    "import numpy as np\n",
    "import pandas as pd\n",
    "import pybedtools as pbt\n",
    "import seaborn as sns\n",
    "import statsmodels.api as sm\n",
    "\n",
    "import ciepy as cpy\n",
    "import projectpy as ppy\n",
    "\n",
    "%matplotlib inline\n",
    "%load_ext rpy2.ipython\n",
    "\n",
    "random.seed(20150605)"
   ]
  },
  {
   "cell_type": "code",
   "execution_count": 3,
   "metadata": {
    "collapsed": true
   },
   "outputs": [],
   "source": [
    "outdir = os.path.join(cpy.root, 'output',\n",
    "                      'eqtl_input')\n",
    "ppy.makedir(outdir)\n",
    "\n",
    "private_outdir = os.path.join(cpy.root, 'private_output',\n",
    "                              'eqtl_input')\n",
    "ppy.makedir(private_outdir)"
   ]
  },
  {
   "cell_type": "code",
   "execution_count": 9,
   "metadata": {
    "collapsed": false
   },
   "outputs": [],
   "source": [
    "array_meta = pd.read_table(os.path.join(cpy.root, 'data', 'array_metadata.tsv'), index_col=0)\n",
    "wgs_meta = pd.read_table(os.path.join(cpy.root, 'data', 'wgs_metadata.tsv'), index_col=0, \n",
    "                         squeeze=True)\n",
    "rna_meta = pd.read_table(os.path.join(cpy.root, 'data', 'rna_seq_metadata.tsv'), index_col=0)\n",
    "\n",
    "fn = os.path.join(cpy.root, 'private_data', 'TableOf280_PedigreeWithUUIDS_forPhasing_V2.xlsx')\n",
    "pedigree = pd.read_excel(fn)\n",
    "pedigree.index = pedigree['ID']\n",
    "\n",
    "gene_counts = pd.read_table(os.path.join(cpy.root, 'data', 'gene_counts.tsv'),\n",
    "                            index_col=0)\n",
    "gene_info = pd.read_table('/raid3/projects/CARDIPS/data/public/gencode_v19/gene_info.tsv',\n",
    "                          index_col=0)\n",
    "genes = pbt.BedTool('/raid3/projects/CARDIPS/data/public/gencode_v19/genes.bed')"
   ]
  },
  {
   "cell_type": "code",
   "execution_count": 10,
   "metadata": {
    "collapsed": true
   },
   "outputs": [],
   "source": [
    "%%R\n",
    "\n",
    "suppressPackageStartupMessages(library(DESeq2))\n",
    "suppressPackageStartupMessages(library(\"BiocParallel\"))\n",
    "register(MulticoreParam(30))"
   ]
  },
  {
   "cell_type": "markdown",
   "metadata": {},
   "source": [
    "# Gene Expression\n",
    "\n",
    "I'll make normalized counts from DESeq and VST counts. I'll also get counts from RSEM.\n",
    "\n",
    "## Naive Counts: Library Normalized and VST"
   ]
  },
  {
   "cell_type": "code",
   "execution_count": 11,
   "metadata": {
    "collapsed": true
   },
   "outputs": [],
   "source": [
    "gene_counts_f = gene_counts[gene_counts.sum(axis=1) > 0]\n",
    "gene_counts_f = gene_counts_f[gene_counts_f.median(axis=1) > 50]\n",
    "gene_counts_f = gene_counts_f[gene_info.ix[gene_counts_f.index, 'gene_type'] == 'protein_coding']"
   ]
  },
  {
   "cell_type": "code",
   "execution_count": 12,
   "metadata": {
    "collapsed": true
   },
   "outputs": [],
   "source": [
    "tmeta = rna_meta[['subject', 'passage', 'flowcell']]\n",
    "index = tmeta.index\n",
    "genes = gene_counts_f.index\n",
    "counts = gene_counts_f"
   ]
  },
  {
   "cell_type": "code",
   "execution_count": 13,
   "metadata": {
    "collapsed": false
   },
   "outputs": [],
   "source": [
    "%%R -i outdir,counts,tmeta,index,genes\n",
    "\n",
    "rownames(tmeta) = index\n",
    "rownames(counts) = genes\n",
    "\n",
    "# make DESeq data set\n",
    "dds = DESeqDataSetFromMatrix(\n",
    "    countData = counts, colData = tmeta, \n",
    "    design = ~ subject\n",
    "    )\n",
    "\n",
    "dds = estimateSizeFactors(dds)\n",
    "\n",
    "write.table(counts(dds, normalized=TRUE), \n",
    "            file=paste(outdir, \"norm_counts.tsv\", sep=\"/\"),\n",
    "            quote=FALSE, col.names=NA, sep=\"\\t\")\n",
    "\n",
    "vsd = varianceStabilizingTransformation(dds)\n",
    "\n",
    "write.table(assay(vsd), \n",
    "            file=paste(outdir, \"vst_counts.tsv\", sep=\"/\"),\n",
    "            quote=FALSE, col.names=NA, sep=\"\\t\")"
   ]
  },
  {
   "cell_type": "code",
   "execution_count": 14,
   "metadata": {
    "collapsed": true
   },
   "outputs": [],
   "source": [
    "vsd = pd.read_table(os.path.join(outdir, 'vst_counts.tsv'), index_col=0)"
   ]
  },
  {
   "cell_type": "markdown",
   "metadata": {},
   "source": [
    "## RSEM\n",
    "\n",
    "TODO"
   ]
  },
  {
   "cell_type": "markdown",
   "metadata": {},
   "source": [
    "# Variant Regions\n",
    "\n",
    "I'm going to identify the regions within 1 megabase of the TSSs for each gene whose\n",
    "variants I want to test."
   ]
  },
  {
   "cell_type": "code",
   "execution_count": 85,
   "metadata": {
    "collapsed": true
   },
   "outputs": [],
   "source": [
    "fn = os.path.join(outdir, 'variant_regions.bed')\n",
    "if not os.path.exists(fn):\n",
    "    variant_regions = cpb.gencode.make_promoter_bed(ppy.gencode_gtf, merge_by_gene=True,\n",
    "                                                   up=1000000, down=1000000, out=fn)\n",
    "else:\n",
    "    variant_regions = pbt.BedTool(fn)"
   ]
  },
  {
   "cell_type": "markdown",
   "metadata": {},
   "source": [
    "In principle, there could be multiple regions per gene if a gene has TSSs located more than\n",
    "1MB apart. In practice, this doesn't seem to happen."
   ]
  },
  {
   "cell_type": "code",
   "execution_count": 96,
   "metadata": {
    "collapsed": true
   },
   "outputs": [],
   "source": [
    "gene_to_regions = dict()\n",
    "for r in variant_regions:\n",
    "    gene = r.name.split('_')[0]\n",
    "    gene_to_regions[gene] = gene_to_regions.get(gene, []) + ['{}:{}-{}'.format(\n",
    "            r.chrom, r.start, r.end)]\n",
    "fn = os.path.join(outdir, 'gene_to_regions.p')\n",
    "cPickle.dump(gene_to_regions, open(fn, 'wb') )"
   ]
  },
  {
   "cell_type": "code",
   "execution_count": null,
   "metadata": {
    "collapsed": true
   },
   "outputs": [],
   "source": [
    "3 + "
   ]
  },
  {
   "cell_type": "markdown",
   "metadata": {},
   "source": [
    "# Make PED File\n",
    "\n",
    "The first six columns of the ped file are\n",
    "\n",
    "     Family ID\n",
    "     Individual ID\n",
    "     Paternal ID\n",
    "     Maternal ID\n",
    "     Sex (1=male; 2=female; other=unknown)\n",
    "     Phenotype\n",
    "     \n",
    "I'll have to use the WGS UUIDs for the PED file so the phenotypes are matched with the genotypes."
   ]
  },
  {
   "cell_type": "code",
   "execution_count": 17,
   "metadata": {
    "collapsed": true
   },
   "outputs": [],
   "source": [
    "f = gzip.open(os.path.join(cpy.root, 'private_data', 'wgs', 'merged_pass_uuid_ann_ref.vcf.gz'))\n",
    "line = f.readline().strip()\n",
    "while line[1] == '#':\n",
    "    line = f.readline().strip()\n",
    "f.close()\n",
    "wgs_ids = line.split('\\t')[9:]\n",
    "\n",
    "rna_meta = rna_meta.merge(pedigree, left_on='subject', right_index=True, how='left')\n",
    "\n",
    "vals = []\n",
    "fam_id = 42\n",
    "for i in vsd.columns:\n",
    "    r = rna_meta.ix[i, ['FAMILY_ID', 'wgs_id', 'FATHER', 'MOTHER', 'sex', 'flowcell']]\n",
    "    if pd.isnull(r['FAMILY_ID']):\n",
    "        r['FAMILY_ID'] = 'Family_{}'.format(fam_id)\n",
    "        fam_id += 1\n",
    "    if r['FATHER'] == 0 or pd.isnull(r['FATHER']):\n",
    "        r['FATHER'] = str(uuid.uuid4())\n",
    "    if r['MOTHER'] == 0 or pd.isnull(r['MOTHER']):\n",
    "        r['MOTHER'] = str(uuid.uuid4())\n",
    "    vals.append(r)\n",
    "    \n",
    "ped = pd.DataFrame(vals)\n",
    "ped.columns = ['#FAM_ID', 'IND_ID', 'FAT_ID', 'MOT_ID', 'SEX', 'FLOWCELL']\n",
    "ta = sm.categorical(ped.FLOWCELL.values, drop=True)[:, 0:-1]\n",
    "ped['FC1'] = ta[:, 0].astype(int)\n",
    "ped['FC2'] = ta[:, 1].astype(int)\n",
    "ped = ped.drop('FLOWCELL', axis=1)\n",
    "ped.ix[ped.SEX == 'M', 'SEX'] = 1\n",
    "ped.ix[ped.SEX == 'F', 'SEX'] = 2\n",
    "ped = ped.join(vsd.T)\n",
    "ped_fn = os.path.join(private_outdir, 'vsd.ped')\n",
    "ped.to_csv(ped_fn, index=False, sep='\\t')"
   ]
  },
  {
   "cell_type": "markdown",
   "metadata": {},
   "source": [
    "## Make Permuted PED Files\n",
    "\n",
    "I'm going to make 10,000 permutations of the sample IDs. The PED file is actually pretty large\n",
    "if I include all genes, so for each PED I'll just include the covariates. When I'm running\n",
    "the permutations for some gene, I'll read the permuted PED, add the gene expression values,\n",
    "and write a temporary PED. I think this will actually end up being faster than reading in the huge\n",
    "PED files for all the permutaitons anyway since I'm writing the temporary PEDs to RAM."
   ]
  },
  {
   "cell_type": "code",
   "execution_count": 19,
   "metadata": {
    "collapsed": false
   },
   "outputs": [],
   "source": [
    "random.seed(20150605)\n",
    "num_permuts = 10000\n",
    "small_ped = ped[ped.columns[0:7]]\n",
    "ppy.makedir(os.path.join(private_outdir, 'permuted_peds'))\n",
    "for i in range(num_permuts):\n",
    "    ids = random.sample(ped.IND_ID, ped.shape[0])\n",
    "    new_ped = small_ped.copy(deep=True)\n",
    "    new_ped['IND_ID'] = ids\n",
    "    fn = os.path.join(private_outdir, 'permuted_peds', 'permuted_{0:05d}.ped'.format(i + 1))\n",
    "    new_ped.to_csv(fn, index=False, sep='\\t')"
   ]
  },
  {
   "cell_type": "code",
   "execution_count": null,
   "metadata": {
    "collapsed": true
   },
   "outputs": [],
   "source": [
    "3 +"
   ]
  },
  {
   "cell_type": "markdown",
   "metadata": {},
   "source": [
    "# Test EPACTS/EMMAX Run\n",
    "\n",
    "    ${EPACTS_DIR}/epacts single \\\n",
    "         --vcf [input.vcf.gz] --ped  [input.ped] \\\n",
    "         --min-maf 0.001 --kin [outputprefix.kinf] \\\n",
    "         --sepchr --pheno [PHENO_NAME] --cov [COV1] \\\n",
    "         --cov [COV2] --test q.emmax \\\n",
    "         --out [outprefix] --run [# of parallel jobs]"
   ]
  },
  {
   "cell_type": "code",
   "execution_count": 318,
   "metadata": {
    "collapsed": true
   },
   "outputs": [],
   "source": [
    "test_gene_id = gene_info[gene_info.gene_name == 'SOX2'].index[0]\n",
    "test_outdir = os.path.join(outdir, test_gene_id)\n",
    "ppy.makedir(test_outdir)"
   ]
  },
  {
   "cell_type": "markdown",
   "metadata": {},
   "source": [
    "## EPACTS Command"
   ]
  },
  {
   "cell_type": "code",
   "execution_count": 475,
   "metadata": {
    "collapsed": false
   },
   "outputs": [],
   "source": [
    "def run_emmax_permutations(gene_id, regions, ped, kinship_matrix, tempdir, outdir, \n",
    "                           permuted_peds):\n",
    "    \"\"\"\n",
    "    Run EMMAX for a single gene given a ped file and permuted ped files.\n",
    "    \n",
    "    Parameters\n",
    "    ----------\n",
    "    gene_id : str\n",
    "        Gencode gene ID for gene to test.\n",
    "        \n",
    "    regions : list\n",
    "        List of strings of the form 'chr1:100-200'. Biallelic SNVs in these regions\n",
    "        will be tested.\n",
    "    \n",
    "    ped : str\n",
    "        Path to PED file with actual genotypes (i.e. not permuted).\n",
    "        \n",
    "    kinship_matrix : str\n",
    "        Path to kinship matrix file.\n",
    "        \n",
    "    tempdir : str\n",
    "        Path to directory where temp directory should be made.\n",
    "        \n",
    "    outdir : str\n",
    "        Path to directory where results will be saved.\n",
    "        \n",
    "    permuted_peds : list\n",
    "        List of strings of paths to permuted PED files.\n",
    "\n",
    "    \"\"\"\n",
    "    tempdir = os.path.join(tempdir, gene_id)\n",
    "    ppy.makedir(tempdir)\n",
    "\n",
    "    curdir = os.path.realpath(os.curdir)\n",
    "    os.chdir(tempdir)\n",
    "    \n",
    "    # Make VCF file.\n",
    "    vcf = _make_emmax_vcf(gene_id, tempdir, regions)\n",
    "    \n",
    "    # Run EMMAX for real data.\n",
    "    _emmax(gene_id, ped, kinship_matrix, vcf, gene_id)\n",
    "    \n",
    "    # Run EMMAX for permuted data.\n",
    "    names = []\n",
    "    pvalues = []\n",
    "    for fn in permuted_peds:\n",
    "        prefix = os.path.splitext(os.path.split(fn)[1])[0]\n",
    "        names.append(prefix)\n",
    "        _emmax(gene_id, fn, kinship_matrix, vcf, prefix)\n",
    "        out = '{}.epacts.gz'.format(prefix)\n",
    "        res = _read_emmax_output(out)\n",
    "        res.index = 'chr' + res.CHROM.astype(str) + ':' + res.BEG.astype(str)\n",
    "        pvalues.append(res.PVALUE)\n",
    "        res.PVALUE.to_csv('{}_pvalues.tsv'.format(prefix), sep='\\t')\n",
    "        c = 'rm {}.epacts.gz'.format(prefix)\n",
    "        subprocess.check_call(c, shell=True)\n",
    "    pvalues = pd.DataFrame(pvalues, index=names).T\n",
    "    pvalues.to_csv('permuted_pvalues.tsv', sep='\\t')\n",
    "    \n",
    "    # Remove VCF file.\n",
    "    c = 'rm {0}.vcf.gz {0}.vcf.gz.tbi'.format(gene_id)\n",
    "    subprocess.check_call(c, shell=True)\n",
    "    \n",
    "    # Copy output to outdir.\n",
    "    outdir = os.path.join(outdir, gene_id)\n",
    "    ppy.makedir(outdir)\n",
    "    shutil.move('{}.epacts.gz'.format(gene_id), outdir)\n",
    "    shutil.move('permuted_pvalues.tsv', outdir)\n",
    "    shutil.rmtree(tempdir)\n",
    "    \n",
    "    os.chdir(curdir)\n",
    "    \n",
    "def _emmax(gene_id, ped, kinship_matrix, vcf, prefix):\n",
    "    \"\"\"\n",
    "    Execute EMMAX command.\n",
    "\n",
    "    Parameters\n",
    "    ----------\n",
    "    gene_id : str\n",
    "        Gencode gene ID for gene to test.\n",
    "    \n",
    "    ped : str\n",
    "        Path to PED file with actual genotypes (i.e. not permuted).\n",
    "        \n",
    "    kinship_matrix : str\n",
    "        Path to kinship matrix file.\n",
    "        \n",
    "    vcf : str\n",
    "        Path to VCF file with SNVs to test.\n",
    "        \n",
    "    prefix : str\n",
    "        Prefix for naming output files.\n",
    "\n",
    "    \"\"\"\n",
    "    c = ('{} single --vcf {} --ped {} --min-maf 0.1 --kin {} --pheno {} '\n",
    "         '--cov FC1 --cov FC2 --test q.emmax --out {} --run 4'.format(\n",
    "        ppy.epacts,\n",
    "        vcf,\n",
    "        ped,\n",
    "        kinship_matrix,\n",
    "        gene_id,\n",
    "        prefix))\n",
    "    subprocess.check_call(c, shell=True)\n",
    "    _delete_extra_files(prefix)\n",
    "    \n",
    "def _make_emmax_vcf(gene_id, tempdir, regions):\n",
    "    fn = os.path.join(tempdir, '{}.vcf.gz'.format(gene_id))\n",
    "    c = ('{} view {} -q 0.1:minor -m2 -M2 -v snps -r {} | '\n",
    "         '{} annotate --rename-chrs {} -O z > {}'.format(\n",
    "            ppy.bcftools, \n",
    "            os.path.join(cpy.root, 'private_data', 'wgs', 'merged_pass_uuid_ann_ref.vcf.gz'),\n",
    "            ','.join(regions),\n",
    "            ppy.bcftools,\n",
    "            os.path.join(cpy.root, 'data', 'chromosome_conversion.txt'),\n",
    "            fn))\n",
    "    subprocess.check_call(c, shell=True)\n",
    "\n",
    "    c = ('{} index --tbi {}'.format(ppy.bcftools, fn))\n",
    "    subprocess.check_call(c, shell=True)\n",
    "    return fn\n",
    "    \n",
    "def _delete_extra_files(prefix):\n",
    "    \"\"\"\n",
    "    Delete extra EMMAX files that we don't need.\n",
    "    \"\"\"\n",
    "    to_delete = ['cov', 'eigR', 'epacts.conf', 'epacts.gz.tbi', 'epacts.mh.pdf', 'epacts.OK', \n",
    "                 'epacts.qq.pdf', 'epacts.R', 'epacts.top5000', 'ind', 'Makefile', 'phe', 'reml']\n",
    "    for suffix in to_delete:\n",
    "        c = 'rm {}.{}'.format(prefix, suffix)\n",
    "        subprocess.check_call(c, shell=True)\n",
    "        \n",
    "def _read_emmax_output(fn):\n",
    "    with gzip.open(fn) as f:\n",
    "        lines = [x.strip().split('\\t') for x in f.readlines()]\n",
    "    lines[0][0] = lines[0][0][1:]\n",
    "    res = pd.DataFrame(lines[1:], columns=lines[0])\n",
    "    res = res.convert_objects(convert_numeric=True)\n",
    "    return res"
   ]
  },
  {
   "cell_type": "code",
   "execution_count": 532,
   "metadata": {
    "collapsed": false
   },
   "outputs": [
    {
     "data": {
      "text/plain": [
       "'/raid3/projects/CARDIPS/analysis/cardips-ipsc-eqtl/private_output/eqtl_input/vsd.ped'"
      ]
     },
     "execution_count": 532,
     "metadata": {},
     "output_type": "execute_result"
    }
   ],
   "source": [
    "ped_fn"
   ]
  },
  {
   "cell_type": "code",
   "execution_count": 482,
   "metadata": {
    "collapsed": false
   },
   "outputs": [],
   "source": [
    "os.chdir('/raid3/projects/CARDIPS/analysis/cardips-ipsc-eqtl/notebooks')\n",
    "\n",
    "gene_id = test_gene_id\n",
    "regions = gene_to_regions[test_gene_id]\n",
    "ped = ped_fn\n",
    "kinship_matrix = os.path.join(cpy.root, 'output', 'kinship_matrix', 'wgs.kinf')\n",
    "tempdir = '/dev/shm'\n",
    "outdir = outdir\n",
    "permuted_peds = glob.glob(os.path.join(private_outdir, 'permuted_*.ped'))\n",
    "#run_emmax_permutations(gene_id, regions, ped, kinship_matrix, tempdir, outdir, permuted_peds)"
   ]
  },
  {
   "cell_type": "code",
   "execution_count": 483,
   "metadata": {
    "collapsed": false
   },
   "outputs": [
    {
     "name": "stdout",
     "output_type": "stream",
     "text": [
      "1 loops, best of 1: 9min 51s per loop\n"
     ]
    }
   ],
   "source": [
    "%timeit -n 1 -r 1 run_emmax_permutations(gene_id, regions, ped, kinship_matrix, tempdir, outdir, permuted_peds)"
   ]
  },
  {
   "cell_type": "code",
   "execution_count": 480,
   "metadata": {
    "collapsed": false
   },
   "outputs": [
    {
     "name": "stdout",
     "output_type": "stream",
     "text": [
      "1 loops, best of 1: 32.4 s per loop\n"
     ]
    }
   ],
   "source": [
    "%timeit -n 1 -r 1 run_emmax_permutations(gene_id, regions, ped, kinship_matrix, tempdir, outdir, permuted_peds)"
   ]
  },
  {
   "cell_type": "code",
   "execution_count": 499,
   "metadata": {
    "collapsed": false
   },
   "outputs": [],
   "source": [
    "fn = ('/raid3/projects/CARDIPS/analysis/cardips-ipsc-eqtl/output/eqtl_input/'\n",
    "      'ENSG00000181449.2/ENSG00000181449.2.epacts.gz')\n",
    "with gzip.open(fn) as f:\n",
    "    lines = [x.strip().split('\\t') for x in f.readlines()]\n",
    "lines[0][0] = lines[0][0][1:]\n",
    "res = pd.DataFrame(lines[1:], columns=lines[0])\n",
    "res = res.convert_objects(convert_numeric=True)\n",
    "res.index = 'chr' + res.CHROM.astype(str) + ':' + res.BEG.astype(str)\n",
    "\n",
    "fn = ('/raid3/projects/CARDIPS/analysis/cardips-ipsc-eqtl/output/eqtl_input/'\n",
    "      'ENSG00000181449.2/permuted_pvalues.tsv')\n",
    "permuted_pvalues = pd.read_table(fn, index_col=0).dropna()"
   ]
  },
  {
   "cell_type": "code",
   "execution_count": 501,
   "metadata": {
    "collapsed": true
   },
   "outputs": [],
   "source": [
    "permuted_pvalues['real'] = res.PVALUE"
   ]
  },
  {
   "cell_type": "code",
   "execution_count": 521,
   "metadata": {
    "collapsed": false
   },
   "outputs": [],
   "source": [
    "pvals = []\n",
    "for i in permuted_pvalues.index:\n",
    "    se = permuted_pvalues.ix[i]\n",
    "    se.sort()\n",
    "    pvals.append(np.where(se.index == 'real')[0][0] / float(se.shape[0]))\n",
    "emp_pvals = pd.Series(pvals, index=permuted_pvalues.index)"
   ]
  },
  {
   "cell_type": "code",
   "execution_count": 526,
   "metadata": {
    "collapsed": false
   },
   "outputs": [
    {
     "data": {
      "image/png": "[encoded data removed]",
      "text/plain": [
       "<matplotlib.figure.Figure at 0x7fe0a07dce10>"
      ]
     },
     "metadata": {},
     "output_type": "display_data"
    }
   ],
   "source": [
    "res.PVALUE.hist(bins=20)\n",
    "plt.title('Nominal $p$ values')\n",
    "plt.ylabel('Number of SNVs')\n",
    "plt.xlabel('$p$ value');"
   ]
  },
  {
   "cell_type": "code",
   "execution_count": 528,
   "metadata": {
    "collapsed": false
   },
   "outputs": [
    {
     "data": {
      "image/png": "[encoded data removed]",
      "text/plain": [
       "<matplotlib.figure.Figure at 0x7fe0a0f17650>"
      ]
     },
     "metadata": {},
     "output_type": "display_data"
    }
   ],
   "source": [
    "emp_pvals.hist(bins=20)\n",
    "plt.title('Empirical $p$ values')\n",
    "plt.ylabel('Number of SNVs')\n",
    "plt.xlabel('$p$ value');"
   ]
  },
  {
   "cell_type": "code",
   "execution_count": 529,
   "metadata": {
    "collapsed": false
   },
   "outputs": [
    {
     "data": {
      "image/png": "[encoded data removed]",
      "text/plain": [
       "<matplotlib.figure.Figure at 0x7fe0a0f92bd0>"
      ]
     },
     "metadata": {},
     "output_type": "display_data"
    }
   ],
   "source": [
    "plt.scatter(res.ix[emp_pvals.index, 'PVALUE'], emp_pvals)\n",
    "plt.title('Nominal vs. empirical $p$ values')\n",
    "plt.ylabel('Empirical $p$ values')\n",
    "plt.xlabel('Nominal $p$ values');"
   ]
  },
  {
   "cell_type": "markdown",
   "metadata": {
    "collapsed": true
   },
   "source": [
    "I need to figure out how I want to run this on the cluster with permutations. I think \n",
    "I'll save the `.epacts.gz` file for the \"real\" test. Then I'll do all of the permutations\n",
    "and just save a single file with all of the $p$-values for the permutations. This shouldn't\n",
    "require too much space. I think that it may make sense to run EPACTS in a directory on RAM\n",
    "(`/dev/shm`) because it writes temp files."
   ]
  },
  {
   "cell_type": "code",
   "execution_count": 530,
   "metadata": {
    "collapsed": false
   },
   "outputs": [
    {
     "data": {
      "text/plain": [
       "chr3:180556796    0.04\n",
       "chr3:180622897    0.03\n",
       "chr3:181063310    0.01\n",
       "chr3:181063685    0.04\n",
       "chr3:181257119    0.04\n",
       "chr3:181449229    0.03\n",
       "chr3:181455519    0.04\n",
       "chr3:181469745    0.02\n",
       "chr3:181510891    0.02\n",
       "chr3:181511166    0.02\n",
       "chr3:181511951    0.03\n",
       "chr3:181637860    0.00\n",
       "chr3:181948227    0.04\n",
       "chr3:182157234    0.01\n",
       "chr3:182157649    0.01\n",
       "chr3:182318174    0.02\n",
       "chr3:182321031    0.00\n",
       "chr3:182329188    0.02\n",
       "chr3:182332485    0.03\n",
       "chr3:182334215    0.03\n",
       "chr3:182393982    0.02\n",
       "chr3:182394127    0.03\n",
       "chr3:182397123    0.00\n",
       "dtype: float64"
      ]
     },
     "execution_count": 530,
     "metadata": {},
     "output_type": "execute_result"
    }
   ],
   "source": [
    "emp_pvals[emp_pvals < 0.05]"
   ]
  },
  {
   "cell_type": "code",
   "execution_count": null,
   "metadata": {
    "collapsed": true
   },
   "outputs": [],
   "source": []
  }
 ],
 "metadata": {
  "kernelspec": {
   "display_name": "Python 2",
   "language": "python",
   "name": "python2"
  },
  "language_info": {
   "codemirror_mode": {
    "name": "ipython",
    "version": 2
   },
   "file_extension": ".py",
   "mimetype": "text/x-python",
   "name": "python",
   "nbconvert_exporter": "python",
   "pygments_lexer": "ipython2",
   "version": "2.7.10"
  }
 },
 "nbformat": 4,
 "nbformat_minor": 0
}
