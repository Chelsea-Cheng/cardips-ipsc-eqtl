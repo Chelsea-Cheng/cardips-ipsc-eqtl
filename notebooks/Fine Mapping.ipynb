{
 "cells": [
  {
   "cell_type": "markdown",
   "metadata": {},
   "source": [
    "# Fine Mapping\n",
    "\n",
    "I want to take the significant eQTL variants and functionally annotate them\n",
    "to try to determine which variants might be causal.\n",
    "\n",
    "I'd like to annotate the variants with various functional annotations. I'd also\n",
    "like to search for TF motif disruptions and perhaps use phasing information\n",
    "and allelic bias."
   ]
  },
  {
   "cell_type": "code",
   "execution_count": 1,
   "metadata": {
    "collapsed": false
   },
   "outputs": [],
   "source": [
    "import cPickle\n",
    "import glob\n",
    "import os\n",
    "import re\n",
    "import subprocess\n",
    "import urllib2\n",
    "\n",
    "import cdpybio as cpb\n",
    "import matplotlib.pyplot as plt\n",
    "import numpy as np\n",
    "import pandas as pd\n",
    "pd.options.mode.chained_assignment = None\n",
    "import pybedtools as pbt\n",
    "import seaborn as sns\n",
    "import vcf as pyvcf\n",
    "\n",
    "import cardipspy as cpy\n",
    "import ciepy\n",
    "\n",
    "%matplotlib inline\n",
    "\n",
    "import socket\n",
    "if socket.gethostname() == 'fl-hn1' or socket.gethostname() == 'fl-hn2':\n",
    "    pbt.set_tempdir('/frazer01/home/cdeboever/tmp')\n",
    "    \n",
    "outdir = os.path.join(ciepy.root, 'output',\n",
    "                      'fine_mapping')\n",
    "cpy.makedir(outdir)\n",
    "\n",
    "private_outdir = os.path.join(ciepy.root, 'private_output',\n",
    "                              'fine_mapping')\n",
    "cpy.makedir(private_outdir)"
   ]
  },
  {
   "cell_type": "code",
   "execution_count": 2,
   "metadata": {
    "collapsed": true
   },
   "outputs": [],
   "source": [
    "tg = pd.read_table(cpy.gencode_transcript_gene, index_col=0, \n",
    "                   header=None, squeeze=True)\n",
    "gene_info = pd.read_table(cpy.gencode_gene_info, index_col=0)\n",
    "transcript_to_gene = pd.read_table(cpy.gencode_transcript_gene, header=None, \n",
    "                                   squeeze=True, index_col=0)\n",
    "fn = os.path.join(ciepy.root, 'output', 'eqtl_input', \n",
    "                  'tpm_log_filtered_phe_std_norm_peer_resid.tsv')\n",
    "exp = pd.read_table(fn, index_col=0)\n",
    "\n",
    "fn = os.path.join(ciepy.root, 'output', 'eqtl_processing', 'qvalues.tsv')\n",
    "qvalues = pd.read_table(fn, index_col=0)\n",
    "qvalues.columns = ['{}_gene'.format(x) for x in qvalues.columns]\n",
    "fn = os.path.join(ciepy.root, 'output', 'eqtl_processing', 'most_sig_single.tsv')\n",
    "most_sig = pd.read_table(fn, index_col=0)\n",
    "most_sig['variant'] = (most_sig.chrom + ':' + most_sig.start.astype(str) + \n",
    "                       '-' + most_sig.end.astype(str))\n",
    "most_sig['gene'] = most_sig.index\n",
    "\n",
    "genes = pbt.BedTool(cpy.gencode_gene_bed)\n",
    "\n",
    "fn = os.path.join(os.path.split(cpy.roadmap_15_state_annotation)[0], 'EIDlegend.txt')\n",
    "roadmap_ids = pd.read_table(fn, squeeze=True, index_col=0, header=None)\n",
    "\n",
    "fn = os.path.join(ciepy.root, 'output', 'eqtl_processing', 'gene_variant_pairs.tsv')\n",
    "sig_variants = pd.read_table(fn)\n",
    "\n",
    "fn = os.path.join(ciepy.root, 'output', 'functional_annotation_analysis',\n",
    "                  'encode_stem_cell_chip_seq.tsv')\n",
    "encode_chip_seq = pd.read_table(fn, index_col=0)\n",
    "\n",
    "ensg = pd.Series(gene_info.index, index=[x.split('.')[0] for x in gene_info.index])"
   ]
  },
  {
   "cell_type": "code",
   "execution_count": 3,
   "metadata": {
    "collapsed": true
   },
   "outputs": [],
   "source": [
    "# ASE results.\n",
    "fn = os.path.join(ciepy.root, 'output', 'input_data', \n",
    "                  'mbased_major_allele_freq.tsv')\n",
    "maj_af = pd.read_table(fn, index_col=0)\n",
    "\n",
    "fn = os.path.join(ciepy.root, 'output', 'input_data', \n",
    "                  'mbased_p_val_ase.tsv')\n",
    "ase_pval = pd.read_table(fn, index_col=0)\n",
    "\n",
    "locus_p = pd.Panel({'major_allele_freq':maj_af, 'p_val_ase':ase_pval})\n",
    "locus_p = locus_p.swapaxes(0, 2)\n",
    "\n",
    "snv_fns = glob.glob(os.path.join(ciepy.root, 'private_output', 'input_data', 'mbased_snv',\n",
    "                                 '*_snv.tsv'))\n",
    "count_fns = glob.glob(os.path.join(ciepy.root, 'private_output', 'input_data', 'allele_counts',\n",
    "                                   '*mbased_input.tsv'))\n",
    "\n",
    "snv_res = {}\n",
    "for fn in snv_fns:\n",
    "    snv_res[os.path.split(fn)[1].split('_')[0]] = pd.read_table(fn, index_col=0)\n",
    "    \n",
    "count_res = {}\n",
    "for fn in count_fns:\n",
    "    count_res[os.path.split(fn)[1].split('_')[0]] = pd.read_table(fn, index_col=0)\n",
    "\n",
    "snv_p = pd.Panel(snv_res)"
   ]
  },
  {
   "cell_type": "markdown",
   "metadata": {},
   "source": [
    "I'll convert the significant variants to have one-based coordinates and add\n",
    "a unique variant name. I'm going to drop CNVs because they likely act through \n",
    "different mechanisms than what I am looking at here."
   ]
  },
  {
   "cell_type": "code",
   "execution_count": 4,
   "metadata": {
    "collapsed": true
   },
   "outputs": [],
   "source": [
    "sig_variants['beg'] = sig_variants.beg - 1\n",
    "sig_variants['variant'] = (sig_variants.chrom + ':' + sig_variants.beg.astype(str) + \n",
    "                           '-' + sig_variants.end.astype(str))\n",
    "sig_variants.index = sig_variants.variant + ':' + sig_variants.gene"
   ]
  },
  {
   "cell_type": "code",
   "execution_count": 5,
   "metadata": {
    "collapsed": false
   },
   "outputs": [],
   "source": [
    "ind = (most_sig.chrom + ':' + most_sig.start.astype(str) + '-' +\n",
    "       most_sig.end.astype(str) + ':' + pd.Series(most_sig.index, index=most_sig.index))\n",
    "most_sig.index = ind\n",
    "\n",
    "s = set(most_sig.index) & set(sig_variants.index)\n",
    "sig_variants['most_sig_variant'] = False\n",
    "sig_variants.ix[s, 'most_sig_variant'] = True"
   ]
  },
  {
   "cell_type": "markdown",
   "metadata": {},
   "source": [
    "## Predicted NMD\n",
    "\n",
    "I'll use the snpEff annotation of the WGS to look for predicted NMD. I'd like to\n",
    "see if any of the significant variants are predicted to cause NMD for the eQTL\n",
    "gene.\n",
    "\n",
    "If snpEff predicts NMD for a gene, the annotation looks like\n",
    "\n",
    "    PITRM1|ENSG00000107959|11|0.27\n",
    "    \n",
    "This means that PITRM1 has 11 transcripts and 27% of them are predicted to have NMD."
   ]
  },
  {
   "cell_type": "code",
   "execution_count": 6,
   "metadata": {
    "collapsed": false
   },
   "outputs": [],
   "source": [
    "fns = glob.glob('/projects/CARDIPS/pipeline/WGS/mergedVCF/annotation/vcf/*snpeff.vcf.gz')\n",
    "fns = [x for x in fns if len(re.findall('chr\\d{1,2}', x)) > 0]\n",
    "fns = pd.Series(fns, index=[re.findall('chr\\d{1,2}', x)[0] for x in fns])\n",
    "\n",
    "for vcf in fns.values:\n",
    "    out = os.path.join(private_outdir, os.path.split(vcf)[1].replace('.vcf.gz', '_nmd.vcf'))\n",
    "    if not os.path.exists(out):\n",
    "        !zcat {vcf} | java -jar /software/snpEff_v4_1l_core/SnpSift.jar filter \"NMD[*]\" > {out}"
   ]
  },
  {
   "cell_type": "code",
   "execution_count": 7,
   "metadata": {
    "collapsed": false
   },
   "outputs": [],
   "source": [
    "fns = glob.glob(os.path.join(private_outdir, '*_nmd.vcf'))\n",
    "variants = []\n",
    "nmd = []\n",
    "for fn in fns:\n",
    "    vcf_reader = pyvcf.Reader(open(fn))\n",
    "    for r in vcf_reader:\n",
    "        variants.append('chr{}:{}-{}'.format(r.CHROM, r.POS - 1, r.POS))\n",
    "        nmd.append(r.INFO['NMD'])\n",
    "ind = []\n",
    "vals = []\n",
    "for i, v in enumerate(variants):\n",
    "    r = nmd[i]\n",
    "    for n in r:\n",
    "        gene_name, gene_id, num_t, per_t = n.strip(')').split('|')\n",
    "        ind.append(v + ':' + ensg[gene_id])\n",
    "        vals.append([int(num_t), float(per_t)])\n",
    "nmd = pd.DataFrame(vals, index=ind, columns=['nmd_num_transcripts', 'nmd_percent_transcripts_nmd'])"
   ]
  },
  {
   "cell_type": "code",
   "execution_count": 8,
   "metadata": {
    "collapsed": false
   },
   "outputs": [],
   "source": [
    "sig_variants['variant_gene'] = (sig_variants.chrom + ':' + sig_variants.beg.astype(str) + \n",
    "                                '-' + sig_variants.end.astype(str) + ':' + sig_variants.gene)"
   ]
  },
  {
   "cell_type": "code",
   "execution_count": 9,
   "metadata": {
    "collapsed": false
   },
   "outputs": [],
   "source": [
    "sig_variants = sig_variants.merge(nmd, left_on='variant_gene', right_index=True, how='left')"
   ]
  },
  {
   "cell_type": "code",
   "execution_count": 10,
   "metadata": {
    "collapsed": true
   },
   "outputs": [],
   "source": [
    "sig_variants['nmd'] = False\n",
    "sig_variants.ix[sig_variants.dropna(subset=['nmd_num_transcripts']).index, 'nmd'] = True"
   ]
  },
  {
   "cell_type": "code",
   "execution_count": 11,
   "metadata": {
    "collapsed": false
   },
   "outputs": [
    {
     "data": {
      "text/plain": [
       "False    525824\n",
       "True         11\n",
       "Name: nmd, dtype: int64"
      ]
     },
     "execution_count": 11,
     "metadata": {},
     "output_type": "execute_result"
    }
   ],
   "source": [
    "sig_variants.nmd.value_counts()"
   ]
  },
  {
   "cell_type": "code",
   "execution_count": 12,
   "metadata": {
    "collapsed": true
   },
   "outputs": [],
   "source": [
    "g = set(sig_variants.ix[sig_variants.nmd, 'gene'])\n",
    "df = pd.DataFrame(True, index=g, columns=['gene_has_nmd_variant'])\n",
    "sig_variants = sig_variants.merge(df, left_on='gene', right_index=True, how='left')\n",
    "sig_variants.ix[sig_variants.gene_has_nmd_variant.isnull(), 'gene_has_nmd_variant'] = False"
   ]
  },
  {
   "cell_type": "markdown",
   "metadata": {},
   "source": [
    "## Exons, UTRs, and Promoters\n",
    "\n",
    "I'll annotate whether variants fall in exons, UTRs or promoters for their significant\n",
    "genes."
   ]
  },
  {
   "cell_type": "raw",
   "metadata": {
    "collapsed": true
   },
   "source": [
    "sig_variants.index = sig_variants.variant + ':' + sig_variants.gene"
   ]
  },
  {
   "cell_type": "code",
   "execution_count": 13,
   "metadata": {
    "collapsed": true
   },
   "outputs": [],
   "source": [
    "sig_variants_bt = pbt.BedTool('\\n'.join(set(sig_variants.apply(lambda x: '{}\\t{}\\t{}'.format(\n",
    "                    x['chrom'], x['beg'], x['end']), axis=1))), from_string=True)\n",
    "sig_variants_bt = sig_variants_bt.sort()"
   ]
  },
  {
   "cell_type": "code",
   "execution_count": 14,
   "metadata": {
    "collapsed": true
   },
   "outputs": [],
   "source": [
    "exons = pbt.BedTool(cpy.gencode_exon_bed)\n",
    "utrs = pbt.BedTool(cpy.gencode_utr_bed)\n",
    "promoters = pbt.BedTool(cpy.gencode_promoter_bed)"
   ]
  },
  {
   "cell_type": "code",
   "execution_count": 15,
   "metadata": {
    "collapsed": true
   },
   "outputs": [],
   "source": [
    "res = sig_variants_bt.intersect(exons, wo=True, sorted=True)\n",
    "df = res.to_dataframe()"
   ]
  },
  {
   "cell_type": "code",
   "execution_count": 16,
   "metadata": {
    "collapsed": true
   },
   "outputs": [],
   "source": [
    "df = res.to_dataframe()\n",
    "df.index = df.chrom + ':' + df.start.astype(str) + '-' + df.end.astype(str)\n",
    "df['gene'] = transcript_to_gene[df.thickStart].values\n",
    "df['val'] = pd.Series(df.index, index=df.index) + ':' + df.gene\n",
    "df = df.drop_duplicates(subset='val')"
   ]
  },
  {
   "cell_type": "code",
   "execution_count": 17,
   "metadata": {
    "collapsed": false
   },
   "outputs": [],
   "source": [
    "res = sig_variants_bt.intersect(exons, wo=True, sorted=True)\n",
    "df = res.to_dataframe()\n",
    "df.index = df.chrom + ':' + df.start.astype(str) + '-' + df.end.astype(str)\n",
    "df['gene'] = transcript_to_gene[df.thickStart].values\n",
    "df['val'] = pd.Series(df.index, index=df.index) + ':' + df.gene\n",
    "df = df.drop_duplicates(subset='val')\n",
    "sig_variants['exonic_same_gene'] = False\n",
    "sig_variants.ix[set(df.val) & set(sig_variants.index), 'exonic_same_gene'] = True\n",
    "\n",
    "df['exonic'] = True\n",
    "df['variant'] = df.index\n",
    "df = df.drop_duplicates(subset='variant')\n",
    "sig_variants = sig_variants.merge(df[['exonic']], left_on='variant', right_index=True, how='left')\n",
    "sig_variants.ix[sig_variants.exonic.isnull(), 'exonic'] = False"
   ]
  },
  {
   "cell_type": "code",
   "execution_count": 18,
   "metadata": {
    "collapsed": true
   },
   "outputs": [],
   "source": [
    "g = set(sig_variants.ix[sig_variants.exonic, 'gene'])\n",
    "df = pd.DataFrame(True, index=g, columns=['gene_has_exonic_variant'])\n",
    "sig_variants = sig_variants.merge(df, left_on='gene', right_index=True, how='left')\n",
    "sig_variants.ix[sig_variants.gene_has_exonic_variant.isnull(), 'gene_has_exonic_variant'] = False\n",
    "\n",
    "g = set(sig_variants.ix[sig_variants.exonic_same_gene, 'gene'])\n",
    "df = pd.DataFrame(True, index=g, columns=['gene_has_exonic_same_gene_variant'])\n",
    "sig_variants = sig_variants.merge(df, left_on='gene', right_index=True, how='left')\n",
    "sig_variants.ix[sig_variants.gene_has_exonic_same_gene_variant.isnull(), 'gene_has_exonic_same_gene_variant'] = False"
   ]
  },
  {
   "cell_type": "code",
   "execution_count": 19,
   "metadata": {
    "collapsed": false
   },
   "outputs": [],
   "source": [
    "res = sig_variants_bt.intersect(utrs, wo=True, sorted=True)\n",
    "df = res.to_dataframe()\n",
    "df.index = df.chrom + ':' + df.start.astype(str) + '-' + df.end.astype(str)\n",
    "df['gene'] = transcript_to_gene[df.thickStart].values\n",
    "df['val'] = pd.Series(df.index, index=df.index) + ':' + df.gene\n",
    "df = df.drop_duplicates(subset='val')\n",
    "sig_variants['utr_same_gene'] = False\n",
    "sig_variants.ix[set(df.val) & set(sig_variants.index), 'utr_same_gene'] = True\n",
    "\n",
    "df['utr'] = True\n",
    "df['variant'] = df.index\n",
    "df = df.drop_duplicates(subset='variant')\n",
    "sig_variants = sig_variants.merge(df[['utr']], left_on='variant', right_index=True, how='left')\n",
    "sig_variants.ix[sig_variants.utr.isnull(), 'utr'] = False"
   ]
  },
  {
   "cell_type": "code",
   "execution_count": 20,
   "metadata": {
    "collapsed": false
   },
   "outputs": [],
   "source": [
    "res = sig_variants_bt.intersect(promoters, wo=True, sorted=True)\n",
    "df = res.to_dataframe()\n",
    "df.index = df.chrom + ':' + df.start.astype(str) + '-' + df.end.astype(str)\n",
    "df['gene'] = transcript_to_gene[df.thickStart.apply(lambda x: x.split('_')[0])].values\n",
    "df['val'] = pd.Series(df.index, index=df.index) + ':' + df.gene\n",
    "df = df.drop_duplicates(subset='val')\n",
    "sig_variants['promoter_same_gene'] = False\n",
    "sig_variants.ix[set(df.val) & set(sig_variants.index), 'promoter_same_gene'] = True\n",
    "\n",
    "df['promoter'] = True\n",
    "df['variant'] = df.index\n",
    "df = df.drop_duplicates(subset='variant')\n",
    "sig_variants = sig_variants.merge(df[['promoter']], left_on='variant', right_index=True, how='left')\n",
    "sig_variants.ix[sig_variants.promoter.isnull(), 'promoter'] = False"
   ]
  },
  {
   "cell_type": "code",
   "execution_count": 21,
   "metadata": {
    "collapsed": true
   },
   "outputs": [],
   "source": [
    "g = set(sig_variants.ix[sig_variants.utr, 'gene'])\n",
    "df = pd.DataFrame(True, index=g, columns=['gene_has_utr_variant'])\n",
    "sig_variants = sig_variants.merge(df, left_on='gene', right_index=True, how='left')\n",
    "sig_variants.ix[sig_variants.gene_has_utr_variant.isnull(), 'gene_has_utr_variant'] = False\n",
    "\n",
    "g = set(sig_variants.ix[sig_variants.utr_same_gene, 'gene'])\n",
    "df = pd.DataFrame(True, index=g, columns=['gene_has_utr_same_gene_variant'])\n",
    "sig_variants = sig_variants.merge(df, left_on='gene', right_index=True, how='left')\n",
    "sig_variants.ix[sig_variants.gene_has_utr_same_gene_variant.isnull(), \n",
    "                'gene_has_utr_same_gene_variant'] = False\n",
    "\n",
    "g = set(sig_variants.ix[sig_variants.promoter_same_gene, 'gene'])\n",
    "df = pd.DataFrame(True, index=g, columns=['gene_has_promoter_same_gene_variant'])\n",
    "sig_variants = sig_variants.merge(df, left_on='gene', right_index=True, how='left')\n",
    "sig_variants.ix[sig_variants.gene_has_promoter_same_gene_variant.isnull(), \n",
    "                'gene_has_promoter_same_gene_variant'] = False"
   ]
  },
  {
   "cell_type": "markdown",
   "metadata": {},
   "source": [
    "## TSS Distance\n",
    "\n",
    "I want to find the distance from each variant to the nearest TSS of the\n",
    "gene that the variant is significant for. Some variants are significant\n",
    "for multiple genes but will be closest to the TSS for only one gene. I'm going\n",
    "to construct \"fake\" bed file with gene IDs as chromosome names. This will\n",
    "allow me to compare all of the significant variants for a gene to that gene's\n",
    "TSSs."
   ]
  },
  {
   "cell_type": "code",
   "execution_count": 22,
   "metadata": {
    "collapsed": true
   },
   "outputs": [],
   "source": [
    "tss = pbt.BedTool(cpy.gencode_tss_bed)\n",
    "tss_df = tss.to_dataframe()\n",
    "tss_df['gene'] = tss_df.name.apply(lambda x: transcript_to_gene[x.split('_')[0]])\n",
    "s = '\\n'.join(tss_df.gene + '\\t' + tss_df.start.astype(str) + '\\t' +\n",
    "              tss_df.end.astype(str) + '\\t' + tss_df.name + '\\t' + \n",
    "              tss_df.score + '\\t' + tss_df.strand) + '\\n'\n",
    "fake_tss = pbt.BedTool(s, from_string=True)\n",
    "fake_tss = fake_tss.sort()\n",
    "\n",
    "s = '\\n'.join(sig_variants.gene + '\\t' + sig_variants.beg.astype(str) + '\\t' + \n",
    "              sig_variants.end.astype(str) + '\\t.\\t' + sig_variants.chrom) + '\\n'\n",
    "fake_sig_variants_bt = pbt.BedTool(s, from_string=True)\n",
    "fake_sig_variants_bt = fake_sig_variants_bt.sort()\n",
    "\n",
    "res = fake_sig_variants_bt.closest(fake_tss, D='b', sorted=True)\n",
    "res_df = res.to_dataframe()\n",
    "res_df.index = (res_df.score + ':' + res_df.start.astype(str) + '-' + \n",
    "                res_df.end.astype(str) + ':' + res_df.chrom)\n",
    "res_df['variant_gene'] = res_df.index\n",
    "res_df = res_df.drop_duplicates(subset=['variant_gene'])\n",
    "sig_variants['tss_dist'] = res_df.ix[sig_variants.index, 'blockStarts']\n",
    "sig_variants['tss_dist_abs'] = sig_variants.tss_dist.abs()"
   ]
  },
  {
   "cell_type": "markdown",
   "metadata": {},
   "source": [
    "## Maurano et al. 2015 Data\n",
    "\n",
    "I'm going to grab some data from [Maurano *et al.* 2015](http://www.nature.com/ng/journal/v47/n12/full/ng.3432.html).\n",
    "The zip file seems to be corrupted. I was able to manually download on my mac \n",
    "and decompress it using Arhcive Utility but I couldn't get it work from the\n",
    "command line so that this has to be downloaded by hand."
   ]
  },
  {
   "cell_type": "code",
   "execution_count": 23,
   "metadata": {
    "collapsed": false
   },
   "outputs": [],
   "source": [
    "# This has all of the variants tested for imbalance and their significance.\n",
    "maurano_res = pd.read_table('http://www.nature.com/ng/journal/v47/n12/extref/ng.3432-S5.txt')\n",
    "# This has SNVs from dbSNP 138 predicted to affect TF binding.\n",
    "fn = os.path.join(private_outdir, 'ng.3432-S7')\n",
    "if not os.path.exists(fn):\n",
    "    print('Download ng.3432-S7, decompress, and add to private_outdir.')\n",
    "    print('http://www.nature.com/ng/journal/v47/n12/extref/ng.3432-S7.zip')\n",
    "else:\n",
    "    maurano_tf_disrupt = pd.read_table(fn)"
   ]
  },
  {
   "cell_type": "code",
   "execution_count": 24,
   "metadata": {
    "collapsed": false
   },
   "outputs": [
    {
     "data": {
      "text/plain": [
       "(0,)"
      ]
     },
     "execution_count": 24,
     "metadata": {},
     "output_type": "execute_result"
    }
   ],
   "source": [
    "se = maurano_res.chromEnd - maurano_res.chromStart\n",
    "se[se > 1].shape"
   ]
  },
  {
   "cell_type": "markdown",
   "metadata": {},
   "source": [
    "The Maurano results are all SNVs."
   ]
  },
  {
   "cell_type": "code",
   "execution_count": 25,
   "metadata": {
    "collapsed": false
   },
   "outputs": [
    {
     "name": "stdout",
     "output_type": "stream",
     "text": [
      "362284\n",
      "362284\n"
     ]
    }
   ],
   "source": [
    "print(len(set(maurano_res.chrom + ':' + maurano_res.chromStart.astype(str) + '-' + \n",
    "              maurano_res.chromEnd.astype(str))))\n",
    "print(maurano_res.shape[0])"
   ]
  },
  {
   "cell_type": "code",
   "execution_count": 26,
   "metadata": {
    "collapsed": false
   },
   "outputs": [],
   "source": [
    "maurano_res.index = (maurano_res.chrom + ':' + maurano_res.chromStart.astype(str) + \n",
    "                     '-' + maurano_res.chromEnd.astype(str))"
   ]
  },
  {
   "cell_type": "markdown",
   "metadata": {},
   "source": [
    "The Maurano results are all unique variants."
   ]
  },
  {
   "cell_type": "code",
   "execution_count": 27,
   "metadata": {
    "collapsed": false
   },
   "outputs": [
    {
     "data": {
      "text/html": [
       "<div>\n",
       "<table border=\"1\" class=\"dataframe\">\n",
       "  <thead>\n",
       "    <tr style=\"text-align: right;\">\n",
       "      <th></th>\n",
       "      <th>chrom</th>\n",
       "      <th>chromStart</th>\n",
       "      <th>chromEnd</th>\n",
       "      <th>rs</th>\n",
       "      <th>numhets</th>\n",
       "      <th>allele.1</th>\n",
       "      <th>readsA</th>\n",
       "      <th>allele.2</th>\n",
       "      <th>readsB</th>\n",
       "      <th>totalReads</th>\n",
       "      <th>pctRef</th>\n",
       "      <th>q.value</th>\n",
       "      <th>significance.level</th>\n",
       "    </tr>\n",
       "  </thead>\n",
       "  <tbody>\n",
       "    <tr>\n",
       "      <th>chr1:752720-752721</th>\n",
       "      <td>chr1</td>\n",
       "      <td>752720</td>\n",
       "      <td>752721</td>\n",
       "      <td>snp5</td>\n",
       "      <td>33</td>\n",
       "      <td>G</td>\n",
       "      <td>1583</td>\n",
       "      <td>A</td>\n",
       "      <td>1454</td>\n",
       "      <td>3037</td>\n",
       "      <td>0.479</td>\n",
       "      <td>0.0912</td>\n",
       "      <td>not_imbalanced</td>\n",
       "    </tr>\n",
       "  </tbody>\n",
       "</table>\n",
       "</div>"
      ],
      "text/plain": [
       "                   chrom  chromStart  chromEnd    rs  numhets allele.1  \\\n",
       "chr1:752720-752721  chr1      752720    752721  snp5       33        G   \n",
       "\n",
       "                    readsA allele.2  readsB  totalReads  pctRef  q.value  \\\n",
       "chr1:752720-752721    1583        A    1454        3037   0.479   0.0912   \n",
       "\n",
       "                   significance.level  \n",
       "chr1:752720-752721     not_imbalanced  "
      ]
     },
     "execution_count": 27,
     "metadata": {},
     "output_type": "execute_result"
    }
   ],
   "source": [
    "maurano_res.head(1)"
   ]
  },
  {
   "cell_type": "markdown",
   "metadata": {},
   "source": [
    "It seems that the Maurano data is in zero-based coordinates."
   ]
  },
  {
   "cell_type": "code",
   "execution_count": 28,
   "metadata": {
    "collapsed": true
   },
   "outputs": [],
   "source": [
    "maurano_res.columns = ['{}_maurano'.format(c) for c in maurano_res.columns]\n",
    "sig_variants = sig_variants.merge(maurano_res, left_on='variant', right_index=True, how='left')\n",
    "sig_variants = sig_variants.drop(['chrom_maurano', 'chromStart_maurano', 'chromEnd_maurano'], axis=1)"
   ]
  },
  {
   "cell_type": "markdown",
   "metadata": {
    "collapsed": true
   },
   "source": [
    "I'll also add in the predicted TF disruptions."
   ]
  },
  {
   "cell_type": "code",
   "execution_count": 29,
   "metadata": {
    "collapsed": false
   },
   "outputs": [],
   "source": [
    "maurano_tf_disrupt.columns = ['{}_maurano_tf'.format(x) for x in maurano_tf_disrupt.columns]\n",
    "maurano_tf_disrupt.index = (maurano_tf_disrupt.chrom_maurano_tf + ':' +\n",
    "                            maurano_tf_disrupt.snpChromStart_maurano_tf.astype(str) + \n",
    "                            '-' + maurano_tf_disrupt.snpChromEnd_maurano_tf.astype(str))\n",
    "sig_variants = sig_variants.merge(maurano_tf_disrupt, left_on='variant', \n",
    "                                  right_index=True, how='left')"
   ]
  },
  {
   "cell_type": "code",
   "execution_count": 30,
   "metadata": {
    "collapsed": true
   },
   "outputs": [],
   "source": [
    "sig_variants = sig_variants.drop(['chrom_maurano_tf', 'snpChromStart_maurano_tf', \n",
    "                                  'snpChromEnd_maurano_tf'], axis=1)"
   ]
  },
  {
   "cell_type": "markdown",
   "metadata": {
    "collapsed": true
   },
   "source": [
    "## Roadmap DNase"
   ]
  },
  {
   "cell_type": "code",
   "execution_count": 31,
   "metadata": {
    "collapsed": true
   },
   "outputs": [],
   "source": [
    "out = os.path.join(outdir, 'roadmap_dnase.tsv')\n",
    "if not os.path.exists(out):\n",
    "    url = ('http://egg2.wustl.edu/roadmap/data/byFileType'\n",
    "           '/peaks/consolidated/narrowPeak/')\n",
    "    website = urllib2.urlopen(url)\n",
    "    html = website.read()\n",
    "    files = re.findall('href=\"(E\\d\\d\\d-DNase.macs2.narrowPeak.gz)\"', html)\n",
    "    roadmap_dnase_res = pd.DataFrame(\n",
    "        -1, index=[x.split('-')[0] for x in files], \n",
    "        columns=['odds_ratio', 'pvalue'])\n",
    "\n",
    "    urls = ['http://egg2.wustl.edu/roadmap/data/byFileType/peaks/consolidated/narrowPeak/{}'.format(n)\n",
    "            for n in files]\n",
    "    lines = ['iPS-15b Cell Line', 'iPS-18 Cell Line', 'iPS-20b Cell Line',\n",
    "             'iPS DF 6.9 Cell Line', 'iPS DF 19.11 Cell Line', 'H1 Cell Line',\n",
    "             'H9 Cell Line']\n",
    "    urls = [x for x in urls if roadmap_ids[os.path.split(x.split('-')[0])[1]] in lines]\n",
    "\n",
    "    df = pd.DataFrame(False, index=set(sig_variants.variant), columns=lines)\n",
    "    for url in urls:\n",
    "        line = roadmap_ids[os.path.split(url)[1].split('-')[0]]\n",
    "        bt = pbt.BedTool(cpb.general.read_gzipped_text_url(url), from_string=True).sort()\n",
    "        res = sig_variants_bt.intersect(bt, wa=True)\n",
    "        tdf = res.to_dataframe()\n",
    "        df.ix[(tdf.chrom + ':' + tdf.start.astype(str) + '-' + tdf.end.astype(str)).values, line] = True\n",
    "    df = df.ix[:, df.sum() > 0]\n",
    "    df.columns = [c.replace(' Cell Line', '').replace(' ', '_') + '_roadmap_dnase' for c in df.columns]\n",
    "    df.to_csv(out, sep='\\t')\n",
    "else:\n",
    "    df = pd.read_table(out, index_col=0)\n",
    "\n",
    "sig_variants = sig_variants.merge(df, left_on='variant', right_index=True, how='left')"
   ]
  },
  {
   "cell_type": "markdown",
   "metadata": {
    "collapsed": true
   },
   "source": [
    "## ENCODE DNase"
   ]
  },
  {
   "cell_type": "code",
   "execution_count": 32,
   "metadata": {
    "collapsed": false
   },
   "outputs": [],
   "source": [
    "out = os.path.join(outdir, 'encode_dnase.tsv')\n",
    "if not os.path.exists(out):\n",
    "    encode_dnase = pd.read_table(os.path.join(ciepy.root, 'output', \n",
    "                                              'functional_annotation_analysis', \n",
    "                                              'encode_dnase.tsv'), index_col=0)\n",
    "    bs_types = ['stem cell', 'induced pluripotent stem cell line']\n",
    "    encode_dnase = encode_dnase[encode_dnase.biosample_type.apply(lambda x: x in bs_types)]\n",
    "\n",
    "    cols = (encode_dnase.cell_type.apply(lambda x: x.replace('induced pluripotent stem cell', 'iPSC')) + \n",
    "            '_' + encode_dnase.index + '_dnase')\n",
    "    df = pd.DataFrame(False, index=set(sig_variants.variant), columns=cols)\n",
    "    encode_dnase['col'] = cols\n",
    "    for i in encode_dnase.index:\n",
    "        bt = pbt.BedTool(cpb.general.read_gzipped_text_url(encode_dnase.ix[i, 'narrowPeak_url']), \n",
    "                         from_string=True).sort()\n",
    "        res = sig_variants_bt.intersect(bt, wa=True)\n",
    "        tdf = res.to_dataframe()\n",
    "        df.ix[(tdf.chrom + ':' + tdf.start.astype(str) + '-' + tdf.end.astype(str)).values,\n",
    "              encode_dnase.ix[i, 'col']] = True\n",
    "    df.to_csv(out, sep='\\t')\n",
    "else:\n",
    "    df = pd.read_table(out, index_col=0)\n",
    "\n",
    "sig_variants = sig_variants.merge(df, left_on='variant', right_index=True, how='left')"
   ]
  },
  {
   "cell_type": "markdown",
   "metadata": {},
   "source": [
    "## ENCODE Transcription Factor ChIP-Seq"
   ]
  },
  {
   "cell_type": "code",
   "execution_count": 33,
   "metadata": {
    "collapsed": true
   },
   "outputs": [],
   "source": [
    "out = os.path.join(outdir, 'encode_tf_chip_seq.tsv')\n",
    "if not os.path.exists(out):\n",
    "    encode_tf_chip_seq = pd.read_table(os.path.join(ciepy.root, 'output', \n",
    "                                                    'functional_annotation_analysis', \n",
    "                                                    'encode_stem_cell_chip_seq.tsv'), index_col=0)\n",
    "    encode_tf_chip_seq = encode_tf_chip_seq.drop_duplicates(subset='target')\n",
    "\n",
    "\n",
    "    cols = encode_tf_chip_seq.target + '_tf_chip'\n",
    "    df = pd.DataFrame(False, index=set(sig_variants.variant), columns=cols)\n",
    "    encode_tf_chip_seq['col'] = cols\n",
    "    for i in encode_tf_chip_seq.index:\n",
    "        bt = pbt.BedTool(cpb.general.read_gzipped_text_url(encode_tf_chip_seq.ix[i, 'narrowPeak_url']), \n",
    "                         from_string=True).sort()\n",
    "        res = sig_variants_bt.intersect(bt, wa=True)\n",
    "        tdf = res.to_dataframe()\n",
    "        df.ix[(tdf.chrom + ':' + tdf.start.astype(str) + '-' + tdf.end.astype(str)).values,\n",
    "              encode_tf_chip_seq.ix[i, 'col']] = True\n",
    "\n",
    "    df.to_csv(out, sep='\\t')\n",
    "else:\n",
    "    df = pd.read_table(out, index_col=0)\n",
    "\n",
    "sig_variants = sig_variants.merge(df, left_on='variant', right_index=True, how='left')"
   ]
  },
  {
   "cell_type": "markdown",
   "metadata": {},
   "source": [
    "## TF Motif Disruption"
   ]
  },
  {
   "cell_type": "code",
   "execution_count": 34,
   "metadata": {
    "collapsed": true
   },
   "outputs": [],
   "source": [
    "sig_variants['ref_allele'] = sig_variants.marker_id.apply(lambda x: x.split('/')[0].split('_')[-1])\n",
    "sig_variants['alt_allele'] = sig_variants.marker_id.apply(lambda x: x.split('/')[1].split('_')[0])"
   ]
  },
  {
   "cell_type": "raw",
   "metadata": {},
   "source": [
    "sig_variants['cnv'] = False\n",
    "sig_variants.ix[sig_variants.marker_id.apply(lambda x: 'cnv' in x), 'cnv'] = True"
   ]
  },
  {
   "cell_type": "code",
   "execution_count": 35,
   "metadata": {
    "collapsed": false
   },
   "outputs": [],
   "source": [
    "out = os.path.join(outdir, 'tf_disruption.tsv')\n",
    "if not os.path.exists(out):\n",
    "    fn = os.path.join(ciepy.root, 'output', 'motif_search', 'matrices.pickle')\n",
    "    with open(fn) as f:\n",
    "        matrices = cPickle.load(f)\n",
    "    fn = os.path.join(ciepy.root, 'output', 'motif_search', 'motif_info_full.tsv')\n",
    "    motif_info = pd.read_table(fn, index_col=0)\n",
    "    fn = os.path.join(ciepy.root, 'output', 'motif_search', 'motif_info_rep.tsv')\n",
    "    motif_info_rep = pd.read_table(fn, index_col=0)\n",
    "\n",
    "    tf_cols = [x for x in sig_variants.columns if 'tf_chip' in x]\n",
    "    tdf = sig_variants[['variant', 'ref_allele', 'alt_allele'] + tf_cols]\n",
    "    tdf = tdf.drop_duplicates()\n",
    "    tdf.index = tdf.variant\n",
    "    tdf = tdf.drop('variant', axis=1)\n",
    "    tdf = tdf[tdf[tf_cols].sum(axis=1) > 0]\n",
    "    tdf['tfs'] = tdf.apply(lambda x: set(motif_info.tf) & \n",
    "                           set([y.split('_')[0] for y in x[tf_cols][x[tf_cols]].index]), axis=1)\n",
    "    tdf = tdf[tdf.tfs.apply(lambda x: len(x)) > 0]\n",
    "    tdf = tdf.drop(tf_cols, axis=1)\n",
    "    tdf['motif_names'] = tdf.tfs.apply(lambda x: list(motif_info[motif_info.tf.apply(lambda y: y in x)].index))\n",
    "    \n",
    "    from ipyparallel import Client\n",
    "    parallel_client = Client()\n",
    "    dview = parallel_client[:]\n",
    "    print('Cluster has {} engines.'.format(len(parallel_client.ids)))\n",
    "    \n",
    "    with dview.sync_imports():\n",
    "        import cdpybio\n",
    "        import cardipspy\n",
    "        \n",
    "    %px cpb = cdpybio\n",
    "    %px cpy = cardipspy\n",
    "    \n",
    "    dview.push(dict(tdf=tdf));\n",
    "    dview.push(dict(matrices=matrices));\n",
    "    \n",
    "    res = dview.map_sync(lambda i: cpb.moodsext.find_motif_disruptions(\n",
    "            i, tdf.ix[i, 'ref_allele'], tdf.ix[i, 'alt_allele'], cpy.hg19, \n",
    "            {k:matrices[k] for k in tdf.ix[i, 'motif_names']}), tdf.index)\n",
    "    cols = motif_info[motif_info.tf.apply(lambda x: x in [x.split('_')[0] for x in tf_cols])].index\n",
    "    motif_d = pd.DataFrame(index=tdf.index, columns=cols)\n",
    "    a = []\n",
    "    b = []\n",
    "    for i,p in enumerate(tdf.index):\n",
    "        if res[i].shape[0] > 0:\n",
    "            a.append(p)\n",
    "            b.append(res[i])\n",
    "    d = dict(zip(a,b))\n",
    "    p = pd.Panel(d)\n",
    "    motif_d = p.ix[:, :, 'score_diff'].T\n",
    "    motif_d.to_csv(out, sep='\\t')\n",
    "else:\n",
    "    motif_d = pd.read_table(out, index_col=0)"
   ]
  },
  {
   "cell_type": "markdown",
   "metadata": {},
   "source": [
    "For `motif_d`, the value is reference score minus alternate score. So a positive\n",
    "value means the reference matched the motif better.\n",
    "\n",
    "I'm not sure what score difference constitutes a disruption. Let's\n",
    "take a look at the distribution of differences."
   ]
  },
  {
   "cell_type": "code",
   "execution_count": 36,
   "metadata": {
    "collapsed": false
   },
   "outputs": [
    {
     "data": {
      "image/png": "[encoded data removed]",
      "text/plain": [
       "<matplotlib.figure.Figure at 0x7f6329baed10>"
      ]
     },
     "metadata": {},
     "output_type": "display_data"
    }
   ],
   "source": [
    "pd.Series(motif_d.values.flatten()).dropna().hist(bins=100)\n",
    "ymin, ymax = plt.ylim()\n",
    "plt.vlines(-2.5, ymin, ymax)\n",
    "plt.vlines(2.5, ymin, ymax)\n",
    "plt.ylabel('Number of differences')\n",
    "plt.xlabel('Score difference');"
   ]
  },
  {
   "cell_type": "markdown",
   "metadata": {},
   "source": [
    "It seems that a score difference greater than 2.5 in magnitude probably\n",
    "represents a pretty big effect. I'll say these are disruptions."
   ]
  },
  {
   "cell_type": "code",
   "execution_count": 37,
   "metadata": {
    "collapsed": true
   },
   "outputs": [],
   "source": [
    "motif_disrupt = motif_d.abs() >= 2.5\n",
    "motif_disrupt.columns = ['{}_motif_disrupted'.format(x) for x in motif_disrupt.columns]\n",
    "sig_variants = sig_variants.merge(motif_disrupt, left_on='variant', right_index=True, how='left')"
   ]
  },
  {
   "cell_type": "code",
   "execution_count": 38,
   "metadata": {
    "collapsed": false
   },
   "outputs": [],
   "source": [
    "tf_disrupt = motif_disrupt.copy(deep=True)\n",
    "tf_disrupt.columns = ['{}_tf_disrupted'.format(x.split('_')[0]) for x in tf_disrupt.columns]\n",
    "d = {}\n",
    "for c in set(tf_disrupt.columns):\n",
    "    t = tf_disrupt[c]\n",
    "    if len(t.shape) > 1:\n",
    "        d[c] = (tf_disrupt[c].sum(axis=1) == 1).values\n",
    "    else:\n",
    "        d[c] = t.values\n",
    "tf_disrupt = pd.DataFrame(d, index=tf_disrupt.index)\n",
    "sig_variants = sig_variants.merge(tf_disrupt, left_on='variant', right_index=True, how='left')"
   ]
  },
  {
   "cell_type": "code",
   "execution_count": 39,
   "metadata": {
    "collapsed": true
   },
   "outputs": [],
   "source": [
    "disrupted_cols = [x for x in sig_variants.columns if '_motif_disrupted' in x]\n",
    "sig_variants['tf_disruption'] = sig_variants[disrupted_cols].sum(axis=1) > 0"
   ]
  },
  {
   "cell_type": "markdown",
   "metadata": {
    "collapsed": true
   },
   "source": [
    "## Phasing and ASE\n",
    "\n",
    "Let's consider a putative eQTN. Let's assume that the direction of effect is such that\n",
    "the homozygous alternative genotype has lowest expression. If we have the correct eQTN,\n",
    "a subject who is het for the putative eQTN should see lower expression for the haplotype\n",
    "that contains the alt variant. I can check this for SNVs given that our SNVs are phased."
   ]
  },
  {
   "cell_type": "raw",
   "metadata": {
    "collapsed": false
   },
   "source": [
    "(locus_p[:, :, 'p_val_ase'] < 0.005)"
   ]
  },
  {
   "cell_type": "code",
   "execution_count": null,
   "metadata": {
    "collapsed": true
   },
   "outputs": [],
   "source": []
  },
  {
   "cell_type": "markdown",
   "metadata": {},
   "source": [
    "## Feature Exploration"
   ]
  },
  {
   "cell_type": "code",
   "execution_count": 40,
   "metadata": {
    "collapsed": false
   },
   "outputs": [
    {
     "name": "stdout",
     "output_type": "stream",
     "text": [
      "719 of 5,594 genes have only one significant variant.\n"
     ]
    }
   ],
   "source": [
    "n = (sig_variants.gene.value_counts() > 1).value_counts()[False]\n",
    "print('{:,} of {:,} genes have only one significant variant.'.format(n, len(set(sig_variants.gene))))"
   ]
  },
  {
   "cell_type": "code",
   "execution_count": 158,
   "metadata": {
    "collapsed": false
   },
   "outputs": [
    {
     "data": {
      "image/png": "[encoded data removed]",
      "text/plain": [
       "<matplotlib.figure.Figure at 0x7f632afe7790>"
      ]
     },
     "metadata": {},
     "output_type": "display_data"
    }
   ],
   "source": [
    "sig_variants.gene.value_counts().hist(bins=100, log=True)\n",
    "plt.ylabel('Number of genes')\n",
    "plt.xlabel('Number of variants');"
   ]
  },
  {
   "cell_type": "code",
   "execution_count": 42,
   "metadata": {
    "collapsed": true
   },
   "outputs": [],
   "source": [
    "gene_gb = sig_variants.groupby('gene')\n",
    "num_genes = len(set(sig_variants.gene))"
   ]
  },
  {
   "cell_type": "code",
   "execution_count": 43,
   "metadata": {
    "collapsed": false
   },
   "outputs": [
    {
     "name": "stdout",
     "output_type": "stream",
     "text": [
      "3,886 of 5,594 genes have at least one significant exonic variant.\n",
      "2,894 of these 3,886 genes have at least one significant variant in their own exon.\n"
     ]
    }
   ],
   "source": [
    "n = (gene_gb.exonic.sum() > 0).value_counts()[True]\n",
    "print('{:,} of {:,} genes have at least one significant exonic variant.'.format(\n",
    "    n, num_genes))\n",
    "m = (gene_gb.exonic_same_gene.sum() > 0).value_counts()[True]\n",
    "print('{:,} of these {:,} genes have at least one significant variant in their own exon.'.format(\n",
    "    m, n))"
   ]
  },
  {
   "cell_type": "code",
   "execution_count": 44,
   "metadata": {
    "collapsed": false
   },
   "outputs": [
    {
     "data": {
      "image/png": "[encoded data removed]",
      "text/plain": [
       "<matplotlib.figure.Figure at 0x7f630013f5d0>"
      ]
     },
     "metadata": {},
     "output_type": "display_data"
    }
   ],
   "source": [
    "fig, axs = plt.subplots(1, 2, figsize=[12, 4])\n",
    "ax = gene_gb.exonic.sum().hist(log=True, bins=range(0, int(gene_gb.exonic.sum().max())), ax=axs[0])\n",
    "ax.set_ylabel('Number of exonic variants')\n",
    "ax.set_xlabel('Number of genes')\n",
    "ax = gene_gb.exonic_same_gene.sum().hist(log=True, bins=range(0, int(gene_gb.exonic.sum().max())), ax=axs[1])\n",
    "ax.set_ylabel('Number of exonic variants in same gene')\n",
    "ax.set_xlabel('Number of genes');"
   ]
  },
  {
   "cell_type": "code",
   "execution_count": 45,
   "metadata": {
    "collapsed": false
   },
   "outputs": [
    {
     "name": "stdout",
     "output_type": "stream",
     "text": [
      "3,104 of 5,594 genes have at least one significant UTR variant.\n",
      "1,987 of these 3,104 genes have at least one significant variant in their own UTR.\n"
     ]
    }
   ],
   "source": [
    "n = (gene_gb.utr.sum() > 0).value_counts()[True]\n",
    "print('{:,} of {:,} genes have at least one significant UTR variant.'.format(\n",
    "    n, len(set(sig_variants.gene))))\n",
    "m = (gene_gb.utr_same_gene.sum() > 0).value_counts()[True]\n",
    "print('{:,} of these {:,} genes have at least one significant variant in their own UTR.'.format(\n",
    "    m, n))"
   ]
  },
  {
   "cell_type": "code",
   "execution_count": 46,
   "metadata": {
    "collapsed": false
   },
   "outputs": [
    {
     "data": {
      "image/png": "[encoded data removed]",
      "text/plain": [
       "<matplotlib.figure.Figure at 0x7f62fbf8abd0>"
      ]
     },
     "metadata": {},
     "output_type": "display_data"
    }
   ],
   "source": [
    "fig, axs = plt.subplots(1, 2, figsize=[12, 4])\n",
    "ax = gene_gb.utr.sum().hist(log=True, bins=range(0, int(gene_gb.utr.sum().max())), ax=axs[0])\n",
    "ax.set_ylabel('Number of UTR variants')\n",
    "ax.set_xlabel('Number of genes')\n",
    "ax = gene_gb.utr_same_gene.sum().hist(log=True, bins=range(0, int(gene_gb.utr.sum().max())), ax=axs[1])\n",
    "ax.set_ylabel('Number of UTR variants in same gene')\n",
    "ax.set_xlabel('Number of genes');"
   ]
  },
  {
   "cell_type": "code",
   "execution_count": 47,
   "metadata": {
    "collapsed": false
   },
   "outputs": [
    {
     "name": "stdout",
     "output_type": "stream",
     "text": [
      "iPS_DF_6.9_roadmap_dnase\t0.05%\n",
      "iPS_DF_19.11_roadmap_dnase\t0.05%\n",
      "H1_roadmap_dnase\t0.04%\n",
      "H9_roadmap_dnase\t0.05%\n",
      "iPSC_ENCSR000EKK_dnase\t0.04%\n",
      "iPSC_ENCSR000EKJ_dnase\t0.04%\n",
      "iPSC_ENCSR000EKI_dnase\t0.05%\n",
      "iPSC_ENCSR000EKH_dnase\t0.02%\n",
      "H7-hESC_ENCSR000EMZ_dnase\t0.02%\n",
      "H1-hESC_ENCSR000EMU_dnase\t0.01%\n",
      "H9_ENCSR000EJP_dnase\t0.02%\n",
      "H7-hESC_ENCSR000EJO_dnase\t0.07%\n",
      "H1-hESC_ENCSR000EJN_dnase\t0.06%\n"
     ]
    }
   ],
   "source": [
    "# ENCSR000EMU is probably the best ENCODE DNase to use.\n",
    "for c in [x for x in sig_variants.columns if 'dnase' in x]:\n",
    "    vc = sig_variants[c].value_counts()\n",
    "    print('{}\\t{:.2f}%'.format(c, float(vc[True]) / vc.sum()))"
   ]
  },
  {
   "cell_type": "code",
   "execution_count": 48,
   "metadata": {
    "collapsed": false
   },
   "outputs": [
    {
     "data": {
      "image/png": "[encoded data removed]",
      "text/plain": [
       "<matplotlib.figure.Figure at 0x7f62e258bd10>"
      ]
     },
     "metadata": {},
     "output_type": "display_data"
    }
   ],
   "source": [
    "vc = sig_variants.ix[sig_variants['H1-hESC_ENCSR000EMU_dnase'] == True, 'gene'].value_counts()\n",
    "vc.hist(bins=range(0, vc.max() + 1))\n",
    "plt.ylabel('Number of genes')\n",
    "plt.xlabel('Number of variants overlapping DNase peak');"
   ]
  },
  {
   "cell_type": "code",
   "execution_count": 49,
   "metadata": {
    "collapsed": false
   },
   "outputs": [
    {
     "data": {
      "text/plain": [
       "not_imbalanced           26357\n",
       "imbalanced_(5%_FDR)       5438\n",
       "imbalanced_(0.1%_FDR)      591\n",
       "Name: significance.level_maurano, dtype: int64"
      ]
     },
     "execution_count": 49,
     "metadata": {},
     "output_type": "execute_result"
    }
   ],
   "source": [
    "sig_variants['significance.level_maurano'].value_counts()"
   ]
  },
  {
   "cell_type": "code",
   "execution_count": 50,
   "metadata": {
    "collapsed": false
   },
   "outputs": [
    {
     "data": {
      "text/plain": [
       "not_imbalanced           297687\n",
       "imbalanced_(5%_FDR)       55141\n",
       "imbalanced_(0.1%_FDR)      9456\n",
       "Name: significance.level_maurano, dtype: int64"
      ]
     },
     "execution_count": 50,
     "metadata": {},
     "output_type": "execute_result"
    }
   ],
   "source": [
    "maurano_res['significance.level_maurano'].value_counts()"
   ]
  },
  {
   "cell_type": "code",
   "execution_count": 51,
   "metadata": {
    "collapsed": false
   },
   "outputs": [
    {
     "data": {
      "image/png": "[encoded data removed]",
      "text/plain": [
       "<matplotlib.figure.Figure at 0x7f63004b7f90>"
      ]
     },
     "metadata": {},
     "output_type": "display_data"
    }
   ],
   "source": [
    "sig_variants['q.value_maurano'].hist(bins=100)\n",
    "plt.ylabel('Number of variants')\n",
    "plt.xlabel('Maurano $q$-value');"
   ]
  },
  {
   "cell_type": "code",
   "execution_count": 52,
   "metadata": {
    "collapsed": false
   },
   "outputs": [
    {
     "data": {
      "image/png": "[encoded data removed]",
      "text/plain": [
       "<matplotlib.figure.Figure at 0x7f631bc097d0>"
      ]
     },
     "metadata": {},
     "output_type": "display_data"
    }
   ],
   "source": [
    "se = sig_variants['q.value_maurano'].dropna()\n",
    "se += se[se > 0].min()\n",
    "(-np.log10(se)).hist(bins=100)\n",
    "plt.ylabel('Number of variants')\n",
    "plt.xlabel('Maurano $-\\log_{10}q$-value');"
   ]
  },
  {
   "cell_type": "markdown",
   "metadata": {},
   "source": [
    "### Single variant genes\n",
    "\n",
    "I'm going to look at genes for which there is only one significant\n",
    "variant. In theory, these should often be the causal variants."
   ]
  },
  {
   "cell_type": "code",
   "execution_count": 53,
   "metadata": {
    "collapsed": true
   },
   "outputs": [],
   "source": [
    "se = sig_variants.gene.value_counts() == 1\n",
    "genes = set(se[se].index)\n",
    "tdf = sig_variants[sig_variants.gene.apply(lambda x: x in genes)]"
   ]
  },
  {
   "cell_type": "code",
   "execution_count": 54,
   "metadata": {
    "collapsed": false
   },
   "outputs": [
    {
     "name": "stdout",
     "output_type": "stream",
     "text": [
      "100 of 719 genes have an exonic variant.\n",
      "50 of 719 genes have a UTR variant.\n",
      "33 of 719 genes have a variant in H1-hESC_ENCSR000EMU DNase peaks.\n"
     ]
    }
   ],
   "source": [
    "n = tdf.exonic.value_counts()[True]\n",
    "print('{} of {} genes have an exonic variant.'.format(n, tdf.shape[0]))\n",
    "n = tdf.utr.value_counts()[True]\n",
    "print('{} of {} genes have a UTR variant.'.format(n, tdf.shape[0]))\n",
    "n = tdf['H1-hESC_ENCSR000EMU_dnase'].value_counts()[True]\n",
    "print('{} of {} genes have a variant in H1-hESC_ENCSR000EMU DNase peaks.'.format(n, tdf.shape[0]))"
   ]
  },
  {
   "cell_type": "code",
   "execution_count": 55,
   "metadata": {
    "collapsed": false
   },
   "outputs": [
    {
     "data": {
      "text/plain": [
       "not_imbalanced           0.821695\n",
       "imbalanced_(5%_FDR)      0.152204\n",
       "imbalanced_(0.1%_FDR)    0.026101\n",
       "Name: significance.level_maurano, dtype: float64"
      ]
     },
     "execution_count": 55,
     "metadata": {},
     "output_type": "execute_result"
    }
   ],
   "source": [
    "maurano_res['significance.level_maurano'].value_counts() / maurano_res.shape[0]"
   ]
  },
  {
   "cell_type": "code",
   "execution_count": 56,
   "metadata": {
    "collapsed": false
   },
   "outputs": [
    {
     "data": {
      "text/plain": [
       "not_imbalanced           0.813839\n",
       "imbalanced_(5%_FDR)      0.167912\n",
       "imbalanced_(0.1%_FDR)    0.018249\n",
       "Name: significance.level_maurano, dtype: float64"
      ]
     },
     "execution_count": 56,
     "metadata": {},
     "output_type": "execute_result"
    }
   ],
   "source": [
    "sig_variants['significance.level_maurano'].value_counts() / sig_variants['significance.level_maurano'].value_counts().sum()"
   ]
  },
  {
   "cell_type": "code",
   "execution_count": 57,
   "metadata": {
    "collapsed": false
   },
   "outputs": [
    {
     "data": {
      "text/plain": [
       "not_imbalanced           0.804348\n",
       "imbalanced_(5%_FDR)      0.184783\n",
       "imbalanced_(0.1%_FDR)    0.010870\n",
       "Name: significance.level_maurano, dtype: float64"
      ]
     },
     "execution_count": 57,
     "metadata": {},
     "output_type": "execute_result"
    }
   ],
   "source": [
    "tdf['significance.level_maurano'].value_counts() / tdf['significance.level_maurano'].value_counts().sum()"
   ]
  },
  {
   "cell_type": "code",
   "execution_count": 58,
   "metadata": {
    "collapsed": true
   },
   "outputs": [],
   "source": [
    "t = sig_variants.sort_values(by=['gene', 'pvalue'])\n",
    "t = t.drop_duplicates(subset='gene')"
   ]
  },
  {
   "cell_type": "code",
   "execution_count": 59,
   "metadata": {
    "collapsed": false
   },
   "outputs": [
    {
     "data": {
      "text/plain": [
       "not_imbalanced           0.740480\n",
       "imbalanced_(5%_FDR)      0.242595\n",
       "imbalanced_(0.1%_FDR)    0.016925\n",
       "Name: significance.level_maurano, dtype: float64"
      ]
     },
     "execution_count": 59,
     "metadata": {},
     "output_type": "execute_result"
    }
   ],
   "source": [
    "t['significance.level_maurano'].value_counts() / t['significance.level_maurano'].value_counts().sum()"
   ]
  },
  {
   "cell_type": "markdown",
   "metadata": {},
   "source": [
    "## Fine Mapping\n",
    "\n",
    "[Wen et al. 2015](http://journals.plos.org/plosgenetics/article?id=10.1371/journal.pgen.1005176) says 50% of cis-eQTLs are concentrated within 20kb of the TSS.\n",
    "\n",
    "I'll start by removing genes that have significant variants in their exons or\n",
    "UTRs or are predicted to undergo NMD."
   ]
  },
  {
   "cell_type": "raw",
   "metadata": {
    "collapsed": false
   },
   "source": [
    "sig_variants_f = sig_variants[\n",
    "    (sig_variants.gene_has_exonic_same_gene_variant == False) & \n",
    "    (sig_variants.gene_has_utr_same_gene_variant == False) &\n",
    "    (sig_variants.gene_has_nmd_variant == False)]\n",
    "a = len(set(sig_variants_f.gene))\n",
    "b = len(set(sig_variants.gene))\n",
    "print('{:,} of {:,} genes don\\'t have a significant variant in the same genes\\' '\n",
    "      'exon or UTR.'.format(a, b))"
   ]
  },
  {
   "cell_type": "code",
   "execution_count": 60,
   "metadata": {
    "collapsed": false
   },
   "outputs": [
    {
     "name": "stdout",
     "output_type": "stream",
     "text": [
      "5,584 of 5,594 genes don't have a significant NMD variant.\n"
     ]
    }
   ],
   "source": [
    "sig_variants_f = sig_variants[(sig_variants.gene_has_nmd_variant == False)]\n",
    "a = len(set(sig_variants_f.gene))\n",
    "b = len(set(sig_variants.gene))\n",
    "print('{:,} of {:,} genes don\\'t have a significant NMD variant.'.format(a, b))"
   ]
  },
  {
   "cell_type": "code",
   "execution_count": 61,
   "metadata": {
    "collapsed": false
   },
   "outputs": [
    {
     "data": {
      "image/png": "[encoded data removed]",
      "text/plain": [
       "<matplotlib.figure.Figure at 0x7f6300624750>"
      ]
     },
     "metadata": {},
     "output_type": "display_data"
    }
   ],
   "source": [
    "sig_variants_f['roadmap_dnase_num'] = \\\n",
    "    sig_variants_f[[x for x in sig_variants_f.columns \n",
    "                    if '_roadmap_dnase' in x]].sum(axis=1)\n",
    "\n",
    "se = sig_variants_f.roadmap_dnase_num.value_counts()\n",
    "se = se[range(se.shape[0])]\n",
    "se.plot(kind='bar')\n",
    "plt.ylabel('Number of variants')\n",
    "plt.xlabel('Number of DNase peaks overlapping');"
   ]
  },
  {
   "cell_type": "markdown",
   "metadata": {},
   "source": [
    "I'm going to keep variants that have some evidence of being functional."
   ]
  },
  {
   "cell_type": "code",
   "execution_count": 62,
   "metadata": {
    "collapsed": false
   },
   "outputs": [
    {
     "name": "stdout",
     "output_type": "stream",
     "text": [
      "3,634 of 5,584 genes have a putative causal variant.\n"
     ]
    }
   ],
   "source": [
    "a = len(set(sig_variants_f.gene))\n",
    "sig_variants_f = sig_variants_f[\n",
    "    (sig_variants_f.roadmap_dnase_num > 2) | \n",
    "    (sig_variants_f['significance.level_maurano'] == 'imbalanced_(5%_FDR)') | \n",
    "    (sig_variants_f['significance.level_maurano'] == 'imbalanced_(0.1%_FDR)') | \n",
    "    (sig_variants_f.tf_disruption)]\n",
    "b = len(set(sig_variants_f.gene))\n",
    "print('{:,} of {:,} genes have a putative causal variant.'.format(b, a))"
   ]
  },
  {
   "cell_type": "markdown",
   "metadata": {},
   "source": [
    "I'm going to assign variants ranks based on whether\n",
    "\n",
    "1. Overlaps 2 or more DNase peaks and significant in Maurano **or**\n",
    "overlaps 2 or more DNase peaks and disrupts a TF\n",
    "2. Disrupts a TF\n",
    "3. Significant in Maurano\n",
    "4. Everything else\n",
    "\n",
    "I'll sort by this rank and then keep the variant closest to the TSS."
   ]
  },
  {
   "cell_type": "code",
   "execution_count": 63,
   "metadata": {
    "collapsed": false
   },
   "outputs": [],
   "source": [
    "sig_variants_f['variant_rank'] = np.nan\n",
    "a = sig_variants_f[\n",
    "    (sig_variants_f.roadmap_dnase_num >= 2) & \n",
    "    ((sig_variants_f['significance.level_maurano'] == 'imbalanced_(0.1%_FDR)') |\n",
    "     (sig_variants_f['significance.level_maurano'] == 'imbalanced_(5%_FDR)'))]\n",
    "b = sig_variants_f[(sig_variants_f.roadmap_dnase_num >= 2) & \n",
    "                   (sig_variants_f.tf_disruption)]\n",
    "t = pd.concat([a, b]).drop_duplicates()\n",
    "sig_variants_f.ix[t.index, 'variant_rank'] = 1\n",
    "\n",
    "sig_variants_f.ix[sig_variants_f.tf_disruption & \n",
    "                  sig_variants_f.variant_rank.isnull(), 'variant_rank'] = 2\n",
    "\n",
    "sig_variants_f.ix[\n",
    "    ((sig_variants_f['significance.level_maurano'] == 'imbalanced_(0.1%_FDR)') |\n",
    "     (sig_variants_f['significance.level_maurano'] == 'imbalanced_(5%_FDR)')) &\n",
    "    sig_variants_f.variant_rank.isnull(), 'variant_rank'] = 3\n",
    "\n",
    "sig_variants_f.ix[sig_variants_f.variant_rank.isnull(), 'variant_rank'] = 4"
   ]
  },
  {
   "cell_type": "code",
   "execution_count": 64,
   "metadata": {
    "collapsed": true
   },
   "outputs": [],
   "source": [
    "sig_variants_f = sig_variants_f.sort_values(by=['variant_rank', 'tss_dist_abs'])\n",
    "sig_variants_f = sig_variants_f.drop_duplicates(subset='gene')"
   ]
  },
  {
   "cell_type": "code",
   "execution_count": 65,
   "metadata": {
    "collapsed": false
   },
   "outputs": [
    {
     "data": {
      "text/plain": [
       "True     2393\n",
       "False    1241\n",
       "Name: tf_disruption, dtype: int64"
      ]
     },
     "execution_count": 65,
     "metadata": {},
     "output_type": "execute_result"
    }
   ],
   "source": [
    "sig_variants_f.tf_disruption.value_counts()"
   ]
  },
  {
   "cell_type": "code",
   "execution_count": 175,
   "metadata": {
    "collapsed": false
   },
   "outputs": [
    {
     "name": "stdout",
     "output_type": "stream",
     "text": [
      "1,784 variants not measured in Maurano\n"
     ]
    }
   ],
   "source": [
    "n = sig_variants_f.shape[0] - sig_variants_f['significance.level_maurano'].value_counts().sum()\n",
    "print('{:,} variants not measured in Maurano'.format(n))"
   ]
  },
  {
   "cell_type": "code",
   "execution_count": 66,
   "metadata": {
    "collapsed": false
   },
   "outputs": [
    {
     "data": {
      "text/plain": [
       "imbalanced_(5%_FDR)      1041\n",
       "not_imbalanced            711\n",
       "imbalanced_(0.1%_FDR)      98\n",
       "Name: significance.level_maurano, dtype: int64"
      ]
     },
     "execution_count": 66,
     "metadata": {},
     "output_type": "execute_result"
    }
   ],
   "source": [
    "sig_variants_f['significance.level_maurano'].value_counts()"
   ]
  },
  {
   "cell_type": "code",
   "execution_count": 197,
   "metadata": {
    "collapsed": false
   },
   "outputs": [
    {
     "data": {
      "image/png": "[encoded data removed]",
      "text/plain": [
       "<matplotlib.figure.Figure at 0x7f62f049c910>"
      ]
     },
     "metadata": {},
     "output_type": "display_data"
    }
   ],
   "source": [
    "n,b,p = plt.hist(sig_variants_f.tss_dist, \n",
    "                 bins=np.arange(-500000, 510000, 10000),\n",
    "                 histtype='stepfilled',\n",
    "                 linewidth=0)\n",
    "ymin, ymax = plt.ylim()\n",
    "plt.vlines(-20000, ymin, ymax)\n",
    "plt.vlines(20000, ymin, ymax)\n",
    "plt.title('Distance from nearest TSS')\n",
    "plt.ylabel('Fraction of eQTLs')\n",
    "plt.xlabel('Distance in base pairs');"
   ]
  },
  {
   "cell_type": "code",
   "execution_count": 206,
   "metadata": {
    "collapsed": false
   },
   "outputs": [
    {
     "name": "stdout",
     "output_type": "stream",
     "text": [
      "2,487 of 3,634 (68.4%) putative causal variants are within 20kb of the nearest TSS.\n"
     ]
    }
   ],
   "source": [
    "n = sum(sig_variants_f.tss_dist_abs < 20000)\n",
    "p = float(n) / sig_variants_f.shape[0]\n",
    "print('{:,} of {:,} ({:.1f}%) putative causal variants are within 20kb of the nearest TSS.'.format(\n",
    "        n, sig_variants_f.shape[0], p * 100))"
   ]
  },
  {
   "cell_type": "code",
   "execution_count": 109,
   "metadata": {
    "collapsed": false
   },
   "outputs": [],
   "source": [
    "s = sig_variants_f[[x for x in sig_variants_f.columns if '_tf_disrupted' in x]].sum()\n",
    "s = s[s > 0]\n",
    "s.sort_values(inplace=True, ascending=False)"
   ]
  },
  {
   "cell_type": "code",
   "execution_count": 111,
   "metadata": {
    "collapsed": true
   },
   "outputs": [],
   "source": [
    "def calc_bed_enrichment_from_url(url, variants, variants_window):\n",
    "    \"\"\"Calculate enrichment for bed file from a URL for variants\n",
    "    vs. variants_window\"\"\"\n",
    "    bt = pbt.BedTool(cpb.general.read_gzipped_text_url(url), from_string=True)\n",
    "    bt = bt.sort()\n",
    "    bt = bt.merge()\n",
    "    res = variants.intersect(bt, sorted=True, wo=True)\n",
    "    eqtl_in_peak = len(res)\n",
    "    eqtl_out_peak = len(variants) - eqtl_in_peak\n",
    "\n",
    "    res = variants_window.intersect(bt, sorted=True, wo=True)\n",
    "    not_eqtl_in_peak = 0\n",
    "    for r in res:\n",
    "        not_eqtl_in_peak += int(r.fields[-1])\n",
    "    not_eqtl_in_peak -= eqtl_in_peak\n",
    "    \n",
    "    total = 0\n",
    "    for r in variants_window:\n",
    "        total += r.length\n",
    "    not_eqtl_out_peak = total - not_eqtl_in_peak - eqtl_in_peak - eqtl_out_peak\n",
    "    \n",
    "    oddsratio, p = scipy.stats.fisher_exact([[eqtl_in_peak, eqtl_out_peak],\n",
    "                                             [not_eqtl_in_peak, not_eqtl_out_peak]])\n",
    "    return url, oddsratio, p"
   ]
  },
  {
   "cell_type": "code",
   "execution_count": 113,
   "metadata": {
    "collapsed": true
   },
   "outputs": [],
   "source": [
    "s = '\\n'.join(sig_variants_f.chrom + '\\t' + sig_variants_f.beg.astype(str) + '\\t' +\n",
    "              sig_variants_f.end.astype(str)) + '\\n'\n",
    "sig_variants_f_bt = pbt.BedTool(s, from_string=True)\n",
    "sig_variants_f_bt = sig_variants_f_bt.sort()"
   ]
  },
  {
   "cell_type": "code",
   "execution_count": 114,
   "metadata": {
    "collapsed": true
   },
   "outputs": [],
   "source": [
    "sig_variants_f_window = sig_variants_f_bt.slop(l=2500, r=2500, g=pbt.genome_registry.hg19)"
   ]
  },
  {
   "cell_type": "code",
   "execution_count": 116,
   "metadata": {
    "collapsed": false
   },
   "outputs": [],
   "source": [
    "encode_tf_chip_seq = pd.read_table(os.path.join(ciepy.root, 'output', \n",
    "                                                'functional_annotation_analysis', \n",
    "                                                'encode_stem_cell_chip_seq.tsv'), index_col=0)\n",
    "encode_tf_chip_seq = encode_tf_chip_seq.drop_duplicates(subset='target')"
   ]
  },
  {
   "cell_type": "code",
   "execution_count": 138,
   "metadata": {
    "collapsed": false
   },
   "outputs": [
    {
     "name": "stdout",
     "output_type": "stream",
     "text": [
      "Cluster has 20 engines.\n"
     ]
    }
   ],
   "source": [
    "from ipyparallel import Client\n",
    "parallel_client = Client(profile='parallel')\n",
    "dview = parallel_client[:]\n",
    "print('Cluster has {} engines.'.format(len(parallel_client.ids)))"
   ]
  },
  {
   "cell_type": "code",
   "execution_count": 149,
   "metadata": {
    "collapsed": false
   },
   "outputs": [
    {
     "name": "stdout",
     "output_type": "stream",
     "text": [
      "importing cdpybio on engine(s)\n",
      "importing pybedtools on engine(s)\n",
      "importing scipy on engine(s)\n",
      "importing subprocess on engine(s)\n"
     ]
    }
   ],
   "source": [
    "with dview.sync_imports():\n",
    "    import cdpybio\n",
    "    import pybedtools\n",
    "    import scipy\n",
    "    import subprocess"
   ]
  },
  {
   "cell_type": "code",
   "execution_count": 141,
   "metadata": {
    "collapsed": true
   },
   "outputs": [],
   "source": [
    "%px cpb = cdpybio\n",
    "%px pbt = pybedtools"
   ]
  },
  {
   "cell_type": "code",
   "execution_count": 142,
   "metadata": {
    "collapsed": true
   },
   "outputs": [],
   "source": [
    "dview.push(dict(calc_bed_enrichment_from_url=calc_bed_enrichment_from_url));"
   ]
  },
  {
   "cell_type": "code",
   "execution_count": 147,
   "metadata": {
    "collapsed": true
   },
   "outputs": [],
   "source": [
    "dview.push(dict(sig_variants_f_bt=sig_variants_f_bt,\n",
    "                sig_variants_f_window=sig_variants_f_window));"
   ]
  },
  {
   "cell_type": "code",
   "execution_count": 150,
   "metadata": {
    "collapsed": false
   },
   "outputs": [],
   "source": [
    "res = dview.map_sync(lambda x: calc_bed_enrichment_from_url(x, sig_variants_f_bt, sig_variants_f_window),\n",
    "                     encode_tf_chip_seq.narrowPeak_url)"
   ]
  },
  {
   "cell_type": "code",
   "execution_count": 185,
   "metadata": {
    "collapsed": true
   },
   "outputs": [],
   "source": [
    "t = pd.DataFrame(res, columns=['url', 'odds', 'pvalue'])\n",
    "t.index = t.url\n",
    "t = t.drop('url', axis=1)\n",
    "encode_tf_chip_seq_res = encode_tf_chip_seq.merge(t, left_on='narrowPeak_url', right_index=True)\n",
    "encode_tf_chip_seq_res.sort_values(by='pvalue', inplace=True)"
   ]
  },
  {
   "cell_type": "raw",
   "metadata": {
    "collapsed": false
   },
   "source": [
    "url = encode_tf_chip_seq.ix[encode_tf_chip_seq['target'] == 'NANOG', 'narrowPeak_url'].values[0]\n",
    "res = calc_bed_enrichment_from_url(url, sig_variants_f_bt, sig_variants_f_window)"
   ]
  },
  {
   "cell_type": "code",
   "execution_count": 193,
   "metadata": {
    "collapsed": false
   },
   "outputs": [
    {
     "data": {
      "text/html": [
       "<div>\n",
       "<table border=\"1\" class=\"dataframe\">\n",
       "  <thead>\n",
       "    <tr style=\"text-align: right;\">\n",
       "      <th></th>\n",
       "      <th>target</th>\n",
       "      <th>odds</th>\n",
       "      <th>pvalue</th>\n",
       "    </tr>\n",
       "  </thead>\n",
       "  <tbody>\n",
       "    <tr>\n",
       "      <th>ENCSR000DLJ</th>\n",
       "      <td>POLR2A</td>\n",
       "      <td>7.152677</td>\n",
       "      <td>0.000000e+00</td>\n",
       "    </tr>\n",
       "    <tr>\n",
       "      <th>ENCSR000EBO</th>\n",
       "      <td>SIN3A</td>\n",
       "      <td>7.273530</td>\n",
       "      <td>0.000000e+00</td>\n",
       "    </tr>\n",
       "    <tr>\n",
       "      <th>ENCSR000BIC</th>\n",
       "      <td>POLR2AphosphoS5</td>\n",
       "      <td>6.898396</td>\n",
       "      <td>0.000000e+00</td>\n",
       "    </tr>\n",
       "    <tr>\n",
       "      <th>ENCSR000ECB</th>\n",
       "      <td>TBP</td>\n",
       "      <td>8.722119</td>\n",
       "      <td>0.000000e+00</td>\n",
       "    </tr>\n",
       "    <tr>\n",
       "      <th>ENCSR000BLU</th>\n",
       "      <td>TAF7</td>\n",
       "      <td>7.730611</td>\n",
       "      <td>0.000000e+00</td>\n",
       "    </tr>\n",
       "    <tr>\n",
       "      <th>ENCSR000AQC</th>\n",
       "      <td>RBBP5</td>\n",
       "      <td>5.693158</td>\n",
       "      <td>0.000000e+00</td>\n",
       "    </tr>\n",
       "    <tr>\n",
       "      <th>ENCSR000BHO</th>\n",
       "      <td>TAF1</td>\n",
       "      <td>8.566726</td>\n",
       "      <td>0.000000e+00</td>\n",
       "    </tr>\n",
       "    <tr>\n",
       "      <th>ENCSR000BKD</th>\n",
       "      <td>YY1</td>\n",
       "      <td>8.168981</td>\n",
       "      <td>1.877187e-310</td>\n",
       "    </tr>\n",
       "    <tr>\n",
       "      <th>ENCSR000EBW</th>\n",
       "      <td>ZNF143</td>\n",
       "      <td>8.257001</td>\n",
       "      <td>2.769600e-307</td>\n",
       "    </tr>\n",
       "    <tr>\n",
       "      <th>ENCSR000BIR</th>\n",
       "      <td>SP1</td>\n",
       "      <td>7.964738</td>\n",
       "      <td>6.851452e-280</td>\n",
       "    </tr>\n",
       "    <tr>\n",
       "      <th>ENCSR000ECE</th>\n",
       "      <td>RAD21</td>\n",
       "      <td>8.408932</td>\n",
       "      <td>1.671791e-241</td>\n",
       "    </tr>\n",
       "    <tr>\n",
       "      <th>ENCSR000DLK</th>\n",
       "      <td>CTCF</td>\n",
       "      <td>8.934809</td>\n",
       "      <td>6.020692e-223</td>\n",
       "    </tr>\n",
       "    <tr>\n",
       "      <th>ENCSR000BQV</th>\n",
       "      <td>SP4</td>\n",
       "      <td>6.234796</td>\n",
       "      <td>9.854549e-215</td>\n",
       "    </tr>\n",
       "    <tr>\n",
       "      <th>ENCSR000EBT</th>\n",
       "      <td>CHD2</td>\n",
       "      <td>7.739182</td>\n",
       "      <td>1.233828e-191</td>\n",
       "    </tr>\n",
       "    <tr>\n",
       "      <th>ENCSR000EBR</th>\n",
       "      <td>MXI1</td>\n",
       "      <td>7.265371</td>\n",
       "      <td>2.812685e-181</td>\n",
       "    </tr>\n",
       "    <tr>\n",
       "      <th>ENCSR000BIW</th>\n",
       "      <td>GABPA</td>\n",
       "      <td>8.874506</td>\n",
       "      <td>1.075719e-176</td>\n",
       "    </tr>\n",
       "    <tr>\n",
       "      <th>ENCSR000BKK</th>\n",
       "      <td>EP300</td>\n",
       "      <td>7.981414</td>\n",
       "      <td>7.656087e-167</td>\n",
       "    </tr>\n",
       "    <tr>\n",
       "      <th>ENCSR000BJA</th>\n",
       "      <td>EGR1</td>\n",
       "      <td>7.252005</td>\n",
       "      <td>8.573577e-160</td>\n",
       "    </tr>\n",
       "    <tr>\n",
       "      <th>ENCSR000EBP</th>\n",
       "      <td>GTF2F1</td>\n",
       "      <td>7.490004</td>\n",
       "      <td>9.869603e-158</td>\n",
       "    </tr>\n",
       "    <tr>\n",
       "      <th>ENCSR000EUP</th>\n",
       "      <td>MAX</td>\n",
       "      <td>6.142902</td>\n",
       "      <td>2.447091e-142</td>\n",
       "    </tr>\n",
       "    <tr>\n",
       "      <th>ENCSR000ECC</th>\n",
       "      <td>NRF1</td>\n",
       "      <td>8.371021</td>\n",
       "      <td>5.412615e-142</td>\n",
       "    </tr>\n",
       "    <tr>\n",
       "      <th>ENCSR000BIU</th>\n",
       "      <td>USF1</td>\n",
       "      <td>6.319377</td>\n",
       "      <td>2.646186e-137</td>\n",
       "    </tr>\n",
       "    <tr>\n",
       "      <th>ENCSR000BRY</th>\n",
       "      <td>TEAD4</td>\n",
       "      <td>6.745474</td>\n",
       "      <td>7.371261e-123</td>\n",
       "    </tr>\n",
       "    <tr>\n",
       "      <th>ENCSR000EBQ</th>\n",
       "      <td>BACH1</td>\n",
       "      <td>5.786451</td>\n",
       "      <td>1.054583e-122</td>\n",
       "    </tr>\n",
       "    <tr>\n",
       "      <th>ENCSR000BQU</th>\n",
       "      <td>ATF2</td>\n",
       "      <td>5.374253</td>\n",
       "      <td>2.025094e-109</td>\n",
       "    </tr>\n",
       "    <tr>\n",
       "      <th>ENCSR000BKC</th>\n",
       "      <td>ATF3</td>\n",
       "      <td>8.443751</td>\n",
       "      <td>6.398887e-108</td>\n",
       "    </tr>\n",
       "    <tr>\n",
       "      <th>ENCSR000EBZ</th>\n",
       "      <td>JUND</td>\n",
       "      <td>6.751031</td>\n",
       "      <td>4.582745e-101</td>\n",
       "    </tr>\n",
       "    <tr>\n",
       "      <th>ENCSR000BNR</th>\n",
       "      <td>HDAC2</td>\n",
       "      <td>7.995929</td>\n",
       "      <td>8.803063e-99</td>\n",
       "    </tr>\n",
       "    <tr>\n",
       "      <th>ENCSR000EBY</th>\n",
       "      <td>MYC</td>\n",
       "      <td>6.311525</td>\n",
       "      <td>5.242344e-94</td>\n",
       "    </tr>\n",
       "    <tr>\n",
       "      <th>ENCSR000BIV</th>\n",
       "      <td>SRF</td>\n",
       "      <td>9.357729</td>\n",
       "      <td>4.693506e-93</td>\n",
       "    </tr>\n",
       "    <tr>\n",
       "      <th>ENCSR000BIT</th>\n",
       "      <td>TCF12</td>\n",
       "      <td>7.552908</td>\n",
       "      <td>1.780515e-87</td>\n",
       "    </tr>\n",
       "    <tr>\n",
       "      <th>ENCSR000ECD</th>\n",
       "      <td>USF2</td>\n",
       "      <td>6.615583</td>\n",
       "      <td>1.152640e-84</td>\n",
       "    </tr>\n",
       "    <tr>\n",
       "      <th>ENCSR000BQG</th>\n",
       "      <td>SP2</td>\n",
       "      <td>7.204997</td>\n",
       "      <td>1.110643e-80</td>\n",
       "    </tr>\n",
       "    <tr>\n",
       "      <th>ENCSR000EUO</th>\n",
       "      <td>CTBP2</td>\n",
       "      <td>4.338522</td>\n",
       "      <td>1.609753e-76</td>\n",
       "    </tr>\n",
       "    <tr>\n",
       "      <th>ENCSR000AQL</th>\n",
       "      <td>KDM5A</td>\n",
       "      <td>7.101209</td>\n",
       "      <td>3.707623e-68</td>\n",
       "    </tr>\n",
       "    <tr>\n",
       "      <th>ENCSR000BHM</th>\n",
       "      <td>REST</td>\n",
       "      <td>6.354616</td>\n",
       "      <td>5.168241e-62</td>\n",
       "    </tr>\n",
       "    <tr>\n",
       "      <th>ENCSR000BMT</th>\n",
       "      <td>NANOG</td>\n",
       "      <td>9.207771</td>\n",
       "      <td>2.134871e-60</td>\n",
       "    </tr>\n",
       "    <tr>\n",
       "      <th>ENCSR000EBX</th>\n",
       "      <td>BRCA1</td>\n",
       "      <td>6.882453</td>\n",
       "      <td>4.879795e-56</td>\n",
       "    </tr>\n",
       "    <tr>\n",
       "      <th>ENCSR000DSR</th>\n",
       "      <td>H3K4me3</td>\n",
       "      <td>2.244809</td>\n",
       "      <td>1.907610e-48</td>\n",
       "    </tr>\n",
       "    <tr>\n",
       "      <th>ENCSR000BIQ</th>\n",
       "      <td>SIX5</td>\n",
       "      <td>6.014990</td>\n",
       "      <td>1.345737e-46</td>\n",
       "    </tr>\n",
       "    <tr>\n",
       "      <th>ENCSR000BMU</th>\n",
       "      <td>POU5F1</td>\n",
       "      <td>11.213995</td>\n",
       "      <td>5.100243e-41</td>\n",
       "    </tr>\n",
       "    <tr>\n",
       "      <th>ENCSR000EBV</th>\n",
       "      <td>CEBPB</td>\n",
       "      <td>4.641502</td>\n",
       "      <td>5.640792e-40</td>\n",
       "    </tr>\n",
       "    <tr>\n",
       "      <th>ENCSR000ECF</th>\n",
       "      <td>RFX5</td>\n",
       "      <td>7.257671</td>\n",
       "      <td>2.093801e-32</td>\n",
       "    </tr>\n",
       "    <tr>\n",
       "      <th>ENCSR000ECA</th>\n",
       "      <td>JUN</td>\n",
       "      <td>7.749572</td>\n",
       "      <td>7.206188e-29</td>\n",
       "    </tr>\n",
       "    <tr>\n",
       "      <th>ENCSR000BIP</th>\n",
       "      <td>BCL11A</td>\n",
       "      <td>10.345391</td>\n",
       "      <td>1.448045e-23</td>\n",
       "    </tr>\n",
       "    <tr>\n",
       "      <th>ENCSR000EBU</th>\n",
       "      <td>CHD1</td>\n",
       "      <td>3.258577</td>\n",
       "      <td>4.930196e-22</td>\n",
       "    </tr>\n",
       "    <tr>\n",
       "      <th>ENCSR000BNS</th>\n",
       "      <td>FOSL1</td>\n",
       "      <td>7.710746</td>\n",
       "      <td>1.226825e-21</td>\n",
       "    </tr>\n",
       "    <tr>\n",
       "      <th>ENCSR000EBS</th>\n",
       "      <td>MAFK</td>\n",
       "      <td>4.786082</td>\n",
       "      <td>2.774352e-21</td>\n",
       "    </tr>\n",
       "    <tr>\n",
       "      <th>ENCSR000BJW</th>\n",
       "      <td>RXRA</td>\n",
       "      <td>7.661467</td>\n",
       "      <td>1.904715e-16</td>\n",
       "    </tr>\n",
       "    <tr>\n",
       "      <th>ENCSR000DSS</th>\n",
       "      <td>H3K36me3</td>\n",
       "      <td>0.321474</td>\n",
       "      <td>3.023217e-06</td>\n",
       "    </tr>\n",
       "    <tr>\n",
       "      <th>ENCSR000EUN</th>\n",
       "      <td>ZNF274</td>\n",
       "      <td>6.746506</td>\n",
       "      <td>3.759116e-06</td>\n",
       "    </tr>\n",
       "    <tr>\n",
       "      <th>ENCSR000DST</th>\n",
       "      <td>H3K27me3</td>\n",
       "      <td>0.578446</td>\n",
       "      <td>7.993533e-05</td>\n",
       "    </tr>\n",
       "    <tr>\n",
       "      <th>ENCSR000ASY</th>\n",
       "      <td>EZH2</td>\n",
       "      <td>1.731147</td>\n",
       "      <td>2.015758e-03</td>\n",
       "    </tr>\n",
       "    <tr>\n",
       "      <th>ENCSR000EUQ</th>\n",
       "      <td>SUZ12</td>\n",
       "      <td>2.013569</td>\n",
       "      <td>8.209765e-02</td>\n",
       "    </tr>\n",
       "  </tbody>\n",
       "</table>\n",
       "</div>"
      ],
      "text/plain": [
       "                      target       odds         pvalue\n",
       "ENCSR000DLJ           POLR2A   7.152677   0.000000e+00\n",
       "ENCSR000EBO            SIN3A   7.273530   0.000000e+00\n",
       "ENCSR000BIC  POLR2AphosphoS5   6.898396   0.000000e+00\n",
       "ENCSR000ECB              TBP   8.722119   0.000000e+00\n",
       "ENCSR000BLU             TAF7   7.730611   0.000000e+00\n",
       "ENCSR000AQC            RBBP5   5.693158   0.000000e+00\n",
       "ENCSR000BHO             TAF1   8.566726   0.000000e+00\n",
       "ENCSR000BKD              YY1   8.168981  1.877187e-310\n",
       "ENCSR000EBW           ZNF143   8.257001  2.769600e-307\n",
       "ENCSR000BIR              SP1   7.964738  6.851452e-280\n",
       "ENCSR000ECE            RAD21   8.408932  1.671791e-241\n",
       "ENCSR000DLK             CTCF   8.934809  6.020692e-223\n",
       "ENCSR000BQV              SP4   6.234796  9.854549e-215\n",
       "ENCSR000EBT             CHD2   7.739182  1.233828e-191\n",
       "ENCSR000EBR             MXI1   7.265371  2.812685e-181\n",
       "ENCSR000BIW            GABPA   8.874506  1.075719e-176\n",
       "ENCSR000BKK            EP300   7.981414  7.656087e-167\n",
       "ENCSR000BJA             EGR1   7.252005  8.573577e-160\n",
       "ENCSR000EBP           GTF2F1   7.490004  9.869603e-158\n",
       "ENCSR000EUP              MAX   6.142902  2.447091e-142\n",
       "ENCSR000ECC             NRF1   8.371021  5.412615e-142\n",
       "ENCSR000BIU             USF1   6.319377  2.646186e-137\n",
       "ENCSR000BRY            TEAD4   6.745474  7.371261e-123\n",
       "ENCSR000EBQ            BACH1   5.786451  1.054583e-122\n",
       "ENCSR000BQU             ATF2   5.374253  2.025094e-109\n",
       "ENCSR000BKC             ATF3   8.443751  6.398887e-108\n",
       "ENCSR000EBZ             JUND   6.751031  4.582745e-101\n",
       "ENCSR000BNR            HDAC2   7.995929   8.803063e-99\n",
       "ENCSR000EBY              MYC   6.311525   5.242344e-94\n",
       "ENCSR000BIV              SRF   9.357729   4.693506e-93\n",
       "ENCSR000BIT            TCF12   7.552908   1.780515e-87\n",
       "ENCSR000ECD             USF2   6.615583   1.152640e-84\n",
       "ENCSR000BQG              SP2   7.204997   1.110643e-80\n",
       "ENCSR000EUO            CTBP2   4.338522   1.609753e-76\n",
       "ENCSR000AQL            KDM5A   7.101209   3.707623e-68\n",
       "ENCSR000BHM             REST   6.354616   5.168241e-62\n",
       "ENCSR000BMT            NANOG   9.207771   2.134871e-60\n",
       "ENCSR000EBX            BRCA1   6.882453   4.879795e-56\n",
       "ENCSR000DSR          H3K4me3   2.244809   1.907610e-48\n",
       "ENCSR000BIQ             SIX5   6.014990   1.345737e-46\n",
       "ENCSR000BMU           POU5F1  11.213995   5.100243e-41\n",
       "ENCSR000EBV            CEBPB   4.641502   5.640792e-40\n",
       "ENCSR000ECF             RFX5   7.257671   2.093801e-32\n",
       "ENCSR000ECA              JUN   7.749572   7.206188e-29\n",
       "ENCSR000BIP           BCL11A  10.345391   1.448045e-23\n",
       "ENCSR000EBU             CHD1   3.258577   4.930196e-22\n",
       "ENCSR000BNS            FOSL1   7.710746   1.226825e-21\n",
       "ENCSR000EBS             MAFK   4.786082   2.774352e-21\n",
       "ENCSR000BJW             RXRA   7.661467   1.904715e-16\n",
       "ENCSR000DSS         H3K36me3   0.321474   3.023217e-06\n",
       "ENCSR000EUN           ZNF274   6.746506   3.759116e-06\n",
       "ENCSR000DST         H3K27me3   0.578446   7.993533e-05\n",
       "ENCSR000ASY             EZH2   1.731147   2.015758e-03\n",
       "ENCSR000EUQ            SUZ12   2.013569   8.209765e-02"
      ]
     },
     "execution_count": 193,
     "metadata": {},
     "output_type": "execute_result"
    }
   ],
   "source": [
    "encode_tf_chip_seq_res[['target', 'odds', 'pvalue']]"
   ]
  },
  {
   "cell_type": "code",
   "execution_count": null,
   "metadata": {
    "collapsed": true
   },
   "outputs": [],
   "source": []
  },
  {
   "cell_type": "code",
   "execution_count": null,
   "metadata": {
    "collapsed": true
   },
   "outputs": [],
   "source": []
  },
  {
   "cell_type": "code",
   "execution_count": null,
   "metadata": {
    "collapsed": true
   },
   "outputs": [],
   "source": []
  },
  {
   "cell_type": "code",
   "execution_count": 68,
   "metadata": {
    "collapsed": false
   },
   "outputs": [],
   "source": [
    "fn = os.path.join(ciepy.root, 'output', 'ji_et_al_2015_processing', 'interactions.tsv')\n",
    "interactions = pd.read_table(fn)\n",
    "\n",
    "fn = os.path.join(ciepy.root, 'output', 'ji_et_al_2015_processing', \n",
    "                  'gene_to_containing_interactions.pickle')\n",
    "gene_to_containing_interactions = cPickle.load(open(fn))\n",
    "\n",
    "fn = os.path.join(ciepy.root, 'output', 'ji_et_al_2015_processing',\n",
    "                  'chia_to_exon_gene.pickle')\n",
    "chia_to_exon_gene = cPickle.load(open(fn))\n",
    "fn = os.path.join(ciepy.root, 'output', 'ji_et_al_2015_processing',\n",
    "                  'chia_to_promoter_gene.pickle')\n",
    "chia_to_promoter_gene = cPickle.load(open(fn))\n",
    "\n",
    "fn = os.path.join(ciepy.root, 'output', 'ji_et_al_2015_processing',\n",
    "                  'chia_peaks.bed')\n",
    "chia_peaks = pbt.BedTool(fn)"
   ]
  },
  {
   "cell_type": "code",
   "execution_count": 210,
   "metadata": {
    "collapsed": false
   },
   "outputs": [
    {
     "data": {
      "text/plain": [
       "Index([u'chrom1', u'start1', u'end1', u'chrom2', u'start2', u'end2', u'ID',\n",
       "       u'score', u'ctcf_loop', u'nep_loop', u'pin_loop', u'intra', u'peak1',\n",
       "       u'peak2', u'loop', u'loop_inner', u'ctcf1', u'ctcf2', u'h3k27ac1',\n",
       "       u'h3k27ac2', u'promoter1', u'promoter2', u'exon1', u'exon2', u'gene1',\n",
       "       u'gene2'],\n",
       "      dtype='object')"
      ]
     },
     "execution_count": 210,
     "metadata": {},
     "output_type": "execute_result"
    }
   ],
   "source": [
    "interactions.columns"
   ]
  },
  {
   "cell_type": "code",
   "execution_count": null,
   "metadata": {
    "collapsed": true
   },
   "outputs": [],
   "source": []
  },
  {
   "cell_type": "code",
   "execution_count": null,
   "metadata": {
    "collapsed": true
   },
   "outputs": [],
   "source": []
  },
  {
   "cell_type": "code",
   "execution_count": 69,
   "metadata": {
    "collapsed": true
   },
   "outputs": [],
   "source": [
    "most_sig.index = most_sig.gene"
   ]
  },
  {
   "cell_type": "code",
   "execution_count": 71,
   "metadata": {
    "collapsed": true
   },
   "outputs": [],
   "source": [
    "most_sig_f = most_sig.ix[sig_variants_f.gene]"
   ]
  },
  {
   "cell_type": "code",
   "execution_count": 178,
   "metadata": {
    "collapsed": false
   },
   "outputs": [
    {
     "name": "stdout",
     "output_type": "stream",
     "text": [
      "389 of my putative causal variants are also the most significant variants\n"
     ]
    }
   ],
   "source": [
    "n = len(set(sig_variants_f.index) & set(most_sig_f.index))\n",
    "print('{:,} of my putative causal variants are also the most significant variants'.format(n))"
   ]
  },
  {
   "cell_type": "raw",
   "metadata": {},
   "source": [
    "s = '\\n'.join(interactions[interactions.intra & interactions.pin_loop].loop.apply(\n",
    "        lambda x: '\\t'.join(cpb.general.parse_region(x)))) + '\\n'\n",
    "loop_bt = pbt.BedTool(s, from_string=True)\n",
    "loop_bt = loop_bt.sort()"
   ]
  },
  {
   "cell_type": "raw",
   "metadata": {},
   "source": [
    "s = '\\n'.join(sig_variants_f.variant.apply(\n",
    "        lambda x: '\\t'.join(cpb.general.parse_region(x)))) + '\\n'\n",
    "var_bt = pbt.BedTool(s, from_string=True)\n",
    "var_bt = var_bt.sort()\n",
    "\n",
    "res = var_bt.intersect(loop_bt, wo=True, sorted=True)\n",
    "d = {}\n",
    "for r in res:\n",
    "    ind = '{}:{}-{}'.format(r.chrom, r.start, r.end)\n",
    "    d[ind] = d.get(ind, set()) | set(['{}:{}-{}'.format(*r.fields[-4:-1])])\n",
    "se = pd.Series(d)\n",
    "    \n",
    "sig_variants_f = sig_variants_f.merge(pd.DataFrame({'variant_loops': se}), \n",
    "                                      left_on='variant', right_index=True, how='left')\n",
    "\n",
    "sig_variants_f['gene_loops'] = gene_to_containing_interactions[sig_variants_f.gene].values"
   ]
  },
  {
   "cell_type": "raw",
   "metadata": {},
   "source": [
    "t = sig_variants_f[(sig_variants_f.variant_loops.isnull() == False) & \n",
    "                   (sig_variants_f.gene_loops.isnull() == False)]\n",
    "intersect = t.apply(lambda x: x['variant_loops'] & x['gene_loops'], axis=1)"
   ]
  },
  {
   "cell_type": "raw",
   "metadata": {},
   "source": [
    "most_sig['variant'] = (most_sig.chrom + ':' + most_sig.start.astype(str) + \n",
    "                       '-' + most_sig.end.astype(str))\n",
    "most_sig.index = [x.split(':')[-1] for x in most_sig.index]"
   ]
  },
  {
   "cell_type": "raw",
   "metadata": {},
   "source": [
    "s = '\\n'.join(most_sig_f.variant.apply(\n",
    "        lambda x: '\\t'.join(cpb.general.parse_region(x)))) + '\\n'\n",
    "var_bt = pbt.BedTool(s, from_string=True)\n",
    "var_bt = var_bt.sort()\n",
    "\n",
    "res = var_bt.intersect(loop_bt, wo=True, sorted=True)\n",
    "d = {}\n",
    "for r in res:\n",
    "    ind = '{}:{}-{}'.format(r.chrom, r.start, r.end)\n",
    "    d[ind] = d.get(ind, set()) | set(['{}:{}-{}'.format(*r.fields[-4:-1])])\n",
    "se = pd.Series(d)\n",
    "    \n",
    "most_sig_f = most_sig_f.merge(pd.DataFrame({'variant_loops': se}), \n",
    "                              left_on='variant', right_index=True, how='left')\n",
    "\n",
    "most_sig_f['gene_loops'] = gene_to_containing_interactions[most_sig_f.index].values"
   ]
  },
  {
   "cell_type": "raw",
   "metadata": {},
   "source": [
    "t = most_sig_f[(most_sig_f.variant_loops.isnull() == False) & \n",
    "               (most_sig_f.gene_loops.isnull() == False)]\n",
    "ms_intersect = t.apply(lambda x: x['variant_loops'] & x['gene_loops'], axis=1)"
   ]
  },
  {
   "cell_type": "raw",
   "metadata": {},
   "source": [
    "intersect.apply(lambda x: len(x) > 0).value_counts()"
   ]
  },
  {
   "cell_type": "raw",
   "metadata": {},
   "source": [
    "ms_intersect.apply(lambda x: len(x) > 0).value_counts()"
   ]
  },
  {
   "cell_type": "markdown",
   "metadata": {},
   "source": [
    "TODO: Add in RNA pol2 chia pet? Adds some slop to stuff to get more overlaps?"
   ]
  },
  {
   "cell_type": "code",
   "execution_count": 72,
   "metadata": {
    "collapsed": false
   },
   "outputs": [],
   "source": [
    "s = '\\n'.join(sig_variants_f.variant.apply(\n",
    "        lambda x: '\\t'.join(cpb.general.parse_region(x)))) + '\\n'\n",
    "var_bt = pbt.BedTool(s, from_string=True)\n",
    "var_bt = var_bt.sort()\n",
    "res = var_bt.intersect(chia_peaks, wo=True, sorted=True)\n",
    "d = {}\n",
    "for r in res:\n",
    "    ind = '{}:{}-{}'.format(r.chrom, r.start, r.end)\n",
    "    d[ind] = d.get(ind, set()) | set(['{}:{}-{}'.format(*r.fields[-4:-1])])\n",
    "se = pd.Series(d)\n",
    "    \n",
    "sig_variants_f = sig_variants_f.merge(pd.DataFrame({'chia_peaks': se}), \n",
    "                                      left_on='variant', right_index=True, how='left')"
   ]
  },
  {
   "cell_type": "code",
   "execution_count": 73,
   "metadata": {
    "collapsed": false
   },
   "outputs": [],
   "source": [
    "s = '\\n'.join(most_sig_f.variant.apply(\n",
    "        lambda x: '\\t'.join(cpb.general.parse_region(x)))) + '\\n'\n",
    "var_bt = pbt.BedTool(s, from_string=True)\n",
    "var_bt = var_bt.sort()\n",
    "res = var_bt.intersect(chia_peaks, wo=True, sorted=True)\n",
    "d = {}\n",
    "for r in res:\n",
    "    ind = '{}:{}-{}'.format(r.chrom, r.start, r.end)\n",
    "    d[ind] = d.get(ind, set()) | set(['{}:{}-{}'.format(*r.fields[-4:-1])])\n",
    "se = pd.Series(d)\n",
    "    \n",
    "most_sig_f = most_sig_f.merge(pd.DataFrame({'chia_peaks': se}), \n",
    "                              left_on='variant', right_index=True, how='left')"
   ]
  },
  {
   "cell_type": "code",
   "execution_count": 74,
   "metadata": {
    "collapsed": false
   },
   "outputs": [
    {
     "data": {
      "text/html": [
       "<div>\n",
       "<table border=\"1\" class=\"dataframe\">\n",
       "  <thead>\n",
       "    <tr style=\"text-align: right;\">\n",
       "      <th></th>\n",
       "      <th>gene_name</th>\n",
       "      <th>gene_type</th>\n",
       "      <th>chrom</th>\n",
       "      <th>start</th>\n",
       "      <th>end</th>\n",
       "      <th>strand</th>\n",
       "      <th>gene_status</th>\n",
       "      <th>source</th>\n",
       "      <th>level</th>\n",
       "    </tr>\n",
       "    <tr>\n",
       "      <th>gene_id</th>\n",
       "      <th></th>\n",
       "      <th></th>\n",
       "      <th></th>\n",
       "      <th></th>\n",
       "      <th></th>\n",
       "      <th></th>\n",
       "      <th></th>\n",
       "      <th></th>\n",
       "      <th></th>\n",
       "    </tr>\n",
       "  </thead>\n",
       "  <tbody>\n",
       "    <tr>\n",
       "      <th>ENSG00000204531.11</th>\n",
       "      <td>POU5F1</td>\n",
       "      <td>protein_coding</td>\n",
       "      <td>chr6</td>\n",
       "      <td>31132118</td>\n",
       "      <td>31148508</td>\n",
       "      <td>-</td>\n",
       "      <td>KNOWN</td>\n",
       "      <td>HAVANA</td>\n",
       "      <td>1</td>\n",
       "    </tr>\n",
       "  </tbody>\n",
       "</table>\n",
       "</div>"
      ],
      "text/plain": [
       "                   gene_name       gene_type chrom     start       end strand  \\\n",
       "gene_id                                                                         \n",
       "ENSG00000204531.11    POU5F1  protein_coding  chr6  31132118  31148508      -   \n",
       "\n",
       "                   gene_status  source  level  \n",
       "gene_id                                        \n",
       "ENSG00000204531.11       KNOWN  HAVANA      1  "
      ]
     },
     "execution_count": 74,
     "metadata": {},
     "output_type": "execute_result"
    }
   ],
   "source": [
    "gene_info[gene_info.gene_name == 'POU5F1']"
   ]
  },
  {
   "cell_type": "code",
   "execution_count": 92,
   "metadata": {
    "collapsed": false
   },
   "outputs": [],
   "source": [
    "se = sig_variants_f[sig_variants_f.gene == 'ENSG00000204531.11']"
   ]
  },
  {
   "cell_type": "code",
   "execution_count": 107,
   "metadata": {
    "collapsed": false
   },
   "outputs": [
    {
     "data": {
      "text/html": [
       "<div>\n",
       "<table border=\"1\" class=\"dataframe\">\n",
       "  <thead>\n",
       "    <tr style=\"text-align: right;\">\n",
       "      <th></th>\n",
       "      <th>chrom</th>\n",
       "      <th>beg</th>\n",
       "      <th>end</th>\n",
       "      <th>marker_id</th>\n",
       "      <th>ns</th>\n",
       "      <th>ac</th>\n",
       "      <th>callrate</th>\n",
       "      <th>genocnt</th>\n",
       "      <th>maf</th>\n",
       "      <th>stat</th>\n",
       "      <th>...</th>\n",
       "      <th>TEAD4_tf_disrupted</th>\n",
       "      <th>YY1_tf_disrupted</th>\n",
       "      <th>ZNF143_tf_disrupted</th>\n",
       "      <th>tf_disruption</th>\n",
       "      <th>roadmap_dnase_num</th>\n",
       "      <th>variant_rank</th>\n",
       "      <th>chia_peaks</th>\n",
       "      <th>chia_interaction_peak</th>\n",
       "      <th>chia_interaction_promoter_gene</th>\n",
       "      <th>interacts_with_promoter</th>\n",
       "    </tr>\n",
       "  </thead>\n",
       "  <tbody>\n",
       "    <tr>\n",
       "      <th>chr6:31140007-31140008:ENSG00000204531.11</th>\n",
       "      <td>chr6</td>\n",
       "      <td>31140007</td>\n",
       "      <td>31140008</td>\n",
       "      <td>6:31140008_C/T_rs3132520</td>\n",
       "      <td>207</td>\n",
       "      <td>224</td>\n",
       "      <td>1</td>\n",
       "      <td>44/102/61</td>\n",
       "      <td>0.45894</td>\n",
       "      <td>-5.8286</td>\n",
       "      <td>...</td>\n",
       "      <td>False</td>\n",
       "      <td>False</td>\n",
       "      <td>False</td>\n",
       "      <td>True</td>\n",
       "      <td>4</td>\n",
       "      <td>1</td>\n",
       "      <td>{chr6:31138257-31141629}</td>\n",
       "      <td>{chr6:31156706-31157667}</td>\n",
       "      <td>NaN</td>\n",
       "      <td>NaN</td>\n",
       "    </tr>\n",
       "  </tbody>\n",
       "</table>\n",
       "<p>1 rows × 410 columns</p>\n",
       "</div>"
      ],
      "text/plain": [
       "                                          chrom       beg       end  \\\n",
       "chr6:31140007-31140008:ENSG00000204531.11  chr6  31140007  31140008   \n",
       "\n",
       "                                                          marker_id   ns   ac  \\\n",
       "chr6:31140007-31140008:ENSG00000204531.11  6:31140008_C/T_rs3132520  207  224   \n",
       "\n",
       "                                           callrate    genocnt      maf  \\\n",
       "chr6:31140007-31140008:ENSG00000204531.11         1  44/102/61  0.45894   \n",
       "\n",
       "                                             stat           ...            \\\n",
       "chr6:31140007-31140008:ENSG00000204531.11 -5.8286           ...             \n",
       "\n",
       "                                           TEAD4_tf_disrupted  \\\n",
       "chr6:31140007-31140008:ENSG00000204531.11               False   \n",
       "\n",
       "                                           YY1_tf_disrupted  \\\n",
       "chr6:31140007-31140008:ENSG00000204531.11             False   \n",
       "\n",
       "                                           ZNF143_tf_disrupted  tf_disruption  \\\n",
       "chr6:31140007-31140008:ENSG00000204531.11                False           True   \n",
       "\n",
       "                                           roadmap_dnase_num  variant_rank  \\\n",
       "chr6:31140007-31140008:ENSG00000204531.11                  4             1   \n",
       "\n",
       "                                                         chia_peaks  \\\n",
       "chr6:31140007-31140008:ENSG00000204531.11  {chr6:31138257-31141629}   \n",
       "\n",
       "                                              chia_interaction_peak  \\\n",
       "chr6:31140007-31140008:ENSG00000204531.11  {chr6:31156706-31157667}   \n",
       "\n",
       "                                          chia_interaction_promoter_gene  \\\n",
       "chr6:31140007-31140008:ENSG00000204531.11                            NaN   \n",
       "\n",
       "                                          interacts_with_promoter  \n",
       "chr6:31140007-31140008:ENSG00000204531.11                     NaN  \n",
       "\n",
       "[1 rows x 410 columns]"
      ]
     },
     "execution_count": 107,
     "metadata": {},
     "output_type": "execute_result"
    }
   ],
   "source": [
    "se"
   ]
  },
  {
   "cell_type": "code",
   "execution_count": 104,
   "metadata": {
    "collapsed": false
   },
   "outputs": [],
   "source": [
    "d = se[[x for x in se.columns if 'disrupted' in x]]\n",
    "d = d.ix[d.index[0]]"
   ]
  },
  {
   "cell_type": "code",
   "execution_count": null,
   "metadata": {
    "collapsed": true
   },
   "outputs": [],
   "source": []
  },
  {
   "cell_type": "code",
   "execution_count": 106,
   "metadata": {
    "collapsed": false
   },
   "outputs": [
    {
     "data": {
      "text/plain": [
       "CHD2_disc3_motif_disrupted      True\n",
       "EGR1_known12_motif_disrupted    True\n",
       "CHD2_tf_disrupted               True\n",
       "EGR1_tf_disrupted               True\n",
       "Name: chr6:31140007-31140008:ENSG00000204531.11, dtype: object"
      ]
     },
     "execution_count": 106,
     "metadata": {},
     "output_type": "execute_result"
    }
   ],
   "source": [
    "d[d]"
   ]
  },
  {
   "cell_type": "code",
   "execution_count": null,
   "metadata": {
    "collapsed": true
   },
   "outputs": [],
   "source": []
  },
  {
   "cell_type": "code",
   "execution_count": null,
   "metadata": {
    "collapsed": true
   },
   "outputs": [],
   "source": []
  },
  {
   "cell_type": "code",
   "execution_count": 76,
   "metadata": {
    "collapsed": false
   },
   "outputs": [
    {
     "data": {
      "text/plain": [
       "chrom                              chr6\n",
       "start                          31135171\n",
       "end                            31135172\n",
       "loc                       chr6:31135172\n",
       "marker_id      6:31135172_T/A_rs3130930\n",
       "ns                                  207\n",
       "ac                                  272\n",
       "callrate                              1\n",
       "genocnt                       12/118/77\n",
       "maf                               0.343\n",
       "stat                           -10.0966\n",
       "pvalue                        1.068e-19\n",
       "beta                             -1.023\n",
       "sebeta                           0.1013\n",
       "r2                               0.3332\n",
       "ref                                   T\n",
       "alt                                   A\n",
       "length                                0\n",
       "vtype                               snp\n",
       "pvalue_gene                   9.999e-05\n",
       "qvalue_gene                 0.000280317\n",
       "sig_gene                           True\n",
       "variant          chr6:31135171-31135172\n",
       "gene                 ENSG00000204531.11\n",
       "chia_peaks                          NaN\n",
       "Name: ENSG00000204531.11, dtype: object"
      ]
     },
     "execution_count": 76,
     "metadata": {},
     "output_type": "execute_result"
    }
   ],
   "source": [
    "most_sig_f.ix['ENSG00000204531.11']"
   ]
  },
  {
   "cell_type": "code",
   "execution_count": 77,
   "metadata": {
    "collapsed": false
   },
   "outputs": [],
   "source": [
    "def get_other_end(peaks):\n",
    "    if type(peaks) is set:\n",
    "        other_ends = []\n",
    "        for p in peaks:\n",
    "            other_ends += list(interactions.ix[interactions.peak1 == p, 'peak2'])\n",
    "            other_ends += list(interactions.ix[interactions.peak2 == p, 'peak1'])\n",
    "        return set(other_ends)\n",
    "    else:\n",
    "        return np.nan"
   ]
  },
  {
   "cell_type": "code",
   "execution_count": 78,
   "metadata": {
    "collapsed": false
   },
   "outputs": [],
   "source": [
    "sig_variants_f['chia_interaction_peak'] = sig_variants_f.chia_peaks.apply(lambda x: get_other_end(x))\n",
    "most_sig_f['chia_interaction_peak'] = most_sig_f.chia_peaks.apply(lambda x: get_other_end(x))"
   ]
  },
  {
   "cell_type": "code",
   "execution_count": 79,
   "metadata": {
    "collapsed": true
   },
   "outputs": [],
   "source": [
    "def get_promoter_gene(peaks):\n",
    "    if type(peaks) is set:\n",
    "        peaks = peaks & set(chia_to_promoter_gene.index)\n",
    "        genes = []\n",
    "        for p in peaks:\n",
    "            genes += list(chia_to_promoter_gene[p])\n",
    "        out = set(genes)\n",
    "        if len(out) == 0:\n",
    "            return np.nan\n",
    "        else:\n",
    "            return out\n",
    "    else:\n",
    "        return np.nan"
   ]
  },
  {
   "cell_type": "code",
   "execution_count": 80,
   "metadata": {
    "collapsed": false
   },
   "outputs": [],
   "source": [
    "sig_variants_f['chia_interaction_promoter_gene'] = \\\n",
    "    sig_variants_f.chia_interaction_peak.apply(lambda x: get_promoter_gene(x))\n",
    "most_sig_f['chia_interaction_promoter_gene'] = \\\n",
    "    most_sig_f.chia_interaction_peak.apply(lambda x: get_promoter_gene(x))"
   ]
  },
  {
   "cell_type": "code",
   "execution_count": 81,
   "metadata": {
    "collapsed": false
   },
   "outputs": [],
   "source": [
    "sig_variants_f['interacts_with_promoter'] = np.nan\n",
    "t = sig_variants_f[sig_variants_f.chia_interaction_promoter_gene.isnull() == False]\n",
    "se = t.apply(lambda x: x['gene'] in x['chia_interaction_promoter_gene'], axis=1)\n",
    "sig_variants_f.ix[se.index, 'interacts_with_promoter'] = se"
   ]
  },
  {
   "cell_type": "code",
   "execution_count": 82,
   "metadata": {
    "collapsed": false
   },
   "outputs": [],
   "source": [
    "most_sig_f['interacts_with_promoter'] = np.nan\n",
    "t = most_sig_f[most_sig_f.chia_interaction_promoter_gene.isnull() == False]\n",
    "se = t.apply(lambda x: x['gene'] in x['chia_interaction_promoter_gene'], axis=1)\n",
    "most_sig_f.ix[se.index, 'interacts_with_promoter'] = se"
   ]
  },
  {
   "cell_type": "code",
   "execution_count": 83,
   "metadata": {
    "collapsed": true
   },
   "outputs": [],
   "source": [
    "most_sig_f.index = most_sig_f.variant + ':' + most_sig_f.gene"
   ]
  },
  {
   "cell_type": "code",
   "execution_count": 84,
   "metadata": {
    "collapsed": true
   },
   "outputs": [],
   "source": [
    "s = set(sig_variants_f.index) & set(most_sig_f.index)"
   ]
  },
  {
   "cell_type": "code",
   "execution_count": 85,
   "metadata": {
    "collapsed": false
   },
   "outputs": [
    {
     "data": {
      "text/plain": [
       "(3245, 410)"
      ]
     },
     "execution_count": 85,
     "metadata": {},
     "output_type": "execute_result"
    }
   ],
   "source": [
    "sig_variants_f.drop(s).shape"
   ]
  },
  {
   "cell_type": "code",
   "execution_count": 86,
   "metadata": {
    "collapsed": false
   },
   "outputs": [
    {
     "data": {
      "text/plain": [
       "115"
      ]
     },
     "execution_count": 86,
     "metadata": {},
     "output_type": "execute_result"
    }
   ],
   "source": [
    "sig_variants_f.drop(s).interacts_with_promoter.sum()"
   ]
  },
  {
   "cell_type": "code",
   "execution_count": 87,
   "metadata": {
    "collapsed": false
   },
   "outputs": [
    {
     "data": {
      "text/plain": [
       "(3245, 28)"
      ]
     },
     "execution_count": 87,
     "metadata": {},
     "output_type": "execute_result"
    }
   ],
   "source": [
    "most_sig_f.drop(s).shape"
   ]
  },
  {
   "cell_type": "code",
   "execution_count": 88,
   "metadata": {
    "collapsed": false
   },
   "outputs": [
    {
     "data": {
      "text/plain": [
       "34"
      ]
     },
     "execution_count": 88,
     "metadata": {},
     "output_type": "execute_result"
    }
   ],
   "source": [
    "most_sig_f.drop(s).interacts_with_promoter.sum()"
   ]
  },
  {
   "cell_type": "code",
   "execution_count": 89,
   "metadata": {
    "collapsed": true
   },
   "outputs": [],
   "source": [
    "import scipy.stats as stats"
   ]
  },
  {
   "cell_type": "code",
   "execution_count": 91,
   "metadata": {
    "collapsed": false
   },
   "outputs": [
    {
     "data": {
      "text/plain": [
       "(3.4698834805487691, 1.0375041062279499e-11)"
      ]
     },
     "execution_count": 91,
     "metadata": {},
     "output_type": "execute_result"
    }
   ],
   "source": [
    "stats.fisher_exact([[115, 3245 - 115], [34, 3245 - 34]])"
   ]
  },
  {
   "cell_type": "code",
   "execution_count": 539,
   "metadata": {
    "collapsed": false
   },
   "outputs": [
    {
     "name": "stdout",
     "output_type": "stream",
     "text": [
      "chrom\n",
      "beg\n",
      "end\n",
      "marker_id\n",
      "ns\n",
      "ac\n",
      "callrate\n",
      "genocnt\n",
      "maf\n",
      "stat\n",
      "pvalue\n",
      "beta\n",
      "sebeta\n",
      "r2\n",
      "perm_pval\n",
      "gene\n",
      "variant\n",
      "most_sig_variant\n",
      "variant_gene\n",
      "nmd_num_transcripts\n",
      "nmd_percent_transcripts_nmd\n",
      "nmd\n",
      "gene_has_nmd_variant\n",
      "exonic_same_gene\n",
      "exonic\n",
      "gene_has_exonic_variant\n",
      "gene_has_exonic_same_gene_variant\n",
      "utr_same_gene\n",
      "utr\n",
      "gene_has_utr_variant\n",
      "gene_has_utr_same_gene_variant\n",
      "tss_dist\n",
      "tss_dist_abs\n",
      "rs_maurano\n",
      "numhets_maurano\n",
      "allele.1_maurano\n",
      "readsA_maurano\n",
      "allele.2_maurano\n",
      "readsB_maurano\n",
      "totalReads_maurano\n",
      "pctRef_maurano\n",
      "q.value_maurano\n",
      "significance.level_maurano\n",
      "rsid_maurano_tf\n",
      "pred.fit.pctSig_maurano_tf\n",
      "strand_maurano_tf\n",
      "motifname_maurano_tf\n",
      "position_maurano_tf\n",
      "genotypes_maurano_tf\n",
      "iPS_DF_6.9_roadmap_dnase\n",
      "iPS_DF_19.11_roadmap_dnase\n",
      "H1_roadmap_dnase\n",
      "H9_roadmap_dnase\n",
      "iPSC_ENCSR000EKK_dnase\n",
      "iPSC_ENCSR000EKJ_dnase\n",
      "iPSC_ENCSR000EKI_dnase\n",
      "iPSC_ENCSR000EKH_dnase\n",
      "H7-hESC_ENCSR000EMZ_dnase\n",
      "H1-hESC_ENCSR000EMU_dnase\n",
      "H9_ENCSR000EJP_dnase\n",
      "H7-hESC_ENCSR000EJO_dnase\n",
      "H1-hESC_ENCSR000EJN_dnase\n",
      "SUZ12_tf_chip\n",
      "MAX_tf_chip\n",
      "CTBP2_tf_chip\n",
      "ZNF274_tf_chip\n",
      "RFX5_tf_chip\n",
      "RAD21_tf_chip\n",
      "USF2_tf_chip\n",
      "NRF1_tf_chip\n",
      "TBP_tf_chip\n",
      "JUN_tf_chip\n",
      "JUND_tf_chip\n",
      "MYC_tf_chip\n",
      "BRCA1_tf_chip\n",
      "ZNF143_tf_chip\n",
      "CEBPB_tf_chip\n",
      "CHD1_tf_chip\n",
      "CHD2_tf_chip\n",
      "MAFK_tf_chip\n",
      "MXI1_tf_chip\n",
      "BACH1_tf_chip\n",
      "GTF2F1_tf_chip\n",
      "SIN3A_tf_chip\n",
      "H3K27me3_tf_chip\n",
      "H3K36me3_tf_chip\n",
      "H3K4me3_tf_chip\n",
      "CTCF_tf_chip\n",
      "POLR2A_tf_chip\n",
      "TEAD4_tf_chip\n",
      "SP4_tf_chip\n",
      "ATF2_tf_chip\n",
      "SP2_tf_chip\n",
      "FOSL1_tf_chip\n",
      "HDAC2_tf_chip\n",
      "POU5F1_tf_chip\n",
      "NANOG_tf_chip\n",
      "TAF7_tf_chip\n",
      "EP300_tf_chip\n",
      "YY1_tf_chip\n",
      "ATF3_tf_chip\n",
      "RXRA_tf_chip\n",
      "EGR1_tf_chip\n",
      "GABPA_tf_chip\n",
      "SRF_tf_chip\n",
      "USF1_tf_chip\n",
      "TCF12_tf_chip\n",
      "SP1_tf_chip\n",
      "SIX5_tf_chip\n",
      "BCL11A_tf_chip\n",
      "POLR2AphosphoS5_tf_chip\n",
      "TAF1_tf_chip\n",
      "REST_tf_chip\n",
      "RBBP5_tf_chip\n",
      "EZH2_tf_chip\n",
      "KDM5A_tf_chip\n",
      "ref_allele\n",
      "alt_allele\n",
      "AP1_disc1_motif_disrupted\n",
      "AP1_disc4_motif_disrupted\n",
      "AP1_disc6_motif_disrupted\n",
      "AP1_disc8_motif_disrupted\n",
      "AP1_disc9_motif_disrupted\n",
      "ATF2_1_motif_disrupted\n",
      "ATF2_2_motif_disrupted\n",
      "ATF3_disc1_motif_disrupted\n",
      "ATF3_disc2_motif_disrupted\n",
      "ATF3_disc3_motif_disrupted\n",
      "ATF3_disc4_motif_disrupted\n",
      "ATF3_known9_motif_disrupted\n",
      "BACH1_1_motif_disrupted\n",
      "BCL_disc2_motif_disrupted\n",
      "BCL_disc4_motif_disrupted\n",
      "BRCA1_disc1_motif_disrupted\n",
      "BRCA1_known1_motif_disrupted\n",
      "BRCA1_known2_motif_disrupted\n",
      "CEBPB_disc1_motif_disrupted\n",
      "CEBPB_disc2_motif_disrupted\n",
      "CEBPB_known1_motif_disrupted\n",
      "CEBPB_known10_motif_disrupted\n",
      "CEBPB_known2_motif_disrupted\n",
      "CEBPB_known8_motif_disrupted\n",
      "CEBPB_known9_motif_disrupted\n",
      "CHD2_disc1_motif_disrupted\n",
      "CHD2_disc2_motif_disrupted\n",
      "CHD2_disc3_motif_disrupted\n",
      "CTCF_disc1_motif_disrupted\n",
      "CTCF_disc10_motif_disrupted\n",
      "CTCF_disc2_motif_disrupted\n",
      "CTCF_disc3_motif_disrupted\n",
      "CTCF_disc4_motif_disrupted\n",
      "CTCF_disc5_motif_disrupted\n",
      "CTCF_disc6_motif_disrupted\n",
      "CTCF_disc7_motif_disrupted\n",
      "CTCF_disc8_motif_disrupted\n",
      "CTCF_disc9_motif_disrupted\n",
      "CTCF_known1_motif_disrupted\n",
      "CTCF_known2_motif_disrupted\n",
      "EGR1_disc1_motif_disrupted\n",
      "EGR1_disc2_motif_disrupted\n",
      "EGR1_disc3_motif_disrupted\n",
      "EGR1_disc4_motif_disrupted\n",
      "EGR1_disc5_motif_disrupted\n",
      "EGR1_disc6_motif_disrupted\n",
      "EGR1_disc7_motif_disrupted\n",
      "EGR1_known1_motif_disrupted\n",
      "EGR1_known12_motif_disrupted\n",
      "EGR1_known5_motif_disrupted\n",
      "EGR1_known6_motif_disrupted\n",
      "EGR1_known7_motif_disrupted\n",
      "EGR1_known8_motif_disrupted\n",
      "EGR1_known9_motif_disrupted\n",
      "EP300_disc1_motif_disrupted\n",
      "EP300_disc10_motif_disrupted\n",
      "EP300_disc2_motif_disrupted\n",
      "EP300_disc3_motif_disrupted\n",
      "EP300_disc4_motif_disrupted\n",
      "EP300_disc5_motif_disrupted\n",
      "EP300_disc6_motif_disrupted\n",
      "EP300_disc7_motif_disrupted\n",
      "EP300_disc8_motif_disrupted\n",
      "EP300_disc9_motif_disrupted\n",
      "EP300_known1_motif_disrupted\n",
      "ETS_disc2_motif_disrupted\n",
      "ETS_disc4_motif_disrupted\n",
      "ETS_disc8_motif_disrupted\n",
      "ETS_disc9_motif_disrupted\n",
      "ETS_known10_motif_disrupted\n",
      "ETS_known18_motif_disrupted\n",
      "ETS_known9_motif_disrupted\n",
      "HDAC2_disc1_motif_disrupted\n",
      "HDAC2_disc2_motif_disrupted\n",
      "HDAC2_disc3_motif_disrupted\n",
      "HDAC2_disc4_motif_disrupted\n",
      "HDAC2_disc5_motif_disrupted\n",
      "HDAC2_disc6_motif_disrupted\n",
      "MAF_disc1_motif_disrupted\n",
      "MAF_known5_motif_disrupted\n",
      "MAF_known6_motif_disrupted\n",
      "MAF_known7_motif_disrupted\n",
      "MAF_known8_motif_disrupted\n",
      "MAF_known9_motif_disrupted\n",
      "MXI1_disc1_motif_disrupted\n",
      "MXI1_disc2_motif_disrupted\n",
      "MYC_disc1_motif_disrupted\n",
      "MYC_disc10_motif_disrupted\n",
      "MYC_disc2_motif_disrupted\n",
      "MYC_disc3_motif_disrupted\n",
      "MYC_disc4_motif_disrupted\n",
      "MYC_disc5_motif_disrupted\n",
      "MYC_disc6_motif_disrupted\n",
      "MYC_disc7_motif_disrupted\n",
      "MYC_disc8_motif_disrupted\n",
      "MYC_disc9_motif_disrupted\n",
      "MYC_known10_motif_disrupted\n",
      "MYC_known12_motif_disrupted\n",
      "MYC_known13_motif_disrupted\n",
      "MYC_known14_motif_disrupted\n",
      "MYC_known15_motif_disrupted\n",
      "MYC_known17_motif_disrupted\n",
      "MYC_known18_motif_disrupted\n",
      "MYC_known19_motif_disrupted\n",
      "MYC_known2_motif_disrupted\n",
      "MYC_known20_motif_disrupted\n",
      "MYC_known21_motif_disrupted\n",
      "MYC_known22_motif_disrupted\n",
      "NANOG_disc1_motif_disrupted\n",
      "NANOG_disc2_motif_disrupted\n",
      "NANOG_disc3_motif_disrupted\n",
      "NANOG_disc4_motif_disrupted\n",
      "NANOG_known1_motif_disrupted\n",
      "NRF1_disc1_motif_disrupted\n",
      "NRF1_disc2_motif_disrupted\n",
      "NRF1_disc3_motif_disrupted\n",
      "NRF1_known1_motif_disrupted\n",
      "NRF1_known2_motif_disrupted\n",
      "POU5F1_disc1_motif_disrupted\n",
      "POU5F1_disc2_motif_disrupted\n",
      "POU5F1_known1_motif_disrupted\n",
      "POU5F1_known2_motif_disrupted\n",
      "POU5F1_known3_motif_disrupted\n",
      "RAD21_disc1_motif_disrupted\n",
      "RAD21_disc10_motif_disrupted\n",
      "RAD21_disc2_motif_disrupted\n",
      "RAD21_disc3_motif_disrupted\n",
      "RAD21_disc4_motif_disrupted\n",
      "RAD21_disc5_motif_disrupted\n",
      "RAD21_disc6_motif_disrupted\n",
      "RAD21_disc7_motif_disrupted\n",
      "RAD21_disc8_motif_disrupted\n",
      "RAD21_disc9_motif_disrupted\n",
      "REST_disc1_motif_disrupted\n",
      "REST_disc10_motif_disrupted\n",
      "REST_disc2_motif_disrupted\n",
      "REST_disc3_motif_disrupted\n",
      "REST_disc4_motif_disrupted\n",
      "REST_disc5_motif_disrupted\n",
      "REST_disc6_motif_disrupted\n",
      "REST_disc7_motif_disrupted\n",
      "REST_disc8_motif_disrupted\n",
      "REST_disc9_motif_disrupted\n",
      "REST_known1_motif_disrupted\n",
      "REST_known2_motif_disrupted\n",
      "REST_known3_motif_disrupted\n",
      "REST_known4_motif_disrupted\n",
      "RFX5_disc1_motif_disrupted\n",
      "RFX5_disc2_motif_disrupted\n",
      "RFX5_disc3_motif_disrupted\n",
      "RFX5_known8_motif_disrupted\n",
      "RFX5_known9_motif_disrupted\n",
      "RXRA_disc2_motif_disrupted\n",
      "RXRA_disc3_motif_disrupted\n",
      "RXRA_disc4_motif_disrupted\n",
      "RXRA_disc5_motif_disrupted\n",
      "RXRA_known10_motif_disrupted\n",
      "RXRA_known11_motif_disrupted\n",
      "RXRA_known12_motif_disrupted\n",
      "RXRA_known13_motif_disrupted\n",
      "RXRA_known14_motif_disrupted\n",
      "RXRA_known15_motif_disrupted\n",
      "RXRA_known3_motif_disrupted\n",
      "RXRA_known4_motif_disrupted\n",
      "RXRA_known6_motif_disrupted\n",
      "RXRA_known8_motif_disrupted\n",
      "RXRA_known9_motif_disrupted\n",
      "SIN3A_disc1_motif_disrupted\n",
      "SIN3A_disc2_motif_disrupted\n",
      "SIN3A_disc3_motif_disrupted\n",
      "SIN3A_disc4_motif_disrupted\n",
      "SIN3A_disc5_motif_disrupted\n",
      "SIN3A_disc6_motif_disrupted\n",
      "SIN3A_disc7_motif_disrupted\n",
      "SIX5_disc1_motif_disrupted\n",
      "SIX5_disc2_motif_disrupted\n",
      "SIX5_disc3_motif_disrupted\n",
      "SIX5_disc4_motif_disrupted\n",
      "SP1_disc1_motif_disrupted\n",
      "SP1_disc2_motif_disrupted\n",
      "SP1_disc3_motif_disrupted\n",
      "SP1_known1_motif_disrupted\n",
      "SP1_known2_motif_disrupted\n",
      "SP1_known4_motif_disrupted\n",
      "SP1_known5_motif_disrupted\n",
      "SP1_known6_motif_disrupted\n",
      "SP1_known7_motif_disrupted\n",
      "SP1_known8_motif_disrupted\n",
      "SP2_disc1_motif_disrupted\n",
      "SP2_disc2_motif_disrupted\n",
      "SP2_disc3_motif_disrupted\n",
      "SP4_1_motif_disrupted\n",
      "SP4_2_motif_disrupted\n",
      "SRF_disc1_motif_disrupted\n",
      "SRF_disc2_motif_disrupted\n",
      "SRF_known1_motif_disrupted\n",
      "SRF_known10_motif_disrupted\n",
      "SRF_known2_motif_disrupted\n",
      "SRF_known3_motif_disrupted\n",
      "SRF_known4_motif_disrupted\n",
      "SRF_known5_motif_disrupted\n",
      "SRF_known6_motif_disrupted\n",
      "SRF_known7_motif_disrupted\n",
      "SRF_known8_motif_disrupted\n",
      "SRF_known9_motif_disrupted\n",
      "TATA_disc1_motif_disrupted\n",
      "TATA_disc10_motif_disrupted\n",
      "TATA_disc2_motif_disrupted\n",
      "TATA_disc3_motif_disrupted\n",
      "TATA_disc4_motif_disrupted\n",
      "TATA_disc5_motif_disrupted\n",
      "TATA_disc6_motif_disrupted\n",
      "TATA_disc7_motif_disrupted\n",
      "TATA_disc8_motif_disrupted\n",
      "TATA_disc9_motif_disrupted\n",
      "TATA_known1_motif_disrupted\n",
      "TATA_known2_motif_disrupted\n",
      "TATA_known3_motif_disrupted\n",
      "TATA_known4_motif_disrupted\n",
      "TATA_known5_motif_disrupted\n",
      "TATA_known6_motif_disrupted\n",
      "TCF12_disc1_motif_disrupted\n",
      "TCF12_disc2_motif_disrupted\n",
      "TCF12_disc3_motif_disrupted\n",
      "TCF12_disc4_motif_disrupted\n",
      "TCF12_disc5_motif_disrupted\n",
      "TCF12_disc6_motif_disrupted\n",
      "TCF12_known1_motif_disrupted\n",
      "TEAD4_1_motif_disrupted\n",
      "YY1_disc1_motif_disrupted\n",
      "YY1_disc2_motif_disrupted\n",
      "YY1_disc3_motif_disrupted\n",
      "YY1_disc4_motif_disrupted\n",
      "YY1_disc5_motif_disrupted\n",
      "YY1_known1_motif_disrupted\n",
      "YY1_known2_motif_disrupted\n",
      "YY1_known3_motif_disrupted\n",
      "YY1_known4_motif_disrupted\n",
      "YY1_known5_motif_disrupted\n",
      "YY1_known6_motif_disrupted\n",
      "YY1_known7_motif_disrupted\n",
      "ZNF143_disc1_motif_disrupted\n",
      "ZNF143_disc2_motif_disrupted\n",
      "ZNF143_disc3_motif_disrupted\n",
      "ZNF143_disc4_motif_disrupted\n",
      "ZNF143_known1_motif_disrupted\n",
      "ZNF143_known2_motif_disrupted\n",
      "AP1_tf_disrupted\n",
      "ATF2_tf_disrupted\n",
      "ATF3_tf_disrupted\n",
      "BACH1_tf_disrupted\n",
      "BCL_tf_disrupted\n",
      "BRCA1_tf_disrupted\n",
      "CEBPB_tf_disrupted\n",
      "CHD2_tf_disrupted\n",
      "CTCF_tf_disrupted\n",
      "EGR1_tf_disrupted\n",
      "EP300_tf_disrupted\n",
      "ETS_tf_disrupted\n",
      "HDAC2_tf_disrupted\n",
      "MAF_tf_disrupted\n",
      "MXI1_tf_disrupted\n",
      "MYC_tf_disrupted\n",
      "NANOG_tf_disrupted\n",
      "NRF1_tf_disrupted\n",
      "POU5F1_tf_disrupted\n",
      "RAD21_tf_disrupted\n",
      "REST_tf_disrupted\n",
      "RFX5_tf_disrupted\n",
      "RXRA_tf_disrupted\n",
      "SIN3A_tf_disrupted\n",
      "SIX5_tf_disrupted\n",
      "SP1_tf_disrupted\n",
      "SP2_tf_disrupted\n",
      "SP4_tf_disrupted\n",
      "SRF_tf_disrupted\n",
      "TATA_tf_disrupted\n",
      "TCF12_tf_disrupted\n",
      "TEAD4_tf_disrupted\n",
      "YY1_tf_disrupted\n",
      "ZNF143_tf_disrupted\n",
      "tf_disruption\n",
      "promoter_same_gene\n",
      "promoter\n",
      "gene_has_promoter_same_gene_variant\n",
      "roadmap_dnase_num\n",
      "variant_rank\n",
      "chia_peaks\n",
      "chia_interaction_peak\n",
      "chia_interaction_promoter_gene\n",
      "interacts_with_promoter\n"
     ]
    }
   ],
   "source": [
    "print('\\n'.join(sig_variants_f.columns))"
   ]
  },
  {
   "cell_type": "code",
   "execution_count": 534,
   "metadata": {
    "collapsed": false
   },
   "outputs": [
    {
     "data": {
      "text/plain": [
       "True     2388\n",
       "False    1242\n",
       "Name: tf_disruption, dtype: int64"
      ]
     },
     "execution_count": 534,
     "metadata": {},
     "output_type": "execute_result"
    }
   ],
   "source": [
    "sig_variants_f.tf_disruption.value_counts()"
   ]
  },
  {
   "cell_type": "code",
   "execution_count": 537,
   "metadata": {
    "collapsed": false
   },
   "outputs": [
    {
     "data": {
      "text/plain": [
       "imbalanced_(5%_FDR)      1043\n",
       "not_imbalanced            711\n",
       "imbalanced_(0.1%_FDR)      98\n",
       "Name: significance.level_maurano, dtype: int64"
      ]
     },
     "execution_count": 537,
     "metadata": {},
     "output_type": "execute_result"
    }
   ],
   "source": [
    "sig_variants_f['significance.level_maurano'].value_counts()"
   ]
  },
  {
   "cell_type": "code",
   "execution_count": 635,
   "metadata": {
    "collapsed": false
   },
   "outputs": [],
   "source": [
    "se = sig_variants_f[[x for x in sig_variants_f.columns if '_tf_disrupted' in x]].sum()\n",
    "se.sort_values(inplace=True, ascending=False)\n",
    "\n",
    "motif_cols = [x for x in sig_variants_f.columns if '_motif_disrupted' in x]\n",
    "tdf = sig_variants_f[sig_variants_f.tf_disruption]\n",
    "\n",
    "direction = []\n",
    "motifs = []\n",
    "for tf in motif_cols:\n",
    "    t = tdf[tdf[tf] == True]\n",
    "    if t.shape[0] > 0:\n",
    "        motifs.append(tf)\n",
    "        beta = t.beta\n",
    "        beta.index = t.variant\n",
    "        d = motif_d.ix[t.variant, '_'.join(tf.split('_')[0:2])]\n",
    "        c = pd.crosstab(beta > 0, d > 0)\n",
    "        a = 0\n",
    "        if True in c.index and True in c.columns:\n",
    "            a += c.ix[True, True]\n",
    "        if False in c.index and False in c.columns:\n",
    "            a += c.ix[False, False]\n",
    "        b = 0\n",
    "        if True in c.index and False in c.columns:\n",
    "            b += c.ix[True, False]\n",
    "        if False in c.index and True in c.columns:\n",
    "            b += c.ix[False, True]\n",
    "        direction.append([a, b])"
   ]
  },
  {
   "cell_type": "code",
   "execution_count": 639,
   "metadata": {
    "collapsed": true
   },
   "outputs": [],
   "source": [
    "df = pd.DataFrame(direction, index=motifs, columns=['repress', 'activate'])\n",
    "df['tf'] = [x.split('_')[0] for x in df.index]"
   ]
  },
  {
   "cell_type": "code",
   "execution_count": 650,
   "metadata": {
    "collapsed": true
   },
   "outputs": [],
   "source": [
    "tf = df.groupby('tf').sum()"
   ]
  },
  {
   "cell_type": "code",
   "execution_count": 655,
   "metadata": {
    "collapsed": false
   },
   "outputs": [
    {
     "data": {
      "text/html": [
       "<div>\n",
       "<table border=\"1\" class=\"dataframe\">\n",
       "  <thead>\n",
       "    <tr style=\"text-align: right;\">\n",
       "      <th></th>\n",
       "      <th>repress</th>\n",
       "      <th>activate</th>\n",
       "    </tr>\n",
       "    <tr>\n",
       "      <th>tf</th>\n",
       "      <th></th>\n",
       "      <th></th>\n",
       "    </tr>\n",
       "  </thead>\n",
       "  <tbody>\n",
       "    <tr>\n",
       "      <th>AP1</th>\n",
       "      <td>11</td>\n",
       "      <td>13</td>\n",
       "    </tr>\n",
       "    <tr>\n",
       "      <th>ATF2</th>\n",
       "      <td>5</td>\n",
       "      <td>8</td>\n",
       "    </tr>\n",
       "    <tr>\n",
       "      <th>ATF3</th>\n",
       "      <td>48</td>\n",
       "      <td>56</td>\n",
       "    </tr>\n",
       "    <tr>\n",
       "      <th>BACH1</th>\n",
       "      <td>4</td>\n",
       "      <td>3</td>\n",
       "    </tr>\n",
       "    <tr>\n",
       "      <th>BCL</th>\n",
       "      <td>2</td>\n",
       "      <td>3</td>\n",
       "    </tr>\n",
       "    <tr>\n",
       "      <th>BRCA1</th>\n",
       "      <td>16</td>\n",
       "      <td>6</td>\n",
       "    </tr>\n",
       "    <tr>\n",
       "      <th>CEBPB</th>\n",
       "      <td>21</td>\n",
       "      <td>24</td>\n",
       "    </tr>\n",
       "    <tr>\n",
       "      <th>CHD2</th>\n",
       "      <td>42</td>\n",
       "      <td>44</td>\n",
       "    </tr>\n",
       "    <tr>\n",
       "      <th>CTCF</th>\n",
       "      <td>281</td>\n",
       "      <td>221</td>\n",
       "    </tr>\n",
       "    <tr>\n",
       "      <th>EGR1</th>\n",
       "      <td>311</td>\n",
       "      <td>249</td>\n",
       "    </tr>\n",
       "    <tr>\n",
       "      <th>EP300</th>\n",
       "      <td>86</td>\n",
       "      <td>92</td>\n",
       "    </tr>\n",
       "    <tr>\n",
       "      <th>ETS</th>\n",
       "      <td>69</td>\n",
       "      <td>74</td>\n",
       "    </tr>\n",
       "    <tr>\n",
       "      <th>HDAC2</th>\n",
       "      <td>15</td>\n",
       "      <td>19</td>\n",
       "    </tr>\n",
       "    <tr>\n",
       "      <th>MAF</th>\n",
       "      <td>15</td>\n",
       "      <td>11</td>\n",
       "    </tr>\n",
       "    <tr>\n",
       "      <th>MXI1</th>\n",
       "      <td>23</td>\n",
       "      <td>31</td>\n",
       "    </tr>\n",
       "    <tr>\n",
       "      <th>MYC</th>\n",
       "      <td>168</td>\n",
       "      <td>183</td>\n",
       "    </tr>\n",
       "    <tr>\n",
       "      <th>NANOG</th>\n",
       "      <td>11</td>\n",
       "      <td>18</td>\n",
       "    </tr>\n",
       "    <tr>\n",
       "      <th>NRF1</th>\n",
       "      <td>60</td>\n",
       "      <td>52</td>\n",
       "    </tr>\n",
       "    <tr>\n",
       "      <th>POU5F1</th>\n",
       "      <td>17</td>\n",
       "      <td>21</td>\n",
       "    </tr>\n",
       "    <tr>\n",
       "      <th>RAD21</th>\n",
       "      <td>237</td>\n",
       "      <td>234</td>\n",
       "    </tr>\n",
       "    <tr>\n",
       "      <th>REST</th>\n",
       "      <td>96</td>\n",
       "      <td>90</td>\n",
       "    </tr>\n",
       "    <tr>\n",
       "      <th>RFX5</th>\n",
       "      <td>2</td>\n",
       "      <td>3</td>\n",
       "    </tr>\n",
       "    <tr>\n",
       "      <th>RXRA</th>\n",
       "      <td>5</td>\n",
       "      <td>13</td>\n",
       "    </tr>\n",
       "    <tr>\n",
       "      <th>SIN3A</th>\n",
       "      <td>469</td>\n",
       "      <td>450</td>\n",
       "    </tr>\n",
       "    <tr>\n",
       "      <th>SIX5</th>\n",
       "      <td>11</td>\n",
       "      <td>3</td>\n",
       "    </tr>\n",
       "    <tr>\n",
       "      <th>SP1</th>\n",
       "      <td>302</td>\n",
       "      <td>260</td>\n",
       "    </tr>\n",
       "    <tr>\n",
       "      <th>SP2</th>\n",
       "      <td>12</td>\n",
       "      <td>10</td>\n",
       "    </tr>\n",
       "    <tr>\n",
       "      <th>SP4</th>\n",
       "      <td>72</td>\n",
       "      <td>70</td>\n",
       "    </tr>\n",
       "    <tr>\n",
       "      <th>SRF</th>\n",
       "      <td>50</td>\n",
       "      <td>23</td>\n",
       "    </tr>\n",
       "    <tr>\n",
       "      <th>TATA</th>\n",
       "      <td>500</td>\n",
       "      <td>500</td>\n",
       "    </tr>\n",
       "    <tr>\n",
       "      <th>TCF12</th>\n",
       "      <td>31</td>\n",
       "      <td>32</td>\n",
       "    </tr>\n",
       "    <tr>\n",
       "      <th>TEAD4</th>\n",
       "      <td>5</td>\n",
       "      <td>6</td>\n",
       "    </tr>\n",
       "    <tr>\n",
       "      <th>YY1</th>\n",
       "      <td>248</td>\n",
       "      <td>318</td>\n",
       "    </tr>\n",
       "    <tr>\n",
       "      <th>ZNF143</th>\n",
       "      <td>168</td>\n",
       "      <td>124</td>\n",
       "    </tr>\n",
       "  </tbody>\n",
       "</table>\n",
       "</div>"
      ],
      "text/plain": [
       "        repress  activate\n",
       "tf                       \n",
       "AP1          11        13\n",
       "ATF2          5         8\n",
       "ATF3         48        56\n",
       "BACH1         4         3\n",
       "BCL           2         3\n",
       "BRCA1        16         6\n",
       "CEBPB        21        24\n",
       "CHD2         42        44\n",
       "CTCF        281       221\n",
       "EGR1        311       249\n",
       "EP300        86        92\n",
       "ETS          69        74\n",
       "HDAC2        15        19\n",
       "MAF          15        11\n",
       "MXI1         23        31\n",
       "MYC         168       183\n",
       "NANOG        11        18\n",
       "NRF1         60        52\n",
       "POU5F1       17        21\n",
       "RAD21       237       234\n",
       "REST         96        90\n",
       "RFX5          2         3\n",
       "RXRA          5        13\n",
       "SIN3A       469       450\n",
       "SIX5         11         3\n",
       "SP1         302       260\n",
       "SP2          12        10\n",
       "SP4          72        70\n",
       "SRF          50        23\n",
       "TATA        500       500\n",
       "TCF12        31        32\n",
       "TEAD4         5         6\n",
       "YY1         248       318\n",
       "ZNF143      168       124"
      ]
     },
     "execution_count": 655,
     "metadata": {},
     "output_type": "execute_result"
    }
   ],
   "source": [
    "tf"
   ]
  },
  {
   "cell_type": "code",
   "execution_count": null,
   "metadata": {
    "collapsed": true
   },
   "outputs": [],
   "source": []
  },
  {
   "cell_type": "code",
   "execution_count": null,
   "metadata": {
    "collapsed": true
   },
   "outputs": [],
   "source": []
  },
  {
   "cell_type": "markdown",
   "metadata": {},
   "source": [
    "TODO: More likely to fall in enhancers?"
   ]
  },
  {
   "cell_type": "code",
   "execution_count": 677,
   "metadata": {
    "collapsed": true
   },
   "outputs": [],
   "source": [
    "# GM12878_CTCF\n",
    "# http://www.ncbi.nlm.nih.gov/geo/query/acc.cgi?acc=GSM1872886\n",
    "url = ('http://www.ncbi.nlm.nih.gov/geo/download/?acc=GSM1872886&format=file&file='\n",
    "       'GSM1872886%5FGM12878%5FCTCF%5FPET%5Fclusters%2Etxt%2Egz')\n",
    "\n",
    "# GM12878_RNAPII\n",
    "# http://www.ncbi.nlm.nih.gov/geo/query/acc.cgi?acc=GSM1872887\n",
    "url = ('http://www.ncbi.nlm.nih.gov/geo/download/?acc=GSM1872887&format=file&file='\n",
    "       'GSM1872887%5FGM12878%5FRNAPII%5FPET%5Fclusters%2Etxt%2Egz')\n",
    "s = cpb.general.read_gzipped_text_url(url)\n",
    "lines = [x.strip().split('\\t') for x in s.split('\\n')[:-1]]\n",
    "gm_rnap = pd.DataFrame(lines, columns=['chr1', 'start1', 'end1',\n",
    "                                       'chr2', 'start2', 'end2', 'num'])\n",
    "for c in ['start1', 'start2', 'end1', 'end2', 'num']:\n",
    "    gm_rnap[c] = gm_rnap[c].astype(int)\n",
    "\n",
    "# HeLa_CTCF\n",
    "# http://www.ncbi.nlm.nih.gov/geo/query/acc.cgi?acc=GSM1872888\n",
    "url = ('http://www.ncbi.nlm.nih.gov/geo/download/?acc=GSM1872888&format=file&file='\n",
    "       'GSM1872888%5FHeLa%5FCTCF%5FPET%5Fclusters%2Etxt%2Egz')\n",
    "\n",
    "# HeLa_RNAPII\n",
    "# http://www.ncbi.nlm.nih.gov/geo/query/acc.cgi?acc=GSM1872889\n",
    "url = ('http://www.ncbi.nlm.nih.gov/geo/download/?acc=GSM1872889&format=file&file='\n",
    "       'GSM1872889%5FHeLa%5FRNAPII%5FPET%5Fclusters%2Etxt%2Egz')\n",
    "s = cpb.general.read_gzipped_text_url(url)\n",
    "lines = [x.strip().split('\\t') for x in s.split('\\n')[:-1]]\n",
    "hela_rnap = pd.DataFrame(lines, columns=['chr1', 'start1', 'end1',\n",
    "                                       'chr2', 'start2', 'end2', 'num'])\n",
    "for c in ['start1', 'start2', 'end1', 'end2', 'num']:\n",
    "    hela_rnap[c] = hela_rnap[c].astype(int)"
   ]
  },
  {
   "cell_type": "code",
   "execution_count": 678,
   "metadata": {
    "collapsed": false
   },
   "outputs": [
    {
     "data": {
      "text/html": [
       "<div>\n",
       "<table border=\"1\" class=\"dataframe\">\n",
       "  <thead>\n",
       "    <tr style=\"text-align: right;\">\n",
       "      <th></th>\n",
       "      <th>chr1</th>\n",
       "      <th>start1</th>\n",
       "      <th>end1</th>\n",
       "      <th>chr2</th>\n",
       "      <th>start2</th>\n",
       "      <th>end2</th>\n",
       "      <th>num</th>\n",
       "    </tr>\n",
       "  </thead>\n",
       "  <tbody>\n",
       "    <tr>\n",
       "      <th>0</th>\n",
       "      <td>chr5</td>\n",
       "      <td>172755596</td>\n",
       "      <td>172756703</td>\n",
       "      <td>chr5</td>\n",
       "      <td>172881992</td>\n",
       "      <td>172882886</td>\n",
       "      <td>4</td>\n",
       "    </tr>\n",
       "    <tr>\n",
       "      <th>1</th>\n",
       "      <td>chr2</td>\n",
       "      <td>67867350</td>\n",
       "      <td>67867483</td>\n",
       "      <td>chr6</td>\n",
       "      <td>7058521</td>\n",
       "      <td>7058693</td>\n",
       "      <td>2</td>\n",
       "    </tr>\n",
       "    <tr>\n",
       "      <th>2</th>\n",
       "      <td>chr16</td>\n",
       "      <td>76131648</td>\n",
       "      <td>76131707</td>\n",
       "      <td>chr3</td>\n",
       "      <td>99478080</td>\n",
       "      <td>99478116</td>\n",
       "      <td>2</td>\n",
       "    </tr>\n",
       "    <tr>\n",
       "      <th>3</th>\n",
       "      <td>chr19</td>\n",
       "      <td>50786267</td>\n",
       "      <td>50786519</td>\n",
       "      <td>chr2</td>\n",
       "      <td>161650567</td>\n",
       "      <td>161650666</td>\n",
       "      <td>2</td>\n",
       "    </tr>\n",
       "    <tr>\n",
       "      <th>4</th>\n",
       "      <td>chr14</td>\n",
       "      <td>31550371</td>\n",
       "      <td>31550417</td>\n",
       "      <td>chr5</td>\n",
       "      <td>5930449</td>\n",
       "      <td>5930510</td>\n",
       "      <td>3</td>\n",
       "    </tr>\n",
       "  </tbody>\n",
       "</table>\n",
       "</div>"
      ],
      "text/plain": [
       "    chr1     start1       end1  chr2     start2       end2  num\n",
       "0   chr5  172755596  172756703  chr5  172881992  172882886    4\n",
       "1   chr2   67867350   67867483  chr6    7058521    7058693    2\n",
       "2  chr16   76131648   76131707  chr3   99478080   99478116    2\n",
       "3  chr19   50786267   50786519  chr2  161650567  161650666    2\n",
       "4  chr14   31550371   31550417  chr5    5930449    5930510    3"
      ]
     },
     "execution_count": 678,
     "metadata": {},
     "output_type": "execute_result"
    }
   ],
   "source": [
    "hela_rnap.head()"
   ]
  },
  {
   "cell_type": "markdown",
   "metadata": {
    "collapsed": true
   },
   "source": [
    "TODO: I can also compare conservation."
   ]
  },
  {
   "cell_type": "code",
   "execution_count": null,
   "metadata": {
    "collapsed": true
   },
   "outputs": [],
   "source": []
  }
 ],
 "metadata": {
  "kernelspec": {
   "display_name": "Python 2",
   "language": "python",
   "name": "python2"
  },
  "language_info": {
   "codemirror_mode": {
    "name": "ipython",
    "version": 2
   },
   "file_extension": ".py",
   "mimetype": "text/x-python",
   "name": "python",
   "nbconvert_exporter": "python",
   "pygments_lexer": "ipython2",
   "version": "2.7.11"
  }
 },
 "nbformat": 4,
 "nbformat_minor": 0
}
