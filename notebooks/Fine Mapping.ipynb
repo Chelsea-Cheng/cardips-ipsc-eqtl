{
 "cells": [
  {
   "cell_type": "markdown",
   "metadata": {},
   "source": [
    "# Fine Mapping\n",
    "\n",
    "I want to take the significant eQTL variants and functionally annotate them\n",
    "to come up with a list of variants that might be causal. There is a lot of\n",
    "functional data for the H1-hESC line that I can use along with data from\n",
    "other places."
   ]
  },
  {
   "cell_type": "code",
   "execution_count": 589,
   "metadata": {
    "collapsed": true
   },
   "outputs": [],
   "source": [
    "import copy\n",
    "import cPickle\n",
    "import glob\n",
    "import os\n",
    "import random\n",
    "import re\n",
    "import subprocess\n",
    "import urllib2\n",
    "import uuid\n",
    "\n",
    "import cdpybio as cpb\n",
    "import matplotlib.pyplot as plt\n",
    "import numpy as np\n",
    "import pandas as pd\n",
    "pd.options.mode.chained_assignment = None\n",
    "import pybedtools as pbt\n",
    "import scipy\n",
    "import scipy.stats as stats\n",
    "import seaborn as sns\n",
    "import tabix\n",
    "import vcf as pyvcf\n",
    "\n",
    "import cardipspy as cpy\n",
    "import ciepy\n",
    "\n",
    "%matplotlib inline\n",
    "\n",
    "dy_name = 'fine_mapping'\n",
    "\n",
    "import socket\n",
    "if socket.gethostname() == 'fl-hn1' or socket.gethostname() == 'fl-hn2':\n",
    "    dy = os.path.join(ciepy.root, 'sandbox', 'tmp', dy_name)\n",
    "    cpy.makedir(dy)\n",
    "    pbt.set_tempdir(dy)\n",
    "    \n",
    "outdir = os.path.join(ciepy.root, 'output', dy_name)\n",
    "cpy.makedir(outdir)\n",
    "\n",
    "private_outdir = os.path.join(ciepy.root, 'private_output', dy_name)\n",
    "cpy.makedir(private_outdir)"
   ]
  },
  {
   "cell_type": "code",
   "execution_count": 2,
   "metadata": {
    "collapsed": false
   },
   "outputs": [],
   "source": [
    "tg = pd.read_table(cpy.gencode_transcript_gene, index_col=0, \n",
    "                   header=None, squeeze=True)\n",
    "gene_info = pd.read_table(cpy.gencode_gene_info, index_col=0)\n",
    "transcript_to_gene = pd.read_table(cpy.gencode_transcript_gene, header=None, \n",
    "                                   squeeze=True, index_col=0)\n",
    "fn = os.path.join(ciepy.root, 'output', 'eqtl_input', \n",
    "                  'tpm_log_filtered_phe_std_norm_peer_resid.tsv')\n",
    "exp = pd.read_table(fn, index_col=0)\n",
    "\n",
    "fn = os.path.join(ciepy.root, 'output', 'eqtl_processing', 'eqtls01', 'qvalues.tsv')\n",
    "qvalues = pd.read_table(fn, index_col=0)\n",
    "\n",
    "fn = os.path.join(ciepy.root, 'output', 'eqtl_processing', 'eqtls02', 'qvalues.tsv')\n",
    "secondary_qvalues = pd.read_table(fn, index_col=0)\n",
    "\n",
    "fn = os.path.join(ciepy.root, 'output', 'eqtl_processing', 'eqtls01', 'lead_variants_single.tsv')\n",
    "lead_variants_single = pd.read_table(fn, index_col=0)\n",
    "lead_variants_single_f = lead_variants_single[lead_variants_single.perm_sig]\n",
    "\n",
    "genes = pbt.BedTool(cpy.gencode_gene_bed)\n",
    "\n",
    "fn = os.path.join(os.path.split(cpy.roadmap_15_state_annotation)[0], 'EIDlegend.txt')\n",
    "roadmap_ids = pd.read_table(fn, squeeze=True, index_col=0, header=None)\n",
    "\n",
    "fn = os.path.join(ciepy.root, 'output', 'eqtl_processing', 'eqtls01', 'gene_variant_pairs.tsv')\n",
    "gene_variants = pd.read_table(fn, index_col=0)\n",
    "\n",
    "fn = os.path.join(ciepy.root, 'output', 'functional_annotation_analysis',\n",
    "                  'encode_stem_cell_chip_seq.tsv')\n",
    "encode_chip_seq = pd.read_table(fn, index_col=0)\n",
    "\n",
    "ensg = pd.Series(gene_info.index, index=[x.split('.')[0] for x in gene_info.index])\n",
    "\n",
    "fn = os.path.join(ciepy.root, 'output', 'cnv_analysis', 'cnv_gene_variants.pickle')\n",
    "cnv_gv = pd.read_pickle(fn)"
   ]
  },
  {
   "cell_type": "code",
   "execution_count": 3,
   "metadata": {
    "collapsed": false
   },
   "outputs": [],
   "source": [
    "subject_meta = pd.read_table(os.path.join(ciepy.root, 'output', 'input_data', 'subject_metadata.tsv'), \n",
    "                             index_col=0)\n",
    "rna_meta = pd.read_table(os.path.join(ciepy.root, 'output', 'input_data', 'rnaseq_metadata.tsv'), \n",
    "                         index_col=0)\n",
    "wgs_meta = pd.read_table(os.path.join(ciepy.root, 'output', 'input_data', 'wgs_metadata.tsv'), \n",
    "                         index_col=0)"
   ]
  },
  {
   "cell_type": "code",
   "execution_count": 4,
   "metadata": {
    "collapsed": true
   },
   "outputs": [],
   "source": [
    "# ASE results.\n",
    "fn = os.path.join(ciepy.root, 'output', 'input_data', \n",
    "                  'mbased_major_allele_freq.tsv')\n",
    "maj_af = pd.read_table(fn, index_col=0)\n",
    "\n",
    "fn = os.path.join(ciepy.root, 'output', 'input_data', \n",
    "                  'mbased_p_val_ase.tsv')\n",
    "ase_pval = pd.read_table(fn, index_col=0)\n",
    "\n",
    "locus_p = pd.Panel({'major_allele_freq':maj_af, 'p_val_ase':ase_pval})\n",
    "locus_p = locus_p.swapaxes(0, 2)\n",
    "\n",
    "snv_fns = glob.glob(os.path.join(ciepy.root, 'private_output', 'input_data', 'mbased_snv',\n",
    "                                 '*_snv.tsv'))\n",
    "count_fns = glob.glob(os.path.join(ciepy.root, 'private_output', 'input_data', 'allele_counts',\n",
    "                                   '*mbased_input.tsv'))\n",
    "\n",
    "snv_res = {}\n",
    "for fn in snv_fns:\n",
    "    snv_res[os.path.split(fn)[1].split('_')[0]] = pd.read_table(fn, index_col=0)\n",
    "    \n",
    "count_res = {}\n",
    "for fn in count_fns:\n",
    "    count_res[os.path.split(fn)[1].split('_')[0]] = pd.read_table(fn, index_col=0)\n",
    "\n",
    "snv_p = pd.Panel(snv_res)"
   ]
  },
  {
   "cell_type": "code",
   "execution_count": 5,
   "metadata": {
    "collapsed": true
   },
   "outputs": [],
   "source": [
    "fn = os.path.join(ciepy.root, 'output', 'motif_search', 'matrices.pickle')\n",
    "with open(fn) as f:\n",
    "    matrices = cPickle.load(f)\n",
    "fn = os.path.join(ciepy.root, 'output', 'motif_search', 'motif_info_full.tsv')\n",
    "motif_info_full = pd.read_table(fn, index_col=0)\n",
    "motif_info_full['target'] = [x.split('_')[0] for x in motif_info_full.index]\n",
    "fn = os.path.join(ciepy.root, 'output', 'motif_search', 'motif_info_full.tsv')\n",
    "motif_info = pd.read_table(fn, index_col=0)\n",
    "fn = os.path.join(ciepy.root, 'output', 'motif_search', 'motif_info_rep.tsv')\n",
    "motif_info_rep = pd.read_table(fn, index_col=0)\n",
    "motif_info['target'] = [x.split('_')[0] for x in motif_info.index]"
   ]
  },
  {
   "cell_type": "markdown",
   "metadata": {},
   "source": [
    "I'll drop CNVs since they likely act through different mechanisms than I'm considering here."
   ]
  },
  {
   "cell_type": "code",
   "execution_count": 6,
   "metadata": {
    "collapsed": false
   },
   "outputs": [
    {
     "name": "stdout",
     "output_type": "stream",
     "text": [
      "256,156 total associations.\n",
      "198,221 total distinct SNV, indels, and CNVs with significant associations.\n"
     ]
    }
   ],
   "source": [
    "n = gene_variants.shape[0]\n",
    "print('{:,} total associations.'.format(n))\n",
    "n = len(set(gene_variants.location))\n",
    "print('{:,} total distinct SNV, indels, and CNVs with significant associations.'.format(n))"
   ]
  },
  {
   "cell_type": "code",
   "execution_count": 7,
   "metadata": {
    "collapsed": false
   },
   "outputs": [],
   "source": [
    "gene_variants = gene_variants[gene_variants.variant_type != 'cnv']"
   ]
  },
  {
   "cell_type": "markdown",
   "metadata": {},
   "source": [
    "## Predicted NMD\n",
    "\n",
    "I'll use the snpEff annotation of the WGS to look for predicted NMD. I'd like to\n",
    "see if any of the significant variants are predicted to cause NMD for the eQTL\n",
    "gene.\n",
    "\n",
    "If snpEff predicts NMD for a gene, the annotation looks like\n",
    "\n",
    "    PITRM1|ENSG00000107959|11|0.27\n",
    "    \n",
    "This means that PITRM1 has 11 transcripts and 27% of them are predicted to have NMD."
   ]
  },
  {
   "cell_type": "code",
   "execution_count": 8,
   "metadata": {
    "collapsed": false
   },
   "outputs": [],
   "source": [
    "fns = glob.glob('/projects/CARDIPS/pipeline/WGS/mergedVCF/annotation/vcf/*snpeff.vcf.gz')\n",
    "fns = [x for x in fns if len(re.findall('chr\\d{1,2}', x)) > 0]\n",
    "fns = pd.Series(fns, index=[re.findall('chr\\d{1,2}', x)[0] for x in fns])\n",
    "\n",
    "for vcf in fns.values:\n",
    "    out = os.path.join(private_outdir, os.path.split(vcf)[1].replace('.vcf.gz', '_nmd.vcf'))\n",
    "    if not os.path.exists(out):\n",
    "        !zcat {vcf} | java -jar /software/snpEff_v4_1l_core/SnpSift.jar filter \"NMD[*]\" > {out}"
   ]
  },
  {
   "cell_type": "code",
   "execution_count": 9,
   "metadata": {
    "collapsed": false
   },
   "outputs": [],
   "source": [
    "fns = glob.glob(os.path.join(private_outdir, '*_nmd.vcf'))\n",
    "variants = []\n",
    "nmd = []\n",
    "for fn in fns:\n",
    "    vcf_reader = pyvcf.Reader(open(fn))\n",
    "    for r in vcf_reader:\n",
    "        variants.append('chr{}:{}-{}'.format(r.CHROM, r.POS - 1, r.POS))\n",
    "        nmd.append(r.INFO['NMD'])\n",
    "ind = []\n",
    "vals = []\n",
    "for i, v in enumerate(variants):\n",
    "    r = nmd[i]\n",
    "    for n in r:\n",
    "        gene_name, gene_id, num_t, per_t = n.strip(')').split('|')\n",
    "        ind.append(v + ':' + ensg[gene_id])\n",
    "        vals.append([int(num_t), float(per_t)])\n",
    "nmd = pd.DataFrame(vals, index=ind, columns=['nmd_num_transcripts', 'nmd_percent_transcripts_nmd'])"
   ]
  },
  {
   "cell_type": "code",
   "execution_count": 10,
   "metadata": {
    "collapsed": false
   },
   "outputs": [],
   "source": [
    "tdf = nmd.ix[set(nmd.index) & set(gene_variants.index)]"
   ]
  },
  {
   "cell_type": "code",
   "execution_count": 11,
   "metadata": {
    "collapsed": true
   },
   "outputs": [],
   "source": [
    "gene_variants = gene_variants.join(tdf)"
   ]
  },
  {
   "cell_type": "code",
   "execution_count": 12,
   "metadata": {
    "collapsed": false
   },
   "outputs": [],
   "source": [
    "gene_variants['nmd'] = False\n",
    "gene_variants.ix[gene_variants.dropna(subset=['nmd_num_transcripts']).index, 'nmd'] = True"
   ]
  },
  {
   "cell_type": "code",
   "execution_count": 13,
   "metadata": {
    "collapsed": false
   },
   "outputs": [],
   "source": [
    "g = set(gene_variants.ix[gene_variants.nmd, 'gene_id'])\n",
    "df = pd.DataFrame(True, index=g, columns=['gene_has_nmd_variant'])\n",
    "gene_variants = gene_variants.merge(df, left_on='gene_id', right_index=True, how='left')\n",
    "gene_variants.ix[gene_variants.gene_has_nmd_variant.isnull(), 'gene_has_nmd_variant'] = False"
   ]
  },
  {
   "cell_type": "markdown",
   "metadata": {},
   "source": [
    "## Exons, UTRs, and Promoters\n",
    "\n",
    "I'll annotate whether variants fall in exons, UTRs or promoters for their significant\n",
    "genes."
   ]
  },
  {
   "cell_type": "code",
   "execution_count": 14,
   "metadata": {
    "collapsed": false
   },
   "outputs": [],
   "source": [
    "gene_variants_bt = pbt.BedTool('\\n'.join(set(gene_variants.apply(lambda x: '{}\\t{}\\t{}'.format(\n",
    "                    x['chrom'], x['start'], x['end']), axis=1))), from_string=True)\n",
    "gene_variants_bt = gene_variants_bt.sort()"
   ]
  },
  {
   "cell_type": "code",
   "execution_count": 15,
   "metadata": {
    "collapsed": true
   },
   "outputs": [],
   "source": [
    "exons = pbt.BedTool(cpy.gencode_exon_bed)\n",
    "utrs = pbt.BedTool(cpy.gencode_utr_bed)\n",
    "promoters = pbt.BedTool(cpy.gencode_promoter_bed)"
   ]
  },
  {
   "cell_type": "code",
   "execution_count": 16,
   "metadata": {
    "collapsed": false
   },
   "outputs": [],
   "source": [
    "res = gene_variants_bt.intersect(exons, wo=True, sorted=True)\n",
    "df = res.to_dataframe()\n",
    "df.index = df.chrom + ':' + df.start.astype(str) + '-' + df.end.astype(str)\n",
    "df['gene'] = transcript_to_gene[df.thickStart].values\n",
    "df['val'] = pd.Series(df.index, index=df.index) + ':' + df.gene\n",
    "df = df.drop_duplicates(subset='val')\n",
    "gene_variants['exonic_same_gene'] = False\n",
    "gene_variants.ix[set(df.val) & set(gene_variants.index), 'exonic_same_gene'] = True\n",
    "\n",
    "df['exonic'] = True\n",
    "df['variant'] = df.index\n",
    "df = df.drop_duplicates(subset='variant')\n",
    "gene_variants = gene_variants.merge(df[['exonic']], left_on='location', right_index=True, how='left')\n",
    "gene_variants.ix[gene_variants.exonic.isnull(), 'exonic'] = False"
   ]
  },
  {
   "cell_type": "code",
   "execution_count": 17,
   "metadata": {
    "collapsed": false
   },
   "outputs": [],
   "source": [
    "g = set(gene_variants.ix[gene_variants.exonic, 'gene_id'])\n",
    "df = pd.DataFrame(True, index=g, columns=['gene_has_exonic_variant'])\n",
    "gene_variants = gene_variants.merge(df, left_on='gene_id', right_index=True, how='left')\n",
    "gene_variants.ix[gene_variants.gene_has_exonic_variant.isnull(), 'gene_has_exonic_variant'] = False\n",
    "\n",
    "g = set(gene_variants.ix[gene_variants.exonic_same_gene, 'gene_id'])\n",
    "df = pd.DataFrame(True, index=g, columns=['gene_has_exonic_same_gene_variant'])\n",
    "gene_variants = gene_variants.merge(df, left_on='gene_id', right_index=True, how='left')\n",
    "gene_variants.ix[gene_variants.gene_has_exonic_same_gene_variant.isnull(), 'gene_has_exonic_same_gene_variant'] = False"
   ]
  },
  {
   "cell_type": "code",
   "execution_count": 18,
   "metadata": {
    "collapsed": false
   },
   "outputs": [],
   "source": [
    "res = gene_variants_bt.intersect(utrs, wo=True, sorted=True)\n",
    "df = res.to_dataframe()\n",
    "df.index = df.chrom + ':' + df.start.astype(str) + '-' + df.end.astype(str)\n",
    "df['gene'] = transcript_to_gene[df.thickStart].values\n",
    "df['val'] = pd.Series(df.index, index=df.index) + ':' + df.gene\n",
    "df = df.drop_duplicates(subset='val')\n",
    "gene_variants['utr_same_gene'] = False\n",
    "gene_variants.ix[set(df.val) & set(gene_variants.index), 'utr_same_gene'] = True\n",
    "\n",
    "df['utr'] = True\n",
    "df['variant'] = df.index\n",
    "df = df.drop_duplicates(subset='variant')\n",
    "gene_variants = gene_variants.merge(df[['utr']], left_on='location', right_index=True, how='left')\n",
    "gene_variants.ix[gene_variants.utr.isnull(), 'utr'] = False"
   ]
  },
  {
   "cell_type": "code",
   "execution_count": 19,
   "metadata": {
    "collapsed": false
   },
   "outputs": [],
   "source": [
    "res = gene_variants_bt.intersect(promoters, wo=True, sorted=True)\n",
    "df = res.to_dataframe()\n",
    "df.index = df.chrom + ':' + df.start.astype(str) + '-' + df.end.astype(str)\n",
    "df['gene'] = transcript_to_gene[df.thickStart.apply(lambda x: x.split('_')[0])].values\n",
    "df['val'] = pd.Series(df.index, index=df.index) + ':' + df.gene\n",
    "df = df.drop_duplicates(subset='val')\n",
    "gene_variants['promoter_same_gene'] = False\n",
    "gene_variants.ix[set(df.val) & set(gene_variants.index), 'promoter_same_gene'] = True\n",
    "\n",
    "df['promoter'] = True\n",
    "df['variant'] = df.index\n",
    "df = df.drop_duplicates(subset='variant')\n",
    "gene_variants = gene_variants.merge(df[['promoter']], left_on='location', right_index=True, how='left')\n",
    "gene_variants.ix[gene_variants.promoter.isnull(), 'promoter'] = False"
   ]
  },
  {
   "cell_type": "code",
   "execution_count": 20,
   "metadata": {
    "collapsed": false
   },
   "outputs": [],
   "source": [
    "g = set(gene_variants.ix[gene_variants.utr, 'gene_id'])\n",
    "df = pd.DataFrame(True, index=g, columns=['gene_has_utr_variant'])\n",
    "gene_variants = gene_variants.merge(df, left_on='gene_id', right_index=True, how='left')\n",
    "gene_variants.ix[gene_variants.gene_has_utr_variant.isnull(), 'gene_has_utr_variant'] = False\n",
    "\n",
    "g = set(gene_variants.ix[gene_variants.utr_same_gene, 'gene_id'])\n",
    "df = pd.DataFrame(True, index=g, columns=['gene_has_utr_same_gene_variant'])\n",
    "gene_variants = gene_variants.merge(df, left_on='gene_id', right_index=True, how='left')\n",
    "gene_variants.ix[gene_variants.gene_has_utr_same_gene_variant.isnull(), \n",
    "                'gene_has_utr_same_gene_variant'] = False\n",
    "\n",
    "g = set(gene_variants.ix[gene_variants.promoter_same_gene, 'gene_id'])\n",
    "df = pd.DataFrame(True, index=g, columns=['gene_has_promoter_same_gene_variant'])\n",
    "gene_variants = gene_variants.merge(df, left_on='gene_id', right_index=True, how='left')\n",
    "gene_variants.ix[gene_variants.gene_has_promoter_same_gene_variant.isnull(), \n",
    "                'gene_has_promoter_same_gene_variant'] = False"
   ]
  },
  {
   "cell_type": "markdown",
   "metadata": {},
   "source": [
    "## Maurano et al. 2015 Data\n",
    "\n",
    "I'm going to grab some data from [Maurano *et al.* 2015](http://www.nature.com/ng/journal/v47/n12/full/ng.3432.html).\n",
    "The zip file seems to be corrupted. I was able to manually download on my mac \n",
    "and decompress it using Arhcive Utility but I couldn't get it work from the\n",
    "command line so that this has to be downloaded by hand."
   ]
  },
  {
   "cell_type": "code",
   "execution_count": 21,
   "metadata": {
    "collapsed": false
   },
   "outputs": [],
   "source": [
    "# This has all of the variants tested for imbalance and their significance.\n",
    "maurano_res = pd.read_table('http://www.nature.com/ng/journal/v47/n12/extref/ng.3432-S5.txt')\n",
    "# This has SNVs from dbSNP 138 predicted to affect TF binding.\n",
    "fn = os.path.join(private_outdir, 'ng.3432-S7')\n",
    "if not os.path.exists(fn):\n",
    "    print('Download ng.3432-S7, decompress, and add to private_outdir.')\n",
    "    print('http://www.nature.com/ng/journal/v47/n12/extref/ng.3432-S7.zip')\n",
    "else:\n",
    "    maurano_tf_disrupt = pd.read_table(fn)"
   ]
  },
  {
   "cell_type": "code",
   "execution_count": 22,
   "metadata": {
    "collapsed": false
   },
   "outputs": [
    {
     "data": {
      "text/plain": [
       "(0,)"
      ]
     },
     "execution_count": 22,
     "metadata": {},
     "output_type": "execute_result"
    }
   ],
   "source": [
    "se = maurano_res.chromEnd - maurano_res.chromStart\n",
    "se[se > 1].shape"
   ]
  },
  {
   "cell_type": "markdown",
   "metadata": {},
   "source": [
    "The Maurano results are all SNVs."
   ]
  },
  {
   "cell_type": "code",
   "execution_count": 23,
   "metadata": {
    "collapsed": false
   },
   "outputs": [
    {
     "name": "stdout",
     "output_type": "stream",
     "text": [
      "362284\n",
      "362284\n"
     ]
    }
   ],
   "source": [
    "print(len(set(maurano_res.chrom + ':' + maurano_res.chromStart.astype(str) + '-' + \n",
    "              maurano_res.chromEnd.astype(str))))\n",
    "print(maurano_res.shape[0])"
   ]
  },
  {
   "cell_type": "code",
   "execution_count": 24,
   "metadata": {
    "collapsed": false
   },
   "outputs": [],
   "source": [
    "maurano_res.index = (maurano_res.chrom + ':' + maurano_res.chromStart.astype(str) + \n",
    "                     '-' + maurano_res.chromEnd.astype(str))"
   ]
  },
  {
   "cell_type": "markdown",
   "metadata": {},
   "source": [
    "The Maurano results are all unique variants."
   ]
  },
  {
   "cell_type": "code",
   "execution_count": 25,
   "metadata": {
    "collapsed": false
   },
   "outputs": [
    {
     "data": {
      "text/html": [
       "<div>\n",
       "<table border=\"1\" class=\"dataframe\">\n",
       "  <thead>\n",
       "    <tr style=\"text-align: right;\">\n",
       "      <th></th>\n",
       "      <th>chrom</th>\n",
       "      <th>chromStart</th>\n",
       "      <th>chromEnd</th>\n",
       "      <th>rs</th>\n",
       "      <th>numhets</th>\n",
       "      <th>allele.1</th>\n",
       "      <th>readsA</th>\n",
       "      <th>allele.2</th>\n",
       "      <th>readsB</th>\n",
       "      <th>totalReads</th>\n",
       "      <th>pctRef</th>\n",
       "      <th>q.value</th>\n",
       "      <th>significance.level</th>\n",
       "    </tr>\n",
       "  </thead>\n",
       "  <tbody>\n",
       "    <tr>\n",
       "      <th>chr1:752720-752721</th>\n",
       "      <td>chr1</td>\n",
       "      <td>752720</td>\n",
       "      <td>752721</td>\n",
       "      <td>snp5</td>\n",
       "      <td>33</td>\n",
       "      <td>G</td>\n",
       "      <td>1583</td>\n",
       "      <td>A</td>\n",
       "      <td>1454</td>\n",
       "      <td>3037</td>\n",
       "      <td>0.479</td>\n",
       "      <td>0.0912</td>\n",
       "      <td>not_imbalanced</td>\n",
       "    </tr>\n",
       "  </tbody>\n",
       "</table>\n",
       "</div>"
      ],
      "text/plain": [
       "                   chrom  chromStart  chromEnd    rs  numhets allele.1  \\\n",
       "chr1:752720-752721  chr1      752720    752721  snp5       33        G   \n",
       "\n",
       "                    readsA allele.2  readsB  totalReads  pctRef  q.value  \\\n",
       "chr1:752720-752721    1583        A    1454        3037   0.479   0.0912   \n",
       "\n",
       "                   significance.level  \n",
       "chr1:752720-752721     not_imbalanced  "
      ]
     },
     "execution_count": 25,
     "metadata": {},
     "output_type": "execute_result"
    }
   ],
   "source": [
    "maurano_res.head(1)"
   ]
  },
  {
   "cell_type": "markdown",
   "metadata": {},
   "source": [
    "It seems that the Maurano data is in zero-based coordinates."
   ]
  },
  {
   "cell_type": "code",
   "execution_count": 26,
   "metadata": {
    "collapsed": false
   },
   "outputs": [],
   "source": [
    "maurano_res.columns = ['{}_maurano'.format(c) for c in maurano_res.columns]\n",
    "gene_variants = gene_variants.merge(maurano_res, left_on='location', right_index=True, how='left')\n",
    "gene_variants = gene_variants.drop(['chrom_maurano', 'chromStart_maurano', 'chromEnd_maurano'], axis=1)"
   ]
  },
  {
   "cell_type": "markdown",
   "metadata": {
    "collapsed": true
   },
   "source": [
    "I'll also add in the predicted TF disruptions."
   ]
  },
  {
   "cell_type": "code",
   "execution_count": 27,
   "metadata": {
    "collapsed": false
   },
   "outputs": [],
   "source": [
    "maurano_tf_disrupt.columns = ['{}_maurano_tf'.format(x) for x in maurano_tf_disrupt.columns]\n",
    "maurano_tf_disrupt.index = (maurano_tf_disrupt.chrom_maurano_tf + ':' +\n",
    "                            maurano_tf_disrupt.snpChromStart_maurano_tf.astype(str) + \n",
    "                            '-' + maurano_tf_disrupt.snpChromEnd_maurano_tf.astype(str))\n",
    "gene_variants = gene_variants.merge(maurano_tf_disrupt, left_on='location', \n",
    "                                  right_index=True, how='left')"
   ]
  },
  {
   "cell_type": "code",
   "execution_count": 28,
   "metadata": {
    "collapsed": true
   },
   "outputs": [],
   "source": [
    "gene_variants = gene_variants.drop(['chrom_maurano_tf', 'snpChromStart_maurano_tf', \n",
    "                                    'snpChromEnd_maurano_tf'], axis=1)"
   ]
  },
  {
   "cell_type": "markdown",
   "metadata": {
    "collapsed": true
   },
   "source": [
    "## Roadmap DNase"
   ]
  },
  {
   "cell_type": "code",
   "execution_count": 29,
   "metadata": {
    "collapsed": false
   },
   "outputs": [],
   "source": [
    "out = os.path.join(outdir, 'roadmap_dnase.tsv')\n",
    "if not os.path.exists(out):\n",
    "    url = ('http://egg2.wustl.edu/roadmap/data/byFileType'\n",
    "           '/peaks/consolidated/narrowPeak/')\n",
    "    website = urllib2.urlopen(url)\n",
    "    html = website.read()\n",
    "    files = re.findall('href=\"(E\\d\\d\\d-DNase.macs2.narrowPeak.gz)\"', html)\n",
    "    roadmap_dnase_res = pd.DataFrame(\n",
    "        -1, index=[x.split('-')[0] for x in files], \n",
    "        columns=['odds_ratio', 'pvalue'])\n",
    "\n",
    "    urls = ['http://egg2.wustl.edu/roadmap/data/byFileType/peaks/consolidated/narrowPeak/{}'.format(n)\n",
    "            for n in files]\n",
    "    lines = ['iPS-15b Cell Line', 'iPS-18 Cell Line', 'iPS-20b Cell Line',\n",
    "             'iPS DF 6.9 Cell Line', 'iPS DF 19.11 Cell Line', 'H1 Cell Line',\n",
    "             'H9 Cell Line']\n",
    "    urls = [x for x in urls if roadmap_ids[os.path.split(x.split('-')[0])[1]] in lines]\n",
    "\n",
    "    df = pd.DataFrame(False, index=set(gene_variants.location), columns=lines)\n",
    "    for url in urls:\n",
    "        line = roadmap_ids[os.path.split(url)[1].split('-')[0]]\n",
    "        bt = pbt.BedTool(cpb.general.read_gzipped_text_url(url), from_string=True).sort()\n",
    "        res = gene_variants_bt.intersect(bt, wa=True)\n",
    "        tdf = res.to_dataframe()\n",
    "        df.ix[(tdf.chrom + ':' + tdf.start.astype(str) + '-' + tdf.end.astype(str)).values, line] = True\n",
    "    df = df.ix[:, df.sum() > 0]\n",
    "    df.columns = [c.replace(' Cell Line', '').replace(' ', '_') + '_roadmap_dnase' for c in df.columns]\n",
    "    df.to_csv(out, sep='\\t')\n",
    "else:\n",
    "    df = pd.read_table(out, index_col=0)\n",
    "\n",
    "gene_variants = gene_variants.merge(df, left_on='location', right_index=True, how='left')"
   ]
  },
  {
   "cell_type": "markdown",
   "metadata": {
    "collapsed": true
   },
   "source": [
    "## ENCODE DNase"
   ]
  },
  {
   "cell_type": "code",
   "execution_count": 30,
   "metadata": {
    "collapsed": false
   },
   "outputs": [],
   "source": [
    "out = os.path.join(outdir, 'encode_dnase.tsv')\n",
    "if not os.path.exists(out):\n",
    "    encode_dnase = pd.read_table(os.path.join(ciepy.root, 'output', \n",
    "                                              'functional_annotation_analysis', \n",
    "                                              'encode_dnase.tsv'), index_col=0)\n",
    "    bs_types = ['stem cell', 'induced pluripotent stem cell line']\n",
    "    encode_dnase = encode_dnase[encode_dnase.biosample_type.apply(lambda x: x in bs_types)]\n",
    "\n",
    "    cols = (encode_dnase.cell_type.apply(lambda x: x.replace('induced pluripotent stem cell', 'iPSC')) + \n",
    "            '_' + encode_dnase.index + '_dnase')\n",
    "    df = pd.DataFrame(False, index=set(gene_variants.location), columns=cols)\n",
    "    encode_dnase['col'] = cols\n",
    "    for i in encode_dnase.index:\n",
    "        bt = pbt.BedTool(cpb.general.read_gzipped_text_url(encode_dnase.ix[i, 'narrowPeak_url']), \n",
    "                         from_string=True).sort()\n",
    "        res = gene_variants_bt.intersect(bt, wa=True)\n",
    "        tdf = res.to_dataframe()\n",
    "        df.ix[(tdf.chrom + ':' + tdf.start.astype(str) + '-' + tdf.end.astype(str)).values,\n",
    "              encode_dnase.ix[i, 'col']] = True\n",
    "    df.to_csv(out, sep='\\t')\n",
    "else:\n",
    "    df = pd.read_table(out, index_col=0)\n",
    "\n",
    "gene_variants = gene_variants.merge(df, left_on='location', right_index=True, how='left')"
   ]
  },
  {
   "cell_type": "markdown",
   "metadata": {},
   "source": [
    "## ENCODE Transcription Factor ChIP-Seq"
   ]
  },
  {
   "cell_type": "code",
   "execution_count": 31,
   "metadata": {
    "collapsed": true
   },
   "outputs": [],
   "source": [
    "encode_tf_chip_seq = pd.read_table(os.path.join(ciepy.root, 'output', \n",
    "                                                'functional_annotation_analysis', \n",
    "                                                'encode_stem_cell_chip_seq.tsv'), index_col=0)\n",
    "encode_tf_chip_seq = encode_tf_chip_seq.drop_duplicates(subset='target')\n",
    "s = set(motif_info.tf) & set(encode_tf_chip_seq.target)\n",
    "encode_tf_chip_seq = encode_tf_chip_seq[encode_tf_chip_seq.target.apply(lambda x: x in s)]"
   ]
  },
  {
   "cell_type": "code",
   "execution_count": 32,
   "metadata": {
    "collapsed": false
   },
   "outputs": [],
   "source": [
    "out = os.path.join(outdir, 'encode_tf_chip_seq.tsv')\n",
    "if not os.path.exists(out):\n",
    "    df = pd.DataFrame(False, index=set(gene_variants.location), columns=encode_tf_chip_seq.target.values)\n",
    "    for i in encode_tf_chip_seq.index:\n",
    "        bt = pbt.BedTool(cpb.general.read_gzipped_text_url(encode_tf_chip_seq.ix[i, 'narrowPeak_url']), \n",
    "                         from_string=True).sort()\n",
    "        res = gene_variants_bt.intersect(bt, wa=True)\n",
    "        tdf = res.to_dataframe()\n",
    "        df.ix[(tdf.chrom + ':' + tdf.start.astype(str) + '-' + tdf.end.astype(str)).values,\n",
    "              encode_tf_chip_seq.ix[i, 'target']] = True\n",
    "    \n",
    "    peak_overlap = df\n",
    "    peak_overlap.to_csv(out, sep='\\t')\n",
    "else:\n",
    "    peak_overlap = pd.read_table(out, index_col=0)\n",
    "\n",
    "#gene_variants = gene_variants.merge(df, left_on='location', right_index=True, how='left')"
   ]
  },
  {
   "cell_type": "code",
   "execution_count": 33,
   "metadata": {
    "collapsed": false
   },
   "outputs": [
    {
     "name": "stdout",
     "output_type": "stream",
     "text": [
      "8,050 of 197,673 variants overlap at least one peak.\n"
     ]
    }
   ],
   "source": [
    "n = sum(peak_overlap.sum(axis=1) > 0)\n",
    "print('{:,} of {:,} variants overlap at least one peak.'.format(n, peak_overlap.shape[0]))"
   ]
  },
  {
   "cell_type": "markdown",
   "metadata": {},
   "source": [
    "## TF Motif Disruption\n",
    "\n",
    "I'd like to identify variants that overlap a binding site for a transcription\n",
    "factor and also disrupt a motif for that TF.\n",
    "\n",
    "Things get a bit confusing here for a number of reasons. ChIP-seq experiments\n",
    "are performed on specific proteins. Sometimes these proteins have the same name as\n",
    "the transcription factor like SRF for instance. But sometimes the protein that \n",
    "is pulled down is part of a complex. For instance, ChIP-seq experiments for \n",
    "JUND, JUN, FOSL1, and others all target the transcription factor AP1 since these\n",
    "proteins are subunits of AP1.\n",
    "\n",
    "Another complication is that the motifs discovered by [Kheradpour et al.](http://nar.oxfordjournals.org/content/42/5/2976.full.pdf)\n",
    "do not always correspond to the particular transcription factor the motif is named after. \n",
    "For instance, 20 different\n",
    "\"factor groups\" have motifs that match the TPA DNA response element (TRE) motif.\n",
    "For instance, AP1_disc3 matches the TRE motif. This could happen for a number of reasons\n",
    "(outlined in the paper) such as the two TF's cobind or actually both use the motif etc.\n",
    "\n",
    "For my purposes here, I need to make a few decisions. Let's use JUND/AP1 as an example.\n",
    "There is an ENCODE experiment for JUND. There are also motifs discovered using JUND\n",
    "ChIP-seq data. However, the motifs that are found under JUND peaks are assigned to\n",
    "AP1 since that's the TF. So let's say we \n",
    "have a variant that overlaps a JUND peak from ENCODE. Should I test all AP1 motifs for\n",
    "disruption, even if they were discovered in a different ChIP-seq data set (like from FOSL1)?\n",
    "Testing all AP1 motifs also means that I'm testing motifs for other TFs (like AP1_disc3 which\n",
    "is actually the motif for TRE as they mention in the paper). Looking at the data on \n",
    "http://compbio.mit.edu/encode-motifs/ for AP1, this seems to be unavoidable. Few motifs\n",
    "are unique to AP1, and those that are unique have much weaker enrichment in the ChIP-seq\n",
    "peaks. \n",
    "\n",
    "I think for my purposes here, I'll be inclusive about testing motifs. A disrupted motif\n",
    "is evidence of some kind of effect."
   ]
  },
  {
   "cell_type": "code",
   "execution_count": 35,
   "metadata": {
    "collapsed": true
   },
   "outputs": [],
   "source": [
    "t = motif_info[motif_info.tf.apply(lambda x: x in encode_chip_seq.target.values)]\n",
    "motif_info = motif_info[motif_info.target.apply(lambda x: x in t.target.values)]"
   ]
  },
  {
   "cell_type": "code",
   "execution_count": 36,
   "metadata": {
    "collapsed": false
   },
   "outputs": [],
   "source": [
    "# I'll convert the peak_overlaps into TF overlaps.\n",
    "tdf = peak_overlap.copy(deep=True)\n",
    "se = pd.Series(dict(zip(motif_info.tf, motif_info.target)))\n",
    "tdf.columns = [se[x] for x in tdf.columns]\n",
    "d = {}\n",
    "for c in tdf.columns:\n",
    "    t = tdf[c]\n",
    "    if len(t.shape) == 2:\n",
    "        d[c] = t[c].sum(axis=1) > 0\n",
    "    else:\n",
    "        d[c] = t\n",
    "tf_overlap = pd.DataFrame(d)"
   ]
  },
  {
   "cell_type": "code",
   "execution_count": 37,
   "metadata": {
    "collapsed": false
   },
   "outputs": [],
   "source": [
    "out = os.path.join(outdir, 'motif_diffs.tsv')\n",
    "if not os.path.exists(out):\n",
    "    tdf = gene_variants[['location', 'ref', 'alt']]# + tf_cols]\n",
    "    tdf = tdf.drop_duplicates()\n",
    "    tdf.index = tdf.location\n",
    "    tdf = tdf.drop('location', axis=1)\n",
    "    tf_overlap_yes = tf_overlap[tf_overlap.sum(axis=1) > 0]\n",
    "    tdf = tdf.ix[tf_overlap_yes.index]\n",
    "\n",
    "    d = {}\n",
    "    for i in tf_overlap_yes.index:\n",
    "        d[i] = list(tf_overlap_yes.ix[i][tf_overlap_yes.ix[i]].index)\n",
    "    se = pd.Series(d)\n",
    "    se = se[tdf.index]\n",
    "    target_to_motif = pd.Series(motif_info.index, index=motif_info.target)\n",
    "    tdf['motifs'] = se.apply(lambda x: list(target_to_motif[x]))\n",
    "    \n",
    "    from ipyparallel import Client\n",
    "    parallel_client = Client(profile='parallel')\n",
    "    dview = parallel_client[:]\n",
    "    print('Cluster has {} engines.'.format(len(parallel_client.ids)))\n",
    "    \n",
    "    with dview.sync_imports():\n",
    "        import cdpybio\n",
    "        import cardipspy\n",
    "        \n",
    "    %px cpb = cdpybio\n",
    "    %px cpy = cardipspy\n",
    "    \n",
    "    dview.push(dict(tdf=tdf));\n",
    "    dview.push(dict(matrices=matrices));\n",
    "    \n",
    "#     matrices_f = {k:matrices[k] for k in motif_info.index}\n",
    "#     dview.push(dict(matrices_f=matrices_f));\n",
    "    \n",
    "#     res = dview.map_sync(lambda i: cpb.moodsext.find_motif_disruptions(\n",
    "#         i, tdf.ix[i, 'ref'], tdf.ix[i, 'alt'], cpy.hg19, \n",
    "#         matrices_f), tdf.index)\n",
    "    \n",
    "    res = dview.map_sync(lambda i: cpb.moodsext.find_motif_disruptions(\n",
    "            i, tdf.ix[i, 'ref'], tdf.ix[i, 'alt'], cpy.hg19, \n",
    "            {k:matrices[k] for k in tdf.ix[i, 'motifs']}), tdf.index)\n",
    "    motif_d = pd.DataFrame(index=tdf.index, columns=motif_info.index)\n",
    "    a = []\n",
    "    b = []\n",
    "    for i,p in enumerate(tdf.index):\n",
    "        if res[i].shape[0] > 0:\n",
    "            a.append(p)\n",
    "            b.append(res[i])\n",
    "    d = dict(zip(a,b))\n",
    "    p = pd.Panel(d)\n",
    "    motif_d = p.ix[:, :, 'score_diff'].T\n",
    "    motif_d.to_csv(out, sep='\\t')\n",
    "else:\n",
    "    motif_d = pd.read_table(out, index_col=0)"
   ]
  },
  {
   "cell_type": "markdown",
   "metadata": {},
   "source": [
    "For `motif_d`, the value is reference score minus alternate score. So a positive\n",
    "value means the reference matched the motif better.\n",
    "\n",
    "I'm not sure what score difference constitutes a disruption. Let's\n",
    "take a look at the distribution of differences."
   ]
  },
  {
   "cell_type": "code",
   "execution_count": 38,
   "metadata": {
    "collapsed": false
   },
   "outputs": [
    {
     "data": {
      "image/png": "[encoded data removed]",
      "text/plain": [
       "<matplotlib.figure.Figure at 0x7f6d77271610>"
      ]
     },
     "metadata": {},
     "output_type": "display_data"
    }
   ],
   "source": [
    "pd.Series(motif_d.values.flatten()).dropna().hist(bins=100)\n",
    "ymin, ymax = plt.ylim()\n",
    "plt.vlines(-2.5, ymin, ymax)\n",
    "plt.vlines(2.5, ymin, ymax)\n",
    "plt.ylabel('Number of differences')\n",
    "plt.xlabel('Score difference');"
   ]
  },
  {
   "cell_type": "markdown",
   "metadata": {},
   "source": [
    "It seems that a score difference greater than 2.5 in magnitude probably\n",
    "represents a pretty big effect. I'll say these are disruptions."
   ]
  },
  {
   "cell_type": "code",
   "execution_count": 39,
   "metadata": {
    "collapsed": false
   },
   "outputs": [],
   "source": [
    "motif_disrupt = motif_d.abs() >= 2.5\n",
    "motif_disrupt = motif_disrupt[motif_disrupt.sum(axis=1) > 0]\n",
    "motif_disrupt.to_csv(os.path.join(outdir, 'motif_disruption.tsv'), sep='\\t')\n",
    "#motif_disrupt.columns = ['{}_motif_disrupted'.format(x) for x in motif_disrupt.columns]\n",
    "#gene_variants = gene_variants.merge(motif_disrupt, left_on='location', right_index=True, how='left')"
   ]
  },
  {
   "cell_type": "code",
   "execution_count": 40,
   "metadata": {
    "collapsed": false
   },
   "outputs": [
    {
     "name": "stdout",
     "output_type": "stream",
     "text": [
      "3,225 variants disrupt a motif.\n"
     ]
    }
   ],
   "source": [
    "print('{:,} variants disrupt a motif.'.format(motif_disrupt.shape[0]))"
   ]
  },
  {
   "cell_type": "code",
   "execution_count": 41,
   "metadata": {
    "collapsed": false
   },
   "outputs": [],
   "source": [
    "# I'll convert the peak_overlaps into TF overlaps.\n",
    "tdf = motif_disrupt.copy(deep=True)\n",
    "tdf.columns = [motif_info_full.ix[x, 'target'] for x in tdf.columns]\n",
    "d = {}\n",
    "for c in tdf.columns:\n",
    "    t = tdf[c]\n",
    "    if len(t.shape) == 2:\n",
    "        d[c] = t[c].sum(axis=1) > 0\n",
    "    else:\n",
    "        d[c] = t\n",
    "tf_disrupt = pd.DataFrame(d)\n",
    "tf_disrupt.to_csv(os.path.join(outdir, 'tf_disruption.tsv'), sep='\\t')"
   ]
  },
  {
   "cell_type": "code",
   "execution_count": 42,
   "metadata": {
    "collapsed": true
   },
   "outputs": [],
   "source": [
    "t = pd.DataFrame([tf_disrupt.index], index=['location']).T\n",
    "t['tf_disrupt'] = True\n",
    "gene_variants = gene_variants.merge(t, how='outer')\n",
    "gene_variants.ix[gene_variants['tf_disrupt'].isnull(), 'tf_disrupt'] = False"
   ]
  },
  {
   "cell_type": "code",
   "execution_count": 43,
   "metadata": {
    "collapsed": true
   },
   "outputs": [],
   "source": [
    "t = pd.DataFrame([tf_overlap[tf_overlap.sum(axis=1) > 0].index], index=['location']).T\n",
    "t['tf_overlap'] = True\n",
    "gene_variants = gene_variants.merge(t, how='outer')\n",
    "gene_variants.ix[gene_variants['tf_overlap'].isnull(), 'tf_overlap'] = False"
   ]
  },
  {
   "cell_type": "code",
   "execution_count": 44,
   "metadata": {
    "collapsed": true
   },
   "outputs": [],
   "source": [
    "tdf = gene_variants[['location', 'ref', 'alt']]# + tf_cols]\n",
    "tdf = tdf.drop_duplicates()\n",
    "tdf.index = tdf.location\n",
    "tdf = tdf.drop('location', axis=1)\n",
    "tf_overlap_yes = tf_overlap[tf_overlap.sum(axis=1) > 0]\n",
    "tdf = tdf.ix[tf_overlap_yes.index]\n",
    "\n",
    "d = {}\n",
    "for i in tf_overlap_yes.index:\n",
    "    d[i] = list(tf_overlap_yes.ix[i][tf_overlap_yes.ix[i]].index)\n",
    "se = pd.Series(d)\n",
    "se = se[tdf.index]\n",
    "target_to_motif = pd.Series(motif_info.index, index=motif_info.target)\n",
    "tdf['motifs'] = se.apply(lambda x: list(target_to_motif[x]))"
   ]
  },
  {
   "cell_type": "code",
   "execution_count": 45,
   "metadata": {
    "collapsed": true
   },
   "outputs": [],
   "source": [
    "motif_disrupt_info = tdf.copy(deep=True)\n",
    "motif_disrupt_info['disrupt'] = False\n",
    "motif_disrupt_info.ix[motif_disrupt.index, 'disrupt'] = True\n",
    "motif_disrupt_info['overlap_disrupt'] = False\n",
    "motif_disrupt_info['not_overlap_disrupt'] = False\n",
    "t = motif_disrupt_info[motif_disrupt_info.disrupt == True]"
   ]
  },
  {
   "cell_type": "code",
   "execution_count": 46,
   "metadata": {
    "collapsed": false
   },
   "outputs": [
    {
     "data": {
      "text/plain": [
       "<matplotlib.axes._subplots.AxesSubplot at 0x7f6d780ee6d0>"
      ]
     },
     "execution_count": 46,
     "metadata": {},
     "output_type": "execute_result"
    },
    {
     "data": {
      "image/png": "[encoded data removed]",
      "text/plain": [
       "<matplotlib.figure.Figure at 0x7f6dd965ce10>"
      ]
     },
     "metadata": {},
     "output_type": "display_data"
    }
   ],
   "source": [
    "tf_disrupt.sum(axis=1).hist(bins=range(0, 25))"
   ]
  },
  {
   "cell_type": "markdown",
   "metadata": {},
   "source": [
    "## CNV eQTLS\n",
    "\n",
    "I'll mark which genes have an overlapping significant CNV."
   ]
  },
  {
   "cell_type": "code",
   "execution_count": 47,
   "metadata": {
    "collapsed": true
   },
   "outputs": [],
   "source": [
    "t = pd.DataFrame(index=list(set(cnv_gv[cnv_gv.cnv_overlaps_gene].gene_id)))\n",
    "t['cnv_eqtl'] = True\n",
    "gene_variants = gene_variants.merge(t, how='outer', left_on='gene_id', right_index=True)\n",
    "gene_variants.ix[gene_variants.cnv_eqtl.isnull(), 'cnv_eqtl'] = False"
   ]
  },
  {
   "cell_type": "code",
   "execution_count": 48,
   "metadata": {
    "collapsed": true
   },
   "outputs": [],
   "source": [
    "fn = os.path.join(outdir, 'gene_variants_annotated.pickle')\n",
    "gene_variants.to_pickle(fn)"
   ]
  },
  {
   "cell_type": "markdown",
   "metadata": {},
   "source": [
    "## Feature Exploration"
   ]
  },
  {
   "cell_type": "code",
   "execution_count": 49,
   "metadata": {
    "collapsed": false
   },
   "outputs": [
    {
     "name": "stdout",
     "output_type": "stream",
     "text": [
      "255,393 total SNV and indel associations.\n",
      "197,674 total distinct SNV and indels with significant associations.\n"
     ]
    }
   ],
   "source": [
    "n = gene_variants.shape[0]\n",
    "print('{:,} total SNV and indel associations.'.format(n))\n",
    "n = len(set(gene_variants.location))\n",
    "print('{:,} total distinct SNV and indels with significant associations.'.format(n))"
   ]
  },
  {
   "cell_type": "code",
   "execution_count": 50,
   "metadata": {
    "collapsed": false
   },
   "outputs": [
    {
     "name": "stdout",
     "output_type": "stream",
     "text": [
      "10 genes with a significant NMD variant.\n",
      "88 genes with a significant overlapping CNV.\n",
      "98 total in these groups.\n"
     ]
    }
   ],
   "source": [
    "n = len(set(gene_variants[gene_variants.nmd == True].gene_id))\n",
    "print('{:,} genes with a significant NMD variant.'.format(n))\n",
    "n = len(set(gene_variants[gene_variants.cnv_eqtl == True].gene_id))\n",
    "print('{:,} genes with a significant overlapping CNV.'.format(n))\n",
    "n = len(set(gene_variants[gene_variants.cnv_eqtl == True].gene_id) |\n",
    "        set(gene_variants[gene_variants.nmd == True].gene_id))\n",
    "print('{:,} total in these groups.'.format(n))"
   ]
  },
  {
   "cell_type": "code",
   "execution_count": 51,
   "metadata": {
    "collapsed": false
   },
   "outputs": [
    {
     "data": {
      "text/plain": [
       "snv    227569\n",
       "del     15294\n",
       "ins     12508\n",
       "Name: variant_type, dtype: int64"
      ]
     },
     "execution_count": 51,
     "metadata": {},
     "output_type": "execute_result"
    }
   ],
   "source": [
    "gene_variants.variant_type.value_counts()"
   ]
  },
  {
   "cell_type": "code",
   "execution_count": 52,
   "metadata": {
    "collapsed": false
   },
   "outputs": [
    {
     "name": "stdout",
     "output_type": "stream",
     "text": [
      "2,197 of 5,704 genes have only one significant variant.\n"
     ]
    }
   ],
   "source": [
    "n = (gene_variants.gene_id.value_counts() > 1).value_counts()[False]\n",
    "print('{:,} of {:,} genes have only one significant variant.'.format(n, len(set(gene_variants.gene_id))))"
   ]
  },
  {
   "cell_type": "code",
   "execution_count": 53,
   "metadata": {
    "collapsed": false
   },
   "outputs": [
    {
     "data": {
      "image/png": "[encoded data removed]",
      "text/plain": [
       "<matplotlib.figure.Figure at 0x7f6dd5e808d0>"
      ]
     },
     "metadata": {},
     "output_type": "display_data"
    }
   ],
   "source": [
    "gene_variants.gene_id.value_counts().hist(bins=100, log=True)\n",
    "plt.ylabel('Number of genes')\n",
    "plt.xlabel('Number of variants');"
   ]
  },
  {
   "cell_type": "code",
   "execution_count": 54,
   "metadata": {
    "collapsed": true
   },
   "outputs": [],
   "source": [
    "gene_gb = gene_variants.groupby('gene_id')\n",
    "num_genes = len(set(gene_variants.gene_id))"
   ]
  },
  {
   "cell_type": "code",
   "execution_count": 55,
   "metadata": {
    "collapsed": false
   },
   "outputs": [
    {
     "name": "stdout",
     "output_type": "stream",
     "text": [
      "2,701 of 5,704 genes have at least one significant exonic variant.\n",
      "2,016 of these 2,701 genes have at least one significant variant in their own exon.\n"
     ]
    }
   ],
   "source": [
    "n = (gene_gb.exonic.sum() > 0).value_counts()[True]\n",
    "print('{:,} of {:,} genes have at least one significant exonic variant.'.format(\n",
    "    n, num_genes))\n",
    "m = (gene_gb.exonic_same_gene.sum() > 0).value_counts()[True]\n",
    "print('{:,} of these {:,} genes have at least one significant variant in their own exon.'.format(\n",
    "    m, n))"
   ]
  },
  {
   "cell_type": "code",
   "execution_count": 56,
   "metadata": {
    "collapsed": false
   },
   "outputs": [
    {
     "data": {
      "image/png": "[encoded data removed]",
      "text/plain": [
       "<matplotlib.figure.Figure at 0x7f6d78410610>"
      ]
     },
     "metadata": {},
     "output_type": "display_data"
    }
   ],
   "source": [
    "fig, axs = plt.subplots(1, 2, figsize=[12, 4])\n",
    "ax = gene_gb.exonic.sum().hist(log=True, bins=range(0, int(gene_gb.exonic.sum().max())), ax=axs[0])\n",
    "ax.set_ylabel('Number of exonic variants')\n",
    "ax.set_xlabel('Number of genes')\n",
    "ax = gene_gb.exonic_same_gene.sum().hist(log=True, bins=range(0, int(gene_gb.exonic.sum().max())), ax=axs[1])\n",
    "ax.set_ylabel('Number of exonic variants in same gene')\n",
    "ax.set_xlabel('Number of genes');"
   ]
  },
  {
   "cell_type": "code",
   "execution_count": 57,
   "metadata": {
    "collapsed": false
   },
   "outputs": [
    {
     "name": "stdout",
     "output_type": "stream",
     "text": [
      "2,036 of 5,704 genes have at least one significant UTR variant.\n",
      "1,319 of these 2,036 genes have at least one significant variant in their own UTR.\n"
     ]
    }
   ],
   "source": [
    "n = (gene_gb.utr.sum() > 0).value_counts()[True]\n",
    "print('{:,} of {:,} genes have at least one significant UTR variant.'.format(\n",
    "    n, len(set(gene_variants.gene_id))))\n",
    "m = (gene_gb.utr_same_gene.sum() > 0).value_counts()[True]\n",
    "print('{:,} of these {:,} genes have at least one significant variant in their own UTR.'.format(\n",
    "    m, n))"
   ]
  },
  {
   "cell_type": "code",
   "execution_count": 58,
   "metadata": {
    "collapsed": false
   },
   "outputs": [
    {
     "data": {
      "image/png": "[encoded data removed]",
      "text/plain": [
       "<matplotlib.figure.Figure at 0x7f6d78418450>"
      ]
     },
     "metadata": {},
     "output_type": "display_data"
    }
   ],
   "source": [
    "fig, axs = plt.subplots(1, 2, figsize=[12, 4])\n",
    "ax = gene_gb.utr.sum().hist(log=True, bins=range(0, int(gene_gb.utr.sum().max())), ax=axs[0])\n",
    "ax.set_ylabel('Number of UTR variants')\n",
    "ax.set_xlabel('Number of genes')\n",
    "ax = gene_gb.utr_same_gene.sum().hist(log=True, bins=range(0, int(gene_gb.utr.sum().max())), ax=axs[1])\n",
    "ax.set_ylabel('Number of UTR variants in same gene')\n",
    "ax.set_xlabel('Number of genes');"
   ]
  },
  {
   "cell_type": "code",
   "execution_count": 59,
   "metadata": {
    "collapsed": false
   },
   "outputs": [
    {
     "name": "stdout",
     "output_type": "stream",
     "text": [
      "iPS_DF_6.9_roadmap_dnase\t0.05%\n",
      "iPS_DF_19.11_roadmap_dnase\t0.05%\n",
      "H1_roadmap_dnase\t0.04%\n",
      "H9_roadmap_dnase\t0.05%\n",
      "iPSC_ENCSR000EKK_dnase\t0.04%\n",
      "iPSC_ENCSR000EKJ_dnase\t0.04%\n",
      "iPSC_ENCSR000EKI_dnase\t0.05%\n",
      "iPSC_ENCSR000EKH_dnase\t0.02%\n",
      "H7-hESC_ENCSR000EMZ_dnase\t0.02%\n",
      "H1-hESC_ENCSR000EMU_dnase\t0.02%\n",
      "H9_ENCSR000EJP_dnase\t0.02%\n",
      "H7-hESC_ENCSR000EJO_dnase\t0.07%\n",
      "H1-hESC_ENCSR000EJN_dnase\t0.06%\n"
     ]
    }
   ],
   "source": [
    "for c in [x for x in gene_variants.columns if 'dnase' in x]:\n",
    "    vc = gene_variants[c].value_counts()\n",
    "    print('{}\\t{:.2f}%'.format(c, float(vc[True]) / vc.sum()))"
   ]
  },
  {
   "cell_type": "code",
   "execution_count": 60,
   "metadata": {
    "collapsed": false
   },
   "outputs": [
    {
     "data": {
      "image/png": "[encoded data removed]",
      "text/plain": [
       "<matplotlib.figure.Figure at 0x7f6dcf1e6a90>"
      ]
     },
     "metadata": {},
     "output_type": "display_data"
    }
   ],
   "source": [
    "vc = gene_variants.ix[gene_variants['H1-hESC_ENCSR000EMU_dnase'] == True, 'gene_id'].value_counts()\n",
    "vc.hist(bins=range(0, vc.max() + 1))\n",
    "plt.ylabel('Number of genes')\n",
    "plt.xlabel('Number of variants overlapping DNase peak');"
   ]
  },
  {
   "cell_type": "code",
   "execution_count": 61,
   "metadata": {
    "collapsed": false
   },
   "outputs": [
    {
     "data": {
      "text/plain": [
       "not_imbalanced           12177\n",
       "imbalanced_(5%_FDR)       2589\n",
       "imbalanced_(0.1%_FDR)      290\n",
       "Name: significance.level_maurano, dtype: int64"
      ]
     },
     "execution_count": 61,
     "metadata": {},
     "output_type": "execute_result"
    }
   ],
   "source": [
    "gene_variants['significance.level_maurano'].value_counts()"
   ]
  },
  {
   "cell_type": "code",
   "execution_count": 62,
   "metadata": {
    "collapsed": false
   },
   "outputs": [
    {
     "data": {
      "text/plain": [
       "not_imbalanced           297687\n",
       "imbalanced_(5%_FDR)       55141\n",
       "imbalanced_(0.1%_FDR)      9456\n",
       "Name: significance.level_maurano, dtype: int64"
      ]
     },
     "execution_count": 62,
     "metadata": {},
     "output_type": "execute_result"
    }
   ],
   "source": [
    "maurano_res['significance.level_maurano'].value_counts()"
   ]
  },
  {
   "cell_type": "code",
   "execution_count": 63,
   "metadata": {
    "collapsed": false
   },
   "outputs": [
    {
     "data": {
      "image/png": "[encoded data removed]",
      "text/plain": [
       "<matplotlib.figure.Figure at 0x7f6dd5e28190>"
      ]
     },
     "metadata": {},
     "output_type": "display_data"
    }
   ],
   "source": [
    "gene_variants['q.value_maurano'].hist(bins=100)\n",
    "plt.ylabel('Number of variants')\n",
    "plt.xlabel('Maurano $q$-value');"
   ]
  },
  {
   "cell_type": "code",
   "execution_count": 64,
   "metadata": {
    "collapsed": false
   },
   "outputs": [
    {
     "data": {
      "image/png": "[encoded data removed]",
      "text/plain": [
       "<matplotlib.figure.Figure at 0x7f6dd4331690>"
      ]
     },
     "metadata": {},
     "output_type": "display_data"
    }
   ],
   "source": [
    "se = gene_variants['q.value_maurano'].dropna()\n",
    "se += se[se > 0].min()\n",
    "(-np.log10(se)).hist(bins=100)\n",
    "plt.ylabel('Number of variants')\n",
    "plt.xlabel('Maurano $-\\log_{10}q$-value');"
   ]
  },
  {
   "cell_type": "markdown",
   "metadata": {},
   "source": [
    "### Single variant genes\n",
    "\n",
    "I'm going to look at genes for which there is only one significant\n",
    "variant. In theory, these should often be the causal variants."
   ]
  },
  {
   "cell_type": "code",
   "execution_count": 65,
   "metadata": {
    "collapsed": true
   },
   "outputs": [],
   "source": [
    "se = gene_variants.gene_id.value_counts() == 1\n",
    "genes = set(se[se].index)\n",
    "tdf = gene_variants[gene_variants.gene_id.apply(lambda x: x in genes)]"
   ]
  },
  {
   "cell_type": "code",
   "execution_count": 66,
   "metadata": {
    "collapsed": false
   },
   "outputs": [
    {
     "name": "stdout",
     "output_type": "stream",
     "text": [
      "313 of 2197 genes have an exonic variant.\n",
      "163 of 2197 genes have a UTR variant.\n",
      "114 of 2197 genes have a variant in H1-hESC_ENCSR000EMU DNase peaks.\n"
     ]
    }
   ],
   "source": [
    "n = tdf.exonic.value_counts()[True]\n",
    "print('{} of {} genes have an exonic variant.'.format(n, tdf.shape[0]))\n",
    "n = tdf.utr.value_counts()[True]\n",
    "print('{} of {} genes have a UTR variant.'.format(n, tdf.shape[0]))\n",
    "n = tdf['H1-hESC_ENCSR000EMU_dnase'].value_counts()[True]\n",
    "print('{} of {} genes have a variant in H1-hESC_ENCSR000EMU DNase peaks.'.format(n, tdf.shape[0]))"
   ]
  },
  {
   "cell_type": "code",
   "execution_count": 67,
   "metadata": {
    "collapsed": false
   },
   "outputs": [
    {
     "data": {
      "text/plain": [
       "not_imbalanced           0.821695\n",
       "imbalanced_(5%_FDR)      0.152204\n",
       "imbalanced_(0.1%_FDR)    0.026101\n",
       "Name: significance.level_maurano, dtype: float64"
      ]
     },
     "execution_count": 67,
     "metadata": {},
     "output_type": "execute_result"
    }
   ],
   "source": [
    "maurano_res['significance.level_maurano'].value_counts() / maurano_res.shape[0]"
   ]
  },
  {
   "cell_type": "code",
   "execution_count": 68,
   "metadata": {
    "collapsed": false
   },
   "outputs": [
    {
     "data": {
      "text/plain": [
       "not_imbalanced           0.808781\n",
       "imbalanced_(5%_FDR)      0.171958\n",
       "imbalanced_(0.1%_FDR)    0.019261\n",
       "Name: significance.level_maurano, dtype: float64"
      ]
     },
     "execution_count": 68,
     "metadata": {},
     "output_type": "execute_result"
    }
   ],
   "source": [
    "(gene_variants['significance.level_maurano'].value_counts() / \n",
    " gene_variants['significance.level_maurano'].value_counts().sum())"
   ]
  },
  {
   "cell_type": "code",
   "execution_count": 69,
   "metadata": {
    "collapsed": false
   },
   "outputs": [
    {
     "data": {
      "text/plain": [
       "not_imbalanced           0.748954\n",
       "imbalanced_(5%_FDR)      0.230126\n",
       "imbalanced_(0.1%_FDR)    0.020921\n",
       "Name: significance.level_maurano, dtype: float64"
      ]
     },
     "execution_count": 69,
     "metadata": {},
     "output_type": "execute_result"
    }
   ],
   "source": [
    "tdf['significance.level_maurano'].value_counts() / tdf['significance.level_maurano'].value_counts().sum()"
   ]
  },
  {
   "cell_type": "code",
   "execution_count": 70,
   "metadata": {
    "collapsed": false
   },
   "outputs": [
    {
     "data": {
      "text/plain": [
       "not_imbalanced           179\n",
       "imbalanced_(5%_FDR)       55\n",
       "imbalanced_(0.1%_FDR)      5\n",
       "Name: significance.level_maurano, dtype: int64"
      ]
     },
     "execution_count": 70,
     "metadata": {},
     "output_type": "execute_result"
    }
   ],
   "source": [
    "tdf['significance.level_maurano'].value_counts()"
   ]
  },
  {
   "cell_type": "code",
   "execution_count": 71,
   "metadata": {
    "collapsed": false
   },
   "outputs": [],
   "source": [
    "t = gene_variants.sort_values(by=['gene_id', 'pvalue'])\n",
    "t = t.drop_duplicates(subset='gene_id')"
   ]
  },
  {
   "cell_type": "code",
   "execution_count": 72,
   "metadata": {
    "collapsed": false
   },
   "outputs": [
    {
     "data": {
      "text/plain": [
       "not_imbalanced           0.718702\n",
       "imbalanced_(5%_FDR)      0.258114\n",
       "imbalanced_(0.1%_FDR)    0.023184\n",
       "Name: significance.level_maurano, dtype: float64"
      ]
     },
     "execution_count": 72,
     "metadata": {},
     "output_type": "execute_result"
    }
   ],
   "source": [
    "t['significance.level_maurano'].value_counts() / t['significance.level_maurano'].value_counts().sum()"
   ]
  },
  {
   "cell_type": "code",
   "execution_count": 73,
   "metadata": {
    "collapsed": false
   },
   "outputs": [
    {
     "name": "stdout",
     "output_type": "stream",
     "text": [
      "The eQTL variant for 105 genes disrupts a TF.\n",
      "19 of these are significant in Maurano et al.\n"
     ]
    }
   ],
   "source": [
    "n = len(set(tf_disrupt.index) & set(tdf.location))\n",
    "print('The eQTL variant for {} genes disrupts a TF.'.format(n))\n",
    "n = len(set(tf_disrupt.index) & set(tdf.location) & \n",
    "        set(tdf.ix[tdf['q.value_maurano'] < 0.05, 'location']))\n",
    "print('{} of these are significant in Maurano et al.'.format(n))"
   ]
  },
  {
   "cell_type": "markdown",
   "metadata": {},
   "source": [
    "## Fine Mapping\n",
    "\n",
    "I'll start by removing genes are predicted to undergo NMD. I may also want to remove\n",
    "genes where a CNV overlaps the gene."
   ]
  },
  {
   "cell_type": "code",
   "execution_count": 74,
   "metadata": {
    "collapsed": false
   },
   "outputs": [
    {
     "name": "stdout",
     "output_type": "stream",
     "text": [
      "42 genes only had CNV associations.\n"
     ]
    }
   ],
   "source": [
    "n = qvalues.perm_sig.sum() - len(set(gene_variants.gene_id))\n",
    "print('{} genes only had CNV associations.'.format(n))"
   ]
  },
  {
   "cell_type": "code",
   "execution_count": 75,
   "metadata": {
    "collapsed": false
   },
   "outputs": [
    {
     "name": "stdout",
     "output_type": "stream",
     "text": [
      "5,672 of 5,704 genes don't have a significant NMD variant.\n",
      "32 genes have a significant NMD variant.\n"
     ]
    }
   ],
   "source": [
    "gene_variants_f = gene_variants[(gene_variants.gene_has_nmd_variant == False)]\n",
    "a = len(set(gene_variants_f.gene_id))\n",
    "b = len(set(gene_variants.gene_id))\n",
    "print('{:,} of {:,} genes don\\'t have a significant NMD variant.'.format(a, b))\n",
    "print('{:,} genes have a significant NMD variant.'.format(b - a))"
   ]
  },
  {
   "cell_type": "code",
   "execution_count": 76,
   "metadata": {
    "collapsed": false
   },
   "outputs": [
    {
     "name": "stdout",
     "output_type": "stream",
     "text": [
      "5,606 of 5,672 genes don't have a significant overlapping CNV\n",
      "66 genes have a significant overlapping CNV\n"
     ]
    }
   ],
   "source": [
    "a = len(set(gene_variants_f.gene_id))\n",
    "gene_variants_f = gene_variants_f[gene_variants_f.cnv_eqtl == False]\n",
    "b = len(set(gene_variants_f.gene_id))\n",
    "print('{:,} of {:,} genes don\\'t have a significant overlapping CNV'.format(b, a))\n",
    "print('{:,} genes have a significant overlapping CNV'.format(a - b))"
   ]
  },
  {
   "cell_type": "code",
   "execution_count": 77,
   "metadata": {
    "collapsed": false
   },
   "outputs": [
    {
     "name": "stdout",
     "output_type": "stream",
     "text": [
      "Removed 140 genes due to CNV or NMD eQTLs.\n",
      "191,871 remaining variants.\n",
      "5,606 remaining genes.\n"
     ]
    }
   ],
   "source": [
    "n = qvalues.perm_sig.sum() - len(set(gene_variants_f.gene_id))\n",
    "print('Removed {} genes due to CNV or NMD eQTLs.'.format(n))\n",
    "print('{:,} remaining variants.'.format(len(set(gene_variants_f.location))))\n",
    "print('{:,} remaining genes.'.format(len(set(gene_variants_f.gene_id))))"
   ]
  },
  {
   "cell_type": "code",
   "execution_count": 78,
   "metadata": {
    "collapsed": false
   },
   "outputs": [],
   "source": [
    "no_cnv_nmd_vars = gene_variants_f.location.drop_duplicates()\n",
    "gene_variants_f.to_csv(os.path.join(outdir, 'no_cnv_nmd_vars_gv.tsv'), sep='\\t')"
   ]
  },
  {
   "cell_type": "code",
   "execution_count": 79,
   "metadata": {
    "collapsed": false
   },
   "outputs": [
    {
     "name": "stdout",
     "output_type": "stream",
     "text": [
      "Overlapped variants with 40 ENCODE experiments for 34 TFs.\n"
     ]
    }
   ],
   "source": [
    "a = peak_overlap.shape[1]\n",
    "b = tf_overlap.shape[1]\n",
    "print('Overlapped variants with {} ENCODE experiments for {} TFs.'.format(a, b))"
   ]
  },
  {
   "cell_type": "code",
   "execution_count": 80,
   "metadata": {
    "collapsed": false
   },
   "outputs": [
    {
     "name": "stdout",
     "output_type": "stream",
     "text": [
      "7,840 of 191,871 variants for 2,244 eGenes overlapped at least one peak\n"
     ]
    }
   ],
   "source": [
    "n = sum(peak_overlap.ix[gene_variants_f.location.drop_duplicates()].sum(axis=1) > 0)\n",
    "print(('{:,} of {:,} variants for {:,} eGenes overlapped at least one peak'.format(\n",
    "            n, gene_variants_f.location.drop_duplicates().shape[0], \n",
    "            len(set(gene_variants_f[gene_variants_f.tf_overlap].gene_id)))))"
   ]
  },
  {
   "cell_type": "code",
   "execution_count": 81,
   "metadata": {
    "collapsed": false
   },
   "outputs": [
    {
     "name": "stdout",
     "output_type": "stream",
     "text": [
      "3,140 of 191,871 variants disrupted at least one TF.\n"
     ]
    }
   ],
   "source": [
    "n = sum(tf_disrupt.ix[gene_variants_f.location.drop_duplicates()].sum(axis=1) > 0)\n",
    "print('{:,} of {:,} variants disrupted at least one TF.'.format(\n",
    "        n, gene_variants_f.location.drop_duplicates().shape[0]))"
   ]
  },
  {
   "cell_type": "code",
   "execution_count": 82,
   "metadata": {
    "collapsed": true
   },
   "outputs": [],
   "source": [
    "gene_variants_f = gene_variants_f[gene_variants_f.tf_disrupt]"
   ]
  },
  {
   "cell_type": "code",
   "execution_count": 83,
   "metadata": {
    "collapsed": false
   },
   "outputs": [
    {
     "data": {
      "text/plain": [
       "1526"
      ]
     },
     "execution_count": 83,
     "metadata": {},
     "output_type": "execute_result"
    }
   ],
   "source": [
    "len(set(gene_variants_f.gene_id))"
   ]
  },
  {
   "cell_type": "code",
   "execution_count": 84,
   "metadata": {
    "collapsed": false
   },
   "outputs": [
    {
     "data": {
      "image/png": "[encoded data removed]",
      "text/plain": [
       "<matplotlib.figure.Figure at 0x7f6d78cb3390>"
      ]
     },
     "metadata": {},
     "output_type": "display_data"
    }
   ],
   "source": [
    "tf_overlap.sum().plot.bar()\n",
    "plt.ylabel('Number of variants that overlap peak');"
   ]
  },
  {
   "cell_type": "code",
   "execution_count": 85,
   "metadata": {
    "collapsed": false
   },
   "outputs": [
    {
     "data": {
      "image/png": "[encoded data removed]",
      "text/plain": [
       "<matplotlib.figure.Figure at 0x7f6d7757be10>"
      ]
     },
     "metadata": {},
     "output_type": "display_data"
    }
   ],
   "source": [
    "tf_disrupt.sum().plot.bar()\n",
    "plt.ylabel('Number of variants that disrupt motif');"
   ]
  },
  {
   "cell_type": "code",
   "execution_count": 86,
   "metadata": {
    "collapsed": false
   },
   "outputs": [
    {
     "data": {
      "image/png": "[encoded data removed]",
      "text/plain": [
       "<matplotlib.figure.Figure at 0x7f6d76ef63d0>"
      ]
     },
     "metadata": {},
     "output_type": "display_data"
    }
   ],
   "source": [
    "(tf_disrupt.sum() / tf_overlap.sum()).plot.bar()\n",
    "plt.ylabel('Percent peaks with disrupted motif');"
   ]
  },
  {
   "cell_type": "code",
   "execution_count": 88,
   "metadata": {
    "collapsed": false
   },
   "outputs": [
    {
     "data": {
      "text/plain": [
       "32"
      ]
     },
     "execution_count": 88,
     "metadata": {},
     "output_type": "execute_result"
    }
   ],
   "source": [
    "tf_disrupt['NANOG'].sum()"
   ]
  },
  {
   "cell_type": "code",
   "execution_count": 89,
   "metadata": {
    "collapsed": false
   },
   "outputs": [
    {
     "data": {
      "text/plain": [
       "not_imbalanced           0.612960\n",
       "imbalanced_(5%_FDR)      0.371278\n",
       "imbalanced_(0.1%_FDR)    0.015762\n",
       "Name: significance.level_maurano, dtype: float64"
      ]
     },
     "execution_count": 89,
     "metadata": {},
     "output_type": "execute_result"
    }
   ],
   "source": [
    "gene_variants_f['significance.level_maurano'].value_counts() / gene_variants_f['significance.level_maurano'].value_counts().sum()"
   ]
  },
  {
   "cell_type": "code",
   "execution_count": 90,
   "metadata": {
    "collapsed": false
   },
   "outputs": [
    {
     "data": {
      "text/plain": [
       "not_imbalanced           0.808781\n",
       "imbalanced_(5%_FDR)      0.171958\n",
       "imbalanced_(0.1%_FDR)    0.019261\n",
       "Name: significance.level_maurano, dtype: float64"
      ]
     },
     "execution_count": 90,
     "metadata": {},
     "output_type": "execute_result"
    }
   ],
   "source": [
    "gene_variants['significance.level_maurano'].value_counts() / gene_variants['significance.level_maurano'].value_counts().sum()"
   ]
  },
  {
   "cell_type": "code",
   "execution_count": 91,
   "metadata": {
    "collapsed": false
   },
   "outputs": [
    {
     "name": "stdout",
     "output_type": "stream",
     "text": [
      "Maurano assayed 13,664 of the eQTL variants.\n",
      "17.83% of all variants tested in Maurano paper were significant (q < 0.05).\n",
      "373 of 992 (37.60%) putative eQTNs were significant in Maurano (q < 0.05).\n",
      "2,430 of 12,672 (19.18%) sig. variants that were not putative eQTNs were significant in Maurano (q < 0.05).\n"
     ]
    }
   ],
   "source": [
    "a = set(gene_variants_f.location) & set(maurano_res.index)\n",
    "b = set(no_cnv_nmd_vars) & set(maurano_res.index)\n",
    "\n",
    "print('Maurano assayed {:,} of the eQTL variants.'.format(len(a) + len(b)))\n",
    "print ('{:.2f}% of all variants tested in Maurano paper were significant (q < 0.05).'.format(\n",
    "    sum(maurano_res['q.value_maurano'] < 0.05) / float(maurano_res.shape[0]) * 100))\n",
    "print('{:,} of {:,} ({:.2f}%) putative eQTNs were significant in Maurano (q < 0.05).'.format(\n",
    "        sum(maurano_res.ix[a, 'q.value_maurano'] < 0.05), len(a),\n",
    "        sum(maurano_res.ix[a, 'q.value_maurano'] < 0.05) / float(len(a)) * 100))\n",
    "print('{:,} of {:,} ({:.2f}%) sig. variants that were not putative eQTNs were significant in Maurano (q < 0.05).'.format(\n",
    "        sum(maurano_res.ix[b, 'q.value_maurano'] < 0.05), len(b),\n",
    "        sum(maurano_res.ix[b, 'q.value_maurano'] < 0.05) / float(len(b)) * 100))"
   ]
  },
  {
   "cell_type": "code",
   "execution_count": 92,
   "metadata": {
    "collapsed": false
   },
   "outputs": [
    {
     "name": "stdout",
     "output_type": "stream",
     "text": [
      "peQTNs enriched for altering TF binding relative to all Maurano variants (odds=2.7776, p=1.2216e-48, Fisher).\n",
      "peQTNs enriched for altering TF binding relative to non-peQTN eQTL variants (odds=2.5398, p=4.4460e-38, Fisher).\n"
     ]
    }
   ],
   "source": [
    "pe_sig = sum(maurano_res.ix[a, 'q.value_maurano'] < 0.05)\n",
    "pe_not_sig = len(a) - pe_sig\n",
    "not_pe_sig = sum(maurano_res['q.value_maurano'] < 0.05)\n",
    "not_pe_not_sig = maurano_res.shape[0] - not_pe_sig\n",
    "odds, p = stats.fisher_exact([[pe_sig, pe_not_sig], [not_pe_sig, not_pe_not_sig]])\n",
    "print('peQTNs enriched for altering TF binding relative to all Maurano variants '\n",
    "      '(odds={:.4f}, p={:.4e}, Fisher).'.format(odds, p))\n",
    "\n",
    "pe_sig = sum(maurano_res.ix[a, 'q.value_maurano'] < 0.05)\n",
    "pe_not_sig = len(a) - pe_sig\n",
    "not_pe_sig = sum(maurano_res.ix[b, 'q.value_maurano'] < 0.05)\n",
    "not_pe_not_sig = len(b) - not_pe_sig\n",
    "odds, p = stats.fisher_exact([[pe_sig, pe_not_sig], [not_pe_sig, not_pe_not_sig]])\n",
    "print('peQTNs enriched for altering TF binding relative to non-peQTN eQTL variants '\n",
    "      '(odds={:.4f}, p={:.4e}, Fisher).'.format(odds, p))"
   ]
  },
  {
   "cell_type": "code",
   "execution_count": 93,
   "metadata": {
    "collapsed": false
   },
   "outputs": [
    {
     "data": {
      "text/plain": [
       "<matplotlib.axes._subplots.AxesSubplot at 0x7f6d7a65d250>"
      ]
     },
     "execution_count": 93,
     "metadata": {},
     "output_type": "execute_result"
    },
    {
     "data": {
      "image/png": "[encoded data removed]",
      "text/plain": [
       "<matplotlib.figure.Figure at 0x7f6d77775210>"
      ]
     },
     "metadata": {},
     "output_type": "display_data"
    }
   ],
   "source": [
    "gene_variants['q.value_maurano'].hist()"
   ]
  },
  {
   "cell_type": "code",
   "execution_count": 94,
   "metadata": {
    "collapsed": false
   },
   "outputs": [
    {
     "data": {
      "text/plain": [
       "<matplotlib.axes._subplots.AxesSubplot at 0x7f6d76ef2350>"
      ]
     },
     "execution_count": 94,
     "metadata": {},
     "output_type": "execute_result"
    },
    {
     "data": {
      "image/png": "[encoded data removed]",
      "text/plain": [
       "<matplotlib.figure.Figure at 0x7f6d76ef2550>"
      ]
     },
     "metadata": {},
     "output_type": "display_data"
    }
   ],
   "source": [
    "gene_variants_f['q.value_maurano'].hist()"
   ]
  },
  {
   "cell_type": "code",
   "execution_count": 95,
   "metadata": {
    "collapsed": false
   },
   "outputs": [
    {
     "name": "stdout",
     "output_type": "stream",
     "text": [
      "766 of 1,526 (50.20%) eGenes have one putative eQTN.\n",
      "1,404 of 1,526 (92.01%) eGenes have five or less putative eQTNs.\n"
     ]
    }
   ],
   "source": [
    "n = len(set(gene_variants_f.gene_id))\n",
    "a = sum(gene_variants_f.gene_id.value_counts() == 1)\n",
    "print('{:,} of {:,} ({:.2f}%) eGenes have one putative eQTN.'.format(a, n, a / float(n) * 100))\n",
    "a = sum(gene_variants_f.gene_id.value_counts() <= 5)\n",
    "print('{:,} of {:,} ({:.2f}%) eGenes have five or less putative eQTNs.'.format(a, n, a / float(n) * 100))"
   ]
  },
  {
   "cell_type": "code",
   "execution_count": 96,
   "metadata": {
    "collapsed": false
   },
   "outputs": [
    {
     "data": {
      "image/png": "[encoded data removed]",
      "text/plain": [
       "<matplotlib.figure.Figure at 0x7f6d78419210>"
      ]
     },
     "metadata": {},
     "output_type": "display_data"
    }
   ],
   "source": [
    "vc = gene_variants_f.gene_id.value_counts().value_counts().sort_index()\n",
    "vc.plot(kind='bar')\n",
    "plt.ylabel('Number of eGenes')\n",
    "plt.xlabel('Number of putative eQTNs per gene');"
   ]
  },
  {
   "cell_type": "code",
   "execution_count": 97,
   "metadata": {
    "collapsed": false
   },
   "outputs": [
    {
     "data": {
      "image/png": "[encoded data removed]",
      "text/plain": [
       "<matplotlib.figure.Figure at 0x7f6d7756c290>"
      ]
     },
     "metadata": {},
     "output_type": "display_data"
    }
   ],
   "source": [
    "gene_variants_f['roadmap_dnase_num'] = \\\n",
    "    gene_variants_f[[x for x in gene_variants_f.columns \n",
    "                    if '_roadmap_dnase' in x]].sum(axis=1)\n",
    "\n",
    "se = gene_variants_f.roadmap_dnase_num.value_counts()\n",
    "se = se[range(se.shape[0])]\n",
    "se.plot(kind='bar')\n",
    "plt.ylabel('Number of variants')\n",
    "plt.xlabel('Number of DNase peaks overlapping');"
   ]
  },
  {
   "cell_type": "code",
   "execution_count": 98,
   "metadata": {
    "collapsed": false
   },
   "outputs": [
    {
     "name": "stdout",
     "output_type": "stream",
     "text": [
      "2,835 of 3,140 (90.29%) putative eQTNs overlap a DHS.\n",
      "1,923 of 3,140 (61.24%) putative eQTNs overlap DHS present in all four lines.\n"
     ]
    }
   ],
   "source": [
    "a = gene_variants_f[gene_variants_f.roadmap_dnase_num > 0].drop_duplicates(subset='location').shape[0]\n",
    "b = gene_variants_f.drop_duplicates(subset='location').shape[0]\n",
    "print('{:,} of {:,} ({:.2f}%) putative eQTNs overlap a DHS.'.format(a, b, a / float(b) * 100))\n",
    "a = gene_variants_f[gene_variants_f.roadmap_dnase_num == 4].drop_duplicates(subset='location').shape[0]\n",
    "b = gene_variants_f.drop_duplicates(subset='location').shape[0]\n",
    "print('{:,} of {:,} ({:.2f}%) putative eQTNs overlap DHS present in all four lines.'.format(a, b, a / float(b) * 100))"
   ]
  },
  {
   "cell_type": "raw",
   "metadata": {
    "collapsed": false
   },
   "source": [
    "n,b,p = plt.hist(gene_variants_f.tss_dist, \n",
    "                 bins=np.arange(-500000, 510000, 10000),\n",
    "                 histtype='stepfilled',\n",
    "                 linewidth=0)\n",
    "ymin, ymax = plt.ylim()\n",
    "plt.vlines(-20000, ymin, ymax)\n",
    "plt.vlines(20000, ymin, ymax)\n",
    "plt.title('Distance from nearest TSS')\n",
    "plt.ylabel('Fraction of eQTLs')\n",
    "plt.xlabel('Distance in base pairs');"
   ]
  },
  {
   "cell_type": "markdown",
   "metadata": {},
   "source": [
    "[Wen et al. 2015](http://journals.plos.org/plosgenetics/article?id=10.1371/journal.pgen.1005176) says 50% of cis-eQTLs are concentrated within 20kb of the TSS."
   ]
  },
  {
   "cell_type": "code",
   "execution_count": 99,
   "metadata": {
    "collapsed": false
   },
   "outputs": [
    {
     "name": "stdout",
     "output_type": "stream",
     "text": [
      "2,106 of 3,905 (53.9%) putative causal variants are within 20kb of the nearest TSS.\n"
     ]
    }
   ],
   "source": [
    "n = sum(gene_variants_f.tss_dist_abs < 20000)\n",
    "p = float(n) / gene_variants_f.shape[0]\n",
    "print('{:,} of {:,} ({:.1f}%) putative causal variants are within 20kb of the nearest TSS.'.format(\n",
    "        n, gene_variants_f.shape[0], p * 100))"
   ]
  },
  {
   "cell_type": "code",
   "execution_count": 100,
   "metadata": {
    "collapsed": false
   },
   "outputs": [
    {
     "data": {
      "text/html": [
       "<div>\n",
       "<table border=\"1\" class=\"dataframe\">\n",
       "  <thead>\n",
       "    <tr style=\"text-align: right;\">\n",
       "      <th></th>\n",
       "      <th>chrom</th>\n",
       "      <th>start</th>\n",
       "      <th>end</th>\n",
       "      <th>marker_id</th>\n",
       "      <th>ns</th>\n",
       "      <th>ac</th>\n",
       "      <th>callrate</th>\n",
       "      <th>genocnt</th>\n",
       "      <th>maf</th>\n",
       "      <th>stat</th>\n",
       "      <th>...</th>\n",
       "      <th>gene_type</th>\n",
       "      <th>AF</th>\n",
       "      <th>EUR_AF</th>\n",
       "      <th>SAS_AF</th>\n",
       "      <th>AFR_AF</th>\n",
       "      <th>AMR_AF</th>\n",
       "      <th>EAS_AF</th>\n",
       "      <th>perm_pvalue</th>\n",
       "      <th>perm_qvalue</th>\n",
       "      <th>perm_sig</th>\n",
       "    </tr>\n",
       "  </thead>\n",
       "  <tbody>\n",
       "    <tr>\n",
       "      <th>chr1:169862063-169862064:ENSG00000000460.12</th>\n",
       "      <td>chr1</td>\n",
       "      <td>169862063</td>\n",
       "      <td>169862064</td>\n",
       "      <td>1:169862064_C/G_rs12131357</td>\n",
       "      <td>215</td>\n",
       "      <td>35</td>\n",
       "      <td>1</td>\n",
       "      <td>182/31/2</td>\n",
       "      <td>0.08140</td>\n",
       "      <td>5.4640</td>\n",
       "      <td>...</td>\n",
       "      <td>protein_coding</td>\n",
       "      <td>0.084066</td>\n",
       "      <td>0.1044</td>\n",
       "      <td>0.0716</td>\n",
       "      <td>0.1505</td>\n",
       "      <td>0.0548</td>\n",
       "      <td>0.0089</td>\n",
       "      <td>0.000100</td>\n",
       "      <td>0.000253</td>\n",
       "      <td>True</td>\n",
       "    </tr>\n",
       "    <tr>\n",
       "      <th>chr6:46112388-46112389:ENSG00000001561.6</th>\n",
       "      <td>chr6</td>\n",
       "      <td>46112388</td>\n",
       "      <td>46112389</td>\n",
       "      <td>6:46112389_A/G_rs1048077</td>\n",
       "      <td>215</td>\n",
       "      <td>290</td>\n",
       "      <td>1</td>\n",
       "      <td>27/86/102</td>\n",
       "      <td>0.32558</td>\n",
       "      <td>8.3460</td>\n",
       "      <td>...</td>\n",
       "      <td>protein_coding</td>\n",
       "      <td>0.821885</td>\n",
       "      <td>0.6809</td>\n",
       "      <td>0.7935</td>\n",
       "      <td>0.9607</td>\n",
       "      <td>0.7954</td>\n",
       "      <td>0.8264</td>\n",
       "      <td>0.000100</td>\n",
       "      <td>0.000253</td>\n",
       "      <td>True</td>\n",
       "    </tr>\n",
       "    <tr>\n",
       "      <th>chr12:1056029-1056030:ENSG00000002016.12</th>\n",
       "      <td>chr12</td>\n",
       "      <td>1056029</td>\n",
       "      <td>1056030</td>\n",
       "      <td>12:1056030_C/G_rs12822733</td>\n",
       "      <td>215</td>\n",
       "      <td>63</td>\n",
       "      <td>1</td>\n",
       "      <td>157/53/5</td>\n",
       "      <td>0.14651</td>\n",
       "      <td>-5.8603</td>\n",
       "      <td>...</td>\n",
       "      <td>protein_coding</td>\n",
       "      <td>0.172324</td>\n",
       "      <td>0.1879</td>\n",
       "      <td>0.2311</td>\n",
       "      <td>0.1732</td>\n",
       "      <td>0.1182</td>\n",
       "      <td>0.1359</td>\n",
       "      <td>0.000100</td>\n",
       "      <td>0.000253</td>\n",
       "      <td>True</td>\n",
       "    </tr>\n",
       "    <tr>\n",
       "      <th>chr12:9095748-9095749:ENSG00000003056.3</th>\n",
       "      <td>chr12</td>\n",
       "      <td>9095748</td>\n",
       "      <td>9095749</td>\n",
       "      <td>12:9095749_T/C_rs7309922</td>\n",
       "      <td>215</td>\n",
       "      <td>199</td>\n",
       "      <td>1</td>\n",
       "      <td>69/93/53</td>\n",
       "      <td>0.46279</td>\n",
       "      <td>-8.2255</td>\n",
       "      <td>...</td>\n",
       "      <td>protein_coding</td>\n",
       "      <td>0.358027</td>\n",
       "      <td>0.4473</td>\n",
       "      <td>0.4796</td>\n",
       "      <td>0.1536</td>\n",
       "      <td>0.3905</td>\n",
       "      <td>0.3968</td>\n",
       "      <td>0.000100</td>\n",
       "      <td>0.000253</td>\n",
       "      <td>True</td>\n",
       "    </tr>\n",
       "    <tr>\n",
       "      <th>chr7:9247738-9247739:ENSG00000003147.13</th>\n",
       "      <td>chr7</td>\n",
       "      <td>9247738</td>\n",
       "      <td>9247739</td>\n",
       "      <td>7:9247739_A/G_rs12537168</td>\n",
       "      <td>215</td>\n",
       "      <td>129</td>\n",
       "      <td>1</td>\n",
       "      <td>104/93/18</td>\n",
       "      <td>0.30000</td>\n",
       "      <td>-4.6270</td>\n",
       "      <td>...</td>\n",
       "      <td>protein_coding</td>\n",
       "      <td>0.188299</td>\n",
       "      <td>0.3032</td>\n",
       "      <td>0.2464</td>\n",
       "      <td>0.0189</td>\n",
       "      <td>0.1816</td>\n",
       "      <td>0.2440</td>\n",
       "      <td>0.011628</td>\n",
       "      <td>0.017456</td>\n",
       "      <td>True</td>\n",
       "    </tr>\n",
       "  </tbody>\n",
       "</table>\n",
       "<p>5 rows × 35 columns</p>\n",
       "</div>"
      ],
      "text/plain": [
       "                                             chrom      start        end  \\\n",
       "chr1:169862063-169862064:ENSG00000000460.12   chr1  169862063  169862064   \n",
       "chr6:46112388-46112389:ENSG00000001561.6      chr6   46112388   46112389   \n",
       "chr12:1056029-1056030:ENSG00000002016.12     chr12    1056029    1056030   \n",
       "chr12:9095748-9095749:ENSG00000003056.3      chr12    9095748    9095749   \n",
       "chr7:9247738-9247739:ENSG00000003147.13       chr7    9247738    9247739   \n",
       "\n",
       "                                                              marker_id   ns  \\\n",
       "chr1:169862063-169862064:ENSG00000000460.12  1:169862064_C/G_rs12131357  215   \n",
       "chr6:46112388-46112389:ENSG00000001561.6       6:46112389_A/G_rs1048077  215   \n",
       "chr12:1056029-1056030:ENSG00000002016.12      12:1056030_C/G_rs12822733  215   \n",
       "chr12:9095748-9095749:ENSG00000003056.3        12:9095749_T/C_rs7309922  215   \n",
       "chr7:9247738-9247739:ENSG00000003147.13        7:9247739_A/G_rs12537168  215   \n",
       "\n",
       "                                              ac  callrate    genocnt  \\\n",
       "chr1:169862063-169862064:ENSG00000000460.12   35         1   182/31/2   \n",
       "chr6:46112388-46112389:ENSG00000001561.6     290         1  27/86/102   \n",
       "chr12:1056029-1056030:ENSG00000002016.12      63         1   157/53/5   \n",
       "chr12:9095748-9095749:ENSG00000003056.3      199         1   69/93/53   \n",
       "chr7:9247738-9247739:ENSG00000003147.13      129         1  104/93/18   \n",
       "\n",
       "                                                 maf    stat   ...     \\\n",
       "chr1:169862063-169862064:ENSG00000000460.12  0.08140  5.4640   ...      \n",
       "chr6:46112388-46112389:ENSG00000001561.6     0.32558  8.3460   ...      \n",
       "chr12:1056029-1056030:ENSG00000002016.12     0.14651 -5.8603   ...      \n",
       "chr12:9095748-9095749:ENSG00000003056.3      0.46279 -8.2255   ...      \n",
       "chr7:9247738-9247739:ENSG00000003147.13      0.30000 -4.6270   ...      \n",
       "\n",
       "                                                  gene_type        AF  EUR_AF  \\\n",
       "chr1:169862063-169862064:ENSG00000000460.12  protein_coding  0.084066  0.1044   \n",
       "chr6:46112388-46112389:ENSG00000001561.6     protein_coding  0.821885  0.6809   \n",
       "chr12:1056029-1056030:ENSG00000002016.12     protein_coding  0.172324  0.1879   \n",
       "chr12:9095748-9095749:ENSG00000003056.3      protein_coding  0.358027  0.4473   \n",
       "chr7:9247738-9247739:ENSG00000003147.13      protein_coding  0.188299  0.3032   \n",
       "\n",
       "                                             SAS_AF  AFR_AF  AMR_AF  EAS_AF  \\\n",
       "chr1:169862063-169862064:ENSG00000000460.12  0.0716  0.1505  0.0548  0.0089   \n",
       "chr6:46112388-46112389:ENSG00000001561.6     0.7935  0.9607  0.7954  0.8264   \n",
       "chr12:1056029-1056030:ENSG00000002016.12     0.2311  0.1732  0.1182  0.1359   \n",
       "chr12:9095748-9095749:ENSG00000003056.3      0.4796  0.1536  0.3905  0.3968   \n",
       "chr7:9247738-9247739:ENSG00000003147.13      0.2464  0.0189  0.1816  0.2440   \n",
       "\n",
       "                                            perm_pvalue perm_qvalue perm_sig  \n",
       "chr1:169862063-169862064:ENSG00000000460.12    0.000100    0.000253     True  \n",
       "chr6:46112388-46112389:ENSG00000001561.6       0.000100    0.000253     True  \n",
       "chr12:1056029-1056030:ENSG00000002016.12       0.000100    0.000253     True  \n",
       "chr12:9095748-9095749:ENSG00000003056.3        0.000100    0.000253     True  \n",
       "chr7:9247738-9247739:ENSG00000003147.13        0.011628    0.017456     True  \n",
       "\n",
       "[5 rows x 35 columns]"
      ]
     },
     "execution_count": 100,
     "metadata": {},
     "output_type": "execute_result"
    }
   ],
   "source": [
    "lead_variants_single_f.head()"
   ]
  },
  {
   "cell_type": "code",
   "execution_count": 101,
   "metadata": {
    "collapsed": false
   },
   "outputs": [
    {
     "name": "stdout",
     "output_type": "stream",
     "text": [
      "298 of my 3,905 putative causal variants (7.63%)  are also the most significant variants\n",
      "The lead variant is a peQTN for 298 of 1,526 (19.53%) genes with peQTNs.\n"
     ]
    }
   ],
   "source": [
    "n = len(set(gene_variants_f.location + ':' + gene_variants_f.gene_id) & set(lead_variants_single_f.index))\n",
    "print('{:,} of my {:,} putative causal variants ({:.2f}%)  are also the most significant variants'.format(\n",
    "        n, gene_variants_f.shape[0], float(n) / gene_variants_f.shape[0] * 100))\n",
    "a = len(set(gene_variants_f.gene_id))\n",
    "print('The lead variant is a peQTN for {:,} of {:,} ({:.2f}%) genes with peQTNs.'.format(n, a, n / float(a) * 100))"
   ]
  },
  {
   "cell_type": "code",
   "execution_count": 102,
   "metadata": {
    "collapsed": true
   },
   "outputs": [],
   "source": [
    "gene_variants_f.index = gene_variants_f.location + ':' + gene_variants_f.gene_id"
   ]
  },
  {
   "cell_type": "code",
   "execution_count": 103,
   "metadata": {
    "collapsed": false
   },
   "outputs": [],
   "source": [
    "gene_variants_f.to_csv(os.path.join(outdir, 'peqtns.tsv'), sep='\\t')"
   ]
  },
  {
   "cell_type": "code",
   "execution_count": 104,
   "metadata": {
    "collapsed": false
   },
   "outputs": [],
   "source": [
    "snpsnap = None\n",
    "\n",
    "def get_independent_snvs(df):\n",
    "    ld_beds = glob.glob('/publicdata/1KGP_20151103/LD_20151110/tabix/*EUR*.bed.gz')\n",
    "    ld_beds = dict(zip([os.path.split(x)[1].split('_')[0] for x in ld_beds], ld_beds))\n",
    "    df = df.drop_duplicates(subset=['location'])\n",
    "    tdf = df[['chrom', 'start', 'end', 'pvalue']]\n",
    "    tdf['start'] = tdf.end.astype(int)\n",
    "    tdf['end'] = tdf.end.astype(int)\n",
    "    tdf.index = tdf.chrom + ':' + tdf.end.astype(int).astype(str)\n",
    "    indep = cpb.analysis.ld_prune(tdf, ld_beds, snvs=list(snpsnap.index)).drop('pvalue', axis=1)\n",
    "    return indep\n",
    "\n",
    "def get_snpsnap():\n",
    "    snpsnap_fns = glob.glob('/publicdata/SNPsnap_20151104/EUR_parse/*.tab')\n",
    "    dfs = []\n",
    "    for tab in snpsnap_fns:\n",
    "        df = pd.read_table(tab, index_col=0, low_memory=False)\n",
    "        tdf = df[['snp_maf', 'dist_nearest_gene_snpsnap_protein_coding',\n",
    "                  'friends_ld08']]\n",
    "        tdf.index = 'chr' + tdf.index\n",
    "        dfs.append(tdf)\n",
    "    snps = pd.concat(dfs)\n",
    "    snps['maf_bin'] = pd.cut(snps.snp_maf, np.arange(0, 0.55, 0.05))\n",
    "    snps['ld_bin'] = pd.cut(np.log10(snps.friends_ld08.replace(np.nan, 0) + 1), 10)\n",
    "    snps['dist_bin'] = pd.cut(np.log10(snps.dist_nearest_gene_snpsnap_protein_coding\n",
    "                                       + 1), 10)\n",
    "    snps = snps[['maf_bin', 'ld_bin', 'dist_bin']]\n",
    "    return snps\n",
    "\n",
    "fn = os.path.join(outdir, 'independent_fine_mapped_variants.bed')\n",
    "if not os.path.exists(fn):\n",
    "    if snpsnap is None:\n",
    "        snpsnap = get_snpsnap()\n",
    "    indep = get_independent_snvs(gene_variants_f)\n",
    "    indep.to_csv(os.path.join(outdir, 'independent_fine_mapped_variants.tsv'), sep='\\t')\n",
    "    s = '\\n'.join(indep[['chrom', 'start', 'end']].apply(\n",
    "            lambda x: '\\t'.join([str(y) for y in x.values]), axis=1)) + '\\n'\n",
    "    bt = pbt.BedTool(s, from_string=True)\n",
    "    bt = bt.sort()\n",
    "    bt.saveas(fn)"
   ]
  },
  {
   "cell_type": "code",
   "execution_count": 105,
   "metadata": {
    "collapsed": true
   },
   "outputs": [],
   "source": [
    "fn = os.path.join(outdir, 'independent_fine_mapped_variants_no_hla.bed')\n",
    "if not os.path.exists(fn):\n",
    "    if snpsnap is None:\n",
    "        snpsnap = get_snpsnap()\n",
    "    indep = get_independent_snvs(gene_variants_f[gene_variants_f.gene_name.apply(lambda x: 'HLA' not in x)])\n",
    "    indep.to_csv(os.path.join(outdir, 'independent_fine_mapped_variants_no_hla.tsv'), sep='\\t')\n",
    "    s = '\\n'.join(indep[['chrom', 'start', 'end']].apply(\n",
    "            lambda x: '\\t'.join([str(y) for y in x.values]), axis=1)) + '\\n'\n",
    "    bt = pbt.BedTool(s, from_string=True)\n",
    "    bt = bt.sort()\n",
    "    bt.saveas(fn)"
   ]
  },
  {
   "cell_type": "markdown",
   "metadata": {},
   "source": [
    "### Random motif disruption\n",
    "\n",
    "I want to look into how many motif disruptions I would get by chance when searching\n",
    "this many motifs against this number of variants. There may be a few ways to do this,\n",
    "though it is tricky. One idea is to randomly assign motifs instead of search the motifs\n",
    "for the ChIP-seq peak that is overlapped. For instance, if a variant overlaps a JUN peak,\n",
    "choose motifs for a random different TF. The problem here is that the motifs are correlated\n",
    "(e.g. a different TF could still be enriched for a JUN motif) so sometimes you may\n",
    "still expect a disruption. This motif similarity (which I explore some at the end of this\n",
    "notebook) creates a lot of issues like this.\n",
    "\n",
    "Another idea is to just look for motif disruptions among the variants that did not overlap\n",
    "TF peaks. I used 191,871 variants for the fine mapping. These were intersected\n",
    "with ChIP-seq peaks and 7,840 overlapped a peak for at least one TF. Note that these numbers\n",
    "are less than reported above (where I actually did the overlapping) because for the fine mapping\n",
    "I removed variants whose eGene overlapped a CNV eQTL or that had an eQTL variant predicted to \n",
    "cause NMD. I looked for motif disruptions for these 7,840 and found 3,225\n",
    "disruptions. So I want to take the 191,871 - 7,840 and randomly choose sets of 7,840. Then\n",
    "I'll randomly assign the same motifs I used for the real 7,840 and see how many motif disruptions\n",
    "I get by chance. This will be a slightly biased estimate because some of the variants that did\n",
    "not overlap peaks probably overlap a peak that was not assayed and may disrupt a motif that I'm \n",
    "searching give the motif similarity. I think I should still see a difference between the real and\n",
    "randomly chosen variants though."
   ]
  },
  {
   "cell_type": "code",
   "execution_count": 116,
   "metadata": {
    "collapsed": false
   },
   "outputs": [
    {
     "name": "stdout",
     "output_type": "stream",
     "text": [
      "There were 2433.7 variants that disrupted motifs on average (s.d. 41.7365712453, 30 samples).\n"
     ]
    }
   ],
   "source": [
    "fn = os.path.join(outdir, 'num_disrupt_random.tsv')\n",
    "if not os.path.exists(fn):\n",
    "    random.seed('20160725')\n",
    "    tdf = gene_variants[['location', 'ref', 'alt']]# + tf_cols]\n",
    "    tdf = tdf.drop_duplicates()\n",
    "    tdf.index = tdf.location\n",
    "    tdf = tdf.drop('location', axis=1)\n",
    "    tdf = tdf.ix[no_cnv_nmd_vars.values]\n",
    "    tf_overlap_yes = tf_overlap[tf_overlap.sum(axis=1) > 0]\n",
    "\n",
    "    d = {}\n",
    "    for i in tf_overlap_yes.index:\n",
    "        d[i] = list(tf_overlap_yes.ix[i][tf_overlap_yes.ix[i]].index)\n",
    "    se = pd.Series(d)\n",
    "    se = se[se.index & tdf.index]\n",
    "    target_to_motif = pd.Series(motif_info.index, index=motif_info.target)\n",
    "    \n",
    "    from ipyparallel import Client\n",
    "    parallel_client = Client(profile='parallel')\n",
    "    dview = parallel_client[:]\n",
    "    print('Cluster has {} engines.'.format(len(parallel_client.ids)))\n",
    "    \n",
    "    with dview.sync_imports():\n",
    "        import cdpybio\n",
    "        import cardipspy\n",
    "        \n",
    "    %px cpb = cdpybio\n",
    "    %px cpy = cardipspy\n",
    "    \n",
    "    #dview.push(dict(tdf=tdf));\n",
    "    dview.push(dict(matrices=matrices));\n",
    "\n",
    "    random_mds = []\n",
    "    for i in range(30):\n",
    "        i = random.sample(tdf.index, (peak_overlap.ix[no_cnv_nmd_vars.values].sum(axis=1) > 0).sum())\n",
    "        tdf_r = tdf.ix[i]\n",
    "        tdf_r['motifs'] = se.apply(lambda x: list(target_to_motif[x])).values\n",
    "\n",
    "        dview.push(dict(tdf_r=tdf_r));\n",
    "\n",
    "        res = dview.map_sync(lambda i: cpb.moodsext.find_motif_disruptions(\n",
    "                i, tdf_r.ix[i, 'ref'], tdf_r.ix[i, 'alt'], cpy.hg19, \n",
    "                {k:matrices[k] for k in tdf_r.ix[i, 'motifs']}), tdf_r.index)\n",
    "\n",
    "        a = []\n",
    "        b = []\n",
    "        for i,p in enumerate(tdf_r.index):\n",
    "            if res[i].shape[0] > 0:\n",
    "                a.append(p)\n",
    "                b.append(res[i])\n",
    "        d = dict(zip(a,b))\n",
    "        p = pd.Panel(d)\n",
    "        motif_d_r = p.ix[:, :, 'score_diff'].T\n",
    "\n",
    "        motif_disrupt_r = motif_d_r.abs() >= 2.5\n",
    "        motif_disrupt_r = motif_disrupt_r[motif_disrupt_r.sum(axis=1) > 0]\n",
    "        random_mds.append(motif_disrupt_r)\n",
    "\n",
    "    num_disrupt_random = pd.Series([x.shape[0] for x in random_mds])\n",
    "    num_disrupt_random.to_csv(fn, sep='\\t')\n",
    "else:\n",
    "    num_disrupt_random = pd.read_table(fn, index_col=0, squeeze=True, header=None)\n",
    "    \n",
    "print('There were {} variants that disrupted motifs on average (s.d. {}, {} samples).'.format(\n",
    "    num_disrupt_random.mean(), num_disrupt_random.std(), num_disrupt_random.shape[0]))"
   ]
  },
  {
   "cell_type": "markdown",
   "metadata": {},
   "source": [
    "### $p$-value comparison"
   ]
  },
  {
   "cell_type": "code",
   "execution_count": 117,
   "metadata": {
    "collapsed": true
   },
   "outputs": [],
   "source": [
    "leads_p = lead_variants_single_f[lead_variants_single_f.gene_id.apply(lambda x: x in set(gene_variants_f.gene_id))]"
   ]
  },
  {
   "cell_type": "code",
   "execution_count": 118,
   "metadata": {
    "collapsed": true
   },
   "outputs": [],
   "source": [
    "gvf_p = gene_variants_f.sort_values(by='pvalue').drop_duplicates(subset='gene_id')"
   ]
  },
  {
   "cell_type": "code",
   "execution_count": 119,
   "metadata": {
    "collapsed": true
   },
   "outputs": [],
   "source": [
    "leads_p.sort_values(by='gene_id', inplace=True)\n",
    "gvf_p.sort_values(by='gene_id', inplace=True)"
   ]
  },
  {
   "cell_type": "code",
   "execution_count": 120,
   "metadata": {
    "collapsed": false
   },
   "outputs": [],
   "source": [
    "pvals = pd.DataFrame({'qtn':gvf_p.pvalue.values, 'lead':leads_p.pvalue.values},\n",
    "                    index=gvf_p.gene_id)\n",
    "pvals_log = -np.log10(pvals)\n",
    "\n",
    "pvals_log['secondary'] = False\n",
    "pvals_log.ix[set(secondary_qvalues[secondary_qvalues.perm_sig].index) & set(pvals_log.index),\n",
    "            'secondary'] = True"
   ]
  },
  {
   "cell_type": "code",
   "execution_count": 121,
   "metadata": {
    "collapsed": false
   },
   "outputs": [
    {
     "data": {
      "image/png": "[encoded data removed]",
      "text/plain": [
       "<matplotlib.figure.Figure at 0x7f6dd14df710>"
      ]
     },
     "metadata": {},
     "output_type": "display_data"
    }
   ],
   "source": [
    "sns.jointplot(pvals_log.lead, pvals_log.qtn, kind='scatter', alpha=0.15);"
   ]
  },
  {
   "cell_type": "code",
   "execution_count": 122,
   "metadata": {
    "collapsed": false
   },
   "outputs": [
    {
     "data": {
      "image/png": "[encoded data removed]",
      "text/plain": [
       "<matplotlib.figure.Figure at 0x7f6d76ed0f90>"
      ]
     },
     "metadata": {},
     "output_type": "display_data"
    }
   ],
   "source": [
    "sns.jointplot(pvals_log[pvals_log.secondary == False].lead, \n",
    "              pvals_log[pvals_log.secondary == False].qtn, kind='scatter', alpha=0.15);"
   ]
  },
  {
   "cell_type": "code",
   "execution_count": 123,
   "metadata": {
    "collapsed": false
   },
   "outputs": [
    {
     "data": {
      "image/png": "[encoded data removed]",
      "text/plain": [
       "<matplotlib.figure.Figure at 0x7f6d786bda10>"
      ]
     },
     "metadata": {},
     "output_type": "display_data"
    }
   ],
   "source": [
    "sns.jointplot(pvals_log[pvals_log.secondary].lead, \n",
    "              pvals_log[pvals_log.secondary].qtn, kind='scatter', alpha=0.15);"
   ]
  },
  {
   "cell_type": "code",
   "execution_count": 124,
   "metadata": {
    "collapsed": false
   },
   "outputs": [],
   "source": [
    "pvals_log['pdiff'] = pvals_log.lead - pvals_log.qtn"
   ]
  },
  {
   "cell_type": "code",
   "execution_count": 125,
   "metadata": {
    "collapsed": false
   },
   "outputs": [
    {
     "name": "stdout",
     "output_type": "stream",
     "text": [
      "eGenes with secondary eQTLs are enriched for having their peQTN differ in significance from the lead (p=4.48e-13)\n"
     ]
    }
   ],
   "source": [
    "diff_sec = pvals_log[pvals_log.secondary & (pvals_log.pdiff > 1)].shape[0]\n",
    "no_diff_sec = pvals_log[pvals_log.secondary & (pvals_log.pdiff <= 1)].shape[0]\n",
    "diff_no_sec = pvals_log[(pvals_log.secondary == False) & (pvals_log.pdiff > 1)].shape[0]\n",
    "no_diff_no_sec = pvals_log[(pvals_log.secondary == False) & (pvals_log.pdiff <= 1)].shape[0]\n",
    "s,p = stats.fisher_exact([[diff_sec, no_diff_sec], [diff_no_sec, no_diff_no_sec]])\n",
    "print('eGenes with secondary eQTLs are enriched for having their peQTN differ in significance '\n",
    "      'from the lead (p={:.2e})'.format(p))"
   ]
  },
  {
   "cell_type": "code",
   "execution_count": 126,
   "metadata": {
    "collapsed": false
   },
   "outputs": [
    {
     "name": "stdout",
     "output_type": "stream",
     "text": [
      "For 928 of 1,526 (60.81%) genes with peQTNs, the peQTN p-value is within one order of magnitude of the lead.\n"
     ]
    }
   ],
   "source": [
    "a = sum(pvals_log.pdiff < 1)\n",
    "b = pvals_log.shape[0]\n",
    "print('For {:,} of {:,} ({:.2f}%) genes with peQTNs, the peQTN p-value is within one '\n",
    "      'order of magnitude of the lead.'.format(a, b, a / float(b) * 100))"
   ]
  },
  {
   "cell_type": "code",
   "execution_count": 127,
   "metadata": {
    "collapsed": false
   },
   "outputs": [
    {
     "name": "stdout",
     "output_type": "stream",
     "text": [
      "For 1,107 of 1,526 (72.54%) genes with peQTNs, the peQTN p-value is within two orders of magnitude of the lead.\n"
     ]
    }
   ],
   "source": [
    "a = sum(pvals_log.pdiff < 2)\n",
    "b = pvals_log.shape[0]\n",
    "print('For {:,} of {:,} ({:.2f}%) genes with peQTNs, the peQTN p-value is within two '\n",
    "      'orders of magnitude of the lead.'.format(a, b, a / float(b) * 100))"
   ]
  },
  {
   "cell_type": "markdown",
   "metadata": {},
   "source": [
    "### Validation\n",
    "\n",
    "\n",
    "#### Proof of concept\n",
    "\n",
    "I'd like to find some examples to validate as a proof of concept. Some things to consider are:\n",
    "\n",
    "* known or novel motif\n",
    "* which TF (relevant to stem cells?)\n",
    "* association $p$-value\n",
    "* overlap DHS?"
   ]
  },
  {
   "cell_type": "code",
   "execution_count": 128,
   "metadata": {
    "collapsed": false
   },
   "outputs": [
    {
     "name": "stdout",
     "output_type": "stream",
     "text": [
      "1608\n",
      "889\n",
      "697\n",
      "609\n",
      "111\n",
      "52\n",
      "49\n"
     ]
    }
   ],
   "source": [
    "tdf = gene_variants_f.copy(deep=True)\n",
    "# Disrupt known motif\n",
    "t = motif_disrupt.ix[set(tdf.location)]\n",
    "t = t[[x for x in t.columns if 'known' in x]]\n",
    "t = t.sum(axis=1)\n",
    "t = t[t > 0]\n",
    "tdf = tdf[tdf.location.apply(lambda x: x in set(t.index))]\n",
    "print(tdf.shape[0])\n",
    "# Within one order of magnitude of the lead\n",
    "tdf = tdf.merge(pvals_log, left_on='gene_id', right_index=True)\n",
    "tdf = tdf[tdf.pdiff < 1]\n",
    "print(tdf.shape[0])\n",
    "# DHS present in at least 11 lines\n",
    "tdf['dhs_count'] = tdf[[x for x in tdf.columns if 'dnase' in x]].sum(axis=1)\n",
    "tdf = tdf[tdf.dhs_count >= 11]\n",
    "print(tdf.shape[0])\n",
    "# Only SNVs\n",
    "tdf = tdf[tdf.ref.apply(lambda x: len(x)) == 1]\n",
    "tdf = tdf[tdf.alt.apply(lambda x: len(x)) == 1]\n",
    "print(tdf.shape[0])\n",
    "# Significant in Maurano\n",
    "tdf = tdf[tdf.location.apply(lambda x: x in set(tdf.location) & \n",
    "                             set(maurano_res[maurano_res['q.value_maurano'] < 0.05].index))]\n",
    "print(tdf.shape[0])\n",
    "# Not exonic\n",
    "tdf = tdf[tdf.exonic == False]\n",
    "print(tdf.shape[0])\n",
    "# Drop location duplicates\n",
    "tdf = tdf.drop_duplicates(subset='location')\n",
    "print(tdf.shape[0])"
   ]
  },
  {
   "cell_type": "code",
   "execution_count": 129,
   "metadata": {
    "collapsed": false
   },
   "outputs": [
    {
     "data": {
      "text/plain": [
       "H1_roadmap_dnase             49\n",
       "H1-hESC_ENCSR000EMU_dnase    32\n",
       "H1-hESC_ENCSR000EJN_dnase    45\n",
       "dtype: float64"
      ]
     },
     "execution_count": 129,
     "metadata": {},
     "output_type": "execute_result"
    }
   ],
   "source": [
    "tdf[[x for x in tdf.columns if 'H1' in x]].sum()"
   ]
  },
  {
   "cell_type": "markdown",
   "metadata": {},
   "source": [
    "I'll define the regions as the DHS from the H1 line from ENCODE."
   ]
  },
  {
   "cell_type": "code",
   "execution_count": 130,
   "metadata": {
    "collapsed": false
   },
   "outputs": [],
   "source": [
    "encode_dnase = pd.read_table(os.path.join(ciepy.root, 'output', \n",
    "                                          'functional_annotation_analysis', \n",
    "                                          'encode_dnase.tsv'), index_col=0)\n",
    "bs_types = ['stem cell', 'induced pluripotent stem cell line']\n",
    "encode_dnase = encode_dnase[encode_dnase.biosample_type.apply(lambda x: x in bs_types)]\n",
    "\n",
    "vbt = cpb.bedtools.intervals_to_bed(tdf.location)\n",
    "vbt = vbt.sort()\n",
    "vbt.saveas(os.path.join(outdir, 'validation_variants.bed'), trackline='track type=bed name=\"variants\"');\n",
    "\n",
    "dhs_bt = pbt.BedTool(cpb.general.read_gzipped_text_url(encode_dnase.ix['ENCSR000EJN', 'narrowPeak_url']),\n",
    "                     from_string=True).sort()\n",
    "dhs_bt = dhs_bt.intersect(vbt, wa=True)\n",
    "df = dhs_bt.to_dataframe()\n",
    "dhs_bt = cpb.bedtools.intervals_to_bed(df.chrom + ':' + df.start.astype(str) + '-' + df.end.astype(str))\n",
    "dhs_bt.saveas(os.path.join(outdir, 'validation_dhs.bed'), trackline='track type=bed name=\"H1-hESC DHS\"');"
   ]
  },
  {
   "cell_type": "code",
   "execution_count": 131,
   "metadata": {
    "collapsed": false
   },
   "outputs": [
    {
     "data": {
      "text/plain": [
       "AP1        4\n",
       "ATF3       2\n",
       "BCL        1\n",
       "CEBPB      1\n",
       "CHD2       3\n",
       "CTCF       8\n",
       "EGR1       9\n",
       "EP300      4\n",
       "ETS        5\n",
       "MXI1       2\n",
       "MYC       13\n",
       "NANOG      3\n",
       "NRF1       2\n",
       "POU5F1     1\n",
       "RAD21      7\n",
       "REST       4\n",
       "RXRA       2\n",
       "SIN3A     14\n",
       "SP1       16\n",
       "SP2        1\n",
       "SP4        3\n",
       "TATA      13\n",
       "TCF12      2\n",
       "TEAD4      1\n",
       "YY1       12\n",
       "ZNF143    11\n",
       "dtype: int64"
      ]
     },
     "execution_count": 131,
     "metadata": {},
     "output_type": "execute_result"
    }
   ],
   "source": [
    "se = tf_disrupt.ix[set(tdf.location)].sum()\n",
    "se[se > 0]"
   ]
  },
  {
   "cell_type": "code",
   "execution_count": 132,
   "metadata": {
    "collapsed": false
   },
   "outputs": [],
   "source": [
    "seqs = dhs_bt.sequence(fi=cpy.hg19)\n",
    "seqs = [x.strip() for x in open(seqs.seqfn).readlines()]\n",
    "seqs = pd.Series(seqs[1::2], index=[x[1:] for x in seqs[0::2]])\n",
    "seqs = seqs.apply(lambda x: x.lower())\n",
    "seqs = seqs.drop_duplicates()"
   ]
  },
  {
   "cell_type": "code",
   "execution_count": 133,
   "metadata": {
    "collapsed": true
   },
   "outputs": [],
   "source": [
    "dhs_bt = pbt.BedTool(cpb.general.read_gzipped_text_url(encode_dnase.ix['ENCSR000EJN', 'narrowPeak_url']),\n",
    "                     from_string=True).sort()\n",
    "dhs_bt = dhs_bt.intersect(vbt, wo=True)\n",
    "df = dhs_bt.to_dataframe(names=range(14))\n",
    "df.index = df[10] + ':' + df[11].astype(str) + '-' + df[12].astype(str)\n",
    "df['dhs'] = df[0] + ':' + df[1].astype(str) + '-' + df[2].astype(str)\n",
    "df = df.drop([0] + range(3, 14), axis=1)\n",
    "df.columns = ['dhs_start', 'dhs_end', 'dhs']\n",
    "tdf = tdf.merge(df, left_on='location', right_index=True)"
   ]
  },
  {
   "cell_type": "code",
   "execution_count": 134,
   "metadata": {
    "collapsed": true
   },
   "outputs": [],
   "source": [
    "tdf = tdf.merge(df, left_on='location', right_index=True).drop_duplicates()"
   ]
  },
  {
   "cell_type": "markdown",
   "metadata": {},
   "source": [
    "I lose 4 variants here I think because they don't overlap a DHS in this line."
   ]
  },
  {
   "cell_type": "code",
   "execution_count": 135,
   "metadata": {
    "collapsed": true
   },
   "outputs": [],
   "source": [
    "alt_seqs = seqs.copy(deep=True)"
   ]
  },
  {
   "cell_type": "raw",
   "metadata": {
    "collapsed": false
   },
   "source": [
    "for i in range(tdf.shape[0]):\n",
    "    dhs = tdf.ix[i, 'dhs']\n",
    "    d = int(tdf.ix[i, 'start'] - tdf.ix[i, 'dhs_start'])\n",
    "    seqs[dhs] = seqs[dhs][0:d] + tdf.ix[i, 'ref'].upper() + seqs[dhs][d + 1:]\n",
    "    alt_seqs[dhs] = seqs[dhs][0:d] + tdf.ix[i, 'alt'].upper() + seqs[dhs][d + 1:]"
   ]
  },
  {
   "cell_type": "raw",
   "metadata": {
    "collapsed": false
   },
   "source": [
    "vtdf = tdf[['chrom', u'start', u'end', u'pvalue', u'beta', u'gene_id', u'ref', u'alt', \n",
    "            'location', u'rsid', u'dhs_start', u'dhs_end', u'dhs']]"
   ]
  },
  {
   "cell_type": "raw",
   "metadata": {
    "collapsed": false
   },
   "source": [
    "t = tf_disrupt.ix[set(vtdf.location)]\n",
    "vtdf['tf_disrupt'] = ''\n",
    "for i in vtdf.index:\n",
    "    se = t.ix[vtdf.ix[i, 'location']]\n",
    "    vtdf.ix[i, 'tf_disrupt'] = ', '.join(se[se].index)"
   ]
  },
  {
   "cell_type": "raw",
   "metadata": {
    "collapsed": true
   },
   "source": [
    "t = motif_disrupt.ix[set(vtdf.location)]\n",
    "vtdf['motif_disrupt'] = ''\n",
    "for i in vtdf.index:\n",
    "    se = t.ix[vtdf.ix[i, 'location']]\n",
    "    vtdf.ix[i, 'motif_disrupt'] = ', '.join(se[se].index)"
   ]
  },
  {
   "cell_type": "raw",
   "metadata": {
    "collapsed": true
   },
   "source": [
    "vtdf.to_csv(os.path.join(outdir, 'validation_variants.tsv'), sep='\\t')\n",
    "\n",
    "with open(os.path.join(outdir, 'validation_ref.fa'), 'w') as f:\n",
    "    for i in seqs.index:\n",
    "        f.write('>{}\\n{}\\n'.format(i, seqs[i]))\n",
    "        \n",
    "with open(os.path.join(outdir, 'validation_alt.fa'), 'w') as f:\n",
    "    for i in alt_seqs.index:\n",
    "        f.write('>{}\\n{}\\n'.format(i, alt_seqs[i]))"
   ]
  },
  {
   "cell_type": "markdown",
   "metadata": {
    "collapsed": true
   },
   "source": [
    "#### ChIP-seq\n",
    "\n",
    "We want to test our peQTN predictions by doing ChIP-seq and seeing whether the \n",
    "peQTNs have evidence of allelic TF binding.\n",
    "\n",
    "I want to look at the heterozygosity of peQTNs that disrupt RAD21 and CTCF\n",
    "binding sites. We can do ChIP-seq for these two factors."
   ]
  },
  {
   "cell_type": "code",
   "execution_count": 136,
   "metadata": {
    "collapsed": false
   },
   "outputs": [],
   "source": [
    "tdf = gene_variants_f[gene_variants_f.variant_type == 'snv']"
   ]
  },
  {
   "cell_type": "raw",
   "metadata": {
    "collapsed": true
   },
   "source": [
    "for i in tdf.index:\n",
    "    if tf_disrupt.ix[tdf.ix[i, 'location'], 'RAD21'] == True:\n",
    "        t = vcf_reader.fetch(tdf.ix[i, 'chrom'][3:],\n",
    "                             tdf.ix[i, 'start'],\n",
    "                             tdf.ix[i, 'end'])\n",
    "        r = t.next()\n",
    "        break"
   ]
  },
  {
   "cell_type": "code",
   "execution_count": 137,
   "metadata": {
    "collapsed": false
   },
   "outputs": [],
   "source": [
    "fn = os.path.join(ciepy.root, 'private_output', 'eqtl_input', \n",
    "                  'filtered_all', '0000.vcf.gz')\n",
    "vcf_reader = pyvcf.Reader(open(fn), compressed=True)\n",
    "\n",
    "ind = []\n",
    "percent_het = []\n",
    "gts = []\n",
    "for i in tdf.index:\n",
    "    if tf_disrupt.ix[tdf.ix[i, 'location'], 'CTCF'] == True:\n",
    "        t = vcf_reader.fetch(tdf.ix[i, 'chrom'][3:],\n",
    "                             tdf.ix[i, 'start'],\n",
    "                             tdf.ix[i, 'end'])\n",
    "        r = t.next()\n",
    "        s = [x.sample for x in r.samples if x.called]\n",
    "        gt = [x.gt_alleles for x in r.samples if x.called]\n",
    "        gt = pd.DataFrame(gt, index=s, columns=['allele_a', 'allele_b'])\n",
    "        gt = gt.ix[rna_meta.ix[rna_meta.in_eqtl, 'wgs_id'].values].dropna()\n",
    "        num_called = float(gt.shape[0])\n",
    "        ind.append(i)\n",
    "        percent_het.append(gt.sum(axis=1).value_counts()[1] / num_called)\n",
    "        gts.append(gt['allele_a'] + gt['allele_b'])\n",
    "\n",
    "ctcf_het = pd.Series(percent_het, index=ind)\n",
    "ctcf_genotypes = pd.DataFrame(gts, index=ind)\n",
    "\n",
    "ind = []\n",
    "percent_het = []\n",
    "gts = []\n",
    "for i in tdf.index:\n",
    "    if tf_disrupt.ix[tdf.ix[i, 'location'], 'RAD21'] == True:\n",
    "        t = vcf_reader.fetch(tdf.ix[i, 'chrom'][3:],\n",
    "                             tdf.ix[i, 'start'],\n",
    "                             tdf.ix[i, 'end'])\n",
    "        r = t.next()\n",
    "        s = [x.sample for x in r.samples if x.called]\n",
    "        gt = [x.gt_alleles for x in r.samples if x.called]\n",
    "        gt = pd.DataFrame(gt, index=s, columns=['allele_a', 'allele_b'])\n",
    "        gt = gt.ix[rna_meta.ix[rna_meta.in_eqtl, 'wgs_id'].values].dropna()\n",
    "        num_called = float(gt.shape[0])\n",
    "        ind.append(i)\n",
    "        percent_het.append(gt.sum(axis=1).value_counts()[1] / num_called)\n",
    "        gts.append(gt['allele_a'] + gt['allele_b'])\n",
    "\n",
    "rad21_het = pd.Series(percent_het, index=ind)\n",
    "rad21_genotypes = pd.DataFrame(gts, index=ind)"
   ]
  },
  {
   "cell_type": "code",
   "execution_count": 138,
   "metadata": {
    "collapsed": false
   },
   "outputs": [
    {
     "name": "stdout",
     "output_type": "stream",
     "text": [
      "356 variants that disrupt CTCF.\n",
      "386 variants that disrupt RAD21.\n"
     ]
    }
   ],
   "source": [
    "print('{} variants that disrupt CTCF.'.format(ctcf_het.shape[0]))\n",
    "print('{} variants that disrupt RAD21.'.format(rad21_het.shape[0]))"
   ]
  },
  {
   "cell_type": "code",
   "execution_count": 139,
   "metadata": {
    "collapsed": false
   },
   "outputs": [
    {
     "data": {
      "image/png": "[encoded data removed]",
      "text/plain": [
       "<matplotlib.figure.Figure at 0x7f6d77559fd0>"
      ]
     },
     "metadata": {},
     "output_type": "display_data"
    }
   ],
   "source": [
    "fig,axs = plt.subplots(1, 2)\n",
    "ctcf_het.hist(ax=axs[0])\n",
    "axs[0].set_xlabel('Percent samples het.')\n",
    "axs[0].set_ylabel('Number of variants')\n",
    "axs[0].set_title('CTCF')\n",
    "rad21_het.hist(ax=axs[1])\n",
    "axs[1].set_xlabel('Percent samples het.')\n",
    "axs[1].set_title('RAD21');"
   ]
  },
  {
   "cell_type": "code",
   "execution_count": 140,
   "metadata": {
    "collapsed": false
   },
   "outputs": [
    {
     "data": {
      "image/png": "[encoded data removed]",
      "text/plain": [
       "<matplotlib.figure.Figure at 0x7f6d774ebd90>"
      ]
     },
     "metadata": {},
     "output_type": "display_data"
    }
   ],
   "source": [
    "fig,axs = plt.subplots(1, 2)\n",
    "(ctcf_genotypes == '01').sum(axis=1).hist(ax=axs[0])\n",
    "axs[0].set_xlabel('Number of hets.')\n",
    "axs[0].set_ylabel('Number of samples')\n",
    "axs[0].set_title('CTCF')\n",
    "(rad21_genotypes == '01').sum(axis=1).hist(ax=axs[1])\n",
    "axs[1].set_xlabel('Number of hets.')\n",
    "axs[1].set_title('RAD21');"
   ]
  },
  {
   "cell_type": "code",
   "execution_count": 141,
   "metadata": {
    "collapsed": false
   },
   "outputs": [],
   "source": [
    "fn = os.path.join(outdir, 'num_ctcf_het.tsv')\n",
    "if not os.path.exists(fn):\n",
    "    se = (ctcf_genotypes == '01').sum().sort_values(ascending=False)\n",
    "    se.to_csv(fn, sep='\\t')"
   ]
  },
  {
   "cell_type": "code",
   "execution_count": 142,
   "metadata": {
    "collapsed": false
   },
   "outputs": [],
   "source": [
    "fn = os.path.join(outdir, 'num_rad21_het.tsv')\n",
    "if not os.path.exists(fn):\n",
    "    se = (rad21_genotypes == '01').sum().sort_values(ascending=False)\n",
    "    se.to_csv(fn, sep='\\t')"
   ]
  },
  {
   "cell_type": "markdown",
   "metadata": {},
   "source": [
    "##### ChIP-seq analysis\n",
    "\n",
    "We did ChIP-seq for CTCF. Let's see if the peQTNs have evidence of allelic imbalance."
   ]
  },
  {
   "cell_type": "code",
   "execution_count": 565,
   "metadata": {
    "collapsed": false
   },
   "outputs": [],
   "source": [
    "# Make ChIP-seq metadata table\n",
    "exp = ['2433edfc-9dc1-432b-8267-2319f218cf18', 'fdd0575a-4d53-4d02-968c-9c87adc198aa',\n",
    "        '32764cbc-41a2-4b30-9936-329672caf807', '7e43459d-f07f-49d3-a157-c527dda007e7',\n",
    "        '2baa401f-b182-43bb-8669-4a4fe69eacce',]\n",
    "subj = ['5d86bbdd-4854-449f-b99d-0d04d0ce4ee8', '59ba8d64-a92b-4ae2-bcb4-847de2fdf1dd',\n",
    "        'eb79f47b-d933-4144-8d61-83104493418e', '56f0f073-725f-4cec-b8cb-db6ad0dc2ac0',\n",
    "        '9603be9a-f146-4fc5-bf36-c84fac189b0a']\n",
    "chip_seq_meta = pd.DataFrame([subj], columns=exp, index=['subject_id']).T\n",
    "chip_seq_meta['target'] = 'CTCF'\n",
    "\n",
    "chip_seq_meta['wgs_id'] = ''\n",
    "for i in chip_seq_meta.index:\n",
    "    t = wgs_meta[wgs_meta.subject_id == chip_seq_meta.ix[i, 'subject_id']]\n",
    "    chip_seq_meta.ix[i, 'wgs_id'] = t.index[0]"
   ]
  },
  {
   "cell_type": "code",
   "execution_count": 144,
   "metadata": {
    "collapsed": false
   },
   "outputs": [],
   "source": [
    "# Make CTCF het files\n",
    "het_vcf = os.path.join(private_outdir, 'ctcf_peqtns.vcf.gz')\n",
    "vcf_path = '/frazer01/projects/CARDIPS/pipeline/WGS/mergedVCF/CARDIPS_201512.PASS.vcf.gz'\n",
    "het_bed = cpb.bedtools.intervals_to_bed([':'.join(x.split(':')[0:2])[3:] for x in ctcf_genotypes.index]).sort()\n",
    "c = 'bcftools view -Oz -R {} {} > {}'.format(het_bed.fn, vcf_path, het_vcf)\n",
    "subprocess.check_call(c, shell=True)\n",
    "\n",
    "for sample in set(chip_seq_meta.wgs_id):\n",
    "    out_vcf = os.path.join(private_outdir, sample + '_ctcf_peqtns_hets.vcf')\n",
    "    if not os.path.exists(out_vcf):\n",
    "        c = ('bcftools view -Ou -s {} {} | '\n",
    "             'bcftools view -Ou -g het | '\n",
    "             'bcftools annotate --rename-chrs /repos/cardips-pipelines/RNA/chrom_conv.tsv -Ov > {}_temp.vcf'.format(\n",
    "                sample, het_vcf, sample))\n",
    "        subprocess.check_call(c, shell=True)\n",
    "        c = ('perl ~/repos/cdeboever3/cdpipelines/cdpipelines/scripts/sortByRef.pl '\n",
    "             '{0}_temp.vcf /publicdata/gatk_bundle_2.8/hg19/ucsc.hg19.fasta.fai > {0}_temp_sorted.vcf'.format(sample))\n",
    "        subprocess.check_call(c, shell=True)\n",
    "        c = 'grep -v ^\\\\# {0}_temp_sorted.vcf | uniq > {0}_temp_body.vcf'.format(sample)\n",
    "        subprocess.check_call(c, shell=True)\n",
    "        c = 'grep ^\\\\# {0}_temp_sorted.vcf | uniq > {0}_temp_header.vcf'.format(sample)\n",
    "        subprocess.check_call(c, shell=True)\n",
    "        c = 'cat {0}_temp_header.vcf {0}_temp_body.vcf > {1}'.format(sample, out_vcf)\n",
    "        subprocess.check_call(c, shell=True)\n",
    "        c = 'rm {0}_temp.vcf {0}_temp_sorted.vcf {0}_temp_body.vcf {0}_temp_header.vcf'.format(sample)\n",
    "        subprocess.check_call(c, shell=True)"
   ]
  },
  {
   "cell_type": "code",
   "execution_count": 145,
   "metadata": {
    "collapsed": true
   },
   "outputs": [],
   "source": [
    "# Process bam files\n",
    "for chip_sample in chip_seq_meta.index:\n",
    "    sample = chip_seq_meta.ix[chip_sample, 'wgs_id']\n",
    "    bam = '/projects/CARDIPS/pipeline/ChIPseq/sample/{0}/alignment/{0}.filtered.cordSorted.bam'.format(chip_sample)\n",
    "    out_bam = os.path.join(private_outdir, chip_sample + '_reordered.bam')\n",
    "    if not os.path.exists(out_bam):\n",
    "        c = ('java -Xmx4g -jar '\n",
    "             '-XX:ParallelGCThreads=1 '\n",
    "             '-Djava.io.tmpdir={} '\n",
    "             '-jar $picard AddOrReplaceReadGroups '\n",
    "             'VALIDATION_STRINGENCY=SILENT '\n",
    "             'I={} '\n",
    "             'O={}_temp.bam '\n",
    "             'RGID=4 '\n",
    "             'RGLB=lib1 '\n",
    "             'RGPL=illumina '\n",
    "             'RGPU=unit1 '\n",
    "             'RGSM=20'.format(\n",
    "            os.path.join(ciepy.root, 'sandbox', 'tmp', dy_name),\n",
    "            bam,\n",
    "            sample))\n",
    "        subprocess.check_call(c, shell=True)\n",
    "        c = ('java -Xmx4g -jar '\n",
    "             '-XX:ParallelGCThreads=1 '\n",
    "             '-Djava.io.tmpdir={} '\n",
    "             '-jar $picard ReorderSam '\n",
    "             'VALIDATION_STRINGENCY=SILENT '\n",
    "             'I={}_temp.bam '\n",
    "             'O={} '\n",
    "             'REFERENCE=/publicdata/gatk_bundle_2.8/hg19/ucsc.hg19.fasta '\n",
    "             .format(\n",
    "                os.path.join(ciepy.root, 'sandbox', 'tmp', dy_name),\n",
    "                sample,\n",
    "                out_bam,\n",
    "            )\n",
    "             )\n",
    "        subprocess.check_call(c, shell=True)\n",
    "        subprocess.check_call('rm {}_temp.bam'.format(sample), shell=True)\n",
    "        subprocess.check_call('samtools index {}'.format(out_bam), shell=True)"
   ]
  },
  {
   "cell_type": "code",
   "execution_count": 146,
   "metadata": {
    "collapsed": false
   },
   "outputs": [],
   "source": [
    "for sample in chip_seq_meta.index:\n",
    "    bam = os.path.join(private_outdir, sample + '_reordered.bam')\n",
    "    if not os.path.exists(os.path.join(private_outdir, sample + '_ctcf_peqtns_het_counts.tsv')):\n",
    "        c = ('java -Xmx3g -jar '\n",
    "             '-XX:ParallelGCThreads=1 '\n",
    "             '-Djava.io.tmpdir={} '\n",
    "             '-jar $GATK '\n",
    "             '-R /publicdata/gatk_bundle_2.8/hg19/ucsc.hg19.fasta '\n",
    "             '-T ASEReadCounter '\n",
    "             '-o {} '\n",
    "             '-I {} '\n",
    "             '-sites {} '\n",
    "             '-overlap COUNT_FRAGMENTS_REQUIRE_SAME_BASE '\n",
    "             '-U ALLOW_N_CIGAR_READS').format(\n",
    "            os.path.join(ciepy.root, 'sandbox', 'tmp', dy_name),\n",
    "            os.path.join(private_outdir, sample + '_ctcf_peqtns_het_counts.tsv'),\n",
    "            bam,\n",
    "            os.path.join(private_outdir, chip_seq_meta.ix[sample, 'wgs_id'] + '_ctcf_peqtns_hets.vcf')\n",
    "            )\n",
    "        subprocess.check_call(c, shell=True)"
   ]
  },
  {
   "cell_type": "code",
   "execution_count": 571,
   "metadata": {
    "collapsed": false
   },
   "outputs": [],
   "source": [
    "fn = os.path.join(outdir, 'chip_seq_counts.pickle')\n",
    "if not os.path.exists(fn):\n",
    "    all_counts = dict()\n",
    "    for sample in chip_seq_meta.index:\n",
    "        counts = pd.read_table(os.path.join(private_outdir, '{}_ctcf_peqtns_het_counts.tsv'.format(sample)))\n",
    "        counts['expectedRefFreq'] = 0.5\n",
    "        counts = counts[counts.totalCount >= 8]\n",
    "        pvals = []\n",
    "        for i in counts.index:\n",
    "            p = stats.binom_test(counts.ix[i, 'refCount'], counts.ix[i, 'totalCount'],\n",
    "                                 counts.ix[i, 'expectedRefFreq'])\n",
    "            pvals.append(p)\n",
    "        counts['binomialPValue'] = pvals\n",
    "        all_counts[sample] = counts\n",
    "    with open(fn, 'w') as f:\n",
    "        cPickle.dump(all_counts, f)\n",
    "else:\n",
    "    all_counts = cPickle.load(open(fn))"
   ]
  },
  {
   "cell_type": "code",
   "execution_count": 573,
   "metadata": {
    "collapsed": false
   },
   "outputs": [],
   "source": [
    "sig = []\n",
    "not_sig = []\n",
    "total = []\n",
    "sig_vars = set()\n",
    "for i in all_counts.keys():\n",
    "    tdf = all_counts[i]\n",
    "    vc = (tdf.binomialPValue < 0.005).value_counts()\n",
    "    if True in vc.index:\n",
    "        sig.append(vc[True])\n",
    "    else:\n",
    "        sig.append(0)\n",
    "    not_sig.append(vc[False])\n",
    "    total.append(tdf.shape[0])\n",
    "    sig_vars |= set(tdf.contig + ':' + (tdf.position - 1).astype(str) + '-' + tdf.position.astype(str))"
   ]
  },
  {
   "cell_type": "code",
   "execution_count": 574,
   "metadata": {
    "collapsed": false
   },
   "outputs": [],
   "source": [
    "chip_sig = pd.DataFrame([sig, not_sig], columns=all_counts.keys(), index=['sig', 'not_sig']).T\n",
    "chip_sig['total'] = chip_sig.sig + chip_sig.not_sig\n",
    "chip_sig['percent'] = chip_sig.sig / chip_sig.total.astype(float)\n",
    "chip_seq_meta = chip_seq_meta.join(chip_sig)"
   ]
  },
  {
   "cell_type": "code",
   "execution_count": 577,
   "metadata": {
    "collapsed": false
   },
   "outputs": [
    {
     "name": "stdout",
     "output_type": "stream",
     "text": [
      "Tested 73.2 heterozygous peQTNs predicted to disrupt CTCF on average per sample.\n"
     ]
    }
   ],
   "source": [
    "n = chip_sig.total.mean()\n",
    "print('Tested {} heterozygous peQTNs predicted to disrupt CTCF on average per sample.'.format(n))"
   ]
  },
  {
   "cell_type": "code",
   "execution_count": 578,
   "metadata": {
    "collapsed": false
   },
   "outputs": [
    {
     "name": "stdout",
     "output_type": "stream",
     "text": [
      "55.5% heterozygous peQTNs predicted to disrupt CTCF had significant allelic bias per sample.\n"
     ]
    }
   ],
   "source": [
    "n = chip_sig.percent.mean()\n",
    "print('{:.1f}% heterozygous peQTNs predicted to disrupt CTCF had significant allelic bias per sample.'.format(n * 100))"
   ]
  },
  {
   "cell_type": "code",
   "execution_count": 579,
   "metadata": {
    "collapsed": false
   },
   "outputs": [
    {
     "name": "stdout",
     "output_type": "stream",
     "text": [
      "207 of 366 peQTNs tested were significant.\n"
     ]
    }
   ],
   "source": [
    "a = chip_sig.sig.sum()\n",
    "b = chip_sig.total.sum()\n",
    "print('{} of {} peQTNs tested were significant.'.format(a, b))"
   ]
  },
  {
   "cell_type": "code",
   "execution_count": 580,
   "metadata": {
    "collapsed": false
   },
   "outputs": [
    {
     "name": "stdout",
     "output_type": "stream",
     "text": [
      "88,050,590.2 reads on average per sample.\n"
     ]
    }
   ],
   "source": [
    "# Number of reads sequenced per sample\n",
    "chip_seq_depth = []\n",
    "for chip_sample in chip_seq_meta.index:\n",
    "    sample = chip_seq_meta.ix[chip_sample, 'wgs_id']\n",
    "    fn = '/projects/CARDIPS/pipeline/ChIPseq/sample/{0}/alignment/alignment.QCmatrix'.format(chip_sample)\n",
    "    with open(fn) as f:\n",
    "        chip_seq_depth.append(int(f.readline().split()[1]))\n",
    "print('{:,} reads on average per sample.'.format(np.mean(chip_seq_depth)))"
   ]
  },
  {
   "cell_type": "markdown",
   "metadata": {},
   "source": [
    "#### Peaks"
   ]
  },
  {
   "cell_type": "code",
   "execution_count": 150,
   "metadata": {
    "collapsed": true
   },
   "outputs": [],
   "source": [
    "if not os.path.exists(os.path.join(outdir, 'ctcf_peaks.bed')):\n",
    "    fns = []\n",
    "    for i in chip_seq_meta.index:\n",
    "        fns.append('/projects/CARDIPS/pipeline/ChIPseq/sample/{0}/peakCalling/macs2_callPeak_narrow_withCtrl'\n",
    "                   '/macs2_callPeak_peaks.q001.collapse.narrowPeak'.format(i))\n",
    "\n",
    "    peaks = cpb.bedtools.combine(fns)\n",
    "    peaks.saveas(os.path.join(outdir, 'ctcf_peaks.bed'));\n",
    "\n",
    "if not os.path.exists(os.path.join(outdir, 'ctcf_peaks.saf')):\n",
    "    c = ('python /frazer01/home/cdeboever/repos/cdeboever3/cdpipelines/cdpipelines/convert_bed_to_saf.py '\n",
    "         '{} {}'.format(os.path.join(outdir, 'ctcf_peaks.bed'), os.path.join(outdir, 'ctcf_peaks.saf')))\n",
    "    subprocess.check_call(c, shell=True)\n",
    "\n",
    "for i in chip_seq_meta.index: \n",
    "    bam = '/projects/CARDIPS/pipeline/ChIPseq/sample/{0}/alignment/{0}.filtered.querySorted.bam'.format(i)\n",
    "    saf = os.path.join(outdir, 'ctcf_peaks.saf')\n",
    "    out = os.path.join(outdir, '{}_featureCounts.tsv'.format(i))\n",
    "    if not os.path.exists(out):\n",
    "        c = 'featureCounts -p -T 8 --donotsort -F SAF -a {} -o {} {}'.format(saf, out, bam)\n",
    "        subprocess.check_call(c, shell=True)"
   ]
  },
  {
   "cell_type": "code",
   "execution_count": 586,
   "metadata": {
    "collapsed": true
   },
   "outputs": [],
   "source": [
    "if not os.path.exists(os.path.join(outdir, 'ctcf_peak_counts.tsv')):\n",
    "    ctcf_vars = cpb.bedtools.intervals_to_bed([':'.join(x.split(':')[0:2]) for x in ctcf_genotypes.index]).sort()\n",
    "    res = peaks.intersect(ctcf_vars, wo=True, sorted=True)\n",
    "    res = res.to_dataframe()\n",
    "    fns = glob.glob(os.path.join(outdir, '*_featureCounts.tsv'))\n",
    "    peak_counts = cpb.featureCounts.combine_counts(\n",
    "        fns, define_sample_name=lambda x: os.path.split(x)[1].split('.')[0].split('_')[0])\n",
    "    size_factors = cpb.analysis.deseq2_size_factors(peak_counts, chip_seq_meta, '~subject_id')\n",
    "    peak_counts = peak_counts / size_factors\n",
    "    peak_counts.to_csv(os.path.join(outdir, 'ctcf_peak_counts_all.tsv'), sep='\\t')\n",
    "    peak_counts = peak_counts.ix[set(res.chrom + ':' + res.start.astype(str) + '-' + res.end.astype(str))]\n",
    "    peak_counts.to_csv(os.path.join(outdir, 'ctcf_peak_counts_all.tsv'), sep='\\t')\n",
    "else:\n",
    "    peak_counts = pd.read_table(os.path.join(outdir, 'ctcf_peak_counts.tsv'), index_col=0)"
   ]
  },
  {
   "cell_type": "code",
   "execution_count": 265,
   "metadata": {
    "collapsed": false
   },
   "outputs": [],
   "source": [
    "fn = os.path.join(private_outdir, 'ctcf_genotypes_tri.tsv')\n",
    "if not os.path.exists(fn):\n",
    "    ctcf_genotypes_tri = ctcf_genotypes.copy(deep=True)\n",
    "    ctcf_genotypes_tri = ctcf_genotypes_tri.replace('00', 0)\n",
    "    ctcf_genotypes_tri = ctcf_genotypes_tri.replace('01', 1)\n",
    "    ctcf_genotypes_tri = ctcf_genotypes_tri.replace('11', 2)\n",
    "    ctcf_genotypes_tri.index = [':'.join(x.split(':')[0:2]) for x in ctcf_genotypes.index]\n",
    "    ctcf_genotypes_tri['index'] = ctcf_genotypes_tri.index\n",
    "    ctcf_genotypes_tri = ctcf_genotypes_tri.drop_duplicates(subset=['index'])\n",
    "    ctcf_genotypes_tri = ctcf_genotypes_tri.drop('index', axis=1)\n",
    "    ctcf_genotypes_tri = ctcf_genotypes_tri[chip_seq_meta.wgs_id.drop_duplicates()]\n",
    "\n",
    "    cols = []\n",
    "    for i in ctcf_genotypes_tri.columns:\n",
    "        cols.append(chip_seq_meta[chip_seq_meta.wgs_id == i].index[0])\n",
    "\n",
    "    ctcf_genotypes_tri.columns = cols\n",
    "    ctcf_genotypes_tri = ctcf_genotypes_tri[peak_counts.columns]\n",
    "    ctcf_genotypes_tri.to_csv(fn, sep='\\t')\n",
    "else: \n",
    "    ctcf_genotypes_tri = pd.read_table(fn, index_col=0)"
   ]
  },
  {
   "cell_type": "code",
   "execution_count": 266,
   "metadata": {
    "collapsed": false
   },
   "outputs": [],
   "source": [
    "var_to_peak = pd.Series((res.chrom + ':' + res.start.astype(str) + '-' + res.end.astype(str)).values,\n",
    "                        index=(res.name + ':' + res.score.astype(str) + '-' + res.strand.astype(str)).values).drop_duplicates()"
   ]
  },
  {
   "cell_type": "code",
   "execution_count": 428,
   "metadata": {
    "collapsed": false
   },
   "outputs": [],
   "source": [
    "disrupt_sign = []\n",
    "for i in var_to_peak.index:\n",
    "    t = motif_d.ix[i].dropna()\n",
    "    t = t[[x for x in t.index if 'CTCF' in x]]\n",
    "    if (t > 0).value_counts().shape[0] == 1:\n",
    "        disrupt_sign.append(sum(t > 0) / float(t.shape[0]) > 0.5)\n",
    "disrupt_sign = pd.Series(dict(zip(var_to_peak.index, disrupt_sign)))"
   ]
  },
  {
   "cell_type": "code",
   "execution_count": 582,
   "metadata": {
    "collapsed": false
   },
   "outputs": [],
   "source": [
    "fn = os.path.join(outdir, 'ctcf_aggregate_counts.tsv')\n",
    "if not os.path.exists(fn):\n",
    "    genotypes = []\n",
    "    counts = []\n",
    "    for i in ctcf_genotypes_tri.index:\n",
    "        if i in var_to_peak.index and i in sig_vars and i in disrupt_sign.index:\n",
    "            if var_to_peak[i] in peak_counts.index:\n",
    "                g = ctcf_genotypes_tri.ix[i]\n",
    "                c = np.log10(peak_counts.ix[var_to_peak[i]] + 1)\n",
    "                c = c - c.mean()\n",
    "                c = c / c.std()\n",
    "                c = list(c)\n",
    "                if disrupt_sign[i] == False:\n",
    "                    c.reverse()\n",
    "                genotypes += list(g)\n",
    "                counts += c\n",
    "    agg_counts = pd.DataFrame({'genotypes':genotypes, 'counts':counts})\n",
    "    agg_counts.to_csv(fn, '\\t')\n",
    "else:\n",
    "    agg_counts = pd.read_table(fn, index_col=0)"
   ]
  },
  {
   "cell_type": "code",
   "execution_count": 583,
   "metadata": {
    "collapsed": false
   },
   "outputs": [
    {
     "data": {
      "text/plain": [
       "1    264\n",
       "0    205\n",
       "2     86\n",
       "Name: genotypes, dtype: int64"
      ]
     },
     "execution_count": 583,
     "metadata": {},
     "output_type": "execute_result"
    }
   ],
   "source": [
    "agg_counts.genotypes.value_counts()"
   ]
  },
  {
   "cell_type": "code",
   "execution_count": 445,
   "metadata": {
    "collapsed": false
   },
   "outputs": [
    {
     "name": "stdout",
     "output_type": "stream",
     "text": [
      "111 sites can be used to check direction of effect.\n"
     ]
    }
   ],
   "source": [
    "n = len(var_to_peak.index & set(sig_vars) & disrupt_sign.index)\n",
    "print('{} sites can be used to check direction of effect.'.format(n))"
   ]
  },
  {
   "cell_type": "code",
   "execution_count": 435,
   "metadata": {
    "collapsed": false
   },
   "outputs": [
    {
     "data": {
      "image/png": "[encoded data removed]",
      "text/plain": [
       "<matplotlib.figure.Figure at 0x7f6d78c85790>"
      ]
     },
     "metadata": {},
     "output_type": "display_data"
    }
   ],
   "source": [
    "sns.jointplot(x='genotypes', y='counts', data=agg_counts, kind='reg');"
   ]
  },
  {
   "cell_type": "code",
   "execution_count": 294,
   "metadata": {
    "collapsed": false
   },
   "outputs": [
    {
     "data": {
      "image/png": "[encoded data removed]",
      "text/plain": [
       "<matplotlib.figure.Figure at 0x7f6dd17e1590>"
      ]
     },
     "metadata": {},
     "output_type": "display_data"
    }
   ],
   "source": [
    "plt.figure()\n",
    "ax = sns.violinplot(x='genotypes', y='counts', data=agg_counts, color='grey',\n",
    "                order=[0, 1, 2], scale='count')\n",
    "sns.regplot(x='genotypes', y='counts', data=tdf, scatter=False, color='red');"
   ]
  },
  {
   "cell_type": "code",
   "execution_count": 319,
   "metadata": {
    "collapsed": true
   },
   "outputs": [],
   "source": [
    "for k in all_counts.keys():\n",
    "    all_counts[k]['sample'] = k"
   ]
  },
  {
   "cell_type": "code",
   "execution_count": 320,
   "metadata": {
    "collapsed": false
   },
   "outputs": [],
   "source": [
    "ac = pd.concat(all_counts.values())"
   ]
  },
  {
   "cell_type": "code",
   "execution_count": 325,
   "metadata": {
    "collapsed": false
   },
   "outputs": [
    {
     "data": {
      "text/plain": [
       "0.5104602510460251"
      ]
     },
     "execution_count": 325,
     "metadata": {},
     "output_type": "execute_result"
    }
   ],
   "source": [
    "ac[ac.binomialPValue < 0.05].shape[0] / float(ac.shape[0])"
   ]
  },
  {
   "cell_type": "code",
   "execution_count": 326,
   "metadata": {
    "collapsed": true
   },
   "outputs": [],
   "source": [
    "ac_sig = ac[ac.binomialPValue < 0.05]"
   ]
  },
  {
   "cell_type": "markdown",
   "metadata": {},
   "source": [
    "### 3D interactions"
   ]
  },
  {
   "cell_type": "code",
   "execution_count": 456,
   "metadata": {
    "collapsed": true
   },
   "outputs": [],
   "source": [
    "fn = os.path.join(ciepy.root, 'output', 'ji_et_al_2015_processing', 'interactions.tsv')\n",
    "interactions = pd.read_table(fn)\n",
    "\n",
    "fn = os.path.join(ciepy.root, 'output', 'ji_et_al_2015_processing', \n",
    "                  'gene_to_containing_interactions.pickle')\n",
    "gene_to_containing_interactions = cPickle.load(open(fn))\n",
    "\n",
    "fn = os.path.join(ciepy.root, 'output', 'ji_et_al_2015_processing',\n",
    "                  'chia_to_exon_gene.pickle')\n",
    "chia_to_exon_gene = cPickle.load(open(fn))\n",
    "fn = os.path.join(ciepy.root, 'output', 'ji_et_al_2015_processing',\n",
    "                  'chia_to_promoter_gene.pickle')\n",
    "chia_to_promoter_gene = cPickle.load(open(fn))\n",
    "\n",
    "fn = os.path.join(ciepy.root, 'output', 'ji_et_al_2015_processing',\n",
    "                  'chia_peaks.bed')\n",
    "chia_peaks = pbt.BedTool(fn)"
   ]
  },
  {
   "cell_type": "code",
   "execution_count": 457,
   "metadata": {
    "collapsed": false
   },
   "outputs": [],
   "source": [
    "s = '\\n'.join(gene_variants_f.location.apply(\n",
    "        lambda x: '\\t'.join(cpb.general.parse_region(x)))) + '\\n'\n",
    "var_bt = pbt.BedTool(s, from_string=True)\n",
    "var_bt = var_bt.sort()\n",
    "res = var_bt.intersect(chia_peaks, wo=True, sorted=True)\n",
    "d = {}\n",
    "for r in res:\n",
    "    ind = '{}:{}-{}'.format(r.chrom, r.start, r.end)\n",
    "    d[ind] = d.get(ind, set()) | set(['{}:{}-{}'.format(*r.fields[-4:-1])])\n",
    "se = pd.Series(d)\n",
    "    \n",
    "gene_variants_f = gene_variants_f.merge(pd.DataFrame({'chia_peaks': se}), \n",
    "                                      left_on='location', right_index=True, how='left')"
   ]
  },
  {
   "cell_type": "code",
   "execution_count": 458,
   "metadata": {
    "collapsed": true
   },
   "outputs": [],
   "source": [
    "s = '\\n'.join(lead_variants_single_f.location.apply(\n",
    "        lambda x: '\\t'.join(cpb.general.parse_region(x)))) + '\\n'\n",
    "var_bt = pbt.BedTool(s, from_string=True)\n",
    "var_bt = var_bt.sort()\n",
    "res = var_bt.intersect(chia_peaks, wo=True, sorted=True)\n",
    "d = {}\n",
    "for r in res:\n",
    "    ind = '{}:{}-{}'.format(r.chrom, r.start, r.end)\n",
    "    d[ind] = d.get(ind, set()) | set(['{}:{}-{}'.format(*r.fields[-4:-1])])\n",
    "se = pd.Series(d)\n",
    "    \n",
    "lead_variants_single_f = lead_variants_single_f.merge(pd.DataFrame({'chia_peaks': se}), \n",
    "                                                  left_on='location', right_index=True, how='left')"
   ]
  },
  {
   "cell_type": "code",
   "execution_count": 459,
   "metadata": {
    "collapsed": true
   },
   "outputs": [],
   "source": [
    "def get_other_end(peaks):\n",
    "    if type(peaks) is set:\n",
    "        other_ends = []\n",
    "        for p in peaks:\n",
    "            other_ends += list(interactions.ix[interactions.peak1 == p, 'peak2'])\n",
    "            other_ends += list(interactions.ix[interactions.peak2 == p, 'peak1'])\n",
    "        return set(other_ends)\n",
    "    else:\n",
    "        return np.nan\n",
    "    \n",
    "def get_promoter_gene(peaks):\n",
    "    if type(peaks) is set:\n",
    "        peaks = peaks & set(chia_to_promoter_gene.index)\n",
    "        genes = []\n",
    "        for p in peaks:\n",
    "            genes += list(chia_to_promoter_gene[p])\n",
    "        out = set(genes)\n",
    "        if len(out) == 0:\n",
    "            return np.nan\n",
    "        else:\n",
    "            return out\n",
    "    else:\n",
    "        return np.nan"
   ]
  },
  {
   "cell_type": "code",
   "execution_count": 460,
   "metadata": {
    "collapsed": false
   },
   "outputs": [],
   "source": [
    "gene_variants_f['chia_interaction_peak'] = gene_variants_f.chia_peaks.apply(lambda x: get_other_end(x))\n",
    "lead_variants_single_f['chia_interaction_peak'] = lead_variants_single_f.chia_peaks.apply(lambda x: get_other_end(x))"
   ]
  },
  {
   "cell_type": "code",
   "execution_count": 461,
   "metadata": {
    "collapsed": true
   },
   "outputs": [],
   "source": [
    "gene_variants_f['chia_interaction_promoter_gene'] = \\\n",
    "    gene_variants_f.chia_interaction_peak.apply(lambda x: get_promoter_gene(x))\n",
    "lead_variants_single_f['chia_interaction_promoter_gene'] = \\\n",
    "    lead_variants_single_f.chia_interaction_peak.apply(lambda x: get_promoter_gene(x))"
   ]
  },
  {
   "cell_type": "code",
   "execution_count": 462,
   "metadata": {
    "collapsed": true
   },
   "outputs": [],
   "source": [
    "gene_variants_f['interacts_with_promoter'] = np.nan\n",
    "t = gene_variants_f[gene_variants_f.chia_interaction_promoter_gene.isnull() == False]\n",
    "se = t.apply(lambda x: x['gene_id'] in x['chia_interaction_promoter_gene'], axis=1)\n",
    "gene_variants_f.ix[se.index, 'interacts_with_promoter'] = se"
   ]
  },
  {
   "cell_type": "code",
   "execution_count": 463,
   "metadata": {
    "collapsed": true
   },
   "outputs": [],
   "source": [
    "lead_variants_single_f['interacts_with_promoter'] = np.nan\n",
    "t = lead_variants_single_f[lead_variants_single_f.chia_interaction_promoter_gene.isnull() == False]\n",
    "se = t.apply(lambda x: x['gene_id'] in x['chia_interaction_promoter_gene'], axis=1)\n",
    "lead_variants_single_f.ix[se.index, 'interacts_with_promoter'] = se"
   ]
  },
  {
   "cell_type": "code",
   "execution_count": 464,
   "metadata": {
    "collapsed": true
   },
   "outputs": [],
   "source": [
    "shared = set(lead_variants_single_f.index) & set(gene_variants_f.index)"
   ]
  },
  {
   "cell_type": "code",
   "execution_count": 465,
   "metadata": {
    "collapsed": false
   },
   "outputs": [
    {
     "name": "stdout",
     "output_type": "stream",
     "text": [
      "71 lead variants and 154 putative eQTNs (19 shared) interact with promoters.\n"
     ]
    }
   ],
   "source": [
    "a = lead_variants_single_f.interacts_with_promoter.sum()\n",
    "b = gene_variants_f.interacts_with_promoter.sum()\n",
    "c = len(set(lead_variants_single_f[lead_variants_single_f.interacts_with_promoter == True].index) \n",
    "        & set(gene_variants_f[gene_variants_f.interacts_with_promoter == True].index))\n",
    "print('{} lead variants and {} putative eQTNs ({} shared) '\n",
    "      'interact with promoters.'.format(a, b, c))"
   ]
  },
  {
   "cell_type": "code",
   "execution_count": 466,
   "metadata": {
    "collapsed": false
   },
   "outputs": [
    {
     "data": {
      "text/plain": [
       "(4.0348059198865647, 1.9501785416492163e-19)"
      ]
     },
     "execution_count": 466,
     "metadata": {},
     "output_type": "execute_result"
    }
   ],
   "source": [
    "lead_interact = lead_variants_single_f.drop(shared).interacts_with_promoter.sum()\n",
    "lead_no_interact = lead_variants_single_f.drop(shared).shape[0] - lead_interact\n",
    "put_interact = gene_variants_f.drop(shared).interacts_with_promoter.sum()\n",
    "put_no_interact = gene_variants_f.drop(shared).shape[0] - put_interact\n",
    "stats.fisher_exact([[put_interact, put_no_interact], [lead_interact, lead_no_interact]])"
   ]
  },
  {
   "cell_type": "code",
   "execution_count": 467,
   "metadata": {
    "collapsed": false
   },
   "outputs": [
    {
     "data": {
      "text/plain": [
       "46"
      ]
     },
     "execution_count": 467,
     "metadata": {},
     "output_type": "execute_result"
    }
   ],
   "source": [
    "sum(gene_variants_f[gene_variants_f.interacts_with_promoter == True].tss_dist_abs > 20000)"
   ]
  },
  {
   "cell_type": "code",
   "execution_count": 468,
   "metadata": {
    "collapsed": false
   },
   "outputs": [
    {
     "data": {
      "text/plain": [
       "13"
      ]
     },
     "execution_count": 468,
     "metadata": {},
     "output_type": "execute_result"
    }
   ],
   "source": [
    "sum(lead_variants_single_f[lead_variants_single_f.interacts_with_promoter == True].tss_dist_abs > 20000)"
   ]
  },
  {
   "cell_type": "code",
   "execution_count": 469,
   "metadata": {
    "collapsed": false
   },
   "outputs": [
    {
     "data": {
      "text/plain": [
       "1799"
      ]
     },
     "execution_count": 469,
     "metadata": {},
     "output_type": "execute_result"
    }
   ],
   "source": [
    "sum(gene_variants_f.tss_dist_abs > 20000)"
   ]
  },
  {
   "cell_type": "code",
   "execution_count": 472,
   "metadata": {
    "collapsed": false
   },
   "outputs": [
    {
     "data": {
      "text/plain": [
       "15029.0"
      ]
     },
     "execution_count": 472,
     "metadata": {},
     "output_type": "execute_result"
    }
   ],
   "source": [
    "gene_variants_f.tss_dist_abs.median()"
   ]
  },
  {
   "cell_type": "code",
   "execution_count": 473,
   "metadata": {
    "collapsed": false
   },
   "outputs": [
    {
     "data": {
      "text/plain": [
       "15300.5"
      ]
     },
     "execution_count": 473,
     "metadata": {},
     "output_type": "execute_result"
    }
   ],
   "source": [
    "lead_variants_single_f.tss_dist_abs.median()"
   ]
  },
  {
   "cell_type": "code",
   "execution_count": 493,
   "metadata": {
    "collapsed": true
   },
   "outputs": [],
   "source": [
    "ttt = lead_variants_single_f[lead_variants_single_f.interacts_with_promoter == True]"
   ]
  },
  {
   "cell_type": "code",
   "execution_count": 499,
   "metadata": {
    "collapsed": false
   },
   "outputs": [
    {
     "data": {
      "text/plain": [
       "chrom                                                chr17\n",
       "start                                              2296013\n",
       "end                                                2296014\n",
       "marker_id                         17:2296014_T/C_rs2447091\n",
       "ns                                                     215\n",
       "ac                                                     168\n",
       "callrate                                                 1\n",
       "genocnt                                          73/116/26\n",
       "maf                                                 0.3907\n",
       "stat                                               -5.2045\n",
       "pvalue                                           4.583e-07\n",
       "beta                                               -0.5136\n",
       "sebeta                                             0.09869\n",
       "r2                                                  0.1133\n",
       "gene_id                                 ENSG00000070444.10\n",
       "ref                                                      T\n",
       "alt                                                      C\n",
       "variant_type                                           snv\n",
       "variant_caller                                        gatk\n",
       "location                             chr17:2296013-2296014\n",
       "rsid                                             rs2447091\n",
       "length                                                 NaN\n",
       "tss_dist                                                40\n",
       "tss_dist_abs                                            40\n",
       "gene_name                                              MNT\n",
       "gene_type                                   protein_coding\n",
       "AF                                                0.325879\n",
       "EUR_AF                                              0.3658\n",
       "SAS_AF                                              0.4509\n",
       "AFR_AF                                              0.1543\n",
       "AMR_AF                                              0.2435\n",
       "EAS_AF                                              0.4464\n",
       "perm_pvalue                                     0.00109989\n",
       "perm_qvalue                                     0.00215208\n",
       "perm_sig                                              True\n",
       "chia_peaks                         {chr17:2295472-2297509}\n",
       "chia_interaction_peak              {chr17:2301831-2305621}\n",
       "chia_interaction_promoter_gene        {ENSG00000070444.10}\n",
       "interacts_with_promoter                               True\n",
       "Name: chr17:2296013-2296014:ENSG00000070444.10, dtype: object"
      ]
     },
     "execution_count": 499,
     "metadata": {},
     "output_type": "execute_result"
    }
   ],
   "source": [
    "ttt.ix['chr17:2296013-2296014:ENSG00000070444.10']"
   ]
  },
  {
   "cell_type": "code",
   "execution_count": 505,
   "metadata": {
    "collapsed": false
   },
   "outputs": [],
   "source": [
    "interactions['distance'] = (interactions.end1 - interactions.start1) / 2. - (interactions.end2 - interactions.start2) / 2.\n",
    "interactions['distance'] = interactions.distance.abs()"
   ]
  },
  {
   "cell_type": "code",
   "execution_count": 509,
   "metadata": {
    "collapsed": false
   },
   "outputs": [
    {
     "data": {
      "text/plain": [
       "<matplotlib.axes._subplots.AxesSubplot at 0x7f6dd187fb90>"
      ]
     },
     "execution_count": 509,
     "metadata": {},
     "output_type": "execute_result"
    },
    {
     "data": {
      "image/png": "[encoded data removed]",
      "text/plain": [
       "<matplotlib.figure.Figure at 0x7f6dd198f710>"
      ]
     },
     "metadata": {},
     "output_type": "display_data"
    }
   ],
   "source": [
    "np.log10(interactions.distance + 1).hist()"
   ]
  },
  {
   "cell_type": "code",
   "execution_count": 485,
   "metadata": {
    "collapsed": false
   },
   "outputs": [
    {
     "data": {
      "text/plain": [
       "<matplotlib.axes._subplots.AxesSubplot at 0x7f6dd2d3dcd0>"
      ]
     },
     "execution_count": 485,
     "metadata": {},
     "output_type": "execute_result"
    },
    {
     "data": {
      "image/png": "[encoded data removed]",
      "text/plain": [
       "<matplotlib.figure.Figure at 0x7f6dd4273b10>"
      ]
     },
     "metadata": {},
     "output_type": "display_data"
    }
   ],
   "source": [
    "np.log10(lead_variants_single_f[lead_variants_single_f.interacts_with_promoter == True].tss_dist_abs + 1).hist()"
   ]
  },
  {
   "cell_type": "code",
   "execution_count": 486,
   "metadata": {
    "collapsed": false
   },
   "outputs": [
    {
     "data": {
      "text/plain": [
       "<matplotlib.axes._subplots.AxesSubplot at 0x7f6dd18a1b10>"
      ]
     },
     "execution_count": 486,
     "metadata": {},
     "output_type": "execute_result"
    },
    {
     "data": {
      "image/png": "[encoded data removed]",
      "text/plain": [
       "<matplotlib.figure.Figure at 0x7f6dd18b03d0>"
      ]
     },
     "metadata": {},
     "output_type": "display_data"
    }
   ],
   "source": [
    "np.log10(gene_variants_f[gene_variants_f.interacts_with_promoter == True].tss_dist_abs + 1).hist()"
   ]
  },
  {
   "cell_type": "code",
   "execution_count": 519,
   "metadata": {
    "collapsed": false
   },
   "outputs": [],
   "source": [
    "mi = interactions.apply(\n",
    "    lambda x: min(x['start1'], x['start2']), axis=1)\n",
    "ma = interactions.apply(\n",
    "    lambda x: max(x['end1'], x['end2']), axis=1)\n",
    "se = ma - mi\n",
    "# np.log10(se.abs()).hist(bins=50)\n",
    "# plt.ylabel('Number of loops')\n",
    "# plt.xlabel('$log_{10}$ size in bp')\n",
    "# plt.title('Median: {}'.format(se.median()));"
   ]
  },
  {
   "cell_type": "code",
   "execution_count": 533,
   "metadata": {
    "collapsed": false
   },
   "outputs": [
    {
     "data": {
      "text/plain": [
       "<matplotlib.text.Text at 0x7f6d784c1ed0>"
      ]
     },
     "execution_count": 533,
     "metadata": {},
     "output_type": "execute_result"
    },
    {
     "data": {
      "image/png": "[encoded data removed]",
      "text/plain": [
       "<matplotlib.figure.Figure at 0x7f6dcfd5d3d0>"
      ]
     },
     "metadata": {},
     "output_type": "display_data"
    }
   ],
   "source": [
    "np.log10(se.abs()).hist(normed=True, alpha=0.5, label='ChIA-PET', bins=np.arange(0, 9, 0.25), histtype='stepfilled')\n",
    "np.log10(lead_variants_single_f.tss_dist_abs + 1).hist(normed=True, alpha=0.5, label='Lead variants', bins=np.arange(0, 9, 0.25), histtype='stepfilled')\n",
    "np.log10(gene_variants_f.tss_dist_abs + 1).hist(normed=True, alpha=0.5, label='peQTNs', bins=np.arange(0, 9, 0.25), histtype='stepfilled')\n",
    "plt.legend()\n",
    "plt.xlabel('$\\log_{10}$ distance in base pairs')\n",
    "plt.ylabel('Density')"
   ]
  },
  {
   "cell_type": "code",
   "execution_count": 599,
   "metadata": {
    "collapsed": false
   },
   "outputs": [],
   "source": [
    "fn = os.path.join(outdir, 'tss_distance_kde.tsv')\n",
    "if not os.path.exists(fn):\n",
    "    pdfs = pd.DataFrame(index=np.arange(0, 9 + 0.1, 0.1))\n",
    "    density = scipy.stats.gaussian_kde(np.log10(se.abs()))\n",
    "    pdfs['ChIA-PET interactions'] = density(pdfs.index)\n",
    "    density = scipy.stats.gaussian_kde(np.log10(lead_variants_single_f.tss_dist_abs + 1))\n",
    "    pdfs['Lead variants'] = density(pdfs.index)\n",
    "    density = scipy.stats.gaussian_kde(np.log10(gene_variants_f.tss_dist_abs + 1))\n",
    "    pdfs['peQTNs'] = density(pdfs.index)\n",
    "    pdfs.to_csv(fn, sep='\\t')\n",
    "else:\n",
    "    pdfs = pd.read_table(fn, index_col=0)"
   ]
  },
  {
   "cell_type": "code",
   "execution_count": 600,
   "metadata": {
    "collapsed": false
   },
   "outputs": [
    {
     "data": {
      "image/png": "[encoded data removed]",
      "text/plain": [
       "<matplotlib.figure.Figure at 0x7f6d41971350>"
      ]
     },
     "metadata": {},
     "output_type": "display_data"
    }
   ],
   "source": [
    "pdfs.plot()\n",
    "plt.xlabel('Distance to TSS')\n",
    "plt.ylabel('Density');"
   ]
  },
  {
   "cell_type": "markdown",
   "metadata": {},
   "source": [
    "### Motif Similarity"
   ]
  },
  {
   "cell_type": "code",
   "execution_count": null,
   "metadata": {
    "collapsed": true
   },
   "outputs": [],
   "source": [
    "s = cpb.general.read_gzipped_text_url('http://compbio.mit.edu/encode-motifs/motifs-sim.txt.gz')\n",
    "lines = s.strip().split('\\n')\n",
    "lines = [x.split('\\t') for x in lines]\n",
    "vals = [x[1:] for x in lines[1:]]\n",
    "index = [x[0] for x in lines][1:]\n",
    "header = lines[0][1:]\n",
    "motif_sim = pd.DataFrame(vals, index=index, columns=header)\n",
    "motif_sim = motif_sim.astype(float)"
   ]
  },
  {
   "cell_type": "code",
   "execution_count": null,
   "metadata": {
    "collapsed": true
   },
   "outputs": [],
   "source": [
    "t = motif_sim.ix[motif_info.index, motif_info.index]"
   ]
  },
  {
   "cell_type": "code",
   "execution_count": null,
   "metadata": {
    "collapsed": false
   },
   "outputs": [],
   "source": [
    "sns.clustermap(t, xticklabels=[], yticklabels=[]);"
   ]
  },
  {
   "cell_type": "code",
   "execution_count": null,
   "metadata": {
    "collapsed": false
   },
   "outputs": [],
   "source": [
    "sns.heatmap(motif_sim, xticklabels=[], yticklabels=[]);"
   ]
  },
  {
   "cell_type": "code",
   "execution_count": null,
   "metadata": {
    "collapsed": false
   },
   "outputs": [],
   "source": [
    "tf_overlap.ix[gene_variants_f.location.drop_duplicates()].sum(axis=1).value_counts().sort_index().plot(kind='bar')"
   ]
  },
  {
   "cell_type": "code",
   "execution_count": null,
   "metadata": {
    "collapsed": false
   },
   "outputs": [],
   "source": [
    "motif_disrupt.ix[gene_variants_f.location.drop_duplicates()].sum(axis=1).value_counts().sort_index().plot(kind='bar')"
   ]
  },
  {
   "cell_type": "code",
   "execution_count": null,
   "metadata": {
    "collapsed": false
   },
   "outputs": [],
   "source": [
    "num_tf_motifs = []\n",
    "for i in gene_variants_f.location.drop_duplicates():\n",
    "    se = motif_disrupt.ix[i]\n",
    "    num_tf_motifs.append(len(set([x.split('_')[0] for x in se[se].index])))\n",
    "pd.Series(num_tf_motifs).value_counts().sort_index().plot(kind='bar')"
   ]
  },
  {
   "cell_type": "code",
   "execution_count": null,
   "metadata": {
    "collapsed": false
   },
   "outputs": [],
   "source": [
    "for i in gene_variants_f.location.drop_duplicates()[0:5]:\n",
    "    se = motif_disrupt.ix[i]\n",
    "    df = motif_sim.ix[se[se].index]\n",
    "    df = df > 0.75\n",
    "    print('Disrupts motifs: {}'.format(', '.join(list(se[se].index))))\n",
    "    print('These motifs are similar to known motifs for: {}'.format(\n",
    "            ', '.join(list(set([x.split('_')[0] for x in df.sum()[df.sum() > 0].index if 'disc' not in x])))))\n",
    "    print('These TFs are not expected: {}'.format(\n",
    "        ', '.join(set([x.split('_')[0] for x in df.sum()[df.sum() > 0].index if 'disc' not in x]) - \n",
    "                              set([x.split('_')[0] for x in se[se].index]))))\n",
    "    print('----------------------------------------------------------------------------------------------------')"
   ]
  },
  {
   "cell_type": "code",
   "execution_count": null,
   "metadata": {
    "collapsed": false
   },
   "outputs": [],
   "source": [
    "num_sim_motifs = []\n",
    "for i in gene_variants_f.location.drop_duplicates():\n",
    "    se = motif_disrupt.ix[i]\n",
    "    df = motif_sim.ix[se[se].index]\n",
    "    df = df > 0.75\n",
    "    num_sim_motifs.append(len(set([x.split('_')[0] for x in df.sum()[df.sum() > 0].index if 'disc' not in x]) - \n",
    "                              set([x.split('_')[0] for x in se[se].index])))\n",
    "\n",
    "pd.Series(num_sim_motifs).value_counts().sort_index().plot(kind='bar')"
   ]
  },
  {
   "cell_type": "code",
   "execution_count": null,
   "metadata": {
    "collapsed": false
   },
   "outputs": [],
   "source": [
    "t = []\n",
    "for a in gene_variants_f.index:\n",
    "    i = gene_variants_f.ix[a, 'location']\n",
    "    se = motif_disrupt.ix[i]\n",
    "    se = se[se]\n",
    "    se = se[[x for x in se.index if 'known' in x]]\n",
    "    s = set(motif_info.ix[se.index, 'target'])\n",
    "    if sum(tf_overlap.ix[i, s] > 0):\n",
    "        t.append(a)\n",
    "n = len(set(gene_variants_f.ix[t, 'gene_id'])) / float(len(set(gene_variants_f['gene_id'])))\n",
    "print('{:.2f}% of eGenes with a peQTN have at least one peQTN that disrupts'\n",
    "      ' a known motif for the TF that it overlaps.'.format(n * 100))"
   ]
  },
  {
   "cell_type": "code",
   "execution_count": null,
   "metadata": {
    "collapsed": false
   },
   "outputs": [],
   "source": [
    "a = sum(pd.Series(num_sim_motifs) > 0)\n",
    "b = len(num_sim_motifs)\n",
    "print('{:,} of {:,} ({:.2f}%) peQTNs disrupt a motif that is '\n",
    "      'similar to a known motif for a different TF (e.g. the variant '\n",
    "      'does not overlap a peak for the other TF)'.format(a, b, a / float(b) * 100))"
   ]
  },
  {
   "cell_type": "code",
   "execution_count": null,
   "metadata": {
    "collapsed": false
   },
   "outputs": [],
   "source": [
    "motif_sim.ix['ETV6_1'].hist()"
   ]
  },
  {
   "cell_type": "code",
   "execution_count": null,
   "metadata": {
    "collapsed": true
   },
   "outputs": [],
   "source": []
  }
 ],
 "metadata": {
  "kernelspec": {
   "display_name": "Python 2",
   "language": "python",
   "name": "python2"
  },
  "language_info": {
   "codemirror_mode": {
    "name": "ipython",
    "version": 2
   },
   "file_extension": ".py",
   "mimetype": "text/x-python",
   "name": "python",
   "nbconvert_exporter": "python",
   "pygments_lexer": "ipython2",
   "version": "2.7.11"
  }
 },
 "nbformat": 4,
 "nbformat_minor": 0
}
