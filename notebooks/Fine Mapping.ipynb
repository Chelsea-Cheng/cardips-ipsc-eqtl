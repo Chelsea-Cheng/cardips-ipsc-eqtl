{
 "cells": [
  {
   "cell_type": "markdown",
   "metadata": {},
   "source": [
    "# Fine Mapping\n",
    "\n",
    "I want to take the significant eQTL variants and functionally annotate them\n",
    "to come up with a list of variants that might be causal. There is a lot of\n",
    "functional data for the H1-hESC line that I can use along with data from\n",
    "other places."
   ]
  },
  {
   "cell_type": "code",
   "execution_count": 1,
   "metadata": {
    "collapsed": false
   },
   "outputs": [],
   "source": [
    "import cPickle\n",
    "import glob\n",
    "import os\n",
    "import re\n",
    "import subprocess\n",
    "import urllib2\n",
    "\n",
    "import cdpybio as cpbf\n",
    "import matplotlib.pyplot as plt\n",
    "import numpy as np\n",
    "import pandas as pd\n",
    "pd.options.mode.chained_assignment = None\n",
    "import pybedtools as pbt\n",
    "import scipy.stats as stats\n",
    "import seaborn as sns\n",
    "import tabix\n",
    "import vcf as pyvcf\n",
    "\n",
    "import cardipspy as cpy\n",
    "import ciepy\n",
    "\n",
    "%matplotlib inline\n",
    "\n",
    "dy_name = 'fine_mapping'\n",
    "\n",
    "import socket\n",
    "if socket.gethostname() == 'fl-hn1' or socket.gethostname() == 'fl-hn2':\n",
    "    dy = os.path.join(ciepy.root, 'sandbox', 'tmp', dy_name)\n",
    "    cpy.makedir(dy)\n",
    "    pbt.set_tempdir(dy)\n",
    "    \n",
    "outdir = os.path.join(ciepy.root, 'output', dy_name)\n",
    "cpy.makedir(outdir)\n",
    "\n",
    "private_outdir = os.path.join(ciepy.root, 'private_output', dy_name)\n",
    "cpy.makedir(private_outdir)"
   ]
  },
  {
   "cell_type": "code",
   "execution_count": 2,
   "metadata": {
    "collapsed": false
   },
   "outputs": [],
   "source": [
    "tg = pd.read_table(cpy.gencode_transcript_gene, index_col=0, \n",
    "                   header=None, squeeze=True)\n",
    "gene_info = pd.read_table(cpy.gencode_gene_info, index_col=0)\n",
    "transcript_to_gene = pd.read_table(cpy.gencode_transcript_gene, header=None, \n",
    "                                   squeeze=True, index_col=0)\n",
    "fn = os.path.join(ciepy.root, 'output', 'eqtl_input', \n",
    "                  'tpm_log_filtered_phe_std_norm_peer_resid.tsv')\n",
    "exp = pd.read_table(fn, index_col=0)\n",
    "\n",
    "fn = os.path.join(ciepy.root, 'output', 'eqtl_processing', 'eqtls01', 'qvalues.tsv')\n",
    "qvalues = pd.read_table(fn, index_col=0)\n",
    "\n",
    "fn = os.path.join(ciepy.root, 'output', 'eqtl_processing', 'eqtls01', 'lead_variants_single.tsv')\n",
    "lead_variants_single = pd.read_table(fn, index_col=0)\n",
    "lead_variants_single_f = lead_variants_single[lead_variants_single.perm_sig]\n",
    "\n",
    "genes = pbt.BedTool(cpy.gencode_gene_bed)\n",
    "\n",
    "fn = os.path.join(os.path.split(cpy.roadmap_15_state_annotation)[0], 'EIDlegend.txt')\n",
    "roadmap_ids = pd.read_table(fn, squeeze=True, index_col=0, header=None)\n",
    "\n",
    "fn = os.path.join(ciepy.root, 'output', 'eqtl_processing', 'eqtls01', 'gene_variant_pairs.tsv')\n",
    "gene_variants = pd.read_table(fn, index_col=0)\n",
    "\n",
    "fn = os.path.join(ciepy.root, 'output', 'functional_annotation_analysis',\n",
    "                  'encode_stem_cell_chip_seq.tsv')\n",
    "encode_chip_seq = pd.read_table(fn, index_col=0)\n",
    "\n",
    "ensg = pd.Series(gene_info.index, index=[x.split('.')[0] for x in gene_info.index])\n",
    "\n",
    "fn = os.path.join(ciepy.root, 'output', 'cnv_analysis', 'cnv_gene_variants.pickle')\n",
    "cnv_gv = pd.read_pickle(fn)"
   ]
  },
  {
   "cell_type": "code",
   "execution_count": 3,
   "metadata": {
    "collapsed": true
   },
   "outputs": [],
   "source": [
    "# ASE results.\n",
    "fn = os.path.join(ciepy.root, 'output', 'input_data', \n",
    "                  'mbased_major_allele_freq.tsv')\n",
    "maj_af = pd.read_table(fn, index_col=0)\n",
    "\n",
    "fn = os.path.join(ciepy.root, 'output', 'input_data', \n",
    "                  'mbased_p_val_ase.tsv')\n",
    "ase_pval = pd.read_table(fn, index_col=0)\n",
    "\n",
    "locus_p = pd.Panel({'major_allele_freq':maj_af, 'p_val_ase':ase_pval})\n",
    "locus_p = locus_p.swapaxes(0, 2)\n",
    "\n",
    "snv_fns = glob.glob(os.path.join(ciepy.root, 'private_output', 'input_data', 'mbased_snv',\n",
    "                                 '*_snv.tsv'))\n",
    "count_fns = glob.glob(os.path.join(ciepy.root, 'private_output', 'input_data', 'allele_counts',\n",
    "                                   '*mbased_input.tsv'))\n",
    "\n",
    "snv_res = {}\n",
    "for fn in snv_fns:\n",
    "    snv_res[os.path.split(fn)[1].split('_')[0]] = pd.read_table(fn, index_col=0)\n",
    "    \n",
    "count_res = {}\n",
    "for fn in count_fns:\n",
    "    count_res[os.path.split(fn)[1].split('_')[0]] = pd.read_table(fn, index_col=0)\n",
    "\n",
    "snv_p = pd.Panel(snv_res)"
   ]
  },
  {
   "cell_type": "code",
   "execution_count": 4,
   "metadata": {
    "collapsed": true
   },
   "outputs": [],
   "source": [
    "fn = os.path.join(ciepy.root, 'output', 'motif_search', 'matrices.pickle')\n",
    "with open(fn) as f:\n",
    "    matrices = cPickle.load(f)\n",
    "fn = os.path.join(ciepy.root, 'output', 'motif_search', 'motif_info_full.tsv')\n",
    "motif_info = pd.read_table(fn, index_col=0)\n",
    "fn = os.path.join(ciepy.root, 'output', 'motif_search', 'motif_info_rep.tsv')\n",
    "motif_info_rep = pd.read_table(fn, index_col=0)\n",
    "motif_info['target'] = [x.split('_')[0] for x in motif_info.index]"
   ]
  },
  {
   "cell_type": "markdown",
   "metadata": {},
   "source": [
    "I'll drop CNVs since they likely act through different mechanisms than I'm considering here."
   ]
  },
  {
   "cell_type": "code",
   "execution_count": 5,
   "metadata": {
    "collapsed": false
   },
   "outputs": [
    {
     "name": "stdout",
     "output_type": "stream",
     "text": [
      "253,231 total associations.\n",
      "195,589 total distinct SNV, indels, and CNVs with significant associations.\n"
     ]
    }
   ],
   "source": [
    "n = gene_variants.shape[0]\n",
    "print('{:,} total associations.'.format(n))\n",
    "n = len(set(gene_variants.location))\n",
    "print('{:,} total distinct SNV, indels, and CNVs with significant associations.'.format(n))"
   ]
  },
  {
   "cell_type": "code",
   "execution_count": 6,
   "metadata": {
    "collapsed": false
   },
   "outputs": [],
   "source": [
    "gene_variants = gene_variants[gene_variants.variant_type != 'cnv']"
   ]
  },
  {
   "cell_type": "markdown",
   "metadata": {},
   "source": [
    "## Predicted NMD\n",
    "\n",
    "I'll use the snpEff annotation of the WGS to look for predicted NMD. I'd like to\n",
    "see if any of the significant variants are predicted to cause NMD for the eQTL\n",
    "gene.\n",
    "\n",
    "If snpEff predicts NMD for a gene, the annotation looks like\n",
    "\n",
    "    PITRM1|ENSG00000107959|11|0.27\n",
    "    \n",
    "This means that PITRM1 has 11 transcripts and 27% of them are predicted to have NMD."
   ]
  },
  {
   "cell_type": "code",
   "execution_count": 7,
   "metadata": {
    "collapsed": false
   },
   "outputs": [],
   "source": [
    "fns = glob.glob('/projects/CARDIPS/pipeline/WGS/mergedVCF/annotation/vcf/*snpeff.vcf.gz')\n",
    "fns = [x for x in fns if len(re.findall('chr\\d{1,2}', x)) > 0]\n",
    "fns = pd.Series(fns, index=[re.findall('chr\\d{1,2}', x)[0] for x in fns])\n",
    "\n",
    "for vcf in fns.values:\n",
    "    out = os.path.join(private_outdir, os.path.split(vcf)[1].replace('.vcf.gz', '_nmd.vcf'))\n",
    "    if not os.path.exists(out):\n",
    "        !zcat {vcf} | java -jar /software/snpEff_v4_1l_core/SnpSift.jar filter \"NMD[*]\" > {out}"
   ]
  },
  {
   "cell_type": "code",
   "execution_count": 8,
   "metadata": {
    "collapsed": false
   },
   "outputs": [],
   "source": [
    "fns = glob.glob(os.path.join(private_outdir, '*_nmd.vcf'))\n",
    "variants = []\n",
    "nmd = []\n",
    "for fn in fns:\n",
    "    vcf_reader = pyvcf.Reader(open(fn))\n",
    "    for r in vcf_reader:\n",
    "        variants.append('chr{}:{}-{}'.format(r.CHROM, r.POS - 1, r.POS))\n",
    "        nmd.append(r.INFO['NMD'])\n",
    "ind = []\n",
    "vals = []\n",
    "for i, v in enumerate(variants):\n",
    "    r = nmd[i]\n",
    "    for n in r:\n",
    "        gene_name, gene_id, num_t, per_t = n.strip(')').split('|')\n",
    "        ind.append(v + ':' + ensg[gene_id])\n",
    "        vals.append([int(num_t), float(per_t)])\n",
    "nmd = pd.DataFrame(vals, index=ind, columns=['nmd_num_transcripts', 'nmd_percent_transcripts_nmd'])"
   ]
  },
  {
   "cell_type": "code",
   "execution_count": 9,
   "metadata": {
    "collapsed": false
   },
   "outputs": [],
   "source": [
    "tdf = nmd.ix[set(nmd.index) & set(gene_variants.index)]"
   ]
  },
  {
   "cell_type": "code",
   "execution_count": 10,
   "metadata": {
    "collapsed": true
   },
   "outputs": [],
   "source": [
    "gene_variants = gene_variants.join(tdf)"
   ]
  },
  {
   "cell_type": "code",
   "execution_count": 11,
   "metadata": {
    "collapsed": false
   },
   "outputs": [],
   "source": [
    "gene_variants['nmd'] = False\n",
    "gene_variants.ix[gene_variants.dropna(subset=['nmd_num_transcripts']).index, 'nmd'] = True"
   ]
  },
  {
   "cell_type": "code",
   "execution_count": 12,
   "metadata": {
    "collapsed": false
   },
   "outputs": [],
   "source": [
    "g = set(gene_variants.ix[gene_variants.nmd, 'gene_id'])\n",
    "df = pd.DataFrame(True, index=g, columns=['gene_has_nmd_variant'])\n",
    "gene_variants = gene_variants.merge(df, left_on='gene_id', right_index=True, how='left')\n",
    "gene_variants.ix[gene_variants.gene_has_nmd_variant.isnull(), 'gene_has_nmd_variant'] = False"
   ]
  },
  {
   "cell_type": "markdown",
   "metadata": {},
   "source": [
    "## Exons, UTRs, and Promoters\n",
    "\n",
    "I'll annotate whether variants fall in exons, UTRs or promoters for their significant\n",
    "genes."
   ]
  },
  {
   "cell_type": "code",
   "execution_count": 13,
   "metadata": {
    "collapsed": false
   },
   "outputs": [],
   "source": [
    "gene_variants_bt = pbt.BedTool('\\n'.join(set(gene_variants.apply(lambda x: '{}\\t{}\\t{}'.format(\n",
    "                    x['chrom'], x['start'], x['end']), axis=1))), from_string=True)\n",
    "gene_variants_bt = gene_variants_bt.sort()"
   ]
  },
  {
   "cell_type": "code",
   "execution_count": 14,
   "metadata": {
    "collapsed": true
   },
   "outputs": [],
   "source": [
    "exons = pbt.BedTool(cpy.gencode_exon_bed)\n",
    "utrs = pbt.BedTool(cpy.gencode_utr_bed)\n",
    "promoters = pbt.BedTool(cpy.gencode_promoter_bed)"
   ]
  },
  {
   "cell_type": "code",
   "execution_count": 15,
   "metadata": {
    "collapsed": false
   },
   "outputs": [],
   "source": [
    "res = gene_variants_bt.intersect(exons, wo=True, sorted=True)\n",
    "df = res.to_dataframe()\n",
    "df.index = df.chrom + ':' + df.start.astype(str) + '-' + df.end.astype(str)\n",
    "df['gene'] = transcript_to_gene[df.thickStart].values\n",
    "df['val'] = pd.Series(df.index, index=df.index) + ':' + df.gene\n",
    "df = df.drop_duplicates(subset='val')\n",
    "gene_variants['exonic_same_gene'] = False\n",
    "gene_variants.ix[set(df.val) & set(gene_variants.index), 'exonic_same_gene'] = True\n",
    "\n",
    "df['exonic'] = True\n",
    "df['variant'] = df.index\n",
    "df = df.drop_duplicates(subset='variant')\n",
    "gene_variants = gene_variants.merge(df[['exonic']], left_on='location', right_index=True, how='left')\n",
    "gene_variants.ix[gene_variants.exonic.isnull(), 'exonic'] = False"
   ]
  },
  {
   "cell_type": "code",
   "execution_count": 16,
   "metadata": {
    "collapsed": false
   },
   "outputs": [],
   "source": [
    "g = set(gene_variants.ix[gene_variants.exonic, 'gene_id'])\n",
    "df = pd.DataFrame(True, index=g, columns=['gene_has_exonic_variant'])\n",
    "gene_variants = gene_variants.merge(df, left_on='gene_id', right_index=True, how='left')\n",
    "gene_variants.ix[gene_variants.gene_has_exonic_variant.isnull(), 'gene_has_exonic_variant'] = False\n",
    "\n",
    "g = set(gene_variants.ix[gene_variants.exonic_same_gene, 'gene_id'])\n",
    "df = pd.DataFrame(True, index=g, columns=['gene_has_exonic_same_gene_variant'])\n",
    "gene_variants = gene_variants.merge(df, left_on='gene_id', right_index=True, how='left')\n",
    "gene_variants.ix[gene_variants.gene_has_exonic_same_gene_variant.isnull(), 'gene_has_exonic_same_gene_variant'] = False"
   ]
  },
  {
   "cell_type": "code",
   "execution_count": 17,
   "metadata": {
    "collapsed": false
   },
   "outputs": [],
   "source": [
    "res = gene_variants_bt.intersect(utrs, wo=True, sorted=True)\n",
    "df = res.to_dataframe()\n",
    "df.index = df.chrom + ':' + df.start.astype(str) + '-' + df.end.astype(str)\n",
    "df['gene'] = transcript_to_gene[df.thickStart].values\n",
    "df['val'] = pd.Series(df.index, index=df.index) + ':' + df.gene\n",
    "df = df.drop_duplicates(subset='val')\n",
    "gene_variants['utr_same_gene'] = False\n",
    "gene_variants.ix[set(df.val) & set(gene_variants.index), 'utr_same_gene'] = True\n",
    "\n",
    "df['utr'] = True\n",
    "df['variant'] = df.index\n",
    "df = df.drop_duplicates(subset='variant')\n",
    "gene_variants = gene_variants.merge(df[['utr']], left_on='location', right_index=True, how='left')\n",
    "gene_variants.ix[gene_variants.utr.isnull(), 'utr'] = False"
   ]
  },
  {
   "cell_type": "code",
   "execution_count": 18,
   "metadata": {
    "collapsed": false
   },
   "outputs": [],
   "source": [
    "res = gene_variants_bt.intersect(promoters, wo=True, sorted=True)\n",
    "df = res.to_dataframe()\n",
    "df.index = df.chrom + ':' + df.start.astype(str) + '-' + df.end.astype(str)\n",
    "df['gene'] = transcript_to_gene[df.thickStart.apply(lambda x: x.split('_')[0])].values\n",
    "df['val'] = pd.Series(df.index, index=df.index) + ':' + df.gene\n",
    "df = df.drop_duplicates(subset='val')\n",
    "gene_variants['promoter_same_gene'] = False\n",
    "gene_variants.ix[set(df.val) & set(gene_variants.index), 'promoter_same_gene'] = True\n",
    "\n",
    "df['promoter'] = True\n",
    "df['variant'] = df.index\n",
    "df = df.drop_duplicates(subset='variant')\n",
    "gene_variants = gene_variants.merge(df[['promoter']], left_on='location', right_index=True, how='left')\n",
    "gene_variants.ix[gene_variants.promoter.isnull(), 'promoter'] = False"
   ]
  },
  {
   "cell_type": "code",
   "execution_count": 19,
   "metadata": {
    "collapsed": false
   },
   "outputs": [],
   "source": [
    "g = set(gene_variants.ix[gene_variants.utr, 'gene_id'])\n",
    "df = pd.DataFrame(True, index=g, columns=['gene_has_utr_variant'])\n",
    "gene_variants = gene_variants.merge(df, left_on='gene_id', right_index=True, how='left')\n",
    "gene_variants.ix[gene_variants.gene_has_utr_variant.isnull(), 'gene_has_utr_variant'] = False\n",
    "\n",
    "g = set(gene_variants.ix[gene_variants.utr_same_gene, 'gene_id'])\n",
    "df = pd.DataFrame(True, index=g, columns=['gene_has_utr_same_gene_variant'])\n",
    "gene_variants = gene_variants.merge(df, left_on='gene_id', right_index=True, how='left')\n",
    "gene_variants.ix[gene_variants.gene_has_utr_same_gene_variant.isnull(), \n",
    "                'gene_has_utr_same_gene_variant'] = False\n",
    "\n",
    "g = set(gene_variants.ix[gene_variants.promoter_same_gene, 'gene_id'])\n",
    "df = pd.DataFrame(True, index=g, columns=['gene_has_promoter_same_gene_variant'])\n",
    "gene_variants = gene_variants.merge(df, left_on='gene_id', right_index=True, how='left')\n",
    "gene_variants.ix[gene_variants.gene_has_promoter_same_gene_variant.isnull(), \n",
    "                'gene_has_promoter_same_gene_variant'] = False"
   ]
  },
  {
   "cell_type": "markdown",
   "metadata": {},
   "source": [
    "## Maurano et al. 2015 Data\n",
    "\n",
    "I'm going to grab some data from [Maurano *et al.* 2015](http://www.nature.com/ng/journal/v47/n12/full/ng.3432.html).\n",
    "The zip file seems to be corrupted. I was able to manually download on my mac \n",
    "and decompress it using Arhcive Utility but I couldn't get it work from the\n",
    "command line so that this has to be downloaded by hand."
   ]
  },
  {
   "cell_type": "code",
   "execution_count": 20,
   "metadata": {
    "collapsed": false
   },
   "outputs": [],
   "source": [
    "# This has all of the variants tested for imbalance and their significance.\n",
    "maurano_res = pd.read_table('http://www.nature.com/ng/journal/v47/n12/extref/ng.3432-S5.txt')\n",
    "# This has SNVs from dbSNP 138 predicted to affect TF binding.\n",
    "fn = os.path.join(private_outdir, 'ng.3432-S7')\n",
    "if not os.path.exists(fn):\n",
    "    print('Download ng.3432-S7, decompress, and add to private_outdir.')\n",
    "    print('http://www.nature.com/ng/journal/v47/n12/extref/ng.3432-S7.zip')\n",
    "else:\n",
    "    maurano_tf_disrupt = pd.read_table(fn)"
   ]
  },
  {
   "cell_type": "code",
   "execution_count": 21,
   "metadata": {
    "collapsed": false
   },
   "outputs": [
    {
     "data": {
      "text/plain": [
       "(0,)"
      ]
     },
     "execution_count": 21,
     "metadata": {},
     "output_type": "execute_result"
    }
   ],
   "source": [
    "se = maurano_res.chromEnd - maurano_res.chromStart\n",
    "se[se > 1].shape"
   ]
  },
  {
   "cell_type": "markdown",
   "metadata": {},
   "source": [
    "The Maurano results are all SNVs."
   ]
  },
  {
   "cell_type": "code",
   "execution_count": 22,
   "metadata": {
    "collapsed": false
   },
   "outputs": [
    {
     "name": "stdout",
     "output_type": "stream",
     "text": [
      "362284\n",
      "362284\n"
     ]
    }
   ],
   "source": [
    "print(len(set(maurano_res.chrom + ':' + maurano_res.chromStart.astype(str) + '-' + \n",
    "              maurano_res.chromEnd.astype(str))))\n",
    "print(maurano_res.shape[0])"
   ]
  },
  {
   "cell_type": "code",
   "execution_count": 23,
   "metadata": {
    "collapsed": false
   },
   "outputs": [],
   "source": [
    "maurano_res.index = (maurano_res.chrom + ':' + maurano_res.chromStart.astype(str) + \n",
    "                     '-' + maurano_res.chromEnd.astype(str))"
   ]
  },
  {
   "cell_type": "markdown",
   "metadata": {},
   "source": [
    "The Maurano results are all unique variants."
   ]
  },
  {
   "cell_type": "code",
   "execution_count": 24,
   "metadata": {
    "collapsed": false
   },
   "outputs": [
    {
     "data": {
      "text/html": [
       "<div>\n",
       "<table border=\"1\" class=\"dataframe\">\n",
       "  <thead>\n",
       "    <tr style=\"text-align: right;\">\n",
       "      <th></th>\n",
       "      <th>chrom</th>\n",
       "      <th>chromStart</th>\n",
       "      <th>chromEnd</th>\n",
       "      <th>rs</th>\n",
       "      <th>numhets</th>\n",
       "      <th>allele.1</th>\n",
       "      <th>readsA</th>\n",
       "      <th>allele.2</th>\n",
       "      <th>readsB</th>\n",
       "      <th>totalReads</th>\n",
       "      <th>pctRef</th>\n",
       "      <th>q.value</th>\n",
       "      <th>significance.level</th>\n",
       "    </tr>\n",
       "  </thead>\n",
       "  <tbody>\n",
       "    <tr>\n",
       "      <th>chr1:752720-752721</th>\n",
       "      <td>chr1</td>\n",
       "      <td>752720</td>\n",
       "      <td>752721</td>\n",
       "      <td>snp5</td>\n",
       "      <td>33</td>\n",
       "      <td>G</td>\n",
       "      <td>1583</td>\n",
       "      <td>A</td>\n",
       "      <td>1454</td>\n",
       "      <td>3037</td>\n",
       "      <td>0.479</td>\n",
       "      <td>0.0912</td>\n",
       "      <td>not_imbalanced</td>\n",
       "    </tr>\n",
       "  </tbody>\n",
       "</table>\n",
       "</div>"
      ],
      "text/plain": [
       "                   chrom  chromStart  chromEnd    rs  numhets allele.1  \\\n",
       "chr1:752720-752721  chr1      752720    752721  snp5       33        G   \n",
       "\n",
       "                    readsA allele.2  readsB  totalReads  pctRef  q.value  \\\n",
       "chr1:752720-752721    1583        A    1454        3037   0.479   0.0912   \n",
       "\n",
       "                   significance.level  \n",
       "chr1:752720-752721     not_imbalanced  "
      ]
     },
     "execution_count": 24,
     "metadata": {},
     "output_type": "execute_result"
    }
   ],
   "source": [
    "maurano_res.head(1)"
   ]
  },
  {
   "cell_type": "markdown",
   "metadata": {},
   "source": [
    "It seems that the Maurano data is in zero-based coordinates."
   ]
  },
  {
   "cell_type": "code",
   "execution_count": 25,
   "metadata": {
    "collapsed": false
   },
   "outputs": [],
   "source": [
    "maurano_res.columns = ['{}_maurano'.format(c) for c in maurano_res.columns]\n",
    "gene_variants = gene_variants.merge(maurano_res, left_on='location', right_index=True, how='left')\n",
    "gene_variants = gene_variants.drop(['chrom_maurano', 'chromStart_maurano', 'chromEnd_maurano'], axis=1)"
   ]
  },
  {
   "cell_type": "markdown",
   "metadata": {
    "collapsed": true
   },
   "source": [
    "I'll also add in the predicted TF disruptions."
   ]
  },
  {
   "cell_type": "code",
   "execution_count": 26,
   "metadata": {
    "collapsed": false
   },
   "outputs": [],
   "source": [
    "maurano_tf_disrupt.columns = ['{}_maurano_tf'.format(x) for x in maurano_tf_disrupt.columns]\n",
    "maurano_tf_disrupt.index = (maurano_tf_disrupt.chrom_maurano_tf + ':' +\n",
    "                            maurano_tf_disrupt.snpChromStart_maurano_tf.astype(str) + \n",
    "                            '-' + maurano_tf_disrupt.snpChromEnd_maurano_tf.astype(str))\n",
    "gene_variants = gene_variants.merge(maurano_tf_disrupt, left_on='location', \n",
    "                                  right_index=True, how='left')"
   ]
  },
  {
   "cell_type": "code",
   "execution_count": 27,
   "metadata": {
    "collapsed": true
   },
   "outputs": [],
   "source": [
    "gene_variants = gene_variants.drop(['chrom_maurano_tf', 'snpChromStart_maurano_tf', \n",
    "                                    'snpChromEnd_maurano_tf'], axis=1)"
   ]
  },
  {
   "cell_type": "markdown",
   "metadata": {
    "collapsed": true
   },
   "source": [
    "## Roadmap DNase"
   ]
  },
  {
   "cell_type": "code",
   "execution_count": 28,
   "metadata": {
    "collapsed": false
   },
   "outputs": [],
   "source": [
    "out = os.path.join(outdir, 'roadmap_dnase.tsv')\n",
    "if not os.path.exists(out):\n",
    "    url = ('http://egg2.wustl.edu/roadmap/data/byFileType'\n",
    "           '/peaks/consolidated/narrowPeak/')\n",
    "    website = urllib2.urlopen(url)\n",
    "    html = website.read()\n",
    "    files = re.findall('href=\"(E\\d\\d\\d-DNase.macs2.narrowPeak.gz)\"', html)\n",
    "    roadmap_dnase_res = pd.DataFrame(\n",
    "        -1, index=[x.split('-')[0] for x in files], \n",
    "        columns=['odds_ratio', 'pvalue'])\n",
    "\n",
    "    urls = ['http://egg2.wustl.edu/roadmap/data/byFileType/peaks/consolidated/narrowPeak/{}'.format(n)\n",
    "            for n in files]\n",
    "    lines = ['iPS-15b Cell Line', 'iPS-18 Cell Line', 'iPS-20b Cell Line',\n",
    "             'iPS DF 6.9 Cell Line', 'iPS DF 19.11 Cell Line', 'H1 Cell Line',\n",
    "             'H9 Cell Line']\n",
    "    urls = [x for x in urls if roadmap_ids[os.path.split(x.split('-')[0])[1]] in lines]\n",
    "\n",
    "    df = pd.DataFrame(False, index=set(gene_variants.location), columns=lines)\n",
    "    for url in urls:\n",
    "        line = roadmap_ids[os.path.split(url)[1].split('-')[0]]\n",
    "        bt = pbt.BedTool(cpb.general.read_gzipped_text_url(url), from_string=True).sort()\n",
    "        res = gene_variants_bt.intersect(bt, wa=True)\n",
    "        tdf = res.to_dataframe()\n",
    "        df.ix[(tdf.chrom + ':' + tdf.start.astype(str) + '-' + tdf.end.astype(str)).values, line] = True\n",
    "    df = df.ix[:, df.sum() > 0]\n",
    "    df.columns = [c.replace(' Cell Line', '').replace(' ', '_') + '_roadmap_dnase' for c in df.columns]\n",
    "    df.to_csv(out, sep='\\t')\n",
    "else:\n",
    "    df = pd.read_table(out, index_col=0)\n",
    "\n",
    "gene_variants = gene_variants.merge(df, left_on='location', right_index=True, how='left')"
   ]
  },
  {
   "cell_type": "markdown",
   "metadata": {
    "collapsed": true
   },
   "source": [
    "## ENCODE DNase"
   ]
  },
  {
   "cell_type": "code",
   "execution_count": 29,
   "metadata": {
    "collapsed": false
   },
   "outputs": [
    {
     "name": "stderr",
     "output_type": "stream",
     "text": [
      "/frazer01/home/cdeboever/software/anaconda/envs/cie/lib/python2.7/site-packages/pandas/computation/expressions.py:71: FutureWarning: using '+' to provide set union with Indexes is deprecated, use '|' or .union()\n",
      "  return op(a, b)\n"
     ]
    }
   ],
   "source": [
    "out = os.path.join(outdir, 'encode_dnase.tsv')\n",
    "if not os.path.exists(out):\n",
    "    encode_dnase = pd.read_table(os.path.join(ciepy.root, 'output', \n",
    "                                              'functional_annotation_analysis', \n",
    "                                              'encode_dnase.tsv'), index_col=0)\n",
    "    bs_types = ['stem cell', 'induced pluripotent stem cell line']\n",
    "    encode_dnase = encode_dnase[encode_dnase.biosample_type.apply(lambda x: x in bs_types)]\n",
    "\n",
    "    cols = (encode_dnase.cell_type.apply(lambda x: x.replace('induced pluripotent stem cell', 'iPSC')) + \n",
    "            '_' + encode_dnase.index + '_dnase')\n",
    "    df = pd.DataFrame(False, index=set(gene_variants.location), columns=cols)\n",
    "    encode_dnase['col'] = cols\n",
    "    for i in encode_dnase.index:\n",
    "        bt = pbt.BedTool(cpb.general.read_gzipped_text_url(encode_dnase.ix[i, 'narrowPeak_url']), \n",
    "                         from_string=True).sort()\n",
    "        res = gene_variants_bt.intersect(bt, wa=True)\n",
    "        tdf = res.to_dataframe()\n",
    "        df.ix[(tdf.chrom + ':' + tdf.start.astype(str) + '-' + tdf.end.astype(str)).values,\n",
    "              encode_dnase.ix[i, 'col']] = True\n",
    "    df.to_csv(out, sep='\\t')\n",
    "else:\n",
    "    df = pd.read_table(out, index_col=0)\n",
    "\n",
    "gene_variants = gene_variants.merge(df, left_on='location', right_index=True, how='left')"
   ]
  },
  {
   "cell_type": "markdown",
   "metadata": {},
   "source": [
    "## ENCODE Transcription Factor ChIP-Seq"
   ]
  },
  {
   "cell_type": "code",
   "execution_count": 30,
   "metadata": {
    "collapsed": true
   },
   "outputs": [],
   "source": [
    "encode_tf_chip_seq = pd.read_table(os.path.join(ciepy.root, 'output', \n",
    "                                                'functional_annotation_analysis', \n",
    "                                                'encode_stem_cell_chip_seq.tsv'), index_col=0)\n",
    "encode_tf_chip_seq = encode_tf_chip_seq.drop_duplicates(subset='target')\n",
    "s = set(motif_info.tf) & set(encode_tf_chip_seq.target)\n",
    "encode_tf_chip_seq = encode_tf_chip_seq[encode_tf_chip_seq.target.apply(lambda x: x in s)]"
   ]
  },
  {
   "cell_type": "code",
   "execution_count": 204,
   "metadata": {
    "collapsed": false
   },
   "outputs": [],
   "source": [
    "out = os.path.join(outdir, 'encode_tf_chip_seq.tsv')\n",
    "if not os.path.exists(out):\n",
    "    df = pd.DataFrame(False, index=set(gene_variants.location), columns=encode_tf_chip_seq.target.values)\n",
    "    for i in encode_tf_chip_seq.index:\n",
    "        bt = pbt.BedTool(cpb.general.read_gzipped_text_url(encode_tf_chip_seq.ix[i, 'narrowPeak_url']), \n",
    "                         from_string=True).sort()\n",
    "        res = gene_variants_bt.intersect(bt, wa=True)\n",
    "        tdf = res.to_dataframe()\n",
    "        df.ix[(tdf.chrom + ':' + tdf.start.astype(str) + '-' + tdf.end.astype(str)).values,\n",
    "              encode_tf_chip_seq.ix[i, 'target']] = True\n",
    "    \n",
    "    peak_overlap = df\n",
    "    peak_overlap.to_csv(out, sep='\\t')\n",
    "else:\n",
    "    peak_overlap = pd.read_table(out, index_col=0)\n",
    "\n",
    "#gene_variants = gene_variants.merge(df, left_on='location', right_index=True, how='left')"
   ]
  },
  {
   "cell_type": "code",
   "execution_count": 205,
   "metadata": {
    "collapsed": false
   },
   "outputs": [
    {
     "name": "stdout",
     "output_type": "stream",
     "text": [
      "7,926 of 195,046 variants overlap at least one peak.\n"
     ]
    }
   ],
   "source": [
    "n = sum(peak_overlap.sum(axis=1) > 0)\n",
    "print('{:,} of {:,} variants overlap at least one peak.'.format(n, peak_overlap.shape[0]))"
   ]
  },
  {
   "cell_type": "markdown",
   "metadata": {},
   "source": [
    "## TF Motif Disruption\n",
    "\n",
    "I'd like to identify variants that overlap a binding site for a transcription\n",
    "factor and also disrupt a motif for that TF.\n",
    "\n",
    "Things get a bit confusing here for a number of reasons. ChIP-seq experiments\n",
    "are performed on specific proteins. Sometimes these proteins have the same name as\n",
    "the transcription factor like SRF for instance. But sometimes the protein that \n",
    "is pulled down is part of a complex. For instance, ChIP-seq experiments for \n",
    "JUND, JUN, FOSL1, and others all target the transcription factor AP1 since these\n",
    "proteins are subunits of AP1.\n",
    "\n",
    "Another complication is that the motifs discovered by [Kheradpour et al.](http://nar.oxfordjournals.org/content/42/5/2976.full.pdf)\n",
    "do not always correspond to the particular transcription factor the motif is named after. \n",
    "For instance, 20 different\n",
    "\"factor groups\" have motifs that match the TPA DNA response element (TRE) motif.\n",
    "For instance, AP1_disc3 matches the TRE motif. This could happen for a number of reasons\n",
    "(outlined in the paper) such as the two TF's cobind or actually both use the motif etc.\n",
    "\n",
    "For my purposes here, I need to make a few decisions. Let's use JUND/AP1 as an example.\n",
    "There is an ENCODE experiment for JUND. There are also motifs discovered using JUND\n",
    "ChIP-seq data. However, the motifs that are found under JUND peaks are assigned to\n",
    "AP1 since that's the TF. So let's say we \n",
    "have a variant that overlaps a JUND peak from ENCODE. Should I test all AP1 motifs for\n",
    "disruption, even if they were discovered in a different ChIP-seq data set (like from FOSL1)?\n",
    "Testing all AP1 motifs also means that I'm testing motifs for other TFs (like AP1_disc3 which\n",
    "is actually the motif for TRE as they mention in the paper). Looking at the data on \n",
    "http://compbio.mit.edu/encode-motifs/ for AP1, this seems to be unavoidable. Few motifs\n",
    "are unique to AP1, and those that are unique have much weaker enrichment in the ChIP-seq\n",
    "peaks. \n",
    "\n",
    "I think for my purposes here, I'll be inclusive about testing motifs. A disrupted motif\n",
    "is evidence of some kind of effect. I think using the DHS data will help reduce false\n",
    "positives as well."
   ]
  },
  {
   "cell_type": "code",
   "execution_count": 192,
   "metadata": {
    "collapsed": false
   },
   "outputs": [
    {
     "data": {
      "text/html": [
       "<div>\n",
       "<table border=\"1\" class=\"dataframe\">\n",
       "  <thead>\n",
       "    <tr style=\"text-align: right;\">\n",
       "      <th></th>\n",
       "      <th>cell_type</th>\n",
       "      <th>narrowPeak_accession</th>\n",
       "      <th>narrowPeak_url</th>\n",
       "      <th>target</th>\n",
       "      <th>target_type</th>\n",
       "    </tr>\n",
       "  </thead>\n",
       "  <tbody>\n",
       "  </tbody>\n",
       "</table>\n",
       "</div>"
      ],
      "text/plain": [
       "Empty DataFrame\n",
       "Columns: [cell_type, narrowPeak_accession, narrowPeak_url, target, target_type]\n",
       "Index: []"
      ]
     },
     "execution_count": 192,
     "metadata": {},
     "output_type": "execute_result"
    }
   ],
   "source": [
    "encode_chip_seq[encode_chip_seq.target == 'TATA']"
   ]
  },
  {
   "cell_type": "code",
   "execution_count": 33,
   "metadata": {
    "collapsed": true
   },
   "outputs": [],
   "source": [
    "t = motif_info[motif_info.tf.apply(lambda x: x in encode_chip_seq.target.values)]\n",
    "motif_info = motif_info[motif_info.target.apply(lambda x: x in t.target.values)]"
   ]
  },
  {
   "cell_type": "code",
   "execution_count": 34,
   "metadata": {
    "collapsed": false
   },
   "outputs": [],
   "source": [
    "# I'll convert the peak_overlaps into TF overlaps.\n",
    "tdf = peak_overlap.copy(deep=True)\n",
    "se = pd.Series(dict(zip(motif_info.tf, motif_info.target)))\n",
    "tdf.columns = [se[x] for x in tdf.columns]\n",
    "d = {}\n",
    "for c in tdf.columns:\n",
    "    t = tdf[c]\n",
    "    if len(t.shape) == 2:\n",
    "        d[c] = t[c].sum(axis=1) > 0\n",
    "    else:\n",
    "        d[c] = t\n",
    "tf_overlap = pd.DataFrame(d)"
   ]
  },
  {
   "cell_type": "code",
   "execution_count": 35,
   "metadata": {
    "collapsed": false
   },
   "outputs": [
    {
     "name": "stdout",
     "output_type": "stream",
     "text": [
      "Cluster has 250 engines.\n",
      "importing cdpybio on engine(s)\n",
      "importing cardipspy on engine(s)\n"
     ]
    }
   ],
   "source": [
    "out = os.path.join(outdir, 'motif_diffs.tsv')\n",
    "if not os.path.exists(out):\n",
    "    tdf = gene_variants[['location', 'ref', 'alt']]# + tf_cols]\n",
    "    tdf = tdf.drop_duplicates()\n",
    "    tdf.index = tdf.location\n",
    "    tdf = tdf.drop('location', axis=1)\n",
    "    tf_overlap_yes = tf_overlap[tf_overlap.sum(axis=1) > 0]\n",
    "    tdf = tdf.ix[tf_overlap_yes.index]\n",
    "\n",
    "    d = {}\n",
    "    for i in tf_overlap_yes.index:\n",
    "        d[i] = list(tf_overlap_yes.ix[i][tf_overlap_yes.ix[i]].index)\n",
    "    se = pd.Series(d)\n",
    "    se = se[tdf.index]\n",
    "    target_to_motif = pd.Series(motif_info.index, index=motif_info.target)\n",
    "    tdf['motifs'] = se.apply(lambda x: list(target_to_motif[x]))\n",
    "    \n",
    "    from ipyparallel import Client\n",
    "    parallel_client = Client(profile='parallel')\n",
    "    dview = parallel_client[:]\n",
    "    print('Cluster has {} engines.'.format(len(parallel_client.ids)))\n",
    "    \n",
    "    with dview.sync_imports():\n",
    "        import cdpybio\n",
    "        import cardipspy\n",
    "        \n",
    "    %px cpb = cdpybio\n",
    "    %px cpy = cardipspy\n",
    "    \n",
    "    dview.push(dict(tdf=tdf));\n",
    "    dview.push(dict(matrices=matrices));\n",
    "    \n",
    "    res = dview.map_sync(lambda i: cpb.moodsext.find_motif_disruptions(\n",
    "            i, tdf.ix[i, 'ref'], tdf.ix[i, 'alt'], cpy.hg19, \n",
    "            {k:matrices[k] for k in tdf.ix[i, 'motifs']}), tdf.index)\n",
    "    motif_d = pd.DataFrame(index=tdf.index, columns=motif_info.index)\n",
    "    a = []\n",
    "    b = []\n",
    "    for i,p in enumerate(tdf.index):\n",
    "        if res[i].shape[0] > 0:\n",
    "            a.append(p)\n",
    "            b.append(res[i])\n",
    "    d = dict(zip(a,b))\n",
    "    p = pd.Panel(d)\n",
    "    motif_d = p.ix[:, :, 'score_diff'].T\n",
    "    motif_d.to_csv(out, sep='\\t')\n",
    "else:\n",
    "    motif_d = pd.read_table(out, index_col=0)"
   ]
  },
  {
   "cell_type": "markdown",
   "metadata": {},
   "source": [
    "For `motif_d`, the value is reference score minus alternate score. So a positive\n",
    "value means the reference matched the motif better.\n",
    "\n",
    "I'm not sure what score difference constitutes a disruption. Let's\n",
    "take a look at the distribution of differences."
   ]
  },
  {
   "cell_type": "code",
   "execution_count": 36,
   "metadata": {
    "collapsed": false
   },
   "outputs": [
    {
     "data": {
      "image/png": "[encoded data removed]",
      "text/plain": [
       "<matplotlib.figure.Figure at 0x7fae573de9d0>"
      ]
     },
     "metadata": {},
     "output_type": "display_data"
    }
   ],
   "source": [
    "pd.Series(motif_d.values.flatten()).dropna().hist(bins=100)\n",
    "ymin, ymax = plt.ylim()\n",
    "plt.vlines(-2.5, ymin, ymax)\n",
    "plt.vlines(2.5, ymin, ymax)\n",
    "plt.ylabel('Number of differences')\n",
    "plt.xlabel('Score difference');"
   ]
  },
  {
   "cell_type": "markdown",
   "metadata": {},
   "source": [
    "It seems that a score difference greater than 2.5 in magnitude probably\n",
    "represents a pretty big effect. I'll say these are disruptions."
   ]
  },
  {
   "cell_type": "code",
   "execution_count": 37,
   "metadata": {
    "collapsed": false
   },
   "outputs": [],
   "source": [
    "motif_disrupt = motif_d.abs() >= 2.5\n",
    "motif_disrupt = motif_disrupt[motif_disrupt.sum(axis=1) > 0]\n",
    "motif_disrupt.to_csv(os.path.join(outdir, 'motif_disruption.tsv'), sep='\\t')\n",
    "#motif_disrupt.columns = ['{}_motif_disrupted'.format(x) for x in motif_disrupt.columns]\n",
    "#gene_variants = gene_variants.merge(motif_disrupt, left_on='location', right_index=True, how='left')"
   ]
  },
  {
   "cell_type": "code",
   "execution_count": 38,
   "metadata": {
    "collapsed": false
   },
   "outputs": [
    {
     "name": "stdout",
     "output_type": "stream",
     "text": [
      "3,176 variants disrupt a motif.\n"
     ]
    }
   ],
   "source": [
    "print('{:,} variants disrupt a motif.'.format(motif_disrupt.shape[0]))"
   ]
  },
  {
   "cell_type": "code",
   "execution_count": 39,
   "metadata": {
    "collapsed": true
   },
   "outputs": [],
   "source": [
    "# I'll convert the peak_overlaps into TF overlaps.\n",
    "tdf = motif_disrupt.copy(deep=True)\n",
    "tdf.columns = [motif_info.ix[x, 'target'] for x in tdf.columns]\n",
    "d = {}\n",
    "for c in tdf.columns:\n",
    "    t = tdf[c]\n",
    "    if len(t.shape) == 2:\n",
    "        d[c] = t[c].sum(axis=1) > 0\n",
    "    else:\n",
    "        d[c] = t\n",
    "tf_disrupt = pd.DataFrame(d)\n",
    "tf_disrupt.to_csv(os.path.join(outdir, 'tf_disruption.tsv'), sep='\\t')"
   ]
  },
  {
   "cell_type": "code",
   "execution_count": 40,
   "metadata": {
    "collapsed": true
   },
   "outputs": [],
   "source": [
    "t = pd.DataFrame([tf_disrupt.index], index=['location']).T\n",
    "t['tf_disrupt'] = True\n",
    "gene_variants = gene_variants.merge(t, how='outer')\n",
    "gene_variants.ix[gene_variants['tf_disrupt'].isnull(), 'tf_disrupt'] = False"
   ]
  },
  {
   "cell_type": "markdown",
   "metadata": {},
   "source": [
    "## CNV eQTLS\n",
    "\n",
    "I'll mark which genes have an overlapping significant CNV."
   ]
  },
  {
   "cell_type": "code",
   "execution_count": 41,
   "metadata": {
    "collapsed": true
   },
   "outputs": [],
   "source": [
    "t = pd.DataFrame(index=list(set(cnv_gv[cnv_gv.cnv_overlaps_gene].gene_id)))\n",
    "t['cnv_eqtl'] = True\n",
    "gene_variants = gene_variants.merge(t, how='outer', left_on='gene_id', right_index=True)\n",
    "gene_variants.ix[gene_variants.cnv_eqtl.isnull(), 'cnv_eqtl'] = False"
   ]
  },
  {
   "cell_type": "code",
   "execution_count": 42,
   "metadata": {
    "collapsed": true
   },
   "outputs": [],
   "source": [
    "fn = os.path.join(outdir, 'gene_variants_annotated.pickle')\n",
    "gene_variants.to_pickle(fn)"
   ]
  },
  {
   "cell_type": "markdown",
   "metadata": {
    "collapsed": true
   },
   "source": [
    "## Phasing and ASE\n",
    "\n",
    "Let's consider a putative eQTN. Let's assume that the direction of effect is such that\n",
    "the homozygous alternative genotype has lowest expression. If we have the correct eQTN,\n",
    "a subject who is het for the putative eQTN should see lower expression for the haplotype\n",
    "that contains the alt variant. I can check this for SNVs given that our SNVs are phased."
   ]
  },
  {
   "cell_type": "raw",
   "metadata": {
    "collapsed": false
   },
   "source": [
    "(locus_p[:, :, 'p_val_ase'] < 0.005)"
   ]
  },
  {
   "cell_type": "markdown",
   "metadata": {},
   "source": [
    "## Feature Exploration"
   ]
  },
  {
   "cell_type": "code",
   "execution_count": 43,
   "metadata": {
    "collapsed": false
   },
   "outputs": [
    {
     "name": "stdout",
     "output_type": "stream",
     "text": [
      "252,480 total SNV and indel associations.\n",
      "195,047 total distinct SNV and indels with significant associations.\n"
     ]
    }
   ],
   "source": [
    "n = gene_variants.shape[0]\n",
    "print('{:,} total SNV and indel associations.'.format(n))\n",
    "n = len(set(gene_variants.location))\n",
    "print('{:,} total distinct SNV and indels with significant associations.'.format(n))"
   ]
  },
  {
   "cell_type": "code",
   "execution_count": 44,
   "metadata": {
    "collapsed": false
   },
   "outputs": [
    {
     "name": "stdout",
     "output_type": "stream",
     "text": [
      "11 genes with a significant NMD variant.\n",
      "132 genes with a significant overlapping CNV.\n",
      "142 total in these groups.\n"
     ]
    }
   ],
   "source": [
    "n = len(set(gene_variants[gene_variants.nmd == True].gene_id))\n",
    "print('{:,} genes with a significant NMD variant.'.format(n))\n",
    "n = len(set(gene_variants[gene_variants.cnv_eqtl == True].gene_id))\n",
    "print('{:,} genes with a significant overlapping CNV.'.format(n))\n",
    "n = len(set(gene_variants[gene_variants.cnv_eqtl == True].gene_id) |\n",
    "        set(gene_variants[gene_variants.nmd == True].gene_id))\n",
    "print('{:,} total in these groups.'.format(n))"
   ]
  },
  {
   "cell_type": "code",
   "execution_count": 45,
   "metadata": {
    "collapsed": false
   },
   "outputs": [
    {
     "data": {
      "text/plain": [
       "snv    224998\n",
       "del     15134\n",
       "ins     12321\n",
       "Name: variant_type, dtype: int64"
      ]
     },
     "execution_count": 45,
     "metadata": {},
     "output_type": "execute_result"
    }
   ],
   "source": [
    "gene_variants.variant_type.value_counts()"
   ]
  },
  {
   "cell_type": "code",
   "execution_count": 46,
   "metadata": {
    "collapsed": false
   },
   "outputs": [
    {
     "name": "stdout",
     "output_type": "stream",
     "text": [
      "2,134 of 5,579 genes have only one significant variant.\n"
     ]
    }
   ],
   "source": [
    "n = (gene_variants.gene_id.value_counts() > 1).value_counts()[False]\n",
    "print('{:,} of {:,} genes have only one significant variant.'.format(n, len(set(gene_variants.gene_id))))"
   ]
  },
  {
   "cell_type": "code",
   "execution_count": 47,
   "metadata": {
    "collapsed": false
   },
   "outputs": [
    {
     "data": {
      "image/png": "[encoded data removed]",
      "text/plain": [
       "<matplotlib.figure.Figure at 0x7fae4c039c50>"
      ]
     },
     "metadata": {},
     "output_type": "display_data"
    }
   ],
   "source": [
    "gene_variants.gene_id.value_counts().hist(bins=100, log=True)\n",
    "plt.ylabel('Number of genes')\n",
    "plt.xlabel('Number of variants');"
   ]
  },
  {
   "cell_type": "code",
   "execution_count": 48,
   "metadata": {
    "collapsed": true
   },
   "outputs": [],
   "source": [
    "gene_gb = gene_variants.groupby('gene_id')\n",
    "num_genes = len(set(gene_variants.gene_id))"
   ]
  },
  {
   "cell_type": "code",
   "execution_count": 49,
   "metadata": {
    "collapsed": false
   },
   "outputs": [
    {
     "name": "stdout",
     "output_type": "stream",
     "text": [
      "2,692 of 5,579 genes have at least one significant exonic variant.\n",
      "2,013 of these 2,692 genes have at least one significant variant in their own exon.\n"
     ]
    }
   ],
   "source": [
    "n = (gene_gb.exonic.sum() > 0).value_counts()[True]\n",
    "print('{:,} of {:,} genes have at least one significant exonic variant.'.format(\n",
    "    n, num_genes))\n",
    "m = (gene_gb.exonic_same_gene.sum() > 0).value_counts()[True]\n",
    "print('{:,} of these {:,} genes have at least one significant variant in their own exon.'.format(\n",
    "    m, n))"
   ]
  },
  {
   "cell_type": "code",
   "execution_count": 50,
   "metadata": {
    "collapsed": false
   },
   "outputs": [
    {
     "data": {
      "image/png": "[encoded data removed]",
      "text/plain": [
       "<matplotlib.figure.Figure at 0x7fae4144a210>"
      ]
     },
     "metadata": {},
     "output_type": "display_data"
    }
   ],
   "source": [
    "fig, axs = plt.subplots(1, 2, figsize=[12, 4])\n",
    "ax = gene_gb.exonic.sum().hist(log=True, bins=range(0, int(gene_gb.exonic.sum().max())), ax=axs[0])\n",
    "ax.set_ylabel('Number of exonic variants')\n",
    "ax.set_xlabel('Number of genes')\n",
    "ax = gene_gb.exonic_same_gene.sum().hist(log=True, bins=range(0, int(gene_gb.exonic.sum().max())), ax=axs[1])\n",
    "ax.set_ylabel('Number of exonic variants in same gene')\n",
    "ax.set_xlabel('Number of genes');"
   ]
  },
  {
   "cell_type": "code",
   "execution_count": 51,
   "metadata": {
    "collapsed": false
   },
   "outputs": [
    {
     "name": "stdout",
     "output_type": "stream",
     "text": [
      "2,029 of 5,579 genes have at least one significant UTR variant.\n",
      "1,309 of these 2,029 genes have at least one significant variant in their own UTR.\n"
     ]
    }
   ],
   "source": [
    "n = (gene_gb.utr.sum() > 0).value_counts()[True]\n",
    "print('{:,} of {:,} genes have at least one significant UTR variant.'.format(\n",
    "    n, len(set(gene_variants.gene_id))))\n",
    "m = (gene_gb.utr_same_gene.sum() > 0).value_counts()[True]\n",
    "print('{:,} of these {:,} genes have at least one significant variant in their own UTR.'.format(\n",
    "    m, n))"
   ]
  },
  {
   "cell_type": "code",
   "execution_count": 52,
   "metadata": {
    "collapsed": false
   },
   "outputs": [
    {
     "data": {
      "image/png": "[encoded data removed]",
      "text/plain": [
       "<matplotlib.figure.Figure at 0x7fae4b33c410>"
      ]
     },
     "metadata": {},
     "output_type": "display_data"
    }
   ],
   "source": [
    "fig, axs = plt.subplots(1, 2, figsize=[12, 4])\n",
    "ax = gene_gb.utr.sum().hist(log=True, bins=range(0, int(gene_gb.utr.sum().max())), ax=axs[0])\n",
    "ax.set_ylabel('Number of UTR variants')\n",
    "ax.set_xlabel('Number of genes')\n",
    "ax = gene_gb.utr_same_gene.sum().hist(log=True, bins=range(0, int(gene_gb.utr.sum().max())), ax=axs[1])\n",
    "ax.set_ylabel('Number of UTR variants in same gene')\n",
    "ax.set_xlabel('Number of genes');"
   ]
  },
  {
   "cell_type": "code",
   "execution_count": 53,
   "metadata": {
    "collapsed": false
   },
   "outputs": [
    {
     "name": "stdout",
     "output_type": "stream",
     "text": [
      "iPS_DF_6.9_roadmap_dnase\t0.05%\n",
      "iPS_DF_19.11_roadmap_dnase\t0.05%\n",
      "H1_roadmap_dnase\t0.04%\n",
      "H9_roadmap_dnase\t0.05%\n",
      "iPSC_ENCSR000EKK_dnase\t0.04%\n",
      "iPSC_ENCSR000EKJ_dnase\t0.04%\n",
      "iPSC_ENCSR000EKI_dnase\t0.05%\n",
      "iPSC_ENCSR000EKH_dnase\t0.02%\n",
      "H7-hESC_ENCSR000EMZ_dnase\t0.02%\n",
      "H1-hESC_ENCSR000EMU_dnase\t0.02%\n",
      "H9_ENCSR000EJP_dnase\t0.02%\n",
      "H7-hESC_ENCSR000EJO_dnase\t0.07%\n",
      "H1-hESC_ENCSR000EJN_dnase\t0.06%\n"
     ]
    }
   ],
   "source": [
    "for c in [x for x in gene_variants.columns if 'dnase' in x]:\n",
    "    vc = gene_variants[c].value_counts()\n",
    "    print('{}\\t{:.2f}%'.format(c, float(vc[True]) / vc.sum()))"
   ]
  },
  {
   "cell_type": "code",
   "execution_count": 54,
   "metadata": {
    "collapsed": false
   },
   "outputs": [
    {
     "data": {
      "image/png": "[encoded data removed]",
      "text/plain": [
       "<matplotlib.figure.Figure at 0x7fadf6575990>"
      ]
     },
     "metadata": {},
     "output_type": "display_data"
    }
   ],
   "source": [
    "vc = gene_variants.ix[gene_variants['H1-hESC_ENCSR000EMU_dnase'] == True, 'gene_id'].value_counts()\n",
    "vc.hist(bins=range(0, vc.max() + 1))\n",
    "plt.ylabel('Number of genes')\n",
    "plt.xlabel('Number of variants overlapping DNase peak');"
   ]
  },
  {
   "cell_type": "code",
   "execution_count": 55,
   "metadata": {
    "collapsed": false
   },
   "outputs": [
    {
     "data": {
      "text/plain": [
       "not_imbalanced           12057\n",
       "imbalanced_(5%_FDR)       2523\n",
       "imbalanced_(0.1%_FDR)      281\n",
       "Name: significance.level_maurano, dtype: int64"
      ]
     },
     "execution_count": 55,
     "metadata": {},
     "output_type": "execute_result"
    }
   ],
   "source": [
    "gene_variants['significance.level_maurano'].value_counts()"
   ]
  },
  {
   "cell_type": "code",
   "execution_count": 56,
   "metadata": {
    "collapsed": false
   },
   "outputs": [
    {
     "data": {
      "text/plain": [
       "not_imbalanced           297687\n",
       "imbalanced_(5%_FDR)       55141\n",
       "imbalanced_(0.1%_FDR)      9456\n",
       "Name: significance.level_maurano, dtype: int64"
      ]
     },
     "execution_count": 56,
     "metadata": {},
     "output_type": "execute_result"
    }
   ],
   "source": [
    "maurano_res['significance.level_maurano'].value_counts()"
   ]
  },
  {
   "cell_type": "code",
   "execution_count": 57,
   "metadata": {
    "collapsed": false
   },
   "outputs": [
    {
     "data": {
      "image/png": "[encoded data removed]",
      "text/plain": [
       "<matplotlib.figure.Figure at 0x7fadf6560590>"
      ]
     },
     "metadata": {},
     "output_type": "display_data"
    }
   ],
   "source": [
    "gene_variants['q.value_maurano'].hist(bins=100)\n",
    "plt.ylabel('Number of variants')\n",
    "plt.xlabel('Maurano $q$-value');"
   ]
  },
  {
   "cell_type": "code",
   "execution_count": 58,
   "metadata": {
    "collapsed": false
   },
   "outputs": [
    {
     "data": {
      "image/png": "[encoded data removed]",
      "text/plain": [
       "<matplotlib.figure.Figure at 0x7fadc30fcbd0>"
      ]
     },
     "metadata": {},
     "output_type": "display_data"
    }
   ],
   "source": [
    "se = gene_variants['q.value_maurano'].dropna()\n",
    "se += se[se > 0].min()\n",
    "(-np.log10(se)).hist(bins=100)\n",
    "plt.ylabel('Number of variants')\n",
    "plt.xlabel('Maurano $-\\log_{10}q$-value');"
   ]
  },
  {
   "cell_type": "markdown",
   "metadata": {},
   "source": [
    "### Single variant genes\n",
    "\n",
    "I'm going to look at genes for which there is only one significant\n",
    "variant. In theory, these should often be the causal variants."
   ]
  },
  {
   "cell_type": "code",
   "execution_count": 59,
   "metadata": {
    "collapsed": true
   },
   "outputs": [],
   "source": [
    "se = gene_variants.gene_id.value_counts() == 1\n",
    "genes = set(se[se].index)\n",
    "tdf = gene_variants[gene_variants.gene_id.apply(lambda x: x in genes)]"
   ]
  },
  {
   "cell_type": "code",
   "execution_count": 60,
   "metadata": {
    "collapsed": false
   },
   "outputs": [
    {
     "name": "stdout",
     "output_type": "stream",
     "text": [
      "319 of 2134 genes have an exonic variant.\n",
      "165 of 2134 genes have a UTR variant.\n",
      "113 of 2134 genes have a variant in H1-hESC_ENCSR000EMU DNase peaks.\n"
     ]
    }
   ],
   "source": [
    "n = tdf.exonic.value_counts()[True]\n",
    "print('{} of {} genes have an exonic variant.'.format(n, tdf.shape[0]))\n",
    "n = tdf.utr.value_counts()[True]\n",
    "print('{} of {} genes have a UTR variant.'.format(n, tdf.shape[0]))\n",
    "n = tdf['H1-hESC_ENCSR000EMU_dnase'].value_counts()[True]\n",
    "print('{} of {} genes have a variant in H1-hESC_ENCSR000EMU DNase peaks.'.format(n, tdf.shape[0]))"
   ]
  },
  {
   "cell_type": "code",
   "execution_count": 61,
   "metadata": {
    "collapsed": false
   },
   "outputs": [
    {
     "data": {
      "text/plain": [
       "not_imbalanced           0.821695\n",
       "imbalanced_(5%_FDR)      0.152204\n",
       "imbalanced_(0.1%_FDR)    0.026101\n",
       "Name: significance.level_maurano, dtype: float64"
      ]
     },
     "execution_count": 61,
     "metadata": {},
     "output_type": "execute_result"
    }
   ],
   "source": [
    "maurano_res['significance.level_maurano'].value_counts() / maurano_res.shape[0]"
   ]
  },
  {
   "cell_type": "code",
   "execution_count": 62,
   "metadata": {
    "collapsed": false
   },
   "outputs": [
    {
     "data": {
      "text/plain": [
       "not_imbalanced           0.811318\n",
       "imbalanced_(5%_FDR)      0.169773\n",
       "imbalanced_(0.1%_FDR)    0.018909\n",
       "Name: significance.level_maurano, dtype: float64"
      ]
     },
     "execution_count": 62,
     "metadata": {},
     "output_type": "execute_result"
    }
   ],
   "source": [
    "(gene_variants['significance.level_maurano'].value_counts() / \n",
    " gene_variants['significance.level_maurano'].value_counts().sum())"
   ]
  },
  {
   "cell_type": "code",
   "execution_count": 63,
   "metadata": {
    "collapsed": false
   },
   "outputs": [
    {
     "data": {
      "text/plain": [
       "not_imbalanced           0.757692\n",
       "imbalanced_(5%_FDR)      0.230769\n",
       "imbalanced_(0.1%_FDR)    0.011538\n",
       "Name: significance.level_maurano, dtype: float64"
      ]
     },
     "execution_count": 63,
     "metadata": {},
     "output_type": "execute_result"
    }
   ],
   "source": [
    "tdf['significance.level_maurano'].value_counts() / tdf['significance.level_maurano'].value_counts().sum()"
   ]
  },
  {
   "cell_type": "code",
   "execution_count": 64,
   "metadata": {
    "collapsed": false
   },
   "outputs": [
    {
     "data": {
      "text/plain": [
       "not_imbalanced           197\n",
       "imbalanced_(5%_FDR)       60\n",
       "imbalanced_(0.1%_FDR)      3\n",
       "Name: significance.level_maurano, dtype: int64"
      ]
     },
     "execution_count": 64,
     "metadata": {},
     "output_type": "execute_result"
    }
   ],
   "source": [
    "tdf['significance.level_maurano'].value_counts()"
   ]
  },
  {
   "cell_type": "code",
   "execution_count": 65,
   "metadata": {
    "collapsed": false
   },
   "outputs": [],
   "source": [
    "t = gene_variants.sort_values(by=['gene_id', 'pvalue'])\n",
    "t = t.drop_duplicates(subset='gene_id')"
   ]
  },
  {
   "cell_type": "code",
   "execution_count": 66,
   "metadata": {
    "collapsed": false
   },
   "outputs": [
    {
     "data": {
      "text/plain": [
       "not_imbalanced           0.723435\n",
       "imbalanced_(5%_FDR)      0.259098\n",
       "imbalanced_(0.1%_FDR)    0.017467\n",
       "Name: significance.level_maurano, dtype: float64"
      ]
     },
     "execution_count": 66,
     "metadata": {},
     "output_type": "execute_result"
    }
   ],
   "source": [
    "t['significance.level_maurano'].value_counts() / t['significance.level_maurano'].value_counts().sum()"
   ]
  },
  {
   "cell_type": "code",
   "execution_count": 67,
   "metadata": {
    "collapsed": false
   },
   "outputs": [
    {
     "name": "stdout",
     "output_type": "stream",
     "text": [
      "The eQTL variant for 104 genes disrupts a TF.\n",
      "18 of these are significant in Maurano et al.\n"
     ]
    }
   ],
   "source": [
    "n = len(set(tf_disrupt.index) & set(tdf.location))\n",
    "print('The eQTL variant for {} genes disrupts a TF.'.format(n))\n",
    "n = len(set(tf_disrupt.index) & set(tdf.location) & \n",
    "        set(tdf.ix[tdf['q.value_maurano'] < 0.05, 'location']))\n",
    "print('{} of these are significant in Maurano et al.'.format(n))"
   ]
  },
  {
   "cell_type": "markdown",
   "metadata": {},
   "source": [
    "## Fine Mapping\n",
    "\n",
    "I'll start by removing genes are predicted to undergo NMD. I may also want to remove\n",
    "genes where a CNV overlaps the gene."
   ]
  },
  {
   "cell_type": "code",
   "execution_count": 405,
   "metadata": {
    "collapsed": false
   },
   "outputs": [
    {
     "name": "stdout",
     "output_type": "stream",
     "text": [
      "40 genes only had CNV associations.\n"
     ]
    }
   ],
   "source": [
    "n = qvalues.perm_sig.sum() - len(set(gene_variants.gene_id))\n",
    "print('{} genes only had CNV associations.'.format(n))"
   ]
  },
  {
   "cell_type": "code",
   "execution_count": 406,
   "metadata": {
    "collapsed": false
   },
   "outputs": [
    {
     "name": "stdout",
     "output_type": "stream",
     "text": [
      "5,541 of 5,579 genes don't have a significant NMD variant.\n",
      "38 genes have a significant NMD variant.\n"
     ]
    }
   ],
   "source": [
    "gene_variants_f = gene_variants[(gene_variants.gene_has_nmd_variant == False)]\n",
    "a = len(set(gene_variants_f.gene_id))\n",
    "b = len(set(gene_variants.gene_id))\n",
    "print('{:,} of {:,} genes don\\'t have a significant NMD variant.'.format(a, b))\n",
    "print('{:,} genes have a significant NMD variant.'.format(b - a))"
   ]
  },
  {
   "cell_type": "code",
   "execution_count": 407,
   "metadata": {
    "collapsed": false
   },
   "outputs": [
    {
     "name": "stdout",
     "output_type": "stream",
     "text": [
      "5,437 of 5,541 genes don't have a significant overlapping CNV\n",
      "104 genes have a significant overlapping CNV\n"
     ]
    }
   ],
   "source": [
    "a = len(set(gene_variants_f.gene_id))\n",
    "gene_variants_f = gene_variants_f[gene_variants_f.cnv_eqtl == False]\n",
    "b = len(set(gene_variants_f.gene_id))\n",
    "print('{:,} of {:,} genes don\\'t have a significant overlapping CNV'.format(b, a))\n",
    "print('{:,} genes have a significant overlapping CNV'.format(a - b))"
   ]
  },
  {
   "cell_type": "code",
   "execution_count": 408,
   "metadata": {
    "collapsed": false
   },
   "outputs": [
    {
     "name": "stdout",
     "output_type": "stream",
     "text": [
      "Removed 182 genes due to CNV or NMD eQTLs.\n",
      "186,656 remaining variants.\n",
      "5,437 remaining genes.\n"
     ]
    }
   ],
   "source": [
    "n = qvalues.perm_sig.sum() - len(set(gene_variants_f.gene_id))\n",
    "print('Removed {} genes due to CNV or NMD eQTLs.'.format(n))\n",
    "print('{:,} remaining variants.'.format(len(set(gene_variants_f.location))))\n",
    "print('{:,} remaining genes.'.format(len(set(gene_variants_f.gene_id))))"
   ]
  },
  {
   "cell_type": "code",
   "execution_count": 409,
   "metadata": {
    "collapsed": false
   },
   "outputs": [],
   "source": [
    "no_cnv_nmd_vars = gene_variants_f.location.drop_duplicates()\n",
    "gene_variants_f.to_csv(os.path.join(outdir, 'no_cnv_nmd_vars_gv.tsv'), sep='\\t')"
   ]
  },
  {
   "cell_type": "code",
   "execution_count": 410,
   "metadata": {
    "collapsed": false
   },
   "outputs": [
    {
     "name": "stdout",
     "output_type": "stream",
     "text": [
      "Overlapped variants with 40 ENCODE experiments for 34 TFs.\n"
     ]
    }
   ],
   "source": [
    "a = peak_overlap.shape[1]\n",
    "b = tf_overlap.shape[1]\n",
    "print('Overlapped variants with {} ENCODE experiments for {} TFs.'.format(a, b))"
   ]
  },
  {
   "cell_type": "code",
   "execution_count": 411,
   "metadata": {
    "collapsed": false
   },
   "outputs": [
    {
     "name": "stdout",
     "output_type": "stream",
     "text": [
      "7,630 of 186,656 variants overlapped at least one peak\n"
     ]
    }
   ],
   "source": [
    "n = sum(peak_overlap.ix[gene_variants_f.location.drop_duplicates()].sum(axis=1) > 0)\n",
    "print('{:,} of {:,} variants overlapped at least one peak'.format(\n",
    "        n, gene_variants_f.location.drop_duplicates().shape[0]))"
   ]
  },
  {
   "cell_type": "code",
   "execution_count": 412,
   "metadata": {
    "collapsed": false
   },
   "outputs": [
    {
     "name": "stdout",
     "output_type": "stream",
     "text": [
      "3,058 of 186,656 variants disrupted at least one TF.\n"
     ]
    }
   ],
   "source": [
    "n = sum(tf_disrupt.ix[gene_variants_f.location.drop_duplicates()].sum(axis=1) > 0)\n",
    "print('{:,} of {:,} variants disrupted at least one TF.'.format(\n",
    "        n, gene_variants_f.location.drop_duplicates().shape[0]))"
   ]
  },
  {
   "cell_type": "code",
   "execution_count": 413,
   "metadata": {
    "collapsed": true
   },
   "outputs": [],
   "source": [
    "gene_variants_f = gene_variants_f[gene_variants_f.tf_disrupt]"
   ]
  },
  {
   "cell_type": "code",
   "execution_count": 414,
   "metadata": {
    "collapsed": false
   },
   "outputs": [
    {
     "data": {
      "text/plain": [
       "1475"
      ]
     },
     "execution_count": 414,
     "metadata": {},
     "output_type": "execute_result"
    }
   ],
   "source": [
    "len(set(gene_variants_f.gene_id))"
   ]
  },
  {
   "cell_type": "code",
   "execution_count": 415,
   "metadata": {
    "collapsed": false
   },
   "outputs": [
    {
     "data": {
      "image/png": "[encoded data removed]",
      "text/plain": [
       "<matplotlib.figure.Figure at 0x7fae24544210>"
      ]
     },
     "metadata": {},
     "output_type": "display_data"
    }
   ],
   "source": [
    "tf_overlap.sum().plot.bar()\n",
    "plt.ylabel('Number of variants that overlap peak');"
   ]
  },
  {
   "cell_type": "code",
   "execution_count": 416,
   "metadata": {
    "collapsed": false
   },
   "outputs": [
    {
     "data": {
      "image/png": "[encoded data removed]",
      "text/plain": [
       "<matplotlib.figure.Figure at 0x7fae17968250>"
      ]
     },
     "metadata": {},
     "output_type": "display_data"
    }
   ],
   "source": [
    "tf_disrupt.sum().plot.bar()\n",
    "plt.ylabel('Number of variants that disrupt motif');"
   ]
  },
  {
   "cell_type": "code",
   "execution_count": 417,
   "metadata": {
    "collapsed": false
   },
   "outputs": [
    {
     "data": {
      "image/png": "[encoded data removed]",
      "text/plain": [
       "<matplotlib.figure.Figure at 0x7fae17b27f50>"
      ]
     },
     "metadata": {},
     "output_type": "display_data"
    }
   ],
   "source": [
    "(tf_disrupt.sum() / tf_overlap.sum()).plot.bar()\n",
    "plt.ylabel('Percent peaks with disrupted motif');"
   ]
  },
  {
   "cell_type": "code",
   "execution_count": 418,
   "metadata": {
    "collapsed": false
   },
   "outputs": [
    {
     "data": {
      "text/plain": [
       "<matplotlib.collections.PathCollection at 0x7fae17a8ae90>"
      ]
     },
     "execution_count": 418,
     "metadata": {},
     "output_type": "execute_result"
    },
    {
     "data": {
      "image/png": "[encoded data removed]",
      "text/plain": [
       "<matplotlib.figure.Figure at 0x7fae17981990>"
      ]
     },
     "metadata": {},
     "output_type": "display_data"
    }
   ],
   "source": [
    "plt.scatter(tf_overlap.sum(), tf_disrupt.sum())"
   ]
  },
  {
   "cell_type": "code",
   "execution_count": 419,
   "metadata": {
    "collapsed": false
   },
   "outputs": [
    {
     "data": {
      "text/plain": [
       "32"
      ]
     },
     "execution_count": 419,
     "metadata": {},
     "output_type": "execute_result"
    }
   ],
   "source": [
    "tf_disrupt['NANOG'].sum()"
   ]
  },
  {
   "cell_type": "code",
   "execution_count": 420,
   "metadata": {
    "collapsed": false
   },
   "outputs": [
    {
     "data": {
      "text/plain": [
       "not_imbalanced           0.617097\n",
       "imbalanced_(5%_FDR)      0.366874\n",
       "imbalanced_(0.1%_FDR)    0.016028\n",
       "Name: significance.level_maurano, dtype: float64"
      ]
     },
     "execution_count": 420,
     "metadata": {},
     "output_type": "execute_result"
    }
   ],
   "source": [
    "gene_variants_f['significance.level_maurano'].value_counts() / gene_variants_f['significance.level_maurano'].value_counts().sum()"
   ]
  },
  {
   "cell_type": "code",
   "execution_count": 421,
   "metadata": {
    "collapsed": false
   },
   "outputs": [
    {
     "data": {
      "text/plain": [
       "not_imbalanced           0.811318\n",
       "imbalanced_(5%_FDR)      0.169773\n",
       "imbalanced_(0.1%_FDR)    0.018909\n",
       "Name: significance.level_maurano, dtype: float64"
      ]
     },
     "execution_count": 421,
     "metadata": {},
     "output_type": "execute_result"
    }
   ],
   "source": [
    "gene_variants['significance.level_maurano'].value_counts() / gene_variants['significance.level_maurano'].value_counts().sum()"
   ]
  },
  {
   "cell_type": "code",
   "execution_count": 485,
   "metadata": {
    "collapsed": false
   },
   "outputs": [
    {
     "name": "stdout",
     "output_type": "stream",
     "text": [
      "Maurano assayed 13,366 of the eQTL variants.\n",
      "17.83% of all variants tested in Maurano paper were significant (q < 0.05).\n",
      "359 of 974 (36.86%) putative eQTNs were significant in Maurano (q < 0.05).\n",
      "2,345 of 12,392 (18.92%) sig. variants that were not putative eQTNs were significant in Maurano (q < 0.05).\n"
     ]
    }
   ],
   "source": [
    "a = set(gene_variants_f.location) & set(maurano_res.index)\n",
    "b = set(no_cnv_nmd_vars) & set(maurano_res.index)\n",
    "\n",
    "print('Maurano assayed {:,} of the eQTL variants.'.format(len(a) + len(b)))\n",
    "print ('{:.2f}% of all variants tested in Maurano paper were significant (q < 0.05).'.format(\n",
    "    sum(maurano_res['q.value_maurano'] < 0.05) / float(maurano_res.shape[0]) * 100))\n",
    "print('{:,} of {:,} ({:.2f}%) putative eQTNs were significant in Maurano (q < 0.05).'.format(\n",
    "        sum(maurano_res.ix[a, 'q.value_maurano'] < 0.05), len(a),\n",
    "        sum(maurano_res.ix[a, 'q.value_maurano'] < 0.05) / float(len(a)) * 100))\n",
    "print('{:,} of {:,} ({:.2f}%) sig. variants that were not putative eQTNs were significant in Maurano (q < 0.05).'.format(\n",
    "        sum(maurano_res.ix[b, 'q.value_maurano'] < 0.05), len(b),\n",
    "        sum(maurano_res.ix[b, 'q.value_maurano'] < 0.05) / float(len(b)) * 100))"
   ]
  },
  {
   "cell_type": "code",
   "execution_count": 490,
   "metadata": {
    "collapsed": false
   },
   "outputs": [
    {
     "name": "stdout",
     "output_type": "stream",
     "text": [
      "peQTNs enriched for altering TF binding relative to all Maurano variants (odds=2.6907, p=1.0580e-44, Fisher).\n",
      "peQTNs enriched for altering TF binding relative to non-peQTN eQTL variants (odds=2.5010, p=8.3921e-36, Fisher).\n"
     ]
    }
   ],
   "source": [
    "pe_sig = sum(maurano_res.ix[a, 'q.value_maurano'] < 0.05)\n",
    "pe_not_sig = len(a) - pe_sig\n",
    "not_pe_sig = sum(maurano_res['q.value_maurano'] < 0.05)\n",
    "not_pe_not_sig = maurano_res.shape[0] - not_pe_sig\n",
    "odds, p = stats.fisher_exact([[pe_sig, pe_not_sig], [not_pe_sig, not_pe_not_sig]])\n",
    "print('peQTNs enriched for altering TF binding relative to all Maurano variants '\n",
    "      '(odds={:.4f}, p={:.4e}, Fisher).'.format(odds, p))\n",
    "\n",
    "pe_sig = sum(maurano_res.ix[a, 'q.value_maurano'] < 0.05)\n",
    "pe_not_sig = len(a) - pe_sig\n",
    "not_pe_sig = sum(maurano_res.ix[b, 'q.value_maurano'] < 0.05)\n",
    "not_pe_not_sig = len(b) - not_pe_sig\n",
    "odds, p = stats.fisher_exact([[pe_sig, pe_not_sig], [not_pe_sig, not_pe_not_sig]])\n",
    "print('peQTNs enriched for altering TF binding relative to non-peQTN eQTL variants '\n",
    "      '(odds={:.4f}, p={:.4e}, Fisher).'.format(odds, p))"
   ]
  },
  {
   "cell_type": "code",
   "execution_count": 424,
   "metadata": {
    "collapsed": false
   },
   "outputs": [
    {
     "data": {
      "text/plain": [
       "<matplotlib.axes._subplots.AxesSubplot at 0x7fae17acf350>"
      ]
     },
     "execution_count": 424,
     "metadata": {},
     "output_type": "execute_result"
    },
    {
     "data": {
      "image/png": "[encoded data removed]",
      "text/plain": [
       "<matplotlib.figure.Figure at 0x7fae179de8d0>"
      ]
     },
     "metadata": {},
     "output_type": "display_data"
    }
   ],
   "source": [
    "gene_variants['q.value_maurano'].hist()"
   ]
  },
  {
   "cell_type": "code",
   "execution_count": 425,
   "metadata": {
    "collapsed": false
   },
   "outputs": [
    {
     "data": {
      "text/plain": [
       "<matplotlib.axes._subplots.AxesSubplot at 0x7fae17a78f10>"
      ]
     },
     "execution_count": 425,
     "metadata": {},
     "output_type": "execute_result"
    },
    {
     "data": {
      "image/png": "[encoded data removed]",
      "text/plain": [
       "<matplotlib.figure.Figure at 0x7fae178fe810>"
      ]
     },
     "metadata": {},
     "output_type": "display_data"
    }
   ],
   "source": [
    "gene_variants_f['q.value_maurano'].hist()"
   ]
  },
  {
   "cell_type": "code",
   "execution_count": 426,
   "metadata": {
    "collapsed": false
   },
   "outputs": [
    {
     "name": "stdout",
     "output_type": "stream",
     "text": [
      "735 of 1,475 (49.83%) eGenes have one putative eQTN.\n",
      "1,357 of 1,475 (92.00%) eGenes have five or less putative eQTNs.\n"
     ]
    }
   ],
   "source": [
    "n = len(set(gene_variants_f.gene_id))\n",
    "a = sum(gene_variants_f.gene_id.value_counts() == 1)\n",
    "print('{:,} of {:,} ({:.2f}%) eGenes have one putative eQTN.'.format(a, n, a / float(n) * 100))\n",
    "a = sum(gene_variants_f.gene_id.value_counts() <= 5)\n",
    "print('{:,} of {:,} ({:.2f}%) eGenes have five or less putative eQTNs.'.format(a, n, a / float(n) * 100))"
   ]
  },
  {
   "cell_type": "code",
   "execution_count": 427,
   "metadata": {
    "collapsed": false
   },
   "outputs": [
    {
     "data": {
      "image/png": "[encoded data removed]",
      "text/plain": [
       "<matplotlib.figure.Figure at 0x7fae178c3e10>"
      ]
     },
     "metadata": {},
     "output_type": "display_data"
    }
   ],
   "source": [
    "vc = gene_variants_f.gene_id.value_counts().value_counts().sort_index()\n",
    "vc.plot(kind='bar')\n",
    "plt.ylabel('Number of eGenes')\n",
    "plt.xlabel('Number of putative eQTNs per gene');"
   ]
  },
  {
   "cell_type": "code",
   "execution_count": 428,
   "metadata": {
    "collapsed": false
   },
   "outputs": [
    {
     "data": {
      "image/png": "[encoded data removed]",
      "text/plain": [
       "<matplotlib.figure.Figure at 0x7fae149f1bd0>"
      ]
     },
     "metadata": {},
     "output_type": "display_data"
    }
   ],
   "source": [
    "gene_variants_f['roadmap_dnase_num'] = \\\n",
    "    gene_variants_f[[x for x in gene_variants_f.columns \n",
    "                    if '_roadmap_dnase' in x]].sum(axis=1)\n",
    "\n",
    "se = gene_variants_f.roadmap_dnase_num.value_counts()\n",
    "se = se[range(se.shape[0])]\n",
    "se.plot(kind='bar')\n",
    "plt.ylabel('Number of variants')\n",
    "plt.xlabel('Number of DNase peaks overlapping');"
   ]
  },
  {
   "cell_type": "code",
   "execution_count": 471,
   "metadata": {
    "collapsed": false
   },
   "outputs": [
    {
     "name": "stdout",
     "output_type": "stream",
     "text": [
      "2,765 of 3,058 (90.42%) putative eQTNs overlap a DHS.\n",
      "1,865 of 3,058 (60.99%) putative eQTNs overlap DHS present in all four lines.\n"
     ]
    }
   ],
   "source": [
    "a = gene_variants_f[gene_variants_f.roadmap_dnase_num > 0].drop_duplicates(subset='location').shape[0]\n",
    "b = gene_variants_f.drop_duplicates(subset='location').shape[0]\n",
    "print('{:,} of {:,} ({:.2f}%) putative eQTNs overlap a DHS.'.format(a, b, a / float(b) * 100))\n",
    "a = gene_variants_f[gene_variants_f.roadmap_dnase_num == 4].drop_duplicates(subset='location').shape[0]\n",
    "b = gene_variants_f.drop_duplicates(subset='location').shape[0]\n",
    "print('{:,} of {:,} ({:.2f}%) putative eQTNs overlap DHS present in all four lines.'.format(a, b, a / float(b) * 100))"
   ]
  },
  {
   "cell_type": "raw",
   "metadata": {
    "collapsed": false
   },
   "source": [
    "n,b,p = plt.hist(gene_variants_f.tss_dist, \n",
    "                 bins=np.arange(-500000, 510000, 10000),\n",
    "                 histtype='stepfilled',\n",
    "                 linewidth=0)\n",
    "ymin, ymax = plt.ylim()\n",
    "plt.vlines(-20000, ymin, ymax)\n",
    "plt.vlines(20000, ymin, ymax)\n",
    "plt.title('Distance from nearest TSS')\n",
    "plt.ylabel('Fraction of eQTLs')\n",
    "plt.xlabel('Distance in base pairs');"
   ]
  },
  {
   "cell_type": "markdown",
   "metadata": {},
   "source": [
    "[Wen et al. 2015](http://journals.plos.org/plosgenetics/article?id=10.1371/journal.pgen.1005176) says 50% of cis-eQTLs are concentrated within 20kb of the TSS."
   ]
  },
  {
   "cell_type": "code",
   "execution_count": 430,
   "metadata": {
    "collapsed": false
   },
   "outputs": [
    {
     "name": "stdout",
     "output_type": "stream",
     "text": [
      "2,042 of 3,803 (53.7%) putative causal variants are within 20kb of the nearest TSS.\n"
     ]
    }
   ],
   "source": [
    "n = sum(gene_variants_f.tss_dist_abs < 20000)\n",
    "p = float(n) / gene_variants_f.shape[0]\n",
    "print('{:,} of {:,} ({:.1f}%) putative causal variants are within 20kb of the nearest TSS.'.format(\n",
    "        n, gene_variants_f.shape[0], p * 100))"
   ]
  },
  {
   "cell_type": "code",
   "execution_count": 431,
   "metadata": {
    "collapsed": false
   },
   "outputs": [
    {
     "data": {
      "text/html": [
       "<div>\n",
       "<table border=\"1\" class=\"dataframe\">\n",
       "  <thead>\n",
       "    <tr style=\"text-align: right;\">\n",
       "      <th></th>\n",
       "      <th>chrom</th>\n",
       "      <th>start</th>\n",
       "      <th>end</th>\n",
       "      <th>marker_id</th>\n",
       "      <th>ns</th>\n",
       "      <th>ac</th>\n",
       "      <th>callrate</th>\n",
       "      <th>genocnt</th>\n",
       "      <th>maf</th>\n",
       "      <th>stat</th>\n",
       "      <th>...</th>\n",
       "      <th>AFR_AF</th>\n",
       "      <th>AMR_AF</th>\n",
       "      <th>EAS_AF</th>\n",
       "      <th>perm_pvalue</th>\n",
       "      <th>perm_qvalue</th>\n",
       "      <th>perm_sig</th>\n",
       "      <th>chia_peaks</th>\n",
       "      <th>chia_interaction_peak</th>\n",
       "      <th>chia_interaction_promoter_gene</th>\n",
       "      <th>interacts_with_promoter</th>\n",
       "    </tr>\n",
       "  </thead>\n",
       "  <tbody>\n",
       "    <tr>\n",
       "      <th>chr1:169862063-169862064:ENSG00000000460.12</th>\n",
       "      <td>chr1</td>\n",
       "      <td>169862063</td>\n",
       "      <td>169862064</td>\n",
       "      <td>1:169862064_C/G_rs12131357</td>\n",
       "      <td>215</td>\n",
       "      <td>35</td>\n",
       "      <td>1</td>\n",
       "      <td>182/31/2</td>\n",
       "      <td>0.08140</td>\n",
       "      <td>5.2779</td>\n",
       "      <td>...</td>\n",
       "      <td>0.1505</td>\n",
       "      <td>0.0548</td>\n",
       "      <td>0.0089</td>\n",
       "      <td>0.000300</td>\n",
       "      <td>0.000703</td>\n",
       "      <td>True</td>\n",
       "      <td>NaN</td>\n",
       "      <td>NaN</td>\n",
       "      <td>NaN</td>\n",
       "      <td>NaN</td>\n",
       "    </tr>\n",
       "    <tr>\n",
       "      <th>chr6:46112388-46112389:ENSG00000001561.6</th>\n",
       "      <td>chr6</td>\n",
       "      <td>46112388</td>\n",
       "      <td>46112389</td>\n",
       "      <td>6:46112389_A/G_rs1048077</td>\n",
       "      <td>215</td>\n",
       "      <td>290</td>\n",
       "      <td>1</td>\n",
       "      <td>27/86/102</td>\n",
       "      <td>0.32558</td>\n",
       "      <td>8.6302</td>\n",
       "      <td>...</td>\n",
       "      <td>0.9607</td>\n",
       "      <td>0.7954</td>\n",
       "      <td>0.8264</td>\n",
       "      <td>0.000100</td>\n",
       "      <td>0.000263</td>\n",
       "      <td>True</td>\n",
       "      <td>NaN</td>\n",
       "      <td>NaN</td>\n",
       "      <td>NaN</td>\n",
       "      <td>NaN</td>\n",
       "    </tr>\n",
       "    <tr>\n",
       "      <th>chr12:1054955-1054956:ENSG00000002016.12</th>\n",
       "      <td>chr12</td>\n",
       "      <td>1054955</td>\n",
       "      <td>1054956</td>\n",
       "      <td>12:1054956_C/T_rs147560086</td>\n",
       "      <td>215</td>\n",
       "      <td>63</td>\n",
       "      <td>1</td>\n",
       "      <td>157/53/5</td>\n",
       "      <td>0.14651</td>\n",
       "      <td>-6.0730</td>\n",
       "      <td>...</td>\n",
       "      <td>0.1732</td>\n",
       "      <td>0.1182</td>\n",
       "      <td>0.1359</td>\n",
       "      <td>0.000100</td>\n",
       "      <td>0.000263</td>\n",
       "      <td>True</td>\n",
       "      <td>NaN</td>\n",
       "      <td>NaN</td>\n",
       "      <td>NaN</td>\n",
       "      <td>NaN</td>\n",
       "    </tr>\n",
       "    <tr>\n",
       "      <th>chr12:9095748-9095749:ENSG00000003056.3</th>\n",
       "      <td>chr12</td>\n",
       "      <td>9095748</td>\n",
       "      <td>9095749</td>\n",
       "      <td>12:9095749_T/C_rs7309922</td>\n",
       "      <td>215</td>\n",
       "      <td>199</td>\n",
       "      <td>1</td>\n",
       "      <td>69/93/53</td>\n",
       "      <td>0.46279</td>\n",
       "      <td>-7.6502</td>\n",
       "      <td>...</td>\n",
       "      <td>0.1536</td>\n",
       "      <td>0.3905</td>\n",
       "      <td>0.3968</td>\n",
       "      <td>0.000100</td>\n",
       "      <td>0.000263</td>\n",
       "      <td>True</td>\n",
       "      <td>NaN</td>\n",
       "      <td>NaN</td>\n",
       "      <td>NaN</td>\n",
       "      <td>NaN</td>\n",
       "    </tr>\n",
       "    <tr>\n",
       "      <th>chr7:9247738-9247739:ENSG00000003147.13</th>\n",
       "      <td>chr7</td>\n",
       "      <td>9247738</td>\n",
       "      <td>9247739</td>\n",
       "      <td>7:9247739_A/G_rs12537168</td>\n",
       "      <td>215</td>\n",
       "      <td>129</td>\n",
       "      <td>1</td>\n",
       "      <td>104/93/18</td>\n",
       "      <td>0.30000</td>\n",
       "      <td>-4.8832</td>\n",
       "      <td>...</td>\n",
       "      <td>0.0189</td>\n",
       "      <td>0.1816</td>\n",
       "      <td>0.2440</td>\n",
       "      <td>0.003351</td>\n",
       "      <td>0.006171</td>\n",
       "      <td>True</td>\n",
       "      <td>NaN</td>\n",
       "      <td>NaN</td>\n",
       "      <td>NaN</td>\n",
       "      <td>NaN</td>\n",
       "    </tr>\n",
       "  </tbody>\n",
       "</table>\n",
       "<p>5 rows × 39 columns</p>\n",
       "</div>"
      ],
      "text/plain": [
       "                                             chrom      start        end  \\\n",
       "chr1:169862063-169862064:ENSG00000000460.12   chr1  169862063  169862064   \n",
       "chr6:46112388-46112389:ENSG00000001561.6      chr6   46112388   46112389   \n",
       "chr12:1054955-1054956:ENSG00000002016.12     chr12    1054955    1054956   \n",
       "chr12:9095748-9095749:ENSG00000003056.3      chr12    9095748    9095749   \n",
       "chr7:9247738-9247739:ENSG00000003147.13       chr7    9247738    9247739   \n",
       "\n",
       "                                                              marker_id   ns  \\\n",
       "chr1:169862063-169862064:ENSG00000000460.12  1:169862064_C/G_rs12131357  215   \n",
       "chr6:46112388-46112389:ENSG00000001561.6       6:46112389_A/G_rs1048077  215   \n",
       "chr12:1054955-1054956:ENSG00000002016.12     12:1054956_C/T_rs147560086  215   \n",
       "chr12:9095748-9095749:ENSG00000003056.3        12:9095749_T/C_rs7309922  215   \n",
       "chr7:9247738-9247739:ENSG00000003147.13        7:9247739_A/G_rs12537168  215   \n",
       "\n",
       "                                              ac  callrate    genocnt  \\\n",
       "chr1:169862063-169862064:ENSG00000000460.12   35         1   182/31/2   \n",
       "chr6:46112388-46112389:ENSG00000001561.6     290         1  27/86/102   \n",
       "chr12:1054955-1054956:ENSG00000002016.12      63         1   157/53/5   \n",
       "chr12:9095748-9095749:ENSG00000003056.3      199         1   69/93/53   \n",
       "chr7:9247738-9247739:ENSG00000003147.13      129         1  104/93/18   \n",
       "\n",
       "                                                 maf    stat  \\\n",
       "chr1:169862063-169862064:ENSG00000000460.12  0.08140  5.2779   \n",
       "chr6:46112388-46112389:ENSG00000001561.6     0.32558  8.6302   \n",
       "chr12:1054955-1054956:ENSG00000002016.12     0.14651 -6.0730   \n",
       "chr12:9095748-9095749:ENSG00000003056.3      0.46279 -7.6502   \n",
       "chr7:9247738-9247739:ENSG00000003147.13      0.30000 -4.8832   \n",
       "\n",
       "                                                      ...            AFR_AF  \\\n",
       "chr1:169862063-169862064:ENSG00000000460.12           ...            0.1505   \n",
       "chr6:46112388-46112389:ENSG00000001561.6              ...            0.9607   \n",
       "chr12:1054955-1054956:ENSG00000002016.12              ...            0.1732   \n",
       "chr12:9095748-9095749:ENSG00000003056.3               ...            0.1536   \n",
       "chr7:9247738-9247739:ENSG00000003147.13               ...            0.0189   \n",
       "\n",
       "                                             AMR_AF  EAS_AF  perm_pvalue  \\\n",
       "chr1:169862063-169862064:ENSG00000000460.12  0.0548  0.0089     0.000300   \n",
       "chr6:46112388-46112389:ENSG00000001561.6     0.7954  0.8264     0.000100   \n",
       "chr12:1054955-1054956:ENSG00000002016.12     0.1182  0.1359     0.000100   \n",
       "chr12:9095748-9095749:ENSG00000003056.3      0.3905  0.3968     0.000100   \n",
       "chr7:9247738-9247739:ENSG00000003147.13      0.1816  0.2440     0.003351   \n",
       "\n",
       "                                            perm_qvalue perm_sig chia_peaks  \\\n",
       "chr1:169862063-169862064:ENSG00000000460.12    0.000703     True        NaN   \n",
       "chr6:46112388-46112389:ENSG00000001561.6       0.000263     True        NaN   \n",
       "chr12:1054955-1054956:ENSG00000002016.12       0.000263     True        NaN   \n",
       "chr12:9095748-9095749:ENSG00000003056.3        0.000263     True        NaN   \n",
       "chr7:9247738-9247739:ENSG00000003147.13        0.006171     True        NaN   \n",
       "\n",
       "                                            chia_interaction_peak  \\\n",
       "chr1:169862063-169862064:ENSG00000000460.12                   NaN   \n",
       "chr6:46112388-46112389:ENSG00000001561.6                      NaN   \n",
       "chr12:1054955-1054956:ENSG00000002016.12                      NaN   \n",
       "chr12:9095748-9095749:ENSG00000003056.3                       NaN   \n",
       "chr7:9247738-9247739:ENSG00000003147.13                       NaN   \n",
       "\n",
       "                                            chia_interaction_promoter_gene  \\\n",
       "chr1:169862063-169862064:ENSG00000000460.12                            NaN   \n",
       "chr6:46112388-46112389:ENSG00000001561.6                               NaN   \n",
       "chr12:1054955-1054956:ENSG00000002016.12                               NaN   \n",
       "chr12:9095748-9095749:ENSG00000003056.3                                NaN   \n",
       "chr7:9247738-9247739:ENSG00000003147.13                                NaN   \n",
       "\n",
       "                                            interacts_with_promoter  \n",
       "chr1:169862063-169862064:ENSG00000000460.12                     NaN  \n",
       "chr6:46112388-46112389:ENSG00000001561.6                        NaN  \n",
       "chr12:1054955-1054956:ENSG00000002016.12                        NaN  \n",
       "chr12:9095748-9095749:ENSG00000003056.3                         NaN  \n",
       "chr7:9247738-9247739:ENSG00000003147.13                         NaN  \n",
       "\n",
       "[5 rows x 39 columns]"
      ]
     },
     "execution_count": 431,
     "metadata": {},
     "output_type": "execute_result"
    }
   ],
   "source": [
    "lead_variants_single_f.head()"
   ]
  },
  {
   "cell_type": "code",
   "execution_count": 619,
   "metadata": {
    "collapsed": false
   },
   "outputs": [
    {
     "name": "stdout",
     "output_type": "stream",
     "text": [
      "283 of my 3,803 putative causal variants (7.44%)  are also the most significant variants\n",
      "The lead variant is a peQTN for 283 of 1,475 (19.19%) genes with peQTNs.\n"
     ]
    }
   ],
   "source": [
    "n = len(set(gene_variants_f.location + ':' + gene_variants_f.gene_id) & set(lead_variants_single_f.index))\n",
    "print('{:,} of my {:,} putative causal variants ({:.2f}%)  are also the most significant variants'.format(\n",
    "        n, gene_variants_f.shape[0], float(n) / gene_variants_f.shape[0] * 100))\n",
    "a = len(set(gene_variants_f.gene_id))\n",
    "print('The lead variant is a peQTN for {:,} of {:,} ({:.2f}%) genes with peQTNs.'.format(n, a, n / float(a) * 100))"
   ]
  },
  {
   "cell_type": "code",
   "execution_count": 433,
   "metadata": {
    "collapsed": true
   },
   "outputs": [],
   "source": [
    "gene_variants_f.index = gene_variants_f.location + ':' + gene_variants_f.gene_id"
   ]
  },
  {
   "cell_type": "code",
   "execution_count": 434,
   "metadata": {
    "collapsed": false
   },
   "outputs": [],
   "source": [
    "gene_variants_f.to_csv(os.path.join(outdir, 'peqtns.tsv'), sep='\\t')"
   ]
  },
  {
   "cell_type": "markdown",
   "metadata": {},
   "source": [
    "### 3D interactions"
   ]
  },
  {
   "cell_type": "code",
   "execution_count": 435,
   "metadata": {
    "collapsed": true
   },
   "outputs": [],
   "source": [
    "fn = os.path.join(ciepy.root, 'output', 'ji_et_al_2015_processing', 'interactions.tsv')\n",
    "interactions = pd.read_table(fn)\n",
    "\n",
    "fn = os.path.join(ciepy.root, 'output', 'ji_et_al_2015_processing', \n",
    "                  'gene_to_containing_interactions.pickle')\n",
    "gene_to_containing_interactions = cPickle.load(open(fn))\n",
    "\n",
    "fn = os.path.join(ciepy.root, 'output', 'ji_et_al_2015_processing',\n",
    "                  'chia_to_exon_gene.pickle')\n",
    "chia_to_exon_gene = cPickle.load(open(fn))\n",
    "fn = os.path.join(ciepy.root, 'output', 'ji_et_al_2015_processing',\n",
    "                  'chia_to_promoter_gene.pickle')\n",
    "chia_to_promoter_gene = cPickle.load(open(fn))\n",
    "\n",
    "fn = os.path.join(ciepy.root, 'output', 'ji_et_al_2015_processing',\n",
    "                  'chia_peaks.bed')\n",
    "chia_peaks = pbt.BedTool(fn)"
   ]
  },
  {
   "cell_type": "code",
   "execution_count": 436,
   "metadata": {
    "collapsed": true
   },
   "outputs": [],
   "source": [
    "s = '\\n'.join(gene_variants_f.location.apply(\n",
    "        lambda x: '\\t'.join(cpb.general.parse_region(x)))) + '\\n'\n",
    "var_bt = pbt.BedTool(s, from_string=True)\n",
    "var_bt = var_bt.sort()\n",
    "res = var_bt.intersect(chia_peaks, wo=True, sorted=True)\n",
    "d = {}\n",
    "for r in res:\n",
    "    ind = '{}:{}-{}'.format(r.chrom, r.start, r.end)\n",
    "    d[ind] = d.get(ind, set()) | set(['{}:{}-{}'.format(*r.fields[-4:-1])])\n",
    "se = pd.Series(d)\n",
    "    \n",
    "gene_variants_f = gene_variants_f.merge(pd.DataFrame({'chia_peaks': se}), \n",
    "                                      left_on='location', right_index=True, how='left')"
   ]
  },
  {
   "cell_type": "code",
   "execution_count": 442,
   "metadata": {
    "collapsed": true
   },
   "outputs": [],
   "source": [
    "s = '\\n'.join(lead_variants_single_f.location.apply(\n",
    "        lambda x: '\\t'.join(cpb.general.parse_region(x)))) + '\\n'\n",
    "var_bt = pbt.BedTool(s, from_string=True)\n",
    "var_bt = var_bt.sort()\n",
    "res = var_bt.intersect(chia_peaks, wo=True, sorted=True)\n",
    "d = {}\n",
    "for r in res:\n",
    "    ind = '{}:{}-{}'.format(r.chrom, r.start, r.end)\n",
    "    d[ind] = d.get(ind, set()) | set(['{}:{}-{}'.format(*r.fields[-4:-1])])\n",
    "se = pd.Series(d)\n",
    "    \n",
    "lead_variants_single_f = lead_variants_single_f.merge(pd.DataFrame({'chia_peaks': se}), \n",
    "                                                  left_on='location', right_index=True, how='left')"
   ]
  },
  {
   "cell_type": "code",
   "execution_count": 443,
   "metadata": {
    "collapsed": true
   },
   "outputs": [],
   "source": [
    "def get_other_end(peaks):\n",
    "    if type(peaks) is set:\n",
    "        other_ends = []\n",
    "        for p in peaks:\n",
    "            other_ends += list(interactions.ix[interactions.peak1 == p, 'peak2'])\n",
    "            other_ends += list(interactions.ix[interactions.peak2 == p, 'peak1'])\n",
    "        return set(other_ends)\n",
    "    else:\n",
    "        return np.nan\n",
    "    \n",
    "def get_promoter_gene(peaks):\n",
    "    if type(peaks) is set:\n",
    "        peaks = peaks & set(chia_to_promoter_gene.index)\n",
    "        genes = []\n",
    "        for p in peaks:\n",
    "            genes += list(chia_to_promoter_gene[p])\n",
    "        out = set(genes)\n",
    "        if len(out) == 0:\n",
    "            return np.nan\n",
    "        else:\n",
    "            return out\n",
    "    else:\n",
    "        return np.nan"
   ]
  },
  {
   "cell_type": "code",
   "execution_count": 444,
   "metadata": {
    "collapsed": false
   },
   "outputs": [],
   "source": [
    "gene_variants_f['chia_interaction_peak'] = gene_variants_f.chia_peaks.apply(lambda x: get_other_end(x))\n",
    "lead_variants_single_f['chia_interaction_peak'] = lead_variants_single_f.chia_peaks.apply(lambda x: get_other_end(x))"
   ]
  },
  {
   "cell_type": "code",
   "execution_count": 445,
   "metadata": {
    "collapsed": true
   },
   "outputs": [],
   "source": [
    "gene_variants_f['chia_interaction_promoter_gene'] = \\\n",
    "    gene_variants_f.chia_interaction_peak.apply(lambda x: get_promoter_gene(x))\n",
    "lead_variants_single_f['chia_interaction_promoter_gene'] = \\\n",
    "    lead_variants_single_f.chia_interaction_peak.apply(lambda x: get_promoter_gene(x))"
   ]
  },
  {
   "cell_type": "code",
   "execution_count": 446,
   "metadata": {
    "collapsed": true
   },
   "outputs": [],
   "source": [
    "gene_variants_f['interacts_with_promoter'] = np.nan\n",
    "t = gene_variants_f[gene_variants_f.chia_interaction_promoter_gene.isnull() == False]\n",
    "se = t.apply(lambda x: x['gene_id'] in x['chia_interaction_promoter_gene'], axis=1)\n",
    "gene_variants_f.ix[se.index, 'interacts_with_promoter'] = se"
   ]
  },
  {
   "cell_type": "code",
   "execution_count": 447,
   "metadata": {
    "collapsed": true
   },
   "outputs": [],
   "source": [
    "lead_variants_single_f['interacts_with_promoter'] = np.nan\n",
    "t = lead_variants_single_f[lead_variants_single_f.chia_interaction_promoter_gene.isnull() == False]\n",
    "se = t.apply(lambda x: x['gene_id'] in x['chia_interaction_promoter_gene'], axis=1)\n",
    "lead_variants_single_f.ix[se.index, 'interacts_with_promoter'] = se"
   ]
  },
  {
   "cell_type": "code",
   "execution_count": 449,
   "metadata": {
    "collapsed": true
   },
   "outputs": [],
   "source": [
    "shared = set(lead_variants_single_f.index) & set(gene_variants_f.index)"
   ]
  },
  {
   "cell_type": "code",
   "execution_count": 450,
   "metadata": {
    "collapsed": false
   },
   "outputs": [
    {
     "name": "stdout",
     "output_type": "stream",
     "text": [
      "61 lead variants and 150 putative eQTNs (15 shared) interact with promoters.\n"
     ]
    }
   ],
   "source": [
    "a = lead_variants_single_f.interacts_with_promoter.sum()\n",
    "b = gene_variants_f.interacts_with_promoter.sum()\n",
    "c = len(set(lead_variants_single_f[lead_variants_single_f.interacts_with_promoter == True].index) \n",
    "        & set(gene_variants_f[gene_variants_f.interacts_with_promoter == True].index))\n",
    "print('{} lead variants and {} putative eQTNs ({} shared) '\n",
    "      'interact with promoters.'.format(a, b, c))"
   ]
  },
  {
   "cell_type": "code",
   "execution_count": 451,
   "metadata": {
    "collapsed": false
   },
   "outputs": [
    {
     "data": {
      "text/plain": [
       "(4.5864106351550964, 1.2214665695467217e-21)"
      ]
     },
     "execution_count": 451,
     "metadata": {},
     "output_type": "execute_result"
    }
   ],
   "source": [
    "lead_interact = lead_variants_single_f.drop(shared).interacts_with_promoter.sum()\n",
    "lead_no_interact = lead_variants_single_f.drop(shared).shape[0] - lead_interact\n",
    "put_interact = gene_variants_f.drop(shared).interacts_with_promoter.sum()\n",
    "put_no_interact = gene_variants_f.drop(shared).shape[0] - put_interact\n",
    "stats.fisher_exact([[put_interact, put_no_interact], [lead_interact, lead_no_interact]])"
   ]
  },
  {
   "cell_type": "code",
   "execution_count": 466,
   "metadata": {
    "collapsed": false
   },
   "outputs": [
    {
     "data": {
      "text/plain": [
       "40"
      ]
     },
     "execution_count": 466,
     "metadata": {},
     "output_type": "execute_result"
    }
   ],
   "source": [
    "sum(gene_variants_f[gene_variants_f.interacts_with_promoter == True].tss_dist_abs > 20000)"
   ]
  },
  {
   "cell_type": "code",
   "execution_count": 465,
   "metadata": {
    "collapsed": false
   },
   "outputs": [
    {
     "data": {
      "text/plain": [
       "9"
      ]
     },
     "execution_count": 465,
     "metadata": {},
     "output_type": "execute_result"
    }
   ],
   "source": [
    "sum(lead_variants_single_f[lead_variants_single_f.interacts_with_promoter == True].tss_dist_abs > 20000)"
   ]
  },
  {
   "cell_type": "code",
   "execution_count": 454,
   "metadata": {
    "collapsed": false
   },
   "outputs": [
    {
     "data": {
      "text/plain": [
       "1761"
      ]
     },
     "execution_count": 454,
     "metadata": {},
     "output_type": "execute_result"
    }
   ],
   "source": [
    "sum(gene_variants_f.tss_dist_abs > 20000)"
   ]
  },
  {
   "cell_type": "markdown",
   "metadata": {},
   "source": [
    "### Motif Similarity"
   ]
  },
  {
   "cell_type": "code",
   "execution_count": 493,
   "metadata": {
    "collapsed": true
   },
   "outputs": [],
   "source": [
    "s = cpb.general.read_gzipped_text_url('http://compbio.mit.edu/encode-motifs/motifs-sim.txt.gz')\n",
    "lines = s.strip().split('\\n')\n",
    "lines = [x.split('\\t') for x in lines]\n",
    "vals = [x[1:] for x in lines[1:]]\n",
    "index = [x[0] for x in lines][1:]\n",
    "header = lines[0][1:]\n",
    "motif_sim = pd.DataFrame(vals, index=index, columns=header)\n",
    "motif_sim = motif_sim.astype(float)"
   ]
  },
  {
   "cell_type": "code",
   "execution_count": 529,
   "metadata": {
    "collapsed": false
   },
   "outputs": [
    {
     "data": {
      "image/png": "[encoded data removed]",
      "text/plain": [
       "<matplotlib.figure.Figure at 0x7fad7c453f50>"
      ]
     },
     "metadata": {},
     "output_type": "display_data"
    }
   ],
   "source": [
    "sns.heatmap(motif_sim, xticklabels=[], yticklabels=[]);"
   ]
  },
  {
   "cell_type": "code",
   "execution_count": 547,
   "metadata": {
    "collapsed": false
   },
   "outputs": [
    {
     "data": {
      "text/plain": [
       "<matplotlib.axes._subplots.AxesSubplot at 0x7fad7c3d2310>"
      ]
     },
     "execution_count": 547,
     "metadata": {},
     "output_type": "execute_result"
    },
    {
     "data": {
      "image/png": "[encoded data removed]",
      "text/plain": [
       "<matplotlib.figure.Figure at 0x7fad81109750>"
      ]
     },
     "metadata": {},
     "output_type": "display_data"
    }
   ],
   "source": [
    "tf_overlap.ix[gene_variants_f.location.drop_duplicates()].sum(axis=1).value_counts().sort_index().plot(kind='bar')"
   ]
  },
  {
   "cell_type": "code",
   "execution_count": 548,
   "metadata": {
    "collapsed": false
   },
   "outputs": [
    {
     "data": {
      "text/plain": [
       "<matplotlib.axes._subplots.AxesSubplot at 0x7fad8114cad0>"
      ]
     },
     "execution_count": 548,
     "metadata": {},
     "output_type": "execute_result"
    },
    {
     "data": {
      "image/png": "[encoded data removed]",
      "text/plain": [
       "<matplotlib.figure.Figure at 0x7fad7ceefc90>"
      ]
     },
     "metadata": {},
     "output_type": "display_data"
    }
   ],
   "source": [
    "motif_disrupt.ix[gene_variants_f.location.drop_duplicates()].sum(axis=1).value_counts().sort_index().plot(kind='bar')"
   ]
  },
  {
   "cell_type": "code",
   "execution_count": 559,
   "metadata": {
    "collapsed": false
   },
   "outputs": [
    {
     "data": {
      "text/plain": [
       "<matplotlib.axes._subplots.AxesSubplot at 0x7fae1796f6d0>"
      ]
     },
     "execution_count": 559,
     "metadata": {},
     "output_type": "execute_result"
    },
    {
     "data": {
      "image/png": "[encoded data removed]",
      "text/plain": [
       "<matplotlib.figure.Figure at 0x7fae223b94d0>"
      ]
     },
     "metadata": {},
     "output_type": "display_data"
    }
   ],
   "source": [
    "num_tf_motifs = []\n",
    "for i in gene_variants_f.location.drop_duplicates():\n",
    "    se = motif_disrupt.ix[i]\n",
    "    num_tf_motifs.append(len(set([x.split('_')[0] for x in se[se].index])))\n",
    "pd.Series(num_tf_motifs).value_counts().sort_index().plot(kind='bar')"
   ]
  },
  {
   "cell_type": "code",
   "execution_count": 609,
   "metadata": {
    "collapsed": false
   },
   "outputs": [
    {
     "name": "stdout",
     "output_type": "stream",
     "text": [
      "Disrupts motifs: YY1_disc5\n",
      "These motifs are similar to known motifs for: \n",
      "These TFs are not expected: \n",
      "----------------------------------------------------------------------------------------------------\n",
      "Disrupts motifs: SP1_known1\n",
      "These motifs are similar to known motifs for: SP8, KLF12, KLF16, CACD, SP1, KLF14, CACBP, KLF7, SP4, KLF4, PATZ1, TEAD2\n",
      "These TFs are not expected: SP8, KLF12, KLF16, KLF14, SP4, CACBP, KLF7, CACD, KLF4, TEAD2, PATZ1\n",
      "----------------------------------------------------------------------------------------------------\n",
      "Disrupts motifs: EP300_disc5, SRF_known1\n",
      "These motifs are similar to known motifs for: SRF, IRF\n",
      "These TFs are not expected: IRF\n",
      "----------------------------------------------------------------------------------------------------\n",
      "Disrupts motifs: CHD2_disc3, SP1_disc3, SP1_known2, SP1_known5, SP1_known6, SP1_known7, SP1_known8, TATA_disc7, ZNF143_disc3\n",
      "These motifs are similar to known motifs for: SP8, WT1, ZNF219, KLF13, KLF16, ETV6, MAZ, SP1, EGR1, SP4, KLF12, KLF7, ZNF740, CACD, KLF4, TEAD2, CACBP, PATZ1, HF1H3B, KLF14, ZNF281\n",
      "These TFs are not expected: SP8, WT1, CACBP, EGR1, KLF16, ZNF740, ETV6, SP4, MAZ, ZNF219, KLF4, KLF7, KLF12, CACD, KLF13, PATZ1, TEAD2, HF1H3B, KLF14, ZNF281\n",
      "----------------------------------------------------------------------------------------------------\n",
      "Disrupts motifs: ZNF143_disc2\n",
      "These motifs are similar to known motifs for: \n",
      "These TFs are not expected: \n",
      "----------------------------------------------------------------------------------------------------\n"
     ]
    }
   ],
   "source": [
    "for i in gene_variants_f.location.drop_duplicates()[0:5]:\n",
    "    se = motif_disrupt.ix[i]\n",
    "    df = motif_sim.ix[se[se].index]\n",
    "    df = df > 0.75\n",
    "    print('Disrupts motifs: {}'.format(', '.join(list(se[se].index))))\n",
    "    print('These motifs are similar to known motifs for: {}'.format(\n",
    "            ', '.join(list(set([x.split('_')[0] for x in df.sum()[df.sum() > 0].index if 'disc' not in x])))))\n",
    "    print('These TFs are not expected: {}'.format(\n",
    "        ', '.join(set([x.split('_')[0] for x in df.sum()[df.sum() > 0].index if 'disc' not in x]) - \n",
    "                              set([x.split('_')[0] for x in se[se].index]))))\n",
    "    print('----------------------------------------------------------------------------------------------------')"
   ]
  },
  {
   "cell_type": "code",
   "execution_count": 610,
   "metadata": {
    "collapsed": false
   },
   "outputs": [
    {
     "data": {
      "text/plain": [
       "<matplotlib.axes._subplots.AxesSubplot at 0x7fad81a38cd0>"
      ]
     },
     "execution_count": 610,
     "metadata": {},
     "output_type": "execute_result"
    },
    {
     "data": {
      "image/png": "[encoded data removed]",
      "text/plain": [
       "<matplotlib.figure.Figure at 0x7fad821e9390>"
      ]
     },
     "metadata": {},
     "output_type": "display_data"
    }
   ],
   "source": [
    "num_sim_motifs = []\n",
    "for i in gene_variants_f.location.drop_duplicates():\n",
    "    se = motif_disrupt.ix[i]\n",
    "    df = motif_sim.ix[se[se].index]\n",
    "    df = df > 0.75\n",
    "    num_sim_motifs.append(len(set([x.split('_')[0] for x in df.sum()[df.sum() > 0].index if 'disc' not in x]) - \n",
    "                              set([x.split('_')[0] for x in se[se].index])))\n",
    "\n",
    "pd.Series(num_sim_motifs).value_counts().sort_index().plot(kind='bar')"
   ]
  },
  {
   "cell_type": "code",
   "execution_count": 614,
   "metadata": {
    "collapsed": false
   },
   "outputs": [
    {
     "name": "stdout",
     "output_type": "stream",
     "text": [
      "2,126 of 3,058 (69.52%) peQTNs disrupt a motif that is similar to a known motif for a different TF (e.g. the variant does not overlap a peak for the other TF)\n"
     ]
    }
   ],
   "source": [
    "a = sum(pd.Series(num_sim_motifs) > 0)\n",
    "b = len(num_sim_motifs)\n",
    "print('{:,} of {:,} ({:.2f}%) peQTNs disrupt a motif that is '\n",
    "      'similar to a known motif for a different TF (e.g. the variant '\n",
    "      'does not overlap a peak for the other TF)'.format(a, b, a / float(b) * 100))"
   ]
  },
  {
   "cell_type": "code",
   "execution_count": 612,
   "metadata": {
    "collapsed": false
   },
   "outputs": [
    {
     "data": {
      "text/plain": [
       "3058"
      ]
     },
     "execution_count": 612,
     "metadata": {},
     "output_type": "execute_result"
    }
   ],
   "source": []
  },
  {
   "cell_type": "code",
   "execution_count": null,
   "metadata": {
    "collapsed": true
   },
   "outputs": [],
   "source": [
    "num_sim_motifs.shape"
   ]
  },
  {
   "cell_type": "code",
   "execution_count": 561,
   "metadata": {
    "collapsed": false
   },
   "outputs": [
    {
     "data": {
      "text/plain": [
       "<matplotlib.axes._subplots.AxesSubplot at 0x7fae222a7dd0>"
      ]
     },
     "execution_count": 561,
     "metadata": {},
     "output_type": "execute_result"
    },
    {
     "data": {
      "image/png": "[encoded data removed]",
      "text/plain": [
       "<matplotlib.figure.Figure at 0x7fae22241410>"
      ]
     },
     "metadata": {},
     "output_type": "display_data"
    }
   ],
   "source": [
    "motif_sim.ix['ETV6_1'].hist()"
   ]
  },
  {
   "cell_type": "code",
   "execution_count": null,
   "metadata": {
    "collapsed": true
   },
   "outputs": [],
   "source": []
  },
  {
   "cell_type": "code",
   "execution_count": 517,
   "metadata": {
    "collapsed": false
   },
   "outputs": [],
   "source": []
  },
  {
   "cell_type": "code",
   "execution_count": null,
   "metadata": {
    "collapsed": true
   },
   "outputs": [],
   "source": [
    "3 + "
   ]
  },
  {
   "cell_type": "markdown",
   "metadata": {},
   "source": [
    "### Compare to GWAS"
   ]
  },
  {
   "cell_type": "code",
   "execution_count": null,
   "metadata": {
    "collapsed": true
   },
   "outputs": [],
   "source": [
    "def get_snpsnap():\n",
    "    snpsnap_fns = glob.glob('/publicdata/SNPsnap_20151104/EUR_parse/*.tab')\n",
    "    dfs = []\n",
    "    for tab in snpsnap_fns:\n",
    "        df = pd.read_table(tab, index_col=0, low_memory=False)\n",
    "        tdf = df[['snp_maf', 'dist_nearest_gene_snpsnap_protein_coding',\n",
    "                  'friends_ld08']]\n",
    "        tdf.index = 'chr' + tdf.index\n",
    "        dfs.append(tdf)\n",
    "    snps = pd.concat(dfs)\n",
    "    snps['maf_bin'] = pd.cut(snps.snp_maf, np.arange(0, 0.55, 0.05))\n",
    "    snps['ld_bin'] = pd.cut(np.log10(snps.friends_ld08.replace(np.nan, 0) + 1), 10)\n",
    "    snps['dist_bin'] = pd.cut(np.log10(snps.dist_nearest_gene_snpsnap_protein_coding\n",
    "                                       + 1), 10)\n",
    "    snps = snps[['maf_bin', 'ld_bin', 'dist_bin']]\n",
    "    return snps\n",
    "snpsnap = get_snpsnap()"
   ]
  },
  {
   "cell_type": "code",
   "execution_count": null,
   "metadata": {
    "collapsed": true
   },
   "outputs": [],
   "source": [
    "tdf = gene_variants_f[gene_variants_f.variant_type == 'snv'].drop_duplicates('location')\n",
    "tdf.index = tdf.chrom + ':' + tdf.end.astype(int).astype(str)\n",
    "tdf = tdf[['chrom', 'start', 'end', 'pvalue']]\n",
    "tdf['start'] = tdf.start.astype(int)\n",
    "tdf['end'] = tdf.end.astype(int)\n",
    "ld_beds = glob.glob('/publicdata/1KGP_20151103/LD_20151110/tabix/*EUR*.bed.gz')\n",
    "ld_beds = dict(zip([os.path.split(x)[1].split('_')[0] for x in ld_beds], ld_beds))\n",
    "indep = cpb.analysis.ld_prune(tdf, ld_beds, snvs=list(snpsnap.index)).drop('pvalue', axis=1)\n",
    "indep_bt = cpb.bedtools.intervals_to_bed((indep.chrom + ':' + indep.start.astype(str) + \n",
    "                                          '-' + indep.end.astype(str)))\n",
    "indep_bt = indep_bt.sort()\n",
    "indep_bt.saveas(os.path.join(outdir, 'independent_fine_mapped_variants.bed'));"
   ]
  },
  {
   "cell_type": "code",
   "execution_count": null,
   "metadata": {
    "collapsed": false
   },
   "outputs": [],
   "source": [
    "tdf = gene_variants_f[gene_variants_f.gene_name.apply(lambda x: 'HLA' not in x)]\n",
    "tdf = tdf[tdf.variant_type == 'snv'].drop_duplicates('location')\n",
    "tdf.index = tdf.chrom + ':' + tdf.end.astype(int).astype(str)\n",
    "tdf = tdf[['chrom', 'start', 'end', 'pvalue']]\n",
    "tdf['start'] = tdf.start.astype(int)\n",
    "tdf['end'] = tdf.end.astype(int)\n",
    "ld_beds = glob.glob('/publicdata/1KGP_20151103/LD_20151110/tabix/*EUR*.bed.gz')\n",
    "ld_beds = dict(zip([os.path.split(x)[1].split('_')[0] for x in ld_beds], ld_beds))\n",
    "indep_no_hla = cpb.analysis.ld_prune(tdf, ld_beds, snvs=list(snpsnap.index)).drop('pvalue', axis=1)\n",
    "indep_no_hla_bt = cpb.bedtools.intervals_to_bed((indep_no_hla.chrom + ':' + indep_no_hla.start.astype(str) + \n",
    "                                          '-' + indep_no_hla.end.astype(str)))\n",
    "indep_no_hla_bt = indep_no_hla_bt.sort()\n",
    "indep_no_hla_bt.saveas(os.path.join(outdir, 'independent_fine_mapped_variants_no_hla.bed'));"
   ]
  },
  {
   "cell_type": "code",
   "execution_count": null,
   "metadata": {
    "collapsed": true
   },
   "outputs": [],
   "source": [
    "gvf_bt = cpb.bedtools.intervals_to_bed(list(set(gene_variants_f.location)))\n",
    "gvf_bt = gvf_bt.sort()\n",
    "gvf_bt.saveas(os.path.join(outdir, 'fine_mapped_variants.bed'));"
   ]
  },
  {
   "cell_type": "code",
   "execution_count": null,
   "metadata": {
    "collapsed": true
   },
   "outputs": [],
   "source": []
  },
  {
   "cell_type": "code",
   "execution_count": null,
   "metadata": {
    "collapsed": false
   },
   "outputs": [],
   "source": []
  },
  {
   "cell_type": "code",
   "execution_count": null,
   "metadata": {
    "collapsed": false
   },
   "outputs": [],
   "source": [
    "fn = os.path.join(ciepy.root, 'output', 'ji_et_al_2015_processing', 'interactions.tsv')\n",
    "interactions = pd.read_table(fn)\n",
    "\n",
    "fn = os.path.join(ciepy.root, 'output', 'ji_et_al_2015_processing', \n",
    "                  'gene_to_containing_interactions.pickle')\n",
    "gene_to_containing_interactions = cPickle.load(open(fn))\n",
    "\n",
    "fn = os.path.join(ciepy.root, 'output', 'ji_et_al_2015_processing',\n",
    "                  'chia_to_exon_gene.pickle')\n",
    "chia_to_exon_gene = cPickle.load(open(fn))\n",
    "fn = os.path.join(ciepy.root, 'output', 'ji_et_al_2015_processing',\n",
    "                  'chia_to_promoter_gene.pickle')\n",
    "chia_to_promoter_gene = cPickle.load(open(fn))\n",
    "\n",
    "fn = os.path.join(ciepy.root, 'output', 'ji_et_al_2015_processing',\n",
    "                  'chia_peaks.bed')\n",
    "chia_peaks = pbt.BedTool(fn)"
   ]
  },
  {
   "cell_type": "raw",
   "metadata": {},
   "source": [
    "s = '\\n'.join(interactions[interactions.intra & interactions.pin_loop].loop.apply(\n",
    "        lambda x: '\\t'.join(cpb.general.parse_region(x)))) + '\\n'\n",
    "loop_bt = pbt.BedTool(s, from_string=True)\n",
    "loop_bt = loop_bt.sort()"
   ]
  },
  {
   "cell_type": "raw",
   "metadata": {},
   "source": [
    "s = '\\n'.join(sig_variants_f.variant.apply(\n",
    "        lambda x: '\\t'.join(cpb.general.parse_region(x)))) + '\\n'\n",
    "var_bt = pbt.BedTool(s, from_string=True)\n",
    "var_bt = var_bt.sort()\n",
    "\n",
    "res = var_bt.intersect(loop_bt, wo=True, sorted=True)\n",
    "d = {}\n",
    "for r in res:\n",
    "    ind = '{}:{}-{}'.format(r.chrom, r.start, r.end)\n",
    "    d[ind] = d.get(ind, set()) | set(['{}:{}-{}'.format(*r.fields[-4:-1])])\n",
    "se = pd.Series(d)\n",
    "    \n",
    "sig_variants_f = sig_variants_f.merge(pd.DataFrame({'variant_loops': se}), \n",
    "                                      left_on='variant', right_index=True, how='left')\n",
    "\n",
    "sig_variants_f['gene_loops'] = gene_to_containing_interactions[sig_variants_f.gene].values"
   ]
  },
  {
   "cell_type": "raw",
   "metadata": {},
   "source": [
    "t = sig_variants_f[(sig_variants_f.variant_loops.isnull() == False) & \n",
    "                   (sig_variants_f.gene_loops.isnull() == False)]\n",
    "intersect = t.apply(lambda x: x['variant_loops'] & x['gene_loops'], axis=1)"
   ]
  },
  {
   "cell_type": "raw",
   "metadata": {},
   "source": [
    "most_sig['variant'] = (most_sig.chrom + ':' + most_sig.start.astype(str) + \n",
    "                       '-' + most_sig.end.astype(str))\n",
    "most_sig.index = [x.split(':')[-1] for x in most_sig.index]"
   ]
  },
  {
   "cell_type": "raw",
   "metadata": {},
   "source": [
    "s = '\\n'.join(most_sig_f.variant.apply(\n",
    "        lambda x: '\\t'.join(cpb.general.parse_region(x)))) + '\\n'\n",
    "var_bt = pbt.BedTool(s, from_string=True)\n",
    "var_bt = var_bt.sort()\n",
    "\n",
    "res = var_bt.intersect(loop_bt, wo=True, sorted=True)\n",
    "d = {}\n",
    "for r in res:\n",
    "    ind = '{}:{}-{}'.format(r.chrom, r.start, r.end)\n",
    "    d[ind] = d.get(ind, set()) | set(['{}:{}-{}'.format(*r.fields[-4:-1])])\n",
    "se = pd.Series(d)\n",
    "    \n",
    "most_sig_f = most_sig_f.merge(pd.DataFrame({'variant_loops': se}), \n",
    "                              left_on='variant', right_index=True, how='left')\n",
    "\n",
    "most_sig_f['gene_loops'] = gene_to_containing_interactions[most_sig_f.index].values"
   ]
  },
  {
   "cell_type": "raw",
   "metadata": {},
   "source": [
    "t = most_sig_f[(most_sig_f.variant_loops.isnull() == False) & \n",
    "               (most_sig_f.gene_loops.isnull() == False)]\n",
    "ms_intersect = t.apply(lambda x: x['variant_loops'] & x['gene_loops'], axis=1)"
   ]
  },
  {
   "cell_type": "raw",
   "metadata": {},
   "source": [
    "intersect.apply(lambda x: len(x) > 0).value_counts()"
   ]
  },
  {
   "cell_type": "raw",
   "metadata": {},
   "source": [
    "ms_intersect.apply(lambda x: len(x) > 0).value_counts()"
   ]
  },
  {
   "cell_type": "markdown",
   "metadata": {},
   "source": [
    "TODO: Add in RNA pol2 chia pet? Adds some slop to stuff to get more overlaps?"
   ]
  },
  {
   "cell_type": "code",
   "execution_count": null,
   "metadata": {
    "collapsed": true
   },
   "outputs": [],
   "source": [
    "s = '\\n'.join(gene_variants_f.location.apply(\n",
    "        lambda x: '\\t'.join(cpb.general.parse_region(x)))) + '\\n'\n",
    "var_bt = pbt.BedTool(s, from_string=True)\n",
    "var_bt = var_bt.sort()\n",
    "res = var_bt.intersect(chia_peaks, wo=True, sorted=True)\n",
    "d = {}\n",
    "for r in res:\n",
    "    ind = '{}:{}-{}'.format(r.chrom, r.start, r.end)\n",
    "    d[ind] = d.get(ind, set()) | set(['{}:{}-{}'.format(*r.fields[-4:-1])])\n",
    "se = pd.Series(d)\n",
    "    \n",
    "gene_variants_f = gene_variants_f.merge(pd.DataFrame({'chia_peaks': se}), \n",
    "                                      left_on='location', right_index=True, how='left')"
   ]
  },
  {
   "cell_type": "code",
   "execution_count": null,
   "metadata": {
    "collapsed": false
   },
   "outputs": [],
   "source": [
    "s = '\\n'.join(lead_variants_single_f.location.apply(\n",
    "        lambda x: '\\t'.join(cpb.general.parse_region(x)))) + '\\n'\n",
    "var_bt = pbt.BedTool(s, from_string=True)\n",
    "var_bt = var_bt.sort()\n",
    "res = var_bt.intersect(chia_peaks, wo=True, sorted=True)\n",
    "d = {}\n",
    "for r in res:\n",
    "    ind = '{}:{}-{}'.format(r.chrom, r.start, r.end)\n",
    "    d[ind] = d.get(ind, set()) | set(['{}:{}-{}'.format(*r.fields[-4:-1])])\n",
    "se = pd.Series(d)\n",
    "    \n",
    "lead_variants_single_f = lead_variants_single_f.merge(pd.DataFrame({'chia_peaks': se}), \n",
    "                                                  left_on='location', right_index=True, how='left')"
   ]
  },
  {
   "cell_type": "code",
   "execution_count": null,
   "metadata": {
    "collapsed": false
   },
   "outputs": [],
   "source": [
    "def get_other_end(peaks):\n",
    "    if type(peaks) is set:\n",
    "        other_ends = []\n",
    "        for p in peaks:\n",
    "            other_ends += list(interactions.ix[interactions.peak1 == p, 'peak2'])\n",
    "            other_ends += list(interactions.ix[interactions.peak2 == p, 'peak1'])\n",
    "        return set(other_ends)\n",
    "    else:\n",
    "        return np.nan\n",
    "    \n",
    "def get_promoter_gene(peaks):\n",
    "    if type(peaks) is set:\n",
    "        peaks = peaks & set(chia_to_promoter_gene.index)\n",
    "        genes = []\n",
    "        for p in peaks:\n",
    "            genes += list(chia_to_promoter_gene[p])\n",
    "        out = set(genes)\n",
    "        if len(out) == 0:\n",
    "            return np.nan\n",
    "        else:\n",
    "            return out\n",
    "    else:\n",
    "        return np.nan"
   ]
  },
  {
   "cell_type": "code",
   "execution_count": null,
   "metadata": {
    "collapsed": false
   },
   "outputs": [],
   "source": [
    "gene_variants_f['chia_interaction_peak'] = gene_variants_f.chia_peaks.apply(lambda x: get_other_end(x))\n",
    "lead_variants_single_f['chia_interaction_peak'] = lead_variants_single_f.chia_peaks.apply(lambda x: get_other_end(x))"
   ]
  },
  {
   "cell_type": "code",
   "execution_count": null,
   "metadata": {
    "collapsed": true
   },
   "outputs": [],
   "source": []
  },
  {
   "cell_type": "code",
   "execution_count": null,
   "metadata": {
    "collapsed": false
   },
   "outputs": [],
   "source": [
    "sum(gene_variants_f.tss_dist_abs > 10000)"
   ]
  },
  {
   "cell_type": "code",
   "execution_count": null,
   "metadata": {
    "collapsed": false
   },
   "outputs": [],
   "source": [
    "sum(lead_variants_single_f.tss_dist_abs > 10000)"
   ]
  },
  {
   "cell_type": "code",
   "execution_count": null,
   "metadata": {
    "collapsed": false
   },
   "outputs": [],
   "source": [
    "gene_variants_f['chia_interaction_promoter_gene'] = \\\n",
    "    gene_variants_f.chia_interaction_peak.apply(lambda x: get_promoter_gene(x))\n",
    "lead_variants_single_f['chia_interaction_promoter_gene'] = \\\n",
    "    lead_variants_single_f.chia_interaction_peak.apply(lambda x: get_promoter_gene(x))"
   ]
  },
  {
   "cell_type": "code",
   "execution_count": null,
   "metadata": {
    "collapsed": false
   },
   "outputs": [],
   "source": [
    "gene_variants_f['interacts_with_promoter'] = np.nan\n",
    "t = gene_variants_f[gene_variants_f.chia_interaction_promoter_gene.isnull() == False]\n",
    "se = t.apply(lambda x: x['gene_id'] in x['chia_interaction_promoter_gene'], axis=1)\n",
    "gene_variants_f.ix[se.index, 'interacts_with_promoter'] = se"
   ]
  },
  {
   "cell_type": "code",
   "execution_count": null,
   "metadata": {
    "collapsed": false
   },
   "outputs": [],
   "source": [
    "lead_variants_single_f['interacts_with_promoter'] = np.nan\n",
    "t = lead_variants_single_f[lead_variants_single_f.chia_interaction_promoter_gene.isnull() == False]\n",
    "se = t.apply(lambda x: x['gene_id'] in x['chia_interaction_promoter_gene'], axis=1)\n",
    "lead_variants_single_f.ix[se.index, 'interacts_with_promoter'] = se"
   ]
  },
  {
   "cell_type": "code",
   "execution_count": null,
   "metadata": {
    "collapsed": true
   },
   "outputs": [],
   "source": [
    "shared = set(lead_variants_single_f.index) & set(gene_variants_f.index)"
   ]
  },
  {
   "cell_type": "code",
   "execution_count": null,
   "metadata": {
    "collapsed": false
   },
   "outputs": [],
   "source": [
    "a = lead_variants_single_f.interacts_with_promoter.sum()\n",
    "b = gene_variants_f.interacts_with_promoter.sum()\n",
    "c = len(set(lead_variants_single_f[lead_variants_single_f.interacts_with_promoter == True].index) \n",
    "        & set(gene_variants_f[gene_variants_f.interacts_with_promoter == True].index))\n",
    "print('{} lead variants and {} putative eQTNs ({} shared) '\n",
    "      'interact with promoters.'.format(a, b, c))"
   ]
  },
  {
   "cell_type": "code",
   "execution_count": null,
   "metadata": {
    "collapsed": false
   },
   "outputs": [],
   "source": [
    "lead_interact = lead_variants_single_f.drop(shared).interacts_with_promoter.sum()\n",
    "lead_no_interact = lead_variants_single_f.drop(shared).shape[0] - lead_interact\n",
    "put_interact = gene_variants_f.drop(shared).interacts_with_promoter.sum()\n",
    "put_no_interact = gene_variants_f.drop(shared).shape[0] - put_interact\n",
    "stats.fisher_exact([[put_interact, put_no_interact], [lead_interact, lead_no_interact]])"
   ]
  },
  {
   "cell_type": "code",
   "execution_count": null,
   "metadata": {
    "collapsed": false
   },
   "outputs": [],
   "source": []
  },
  {
   "cell_type": "code",
   "execution_count": null,
   "metadata": {
    "collapsed": true
   },
   "outputs": [],
   "source": [
    "interactions."
   ]
  },
  {
   "cell_type": "code",
   "execution_count": null,
   "metadata": {
    "collapsed": false
   },
   "outputs": [],
   "source": [
    "interactions.head().T"
   ]
  },
  {
   "cell_type": "code",
   "execution_count": null,
   "metadata": {
    "collapsed": true
   },
   "outputs": [],
   "source": [
    "promoters = pbt.BedTool('/publicdata/gencode_v19_20151104/promoters_by_gene.bed')\n",
    "df = promoters.to_dataframe()\n",
    "df['gene'] = df.name.apply(lambda x: x.split('_')[0])\n",
    "df['region'] = df.name.apply(lambda x: x.split('_')[2])\n",
    "df.index = df.region\n",
    "gb = df.groupby('gene')\n",
    "gene_to_promoters = gb.groups"
   ]
  },
  {
   "cell_type": "code",
   "execution_count": null,
   "metadata": {
    "collapsed": true
   },
   "outputs": [],
   "source": [
    "def get_hic_interactions(vg):\n",
    "    chrom,a,gene = vg.split(':')\n",
    "    start,end = [int(x) for x in a.split('-')]\n",
    "    r = '{}:{}-{}'.format(chrom, start, end)\n",
    "    fn = ('/projects/CARDIPS/pipeline/Hi-C/7_indv_HiC/contact_matrices/'\n",
    "          'merged/normalized/iPSC/iPSC.5Kb.nor.{}.bed.gz'.format(chrom))\n",
    "    t = tabix.open(fn)\n",
    "    lines = []\n",
    "    res = t.querys(r)\n",
    "    while True:\n",
    "        try:\n",
    "            lines.append(res.next())\n",
    "        except StopIteration:\n",
    "            break\n",
    "    # Get promoter regions.\n",
    "    ps = [cpb.general.parse_region(x) for x in gene_to_promoters[gene]]\n",
    "    # Get indices of columns for promoter regions.\n",
    "    cols = []\n",
    "    for x in ps:\n",
    "        cols += range(int(x[1]) / 5000, int(x[2]) / 5000 + 1)\n",
    "    cols = sorted(list(set(cols)))\n",
    "    vals = []\n",
    "    # Get values for promoter regions.\n",
    "    for line in lines:\n",
    "        vals.append([float(line[x + 3]) for x in cols])\n",
    "    df = pd.DataFrame(vals)\n",
    "    df.columns = np.array(cols) * 5000\n",
    "    df.index = np.arange((start / 5000) * 5000, (start / 5000 + df.shape[0]) * 5000, 5000)\n",
    "    # Reflect over promoter regions and get interactions on other side.\n",
    "    cnv_middle = int(start + (end - start) / 2.)\n",
    "    promoter_middle = int(df.columns[0] + (df.columns[-1] - df.columns[0]) / 2.)\n",
    "    null_start = int(2 * promoter_middle - cnv_middle - (end - start) / 2.)\n",
    "    null_end = int(2 * promoter_middle - cnv_middle + (end - start) / 2.)\n",
    "    if null_start < 0 or null_end < 0:\n",
    "        return None, None\n",
    "    else:\n",
    "        r = '{}:{}-{}'.format(chrom, null_start, null_end)\n",
    "        lines = []\n",
    "        res = t.querys(r)\n",
    "        while True:\n",
    "            try:\n",
    "                lines.append(res.next())\n",
    "            except StopIteration:\n",
    "                break\n",
    "        if lines == []:\n",
    "            return None, None\n",
    "        else:            \n",
    "            vals = []\n",
    "            # Get values for promoter regions.\n",
    "            for line in lines:\n",
    "                vals.append([float(line[x + 3]) for x in cols])\n",
    "            null_df = pd.DataFrame(vals)\n",
    "            null_df.columns = np.array(cols) * 5000\n",
    "            null_df.index = np.arange((null_start / 5000) * 5000, (null_start / 5000 + null_df.shape[0]) * 5000, 5000)\n",
    "            return df, null_df"
   ]
  },
  {
   "cell_type": "code",
   "execution_count": null,
   "metadata": {
    "collapsed": false
   },
   "outputs": [],
   "source": [
    "real = []\n",
    "null = []\n",
    "dist = []\n",
    "for i in gene_variants_f.index:\n",
    "    df, null_df = get_hic_interactions(i)\n",
    "    if df is not None:\n",
    "        real.append(df.max().max())\n",
    "        null.append(null_df.max().max())\n",
    "        dist.append(abs(np.mean(df.columns) - np.mean(df.index)))\n",
    "put_real = pd.Series(real)\n",
    "put_null = pd.Series(null)"
   ]
  },
  {
   "cell_type": "code",
   "execution_count": null,
   "metadata": {
    "collapsed": true
   },
   "outputs": [],
   "source": [
    "real = []\n",
    "null = []\n",
    "dist = []\n",
    "for i in lead_variants_single_f.index:\n",
    "    df, null_df = get_hic_interactions(i)\n",
    "    if df is not None:\n",
    "        real.append(df.max().max())\n",
    "        null.append(null_df.max().max())\n",
    "        dist.append(abs(np.mean(df.columns) - np.mean(df.index)))\n",
    "lead_real = pd.Series(real)\n",
    "lead_null = pd.Series(null)"
   ]
  },
  {
   "cell_type": "code",
   "execution_count": null,
   "metadata": {
    "collapsed": false
   },
   "outputs": [],
   "source": [
    "plt.scatter(put_null * 10000, put_real * 10000)\n",
    "plt.plot([0, 1], [0, 1])"
   ]
  },
  {
   "cell_type": "code",
   "execution_count": null,
   "metadata": {
    "collapsed": false
   },
   "outputs": [],
   "source": [
    "plt.scatter(lead_null * 10000, lead_real * 10000)\n",
    "plt.plot([0, 1], [0, 1])"
   ]
  },
  {
   "cell_type": "code",
   "execution_count": null,
   "metadata": {
    "collapsed": true
   },
   "outputs": [],
   "source": []
  },
  {
   "cell_type": "code",
   "execution_count": null,
   "metadata": {
    "collapsed": true
   },
   "outputs": [],
   "source": []
  },
  {
   "cell_type": "code",
   "execution_count": null,
   "metadata": {
    "collapsed": true
   },
   "outputs": [],
   "source": []
  },
  {
   "cell_type": "code",
   "execution_count": null,
   "metadata": {
    "collapsed": true
   },
   "outputs": [],
   "source": []
  },
  {
   "cell_type": "code",
   "execution_count": null,
   "metadata": {
    "collapsed": true
   },
   "outputs": [],
   "source": []
  },
  {
   "cell_type": "code",
   "execution_count": null,
   "metadata": {
    "collapsed": true
   },
   "outputs": [],
   "source": []
  },
  {
   "cell_type": "code",
   "execution_count": null,
   "metadata": {
    "collapsed": true
   },
   "outputs": [],
   "source": []
  },
  {
   "cell_type": "code",
   "execution_count": null,
   "metadata": {
    "collapsed": true
   },
   "outputs": [],
   "source": []
  },
  {
   "cell_type": "code",
   "execution_count": null,
   "metadata": {
    "collapsed": true
   },
   "outputs": [],
   "source": []
  },
  {
   "cell_type": "code",
   "execution_count": null,
   "metadata": {
    "collapsed": false
   },
   "outputs": [],
   "source": [
    "sig_variants_f.tf_disruption.value_counts()"
   ]
  },
  {
   "cell_type": "code",
   "execution_count": null,
   "metadata": {
    "collapsed": false
   },
   "outputs": [],
   "source": [
    "sig_variants_f['significance.level_maurano'].value_counts()"
   ]
  },
  {
   "cell_type": "code",
   "execution_count": null,
   "metadata": {
    "collapsed": false
   },
   "outputs": [],
   "source": [
    "se = sig_variants_f[[x for x in sig_variants_f.columns if '_tf_disrupted' in x]].sum()\n",
    "se.sort_values(inplace=True, ascending=False)\n",
    "\n",
    "motif_cols = [x for x in sig_variants_f.columns if '_motif_disrupted' in x]\n",
    "tdf = sig_variants_f[sig_variants_f.tf_disruption]\n",
    "\n",
    "direction = []\n",
    "motifs = []\n",
    "for tf in motif_cols:\n",
    "    t = tdf[tdf[tf] == True]\n",
    "    if t.shape[0] > 0:\n",
    "        motifs.append(tf)\n",
    "        beta = t.beta\n",
    "        beta.index = t.variant\n",
    "        d = motif_d.ix[t.variant, '_'.join(tf.split('_')[0:2])]\n",
    "        c = pd.crosstab(beta > 0, d > 0)\n",
    "        a = 0\n",
    "        if True in c.index and True in c.columns:\n",
    "            a += c.ix[True, True]\n",
    "        if False in c.index and False in c.columns:\n",
    "            a += c.ix[False, False]\n",
    "        b = 0\n",
    "        if True in c.index and False in c.columns:\n",
    "            b += c.ix[True, False]\n",
    "        if False in c.index and True in c.columns:\n",
    "            b += c.ix[False, True]\n",
    "        direction.append([a, b])"
   ]
  },
  {
   "cell_type": "code",
   "execution_count": null,
   "metadata": {
    "collapsed": true
   },
   "outputs": [],
   "source": [
    "df = pd.DataFrame(direction, index=motifs, columns=['repress', 'activate'])\n",
    "df['tf'] = [x.split('_')[0] for x in df.index]"
   ]
  },
  {
   "cell_type": "code",
   "execution_count": null,
   "metadata": {
    "collapsed": true
   },
   "outputs": [],
   "source": [
    "tf = df.groupby('tf').sum()"
   ]
  },
  {
   "cell_type": "code",
   "execution_count": null,
   "metadata": {
    "collapsed": false
   },
   "outputs": [],
   "source": [
    "tf"
   ]
  },
  {
   "cell_type": "code",
   "execution_count": null,
   "metadata": {
    "collapsed": true
   },
   "outputs": [],
   "source": []
  },
  {
   "cell_type": "code",
   "execution_count": null,
   "metadata": {
    "collapsed": true
   },
   "outputs": [],
   "source": []
  },
  {
   "cell_type": "markdown",
   "metadata": {},
   "source": [
    "TODO: More likely to fall in enhancers?"
   ]
  },
  {
   "cell_type": "code",
   "execution_count": null,
   "metadata": {
    "collapsed": true
   },
   "outputs": [],
   "source": [
    "# GM12878_CTCF\n",
    "# http://www.ncbi.nlm.nih.gov/geo/query/acc.cgi?acc=GSM1872886\n",
    "url = ('http://www.ncbi.nlm.nih.gov/geo/download/?acc=GSM1872886&format=file&file='\n",
    "       'GSM1872886%5FGM12878%5FCTCF%5FPET%5Fclusters%2Etxt%2Egz')\n",
    "\n",
    "# GM12878_RNAPII\n",
    "# http://www.ncbi.nlm.nih.gov/geo/query/acc.cgi?acc=GSM1872887\n",
    "url = ('http://www.ncbi.nlm.nih.gov/geo/download/?acc=GSM1872887&format=file&file='\n",
    "       'GSM1872887%5FGM12878%5FRNAPII%5FPET%5Fclusters%2Etxt%2Egz')\n",
    "s = cpb.general.read_gzipped_text_url(url)\n",
    "lines = [x.strip().split('\\t') for x in s.split('\\n')[:-1]]\n",
    "gm_rnap = pd.DataFrame(lines, columns=['chr1', 'start1', 'end1',\n",
    "                                       'chr2', 'start2', 'end2', 'num'])\n",
    "for c in ['start1', 'start2', 'end1', 'end2', 'num']:\n",
    "    gm_rnap[c] = gm_rnap[c].astype(int)\n",
    "\n",
    "# HeLa_CTCF\n",
    "# http://www.ncbi.nlm.nih.gov/geo/query/acc.cgi?acc=GSM1872888\n",
    "url = ('http://www.ncbi.nlm.nih.gov/geo/download/?acc=GSM1872888&format=file&file='\n",
    "       'GSM1872888%5FHeLa%5FCTCF%5FPET%5Fclusters%2Etxt%2Egz')\n",
    "\n",
    "# HeLa_RNAPII\n",
    "# http://www.ncbi.nlm.nih.gov/geo/query/acc.cgi?acc=GSM1872889\n",
    "url = ('http://www.ncbi.nlm.nih.gov/geo/download/?acc=GSM1872889&format=file&file='\n",
    "       'GSM1872889%5FHeLa%5FRNAPII%5FPET%5Fclusters%2Etxt%2Egz')\n",
    "s = cpb.general.read_gzipped_text_url(url)\n",
    "lines = [x.strip().split('\\t') for x in s.split('\\n')[:-1]]\n",
    "hela_rnap = pd.DataFrame(lines, columns=['chr1', 'start1', 'end1',\n",
    "                                       'chr2', 'start2', 'end2', 'num'])\n",
    "for c in ['start1', 'start2', 'end1', 'end2', 'num']:\n",
    "    hela_rnap[c] = hela_rnap[c].astype(int)"
   ]
  },
  {
   "cell_type": "code",
   "execution_count": null,
   "metadata": {
    "collapsed": false
   },
   "outputs": [],
   "source": [
    "hela_rnap.head()"
   ]
  },
  {
   "cell_type": "markdown",
   "metadata": {
    "collapsed": true
   },
   "source": [
    "TODO: I can also compare conservation."
   ]
  },
  {
   "cell_type": "code",
   "execution_count": null,
   "metadata": {
    "collapsed": true
   },
   "outputs": [],
   "source": []
  }
 ],
 "metadata": {
  "kernelspec": {
   "display_name": "Python 2",
   "language": "python",
   "name": "python2"
  },
  "language_info": {
   "codemirror_mode": {
    "name": "ipython",
    "version": 2
   },
   "file_extension": ".py",
   "mimetype": "text/x-python",
   "name": "python",
   "nbconvert_exporter": "python",
   "pygments_lexer": "ipython2",
   "version": "2.7.11"
  }
 },
 "nbformat": 4,
 "nbformat_minor": 0
}
