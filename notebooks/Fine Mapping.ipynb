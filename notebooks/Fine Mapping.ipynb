{
 "cells": [
  {
   "cell_type": "markdown",
   "metadata": {},
   "source": [
    "# Fine Mapping\n",
    "\n",
    "I want to take the significant eQTL variants and functionally annotate them\n",
    "to try to determine which variants might be causal.\n",
    "\n",
    "I'd like to annotate the variants with various functional annotations. I'd also\n",
    "like to search for TF motif disruptions and perhaps use phasing information\n",
    "and allelic bias."
   ]
  },
  {
   "cell_type": "code",
   "execution_count": 1,
   "metadata": {
    "collapsed": false
   },
   "outputs": [],
   "source": [
    "import cPickle\n",
    "import glob\n",
    "import os\n",
    "import re\n",
    "import subprocess\n",
    "import urllib2\n",
    "\n",
    "import cdpybio as cpb\n",
    "import matplotlib.pyplot as plt\n",
    "import numpy as np\n",
    "import pandas as pd\n",
    "pd.options.mode.chained_assignment = None\n",
    "import pybedtools as pbt\n",
    "import seaborn as sns\n",
    "import vcf as pyvcf\n",
    "\n",
    "import cardipspy as cpy\n",
    "import ciepy\n",
    "\n",
    "%matplotlib inline\n",
    "\n",
    "import socket\n",
    "if socket.gethostname() == 'fl-hn1' or socket.gethostname() == 'fl-hn2':\n",
    "    pbt.set_tempdir('/frazer01/home/cdeboever/tmp')\n",
    "    \n",
    "outdir = os.path.join(ciepy.root, 'output',\n",
    "                      'fine_mapping')\n",
    "cpy.makedir(outdir)\n",
    "\n",
    "private_outdir = os.path.join(ciepy.root, 'private_output',\n",
    "                              'fine_mapping')\n",
    "cpy.makedir(private_outdir)"
   ]
  },
  {
   "cell_type": "code",
   "execution_count": 2,
   "metadata": {
    "collapsed": true
   },
   "outputs": [],
   "source": [
    "tg = pd.read_table(cpy.gencode_transcript_gene, index_col=0, \n",
    "                   header=None, squeeze=True)\n",
    "gene_info = pd.read_table(cpy.gencode_gene_info, index_col=0)\n",
    "transcript_to_gene = pd.read_table(cpy.gencode_transcript_gene, header=None, \n",
    "                                   squeeze=True, index_col=0)\n",
    "fn = os.path.join(ciepy.root, 'output', 'eqtl_input', \n",
    "                  'tpm_log_filtered_phe_std_norm_peer_resid.tsv')\n",
    "exp = pd.read_table(fn, index_col=0)\n",
    "\n",
    "fn = os.path.join(ciepy.root, 'output', 'eqtl_processing', 'qvalues.tsv')\n",
    "qvalues = pd.read_table(fn, index_col=0)\n",
    "qvalues.columns = ['{}_gene'.format(x) for x in qvalues.columns]\n",
    "fn = os.path.join(ciepy.root, 'output', 'eqtl_processing', 'most_sig_single.tsv')\n",
    "most_sig = pd.read_table(fn, index_col=0)\n",
    "most_sig['variant'] = (most_sig.chrom + ':' + most_sig.start.astype(str) + \n",
    "                       '-' + most_sig.end.astype(str))\n",
    "most_sig['gene'] = most_sig.index\n",
    "\n",
    "genes = pbt.BedTool(cpy.gencode_gene_bed)\n",
    "\n",
    "fn = os.path.join(os.path.split(cpy.roadmap_15_state_annotation)[0], 'EIDlegend.txt')\n",
    "roadmap_ids = pd.read_table(fn, squeeze=True, index_col=0, header=None)\n",
    "\n",
    "fn = os.path.join(ciepy.root, 'output', 'eqtl_processing', 'gene_variant_pairs.tsv')\n",
    "sig_variants = pd.read_table(fn)\n",
    "\n",
    "fn = os.path.join(ciepy.root, 'output', 'functional_annotation_analysis',\n",
    "                  'encode_stem_cell_chip_seq.tsv')\n",
    "encode_chip_seq = pd.read_table(fn, index_col=0)\n",
    "\n",
    "ensg = pd.Series(gene_info.index, index=[x.split('.')[0] for x in gene_info.index])"
   ]
  },
  {
   "cell_type": "code",
   "execution_count": 3,
   "metadata": {
    "collapsed": true
   },
   "outputs": [],
   "source": [
    "# ASE results.\n",
    "fn = os.path.join(ciepy.root, 'output', 'input_data', \n",
    "                  'mbased_major_allele_freq.tsv')\n",
    "maj_af = pd.read_table(fn, index_col=0)\n",
    "\n",
    "fn = os.path.join(ciepy.root, 'output', 'input_data', \n",
    "                  'mbased_p_val_ase.tsv')\n",
    "ase_pval = pd.read_table(fn, index_col=0)\n",
    "\n",
    "locus_p = pd.Panel({'major_allele_freq':maj_af, 'p_val_ase':ase_pval})\n",
    "locus_p = locus_p.swapaxes(0, 2)\n",
    "\n",
    "snv_fns = glob.glob(os.path.join(ciepy.root, 'private_output', 'input_data', 'mbased_snv',\n",
    "                                 '*_snv.tsv'))\n",
    "count_fns = glob.glob(os.path.join(ciepy.root, 'private_output', 'input_data', 'allele_counts',\n",
    "                                   '*mbased_input.tsv'))\n",
    "\n",
    "snv_res = {}\n",
    "for fn in snv_fns:\n",
    "    snv_res[os.path.split(fn)[1].split('_')[0]] = pd.read_table(fn, index_col=0)\n",
    "    \n",
    "count_res = {}\n",
    "for fn in count_fns:\n",
    "    count_res[os.path.split(fn)[1].split('_')[0]] = pd.read_table(fn, index_col=0)\n",
    "\n",
    "snv_p = pd.Panel(snv_res)"
   ]
  },
  {
   "cell_type": "markdown",
   "metadata": {},
   "source": [
    "I'll convert the significant variants to have one-based coordinates and add\n",
    "a unique variant name."
   ]
  },
  {
   "cell_type": "code",
   "execution_count": 4,
   "metadata": {
    "collapsed": true
   },
   "outputs": [],
   "source": [
    "sig_variants['beg'] = sig_variants.beg - 1\n",
    "sig_variants['variant'] = (sig_variants.chrom + ':' + sig_variants.beg.astype(str) + \n",
    "                           '-' + sig_variants.end.astype(str))\n",
    "sig_variants.index = sig_variants.variant + ':' + sig_variants.gene"
   ]
  },
  {
   "cell_type": "code",
   "execution_count": 5,
   "metadata": {
    "collapsed": false
   },
   "outputs": [],
   "source": [
    "ind = (most_sig.chrom + ':' + most_sig.start.astype(str) + '-' +\n",
    "       most_sig.end.astype(str) + ':' + pd.Series(most_sig.index, index=most_sig.index))\n",
    "most_sig.index = ind\n",
    "\n",
    "s = set(most_sig.index) & set(sig_variants.index)\n",
    "sig_variants['most_sig_variant'] = False\n",
    "sig_variants.ix[s, 'most_sig_variant'] = True"
   ]
  },
  {
   "cell_type": "markdown",
   "metadata": {},
   "source": [
    "## Predicted NMD\n",
    "\n",
    "I'll use the snpEff annotation of the WGS to look for predicted NMD. I'd like to\n",
    "see if any of the significant variants are predicted to cause NMD for the eQTL\n",
    "gene.\n",
    "\n",
    "If snpEff predicts NMD for a gene, the annotation looks like\n",
    "\n",
    "    PITRM1|ENSG00000107959|11|0.27\n",
    "    \n",
    "This means that PITRM1 has 11 transcripts and 27% of them are predicted to have NMD."
   ]
  },
  {
   "cell_type": "code",
   "execution_count": 6,
   "metadata": {
    "collapsed": false
   },
   "outputs": [],
   "source": [
    "fns = glob.glob('/projects/CARDIPS/pipeline/WGS/mergedVCF/annotation/vcf/*snpeff.vcf.gz')\n",
    "fns = [x for x in fns if len(re.findall('chr\\d{1,2}', x)) > 0]\n",
    "fns = pd.Series(fns, index=[re.findall('chr\\d{1,2}', x)[0] for x in fns])\n",
    "\n",
    "for vcf in fns.values:\n",
    "    out = os.path.join(private_outdir, os.path.split(vcf)[1].replace('.vcf.gz', '_nmd.vcf'))\n",
    "    if not os.path.exists(out):\n",
    "        !zcat {vcf} | java -jar /software/snpEff_v4_1l_core/SnpSift.jar filter \"NMD[*]\" > {out}"
   ]
  },
  {
   "cell_type": "code",
   "execution_count": 7,
   "metadata": {
    "collapsed": false
   },
   "outputs": [],
   "source": [
    "fns = glob.glob(os.path.join(private_outdir, '*_nmd.vcf'))\n",
    "variants = []\n",
    "nmd = []\n",
    "for fn in fns:\n",
    "    vcf_reader = pyvcf.Reader(open(fn))\n",
    "    for r in vcf_reader:\n",
    "        variants.append('chr{}:{}-{}'.format(r.CHROM, r.POS - 1, r.POS))\n",
    "        nmd.append(r.INFO['NMD'])\n",
    "ind = []\n",
    "vals = []\n",
    "for i, v in enumerate(variants):\n",
    "    r = nmd[i]\n",
    "    for n in r:\n",
    "        gene_name, gene_id, num_t, per_t = n.strip(')').split('|')\n",
    "        ind.append(v + ':' + ensg[gene_id])\n",
    "        vals.append([int(num_t), float(per_t)])\n",
    "nmd = pd.DataFrame(vals, index=ind, columns=['nmd_num_transcripts', 'nmd_percent_transcripts_nmd'])"
   ]
  },
  {
   "cell_type": "code",
   "execution_count": 8,
   "metadata": {
    "collapsed": false
   },
   "outputs": [],
   "source": [
    "sig_variants['variant_gene'] = (sig_variants.chrom + ':' + sig_variants.beg.astype(str) + \n",
    "                                '-' + sig_variants.end.astype(str) + ':' + sig_variants.gene)"
   ]
  },
  {
   "cell_type": "code",
   "execution_count": 9,
   "metadata": {
    "collapsed": false
   },
   "outputs": [],
   "source": [
    "sig_variants = sig_variants.merge(nmd, left_on='variant_gene', right_index=True, how='left')"
   ]
  },
  {
   "cell_type": "code",
   "execution_count": 10,
   "metadata": {
    "collapsed": true
   },
   "outputs": [],
   "source": [
    "sig_variants['nmd'] = False\n",
    "sig_variants.ix[sig_variants.dropna(subset=['nmd_num_transcripts']).index, 'nmd'] = True"
   ]
  },
  {
   "cell_type": "code",
   "execution_count": 11,
   "metadata": {
    "collapsed": false
   },
   "outputs": [
    {
     "data": {
      "text/plain": [
       "False    525001\n",
       "True         11\n",
       "Name: nmd, dtype: int64"
      ]
     },
     "execution_count": 11,
     "metadata": {},
     "output_type": "execute_result"
    }
   ],
   "source": [
    "sig_variants.nmd.value_counts()"
   ]
  },
  {
   "cell_type": "code",
   "execution_count": 12,
   "metadata": {
    "collapsed": true
   },
   "outputs": [],
   "source": [
    "g = set(sig_variants.ix[sig_variants.nmd, 'gene'])\n",
    "df = pd.DataFrame(True, index=g, columns=['gene_has_nmd_variant'])\n",
    "sig_variants = sig_variants.merge(df, left_on='gene', right_index=True, how='left')\n",
    "sig_variants.ix[sig_variants.gene_has_nmd_variant.isnull(), 'gene_has_nmd_variant'] = False"
   ]
  },
  {
   "cell_type": "markdown",
   "metadata": {},
   "source": [
    "## Exons, UTRs, and Promoters\n",
    "\n",
    "I'll annotate whether variants fall in exons, UTRs or promoters for their significant\n",
    "genes."
   ]
  },
  {
   "cell_type": "raw",
   "metadata": {
    "collapsed": true
   },
   "source": [
    "sig_variants.index = sig_variants.variant + ':' + sig_variants.gene"
   ]
  },
  {
   "cell_type": "code",
   "execution_count": 13,
   "metadata": {
    "collapsed": true
   },
   "outputs": [],
   "source": [
    "sig_variants_bt = pbt.BedTool('\\n'.join(set(sig_variants.apply(lambda x: '{}\\t{}\\t{}'.format(\n",
    "                    x['chrom'], x['beg'], x['end']), axis=1))), from_string=True)\n",
    "sig_variants_bt = sig_variants_bt.sort()"
   ]
  },
  {
   "cell_type": "code",
   "execution_count": 14,
   "metadata": {
    "collapsed": true
   },
   "outputs": [],
   "source": [
    "exons = pbt.BedTool(cpy.gencode_exon_bed)\n",
    "utrs = pbt.BedTool(cpy.gencode_utr_bed)"
   ]
  },
  {
   "cell_type": "code",
   "execution_count": 15,
   "metadata": {
    "collapsed": true
   },
   "outputs": [],
   "source": [
    "res = sig_variants_bt.intersect(exons, wo=True, sorted=True)\n",
    "df = res.to_dataframe()"
   ]
  },
  {
   "cell_type": "code",
   "execution_count": 16,
   "metadata": {
    "collapsed": true
   },
   "outputs": [],
   "source": [
    "df = res.to_dataframe()\n",
    "df.index = df.chrom + ':' + df.start.astype(str) + '-' + df.end.astype(str)\n",
    "df['gene'] = transcript_to_gene[df.thickStart].values\n",
    "df['val'] = pd.Series(df.index, index=df.index) + ':' + df.gene\n",
    "df = df.drop_duplicates(subset='val')"
   ]
  },
  {
   "cell_type": "code",
   "execution_count": 17,
   "metadata": {
    "collapsed": false
   },
   "outputs": [],
   "source": [
    "res = sig_variants_bt.intersect(exons, wo=True, sorted=True)\n",
    "df = res.to_dataframe()\n",
    "df.index = df.chrom + ':' + df.start.astype(str) + '-' + df.end.astype(str)\n",
    "df['gene'] = transcript_to_gene[df.thickStart].values\n",
    "df['val'] = pd.Series(df.index, index=df.index) + ':' + df.gene\n",
    "df = df.drop_duplicates(subset='val')\n",
    "sig_variants['exonic_same_gene'] = False\n",
    "sig_variants.ix[set(df.val) & set(sig_variants.index), 'exonic_same_gene'] = True\n",
    "\n",
    "df['exonic'] = True\n",
    "df['variant'] = df.index\n",
    "df = df.drop_duplicates(subset='variant')\n",
    "sig_variants = sig_variants.merge(df[['exonic']], left_on='variant', right_index=True, how='left')\n",
    "sig_variants.ix[sig_variants.exonic.isnull(), 'exonic'] = False"
   ]
  },
  {
   "cell_type": "code",
   "execution_count": 18,
   "metadata": {
    "collapsed": true
   },
   "outputs": [],
   "source": [
    "g = set(sig_variants.ix[sig_variants.exonic, 'gene'])\n",
    "df = pd.DataFrame(True, index=g, columns=['gene_has_exonic_variant'])\n",
    "sig_variants = sig_variants.merge(df, left_on='gene', right_index=True, how='left')\n",
    "sig_variants.ix[sig_variants.gene_has_exonic_variant.isnull(), 'gene_has_exonic_variant'] = False\n",
    "\n",
    "g = set(sig_variants.ix[sig_variants.exonic_same_gene, 'gene'])\n",
    "df = pd.DataFrame(True, index=g, columns=['gene_has_exonic_same_gene_variant'])\n",
    "sig_variants = sig_variants.merge(df, left_on='gene', right_index=True, how='left')\n",
    "sig_variants.ix[sig_variants.gene_has_exonic_same_gene_variant.isnull(), 'gene_has_exonic_same_gene_variant'] = False"
   ]
  },
  {
   "cell_type": "code",
   "execution_count": 19,
   "metadata": {
    "collapsed": false
   },
   "outputs": [
    {
     "data": {
      "text/plain": [
       "True     506584\n",
       "False     18428\n",
       "Name: gene_has_exonic_variant, dtype: int64"
      ]
     },
     "execution_count": 19,
     "metadata": {},
     "output_type": "execute_result"
    }
   ],
   "source": [
    "sig_variants.gene_has_exonic_variant.value_counts()"
   ]
  },
  {
   "cell_type": "code",
   "execution_count": 20,
   "metadata": {
    "collapsed": false
   },
   "outputs": [],
   "source": [
    "res = sig_variants_bt.intersect(utrs, wo=True, sorted=True)\n",
    "df = res.to_dataframe()\n",
    "df.index = df.chrom + ':' + df.start.astype(str) + '-' + df.end.astype(str)\n",
    "df['gene'] = transcript_to_gene[df.thickStart].values\n",
    "df['val'] = pd.Series(df.index, index=df.index) + ':' + df.gene\n",
    "df = df.drop_duplicates(subset='val')\n",
    "sig_variants['utr_same_gene'] = False\n",
    "sig_variants.ix[set(df.val) & set(sig_variants.index), 'utr_same_gene'] = True\n",
    "\n",
    "df['utr'] = True\n",
    "df['variant'] = df.index\n",
    "df = df.drop_duplicates(subset='variant')\n",
    "sig_variants = sig_variants.merge(df[['utr']], left_on='variant', right_index=True, how='left')\n",
    "sig_variants.ix[sig_variants.utr.isnull(), 'utr'] = False"
   ]
  },
  {
   "cell_type": "code",
   "execution_count": null,
   "metadata": {
    "collapsed": true
   },
   "outputs": [],
   "source": [
    "res = sig_variants_bt.intersect(promoters, wo=True, sorted=True)\n",
    "df = res.to_dataframe()\n",
    "df.index = df.chrom + ':' + df.start.astype(str) + '-' + df.end.astype(str)\n",
    "df['gene'] = transcript_to_gene[df.thickStart.apply(lambda x: x.split('_')[0])].values\n",
    "df['val'] = pd.Series(df.index, index=df.index) + ':' + df.gene\n",
    "df = df.drop_duplicates(subset='val')\n",
    "sig_variants['promoter_same_gene'] = False\n",
    "sig_variants.ix[set(df.val) & set(sig_variants.index), 'promoter_same_gene'] = True\n",
    "\n",
    "df['promoter'] = True\n",
    "df['variant'] = df.index\n",
    "df = df.drop_duplicates(subset='variant')\n",
    "sig_variants = sig_variants.merge(df[['promoter']], left_on='variant', right_index=True, how='left')\n",
    "sig_variants.ix[sig_variants.promoter.isnull(), 'promoter'] = False"
   ]
  },
  {
   "cell_type": "code",
   "execution_count": 21,
   "metadata": {
    "collapsed": true
   },
   "outputs": [],
   "source": [
    "g = set(sig_variants.ix[sig_variants.utr, 'gene'])\n",
    "df = pd.DataFrame(True, index=g, columns=['gene_has_utr_variant'])\n",
    "sig_variants = sig_variants.merge(df, left_on='gene', right_index=True, how='left')\n",
    "sig_variants.ix[sig_variants.gene_has_utr_variant.isnull(), 'gene_has_utr_variant'] = False\n",
    "\n",
    "g = set(sig_variants.ix[sig_variants.utr_same_gene, 'gene'])\n",
    "df = pd.DataFrame(True, index=g, columns=['gene_has_utr_same_gene_variant'])\n",
    "sig_variants = sig_variants.merge(df, left_on='gene', right_index=True, how='left')\n",
    "sig_variants.ix[sig_variants.gene_has_utr_same_gene_variant.isnull(), \n",
    "                'gene_has_utr_same_gene_variant'] = False\n",
    "\n",
    "g = set(sig_variants.ix[sig_variants.promoter_same_gene, 'gene'])\n",
    "df = pd.DataFrame(True, index=g, columns=['gene_has_promoter_same_gene_variant'])\n",
    "sig_variants = sig_variants.merge(df, left_on='gene', right_index=True, how='left')\n",
    "sig_variants.ix[sig_variants.gene_has_promoter_same_gene_variant.isnull(), \n",
    "                'gene_has_promoter_same_gene_variant'] = False"
   ]
  },
  {
   "cell_type": "markdown",
   "metadata": {},
   "source": [
    "## TSS Distance\n",
    "\n",
    "I want to find the distance from each variant to the nearest TSS of the\n",
    "gene that the variant is significant for. Some variants are significant\n",
    "for multiple genes but will be closest to the TSS for only one gene. I'm going\n",
    "to construct \"fake\" bed file with gene IDs as chromosome names. This will\n",
    "allow me to compare all of the significant variants for a gene to that gene's\n",
    "TSSs."
   ]
  },
  {
   "cell_type": "code",
   "execution_count": 22,
   "metadata": {
    "collapsed": true
   },
   "outputs": [],
   "source": [
    "tss = pbt.BedTool(cpy.gencode_tss_bed)\n",
    "tss_df = tss.to_dataframe()\n",
    "tss_df['gene'] = tss_df.name.apply(lambda x: transcript_to_gene[x.split('_')[0]])\n",
    "s = '\\n'.join(tss_df.gene + '\\t' + tss_df.start.astype(str) + '\\t' +\n",
    "              tss_df.end.astype(str) + '\\t' + tss_df.name + '\\t' + \n",
    "              tss_df.score + '\\t' + tss_df.strand) + '\\n'\n",
    "fake_tss = pbt.BedTool(s, from_string=True)\n",
    "fake_tss = fake_tss.sort()\n",
    "\n",
    "s = '\\n'.join(sig_variants.gene + '\\t' + sig_variants.beg.astype(str) + '\\t' + \n",
    "              sig_variants.end.astype(str) + '\\t.\\t' + sig_variants.chrom) + '\\n'\n",
    "fake_sig_variants_bt = pbt.BedTool(s, from_string=True)\n",
    "fake_sig_variants_bt = fake_sig_variants_bt.sort()\n",
    "\n",
    "res = fake_sig_variants_bt.closest(fake_tss, D='b', sorted=True)\n",
    "res_df = res.to_dataframe()\n",
    "res_df.index = (res_df.score + ':' + res_df.start.astype(str) + '-' + \n",
    "                res_df.end.astype(str) + ':' + res_df.chrom)\n",
    "res_df['variant_gene'] = res_df.index\n",
    "res_df = res_df.drop_duplicates(subset=['variant_gene'])\n",
    "sig_variants['tss_dist'] = res_df.ix[sig_variants.index, 'blockStarts']\n",
    "sig_variants['tss_dist_abs'] = sig_variants.tss_dist.abs()"
   ]
  },
  {
   "cell_type": "markdown",
   "metadata": {},
   "source": [
    "## Maurano et al. 2015 Data\n",
    "\n",
    "I'm going to grab some data from [Maurano *et al.* 2015](http://www.nature.com/ng/journal/v47/n12/full/ng.3432.html).\n",
    "The zip file seems to be corrupted. I was able to manually download on my mac \n",
    "and decompress it using Arhcive Utility but I couldn't get it work from the\n",
    "command line so that this has to be downloaded by hand."
   ]
  },
  {
   "cell_type": "code",
   "execution_count": 23,
   "metadata": {
    "collapsed": false
   },
   "outputs": [],
   "source": [
    "# This has all of the variants tested for imbalance and their significance.\n",
    "maurano_res = pd.read_table('http://www.nature.com/ng/journal/v47/n12/extref/ng.3432-S5.txt')\n",
    "# This has SNVs from dbSNP 138 predicted to affect TF binding.\n",
    "fn = os.path.join(private_outdir, 'ng.3432-S7')\n",
    "if not os.path.exists(fn):\n",
    "    print('Download ng.3432-S7, decompress, and add to private_outdir.')\n",
    "    print('http://www.nature.com/ng/journal/v47/n12/extref/ng.3432-S7.zip')\n",
    "else:\n",
    "    maurano_tf_disrupt = pd.read_table(fn)"
   ]
  },
  {
   "cell_type": "code",
   "execution_count": 24,
   "metadata": {
    "collapsed": false
   },
   "outputs": [
    {
     "data": {
      "text/plain": [
       "(0,)"
      ]
     },
     "execution_count": 24,
     "metadata": {},
     "output_type": "execute_result"
    }
   ],
   "source": [
    "se = maurano_res.chromEnd - maurano_res.chromStart\n",
    "se[se > 1].shape"
   ]
  },
  {
   "cell_type": "markdown",
   "metadata": {},
   "source": [
    "The Maurano results are all SNVs."
   ]
  },
  {
   "cell_type": "code",
   "execution_count": 25,
   "metadata": {
    "collapsed": false
   },
   "outputs": [
    {
     "name": "stdout",
     "output_type": "stream",
     "text": [
      "362284\n",
      "362284\n"
     ]
    }
   ],
   "source": [
    "print(len(set(maurano_res.chrom + ':' + maurano_res.chromStart.astype(str) + '-' + \n",
    "              maurano_res.chromEnd.astype(str))))\n",
    "print(maurano_res.shape[0])"
   ]
  },
  {
   "cell_type": "code",
   "execution_count": 26,
   "metadata": {
    "collapsed": false
   },
   "outputs": [],
   "source": [
    "maurano_res.index = (maurano_res.chrom + ':' + maurano_res.chromStart.astype(str) + \n",
    "                     '-' + maurano_res.chromEnd.astype(str))"
   ]
  },
  {
   "cell_type": "markdown",
   "metadata": {},
   "source": [
    "The Maurano results are all unique variants."
   ]
  },
  {
   "cell_type": "code",
   "execution_count": 27,
   "metadata": {
    "collapsed": false
   },
   "outputs": [
    {
     "data": {
      "text/html": [
       "<div>\n",
       "<table border=\"1\" class=\"dataframe\">\n",
       "  <thead>\n",
       "    <tr style=\"text-align: right;\">\n",
       "      <th></th>\n",
       "      <th>chrom</th>\n",
       "      <th>chromStart</th>\n",
       "      <th>chromEnd</th>\n",
       "      <th>rs</th>\n",
       "      <th>numhets</th>\n",
       "      <th>allele.1</th>\n",
       "      <th>readsA</th>\n",
       "      <th>allele.2</th>\n",
       "      <th>readsB</th>\n",
       "      <th>totalReads</th>\n",
       "      <th>pctRef</th>\n",
       "      <th>q.value</th>\n",
       "      <th>significance.level</th>\n",
       "    </tr>\n",
       "  </thead>\n",
       "  <tbody>\n",
       "    <tr>\n",
       "      <th>chr1:752720-752721</th>\n",
       "      <td>chr1</td>\n",
       "      <td>752720</td>\n",
       "      <td>752721</td>\n",
       "      <td>snp5</td>\n",
       "      <td>33</td>\n",
       "      <td>G</td>\n",
       "      <td>1583</td>\n",
       "      <td>A</td>\n",
       "      <td>1454</td>\n",
       "      <td>3037</td>\n",
       "      <td>0.479</td>\n",
       "      <td>0.0912</td>\n",
       "      <td>not_imbalanced</td>\n",
       "    </tr>\n",
       "  </tbody>\n",
       "</table>\n",
       "</div>"
      ],
      "text/plain": [
       "                   chrom  chromStart  chromEnd    rs  numhets allele.1  \\\n",
       "chr1:752720-752721  chr1      752720    752721  snp5       33        G   \n",
       "\n",
       "                    readsA allele.2  readsB  totalReads  pctRef  q.value  \\\n",
       "chr1:752720-752721    1583        A    1454        3037   0.479   0.0912   \n",
       "\n",
       "                   significance.level  \n",
       "chr1:752720-752721     not_imbalanced  "
      ]
     },
     "execution_count": 27,
     "metadata": {},
     "output_type": "execute_result"
    }
   ],
   "source": [
    "maurano_res.head(1)"
   ]
  },
  {
   "cell_type": "markdown",
   "metadata": {},
   "source": [
    "It seems that the Maurano data is in zero-based coordinates."
   ]
  },
  {
   "cell_type": "code",
   "execution_count": 28,
   "metadata": {
    "collapsed": true
   },
   "outputs": [],
   "source": [
    "maurano_res.columns = ['{}_maurano'.format(c) for c in maurano_res.columns]\n",
    "sig_variants = sig_variants.merge(maurano_res, left_on='variant', right_index=True, how='left')\n",
    "sig_variants = sig_variants.drop(['chrom_maurano', 'chromStart_maurano', 'chromEnd_maurano'], axis=1)"
   ]
  },
  {
   "cell_type": "markdown",
   "metadata": {
    "collapsed": true
   },
   "source": [
    "I'll also add in the predicted TF disruptions."
   ]
  },
  {
   "cell_type": "code",
   "execution_count": 29,
   "metadata": {
    "collapsed": false
   },
   "outputs": [],
   "source": [
    "maurano_tf_disrupt.columns = ['{}_maurano_tf'.format(x) for x in maurano_tf_disrupt.columns]\n",
    "maurano_tf_disrupt.index = (maurano_tf_disrupt.chrom_maurano_tf + ':' +\n",
    "                            maurano_tf_disrupt.snpChromStart_maurano_tf.astype(str) + \n",
    "                            '-' + maurano_tf_disrupt.snpChromEnd_maurano_tf.astype(str))\n",
    "sig_variants = sig_variants.merge(maurano_tf_disrupt, left_on='variant', \n",
    "                                  right_index=True, how='left')"
   ]
  },
  {
   "cell_type": "code",
   "execution_count": 30,
   "metadata": {
    "collapsed": true
   },
   "outputs": [],
   "source": [
    "sig_variants = sig_variants.drop(['chrom_maurano_tf', 'snpChromStart_maurano_tf', \n",
    "                                  'snpChromEnd_maurano_tf'], axis=1)"
   ]
  },
  {
   "cell_type": "markdown",
   "metadata": {
    "collapsed": true
   },
   "source": [
    "## Roadmap DNase"
   ]
  },
  {
   "cell_type": "code",
   "execution_count": 31,
   "metadata": {
    "collapsed": true
   },
   "outputs": [],
   "source": [
    "out = os.path.join(outdir, 'roadmap_dnase.tsv')\n",
    "if not os.path.exists(out):\n",
    "    url = ('http://egg2.wustl.edu/roadmap/data/byFileType'\n",
    "           '/peaks/consolidated/narrowPeak/')\n",
    "    website = urllib2.urlopen(url)\n",
    "    html = website.read()\n",
    "    files = re.findall('href=\"(E\\d\\d\\d-DNase.macs2.narrowPeak.gz)\"', html)\n",
    "    roadmap_dnase_res = pd.DataFrame(\n",
    "        -1, index=[x.split('-')[0] for x in files], \n",
    "        columns=['odds_ratio', 'pvalue'])\n",
    "\n",
    "    urls = ['http://egg2.wustl.edu/roadmap/data/byFileType/peaks/consolidated/narrowPeak/{}'.format(n)\n",
    "            for n in files]\n",
    "    lines = ['iPS-15b Cell Line', 'iPS-18 Cell Line', 'iPS-20b Cell Line',\n",
    "             'iPS DF 6.9 Cell Line', 'iPS DF 19.11 Cell Line', 'H1 Cell Line',\n",
    "             'H9 Cell Line']\n",
    "    urls = [x for x in urls if roadmap_ids[os.path.split(x.split('-')[0])[1]] in lines]\n",
    "\n",
    "    df = pd.DataFrame(False, index=set(sig_variants.variant), columns=lines)\n",
    "    for url in urls:\n",
    "        line = roadmap_ids[os.path.split(url)[1].split('-')[0]]\n",
    "        bt = pbt.BedTool(cpb.general.read_gzipped_text_url(url), from_string=True).sort()\n",
    "        res = sig_variants_bt.intersect(bt, wa=True)\n",
    "        tdf = res.to_dataframe()\n",
    "        df.ix[(tdf.chrom + ':' + tdf.start.astype(str) + '-' + tdf.end.astype(str)).values, line] = True\n",
    "    df = df.ix[:, df.sum() > 0]\n",
    "    df.columns = [c.replace(' Cell Line', '').replace(' ', '_') + '_roadmap_dnase' for c in df.columns]\n",
    "    df.to_csv(out, sep='\\t')\n",
    "else:\n",
    "    df = pd.read_table(out, index_col=0)\n",
    "\n",
    "sig_variants = sig_variants.merge(df, left_on='variant', right_index=True, how='left')"
   ]
  },
  {
   "cell_type": "markdown",
   "metadata": {
    "collapsed": true
   },
   "source": [
    "## ENCODE DNase"
   ]
  },
  {
   "cell_type": "code",
   "execution_count": 32,
   "metadata": {
    "collapsed": false
   },
   "outputs": [],
   "source": [
    "out = os.path.join(outdir, 'encode_dnase.tsv')\n",
    "if not os.path.exists(out):\n",
    "    encode_dnase = pd.read_table(os.path.join(ciepy.root, 'output', \n",
    "                                              'functional_annotation_analysis', \n",
    "                                              'encode_dnase.tsv'), index_col=0)\n",
    "    bs_types = ['stem cell', 'induced pluripotent stem cell line']\n",
    "    encode_dnase = encode_dnase[encode_dnase.biosample_type.apply(lambda x: x in bs_types)]\n",
    "\n",
    "    cols = (encode_dnase.cell_type.apply(lambda x: x.replace('induced pluripotent stem cell', 'iPSC')) + \n",
    "            '_' + encode_dnase.index + '_dnase')\n",
    "    df = pd.DataFrame(False, index=set(sig_variants.variant), columns=cols)\n",
    "    encode_dnase['col'] = cols\n",
    "    for i in encode_dnase.index:\n",
    "        bt = pbt.BedTool(cpb.general.read_gzipped_text_url(encode_dnase.ix[i, 'narrowPeak_url']), \n",
    "                         from_string=True).sort()\n",
    "        res = sig_variants_bt.intersect(bt, wa=True)\n",
    "        tdf = res.to_dataframe()\n",
    "        df.ix[(tdf.chrom + ':' + tdf.start.astype(str) + '-' + tdf.end.astype(str)).values,\n",
    "              encode_dnase.ix[i, 'col']] = True\n",
    "    df.to_csv(out, sep='\\t')\n",
    "else:\n",
    "    df = pd.read_table(out, index_col=0)\n",
    "\n",
    "sig_variants = sig_variants.merge(df, left_on='variant', right_index=True, how='left')"
   ]
  },
  {
   "cell_type": "markdown",
   "metadata": {},
   "source": [
    "## ENCODE Transcription Factor ChIP-Seq"
   ]
  },
  {
   "cell_type": "code",
   "execution_count": 33,
   "metadata": {
    "collapsed": true
   },
   "outputs": [],
   "source": [
    "out = os.path.join(outdir, 'encode_tf_chip_seq.tsv')\n",
    "if not os.path.exists(out):\n",
    "    encode_tf_chip_seq = pd.read_table(os.path.join(ciepy.root, 'output', \n",
    "                                                    'functional_annotation_analysis', \n",
    "                                                    'encode_stem_cell_chip_seq.tsv'), index_col=0)\n",
    "    encode_tf_chip_seq = encode_tf_chip_seq.drop_duplicates(subset='target')\n",
    "\n",
    "\n",
    "    cols = encode_tf_chip_seq.target + '_tf_chip'\n",
    "    df = pd.DataFrame(False, index=set(sig_variants.variant), columns=cols)\n",
    "    encode_tf_chip_seq['col'] = cols\n",
    "    for i in encode_tf_chip_seq.index:\n",
    "        bt = pbt.BedTool(cpb.general.read_gzipped_text_url(encode_tf_chip_seq.ix[i, 'narrowPeak_url']), \n",
    "                         from_string=True).sort()\n",
    "        res = sig_variants_bt.intersect(bt, wa=True)\n",
    "        tdf = res.to_dataframe()\n",
    "        df.ix[(tdf.chrom + ':' + tdf.start.astype(str) + '-' + tdf.end.astype(str)).values,\n",
    "              encode_tf_chip_seq.ix[i, 'col']] = True\n",
    "\n",
    "    df.to_csv(out, sep='\\t')\n",
    "else:\n",
    "    df = pd.read_table(out, index_col=0)\n",
    "\n",
    "sig_variants = sig_variants.merge(df, left_on='variant', right_index=True, how='left')"
   ]
  },
  {
   "cell_type": "markdown",
   "metadata": {},
   "source": [
    "## TF Motif Disruption"
   ]
  },
  {
   "cell_type": "code",
   "execution_count": 34,
   "metadata": {
    "collapsed": true
   },
   "outputs": [],
   "source": [
    "sig_variants['ref_allele'] = sig_variants.marker_id.apply(lambda x: x.split('/')[0].split('_')[-1])\n",
    "sig_variants['alt_allele'] = sig_variants.marker_id.apply(lambda x: x.split('/')[1].split('_')[0])"
   ]
  },
  {
   "cell_type": "code",
   "execution_count": 35,
   "metadata": {
    "collapsed": true
   },
   "outputs": [],
   "source": [
    "out = os.path.join(outdir, 'tf_disruption.tsv')\n",
    "if not os.path.exists(out):\n",
    "    fn = os.path.join(ciepy.root, 'output', 'motif_search', 'matrices.pickle')\n",
    "    with open(fn) as f:\n",
    "        matrices = cPickle.load(f)\n",
    "    fn = os.path.join(ciepy.root, 'output', 'motif_search', 'motif_info_full.tsv')\n",
    "    motif_info = pd.read_table(fn, index_col=0)\n",
    "    fn = os.path.join(ciepy.root, 'output', 'motif_search', 'motif_info_rep.tsv')\n",
    "    motif_info_rep = pd.read_table(fn, index_col=0)\n",
    "\n",
    "    tf_cols = [x for x in sig_variants.columns if 'tf_chip' in x]\n",
    "    tdf = sig_variants[['variant', 'ref_allele', 'alt_allele'] + tf_cols]\n",
    "    tdf = tdf.drop_duplicates()\n",
    "    tdf.index = tdf.variant\n",
    "    tdf = tdf.drop('variant', axis=1)\n",
    "    tdf = tdf[tdf[tf_cols].sum(axis=1) > 0]\n",
    "    tdf['tfs'] = tdf.apply(lambda x: set(motif_info.tf) & \n",
    "                           set([y.split('_')[0] for y in x[tf_cols][x[tf_cols]].index]), axis=1)\n",
    "    tdf = tdf[tdf.tfs.apply(lambda x: len(x)) > 0]\n",
    "    tdf = tdf.drop(tf_cols, axis=1)\n",
    "    tdf['motif_names'] = tdf.tfs.apply(lambda x: list(motif_info[motif_info.tf.apply(lambda y: y in x)].index))\n",
    "    \n",
    "    from ipyparallel import Client\n",
    "    parallel_client = Client()\n",
    "    dview = parallel_client[:]\n",
    "    print('Cluster has {} engines.'.format(len(parallel_client.ids)))\n",
    "    \n",
    "    with dview.sync_imports():\n",
    "        import cdpybio\n",
    "        import cardipspy\n",
    "        \n",
    "    %px cpb = cdpybio\n",
    "    %px cpy = cardipspy\n",
    "    \n",
    "    dview.push(dict(tdf=tdf));\n",
    "    dview.push(dict(matrices=matrices));\n",
    "    \n",
    "    res = dview.map_sync(lambda i: cpb.moodsext.find_motif_disruptions(\n",
    "            i, tdf.ix[i, 'ref_allele'], tdf.ix[i, 'alt_allele'], cpy.hg19, \n",
    "            {k:matrices[k] for k in tdf.ix[i, 'motif_names']}), tdf.index)\n",
    "    cols = motif_info[motif_info.tf.apply(lambda x: x in [x.split('_')[0] for x in tf_cols])].index\n",
    "    motif_d = pd.DataFrame(index=tdf.index, columns=cols)\n",
    "    a = []\n",
    "    b = []\n",
    "    for i,p in enumerate(tdf.index):\n",
    "        if res[i].shape[0] > 0:\n",
    "            a.append(p)\n",
    "            b.append(res[i])\n",
    "    d = dict(zip(a,b))\n",
    "    p = pd.Panel(d)\n",
    "    motif_d = p.ix[:, :, 'score_diff'].T\n",
    "    motif_d.to_csv(out, sep='\\t')\n",
    "else:\n",
    "    motif_d = pd.read_table(out, index_col=0)"
   ]
  },
  {
   "cell_type": "markdown",
   "metadata": {},
   "source": [
    "I'm not sure what score difference constitutes a disruption. Let's\n",
    "take a look at the distribution of differences."
   ]
  },
  {
   "cell_type": "code",
   "execution_count": 36,
   "metadata": {
    "collapsed": false
   },
   "outputs": [
    {
     "data": {
      "image/png": "[encoded data removed]",
      "text/plain": [
       "<matplotlib.figure.Figure at 0x7f8d0acefa10>"
      ]
     },
     "metadata": {},
     "output_type": "display_data"
    }
   ],
   "source": [
    "pd.Series(motif_d.values.flatten()).dropna().hist(bins=100)\n",
    "ymin, ymax = plt.ylim()\n",
    "plt.vlines(-2.5, ymin, ymax)\n",
    "plt.vlines(2.5, ymin, ymax)\n",
    "plt.ylabel('Number of differences')\n",
    "plt.xlabel('Score difference');"
   ]
  },
  {
   "cell_type": "markdown",
   "metadata": {},
   "source": [
    "It seems that a score difference greater than 2.5 in magnitude probably\n",
    "represents a pretty big effect. I'll say these are disruptions."
   ]
  },
  {
   "cell_type": "code",
   "execution_count": 37,
   "metadata": {
    "collapsed": true
   },
   "outputs": [],
   "source": [
    "motif_disrupt = motif_d.abs() >= 2.5\n",
    "motif_disrupt.columns = ['{}_motif_disrupted'.format(x) for x in motif_disrupt.columns]\n",
    "sig_variants = sig_variants.merge(motif_disrupt, left_on='variant', right_index=True, how='left')"
   ]
  },
  {
   "cell_type": "code",
   "execution_count": 38,
   "metadata": {
    "collapsed": false
   },
   "outputs": [],
   "source": [
    "tf_disrupt = motif_disrupt.copy(deep=True)\n",
    "tf_disrupt.columns = ['{}_tf_disrupted'.format(x.split('_')[0]) for x in tf_disrupt.columns]\n",
    "d = {}\n",
    "for c in set(tf_disrupt.columns):\n",
    "    t = tf_disrupt[c]\n",
    "    if len(t.shape) > 1:\n",
    "        d[c] = (tf_disrupt[c].sum(axis=1) == 1).values\n",
    "    else:\n",
    "        d[c] = t.values\n",
    "tf_disrupt = pd.DataFrame(d, index=tf_disrupt.index)\n",
    "sig_variants = sig_variants.merge(tf_disrupt, left_on='variant', right_index=True, how='left')"
   ]
  },
  {
   "cell_type": "code",
   "execution_count": 39,
   "metadata": {
    "collapsed": true
   },
   "outputs": [],
   "source": [
    "disrupted_cols = [x for x in sig_variants.columns if '_motif_disrupted' in x]\n",
    "sig_variants['tf_disruption'] = sig_variants[disrupted_cols].sum(axis=1) > 0"
   ]
  },
  {
   "cell_type": "markdown",
   "metadata": {
    "collapsed": true
   },
   "source": [
    "## Phasing and ASE\n",
    "\n",
    "Let's consider a putative eQTN. Let's assume that the direction of effect is such that\n",
    "the homozygous alternative genotype has lowest expression. If we have the correct eQTN,\n",
    "a subject who is het for the putative eQTN should see lower expression for the haplotype\n",
    "that contains the alt variant. I can check this for SNVs given that our SNVs are phased."
   ]
  },
  {
   "cell_type": "raw",
   "metadata": {
    "collapsed": false
   },
   "source": [
    "(locus_p[:, :, 'p_val_ase'] < 0.005)"
   ]
  },
  {
   "cell_type": "code",
   "execution_count": null,
   "metadata": {
    "collapsed": true
   },
   "outputs": [],
   "source": []
  },
  {
   "cell_type": "markdown",
   "metadata": {},
   "source": [
    "## Feature Exploration"
   ]
  },
  {
   "cell_type": "code",
   "execution_count": 41,
   "metadata": {
    "collapsed": false
   },
   "outputs": [
    {
     "name": "stdout",
     "output_type": "stream",
     "text": [
      "713 of 5,563 genes have only one significant variant.\n"
     ]
    }
   ],
   "source": [
    "n = (sig_variants.gene.value_counts() > 1).value_counts()[False]\n",
    "print('{:,} of {:,} genes have only one significant variant.'.format(n, len(set(sig_variants.gene))))"
   ]
  },
  {
   "cell_type": "code",
   "execution_count": 42,
   "metadata": {
    "collapsed": false
   },
   "outputs": [
    {
     "data": {
      "image/png": "[encoded data removed]",
      "text/plain": [
       "<matplotlib.figure.Figure at 0x7f8d0acefc90>"
      ]
     },
     "metadata": {},
     "output_type": "display_data"
    }
   ],
   "source": [
    "sig_variants.gene.value_counts().hist(bins=100, log=True)\n",
    "plt.ylabel('Number of genes')\n",
    "plt.xlabel('Number of variants');"
   ]
  },
  {
   "cell_type": "code",
   "execution_count": 43,
   "metadata": {
    "collapsed": true
   },
   "outputs": [],
   "source": [
    "gene_gb = sig_variants.groupby('gene')\n",
    "num_genes = len(set(sig_variants.gene))"
   ]
  },
  {
   "cell_type": "code",
   "execution_count": 44,
   "metadata": {
    "collapsed": false
   },
   "outputs": [
    {
     "name": "stdout",
     "output_type": "stream",
     "text": [
      "3,872 of 5,563 genes have at least one significant exonic variant.\n",
      "2,891 of these 3,872 genes have at least one significant variant in their own exon.\n"
     ]
    }
   ],
   "source": [
    "n = (gene_gb.exonic.sum() > 0).value_counts()[True]\n",
    "print('{:,} of {:,} genes have at least one significant exonic variant.'.format(\n",
    "    n, num_genes))\n",
    "m = (gene_gb.exonic_same_gene.sum() > 0).value_counts()[True]\n",
    "print('{:,} of these {:,} genes have at least one significant variant in their own exon.'.format(\n",
    "    m, n))"
   ]
  },
  {
   "cell_type": "code",
   "execution_count": 45,
   "metadata": {
    "collapsed": false
   },
   "outputs": [
    {
     "data": {
      "image/png": "[encoded data removed]",
      "text/plain": [
       "<matplotlib.figure.Figure at 0x7f8d41d51350>"
      ]
     },
     "metadata": {},
     "output_type": "display_data"
    }
   ],
   "source": [
    "fig, axs = plt.subplots(1, 2, figsize=[12, 4])\n",
    "ax = gene_gb.exonic.sum().hist(log=True, bins=range(0, int(gene_gb.exonic.sum().max())), ax=axs[0])\n",
    "ax.set_ylabel('Number of exonic variants')\n",
    "ax.set_xlabel('Number of genes')\n",
    "ax = gene_gb.exonic_same_gene.sum().hist(log=True, bins=range(0, int(gene_gb.exonic.sum().max())), ax=axs[1])\n",
    "ax.set_ylabel('Number of exonic variants in same gene')\n",
    "ax.set_xlabel('Number of genes');"
   ]
  },
  {
   "cell_type": "code",
   "execution_count": 46,
   "metadata": {
    "collapsed": false
   },
   "outputs": [
    {
     "name": "stdout",
     "output_type": "stream",
     "text": [
      "3,101 of 5,563 genes have at least one significant UTR variant.\n",
      "1,983 of these 3,101 genes have at least one significant variant in their own UTR.\n"
     ]
    }
   ],
   "source": [
    "n = (gene_gb.utr.sum() > 0).value_counts()[True]\n",
    "print('{:,} of {:,} genes have at least one significant UTR variant.'.format(\n",
    "    n, len(set(sig_variants.gene))))\n",
    "m = (gene_gb.utr_same_gene.sum() > 0).value_counts()[True]\n",
    "print('{:,} of these {:,} genes have at least one significant variant in their own UTR.'.format(\n",
    "    m, n))"
   ]
  },
  {
   "cell_type": "code",
   "execution_count": 47,
   "metadata": {
    "collapsed": false
   },
   "outputs": [
    {
     "data": {
      "image/png": "[encoded data removed]",
      "text/plain": [
       "<matplotlib.figure.Figure at 0x7f8d41d4af90>"
      ]
     },
     "metadata": {},
     "output_type": "display_data"
    }
   ],
   "source": [
    "fig, axs = plt.subplots(1, 2, figsize=[12, 4])\n",
    "ax = gene_gb.utr.sum().hist(log=True, bins=range(0, int(gene_gb.utr.sum().max())), ax=axs[0])\n",
    "ax.set_ylabel('Number of UTR variants')\n",
    "ax.set_xlabel('Number of genes')\n",
    "ax = gene_gb.utr_same_gene.sum().hist(log=True, bins=range(0, int(gene_gb.utr.sum().max())), ax=axs[1])\n",
    "ax.set_ylabel('Number of UTR variants in same gene')\n",
    "ax.set_xlabel('Number of genes');"
   ]
  },
  {
   "cell_type": "code",
   "execution_count": 48,
   "metadata": {
    "collapsed": false
   },
   "outputs": [
    {
     "name": "stdout",
     "output_type": "stream",
     "text": [
      "iPS_DF_6.9_roadmap_dnase\t0.05%\n",
      "iPS_DF_19.11_roadmap_dnase\t0.05%\n",
      "H1_roadmap_dnase\t0.04%\n",
      "H9_roadmap_dnase\t0.05%\n",
      "iPSC_ENCSR000EKK_dnase\t0.04%\n",
      "iPSC_ENCSR000EKJ_dnase\t0.04%\n",
      "iPSC_ENCSR000EKI_dnase\t0.05%\n",
      "iPSC_ENCSR000EKH_dnase\t0.02%\n",
      "H7-hESC_ENCSR000EMZ_dnase\t0.02%\n",
      "H1-hESC_ENCSR000EMU_dnase\t0.01%\n",
      "H9_ENCSR000EJP_dnase\t0.02%\n",
      "H7-hESC_ENCSR000EJO_dnase\t0.07%\n",
      "H1-hESC_ENCSR000EJN_dnase\t0.06%\n"
     ]
    }
   ],
   "source": [
    "# ENCSR000EMU is probably the best ENCODE DNase to use.\n",
    "for c in [x for x in sig_variants.columns if 'dnase' in x]:\n",
    "    vc = sig_variants[c].value_counts()\n",
    "    print('{}\\t{:.2f}%'.format(c, float(vc[True]) / vc.sum()))"
   ]
  },
  {
   "cell_type": "code",
   "execution_count": 49,
   "metadata": {
    "collapsed": false
   },
   "outputs": [
    {
     "data": {
      "image/png": "[encoded data removed]",
      "text/plain": [
       "<matplotlib.figure.Figure at 0x7f8d41d8f410>"
      ]
     },
     "metadata": {},
     "output_type": "display_data"
    }
   ],
   "source": [
    "vc = sig_variants.ix[sig_variants['H1-hESC_ENCSR000EMU_dnase'] == True, 'gene'].value_counts()\n",
    "vc.hist(bins=range(0, vc.max() + 1))\n",
    "plt.ylabel('Number of genes')\n",
    "plt.xlabel('Number of variants overlapping DNase peak');"
   ]
  },
  {
   "cell_type": "code",
   "execution_count": 50,
   "metadata": {
    "collapsed": false
   },
   "outputs": [
    {
     "data": {
      "text/plain": [
       "not_imbalanced           26362\n",
       "imbalanced_(5%_FDR)       5439\n",
       "imbalanced_(0.1%_FDR)      592\n",
       "Name: significance.level_maurano, dtype: int64"
      ]
     },
     "execution_count": 50,
     "metadata": {},
     "output_type": "execute_result"
    }
   ],
   "source": [
    "sig_variants['significance.level_maurano'].value_counts()"
   ]
  },
  {
   "cell_type": "code",
   "execution_count": 51,
   "metadata": {
    "collapsed": false
   },
   "outputs": [
    {
     "data": {
      "text/plain": [
       "not_imbalanced           297687\n",
       "imbalanced_(5%_FDR)       55141\n",
       "imbalanced_(0.1%_FDR)      9456\n",
       "Name: significance.level_maurano, dtype: int64"
      ]
     },
     "execution_count": 51,
     "metadata": {},
     "output_type": "execute_result"
    }
   ],
   "source": [
    "maurano_res['significance.level_maurano'].value_counts()"
   ]
  },
  {
   "cell_type": "code",
   "execution_count": 52,
   "metadata": {
    "collapsed": false
   },
   "outputs": [
    {
     "data": {
      "image/png": "[encoded data removed]",
      "text/plain": [
       "<matplotlib.figure.Figure at 0x7f8d41d8cc50>"
      ]
     },
     "metadata": {},
     "output_type": "display_data"
    }
   ],
   "source": [
    "sig_variants['q.value_maurano'].hist(bins=100)\n",
    "plt.ylabel('Number of variants')\n",
    "plt.xlabel('Maurano $q$-value');"
   ]
  },
  {
   "cell_type": "code",
   "execution_count": 53,
   "metadata": {
    "collapsed": false
   },
   "outputs": [
    {
     "data": {
      "image/png": "[encoded data removed]",
      "text/plain": [
       "<matplotlib.figure.Figure at 0x7f8d4207f450>"
      ]
     },
     "metadata": {},
     "output_type": "display_data"
    }
   ],
   "source": [
    "se = sig_variants['q.value_maurano'].dropna()\n",
    "se += se[se > 0].min()\n",
    "(-np.log10(se)).hist(bins=100)\n",
    "plt.ylabel('Number of variants')\n",
    "plt.xlabel('Maurano $-\\log_{10}q$-value');"
   ]
  },
  {
   "cell_type": "markdown",
   "metadata": {},
   "source": [
    "### Single variant genes\n",
    "\n",
    "I'm going to look at genes for which there is only one significant\n",
    "variant. In theory, these should often be the causal variants."
   ]
  },
  {
   "cell_type": "code",
   "execution_count": 54,
   "metadata": {
    "collapsed": true
   },
   "outputs": [],
   "source": [
    "se = sig_variants.gene.value_counts() == 1\n",
    "genes = set(se[se].index)\n",
    "tdf = sig_variants[sig_variants.gene.apply(lambda x: x in genes)]"
   ]
  },
  {
   "cell_type": "code",
   "execution_count": 55,
   "metadata": {
    "collapsed": false
   },
   "outputs": [
    {
     "name": "stdout",
     "output_type": "stream",
     "text": [
      "98 of 713 genes have an exonic variant.\n",
      "49 of 713 genes have a UTR variant.\n",
      "33 of 713 genes have a variant in H1-hESC_ENCSR000EMU DNase peaks.\n"
     ]
    }
   ],
   "source": [
    "n = tdf.exonic.value_counts()[True]\n",
    "print('{} of {} genes have an exonic variant.'.format(n, tdf.shape[0]))\n",
    "n = tdf.utr.value_counts()[True]\n",
    "print('{} of {} genes have a UTR variant.'.format(n, tdf.shape[0]))\n",
    "n = tdf['H1-hESC_ENCSR000EMU_dnase'].value_counts()[True]\n",
    "print('{} of {} genes have a variant in H1-hESC_ENCSR000EMU DNase peaks.'.format(n, tdf.shape[0]))"
   ]
  },
  {
   "cell_type": "code",
   "execution_count": 56,
   "metadata": {
    "collapsed": false
   },
   "outputs": [
    {
     "data": {
      "text/plain": [
       "not_imbalanced           0.821695\n",
       "imbalanced_(5%_FDR)      0.152204\n",
       "imbalanced_(0.1%_FDR)    0.026101\n",
       "Name: significance.level_maurano, dtype: float64"
      ]
     },
     "execution_count": 56,
     "metadata": {},
     "output_type": "execute_result"
    }
   ],
   "source": [
    "maurano_res['significance.level_maurano'].value_counts() / maurano_res.shape[0]"
   ]
  },
  {
   "cell_type": "code",
   "execution_count": 57,
   "metadata": {
    "collapsed": false
   },
   "outputs": [
    {
     "data": {
      "text/plain": [
       "not_imbalanced           0.813818\n",
       "imbalanced_(5%_FDR)      0.167907\n",
       "imbalanced_(0.1%_FDR)    0.018276\n",
       "Name: significance.level_maurano, dtype: float64"
      ]
     },
     "execution_count": 57,
     "metadata": {},
     "output_type": "execute_result"
    }
   ],
   "source": [
    "sig_variants['significance.level_maurano'].value_counts() / sig_variants['significance.level_maurano'].value_counts().sum()"
   ]
  },
  {
   "cell_type": "code",
   "execution_count": 58,
   "metadata": {
    "collapsed": false
   },
   "outputs": [
    {
     "data": {
      "text/plain": [
       "not_imbalanced           0.804348\n",
       "imbalanced_(5%_FDR)      0.184783\n",
       "imbalanced_(0.1%_FDR)    0.010870\n",
       "Name: significance.level_maurano, dtype: float64"
      ]
     },
     "execution_count": 58,
     "metadata": {},
     "output_type": "execute_result"
    }
   ],
   "source": [
    "tdf['significance.level_maurano'].value_counts() / tdf['significance.level_maurano'].value_counts().sum()"
   ]
  },
  {
   "cell_type": "code",
   "execution_count": 59,
   "metadata": {
    "collapsed": true
   },
   "outputs": [],
   "source": [
    "t = sig_variants.sort_values(by=['gene', 'pvalue'])\n",
    "t = t.drop_duplicates(subset='gene')"
   ]
  },
  {
   "cell_type": "code",
   "execution_count": 60,
   "metadata": {
    "collapsed": false
   },
   "outputs": [
    {
     "data": {
      "text/plain": [
       "not_imbalanced           0.741210\n",
       "imbalanced_(5%_FDR)      0.241913\n",
       "imbalanced_(0.1%_FDR)    0.016878\n",
       "Name: significance.level_maurano, dtype: float64"
      ]
     },
     "execution_count": 60,
     "metadata": {},
     "output_type": "execute_result"
    }
   ],
   "source": [
    "t['significance.level_maurano'].value_counts() / t['significance.level_maurano'].value_counts().sum()"
   ]
  },
  {
   "cell_type": "markdown",
   "metadata": {},
   "source": [
    "## Fine Mapping\n",
    "\n",
    "[Wen et al. 2015](http://journals.plos.org/plosgenetics/article?id=10.1371/journal.pgen.1005176) says 50% of cis-eQTLs are concentrated within 20kb of the TSS.\n",
    "\n",
    "I'll start by removing genes that have significant variants in their exons or\n",
    "UTRs or are predicted to undergo NMD."
   ]
  },
  {
   "cell_type": "raw",
   "metadata": {
    "collapsed": false
   },
   "source": [
    "sig_variants_f = sig_variants[\n",
    "    (sig_variants.gene_has_exonic_same_gene_variant == False) & \n",
    "    (sig_variants.gene_has_utr_same_gene_variant == False) &\n",
    "    (sig_variants.gene_has_nmd_variant == False)]\n",
    "a = len(set(sig_variants_f.gene))\n",
    "b = len(set(sig_variants.gene))\n",
    "print('{:,} of {:,} genes don\\'t have a significant variant in the same genes\\' '\n",
    "      'exon or UTR.'.format(a, b))"
   ]
  },
  {
   "cell_type": "code",
   "execution_count": 507,
   "metadata": {
    "collapsed": false
   },
   "outputs": [
    {
     "name": "stdout",
     "output_type": "stream",
     "text": [
      "5,553 of 5,563 genes don't have a significant NMD variant.\n"
     ]
    }
   ],
   "source": [
    "sig_variants_f = sig_variants[(sig_variants.gene_has_nmd_variant == False)]\n",
    "a = len(set(sig_variants_f.gene))\n",
    "b = len(set(sig_variants.gene))\n",
    "print('{:,} of {:,} genes don\\'t have a significant NMD variant.'.format(a, b))"
   ]
  },
  {
   "cell_type": "code",
   "execution_count": 508,
   "metadata": {
    "collapsed": false
   },
   "outputs": [
    {
     "data": {
      "image/png": "[encoded data removed]",
      "text/plain": [
       "<matplotlib.figure.Figure at 0x7f8d02533590>"
      ]
     },
     "metadata": {},
     "output_type": "display_data"
    }
   ],
   "source": [
    "sig_variants_f['roadmap_dnase_num'] = \\\n",
    "    sig_variants_f[[x for x in sig_variants_f.columns \n",
    "                    if '_roadmap_dnase' in x]].sum(axis=1)\n",
    "\n",
    "se = sig_variants_f.roadmap_dnase_num.value_counts()\n",
    "se = se[range(se.shape[0])]\n",
    "se.plot(kind='bar')\n",
    "plt.ylabel('Number of variants')\n",
    "plt.xlabel('Number of DNase peaks overlapping');"
   ]
  },
  {
   "cell_type": "markdown",
   "metadata": {},
   "source": [
    "I'm going to keep variants that have some evidence of being functional."
   ]
  },
  {
   "cell_type": "code",
   "execution_count": 509,
   "metadata": {
    "collapsed": false
   },
   "outputs": [
    {
     "name": "stdout",
     "output_type": "stream",
     "text": [
      "3,630 of 5,553 genes have a putative causal variant.\n"
     ]
    }
   ],
   "source": [
    "a = len(set(sig_variants_f.gene))\n",
    "sig_variants_f = sig_variants_f[\n",
    "    (sig_variants_f.roadmap_dnase_num > 2) | \n",
    "    (sig_variants_f['significance.level_maurano'] == 'imbalanced_(5%_FDR)') | \n",
    "    (sig_variants_f['significance.level_maurano'] == 'imbalanced_(0.1%_FDR)') | \n",
    "    (sig_variants_f.tf_disruption)]\n",
    "b = len(set(sig_variants_f.gene))\n",
    "print('{:,} of {:,} genes have a putative causal variant.'.format(b, a))"
   ]
  },
  {
   "cell_type": "markdown",
   "metadata": {},
   "source": [
    "I'm going to assign variants ranks based on whether\n",
    "\n",
    "1. Overlaps 2 or more DNase peaks and significant in Maurano **or**\n",
    "overlaps 2 or more DNase peaks and disrupts a TF\n",
    "2. Disrupts a TF\n",
    "3. Significant in Maurano\n",
    "4. Everything else\n",
    "\n",
    "I'll sort by this rank and then keep the variant closest to the TSS."
   ]
  },
  {
   "cell_type": "code",
   "execution_count": 510,
   "metadata": {
    "collapsed": false
   },
   "outputs": [],
   "source": [
    "sig_variants_f['variant_rank'] = np.nan\n",
    "a = sig_variants_f[\n",
    "    (sig_variants_f.roadmap_dnase_num >= 2) & \n",
    "    ((sig_variants_f['significance.level_maurano'] == 'imbalanced_(0.1%_FDR)') |\n",
    "     (sig_variants_f['significance.level_maurano'] == 'imbalanced_(5%_FDR)'))]\n",
    "b = sig_variants_f[(sig_variants_f.roadmap_dnase_num >= 2) & \n",
    "                   (sig_variants_f.tf_disruption)]\n",
    "t = pd.concat([a, b]).drop_duplicates()\n",
    "sig_variants_f.ix[t.index, 'variant_rank'] = 1\n",
    "\n",
    "sig_variants_f.ix[sig_variants_f.tf_disruption & \n",
    "                  sig_variants_f.variant_rank.isnull(), 'variant_rank'] = 2\n",
    "\n",
    "sig_variants_f.ix[\n",
    "    ((sig_variants_f['significance.level_maurano'] == 'imbalanced_(0.1%_FDR)') |\n",
    "     (sig_variants_f['significance.level_maurano'] == 'imbalanced_(5%_FDR)')) &\n",
    "    sig_variants_f.variant_rank.isnull(), 'variant_rank'] = 3\n",
    "\n",
    "sig_variants_f.ix[sig_variants_f.variant_rank.isnull(), 'variant_rank'] = 4"
   ]
  },
  {
   "cell_type": "code",
   "execution_count": 511,
   "metadata": {
    "collapsed": true
   },
   "outputs": [],
   "source": [
    "sig_variants_f = sig_variants_f.sort_values(by=['variant_rank', 'tss_dist_abs'])\n",
    "sig_variants_f = sig_variants_f.drop_duplicates(subset='gene')"
   ]
  },
  {
   "cell_type": "code",
   "execution_count": 512,
   "metadata": {
    "collapsed": false
   },
   "outputs": [
    {
     "data": {
      "text/plain": [
       "True     2388\n",
       "False    1242\n",
       "Name: tf_disruption, dtype: int64"
      ]
     },
     "execution_count": 512,
     "metadata": {},
     "output_type": "execute_result"
    }
   ],
   "source": [
    "sig_variants_f.tf_disruption.value_counts()"
   ]
  },
  {
   "cell_type": "code",
   "execution_count": 513,
   "metadata": {
    "collapsed": false
   },
   "outputs": [
    {
     "data": {
      "text/plain": [
       "imbalanced_(5%_FDR)      1043\n",
       "not_imbalanced            711\n",
       "imbalanced_(0.1%_FDR)      98\n",
       "Name: significance.level_maurano, dtype: int64"
      ]
     },
     "execution_count": 513,
     "metadata": {},
     "output_type": "execute_result"
    }
   ],
   "source": [
    "sig_variants_f['significance.level_maurano'].value_counts()"
   ]
  },
  {
   "cell_type": "code",
   "execution_count": 514,
   "metadata": {
    "collapsed": false
   },
   "outputs": [],
   "source": [
    "s = sig_variants_f[[x for x in sig_variants_f.columns if '_tf_disrupted' in x]].sum()\n",
    "s = s[s > 0]\n",
    "s.sort_values(inplace=True, ascending=False)"
   ]
  },
  {
   "cell_type": "code",
   "execution_count": 515,
   "metadata": {
    "collapsed": false
   },
   "outputs": [],
   "source": [
    "fn = os.path.join(ciepy.root, 'output', 'ji_et_al_2015_processing', 'interactions.tsv')\n",
    "interactions = pd.read_table(fn)\n",
    "\n",
    "fn = os.path.join(ciepy.root, 'output', 'ji_et_al_2015_processing', \n",
    "                  'gene_to_containing_interactions.pickle')\n",
    "gene_to_containing_interactions = cPickle.load(open(fn))\n",
    "\n",
    "fn = os.path.join(ciepy.root, 'output', 'ji_et_al_2015_processing',\n",
    "                  'chia_to_exon_gene.pickle')\n",
    "chia_to_exon_gene = cPickle.load(open(fn))\n",
    "fn = os.path.join(ciepy.root, 'output', 'ji_et_al_2015_processing',\n",
    "                  'chia_to_promoter_gene.pickle')\n",
    "chia_to_promoter_gene = cPickle.load(open(fn))\n",
    "\n",
    "fn = os.path.join(ciepy.root, 'output', 'ji_et_al_2015_processing',\n",
    "                  'chia_peaks.bed')\n",
    "chia_peaks = pbt.BedTool(fn)"
   ]
  },
  {
   "cell_type": "code",
   "execution_count": 516,
   "metadata": {
    "collapsed": true
   },
   "outputs": [],
   "source": [
    "most_sig_f = most_sig.ix[sig_variants_f.gene]"
   ]
  },
  {
   "cell_type": "raw",
   "metadata": {},
   "source": [
    "s = '\\n'.join(interactions[interactions.intra & interactions.pin_loop].loop.apply(\n",
    "        lambda x: '\\t'.join(cpb.general.parse_region(x)))) + '\\n'\n",
    "loop_bt = pbt.BedTool(s, from_string=True)\n",
    "loop_bt = loop_bt.sort()"
   ]
  },
  {
   "cell_type": "raw",
   "metadata": {},
   "source": [
    "s = '\\n'.join(sig_variants_f.variant.apply(\n",
    "        lambda x: '\\t'.join(cpb.general.parse_region(x)))) + '\\n'\n",
    "var_bt = pbt.BedTool(s, from_string=True)\n",
    "var_bt = var_bt.sort()\n",
    "\n",
    "res = var_bt.intersect(loop_bt, wo=True, sorted=True)\n",
    "d = {}\n",
    "for r in res:\n",
    "    ind = '{}:{}-{}'.format(r.chrom, r.start, r.end)\n",
    "    d[ind] = d.get(ind, set()) | set(['{}:{}-{}'.format(*r.fields[-4:-1])])\n",
    "se = pd.Series(d)\n",
    "    \n",
    "sig_variants_f = sig_variants_f.merge(pd.DataFrame({'variant_loops': se}), \n",
    "                                      left_on='variant', right_index=True, how='left')\n",
    "\n",
    "sig_variants_f['gene_loops'] = gene_to_containing_interactions[sig_variants_f.gene].values"
   ]
  },
  {
   "cell_type": "raw",
   "metadata": {},
   "source": [
    "t = sig_variants_f[(sig_variants_f.variant_loops.isnull() == False) & \n",
    "                   (sig_variants_f.gene_loops.isnull() == False)]\n",
    "intersect = t.apply(lambda x: x['variant_loops'] & x['gene_loops'], axis=1)"
   ]
  },
  {
   "cell_type": "raw",
   "metadata": {},
   "source": [
    "most_sig['variant'] = (most_sig.chrom + ':' + most_sig.start.astype(str) + \n",
    "                       '-' + most_sig.end.astype(str))\n",
    "most_sig.index = [x.split(':')[-1] for x in most_sig.index]"
   ]
  },
  {
   "cell_type": "raw",
   "metadata": {},
   "source": [
    "s = '\\n'.join(most_sig_f.variant.apply(\n",
    "        lambda x: '\\t'.join(cpb.general.parse_region(x)))) + '\\n'\n",
    "var_bt = pbt.BedTool(s, from_string=True)\n",
    "var_bt = var_bt.sort()\n",
    "\n",
    "res = var_bt.intersect(loop_bt, wo=True, sorted=True)\n",
    "d = {}\n",
    "for r in res:\n",
    "    ind = '{}:{}-{}'.format(r.chrom, r.start, r.end)\n",
    "    d[ind] = d.get(ind, set()) | set(['{}:{}-{}'.format(*r.fields[-4:-1])])\n",
    "se = pd.Series(d)\n",
    "    \n",
    "most_sig_f = most_sig_f.merge(pd.DataFrame({'variant_loops': se}), \n",
    "                              left_on='variant', right_index=True, how='left')\n",
    "\n",
    "most_sig_f['gene_loops'] = gene_to_containing_interactions[most_sig_f.index].values"
   ]
  },
  {
   "cell_type": "raw",
   "metadata": {},
   "source": [
    "t = most_sig_f[(most_sig_f.variant_loops.isnull() == False) & \n",
    "               (most_sig_f.gene_loops.isnull() == False)]\n",
    "ms_intersect = t.apply(lambda x: x['variant_loops'] & x['gene_loops'], axis=1)"
   ]
  },
  {
   "cell_type": "raw",
   "metadata": {},
   "source": [
    "intersect.apply(lambda x: len(x) > 0).value_counts()"
   ]
  },
  {
   "cell_type": "raw",
   "metadata": {},
   "source": [
    "ms_intersect.apply(lambda x: len(x) > 0).value_counts()"
   ]
  },
  {
   "cell_type": "code",
   "execution_count": 517,
   "metadata": {
    "collapsed": false
   },
   "outputs": [],
   "source": [
    "s = '\\n'.join(sig_variants_f.variant.apply(\n",
    "        lambda x: '\\t'.join(cpb.general.parse_region(x)))) + '\\n'\n",
    "var_bt = pbt.BedTool(s, from_string=True)\n",
    "var_bt = var_bt.sort()\n",
    "res = var_bt.intersect(chia_peaks, wo=True, sorted=True)\n",
    "d = {}\n",
    "for r in res:\n",
    "    ind = '{}:{}-{}'.format(r.chrom, r.start, r.end)\n",
    "    d[ind] = d.get(ind, set()) | set(['{}:{}-{}'.format(*r.fields[-4:-1])])\n",
    "se = pd.Series(d)\n",
    "    \n",
    "sig_variants_f = sig_variants_f.merge(pd.DataFrame({'chia_peaks': se}), \n",
    "                                      left_on='variant', right_index=True, how='left')"
   ]
  },
  {
   "cell_type": "code",
   "execution_count": 518,
   "metadata": {
    "collapsed": true
   },
   "outputs": [],
   "source": [
    "s = '\\n'.join(most_sig_f.variant.apply(\n",
    "        lambda x: '\\t'.join(cpb.general.parse_region(x)))) + '\\n'\n",
    "var_bt = pbt.BedTool(s, from_string=True)\n",
    "var_bt = var_bt.sort()\n",
    "res = var_bt.intersect(chia_peaks, wo=True, sorted=True)\n",
    "d = {}\n",
    "for r in res:\n",
    "    ind = '{}:{}-{}'.format(r.chrom, r.start, r.end)\n",
    "    d[ind] = d.get(ind, set()) | set(['{}:{}-{}'.format(*r.fields[-4:-1])])\n",
    "se = pd.Series(d)\n",
    "    \n",
    "most_sig_f = most_sig_f.merge(pd.DataFrame({'chia_peaks': se}), \n",
    "                              left_on='variant', right_index=True, how='left')"
   ]
  },
  {
   "cell_type": "code",
   "execution_count": 519,
   "metadata": {
    "collapsed": false
   },
   "outputs": [],
   "source": [
    "def get_other_end(peaks):\n",
    "    if type(peaks) is set:\n",
    "        other_ends = []\n",
    "        for p in peaks:\n",
    "            other_ends += list(interactions.ix[interactions.peak1 == p, 'peak2'])\n",
    "            other_ends += list(interactions.ix[interactions.peak2 == p, 'peak1'])\n",
    "        return set(other_ends)\n",
    "    else:\n",
    "        return np.nan"
   ]
  },
  {
   "cell_type": "code",
   "execution_count": 520,
   "metadata": {
    "collapsed": false
   },
   "outputs": [],
   "source": [
    "sig_variants_f['chia_interaction_peak'] = sig_variants_f.chia_peaks.apply(lambda x: get_other_end(x))\n",
    "most_sig_f['chia_interaction_peak'] = most_sig_f.chia_peaks.apply(lambda x: get_other_end(x))"
   ]
  },
  {
   "cell_type": "code",
   "execution_count": 521,
   "metadata": {
    "collapsed": true
   },
   "outputs": [],
   "source": [
    "def get_promoter_gene(peaks):\n",
    "    if type(peaks) is set:\n",
    "        peaks = peaks & set(chia_to_promoter_gene.index)\n",
    "        genes = []\n",
    "        for p in peaks:\n",
    "            genes += list(chia_to_promoter_gene[p])\n",
    "        out = set(genes)\n",
    "        if len(out) == 0:\n",
    "            return np.nan\n",
    "        else:\n",
    "            return out\n",
    "    else:\n",
    "        return np.nan"
   ]
  },
  {
   "cell_type": "code",
   "execution_count": 522,
   "metadata": {
    "collapsed": false
   },
   "outputs": [],
   "source": [
    "sig_variants_f['chia_interaction_promoter_gene'] = \\\n",
    "    sig_variants_f.chia_interaction_peak.apply(lambda x: get_promoter_gene(x))\n",
    "most_sig_f['chia_interaction_promoter_gene'] = \\\n",
    "    most_sig_f.chia_interaction_peak.apply(lambda x: get_promoter_gene(x))"
   ]
  },
  {
   "cell_type": "code",
   "execution_count": 523,
   "metadata": {
    "collapsed": false
   },
   "outputs": [],
   "source": [
    "sig_variants_f['interacts_with_promoter'] = np.nan\n",
    "t = sig_variants_f[sig_variants_f.chia_interaction_promoter_gene.isnull() == False]\n",
    "se = t.apply(lambda x: x['gene'] in x['chia_interaction_promoter_gene'], axis=1)\n",
    "sig_variants_f.ix[se.index, 'interacts_with_promoter'] = se"
   ]
  },
  {
   "cell_type": "code",
   "execution_count": 524,
   "metadata": {
    "collapsed": false
   },
   "outputs": [],
   "source": [
    "most_sig_f['interacts_with_promoter'] = np.nan\n",
    "t = most_sig_f[most_sig_f.chia_interaction_promoter_gene.isnull() == False]\n",
    "se = t.apply(lambda x: x['gene'] in x['chia_interaction_promoter_gene'], axis=1)\n",
    "most_sig_f.ix[se.index, 'interacts_with_promoter'] = se"
   ]
  },
  {
   "cell_type": "code",
   "execution_count": 525,
   "metadata": {
    "collapsed": true
   },
   "outputs": [],
   "source": [
    "most_sig_f.index = most_sig_f.variant + ':' + most_sig_f.gene"
   ]
  },
  {
   "cell_type": "code",
   "execution_count": 526,
   "metadata": {
    "collapsed": true
   },
   "outputs": [],
   "source": [
    "s = set(sig_variants_f.index) & set(most_sig_f.index)"
   ]
  },
  {
   "cell_type": "code",
   "execution_count": 527,
   "metadata": {
    "collapsed": false
   },
   "outputs": [
    {
     "data": {
      "text/plain": [
       "(3235, 409)"
      ]
     },
     "execution_count": 527,
     "metadata": {},
     "output_type": "execute_result"
    }
   ],
   "source": [
    "sig_variants_f.drop(s).shape"
   ]
  },
  {
   "cell_type": "code",
   "execution_count": 528,
   "metadata": {
    "collapsed": false
   },
   "outputs": [
    {
     "data": {
      "text/plain": [
       "112"
      ]
     },
     "execution_count": 528,
     "metadata": {},
     "output_type": "execute_result"
    }
   ],
   "source": [
    "sig_variants_f.drop(s).interacts_with_promoter.sum()"
   ]
  },
  {
   "cell_type": "code",
   "execution_count": 529,
   "metadata": {
    "collapsed": false
   },
   "outputs": [
    {
     "data": {
      "text/plain": [
       "(3235, 28)"
      ]
     },
     "execution_count": 529,
     "metadata": {},
     "output_type": "execute_result"
    }
   ],
   "source": [
    "most_sig_f.drop(s).shape"
   ]
  },
  {
   "cell_type": "code",
   "execution_count": 530,
   "metadata": {
    "collapsed": false
   },
   "outputs": [
    {
     "data": {
      "text/plain": [
       "27"
      ]
     },
     "execution_count": 530,
     "metadata": {},
     "output_type": "execute_result"
    }
   ],
   "source": [
    "most_sig_f.drop(s).interacts_with_promoter.sum()"
   ]
  },
  {
   "cell_type": "code",
   "execution_count": 531,
   "metadata": {
    "collapsed": true
   },
   "outputs": [],
   "source": [
    "import scipy.stats as stats"
   ]
  },
  {
   "cell_type": "code",
   "execution_count": 532,
   "metadata": {
    "collapsed": false
   },
   "outputs": [
    {
     "data": {
      "text/plain": [
       "(4.2610500349853533, 9.51736036725767e-14)"
      ]
     },
     "execution_count": 532,
     "metadata": {},
     "output_type": "execute_result"
    }
   ],
   "source": [
    "stats.fisher_exact([[112, 3235 - 112], [27, 3235 - 27]])"
   ]
  },
  {
   "cell_type": "code",
   "execution_count": 539,
   "metadata": {
    "collapsed": false
   },
   "outputs": [
    {
     "name": "stdout",
     "output_type": "stream",
     "text": [
      "chrom\n",
      "beg\n",
      "end\n",
      "marker_id\n",
      "ns\n",
      "ac\n",
      "callrate\n",
      "genocnt\n",
      "maf\n",
      "stat\n",
      "pvalue\n",
      "beta\n",
      "sebeta\n",
      "r2\n",
      "perm_pval\n",
      "gene\n",
      "variant\n",
      "most_sig_variant\n",
      "variant_gene\n",
      "nmd_num_transcripts\n",
      "nmd_percent_transcripts_nmd\n",
      "nmd\n",
      "gene_has_nmd_variant\n",
      "exonic_same_gene\n",
      "exonic\n",
      "gene_has_exonic_variant\n",
      "gene_has_exonic_same_gene_variant\n",
      "utr_same_gene\n",
      "utr\n",
      "gene_has_utr_variant\n",
      "gene_has_utr_same_gene_variant\n",
      "tss_dist\n",
      "tss_dist_abs\n",
      "rs_maurano\n",
      "numhets_maurano\n",
      "allele.1_maurano\n",
      "readsA_maurano\n",
      "allele.2_maurano\n",
      "readsB_maurano\n",
      "totalReads_maurano\n",
      "pctRef_maurano\n",
      "q.value_maurano\n",
      "significance.level_maurano\n",
      "rsid_maurano_tf\n",
      "pred.fit.pctSig_maurano_tf\n",
      "strand_maurano_tf\n",
      "motifname_maurano_tf\n",
      "position_maurano_tf\n",
      "genotypes_maurano_tf\n",
      "iPS_DF_6.9_roadmap_dnase\n",
      "iPS_DF_19.11_roadmap_dnase\n",
      "H1_roadmap_dnase\n",
      "H9_roadmap_dnase\n",
      "iPSC_ENCSR000EKK_dnase\n",
      "iPSC_ENCSR000EKJ_dnase\n",
      "iPSC_ENCSR000EKI_dnase\n",
      "iPSC_ENCSR000EKH_dnase\n",
      "H7-hESC_ENCSR000EMZ_dnase\n",
      "H1-hESC_ENCSR000EMU_dnase\n",
      "H9_ENCSR000EJP_dnase\n",
      "H7-hESC_ENCSR000EJO_dnase\n",
      "H1-hESC_ENCSR000EJN_dnase\n",
      "SUZ12_tf_chip\n",
      "MAX_tf_chip\n",
      "CTBP2_tf_chip\n",
      "ZNF274_tf_chip\n",
      "RFX5_tf_chip\n",
      "RAD21_tf_chip\n",
      "USF2_tf_chip\n",
      "NRF1_tf_chip\n",
      "TBP_tf_chip\n",
      "JUN_tf_chip\n",
      "JUND_tf_chip\n",
      "MYC_tf_chip\n",
      "BRCA1_tf_chip\n",
      "ZNF143_tf_chip\n",
      "CEBPB_tf_chip\n",
      "CHD1_tf_chip\n",
      "CHD2_tf_chip\n",
      "MAFK_tf_chip\n",
      "MXI1_tf_chip\n",
      "BACH1_tf_chip\n",
      "GTF2F1_tf_chip\n",
      "SIN3A_tf_chip\n",
      "H3K27me3_tf_chip\n",
      "H3K36me3_tf_chip\n",
      "H3K4me3_tf_chip\n",
      "CTCF_tf_chip\n",
      "POLR2A_tf_chip\n",
      "TEAD4_tf_chip\n",
      "SP4_tf_chip\n",
      "ATF2_tf_chip\n",
      "SP2_tf_chip\n",
      "FOSL1_tf_chip\n",
      "HDAC2_tf_chip\n",
      "POU5F1_tf_chip\n",
      "NANOG_tf_chip\n",
      "TAF7_tf_chip\n",
      "EP300_tf_chip\n",
      "YY1_tf_chip\n",
      "ATF3_tf_chip\n",
      "RXRA_tf_chip\n",
      "EGR1_tf_chip\n",
      "GABPA_tf_chip\n",
      "SRF_tf_chip\n",
      "USF1_tf_chip\n",
      "TCF12_tf_chip\n",
      "SP1_tf_chip\n",
      "SIX5_tf_chip\n",
      "BCL11A_tf_chip\n",
      "POLR2AphosphoS5_tf_chip\n",
      "TAF1_tf_chip\n",
      "REST_tf_chip\n",
      "RBBP5_tf_chip\n",
      "EZH2_tf_chip\n",
      "KDM5A_tf_chip\n",
      "ref_allele\n",
      "alt_allele\n",
      "AP1_disc1_motif_disrupted\n",
      "AP1_disc4_motif_disrupted\n",
      "AP1_disc6_motif_disrupted\n",
      "AP1_disc8_motif_disrupted\n",
      "AP1_disc9_motif_disrupted\n",
      "ATF2_1_motif_disrupted\n",
      "ATF2_2_motif_disrupted\n",
      "ATF3_disc1_motif_disrupted\n",
      "ATF3_disc2_motif_disrupted\n",
      "ATF3_disc3_motif_disrupted\n",
      "ATF3_disc4_motif_disrupted\n",
      "ATF3_known9_motif_disrupted\n",
      "BACH1_1_motif_disrupted\n",
      "BCL_disc2_motif_disrupted\n",
      "BCL_disc4_motif_disrupted\n",
      "BRCA1_disc1_motif_disrupted\n",
      "BRCA1_known1_motif_disrupted\n",
      "BRCA1_known2_motif_disrupted\n",
      "CEBPB_disc1_motif_disrupted\n",
      "CEBPB_disc2_motif_disrupted\n",
      "CEBPB_known1_motif_disrupted\n",
      "CEBPB_known10_motif_disrupted\n",
      "CEBPB_known2_motif_disrupted\n",
      "CEBPB_known8_motif_disrupted\n",
      "CEBPB_known9_motif_disrupted\n",
      "CHD2_disc1_motif_disrupted\n",
      "CHD2_disc2_motif_disrupted\n",
      "CHD2_disc3_motif_disrupted\n",
      "CTCF_disc1_motif_disrupted\n",
      "CTCF_disc10_motif_disrupted\n",
      "CTCF_disc2_motif_disrupted\n",
      "CTCF_disc3_motif_disrupted\n",
      "CTCF_disc4_motif_disrupted\n",
      "CTCF_disc5_motif_disrupted\n",
      "CTCF_disc6_motif_disrupted\n",
      "CTCF_disc7_motif_disrupted\n",
      "CTCF_disc8_motif_disrupted\n",
      "CTCF_disc9_motif_disrupted\n",
      "CTCF_known1_motif_disrupted\n",
      "CTCF_known2_motif_disrupted\n",
      "EGR1_disc1_motif_disrupted\n",
      "EGR1_disc2_motif_disrupted\n",
      "EGR1_disc3_motif_disrupted\n",
      "EGR1_disc4_motif_disrupted\n",
      "EGR1_disc5_motif_disrupted\n",
      "EGR1_disc6_motif_disrupted\n",
      "EGR1_disc7_motif_disrupted\n",
      "EGR1_known1_motif_disrupted\n",
      "EGR1_known12_motif_disrupted\n",
      "EGR1_known5_motif_disrupted\n",
      "EGR1_known6_motif_disrupted\n",
      "EGR1_known7_motif_disrupted\n",
      "EGR1_known8_motif_disrupted\n",
      "EGR1_known9_motif_disrupted\n",
      "EP300_disc1_motif_disrupted\n",
      "EP300_disc10_motif_disrupted\n",
      "EP300_disc2_motif_disrupted\n",
      "EP300_disc3_motif_disrupted\n",
      "EP300_disc4_motif_disrupted\n",
      "EP300_disc5_motif_disrupted\n",
      "EP300_disc6_motif_disrupted\n",
      "EP300_disc7_motif_disrupted\n",
      "EP300_disc8_motif_disrupted\n",
      "EP300_disc9_motif_disrupted\n",
      "EP300_known1_motif_disrupted\n",
      "ETS_disc2_motif_disrupted\n",
      "ETS_disc4_motif_disrupted\n",
      "ETS_disc8_motif_disrupted\n",
      "ETS_disc9_motif_disrupted\n",
      "ETS_known10_motif_disrupted\n",
      "ETS_known18_motif_disrupted\n",
      "ETS_known9_motif_disrupted\n",
      "HDAC2_disc1_motif_disrupted\n",
      "HDAC2_disc2_motif_disrupted\n",
      "HDAC2_disc3_motif_disrupted\n",
      "HDAC2_disc4_motif_disrupted\n",
      "HDAC2_disc5_motif_disrupted\n",
      "HDAC2_disc6_motif_disrupted\n",
      "MAF_disc1_motif_disrupted\n",
      "MAF_known5_motif_disrupted\n",
      "MAF_known6_motif_disrupted\n",
      "MAF_known7_motif_disrupted\n",
      "MAF_known8_motif_disrupted\n",
      "MAF_known9_motif_disrupted\n",
      "MXI1_disc1_motif_disrupted\n",
      "MXI1_disc2_motif_disrupted\n",
      "MYC_disc1_motif_disrupted\n",
      "MYC_disc10_motif_disrupted\n",
      "MYC_disc2_motif_disrupted\n",
      "MYC_disc3_motif_disrupted\n",
      "MYC_disc4_motif_disrupted\n",
      "MYC_disc5_motif_disrupted\n",
      "MYC_disc6_motif_disrupted\n",
      "MYC_disc7_motif_disrupted\n",
      "MYC_disc8_motif_disrupted\n",
      "MYC_disc9_motif_disrupted\n",
      "MYC_known10_motif_disrupted\n",
      "MYC_known12_motif_disrupted\n",
      "MYC_known13_motif_disrupted\n",
      "MYC_known14_motif_disrupted\n",
      "MYC_known15_motif_disrupted\n",
      "MYC_known17_motif_disrupted\n",
      "MYC_known18_motif_disrupted\n",
      "MYC_known19_motif_disrupted\n",
      "MYC_known2_motif_disrupted\n",
      "MYC_known20_motif_disrupted\n",
      "MYC_known21_motif_disrupted\n",
      "MYC_known22_motif_disrupted\n",
      "NANOG_disc1_motif_disrupted\n",
      "NANOG_disc2_motif_disrupted\n",
      "NANOG_disc3_motif_disrupted\n",
      "NANOG_disc4_motif_disrupted\n",
      "NANOG_known1_motif_disrupted\n",
      "NRF1_disc1_motif_disrupted\n",
      "NRF1_disc2_motif_disrupted\n",
      "NRF1_disc3_motif_disrupted\n",
      "NRF1_known1_motif_disrupted\n",
      "NRF1_known2_motif_disrupted\n",
      "POU5F1_disc1_motif_disrupted\n",
      "POU5F1_disc2_motif_disrupted\n",
      "POU5F1_known1_motif_disrupted\n",
      "POU5F1_known2_motif_disrupted\n",
      "POU5F1_known3_motif_disrupted\n",
      "RAD21_disc1_motif_disrupted\n",
      "RAD21_disc10_motif_disrupted\n",
      "RAD21_disc2_motif_disrupted\n",
      "RAD21_disc3_motif_disrupted\n",
      "RAD21_disc4_motif_disrupted\n",
      "RAD21_disc5_motif_disrupted\n",
      "RAD21_disc6_motif_disrupted\n",
      "RAD21_disc7_motif_disrupted\n",
      "RAD21_disc8_motif_disrupted\n",
      "RAD21_disc9_motif_disrupted\n",
      "REST_disc1_motif_disrupted\n",
      "REST_disc10_motif_disrupted\n",
      "REST_disc2_motif_disrupted\n",
      "REST_disc3_motif_disrupted\n",
      "REST_disc4_motif_disrupted\n",
      "REST_disc5_motif_disrupted\n",
      "REST_disc6_motif_disrupted\n",
      "REST_disc7_motif_disrupted\n",
      "REST_disc8_motif_disrupted\n",
      "REST_disc9_motif_disrupted\n",
      "REST_known1_motif_disrupted\n",
      "REST_known2_motif_disrupted\n",
      "REST_known3_motif_disrupted\n",
      "REST_known4_motif_disrupted\n",
      "RFX5_disc1_motif_disrupted\n",
      "RFX5_disc2_motif_disrupted\n",
      "RFX5_disc3_motif_disrupted\n",
      "RFX5_known8_motif_disrupted\n",
      "RFX5_known9_motif_disrupted\n",
      "RXRA_disc2_motif_disrupted\n",
      "RXRA_disc3_motif_disrupted\n",
      "RXRA_disc4_motif_disrupted\n",
      "RXRA_disc5_motif_disrupted\n",
      "RXRA_known10_motif_disrupted\n",
      "RXRA_known11_motif_disrupted\n",
      "RXRA_known12_motif_disrupted\n",
      "RXRA_known13_motif_disrupted\n",
      "RXRA_known14_motif_disrupted\n",
      "RXRA_known15_motif_disrupted\n",
      "RXRA_known3_motif_disrupted\n",
      "RXRA_known4_motif_disrupted\n",
      "RXRA_known6_motif_disrupted\n",
      "RXRA_known8_motif_disrupted\n",
      "RXRA_known9_motif_disrupted\n",
      "SIN3A_disc1_motif_disrupted\n",
      "SIN3A_disc2_motif_disrupted\n",
      "SIN3A_disc3_motif_disrupted\n",
      "SIN3A_disc4_motif_disrupted\n",
      "SIN3A_disc5_motif_disrupted\n",
      "SIN3A_disc6_motif_disrupted\n",
      "SIN3A_disc7_motif_disrupted\n",
      "SIX5_disc1_motif_disrupted\n",
      "SIX5_disc2_motif_disrupted\n",
      "SIX5_disc3_motif_disrupted\n",
      "SIX5_disc4_motif_disrupted\n",
      "SP1_disc1_motif_disrupted\n",
      "SP1_disc2_motif_disrupted\n",
      "SP1_disc3_motif_disrupted\n",
      "SP1_known1_motif_disrupted\n",
      "SP1_known2_motif_disrupted\n",
      "SP1_known4_motif_disrupted\n",
      "SP1_known5_motif_disrupted\n",
      "SP1_known6_motif_disrupted\n",
      "SP1_known7_motif_disrupted\n",
      "SP1_known8_motif_disrupted\n",
      "SP2_disc1_motif_disrupted\n",
      "SP2_disc2_motif_disrupted\n",
      "SP2_disc3_motif_disrupted\n",
      "SP4_1_motif_disrupted\n",
      "SP4_2_motif_disrupted\n",
      "SRF_disc1_motif_disrupted\n",
      "SRF_disc2_motif_disrupted\n",
      "SRF_known1_motif_disrupted\n",
      "SRF_known10_motif_disrupted\n",
      "SRF_known2_motif_disrupted\n",
      "SRF_known3_motif_disrupted\n",
      "SRF_known4_motif_disrupted\n",
      "SRF_known5_motif_disrupted\n",
      "SRF_known6_motif_disrupted\n",
      "SRF_known7_motif_disrupted\n",
      "SRF_known8_motif_disrupted\n",
      "SRF_known9_motif_disrupted\n",
      "TATA_disc1_motif_disrupted\n",
      "TATA_disc10_motif_disrupted\n",
      "TATA_disc2_motif_disrupted\n",
      "TATA_disc3_motif_disrupted\n",
      "TATA_disc4_motif_disrupted\n",
      "TATA_disc5_motif_disrupted\n",
      "TATA_disc6_motif_disrupted\n",
      "TATA_disc7_motif_disrupted\n",
      "TATA_disc8_motif_disrupted\n",
      "TATA_disc9_motif_disrupted\n",
      "TATA_known1_motif_disrupted\n",
      "TATA_known2_motif_disrupted\n",
      "TATA_known3_motif_disrupted\n",
      "TATA_known4_motif_disrupted\n",
      "TATA_known5_motif_disrupted\n",
      "TATA_known6_motif_disrupted\n",
      "TCF12_disc1_motif_disrupted\n",
      "TCF12_disc2_motif_disrupted\n",
      "TCF12_disc3_motif_disrupted\n",
      "TCF12_disc4_motif_disrupted\n",
      "TCF12_disc5_motif_disrupted\n",
      "TCF12_disc6_motif_disrupted\n",
      "TCF12_known1_motif_disrupted\n",
      "TEAD4_1_motif_disrupted\n",
      "YY1_disc1_motif_disrupted\n",
      "YY1_disc2_motif_disrupted\n",
      "YY1_disc3_motif_disrupted\n",
      "YY1_disc4_motif_disrupted\n",
      "YY1_disc5_motif_disrupted\n",
      "YY1_known1_motif_disrupted\n",
      "YY1_known2_motif_disrupted\n",
      "YY1_known3_motif_disrupted\n",
      "YY1_known4_motif_disrupted\n",
      "YY1_known5_motif_disrupted\n",
      "YY1_known6_motif_disrupted\n",
      "YY1_known7_motif_disrupted\n",
      "ZNF143_disc1_motif_disrupted\n",
      "ZNF143_disc2_motif_disrupted\n",
      "ZNF143_disc3_motif_disrupted\n",
      "ZNF143_disc4_motif_disrupted\n",
      "ZNF143_known1_motif_disrupted\n",
      "ZNF143_known2_motif_disrupted\n",
      "AP1_tf_disrupted\n",
      "ATF2_tf_disrupted\n",
      "ATF3_tf_disrupted\n",
      "BACH1_tf_disrupted\n",
      "BCL_tf_disrupted\n",
      "BRCA1_tf_disrupted\n",
      "CEBPB_tf_disrupted\n",
      "CHD2_tf_disrupted\n",
      "CTCF_tf_disrupted\n",
      "EGR1_tf_disrupted\n",
      "EP300_tf_disrupted\n",
      "ETS_tf_disrupted\n",
      "HDAC2_tf_disrupted\n",
      "MAF_tf_disrupted\n",
      "MXI1_tf_disrupted\n",
      "MYC_tf_disrupted\n",
      "NANOG_tf_disrupted\n",
      "NRF1_tf_disrupted\n",
      "POU5F1_tf_disrupted\n",
      "RAD21_tf_disrupted\n",
      "REST_tf_disrupted\n",
      "RFX5_tf_disrupted\n",
      "RXRA_tf_disrupted\n",
      "SIN3A_tf_disrupted\n",
      "SIX5_tf_disrupted\n",
      "SP1_tf_disrupted\n",
      "SP2_tf_disrupted\n",
      "SP4_tf_disrupted\n",
      "SRF_tf_disrupted\n",
      "TATA_tf_disrupted\n",
      "TCF12_tf_disrupted\n",
      "TEAD4_tf_disrupted\n",
      "YY1_tf_disrupted\n",
      "ZNF143_tf_disrupted\n",
      "tf_disruption\n",
      "promoter_same_gene\n",
      "promoter\n",
      "gene_has_promoter_same_gene_variant\n",
      "roadmap_dnase_num\n",
      "variant_rank\n",
      "chia_peaks\n",
      "chia_interaction_peak\n",
      "chia_interaction_promoter_gene\n",
      "interacts_with_promoter\n"
     ]
    }
   ],
   "source": [
    "print('\\n'.join(sig_variants_f.columns))"
   ]
  },
  {
   "cell_type": "code",
   "execution_count": 534,
   "metadata": {
    "collapsed": false
   },
   "outputs": [
    {
     "data": {
      "text/plain": [
       "True     2388\n",
       "False    1242\n",
       "Name: tf_disruption, dtype: int64"
      ]
     },
     "execution_count": 534,
     "metadata": {},
     "output_type": "execute_result"
    }
   ],
   "source": [
    "sig_variants_f.tf_disruption.value_counts()"
   ]
  },
  {
   "cell_type": "code",
   "execution_count": 537,
   "metadata": {
    "collapsed": false
   },
   "outputs": [
    {
     "data": {
      "text/plain": [
       "imbalanced_(5%_FDR)      1043\n",
       "not_imbalanced            711\n",
       "imbalanced_(0.1%_FDR)      98\n",
       "Name: significance.level_maurano, dtype: int64"
      ]
     },
     "execution_count": 537,
     "metadata": {},
     "output_type": "execute_result"
    }
   ],
   "source": [
    "sig_variants_f['significance.level_maurano'].value_counts()"
   ]
  },
  {
   "cell_type": "code",
   "execution_count": 547,
   "metadata": {
    "collapsed": false
   },
   "outputs": [],
   "source": [
    "se = sig_variants_f[[x for x in sig_variants_f.columns if '_tf_disrupted' in x]].sum()\n",
    "se.sort_values(inplace=True, ascending=False)"
   ]
  },
  {
   "cell_type": "code",
   "execution_count": 550,
   "metadata": {
    "collapsed": false
   },
   "outputs": [
    {
     "data": {
      "text/plain": [
       "TATA_tf_disrupted      608\n",
       "SIN3A_tf_disrupted     418\n",
       "YY1_tf_disrupted       193\n",
       "ZNF143_tf_disrupted    193\n",
       "RAD21_tf_disrupted     147\n",
       "MYC_tf_disrupted       129\n",
       "CTCF_tf_disrupted      121\n",
       "SP1_tf_disrupted       119\n",
       "EP300_tf_disrupted     115\n",
       "SP4_tf_disrupted       100\n",
       "ETS_tf_disrupted        82\n",
       "CHD2_tf_disrupted       80\n",
       "EGR1_tf_disrupted       67\n",
       "ATF3_tf_disrupted       65\n",
       "NRF1_tf_disrupted       63\n",
       "MXI1_tf_disrupted       50\n",
       "TCF12_tf_disrupted      49\n",
       "REST_tf_disrupted       36\n",
       "SRF_tf_disrupted        30\n",
       "HDAC2_tf_disrupted      30\n",
       "NANOG_tf_disrupted      23\n",
       "SP2_tf_disrupted        20\n",
       "AP1_tf_disrupted        18\n",
       "CEBPB_tf_disrupted      16\n",
       "TEAD4_tf_disrupted      11\n",
       "ATF2_tf_disrupted       11\n",
       "POU5F1_tf_disrupted     10\n",
       "RXRA_tf_disrupted       10\n",
       "BRCA1_tf_disrupted      10\n",
       "MAF_tf_disrupted         9\n",
       "BACH1_tf_disrupted       7\n",
       "RFX5_tf_disrupted        5\n",
       "BCL_tf_disrupted         5\n",
       "SIX5_tf_disrupted        4\n",
       "dtype: float64"
      ]
     },
     "execution_count": 550,
     "metadata": {},
     "output_type": "execute_result"
    }
   ],
   "source": [
    "se"
   ]
  },
  {
   "cell_type": "code",
   "execution_count": null,
   "metadata": {
    "collapsed": true
   },
   "outputs": [],
   "source": []
  },
  {
   "cell_type": "code",
   "execution_count": null,
   "metadata": {
    "collapsed": true
   },
   "outputs": [],
   "source": []
  }
 ],
 "metadata": {
  "kernelspec": {
   "display_name": "Python 2",
   "language": "python",
   "name": "python2"
  },
  "language_info": {
   "codemirror_mode": {
    "name": "ipython",
    "version": 2
   },
   "file_extension": ".py",
   "mimetype": "text/x-python",
   "name": "python",
   "nbconvert_exporter": "python",
   "pygments_lexer": "ipython2",
   "version": "2.7.10"
  }
 },
 "nbformat": 4,
 "nbformat_minor": 0
}
