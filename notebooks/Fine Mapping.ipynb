{
 "cells": [
  {
   "cell_type": "markdown",
   "metadata": {},
   "source": [
    "# Fine Mapping\n",
    "\n",
    "I want to take the significant eQTL variants and functionally annotate them\n",
    "to try to determine which variants might be causal.\n",
    "\n",
    "I'd like to annotate the variants with various functional annotations. I'd also\n",
    "like to search for TF motif disruptions and perhaps use phasing information\n",
    "and allelic bias."
   ]
  },
  {
   "cell_type": "code",
   "execution_count": 1,
   "metadata": {
    "collapsed": false
   },
   "outputs": [],
   "source": [
    "import cPickle\n",
    "import glob\n",
    "import os\n",
    "import re\n",
    "import subprocess\n",
    "import urllib2\n",
    "\n",
    "import cdpybio as cpb\n",
    "import matplotlib.pyplot as plt\n",
    "import numpy as np\n",
    "import pandas as pd\n",
    "pd.options.mode.chained_assignment = None\n",
    "import pybedtools as pbt\n",
    "import scipy.stats as stats\n",
    "import seaborn as sns\n",
    "import tabix\n",
    "import vcf as pyvcf\n",
    "\n",
    "import cardipspy as cpy\n",
    "import ciepy\n",
    "\n",
    "%matplotlib inline\n",
    "\n",
    "dy_name = 'fine_mapping'\n",
    "\n",
    "import socket\n",
    "if socket.gethostname() == 'fl-hn1' or socket.gethostname() == 'fl-hn2':\n",
    "    dy = os.path.join(ciepy.root, 'sandbox', 'tmp', dy_name)\n",
    "    cpy.makedir(dy)\n",
    "    pbt.set_tempdir(dy)\n",
    "    \n",
    "outdir = os.path.join(ciepy.root, 'output', dy_name)\n",
    "cpy.makedir(outdir)\n",
    "\n",
    "private_outdir = os.path.join(ciepy.root, 'private_output', dy_name)\n",
    "cpy.makedir(private_outdir)"
   ]
  },
  {
   "cell_type": "code",
   "execution_count": 2,
   "metadata": {
    "collapsed": false
   },
   "outputs": [],
   "source": [
    "tg = pd.read_table(cpy.gencode_transcript_gene, index_col=0, \n",
    "                   header=None, squeeze=True)\n",
    "gene_info = pd.read_table(cpy.gencode_gene_info, index_col=0)\n",
    "transcript_to_gene = pd.read_table(cpy.gencode_transcript_gene, header=None, \n",
    "                                   squeeze=True, index_col=0)\n",
    "fn = os.path.join(ciepy.root, 'output', 'eqtl_input', \n",
    "                  'tpm_log_filtered_phe_std_norm_peer_resid.tsv')\n",
    "exp = pd.read_table(fn, index_col=0)\n",
    "\n",
    "fn = os.path.join(ciepy.root, 'output', 'eqtl_processing', 'eqtls01', 'qvalues.tsv')\n",
    "qvalues = pd.read_table(fn, index_col=0)\n",
    "\n",
    "fn = os.path.join(ciepy.root, 'output', 'eqtl_processing', 'eqtls01', 'lead_variants_single.tsv')\n",
    "lead_variants_single = pd.read_table(fn, index_col=0)\n",
    "lead_variants_single_f = lead_variants_single[lead_variants_single.perm_sig]\n",
    "\n",
    "genes = pbt.BedTool(cpy.gencode_gene_bed)\n",
    "\n",
    "fn = os.path.join(os.path.split(cpy.roadmap_15_state_annotation)[0], 'EIDlegend.txt')\n",
    "roadmap_ids = pd.read_table(fn, squeeze=True, index_col=0, header=None)\n",
    "\n",
    "fn = os.path.join(ciepy.root, 'output', 'eqtl_processing', 'eqtls01', 'gene_variant_pairs.tsv')\n",
    "gene_variants = pd.read_table(fn, index_col=0)\n",
    "\n",
    "fn = os.path.join(ciepy.root, 'output', 'functional_annotation_analysis',\n",
    "                  'encode_stem_cell_chip_seq.tsv')\n",
    "encode_chip_seq = pd.read_table(fn, index_col=0)\n",
    "\n",
    "ensg = pd.Series(gene_info.index, index=[x.split('.')[0] for x in gene_info.index])"
   ]
  },
  {
   "cell_type": "code",
   "execution_count": 3,
   "metadata": {
    "collapsed": true
   },
   "outputs": [],
   "source": [
    "# ASE results.\n",
    "fn = os.path.join(ciepy.root, 'output', 'input_data', \n",
    "                  'mbased_major_allele_freq.tsv')\n",
    "maj_af = pd.read_table(fn, index_col=0)\n",
    "\n",
    "fn = os.path.join(ciepy.root, 'output', 'input_data', \n",
    "                  'mbased_p_val_ase.tsv')\n",
    "ase_pval = pd.read_table(fn, index_col=0)\n",
    "\n",
    "locus_p = pd.Panel({'major_allele_freq':maj_af, 'p_val_ase':ase_pval})\n",
    "locus_p = locus_p.swapaxes(0, 2)\n",
    "\n",
    "snv_fns = glob.glob(os.path.join(ciepy.root, 'private_output', 'input_data', 'mbased_snv',\n",
    "                                 '*_snv.tsv'))\n",
    "count_fns = glob.glob(os.path.join(ciepy.root, 'private_output', 'input_data', 'allele_counts',\n",
    "                                   '*mbased_input.tsv'))\n",
    "\n",
    "snv_res = {}\n",
    "for fn in snv_fns:\n",
    "    snv_res[os.path.split(fn)[1].split('_')[0]] = pd.read_table(fn, index_col=0)\n",
    "    \n",
    "count_res = {}\n",
    "for fn in count_fns:\n",
    "    count_res[os.path.split(fn)[1].split('_')[0]] = pd.read_table(fn, index_col=0)\n",
    "\n",
    "snv_p = pd.Panel(snv_res)"
   ]
  },
  {
   "cell_type": "code",
   "execution_count": 4,
   "metadata": {
    "collapsed": true
   },
   "outputs": [],
   "source": [
    "fn = os.path.join(ciepy.root, 'output', 'motif_search', 'matrices.pickle')\n",
    "with open(fn) as f:\n",
    "    matrices = cPickle.load(f)\n",
    "fn = os.path.join(ciepy.root, 'output', 'motif_search', 'motif_info_full.tsv')\n",
    "motif_info = pd.read_table(fn, index_col=0)\n",
    "fn = os.path.join(ciepy.root, 'output', 'motif_search', 'motif_info_rep.tsv')\n",
    "motif_info_rep = pd.read_table(fn, index_col=0)\n",
    "\n",
    "# tf_cols = [x for x in gene_variants.columns if 'tf_chip' in x]\n",
    "# tdf = gene_variants[['location', 'ref_allele', 'alt_allele'] + tf_cols]\n",
    "# tdf = tdf.drop_duplicates()\n",
    "# tdf.index = tdf.location\n",
    "# tdf = tdf.drop('location', axis=1)\n",
    "# tdf = tdf[tdf[tf_cols].sum(axis=1) > 0]\n",
    "# tdf['tfs'] = tdf.apply(lambda x: set(motif_info.tf) & \n",
    "#                        set([y.split('_')[0] for y in x[tf_cols][x[tf_cols]].index]), axis=1)\n",
    "# tdf = tdf[tdf.tfs.apply(lambda x: len(x)) > 0]\n",
    "# tdf = tdf.drop(tf_cols, axis=1)\n",
    "# tdf['motif_names'] = tdf.tfs.apply(lambda x: list(motif_info[motif_info.tf.apply(lambda y: y in x)].index))"
   ]
  },
  {
   "cell_type": "markdown",
   "metadata": {},
   "source": [
    "I'll drop CNVs since they likely act through different mechanisms than I'm considering here."
   ]
  },
  {
   "cell_type": "code",
   "execution_count": 5,
   "metadata": {
    "collapsed": false
   },
   "outputs": [],
   "source": [
    "gene_variants = gene_variants[gene_variants.variant_type != 'cnv']"
   ]
  },
  {
   "cell_type": "markdown",
   "metadata": {},
   "source": [
    "## *POU5F1*"
   ]
  },
  {
   "cell_type": "raw",
   "metadata": {},
   "source": [
    "tdf = gene_variants[gene_variants.gene_name == 'POU5F1']\n",
    "s = '\\n'.join(tdf.chrom + '\\t' + tdf.start.astype(str) + '\\t' + \n",
    "              tdf.end.astype(str) + '\\t' + pd.Series(tdf.index, index=tdf.index))\n",
    "bt = pbt.BedTool(s, from_string=True)"
   ]
  },
  {
   "cell_type": "raw",
   "metadata": {},
   "source": [
    "cpb.moodsext.find_motif_disruptions(tdf.ix[0, 'location'], tdf.ix[0, 'ref'],\n",
    "                                    tdf.ix[0, 'alt'], cpy.hg19, matrices)"
   ]
  },
  {
   "cell_type": "raw",
   "metadata": {},
   "source": [
    "?cpb.moodsext.find_motif_disruptions"
   ]
  },
  {
   "cell_type": "raw",
   "metadata": {},
   "source": [
    "cpb.moodsext.find_motif_disruptions(\n",
    "            i, tdf.ix[i, 'ref_allele'], tdf.ix[i, 'alt_allele'], cpy.hg19, \n",
    "            {k:matrices[k] for k in tdf.ix[i, 'motif_names']}), tdf.index)\n",
    "    cols = motif_info[motif_info.tf.apply(lambda x: x in [x.split('_')[0] for x in tf_cols])].index\n",
    "    motif_d = pd.DataFrame(index=tdf.index, columns=cols)"
   ]
  },
  {
   "cell_type": "markdown",
   "metadata": {},
   "source": [
    "## Predicted NMD\n",
    "\n",
    "I'll use the snpEff annotation of the WGS to look for predicted NMD. I'd like to\n",
    "see if any of the significant variants are predicted to cause NMD for the eQTL\n",
    "gene.\n",
    "\n",
    "If snpEff predicts NMD for a gene, the annotation looks like\n",
    "\n",
    "    PITRM1|ENSG00000107959|11|0.27\n",
    "    \n",
    "This means that PITRM1 has 11 transcripts and 27% of them are predicted to have NMD."
   ]
  },
  {
   "cell_type": "code",
   "execution_count": 6,
   "metadata": {
    "collapsed": false
   },
   "outputs": [],
   "source": [
    "fns = glob.glob('/projects/CARDIPS/pipeline/WGS/mergedVCF/annotation/vcf/*snpeff.vcf.gz')\n",
    "fns = [x for x in fns if len(re.findall('chr\\d{1,2}', x)) > 0]\n",
    "fns = pd.Series(fns, index=[re.findall('chr\\d{1,2}', x)[0] for x in fns])\n",
    "\n",
    "for vcf in fns.values:\n",
    "    out = os.path.join(private_outdir, os.path.split(vcf)[1].replace('.vcf.gz', '_nmd.vcf'))\n",
    "    if not os.path.exists(out):\n",
    "        !zcat {vcf} | java -jar /software/snpEff_v4_1l_core/SnpSift.jar filter \"NMD[*]\" > {out}"
   ]
  },
  {
   "cell_type": "code",
   "execution_count": 7,
   "metadata": {
    "collapsed": false
   },
   "outputs": [],
   "source": [
    "fns = glob.glob(os.path.join(private_outdir, '*_nmd.vcf'))\n",
    "variants = []\n",
    "nmd = []\n",
    "for fn in fns:\n",
    "    vcf_reader = pyvcf.Reader(open(fn))\n",
    "    for r in vcf_reader:\n",
    "        variants.append('chr{}:{}-{}'.format(r.CHROM, r.POS - 1, r.POS))\n",
    "        nmd.append(r.INFO['NMD'])\n",
    "ind = []\n",
    "vals = []\n",
    "for i, v in enumerate(variants):\n",
    "    r = nmd[i]\n",
    "    for n in r:\n",
    "        gene_name, gene_id, num_t, per_t = n.strip(')').split('|')\n",
    "        ind.append(v + ':' + ensg[gene_id])\n",
    "        vals.append([int(num_t), float(per_t)])\n",
    "nmd = pd.DataFrame(vals, index=ind, columns=['nmd_num_transcripts', 'nmd_percent_transcripts_nmd'])"
   ]
  },
  {
   "cell_type": "code",
   "execution_count": 8,
   "metadata": {
    "collapsed": false
   },
   "outputs": [],
   "source": [
    "tdf = nmd.ix[set(nmd.index) & set(gene_variants.index)]"
   ]
  },
  {
   "cell_type": "code",
   "execution_count": 9,
   "metadata": {
    "collapsed": true
   },
   "outputs": [],
   "source": [
    "gene_variants = gene_variants.join(tdf)"
   ]
  },
  {
   "cell_type": "code",
   "execution_count": 10,
   "metadata": {
    "collapsed": false
   },
   "outputs": [],
   "source": [
    "gene_variants['nmd'] = False\n",
    "gene_variants.ix[gene_variants.dropna(subset=['nmd_num_transcripts']).index, 'nmd'] = True"
   ]
  },
  {
   "cell_type": "code",
   "execution_count": 11,
   "metadata": {
    "collapsed": false
   },
   "outputs": [],
   "source": [
    "g = set(gene_variants.ix[gene_variants.nmd, 'gene_id'])\n",
    "df = pd.DataFrame(True, index=g, columns=['gene_has_nmd_variant'])\n",
    "gene_variants = gene_variants.merge(df, left_on='gene_id', right_index=True, how='left')\n",
    "gene_variants.ix[gene_variants.gene_has_nmd_variant.isnull(), 'gene_has_nmd_variant'] = False"
   ]
  },
  {
   "cell_type": "markdown",
   "metadata": {},
   "source": [
    "## Exons, UTRs, and Promoters\n",
    "\n",
    "I'll annotate whether variants fall in exons, UTRs or promoters for their significant\n",
    "genes."
   ]
  },
  {
   "cell_type": "code",
   "execution_count": 12,
   "metadata": {
    "collapsed": false
   },
   "outputs": [],
   "source": [
    "gene_variants_bt = pbt.BedTool('\\n'.join(set(gene_variants.apply(lambda x: '{}\\t{}\\t{}'.format(\n",
    "                    x['chrom'], x['start'], x['end']), axis=1))), from_string=True)\n",
    "gene_variants_bt = gene_variants_bt.sort()"
   ]
  },
  {
   "cell_type": "code",
   "execution_count": 13,
   "metadata": {
    "collapsed": true
   },
   "outputs": [],
   "source": [
    "exons = pbt.BedTool(cpy.gencode_exon_bed)\n",
    "utrs = pbt.BedTool(cpy.gencode_utr_bed)\n",
    "promoters = pbt.BedTool(cpy.gencode_promoter_bed)"
   ]
  },
  {
   "cell_type": "code",
   "execution_count": 14,
   "metadata": {
    "collapsed": false
   },
   "outputs": [],
   "source": [
    "res = gene_variants_bt.intersect(exons, wo=True, sorted=True)\n",
    "df = res.to_dataframe()\n",
    "df.index = df.chrom + ':' + df.start.astype(str) + '-' + df.end.astype(str)\n",
    "df['gene'] = transcript_to_gene[df.thickStart].values\n",
    "df['val'] = pd.Series(df.index, index=df.index) + ':' + df.gene\n",
    "df = df.drop_duplicates(subset='val')\n",
    "gene_variants['exonic_same_gene'] = False\n",
    "gene_variants.ix[set(df.val) & set(gene_variants.index), 'exonic_same_gene'] = True\n",
    "\n",
    "df['exonic'] = True\n",
    "df['variant'] = df.index\n",
    "df = df.drop_duplicates(subset='variant')\n",
    "gene_variants = gene_variants.merge(df[['exonic']], left_on='location', right_index=True, how='left')\n",
    "gene_variants.ix[gene_variants.exonic.isnull(), 'exonic'] = False"
   ]
  },
  {
   "cell_type": "code",
   "execution_count": 15,
   "metadata": {
    "collapsed": false
   },
   "outputs": [],
   "source": [
    "g = set(gene_variants.ix[gene_variants.exonic, 'gene_id'])\n",
    "df = pd.DataFrame(True, index=g, columns=['gene_has_exonic_variant'])\n",
    "gene_variants = gene_variants.merge(df, left_on='gene_id', right_index=True, how='left')\n",
    "gene_variants.ix[gene_variants.gene_has_exonic_variant.isnull(), 'gene_has_exonic_variant'] = False\n",
    "\n",
    "g = set(gene_variants.ix[gene_variants.exonic_same_gene, 'gene_id'])\n",
    "df = pd.DataFrame(True, index=g, columns=['gene_has_exonic_same_gene_variant'])\n",
    "gene_variants = gene_variants.merge(df, left_on='gene_id', right_index=True, how='left')\n",
    "gene_variants.ix[gene_variants.gene_has_exonic_same_gene_variant.isnull(), 'gene_has_exonic_same_gene_variant'] = False"
   ]
  },
  {
   "cell_type": "code",
   "execution_count": 16,
   "metadata": {
    "collapsed": false
   },
   "outputs": [],
   "source": [
    "res = gene_variants_bt.intersect(utrs, wo=True, sorted=True)\n",
    "df = res.to_dataframe()\n",
    "df.index = df.chrom + ':' + df.start.astype(str) + '-' + df.end.astype(str)\n",
    "df['gene'] = transcript_to_gene[df.thickStart].values\n",
    "df['val'] = pd.Series(df.index, index=df.index) + ':' + df.gene\n",
    "df = df.drop_duplicates(subset='val')\n",
    "gene_variants['utr_same_gene'] = False\n",
    "gene_variants.ix[set(df.val) & set(gene_variants.index), 'utr_same_gene'] = True\n",
    "\n",
    "df['utr'] = True\n",
    "df['variant'] = df.index\n",
    "df = df.drop_duplicates(subset='variant')\n",
    "gene_variants = gene_variants.merge(df[['utr']], left_on='location', right_index=True, how='left')\n",
    "gene_variants.ix[gene_variants.utr.isnull(), 'utr'] = False"
   ]
  },
  {
   "cell_type": "code",
   "execution_count": 17,
   "metadata": {
    "collapsed": false
   },
   "outputs": [],
   "source": [
    "res = gene_variants_bt.intersect(promoters, wo=True, sorted=True)\n",
    "df = res.to_dataframe()\n",
    "df.index = df.chrom + ':' + df.start.astype(str) + '-' + df.end.astype(str)\n",
    "df['gene'] = transcript_to_gene[df.thickStart.apply(lambda x: x.split('_')[0])].values\n",
    "df['val'] = pd.Series(df.index, index=df.index) + ':' + df.gene\n",
    "df = df.drop_duplicates(subset='val')\n",
    "gene_variants['promoter_same_gene'] = False\n",
    "gene_variants.ix[set(df.val) & set(gene_variants.index), 'promoter_same_gene'] = True\n",
    "\n",
    "df['promoter'] = True\n",
    "df['variant'] = df.index\n",
    "df = df.drop_duplicates(subset='variant')\n",
    "gene_variants = gene_variants.merge(df[['promoter']], left_on='location', right_index=True, how='left')\n",
    "gene_variants.ix[gene_variants.promoter.isnull(), 'promoter'] = False"
   ]
  },
  {
   "cell_type": "code",
   "execution_count": 18,
   "metadata": {
    "collapsed": false
   },
   "outputs": [],
   "source": [
    "g = set(gene_variants.ix[gene_variants.utr, 'gene_id'])\n",
    "df = pd.DataFrame(True, index=g, columns=['gene_has_utr_variant'])\n",
    "gene_variants = gene_variants.merge(df, left_on='gene_id', right_index=True, how='left')\n",
    "gene_variants.ix[gene_variants.gene_has_utr_variant.isnull(), 'gene_has_utr_variant'] = False\n",
    "\n",
    "g = set(gene_variants.ix[gene_variants.utr_same_gene, 'gene_id'])\n",
    "df = pd.DataFrame(True, index=g, columns=['gene_has_utr_same_gene_variant'])\n",
    "gene_variants = gene_variants.merge(df, left_on='gene_id', right_index=True, how='left')\n",
    "gene_variants.ix[gene_variants.gene_has_utr_same_gene_variant.isnull(), \n",
    "                'gene_has_utr_same_gene_variant'] = False\n",
    "\n",
    "g = set(gene_variants.ix[gene_variants.promoter_same_gene, 'gene_id'])\n",
    "df = pd.DataFrame(True, index=g, columns=['gene_has_promoter_same_gene_variant'])\n",
    "gene_variants = gene_variants.merge(df, left_on='gene_id', right_index=True, how='left')\n",
    "gene_variants.ix[gene_variants.gene_has_promoter_same_gene_variant.isnull(), \n",
    "                'gene_has_promoter_same_gene_variant'] = False"
   ]
  },
  {
   "cell_type": "markdown",
   "metadata": {},
   "source": [
    "## Maurano et al. 2015 Data\n",
    "\n",
    "I'm going to grab some data from [Maurano *et al.* 2015](http://www.nature.com/ng/journal/v47/n12/full/ng.3432.html).\n",
    "The zip file seems to be corrupted. I was able to manually download on my mac \n",
    "and decompress it using Arhcive Utility but I couldn't get it work from the\n",
    "command line so that this has to be downloaded by hand."
   ]
  },
  {
   "cell_type": "code",
   "execution_count": 19,
   "metadata": {
    "collapsed": false
   },
   "outputs": [],
   "source": [
    "# This has all of the variants tested for imbalance and their significance.\n",
    "maurano_res = pd.read_table('http://www.nature.com/ng/journal/v47/n12/extref/ng.3432-S5.txt')\n",
    "# This has SNVs from dbSNP 138 predicted to affect TF binding.\n",
    "fn = os.path.join(private_outdir, 'ng.3432-S7')\n",
    "if not os.path.exists(fn):\n",
    "    print('Download ng.3432-S7, decompress, and add to private_outdir.')\n",
    "    print('http://www.nature.com/ng/journal/v47/n12/extref/ng.3432-S7.zip')\n",
    "else:\n",
    "    maurano_tf_disrupt = pd.read_table(fn)"
   ]
  },
  {
   "cell_type": "code",
   "execution_count": 20,
   "metadata": {
    "collapsed": false
   },
   "outputs": [
    {
     "data": {
      "text/plain": [
       "(0,)"
      ]
     },
     "execution_count": 20,
     "metadata": {},
     "output_type": "execute_result"
    }
   ],
   "source": [
    "se = maurano_res.chromEnd - maurano_res.chromStart\n",
    "se[se > 1].shape"
   ]
  },
  {
   "cell_type": "markdown",
   "metadata": {},
   "source": [
    "The Maurano results are all SNVs."
   ]
  },
  {
   "cell_type": "code",
   "execution_count": 21,
   "metadata": {
    "collapsed": false
   },
   "outputs": [
    {
     "name": "stdout",
     "output_type": "stream",
     "text": [
      "362284\n",
      "362284\n"
     ]
    }
   ],
   "source": [
    "print(len(set(maurano_res.chrom + ':' + maurano_res.chromStart.astype(str) + '-' + \n",
    "              maurano_res.chromEnd.astype(str))))\n",
    "print(maurano_res.shape[0])"
   ]
  },
  {
   "cell_type": "code",
   "execution_count": 22,
   "metadata": {
    "collapsed": false
   },
   "outputs": [],
   "source": [
    "maurano_res.index = (maurano_res.chrom + ':' + maurano_res.chromStart.astype(str) + \n",
    "                     '-' + maurano_res.chromEnd.astype(str))"
   ]
  },
  {
   "cell_type": "markdown",
   "metadata": {},
   "source": [
    "The Maurano results are all unique variants."
   ]
  },
  {
   "cell_type": "code",
   "execution_count": 23,
   "metadata": {
    "collapsed": false
   },
   "outputs": [
    {
     "data": {
      "text/html": [
       "<div>\n",
       "<table border=\"1\" class=\"dataframe\">\n",
       "  <thead>\n",
       "    <tr style=\"text-align: right;\">\n",
       "      <th></th>\n",
       "      <th>chrom</th>\n",
       "      <th>chromStart</th>\n",
       "      <th>chromEnd</th>\n",
       "      <th>rs</th>\n",
       "      <th>numhets</th>\n",
       "      <th>allele.1</th>\n",
       "      <th>readsA</th>\n",
       "      <th>allele.2</th>\n",
       "      <th>readsB</th>\n",
       "      <th>totalReads</th>\n",
       "      <th>pctRef</th>\n",
       "      <th>q.value</th>\n",
       "      <th>significance.level</th>\n",
       "    </tr>\n",
       "  </thead>\n",
       "  <tbody>\n",
       "    <tr>\n",
       "      <th>chr1:752720-752721</th>\n",
       "      <td>chr1</td>\n",
       "      <td>752720</td>\n",
       "      <td>752721</td>\n",
       "      <td>snp5</td>\n",
       "      <td>33</td>\n",
       "      <td>G</td>\n",
       "      <td>1583</td>\n",
       "      <td>A</td>\n",
       "      <td>1454</td>\n",
       "      <td>3037</td>\n",
       "      <td>0.479</td>\n",
       "      <td>0.0912</td>\n",
       "      <td>not_imbalanced</td>\n",
       "    </tr>\n",
       "  </tbody>\n",
       "</table>\n",
       "</div>"
      ],
      "text/plain": [
       "                   chrom  chromStart  chromEnd    rs  numhets allele.1  \\\n",
       "chr1:752720-752721  chr1      752720    752721  snp5       33        G   \n",
       "\n",
       "                    readsA allele.2  readsB  totalReads  pctRef  q.value  \\\n",
       "chr1:752720-752721    1583        A    1454        3037   0.479   0.0912   \n",
       "\n",
       "                   significance.level  \n",
       "chr1:752720-752721     not_imbalanced  "
      ]
     },
     "execution_count": 23,
     "metadata": {},
     "output_type": "execute_result"
    }
   ],
   "source": [
    "maurano_res.head(1)"
   ]
  },
  {
   "cell_type": "markdown",
   "metadata": {},
   "source": [
    "It seems that the Maurano data is in zero-based coordinates."
   ]
  },
  {
   "cell_type": "code",
   "execution_count": 24,
   "metadata": {
    "collapsed": false
   },
   "outputs": [],
   "source": [
    "maurano_res.columns = ['{}_maurano'.format(c) for c in maurano_res.columns]\n",
    "gene_variants = gene_variants.merge(maurano_res, left_on='location', right_index=True, how='left')\n",
    "gene_variants = gene_variants.drop(['chrom_maurano', 'chromStart_maurano', 'chromEnd_maurano'], axis=1)"
   ]
  },
  {
   "cell_type": "markdown",
   "metadata": {
    "collapsed": true
   },
   "source": [
    "I'll also add in the predicted TF disruptions."
   ]
  },
  {
   "cell_type": "code",
   "execution_count": 25,
   "metadata": {
    "collapsed": false
   },
   "outputs": [],
   "source": [
    "maurano_tf_disrupt.columns = ['{}_maurano_tf'.format(x) for x in maurano_tf_disrupt.columns]\n",
    "maurano_tf_disrupt.index = (maurano_tf_disrupt.chrom_maurano_tf + ':' +\n",
    "                            maurano_tf_disrupt.snpChromStart_maurano_tf.astype(str) + \n",
    "                            '-' + maurano_tf_disrupt.snpChromEnd_maurano_tf.astype(str))\n",
    "gene_variants = gene_variants.merge(maurano_tf_disrupt, left_on='location', \n",
    "                                  right_index=True, how='left')"
   ]
  },
  {
   "cell_type": "code",
   "execution_count": null,
   "metadata": {
    "collapsed": true
   },
   "outputs": [],
   "source": [
    "gene_variants = gene_variants.drop(['chrom_maurano_tf', 'snpChromStart_maurano_tf', \n",
    "                                    'snpChromEnd_maurano_tf'], axis=1)"
   ]
  },
  {
   "cell_type": "markdown",
   "metadata": {
    "collapsed": true
   },
   "source": [
    "## Roadmap DNase"
   ]
  },
  {
   "cell_type": "code",
   "execution_count": null,
   "metadata": {
    "collapsed": false
   },
   "outputs": [],
   "source": [
    "out = os.path.join(outdir, 'roadmap_dnase.tsv')\n",
    "if not os.path.exists(out):\n",
    "    url = ('http://egg2.wustl.edu/roadmap/data/byFileType'\n",
    "           '/peaks/consolidated/narrowPeak/')\n",
    "    website = urllib2.urlopen(url)\n",
    "    html = website.read()\n",
    "    files = re.findall('href=\"(E\\d\\d\\d-DNase.macs2.narrowPeak.gz)\"', html)\n",
    "    roadmap_dnase_res = pd.DataFrame(\n",
    "        -1, index=[x.split('-')[0] for x in files], \n",
    "        columns=['odds_ratio', 'pvalue'])\n",
    "\n",
    "    urls = ['http://egg2.wustl.edu/roadmap/data/byFileType/peaks/consolidated/narrowPeak/{}'.format(n)\n",
    "            for n in files]\n",
    "    lines = ['iPS-15b Cell Line', 'iPS-18 Cell Line', 'iPS-20b Cell Line',\n",
    "             'iPS DF 6.9 Cell Line', 'iPS DF 19.11 Cell Line', 'H1 Cell Line',\n",
    "             'H9 Cell Line']\n",
    "    urls = [x for x in urls if roadmap_ids[os.path.split(x.split('-')[0])[1]] in lines]\n",
    "\n",
    "    df = pd.DataFrame(False, index=set(gene_variants.location), columns=lines)\n",
    "    for url in urls:\n",
    "        line = roadmap_ids[os.path.split(url)[1].split('-')[0]]\n",
    "        bt = pbt.BedTool(cpb.general.read_gzipped_text_url(url), from_string=True).sort()\n",
    "        res = gene_variants_bt.intersect(bt, wa=True)\n",
    "        tdf = res.to_dataframe()\n",
    "        df.ix[(tdf.chrom + ':' + tdf.start.astype(str) + '-' + tdf.end.astype(str)).values, line] = True\n",
    "    df = df.ix[:, df.sum() > 0]\n",
    "    df.columns = [c.replace(' Cell Line', '').replace(' ', '_') + '_roadmap_dnase' for c in df.columns]\n",
    "    df.to_csv(out, sep='\\t')\n",
    "else:\n",
    "    df = pd.read_table(out, index_col=0)\n",
    "\n",
    "gene_variants = gene_variants.merge(df, left_on='location', right_index=True, how='left')"
   ]
  },
  {
   "cell_type": "markdown",
   "metadata": {
    "collapsed": true
   },
   "source": [
    "## ENCODE DNase"
   ]
  },
  {
   "cell_type": "code",
   "execution_count": null,
   "metadata": {
    "collapsed": true
   },
   "outputs": [],
   "source": [
    "out = os.path.join(outdir, 'encode_dnase.tsv')\n",
    "if not os.path.exists(out):\n",
    "    encode_dnase = pd.read_table(os.path.join(ciepy.root, 'output', \n",
    "                                              'functional_annotation_analysis', \n",
    "                                              'encode_dnase.tsv'), index_col=0)\n",
    "    bs_types = ['stem cell', 'induced pluripotent stem cell line']\n",
    "    encode_dnase = encode_dnase[encode_dnase.biosample_type.apply(lambda x: x in bs_types)]\n",
    "\n",
    "    cols = (encode_dnase.cell_type.apply(lambda x: x.replace('induced pluripotent stem cell', 'iPSC')) + \n",
    "            '_' + encode_dnase.index + '_dnase')\n",
    "    df = pd.DataFrame(False, index=set(gene_variants.location), columns=cols)\n",
    "    encode_dnase['col'] = cols\n",
    "    for i in encode_dnase.index:\n",
    "        bt = pbt.BedTool(cpb.general.read_gzipped_text_url(encode_dnase.ix[i, 'narrowPeak_url']), \n",
    "                         from_string=True).sort()\n",
    "        res = gene_variants_bt.intersect(bt, wa=True)\n",
    "        tdf = res.to_dataframe()\n",
    "        df.ix[(tdf.chrom + ':' + tdf.start.astype(str) + '-' + tdf.end.astype(str)).values,\n",
    "              encode_dnase.ix[i, 'col']] = True\n",
    "    df.to_csv(out, sep='\\t')\n",
    "else:\n",
    "    df = pd.read_table(out, index_col=0)\n",
    "\n",
    "gene_variants = gene_variants.merge(df, left_on='location', right_index=True, how='left')"
   ]
  },
  {
   "cell_type": "markdown",
   "metadata": {},
   "source": [
    "## ENCODE Transcription Factor ChIP-Seq"
   ]
  },
  {
   "cell_type": "code",
   "execution_count": null,
   "metadata": {
    "collapsed": false
   },
   "outputs": [],
   "source": [
    "out = os.path.join(outdir, 'encode_tf_chip_seq.tsv')\n",
    "if not os.path.exists(out):\n",
    "    encode_tf_chip_seq = pd.read_table(os.path.join(ciepy.root, 'output', \n",
    "                                                    'functional_annotation_analysis', \n",
    "                                                    'encode_stem_cell_chip_seq.tsv'), index_col=0)\n",
    "    encode_tf_chip_seq = encode_tf_chip_seq.drop_duplicates(subset='target')\n",
    "\n",
    "\n",
    "    cols = encode_tf_chip_seq.target + '_tf_chip'\n",
    "    df = pd.DataFrame(False, index=set(gene_variants.location), columns=cols)\n",
    "    encode_tf_chip_seq['col'] = cols\n",
    "    for i in encode_tf_chip_seq.index:\n",
    "        bt = pbt.BedTool(cpb.general.read_gzipped_text_url(encode_tf_chip_seq.ix[i, 'narrowPeak_url']), \n",
    "                         from_string=True).sort()\n",
    "        res = gene_variants_bt.intersect(bt, wa=True)\n",
    "        tdf = res.to_dataframe()\n",
    "        df.ix[(tdf.chrom + ':' + tdf.start.astype(str) + '-' + tdf.end.astype(str)).values,\n",
    "              encode_tf_chip_seq.ix[i, 'col']] = True\n",
    "\n",
    "    df.to_csv(out, sep='\\t')\n",
    "else:\n",
    "    df = pd.read_table(out, index_col=0)\n",
    "\n",
    "gene_variants = gene_variants.merge(df, left_on='location', right_index=True, how='left')"
   ]
  },
  {
   "cell_type": "markdown",
   "metadata": {},
   "source": [
    "## TF Motif Disruption"
   ]
  },
  {
   "cell_type": "raw",
   "metadata": {
    "collapsed": true
   },
   "source": [
    "gene_variants['ref_allele'] = gene_variants.marker_id.apply(lambda x: x.split('/')[0].split('_')[-1])\n",
    "gene_variants['alt_allele'] = gene_variants.marker_id.apply(lambda x: x.split('/')[1].split('_')[0])"
   ]
  },
  {
   "cell_type": "code",
   "execution_count": null,
   "metadata": {
    "collapsed": false
   },
   "outputs": [],
   "source": [
    "out = os.path.join(outdir, 'tf_disruption.tsv')\n",
    "if not os.path.exists(out):\n",
    "    fn = os.path.join(ciepy.root, 'output', 'motif_search', 'matrices.pickle')\n",
    "    with open(fn) as f:\n",
    "        matrices = cPickle.load(f)\n",
    "    fn = os.path.join(ciepy.root, 'output', 'motif_search', 'motif_info_full.tsv')\n",
    "    motif_info = pd.read_table(fn, index_col=0)\n",
    "    fn = os.path.join(ciepy.root, 'output', 'motif_search', 'motif_info_rep.tsv')\n",
    "    motif_info_rep = pd.read_table(fn, index_col=0)\n",
    "\n",
    "    tf_cols = [x for x in gene_variants.columns if 'tf_chip' in x]\n",
    "    tdf = gene_variants[['location', 'ref', 'alt'] + tf_cols]\n",
    "    tdf = tdf.drop_duplicates()\n",
    "    tdf.index = tdf.location\n",
    "    tdf = tdf.drop('location', axis=1)\n",
    "    tdf = tdf[tdf[tf_cols].sum(axis=1) > 0]\n",
    "    tdf['tfs'] = tdf.apply(lambda x: set(motif_info.tf) & \n",
    "                           set([y.split('_')[0] for y in x[tf_cols][x[tf_cols]].index]), axis=1)\n",
    "    tdf = tdf[tdf.tfs.apply(lambda x: len(x)) > 0]\n",
    "    tdf = tdf.drop(tf_cols, axis=1)\n",
    "    tdf['motif_names'] = tdf.tfs.apply(lambda x: list(motif_info[motif_info.tf.apply(lambda y: y in x)].index))\n",
    "    \n",
    "    from ipyparallel import Client\n",
    "    parallel_client = Client(profile='parallel')\n",
    "    dview = parallel_client[:]\n",
    "    print('Cluster has {} engines.'.format(len(parallel_client.ids)))\n",
    "    \n",
    "    with dview.sync_imports():\n",
    "        import cdpybio\n",
    "        import cardipspy\n",
    "        \n",
    "    %px cpb = cdpybio\n",
    "    %px cpy = cardipspy\n",
    "    \n",
    "    dview.push(dict(tdf=tdf));\n",
    "    dview.push(dict(matrices=matrices));\n",
    "    \n",
    "    res = dview.map_sync(lambda i: cpb.moodsext.find_motif_disruptions(\n",
    "            i, tdf.ix[i, 'ref'], tdf.ix[i, 'alt'], cpy.hg19, \n",
    "            {k:matrices[k] for k in tdf.ix[i, 'motif_names']}), tdf.index)\n",
    "    cols = motif_info[motif_info.tf.apply(lambda x: x in [x.split('_')[0] for x in tf_cols])].index\n",
    "    motif_d = pd.DataFrame(index=tdf.index, columns=cols)\n",
    "    a = []\n",
    "    b = []\n",
    "    for i,p in enumerate(tdf.index):\n",
    "        if res[i].shape[0] > 0:\n",
    "            a.append(p)\n",
    "            b.append(res[i])\n",
    "    d = dict(zip(a,b))\n",
    "    p = pd.Panel(d)\n",
    "    motif_d = p.ix[:, :, 'score_diff'].T\n",
    "    motif_d.to_csv(out, sep='\\t')\n",
    "else:\n",
    "    motif_d = pd.read_table(out, index_col=0)"
   ]
  },
  {
   "cell_type": "markdown",
   "metadata": {},
   "source": [
    "For `motif_d`, the value is reference score minus alternate score. So a positive\n",
    "value means the reference matched the motif better.\n",
    "\n",
    "I'm not sure what score difference constitutes a disruption. Let's\n",
    "take a look at the distribution of differences."
   ]
  },
  {
   "cell_type": "code",
   "execution_count": 35,
   "metadata": {
    "collapsed": false
   },
   "outputs": [
    {
     "data": {
      "image/png": "[encoded data removed]",
      "text/plain": [
       "<matplotlib.figure.Figure at 0x7fb4e8dfaf50>"
      ]
     },
     "metadata": {},
     "output_type": "display_data"
    }
   ],
   "source": [
    "pd.Series(motif_d.values.flatten()).dropna().hist(bins=100)\n",
    "ymin, ymax = plt.ylim()\n",
    "plt.vlines(-2.5, ymin, ymax)\n",
    "plt.vlines(2.5, ymin, ymax)\n",
    "plt.ylabel('Number of differences')\n",
    "plt.xlabel('Score difference');"
   ]
  },
  {
   "cell_type": "markdown",
   "metadata": {},
   "source": [
    "It seems that a score difference greater than 2.5 in magnitude probably\n",
    "represents a pretty big effect. I'll say these are disruptions."
   ]
  },
  {
   "cell_type": "code",
   "execution_count": 36,
   "metadata": {
    "collapsed": false
   },
   "outputs": [],
   "source": [
    "motif_disrupt = motif_d.abs() >= 2.5\n",
    "motif_disrupt.columns = ['{}_motif_disrupted'.format(x) for x in motif_disrupt.columns]\n",
    "gene_variants = gene_variants.merge(motif_disrupt, left_on='location', right_index=True, how='left')"
   ]
  },
  {
   "cell_type": "code",
   "execution_count": 37,
   "metadata": {
    "collapsed": false
   },
   "outputs": [],
   "source": [
    "tf_disrupt = motif_disrupt.copy(deep=True)\n",
    "tf_disrupt.columns = ['{}_tf_disrupted'.format(x.split('_')[0]) for x in tf_disrupt.columns]\n",
    "d = {}\n",
    "for c in set(tf_disrupt.columns):\n",
    "    t = tf_disrupt[c]\n",
    "    if len(t.shape) > 1:\n",
    "        d[c] = (tf_disrupt[c].sum(axis=1) == 1).values\n",
    "    else:\n",
    "        d[c] = t.values\n",
    "tf_disrupt = pd.DataFrame(d, index=tf_disrupt.index)\n",
    "gene_variants = gene_variants.merge(tf_disrupt, left_on='location', right_index=True, how='left')"
   ]
  },
  {
   "cell_type": "code",
   "execution_count": 38,
   "metadata": {
    "collapsed": true
   },
   "outputs": [],
   "source": [
    "disrupted_cols = [x for x in gene_variants.columns if '_motif_disrupted' in x]\n",
    "gene_variants['tf_disruption'] = gene_variants[disrupted_cols].sum(axis=1) > 0"
   ]
  },
  {
   "cell_type": "code",
   "execution_count": 103,
   "metadata": {
    "collapsed": false
   },
   "outputs": [],
   "source": [
    "fn = os.path.join(outdir, 'gene_variants_annotated.pickle')\n",
    "gene_variants.to_pickle(fn)"
   ]
  },
  {
   "cell_type": "markdown",
   "metadata": {},
   "source": [
    "## Motif disruptions"
   ]
  },
  {
   "cell_type": "code",
   "execution_count": null,
   "metadata": {
    "collapsed": true
   },
   "outputs": [],
   "source": [
    "gene_variants.tf_disruption.sum()"
   ]
  },
  {
   "cell_type": "code",
   "execution_count": null,
   "metadata": {
    "collapsed": true
   },
   "outputs": [],
   "source": [
    "2 + 2"
   ]
  },
  {
   "cell_type": "code",
   "execution_count": 108,
   "metadata": {
    "collapsed": true
   },
   "outputs": [],
   "source": [
    "tdf = gene_variants[gene_variants.tf_disruption]"
   ]
  },
  {
   "cell_type": "code",
   "execution_count": 115,
   "metadata": {
    "collapsed": false
   },
   "outputs": [
    {
     "data": {
      "text/plain": [
       "AP1_tf_disrupted         61\n",
       "ATF2_tf_disrupted        28\n",
       "ATF3_tf_disrupted       119\n",
       "BACH1_tf_disrupted       29\n",
       "BCL_tf_disrupted          8\n",
       "BRCA1_tf_disrupted       30\n",
       "CEBPB_tf_disrupted       74\n",
       "CHD2_tf_disrupted       235\n",
       "CTCF_tf_disrupted       411\n",
       "EGR1_tf_disrupted       215\n",
       "EP300_tf_disrupted      320\n",
       "ETS_tf_disrupted        197\n",
       "HDAC2_tf_disrupted      118\n",
       "MAF_tf_disrupted         63\n",
       "MXI1_tf_disrupted       114\n",
       "MYC_tf_disrupted        310\n",
       "NANOG_tf_disrupted       69\n",
       "NRF1_tf_disrupted       209\n",
       "POU5F1_tf_disrupted      14\n",
       "RAD21_tf_disrupted      524\n",
       "REST_tf_disrupted       183\n",
       "RFX5_tf_disrupted        48\n",
       "RXRA_tf_disrupted        20\n",
       "SIN3A_tf_disrupted     1083\n",
       "SIX5_tf_disrupted        33\n",
       "SP1_tf_disrupted        312\n",
       "SP2_tf_disrupted         62\n",
       "SP4_tf_disrupted        230\n",
       "SRF_tf_disrupted         70\n",
       "TATA_tf_disrupted      1324\n",
       "TCF12_tf_disrupted      148\n",
       "TEAD4_tf_disrupted       37\n",
       "YY1_tf_disrupted        502\n",
       "ZNF143_tf_disrupted     515\n",
       "dtype: float64"
      ]
     },
     "execution_count": 115,
     "metadata": {},
     "output_type": "execute_result"
    }
   ],
   "source": [
    "tdf[[x for x in tdf.columns if 'tf_disrupted' in x]].sum()"
   ]
  },
  {
   "cell_type": "markdown",
   "metadata": {
    "collapsed": true
   },
   "source": [
    "## Phasing and ASE\n",
    "\n",
    "Let's consider a putative eQTN. Let's assume that the direction of effect is such that\n",
    "the homozygous alternative genotype has lowest expression. If we have the correct eQTN,\n",
    "a subject who is het for the putative eQTN should see lower expression for the haplotype\n",
    "that contains the alt variant. I can check this for SNVs given that our SNVs are phased."
   ]
  },
  {
   "cell_type": "raw",
   "metadata": {
    "collapsed": false
   },
   "source": [
    "(locus_p[:, :, 'p_val_ase'] < 0.005)"
   ]
  },
  {
   "cell_type": "code",
   "execution_count": null,
   "metadata": {
    "collapsed": true
   },
   "outputs": [],
   "source": []
  },
  {
   "cell_type": "markdown",
   "metadata": {},
   "source": [
    "## Feature Exploration"
   ]
  },
  {
   "cell_type": "code",
   "execution_count": 128,
   "metadata": {
    "collapsed": false
   },
   "outputs": [
    {
     "name": "stdout",
     "output_type": "stream",
     "text": [
      "706 of 5,561 genes have only one significant variant.\n"
     ]
    }
   ],
   "source": [
    "n = (gene_variants.gene_id.value_counts() > 1).value_counts()[False]\n",
    "print('{:,} of {:,} genes have only one significant variant.'.format(n, len(set(gene_variants.gene_id))))"
   ]
  },
  {
   "cell_type": "code",
   "execution_count": 129,
   "metadata": {
    "collapsed": false
   },
   "outputs": [
    {
     "data": {
      "image/png": "[encoded data removed]",
      "text/plain": [
       "<matplotlib.figure.Figure at 0x7fb47f1b1e50>"
      ]
     },
     "metadata": {},
     "output_type": "display_data"
    }
   ],
   "source": [
    "gene_variants.gene_id.value_counts().hist(bins=100, log=True)\n",
    "plt.ylabel('Number of genes')\n",
    "plt.xlabel('Number of variants');"
   ]
  },
  {
   "cell_type": "code",
   "execution_count": 130,
   "metadata": {
    "collapsed": true
   },
   "outputs": [],
   "source": [
    "gene_gb = gene_variants.groupby('gene_id')\n",
    "num_genes = len(set(gene_variants.gene_id))"
   ]
  },
  {
   "cell_type": "code",
   "execution_count": 131,
   "metadata": {
    "collapsed": false
   },
   "outputs": [
    {
     "name": "stdout",
     "output_type": "stream",
     "text": [
      "3,910 of 5,561 genes have at least one significant exonic variant.\n",
      "2,969 of these 3,910 genes have at least one significant variant in their own exon.\n"
     ]
    }
   ],
   "source": [
    "n = (gene_gb.exonic.sum() > 0).value_counts()[True]\n",
    "print('{:,} of {:,} genes have at least one significant exonic variant.'.format(\n",
    "    n, num_genes))\n",
    "m = (gene_gb.exonic_same_gene.sum() > 0).value_counts()[True]\n",
    "print('{:,} of these {:,} genes have at least one significant variant in their own exon.'.format(\n",
    "    m, n))"
   ]
  },
  {
   "cell_type": "code",
   "execution_count": 132,
   "metadata": {
    "collapsed": false
   },
   "outputs": [
    {
     "data": {
      "image/png": "[encoded data removed]",
      "text/plain": [
       "<matplotlib.figure.Figure at 0x7fb47f23b290>"
      ]
     },
     "metadata": {},
     "output_type": "display_data"
    }
   ],
   "source": [
    "fig, axs = plt.subplots(1, 2, figsize=[12, 4])\n",
    "ax = gene_gb.exonic.sum().hist(log=True, bins=range(0, int(gene_gb.exonic.sum().max())), ax=axs[0])\n",
    "ax.set_ylabel('Number of exonic variants')\n",
    "ax.set_xlabel('Number of genes')\n",
    "ax = gene_gb.exonic_same_gene.sum().hist(log=True, bins=range(0, int(gene_gb.exonic.sum().max())), ax=axs[1])\n",
    "ax.set_ylabel('Number of exonic variants in same gene')\n",
    "ax.set_xlabel('Number of genes');"
   ]
  },
  {
   "cell_type": "code",
   "execution_count": 133,
   "metadata": {
    "collapsed": false
   },
   "outputs": [
    {
     "name": "stdout",
     "output_type": "stream",
     "text": [
      "3,127 of 5,561 genes have at least one significant UTR variant.\n",
      "2,024 of these 3,127 genes have at least one significant variant in their own UTR.\n"
     ]
    }
   ],
   "source": [
    "n = (gene_gb.utr.sum() > 0).value_counts()[True]\n",
    "print('{:,} of {:,} genes have at least one significant UTR variant.'.format(\n",
    "    n, len(set(gene_variants.gene_id))))\n",
    "m = (gene_gb.utr_same_gene.sum() > 0).value_counts()[True]\n",
    "print('{:,} of these {:,} genes have at least one significant variant in their own UTR.'.format(\n",
    "    m, n))"
   ]
  },
  {
   "cell_type": "code",
   "execution_count": 134,
   "metadata": {
    "collapsed": false
   },
   "outputs": [
    {
     "data": {
      "image/png": "[encoded data removed]",
      "text/plain": [
       "<matplotlib.figure.Figure at 0x7fb4e6670610>"
      ]
     },
     "metadata": {},
     "output_type": "display_data"
    }
   ],
   "source": [
    "fig, axs = plt.subplots(1, 2, figsize=[12, 4])\n",
    "ax = gene_gb.utr.sum().hist(log=True, bins=range(0, int(gene_gb.utr.sum().max())), ax=axs[0])\n",
    "ax.set_ylabel('Number of UTR variants')\n",
    "ax.set_xlabel('Number of genes')\n",
    "ax = gene_gb.utr_same_gene.sum().hist(log=True, bins=range(0, int(gene_gb.utr.sum().max())), ax=axs[1])\n",
    "ax.set_ylabel('Number of UTR variants in same gene')\n",
    "ax.set_xlabel('Number of genes');"
   ]
  },
  {
   "cell_type": "code",
   "execution_count": 135,
   "metadata": {
    "collapsed": false
   },
   "outputs": [
    {
     "name": "stdout",
     "output_type": "stream",
     "text": [
      "iPS_DF_6.9_roadmap_dnase\t0.05%\n",
      "iPS_DF_19.11_roadmap_dnase\t0.05%\n",
      "H1_roadmap_dnase\t0.04%\n",
      "H9_roadmap_dnase\t0.05%\n",
      "iPSC_ENCSR000EKK_dnase\t0.04%\n",
      "iPSC_ENCSR000EKJ_dnase\t0.04%\n",
      "iPSC_ENCSR000EKI_dnase\t0.05%\n",
      "iPSC_ENCSR000EKH_dnase\t0.02%\n",
      "H7-hESC_ENCSR000EMZ_dnase\t0.02%\n",
      "H1-hESC_ENCSR000EMU_dnase\t0.02%\n",
      "H9_ENCSR000EJP_dnase\t0.02%\n",
      "H7-hESC_ENCSR000EJO_dnase\t0.07%\n",
      "H1-hESC_ENCSR000EJN_dnase\t0.06%\n"
     ]
    }
   ],
   "source": [
    "for c in [x for x in gene_variants.columns if 'dnase' in x]:\n",
    "    vc = gene_variants[c].value_counts()\n",
    "    print('{}\\t{:.2f}%'.format(c, float(vc[True]) / vc.sum()))"
   ]
  },
  {
   "cell_type": "code",
   "execution_count": 136,
   "metadata": {
    "collapsed": false
   },
   "outputs": [
    {
     "data": {
      "image/png": "[encoded data removed]",
      "text/plain": [
       "<matplotlib.figure.Figure at 0x7fb4e668d990>"
      ]
     },
     "metadata": {},
     "output_type": "display_data"
    }
   ],
   "source": [
    "vc = gene_variants.ix[gene_variants['H1-hESC_ENCSR000EMU_dnase'] == True, 'gene_id'].value_counts()\n",
    "vc.hist(bins=range(0, vc.max() + 1))\n",
    "plt.ylabel('Number of genes')\n",
    "plt.xlabel('Number of variants overlapping DNase peak');"
   ]
  },
  {
   "cell_type": "code",
   "execution_count": 137,
   "metadata": {
    "collapsed": false
   },
   "outputs": [
    {
     "data": {
      "text/plain": [
       "not_imbalanced           25216\n",
       "imbalanced_(5%_FDR)       5205\n",
       "imbalanced_(0.1%_FDR)      567\n",
       "Name: significance.level_maurano, dtype: int64"
      ]
     },
     "execution_count": 137,
     "metadata": {},
     "output_type": "execute_result"
    }
   ],
   "source": [
    "gene_variants['significance.level_maurano'].value_counts()"
   ]
  },
  {
   "cell_type": "code",
   "execution_count": 138,
   "metadata": {
    "collapsed": false
   },
   "outputs": [
    {
     "data": {
      "text/plain": [
       "not_imbalanced           297687\n",
       "imbalanced_(5%_FDR)       55141\n",
       "imbalanced_(0.1%_FDR)      9456\n",
       "Name: significance.level_maurano, dtype: int64"
      ]
     },
     "execution_count": 138,
     "metadata": {},
     "output_type": "execute_result"
    }
   ],
   "source": [
    "maurano_res['significance.level_maurano'].value_counts()"
   ]
  },
  {
   "cell_type": "code",
   "execution_count": 139,
   "metadata": {
    "collapsed": false
   },
   "outputs": [
    {
     "data": {
      "image/png": "[encoded data removed]",
      "text/plain": [
       "<matplotlib.figure.Figure at 0x7fb44f76ebd0>"
      ]
     },
     "metadata": {},
     "output_type": "display_data"
    }
   ],
   "source": [
    "gene_variants['q.value_maurano'].hist(bins=100)\n",
    "plt.ylabel('Number of variants')\n",
    "plt.xlabel('Maurano $q$-value');"
   ]
  },
  {
   "cell_type": "code",
   "execution_count": 140,
   "metadata": {
    "collapsed": false
   },
   "outputs": [
    {
     "data": {
      "image/png": "[encoded data removed]",
      "text/plain": [
       "<matplotlib.figure.Figure at 0x7fb44ea35710>"
      ]
     },
     "metadata": {},
     "output_type": "display_data"
    }
   ],
   "source": [
    "se = gene_variants['q.value_maurano'].dropna()\n",
    "se += se[se > 0].min()\n",
    "(-np.log10(se)).hist(bins=100)\n",
    "plt.ylabel('Number of variants')\n",
    "plt.xlabel('Maurano $-\\log_{10}q$-value');"
   ]
  },
  {
   "cell_type": "markdown",
   "metadata": {},
   "source": [
    "### Single variant genes\n",
    "\n",
    "I'm going to look at genes for which there is only one significant\n",
    "variant. In theory, these should often be the causal variants."
   ]
  },
  {
   "cell_type": "code",
   "execution_count": 141,
   "metadata": {
    "collapsed": true
   },
   "outputs": [],
   "source": [
    "se = gene_variants.gene_id.value_counts() == 1\n",
    "genes = set(se[se].index)\n",
    "tdf = gene_variants[gene_variants.gene_id.apply(lambda x: x in genes)]"
   ]
  },
  {
   "cell_type": "code",
   "execution_count": 142,
   "metadata": {
    "collapsed": false
   },
   "outputs": [
    {
     "name": "stdout",
     "output_type": "stream",
     "text": [
      "103 of 706 genes have an exonic variant.\n",
      "57 of 706 genes have a UTR variant.\n",
      "49 of 706 genes have a variant in H1-hESC_ENCSR000EMU DNase peaks.\n"
     ]
    }
   ],
   "source": [
    "n = tdf.exonic.value_counts()[True]\n",
    "print('{} of {} genes have an exonic variant.'.format(n, tdf.shape[0]))\n",
    "n = tdf.utr.value_counts()[True]\n",
    "print('{} of {} genes have a UTR variant.'.format(n, tdf.shape[0]))\n",
    "n = tdf['H1-hESC_ENCSR000EMU_dnase'].value_counts()[True]\n",
    "print('{} of {} genes have a variant in H1-hESC_ENCSR000EMU DNase peaks.'.format(n, tdf.shape[0]))"
   ]
  },
  {
   "cell_type": "code",
   "execution_count": 143,
   "metadata": {
    "collapsed": false
   },
   "outputs": [
    {
     "data": {
      "text/plain": [
       "not_imbalanced           0.821695\n",
       "imbalanced_(5%_FDR)      0.152204\n",
       "imbalanced_(0.1%_FDR)    0.026101\n",
       "Name: significance.level_maurano, dtype: float64"
      ]
     },
     "execution_count": 143,
     "metadata": {},
     "output_type": "execute_result"
    }
   ],
   "source": [
    "maurano_res['significance.level_maurano'].value_counts() / maurano_res.shape[0]"
   ]
  },
  {
   "cell_type": "code",
   "execution_count": 144,
   "metadata": {
    "collapsed": false
   },
   "outputs": [
    {
     "data": {
      "text/plain": [
       "not_imbalanced           0.813734\n",
       "imbalanced_(5%_FDR)      0.167968\n",
       "imbalanced_(0.1%_FDR)    0.018297\n",
       "Name: significance.level_maurano, dtype: float64"
      ]
     },
     "execution_count": 144,
     "metadata": {},
     "output_type": "execute_result"
    }
   ],
   "source": [
    "gene_variants['significance.level_maurano'].value_counts() / gene_variants['significance.level_maurano'].value_counts().sum()"
   ]
  },
  {
   "cell_type": "code",
   "execution_count": 145,
   "metadata": {
    "collapsed": false
   },
   "outputs": [
    {
     "data": {
      "text/plain": [
       "not_imbalanced           0.752688\n",
       "imbalanced_(5%_FDR)      0.225806\n",
       "imbalanced_(0.1%_FDR)    0.021505\n",
       "Name: significance.level_maurano, dtype: float64"
      ]
     },
     "execution_count": 145,
     "metadata": {},
     "output_type": "execute_result"
    }
   ],
   "source": [
    "tdf['significance.level_maurano'].value_counts() / tdf['significance.level_maurano'].value_counts().sum()"
   ]
  },
  {
   "cell_type": "code",
   "execution_count": 146,
   "metadata": {
    "collapsed": false
   },
   "outputs": [],
   "source": [
    "t = gene_variants.sort_values(by=['gene_id', 'pvalue'])\n",
    "t = t.drop_duplicates(subset='gene_id')"
   ]
  },
  {
   "cell_type": "code",
   "execution_count": 147,
   "metadata": {
    "collapsed": false
   },
   "outputs": [
    {
     "data": {
      "text/plain": [
       "not_imbalanced           0.725948\n",
       "imbalanced_(5%_FDR)      0.256560\n",
       "imbalanced_(0.1%_FDR)    0.017493\n",
       "Name: significance.level_maurano, dtype: float64"
      ]
     },
     "execution_count": 147,
     "metadata": {},
     "output_type": "execute_result"
    }
   ],
   "source": [
    "t['significance.level_maurano'].value_counts() / t['significance.level_maurano'].value_counts().sum()"
   ]
  },
  {
   "cell_type": "markdown",
   "metadata": {},
   "source": [
    "## Fine Mapping\n",
    "\n",
    "[Wen et al. 2015](http://journals.plos.org/plosgenetics/article?id=10.1371/journal.pgen.1005176) says 50% of cis-eQTLs are concentrated within 20kb of the TSS.\n",
    "\n",
    "I'll start by removing genes that have significant variants in their exons or\n",
    "UTRs or are predicted to undergo NMD."
   ]
  },
  {
   "cell_type": "code",
   "execution_count": 148,
   "metadata": {
    "collapsed": false
   },
   "outputs": [
    {
     "name": "stdout",
     "output_type": "stream",
     "text": [
      "5,546 of 5,561 genes don't have a significant NMD variant.\n"
     ]
    }
   ],
   "source": [
    "gene_variants_f = gene_variants[(gene_variants.gene_has_nmd_variant == False)]\n",
    "a = len(set(gene_variants_f.gene_id))\n",
    "b = len(set(gene_variants.gene_id))\n",
    "print('{:,} of {:,} genes don\\'t have a significant NMD variant.'.format(a, b))"
   ]
  },
  {
   "cell_type": "code",
   "execution_count": 149,
   "metadata": {
    "collapsed": false
   },
   "outputs": [
    {
     "data": {
      "image/png": "[encoded data removed]",
      "text/plain": [
       "<matplotlib.figure.Figure at 0x7fb4c4ff16d0>"
      ]
     },
     "metadata": {},
     "output_type": "display_data"
    }
   ],
   "source": [
    "gene_variants_f['roadmap_dnase_num'] = \\\n",
    "    gene_variants_f[[x for x in gene_variants_f.columns \n",
    "                    if '_roadmap_dnase' in x]].sum(axis=1)\n",
    "\n",
    "se = gene_variants_f.roadmap_dnase_num.value_counts()\n",
    "se = se[range(se.shape[0])]\n",
    "se.plot(kind='bar')\n",
    "plt.ylabel('Number of variants')\n",
    "plt.xlabel('Number of DNase peaks overlapping');"
   ]
  },
  {
   "cell_type": "markdown",
   "metadata": {},
   "source": [
    "TODO: I think I'd like to relax my selection criteria and keep all putative\n",
    "functional variants per gene. I'll just look at how those affect TF binding.\n",
    "\n",
    "I'm going to keep variants that have some evidence of being functional."
   ]
  },
  {
   "cell_type": "code",
   "execution_count": 59,
   "metadata": {
    "collapsed": false
   },
   "outputs": [
    {
     "name": "stdout",
     "output_type": "stream",
     "text": [
      "3,745 of 5,760 genes have a putative causal variant.\n"
     ]
    }
   ],
   "source": [
    "a = len(set(gene_variants.gene_id))\n",
    "gene_variants_f = gene_variants_f[\n",
    "    (gene_variants_f.roadmap_dnase_num > 2) | \n",
    "    (gene_variants_f['significance.level_maurano'] == 'imbalanced_(5%_FDR)') | \n",
    "    (gene_variants_f['significance.level_maurano'] == 'imbalanced_(0.1%_FDR)') | \n",
    "    (gene_variants_f.tf_disruption)]\n",
    "b = len(set(gene_variants_f.gene_id))\n",
    "print('{:,} of {:,} genes have a putative causal variant.'.format(b, a))"
   ]
  },
  {
   "cell_type": "markdown",
   "metadata": {},
   "source": [
    "I'm going to assign variants ranks based on whether\n",
    "\n",
    "1. Overlaps 2 or more DNase peaks and significant in Maurano **or**\n",
    "overlaps 2 or more DNase peaks and disrupts a TF\n",
    "2. Disrupts a TF\n",
    "3. Significant in Maurano\n",
    "4. Everything else\n",
    "\n",
    "I'll sort by this rank and then keep the variant closest to the TSS."
   ]
  },
  {
   "cell_type": "code",
   "execution_count": 60,
   "metadata": {
    "collapsed": false
   },
   "outputs": [],
   "source": [
    "gene_variants_f['variant_rank'] = np.nan\n",
    "a = gene_variants_f[\n",
    "    (gene_variants_f.roadmap_dnase_num >= 2) & \n",
    "    ((gene_variants_f['significance.level_maurano'] == 'imbalanced_(0.1%_FDR)') |\n",
    "     (gene_variants_f['significance.level_maurano'] == 'imbalanced_(5%_FDR)'))]\n",
    "b = gene_variants_f[(gene_variants_f.roadmap_dnase_num >= 2) & \n",
    "                   (gene_variants_f.tf_disruption)]\n",
    "t = pd.concat([a, b]).drop_duplicates()\n",
    "gene_variants_f.ix[t.index, 'variant_rank'] = 1\n",
    "\n",
    "gene_variants_f.ix[gene_variants_f.tf_disruption & \n",
    "                  gene_variants_f.variant_rank.isnull(), 'variant_rank'] = 2\n",
    "\n",
    "gene_variants_f.ix[\n",
    "    ((gene_variants_f['significance.level_maurano'] == 'imbalanced_(0.1%_FDR)') |\n",
    "     (gene_variants_f['significance.level_maurano'] == 'imbalanced_(5%_FDR)')) &\n",
    "    gene_variants_f.variant_rank.isnull(), 'variant_rank'] = 3\n",
    "\n",
    "gene_variants_f.ix[gene_variants_f.variant_rank.isnull(), 'variant_rank'] = 4"
   ]
  },
  {
   "cell_type": "code",
   "execution_count": 61,
   "metadata": {
    "collapsed": false
   },
   "outputs": [],
   "source": [
    "gene_variants_f = gene_variants_f.sort_values(by=['variant_rank', 'tss_dist_abs'])\n",
    "gene_variants_f = gene_variants_f.drop_duplicates(subset='gene_id')"
   ]
  },
  {
   "cell_type": "code",
   "execution_count": 62,
   "metadata": {
    "collapsed": false
   },
   "outputs": [
    {
     "data": {
      "text/plain": [
       "True     2154\n",
       "False    1591\n",
       "Name: tf_disruption, dtype: int64"
      ]
     },
     "execution_count": 62,
     "metadata": {},
     "output_type": "execute_result"
    }
   ],
   "source": [
    "gene_variants_f.tf_disruption.value_counts()"
   ]
  },
  {
   "cell_type": "code",
   "execution_count": 63,
   "metadata": {
    "collapsed": false
   },
   "outputs": [
    {
     "name": "stdout",
     "output_type": "stream",
     "text": [
      "1,748 variants not measured in Maurano\n"
     ]
    }
   ],
   "source": [
    "n = gene_variants_f.shape[0] - gene_variants_f['significance.level_maurano'].value_counts().sum()\n",
    "print('{:,} variants not measured in Maurano'.format(n))"
   ]
  },
  {
   "cell_type": "code",
   "execution_count": 64,
   "metadata": {
    "collapsed": false
   },
   "outputs": [
    {
     "data": {
      "text/plain": [
       "imbalanced_(5%_FDR)      1199\n",
       "not_imbalanced            697\n",
       "imbalanced_(0.1%_FDR)     101\n",
       "Name: significance.level_maurano, dtype: int64"
      ]
     },
     "execution_count": 64,
     "metadata": {},
     "output_type": "execute_result"
    }
   ],
   "source": [
    "gene_variants_f['significance.level_maurano'].value_counts()"
   ]
  },
  {
   "cell_type": "code",
   "execution_count": 65,
   "metadata": {
    "collapsed": false
   },
   "outputs": [
    {
     "data": {
      "image/png": "[encoded data removed]",
      "text/plain": [
       "<matplotlib.figure.Figure at 0x7f5973988d90>"
      ]
     },
     "metadata": {},
     "output_type": "display_data"
    }
   ],
   "source": [
    "n,b,p = plt.hist(gene_variants_f.tss_dist, \n",
    "                 bins=np.arange(-500000, 510000, 10000),\n",
    "                 histtype='stepfilled',\n",
    "                 linewidth=0)\n",
    "ymin, ymax = plt.ylim()\n",
    "plt.vlines(-20000, ymin, ymax)\n",
    "plt.vlines(20000, ymin, ymax)\n",
    "plt.title('Distance from nearest TSS')\n",
    "plt.ylabel('Fraction of eQTLs')\n",
    "plt.xlabel('Distance in base pairs');"
   ]
  },
  {
   "cell_type": "code",
   "execution_count": 66,
   "metadata": {
    "collapsed": false
   },
   "outputs": [
    {
     "name": "stdout",
     "output_type": "stream",
     "text": [
      "2,505 of 3,745 (66.9%) putative causal variants are within 20kb of the nearest TSS.\n"
     ]
    }
   ],
   "source": [
    "n = sum(gene_variants_f.tss_dist_abs < 20000)\n",
    "p = float(n) / gene_variants_f.shape[0]\n",
    "print('{:,} of {:,} ({:.1f}%) putative causal variants are within 20kb of the nearest TSS.'.format(\n",
    "        n, gene_variants_f.shape[0], p * 100))"
   ]
  },
  {
   "cell_type": "code",
   "execution_count": 67,
   "metadata": {
    "collapsed": false
   },
   "outputs": [],
   "source": [
    "s = gene_variants_f[[x for x in gene_variants_f.columns if '_tf_disrupted' in x]].sum()\n",
    "s = s[s > 0]\n",
    "s.sort_values(inplace=True, ascending=False)"
   ]
  },
  {
   "cell_type": "code",
   "execution_count": 68,
   "metadata": {
    "collapsed": true
   },
   "outputs": [],
   "source": [
    "def calc_bed_enrichment_from_url(url, variants, variants_window):\n",
    "    \"\"\"Calculate enrichment for bed file from a URL for variants\n",
    "    vs. variants_window\"\"\"\n",
    "    from scipy.stats import fisher_exact\n",
    "    bt = pbt.BedTool(cpb.general.read_gzipped_text_url(url), from_string=True)\n",
    "    bt = bt.sort()\n",
    "    bt = bt.merge()\n",
    "    res = variants.intersect(bt, sorted=True, wo=True)\n",
    "    eqtl_in_peak = len(res)\n",
    "    eqtl_out_peak = len(variants) - eqtl_in_peak\n",
    "\n",
    "    res = variants_window.intersect(bt, sorted=True, wo=True)\n",
    "    not_eqtl_in_peak = 0\n",
    "    for r in res:\n",
    "        not_eqtl_in_peak += int(r.fields[-1])\n",
    "    not_eqtl_in_peak -= eqtl_in_peak\n",
    "    \n",
    "    total = 0\n",
    "    for r in variants_window:\n",
    "        total += r.length\n",
    "    not_eqtl_out_peak = total - not_eqtl_in_peak - eqtl_in_peak - eqtl_out_peak\n",
    "    \n",
    "    oddsratio, p = fisher_exact([[eqtl_in_peak, eqtl_out_peak],\n",
    "                                 [not_eqtl_in_peak, not_eqtl_out_peak]])\n",
    "    return url, oddsratio, p"
   ]
  },
  {
   "cell_type": "raw",
   "metadata": {
    "collapsed": true
   },
   "source": [
    "s = '\\n'.join(gene_variants_f.chrom + '\\t' + gene_variants_f.start.astype(str) + '\\t' +\n",
    "              gene_variants_f.end.astype(str)) + '\\n'\n",
    "gene_variants_f_bt = pbt.BedTool(s, from_string=True)\n",
    "gene_variants_f_bt = gene_variants_f_bt.sort()\n",
    "\n",
    "gene_variants_f_window = gene_variants_f_bt.slop(l=2500, r=2500, g=pbt.genome_registry.hg19)\n",
    "\n",
    "encode_tf_chip_seq = pd.read_table(os.path.join(ciepy.root, 'output', \n",
    "                                                'functional_annotation_analysis', \n",
    "                                                'encode_stem_cell_chip_seq.tsv'), index_col=0)\n",
    "encode_tf_chip_seq = encode_tf_chip_seq.drop_duplicates(subset='target')\n",
    "\n",
    "from ipyparallel import Client\n",
    "parallel_client = Client(profile='parallel')\n",
    "dview = parallel_client[:]\n",
    "print('Cluster has {} engines.'.format(len(parallel_client.ids)))\n",
    "\n",
    "with dview.sync_imports():\n",
    "    import cdpybio\n",
    "    import pybedtools\n",
    "    import scipy\n",
    "    import subprocess\n",
    "    \n",
    "%px cpb = cdpybio\n",
    "%px pbt = pybedtools\n",
    "\n",
    "dview.push(dict(calc_bed_enrichment_from_url=calc_bed_enrichment_from_url));\n",
    "dview.push(dict(gene_variants_f_bt=gene_variants_f_bt,\n",
    "                gene_variants_f_window=gene_variants_f_window));\n",
    "res = dview.map_sync(lambda x: calc_bed_enrichment_from_url(x, gene_variants_f_bt, gene_variants_f_window),\n",
    "                     encode_tf_chip_seq.narrowPeak_url)\n",
    "t = pd.DataFrame(res, columns=['url', 'odds', 'pvalue'])\n",
    "t.index = t.url\n",
    "t = t.drop('url', axis=1)\n",
    "encode_tf_chip_seq_res = encode_tf_chip_seq.merge(t, left_on='narrowPeak_url', right_index=True)\n",
    "encode_tf_chip_seq_res.sort_values(by='pvalue', inplace=True)\n",
    "\n",
    "url = encode_tf_chip_seq.ix[encode_tf_chip_seq['target'] == 'NANOG', 'narrowPeak_url'].values[0]\n",
    "res = calc_bed_enrichment_from_url(url, sig_variants_f_bt, sig_variants_f_window)"
   ]
  },
  {
   "cell_type": "raw",
   "metadata": {
    "collapsed": false
   },
   "source": [
    "encode_tf_chip_seq_res[['target', 'odds', 'pvalue']]"
   ]
  },
  {
   "cell_type": "code",
   "execution_count": 70,
   "metadata": {
    "collapsed": false
   },
   "outputs": [
    {
     "name": "stdout",
     "output_type": "stream",
     "text": [
      "388 of my putative causal variants are also the most significant variants\n"
     ]
    }
   ],
   "source": [
    "n = len(set(gene_variants_f.index) & set(lead_variants_single_f.index))\n",
    "print('{:,} of my putative causal variants are also the most significant variants'.format(n))"
   ]
  },
  {
   "cell_type": "code",
   "execution_count": 71,
   "metadata": {
    "collapsed": false
   },
   "outputs": [],
   "source": [
    "fn = os.path.join(ciepy.root, 'output', 'ji_et_al_2015_processing', 'interactions.tsv')\n",
    "interactions = pd.read_table(fn)\n",
    "\n",
    "fn = os.path.join(ciepy.root, 'output', 'ji_et_al_2015_processing', \n",
    "                  'gene_to_containing_interactions.pickle')\n",
    "gene_to_containing_interactions = cPickle.load(open(fn))\n",
    "\n",
    "fn = os.path.join(ciepy.root, 'output', 'ji_et_al_2015_processing',\n",
    "                  'chia_to_exon_gene.pickle')\n",
    "chia_to_exon_gene = cPickle.load(open(fn))\n",
    "fn = os.path.join(ciepy.root, 'output', 'ji_et_al_2015_processing',\n",
    "                  'chia_to_promoter_gene.pickle')\n",
    "chia_to_promoter_gene = cPickle.load(open(fn))\n",
    "\n",
    "fn = os.path.join(ciepy.root, 'output', 'ji_et_al_2015_processing',\n",
    "                  'chia_peaks.bed')\n",
    "chia_peaks = pbt.BedTool(fn)"
   ]
  },
  {
   "cell_type": "raw",
   "metadata": {},
   "source": [
    "s = '\\n'.join(interactions[interactions.intra & interactions.pin_loop].loop.apply(\n",
    "        lambda x: '\\t'.join(cpb.general.parse_region(x)))) + '\\n'\n",
    "loop_bt = pbt.BedTool(s, from_string=True)\n",
    "loop_bt = loop_bt.sort()"
   ]
  },
  {
   "cell_type": "raw",
   "metadata": {},
   "source": [
    "s = '\\n'.join(sig_variants_f.variant.apply(\n",
    "        lambda x: '\\t'.join(cpb.general.parse_region(x)))) + '\\n'\n",
    "var_bt = pbt.BedTool(s, from_string=True)\n",
    "var_bt = var_bt.sort()\n",
    "\n",
    "res = var_bt.intersect(loop_bt, wo=True, sorted=True)\n",
    "d = {}\n",
    "for r in res:\n",
    "    ind = '{}:{}-{}'.format(r.chrom, r.start, r.end)\n",
    "    d[ind] = d.get(ind, set()) | set(['{}:{}-{}'.format(*r.fields[-4:-1])])\n",
    "se = pd.Series(d)\n",
    "    \n",
    "sig_variants_f = sig_variants_f.merge(pd.DataFrame({'variant_loops': se}), \n",
    "                                      left_on='variant', right_index=True, how='left')\n",
    "\n",
    "sig_variants_f['gene_loops'] = gene_to_containing_interactions[sig_variants_f.gene].values"
   ]
  },
  {
   "cell_type": "raw",
   "metadata": {},
   "source": [
    "t = sig_variants_f[(sig_variants_f.variant_loops.isnull() == False) & \n",
    "                   (sig_variants_f.gene_loops.isnull() == False)]\n",
    "intersect = t.apply(lambda x: x['variant_loops'] & x['gene_loops'], axis=1)"
   ]
  },
  {
   "cell_type": "raw",
   "metadata": {},
   "source": [
    "most_sig['variant'] = (most_sig.chrom + ':' + most_sig.start.astype(str) + \n",
    "                       '-' + most_sig.end.astype(str))\n",
    "most_sig.index = [x.split(':')[-1] for x in most_sig.index]"
   ]
  },
  {
   "cell_type": "raw",
   "metadata": {},
   "source": [
    "s = '\\n'.join(most_sig_f.variant.apply(\n",
    "        lambda x: '\\t'.join(cpb.general.parse_region(x)))) + '\\n'\n",
    "var_bt = pbt.BedTool(s, from_string=True)\n",
    "var_bt = var_bt.sort()\n",
    "\n",
    "res = var_bt.intersect(loop_bt, wo=True, sorted=True)\n",
    "d = {}\n",
    "for r in res:\n",
    "    ind = '{}:{}-{}'.format(r.chrom, r.start, r.end)\n",
    "    d[ind] = d.get(ind, set()) | set(['{}:{}-{}'.format(*r.fields[-4:-1])])\n",
    "se = pd.Series(d)\n",
    "    \n",
    "most_sig_f = most_sig_f.merge(pd.DataFrame({'variant_loops': se}), \n",
    "                              left_on='variant', right_index=True, how='left')\n",
    "\n",
    "most_sig_f['gene_loops'] = gene_to_containing_interactions[most_sig_f.index].values"
   ]
  },
  {
   "cell_type": "raw",
   "metadata": {},
   "source": [
    "t = most_sig_f[(most_sig_f.variant_loops.isnull() == False) & \n",
    "               (most_sig_f.gene_loops.isnull() == False)]\n",
    "ms_intersect = t.apply(lambda x: x['variant_loops'] & x['gene_loops'], axis=1)"
   ]
  },
  {
   "cell_type": "raw",
   "metadata": {},
   "source": [
    "intersect.apply(lambda x: len(x) > 0).value_counts()"
   ]
  },
  {
   "cell_type": "raw",
   "metadata": {},
   "source": [
    "ms_intersect.apply(lambda x: len(x) > 0).value_counts()"
   ]
  },
  {
   "cell_type": "markdown",
   "metadata": {},
   "source": [
    "TODO: Add in RNA pol2 chia pet? Adds some slop to stuff to get more overlaps?"
   ]
  },
  {
   "cell_type": "code",
   "execution_count": 72,
   "metadata": {
    "collapsed": true
   },
   "outputs": [],
   "source": [
    "s = '\\n'.join(gene_variants_f.location.apply(\n",
    "        lambda x: '\\t'.join(cpb.general.parse_region(x)))) + '\\n'\n",
    "var_bt = pbt.BedTool(s, from_string=True)\n",
    "var_bt = var_bt.sort()\n",
    "res = var_bt.intersect(chia_peaks, wo=True, sorted=True)\n",
    "d = {}\n",
    "for r in res:\n",
    "    ind = '{}:{}-{}'.format(r.chrom, r.start, r.end)\n",
    "    d[ind] = d.get(ind, set()) | set(['{}:{}-{}'.format(*r.fields[-4:-1])])\n",
    "se = pd.Series(d)\n",
    "    \n",
    "gene_variants_f = gene_variants_f.merge(pd.DataFrame({'chia_peaks': se}), \n",
    "                                      left_on='location', right_index=True, how='left')"
   ]
  },
  {
   "cell_type": "code",
   "execution_count": 73,
   "metadata": {
    "collapsed": false
   },
   "outputs": [],
   "source": [
    "s = '\\n'.join(lead_variants_single_f.location.apply(\n",
    "        lambda x: '\\t'.join(cpb.general.parse_region(x)))) + '\\n'\n",
    "var_bt = pbt.BedTool(s, from_string=True)\n",
    "var_bt = var_bt.sort()\n",
    "res = var_bt.intersect(chia_peaks, wo=True, sorted=True)\n",
    "d = {}\n",
    "for r in res:\n",
    "    ind = '{}:{}-{}'.format(r.chrom, r.start, r.end)\n",
    "    d[ind] = d.get(ind, set()) | set(['{}:{}-{}'.format(*r.fields[-4:-1])])\n",
    "se = pd.Series(d)\n",
    "    \n",
    "lead_variants_single_f = lead_variants_single_f.merge(pd.DataFrame({'chia_peaks': se}), \n",
    "                                                  left_on='location', right_index=True, how='left')"
   ]
  },
  {
   "cell_type": "code",
   "execution_count": 74,
   "metadata": {
    "collapsed": false
   },
   "outputs": [],
   "source": [
    "def get_other_end(peaks):\n",
    "    if type(peaks) is set:\n",
    "        other_ends = []\n",
    "        for p in peaks:\n",
    "            other_ends += list(interactions.ix[interactions.peak1 == p, 'peak2'])\n",
    "            other_ends += list(interactions.ix[interactions.peak2 == p, 'peak1'])\n",
    "        return set(other_ends)\n",
    "    else:\n",
    "        return np.nan"
   ]
  },
  {
   "cell_type": "code",
   "execution_count": 75,
   "metadata": {
    "collapsed": false
   },
   "outputs": [],
   "source": [
    "gene_variants_f['chia_interaction_peak'] = gene_variants_f.chia_peaks.apply(lambda x: get_other_end(x))\n",
    "lead_variants_single_f['chia_interaction_peak'] = lead_variants_single_f.chia_peaks.apply(lambda x: get_other_end(x))"
   ]
  },
  {
   "cell_type": "code",
   "execution_count": 76,
   "metadata": {
    "collapsed": true
   },
   "outputs": [],
   "source": [
    "def get_promoter_gene(peaks):\n",
    "    if type(peaks) is set:\n",
    "        peaks = peaks & set(chia_to_promoter_gene.index)\n",
    "        genes = []\n",
    "        for p in peaks:\n",
    "            genes += list(chia_to_promoter_gene[p])\n",
    "        out = set(genes)\n",
    "        if len(out) == 0:\n",
    "            return np.nan\n",
    "        else:\n",
    "            return out\n",
    "    else:\n",
    "        return np.nan"
   ]
  },
  {
   "cell_type": "code",
   "execution_count": 183,
   "metadata": {
    "collapsed": false
   },
   "outputs": [
    {
     "data": {
      "text/plain": [
       "1581"
      ]
     },
     "execution_count": 183,
     "metadata": {},
     "output_type": "execute_result"
    }
   ],
   "source": [
    "sum(gene_variants_f.tss_dist_abs > 10000)"
   ]
  },
  {
   "cell_type": "code",
   "execution_count": 184,
   "metadata": {
    "collapsed": false
   },
   "outputs": [
    {
     "data": {
      "text/plain": [
       "3454"
      ]
     },
     "execution_count": 184,
     "metadata": {},
     "output_type": "execute_result"
    }
   ],
   "source": [
    "sum(lead_variants_single_f.tss_dist_abs > 10000)"
   ]
  },
  {
   "cell_type": "code",
   "execution_count": 77,
   "metadata": {
    "collapsed": false
   },
   "outputs": [],
   "source": [
    "gene_variants_f['chia_interaction_promoter_gene'] = \\\n",
    "    gene_variants_f.chia_interaction_peak.apply(lambda x: get_promoter_gene(x))\n",
    "lead_variants_single_f['chia_interaction_promoter_gene'] = \\\n",
    "    lead_variants_single_f.chia_interaction_peak.apply(lambda x: get_promoter_gene(x))"
   ]
  },
  {
   "cell_type": "code",
   "execution_count": 78,
   "metadata": {
    "collapsed": false
   },
   "outputs": [],
   "source": [
    "gene_variants_f['interacts_with_promoter'] = np.nan\n",
    "t = gene_variants_f[gene_variants_f.chia_interaction_promoter_gene.isnull() == False]\n",
    "se = t.apply(lambda x: x['gene_id'] in x['chia_interaction_promoter_gene'], axis=1)\n",
    "gene_variants_f.ix[se.index, 'interacts_with_promoter'] = se"
   ]
  },
  {
   "cell_type": "code",
   "execution_count": 79,
   "metadata": {
    "collapsed": false
   },
   "outputs": [],
   "source": [
    "lead_variants_single_f['interacts_with_promoter'] = np.nan\n",
    "t = lead_variants_single_f[lead_variants_single_f.chia_interaction_promoter_gene.isnull() == False]\n",
    "se = t.apply(lambda x: x['gene_id'] in x['chia_interaction_promoter_gene'], axis=1)\n",
    "lead_variants_single_f.ix[se.index, 'interacts_with_promoter'] = se"
   ]
  },
  {
   "cell_type": "code",
   "execution_count": 83,
   "metadata": {
    "collapsed": true
   },
   "outputs": [],
   "source": [
    "shared = set(lead_variants_single_f.index) & set(gene_variants_f.index)"
   ]
  },
  {
   "cell_type": "code",
   "execution_count": 92,
   "metadata": {
    "collapsed": false
   },
   "outputs": [
    {
     "name": "stdout",
     "output_type": "stream",
     "text": [
      "56 lead variants and 137 putative eQTNs (18 shared) interact with promoters.\n"
     ]
    }
   ],
   "source": [
    "a = lead_variants_single_f.interacts_with_promoter.sum()\n",
    "b = gene_variants_f.interacts_with_promoter.sum()\n",
    "c = len(set(lead_variants_single_f[lead_variants_single_f.interacts_with_promoter == True].index) \n",
    "        & set(gene_variants_f[gene_variants_f.interacts_with_promoter == True].index))\n",
    "print('{} lead variants and {} putative eQTNs ({} shared) '\n",
    "      'interact with promoters.'.format(a, b, c))"
   ]
  },
  {
   "cell_type": "code",
   "execution_count": 103,
   "metadata": {
    "collapsed": false
   },
   "outputs": [],
   "source": [
    "lead_interact = lead_variants_single_f.drop(shared).interacts_with_promoter.sum()\n",
    "lead_no_interact = lead_variants_single_f.drop(shared).shape[0] - lead_interact\n",
    "put_interact = gene_variants_f.drop(shared).interacts_with_promoter.sum()\n",
    "put_no_interact = gene_variants_f.drop(shared).shape[0] - put_interact"
   ]
  },
  {
   "cell_type": "code",
   "execution_count": 105,
   "metadata": {
    "collapsed": false
   },
   "outputs": [
    {
     "data": {
      "text/plain": [
       "(5.2128506875589222, 6.0045495916134227e-22)"
      ]
     },
     "execution_count": 105,
     "metadata": {},
     "output_type": "execute_result"
    }
   ],
   "source": [
    "stats.fisher_exact([[put_interact, put_no_interact], [lead_interact, lead_no_interact]])"
   ]
  },
  {
   "cell_type": "code",
   "execution_count": null,
   "metadata": {
    "collapsed": true
   },
   "outputs": [],
   "source": [
    "interactions."
   ]
  },
  {
   "cell_type": "code",
   "execution_count": 180,
   "metadata": {
    "collapsed": false
   },
   "outputs": [
    {
     "data": {
      "text/html": [
       "<div>\n",
       "<table border=\"1\" class=\"dataframe\">\n",
       "  <thead>\n",
       "    <tr style=\"text-align: right;\">\n",
       "      <th></th>\n",
       "      <th>0</th>\n",
       "      <th>1</th>\n",
       "      <th>2</th>\n",
       "      <th>3</th>\n",
       "      <th>4</th>\n",
       "    </tr>\n",
       "  </thead>\n",
       "  <tbody>\n",
       "    <tr>\n",
       "      <th>chrom1</th>\n",
       "      <td>chr6</td>\n",
       "      <td>chr10</td>\n",
       "      <td>chr1</td>\n",
       "      <td>chr17</td>\n",
       "      <td>chr11</td>\n",
       "    </tr>\n",
       "    <tr>\n",
       "      <th>start1</th>\n",
       "      <td>44139878</td>\n",
       "      <td>28952052</td>\n",
       "      <td>46911238</td>\n",
       "      <td>74362949</td>\n",
       "      <td>1713765</td>\n",
       "    </tr>\n",
       "    <tr>\n",
       "      <th>end1</th>\n",
       "      <td>44141467</td>\n",
       "      <td>28954067</td>\n",
       "      <td>46914718</td>\n",
       "      <td>74367319</td>\n",
       "      <td>1716313</td>\n",
       "    </tr>\n",
       "    <tr>\n",
       "      <th>chrom2</th>\n",
       "      <td>chr6</td>\n",
       "      <td>chr10</td>\n",
       "      <td>chr1</td>\n",
       "      <td>chr17</td>\n",
       "      <td>chr11</td>\n",
       "    </tr>\n",
       "    <tr>\n",
       "      <th>start2</th>\n",
       "      <td>44203219</td>\n",
       "      <td>29421192</td>\n",
       "      <td>46996014</td>\n",
       "      <td>74378730</td>\n",
       "      <td>1845596</td>\n",
       "    </tr>\n",
       "    <tr>\n",
       "      <th>end2</th>\n",
       "      <td>44204252</td>\n",
       "      <td>29422575</td>\n",
       "      <td>46997296</td>\n",
       "      <td>74383006</td>\n",
       "      <td>1847309</td>\n",
       "    </tr>\n",
       "    <tr>\n",
       "      <th>ID</th>\n",
       "      <td>chr6:44139878-44141467==chr6:44203219-44204252</td>\n",
       "      <td>chr10:28952052-28954067==chr10:29421192-29422575</td>\n",
       "      <td>chr1:46911238-46914718==chr1:46996014-46997296</td>\n",
       "      <td>chr17:74362949-74367319==chr17:74378730-74383006</td>\n",
       "      <td>chr11:1713765-1716313==chr11:1845596-1847309</td>\n",
       "    </tr>\n",
       "    <tr>\n",
       "      <th>score</th>\n",
       "      <td>3</td>\n",
       "      <td>3</td>\n",
       "      <td>3</td>\n",
       "      <td>5</td>\n",
       "      <td>16</td>\n",
       "    </tr>\n",
       "    <tr>\n",
       "      <th>ctcf_loop</th>\n",
       "      <td>True</td>\n",
       "      <td>False</td>\n",
       "      <td>False</td>\n",
       "      <td>True</td>\n",
       "      <td>True</td>\n",
       "    </tr>\n",
       "    <tr>\n",
       "      <th>nep_loop</th>\n",
       "      <td>True</td>\n",
       "      <td>False</td>\n",
       "      <td>False</td>\n",
       "      <td>False</td>\n",
       "      <td>True</td>\n",
       "    </tr>\n",
       "    <tr>\n",
       "      <th>pin_loop</th>\n",
       "      <td>False</td>\n",
       "      <td>False</td>\n",
       "      <td>False</td>\n",
       "      <td>False</td>\n",
       "      <td>True</td>\n",
       "    </tr>\n",
       "    <tr>\n",
       "      <th>intra</th>\n",
       "      <td>True</td>\n",
       "      <td>True</td>\n",
       "      <td>True</td>\n",
       "      <td>True</td>\n",
       "      <td>True</td>\n",
       "    </tr>\n",
       "    <tr>\n",
       "      <th>peak1</th>\n",
       "      <td>chr6:44139878-44141467</td>\n",
       "      <td>chr10:28952052-28954067</td>\n",
       "      <td>chr1:46911238-46914718</td>\n",
       "      <td>chr17:74362949-74367319</td>\n",
       "      <td>chr11:1713765-1716313</td>\n",
       "    </tr>\n",
       "    <tr>\n",
       "      <th>peak2</th>\n",
       "      <td>chr6:44203219-44204252</td>\n",
       "      <td>chr10:29421192-29422575</td>\n",
       "      <td>chr1:46996014-46997296</td>\n",
       "      <td>chr17:74378730-74383006</td>\n",
       "      <td>chr11:1845596-1847309</td>\n",
       "    </tr>\n",
       "    <tr>\n",
       "      <th>loop</th>\n",
       "      <td>chr6:44139878-44204252</td>\n",
       "      <td>chr10:28952052-29422575</td>\n",
       "      <td>chr1:46911238-46997296</td>\n",
       "      <td>chr17:74362949-74383006</td>\n",
       "      <td>chr11:1713765-1847309</td>\n",
       "    </tr>\n",
       "    <tr>\n",
       "      <th>loop_inner</th>\n",
       "      <td>chr6:44141467-44203219</td>\n",
       "      <td>chr10:28954067-29421192</td>\n",
       "      <td>chr1:46914718-46996014</td>\n",
       "      <td>chr17:74367319-74378730</td>\n",
       "      <td>chr11:1716313-1845596</td>\n",
       "    </tr>\n",
       "    <tr>\n",
       "      <th>ctcf1</th>\n",
       "      <td>True</td>\n",
       "      <td>True</td>\n",
       "      <td>True</td>\n",
       "      <td>True</td>\n",
       "      <td>True</td>\n",
       "    </tr>\n",
       "    <tr>\n",
       "      <th>ctcf2</th>\n",
       "      <td>True</td>\n",
       "      <td>False</td>\n",
       "      <td>False</td>\n",
       "      <td>True</td>\n",
       "      <td>True</td>\n",
       "    </tr>\n",
       "    <tr>\n",
       "      <th>h3k27ac1</th>\n",
       "      <td>False</td>\n",
       "      <td>False</td>\n",
       "      <td>True</td>\n",
       "      <td>True</td>\n",
       "      <td>False</td>\n",
       "    </tr>\n",
       "    <tr>\n",
       "      <th>h3k27ac2</th>\n",
       "      <td>False</td>\n",
       "      <td>True</td>\n",
       "      <td>False</td>\n",
       "      <td>True</td>\n",
       "      <td>False</td>\n",
       "    </tr>\n",
       "    <tr>\n",
       "      <th>promoter1</th>\n",
       "      <td>False</td>\n",
       "      <td>False</td>\n",
       "      <td>False</td>\n",
       "      <td>False</td>\n",
       "      <td>False</td>\n",
       "    </tr>\n",
       "    <tr>\n",
       "      <th>promoter2</th>\n",
       "      <td>False</td>\n",
       "      <td>False</td>\n",
       "      <td>False</td>\n",
       "      <td>True</td>\n",
       "      <td>True</td>\n",
       "    </tr>\n",
       "    <tr>\n",
       "      <th>exon1</th>\n",
       "      <td>True</td>\n",
       "      <td>False</td>\n",
       "      <td>True</td>\n",
       "      <td>False</td>\n",
       "      <td>False</td>\n",
       "    </tr>\n",
       "    <tr>\n",
       "      <th>exon2</th>\n",
       "      <td>False</td>\n",
       "      <td>False</td>\n",
       "      <td>False</td>\n",
       "      <td>True</td>\n",
       "      <td>False</td>\n",
       "    </tr>\n",
       "    <tr>\n",
       "      <th>gene1</th>\n",
       "      <td>True</td>\n",
       "      <td>False</td>\n",
       "      <td>True</td>\n",
       "      <td>True</td>\n",
       "      <td>False</td>\n",
       "    </tr>\n",
       "    <tr>\n",
       "      <th>gene2</th>\n",
       "      <td>False</td>\n",
       "      <td>False</td>\n",
       "      <td>False</td>\n",
       "      <td>True</td>\n",
       "      <td>False</td>\n",
       "    </tr>\n",
       "  </tbody>\n",
       "</table>\n",
       "</div>"
      ],
      "text/plain": [
       "                                                         0  \\\n",
       "chrom1                                                chr6   \n",
       "start1                                            44139878   \n",
       "end1                                              44141467   \n",
       "chrom2                                                chr6   \n",
       "start2                                            44203219   \n",
       "end2                                              44204252   \n",
       "ID          chr6:44139878-44141467==chr6:44203219-44204252   \n",
       "score                                                    3   \n",
       "ctcf_loop                                             True   \n",
       "nep_loop                                              True   \n",
       "pin_loop                                             False   \n",
       "intra                                                 True   \n",
       "peak1                               chr6:44139878-44141467   \n",
       "peak2                               chr6:44203219-44204252   \n",
       "loop                                chr6:44139878-44204252   \n",
       "loop_inner                          chr6:44141467-44203219   \n",
       "ctcf1                                                 True   \n",
       "ctcf2                                                 True   \n",
       "h3k27ac1                                             False   \n",
       "h3k27ac2                                             False   \n",
       "promoter1                                            False   \n",
       "promoter2                                            False   \n",
       "exon1                                                 True   \n",
       "exon2                                                False   \n",
       "gene1                                                 True   \n",
       "gene2                                                False   \n",
       "\n",
       "                                                           1  \\\n",
       "chrom1                                                 chr10   \n",
       "start1                                              28952052   \n",
       "end1                                                28954067   \n",
       "chrom2                                                 chr10   \n",
       "start2                                              29421192   \n",
       "end2                                                29422575   \n",
       "ID          chr10:28952052-28954067==chr10:29421192-29422575   \n",
       "score                                                      3   \n",
       "ctcf_loop                                              False   \n",
       "nep_loop                                               False   \n",
       "pin_loop                                               False   \n",
       "intra                                                   True   \n",
       "peak1                                chr10:28952052-28954067   \n",
       "peak2                                chr10:29421192-29422575   \n",
       "loop                                 chr10:28952052-29422575   \n",
       "loop_inner                           chr10:28954067-29421192   \n",
       "ctcf1                                                   True   \n",
       "ctcf2                                                  False   \n",
       "h3k27ac1                                               False   \n",
       "h3k27ac2                                                True   \n",
       "promoter1                                              False   \n",
       "promoter2                                              False   \n",
       "exon1                                                  False   \n",
       "exon2                                                  False   \n",
       "gene1                                                  False   \n",
       "gene2                                                  False   \n",
       "\n",
       "                                                         2  \\\n",
       "chrom1                                                chr1   \n",
       "start1                                            46911238   \n",
       "end1                                              46914718   \n",
       "chrom2                                                chr1   \n",
       "start2                                            46996014   \n",
       "end2                                              46997296   \n",
       "ID          chr1:46911238-46914718==chr1:46996014-46997296   \n",
       "score                                                    3   \n",
       "ctcf_loop                                            False   \n",
       "nep_loop                                             False   \n",
       "pin_loop                                             False   \n",
       "intra                                                 True   \n",
       "peak1                               chr1:46911238-46914718   \n",
       "peak2                               chr1:46996014-46997296   \n",
       "loop                                chr1:46911238-46997296   \n",
       "loop_inner                          chr1:46914718-46996014   \n",
       "ctcf1                                                 True   \n",
       "ctcf2                                                False   \n",
       "h3k27ac1                                              True   \n",
       "h3k27ac2                                             False   \n",
       "promoter1                                            False   \n",
       "promoter2                                            False   \n",
       "exon1                                                 True   \n",
       "exon2                                                False   \n",
       "gene1                                                 True   \n",
       "gene2                                                False   \n",
       "\n",
       "                                                           3  \\\n",
       "chrom1                                                 chr17   \n",
       "start1                                              74362949   \n",
       "end1                                                74367319   \n",
       "chrom2                                                 chr17   \n",
       "start2                                              74378730   \n",
       "end2                                                74383006   \n",
       "ID          chr17:74362949-74367319==chr17:74378730-74383006   \n",
       "score                                                      5   \n",
       "ctcf_loop                                               True   \n",
       "nep_loop                                               False   \n",
       "pin_loop                                               False   \n",
       "intra                                                   True   \n",
       "peak1                                chr17:74362949-74367319   \n",
       "peak2                                chr17:74378730-74383006   \n",
       "loop                                 chr17:74362949-74383006   \n",
       "loop_inner                           chr17:74367319-74378730   \n",
       "ctcf1                                                   True   \n",
       "ctcf2                                                   True   \n",
       "h3k27ac1                                                True   \n",
       "h3k27ac2                                                True   \n",
       "promoter1                                              False   \n",
       "promoter2                                               True   \n",
       "exon1                                                  False   \n",
       "exon2                                                   True   \n",
       "gene1                                                   True   \n",
       "gene2                                                   True   \n",
       "\n",
       "                                                       4  \n",
       "chrom1                                             chr11  \n",
       "start1                                           1713765  \n",
       "end1                                             1716313  \n",
       "chrom2                                             chr11  \n",
       "start2                                           1845596  \n",
       "end2                                             1847309  \n",
       "ID          chr11:1713765-1716313==chr11:1845596-1847309  \n",
       "score                                                 16  \n",
       "ctcf_loop                                           True  \n",
       "nep_loop                                            True  \n",
       "pin_loop                                            True  \n",
       "intra                                               True  \n",
       "peak1                              chr11:1713765-1716313  \n",
       "peak2                              chr11:1845596-1847309  \n",
       "loop                               chr11:1713765-1847309  \n",
       "loop_inner                         chr11:1716313-1845596  \n",
       "ctcf1                                               True  \n",
       "ctcf2                                               True  \n",
       "h3k27ac1                                           False  \n",
       "h3k27ac2                                           False  \n",
       "promoter1                                          False  \n",
       "promoter2                                           True  \n",
       "exon1                                              False  \n",
       "exon2                                              False  \n",
       "gene1                                              False  \n",
       "gene2                                              False  "
      ]
     },
     "execution_count": 180,
     "metadata": {},
     "output_type": "execute_result"
    }
   ],
   "source": [
    "interactions.head().T"
   ]
  },
  {
   "cell_type": "code",
   "execution_count": 107,
   "metadata": {
    "collapsed": true
   },
   "outputs": [],
   "source": [
    "promoters = pbt.BedTool('/publicdata/gencode_v19_20151104/promoters_by_gene.bed')\n",
    "df = promoters.to_dataframe()\n",
    "df['gene'] = df.name.apply(lambda x: x.split('_')[0])\n",
    "df['region'] = df.name.apply(lambda x: x.split('_')[2])\n",
    "df.index = df.region\n",
    "gb = df.groupby('gene')\n",
    "gene_to_promoters = gb.groups"
   ]
  },
  {
   "cell_type": "code",
   "execution_count": 169,
   "metadata": {
    "collapsed": true
   },
   "outputs": [],
   "source": [
    "def get_hic_interactions(vg):\n",
    "    chrom,a,gene = vg.split(':')\n",
    "    start,end = [int(x) for x in a.split('-')]\n",
    "    r = '{}:{}-{}'.format(chrom, start, end)\n",
    "    fn = ('/projects/CARDIPS/pipeline/Hi-C/7_indv_HiC/contact_matrices/'\n",
    "          'merged/normalized/iPSC/iPSC.5Kb.nor.{}.bed.gz'.format(chrom))\n",
    "    t = tabix.open(fn)\n",
    "    lines = []\n",
    "    res = t.querys(r)\n",
    "    while True:\n",
    "        try:\n",
    "            lines.append(res.next())\n",
    "        except StopIteration:\n",
    "            break\n",
    "    # Get promoter regions.\n",
    "    ps = [cpb.general.parse_region(x) for x in gene_to_promoters[gene]]\n",
    "    # Get indices of columns for promoter regions.\n",
    "    cols = []\n",
    "    for x in ps:\n",
    "        cols += range(int(x[1]) / 5000, int(x[2]) / 5000 + 1)\n",
    "    cols = sorted(list(set(cols)))\n",
    "    vals = []\n",
    "    # Get values for promoter regions.\n",
    "    for line in lines:\n",
    "        vals.append([float(line[x + 3]) for x in cols])\n",
    "    df = pd.DataFrame(vals)\n",
    "    df.columns = np.array(cols) * 5000\n",
    "    df.index = np.arange((start / 5000) * 5000, (start / 5000 + df.shape[0]) * 5000, 5000)\n",
    "    # Reflect over promoter regions and get interactions on other side.\n",
    "    cnv_middle = int(start + (end - start) / 2.)\n",
    "    promoter_middle = int(df.columns[0] + (df.columns[-1] - df.columns[0]) / 2.)\n",
    "    null_start = int(2 * promoter_middle - cnv_middle - (end - start) / 2.)\n",
    "    null_end = int(2 * promoter_middle - cnv_middle + (end - start) / 2.)\n",
    "    if null_start < 0 or null_end < 0:\n",
    "        return None, None\n",
    "    else:\n",
    "        r = '{}:{}-{}'.format(chrom, null_start, null_end)\n",
    "        lines = []\n",
    "        res = t.querys(r)\n",
    "        while True:\n",
    "            try:\n",
    "                lines.append(res.next())\n",
    "            except StopIteration:\n",
    "                break\n",
    "        if lines == []:\n",
    "            return None, None\n",
    "        else:            \n",
    "            vals = []\n",
    "            # Get values for promoter regions.\n",
    "            for line in lines:\n",
    "                vals.append([float(line[x + 3]) for x in cols])\n",
    "            null_df = pd.DataFrame(vals)\n",
    "            null_df.columns = np.array(cols) * 5000\n",
    "            null_df.index = np.arange((null_start / 5000) * 5000, (null_start / 5000 + null_df.shape[0]) * 5000, 5000)\n",
    "            return df, null_df"
   ]
  },
  {
   "cell_type": "code",
   "execution_count": 170,
   "metadata": {
    "collapsed": false
   },
   "outputs": [],
   "source": [
    "real = []\n",
    "null = []\n",
    "dist = []\n",
    "for i in gene_variants_f.index:\n",
    "    df, null_df = get_hic_interactions(i)\n",
    "    if df is not None:\n",
    "        real.append(df.max().max())\n",
    "        null.append(null_df.max().max())\n",
    "        dist.append(abs(np.mean(df.columns) - np.mean(df.index)))\n",
    "put_real = pd.Series(real)\n",
    "put_null = pd.Series(null)"
   ]
  },
  {
   "cell_type": "code",
   "execution_count": 176,
   "metadata": {
    "collapsed": true
   },
   "outputs": [],
   "source": [
    "real = []\n",
    "null = []\n",
    "dist = []\n",
    "for i in lead_variants_single_f.index:\n",
    "    df, null_df = get_hic_interactions(i)\n",
    "    if df is not None:\n",
    "        real.append(df.max().max())\n",
    "        null.append(null_df.max().max())\n",
    "        dist.append(abs(np.mean(df.columns) - np.mean(df.index)))\n",
    "lead_real = pd.Series(real)\n",
    "lead_null = pd.Series(null)"
   ]
  },
  {
   "cell_type": "code",
   "execution_count": 175,
   "metadata": {
    "collapsed": false
   },
   "outputs": [
    {
     "data": {
      "text/plain": [
       "[<matplotlib.lines.Line2D at 0x7f5965c84390>]"
      ]
     },
     "execution_count": 175,
     "metadata": {},
     "output_type": "execute_result"
    },
    {
     "data": {
      "image/png": "[encoded data removed]",
      "text/plain": [
       "<matplotlib.figure.Figure at 0x7f5965c810d0>"
      ]
     },
     "metadata": {},
     "output_type": "display_data"
    }
   ],
   "source": [
    "plt.scatter(put_null * 10000, put_real * 10000)\n",
    "plt.plot([0, 1], [0, 1])"
   ]
  },
  {
   "cell_type": "code",
   "execution_count": 177,
   "metadata": {
    "collapsed": false
   },
   "outputs": [
    {
     "data": {
      "text/plain": [
       "[<matplotlib.lines.Line2D at 0x7f5965898550>]"
      ]
     },
     "execution_count": 177,
     "metadata": {},
     "output_type": "execute_result"
    },
    {
     "data": {
      "image/png": "[encoded data removed]",
      "text/plain": [
       "<matplotlib.figure.Figure at 0x7f5965e05910>"
      ]
     },
     "metadata": {},
     "output_type": "display_data"
    }
   ],
   "source": [
    "plt.scatter(lead_null * 10000, lead_real * 10000)\n",
    "plt.plot([0, 1], [0, 1])"
   ]
  },
  {
   "cell_type": "code",
   "execution_count": null,
   "metadata": {
    "collapsed": true
   },
   "outputs": [],
   "source": []
  },
  {
   "cell_type": "code",
   "execution_count": null,
   "metadata": {
    "collapsed": true
   },
   "outputs": [],
   "source": []
  },
  {
   "cell_type": "code",
   "execution_count": null,
   "metadata": {
    "collapsed": true
   },
   "outputs": [],
   "source": []
  },
  {
   "cell_type": "code",
   "execution_count": null,
   "metadata": {
    "collapsed": true
   },
   "outputs": [],
   "source": []
  },
  {
   "cell_type": "code",
   "execution_count": null,
   "metadata": {
    "collapsed": true
   },
   "outputs": [],
   "source": []
  },
  {
   "cell_type": "code",
   "execution_count": null,
   "metadata": {
    "collapsed": true
   },
   "outputs": [],
   "source": []
  },
  {
   "cell_type": "code",
   "execution_count": null,
   "metadata": {
    "collapsed": true
   },
   "outputs": [],
   "source": []
  },
  {
   "cell_type": "code",
   "execution_count": null,
   "metadata": {
    "collapsed": true
   },
   "outputs": [],
   "source": []
  },
  {
   "cell_type": "code",
   "execution_count": null,
   "metadata": {
    "collapsed": true
   },
   "outputs": [],
   "source": []
  },
  {
   "cell_type": "code",
   "execution_count": 534,
   "metadata": {
    "collapsed": false
   },
   "outputs": [
    {
     "data": {
      "text/plain": [
       "True     2388\n",
       "False    1242\n",
       "Name: tf_disruption, dtype: int64"
      ]
     },
     "execution_count": 534,
     "metadata": {},
     "output_type": "execute_result"
    }
   ],
   "source": [
    "sig_variants_f.tf_disruption.value_counts()"
   ]
  },
  {
   "cell_type": "code",
   "execution_count": 537,
   "metadata": {
    "collapsed": false
   },
   "outputs": [
    {
     "data": {
      "text/plain": [
       "imbalanced_(5%_FDR)      1043\n",
       "not_imbalanced            711\n",
       "imbalanced_(0.1%_FDR)      98\n",
       "Name: significance.level_maurano, dtype: int64"
      ]
     },
     "execution_count": 537,
     "metadata": {},
     "output_type": "execute_result"
    }
   ],
   "source": [
    "sig_variants_f['significance.level_maurano'].value_counts()"
   ]
  },
  {
   "cell_type": "code",
   "execution_count": 635,
   "metadata": {
    "collapsed": false
   },
   "outputs": [],
   "source": [
    "se = sig_variants_f[[x for x in sig_variants_f.columns if '_tf_disrupted' in x]].sum()\n",
    "se.sort_values(inplace=True, ascending=False)\n",
    "\n",
    "motif_cols = [x for x in sig_variants_f.columns if '_motif_disrupted' in x]\n",
    "tdf = sig_variants_f[sig_variants_f.tf_disruption]\n",
    "\n",
    "direction = []\n",
    "motifs = []\n",
    "for tf in motif_cols:\n",
    "    t = tdf[tdf[tf] == True]\n",
    "    if t.shape[0] > 0:\n",
    "        motifs.append(tf)\n",
    "        beta = t.beta\n",
    "        beta.index = t.variant\n",
    "        d = motif_d.ix[t.variant, '_'.join(tf.split('_')[0:2])]\n",
    "        c = pd.crosstab(beta > 0, d > 0)\n",
    "        a = 0\n",
    "        if True in c.index and True in c.columns:\n",
    "            a += c.ix[True, True]\n",
    "        if False in c.index and False in c.columns:\n",
    "            a += c.ix[False, False]\n",
    "        b = 0\n",
    "        if True in c.index and False in c.columns:\n",
    "            b += c.ix[True, False]\n",
    "        if False in c.index and True in c.columns:\n",
    "            b += c.ix[False, True]\n",
    "        direction.append([a, b])"
   ]
  },
  {
   "cell_type": "code",
   "execution_count": 639,
   "metadata": {
    "collapsed": true
   },
   "outputs": [],
   "source": [
    "df = pd.DataFrame(direction, index=motifs, columns=['repress', 'activate'])\n",
    "df['tf'] = [x.split('_')[0] for x in df.index]"
   ]
  },
  {
   "cell_type": "code",
   "execution_count": 650,
   "metadata": {
    "collapsed": true
   },
   "outputs": [],
   "source": [
    "tf = df.groupby('tf').sum()"
   ]
  },
  {
   "cell_type": "code",
   "execution_count": 655,
   "metadata": {
    "collapsed": false
   },
   "outputs": [
    {
     "data": {
      "text/html": [
       "<div>\n",
       "<table border=\"1\" class=\"dataframe\">\n",
       "  <thead>\n",
       "    <tr style=\"text-align: right;\">\n",
       "      <th></th>\n",
       "      <th>repress</th>\n",
       "      <th>activate</th>\n",
       "    </tr>\n",
       "    <tr>\n",
       "      <th>tf</th>\n",
       "      <th></th>\n",
       "      <th></th>\n",
       "    </tr>\n",
       "  </thead>\n",
       "  <tbody>\n",
       "    <tr>\n",
       "      <th>AP1</th>\n",
       "      <td>11</td>\n",
       "      <td>13</td>\n",
       "    </tr>\n",
       "    <tr>\n",
       "      <th>ATF2</th>\n",
       "      <td>5</td>\n",
       "      <td>8</td>\n",
       "    </tr>\n",
       "    <tr>\n",
       "      <th>ATF3</th>\n",
       "      <td>48</td>\n",
       "      <td>56</td>\n",
       "    </tr>\n",
       "    <tr>\n",
       "      <th>BACH1</th>\n",
       "      <td>4</td>\n",
       "      <td>3</td>\n",
       "    </tr>\n",
       "    <tr>\n",
       "      <th>BCL</th>\n",
       "      <td>2</td>\n",
       "      <td>3</td>\n",
       "    </tr>\n",
       "    <tr>\n",
       "      <th>BRCA1</th>\n",
       "      <td>16</td>\n",
       "      <td>6</td>\n",
       "    </tr>\n",
       "    <tr>\n",
       "      <th>CEBPB</th>\n",
       "      <td>21</td>\n",
       "      <td>24</td>\n",
       "    </tr>\n",
       "    <tr>\n",
       "      <th>CHD2</th>\n",
       "      <td>42</td>\n",
       "      <td>44</td>\n",
       "    </tr>\n",
       "    <tr>\n",
       "      <th>CTCF</th>\n",
       "      <td>281</td>\n",
       "      <td>221</td>\n",
       "    </tr>\n",
       "    <tr>\n",
       "      <th>EGR1</th>\n",
       "      <td>311</td>\n",
       "      <td>249</td>\n",
       "    </tr>\n",
       "    <tr>\n",
       "      <th>EP300</th>\n",
       "      <td>86</td>\n",
       "      <td>92</td>\n",
       "    </tr>\n",
       "    <tr>\n",
       "      <th>ETS</th>\n",
       "      <td>69</td>\n",
       "      <td>74</td>\n",
       "    </tr>\n",
       "    <tr>\n",
       "      <th>HDAC2</th>\n",
       "      <td>15</td>\n",
       "      <td>19</td>\n",
       "    </tr>\n",
       "    <tr>\n",
       "      <th>MAF</th>\n",
       "      <td>15</td>\n",
       "      <td>11</td>\n",
       "    </tr>\n",
       "    <tr>\n",
       "      <th>MXI1</th>\n",
       "      <td>23</td>\n",
       "      <td>31</td>\n",
       "    </tr>\n",
       "    <tr>\n",
       "      <th>MYC</th>\n",
       "      <td>168</td>\n",
       "      <td>183</td>\n",
       "    </tr>\n",
       "    <tr>\n",
       "      <th>NANOG</th>\n",
       "      <td>11</td>\n",
       "      <td>18</td>\n",
       "    </tr>\n",
       "    <tr>\n",
       "      <th>NRF1</th>\n",
       "      <td>60</td>\n",
       "      <td>52</td>\n",
       "    </tr>\n",
       "    <tr>\n",
       "      <th>POU5F1</th>\n",
       "      <td>17</td>\n",
       "      <td>21</td>\n",
       "    </tr>\n",
       "    <tr>\n",
       "      <th>RAD21</th>\n",
       "      <td>237</td>\n",
       "      <td>234</td>\n",
       "    </tr>\n",
       "    <tr>\n",
       "      <th>REST</th>\n",
       "      <td>96</td>\n",
       "      <td>90</td>\n",
       "    </tr>\n",
       "    <tr>\n",
       "      <th>RFX5</th>\n",
       "      <td>2</td>\n",
       "      <td>3</td>\n",
       "    </tr>\n",
       "    <tr>\n",
       "      <th>RXRA</th>\n",
       "      <td>5</td>\n",
       "      <td>13</td>\n",
       "    </tr>\n",
       "    <tr>\n",
       "      <th>SIN3A</th>\n",
       "      <td>469</td>\n",
       "      <td>450</td>\n",
       "    </tr>\n",
       "    <tr>\n",
       "      <th>SIX5</th>\n",
       "      <td>11</td>\n",
       "      <td>3</td>\n",
       "    </tr>\n",
       "    <tr>\n",
       "      <th>SP1</th>\n",
       "      <td>302</td>\n",
       "      <td>260</td>\n",
       "    </tr>\n",
       "    <tr>\n",
       "      <th>SP2</th>\n",
       "      <td>12</td>\n",
       "      <td>10</td>\n",
       "    </tr>\n",
       "    <tr>\n",
       "      <th>SP4</th>\n",
       "      <td>72</td>\n",
       "      <td>70</td>\n",
       "    </tr>\n",
       "    <tr>\n",
       "      <th>SRF</th>\n",
       "      <td>50</td>\n",
       "      <td>23</td>\n",
       "    </tr>\n",
       "    <tr>\n",
       "      <th>TATA</th>\n",
       "      <td>500</td>\n",
       "      <td>500</td>\n",
       "    </tr>\n",
       "    <tr>\n",
       "      <th>TCF12</th>\n",
       "      <td>31</td>\n",
       "      <td>32</td>\n",
       "    </tr>\n",
       "    <tr>\n",
       "      <th>TEAD4</th>\n",
       "      <td>5</td>\n",
       "      <td>6</td>\n",
       "    </tr>\n",
       "    <tr>\n",
       "      <th>YY1</th>\n",
       "      <td>248</td>\n",
       "      <td>318</td>\n",
       "    </tr>\n",
       "    <tr>\n",
       "      <th>ZNF143</th>\n",
       "      <td>168</td>\n",
       "      <td>124</td>\n",
       "    </tr>\n",
       "  </tbody>\n",
       "</table>\n",
       "</div>"
      ],
      "text/plain": [
       "        repress  activate\n",
       "tf                       \n",
       "AP1          11        13\n",
       "ATF2          5         8\n",
       "ATF3         48        56\n",
       "BACH1         4         3\n",
       "BCL           2         3\n",
       "BRCA1        16         6\n",
       "CEBPB        21        24\n",
       "CHD2         42        44\n",
       "CTCF        281       221\n",
       "EGR1        311       249\n",
       "EP300        86        92\n",
       "ETS          69        74\n",
       "HDAC2        15        19\n",
       "MAF          15        11\n",
       "MXI1         23        31\n",
       "MYC         168       183\n",
       "NANOG        11        18\n",
       "NRF1         60        52\n",
       "POU5F1       17        21\n",
       "RAD21       237       234\n",
       "REST         96        90\n",
       "RFX5          2         3\n",
       "RXRA          5        13\n",
       "SIN3A       469       450\n",
       "SIX5         11         3\n",
       "SP1         302       260\n",
       "SP2          12        10\n",
       "SP4          72        70\n",
       "SRF          50        23\n",
       "TATA        500       500\n",
       "TCF12        31        32\n",
       "TEAD4         5         6\n",
       "YY1         248       318\n",
       "ZNF143      168       124"
      ]
     },
     "execution_count": 655,
     "metadata": {},
     "output_type": "execute_result"
    }
   ],
   "source": [
    "tf"
   ]
  },
  {
   "cell_type": "code",
   "execution_count": null,
   "metadata": {
    "collapsed": true
   },
   "outputs": [],
   "source": []
  },
  {
   "cell_type": "code",
   "execution_count": null,
   "metadata": {
    "collapsed": true
   },
   "outputs": [],
   "source": []
  },
  {
   "cell_type": "markdown",
   "metadata": {},
   "source": [
    "TODO: More likely to fall in enhancers?"
   ]
  },
  {
   "cell_type": "code",
   "execution_count": null,
   "metadata": {
    "collapsed": true
   },
   "outputs": [],
   "source": [
    "# GM12878_CTCF\n",
    "# http://www.ncbi.nlm.nih.gov/geo/query/acc.cgi?acc=GSM1872886\n",
    "url = ('http://www.ncbi.nlm.nih.gov/geo/download/?acc=GSM1872886&format=file&file='\n",
    "       'GSM1872886%5FGM12878%5FCTCF%5FPET%5Fclusters%2Etxt%2Egz')\n",
    "\n",
    "# GM12878_RNAPII\n",
    "# http://www.ncbi.nlm.nih.gov/geo/query/acc.cgi?acc=GSM1872887\n",
    "url = ('http://www.ncbi.nlm.nih.gov/geo/download/?acc=GSM1872887&format=file&file='\n",
    "       'GSM1872887%5FGM12878%5FRNAPII%5FPET%5Fclusters%2Etxt%2Egz')\n",
    "s = cpb.general.read_gzipped_text_url(url)\n",
    "lines = [x.strip().split('\\t') for x in s.split('\\n')[:-1]]\n",
    "gm_rnap = pd.DataFrame(lines, columns=['chr1', 'start1', 'end1',\n",
    "                                       'chr2', 'start2', 'end2', 'num'])\n",
    "for c in ['start1', 'start2', 'end1', 'end2', 'num']:\n",
    "    gm_rnap[c] = gm_rnap[c].astype(int)\n",
    "\n",
    "# HeLa_CTCF\n",
    "# http://www.ncbi.nlm.nih.gov/geo/query/acc.cgi?acc=GSM1872888\n",
    "url = ('http://www.ncbi.nlm.nih.gov/geo/download/?acc=GSM1872888&format=file&file='\n",
    "       'GSM1872888%5FHeLa%5FCTCF%5FPET%5Fclusters%2Etxt%2Egz')\n",
    "\n",
    "# HeLa_RNAPII\n",
    "# http://www.ncbi.nlm.nih.gov/geo/query/acc.cgi?acc=GSM1872889\n",
    "url = ('http://www.ncbi.nlm.nih.gov/geo/download/?acc=GSM1872889&format=file&file='\n",
    "       'GSM1872889%5FHeLa%5FRNAPII%5FPET%5Fclusters%2Etxt%2Egz')\n",
    "s = cpb.general.read_gzipped_text_url(url)\n",
    "lines = [x.strip().split('\\t') for x in s.split('\\n')[:-1]]\n",
    "hela_rnap = pd.DataFrame(lines, columns=['chr1', 'start1', 'end1',\n",
    "                                       'chr2', 'start2', 'end2', 'num'])\n",
    "for c in ['start1', 'start2', 'end1', 'end2', 'num']:\n",
    "    hela_rnap[c] = hela_rnap[c].astype(int)"
   ]
  },
  {
   "cell_type": "code",
   "execution_count": 678,
   "metadata": {
    "collapsed": false
   },
   "outputs": [
    {
     "data": {
      "text/html": [
       "<div>\n",
       "<table border=\"1\" class=\"dataframe\">\n",
       "  <thead>\n",
       "    <tr style=\"text-align: right;\">\n",
       "      <th></th>\n",
       "      <th>chr1</th>\n",
       "      <th>start1</th>\n",
       "      <th>end1</th>\n",
       "      <th>chr2</th>\n",
       "      <th>start2</th>\n",
       "      <th>end2</th>\n",
       "      <th>num</th>\n",
       "    </tr>\n",
       "  </thead>\n",
       "  <tbody>\n",
       "    <tr>\n",
       "      <th>0</th>\n",
       "      <td>chr5</td>\n",
       "      <td>172755596</td>\n",
       "      <td>172756703</td>\n",
       "      <td>chr5</td>\n",
       "      <td>172881992</td>\n",
       "      <td>172882886</td>\n",
       "      <td>4</td>\n",
       "    </tr>\n",
       "    <tr>\n",
       "      <th>1</th>\n",
       "      <td>chr2</td>\n",
       "      <td>67867350</td>\n",
       "      <td>67867483</td>\n",
       "      <td>chr6</td>\n",
       "      <td>7058521</td>\n",
       "      <td>7058693</td>\n",
       "      <td>2</td>\n",
       "    </tr>\n",
       "    <tr>\n",
       "      <th>2</th>\n",
       "      <td>chr16</td>\n",
       "      <td>76131648</td>\n",
       "      <td>76131707</td>\n",
       "      <td>chr3</td>\n",
       "      <td>99478080</td>\n",
       "      <td>99478116</td>\n",
       "      <td>2</td>\n",
       "    </tr>\n",
       "    <tr>\n",
       "      <th>3</th>\n",
       "      <td>chr19</td>\n",
       "      <td>50786267</td>\n",
       "      <td>50786519</td>\n",
       "      <td>chr2</td>\n",
       "      <td>161650567</td>\n",
       "      <td>161650666</td>\n",
       "      <td>2</td>\n",
       "    </tr>\n",
       "    <tr>\n",
       "      <th>4</th>\n",
       "      <td>chr14</td>\n",
       "      <td>31550371</td>\n",
       "      <td>31550417</td>\n",
       "      <td>chr5</td>\n",
       "      <td>5930449</td>\n",
       "      <td>5930510</td>\n",
       "      <td>3</td>\n",
       "    </tr>\n",
       "  </tbody>\n",
       "</table>\n",
       "</div>"
      ],
      "text/plain": [
       "    chr1     start1       end1  chr2     start2       end2  num\n",
       "0   chr5  172755596  172756703  chr5  172881992  172882886    4\n",
       "1   chr2   67867350   67867483  chr6    7058521    7058693    2\n",
       "2  chr16   76131648   76131707  chr3   99478080   99478116    2\n",
       "3  chr19   50786267   50786519  chr2  161650567  161650666    2\n",
       "4  chr14   31550371   31550417  chr5    5930449    5930510    3"
      ]
     },
     "execution_count": 678,
     "metadata": {},
     "output_type": "execute_result"
    }
   ],
   "source": [
    "hela_rnap.head()"
   ]
  },
  {
   "cell_type": "markdown",
   "metadata": {
    "collapsed": true
   },
   "source": [
    "TODO: I can also compare conservation."
   ]
  },
  {
   "cell_type": "code",
   "execution_count": null,
   "metadata": {
    "collapsed": true
   },
   "outputs": [],
   "source": []
  }
 ],
 "metadata": {
  "kernelspec": {
   "display_name": "Python 2",
   "language": "python",
   "name": "python2"
  },
  "language_info": {
   "codemirror_mode": {
    "name": "ipython",
    "version": 2
   },
   "file_extension": ".py",
   "mimetype": "text/x-python",
   "name": "python",
   "nbconvert_exporter": "python",
   "pygments_lexer": "ipython2",
   "version": "2.7.11"
  }
 },
 "nbformat": 4,
 "nbformat_minor": 0
}
