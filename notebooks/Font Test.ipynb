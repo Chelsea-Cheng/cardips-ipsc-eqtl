{
 "cells": [
  {
   "cell_type": "code",
   "execution_count": 1,
   "metadata": {
    "collapsed": true
   },
   "outputs": [],
   "source": [
    "import dask.dataframe as dd"
   ]
  },
  {
   "cell_type": "code",
   "execution_count": 4,
   "metadata": {
    "collapsed": true
   },
   "outputs": [],
   "source": [
    "fn = '/projects/CARDIPS/pipeline/Hi-C/7_indv_HiC/contact_matrices/merged/normalized/iPSC/iPSC.10Kb.nor.chr1.mat'"
   ]
  },
  {
   "cell_type": "code",
   "execution_count": 11,
   "metadata": {
    "collapsed": true
   },
   "outputs": [],
   "source": [
    "dd.read_csv?"
   ]
  },
  {
   "cell_type": "code",
   "execution_count": 12,
   "metadata": {
    "collapsed": false
   },
   "outputs": [
    {
     "ename": "AttributeError",
     "evalue": "'int' object has no attribute 'strip'",
     "output_type": "error",
     "traceback": [
      "\u001b[1;31m---------------------------------------------------------------------------\u001b[0m",
      "\u001b[1;31mAttributeError\u001b[0m                            Traceback (most recent call last)",
      "\u001b[1;32m<ipython-input-12-841ee68b6cc2>\u001b[0m in \u001b[0;36m<module>\u001b[1;34m()\u001b[0m\n\u001b[1;32m----> 1\u001b[1;33m \u001b[0mdf\u001b[0m \u001b[1;33m=\u001b[0m \u001b[0mdd\u001b[0m\u001b[1;33m.\u001b[0m\u001b[0mread_csv\u001b[0m\u001b[1;33m(\u001b[0m\u001b[0mfn\u001b[0m\u001b[1;33m,\u001b[0m \u001b[0msep\u001b[0m\u001b[1;33m=\u001b[0m\u001b[1;34m'\\t'\u001b[0m\u001b[1;33m,\u001b[0m \u001b[0mheader\u001b[0m\u001b[1;33m=\u001b[0m\u001b[0mNone\u001b[0m\u001b[1;33m)\u001b[0m\u001b[1;33m\u001b[0m\u001b[0m\n\u001b[0m",
      "\u001b[1;32m/frazer01/home/cdeboever/software/anaconda/envs/cie/lib/python2.7/site-packages/dask/dataframe/io.py\u001b[0m in \u001b[0;36mread_csv\u001b[1;34m(fn, **kwargs)\u001b[0m\n\u001b[0;32m    201\u001b[0m     \u001b[0mkwargs\u001b[0m \u001b[1;33m=\u001b[0m \u001b[0mkwargs\u001b[0m\u001b[1;33m.\u001b[0m\u001b[0mcopy\u001b[0m\u001b[1;33m(\u001b[0m\u001b[1;33m)\u001b[0m\u001b[1;33m\u001b[0m\u001b[0m\n\u001b[0;32m    202\u001b[0m \u001b[1;33m\u001b[0m\u001b[0m\n\u001b[1;32m--> 203\u001b[1;33m     \u001b[0mcolumns\u001b[0m\u001b[1;33m,\u001b[0m \u001b[0mkwargs\u001b[0m \u001b[1;33m=\u001b[0m \u001b[0mfill_kwargs\u001b[0m\u001b[1;33m(\u001b[0m\u001b[0mfn\u001b[0m\u001b[1;33m,\u001b[0m \u001b[1;33m**\u001b[0m\u001b[0mkwargs\u001b[0m\u001b[1;33m)\u001b[0m\u001b[1;33m\u001b[0m\u001b[0m\n\u001b[0m\u001b[0;32m    204\u001b[0m \u001b[1;33m\u001b[0m\u001b[0m\n\u001b[0;32m    205\u001b[0m     \u001b[1;31m# Handle glob strings\u001b[0m\u001b[1;33m\u001b[0m\u001b[1;33m\u001b[0m\u001b[0m\n",
      "\u001b[1;32m/frazer01/home/cdeboever/software/anaconda/envs/cie/lib/python2.7/site-packages/dask/dataframe/io.py\u001b[0m in \u001b[0;36mfill_kwargs\u001b[1;34m(fn, **kwargs)\u001b[0m\n\u001b[0;32m    188\u001b[0m     \u001b[0mkwargs\u001b[0m\u001b[1;33m[\u001b[0m\u001b[1;34m'dtype'\u001b[0m\u001b[1;33m]\u001b[0m \u001b[1;33m=\u001b[0m \u001b[0mdtype\u001b[0m\u001b[1;33m\u001b[0m\u001b[0m\n\u001b[0;32m    189\u001b[0m \u001b[1;33m\u001b[0m\u001b[0m\n\u001b[1;32m--> 190\u001b[1;33m     \u001b[1;32mreturn\u001b[0m \u001b[0mhead\u001b[0m\u001b[1;33m.\u001b[0m\u001b[0mcolumns\u001b[0m\u001b[1;33m.\u001b[0m\u001b[0mmap\u001b[0m\u001b[1;33m(\u001b[0m\u001b[1;32mlambda\u001b[0m \u001b[0ms\u001b[0m\u001b[1;33m:\u001b[0m \u001b[0ms\u001b[0m\u001b[1;33m.\u001b[0m\u001b[0mstrip\u001b[0m\u001b[1;33m(\u001b[0m\u001b[1;33m)\u001b[0m\u001b[1;33m)\u001b[0m\u001b[1;33m,\u001b[0m \u001b[0mkwargs\u001b[0m\u001b[1;33m\u001b[0m\u001b[0m\n\u001b[0m\u001b[0;32m    191\u001b[0m \u001b[1;33m\u001b[0m\u001b[0m\n\u001b[0;32m    192\u001b[0m \u001b[1;33m\u001b[0m\u001b[0m\n",
      "\u001b[1;32m/frazer01/home/cdeboever/software/anaconda/envs/cie/lib/python2.7/site-packages/pandas/core/index.pyc\u001b[0m in \u001b[0;36mmap\u001b[1;34m(self, mapper)\u001b[0m\n\u001b[0;32m   2036\u001b[0m \u001b[1;33m\u001b[0m\u001b[0m\n\u001b[0;32m   2037\u001b[0m     \u001b[1;32mdef\u001b[0m \u001b[0mmap\u001b[0m\u001b[1;33m(\u001b[0m\u001b[0mself\u001b[0m\u001b[1;33m,\u001b[0m \u001b[0mmapper\u001b[0m\u001b[1;33m)\u001b[0m\u001b[1;33m:\u001b[0m\u001b[1;33m\u001b[0m\u001b[0m\n\u001b[1;32m-> 2038\u001b[1;33m         \u001b[1;32mreturn\u001b[0m \u001b[0mself\u001b[0m\u001b[1;33m.\u001b[0m\u001b[0m_arrmap\u001b[0m\u001b[1;33m(\u001b[0m\u001b[0mself\u001b[0m\u001b[1;33m.\u001b[0m\u001b[0mvalues\u001b[0m\u001b[1;33m,\u001b[0m \u001b[0mmapper\u001b[0m\u001b[1;33m)\u001b[0m\u001b[1;33m\u001b[0m\u001b[0m\n\u001b[0m\u001b[0;32m   2039\u001b[0m \u001b[1;33m\u001b[0m\u001b[0m\n\u001b[0;32m   2040\u001b[0m     \u001b[1;32mdef\u001b[0m \u001b[0misin\u001b[0m\u001b[1;33m(\u001b[0m\u001b[0mself\u001b[0m\u001b[1;33m,\u001b[0m \u001b[0mvalues\u001b[0m\u001b[1;33m,\u001b[0m \u001b[0mlevel\u001b[0m\u001b[1;33m=\u001b[0m\u001b[0mNone\u001b[0m\u001b[1;33m)\u001b[0m\u001b[1;33m:\u001b[0m\u001b[1;33m\u001b[0m\u001b[0m\n",
      "\u001b[1;32mpandas/src/generated.pyx\u001b[0m in \u001b[0;36mpandas.algos.arrmap_int64 (pandas/algos.c:82638)\u001b[1;34m()\u001b[0m\n",
      "\u001b[1;32m/frazer01/home/cdeboever/software/anaconda/envs/cie/lib/python2.7/site-packages/dask/dataframe/io.py\u001b[0m in \u001b[0;36m<lambda>\u001b[1;34m(s)\u001b[0m\n\u001b[0;32m    188\u001b[0m     \u001b[0mkwargs\u001b[0m\u001b[1;33m[\u001b[0m\u001b[1;34m'dtype'\u001b[0m\u001b[1;33m]\u001b[0m \u001b[1;33m=\u001b[0m \u001b[0mdtype\u001b[0m\u001b[1;33m\u001b[0m\u001b[0m\n\u001b[0;32m    189\u001b[0m \u001b[1;33m\u001b[0m\u001b[0m\n\u001b[1;32m--> 190\u001b[1;33m     \u001b[1;32mreturn\u001b[0m \u001b[0mhead\u001b[0m\u001b[1;33m.\u001b[0m\u001b[0mcolumns\u001b[0m\u001b[1;33m.\u001b[0m\u001b[0mmap\u001b[0m\u001b[1;33m(\u001b[0m\u001b[1;32mlambda\u001b[0m \u001b[0ms\u001b[0m\u001b[1;33m:\u001b[0m \u001b[0ms\u001b[0m\u001b[1;33m.\u001b[0m\u001b[0mstrip\u001b[0m\u001b[1;33m(\u001b[0m\u001b[1;33m)\u001b[0m\u001b[1;33m)\u001b[0m\u001b[1;33m,\u001b[0m \u001b[0mkwargs\u001b[0m\u001b[1;33m\u001b[0m\u001b[0m\n\u001b[0m\u001b[0;32m    191\u001b[0m \u001b[1;33m\u001b[0m\u001b[0m\n\u001b[0;32m    192\u001b[0m \u001b[1;33m\u001b[0m\u001b[0m\n",
      "\u001b[1;31mAttributeError\u001b[0m: 'int' object has no attribute 'strip'"
     ]
    }
   ],
   "source": [
    "df = dd.read_csv(fn, sep='\\t', header=None)"
   ]
  },
  {
   "cell_type": "code",
   "execution_count": null,
   "metadata": {
    "collapsed": false
   },
   "outputs": [],
   "source": [
    "df.loc[100, 200]"
   ]
  },
  {
   "cell_type": "code",
   "execution_count": 21,
   "metadata": {
    "collapsed": false
   },
   "outputs": [
    {
     "data": {
      "text/plain": [
       "<matplotlib.collections.PathCollection at 0x7f601ec64f10>"
      ]
     },
     "execution_count": 21,
     "metadata": {},
     "output_type": "execute_result"
    },
    {
     "data": {
      "image/png": "[encoded data removed]",
      "text/plain": [
       "<matplotlib.figure.Figure at 0x7f6001353b10>"
      ]
     },
     "metadata": {},
     "output_type": "display_data"
    }
   ],
   "source": [
    "import matplotlib.pyplot as plt\n",
    "%matplotlib inline\n",
    "plt.rcParams['font.sans-serif'] = ['Arial']\n",
    "plt.scatter([1,2,4], [4,5,7])"
   ]
  },
  {
   "cell_type": "code",
   "execution_count": null,
   "metadata": {
    "collapsed": true
   },
   "outputs": [],
   "source": [
    "plt.savefig"
   ]
  },
  {
   "cell_type": "code",
   "execution_count": 2,
   "metadata": {
    "collapsed": false
   },
   "outputs": [],
   "source": [
    "plt.rcParams['font.sans-serif'] = ['Arial']\n",
    "plt.scatter([1,2,4], [4,5,7])"
   ]
  },
  {
   "cell_type": "code",
   "execution_count": 3,
   "metadata": {
    "collapsed": false
   },
   "outputs": [
    {
     "data": {
      "text/plain": [
       "[u'Arial']"
      ]
     },
     "execution_count": 3,
     "metadata": {},
     "output_type": "execute_result"
    }
   ],
   "source": [
    "plt.rcParams['font.sans-serif']"
   ]
  },
  {
   "cell_type": "code",
   "execution_count": 5,
   "metadata": {
    "collapsed": false
   },
   "outputs": [
    {
     "data": {
      "text/plain": [
       "<matplotlib.collections.PathCollection at 0x7f50d621bfd0>"
      ]
     },
     "execution_count": 5,
     "metadata": {},
     "output_type": "execute_result"
    },
    {
     "name": "stderr",
     "output_type": "stream",
     "text": [
      "/frazer01/home/cdeboever/software/anaconda/envs/cie/lib/python2.7/site-packages/matplotlib/font_manager.py:1287: UserWarning: findfont: Font family [u'sans-serif'] not found. Falling back to Bitstream Vera Sans\n",
      "  (prop.get_family(), self.defaultFamily[fontext]))\n"
     ]
    },
    {
     "data": {
      "image/png": "[encoded data removed]",
      "text/plain": [
       "<matplotlib.figure.Figure at 0x7f50d62f72d0>"
      ]
     },
     "metadata": {},
     "output_type": "display_data"
    }
   ],
   "source": [
    "plt.scatter([1,2,4], [4,5,7])"
   ]
  },
  {
   "cell_type": "code",
   "execution_count": 10,
   "metadata": {
    "collapsed": false
   },
   "outputs": [],
   "source": [
    "import os\n",
    "import re\n",
    "import urllib2\n",
    "\n",
    "import pandas as pd\n",
    "import pybedtools as pbt\n",
    "\n",
    "fn = os.path.join('/publicdata/roadmap_15_state_20151104/EIDlegend.txt')\n",
    "roadmap_ids = pd.read_table(fn, squeeze=True, index_col=0, header=None)\n",
    "\n",
    "url = ('http://egg2.wustl.edu/roadmap/data/byFileType'\n",
    "'/peaks/consolidated/narrowPeak/')\n",
    "website = urllib2.urlopen(url)\n",
    "html = website.read()\n",
    "files = re.findall('href=\"(.*\\.gz)\"', html)\n",
    "lines = [x for x in roadmap_ids.index if 'iPS' in roadmap_ids[x]]\n",
    "files = [x for x in files if x.split('-')[0] in lines]\n",
    "files = [x for x in files if 'hotspot' not in x]\n",
    "urls = ['http://egg2.wustl.edu/roadmap/data/byFileType/peaks/consolidated/narrowPeak/{}'.format(n)\n",
    "        for n in files]\n",
    "\n",
    "def read_gzipped_text_url(url):\n",
    "    \"\"\"Read a gzipped text file from a URL and return \n",
    "    contents as a string.\"\"\"\n",
    "    import urllib2\n",
    "    import zlib\n",
    "    from StringIO import StringIO\n",
    "\n",
    "    opener = urllib2.build_opener() \n",
    "    request = urllib2.Request(url)\n",
    "    request.add_header('Accept-encoding', 'gzip')\n",
    "    respond = opener.open(request)\n",
    "    compressedData = respond.read()\n",
    "    respond.close()\n",
    "    opener.close()\n",
    "    compressedDataBuf = StringIO(compressedData)\n",
    "    d = zlib.decompressobj(16+zlib.MAX_WBITS)\n",
    "    buffer = compressedDataBuf.read(1024)\n",
    "    #saveFile = open('/tmp/test.txt', \"wb\")\n",
    "    s = []\n",
    "    while buffer:\n",
    "        s.append(d.decompress(buffer))\n",
    "        buffer = compressedDataBuf.read(1024)\n",
    "    s = ''.join(s)\n",
    "    return s\n",
    "\n",
    "s = read_gzipped_text_url(urls[0])\n",
    "bt = pbt.BedTool(s, from_string=True)"
   ]
  },
  {
   "cell_type": "code",
   "execution_count": null,
   "metadata": {
    "collapsed": true
   },
   "outputs": [],
   "source": []
  },
  {
   "cell_type": "code",
   "execution_count": null,
   "metadata": {
    "collapsed": true
   },
   "outputs": [],
   "source": []
  },
  {
   "cell_type": "code",
   "execution_count": null,
   "metadata": {
    "collapsed": true
   },
   "outputs": [],
   "source": [
    "r = sm.sandbox.stats.multicomp.multipletests(pvalues, method='fdr_bh')\n",
    "#pvalues_bh = pd.Series(r[1], index=pvalues.index)\n",
    "#sum(pvalues_bh < 0.05)"
   ]
  },
  {
   "cell_type": "code",
   "execution_count": null,
   "metadata": {
    "collapsed": true
   },
   "outputs": [],
   "source": []
  },
  {
   "cell_type": "code",
   "execution_count": null,
   "metadata": {
    "collapsed": true
   },
   "outputs": [],
   "source": []
  },
  {
   "cell_type": "code",
   "execution_count": 17,
   "metadata": {
    "collapsed": true
   },
   "outputs": [],
   "source": [
    "import glob\n",
    "\n",
    "import matplotlib.pyplot as plt\n",
    "import pandas as pd\n",
    "\n",
    "%matplotlib inline"
   ]
  },
  {
   "cell_type": "code",
   "execution_count": 14,
   "metadata": {
    "collapsed": false
   },
   "outputs": [],
   "source": [
    "fns = glob.glob('/projects/CARDIPS/pipeline/ATACseq/sample/*/logs/*macs2.err')\n",
    "fragments = []\n",
    "for fn in fns:\n",
    "    with open(fn) as f:\n",
    "        lines = [x.strip() for x in f.readlines()]\n",
    "        fragments.append(int([x for x in lines if '#1 fragment size' in x][0].split()[-1]))"
   ]
  },
  {
   "cell_type": "code",
   "execution_count": 19,
   "metadata": {
    "collapsed": false
   },
   "outputs": [
    {
     "data": {
      "text/plain": [
       "83.0"
      ]
     },
     "execution_count": 19,
     "metadata": {},
     "output_type": "execute_result"
    }
   ],
   "source": [
    "pd.Series(fragments).median()"
   ]
  },
  {
   "cell_type": "code",
   "execution_count": 18,
   "metadata": {
    "collapsed": false
   },
   "outputs": [
    {
     "data": {
      "text/plain": [
       "<matplotlib.axes._subplots.AxesSubplot at 0x7fd1d226d690>"
      ]
     },
     "execution_count": 18,
     "metadata": {},
     "output_type": "execute_result"
    },
    {
     "data": {
      "image/png": "[encoded data removed]",
      "text/plain": [
       "<matplotlib.figure.Figure at 0x7fd1d2255f90>"
      ]
     },
     "metadata": {},
     "output_type": "display_data"
    }
   ],
   "source": [
    "pd.Series(fragments).hist()"
   ]
  },
  {
   "cell_type": "code",
   "execution_count": 34,
   "metadata": {
    "collapsed": true
   },
   "outputs": [],
   "source": [
    "import os\n",
    "import subprocess"
   ]
  },
  {
   "cell_type": "code",
   "execution_count": 37,
   "metadata": {
    "collapsed": true
   },
   "outputs": [],
   "source": [
    "import time"
   ]
  },
  {
   "cell_type": "code",
   "execution_count": 53,
   "metadata": {
    "collapsed": false
   },
   "outputs": [],
   "source": [
    "fns = glob.glob('/projects/CARDIPS/pipeline/ATACseq/sample/*/alignment/*_sorted_rmdup.bam')\n",
    "count = 1\n",
    "for fn in fns[2:]:\n",
    "    dy = os.path.split(fn)[0]\n",
    "    name = fn.split('/')[-3]\n",
    "    sh = os.path.join(os.path.split(dy)[0], 'sh', '{}_qsort.sh'.format(name))\n",
    "    out = os.path.splitext(fn)[0] + '_query_sorted.bam'\n",
    "    if not os.path.exists(sh):\n",
    "        lines = '#!/bin/bash\\n\\n'\n",
    "        lines += '#$ -N job_{}_qsort\\n'.format(name)\n",
    "        lines += '#$ -l h_vmem=1.5G\\n'\n",
    "        lines += '#$ -pe smp 4\\n'\n",
    "        lines += '#$ -S /bin/bash\\n'\n",
    "        lines += '#$ -o /projects/CARDIPS/pipeline/ATACseq/sample/{0}/logs/job_{0}_qsort.out\\n'.format(name)\n",
    "        lines += '#$ -e /projects/CARDIPS/pipeline/ATACseq/sample/{0}/logs/job_{0}_qsort.err\\n\\n'.format(name)\n",
    "        lines += ('# This script runs query sorting for the rmdup bam because an earlier version of the pipeline'\n",
    "                  ' didn\\'t have this command.\\n\\n')\n",
    "        lines += 'module load cardips\\n'\n",
    "        lines += 'source activate cardips\\n'\n",
    "        lines += ('sambamba sort -m 4GB -t 4 -n \\\\\\n\\t--tmpdir {} \\\\\\n\\t{} \\\\\\n\\t-o {}\\n'.format(dy, fn, out))\n",
    "        with open(sh, 'w') as f:\n",
    "            f.write(lines)\n",
    "        subprocess.check_call('qsub {}'.format(sh), shell=True)\n",
    "        count += 1"
   ]
  },
  {
   "cell_type": "code",
   "execution_count": null,
   "metadata": {
    "collapsed": true
   },
   "outputs": [],
   "source": [
    "#!/bin/bash\n",
    "\n",
    "#$ -N job_1071bbc3-1c0c-423d-a3b8-3912d4eefa84_alignment\n",
    "#$ -l h_vmem=4.0G\n",
    "#$ -pe smp 8\n",
    "#$ -S /bin/bash\n",
    "#$ -o /projects/CARDIPS/pipeline/ATACseq/sample/1071bbc3-1c0c-423d-a3b8-3912d4eefa84/logs/job_1071bbc3-1c0c-423d-a3b8-3912d4eefa84_alignment.out\n",
    "#$ -e /projects/CARDIPS/pipeline/ATACseq/sample/1071bbc3-1c0c-423d-a3b8-3912d4eefa84/logs/job_1071bbc3-1c0c-423d-a3b8-3912d4eefa84_alignment.err\n",
    "\n",
    "# Git repository version:\n",
    "# 143ac01998ad4100bdde2f3fa1ba1b9384744f6a (HEAD -> new_cluster, origin/new_cluster) Bug fix for removing duplicates\n",
    "\n",
    "module load cardips\n",
    "\n",
    "source activate cardips\n",
    "\n"
   ]
  },
  {
   "cell_type": "code",
   "execution_count": 29,
   "metadata": {
    "collapsed": false
   },
   "outputs": [
    {
     "data": {
      "text/plain": [
       "'sambamba sort -m 4GB -t 4 -n --tmpdir /projects/CARDIPS/pipeline/ATACseq/sample/472b28d7-565a-4fbd-81d0-88aec1c67669/alignment /projects/CARDIPS/pipeline/ATACseq/sample/472b28d7-565a-4fbd-81d0-88aec1c67669/alignment/472b28d7-565a-4fbd-81d0-88aec1c67669_sorted_rmdup.bam -o /projects/CARDIPS/pipeline/ATACseq/sample/472b28d7-565a-4fbd-81d0-88aec1c67669/alignment/472b28d7-565a-4fbd-81d0-88aec1c67669_sorted_rmdup_query_sorted.bam'"
      ]
     },
     "execution_count": 29,
     "metadata": {},
     "output_type": "execute_result"
    }
   ],
   "source": [
    "c"
   ]
  },
  {
   "cell_type": "code",
   "execution_count": null,
   "metadata": {
    "collapsed": true
   },
   "outputs": [],
   "source": []
  },
  {
   "cell_type": "code",
   "execution_count": null,
   "metadata": {
    "collapsed": true
   },
   "outputs": [],
   "source": []
  },
  {
   "cell_type": "code",
   "execution_count": 60,
   "metadata": {
    "collapsed": true
   },
   "outputs": [],
   "source": [
    "dys = glob.glob('/projects/CARDIPS/pipeline/ATACseq/sample/*')\n",
    "dys = [x for x in dys if '1071bbc3-1c0c-423d-a3b8-3912d4eefa84' not in x]\n",
    "dys = [x for x in dys if 'old' not in x]\n",
    "dys = [x for x in dys if 'SRR' not in x]"
   ]
  },
  {
   "cell_type": "code",
   "execution_count": 63,
   "metadata": {
    "collapsed": false
   },
   "outputs": [
    {
     "data": {
      "text/plain": [
       "'/projects/CARDIPS/pipeline/ATACseq/sample/4d75c71d-a7d6-4280-9248-36ac6712ff14'"
      ]
     },
     "execution_count": 63,
     "metadata": {},
     "output_type": "execute_result"
    }
   ],
   "source": [
    "dys[0]"
   ]
  },
  {
   "cell_type": "code",
   "execution_count": 64,
   "metadata": {
    "collapsed": false
   },
   "outputs": [
    {
     "name": "stdout",
     "output_type": "stream",
     "text": [
      "^C\r\n"
     ]
    }
   ],
   "source": [
    "for dy in dys:\n",
    "    !rm -r {'{}/*counts'.format(dy)}\n",
    "    !rm -r {'{}/sh/*counts*'.format(dy)}\n",
    "    !rm -r {'{}/logs/*counts*'.format(dy)}"
   ]
  },
  {
   "cell_type": "code",
   "execution_count": 66,
   "metadata": {
    "collapsed": false
   },
   "outputs": [
    {
     "ename": "SyntaxError",
     "evalue": "invalid syntax (<ipython-input-66-76dd9541e76f>, line 1)",
     "output_type": "error",
     "traceback": [
      "\u001b[1;36m  File \u001b[1;32m\"<ipython-input-66-76dd9541e76f>\"\u001b[1;36m, line \u001b[1;32m1\u001b[0m\n\u001b[1;33m    3 + #\u001b[0m\n\u001b[1;37m         ^\u001b[0m\n\u001b[1;31mSyntaxError\u001b[0m\u001b[1;31m:\u001b[0m invalid syntax\n"
     ]
    }
   ],
   "source": [
    "3 + #"
   ]
  },
  {
   "cell_type": "code",
   "execution_count": 2,
   "metadata": {
    "collapsed": true
   },
   "outputs": [],
   "source": [
    "import pandas as pd"
   ]
  },
  {
   "cell_type": "code",
   "execution_count": 16,
   "metadata": {
    "collapsed": false
   },
   "outputs": [],
   "source": [
    "df = pd.read_table('/projects/T2D/pipeline/ATACseq/combined_files/star_logs.tsv', index_col=0)"
   ]
  },
  {
   "cell_type": "code",
   "execution_count": 17,
   "metadata": {
    "collapsed": false
   },
   "outputs": [
    {
     "data": {
      "text/html": [
       "<div>\n",
       "<table border=\"1\" class=\"dataframe\">\n",
       "  <thead>\n",
       "    <tr style=\"text-align: right;\">\n",
       "      <th></th>\n",
       "      <th>Number of input reads</th>\n",
       "      <th>Uniquely mapped reads %</th>\n",
       "    </tr>\n",
       "  </thead>\n",
       "  <tbody>\n",
       "    <tr>\n",
       "      <th>A0001_ISL_ATAC_S38</th>\n",
       "      <td>52169201</td>\n",
       "      <td>82.71</td>\n",
       "    </tr>\n",
       "    <tr>\n",
       "      <th>A0001_ISL_ATAC_S37</th>\n",
       "      <td>11013598</td>\n",
       "      <td>81.95</td>\n",
       "    </tr>\n",
       "    <tr>\n",
       "      <th>A0001_ISL_ATAC_combined</th>\n",
       "      <td>103042423</td>\n",
       "      <td>82.27</td>\n",
       "    </tr>\n",
       "    <tr>\n",
       "      <th>A0001_ISL_ATAC_S10</th>\n",
       "      <td>39859624</td>\n",
       "      <td>81.78</td>\n",
       "    </tr>\n",
       "  </tbody>\n",
       "</table>\n",
       "</div>"
      ],
      "text/plain": [
       "                         Number of input reads  Uniquely mapped reads %\n",
       "A0001_ISL_ATAC_S38                    52169201                    82.71\n",
       "A0001_ISL_ATAC_S37                    11013598                    81.95\n",
       "A0001_ISL_ATAC_combined              103042423                    82.27\n",
       "A0001_ISL_ATAC_S10                    39859624                    81.78"
      ]
     },
     "execution_count": 17,
     "metadata": {},
     "output_type": "execute_result"
    }
   ],
   "source": [
    "df[['Number of input reads', 'Uniquely mapped reads %']]"
   ]
  },
  {
   "cell_type": "code",
   "execution_count": 9,
   "metadata": {
    "collapsed": true
   },
   "outputs": [],
   "source": [
    "import glob\n",
    "import os"
   ]
  },
  {
   "cell_type": "code",
   "execution_count": 18,
   "metadata": {
    "collapsed": true
   },
   "outputs": [],
   "source": [
    "df = pd.read_table('/projects/T2D/pipeline/ATACseq/combined_files/picard_metrics.tsv', index_col=0)"
   ]
  },
  {
   "cell_type": "code",
   "execution_count": 20,
   "metadata": {
    "collapsed": false
   },
   "outputs": [
    {
     "data": {
      "text/html": [
       "<div>\n",
       "<table border=\"1\" class=\"dataframe\">\n",
       "  <thead>\n",
       "    <tr style=\"text-align: right;\">\n",
       "      <th></th>\n",
       "      <th>MEDIAN_INSERT_SIZE</th>\n",
       "      <th>PERCENT_DUPLICATION</th>\n",
       "    </tr>\n",
       "  </thead>\n",
       "  <tbody>\n",
       "    <tr>\n",
       "      <th>A0001_ISL_ATAC_S38</th>\n",
       "      <td>189</td>\n",
       "      <td>0.164157</td>\n",
       "    </tr>\n",
       "    <tr>\n",
       "      <th>A0001_ISL_ATAC_S37</th>\n",
       "      <td>192</td>\n",
       "      <td>0.081011</td>\n",
       "    </tr>\n",
       "    <tr>\n",
       "      <th>A0001_ISL_ATAC_combined</th>\n",
       "      <td>184</td>\n",
       "      <td>0.149780</td>\n",
       "    </tr>\n",
       "    <tr>\n",
       "      <th>A0001_ISL_ATAC_S10</th>\n",
       "      <td>175</td>\n",
       "      <td>0.114720</td>\n",
       "    </tr>\n",
       "  </tbody>\n",
       "</table>\n",
       "</div>"
      ],
      "text/plain": [
       "                         MEDIAN_INSERT_SIZE  PERCENT_DUPLICATION\n",
       "A0001_ISL_ATAC_S38                      189             0.164157\n",
       "A0001_ISL_ATAC_S37                      192             0.081011\n",
       "A0001_ISL_ATAC_combined                 184             0.149780\n",
       "A0001_ISL_ATAC_S10                      175             0.114720"
      ]
     },
     "execution_count": 20,
     "metadata": {},
     "output_type": "execute_result"
    }
   ],
   "source": [
    "df[['MEDIAN_INSERT_SIZE', 'PERCENT_DUPLICATION']]"
   ]
  },
  {
   "cell_type": "code",
   "execution_count": 23,
   "metadata": {
    "collapsed": true
   },
   "outputs": [],
   "source": [
    "df = pd.read_table('/projects/T2D/pipeline/ATACseq/combined_files/num_peaks.tsv', index_col=0, header=None)"
   ]
  },
  {
   "cell_type": "code",
   "execution_count": 24,
   "metadata": {
    "collapsed": false
   },
   "outputs": [
    {
     "data": {
      "text/html": [
       "<div>\n",
       "<table border=\"1\" class=\"dataframe\">\n",
       "  <thead>\n",
       "    <tr style=\"text-align: right;\">\n",
       "      <th></th>\n",
       "      <th>1</th>\n",
       "    </tr>\n",
       "    <tr>\n",
       "      <th>0</th>\n",
       "      <th></th>\n",
       "    </tr>\n",
       "  </thead>\n",
       "  <tbody>\n",
       "    <tr>\n",
       "      <th>A0001_ISL_ATAC_S38</th>\n",
       "      <td>26600</td>\n",
       "    </tr>\n",
       "    <tr>\n",
       "      <th>A0001_ISL_ATAC_S37</th>\n",
       "      <td>11953</td>\n",
       "    </tr>\n",
       "    <tr>\n",
       "      <th>A0001_ISL_ATAC_combined</th>\n",
       "      <td>34784</td>\n",
       "    </tr>\n",
       "    <tr>\n",
       "      <th>A0001_ISL_ATAC_S10</th>\n",
       "      <td>21086</td>\n",
       "    </tr>\n",
       "  </tbody>\n",
       "</table>\n",
       "</div>"
      ],
      "text/plain": [
       "                             1\n",
       "0                             \n",
       "A0001_ISL_ATAC_S38       26600\n",
       "A0001_ISL_ATAC_S37       11953\n",
       "A0001_ISL_ATAC_combined  34784\n",
       "A0001_ISL_ATAC_S10       21086"
      ]
     },
     "execution_count": 24,
     "metadata": {},
     "output_type": "execute_result"
    }
   ],
   "source": [
    "df"
   ]
  },
  {
   "cell_type": "code",
   "execution_count": 3,
   "metadata": {
    "collapsed": true
   },
   "outputs": [],
   "source": [
    "import numpy as np"
   ]
  },
  {
   "cell_type": "code",
   "execution_count": 4,
   "metadata": {
    "collapsed": true
   },
   "outputs": [],
   "source": [
    "import pandas as pd"
   ]
  },
  {
   "cell_type": "code",
   "execution_count": 5,
   "metadata": {
    "collapsed": true
   },
   "outputs": [],
   "source": [
    "fn = '/projects/CARDIPS/pipeline/Hi-C/7_indv_HiC/contact_matrices/merged/raw/iPSC/iPSC.10Kb.raw.chr1.mat'"
   ]
  },
  {
   "cell_type": "code",
   "execution_count": 6,
   "metadata": {
    "collapsed": false
   },
   "outputs": [],
   "source": [
    "f = open(fn)"
   ]
  },
  {
   "cell_type": "code",
   "execution_count": 7,
   "metadata": {
    "collapsed": true
   },
   "outputs": [],
   "source": [
    "line = f.readline()"
   ]
  },
  {
   "cell_type": "code",
   "execution_count": 9,
   "metadata": {
    "collapsed": false
   },
   "outputs": [],
   "source": [
    "vals = [float(x) for x in line.strip().split()]"
   ]
  },
  {
   "cell_type": "code",
   "execution_count": 11,
   "metadata": {
    "collapsed": false
   },
   "outputs": [
    {
     "data": {
      "text/plain": [
       "0.0"
      ]
     },
     "execution_count": 11,
     "metadata": {},
     "output_type": "execute_result"
    }
   ],
   "source": [
    "sum(vals)"
   ]
  },
  {
   "cell_type": "code",
   "execution_count": null,
   "metadata": {
    "collapsed": true
   },
   "outputs": [],
   "source": []
  },
  {
   "cell_type": "code",
   "execution_count": null,
   "metadata": {
    "collapsed": true
   },
   "outputs": [],
   "source": [
    "df = pd.read_table(fn, low_memory=False, engine='c', dtype=np.float64, header=None)"
   ]
  },
  {
   "cell_type": "code",
   "execution_count": null,
   "metadata": {
    "collapsed": false
   },
   "outputs": [],
   "source": [
    "2 + 2"
   ]
  },
  {
   "cell_type": "code",
   "execution_count": 12,
   "metadata": {
    "collapsed": true
   },
   "outputs": [],
   "source": [
    "import glob"
   ]
  },
  {
   "cell_type": "code",
   "execution_count": 13,
   "metadata": {
    "collapsed": true
   },
   "outputs": [],
   "source": []
  },
  {
   "cell_type": "code",
   "execution_count": 20,
   "metadata": {
    "collapsed": true
   },
   "outputs": [],
   "source": [
    "import os"
   ]
  },
  {
   "cell_type": "code",
   "execution_count": 21,
   "metadata": {
    "collapsed": false
   },
   "outputs": [
    {
     "data": {
      "text/plain": [
       "46"
      ]
     },
     "execution_count": 21,
     "metadata": {},
     "output_type": "execute_result"
    }
   ],
   "source": [
    "len(fns)"
   ]
  },
  {
   "cell_type": "code",
   "execution_count": 23,
   "metadata": {
    "collapsed": false
   },
   "outputs": [
    {
     "data": {
      "text/plain": [
       "['iPSC', '5Kb', 'raw', 'chr6', 'mat']"
      ]
     },
     "execution_count": 23,
     "metadata": {},
     "output_type": "execute_result"
    }
   ],
   "source": [
    "os.path.split(fns[0])[1].split('.')"
   ]
  },
  {
   "cell_type": "code",
   "execution_count": 41,
   "metadata": {
    "collapsed": true
   },
   "outputs": [],
   "source": []
  },
  {
   "cell_type": "code",
   "execution_count": 51,
   "metadata": {
    "collapsed": false
   },
   "outputs": [],
   "source": [
    "dy = '/projects/CARDIPS/pipeline/Hi-C/7_indv_HiC/contact_matrices/merged/normalized/iPSC'\n",
    "fns = glob.glob('{}/*'.format(dy))\n",
    "fns.sort()\n",
    "commands = []\n",
    "d = {'5Kb':5000, '10Kb':10000}\n",
    "for fn in fns:\n",
    "    name = os.path.split(fn)[1].replace('.mat', '.bed.gz')\n",
    "    out = os.path.join(os.path.split(fn)[0], name)\n",
    "    chrom = name.split('.')[-3]\n",
    "    size = d[name.split('.')[1]]\n",
    "    c = 'awk \\'BEGIN {{i=0}} {{print {0}\"\\\\t\"i*{1}\"\\\\t\"(i+1)*{1}\"\\\\t\"$0}} {{i++}}\\' {2} | bgzip > {3}'.format(chrom, size, fn, out)\n",
    "    commands.append(c)\n",
    "    c = 'tabix -p bed {}'.format(out)\n",
    "    commands.append(c)\n",
    "with open('{}/tabix.sh'.format(dy), 'w') as f:\n",
    "    f.write('\\n'.join(commands) + '\\n')"
   ]
  },
  {
   "cell_type": "code",
   "execution_count": 48,
   "metadata": {
    "collapsed": false
   },
   "outputs": [],
   "source": []
  },
  {
   "cell_type": "code",
   "execution_count": 46,
   "metadata": {
    "collapsed": false
   },
   "outputs": [
    {
     "data": {
      "text/plain": [
       "'/projects/CARDIPS/pipeline/Hi-C/7_indv_HiC/contact_matrices/merged/raw/iPSC/iPSC.5Kb.raw.chrX.bed.gz'"
      ]
     },
     "execution_count": 46,
     "metadata": {},
     "output_type": "execute_result"
    }
   ],
   "source": [
    "out"
   ]
  },
  {
   "cell_type": "code",
   "execution_count": null,
   "metadata": {
    "collapsed": true
   },
   "outputs": [],
   "source": []
  },
  {
   "cell_type": "code",
   "execution_count": null,
   "metadata": {
    "collapsed": true
   },
   "outputs": [],
   "source": []
  },
  {
   "cell_type": "raw",
   "metadata": {},
   "source": [
    "class AnnotatedBed:\n",
    "    def __init__(\n",
    "        self,   \n",
    "        bed,\n",
    "        annot_beds,\n",
    "        bed_name_parser=None,\n",
    "        name_parsers=None,\n",
    "    ):  \n",
    "        \"\"\"\n",
    "        Initialize AnnotatedBed object.\n",
    "            \n",
    "        Parameters\n",
    "        ----------\n",
    "        bed : str or pybedtools.Bedtool\n",
    "            Bed file to annotate.\n",
    "        \n",
    "        annot_beds : dict\n",
    "            Dict whose keys are names (like 'gene', 'promoter', etc.) and whose\n",
    "            values are bed files to annotate the input bed file with.\n",
    "        \n",
    "        \"\"\"            \n",
    "        import pandas as pd\n",
    "        self._initialize_bt(bed)\n",
    "        self._bt_df = self._bt.to_dataframe()\n",
    "        self._num_cols = len(self._bt[0].fields)\n",
    "        self._has_name_col = self._num_cols > 3\n",
    "        if self._has_name_col:\n",
    "            if len(set(self._bt_df.name)) != self._bt_df.shape[0]:\n",
    "                self._has_name_col = False\n",
    "        self._initialize_df()\n",
    "        self.feature_to = dict()\n",
    "        for k in annot_beds.keys():\n",
    "            self.annotate_bed(annot_bed[k], k)\n",
    "\n",
    "    def _initialize_df(\n",
    "        self,\n",
    "    ):  \n",
    "        if self._has_name_col:\n",
    "            ind = list(self._bt_df['name'])\n",
    "        else:\n",
    "            ind = list(self._bt_df.chrom.astype(str) + ':' +\n",
    "                       self._bt_df.start.astype(str) + '-' +\n",
    "                       self._bt_df.end.astype(str))\n",
    "        self.df = pd.DataFrame(index=ind)\n",
    "\n",
    "    def _initialize_bt(\n",
    "        self,\n",
    "        bed,           \n",
    "    ):                 \n",
    "        import pybedtools as pbt \n",
    "        if type(bed) == str:\n",
    "            self._bt = pbt.BedTool(bed)\n",
    "        else:\n",
    "            self._bt = bed\n",
    "        self._bt = self._bt.sort()\n",
    "        \n",
    "    def annotate_bed(\n",
    "        self,\n",
    "        bed,\n",
    "        name,\n",
    "    ):              \n",
    "        import pandas as pd\n",
    "        if type(bed) == str:\n",
    "            import pybedtools as pbt\n",
    "            bed = pbt.BedTool(bed)\n",
    "        bed = bed.sorted()\n",
    "        has_name_col = len(bed[0].fields) > 3\n",
    "        res = self._bt.intersect(bed, sorted=True, wo=True)\n",
    "        df = res.to_dataframe(names=range(len(res[0].fields)))\n",
    "        if self._has_name_col:\n",
    "            ind = df[3].values\n",
    "        else:\n",
    "            ind = list(df[0].astype(str) + ':' +\n",
    "                       df[1].astype(str) + '-' +\n",
    "                       df[2].astype(str))\n",
    "        if has_name_col:\n",
    "            vals = df[self._num_cols + 3].values\n",
    "        else:\n",
    "            vals = list(df[self._num_cols + 0].astype(str) + ':' +\n",
    "                        df[self._num_cols + 1].astype(str) + '-' +\n",
    "                        df[self._num_cols + 2].astype(str))\n",
    "        self.feature_to[name] = pd.Series(vals, index=ind)\n",
    "        self.df[name] = False\n",
    "        self.df.ix[ind, name] = True"
   ]
  },
  {
   "cell_type": "code",
   "execution_count": 1,
   "metadata": {
    "collapsed": false
   },
   "outputs": [
    {
     "data": {
      "text/plain": [
       "4"
      ]
     },
     "execution_count": 1,
     "metadata": {},
     "output_type": "execute_result"
    }
   ],
   "source": [
    "2 + 2"
   ]
  },
  {
   "cell_type": "code",
   "execution_count": 1,
   "metadata": {
    "collapsed": true
   },
   "outputs": [],
   "source": [
    "import cardipspy as cpy\n",
    "import pybedtools as pbt\n",
    "import pandas as pd\n",
    "import cdpybio as cpb\n",
    "%matplotlib inline"
   ]
  },
  {
   "cell_type": "code",
   "execution_count": 19,
   "metadata": {
    "collapsed": false
   },
   "outputs": [],
   "source": [
    "class AnnotatedBed:\n",
    "    def __init__(\n",
    "        self,   \n",
    "        bed,\n",
    "        annot_beds,\n",
    "        completely_contains=None,\n",
    "    ):  \n",
    "        \"\"\"\n",
    "        Initialize AnnotatedBed object.\n",
    "            \n",
    "        Parameters\n",
    "        ----------\n",
    "        bed : str or pybedtools.Bedtool\n",
    "            Bed file to annotate.\n",
    "        \n",
    "        annot_beds : dict\n",
    "            Dict whose keys are names (like 'gene', 'promoter', etc.) and whose\n",
    "            values are bed files to annotate the input bed file with.\n",
    "            \n",
    "        completely_contains : list\n",
    "            List of keys from annot_beds. For these beds, we will check whether the \n",
    "            features is entirely contained by features \"bed.\"\n",
    "        \n",
    "        \"\"\"            \n",
    "        self._initialize_bt(bed)\n",
    "        self._num_cols = len(self.bt[0].fields)\n",
    "        self._has_name_col = self._num_cols > 3\n",
    "        self._initialize_dfs()\n",
    "        self._initialize_annot_beds(annot_beds)\n",
    "        for k in annot_beds.keys():\n",
    "            self.annotate_bed(self.bt, k, k)\n",
    "        for k in completely_contains:\n",
    "            self.annotate_bed(self.bt, k, k, complete=True)\n",
    "        self._bt_path = None\n",
    "            \n",
    "    def load_saved_bts(self):\n",
    "        \"\"\"If the AnnotatedBed object was saved to a pickle and reloaded,\n",
    "        this method remakes the BedTool object.\"\"\"\n",
    "        if self._bt_path:\n",
    "            self.bt = pbt.BedTool(self._bt_path)\n",
    "            \n",
    "    def save(\n",
    "        self,\n",
    "        path,\n",
    "        name,\n",
    "    ):\n",
    "        \"\"\"\n",
    "        Save AnnotatedBed object and bed file. The object is stored in a pickle\n",
    "        and the bed file is saved as a separate bed file. The object can be reloaded\n",
    "        by reading the pickle using cPickle.\n",
    "            \n",
    "        Parameters\n",
    "        ----------\n",
    "        path : str\n",
    "            Path to save files to. Path should include a basename for the files.\n",
    "            For instance, path='~/abc' will create files like ~/abc.pickle, ~/abc.bed,\n",
    "            etc.\n",
    "            \n",
    "        name : str\n",
    "            Descriptive name used for bed file trackline.\n",
    "        \"\"\"\n",
    "        t = 'track type=bed name=\"{}\"'.format(name)\n",
    "        self.bt.saveas(path + '.bed', trackline=t)\n",
    "        self._bt_path = path + '.bed'\n",
    "        import cPickle\n",
    "        cPickle.dump(self, open(path + '.pickle', 'w'))\n",
    "        \n",
    "    def _initialize_annot_beds(\n",
    "        self, \n",
    "        annot_beds,\n",
    "    ):\n",
    "        import pybedtools as pbt\n",
    "        self.annot_beds = dict()\n",
    "        for k in annot_beds.keys():\n",
    "            if type(annot_beds[k]) == str:\n",
    "                self.annot_beds[k] = pbt.BedTool(annot_beds[k])\n",
    "            else:\n",
    "                self.annot_beds[k] = annot_beds[k]\n",
    "\n",
    "    def _initialize_dfs(\n",
    "        self,\n",
    "    ):  \n",
    "        self.df = self.bt.to_dataframe()\n",
    "        if self._has_name_col:\n",
    "            if len(set(self.df.name)) != self.df.shape[0]:\n",
    "                self._has_name_col = False\n",
    "        if self._has_name_col:\n",
    "            self.df.index = self.df.name\n",
    "        else:\n",
    "            self.df.index = (self.df.chrom.astype + ':' + self.df.start.astype(str) + \n",
    "                             + '-' + self.df.end.astype(str))\n",
    "        self.feature_to_df = pd.DataFrame(index=self.df.index)\n",
    "\n",
    "    def _initialize_bt(\n",
    "        self,\n",
    "        bed,           \n",
    "    ):                 \n",
    "        import pybedtools as pbt\n",
    "        if type(bed) == str:\n",
    "            self.bt = pbt.BedTool(bed)\n",
    "        else:\n",
    "            self.bt = bed\n",
    "        self.bt = self.bt.sort()\n",
    "        \n",
    "    def bt_from_df(self):\n",
    "        \"\"\"Make a BedTool object for the input bed file.\"\"\"\n",
    "        import pybedtools as pbt\n",
    "        s = '\\n'.join(df.astype(str).apply(lambda x: '\\t'.join(x), axis=1)) + '\\n'\n",
    "        df.bt = pbt.BedTool(s, from_string=True)\n",
    "        \n",
    "    def annotate_bed(\n",
    "        self,\n",
    "        bt,\n",
    "        name,\n",
    "        col_name,\n",
    "        complete=None,\n",
    "    ):\n",
    "        \"\"\"name is the key for the bed file in self.annot_beds. col_name is used to name \n",
    "        the columns created in the dataframe.\"\"\"\n",
    "        import numpy as np\n",
    "        import pandas as pd\n",
    "        has_name_col = len(self.annot_beds[name][0].fields) > 3\n",
    "        if complete:\n",
    "            res = bt.intersect(self.annot_beds[name], sorted=True, wo=True, F=1)\n",
    "            col_name = col_name + '_complete'\n",
    "        else:\n",
    "            res = bt.intersect(self.annot_beds[name], sorted=True, wo=True)\n",
    "        df = res.to_dataframe(names=range(len(res[0].fields)))\n",
    "        if self._has_name_col:\n",
    "            ind = df[3].values\n",
    "        else:\n",
    "            ind = list(df[0].astype(str) + ':' +\n",
    "                       df[1].astype(str) + '-' +\n",
    "                       df[2].astype(str))\n",
    "        if has_name_col:\n",
    "            vals = df[self._num_cols + 3].values\n",
    "        else:\n",
    "            vals = list(df[self._num_cols + 0].astype(str) + ':' +\n",
    "                        df[self._num_cols + 1].astype(str) + '-' +\n",
    "                        df[self._num_cols + 2].astype(str))\n",
    "        self.df[col_name] = False\n",
    "        self.df.ix[set(ind), col_name] = True\n",
    "        se = pd.Series(vals, index=ind)\n",
    "        vc = pd.Series(se.index).value_counts()\n",
    "        self.feature_to_df[col_name] = np.nan\n",
    "        self.feature_to_df.ix[list(vc[vc == 1].index), col_name] = se[list(vc[vc == 1].index)].apply(lambda x: set([x]))\n",
    "        m = list(set(vc[vc > 1].index))\n",
    "        v = []\n",
    "        for i in m:\n",
    "            v.append(set(se[i].values))\n",
    "        self.feature_to_df.ix[m, col_name] = v\n",
    "        \n",
    "class AnnotatedInteractions(AnnotatedBed):\n",
    "    def __init__(\n",
    "        self,   \n",
    "        df,\n",
    "        annot_beds,\n",
    "        completely_contains=None,\n",
    "    ):  \n",
    "        \"\"\"\n",
    "        Initialize AnnotatedBed object.\n",
    "            \n",
    "        Parameters\n",
    "        ----------\n",
    "        df : pandas.DataFrame\n",
    "            Dataframe with peaks. Must contain columns chrom1, start1, end1, chrom2,\n",
    "            start2, end2 and have unique index.\n",
    "        \n",
    "        annot_beds : dict\n",
    "            Dict whose keys are names (like 'gene', 'promoter', etc.) and whose\n",
    "            values are bed files to annotate the input bed file with.\n",
    "        \n",
    "        \"\"\"            \n",
    "        self.df = df.copy(deep=True)\n",
    "        self.df['name'] = self.df.index\n",
    "        self.feature_to_df = pd.DataFrame(index=self.df.index)\n",
    "        self.annotate_interactions()\n",
    "        self.bt_from_df()\n",
    "        self._initialize_annot_beds(annot_beds)\n",
    "        suffixes = ['1', '2', '_loop', '_loop_inner']\n",
    "        for i,bt in enumerate([self.bt1, self.bt2, self.bt_loop, self.bt_loop_inner]):\n",
    "            for k in annot_beds.keys():\n",
    "                self.annotate_bed(bt, k, '{}{}'.format(k, suffixes[i]))\n",
    "        for i,bt in enumerate([self.bt1, self.bt2, self.bt_loop, self.bt_loop_inner]):\n",
    "            for k in completely_contains:\n",
    "                self.annotate_bed(bt, k, '{}{}'.format(k, suffixes[i]), complete=True)\n",
    "        self._bt1_path = None\n",
    "        self._bt2_path = None\n",
    "        self._bt_loop_path = None\n",
    "        self._bt_loop_inner_path = None\n",
    "\n",
    "    def load_saved_bts(self):\n",
    "        \"\"\"If the AnnotatedInteractions object was saved to a pickle and reloaded,\n",
    "        this method remakes the BedTool objects.\"\"\"\n",
    "        if self._bt1_path:\n",
    "            self.bt1 = pbt.BedTool(self._bt1_path)\n",
    "        if self._bt2_path:\n",
    "            self.bt2 = pbt.BedTool(self._bt2_path)\n",
    "        if self._bt_loop_path:\n",
    "            self.bt_loop = pbt.BedTool(self._bt_loop_path)\n",
    "        if self._bt_loop_inner_path:\n",
    "            self.bt_loop_inner = pbt.BedTool(self._bt_loop_inner_path)\n",
    "        \n",
    "    def save(\n",
    "        self,\n",
    "        path,\n",
    "        name,\n",
    "    ):\n",
    "        \"\"\"\n",
    "        Save AnnotatedInteractions object and bed files. The object is stored in a pickle\n",
    "        and the bed files are saved as separate bed files. The object can be reloaded\n",
    "        by reading the pickle using cPickle and the BedTool objects can be recreated using\n",
    "        .load_saved_bts().\n",
    "            \n",
    "        Parameters\n",
    "        ----------\n",
    "        path : str\n",
    "            Path to save files to. Path should include a basename for the files.\n",
    "            For instance, path='~/abc' will create files like ~/abc.pickle, ~/abc_anchor1.bed,\n",
    "            etc.\n",
    "            \n",
    "        name : str\n",
    "            Descriptive name used for bed file trackline.\n",
    "        \"\"\"\n",
    "        t = 'track type=bed name=\"{}_anchor1\"'.format(name)\n",
    "        self.bt1.saveas(path + '_anchor1.bed', trackline=t)\n",
    "        self._bt1_path = path + '_anchor1.bed'\n",
    "        t = 'track type=bed name=\"{}_anchor2\"'.format(name)\n",
    "        self.bt2.saveas(path + '_anchor2.bed', trackline=t)\n",
    "        self._bt2_path = path + '_anchor2.bed'\n",
    "        t = 'track type=bed name=\"{}_loop\"'.format(name)\n",
    "        self.bt_loop.saveas(path + '_loop.bed', trackline=t)\n",
    "        self._bt_loop_path = path + '_loop.bed'\n",
    "        t = 'track type=bed name=\"{}_loop_inner\"'.format(name)\n",
    "        self.bt_loop_inner.saveas(path + '_loop_inner.bed', trackline=t)\n",
    "        self._bt_loop_inner_path = path + '_loop_inner.bed'\n",
    "        import cPickle\n",
    "        cPickle.dump(self, open(path + '.pickle', 'w'))   \n",
    "    \n",
    "    def annotate_bed(\n",
    "        self,\n",
    "        bt,\n",
    "        name,\n",
    "        col_name,\n",
    "        complete=None,\n",
    "    ):\n",
    "        \"\"\"name is the key for the bed file in self.annot_beds. col_name is used to name \n",
    "        the columns created in the dataframe.\"\"\"\n",
    "        import numpy as np\n",
    "        import pandas as pd\n",
    "        has_name_col = len(self.annot_beds[name][0].fields) > 3\n",
    "        if complete:\n",
    "            res = bt.intersect(self.annot_beds[name], sorted=True, wo=True, F=1)\n",
    "            col_name = col_name + '_complete'\n",
    "        else:\n",
    "            res = bt.intersect(self.annot_beds[name], sorted=True, wo=True)\n",
    "        try:\n",
    "            df = res.to_dataframe(names=range(len(res[0].fields)))\n",
    "            ind = df[3].values\n",
    "            if has_name_col:\n",
    "                vals = df[7].values\n",
    "            else:\n",
    "                vals = list(df[4].astype(str) + ':' +\n",
    "                            df[5].astype(str) + '-' +\n",
    "                            df[6].astype(str))\n",
    "            self.df[col_name] = False\n",
    "            self.df.ix[set(ind), col_name] = True\n",
    "            se = pd.Series(vals, index=ind)\n",
    "            vc = pd.Series(se.index).value_counts()\n",
    "            self.feature_to_df[col_name] = np.nan\n",
    "            self.feature_to_df.ix[list(vc[vc == 1].index), col_name] = se[list(vc[vc == 1].index)].apply(lambda x: set([x]))\n",
    "            m = list(set(vc[vc > 1].index))\n",
    "            v = []\n",
    "            for i in m:\n",
    "                v.append(set(se[i].values))\n",
    "            self.feature_to_df.ix[m, col_name] = v\n",
    "        except IndexError:\n",
    "            pass\n",
    "        \n",
    "    def annotate_interactions(self):\n",
    "        import numpy as np\n",
    "        self.df['anchor1'] = (self.df.chrom1.astype(str) + ':' + self.df.start1.astype(str) + \n",
    "                              '-' + self.df.end1.astype(str))\n",
    "        self.df['anchor2'] = (self.df.chrom2.astype(str) + ':' + self.df.start2.astype(str) + \n",
    "                              '-' + self.df.end2.astype(str))\n",
    "        self.df['intra'] = True\n",
    "        self.df.ix[self.df.chrom1 != self.df.chrom2, 'intra'] = False\n",
    "        ind = self.df[self.df.intra].index\n",
    "        self.df['loop'] = np.nan\n",
    "        self.df.ix[ind, 'loop'] = (self.df.chrom1 + ':' + self.df[['start1', 'start2']].min(axis=1).astype(str) + \n",
    "                                   '-' + self.df[['end1', 'end2']].max(axis=1).astype(str))\n",
    "        self.df['loop_inner'] = np.nan\n",
    "        self.df.ix[ind, 'loop_inner'] = (self.df.chrom1 + ':' + self.df[['end1', 'end2']].min(axis=1).astype(str) + \n",
    "                                         '-' + self.df[['start1', 'start2']].max(axis=1).astype(str))\n",
    "        self.df['loop_length'] = (self.df[['end1', 'end2']].max(axis=1) - \n",
    "                                  self.df[['start1', 'start2']].min(axis=1))\n",
    "        self.df['loop_inner_length'] = (self.df[['start1', 'start2']].max(axis=1) - \n",
    "                                        self.df[['end1', 'end2']].min(axis=1))\n",
    "        \n",
    "    def bt_from_df(self):         \n",
    "        import pybedtools as pbt\n",
    "        s = '\\n'.join(list(set(self.df.chrom1.astype(str) + '\\t' + self.df.start1.astype(str) + \n",
    "                               '\\t' + self.df.end1.astype(str) + '\\t' + self.df.name))) + '\\n'\n",
    "        self.bt1 = pbt.BedTool(s, from_string=True).sort()\n",
    "        s = '\\n'.join(list(set(self.df.chrom2.astype(str) + '\\t' + self.df.start2.astype(str) + \n",
    "                               '\\t' + self.df.end2.astype(str) + '\\t' + self.df.name))) + '\\n'\n",
    "        self.bt2 = pbt.BedTool(s, from_string=True).sort()\n",
    "        s = '\\n'.join(self.df.chrom1.astype(str) + '\\t' + self.df[['start1', 'start2']].min(axis=1).astype(str) + \n",
    "             '\\t' + self.df[['end1', 'end2']].max(axis=1).astype(str) + '\\t' + self.df.name) + '\\n'\n",
    "        self.bt_loop = pbt.BedTool(s, from_string=True).sort()\n",
    "        s = '\\n'.join(self.df.chrom1.astype(str) + '\\t' + self.df[['end1', 'end2']].min(axis=1).astype(str) + \n",
    "             '\\t' + self.df[['start1', 'start2']].max(axis=1).astype(str)  + '\\t' + self.df.name) + '\\n'\n",
    "        self.bt_loop_inner = pbt.BedTool(s, from_string=True).sort()"
   ]
  },
  {
   "cell_type": "code",
   "execution_count": 3,
   "metadata": {
    "collapsed": true
   },
   "outputs": [],
   "source": [
    "# HeLa_RNAPII\n",
    "# http://www.ncbi.nlm.nih.gov/geo/query/acc.cgi?acc=GSM1872889\n",
    "url = ('http://www.ncbi.nlm.nih.gov/geo/download/?acc=GSM1872889&format=file&file='\n",
    "       'GSM1872889%5FHeLa%5FRNAPII%5FPET%5Fclusters%2Etxt%2Egz')\n",
    "s = cpb.general.read_gzipped_text_url(url)\n",
    "lines = [x.split() for x in s.strip().split('\\n')]"
   ]
  },
  {
   "cell_type": "code",
   "execution_count": 4,
   "metadata": {
    "collapsed": false
   },
   "outputs": [],
   "source": [
    "df = pd.DataFrame(lines, columns=['chrom1', 'start1', 'end1', \n",
    "                                  'chrom2', 'start2', 'end2', 'freq'])\n",
    "df.index = df.chrom1 + ':' + df.start1 + '-' + df.end1 + '==' + df.chrom2 + ':' + df.start1 + '-' + df.end2\n",
    "for c in ['start1', 'start2', 'end1', 'end2', 'freq']:\n",
    "    df[c] = df[c].astype(int)"
   ]
  },
  {
   "cell_type": "code",
   "execution_count": 5,
   "metadata": {
    "collapsed": true
   },
   "outputs": [],
   "source": [
    "d = {'gene':pbt.BedTool(cpy.gencode_gene_bed), 'tss':pbt.BedTool(cpy.gencode_tss_bed)}#, 'exon':exon}"
   ]
  },
  {
   "cell_type": "code",
   "execution_count": 20,
   "metadata": {
    "collapsed": false
   },
   "outputs": [],
   "source": [
    "ai = AnnotatedInteractions(df.head(100), d, completely_contains=['gene'])"
   ]
  },
  {
   "cell_type": "code",
   "execution_count": 21,
   "metadata": {
    "collapsed": false
   },
   "outputs": [],
   "source": [
    "ai.save('/frazer01/projects/CARDIPS/analysis/cardips-ipsc-eqtl/sandbox/savetest', 'inter_test')"
   ]
  },
  {
   "cell_type": "code",
   "execution_count": 13,
   "metadata": {
    "collapsed": false
   },
   "outputs": [],
   "source": [
    "import cPickle"
   ]
  },
  {
   "cell_type": "code",
   "execution_count": 14,
   "metadata": {
    "collapsed": false
   },
   "outputs": [],
   "source": [
    "aii = cPickle.load(open('/frazer01/projects/CARDIPS/analysis/cardips-ipsc-eqtl/sandbox/savetest.pickle'))"
   ]
  },
  {
   "cell_type": "code",
   "execution_count": 15,
   "metadata": {
    "collapsed": true
   },
   "outputs": [],
   "source": [
    "aii.load_saved_bts()"
   ]
  },
  {
   "cell_type": "code",
   "execution_count": null,
   "metadata": {
    "collapsed": true
   },
   "outputs": [],
   "source": []
  },
  {
   "cell_type": "code",
   "execution_count": 1,
   "metadata": {
    "collapsed": false
   },
   "outputs": [
    {
     "data": {
      "text/plain": [
       "6"
      ]
     },
     "execution_count": 1,
     "metadata": {},
     "output_type": "execute_result"
    }
   ],
   "source": [
    "3 + 3"
   ]
  },
  {
   "cell_type": "code",
   "execution_count": null,
   "metadata": {
    "collapsed": true
   },
   "outputs": [],
   "source": []
  },
  {
   "cell_type": "code",
   "execution_count": 6,
   "metadata": {
    "collapsed": true
   },
   "outputs": [],
   "source": [
    "fn = '/projects/CARDIPS/analysis/cardips-ipsc-eqtl/output/cnv_processing/cnvs.bed'\n",
    "cnv_bt = pbt.BedTool(fn)"
   ]
  },
  {
   "cell_type": "code",
   "execution_count": 3,
   "metadata": {
    "collapsed": true
   },
   "outputs": [],
   "source": [
    "exon = pbt.BedTool(cpy.gencode_exon_bed)"
   ]
  },
  {
   "cell_type": "code",
   "execution_count": 4,
   "metadata": {
    "collapsed": true
   },
   "outputs": [],
   "source": [
    "d = {'gene':cpy.gencode_gene_bed, 'tss':cpy.gencode_tss_bed, 'exon':exon}"
   ]
  },
  {
   "cell_type": "code",
   "execution_count": 19,
   "metadata": {
    "collapsed": false
   },
   "outputs": [],
   "source": [
    "ab = AnnotatedBed(cnv_bt, d, completely_contains=['gene'])"
   ]
  },
  {
   "cell_type": "code",
   "execution_count": 20,
   "metadata": {
    "collapsed": false
   },
   "outputs": [
    {
     "data": {
      "text/html": [
       "<div>\n",
       "<table border=\"1\" class=\"dataframe\">\n",
       "  <thead>\n",
       "    <tr style=\"text-align: right;\">\n",
       "      <th></th>\n",
       "      <th>chrom</th>\n",
       "      <th>start</th>\n",
       "      <th>end</th>\n",
       "      <th>name</th>\n",
       "      <th>gene</th>\n",
       "      <th>exon</th>\n",
       "      <th>tss</th>\n",
       "      <th>gene_complete</th>\n",
       "    </tr>\n",
       "    <tr>\n",
       "      <th>name</th>\n",
       "      <th></th>\n",
       "      <th></th>\n",
       "      <th></th>\n",
       "      <th></th>\n",
       "      <th></th>\n",
       "      <th></th>\n",
       "      <th></th>\n",
       "      <th></th>\n",
       "    </tr>\n",
       "  </thead>\n",
       "  <tbody>\n",
       "    <tr>\n",
       "      <th>CNV_1_55176_56686</th>\n",
       "      <td>chr1</td>\n",
       "      <td>55176</td>\n",
       "      <td>56686</td>\n",
       "      <td>CNV_1_55176_56686</td>\n",
       "      <td>False</td>\n",
       "      <td>False</td>\n",
       "      <td>False</td>\n",
       "      <td>False</td>\n",
       "    </tr>\n",
       "    <tr>\n",
       "      <th>CNV_1_85392_86406</th>\n",
       "      <td>chr1</td>\n",
       "      <td>85392</td>\n",
       "      <td>86406</td>\n",
       "      <td>CNV_1_85392_86406</td>\n",
       "      <td>False</td>\n",
       "      <td>False</td>\n",
       "      <td>False</td>\n",
       "      <td>False</td>\n",
       "    </tr>\n",
       "    <tr>\n",
       "      <th>CNV_1_86407_91299</th>\n",
       "      <td>chr1</td>\n",
       "      <td>86407</td>\n",
       "      <td>91299</td>\n",
       "      <td>CNV_1_86407_91299</td>\n",
       "      <td>True</td>\n",
       "      <td>True</td>\n",
       "      <td>True</td>\n",
       "      <td>True</td>\n",
       "    </tr>\n",
       "    <tr>\n",
       "      <th>CNV_1_562952_567683</th>\n",
       "      <td>chr1</td>\n",
       "      <td>562952</td>\n",
       "      <td>567683</td>\n",
       "      <td>CNV_1_562952_567683</td>\n",
       "      <td>True</td>\n",
       "      <td>True</td>\n",
       "      <td>True</td>\n",
       "      <td>True</td>\n",
       "    </tr>\n",
       "    <tr>\n",
       "      <th>CNV_1_565576_567883</th>\n",
       "      <td>chr1</td>\n",
       "      <td>565576</td>\n",
       "      <td>567883</td>\n",
       "      <td>CNV_1_565576_567883</td>\n",
       "      <td>True</td>\n",
       "      <td>True</td>\n",
       "      <td>True</td>\n",
       "      <td>False</td>\n",
       "    </tr>\n",
       "  </tbody>\n",
       "</table>\n",
       "</div>"
      ],
      "text/plain": [
       "                    chrom   start     end                 name   gene   exon  \\\n",
       "name                                                                           \n",
       "CNV_1_55176_56686    chr1   55176   56686    CNV_1_55176_56686  False  False   \n",
       "CNV_1_85392_86406    chr1   85392   86406    CNV_1_85392_86406  False  False   \n",
       "CNV_1_86407_91299    chr1   86407   91299    CNV_1_86407_91299   True   True   \n",
       "CNV_1_562952_567683  chr1  562952  567683  CNV_1_562952_567683   True   True   \n",
       "CNV_1_565576_567883  chr1  565576  567883  CNV_1_565576_567883   True   True   \n",
       "\n",
       "                       tss gene_complete  \n",
       "name                                      \n",
       "CNV_1_55176_56686    False         False  \n",
       "CNV_1_85392_86406    False         False  \n",
       "CNV_1_86407_91299     True          True  \n",
       "CNV_1_562952_567683   True          True  \n",
       "CNV_1_565576_567883   True         False  "
      ]
     },
     "execution_count": 20,
     "metadata": {},
     "output_type": "execute_result"
    }
   ],
   "source": [
    "ab.df.head()"
   ]
  },
  {
   "cell_type": "raw",
   "metadata": {
    "collapsed": false
   },
   "source": [
    "ab.feature_to_df.head()"
   ]
  },
  {
   "cell_type": "code",
   "execution_count": 21,
   "metadata": {
    "collapsed": false
   },
   "outputs": [],
   "source": [
    "ab.save('/frazer01/projects/CARDIPS/analysis/cardips-ipsc-eqtl/sandbox/savetest')"
   ]
  },
  {
   "cell_type": "code",
   "execution_count": 23,
   "metadata": {
    "collapsed": false
   },
   "outputs": [],
   "source": [
    "se = ab.feature_to['gene'].copy(deep=True)"
   ]
  },
  {
   "cell_type": "code",
   "execution_count": 31,
   "metadata": {
    "collapsed": false
   },
   "outputs": [
    {
     "data": {
      "text/plain": [
       "'ENSG00000240453.1'"
      ]
     },
     "execution_count": 31,
     "metadata": {},
     "output_type": "execute_result"
    }
   ],
   "source": [
    "se.ix['CNV_1_746778_748786']"
   ]
  },
  {
   "cell_type": "code",
   "execution_count": 30,
   "metadata": {
    "collapsed": false
   },
   "outputs": [],
   "source": [
    "abb = cPickle.load(open('/frazer01/projects/CARDIPS/analysis/cardips-ipsc-eqtl/sandbox/savetest.pickle'))"
   ]
  },
  {
   "cell_type": "code",
   "execution_count": 32,
   "metadata": {
    "collapsed": true
   },
   "outputs": [],
   "source": [
    "abb.load_saved_bt()"
   ]
  },
  {
   "cell_type": "code",
   "execution_count": 33,
   "metadata": {
    "collapsed": false
   },
   "outputs": [
    {
     "data": {
      "text/plain": [
       "'/frazer01/projects/CARDIPS/analysis/cardips-ipsc-eqtl/sandbox/savetest.bed'"
      ]
     },
     "execution_count": 33,
     "metadata": {},
     "output_type": "execute_result"
    }
   ],
   "source": [
    "abb.bt.fn"
   ]
  },
  {
   "cell_type": "code",
   "execution_count": 25,
   "metadata": {
    "collapsed": false
   },
   "outputs": [
    {
     "name": "stdout",
     "output_type": "stream",
     "text": [
      "chr1\t55176\t56686\tCNV_1_55176_56686\n",
      " chr1\t85392\t86406\tCNV_1_85392_86406\n",
      " chr1\t86407\t91299\tCNV_1_86407_91299\n",
      " chr1\t562952\t567683\tCNV_1_562952_567683\n",
      " chr1\t565576\t567883\tCNV_1_565576_567883\n",
      " chr1\t565853\t567683\tCNV_1_565853_567683\n",
      " chr1\t712526\t731595\tCNV_1_712526_731595\n",
      " chr1\t746778\t748786\tCNV_1_746778_748786\n",
      " chr1\t755023\t757122\tCNV_1_755023_757122\n",
      " chr1\t755423\t757622\tCNV_1_755423_757622\n",
      " "
     ]
    }
   ],
   "source": [
    "abb.bt.head()"
   ]
  },
  {
   "cell_type": "code",
   "execution_count": 37,
   "metadata": {
    "collapsed": false
   },
   "outputs": [
    {
     "data": {
      "text/plain": [
       "CNV_1_86407_91299      ENSG00000238009.2\n",
       "CNV_1_86407_91299      ENSG00000239945.1\n",
       "CNV_1_562952_567683    ENSG00000230021.3\n",
       "CNV_1_562952_567683    ENSG00000223659.1\n",
       "CNV_1_562952_567683    ENSG00000225972.1\n",
       "dtype: object"
      ]
     },
     "execution_count": 37,
     "metadata": {},
     "output_type": "execute_result"
    }
   ],
   "source": [
    "se.head()"
   ]
  },
  {
   "cell_type": "code",
   "execution_count": 33,
   "metadata": {
    "collapsed": false
   },
   "outputs": [],
   "source": [
    "# Working here. Instead of making series, make one df with entries for eacht thing.\n",
    "# Need to parse series to get list per index value.\n",
    "vc = pd.Series(se.index).value_counts()"
   ]
  },
  {
   "cell_type": "code",
   "execution_count": 36,
   "metadata": {
    "collapsed": false
   },
   "outputs": [
    {
     "data": {
      "text/plain": [
       "CNV_6_167584197_167587542    1\n",
       "CNV_13_51590387_51592036     1\n",
       "CNV_8_52885509_52889639      1\n",
       "CNV_13_36653642_36654841     1\n",
       "CNV_13_46720727_46722591     1\n",
       "dtype: int64"
      ]
     },
     "execution_count": 36,
     "metadata": {},
     "output_type": "execute_result"
    }
   ],
   "source": [
    "vc.tail()"
   ]
  },
  {
   "cell_type": "code",
   "execution_count": null,
   "metadata": {
    "collapsed": true
   },
   "outputs": [],
   "source": [
    "vc"
   ]
  },
  {
   "cell_type": "code",
   "execution_count": 47,
   "metadata": {
    "collapsed": true
   },
   "outputs": [],
   "source": []
  },
  {
   "cell_type": "code",
   "execution_count": 48,
   "metadata": {
    "collapsed": false
   },
   "outputs": [
    {
     "data": {
      "text/plain": [
       "[{'ENSG00000234068.2', 'ENSG00000238269.4'},\n",
       " {'ENSG00000133661.11', 'ENSG00000242600.2'},\n",
       " {'ENSG00000227082.1', 'ENSG00000230806.1', 'ENSG00000231429.2'},\n",
       " {'ENSG00000183454.9', 'ENSG00000266439.1'},\n",
       " {'ENSG00000213240.7', 'ENSG00000255168.1'},\n",
       " {'ENSG00000226423.1', 'ENSG00000233806.3'},\n",
       " {'ENSG00000100197.16', 'ENSG00000237037.5'},\n",
       " {'ENSG00000102445.14', 'ENSG00000241353.2'},\n",
       " {'ENSG00000260846.2', 'ENSG00000261486.1'},\n",
       " {'ENSG00000155252.12', 'ENSG00000249967.1'},\n",
       " {'ENSG00000134545.9', 'ENSG00000205809.5'},\n",
       " {'ENSG00000268119.1', 'ENSG00000269237.1'},\n",
       " {'ENSG00000143786.3', 'ENSG00000229991.1'},\n",
       " {'ENSG00000188818.8', 'ENSG00000206077.6'},\n",
       " {'ENSG00000121621.6', 'ENSG00000207874.1'},\n",
       " {'ENSG00000099866.10', 'ENSG00000266933.1'},\n",
       " {'ENSG00000058453.12', 'ENSG00000186715.6'},\n",
       " {'ENSG00000163386.16', 'ENSG00000213240.7', 'ENSG00000255168.1'},\n",
       " {'ENSG00000223495.2', 'ENSG00000231448.1', 'ENSG00000235887.2'},\n",
       " {'ENSG00000117395.6', 'ENSG00000243710.3'},\n",
       " {'ENSG00000163331.6', 'ENSG00000243792.1', 'ENSG00000251491.2'},\n",
       " {'ENSG00000234232.2', 'ENSG00000239903.2'},\n",
       " {'ENSG00000225648.1', 'ENSG00000254184.3'},\n",
       " {'ENSG00000136002.12', 'ENSG00000152102.13'},\n",
       " {'ENSG00000121335.10', 'ENSG00000255790.1'},\n",
       " {'ENSG00000008128.18', 'ENSG00000268575.1'},\n",
       " {'ENSG00000058453.12', 'ENSG00000230239.1'},\n",
       " {'ENSG00000120669.11', 'ENSG00000242715.3', 'ENSG00000250709.1'},\n",
       " {'ENSG00000267264.1',\n",
       "  'ENSG00000267323.1',\n",
       "  'ENSG00000267389.1',\n",
       "  'ENSG00000267575.2',\n",
       "  'ENSG00000272635.1'},\n",
       " {'ENSG00000134160.9',\n",
       "  'ENSG00000166912.12',\n",
       "  'ENSG00000207702.1',\n",
       "  'ENSG00000259720.1'},\n",
       " {'ENSG00000203747.5', 'ENSG00000273112.1'},\n",
       " {'ENSG00000198553.4', 'ENSG00000204977.5'},\n",
       " {'ENSG00000163116.5', 'ENSG00000251620.1', 'ENSG00000254044.1'},\n",
       " {'ENSG00000251574.2', 'ENSG00000253584.1'},\n",
       " {'ENSG00000171049.8', 'ENSG00000171051.4'},\n",
       " {'ENSG00000149212.6', 'ENSG00000245552.2'},\n",
       " {'ENSG00000128655.12', 'ENSG00000229941.1'},\n",
       " {'ENSG00000106948.12', 'ENSG00000228278.2'},\n",
       " {'ENSG00000120669.11', 'ENSG00000250709.1'},\n",
       " {'ENSG00000166840.9', 'ENSG00000254399.2', 'ENSG00000255240.1'},\n",
       " {'ENSG00000226075.2', 'ENSG00000244550.1'},\n",
       " {'ENSG00000225948.2', 'ENSG00000237943.2'},\n",
       " {'ENSG00000108433.11',\n",
       "  'ENSG00000262633.1',\n",
       "  'ENSG00000262879.1',\n",
       "  'ENSG00000263142.1'},\n",
       " {'ENSG00000258652.2', 'ENSG00000259176.1'},\n",
       " {'ENSG00000236698.1', 'ENSG00000268869.1'},\n",
       " {'ENSG00000196337.6', 'ENSG00000269706.1'},\n",
       " {'ENSG00000231470.1', 'ENSG00000234139.2'},\n",
       " {'ENSG00000251144.1', 'ENSG00000251670.1'},\n",
       " {'ENSG00000058453.12', 'ENSG00000186715.6'},\n",
       " {'ENSG00000212659.1', 'ENSG00000229351.1'},\n",
       " {'ENSG00000101307.11', 'ENSG00000260861.2'},\n",
       " {'ENSG00000214050.3', 'ENSG00000253567.1'},\n",
       " {'ENSG00000267335.2',\n",
       "  'ENSG00000267631.3',\n",
       "  'ENSG00000267685.2',\n",
       "  'ENSG00000268669.1'},\n",
       " {'ENSG00000213923.6', 'ENSG00000244627.1'},\n",
       " {'ENSG00000165072.9', 'ENSG00000204706.10'},\n",
       " {'ENSG00000079974.13', 'ENSG00000184319.11'},\n",
       " {'ENSG00000176294.3', 'ENSG00000258564.1'},\n",
       " {'ENSG00000145623.8', 'ENSG00000249740.1'},\n",
       " {'ENSG00000053328.8', 'ENSG00000168438.10'},\n",
       " {'ENSG00000101076.12', 'ENSG00000229005.2'},\n",
       " {'ENSG00000227888.3', 'ENSG00000254423.1'},\n",
       " {'ENSG00000117616.13', 'ENSG00000187010.14', 'ENSG00000224183.1'},\n",
       " {'ENSG00000205212.3', 'ENSG00000233098.4', 'ENSG00000252483.1'},\n",
       " {'ENSG00000081842.13',\n",
       "  'ENSG00000204961.5',\n",
       "  'ENSG00000204962.4',\n",
       "  'ENSG00000204963.4',\n",
       "  'ENSG00000204965.4',\n",
       "  'ENSG00000204967.6',\n",
       "  'ENSG00000204969.5',\n",
       "  'ENSG00000204970.5',\n",
       "  'ENSG00000250120.2',\n",
       "  'ENSG00000255408.2'},\n",
       " {'ENSG00000163040.10', 'ENSG00000224679.1'},\n",
       " {'ENSG00000167264.13', 'ENSG00000182810.5'},\n",
       " {'ENSG00000260456.2', 'ENSG00000261697.1'},\n",
       " {'ENSG00000248124.3', 'ENSG00000260306.1'},\n",
       " {'ENSG00000239083.1', 'ENSG00000258654.1'},\n",
       " {'ENSG00000189409.8', 'ENSG00000248333.3'},\n",
       " {'ENSG00000239650.3',\n",
       "  'ENSG00000271761.1',\n",
       "  'ENSG00000272316.1',\n",
       "  'ENSG00000272541.1'},\n",
       " {'ENSG00000227847.1', 'ENSG00000234071.1', 'ENSG00000237764.2'},\n",
       " {'ENSG00000040531.10',\n",
       "  'ENSG00000197417.7',\n",
       "  'ENSG00000262248.1',\n",
       "  'ENSG00000262304.1',\n",
       "  'ENSG00000262903.1'},\n",
       " {'ENSG00000102804.10', 'ENSG00000225727.2'},\n",
       " {'ENSG00000071909.14', 'ENSG00000213981.4'},\n",
       " {'ENSG00000157214.9', 'ENSG00000227646.3'},\n",
       " {'ENSG00000106714.13',\n",
       "  'ENSG00000226625.1',\n",
       "  'ENSG00000243695.1',\n",
       "  'ENSG00000264912.1',\n",
       "  'ENSG00000271454.1'},\n",
       " {'ENSG00000197647.7',\n",
       "  'ENSG00000219665.4',\n",
       "  'ENSG00000257355.1',\n",
       "  'ENSG00000257446.2'},\n",
       " {'ENSG00000176912.3', 'ENSG00000263727.1'},\n",
       " {'ENSG00000099984.6', 'ENSG00000224205.1'},\n",
       " {'ENSG00000103047.3', 'ENSG00000244378.1'},\n",
       " {'ENSG00000072201.9', 'ENSG00000145216.11', 'ENSG00000249341.1'},\n",
       " {'ENSG00000184227.3', 'ENSG00000187105.4', 'ENSG00000258408.1'},\n",
       " {'ENSG00000215110.6', 'ENSG00000268209.1'},\n",
       " {'ENSG00000166897.10', 'ENSG00000243902.2'},\n",
       " {'ENSG00000124467.14', 'ENSG00000225877.1'},\n",
       " {'ENSG00000144161.8', 'ENSG00000188177.9', 'ENSG00000238951.1'},\n",
       " {'ENSG00000150636.11', 'ENSG00000166479.5'},\n",
       " {'ENSG00000120278.10', 'ENSG00000232891.1'},\n",
       " {'ENSG00000225179.1', 'ENSG00000271850.1'},\n",
       " {'ENSG00000225264.3', 'ENSG00000227855.3'},\n",
       " {'ENSG00000051596.5', 'ENSG00000250820.1', 'ENSG00000266083.1'},\n",
       " {'ENSG00000163867.12', 'ENSG00000271741.1'},\n",
       " {'ENSG00000186204.10', 'ENSG00000267241.2'},\n",
       " {'ENSG00000184226.10', 'ENSG00000234527.1'},\n",
       " {'ENSG00000141569.6', 'ENSG00000267801.1'},\n",
       " {'ENSG00000106415.8',\n",
       "  'ENSG00000219545.5',\n",
       "  'ENSG00000233108.1',\n",
       "  'ENSG00000234141.1'},\n",
       " {'ENSG00000119636.11', 'ENSG00000259114.1'},\n",
       " {'ENSG00000239605.4', 'ENSG00000273269.1'},\n",
       " {'ENSG00000134184.8', 'ENSG00000213366.8'},\n",
       " {'ENSG00000166912.12', 'ENSG00000198690.5'},\n",
       " {'ENSG00000215190.4', 'ENSG00000218189.4', 'ENSG00000239650.3'},\n",
       " {'ENSG00000233891.3', 'ENSG00000271955.1'},\n",
       " {'ENSG00000253460.2',\n",
       "  'ENSG00000253481.2',\n",
       "  'ENSG00000253691.2',\n",
       "  'ENSG00000254264.2'},\n",
       " {'ENSG00000011052.17', 'ENSG00000239672.3', 'ENSG00000243678.7'},\n",
       " {'ENSG00000170889.9', 'ENSG00000204577.7', 'ENSG00000244482.5'},\n",
       " {'ENSG00000136933.12', 'ENSG00000235332.2'},\n",
       " {'ENSG00000128606.8', 'ENSG00000161040.12'},\n",
       " {'ENSG00000197024.4', 'ENSG00000204947.4', 'ENSG00000240877.2'},\n",
       " {'ENSG00000120669.11', 'ENSG00000250709.1'},\n",
       " {'ENSG00000213240.7', 'ENSG00000255168.1'},\n",
       " {'ENSG00000145476.11', 'ENSG00000269302.1'},\n",
       " {'ENSG00000182782.7', 'ENSG00000196917.4', 'ENSG00000256249.1'},\n",
       " {'ENSG00000206052.6', 'ENSG00000265643.1'},\n",
       " {'ENSG00000196922.6',\n",
       "  'ENSG00000254618.1',\n",
       "  'ENSG00000255164.1',\n",
       "  'ENSG00000255530.1',\n",
       "  'ENSG00000255559.1'},\n",
       " {'ENSG00000082068.4', 'ENSG00000248216.1'},\n",
       " {'ENSG00000160294.6', 'ENSG00000215424.5'},\n",
       " {'ENSG00000137752.18', 'ENSG00000204397.3', 'ENSG00000255221.2'},\n",
       " {'ENSG00000171608.11', 'ENSG00000233268.3'},\n",
       " {'ENSG00000124467.14', 'ENSG00000231924.5', 'ENSG00000248257.3'},\n",
       " {'ENSG00000052126.10', 'ENSG00000240993.2'},\n",
       " {'ENSG00000115935.12', 'ENSG00000236449.1'},\n",
       " {'ENSG00000233048.1', 'ENSG00000234265.1'},\n",
       " {'ENSG00000135074.11', 'ENSG00000251405.2', 'ENSG00000253155.1'},\n",
       " {'ENSG00000118804.7', 'ENSG00000189157.9', 'ENSG00000272414.1'},\n",
       " {'ENSG00000234185.2', 'ENSG00000241258.2', 'ENSG00000249319.1'},\n",
       " {'ENSG00000182798.6', 'ENSG00000238178.2'},\n",
       " {'ENSG00000105426.10', 'ENSG00000267550.1'},\n",
       " {'ENSG00000178104.15', 'ENSG00000252656.1'},\n",
       " {'ENSG00000150636.11', 'ENSG00000207072.1'},\n",
       " {'ENSG00000229057.1',\n",
       "  'ENSG00000231381.2',\n",
       "  'ENSG00000236924.1',\n",
       "  'ENSG00000266863.1'},\n",
       " {'ENSG00000079387.9', 'ENSG00000226138.3'},\n",
       " {'ENSG00000230850.3', 'ENSG00000232274.2'},\n",
       " {'ENSG00000233806.3', 'ENSG00000237940.3'},\n",
       " {'ENSG00000239083.1', 'ENSG00000258654.1', 'ENSG00000265002.1'},\n",
       " {'ENSG00000151229.8', 'ENSG00000180116.11'},\n",
       " {'ENSG00000163935.9', 'ENSG00000272305.1'},\n",
       " {'ENSG00000115762.12',\n",
       "  'ENSG00000188219.10',\n",
       "  'ENSG00000212199.1',\n",
       "  'ENSG00000225448.1',\n",
       "  'ENSG00000236956.1',\n",
       "  'ENSG00000248796.1',\n",
       "  'ENSG00000250852.2'},\n",
       " {'ENSG00000242779.2', 'ENSG00000269526.1'},\n",
       " {'ENSG00000224815.3', 'ENSG00000232063.1'},\n",
       " {'ENSG00000248824.2', 'ENSG00000249956.3'},\n",
       " {'ENSG00000182902.9', 'ENSG00000236754.1'},\n",
       " {'ENSG00000111843.9', 'ENSG00000272097.1'},\n",
       " {'ENSG00000004866.14', 'ENSG00000214188.5'},\n",
       " {'ENSG00000266992.1', 'ENSG00000267104.1', 'ENSG00000267302.1'},\n",
       " {'ENSG00000169894.13', 'ENSG00000225946.1'},\n",
       " {'ENSG00000117616.13', 'ENSG00000187010.14', 'ENSG00000224183.1'},\n",
       " {'ENSG00000112486.10', 'ENSG00000272980.1'},\n",
       " {'ENSG00000060709.9', 'ENSG00000256725.1'},\n",
       " {'ENSG00000031691.6', 'ENSG00000146085.7'},\n",
       " {'ENSG00000183666.12', 'ENSG00000233974.3'},\n",
       " {'ENSG00000205809.5', 'ENSG00000255641.1'},\n",
       " {'ENSG00000196696.8', 'ENSG00000255185.1'},\n",
       " {'ENSG00000107282.5', 'ENSG00000229312.2'},\n",
       " {'ENSG00000171953.11',\n",
       "  'ENSG00000171962.13',\n",
       "  'ENSG00000175662.13',\n",
       "  'ENSG00000201378.1',\n",
       "  'ENSG00000230273.1',\n",
       "  'ENSG00000232344.2'},\n",
       " {'ENSG00000141646.9', 'ENSG00000267699.2'},\n",
       " {'ENSG00000183747.7', 'ENSG00000267824.1'},\n",
       " {'ENSG00000184305.10', 'ENSG00000252087.1'},\n",
       " {'ENSG00000152430.13', 'ENSG00000222017.1'},\n",
       " {'ENSG00000251138.2', 'ENSG00000257183.1'},\n",
       " {'ENSG00000225470.2', 'ENSG00000228906.1'},\n",
       " {'ENSG00000200478.1', 'ENSG00000201143.1', 'ENSG00000224078.8'},\n",
       " {'ENSG00000072694.14', 'ENSG00000162747.5', 'ENSG00000203747.5'},\n",
       " {'ENSG00000224141.1', 'ENSG00000265841.1'},\n",
       " {'ENSG00000233098.4', 'ENSG00000265790.1'},\n",
       " {'ENSG00000214331.4', 'ENSG00000261079.1'},\n",
       " {'ENSG00000248337.1', 'ENSG00000250715.1', 'ENSG00000269466.1'},\n",
       " {'ENSG00000088256.4', 'ENSG00000267688.1'},\n",
       " {'ENSG00000102786.10', 'ENSG00000253309.2', 'ENSG00000269965.1'},\n",
       " {'ENSG00000223543.1', 'ENSG00000235306.2'},\n",
       " {'ENSG00000203849.6', 'ENSG00000230880.2'},\n",
       " {'ENSG00000183130.2',\n",
       "  'ENSG00000184022.2',\n",
       "  'ENSG00000201602.1',\n",
       "  'ENSG00000271701.1'},\n",
       " {'ENSG00000249129.1', 'ENSG00000249684.1', 'ENSG00000250101.1'},\n",
       " {'ENSG00000068489.8', 'ENSG00000266537.1'},\n",
       " {'ENSG00000115762.12', 'ENSG00000227817.4'},\n",
       " {'ENSG00000058453.12', 'ENSG00000272426.1'},\n",
       " {'ENSG00000139656.5', 'ENSG00000227258.1', 'ENSG00000235285.1'},\n",
       " {'ENSG00000253434.1', 'ENSG00000255033.1'},\n",
       " {'ENSG00000235337.1', 'ENSG00000239498.1'},\n",
       " {'ENSG00000169093.10', 'ENSG00000182162.5'},\n",
       " {'ENSG00000227082.1', 'ENSG00000230806.1'},\n",
       " {'ENSG00000120440.9', 'ENSG00000217447.1'},\n",
       " {'ENSG00000128394.12', 'ENSG00000239713.3', 'ENSG00000243811.3'},\n",
       " {'ENSG00000213214.3', 'ENSG00000244198.1', 'ENSG00000244479.2'},\n",
       " {'ENSG00000174093.6', 'ENSG00000197681.8'},\n",
       " {'ENSG00000140830.4', 'ENSG00000257017.4', 'ENSG00000261701.2'},\n",
       " {'ENSG00000196284.9', 'ENSG00000219384.1'},\n",
       " {'ENSG00000196312.7', 'ENSG00000269907.1'},\n",
       " {'ENSG00000157350.8', 'ENSG00000260111.1'},\n",
       " {'ENSG00000109332.15', 'ENSG00000246560.2'},\n",
       " {'ENSG00000196204.7', 'ENSG00000272968.1'},\n",
       " {'ENSG00000197465.9', 'ENSG00000246448.2'},\n",
       " {'ENSG00000217576.7', 'ENSG00000272281.2'},\n",
       " {'ENSG00000120669.11', 'ENSG00000250709.1'},\n",
       " {'ENSG00000071282.7', 'ENSG00000227110.2'},\n",
       " {'ENSG00000239028.1', 'ENSG00000271225.1'},\n",
       " {'ENSG00000196417.8', 'ENSG00000203326.5'},\n",
       " {'ENSG00000213965.3', 'ENSG00000267567.1'},\n",
       " {'ENSG00000150076.18', 'ENSG00000216937.7'},\n",
       " {'ENSG00000112494.5', 'ENSG00000228648.1', 'ENSG00000231720.1'},\n",
       " {'ENSG00000205485.9', 'ENSG00000243566.2'},\n",
       " {'ENSG00000271911.1', 'ENSG00000272485.1'},\n",
       " {'ENSG00000222729.1', 'ENSG00000241385.1'},\n",
       " {'ENSG00000115163.10', 'ENSG00000213699.4'},\n",
       " {'ENSG00000186314.7', 'ENSG00000249363.1'},\n",
       " {'ENSG00000203849.6', 'ENSG00000230880.2', 'ENSG00000242676.3'},\n",
       " {'ENSG00000173988.8', 'ENSG00000238483.1'},\n",
       " {'ENSG00000170113.11', 'ENSG00000259344.1'},\n",
       " {'ENSG00000199712.1', 'ENSG00000224078.8'},\n",
       " {'ENSG00000203849.6', 'ENSG00000230880.2', 'ENSG00000242676.3'},\n",
       " {'ENSG00000203849.6', 'ENSG00000230880.2'},\n",
       " {'ENSG00000259176.1', 'ENSG00000259435.2'},\n",
       " {'ENSG00000215302.4', 'ENSG00000270055.1'},\n",
       " {'ENSG00000018699.7',\n",
       "  'ENSG00000115760.9',\n",
       "  'ENSG00000207653.1',\n",
       "  'ENSG00000265057.1'},\n",
       " {'ENSG00000117616.13', 'ENSG00000187010.14'},\n",
       " {'ENSG00000205592.9', 'ENSG00000258167.1'},\n",
       " {'ENSG00000196917.4', 'ENSG00000256249.1'},\n",
       " {'ENSG00000267389.1', 'ENSG00000267575.2', 'ENSG00000272635.1'},\n",
       " {'ENSG00000203849.6', 'ENSG00000230880.2', 'ENSG00000242676.3'},\n",
       " {'ENSG00000114656.6', 'ENSG00000187695.6'},\n",
       " {'ENSG00000111186.8', 'ENSG00000171823.6'},\n",
       " {'ENSG00000144214.5', 'ENSG00000241962.5'},\n",
       " {'ENSG00000083099.6', 'ENSG00000135299.12'},\n",
       " {'ENSG00000120669.11', 'ENSG00000250709.1'},\n",
       " {'ENSG00000203747.5', 'ENSG00000273112.1'},\n",
       " {'ENSG00000254951.3', 'ENSG00000271758.1'},\n",
       " {'ENSG00000213240.7', 'ENSG00000255168.1'},\n",
       " {'ENSG00000144535.15', 'ENSG00000207626.1'},\n",
       " {'ENSG00000249188.1', 'ENSG00000253893.2'},\n",
       " {'ENSG00000145147.15', 'ENSG00000207732.1'},\n",
       " {'ENSG00000058453.12', 'ENSG00000272426.1'},\n",
       " {'ENSG00000168904.10', 'ENSG00000259257.1', 'ENSG00000268730.1'},\n",
       " {'ENSG00000214331.4', 'ENSG00000261079.1'},\n",
       " {'ENSG00000122507.16',\n",
       "  'ENSG00000164610.4',\n",
       "  'ENSG00000228015.1',\n",
       "  'ENSG00000252706.1'},\n",
       " {'ENSG00000180389.6', 'ENSG00000260704.1'},\n",
       " {'ENSG00000104450.8', 'ENSG00000147669.6', 'ENSG00000202310.1'},\n",
       " {'ENSG00000154229.7', 'ENSG00000264630.1'},\n",
       " {'ENSG00000033011.7',\n",
       "  'ENSG00000103174.7',\n",
       "  'ENSG00000153446.11',\n",
       "  'ENSG00000267072.1'},\n",
       " {'ENSG00000090612.16', 'ENSG00000256223.1', 'ENSG00000256825.4'},\n",
       " {'ENSG00000215506.5', 'ENSG00000224240.1'},\n",
       " {'ENSG00000115239.17', 'ENSG00000270898.1'},\n",
       " {'ENSG00000229140.4', 'ENSG00000253926.1'},\n",
       " {'ENSG00000197114.7', 'ENSG00000273154.1'},\n",
       " {'ENSG00000184389.8', 'ENSG00000225313.2'},\n",
       " {'ENSG00000196312.7', 'ENSG00000227257.1'},\n",
       " {'ENSG00000250476.1', 'ENSG00000251669.1', 'ENSG00000253917.3'},\n",
       " {'ENSG00000183117.13', 'ENSG00000254244.1'},\n",
       " {'ENSG00000153208.12', 'ENSG00000232277.1'},\n",
       " {'ENSG00000144035.3', 'ENSG00000163016.5'},\n",
       " {'ENSG00000149124.6', 'ENSG00000197254.3'},\n",
       " {'ENSG00000184999.7', 'ENSG00000196600.8'},\n",
       " {'ENSG00000104205.8', 'ENSG00000270024.1'},\n",
       " {'ENSG00000183706.4', 'ENSG00000259176.1'},\n",
       " {'ENSG00000166763.7',\n",
       "  'ENSG00000201136.1',\n",
       "  'ENSG00000223572.5',\n",
       "  'ENSG00000242866.5'},\n",
       " {'ENSG00000182985.12', 'ENSG00000255580.1'},\n",
       " {'ENSG00000234386.4', 'ENSG00000251166.1'},\n",
       " {'ENSG00000205212.3', 'ENSG00000233098.4', 'ENSG00000252483.1'},\n",
       " {'ENSG00000179889.14', 'ENSG00000238728.1', 'ENSG00000260872.1'},\n",
       " {'ENSG00000135213.8', 'ENSG00000223705.5'},\n",
       " {'ENSG00000227110.2', 'ENSG00000231401.1', 'ENSG00000253081.1'},\n",
       " {'ENSG00000227262.3',\n",
       "  'ENSG00000230795.2',\n",
       "  'ENSG00000233677.1',\n",
       "  'ENSG00000235963.1'},\n",
       " {'ENSG00000185306.8', 'ENSG00000243024.2'},\n",
       " {'ENSG00000205592.9', 'ENSG00000258167.1'},\n",
       " {'ENSG00000184735.5', 'ENSG00000233067.2'},\n",
       " {'ENSG00000272369.1', 'ENSG00000272963.1'},\n",
       " {'ENSG00000118873.11', 'ENSG00000213033.4'},\n",
       " {'ENSG00000225630.1', 'ENSG00000230021.3', 'ENSG00000237973.1'},\n",
       " {'ENSG00000213759.4', 'ENSG00000250696.1'},\n",
       " {'ENSG00000241278.1', 'ENSG00000241288.3'},\n",
       " {'ENSG00000102445.14', 'ENSG00000241353.2'},\n",
       " {'ENSG00000120669.11', 'ENSG00000242715.3', 'ENSG00000250709.1'},\n",
       " {'ENSG00000108242.8', 'ENSG00000165841.5'},\n",
       " {'ENSG00000133424.16', 'ENSG00000253007.2'},\n",
       " {'ENSG00000157326.14', 'ENSG00000215256.3'},\n",
       " {'ENSG00000103319.7', 'ENSG00000261113.1'},\n",
       " {'ENSG00000239605.4', 'ENSG00000273269.1'},\n",
       " {'ENSG00000101773.12', 'ENSG00000265943.1', 'ENSG00000266850.1'},\n",
       " {'ENSG00000259199.1',\n",
       "  'ENSG00000259266.1',\n",
       "  'ENSG00000259320.1',\n",
       "  'ENSG00000259611.1'},\n",
       " {'ENSG00000131477.6', 'ENSG00000197291.4'},\n",
       " {'ENSG00000237862.1', 'ENSG00000243902.2'},\n",
       " {'ENSG00000150527.12', 'ENSG00000258941.2'},\n",
       " {'ENSG00000166105.11', 'ENSG00000254442.1'},\n",
       " {'ENSG00000101812.8', 'ENSG00000123569.7'},\n",
       " {'ENSG00000203849.6', 'ENSG00000230880.2'},\n",
       " {'ENSG00000139719.5', 'ENSG00000256861.1'},\n",
       " {'ENSG00000183087.10', 'ENSG00000184497.8', 'ENSG00000233695.1'},\n",
       " {'ENSG00000198673.6', 'ENSG00000257528.1'},\n",
       " {'ENSG00000202474.1', 'ENSG00000238113.2'},\n",
       " {'ENSG00000170919.11', 'ENSG00000228886.1'},\n",
       " {'ENSG00000144061.8', 'ENSG00000175701.6'},\n",
       " {'ENSG00000077327.11', 'ENSG00000233451.1'},\n",
       " {'ENSG00000248828.1', 'ENSG00000250361.2'},\n",
       " {'ENSG00000108242.8', 'ENSG00000165841.5'},\n",
       " {'ENSG00000228898.1', 'ENSG00000230158.1', 'ENSG00000230950.1'},\n",
       " {'ENSG00000196436.7', 'ENSG00000214331.4', 'ENSG00000261079.1'},\n",
       " {'ENSG00000151623.10', 'ENSG00000250354.1'},\n",
       " {'ENSG00000111215.7',\n",
       "  'ENSG00000212127.5',\n",
       "  'ENSG00000255374.1',\n",
       "  'ENSG00000256274.1'},\n",
       " {'ENSG00000138347.11', 'ENSG00000148634.11'},\n",
       " {'ENSG00000213295.3', 'ENSG00000224061.1'},\n",
       " {'ENSG00000252477.1', 'ENSG00000258483.1', 'ENSG00000259199.1'},\n",
       " {'ENSG00000122971.4', 'ENSG00000255946.1'},\n",
       " {'ENSG00000120669.11', 'ENSG00000242715.3', 'ENSG00000250709.1'},\n",
       " {'ENSG00000250514.1', 'ENSG00000261833.1'},\n",
       " {'ENSG00000214719.7', 'ENSG00000248121.4'},\n",
       " {'ENSG00000176124.7',\n",
       "  'ENSG00000186047.9',\n",
       "  'ENSG00000200711.1',\n",
       "  'ENSG00000237152.2'},\n",
       " {'ENSG00000155962.8', 'ENSG00000224216.1'},\n",
       " {'ENSG00000235665.1', 'ENSG00000236790.1'},\n",
       " {'ENSG00000156273.11', 'ENSG00000171189.12', 'ENSG00000183653.4'},\n",
       " {'ENSG00000171051.4', 'ENSG00000187474.4'},\n",
       " {'ENSG00000129351.13', 'ENSG00000267100.1'},\n",
       " {'ENSG00000250189.2', 'ENSG00000272632.1'},\n",
       " {'ENSG00000224760.3', 'ENSG00000236217.3'},\n",
       " {'ENSG00000101307.11', 'ENSG00000260861.2'},\n",
       " {'ENSG00000260158.1', 'ENSG00000261719.1'},\n",
       " {'ENSG00000130167.9', 'ENSG00000267174.1'},\n",
       " {'ENSG00000183668.13', 'ENSG00000236123.1'},\n",
       " {'ENSG00000163386.16', 'ENSG00000213240.7', 'ENSG00000255168.1'},\n",
       " {'ENSG00000202195.1', 'ENSG00000231918.1'},\n",
       " {'ENSG00000236932.2', 'ENSG00000243130.3'},\n",
       " {'ENSG00000124467.14', 'ENSG00000248257.3'},\n",
       " {'ENSG00000104972.10', 'ENSG00000239998.1'},\n",
       " {'ENSG00000223779.4', 'ENSG00000242352.2'},\n",
       " {'ENSG00000203645.2', 'ENSG00000236893.1'},\n",
       " {'ENSG00000170819.4', 'ENSG00000249993.1'},\n",
       " {'ENSG00000184945.9', 'ENSG00000219159.3'},\n",
       " {'ENSG00000149179.9', 'ENSG00000271350.1'},\n",
       " {'ENSG00000250884.1', 'ENSG00000251624.1'},\n",
       " {'ENSG00000144214.5', 'ENSG00000241962.5'},\n",
       " {'ENSG00000142528.11', 'ENSG00000204666.3'},\n",
       " {'ENSG00000170074.15', 'ENSG00000249849.1'},\n",
       " {'ENSG00000176406.16', 'ENSG00000253477.1'},\n",
       " {'ENSG00000269182.1', 'ENSG00000271288.1'},\n",
       " {'ENSG00000148356.9', 'ENSG00000200788.1'},\n",
       " {'ENSG00000203908.3', 'ENSG00000203909.3'},\n",
       " {'ENSG00000169084.8', 'ENSG00000223571.1'},\n",
       " {'ENSG00000203630.3', 'ENSG00000234684.2'},\n",
       " {'ENSG00000153130.13', 'ENSG00000196951.6'},\n",
       " {'ENSG00000170264.8', 'ENSG00000227361.1', 'ENSG00000229831.2'},\n",
       " {'ENSG00000253010.1', 'ENSG00000271373.1'},\n",
       " {'ENSG00000233098.4', 'ENSG00000264660.1', 'ENSG00000265099.1'},\n",
       " {'ENSG00000204525.10',\n",
       "  'ENSG00000214892.4',\n",
       "  'ENSG00000227939.1',\n",
       "  'ENSG00000231402.1',\n",
       "  'ENSG00000256166.1'},\n",
       " {'ENSG00000175582.15', 'ENSG00000256034.1'},\n",
       " {'ENSG00000204520.8', 'ENSG00000206337.6'},\n",
       " {'ENSG00000227345.4', 'ENSG00000230166.1'},\n",
       " {'ENSG00000167346.3', 'ENSG00000225003.1'},\n",
       " {'ENSG00000217576.7', 'ENSG00000272281.2'},\n",
       " {'ENSG00000135443.4',\n",
       "  'ENSG00000161849.3',\n",
       "  'ENSG00000170442.7',\n",
       "  'ENSG00000170523.3',\n",
       "  'ENSG00000257829.1',\n",
       "  'ENSG00000258253.1',\n",
       "  'ENSG00000267873.1'},\n",
       " {'ENSG00000225892.3',\n",
       "  'ENSG00000248213.2',\n",
       "  'ENSG00000251155.2',\n",
       "  'ENSG00000260404.2'},\n",
       " {'ENSG00000113578.13', 'ENSG00000231185.2'},\n",
       " {'ENSG00000170089.11', 'ENSG00000214351.5'},\n",
       " {'ENSG00000120784.11', 'ENSG00000196381.6'},\n",
       " {'ENSG00000082438.11', 'ENSG00000199508.1', 'ENSG00000233255.1'},\n",
       " {'ENSG00000230964.1', 'ENSG00000261600.1'},\n",
       " {'ENSG00000223967.1', 'ENSG00000229862.1'},\n",
       " {'ENSG00000186704.8', 'ENSG00000243566.2', 'ENSG00000265479.1'},\n",
       " {'ENSG00000198168.4', 'ENSG00000246225.2'},\n",
       " {'ENSG00000119333.7', 'ENSG00000227759.2'},\n",
       " {'ENSG00000186704.8', 'ENSG00000243566.2', 'ENSG00000265479.1'},\n",
       " {'ENSG00000049323.11', 'ENSG00000223951.1'},\n",
       " {'ENSG00000166250.7', 'ENSG00000254710.1'},\n",
       " {'ENSG00000091009.6', 'ENSG00000250025.2'},\n",
       " {'ENSG00000107295.8', 'ENSG00000228810.1'},\n",
       " {'ENSG00000230850.3', 'ENSG00000232274.2'},\n",
       " {'ENSG00000163166.9', 'ENSG00000231731.3'},\n",
       " {'ENSG00000175265.13', 'ENSG00000215252.7'},\n",
       " {'ENSG00000117616.13', 'ENSG00000187010.14'},\n",
       " {'ENSG00000207555.1', 'ENSG00000207616.1', 'ENSG00000207810.1'},\n",
       " {'ENSG00000173436.9', 'ENSG00000270136.1'},\n",
       " {'ENSG00000176294.3', 'ENSG00000258438.2'},\n",
       " {'ENSG00000221994.6', 'ENSG00000238068.1'},\n",
       " {'ENSG00000185565.7', 'ENSG00000240922.1'},\n",
       " {'ENSG00000134376.10', 'ENSG00000230260.1'},\n",
       " {'ENSG00000150275.13', 'ENSG00000236744.2'},\n",
       " {'ENSG00000150093.14', 'ENSG00000229656.2'},\n",
       " {'ENSG00000225264.3', 'ENSG00000227855.3'},\n",
       " {'ENSG00000169918.5', 'ENSG00000259358.1'},\n",
       " {'ENSG00000259897.2', 'ENSG00000260958.2', 'ENSG00000260984.1'},\n",
       " {'ENSG00000234480.1', 'ENSG00000236590.1'},\n",
       " {'ENSG00000229057.1',\n",
       "  'ENSG00000231381.2',\n",
       "  'ENSG00000236924.1',\n",
       "  'ENSG00000266863.1'},\n",
       " {'ENSG00000144645.9', 'ENSG00000235670.1'},\n",
       " {'ENSG00000140043.7', 'ENSG00000223300.1', 'ENSG00000258653.3'},\n",
       " {'ENSG00000111215.7', 'ENSG00000212127.5'},\n",
       " {'ENSG00000165935.5', 'ENSG00000257037.1'},\n",
       " {'ENSG00000251574.2', 'ENSG00000253584.1'},\n",
       " {'ENSG00000198538.6', 'ENSG00000204604.5'},\n",
       " {'ENSG00000178567.5', 'ENSG00000272127.1'},\n",
       " {'ENSG00000163902.7', 'ENSG00000242551.2'},\n",
       " {'ENSG00000074855.6', 'ENSG00000130299.12'},\n",
       " {'ENSG00000008128.18', 'ENSG00000268575.1'},\n",
       " {'ENSG00000244753.2', 'ENSG00000263508.1'},\n",
       " {'ENSG00000120669.11', 'ENSG00000250709.1'},\n",
       " {'ENSG00000229600.1', 'ENSG00000252249.1'},\n",
       " {'ENSG00000080910.7', 'ENSG00000134365.8'},\n",
       " {'ENSG00000108448.16', 'ENSG00000265693.1'},\n",
       " {'ENSG00000184408.5', 'ENSG00000252023.1'},\n",
       " {'ENSG00000163612.10', 'ENSG00000249767.1'},\n",
       " {'ENSG00000133112.12', 'ENSG00000199477.1', 'ENSG00000253051.1'},\n",
       " {'ENSG00000129353.10', 'ENSG00000226104.1'},\n",
       " {'ENSG00000126215.9', 'ENSG00000224997.1'},\n",
       " {'ENSG00000215430.2', 'ENSG00000226974.2'},\n",
       " {'ENSG00000150893.9', 'ENSG00000225350.1'},\n",
       " {'ENSG00000102743.10',\n",
       "  'ENSG00000168852.8',\n",
       "  'ENSG00000176268.5',\n",
       "  'ENSG00000207652.1'},\n",
       " {'ENSG00000215837.7', 'ENSG00000242086.4'},\n",
       " {'ENSG00000131484.3', 'ENSG00000214425.2'},\n",
       " {'ENSG00000166157.12', 'ENSG00000223925.1'},\n",
       " {'ENSG00000183668.13', 'ENSG00000241104.1'},\n",
       " {'ENSG00000166157.12', 'ENSG00000223925.1'},\n",
       " {'ENSG00000133107.10', 'ENSG00000199276.1'},\n",
       " {'ENSG00000090857.9', 'ENSG00000247228.2'},\n",
       " {'ENSG00000228696.4', 'ENSG00000261575.2'},\n",
       " {'ENSG00000204388.5', 'ENSG00000204389.8'},\n",
       " {'ENSG00000153832.7', 'ENSG00000231534.1', 'ENSG00000252333.1'},\n",
       " {'ENSG00000154102.6', 'ENSG00000269898.1'},\n",
       " {'ENSG00000203426.1', 'ENSG00000203427.1', 'ENSG00000203428.1'},\n",
       " {'ENSG00000158427.10', 'ENSG00000231728.2'},\n",
       " {'ENSG00000146555.14', 'ENSG00000211544.1'},\n",
       " {'ENSG00000200434.1',\n",
       "  'ENSG00000207986.1',\n",
       "  'ENSG00000256642.1',\n",
       "  'ENSG00000259987.1',\n",
       "  'ENSG00000260087.1',\n",
       "  'ENSG00000260207.1',\n",
       "  'ENSG00000261440.1',\n",
       "  'ENSG00000262561.1',\n",
       "  'ENSG00000265616.1'},\n",
       " {'ENSG00000174093.6', 'ENSG00000197681.8'},\n",
       " {'ENSG00000184489.7',\n",
       "  'ENSG00000226807.2',\n",
       "  'ENSG00000238854.1',\n",
       "  'ENSG00000253605.1',\n",
       "  'ENSG00000271959.1'},\n",
       " {'ENSG00000120690.9', 'ENSG00000229473.2'},\n",
       " {'ENSG00000237515.6', 'ENSG00000263984.1'},\n",
       " {'ENSG00000167633.12',\n",
       "  'ENSG00000189013.10',\n",
       "  'ENSG00000215765.3',\n",
       "  'ENSG00000242019.1'},\n",
       " {'ENSG00000231443.2', 'ENSG00000260261.1'},\n",
       " {'ENSG00000158315.6', 'ENSG00000228436.2'},\n",
       " {'ENSG00000188818.8', 'ENSG00000206077.6'},\n",
       " {'ENSG00000222790.1', 'ENSG00000249637.1'},\n",
       " {'ENSG00000174125.3', 'ENSG00000174130.8'},\n",
       " {'ENSG00000147121.11',\n",
       "  'ENSG00000199226.1',\n",
       "  'ENSG00000230844.2',\n",
       "  'ENSG00000251192.3'},\n",
       " {'ENSG00000238460.1', 'ENSG00000255122.1'},\n",
       " {'ENSG00000078328.15', 'ENSG00000200869.1'},\n",
       " {'ENSG00000230850.3', 'ENSG00000232274.2'},\n",
       " {'ENSG00000171444.13', 'ENSG00000232633.3'},\n",
       " {'ENSG00000122420.5', 'ENSG00000237413.1'},\n",
       " {'ENSG00000080910.7', 'ENSG00000134365.8'},\n",
       " {'ENSG00000227892.1', 'ENSG00000254951.3', 'ENSG00000271758.1'},\n",
       " {'ENSG00000161551.8', 'ENSG00000198093.6', 'ENSG00000268095.1'},\n",
       " {'ENSG00000102309.8', 'ENSG00000198034.6'},\n",
       " {'ENSG00000116584.13', 'ENSG00000224276.1'},\n",
       " {'ENSG00000176406.16', 'ENSG00000254644.1', 'ENSG00000255105.1'},\n",
       " {'ENSG00000188641.8', 'ENSG00000270911.1'},\n",
       " {'ENSG00000178075.15', 'ENSG00000241889.1'},\n",
       " {'ENSG00000004455.12', 'ENSG00000236065.2'},\n",
       " {'ENSG00000151465.9', 'ENSG00000165609.8'},\n",
       " {'ENSG00000167633.12',\n",
       "  'ENSG00000189013.10',\n",
       "  'ENSG00000215765.3',\n",
       "  'ENSG00000242019.1',\n",
       "  'ENSG00000243772.2'},\n",
       " {'ENSG00000132938.14', 'ENSG00000236758.1'},\n",
       " {'ENSG00000162390.13', 'ENSG00000230728.1'},\n",
       " {'ENSG00000102445.14', 'ENSG00000241353.2'},\n",
       " {'ENSG00000158517.9', 'ENSG00000160828.13'},\n",
       " {'ENSG00000198384.7', 'ENSG00000244471.1'},\n",
       " {'ENSG00000142185.12', 'ENSG00000230061.1'},\n",
       " {'ENSG00000121335.10', 'ENSG00000251655.2'},\n",
       " {'ENSG00000221926.7', 'ENSG00000251537.4', 'ENSG00000266261.1'},\n",
       " {'ENSG00000270800.1', 'ENSG00000272325.1'},\n",
       " {'ENSG00000111700.8', 'ENSG00000205754.6', 'ENSG00000257046.1'},\n",
       " {'ENSG00000237515.6', 'ENSG00000262116.1'},\n",
       " {'ENSG00000186654.16', 'ENSG00000241484.5', 'ENSG00000248405.5'},\n",
       " {'ENSG00000177694.10', 'ENSG00000201452.1', 'ENSG00000225552.1'},\n",
       " {'ENSG00000136206.3', 'ENSG00000214783.5', 'ENSG00000273432.1'},\n",
       " {'ENSG00000152430.13', 'ENSG00000222017.1'},\n",
       " {'ENSG00000165409.11', 'ENSG00000258999.1'},\n",
       " {'ENSG00000070950.5', 'ENSG00000182533.6'},\n",
       " {'ENSG00000133114.13', 'ENSG00000223732.2', 'ENSG00000265802.1'},\n",
       " {'ENSG00000260086.1', 'ENSG00000272545.1'},\n",
       " {'ENSG00000201671.1', 'ENSG00000214711.5'},\n",
       " {'ENSG00000178104.15', 'ENSG00000272755.1'},\n",
       " {'ENSG00000182109.3', 'ENSG00000243970.1'},\n",
       " {'ENSG00000235084.2', 'ENSG00000237301.1', 'ENSG00000252417.1'},\n",
       " {'ENSG00000131724.6',\n",
       "  'ENSG00000174460.3',\n",
       "  'ENSG00000203650.3',\n",
       "  'ENSG00000224341.1',\n",
       "  'ENSG00000250995.1'},\n",
       " {'ENSG00000134013.11', 'ENSG00000197217.8'},\n",
       " {'ENSG00000051596.5', 'ENSG00000250820.1'},\n",
       " {'ENSG00000206187.3', 'ENSG00000212604.1'},\n",
       " {'ENSG00000183230.12', 'ENSG00000198739.6'},\n",
       " {'ENSG00000235325.1', 'ENSG00000237745.1'},\n",
       " {'ENSG00000167633.12',\n",
       "  'ENSG00000189013.10',\n",
       "  'ENSG00000215765.3',\n",
       "  'ENSG00000243772.2'},\n",
       " {'ENSG00000139675.10', 'ENSG00000250299.1'},\n",
       " {'ENSG00000168818.5', 'ENSG00000237170.3'},\n",
       " {'ENSG00000133131.10', 'ENSG00000133138.15'},\n",
       " {'ENSG00000183087.10', 'ENSG00000233695.1'},\n",
       " {'ENSG00000109794.9', 'ENSG00000250327.1'},\n",
       " {'ENSG00000150054.14', 'ENSG00000233472.1'},\n",
       " {'ENSG00000058453.12',\n",
       "  'ENSG00000228549.2',\n",
       "  'ENSG00000235241.1',\n",
       "  'ENSG00000238142.1'},\n",
       " {'ENSG00000130021.9', 'ENSG00000228550.1'},\n",
       " {'ENSG00000125650.4', 'ENSG00000125651.9'},\n",
       " {'ENSG00000143322.15', 'ENSG00000212338.1'},\n",
       " {'ENSG00000116151.9',\n",
       "  'ENSG00000178642.5',\n",
       "  'ENSG00000271847.1',\n",
       "  'ENSG00000271921.1'},\n",
       " {'ENSG00000207277.1',\n",
       "  'ENSG00000225411.2',\n",
       "  'ENSG00000232815.1',\n",
       "  'ENSG00000266017.1'},\n",
       " {'ENSG00000164440.10', 'ENSG00000226571.1'},\n",
       " {'ENSG00000200726.1', 'ENSG00000224078.8'},\n",
       " {'ENSG00000086848.10', 'ENSG00000258529.1'},\n",
       " {'ENSG00000120669.11', 'ENSG00000242715.3', 'ENSG00000250709.1'},\n",
       " {'ENSG00000085871.4', 'ENSG00000201533.1'},\n",
       " {'ENSG00000124208.16', 'ENSG00000240849.6', 'ENSG00000244687.7'},\n",
       " {'ENSG00000226381.3', 'ENSG00000244733.4', 'ENSG00000272489.1'},\n",
       " {'ENSG00000221926.7', 'ENSG00000251537.4'},\n",
       " {'ENSG00000165973.13', 'ENSG00000225477.2'},\n",
       " {'ENSG00000184724.5', 'ENSG00000206105.2', 'ENSG00000244624.2'},\n",
       " {'ENSG00000150722.6', 'ENSG00000265129.1'},\n",
       " {'ENSG00000179889.14', 'ENSG00000260872.1'},\n",
       " {'ENSG00000225588.2', 'ENSG00000237880.1'},\n",
       " {'ENSG00000115841.15', 'ENSG00000235848.2'},\n",
       " {'ENSG00000166762.12',\n",
       "  'ENSG00000206991.1',\n",
       "  'ENSG00000224677.1',\n",
       "  'ENSG00000242866.5'},\n",
       " {'ENSG00000229970.3', 'ENSG00000272328.1'},\n",
       " {'ENSG00000173302.5', 'ENSG00000229797.1', 'ENSG00000240253.1'},\n",
       " {'ENSG00000175061.13', 'ENSG00000181350.7'},\n",
       " {'ENSG00000169071.10', 'ENSG00000266855.1'},\n",
       " {'ENSG00000198077.6', 'ENSG00000268797.1'},\n",
       " {'ENSG00000142789.15', 'ENSG00000219073.3', 'ENSG00000263582.1'},\n",
       " {'ENSG00000131781.8', 'ENSG00000237188.3', 'ENSG00000273071.1'},\n",
       " {'ENSG00000213390.6', 'ENSG00000269891.1'},\n",
       " {'ENSG00000145244.7', 'ENSG00000242262.1'},\n",
       " {'ENSG00000214243.3', 'ENSG00000243566.2'},\n",
       " {'ENSG00000207135.1', 'ENSG00000215409.4', 'ENSG00000260151.1'},\n",
       " {'ENSG00000132950.14', 'ENSG00000223576.2'},\n",
       " {'ENSG00000078124.7', 'ENSG00000254988.1'},\n",
       " {'ENSG00000100218.7', 'ENSG00000221069.1'},\n",
       " {'ENSG00000128849.9', 'ENSG00000252984.1'},\n",
       " {'ENSG00000257355.1', 'ENSG00000257446.2'},\n",
       " {'ENSG00000253444.1', 'ENSG00000253855.1'},\n",
       " {'ENSG00000198250.8', 'ENSG00000243536.3', 'ENSG00000259942.1'},\n",
       " {'ENSG00000260242.1', 'ENSG00000260933.1'},\n",
       " {'ENSG00000136110.8', 'ENSG00000165416.10'},\n",
       " {'ENSG00000104517.8', 'ENSG00000238533.1'},\n",
       " {'ENSG00000138594.8', 'ENSG00000259201.1'},\n",
       " {'ENSG00000254724.1', 'ENSG00000254917.1'},\n",
       " {'ENSG00000187951.6',\n",
       "  'ENSG00000221358.1',\n",
       "  'ENSG00000247728.2',\n",
       "  'ENSG00000261794.1',\n",
       "  'ENSG00000269930.1'},\n",
       " {'ENSG00000156639.7', 'ENSG00000218521.1'},\n",
       " {'ENSG00000215110.6', 'ENSG00000248824.2'},\n",
       " {'ENSG00000237787.2', 'ENSG00000238755.3'},\n",
       " {'ENSG00000157326.14', 'ENSG00000215256.3'},\n",
       " {'ENSG00000262633.1',\n",
       "  'ENSG00000262879.1',\n",
       "  'ENSG00000263142.1',\n",
       "  'ENSG00000263650.1'},\n",
       " {'ENSG00000196604.7', 'ENSG00000223760.4'},\n",
       " {'ENSG00000184999.7', 'ENSG00000196600.8'},\n",
       " {'ENSG00000201300.1', 'ENSG00000224078.8'},\n",
       " {'ENSG00000088881.16', 'ENSG00000180344.3'},\n",
       " {'ENSG00000268981.1', 'ENSG00000270475.1'},\n",
       " {'ENSG00000051596.5', 'ENSG00000250820.1'},\n",
       " {'ENSG00000167633.12',\n",
       "  'ENSG00000189013.10',\n",
       "  'ENSG00000215765.3',\n",
       "  'ENSG00000243772.2'},\n",
       " {'ENSG00000144645.9', 'ENSG00000252398.1'},\n",
       " {'ENSG00000120071.8', 'ENSG00000238723.1'},\n",
       " {'ENSG00000188215.5', 'ENSG00000196678.9'},\n",
       " {'ENSG00000120327.4', 'ENSG00000120328.4', 'ENSG00000187372.9'},\n",
       " {'ENSG00000197476.2', 'ENSG00000260218.1'},\n",
       " {'ENSG00000125498.15',\n",
       "  'ENSG00000167633.12',\n",
       "  'ENSG00000189013.10',\n",
       "  'ENSG00000215765.3',\n",
       "  'ENSG00000242473.1',\n",
       "  'ENSG00000243772.2'},\n",
       " {'ENSG00000172264.12', 'ENSG00000235914.1'},\n",
       " {'ENSG00000131484.3', 'ENSG00000214425.2'},\n",
       " {'ENSG00000206341.6', 'ENSG00000230521.1'},\n",
       " {'ENSG00000156011.12', 'ENSG00000253335.1', 'ENSG00000270255.1'},\n",
       " {'ENSG00000186803.3', 'ENSG00000214042.1', 'ENSG00000223684.1'},\n",
       " {'ENSG00000239083.1', 'ENSG00000258654.1'},\n",
       " {'ENSG00000060709.9', 'ENSG00000256343.3', 'ENSG00000256725.1'},\n",
       " {'ENSG00000253117.4', 'ENSG00000258417.2'},\n",
       " {'ENSG00000117616.13', 'ENSG00000187010.14'},\n",
       " {'ENSG00000185774.10', 'ENSG00000250092.2'},\n",
       " {'ENSG00000236778.3', 'ENSG00000266611.1'},\n",
       " {'ENSG00000257355.1', 'ENSG00000257446.2'},\n",
       " {'ENSG00000078328.15', 'ENSG00000212189.1'},\n",
       " {'ENSG00000145808.4', 'ENSG00000251680.1'},\n",
       " {'ENSG00000121940.11', 'ENSG00000162641.14'},\n",
       " {'ENSG00000198125.8', 'ENSG00000268818.1'},\n",
       " {'ENSG00000157429.11',\n",
       "  'ENSG00000198650.6',\n",
       "  'ENSG00000252339.1',\n",
       "  'ENSG00000260886.1'},\n",
       " {'ENSG00000113073.10', 'ENSG00000249637.1'},\n",
       " {'ENSG00000138670.12', 'ENSG00000251331.2'},\n",
       " {'ENSG00000230876.2', 'ENSG00000236854.1'},\n",
       " {'ENSG00000112200.12', 'ENSG00000226803.3'},\n",
       " {'ENSG00000182841.8', 'ENSG00000183569.13', 'ENSG00000202058.1'},\n",
       " {'ENSG00000168852.8', 'ENSG00000239827.4'},\n",
       " {'ENSG00000145808.4', 'ENSG00000251680.1'},\n",
       " {'ENSG00000188199.6', 'ENSG00000226381.3'},\n",
       " {'ENSG00000199782.1',\n",
       "  'ENSG00000200486.1',\n",
       "  'ENSG00000201943.1',\n",
       "  'ENSG00000224078.8'},\n",
       " {'ENSG00000177951.13', 'ENSG00000188076.2'},\n",
       " {'ENSG00000213240.7', 'ENSG00000255168.1', 'ENSG00000272709.1'},\n",
       " {'ENSG00000259117.1', 'ENSG00000259129.1', 'ENSG00000263945.1'},\n",
       " {'ENSG00000122420.5', 'ENSG00000237413.1'},\n",
       " {'ENSG00000104679.6', 'ENSG00000134013.11'},\n",
       " {'ENSG00000188438.4',\n",
       "  'ENSG00000205946.1',\n",
       "  'ENSG00000219492.4',\n",
       "  'ENSG00000228856.3',\n",
       "  'ENSG00000232773.2',\n",
       "  'ENSG00000251694.1',\n",
       "  'ENSG00000252307.1'},\n",
       " {'ENSG00000202474.1', 'ENSG00000238113.2'},\n",
       " {'ENSG00000007129.13', 'ENSG00000268027.1'},\n",
       " {'ENSG00000212722.6', 'ENSG00000241241.1'},\n",
       " {'ENSG00000182841.8', 'ENSG00000183569.13'},\n",
       " {'ENSG00000134987.7', 'ENSG00000253613.2'},\n",
       " {'ENSG00000146707.10', 'ENSG00000205485.9', 'ENSG00000243566.2'},\n",
       " {'ENSG00000125498.15',\n",
       "  'ENSG00000167633.12',\n",
       "  'ENSG00000189013.10',\n",
       "  'ENSG00000215765.3',\n",
       "  'ENSG00000243772.2'},\n",
       " {'ENSG00000226423.1', 'ENSG00000232002.1', 'ENSG00000233806.3'},\n",
       " {'ENSG00000115762.12',\n",
       "  'ENSG00000152102.13',\n",
       "  'ENSG00000225448.1',\n",
       "  'ENSG00000230450.1',\n",
       "  'ENSG00000236956.1'},\n",
       " {'ENSG00000147799.7', 'ENSG00000255681.1', 'ENSG00000256822.1'},\n",
       " {'ENSG00000215067.5', 'ENSG00000262943.3'},\n",
       " {'ENSG00000196312.7', 'ENSG00000269907.1'},\n",
       " {'ENSG00000172915.14', 'ENSG00000234835.1'},\n",
       " {'ENSG00000185674.5', 'ENSG00000241962.5'},\n",
       " {'ENSG00000126214.16', 'ENSG00000256500.5'},\n",
       " {'ENSG00000231422.2', 'ENSG00000233642.1'},\n",
       " {'ENSG00000259261.2', 'ENSG00000270356.1'},\n",
       " {'ENSG00000120669.11', 'ENSG00000250709.1'},\n",
       " {'ENSG00000150165.13', 'ENSG00000223477.3'},\n",
       " {'ENSG00000227632.2', 'ENSG00000230756.1'},\n",
       " {'ENSG00000221809.1',\n",
       "  'ENSG00000242278.1',\n",
       "  'ENSG00000260411.2',\n",
       "  'ENSG00000260817.2'},\n",
       " {'ENSG00000078140.9', 'ENSG00000252975.1'},\n",
       " {'ENSG00000147364.12', 'ENSG00000182366.5'},\n",
       " {'ENSG00000113889.7', 'ENSG00000197099.4'},\n",
       " {'ENSG00000157326.14', 'ENSG00000215256.3'},\n",
       " {'ENSG00000196620.4', 'ENSG00000251074.1'},\n",
       " {'ENSG00000120952.4', 'ENSG00000179172.7'},\n",
       " {'ENSG00000217576.7', 'ENSG00000272281.2'},\n",
       " {'ENSG00000203825.4', 'ENSG00000264022.1'},\n",
       " {'ENSG00000270800.1', 'ENSG00000272325.1'},\n",
       " {'ENSG00000120669.11', 'ENSG00000250709.1'},\n",
       " {'ENSG00000105501.7', 'ENSG00000254415.3', 'ENSG00000268500.1'},\n",
       " {'ENSG00000147789.11',\n",
       "  'ENSG00000161016.11',\n",
       "  'ENSG00000170619.8',\n",
       "  'ENSG00000196150.9',\n",
       "  'ENSG00000196378.7',\n",
       "  'ENSG00000197363.5',\n",
       "  'ENSG00000244307.2',\n",
       "  'ENSG00000263640.1'},\n",
       " {'ENSG00000086288.7', 'ENSG00000086289.7'},\n",
       " {'ENSG00000105778.13',\n",
       "  'ENSG00000122643.14',\n",
       "  'ENSG00000229054.1',\n",
       "  'ENSG00000241420.2'},\n",
       " {'ENSG00000196277.11', 'ENSG00000270207.1'},\n",
       " {'ENSG00000227888.3', 'ENSG00000255556.2'},\n",
       " {'ENSG00000203747.5', 'ENSG00000273112.1'},\n",
       " {'ENSG00000102445.14', 'ENSG00000241353.2'},\n",
       " {'ENSG00000174093.6', 'ENSG00000197681.8'},\n",
       " {'ENSG00000180178.6', 'ENSG00000231240.1'},\n",
       " {'ENSG00000010165.15', 'ENSG00000252134.1'},\n",
       " {'ENSG00000185041.4',\n",
       "  'ENSG00000248205.1',\n",
       "  'ENSG00000249620.1',\n",
       "  'ENSG00000249662.1',\n",
       "  'ENSG00000250667.1',\n",
       "  'ENSG00000251304.2',\n",
       "  'ENSG00000268799.1'},\n",
       " {'ENSG00000167774.2', 'ENSG00000267855.1'},\n",
       " {'ENSG00000175106.12', 'ENSG00000259024.2'},\n",
       " {'ENSG00000183726.6',\n",
       "  'ENSG00000188672.12',\n",
       "  'ENSG00000238889.1',\n",
       "  'ENSG00000252515.1'},\n",
       " {'ENSG00000128891.11', 'ENSG00000259536.1'},\n",
       " {'ENSG00000100084.10', 'ENSG00000242259.4'},\n",
       " {'ENSG00000239763.2', 'ENSG00000259972.1'},\n",
       " {'ENSG00000249282.1', 'ENSG00000249357.2'},\n",
       " {'ENSG00000225880.4', 'ENSG00000228794.4'},\n",
       " {'ENSG00000203747.5', 'ENSG00000224515.1', 'ENSG00000273112.1'},\n",
       " {'ENSG00000176771.11', 'ENSG00000233729.1'},\n",
       " {'ENSG00000184903.5', 'ENSG00000227948.3'},\n",
       " {'ENSG00000160972.5', 'ENSG00000255182.1'},\n",
       " {'ENSG00000124467.14', 'ENSG00000225877.1'},\n",
       " {'ENSG00000257252.1', 'ENSG00000257512.1'},\n",
       " {'ENSG00000188158.10', 'ENSG00000235834.1'},\n",
       " {'ENSG00000136206.3', 'ENSG00000214783.5', 'ENSG00000273432.1'},\n",
       " {'ENSG00000106399.7', 'ENSG00000219545.5'},\n",
       " {'ENSG00000176219.2', 'ENSG00000266336.1'},\n",
       " {'ENSG00000204219.5', 'ENSG00000232482.2'},\n",
       " {'ENSG00000128655.12', 'ENSG00000229941.1'},\n",
       " {'ENSG00000225278.3', 'ENSG00000230850.3', 'ENSG00000232274.2'},\n",
       " {'ENSG00000124783.8', 'ENSG00000164304.11', 'ENSG00000219375.1'},\n",
       " {'ENSG00000133103.12', 'ENSG00000264171.1'},\n",
       " {'ENSG00000083635.7', 'ENSG00000133114.13', 'ENSG00000223732.2'},\n",
       " {'ENSG00000105971.10', 'ENSG00000216076.1', 'ENSG00000237813.3'},\n",
       " {'ENSG00000164077.9', 'ENSG00000228008.1'},\n",
       " {'ENSG00000146147.10', 'ENSG00000235050.2'},\n",
       " {'ENSG00000261460.1', 'ENSG00000273025.1'},\n",
       " {'ENSG00000125498.15',\n",
       "  'ENSG00000167633.12',\n",
       "  'ENSG00000189013.10',\n",
       "  'ENSG00000215765.3',\n",
       "  'ENSG00000243772.2'},\n",
       " {'ENSG00000223659.1',\n",
       "  'ENSG00000225630.1',\n",
       "  'ENSG00000225972.1',\n",
       "  'ENSG00000230021.3',\n",
       "  'ENSG00000237973.1'},\n",
       " {'ENSG00000160766.10', 'ENSG00000173171.10', 'ENSG00000236263.1'},\n",
       " {'ENSG00000183900.4', 'ENSG00000247993.2', 'ENSG00000251493.2'},\n",
       " {'ENSG00000172264.12', 'ENSG00000227563.1', 'ENSG00000227927.2'},\n",
       " {'ENSG00000230850.3', 'ENSG00000232274.2'},\n",
       " {'ENSG00000258394.1', 'ENSG00000258850.1'},\n",
       " {'ENSG00000163840.5', 'ENSG00000173200.8'},\n",
       " {'ENSG00000269182.1', 'ENSG00000270505.1'},\n",
       " {'ENSG00000246082.2', 'ENSG00000250608.1'},\n",
       " {'ENSG00000102543.10', 'ENSG00000102547.14'},\n",
       " {'ENSG00000159860.5', 'ENSG00000170379.15', 'ENSG00000253882.2'},\n",
       " {'ENSG00000167165.14',\n",
       "  'ENSG00000227802.1',\n",
       "  'ENSG00000228445.1',\n",
       "  'ENSG00000240224.1',\n",
       "  'ENSG00000241119.1',\n",
       "  'ENSG00000241635.3',\n",
       "  'ENSG00000242515.1',\n",
       "  'ENSG00000243135.1',\n",
       "  'ENSG00000244122.2',\n",
       "  'ENSG00000244474.1',\n",
       "  'ENSG00000248114.1',\n",
       "  'ENSG00000248705.1'},\n",
       " {'ENSG00000102763.11', 'ENSG00000229696.1'},\n",
       " {'ENSG00000133114.13', 'ENSG00000223732.2'},\n",
       " {'ENSG00000128918.10', 'ENSG00000166035.6', 'ENSG00000259293.1'},\n",
       " {'ENSG00000079385.17', 'ENSG00000213904.4'},\n",
       " {'ENSG00000185044.10', 'ENSG00000238261.5'},\n",
       " {'ENSG00000076984.13', 'ENSG00000260001.2', 'ENSG00000268149.1'},\n",
       " {'ENSG00000123965.12', 'ENSG00000184616.7'},\n",
       " {'ENSG00000105085.6', 'ENSG00000141979.4', 'ENSG00000268790.1'},\n",
       " {'ENSG00000241484.5', 'ENSG00000248405.5'},\n",
       " {'ENSG00000250131.1', 'ENSG00000251416.1'},\n",
       " {'ENSG00000081842.13',\n",
       "  'ENSG00000204961.5',\n",
       "  'ENSG00000204962.4',\n",
       "  'ENSG00000204963.4',\n",
       "  'ENSG00000204965.4',\n",
       "  'ENSG00000204967.6',\n",
       "  'ENSG00000204969.5',\n",
       "  'ENSG00000204970.5',\n",
       "  'ENSG00000255408.2'},\n",
       " {'ENSG00000233183.2', 'ENSG00000249346.2'},\n",
       " {'ENSG00000100197.16', 'ENSG00000237037.5'},\n",
       " {'ENSG00000136206.3',\n",
       "  'ENSG00000214783.5',\n",
       "  'ENSG00000228434.1',\n",
       "  'ENSG00000273432.1'},\n",
       " {'ENSG00000186094.12', 'ENSG00000215887.5'},\n",
       " {'ENSG00000172915.14', 'ENSG00000232795.1'},\n",
       " {'ENSG00000062038.9', 'ENSG00000260577.1'},\n",
       " {'ENSG00000175029.12', 'ENSG00000264572.1'},\n",
       " {'ENSG00000104972.10', 'ENSG00000239998.1'},\n",
       " {'ENSG00000198690.5', 'ENSG00000260382.1', 'ENSG00000261628.1'},\n",
       " {'ENSG00000171189.12', 'ENSG00000174680.5'},\n",
       " {'ENSG00000145016.9', 'ENSG00000216042.1', 'ENSG00000236833.1'},\n",
       " {'ENSG00000217576.7', 'ENSG00000243406.2'},\n",
       " {'ENSG00000065060.12', 'ENSG00000206717.1'},\n",
       " {'ENSG00000072201.9', 'ENSG00000145216.11', 'ENSG00000249341.1'},\n",
       " {'ENSG00000169918.5', 'ENSG00000259696.2'},\n",
       " {'ENSG00000258676.3', 'ENSG00000260337.2'},\n",
       " {'ENSG00000263733.1', 'ENSG00000265484.1'},\n",
       " {'ENSG00000217576.7', 'ENSG00000272281.2'},\n",
       " {'ENSG00000121390.13', 'ENSG00000226352.2'},\n",
       " {'ENSG00000180071.14', 'ENSG00000272904.1', 'ENSG00000273170.1'},\n",
       " {'ENSG00000135250.12', 'ENSG00000201179.1'},\n",
       " {'ENSG00000231236.2', 'ENSG00000236332.1'},\n",
       " {'ENSG00000260307.2', 'ENSG00000260866.1'},\n",
       " {'ENSG00000083807.5', 'ENSG00000252334.1'},\n",
       " {'ENSG00000113971.14', 'ENSG00000240303.3'},\n",
       " {'ENSG00000249894.1', 'ENSG00000250421.1'},\n",
       " {'ENSG00000151320.6', 'ENSG00000258580.1'},\n",
       " {'ENSG00000171444.13', 'ENSG00000232633.3'},\n",
       " {'ENSG00000116117.13', 'ENSG00000223890.1'},\n",
       " {'ENSG00000060709.9', 'ENSG00000256725.1'},\n",
       " {'ENSG00000225703.1', 'ENSG00000243566.2'},\n",
       " {'ENSG00000214331.4', 'ENSG00000261079.1'},\n",
       " {'ENSG00000223225.1', 'ENSG00000260404.2'},\n",
       " {'ENSG00000227582.2', 'ENSG00000234665.4', 'ENSG00000238245.2'},\n",
       " {'ENSG00000114279.9', 'ENSG00000231383.2'},\n",
       " {'ENSG00000229057.1', 'ENSG00000231381.2', 'ENSG00000236924.1'},\n",
       " {'ENSG00000175279.17', 'ENSG00000251503.3'},\n",
       " {'ENSG00000258652.2', 'ENSG00000259176.1'},\n",
       " {'ENSG00000171045.10', 'ENSG00000254008.1'},\n",
       " {'ENSG00000223559.1', 'ENSG00000224155.2'},\n",
       " {'ENSG00000241549.4', 'ENSG00000243307.2'},\n",
       " {'ENSG00000260916.1', 'ENSG00000261771.1'},\n",
       " {'ENSG00000239828.2', 'ENSG00000243701.1'},\n",
       " {'ENSG00000140839.7', 'ENSG00000261170.1'},\n",
       " {'ENSG00000187667.6', 'ENSG00000230856.1', 'ENSG00000259174.1'},\n",
       " {'ENSG00000188818.8', 'ENSG00000206077.6'},\n",
       " {'ENSG00000204644.5', 'ENSG00000204655.7'},\n",
       " {'ENSG00000108242.8', 'ENSG00000165841.5'},\n",
       " {'ENSG00000008128.18', 'ENSG00000268575.1'},\n",
       " {'ENSG00000196071.3', 'ENSG00000224227.2'},\n",
       " {'ENSG00000204977.5', 'ENSG00000264864.1'},\n",
       " {'ENSG00000226349.1', 'ENSG00000227496.1'},\n",
       " {'ENSG00000257639.1', 'ENSG00000271609.1'},\n",
       " {'ENSG00000117091.5', 'ENSG00000227239.2'},\n",
       " {'ENSG00000223700.1', 'ENSG00000236198.1'},\n",
       " {'ENSG00000224254.2',\n",
       "  'ENSG00000227225.1',\n",
       "  'ENSG00000228725.3',\n",
       "  'ENSG00000228983.4',\n",
       "  'ENSG00000231625.4',\n",
       "  'ENSG00000242752.3',\n",
       "  'ENSG00000262769.1',\n",
       "  'ENSG00000266179.2',\n",
       "  'ENSG00000271900.1'},\n",
       " {'ENSG00000254866.2', 'ENSG00000255052.3'},\n",
       " {'ENSG00000168067.7', 'ENSG00000269290.1'},\n",
       " {'ENSG00000235015.1', 'ENSG00000242565.2'},\n",
       " {'ENSG00000257259.1', 'ENSG00000258231.1'},\n",
       " {'ENSG00000254923.1', 'ENSG00000255052.3'},\n",
       " {'ENSG00000173614.9', 'ENSG00000265521.1'},\n",
       " {'ENSG00000113212.4', 'ENSG00000120322.2'},\n",
       " {'ENSG00000103832.10',\n",
       "  'ENSG00000221379.1',\n",
       "  'ENSG00000241266.2',\n",
       "  'ENSG00000259845.1'},\n",
       " {'ENSG00000214754.3', 'ENSG00000229192.2'},\n",
       " {'ENSG00000136315.3', 'ENSG00000258772.1', 'ENSG00000258918.1'},\n",
       " {'ENSG00000188818.8', 'ENSG00000206077.6'},\n",
       " {'ENSG00000183668.13', 'ENSG00000241104.1'},\n",
       " {'ENSG00000174628.12', 'ENSG00000261195.1'},\n",
       " {'ENSG00000171943.7', 'ENSG00000230806.1'},\n",
       " {'ENSG00000180198.11', 'ENSG00000200087.1', 'ENSG00000242125.2'},\n",
       " {'ENSG00000198384.7', 'ENSG00000244471.1'},\n",
       " {'ENSG00000100197.16', 'ENSG00000237037.5'},\n",
       " {'ENSG00000188511.8',\n",
       "  'ENSG00000212939.2',\n",
       "  'ENSG00000213279.2',\n",
       "  'ENSG00000235111.1',\n",
       "  'ENSG00000264139.1'},\n",
       " {'ENSG00000225557.1', 'ENSG00000229088.1', 'ENSG00000237129.1'},\n",
       " {'ENSG00000160336.10', 'ENSG00000198346.6', 'ENSG00000241015.2'},\n",
       " {'ENSG00000238323.1', 'ENSG00000255253.1'},\n",
       " {'ENSG00000268747.1', 'ENSG00000269839.1'},\n",
       " {'ENSG00000158169.7', 'ENSG00000238746.1'},\n",
       " {'ENSG00000213240.7', 'ENSG00000255168.1'},\n",
       " {'ENSG00000102445.14', 'ENSG00000241353.2'},\n",
       " {'ENSG00000199311.1',\n",
       "  'ENSG00000200593.1',\n",
       "  'ENSG00000200949.1',\n",
       "  'ENSG00000202188.1',\n",
       "  'ENSG00000224078.8'},\n",
       " {'ENSG00000215193.8', 'ENSG00000225225.1'},\n",
       " {'ENSG00000132938.14', 'ENSG00000236758.1'},\n",
       " {'ENSG00000048545.9', 'ENSG00000214732.1'},\n",
       " {'ENSG00000179399.9', 'ENSG00000236240.1'},\n",
       " {'ENSG00000182077.6', 'ENSG00000237956.1'},\n",
       " {'ENSG00000201931.1', 'ENSG00000250131.1'},\n",
       " {'ENSG00000120162.9', 'ENSG00000147896.3'},\n",
       " {'ENSG00000153707.11', 'ENSG00000234021.1'},\n",
       " {'ENSG00000151067.16', 'ENSG00000246627.2'},\n",
       " {'ENSG00000223877.3', 'ENSG00000270505.1'},\n",
       " {'ENSG00000151360.5', 'ENSG00000232718.1'},\n",
       " {'ENSG00000117395.6', 'ENSG00000186973.6', 'ENSG00000243710.3'},\n",
       " {'ENSG00000235665.1', 'ENSG00000236790.1'},\n",
       " {'ENSG00000163166.9', 'ENSG00000231731.3'},\n",
       " {'ENSG00000156968.8', 'ENSG00000261130.1'},\n",
       " {'ENSG00000101307.11', 'ENSG00000260861.2'},\n",
       " {'ENSG00000100890.11', 'ENSG00000241052.1', 'ENSG00000258790.1'},\n",
       " {'ENSG00000225535.2', 'ENSG00000233607.1'},\n",
       " {'ENSG00000126752.7', 'ENSG00000229662.2'},\n",
       " {'ENSG00000226824.2', 'ENSG00000243335.4'},\n",
       " {'ENSG00000105668.3', 'ENSG00000226510.1', 'ENSG00000266455.1'},\n",
       " {'ENSG00000254447.1', 'ENSG00000254883.1', 'ENSG00000255147.1'},\n",
       " {'ENSG00000223877.3', 'ENSG00000260739.1'},\n",
       " {'ENSG00000187630.10', 'ENSG00000215256.3'},\n",
       " {'ENSG00000258721.2', 'ENSG00000259176.1', 'ENSG00000259324.1'},\n",
       " {'ENSG00000204449.2', 'ENSG00000255011.1'},\n",
       " {'ENSG00000090382.2', 'ENSG00000127337.2', 'ENSG00000257764.2'},\n",
       " {'ENSG00000085563.10', 'ENSG00000105784.11'},\n",
       " {'ENSG00000235310.1', 'ENSG00000235832.2'},\n",
       " {'ENSG00000180909.1', 'ENSG00000254444.1'},\n",
       " {'ENSG00000249156.1', 'ENSG00000271296.1'},\n",
       " {'ENSG00000135205.10', 'ENSG00000259628.1'},\n",
       " {'ENSG00000166762.12', 'ENSG00000206991.1', 'ENSG00000242866.5'},\n",
       " {'ENSG00000021645.13', 'ENSG00000258637.1'},\n",
       " {'ENSG00000263603.1', 'ENSG00000264538.2', 'ENSG00000265443.1'},\n",
       " {'ENSG00000259929.1', 'ENSG00000260242.1'},\n",
       " {'ENSG00000110375.2', 'ENSG00000186174.8'},\n",
       " {'ENSG00000187258.9', 'ENSG00000197085.7'},\n",
       " {'ENSG00000106133.13', 'ENSG00000196313.7'},\n",
       " {'ENSG00000232742.2', 'ENSG00000273073.1'},\n",
       " {'ENSG00000205809.5', 'ENSG00000255641.1'},\n",
       " {'ENSG00000120693.9', 'ENSG00000228825.1'},\n",
       " {'ENSG00000142619.4', 'ENSG00000266634.1'},\n",
       " {'ENSG00000164654.11', 'ENSG00000272732.1', 'ENSG00000272894.1'},\n",
       " {'ENSG00000248703.2', 'ENSG00000267819.1'},\n",
       " {'ENSG00000111850.6', 'ENSG00000226524.2'},\n",
       " {'ENSG00000101745.11', 'ENSG00000265257.1'},\n",
       " {'ENSG00000134013.11', 'ENSG00000197217.8'},\n",
       " {'ENSG00000120669.11', 'ENSG00000250709.1'},\n",
       " {'ENSG00000101605.8', 'ENSG00000265399.1'},\n",
       " {'ENSG00000215044.2', 'ENSG00000243536.3'},\n",
       " {'ENSG00000033011.7', 'ENSG00000153446.11'},\n",
       " {'ENSG00000199970.1', 'ENSG00000200680.1', 'ENSG00000224078.8'},\n",
       " {'ENSG00000188818.8', 'ENSG00000206077.6'},\n",
       " {'ENSG00000228836.4', 'ENSG00000242284.3'},\n",
       " {'ENSG00000173262.7', 'ENSG00000255885.1'},\n",
       " {'ENSG00000100504.12', 'ENSG00000131969.10'},\n",
       " {'ENSG00000241484.5', 'ENSG00000248405.5'},\n",
       " {'ENSG00000106399.7', 'ENSG00000219545.5'},\n",
       " {'ENSG00000226430.3', 'ENSG00000255052.3'},\n",
       " {'ENSG00000166762.12', 'ENSG00000242866.5'},\n",
       " {'ENSG00000166435.11', 'ENSG00000241170.2'},\n",
       " {'ENSG00000188818.8', 'ENSG00000247872.2'},\n",
       " {'ENSG00000167633.12',\n",
       "  'ENSG00000189013.10',\n",
       "  'ENSG00000215765.3',\n",
       "  'ENSG00000242019.1'},\n",
       " {'ENSG00000231918.1', 'ENSG00000237374.1'},\n",
       " {'ENSG00000151229.8', 'ENSG00000180116.11'},\n",
       " {'ENSG00000227728.2', 'ENSG00000242042.1'},\n",
       " {'ENSG00000170113.11', 'ENSG00000259344.1', 'ENSG00000259425.1'},\n",
       " {'ENSG00000072694.14',\n",
       "  'ENSG00000203747.5',\n",
       "  'ENSG00000244682.3',\n",
       "  'ENSG00000273112.1'},\n",
       " {'ENSG00000120324.4', 'ENSG00000197479.4'},\n",
       " {'ENSG00000231205.7',\n",
       "  'ENSG00000268174.1',\n",
       "  'ENSG00000268335.1',\n",
       "  'ENSG00000269043.1'},\n",
       " {'ENSG00000170255.6', 'ENSG00000255244.1'},\n",
       " {'ENSG00000139679.11', 'ENSG00000139687.9'},\n",
       " {'ENSG00000249188.1', 'ENSG00000253893.2'},\n",
       " {'ENSG00000058453.12', 'ENSG00000228549.2'},\n",
       " {'ENSG00000254951.3', 'ENSG00000271758.1'},\n",
       " {'ENSG00000226380.3', 'ENSG00000233559.1'},\n",
       " {'ENSG00000075884.8', 'ENSG00000257284.1'},\n",
       " {'ENSG00000233677.1', 'ENSG00000235963.1'},\n",
       " {'ENSG00000233891.3', 'ENSG00000271955.1'},\n",
       " {'ENSG00000214407.3', 'ENSG00000241280.1'},\n",
       " {'ENSG00000176945.12', 'ENSG00000242086.4'},\n",
       " {'ENSG00000104447.7', 'ENSG00000227170.1'},\n",
       " {'ENSG00000188818.8', 'ENSG00000206077.6'},\n",
       " {'ENSG00000165548.6', 'ENSG00000259164.1'},\n",
       " {'ENSG00000249666.1', 'ENSG00000250782.1'},\n",
       " {'ENSG00000215769.4', 'ENSG00000266820.1'},\n",
       " {'ENSG00000214814.2', 'ENSG00000253868.2'},\n",
       " {'ENSG00000151376.12', 'ENSG00000254733.1'},\n",
       " {'ENSG00000171840.7', 'ENSG00000177406.4'},\n",
       " {'ENSG00000241631.2', 'ENSG00000264538.2'},\n",
       " {'ENSG00000060709.9', 'ENSG00000256343.3', 'ENSG00000256725.1'},\n",
       " {'ENSG00000140022.5', 'ENSG00000258605.1'},\n",
       " {'ENSG00000203849.6', 'ENSG00000230880.2'},\n",
       " {'ENSG00000169894.13', 'ENSG00000225946.1'},\n",
       " {'ENSG00000226702.1', 'ENSG00000272180.1'},\n",
       " {'ENSG00000163386.16', 'ENSG00000213240.7', 'ENSG00000255168.1'},\n",
       " {'ENSG00000183718.4', 'ENSG00000233937.2'},\n",
       " {'ENSG00000081842.13',\n",
       "  'ENSG00000204962.4',\n",
       "  'ENSG00000204963.4',\n",
       "  'ENSG00000204965.4',\n",
       "  'ENSG00000204967.6',\n",
       "  'ENSG00000204969.5',\n",
       "  'ENSG00000204970.5',\n",
       "  'ENSG00000255408.2'},\n",
       " {'ENSG00000196696.8',\n",
       "  'ENSG00000226232.4',\n",
       "  'ENSG00000239118.1',\n",
       "  'ENSG00000255185.1'},\n",
       " {'ENSG00000125459.10', 'ENSG00000132676.11', 'ENSG00000203761.4'},\n",
       " {'ENSG00000226145.3', 'ENSG00000264892.1', 'ENSG00000272815.1'},\n",
       " {'ENSG00000033030.9', 'ENSG00000111011.13'},\n",
       " {'ENSG00000178104.15',\n",
       "  'ENSG00000254913.1',\n",
       "  'ENSG00000255148.2',\n",
       "  'ENSG00000266739.1'},\n",
       " {'ENSG00000131042.9', 'ENSG00000264703.1'},\n",
       " {'ENSG00000164100.7', 'ENSG00000251463.2'},\n",
       " {'ENSG00000220804.4',\n",
       "  'ENSG00000232002.1',\n",
       "  'ENSG00000233806.3',\n",
       "  'ENSG00000261186.1'},\n",
       " {'ENSG00000115762.12', 'ENSG00000231431.3', 'ENSG00000236516.1'},\n",
       " {'ENSG00000119333.7', 'ENSG00000227759.2'},\n",
       " {'ENSG00000159455.7', 'ENSG00000187180.3'},\n",
       " {'ENSG00000228702.1', 'ENSG00000237840.2'},\n",
       " {'ENSG00000049239.8', 'ENSG00000252841.1'},\n",
       " {'ENSG00000139675.10', 'ENSG00000250299.1'},\n",
       " {'ENSG00000259448.2', 'ENSG00000259772.2'},\n",
       " {'ENSG00000207866.1', 'ENSG00000207868.1'},\n",
       " {'ENSG00000215837.7', 'ENSG00000242086.4'},\n",
       " {'ENSG00000197608.7', 'ENSG00000256087.2'},\n",
       " {'ENSG00000258654.1', 'ENSG00000265002.1'},\n",
       " {'ENSG00000188624.2', 'ENSG00000267922.1'},\n",
       " {'ENSG00000215432.2', 'ENSG00000219926.6', 'ENSG00000272299.1'},\n",
       " {'ENSG00000249188.1', 'ENSG00000253893.2'},\n",
       " {'ENSG00000178171.6', 'ENSG00000229797.1', 'ENSG00000232503.1'},\n",
       " {'ENSG00000222398.1', 'ENSG00000237289.5', 'ENSG00000242866.5'},\n",
       " {'ENSG00000161217.7', 'ENSG00000163959.5'},\n",
       " {'ENSG00000102468.6', 'ENSG00000224517.2'},\n",
       " {'ENSG00000080910.7', 'ENSG00000134365.8'},\n",
       " {'ENSG00000130226.12', 'ENSG00000226509.1'},\n",
       " {'ENSG00000163386.16', 'ENSG00000255168.1'},\n",
       " {'ENSG00000214719.7',\n",
       "  'ENSG00000248121.4',\n",
       "  'ENSG00000250462.4',\n",
       "  'ENSG00000264943.1'},\n",
       " {'ENSG00000264424.1', 'ENSG00000272736.1', 'ENSG00000272975.1'},\n",
       " {'ENSG00000203710.6', 'ENSG00000236911.2'},\n",
       " {'ENSG00000198673.6', 'ENSG00000252883.1'},\n",
       " {'ENSG00000227082.1', 'ENSG00000231429.2'},\n",
       " {'ENSG00000111700.8', 'ENSG00000205754.6', 'ENSG00000257046.1'},\n",
       " {'ENSG00000082996.15', 'ENSG00000206199.5'},\n",
       " {'ENSG00000115875.14', 'ENSG00000143891.12'},\n",
       " {'ENSG00000105971.10', 'ENSG00000237813.3', 'ENSG00000243243.1'},\n",
       " {'ENSG00000224732.1', 'ENSG00000229829.1'},\n",
       " {'ENSG00000145431.6', 'ENSG00000248629.1'},\n",
       " {'ENSG00000167346.3', 'ENSG00000205496.1', 'ENSG00000205497.2'},\n",
       " {'ENSG00000147642.12', 'ENSG00000252559.1'},\n",
       " {'ENSG00000170889.9',\n",
       "  'ENSG00000204577.7',\n",
       "  'ENSG00000235081.1',\n",
       "  'ENSG00000244482.5',\n",
       "  'ENSG00000269524.1'},\n",
       " {'ENSG00000189043.5', 'ENSG00000271185.1'},\n",
       " {'ENSG00000131848.5', 'ENSG00000267908.1'},\n",
       " {'ENSG00000109536.7', 'ENSG00000249462.1'},\n",
       " {'ENSG00000188818.8', 'ENSG00000247872.2'},\n",
       " {'ENSG00000139679.11', 'ENSG00000139687.9'},\n",
       " {'ENSG00000060709.9', 'ENSG00000256725.1'},\n",
       " {'ENSG00000112877.6', 'ENSG00000171368.10', 'ENSG00000268885.1'},\n",
       " {'ENSG00000165959.7', 'ENSG00000258615.1'},\n",
       " {'ENSG00000225151.6', 'ENSG00000259726.1'},\n",
       " {'ENSG00000229423.2', 'ENSG00000234145.1'},\n",
       " {'ENSG00000196565.8', 'ENSG00000258588.2', 'ENSG00000258659.2'},\n",
       " {'ENSG00000203849.6', 'ENSG00000230880.2'},\n",
       " {'ENSG00000140830.4', 'ENSG00000257017.4', 'ENSG00000261701.2'},\n",
       " {'ENSG00000123965.12', 'ENSG00000184616.7'},\n",
       " {'ENSG00000158427.10',\n",
       "  'ENSG00000227067.2',\n",
       "  'ENSG00000230312.2',\n",
       "  'ENSG00000260831.1'},\n",
       " {'ENSG00000185420.14', 'ENSG00000225222.2'},\n",
       " {'ENSG00000204814.5', 'ENSG00000231454.1'},\n",
       " {'ENSG00000198384.7', 'ENSG00000244471.1'},\n",
       " {'ENSG00000234585.2', 'ENSG00000239985.2'},\n",
       " {'ENSG00000217576.7', 'ENSG00000272281.2'},\n",
       " {'ENSG00000238009.2', 'ENSG00000239945.1'},\n",
       " {'ENSG00000203747.5', 'ENSG00000273112.1'},\n",
       " {'ENSG00000138670.12', 'ENSG00000251331.2'},\n",
       " {'ENSG00000117395.6', 'ENSG00000199240.1', 'ENSG00000243710.3'},\n",
       " {'ENSG00000058453.12', 'ENSG00000186715.6'},\n",
       " {'ENSG00000130643.4', 'ENSG00000198546.10', 'ENSG00000270235.1'},\n",
       " {'ENSG00000250753.2', 'ENSG00000265591.1'},\n",
       " {'ENSG00000173950.11', 'ENSG00000233303.1'},\n",
       " {'ENSG00000230850.3', 'ENSG00000232274.2', 'ENSG00000237291.2'},\n",
       " {'ENSG00000101752.7', 'ENSG00000264149.1'},\n",
       " {'ENSG00000136488.10', 'ENSG00000259333.1'},\n",
       " {'ENSG00000133114.13', 'ENSG00000223732.2'},\n",
       " {'ENSG00000228315.7', 'ENSG00000272578.1', 'ENSG00000273000.1'},\n",
       " {'ENSG00000226381.3', 'ENSG00000244733.4'},\n",
       " {'ENSG00000160207.4', 'ENSG00000214326.2'},\n",
       " {'ENSG00000100280.12', 'ENSG00000242156.1'},\n",
       " {'ENSG00000189182.5', 'ENSG00000257700.1'},\n",
       " {'ENSG00000223779.4', 'ENSG00000232721.1'},\n",
       " {'ENSG00000051596.5', 'ENSG00000250820.1'},\n",
       " {'ENSG00000112852.4', 'ENSG00000113205.2', 'ENSG00000272154.1'},\n",
       " {'ENSG00000167562.7', 'ENSG00000268886.1'},\n",
       " {'ENSG00000176009.2', 'ENSG00000223080.1'},\n",
       " {'ENSG00000261834.2', 'ENSG00000270864.1'},\n",
       " {'ENSG00000263745.1', 'ENSG00000264189.1'},\n",
       " {'ENSG00000253710.1', 'ENSG00000253797.2'},\n",
       " {'ENSG00000100139.9', 'ENSG00000128346.6'},\n",
       " {'ENSG00000188342.7', 'ENSG00000271818.1'},\n",
       " {'ENSG00000233891.3', 'ENSG00000271955.1'},\n",
       " {'ENSG00000120664.6', 'ENSG00000133101.5', 'ENSG00000133104.8'},\n",
       " {'ENSG00000250884.1', 'ENSG00000251624.1'},\n",
       " {'ENSG00000207277.1', 'ENSG00000225411.2'},\n",
       " {'ENSG00000051596.5', 'ENSG00000250820.1'},\n",
       " {'ENSG00000078328.15', 'ENSG00000200869.1'},\n",
       " {'ENSG00000226025.5', 'ENSG00000269460.1'},\n",
       " {'ENSG00000075914.8', 'ENSG00000163815.5'},\n",
       " {'ENSG00000156515.17', 'ENSG00000229197.1'},\n",
       " {'ENSG00000160963.9', 'ENSG00000233683.1'},\n",
       " {'ENSG00000140830.4', 'ENSG00000261701.2'},\n",
       " {'ENSG00000147118.6', 'ENSG00000197779.9'},\n",
       " {'ENSG00000206052.6', 'ENSG00000265643.1'},\n",
       " {'ENSG00000080618.9', 'ENSG00000235903.3'},\n",
       " {'ENSG00000185973.6', 'ENSG00000224533.3'},\n",
       " {'ENSG00000134864.6', 'ENSG00000224356.3'},\n",
       " {'ENSG00000111801.11', 'ENSG00000124549.10'},\n",
       " {'ENSG00000150244.8', 'ENSG00000255543.1'},\n",
       " {'ENSG00000101882.5',\n",
       "  'ENSG00000186471.8',\n",
       "  'ENSG00000227285.1',\n",
       "  'ENSG00000264392.1'},\n",
       " {'ENSG00000100994.7', 'ENSG00000100997.14'},\n",
       " {'ENSG00000262352.1', 'ENSG00000263305.1'},\n",
       " {'ENSG00000264104.1', 'ENSG00000265533.1'},\n",
       " {'ENSG00000197020.6',\n",
       "  'ENSG00000198521.7',\n",
       "  'ENSG00000268184.1',\n",
       "  'ENSG00000269136.1'},\n",
       " {'ENSG00000223443.2', 'ENSG00000255052.3'},\n",
       " {'ENSG00000122085.12', 'ENSG00000162804.9'},\n",
       " {'ENSG00000144645.9', 'ENSG00000251590.1'},\n",
       " {'ENSG00000224078.8', 'ENSG00000261069.2'},\n",
       " {'ENSG00000005249.8', 'ENSG00000243193.2'},\n",
       " {'ENSG00000101695.4', 'ENSG00000263917.1'},\n",
       " {'ENSG00000080845.13', 'ENSG00000232907.3'},\n",
       " {'ENSG00000197888.2', 'ENSG00000250566.1'},\n",
       " {'ENSG00000107014.7', 'ENSG00000107018.6', 'ENSG00000214195.4'},\n",
       " {'ENSG00000260905.1', 'ENSG00000260973.1'},\n",
       " {'ENSG00000160783.15', 'ENSG00000260238.1'},\n",
       " {'ENSG00000064666.10', 'ENSG00000267020.1'},\n",
       " {'ENSG00000132256.14',\n",
       "  'ENSG00000181001.1',\n",
       "  'ENSG00000181009.4',\n",
       "  'ENSG00000181017.3'},\n",
       " {'ENSG00000183666.12', 'ENSG00000272130.1'},\n",
       " {'ENSG00000072694.14',\n",
       "  'ENSG00000203747.5',\n",
       "  'ENSG00000244682.3',\n",
       "  'ENSG00000273112.1'},\n",
       " {'ENSG00000234787.3', 'ENSG00000271652.1'},\n",
       " {'ENSG00000138780.10', 'ENSG00000138785.10', 'ENSG00000251175.1'},\n",
       " {'ENSG00000196409.7', 'ENSG00000236931.2'},\n",
       " {'ENSG00000102804.10', 'ENSG00000225727.2'},\n",
       " {'ENSG00000068793.13', 'ENSG00000153575.6'},\n",
       " {'ENSG00000183303.2', 'ENSG00000254951.3', 'ENSG00000271758.1'},\n",
       " {'ENSG00000225630.1', 'ENSG00000230021.3', 'ENSG00000237973.1'},\n",
       " {'ENSG00000248828.1', 'ENSG00000251600.1'},\n",
       " {'ENSG00000090857.9', 'ENSG00000247228.2'},\n",
       " {'ENSG00000139679.11', 'ENSG00000139687.9'},\n",
       " {'ENSG00000229057.1', 'ENSG00000231381.2', 'ENSG00000236924.1'},\n",
       " {'ENSG00000226320.1', 'ENSG00000236452.1'},\n",
       " {'ENSG00000167283.3', 'ENSG00000263889.1'},\n",
       " {'ENSG00000187720.10', 'ENSG00000259964.2'},\n",
       " {'ENSG00000016602.8', 'ENSG00000236915.1'},\n",
       " {'ENSG00000259929.1', 'ENSG00000260242.1'},\n",
       " {'ENSG00000022556.11', 'ENSG00000167634.8'},\n",
       " {'ENSG00000142327.7', 'ENSG00000144504.11'},\n",
       " {'ENSG00000260780.1', 'ENSG00000260959.1', 'ENSG00000261621.1'},\n",
       " {'ENSG00000180953.7', 'ENSG00000259332.2'},\n",
       " {'ENSG00000051596.5', 'ENSG00000272494.1'},\n",
       " ...]"
      ]
     },
     "execution_count": 48,
     "metadata": {},
     "output_type": "execute_result"
    }
   ],
   "source": []
  },
  {
   "cell_type": "code",
   "execution_count": null,
   "metadata": {
    "collapsed": true
   },
   "outputs": [],
   "source": []
  }
 ],
 "metadata": {
  "kernelspec": {
   "display_name": "Environment (cie)",
   "language": "",
   "name": "cie"
  },
  "language_info": {
   "codemirror_mode": {
    "name": "ipython",
    "version": 2
   },
   "file_extension": ".py",
   "mimetype": "text/x-python",
   "name": "python",
   "nbconvert_exporter": "python",
   "pygments_lexer": "ipython2",
   "version": "2.7.11"
  }
 },
 "nbformat": 4,
 "nbformat_minor": 0
}
