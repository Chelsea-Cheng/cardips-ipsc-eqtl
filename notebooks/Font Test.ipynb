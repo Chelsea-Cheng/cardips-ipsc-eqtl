{
 "cells": [
  {
   "cell_type": "code",
   "execution_count": 21,
   "metadata": {
    "collapsed": false
   },
   "outputs": [
    {
     "data": {
      "text/plain": [
       "<matplotlib.collections.PathCollection at 0x7f601ec64f10>"
      ]
     },
     "execution_count": 21,
     "metadata": {},
     "output_type": "execute_result"
    },
    {
     "data": {
      "image/png": "[encoded data removed]",
      "text/plain": [
       "<matplotlib.figure.Figure at 0x7f6001353b10>"
      ]
     },
     "metadata": {},
     "output_type": "display_data"
    }
   ],
   "source": [
    "import matplotlib.pyplot as plt\n",
    "%matplotlib inline\n",
    "plt.rcParams['font.sans-serif'] = ['Arial']\n",
    "plt.scatter([1,2,4], [4,5,7])"
   ]
  },
  {
   "cell_type": "code",
   "execution_count": null,
   "metadata": {
    "collapsed": true
   },
   "outputs": [],
   "source": [
    "plt.savefig"
   ]
  },
  {
   "cell_type": "code",
   "execution_count": 2,
   "metadata": {
    "collapsed": false
   },
   "outputs": [],
   "source": [
    "plt.rcParams['font.sans-serif'] = ['Arial']\n",
    "plt.scatter([1,2,4], [4,5,7])"
   ]
  },
  {
   "cell_type": "code",
   "execution_count": 3,
   "metadata": {
    "collapsed": false
   },
   "outputs": [
    {
     "data": {
      "text/plain": [
       "[u'Arial']"
      ]
     },
     "execution_count": 3,
     "metadata": {},
     "output_type": "execute_result"
    }
   ],
   "source": [
    "plt.rcParams['font.sans-serif']"
   ]
  },
  {
   "cell_type": "code",
   "execution_count": 5,
   "metadata": {
    "collapsed": false
   },
   "outputs": [
    {
     "data": {
      "text/plain": [
       "<matplotlib.collections.PathCollection at 0x7f50d621bfd0>"
      ]
     },
     "execution_count": 5,
     "metadata": {},
     "output_type": "execute_result"
    },
    {
     "name": "stderr",
     "output_type": "stream",
     "text": [
      "/frazer01/home/cdeboever/software/anaconda/envs/cie/lib/python2.7/site-packages/matplotlib/font_manager.py:1287: UserWarning: findfont: Font family [u'sans-serif'] not found. Falling back to Bitstream Vera Sans\n",
      "  (prop.get_family(), self.defaultFamily[fontext]))\n"
     ]
    },
    {
     "data": {
      "image/png": "[encoded data removed]",
      "text/plain": [
       "<matplotlib.figure.Figure at 0x7f50d62f72d0>"
      ]
     },
     "metadata": {},
     "output_type": "display_data"
    }
   ],
   "source": [
    "plt.scatter([1,2,4], [4,5,7])"
   ]
  },
  {
   "cell_type": "code",
   "execution_count": 10,
   "metadata": {
    "collapsed": false
   },
   "outputs": [],
   "source": [
    "import os\n",
    "import re\n",
    "import urllib2\n",
    "\n",
    "import pandas as pd\n",
    "import pybedtools as pbt\n",
    "\n",
    "fn = os.path.join('/publicdata/roadmap_15_state_20151104/EIDlegend.txt')\n",
    "roadmap_ids = pd.read_table(fn, squeeze=True, index_col=0, header=None)\n",
    "\n",
    "url = ('http://egg2.wustl.edu/roadmap/data/byFileType'\n",
    "'/peaks/consolidated/narrowPeak/')\n",
    "website = urllib2.urlopen(url)\n",
    "html = website.read()\n",
    "files = re.findall('href=\"(.*\\.gz)\"', html)\n",
    "lines = [x for x in roadmap_ids.index if 'iPS' in roadmap_ids[x]]\n",
    "files = [x for x in files if x.split('-')[0] in lines]\n",
    "files = [x for x in files if 'hotspot' not in x]\n",
    "urls = ['http://egg2.wustl.edu/roadmap/data/byFileType/peaks/consolidated/narrowPeak/{}'.format(n)\n",
    "        for n in files]\n",
    "\n",
    "def read_gzipped_text_url(url):\n",
    "    \"\"\"Read a gzipped text file from a URL and return \n",
    "    contents as a string.\"\"\"\n",
    "    import urllib2\n",
    "    import zlib\n",
    "    from StringIO import StringIO\n",
    "\n",
    "    opener = urllib2.build_opener() \n",
    "    request = urllib2.Request(url)\n",
    "    request.add_header('Accept-encoding', 'gzip')\n",
    "    respond = opener.open(request)\n",
    "    compressedData = respond.read()\n",
    "    respond.close()\n",
    "    opener.close()\n",
    "    compressedDataBuf = StringIO(compressedData)\n",
    "    d = zlib.decompressobj(16+zlib.MAX_WBITS)\n",
    "    buffer = compressedDataBuf.read(1024)\n",
    "    #saveFile = open('/tmp/test.txt', \"wb\")\n",
    "    s = []\n",
    "    while buffer:\n",
    "        s.append(d.decompress(buffer))\n",
    "        buffer = compressedDataBuf.read(1024)\n",
    "    s = ''.join(s)\n",
    "    return s\n",
    "\n",
    "s = read_gzipped_text_url(urls[0])\n",
    "bt = pbt.BedTool(s, from_string=True)"
   ]
  },
  {
   "cell_type": "code",
   "execution_count": null,
   "metadata": {
    "collapsed": true
   },
   "outputs": [],
   "source": []
  },
  {
   "cell_type": "code",
   "execution_count": null,
   "metadata": {
    "collapsed": true
   },
   "outputs": [],
   "source": []
  },
  {
   "cell_type": "code",
   "execution_count": null,
   "metadata": {
    "collapsed": true
   },
   "outputs": [],
   "source": [
    "r = sm.sandbox.stats.multicomp.multipletests(pvalues, method='fdr_bh')\n",
    "#pvalues_bh = pd.Series(r[1], index=pvalues.index)\n",
    "#sum(pvalues_bh < 0.05)"
   ]
  },
  {
   "cell_type": "code",
   "execution_count": null,
   "metadata": {
    "collapsed": true
   },
   "outputs": [],
   "source": []
  },
  {
   "cell_type": "code",
   "execution_count": null,
   "metadata": {
    "collapsed": true
   },
   "outputs": [],
   "source": []
  },
  {
   "cell_type": "code",
   "execution_count": 17,
   "metadata": {
    "collapsed": true
   },
   "outputs": [],
   "source": [
    "import glob\n",
    "\n",
    "import matplotlib.pyplot as plt\n",
    "import pandas as pd\n",
    "\n",
    "%matplotlib inline"
   ]
  },
  {
   "cell_type": "code",
   "execution_count": 14,
   "metadata": {
    "collapsed": false
   },
   "outputs": [],
   "source": [
    "fns = glob.glob('/projects/CARDIPS/pipeline/ATACseq/sample/*/logs/*macs2.err')\n",
    "fragments = []\n",
    "for fn in fns:\n",
    "    with open(fn) as f:\n",
    "        lines = [x.strip() for x in f.readlines()]\n",
    "        fragments.append(int([x for x in lines if '#1 fragment size' in x][0].split()[-1]))"
   ]
  },
  {
   "cell_type": "code",
   "execution_count": 19,
   "metadata": {
    "collapsed": false
   },
   "outputs": [
    {
     "data": {
      "text/plain": [
       "83.0"
      ]
     },
     "execution_count": 19,
     "metadata": {},
     "output_type": "execute_result"
    }
   ],
   "source": [
    "pd.Series(fragments).median()"
   ]
  },
  {
   "cell_type": "code",
   "execution_count": 18,
   "metadata": {
    "collapsed": false
   },
   "outputs": [
    {
     "data": {
      "text/plain": [
       "<matplotlib.axes._subplots.AxesSubplot at 0x7fd1d226d690>"
      ]
     },
     "execution_count": 18,
     "metadata": {},
     "output_type": "execute_result"
    },
    {
     "data": {
      "image/png": "[encoded data removed]",
      "text/plain": [
       "<matplotlib.figure.Figure at 0x7fd1d2255f90>"
      ]
     },
     "metadata": {},
     "output_type": "display_data"
    }
   ],
   "source": [
    "pd.Series(fragments).hist()"
   ]
  },
  {
   "cell_type": "code",
   "execution_count": 34,
   "metadata": {
    "collapsed": true
   },
   "outputs": [],
   "source": [
    "import os\n",
    "import subprocess"
   ]
  },
  {
   "cell_type": "code",
   "execution_count": 37,
   "metadata": {
    "collapsed": true
   },
   "outputs": [],
   "source": [
    "import time"
   ]
  },
  {
   "cell_type": "code",
   "execution_count": 53,
   "metadata": {
    "collapsed": false
   },
   "outputs": [],
   "source": [
    "fns = glob.glob('/projects/CARDIPS/pipeline/ATACseq/sample/*/alignment/*_sorted_rmdup.bam')\n",
    "count = 1\n",
    "for fn in fns[2:]:\n",
    "    dy = os.path.split(fn)[0]\n",
    "    name = fn.split('/')[-3]\n",
    "    sh = os.path.join(os.path.split(dy)[0], 'sh', '{}_qsort.sh'.format(name))\n",
    "    out = os.path.splitext(fn)[0] + '_query_sorted.bam'\n",
    "    if not os.path.exists(sh):\n",
    "        lines = '#!/bin/bash\\n\\n'\n",
    "        lines += '#$ -N job_{}_qsort\\n'.format(name)\n",
    "        lines += '#$ -l h_vmem=1.5G\\n'\n",
    "        lines += '#$ -pe smp 4\\n'\n",
    "        lines += '#$ -S /bin/bash\\n'\n",
    "        lines += '#$ -o /projects/CARDIPS/pipeline/ATACseq/sample/{0}/logs/job_{0}_qsort.out\\n'.format(name)\n",
    "        lines += '#$ -e /projects/CARDIPS/pipeline/ATACseq/sample/{0}/logs/job_{0}_qsort.err\\n\\n'.format(name)\n",
    "        lines += ('# This script runs query sorting for the rmdup bam because an earlier version of the pipeline'\n",
    "                  ' didn\\'t have this command.\\n\\n')\n",
    "        lines += 'module load cardips\\n'\n",
    "        lines += 'source activate cardips\\n'\n",
    "        lines += ('sambamba sort -m 4GB -t 4 -n \\\\\\n\\t--tmpdir {} \\\\\\n\\t{} \\\\\\n\\t-o {}\\n'.format(dy, fn, out))\n",
    "        with open(sh, 'w') as f:\n",
    "            f.write(lines)\n",
    "        subprocess.check_call('qsub {}'.format(sh), shell=True)\n",
    "        count += 1"
   ]
  },
  {
   "cell_type": "code",
   "execution_count": null,
   "metadata": {
    "collapsed": true
   },
   "outputs": [],
   "source": [
    "#!/bin/bash\n",
    "\n",
    "#$ -N job_1071bbc3-1c0c-423d-a3b8-3912d4eefa84_alignment\n",
    "#$ -l h_vmem=4.0G\n",
    "#$ -pe smp 8\n",
    "#$ -S /bin/bash\n",
    "#$ -o /projects/CARDIPS/pipeline/ATACseq/sample/1071bbc3-1c0c-423d-a3b8-3912d4eefa84/logs/job_1071bbc3-1c0c-423d-a3b8-3912d4eefa84_alignment.out\n",
    "#$ -e /projects/CARDIPS/pipeline/ATACseq/sample/1071bbc3-1c0c-423d-a3b8-3912d4eefa84/logs/job_1071bbc3-1c0c-423d-a3b8-3912d4eefa84_alignment.err\n",
    "\n",
    "# Git repository version:\n",
    "# 143ac01998ad4100bdde2f3fa1ba1b9384744f6a (HEAD -> new_cluster, origin/new_cluster) Bug fix for removing duplicates\n",
    "\n",
    "module load cardips\n",
    "\n",
    "source activate cardips\n",
    "\n"
   ]
  },
  {
   "cell_type": "code",
   "execution_count": 29,
   "metadata": {
    "collapsed": false
   },
   "outputs": [
    {
     "data": {
      "text/plain": [
       "'sambamba sort -m 4GB -t 4 -n --tmpdir /projects/CARDIPS/pipeline/ATACseq/sample/472b28d7-565a-4fbd-81d0-88aec1c67669/alignment /projects/CARDIPS/pipeline/ATACseq/sample/472b28d7-565a-4fbd-81d0-88aec1c67669/alignment/472b28d7-565a-4fbd-81d0-88aec1c67669_sorted_rmdup.bam -o /projects/CARDIPS/pipeline/ATACseq/sample/472b28d7-565a-4fbd-81d0-88aec1c67669/alignment/472b28d7-565a-4fbd-81d0-88aec1c67669_sorted_rmdup_query_sorted.bam'"
      ]
     },
     "execution_count": 29,
     "metadata": {},
     "output_type": "execute_result"
    }
   ],
   "source": [
    "c"
   ]
  },
  {
   "cell_type": "code",
   "execution_count": null,
   "metadata": {
    "collapsed": true
   },
   "outputs": [],
   "source": []
  },
  {
   "cell_type": "code",
   "execution_count": null,
   "metadata": {
    "collapsed": true
   },
   "outputs": [],
   "source": []
  },
  {
   "cell_type": "code",
   "execution_count": 60,
   "metadata": {
    "collapsed": true
   },
   "outputs": [],
   "source": [
    "dys = glob.glob('/projects/CARDIPS/pipeline/ATACseq/sample/*')\n",
    "dys = [x for x in dys if '1071bbc3-1c0c-423d-a3b8-3912d4eefa84' not in x]\n",
    "dys = [x for x in dys if 'old' not in x]\n",
    "dys = [x for x in dys if 'SRR' not in x]"
   ]
  },
  {
   "cell_type": "code",
   "execution_count": 63,
   "metadata": {
    "collapsed": false
   },
   "outputs": [
    {
     "data": {
      "text/plain": [
       "'/projects/CARDIPS/pipeline/ATACseq/sample/4d75c71d-a7d6-4280-9248-36ac6712ff14'"
      ]
     },
     "execution_count": 63,
     "metadata": {},
     "output_type": "execute_result"
    }
   ],
   "source": [
    "dys[0]"
   ]
  },
  {
   "cell_type": "code",
   "execution_count": 64,
   "metadata": {
    "collapsed": false
   },
   "outputs": [
    {
     "name": "stdout",
     "output_type": "stream",
     "text": [
      "^C\r\n"
     ]
    }
   ],
   "source": [
    "for dy in dys:\n",
    "    !rm -r {'{}/*counts'.format(dy)}\n",
    "    !rm -r {'{}/sh/*counts*'.format(dy)}\n",
    "    !rm -r {'{}/logs/*counts*'.format(dy)}"
   ]
  },
  {
   "cell_type": "code",
   "execution_count": 66,
   "metadata": {
    "collapsed": false
   },
   "outputs": [
    {
     "ename": "SyntaxError",
     "evalue": "invalid syntax (<ipython-input-66-76dd9541e76f>, line 1)",
     "output_type": "error",
     "traceback": [
      "\u001b[1;36m  File \u001b[1;32m\"<ipython-input-66-76dd9541e76f>\"\u001b[1;36m, line \u001b[1;32m1\u001b[0m\n\u001b[1;33m    3 + #\u001b[0m\n\u001b[1;37m         ^\u001b[0m\n\u001b[1;31mSyntaxError\u001b[0m\u001b[1;31m:\u001b[0m invalid syntax\n"
     ]
    }
   ],
   "source": [
    "3 + #"
   ]
  },
  {
   "cell_type": "code",
   "execution_count": 2,
   "metadata": {
    "collapsed": true
   },
   "outputs": [],
   "source": [
    "import pandas as pd"
   ]
  },
  {
   "cell_type": "code",
   "execution_count": 16,
   "metadata": {
    "collapsed": false
   },
   "outputs": [],
   "source": [
    "df = pd.read_table('/projects/T2D/pipeline/ATACseq/combined_files/star_logs.tsv', index_col=0)"
   ]
  },
  {
   "cell_type": "code",
   "execution_count": 17,
   "metadata": {
    "collapsed": false
   },
   "outputs": [
    {
     "data": {
      "text/html": [
       "<div>\n",
       "<table border=\"1\" class=\"dataframe\">\n",
       "  <thead>\n",
       "    <tr style=\"text-align: right;\">\n",
       "      <th></th>\n",
       "      <th>Number of input reads</th>\n",
       "      <th>Uniquely mapped reads %</th>\n",
       "    </tr>\n",
       "  </thead>\n",
       "  <tbody>\n",
       "    <tr>\n",
       "      <th>A0001_ISL_ATAC_S38</th>\n",
       "      <td>52169201</td>\n",
       "      <td>82.71</td>\n",
       "    </tr>\n",
       "    <tr>\n",
       "      <th>A0001_ISL_ATAC_S37</th>\n",
       "      <td>11013598</td>\n",
       "      <td>81.95</td>\n",
       "    </tr>\n",
       "    <tr>\n",
       "      <th>A0001_ISL_ATAC_combined</th>\n",
       "      <td>103042423</td>\n",
       "      <td>82.27</td>\n",
       "    </tr>\n",
       "    <tr>\n",
       "      <th>A0001_ISL_ATAC_S10</th>\n",
       "      <td>39859624</td>\n",
       "      <td>81.78</td>\n",
       "    </tr>\n",
       "  </tbody>\n",
       "</table>\n",
       "</div>"
      ],
      "text/plain": [
       "                         Number of input reads  Uniquely mapped reads %\n",
       "A0001_ISL_ATAC_S38                    52169201                    82.71\n",
       "A0001_ISL_ATAC_S37                    11013598                    81.95\n",
       "A0001_ISL_ATAC_combined              103042423                    82.27\n",
       "A0001_ISL_ATAC_S10                    39859624                    81.78"
      ]
     },
     "execution_count": 17,
     "metadata": {},
     "output_type": "execute_result"
    }
   ],
   "source": [
    "df[['Number of input reads', 'Uniquely mapped reads %']]"
   ]
  },
  {
   "cell_type": "code",
   "execution_count": 9,
   "metadata": {
    "collapsed": true
   },
   "outputs": [],
   "source": [
    "import glob\n",
    "import os"
   ]
  },
  {
   "cell_type": "code",
   "execution_count": 18,
   "metadata": {
    "collapsed": true
   },
   "outputs": [],
   "source": [
    "df = pd.read_table('/projects/T2D/pipeline/ATACseq/combined_files/picard_metrics.tsv', index_col=0)"
   ]
  },
  {
   "cell_type": "code",
   "execution_count": 20,
   "metadata": {
    "collapsed": false
   },
   "outputs": [
    {
     "data": {
      "text/html": [
       "<div>\n",
       "<table border=\"1\" class=\"dataframe\">\n",
       "  <thead>\n",
       "    <tr style=\"text-align: right;\">\n",
       "      <th></th>\n",
       "      <th>MEDIAN_INSERT_SIZE</th>\n",
       "      <th>PERCENT_DUPLICATION</th>\n",
       "    </tr>\n",
       "  </thead>\n",
       "  <tbody>\n",
       "    <tr>\n",
       "      <th>A0001_ISL_ATAC_S38</th>\n",
       "      <td>189</td>\n",
       "      <td>0.164157</td>\n",
       "    </tr>\n",
       "    <tr>\n",
       "      <th>A0001_ISL_ATAC_S37</th>\n",
       "      <td>192</td>\n",
       "      <td>0.081011</td>\n",
       "    </tr>\n",
       "    <tr>\n",
       "      <th>A0001_ISL_ATAC_combined</th>\n",
       "      <td>184</td>\n",
       "      <td>0.149780</td>\n",
       "    </tr>\n",
       "    <tr>\n",
       "      <th>A0001_ISL_ATAC_S10</th>\n",
       "      <td>175</td>\n",
       "      <td>0.114720</td>\n",
       "    </tr>\n",
       "  </tbody>\n",
       "</table>\n",
       "</div>"
      ],
      "text/plain": [
       "                         MEDIAN_INSERT_SIZE  PERCENT_DUPLICATION\n",
       "A0001_ISL_ATAC_S38                      189             0.164157\n",
       "A0001_ISL_ATAC_S37                      192             0.081011\n",
       "A0001_ISL_ATAC_combined                 184             0.149780\n",
       "A0001_ISL_ATAC_S10                      175             0.114720"
      ]
     },
     "execution_count": 20,
     "metadata": {},
     "output_type": "execute_result"
    }
   ],
   "source": [
    "df[['MEDIAN_INSERT_SIZE', 'PERCENT_DUPLICATION']]"
   ]
  },
  {
   "cell_type": "code",
   "execution_count": 23,
   "metadata": {
    "collapsed": true
   },
   "outputs": [],
   "source": [
    "df = pd.read_table('/projects/T2D/pipeline/ATACseq/combined_files/num_peaks.tsv', index_col=0, header=None)"
   ]
  },
  {
   "cell_type": "code",
   "execution_count": 24,
   "metadata": {
    "collapsed": false
   },
   "outputs": [
    {
     "data": {
      "text/html": [
       "<div>\n",
       "<table border=\"1\" class=\"dataframe\">\n",
       "  <thead>\n",
       "    <tr style=\"text-align: right;\">\n",
       "      <th></th>\n",
       "      <th>1</th>\n",
       "    </tr>\n",
       "    <tr>\n",
       "      <th>0</th>\n",
       "      <th></th>\n",
       "    </tr>\n",
       "  </thead>\n",
       "  <tbody>\n",
       "    <tr>\n",
       "      <th>A0001_ISL_ATAC_S38</th>\n",
       "      <td>26600</td>\n",
       "    </tr>\n",
       "    <tr>\n",
       "      <th>A0001_ISL_ATAC_S37</th>\n",
       "      <td>11953</td>\n",
       "    </tr>\n",
       "    <tr>\n",
       "      <th>A0001_ISL_ATAC_combined</th>\n",
       "      <td>34784</td>\n",
       "    </tr>\n",
       "    <tr>\n",
       "      <th>A0001_ISL_ATAC_S10</th>\n",
       "      <td>21086</td>\n",
       "    </tr>\n",
       "  </tbody>\n",
       "</table>\n",
       "</div>"
      ],
      "text/plain": [
       "                             1\n",
       "0                             \n",
       "A0001_ISL_ATAC_S38       26600\n",
       "A0001_ISL_ATAC_S37       11953\n",
       "A0001_ISL_ATAC_combined  34784\n",
       "A0001_ISL_ATAC_S10       21086"
      ]
     },
     "execution_count": 24,
     "metadata": {},
     "output_type": "execute_result"
    }
   ],
   "source": [
    "df"
   ]
  },
  {
   "cell_type": "code",
   "execution_count": null,
   "metadata": {
    "collapsed": true
   },
   "outputs": [],
   "source": []
  },
  {
   "cell_type": "code",
   "execution_count": null,
   "metadata": {
    "collapsed": true
   },
   "outputs": [],
   "source": []
  },
  {
   "cell_type": "code",
   "execution_count": null,
   "metadata": {
    "collapsed": true
   },
   "outputs": [],
   "source": []
  },
  {
   "cell_type": "code",
   "execution_count": null,
   "metadata": {
    "collapsed": true
   },
   "outputs": [],
   "source": []
  },
  {
   "cell_type": "code",
   "execution_count": null,
   "metadata": {
    "collapsed": true
   },
   "outputs": [],
   "source": []
  }
 ],
 "metadata": {
  "kernelspec": {
   "display_name": "Environment (cie)",
   "language": "",
   "name": "cie"
  },
  "language_info": {
   "codemirror_mode": {
    "name": "ipython",
    "version": 2
   },
   "file_extension": ".py",
   "mimetype": "text/x-python",
   "name": "python",
   "nbconvert_exporter": "python",
   "pygments_lexer": "ipython2",
   "version": "2.7.11"
  }
 },
 "nbformat": 4,
 "nbformat_minor": 0
}
