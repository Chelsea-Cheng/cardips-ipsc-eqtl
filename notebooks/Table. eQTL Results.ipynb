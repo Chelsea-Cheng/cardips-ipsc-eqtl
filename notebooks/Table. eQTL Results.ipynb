{
 "cells": [
  {
   "cell_type": "markdown",
   "metadata": {},
   "source": [
    "# Table. eQTL Results"
   ]
  },
  {
   "cell_type": "code",
   "execution_count": 1,
   "metadata": {
    "collapsed": true
   },
   "outputs": [],
   "source": [
    "import copy\n",
    "import cPickle\n",
    "import os\n",
    "import subprocess\n",
    "\n",
    "import cdpybio as cpb\n",
    "import matplotlib as mpl\n",
    "import matplotlib.gridspec as gridspec\n",
    "import matplotlib.pyplot as plt\n",
    "import numpy as np\n",
    "import pandas as pd\n",
    "pd.options.mode.chained_assignment = None  # default='warn'\n",
    "import pybedtools as pbt\n",
    "import scipy.stats as stats\n",
    "import seaborn as sns\n",
    "\n",
    "import ciepy\n",
    "import cardipspy as cpy\n",
    "\n",
    "%matplotlib inline\n",
    "\n",
    "dy_name = 'table_eqtl_results'\n",
    "    \n",
    "outdir = os.path.join(ciepy.root, 'output', dy_name)\n",
    "cpy.makedir(outdir)\n",
    "\n",
    "private_outdir = os.path.join(ciepy.root, 'private_output', dy_name)\n",
    "cpy.makedir(private_outdir)\n",
    "\n",
    "import socket\n",
    "if socket.gethostname() == 'fl-hn1' or socket.gethostname() == 'fl-hn2':\n",
    "    dy = os.path.join(ciepy.root, 'sandbox', 'tmp', dy_name)\n",
    "    cpy.makedir(dy)\n",
    "    pbt.set_tempdir(dy)"
   ]
  },
  {
   "cell_type": "code",
   "execution_count": 21,
   "metadata": {
    "collapsed": true
   },
   "outputs": [],
   "source": [
    "gene_info = pd.read_table(cpy.gencode_gene_info, index_col=0)"
   ]
  },
  {
   "cell_type": "code",
   "execution_count": 44,
   "metadata": {
    "collapsed": false
   },
   "outputs": [],
   "source": [
    "fn = os.path.join(ciepy.root, 'misc', 'stem_cell_population_maintenance.tsv')\n",
    "go_scpm = pd.read_table(fn, header=None)\n",
    "go_genes = set(go_scpm[2]) & set(gene_info.gene_name)"
   ]
  },
  {
   "cell_type": "code",
   "execution_count": null,
   "metadata": {
    "collapsed": true
   },
   "outputs": [],
   "source": [
    "# Note: sometimes this cell fails. If I run several times eventually it works. Not sure \n",
    "# why Nature's URL is weird.\n",
    "url = 'http://www.nature.com/nbt/journal/v33/n11/extref/nbt.3387-S5.xlsx'\n",
    "scorecard = pd.read_excel(url)\n",
    "scorecard = scorecard.drop(scorecard.columns[2:], axis=1)\n",
    "scorecard = scorecard[scorecard.gene.apply(lambda x: x in gene_info.gene_name.values)]\n",
    "scorecard.index = [get_gene_id(x) for x in scorecard.gene]\n",
    "scorecard = scorecard.drop(['gene'], axis=1)\n",
    "scorecard.columns = ['tsankov_class']"
   ]
  },
  {
   "cell_type": "code",
   "execution_count": 75,
   "metadata": {
    "collapsed": true
   },
   "outputs": [],
   "source": [
    "def annotate_eqtls(fn):\n",
    "    df = pd.read_table(fn, index_col=0)\n",
    "    if 'perm_sig' in df.columns:\n",
    "        df = df[df.perm_sig]\n",
    "    td = [x for x in df.columns if 'AF' in x]\n",
    "    df = df.drop(td, axis=1)\n",
    "    df = df.merge(scorecard, left_on='gene_id', right_index=True, how='left')\n",
    "    tdf = pd.DataFrame(True, index=go_genes, columns=['go_stem_cell_population_maintenance'])\n",
    "    df = df.merge(tdf, left_on='gene_name', right_index=True, how='left')\n",
    "    df.ix[df.go_stem_cell_population_maintenance.isnull(), 'go_stem_cell_population_maintenance'] = False\n",
    "    return df"
   ]
  },
  {
   "cell_type": "code",
   "execution_count": 83,
   "metadata": {
    "collapsed": true
   },
   "outputs": [],
   "source": [
    "writer = pd.ExcelWriter(os.path.join(outdir, 'table_eqtl_results.xlsx'))"
   ]
  },
  {
   "cell_type": "code",
   "execution_count": 84,
   "metadata": {
    "collapsed": true
   },
   "outputs": [],
   "source": [
    "for i in [1, 2, 3]:\n",
    "    fn = os.path.join(ciepy.root, 'output', 'eqtl_processing', 'eqtls0{}'.format(i), 'lead_variants.tsv')\n",
    "    leads = annotate_eqtls(fn)\n",
    "    leads.to_excel(writer, 'leads0{}'.format(i))\n",
    "    fn = os.path.join(ciepy.root, 'output', 'eqtl_processing', 'eqtls0{}'.format(i), 'gene_variant_pairs.tsv')\n",
    "    all_eqtls = annotate_eqtls(fn)\n",
    "    all_eqtls.to_excel(writer, 'all0{}'.format(i))"
   ]
  },
  {
   "cell_type": "code",
   "execution_count": 85,
   "metadata": {
    "collapsed": true
   },
   "outputs": [],
   "source": [
    "writer.save()"
   ]
  },
  {
   "cell_type": "code",
   "execution_count": null,
   "metadata": {
    "collapsed": true
   },
   "outputs": [],
   "source": []
  }
 ],
 "metadata": {
  "kernelspec": {
   "display_name": "Environment (cie)",
   "language": "",
   "name": "cie"
  },
  "language_info": {
   "codemirror_mode": {
    "name": "ipython",
    "version": 2
   },
   "file_extension": ".py",
   "mimetype": "text/x-python",
   "name": "python",
   "nbconvert_exporter": "python",
   "pygments_lexer": "ipython2",
   "version": "2.7.11"
  }
 },
 "nbformat": 4,
 "nbformat_minor": 0
}
