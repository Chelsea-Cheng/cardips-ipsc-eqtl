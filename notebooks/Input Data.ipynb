{
 "cells": [
  {
   "cell_type": "code",
   "execution_count": 64,
   "metadata": {
    "collapsed": false
   },
   "outputs": [],
   "source": [
    "import glob\n",
    "import os\n",
    "import subprocess\n",
    "\n",
    "import cdpybio as cpb\n",
    "import matplotlib.pyplot as plt\n",
    "import numpy as np\n",
    "import pandas as pd\n",
    "import seaborn as sns\n",
    "\n",
    "import ciepy as cpy\n",
    "import projectpy as ppy\n",
    "\n",
    "%matplotlib inline"
   ]
  },
  {
   "cell_type": "code",
   "execution_count": 65,
   "metadata": {
    "collapsed": true
   },
   "outputs": [],
   "source": [
    "array_meta = pd.read_table(os.path.join(cpy.root, 'data', 'array_metadata.tsv'), index_col=0)\n",
    "wgs_meta = pd.read_table(os.path.join(cpy.root, 'data', 'wgs_metadata.tsv'), index_col=0, \n",
    "                         squeeze=True)\n",
    "fn = ('/raid3/projects/CARDIPS/analysis/RNAseq/150512_150522_150527_metadata.tsv')\n",
    "rna_meta = pd.read_table(fn, index_col=0)"
   ]
  },
  {
   "cell_type": "markdown",
   "metadata": {},
   "source": [
    "# Metadata"
   ]
  },
  {
   "cell_type": "code",
   "execution_count": 66,
   "metadata": {
    "collapsed": true
   },
   "outputs": [],
   "source": [
    "rna_meta = rna_meta[rna_meta.censor == False]\n",
    "rna_meta = rna_meta[rna_meta.cell_type == 'iPSC']\n",
    "\n",
    "rna_meta['wgs_id'] = np.nan\n",
    "for i in rna_meta.index:\n",
    "    tdf = wgs_meta[wgs_meta == rna_meta.ix[i, 'subject']]\n",
    "    if tdf.shape[0] == 1:\n",
    "        rna_meta.ix[i, 'wgs_id'] = tdf.index[0]\n",
    "rna_meta = rna_meta.dropna(subset=['wgs_id'])\n",
    "rna_meta.to_csv(os.path.join(cpy.root, 'data', 'rna_seq_metadata.tsv'), sep='\\t')"
   ]
  },
  {
   "cell_type": "markdown",
   "metadata": {},
   "source": [
    "# Gene Counts"
   ]
  },
  {
   "cell_type": "code",
   "execution_count": 33,
   "metadata": {
    "collapsed": false
   },
   "outputs": [],
   "source": [
    "fns = glob.glob(os.path.join('/raid3/projects/CARDIPS/analysis/RNAseq/*XX/cdeboever/'\n",
    "                             'results/*_counts/gene_counts.tsv'))\n",
    "count_fns = []\n",
    "for fn in fns:\n",
    "    s = fn.split(os.path.sep)[-2].split('_')[0]\n",
    "    if s in rna_meta.index:\n",
    "        count_fns.append(fn)"
   ]
  },
  {
   "cell_type": "code",
   "execution_count": 55,
   "metadata": {
    "collapsed": true
   },
   "outputs": [],
   "source": [
    "counts = [pd.read_table(fn, index_col=0, header=None, squeeze=True) for fn in count_fns]\n",
    "sample_names = [fn.split(os.path.sep)[-2].split('_')[0] for fn in count_fns]\n",
    "d = {key: value for (key, value) in zip(sample_names, counts)}\n",
    "counts = pd.DataFrame(d)\n",
    "counts.index.name = 'gene'\n",
    "counts.to_csv(os.path.join(cpy.root, 'data', 'gene_counts.tsv'), sep='\\t')"
   ]
  }
 ],
 "metadata": {
  "kernelspec": {
   "display_name": "Python 2",
   "language": "python",
   "name": "python2"
  },
  "language_info": {
   "codemirror_mode": {
    "name": "ipython",
    "version": 2
   },
   "file_extension": ".py",
   "mimetype": "text/x-python",
   "name": "python",
   "nbconvert_exporter": "python",
   "pygments_lexer": "ipython2",
   "version": "2.7.10"
  }
 },
 "nbformat": 4,
 "nbformat_minor": 0
}
