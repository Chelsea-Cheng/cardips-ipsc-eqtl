{
 "cells": [
  {
   "cell_type": "markdown",
   "metadata": {},
   "source": [
    "# Input Data\n",
    "\n",
    "This notebook parses some of the CARDiPS files to take only data that we need for this project. \n",
    "This notebook will only run on the Frazer lab cluster."
   ]
  },
  {
   "cell_type": "code",
   "execution_count": 2,
   "metadata": {
    "collapsed": false
   },
   "outputs": [],
   "source": [
    "import glob\n",
    "import os\n",
    "import subprocess\n",
    "\n",
    "import cdpybio as cpb\n",
    "import matplotlib.pyplot as plt\n",
    "import numpy as np\n",
    "import pandas as pd\n",
    "import seaborn as sns\n",
    "\n",
    "import ciepy\n",
    "import cardipspy as cpy\n",
    "\n",
    "%matplotlib inline"
   ]
  },
  {
   "cell_type": "code",
   "execution_count": 3,
   "metadata": {
    "collapsed": true
   },
   "outputs": [],
   "source": [
    "fn = ('/raid3/projects/CARDIPS/data/database/inventory_family.tsv')\n",
    "family = pd.read_table(fn, index_col=0)\n",
    "fn = ('/raid3/projects/CARDIPS/data/database/inventory_pedigree.tsv')\n",
    "pedigree = pd.read_table(fn, index_col=0)\n",
    "fn = ('/raid3/projects/CARDIPS/data/database/inventory_rnaseq.tsv')\n",
    "rnaseq = pd.read_table(fn, index_col=0)\n",
    "fn = ('/raid3/projects/CARDIPS/data/database/inventory_sample.tsv')\n",
    "sample = pd.read_table(fn, index_col=0)\n",
    "fn = ('/raid3/projects/CARDIPS/data/database/inventory_sequence.tsv')\n",
    "sequence = pd.read_table(fn, index_col=0)\n",
    "fn = ('/raid3/projects/CARDIPS/data/database/inventory_snparray.tsv')\n",
    "snparray = pd.read_table(fn, index_col=0)\n",
    "fn = ('/raid3/projects/CARDIPS/data/database/inventory_subject.tsv')\n",
    "subject = pd.read_table(fn, index_col=1)\n",
    "#fn = ('/raid3/projects/CARDIPS/data/database/inventory_wgs.tsv')\n",
    "fn = ('/raid3/projects/CARDIPS/pipeline/WGS/inventory_wgs.tsv')\n",
    "wgs = pd.read_table(fn, index_col=0)"
   ]
  },
  {
   "cell_type": "code",
   "execution_count": 4,
   "metadata": {
    "collapsed": true
   },
   "outputs": [],
   "source": [
    "censor = pd.read_table('/raid3/projects/CARDIPS/pipeline/RNAseq/combined_files/censor.tsv',\n",
    "                       index_col=0, header=None, squeeze=True)"
   ]
  },
  {
   "cell_type": "markdown",
   "metadata": {},
   "source": [
    "## Samples for this Study"
   ]
  },
  {
   "cell_type": "code",
   "execution_count": 5,
   "metadata": {
    "collapsed": true
   },
   "outputs": [],
   "source": [
    "# When this assertion isn't true, that means the database will have been updated\n",
    "# so I'll need to update this code.\n",
    "assert snparray.shape[0] == 444\n",
    "\n",
    "tdf = snparray[snparray.cell == 'iPSC']\n",
    "samples222 = (tdf.subject_id + ':C' + tdf.clone.astype(int).astype(str) + \n",
    "              ':P' + tdf.passage.astype(int).astype(str))"
   ]
  },
  {
   "cell_type": "markdown",
   "metadata": {},
   "source": [
    "## Metadata"
   ]
  },
  {
   "cell_type": "code",
   "execution_count": 128,
   "metadata": {
    "collapsed": false
   },
   "outputs": [],
   "source": [
    "snparray = snparray[['subject_id', 'cell', 'array_id', 'pos', 'type']]\n",
    "snparray = snparray[snparray.cell != 'iPSC']"
   ]
  },
  {
   "cell_type": "code",
   "execution_count": 9,
   "metadata": {
    "collapsed": false
   },
   "outputs": [],
   "source": [
    "#rnaseq = seqsample[seqsample.type == 'RNA']\n",
    "rnaseq = rnaseq[rnaseq.sequence_id.apply(lambda x: x in [6, 7, 8])]\n",
    "#rnaseq.ix[['50dbe4d7-00f7-489a-b3b4-a8386ed8f621',\n",
    "#          '5bf68d53-4da9-46c4-8d52-9a7e46d2d39d',\n",
    "#          '73f71ee5-269f-4cc6-ae49-1ea8093456c2',\n",
    "#          ], 'status'] = 2\n",
    "rnaseq.ix[censor[censor == True].index, 'status'] = 2\n",
    "rnaseq = rnaseq[rnaseq.status != 2]\n",
    "rnaseq = rnaseq[rnaseq.cell == 'iPSC']"
   ]
  },
  {
   "cell_type": "code",
   "execution_count": 12,
   "metadata": {
    "collapsed": true
   },
   "outputs": [],
   "source": [
    "rnaseq['key'] = (rnaseq.subject_id + ':C' + rnaseq.clone.astype(int).astype(str) + \n",
    "                 ':P' + rnaseq.passage.astype(int).astype(str))\n",
    "rnaseq['in_222'] = rnaseq.key.apply(lambda x: x in samples222.values)"
   ]
  },
  {
   "cell_type": "code",
   "execution_count": 13,
   "metadata": {
    "collapsed": false
   },
   "outputs": [
    {
     "name": "stdout",
     "output_type": "stream",
     "text": [
      "Number of 222 samples that we don't have RNA-seq for (with correct clone and passage): 27.\n"
     ]
    }
   ],
   "source": [
    "n = len(set(samples222) -  set(rnaseq.key))\n",
    "print('Number of 222 samples that we don\\'t have '\n",
    "      'RNA-seq for (with correct clone and passage): '\n",
    "      '{}.'.format(n))"
   ]
  },
  {
   "cell_type": "code",
   "execution_count": 14,
   "metadata": {
    "collapsed": false
   },
   "outputs": [],
   "source": [
    "rnaseq['keep'] = rnaseq.in_222"
   ]
  },
  {
   "cell_type": "code",
   "execution_count": 15,
   "metadata": {
    "collapsed": false
   },
   "outputs": [
    {
     "data": {
      "text/plain": [
       "{'0bf3da28-3985-4c34-8197-5816fd73b588',\n",
       " 'b9e30469-13ad-4792-878a-889cd6480f91',\n",
       " 'bd04a8cc-5d63-45bc-a2cc-91b0c7cb6e01',\n",
       " 'fbabd331-fc4f-47de-b4d0-a9ee5434fa5b'}"
      ]
     },
     "execution_count": 15,
     "metadata": {},
     "output_type": "execute_result"
    }
   ],
   "source": [
    "set(rnaseq.subject_id) - set(rnaseq.ix[rnaseq.keep == True, 'subject_id'])"
   ]
  },
  {
   "cell_type": "markdown",
   "metadata": {},
   "source": [
    "There are four subjects for whom we have RNA-seq although the clone/passage number\n",
    "doesn't match up with the arrays. I'll include the data from these samples for these\n",
    "subjects."
   ]
  },
  {
   "cell_type": "code",
   "execution_count": 16,
   "metadata": {
    "collapsed": true
   },
   "outputs": [],
   "source": [
    "for s in set(rnaseq.subject_id) - set(rnaseq.ix[rnaseq.keep == True, 'subject_id']):\n",
    "    rnaseq.ix[rnaseq[rnaseq.subject_id == s].index[0], 'keep'] = True\n",
    "rnaseq = rnaseq[rnaseq.keep]\n",
    "rnaseq = rnaseq[['subject_id', 'clone', 'passage', 'sequence_id', 'in_222']]"
   ]
  },
  {
   "cell_type": "code",
   "execution_count": 165,
   "metadata": {
    "collapsed": false
   },
   "outputs": [],
   "source": [
    "wgs = seqsample[seqsample.type == 'WGS']\n",
    "wgs.ix['648cab41-59ff-42e3-80ca-8398c57aa7a0', 'status'] = 2\n",
    "wgs = wgs[wgs.status == 0]"
   ]
  },
  {
   "cell_type": "code",
   "execution_count": 175,
   "metadata": {
    "collapsed": false
   },
   "outputs": [],
   "source": [
    "keep = []\n",
    "for s in rnaseq.subject_id:\n",
    "    t = wgs[wgs.subject_id == s]\n",
    "    if t.shape[0] == 1:\n",
    "        keep.append(t.index[0])\n",
    "    elif t.shape[0] > 1:\n",
    "        t = t[t.cell == 'Blood']\n",
    "        if t.shape[0] == 1:\n",
    "            keep.append(t.index[0])\n",
    "        else:\n",
    "            print(s)\n",
    "    else:\n",
    "        print(s)\n",
    "\n",
    "wgs = wgs.ix[keep, ['subject_id', 'cell', 'received', 'sequence_id']]"
   ]
  },
  {
   "cell_type": "code",
   "execution_count": 184,
   "metadata": {
    "collapsed": false
   },
   "outputs": [],
   "source": [
    "subject = subject.ix[wgs.subject_id]\n",
    "subject = subject[['sex', 'ethnicity', 'disease', 'family_id', 'father_id', 'mother_id', 'twin_id']]"
   ]
  },
  {
   "cell_type": "code",
   "execution_count": 185,
   "metadata": {
    "collapsed": false
   },
   "outputs": [],
   "source": [
    "snparray.to_csv(os.path.join(ciepy.root, 'data', 'array_metadata.tsv'), sep='\\t')\n",
    "rnaseq.to_csv(os.path.join(ciepy.root, 'data', 'rnaseq_metadata.tsv'), sep='\\t')\n",
    "subject.to_csv(os.path.join(ciepy.root, 'data', 'subject_metadata.tsv'), sep='\\t')\n",
    "wgs.to_csv(os.path.join(ciepy.root, 'data', 'wgs_metadata.tsv'), sep='\\t')"
   ]
  },
  {
   "cell_type": "markdown",
   "metadata": {},
   "source": [
    "## RNA-seq Data"
   ]
  },
  {
   "cell_type": "code",
   "execution_count": 186,
   "metadata": {
    "collapsed": true
   },
   "outputs": [],
   "source": [
    "fn = '/raid3/projects/CARDIPS/pipeline/RNAseq/combined_files/gene_counts.tsv'\n",
    "counts = pd.read_table(fn, index_col=0)\n",
    "counts = counts[rnaseq.index]\n",
    "counts.to_csv(os.path.join(ciepy.root, 'data', 'gene_counts.tsv'), sep='\\t')\n",
    "\n",
    "fn = '/raid3/projects/CARDIPS/pipeline/RNAseq/combined_files/rsem_expected_counts.tsv'\n",
    "ecounts = pd.read_table(fn, index_col=0)\n",
    "ecounts = ecounts[rnaseq.index]\n",
    "ecounts.to_csv(os.path.join(ciepy.root, 'data', 'rsem_expected_counts.tsv'), sep='\\t')\n",
    "\n",
    "fn = '/raid3/projects/CARDIPS/pipeline/RNAseq/combined_files/rsem_tpm.tsv'\n",
    "tpm = pd.read_table(fn, index_col=0)\n",
    "tpm = tpm[rnaseq.index]\n",
    "tpm.to_csv(os.path.join(ciepy.root, 'data', 'rsem_tpm.tsv'), sep='\\t')"
   ]
  }
 ],
 "metadata": {
  "kernelspec": {
   "display_name": "Python 2",
   "language": "python",
   "name": "python2"
  },
  "language_info": {
   "codemirror_mode": {
    "name": "ipython",
    "version": 2
   },
   "file_extension": ".py",
   "mimetype": "text/x-python",
   "name": "python",
   "nbconvert_exporter": "python",
   "pygments_lexer": "ipython2",
   "version": "2.7.10"
  }
 },
 "nbformat": 4,
 "nbformat_minor": 0
}
