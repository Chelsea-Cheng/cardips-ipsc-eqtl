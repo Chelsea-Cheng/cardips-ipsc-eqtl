{
 "cells": [
  {
   "cell_type": "markdown",
   "metadata": {},
   "source": [
    "# Input Data\n",
    "\n",
    "This notebook parses some of the CARDiPS files to take only data that we need for this project. \n",
    "This notebook will only run on the Frazer lab cluster."
   ]
  },
  {
   "cell_type": "code",
   "execution_count": 2,
   "metadata": {
    "collapsed": false
   },
   "outputs": [],
   "source": [
    "import glob\n",
    "import os\n",
    "import subprocess\n",
    "\n",
    "import cdpybio as cpb\n",
    "import matplotlib.pyplot as plt\n",
    "import numpy as np\n",
    "import pandas as pd\n",
    "import seaborn as sns\n",
    "\n",
    "import ciepy\n",
    "import cardipspy as cpy\n",
    "\n",
    "%matplotlib inline"
   ]
  },
  {
   "cell_type": "code",
   "execution_count": 127,
   "metadata": {
    "collapsed": true
   },
   "outputs": [],
   "source": [
    "array = pd.read_table('/raid3/projects/CARDIPS/data/database/inventory_array.tsv', index_col=0)\n",
    "family = pd.read_table('/raid3/projects/CARDIPS/data/database/inventory_family.tsv', index_col=0)\n",
    "rnaseq = pd.read_table('/raid3/projects/CARDIPS/data/database/inventory_rnaseq.tsv', index_col=0)\n",
    "run = pd.read_table('/raid3/projects/CARDIPS/data/database/inventory_run.tsv', index_col=0)\n",
    "subject = pd.read_table('/raid3/projects/CARDIPS/data/database/inventory_subject.tsv', index_col=1)\n",
    "tissue = pd.read_table('/raid3/projects/CARDIPS/data/database/inventory_tissue.tsv', index_col=0)\n",
    "for c in ['clone', 'passage', 'day']:\n",
    "    tissue[c] = tissue[c].replace(0, np.nan) \n",
    "wgs = pd.read_table('/raid3/projects/CARDIPS/data/database/inventory_wgs.tsv', index_col=0)\n",
    "wgs.ix['648cab41-59ff-42e3-80ca-8398c57aa7a0', 'failed'] = 1"
   ]
  },
  {
   "cell_type": "markdown",
   "metadata": {},
   "source": [
    "## Samples for this Study"
   ]
  },
  {
   "cell_type": "code",
   "execution_count": 128,
   "metadata": {
    "collapsed": true
   },
   "outputs": [],
   "source": [
    "# When this assertion isn't true, that means the database will have been updated\n",
    "# so I'll need to update this code.\n",
    "assert array.shape[0] == 444\n",
    "\n",
    "tdf = array.merge(tissue, left_on='tissue_id', right_index=True, suffixes=['', '_tissue'])\n",
    "tdf = tdf[tdf.type_tissue == 'iPSC']\n",
    "samples222 = (tdf.subject_id + ':C' + tdf.clone.astype(int).astype(str) + \n",
    "              ':P' + tdf.passage.astype(int).astype(str))"
   ]
  },
  {
   "cell_type": "markdown",
   "metadata": {},
   "source": [
    "## Metadata"
   ]
  },
  {
   "cell_type": "code",
   "execution_count": 129,
   "metadata": {
    "collapsed": false
   },
   "outputs": [],
   "source": [
    "array = array.merge(tissue, left_on='tissue_id', right_index=True, suffixes=['', '_tissue'])\n",
    "array = array[['type_tissue', 'clone', 'passage', 'array', 'coord', 'subject_id']]\n",
    "array.columns = ['tissue', 'clone', 'passage', 'array', 'coord', 'subject_id']\n",
    "array = array[array.tissue != 'iPSC']"
   ]
  },
  {
   "cell_type": "code",
   "execution_count": 130,
   "metadata": {
    "collapsed": true
   },
   "outputs": [],
   "source": [
    "rnaseq = rnaseq.merge(tissue, left_on='tissue_id', right_index=True, suffixes=['', '_tissue'])"
   ]
  },
  {
   "cell_type": "code",
   "execution_count": 131,
   "metadata": {
    "collapsed": false
   },
   "outputs": [],
   "source": [
    "rnaseq = rnaseq[rnaseq.run_id.apply(lambda x: x in [6, 7, 8])]\n",
    "rnaseq.ix[['50dbe4d7-00f7-489a-b3b4-a8386ed8f621',\n",
    "          '5bf68d53-4da9-46c4-8d52-9a7e46d2d39d',\n",
    "          '73f71ee5-269f-4cc6-ae49-1ea8093456c2',\n",
    "          ], 'failed'] = 1\n",
    "rnaseq = rnaseq[rnaseq.failed == 0]"
   ]
  },
  {
   "cell_type": "code",
   "execution_count": 132,
   "metadata": {
    "collapsed": false
   },
   "outputs": [
    {
     "data": {
      "text/plain": [
       "set()"
      ]
     },
     "execution_count": 132,
     "metadata": {},
     "output_type": "execute_result"
    }
   ],
   "source": [
    "tdf = rnaseq[rnaseq.tissue_id.apply(lambda x: x in tdf.tissue_id.values)]\n",
    "set(tdf.subject_id) - set(rnaseq.subject_id)"
   ]
  },
  {
   "cell_type": "code",
   "execution_count": 133,
   "metadata": {
    "collapsed": true
   },
   "outputs": [],
   "source": [
    "rnaseq = rnaseq[rnaseq.tissue_id.apply(lambda x: x in tdf.tissue_id.values)]\n",
    "rnaseq = rnaseq[['type', 'clone', 'passage', 'subject_id']]"
   ]
  },
  {
   "cell_type": "code",
   "execution_count": 151,
   "metadata": {
    "collapsed": true
   },
   "outputs": [],
   "source": [
    "tdf = wgs.merge(tissue, left_on='tissue_id', right_index=True,\n",
    "                suffixes=['', '_tissue'])\n",
    "tdf = tdf[tdf.failed == 0]\n",
    "\n",
    "keep = []\n",
    "for s in rnaseq.subject_id:\n",
    "    t = tdf[tdf.subject_id == s]\n",
    "    if t.shape[0] == 1:\n",
    "        keep.append(t.index[0])\n",
    "    elif t.shape[0] > 1:\n",
    "        t = t[t.type == 'Blood']\n",
    "        if t.shape[0] == 1:\n",
    "            keep.append(t.index[0])\n",
    "        else:\n",
    "            print(s)\n",
    "    else:\n",
    "        print(s)\n",
    "tdf = tdf.ix[keep]\n",
    "wgs = tdf[['type', 'subject_id', 'received']]"
   ]
  },
  {
   "cell_type": "code",
   "execution_count": 155,
   "metadata": {
    "collapsed": false
   },
   "outputs": [],
   "source": [
    "subject = subject.ix[wgs.subject_id]\n",
    "subject = subject[['gender', 'disease', 'family_id', 'father_id', 'mother_id', 'twin_id']]\n",
    "subject.columns = ['sex', 'disease', 'family_id', 'father_id', 'mother_id', 'twin_id']"
   ]
  },
  {
   "cell_type": "code",
   "execution_count": 161,
   "metadata": {
    "collapsed": false
   },
   "outputs": [],
   "source": [
    "array.to_csv(os.path.join(ciepy.root, 'data', 'array_metadata.tsv'), sep='\\t')\n",
    "rnaseq.to_csv(os.path.join(ciepy.root, 'data', 'rnaseq_metadata.tsv'), sep='\\t')\n",
    "subject.to_csv(os.path.join(ciepy.root, 'data', 'subject_metadata.tsv'), sep='\\t')\n",
    "wgs.to_csv(os.path.join(ciepy.root, 'data', 'wgs_metadata.tsv'), sep='\\t')"
   ]
  },
  {
   "cell_type": "markdown",
   "metadata": {},
   "source": [
    "## RNA-seq Data"
   ]
  },
  {
   "cell_type": "code",
   "execution_count": 173,
   "metadata": {
    "collapsed": true
   },
   "outputs": [],
   "source": [
    "fn = '/raid3/projects/CARDIPS/pipeline/RNAseq/combined_files/gene_counts.tsv'\n",
    "counts = pd.read_table(fn, index_col=0)\n",
    "counts = counts[rnaseq.index]\n",
    "counts.to_csv(os.path.join(ciepy.root, 'data', 'gene_counts.tsv'), sep='\\t')\n",
    "\n",
    "fn = '/raid3/projects/CARDIPS/pipeline/RNAseq/combined_files/rsem_expected_counts.tsv'\n",
    "ecounts = pd.read_table(fn, index_col=0)\n",
    "ecounts = ecounts[rnaseq.index]\n",
    "ecounts.to_csv(os.path.join(ciepy.root, 'data', 'rsem_expected_counts.tsv'), sep='\\t')\n",
    "\n",
    "fn = '/raid3/projects/CARDIPS/pipeline/RNAseq/combined_files/rsem_tpm.tsv'\n",
    "tpm = pd.read_table(fn, index_col=0)\n",
    "tpm = tpm[rnaseq.index]\n",
    "tpm.to_csv(os.path.join(ciepy.root, 'data', 'rsem_tpm.tsv'), sep='\\t')"
   ]
  }
 ],
 "metadata": {
  "kernelspec": {
   "display_name": "Python 2",
   "language": "python",
   "name": "python2"
  },
  "language_info": {
   "codemirror_mode": {
    "name": "ipython",
    "version": 2
   },
   "file_extension": ".py",
   "mimetype": "text/x-python",
   "name": "python",
   "nbconvert_exporter": "python",
   "pygments_lexer": "ipython2",
   "version": "2.7.10"
  }
 },
 "nbformat": 4,
 "nbformat_minor": 0
}
