{
 "cells": [
  {
   "cell_type": "markdown",
   "metadata": {},
   "source": [
    "This notebook parses some of the CARDiPS files to take only data that we need for this project."
   ]
  },
  {
   "cell_type": "code",
   "execution_count": 67,
   "metadata": {
    "collapsed": false
   },
   "outputs": [],
   "source": [
    "import glob\n",
    "import os\n",
    "import subprocess\n",
    "\n",
    "import cdpybio as cpb\n",
    "import matplotlib.pyplot as plt\n",
    "import numpy as np\n",
    "import pandas as pd\n",
    "import seaborn as sns\n",
    "\n",
    "import ciepy as cpy\n",
    "import projectpy as ppy\n",
    "\n",
    "%matplotlib inline"
   ]
  },
  {
   "cell_type": "code",
   "execution_count": 135,
   "metadata": {
    "collapsed": true
   },
   "outputs": [],
   "source": [
    "array_meta = pd.read_table(os.path.join(cpy.root, 'data', 'array_metadata.tsv'), index_col=0)\n",
    "wgs_meta = pd.read_table(os.path.join(cpy.root, 'data', 'wgs_metadata.tsv'), index_col=0, \n",
    "                         squeeze=True)\n",
    "wgs_meta.index.name = 'wgs_id'\n",
    "fn = ('/raid3/projects/CARDIPS/analysis/RNAseq/150512_150522_150527_metadata.tsv')\n",
    "rna_meta = pd.read_table(fn, index_col=0)"
   ]
  },
  {
   "cell_type": "markdown",
   "metadata": {},
   "source": [
    "# Metadata"
   ]
  },
  {
   "cell_type": "code",
   "execution_count": 136,
   "metadata": {
    "collapsed": false
   },
   "outputs": [
    {
     "data": {
      "text/html": [
       "<div style=\"max-height:1000px;max-width:1500px;overflow:auto;\">\n",
       "<table border=\"1\" class=\"dataframe\">\n",
       "  <thead>\n",
       "    <tr style=\"text-align: right;\">\n",
       "      <th>censor</th>\n",
       "      <th>False</th>\n",
       "      <th>True</th>\n",
       "    </tr>\n",
       "    <tr>\n",
       "      <th>study_ipsc_eqtl</th>\n",
       "      <th></th>\n",
       "      <th></th>\n",
       "    </tr>\n",
       "  </thead>\n",
       "  <tbody>\n",
       "    <tr>\n",
       "      <th>0</th>\n",
       "      <td>45</td>\n",
       "      <td>1</td>\n",
       "    </tr>\n",
       "    <tr>\n",
       "      <th>1</th>\n",
       "      <td>197</td>\n",
       "      <td>27</td>\n",
       "    </tr>\n",
       "  </tbody>\n",
       "</table>\n",
       "</div>"
      ],
      "text/plain": [
       "censor           False  True \n",
       "study_ipsc_eqtl              \n",
       "0                   45      1\n",
       "1                  197     27"
      ]
     },
     "execution_count": 136,
     "metadata": {},
     "output_type": "execute_result"
    }
   ],
   "source": [
    "pd.crosstab(rna_meta.study_ipsc_eqtl, rna_meta.censor)"
   ]
  },
  {
   "cell_type": "code",
   "execution_count": 137,
   "metadata": {
    "collapsed": false
   },
   "outputs": [],
   "source": [
    "rna_meta = rna_meta[rna_meta.censor == False]\n",
    "rna_meta = rna_meta[rna_meta.study_ipsc_eqtl == 1]\n",
    "rna_meta = rna_meta.reset_index().merge(wgs_meta.reset_index(), on='subject').set_index('index')\n",
    "rna_meta = rna_meta.dropna(subset=['wgs_id'])\n",
    "rna_meta.to_csv(os.path.join(cpy.root, 'data', 'rna_seq_metadata.tsv'), sep='\\t')"
   ]
  },
  {
   "cell_type": "markdown",
   "metadata": {},
   "source": [
    "I'm currently missing WGS data for 11 RNA-seq samples. There are 27 samples that are censored."
   ]
  },
  {
   "cell_type": "markdown",
   "metadata": {},
   "source": [
    "# Gene Counts"
   ]
  },
  {
   "cell_type": "code",
   "execution_count": 138,
   "metadata": {
    "collapsed": false
   },
   "outputs": [],
   "source": [
    "fns = glob.glob(os.path.join('/raid3/projects/CARDIPS/analysis/RNAseq/*XX/cdeboever/'\n",
    "                             'results/*_counts/gene_counts.tsv'))\n",
    "count_fns = []\n",
    "for fn in fns:\n",
    "    s = fn.split(os.path.sep)[-2].split('_')[0]\n",
    "    if s in rna_meta.index:\n",
    "        count_fns.append(fn)"
   ]
  },
  {
   "cell_type": "code",
   "execution_count": 139,
   "metadata": {
    "collapsed": true
   },
   "outputs": [],
   "source": [
    "counts = [pd.read_table(fn, index_col=0, header=None, squeeze=True) for fn in count_fns]\n",
    "sample_names = [fn.split(os.path.sep)[-2].split('_')[0] for fn in count_fns]\n",
    "d = {key: value for (key, value) in zip(sample_names, counts)}\n",
    "counts = pd.DataFrame(d)\n",
    "counts.index.name = 'gene'\n",
    "counts.to_csv(os.path.join(cpy.root, 'data', 'gene_counts.tsv'), sep='\\t')"
   ]
  }
 ],
 "metadata": {
  "kernelspec": {
   "display_name": "Python 2",
   "language": "python",
   "name": "python2"
  },
  "language_info": {
   "codemirror_mode": {
    "name": "ipython",
    "version": 2
   },
   "file_extension": ".py",
   "mimetype": "text/x-python",
   "name": "python",
   "nbconvert_exporter": "python",
   "pygments_lexer": "ipython2",
   "version": "2.7.10"
  }
 },
 "nbformat": 4,
 "nbformat_minor": 0
}
