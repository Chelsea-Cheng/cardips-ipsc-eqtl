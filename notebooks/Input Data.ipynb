{
 "cells": [
  {
   "cell_type": "markdown",
   "metadata": {},
   "source": [
    "This notebook parses some of the CARDiPS files to take only data that we need for this project."
   ]
  },
  {
   "cell_type": "code",
   "execution_count": 6,
   "metadata": {
    "collapsed": false
   },
   "outputs": [],
   "source": [
    "import glob\n",
    "import os\n",
    "import subprocess\n",
    "\n",
    "import cdpybio as cpb\n",
    "import matplotlib.pyplot as plt\n",
    "import numpy as np\n",
    "import pandas as pd\n",
    "import seaborn as sns\n",
    "\n",
    "import ciepy as cpy\n",
    "import projectpy as ppy\n",
    "\n",
    "%matplotlib inline"
   ]
  },
  {
   "cell_type": "code",
   "execution_count": 34,
   "metadata": {
    "collapsed": false
   },
   "outputs": [],
   "source": [
    "array_meta = pd.read_csv(os.path.join(cpy.root, 'data', 'array_metadata.csv'), index_col=-1)\n",
    "wgs_meta = pd.read_table(os.path.join(cpy.root, 'data', 'wgs_metadata.tsv'), index_col=0, \n",
    "                         squeeze=True)\n",
    "wgs_meta.index.name = 'wgs_id'\n",
    "fn = ('/raid3/projects/CARDIPS/pipeline/RNAseq/150512_150522_150527_metadata.tsv')\n",
    "rna_meta = pd.read_table(fn, index_col=0)"
   ]
  },
  {
   "cell_type": "markdown",
   "metadata": {},
   "source": [
    "# Metadata\n",
    "\n",
    "## Subject"
   ]
  },
  {
   "cell_type": "code",
   "execution_count": 41,
   "metadata": {
    "collapsed": true
   },
   "outputs": [],
   "source": [
    "subject_metadata = pd.read_csv(os.path.join(cpy.root, 'data', 'subject_metadata.csv'),\n",
    "                               index_col=-1)\n",
    "conv = pd.Series(subject_metadata.index, index=subject_metadata.Name)\n",
    "for c in ['Father', 'Mother', 'Twin']:\n",
    "    for i in subject_metadata[c].dropna().index:\n",
    "        subject_metadata.ix[i, c] = conv[subject_metadata.ix[i, c]]"
   ]
  },
  {
   "cell_type": "markdown",
   "metadata": {},
   "source": [
    "## RNA"
   ]
  },
  {
   "cell_type": "code",
   "execution_count": 32,
   "metadata": {
    "collapsed": false
   },
   "outputs": [
    {
     "data": {
      "text/html": [
       "<div>\n",
       "<table border=\"1\" class=\"dataframe\">\n",
       "  <thead>\n",
       "    <tr style=\"text-align: right;\">\n",
       "      <th>censor</th>\n",
       "      <th>False</th>\n",
       "      <th>True</th>\n",
       "    </tr>\n",
       "    <tr>\n",
       "      <th>study_ipsc_eqtl</th>\n",
       "      <th></th>\n",
       "      <th></th>\n",
       "    </tr>\n",
       "  </thead>\n",
       "  <tbody>\n",
       "    <tr>\n",
       "      <th>0</th>\n",
       "      <td>44</td>\n",
       "      <td>2</td>\n",
       "    </tr>\n",
       "    <tr>\n",
       "      <th>1</th>\n",
       "      <td>193</td>\n",
       "      <td>31</td>\n",
       "    </tr>\n",
       "  </tbody>\n",
       "</table>\n",
       "</div>"
      ],
      "text/plain": [
       "censor           False  True \n",
       "study_ipsc_eqtl              \n",
       "0                   44      2\n",
       "1                  193     31"
      ]
     },
     "execution_count": 32,
     "metadata": {},
     "output_type": "execute_result"
    }
   ],
   "source": [
    "pd.crosstab(rna_meta.study_ipsc_eqtl, rna_meta.censor)"
   ]
  },
  {
   "cell_type": "code",
   "execution_count": 10,
   "metadata": {
    "collapsed": false
   },
   "outputs": [],
   "source": [
    "rna_meta = rna_meta[rna_meta.censor == False]\n",
    "rna_meta = rna_meta[rna_meta.study_ipsc_eqtl == 1]\n",
    "rna_meta = rna_meta.reset_index().merge(wgs_meta.reset_index(), on='subject').set_index('index')\n",
    "rna_meta = rna_meta.dropna(subset=['wgs_id'])\n",
    "rna_meta.to_csv(os.path.join(cpy.root, 'data', 'rna_seq_metadata.tsv'), sep='\\t')"
   ]
  },
  {
   "cell_type": "markdown",
   "metadata": {},
   "source": [
    "I'm currently missing WGS data for 11 RNA-seq samples. There are 31 samples that are censored."
   ]
  },
  {
   "cell_type": "markdown",
   "metadata": {},
   "source": [
    "# Gene Counts"
   ]
  },
  {
   "cell_type": "code",
   "execution_count": 11,
   "metadata": {
    "collapsed": false
   },
   "outputs": [],
   "source": [
    "fns = glob.glob(os.path.join('/raid3/projects/CARDIPS/pipeline/RNAseq/*XX/cdeboever/'\n",
    "                             'results/*_counts/gene_counts.tsv'))\n",
    "count_fns = []\n",
    "for fn in fns:\n",
    "    s = fn.split(os.path.sep)[-2].split('_')[0]\n",
    "    if s in rna_meta.index:\n",
    "        count_fns.append(fn)"
   ]
  },
  {
   "cell_type": "code",
   "execution_count": 12,
   "metadata": {
    "collapsed": true
   },
   "outputs": [],
   "source": [
    "counts = [pd.read_table(fn, index_col=0, header=None, squeeze=True) for fn in count_fns]\n",
    "sample_names = [fn.split(os.path.sep)[-2].split('_')[0] for fn in count_fns]\n",
    "d = {key: value for (key, value) in zip(sample_names, counts)}\n",
    "counts = pd.DataFrame(d)\n",
    "counts.index.name = 'gene'\n",
    "counts.to_csv(os.path.join(cpy.root, 'data', 'gene_counts.tsv'), sep='\\t')"
   ]
  }
 ],
 "metadata": {
  "kernelspec": {
   "display_name": "Python 2",
   "language": "python",
   "name": "python2"
  },
  "language_info": {
   "codemirror_mode": {
    "name": "ipython",
    "version": 2
   },
   "file_extension": ".py",
   "mimetype": "text/x-python",
   "name": "python",
   "nbconvert_exporter": "python",
   "pygments_lexer": "ipython2",
   "version": "2.7.10"
  }
 },
 "nbformat": 4,
 "nbformat_minor": 0
}
