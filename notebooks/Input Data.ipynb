{
 "cells": [
  {
   "cell_type": "markdown",
   "metadata": {},
   "source": [
    "# Input Data\n",
    "\n",
    "This notebook parses some of the CARDiPS files to take only data that we need for this project. \n",
    "This notebook will only run on the Frazer lab cluster."
   ]
  },
  {
   "cell_type": "code",
   "execution_count": 1,
   "metadata": {
    "collapsed": false
   },
   "outputs": [],
   "source": [
    "import glob\n",
    "import os\n",
    "import subprocess\n",
    "\n",
    "import cdpybio as cpb\n",
    "import matplotlib.pyplot as plt\n",
    "import numpy as np\n",
    "import pandas as pd\n",
    "import seaborn as sns\n",
    "\n",
    "import ciepy\n",
    "import cardipspy as cpy\n",
    "\n",
    "%matplotlib inline"
   ]
  },
  {
   "cell_type": "code",
   "execution_count": 2,
   "metadata": {
    "collapsed": true
   },
   "outputs": [],
   "source": [
    "outdir = os.path.join(ciepy.root, 'output',\n",
    "                      'input_data')\n",
    "cpy.makedir(outdir)\n",
    "\n",
    "private_outdir = os.path.join(ciepy.root, 'private_output',\n",
    "                              'input_data')\n",
    "cpy.makedir(private_outdir)"
   ]
  },
  {
   "cell_type": "code",
   "execution_count": 3,
   "metadata": {
    "collapsed": false
   },
   "outputs": [],
   "source": [
    "fn = ('/raid3/projects/CARDIPS/data/database/inventory_family.tsv')\n",
    "family = pd.read_table(fn, index_col=0)\n",
    "fn = ('/raid3/projects/CARDIPS/data/database/inventory_pedigree.tsv')\n",
    "pedigree = pd.read_table(fn, index_col=0)\n",
    "fn = ('/raid3/projects/CARDIPS/data/database/inventory_rnaseq.tsv')\n",
    "rnaseq = pd.read_table(fn, index_col=0)\n",
    "fn = ('/raid3/projects/CARDIPS/data/database/inventory_sample.tsv')\n",
    "sample = pd.read_table(fn, index_col=0)\n",
    "fn = ('/raid3/projects/CARDIPS/data/database/inventory_sequence.tsv')\n",
    "sequence = pd.read_table(fn, index_col=0)\n",
    "fn = ('/raid3/projects/CARDIPS/data/database/inventory_snparray.tsv')\n",
    "snparray = pd.read_table(fn, index_col=0)\n",
    "fn = ('/raid3/projects/CARDIPS/data/database/inventory_subject.tsv')\n",
    "subject = pd.read_table(fn, index_col=1)\n",
    "fn = ('/raid3/projects/CARDIPS/data/database/inventory_wgs.tsv')\n",
    "wgs = pd.read_table(fn, index_col=0)"
   ]
  },
  {
   "cell_type": "code",
   "execution_count": 4,
   "metadata": {
    "collapsed": true
   },
   "outputs": [],
   "source": [
    "censor = pd.read_table('/raid3/projects/CARDIPS/pipeline/RNAseq/combined_files/censor.tsv',\n",
    "                       index_col=0, header=None, squeeze=True)"
   ]
  },
  {
   "cell_type": "markdown",
   "metadata": {},
   "source": [
    "## Samples for this Study"
   ]
  },
  {
   "cell_type": "code",
   "execution_count": 5,
   "metadata": {
    "collapsed": true
   },
   "outputs": [],
   "source": [
    "# When this assertion isn't true, that means the database will have been updated\n",
    "# so I'll need to update this code.\n",
    "assert snparray.shape[0] == 444\n",
    "\n",
    "tdf = snparray[snparray.cell == 'iPSC']\n",
    "samples222 = (tdf.subject_id + ':C' + tdf.clone.astype(int).astype(str) + \n",
    "              ':P' + tdf.passage.astype(int).astype(str))"
   ]
  },
  {
   "cell_type": "markdown",
   "metadata": {},
   "source": [
    "## Metadata"
   ]
  },
  {
   "cell_type": "code",
   "execution_count": 6,
   "metadata": {
    "collapsed": false
   },
   "outputs": [],
   "source": [
    "snparray = snparray[['subject_id', 'cell', 'array_id', 'pos']]\n",
    "snparray = snparray[snparray.cell != 'iPSC']"
   ]
  },
  {
   "cell_type": "code",
   "execution_count": 7,
   "metadata": {
    "collapsed": false
   },
   "outputs": [],
   "source": [
    "rnaseq = rnaseq[rnaseq.sequence_id.apply(lambda x: x in [6, 7, 8])]\n",
    "rnaseq.ix[censor[censor == True].index, 'status'] = 2\n",
    "rnaseq = rnaseq[rnaseq.status != 2]\n",
    "rnaseq = rnaseq[rnaseq.cell == 'iPSC']"
   ]
  },
  {
   "cell_type": "code",
   "execution_count": 8,
   "metadata": {
    "collapsed": true
   },
   "outputs": [],
   "source": [
    "rnaseq['key'] = (rnaseq.subject_id + ':C' + rnaseq.clone.astype(int).astype(str) + \n",
    "                 ':P' + rnaseq.passage.astype(int).astype(str))\n",
    "rnaseq['in_222'] = rnaseq.key.apply(lambda x: x in samples222.values)"
   ]
  },
  {
   "cell_type": "code",
   "execution_count": 9,
   "metadata": {
    "collapsed": false
   },
   "outputs": [
    {
     "name": "stdout",
     "output_type": "stream",
     "text": [
      "Number of 222 samples that we don't have RNA-seq for (with correct clone and passage): 26.\n"
     ]
    }
   ],
   "source": [
    "n = len(set(samples222) -  set(rnaseq.key))\n",
    "print('Number of 222 samples that we don\\'t have '\n",
    "      'RNA-seq for (with correct clone and passage): '\n",
    "      '{}.'.format(n))"
   ]
  },
  {
   "cell_type": "code",
   "execution_count": 10,
   "metadata": {
    "collapsed": false
   },
   "outputs": [],
   "source": [
    "rnaseq['in_eqtl'] = rnaseq.in_222"
   ]
  },
  {
   "cell_type": "code",
   "execution_count": 11,
   "metadata": {
    "collapsed": false
   },
   "outputs": [
    {
     "data": {
      "text/plain": [
       "{'0bf3da28-3985-4c34-8197-5816fd73b588',\n",
       " 'b9e30469-13ad-4792-878a-889cd6480f91',\n",
       " 'bd04a8cc-5d63-45bc-a2cc-91b0c7cb6e01',\n",
       " 'fbabd331-fc4f-47de-b4d0-a9ee5434fa5b'}"
      ]
     },
     "execution_count": 11,
     "metadata": {},
     "output_type": "execute_result"
    }
   ],
   "source": [
    "set(rnaseq.subject_id) - set(rnaseq.ix[rnaseq.in_eqtl == True, 'subject_id'])"
   ]
  },
  {
   "cell_type": "markdown",
   "metadata": {},
   "source": [
    "There are four subjects for whom we have RNA-seq although the clone/passage number\n",
    "doesn't match up with the arrays. I'll include the data from these samples for these\n",
    "subjects."
   ]
  },
  {
   "cell_type": "code",
   "execution_count": 12,
   "metadata": {
    "collapsed": false
   },
   "outputs": [],
   "source": [
    "for s in set(rnaseq.subject_id) - set(rnaseq.ix[rnaseq.in_eqtl == True, 'subject_id']):\n",
    "    rnaseq.ix[rnaseq[rnaseq.subject_id == s].index[0], 'in_eqtl'] = True\n",
    "rnaseq = rnaseq[['subject_id', 'clone', 'passage', 'sequence_id', 'in_222', 'in_eqtl']]"
   ]
  },
  {
   "cell_type": "code",
   "execution_count": 13,
   "metadata": {
    "collapsed": false
   },
   "outputs": [
    {
     "name": "stdout",
     "output_type": "stream",
     "text": [
      "No WGS: 1c568951-4308-4270-b40a-0380bffe699c\n",
      "No WGS: 2c2697a7-584f-4767-bc64-23a833648e81\n",
      "No WGS: 4ebf16ec-bcdb-47f3-aefe-5e14cd1735d5\n",
      "No WGS: 9809009f-63db-4a16-8fe3-a11a474f896f\n",
      "No WGS: c29ee90a-9cc0-4552-9f76-5d00f9ed0335\n"
     ]
    }
   ],
   "source": [
    "rnaseq['wgs_id'] = ''\n",
    "tdf = wgs[wgs.status == 0]\n",
    "\n",
    "for i in rnaseq.index:\n",
    "    s = rnaseq.ix[i, 'subject_id']\n",
    "    t = tdf[tdf.subject_id == s]\n",
    "    if t.shape[0] == 1:\n",
    "        rnaseq.ix[i, 'wgs_id'] = t.index[0]\n",
    "    elif t.shape[0] > 1:\n",
    "        if 'Blood' in t.cell.values:\n",
    "            t = t[t.cell == 'Blood']\n",
    "        elif 'iPSC' in t.cell.values:\n",
    "            t = t[t.cell == 'iPSC']\n",
    "        if t.shape[0] == 1:\n",
    "            rnaseq.ix[i, 'wgs_id'] = t.index[0]\n",
    "        else:\n",
    "            print('?: {}'.format(i))\n",
    "    else:\n",
    "        print('No WGS: {}'.format(i))\n",
    "        rnaseq.ix[i, 'in_eqtl'] = False\n",
    "\n",
    "rnaseq.ix[rnaseq['wgs_id'] == '', 'wgs_id'] = np.nan"
   ]
  },
  {
   "cell_type": "code",
   "execution_count": 14,
   "metadata": {
    "collapsed": true
   },
   "outputs": [],
   "source": [
    "wgs = wgs.ix[set(rnaseq.wgs_id.dropna()), ['subject_id', 'cell', 'sequence_id']]"
   ]
  },
  {
   "cell_type": "code",
   "execution_count": 20,
   "metadata": {
    "collapsed": true
   },
   "outputs": [],
   "source": [
    "subject = subject.ix[set(rnaseq.subject_id)]\n",
    "subject = subject[['sex', 'age', 'estimated_ethnicity', 'disease', 'family_id', 'father_id', 'mother_id', 'twin_id']]"
   ]
  },
  {
   "cell_type": "code",
   "execution_count": 21,
   "metadata": {
    "collapsed": false
   },
   "outputs": [],
   "source": [
    "snparray.to_csv(os.path.join(outdir, 'array_metadata.tsv'), sep='\\t')\n",
    "rnaseq.to_csv(os.path.join(outdir, 'rnaseq_metadata.tsv'), sep='\\t')\n",
    "subject.to_csv(os.path.join(outdir, 'subject_metadata.tsv'), sep='\\t')\n",
    "wgs.to_csv(os.path.join(outdir, 'wgs_metadata.tsv'), sep='\\t')"
   ]
  },
  {
   "cell_type": "markdown",
   "metadata": {},
   "source": [
    "## RNA-seq Data"
   ]
  },
  {
   "cell_type": "code",
   "execution_count": 17,
   "metadata": {
    "collapsed": false
   },
   "outputs": [],
   "source": [
    "# STAR logs.\n",
    "fn = '/raid3/projects/CARDIPS/pipeline/RNAseq/combined_files/star_logs.tsv'\n",
    "logs = pd.read_table(fn, index_col=0, low_memory=False)\n",
    "logs = logs.ix[rnaseq.index]\n",
    "logs.to_csv(os.path.join(outdir, 'star_logs.tsv'), sep='\\t')"
   ]
  },
  {
   "cell_type": "code",
   "execution_count": 18,
   "metadata": {
    "collapsed": true
   },
   "outputs": [],
   "source": [
    "# Expression values.\n",
    "\"\"\"\n",
    "fn = '/raid3/projects/CARDIPS/pipeline/RNAseq/combined_files/gene_counts.tsv'\n",
    "counts = pd.read_table(fn, index_col=0, low_memory=False)\n",
    "counts = counts[rnaseq.index]\n",
    "counts.to_csv(os.path.join(outdir, 'gene_counts.tsv'), sep='\\t')\n",
    "\n",
    "fn = '/raid3/projects/CARDIPS/pipeline/RNAseq/combined_files/rsem_expected_counts.tsv'\n",
    "ecounts = pd.read_table(fn, index_col=0, low_memory=False)\n",
    "ecounts = ecounts[rnaseq.index]\n",
    "ecounts.to_csv(os.path.join(outdir, 'rsem_expected_counts.tsv'), sep='\\t')\n",
    "\"\"\"\n",
    "fn = '/raid3/projects/CARDIPS/pipeline/RNAseq/combined_files/rsem_tpm.tsv'\n",
    "tpm = pd.read_table(fn, index_col=0, low_memory=False)\n",
    "tpm = tpm[rnaseq.index]\n",
    "tpm.to_csv(os.path.join(outdir, 'rsem_tpm.tsv'), sep='\\t')\n",
    "\"\"\"\n",
    "fn = '/raid3/projects/CARDIPS/pipeline/RNAseq/combined_files/rsem_fpkm.tsv'\n",
    "fpkm = pd.read_table(fn, index_col=0, low_memory=False)\n",
    "fpkm = fpkm[rnaseq.index]\n",
    "fpkm.to_csv(os.path.join(outdir, 'rsem_fpkm.tsv'), sep='\\t')\n",
    "\"\"\";"
   ]
  },
  {
   "cell_type": "code",
   "execution_count": 57,
   "metadata": {
    "collapsed": true
   },
   "outputs": [],
   "source": [
    "# Allele counts.\n",
    "cpy.makedir(os.path.join(private_outdir, 'allele_counts'))\n",
    "fns = glob.glob('/raid3/projects/CARDIPS/pipeline/RNAseq/*/'\n",
    "                'results/*alignment_compare/*_counts.tsv')\n",
    "fns = [x for x in fns if os.path.split(x)[1].split('_')[0] in rnaseq.index]\n",
    "for fn in fns:\n",
    "    new_fn = os.path.join(private_outdir, 'allele_counts', os.path.split(fn)[1])\n",
    "    if not os.path.exists(new_fn):\n",
    "        os.symlink(fn, new_fn)"
   ]
  },
  {
   "cell_type": "code",
   "execution_count": 60,
   "metadata": {
    "collapsed": true
   },
   "outputs": [],
   "source": [
    "fns = glob.glob('/raid3/projects/CARDIPS/pipeline/RNAseq/*/'\n",
    "                'results/*alignment_compare/*_counts.tsv')\n",
    "fns = [os.path.split(x)[1].split('_')[0] for x in fns if os.path.split(x)[1].split('_')[0] in rnaseq.index]\n",
    "\n",
    "fns2 = glob.glob('/raid3/projects/CARDIPS/pipeline/RNAseq/*/results/*mbased/*_locus.tsv')\n",
    "fns2 = [os.path.split(x)[1].split('_')[0] for x in fns2 if os.path.split(x)[1].split('_')[0] in rnaseq.index]"
   ]
  },
  {
   "cell_type": "code",
   "execution_count": 61,
   "metadata": {
    "collapsed": false
   },
   "outputs": [
    {
     "data": {
      "text/plain": [
       "set()"
      ]
     },
     "execution_count": 61,
     "metadata": {},
     "output_type": "execute_result"
    }
   ],
   "source": [
    "set(fns) - set(fns2)"
   ]
  },
  {
   "cell_type": "code",
   "execution_count": 58,
   "metadata": {
    "collapsed": false
   },
   "outputs": [],
   "source": [
    "# MBASED ASE results.\n",
    "cpy.makedir(os.path.join(outdir, 'mbased_locus'))\n",
    "fns = glob.glob('/raid3/projects/CARDIPS/pipeline/RNAseq/*/results/*mbased/*_locus.tsv')\n",
    "fns = [x for x in fns if os.path.split(x)[1].split('_')[0] in rnaseq.index]\n",
    "for fn in fns:\n",
    "    new_fn = os.path.join(outdir, 'mbased_locus', os.path.split(fn)[1])\n",
    "    if not os.path.exists(new_fn):\n",
    "        os.symlink(fn, new_fn)\n",
    "        \n",
    "cpy.makedir(os.path.join(private_outdir, 'mbased_snv'))\n",
    "fns = glob.glob('/raid3/projects/CARDIPS/pipeline/RNAseq/*/results/*mbased/*_snv.tsv')\n",
    "fns = [x for x in fns if os.path.split(x)[1].split('_')[0] in rnaseq.index]\n",
    "for fn in fns:\n",
    "    new_fn = os.path.join(private_outdir, 'mbased_snv', os.path.split(fn)[1])\n",
    "    if not os.path.exists(new_fn):\n",
    "        os.symlink(fn, new_fn)"
   ]
  },
  {
   "cell_type": "markdown",
   "metadata": {},
   "source": [
    "## ATAC-seq Peaks"
   ]
  },
  {
   "cell_type": "code",
   "execution_count": 21,
   "metadata": {
    "collapsed": true
   },
   "outputs": [],
   "source": [
    "cpy.makedir(os.path.join(outdir, 'atac_seq'))\n",
    "samples = ['83dacb11-4180-4807-b099-05fd1561a722',\n",
    "           'e932e556-59a6-4f70-9b4c-ef5f69dac3ce',\n",
    "           'f549b5fa-a6c0-49fb-8a07-dda4f72ff076']\n",
    "for s in samples:\n",
    "    fn = os.path.join('/raid3/projects/CARDIPS/pipeline/ATACseq/'\n",
    "                      'merged/{0}_time_course_day_0_merged_macs2/'\n",
    "                      '{0}_time_course_day_0_merged_peaks.narrowPeak'.format(s))\n",
    "    new_fn = os.path.join(outdir, 'atac_seq', os.path.split(fn)[1])\n",
    "    if not os.path.exists(new_fn):\n",
    "        os.symlink(fn, new_fn)\n",
    "    fn = os.path.join('/raid3/projects/CARDIPS/pipeline/ATACseq/'\n",
    "                      'merged/{0}_time_course_day_0_merged_macs2/'\n",
    "                      '{0}_time_course_day_0_merged_summits.bed'.format(s))\n",
    "    new_fn = os.path.join(outdir, 'atac_seq', os.path.split(fn)[1])\n",
    "    if not os.path.exists(new_fn):\n",
    "        os.symlink(fn, new_fn)"
   ]
  },
  {
   "cell_type": "markdown",
   "metadata": {},
   "source": [
    "## Chain Files\n",
    "\n",
    "I need to convert some mouse coordinates to hg19 and some hg20 coordinates\n",
    "to hg19 as well."
   ]
  },
  {
   "cell_type": "code",
   "execution_count": 26,
   "metadata": {
    "collapsed": true
   },
   "outputs": [],
   "source": [
    "import shutil\n",
    "from urllib2 import urlopen\n",
    "\n",
    "def download_and_gunzip(url, dest):\n",
    "    \"\"\"\n",
    "    Download a gzipped file url to dest and gunzip it.\n",
    "\n",
    "    Parameters\n",
    "    ----------\n",
    "    url : str\n",
    "        URL for gzipped file to download.\n",
    "\n",
    "    dest : str\n",
    "        Full path to save gzipped file to. This file will be gunzipped.\n",
    "\n",
    "    \"\"\"\n",
    "    try:\n",
    "        os.makedirs(os.path.split(dest)[0])\n",
    "    except OSError:\n",
    "        pass\n",
    "    req = urlopen(url)\n",
    "    with open(dest, 'w') as d:\n",
    "        shutil.copyfileobj(req, d)\n",
    "    subprocess.check_call(['gunzip', dest])"
   ]
  },
  {
   "cell_type": "code",
   "execution_count": 27,
   "metadata": {
    "collapsed": false
   },
   "outputs": [],
   "source": [
    "url = 'http://hgdownload.cse.ucsc.edu/goldenPath/mm9/vsHg19/mm9.hg19.all.chain.gz'\n",
    "dest = os.path.join(outdir, 'mm9.hg19.all.chain.gz')\n",
    "if not os.path.exists(dest):\n",
    "    download_and_gunzip(url, dest)\n",
    "url = 'http://hgdownload.cse.ucsc.edu/goldenPath/hg38/liftOver/hg38ToHg19.over.chain.gz'\n",
    "dest = os.path.join(outdir, 'hg38ToHg19.over.chain.gz')\n",
    "if not os.path.exists(dest):\n",
    "    download_and_gunzip(url, dest)"
   ]
  }
 ],
 "metadata": {
  "kernelspec": {
   "display_name": "Python 2",
   "language": "python",
   "name": "python2"
  },
  "language_info": {
   "codemirror_mode": {
    "name": "ipython",
    "version": 2
   },
   "file_extension": ".py",
   "mimetype": "text/x-python",
   "name": "python",
   "nbconvert_exporter": "python",
   "pygments_lexer": "ipython2",
   "version": "2.7.10"
  }
 },
 "nbformat": 4,
 "nbformat_minor": 0
}
