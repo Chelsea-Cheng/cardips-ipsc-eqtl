{
 "cells": [
  {
   "cell_type": "markdown",
   "metadata": {},
   "source": [
    "# GTEx Analysis"
   ]
  },
  {
   "cell_type": "code",
   "execution_count": 3,
   "metadata": {
    "collapsed": true
   },
   "outputs": [],
   "source": [
    "import glob\n",
    "import os\n",
    "\n",
    "import matplotlib.pyplot as plt\n",
    "import numpy as np\n",
    "import pandas as pd\n",
    "import seaborn as sns\n",
    "\n",
    "import ciepy\n",
    "import cardipspy as cpy\n",
    "\n",
    "%matplotlib inline"
   ]
  },
  {
   "cell_type": "code",
   "execution_count": 4,
   "metadata": {
    "collapsed": false
   },
   "outputs": [],
   "source": [
    "gene_info = pd.read_table(cpy.gencode_gene_info, index_col=0)\n",
    "#vsd = pd.read_table(os.path.join(ciepy.root, 'output', 'eqtl_input', 'vst_counts.tsv'), index_col=0)"
   ]
  },
  {
   "cell_type": "code",
   "execution_count": 5,
   "metadata": {
    "collapsed": false
   },
   "outputs": [],
   "source": [
    "# This file has the probability of the SNP being a QTL for each tissue\n",
    "# for the top SNP for that gene. \n",
    "fn = ('/raid3/publicdata/gtex/Multi_tissue_eQTL_GTEx_Pilot_Phase_datasets/'\n",
    "      'res_final_amean_com_genes_com_snps.txt')\n",
    "multi_probs = pd.read_table(fn, index_col=0)"
   ]
  },
  {
   "cell_type": "code",
   "execution_count": 7,
   "metadata": {
    "collapsed": false
   },
   "outputs": [],
   "source": [
    "fns = glob.glob('/raid3/publicdata/gtex/*.eqtl')\n",
    "results = {}\n",
    "for fn in fns:\n",
    "    results[os.path.split(fn)[1].split('.')[0]] = pd.read_table(fn, index_col=0,\n",
    "                                                                low_memory=False)\n",
    "results.pop('Cells_Transformed_fibroblasts');"
   ]
  },
  {
   "cell_type": "code",
   "execution_count": 30,
   "metadata": {
    "collapsed": false
   },
   "outputs": [
    {
     "name": "stdout",
     "output_type": "stream",
     "text": [
      "Number of significant SNPs per tissue\n"
     ]
    },
    {
     "data": {
      "text/plain": [
       "[251022,\n",
       " 69171,\n",
       " 178674,\n",
       " 204124,\n",
       " 240334,\n",
       " 157629,\n",
       " 102469,\n",
       " 193516,\n",
       " 162484,\n",
       " 100935,\n",
       " 249060,\n",
       " 207771,\n",
       " 195110]"
      ]
     },
     "execution_count": 30,
     "metadata": {},
     "output_type": "execute_result"
    }
   ],
   "source": [
    "print('Number of significant SNPs per tissue')\n",
    "[df.shape[0] for df in results.values()]"
   ]
  },
  {
   "cell_type": "code",
   "execution_count": 31,
   "metadata": {
    "collapsed": false
   },
   "outputs": [
    {
     "name": "stdout",
     "output_type": "stream",
     "text": [
      "Number of significant genes per tissue\n"
     ]
    },
    {
     "data": {
      "text/plain": [
       "[2836, 781, 1756, 2244, 2355, 1828, 1085, 1803, 2033, 1122, 2358, 2142, 1996]"
      ]
     },
     "execution_count": 31,
     "metadata": {},
     "output_type": "execute_result"
    }
   ],
   "source": [
    "print('Number of significant genes per tissue')\n",
    "[len(set(df.Gen_ID)) for df in results.values()]"
   ]
  },
  {
   "cell_type": "code",
   "execution_count": 32,
   "metadata": {
    "collapsed": true
   },
   "outputs": [],
   "source": [
    "df = results['Whole_Blood']"
   ]
  },
  {
   "cell_type": "code",
   "execution_count": 33,
   "metadata": {
    "collapsed": false
   },
   "outputs": [],
   "source": [
    "genes = set(df.Gen_ID)\n",
    "for t in results.values():\n",
    "    genes &= set(t.Gen_ID)"
   ]
  },
  {
   "cell_type": "markdown",
   "metadata": {
    "collapsed": true
   },
   "source": [
    "TODO: I'd like to take the probabilities in `multi_prob` and find a SNP/gene pair that is \n",
    "a high probability eQTL (for instance, rs11554825/ENSG00000261338.1 which has a probability\n",
    "one in all tissues). I should test this gene for an eQTL to see if I can see whether that\n",
    "SNP is significant for me."
   ]
  },
  {
   "cell_type": "code",
   "execution_count": 66,
   "metadata": {
    "collapsed": false
   },
   "outputs": [],
   "source": [
    "se = multi_probs.sum(axis=1)\n",
    "se = se[set(se.index) & set(gene_info[gene_info.gene_type == 'protein_coding'].index) & \n",
    "        set(vsd.index)]\n",
    "se.sort(ascending=False)"
   ]
  },
  {
   "cell_type": "code",
   "execution_count": 67,
   "metadata": {
    "collapsed": false
   },
   "outputs": [
    {
     "data": {
      "text/plain": [
       "Index([u'ENSG00000103723.8', u'ENSG00000166896.3', u'ENSG00000110074.6',\n",
       "       u'ENSG00000100376.7', u'ENSG00000203666.8', u'ENSG00000149084.7',\n",
       "       u'ENSG00000214087.4', u'ENSG00000117748.5', u'ENSG00000124587.9',\n",
       "       u'ENSG00000059122.12', u'ENSG00000197958.8', u'ENSG00000240344.4',\n",
       "       u'ENSG00000196655.5', u'ENSG00000142684.7', u'ENSG00000176386.4',\n",
       "       u'ENSG00000165171.6', u'ENSG00000110455.9', u'ENSG00000163041.5',\n",
       "       u'ENSG00000231500.2', u'ENSG00000127399.10'],\n",
       "      dtype='object', name=u'gene')"
      ]
     },
     "execution_count": 67,
     "metadata": {},
     "output_type": "execute_result"
    }
   ],
   "source": [
    "gene_info.ix[se.index].dropna().head(20).index"
   ]
  },
  {
   "cell_type": "code",
   "execution_count": null,
   "metadata": {
    "collapsed": true
   },
   "outputs": [],
   "source": []
  },
  {
   "cell_type": "code",
   "execution_count": null,
   "metadata": {
    "collapsed": true
   },
   "outputs": [],
   "source": []
  }
 ],
 "metadata": {
  "kernelspec": {
   "display_name": "Python 2",
   "language": "python",
   "name": "python2"
  },
  "language_info": {
   "codemirror_mode": {
    "name": "ipython",
    "version": 2
   },
   "file_extension": ".py",
   "mimetype": "text/x-python",
   "name": "python",
   "nbconvert_exporter": "python",
   "pygments_lexer": "ipython2",
   "version": "2.7.10"
  }
 },
 "nbformat": 4,
 "nbformat_minor": 0
}
