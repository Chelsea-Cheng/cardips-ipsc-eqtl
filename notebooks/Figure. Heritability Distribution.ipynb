{
 "cells": [
  {
   "cell_type": "markdown",
   "metadata": {},
   "source": [
    "# Figure. Heritability Distribution"
   ]
  },
  {
   "cell_type": "code",
   "execution_count": 1,
   "metadata": {
    "collapsed": true
   },
   "outputs": [],
   "source": [
    "import cPickle\n",
    "import glob\n",
    "import os\n",
    "import random\n",
    "import subprocess\n",
    "\n",
    "import cdpybio as cpb\n",
    "from ipyparallel import Client\n",
    "import matplotlib as mpl\n",
    "import matplotlib.gridspec as gridspec\n",
    "import matplotlib.pyplot as plt\n",
    "import numpy as np\n",
    "import pandas as pd\n",
    "import pybedtools as pbt\n",
    "from scipy.stats import fisher_exact\n",
    "import seaborn as sns\n",
    "import tabix\n",
    "import vcf as pyvcf\n",
    "import weblogolib as logo\n",
    "\n",
    "import cardipspy as cpy\n",
    "import ciepy\n",
    "\n",
    "%matplotlib inline\n",
    "%load_ext rpy2.ipython\n",
    "\n",
    "dy_name = 'figure_heritability_distribution'\n",
    "\n",
    "import socket\n",
    "if socket.gethostname() == 'fl-hn1' or socket.gethostname() == 'fl-hn2':\n",
    "    dy = os.path.join(ciepy.root, 'sandbox', dy_name)\n",
    "    cpy.makedir(dy)\n",
    "    pbt.set_tempdir(dy)\n",
    "    \n",
    "outdir = os.path.join(ciepy.root, 'output', dy_name)\n",
    "cpy.makedir(outdir)\n",
    "\n",
    "private_outdir = os.path.join(ciepy.root, 'private_output', dy_name)\n",
    "cpy.makedir(private_outdir)"
   ]
  },
  {
   "cell_type": "code",
   "execution_count": 2,
   "metadata": {
    "collapsed": true
   },
   "outputs": [],
   "source": [
    "gene_info = pd.read_table(cpy.gencode_gene_info, index_col=0)\n",
    "\n",
    "dy = os.path.join(ciepy.root, 'output/eqtl_processing/eqtls01')\n",
    "fn = os.path.join(dy, 'qvalues.tsv')\n",
    "qvalues = pd.read_table(fn, index_col=0)\n",
    "\n",
    "fn = '/projects/CARDIPS/analysis/cardips-ipsc-eqtl/output/eqtl_processing/no_peer_no_std_norm01/h2.tsv'\n",
    "h2 = pd.read_table(fn, index_col=0, header=None, squeeze=True)\n",
    "\n",
    "fn = os.path.join(ciepy.root, 'output', 'input_data', 'rsem_tpm.tsv')\n",
    "exp = pd.read_table(fn, index_col=0)"
   ]
  },
  {
   "cell_type": "code",
   "execution_count": 3,
   "metadata": {
    "collapsed": true
   },
   "outputs": [],
   "source": [
    "sns.set_style('whitegrid')"
   ]
  },
  {
   "cell_type": "code",
   "execution_count": 4,
   "metadata": {
    "collapsed": false
   },
   "outputs": [
    {
     "name": "stdout",
     "output_type": "stream",
     "text": [
      "Median h2 for all genes: 0.38732\n",
      "Median h2 for eGenes: 0.443164\n"
     ]
    }
   ],
   "source": [
    "n = h2.median()\n",
    "print('Median h2 for all genes: {}'.format(n))\n",
    "n = h2.ix[qvalues[qvalues.perm_sig].index].median()\n",
    "print('Median h2 for eGenes: {}'.format(n))"
   ]
  },
  {
   "cell_type": "code",
   "execution_count": 5,
   "metadata": {
    "collapsed": false
   },
   "outputs": [
    {
     "name": "stderr",
     "output_type": "stream",
     "text": [
      "/frazer01/home/cdeboever/software/anaconda/envs/cie/lib/python2.7/site-packages/matplotlib/gridspec.py:302: UserWarning: This figure includes Axes that are not compatible with tight_layout, so its results might be incorrect.\n",
      "  warnings.warn(\"This figure includes Axes that are not \"\n"
     ]
    },
    {
     "data": {
      "image/png": "[encoded data removed]",
      "text/plain": [
       "<matplotlib.figure.Figure at 0x7fcb15407650>"
      ]
     },
     "metadata": {},
     "output_type": "display_data"
    }
   ],
   "source": [
    "fig = plt.figure(figsize=(4.48, 3), dpi=300)\n",
    "\n",
    "gs = gridspec.GridSpec(1, 1)\n",
    "ax = fig.add_subplot(gs[0, 0])\n",
    "ax.text(0, 1, 'Figure S4',\n",
    "        size=16, va='top')\n",
    "ciepy.clean_axis(ax)\n",
    "ax.set_xticks([])\n",
    "ax.set_yticks([])\n",
    "gs.tight_layout(fig, rect=[0, 0.8, 0.5, 1])\n",
    "\n",
    "\n",
    "gs = gridspec.GridSpec(1, 2, width_ratios=[4, 1])\n",
    "ax = fig.add_subplot(gs[0, 0])\n",
    "h2.hist(bins=100, ax=ax)\n",
    "for t in ax.get_xticklabels() + ax.get_yticklabels():\n",
    "    t.set_fontsize(8)\n",
    "ax.set_xlabel('$h^2$', fontsize=8)\n",
    "ax.set_ylabel('Number of genes', fontsize=8)\n",
    "ax.yaxis.set_major_formatter(ciepy.comma_format)\n",
    "gs.tight_layout(fig, rect=[0, 0, 1, 0.9])\n",
    "\n",
    "fig.savefig(os.path.join(outdir, 'h2_distribution.pdf'))\n",
    "fig.savefig(os.path.join(outdir, 'h2_distribution.png'), dpi=300)"
   ]
  },
  {
   "cell_type": "markdown",
   "metadata": {
    "collapsed": true
   },
   "source": [
    "EMMAX provides an estimate of the heritability for each gene that represents the fraction of variance in expression explained by the overall genetic relatedness of the different subjects. We reran EMMAX for each gene using log TPM expression estimates with only batch, sex, and age as covariates and found that the median h2 was 39% and 44% for all genes and eGenes respectively (Figure S4).\n",
    "\n",
    "Figure S4. EMMAX heritability estimates. Distribution of gene expression heritability estimates from EMMAX using log RSEM transcripts per million (TPM) values with only batch, sex, and age as covariates. The EMMAX heritability estimates are [finish]\n",
    "\n",
    "The lead variants for these four genes explained 18%, 11%, 6%, and 19% of the variance in gene expression in a model using log TPM values with only batch, sex, and age as covariates although the heritability estimates for these four genes under this model were 80%, 72%, 67%, and 80% respectively, indicating that these genes’ expression are strongly affected by both cis and trans variants."
   ]
  }
 ],
 "metadata": {
  "kernelspec": {
   "display_name": "Environment (cie)",
   "language": "",
   "name": "cie"
  },
  "language_info": {
   "codemirror_mode": {
    "name": "ipython",
    "version": 2
   },
   "file_extension": ".py",
   "mimetype": "text/x-python",
   "name": "python",
   "nbconvert_exporter": "python",
   "pygments_lexer": "ipython2",
   "version": "2.7.11"
  }
 },
 "nbformat": 4,
 "nbformat_minor": 0
}
