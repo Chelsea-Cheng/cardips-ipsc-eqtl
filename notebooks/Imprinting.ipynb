{
 "cells": [
  {
   "cell_type": "markdown",
   "metadata": {},
   "source": [
    "# Imprinting\n",
    "\n",
    "I'd like to look at imprinting."
   ]
  },
  {
   "cell_type": "code",
   "execution_count": 1,
   "metadata": {
    "collapsed": false
   },
   "outputs": [
    {
     "name": "stderr",
     "output_type": "stream",
     "text": [
      "/frazer01/home/cdeboever/software/anaconda/envs/cie/lib/python2.7/site-packages/matplotlib/__init__.py:872: UserWarning: axes.color_cycle is deprecated and replaced with axes.prop_cycle; please use the latter.\n",
      "  warnings.warn(self.msg_depr % (key, alt_key))\n"
     ]
    }
   ],
   "source": [
    "import cPickle\n",
    "import datetime\n",
    "import glob\n",
    "import os\n",
    "import random\n",
    "import re\n",
    "import subprocess\n",
    "\n",
    "import cdpybio as cpb\n",
    "import matplotlib.gridspec as gridspec\n",
    "import matplotlib.pyplot as plt\n",
    "import numpy as np\n",
    "import pandas as pd\n",
    "pd.options.mode.chained_assignment = None  # default='warn'\n",
    "import pybedtools as pbt\n",
    "import scipy.stats as stats\n",
    "import seaborn as sns\n",
    "import statsmodels.api as sm\n",
    "import statsmodels.formula.api as smf\n",
    "import vcf as pyvcf\n",
    "\n",
    "import cardipspy as cpy\n",
    "import ciepy\n",
    "\n",
    "%matplotlib inline\n",
    "\n",
    "import socket\n",
    "if socket.gethostname() == 'fl-hn1' or socket.gethostname() == 'fl-hn2':\n",
    "    pbt.set_tempdir('/frazer01/home/cdeboever/tmp')\n",
    "    \n",
    "outdir = os.path.join(ciepy.root, 'output',\n",
    "                      'imprinting')\n",
    "cpy.makedir(outdir)\n",
    "\n",
    "private_outdir = os.path.join(ciepy.root, 'private_output',\n",
    "                              'imprinting')\n",
    "cpy.makedir(private_outdir)"
   ]
  },
  {
   "cell_type": "code",
   "execution_count": 2,
   "metadata": {
    "collapsed": true
   },
   "outputs": [],
   "source": [
    "fn = os.path.join(ciepy.root, 'output', 'input_data', 'rsem_tpm.tsv')\n",
    "tpm = pd.read_table(fn, index_col=0)\n",
    "fn = os.path.join(ciepy.root, 'output', 'input_data', 'rnaseq_metadata.tsv')\n",
    "rna_meta = pd.read_table(fn, index_col=0)\n",
    "fn = os.path.join(ciepy.root, 'output', 'input_data', 'subject_metadata.tsv')\n",
    "subject_meta = pd.read_table(fn, index_col=0)\n",
    "fn = os.path.join(ciepy.root, 'output', 'input_data', 'wgs_metadata.tsv')\n",
    "wgs_meta = pd.read_table(fn, index_col=0)\n",
    "\n",
    "gene_info = pd.read_table(cpy.gencode_gene_info, index_col=0)\n",
    "\n",
    "genes = pbt.BedTool(cpy.gencode_gene_bed)"
   ]
  },
  {
   "cell_type": "code",
   "execution_count": 3,
   "metadata": {
    "collapsed": true
   },
   "outputs": [],
   "source": [
    "fn = os.path.join(ciepy.root, 'output', 'input_data', \n",
    "                  'mbased_major_allele_freq.tsv')\n",
    "maj_af = pd.read_table(fn, index_col=0)\n",
    "\n",
    "fn = os.path.join(ciepy.root, 'output', 'input_data', \n",
    "                  'mbased_p_val_ase.tsv')\n",
    "ase_pval = pd.read_table(fn, index_col=0)\n",
    "\n",
    "locus_p = pd.Panel({'major_allele_freq':maj_af, 'p_val_ase':ase_pval})\n",
    "locus_p = locus_p.swapaxes(0, 2)\n",
    "\n",
    "snv_fns = glob.glob(os.path.join(ciepy.root, 'private_output', 'input_data', 'mbased_snv',\n",
    "                                 '*_snv.tsv'))\n",
    "count_fns = glob.glob(os.path.join(ciepy.root, 'private_output', 'input_data', 'allele_counts',\n",
    "                                   '*mbased_input.tsv'))\n",
    "\n",
    "snv_res = {}\n",
    "for fn in snv_fns:\n",
    "    snv_res[os.path.split(fn)[1].split('_')[0]] = pd.read_table(fn, index_col=0)\n",
    "    \n",
    "count_res = {}\n",
    "for fn in count_fns:\n",
    "    count_res[os.path.split(fn)[1].split('_')[0]] = pd.read_table(fn, index_col=0)\n",
    "\n",
    "snv_p = pd.Panel(snv_res)"
   ]
  },
  {
   "cell_type": "markdown",
   "metadata": {},
   "source": [
    "## Imprinted Genes\n",
    "\n",
    "I'll get some known imprinted genes."
   ]
  },
  {
   "cell_type": "code",
   "execution_count": 4,
   "metadata": {
    "collapsed": false
   },
   "outputs": [],
   "source": [
    "# I'm going to get the imprinted genes from geneimprint.com. I'll then update this table\n",
    "# based on the results of Babak et al. 2015 (http://www.ncbi.nlm.nih.gov/pubmed/258487520).\n",
    "\n",
    "geneimprint = pd.read_html('http://www.geneimprint.com/site/genes-by-species.Homo+sapiens')[0]\n",
    "geneimprint.columns = geneimprint.ix[0]\n",
    "geneimprint = geneimprint.drop(0)\n",
    "geneimprint = geneimprint[(geneimprint.Status != 'Not Imprinted') & \n",
    "                          (geneimprint.Status != 'Unknown')]\n",
    "\n",
    "# Human imprinted genes from Babak. The values in babak_cs are their \"combined scores.\"\n",
    "# I believe a combined score of greater than zero is evidence for imprinting so I'll\n",
    "# keep those genes whose average CS is greater than zero. I think I need to ask the authors\n",
    "# exactly which genes are imprinted.\n",
    "babak_cs = pd.read_excel('http://www.nature.com/ng/journal/v47/n5/extref/ng.3274-S11.xlsx',\n",
    "                         sheetname='SuppFile_5', skiprows=213, skip_footer=503-309, index_col=0)\n",
    "babak_cs = babak_cs[babak_cs.mean(axis=1) > 0]\n",
    "# babak_a = pd.read_excel('http://www.nature.com/ng/journal/v47/n5/extref/ng.3274-S11.xlsx',\n",
    "#                         sheetname='SuppFile_5', skiprows=19, skip_footer=503-115, index_col=0)"
   ]
  },
  {
   "cell_type": "code",
   "execution_count": 5,
   "metadata": {
    "collapsed": false
   },
   "outputs": [
    {
     "name": "stdout",
     "output_type": "stream",
     "text": [
      "Dropping 33 genes\n"
     ]
    }
   ],
   "source": [
    "ind = []\n",
    "drop = []\n",
    "for i in geneimprint.index:\n",
    "    name = geneimprint.ix[i, 'Gene'].strip('*')\n",
    "    tdf = gene_info[gene_info.gene_name == name]\n",
    "    if tdf.shape[0] == 1:\n",
    "        ind.append(tdf.index[0])\n",
    "    else:\n",
    "        names = []\n",
    "        if type(geneimprint.ix[i, 'Aliases']) == unicode:\n",
    "            names += [x.strip() for x in geneimprint.ix[i, 'Aliases'].split(',')]\n",
    "        tdf = gene_info[gene_info.gene_name.apply(lambda x: x in names)].drop_duplicates()\n",
    "        if tdf.shape[0] == 1:\n",
    "            ind.append(tdf.index[0])\n",
    "        else:\n",
    "            drop.append(i)\n",
    "print('Dropping {} genes'.format(len(drop)))\n",
    "geneimprint_f = geneimprint.drop(drop)\n",
    "geneimprint_f.index = ind"
   ]
  },
  {
   "cell_type": "markdown",
   "metadata": {},
   "source": [
    "TODO: I may want to try to convert more of the genes from geneimprint. I can use mygene.info:\n",
    "\n",
    "    import mygene\n",
    "    mg = mygene.MyGeneInfo()\n",
    "    res = mg.query('symbol:HYMAI', species='human')"
   ]
  },
  {
   "cell_type": "code",
   "execution_count": 6,
   "metadata": {
    "collapsed": false
   },
   "outputs": [
    {
     "name": "stdout",
     "output_type": "stream",
     "text": [
      "Dropping 7 genes\n"
     ]
    }
   ],
   "source": [
    "ind = []\n",
    "drop = []\n",
    "for i in babak_cs.index:\n",
    "    tdf = gene_info[gene_info.gene_name == i.strip('-new')]\n",
    "    if tdf.shape[0] == 1:\n",
    "        ind.append(tdf.index[0])\n",
    "    else:\n",
    "        drop.append(i)\n",
    "print('Dropping {} genes'.format(len(drop)))\n",
    "babak_cs = babak_cs.drop(drop)\n",
    "babak_cs.index = ind"
   ]
  },
  {
   "cell_type": "code",
   "execution_count": 7,
   "metadata": {
    "collapsed": false
   },
   "outputs": [
    {
     "name": "stdout",
     "output_type": "stream",
     "text": [
      "36 genes overlap between Babak (n=53) and geneimprint (n=199)\n"
     ]
    }
   ],
   "source": [
    "n = len(set(babak_cs.index) & set(geneimprint_f.index))\n",
    "print('{} genes overlap between Babak (n={}) and geneimprint (n={})'.format(n, babak_cs.shape[0],\n",
    "                                                                            geneimprint_f.shape[0]))"
   ]
  },
  {
   "cell_type": "code",
   "execution_count": 8,
   "metadata": {
    "collapsed": true
   },
   "outputs": [],
   "source": [
    "igenes = geneimprint_f.drop(['Gene', 'Aliases', 'Location'], axis=1)\n",
    "igenes.columns = [c.replace(' ', '_').lower() for c in igenes.columns]"
   ]
  },
  {
   "cell_type": "code",
   "execution_count": 9,
   "metadata": {
    "collapsed": false
   },
   "outputs": [],
   "source": [
    "igenes = geneimprint_f.drop(['Gene', 'Aliases', 'Location'], axis=1)\n",
    "igenes.columns = ['status', 'expressed_allele']\n",
    "t = pd.DataFrame(index=set(babak_cs.index) - set(igenes.index), \n",
    "                 columns=['status', 'expressed_allele'])\n",
    "igenes = pd.concat([igenes, t])\n",
    "igenes['babak'] = False\n",
    "igenes.ix[babak_cs.index, 'babak'] = True"
   ]
  },
  {
   "cell_type": "markdown",
   "metadata": {},
   "source": [
    "## ASE\n",
    "\n",
    "Are imprinted genes enriched for having ASE?"
   ]
  },
  {
   "cell_type": "code",
   "execution_count": 10,
   "metadata": {
    "collapsed": false
   },
   "outputs": [],
   "source": [
    "t = locus_p.ix[:, :, 'p_val_ase']\n",
    "t_igenes = t.ix[set(t.index) & set(igenes.index) - set(gene_info[gene_info.chrom == 'chrX'].index)]\n",
    "t_igenes = t_igenes[t_igenes.isnull().sum(axis=1) / t_igenes.shape[1] < 0.5]\n",
    "t_not_igenes = t.ix[set(t.index) - set(igenes.index) - set(gene_info[gene_info.chrom == 'chrX'].index)]\n",
    "t_not_igenes = t_not_igenes[t_not_igenes.isnull().sum(axis=1) / t_not_igenes.shape[1] < 0.5]"
   ]
  },
  {
   "cell_type": "code",
   "execution_count": 12,
   "metadata": {
    "collapsed": false
   },
   "outputs": [
    {
     "name": "stdout",
     "output_type": "stream",
     "text": [
      "Average number of significant ASE samples per gene for 55 imprinted genes: 12.46%.\n",
      "Average number of significant ASE samples per gene for 5419 non-imprinted genes: 3.08%.\n"
     ]
    }
   ],
   "source": [
    "a = (t_igenes < 0.005).sum() / (t_igenes.isnull() == False).sum()\n",
    "b = (t_not_igenes < 0.005).sum() / (t_not_igenes.isnull() == False).sum()\n",
    "print('Average number of significant ASE samples per gene ' \n",
    "      'for {} imprinted genes: {:.2f}%.'.format(t_igenes.shape[0], a.mean() * 100))\n",
    "print('Average number of significant ASE samples per gene ' \n",
    "      'for {} non-imprinted genes: {:.2f}%.'.format(t_not_igenes.shape[0], b.mean() * 100))"
   ]
  },
  {
   "cell_type": "code",
   "execution_count": 15,
   "metadata": {
    "collapsed": false
   },
   "outputs": [
    {
     "name": "stdout",
     "output_type": "stream",
     "text": [
      "The average number of samples with ASE is significantly different between imprinted and non-imprinted genes with p=4.791e-79.\n"
     ]
    }
   ],
   "source": [
    "r = stats.mannwhitneyu(a, b)\n",
    "print('The average number of samples with ASE is significantly '\n",
    "      'different between imprinted and non-imprinted genes with p={:.3e}.'.format(r.pvalue))"
   ]
  },
  {
   "cell_type": "code",
   "execution_count": 16,
   "metadata": {
    "collapsed": true
   },
   "outputs": [],
   "source": [
    "log_tpm = np.log10(tpm + tpm[tpm > 0].min().min())"
   ]
  },
  {
   "cell_type": "code",
   "execution_count": 17,
   "metadata": {
    "collapsed": false
   },
   "outputs": [
    {
     "name": "stdout",
     "output_type": "stream",
     "text": [
      "The average TPM expression between the imprinted and non-imprinted genes is comparable p=0.49.\n"
     ]
    }
   ],
   "source": [
    "r = stats.mannwhitneyu(log_tpm.ix[t_not_igenes.index].mean(axis=1), log_tpm.ix[t_igenes.index].mean(axis=1))\n",
    "print('The average TPM expression between the imprinted and non-imprinted genes is comparable '\n",
    "      'p={:.2f}.'.format(r.pvalue))"
   ]
  },
  {
   "cell_type": "markdown",
   "metadata": {},
   "source": [
    "## CARDiPS Trios and Phasing\n",
    "\n",
    "I can find CARDiPS subjects for which we have WGS for both parents so that I can \n",
    "accurately assign parental haplotypes."
   ]
  },
  {
   "cell_type": "code",
   "execution_count": 18,
   "metadata": {
    "collapsed": false
   },
   "outputs": [
    {
     "name": "stdout",
     "output_type": "stream",
     "text": [
      "24 trio children\n"
     ]
    }
   ],
   "source": [
    "# I'll keep children where we have WGS data for both parents and RNA-seq data for the child.\n",
    "trio_child = subject_meta.dropna(subset=['father_id', 'mother_id'])\n",
    "trio_child = trio_child[trio_child.father_id.apply(lambda x: x in wgs_meta.subject_id.values)]\n",
    "trio_child = trio_child[trio_child.mother_id.apply(lambda x: x in wgs_meta.subject_id.values)]\n",
    "trio_child = trio_child[[x in rna_meta.subject_id.values for x in trio_child.index]]\n",
    "print('{} trio children'.format(trio_child.shape[0]))"
   ]
  },
  {
   "cell_type": "markdown",
   "metadata": {},
   "source": [
    "Let's filter the imprinted genes to those where we estimated ASE in at \n",
    "least one trio child."
   ]
  },
  {
   "cell_type": "code",
   "execution_count": 19,
   "metadata": {
    "collapsed": true
   },
   "outputs": [],
   "source": [
    "trio_child['wgs_id'] = [wgs_meta[wgs_meta.subject_id == x].index[0] for x in trio_child.index]\n",
    "trio_child['father_wgs_id'] = [wgs_meta[wgs_meta.subject_id == x].index[0] for x in trio_child.father_id]\n",
    "trio_child['mother_wgs_id'] = [wgs_meta[wgs_meta.subject_id == x].index[0] for x in trio_child.mother_id]\n",
    "def get_rna_sample(sid):\n",
    "    tdf = rna_meta[rna_meta.subject_id == sid]\n",
    "    if tdf.shape[0] == 1:\n",
    "        rna_sample = tdf.index[0]\n",
    "    elif tdf[tdf.in_eqtl].shape[0] == 1:\n",
    "        rna_sample = tdf[tdf.in_eqtl].index[0]\n",
    "    elif tdf[tdf.in_222].shape[0] == 1:\n",
    "        rna_sample = tdf[tdf.in_22].index[0]\n",
    "    else:\n",
    "        rna_sample = np.nan\n",
    "    return rna_sample\n",
    "trio_child['rna_id'] = [get_rna_sample(x) for x in trio_child.index]"
   ]
  },
  {
   "cell_type": "code",
   "execution_count": 20,
   "metadata": {
    "collapsed": true
   },
   "outputs": [],
   "source": [
    "trio_child_ase_pval = ase_pval[trio_child.rna_id]\n",
    "igenes_f = igenes.ix[set(igenes.index) & set(trio_child_ase_pval.index)]\n",
    "trio_child_ase_pval = trio_child_ase_pval.ix[igenes_f.index]\n",
    "trio_child_ase_pval = trio_child_ase_pval.ix[set(trio_child_ase_pval.index) - \n",
    "                                             set(gene_info[gene_info.chrom == 'chrX'].index)]"
   ]
  },
  {
   "cell_type": "code",
   "execution_count": 21,
   "metadata": {
    "collapsed": false
   },
   "outputs": [],
   "source": [
    "def imprinting_analysis(child, gene_id):\n",
    "    # Make data frame with SNV-level results for this sample and gene.\n",
    "    snv_df = snv_p.ix[trio_child.ix[child, 'rna_id']]\n",
    "    snv_df = snv_df[snv_df.locus == gene_id]\n",
    "\n",
    "    # Let's get a 1MB region centered on the gene and get all variants in this\n",
    "    # region. We'll look for variants that are het in the child and homozygous\n",
    "    # alt/ref in the parents so we can determine the parental haplotype.\n",
    "    chrom = gene_info.ix[gene_id, 'chrom']\n",
    "    start = gene_info.ix[gene_id, 'start']\n",
    "    end = gene_info.ix[gene_id, 'end']\n",
    "    slop = (1000000 - (end - start)) / 2\n",
    "    bt = pbt.BedTool('{}\\t{}\\t{}'.format(chrom, start, end), from_string=True)\n",
    "    bt = bt.slop(b=slop, g=pbt.genome_registry.hg19)\n",
    "    df = bt.to_dataframe()\n",
    "    if df.ix[0, 'end'] - df.ix[0, 'start'] != 1000000:\n",
    "        if df.ix[0, 'start'] == 0:\n",
    "            bt = bt.slop(l=0, r=1000000 - (df.ix[0, 'end'] - df.ix[0, 'start']), \n",
    "                         g=pbt.genome_registry.hg19)\n",
    "            df = bt.to_dataframe()\n",
    "        else:\n",
    "            bt = bt.slop(r=0, l=1000000 - (df.ix[0, 'end'] - df.ix[0, 'start']), \n",
    "                         g=pbt.genome_registry.hg19)\n",
    "            df = bt.to_dataframe()\n",
    "    start = df.ix[0, 'start']\n",
    "    end = df.ix[0, 'end']\n",
    "    os.remove(bt.fn)\n",
    "\n",
    "    fn = ('/projects/CARDIPS/pipeline/WGS/mergedVCF/phased_20151214/'\n",
    "          'CARDIPS_{}_phased.vcf.gz'.format(gene_info.ix[gene_id, 'chrom']))\n",
    "    vcf_reader = pyvcf.Reader(open(fn))\n",
    "    res = vcf_reader.fetch(gene_info.ix[gene_id, 'chrom'][3:], start, end)\n",
    "\n",
    "    variants = []\n",
    "    for r in res:\n",
    "        g = r.genotype(trio_child.ix[child, 'wgs_id'])\n",
    "        if g.called and g.is_het:\n",
    "            mg = r.genotype(trio_child.ix[child, 'mother_wgs_id'])\n",
    "            fg = r.genotype(trio_child.ix[child, 'father_wgs_id'])\n",
    "            if mg.called and fg.called:\n",
    "                if set(mg.gt_alleles) == set('0') and set(fg.gt_alleles) == set('1'):\n",
    "                    variants.append(r)\n",
    "                elif set(mg.gt_alleles) == set('1') and set(fg.gt_alleles) == set('0'):\n",
    "                    variants.append(r)\n",
    "\n",
    "    left_hap_father = 0\n",
    "    for r in variants:\n",
    "        g = r.genotype(trio_child.ix[child, 'wgs_id'])\n",
    "        fg = r.genotype(trio_child.ix[child, 'father_wgs_id'])\n",
    "        if g.gt_alleles[0] == fg.gt_alleles[0]:\n",
    "            left_hap_father += 1\n",
    "\n",
    "    if left_hap_father > len(variants) / 2:\n",
    "        father_hap = 0\n",
    "    else:\n",
    "        father_hap = 1\n",
    "\n",
    "    snv_df.loc[:, 'preference'] = ''\n",
    "    for i in snv_df.index:\n",
    "        r = vcf_reader.fetch(gene_info.ix[gene_id, 'chrom'][3:], snv_df.ix[i, 'position'])\n",
    "        g = r.genotype(trio_child.ix[child, 'wgs_id'])\n",
    "        if snv_df.ix[i, 'ref_is_major'] and g.gt_alleles[father_hap] == '0':\n",
    "            snv_df.loc[i, 'preference'] = 'paternal'\n",
    "        elif snv_df.ix[i, 'ref_is_major'] and g.gt_alleles[father_hap] == '1':\n",
    "            snv_df.loc[i, 'preference'] = 'maternal'\n",
    "        elif snv_df.ix[i, 'ref_is_major'] == False and g.gt_alleles[father_hap] == '0':\n",
    "            snv_df.loc[i, 'preference'] = 'maternal'\n",
    "        elif snv_df.ix[i, 'ref_is_major'] == False and g.gt_alleles[father_hap] == '1':\n",
    "            snv_df.loc[i, 'preference'] = 'paternal'\n",
    "        else:\n",
    "            print('problem for {}'.format(i))\n",
    "#     vc = snv_df.preference.value_counts()\n",
    "#     if vc.shape[0] == 1:\n",
    "#         preference = vc.index[0]\n",
    "#     if vc.shape[0] == 2:\n",
    "#         if vc['maternal'] == vc['paternal']:\n",
    "#             preference = 'unknown'\n",
    "#         else:\n",
    "#             prefernce = vc.index[0]\n",
    "    return (gene_id, child, ase_pval.ix[gene_id, trio_child.ix[child, 'rna_id']], snv_df)"
   ]
  },
  {
   "cell_type": "raw",
   "metadata": {},
   "source": [
    "gene_id = 'ENSG00000214548.10'\n",
    "se = trio_child_ase_pval.ix[gene_id].dropna()\n",
    "child = trio_child[trio_child.rna_id == se.index[0]].index[0]\n",
    "t = imprinting_analysis(child, gene_id)"
   ]
  },
  {
   "cell_type": "code",
   "execution_count": 22,
   "metadata": {
    "collapsed": false
   },
   "outputs": [
    {
     "name": "stdout",
     "output_type": "stream",
     "text": [
      "Cluster has 20 engines.\n"
     ]
    }
   ],
   "source": [
    "from ipyparallel import Client\n",
    "parallel_client = Client()\n",
    "dview = parallel_client[:]\n",
    "print('Cluster has {} engines.'.format(len(parallel_client.ids)))"
   ]
  },
  {
   "cell_type": "code",
   "execution_count": 23,
   "metadata": {
    "collapsed": false
   },
   "outputs": [
    {
     "name": "stdout",
     "output_type": "stream",
     "text": [
      "importing cdpybio on engine(s)\n",
      "importing cardipspy on engine(s)\n",
      "importing pybedtools on engine(s)\n",
      "importing os on engine(s)\n",
      "importing vcf on engine(s)\n"
     ]
    }
   ],
   "source": [
    "with dview.sync_imports():\n",
    "    import cdpybio\n",
    "    import cardipspy\n",
    "    import pybedtools\n",
    "    import os\n",
    "    import vcf"
   ]
  },
  {
   "cell_type": "code",
   "execution_count": 24,
   "metadata": {
    "collapsed": false
   },
   "outputs": [],
   "source": [
    "%px cpb = cdpybio\n",
    "%px cpy = cardipspy\n",
    "%px pbt = pybedtools\n",
    "%px pyvcf = vcf"
   ]
  },
  {
   "cell_type": "code",
   "execution_count": 25,
   "metadata": {
    "collapsed": true
   },
   "outputs": [],
   "source": [
    "dview.push(dict(imprinting_analysis=imprinting_analysis, snv_p=snv_p, \n",
    "                gene_info=gene_info, trio_child=trio_child, ase_pval=ase_pval));"
   ]
  },
  {
   "cell_type": "code",
   "execution_count": 40,
   "metadata": {
    "collapsed": true
   },
   "outputs": [],
   "source": [
    "pairs = []\n",
    "for gene_id in trio_child_ase_pval.index:\n",
    "    se = trio_child_ase_pval.ix[gene_id].dropna()\n",
    "    for rna_id in se.index:\n",
    "        child = trio_child[trio_child.rna_id == rna_id].index[0]\n",
    "        pairs.append((child, gene_id))"
   ]
  },
  {
   "cell_type": "code",
   "execution_count": 41,
   "metadata": {
    "collapsed": true
   },
   "outputs": [],
   "source": [
    "def chunks(l, n):\n",
    "    \"\"\"Yield successive n-sized chunks from l.\"\"\"\n",
    "    for i in xrange(0, len(l), n):\n",
    "        yield l[i:i+n]"
   ]
  },
  {
   "cell_type": "code",
   "execution_count": null,
   "metadata": {
    "collapsed": true
   },
   "outputs": [],
   "source": [
    "c = chunks(pairs, len(dview) * 2)\n",
    "new_results = []\n",
    "while True:\n",
    "    try:\n",
    "        new_results += dview.map_sync(lambda x: imprinting_analysis(x[0], x[1]), c.next())\n",
    "    except StopIteration:\n",
    "        break"
   ]
  },
  {
   "cell_type": "raw",
   "metadata": {
    "collapsed": false
   },
   "source": [
    "results = []\n",
    "for gene_id in trio_child_ase_pval.index:\n",
    "    se = trio_child_ase_pval.ix[gene_id].dropna()\n",
    "    for rna_id in se.index:\n",
    "        child = trio_child[trio_child.rna_id == rna_id].index[0]\n",
    "        t = imprinting_analysis(child, gene_id)\n",
    "        results.append(t)"
   ]
  },
  {
   "cell_type": "code",
   "execution_count": 28,
   "metadata": {
    "collapsed": false
   },
   "outputs": [],
   "source": [
    "df = pd.DataFrame([x[0:3] for x in new_results], columns=['gene_id', 'sample_id', 'p_value'])\n",
    "df['maternal_percent'] = 0\n",
    "df['paternal_percent'] = 0\n",
    "for i,x in enumerate(new_results):\n",
    "    vc = x[-1].preference.value_counts()\n",
    "    if 'paternal' in vc.index:\n",
    "        df.ix[i, 'paternal_percent'] = vc['paternal'] / float(vc.sum())\n",
    "    if 'maternal' in vc.index:\n",
    "        df.ix[i, 'maternal_percent'] = vc['maternal'] / float(vc.sum())\n",
    "df['num_snvs'] = [x[-1].shape[0] for x in new_results]"
   ]
  },
  {
   "cell_type": "code",
   "execution_count": 29,
   "metadata": {
    "collapsed": false
   },
   "outputs": [],
   "source": [
    "df = df.merge(igenes_f.dropna(subset=['expressed_allele'])[['expressed_allele']], \n",
    "              left_on='gene_id', right_index=True)"
   ]
  },
  {
   "cell_type": "code",
   "execution_count": 30,
   "metadata": {
    "collapsed": false
   },
   "outputs": [
    {
     "name": "stdout",
     "output_type": "stream",
     "text": [
      "Imprinted genes are more likely to show bias in the direction they are imprinted: odds=1.865, p=3.50e-05.\n"
     ]
    }
   ],
   "source": [
    "pat = df.ix[df.paternal_percent > df.maternal_percent, 'gene_id']\n",
    "mat = df.ix[df.maternal_percent > df.paternal_percent, 'gene_id']\n",
    "pat_pat = sum(igenes_f.ix[pat, 'expressed_allele'] == 'Paternal')\n",
    "mat_mat = sum(igenes_f.ix[mat, 'expressed_allele'] == 'Maternal')\n",
    "pat_mat = sum(igenes_f.ix[pat, 'expressed_allele'] == 'Maternal')\n",
    "mat_pat = sum(igenes_f.ix[mat, 'expressed_allele'] == 'Paternal')\n",
    "\n",
    "odds, pvalue = stats.fisher_exact([[pat_pat, pat_mat], [mat_pat, mat_mat]])\n",
    "print('Imprinted genes are more likely to show bias in '\n",
    "      'the direction they are imprinted: odds={:.3f}, p={:.2e}.'.format(odds, pvalue))"
   ]
  },
  {
   "cell_type": "code",
   "execution_count": 31,
   "metadata": {
    "collapsed": false
   },
   "outputs": [
    {
     "name": "stdout",
     "output_type": "stream",
     "text": [
      "Imprinted genes with significant ASE are more likely to show bias in the direction they are imprinted: odds=52.556, p=5.39e-10.\n",
      "\n",
      "85.5% of genes are biased in the correction direction.\n"
     ]
    }
   ],
   "source": [
    "tdf = df[df.p_value < 0.005]\n",
    "pat = tdf.ix[tdf.paternal_percent > tdf.maternal_percent, 'gene_id']\n",
    "mat = tdf.ix[tdf.maternal_percent > tdf.paternal_percent, 'gene_id']\n",
    "pat_pat = sum(igenes_f.ix[pat, 'expressed_allele'] == 'Paternal')\n",
    "mat_mat = sum(igenes_f.ix[mat, 'expressed_allele'] == 'Maternal')\n",
    "pat_mat = sum(igenes_f.ix[pat, 'expressed_allele'] == 'Maternal')\n",
    "mat_pat = sum(igenes_f.ix[mat, 'expressed_allele'] == 'Paternal')\n",
    "\n",
    "odds, pvalue = stats.fisher_exact([[pat_pat, pat_mat], [mat_pat, mat_mat]])\n",
    "print('Imprinted genes with significant ASE are more likely to show bias in '\n",
    "      'the direction they are imprinted: odds={:.3f}, p={:.2e}.'.format(odds, pvalue))\n",
    "p = float(mat_mat + pat_pat) / (mat_mat + pat_pat + mat_pat + pat_mat)\n",
    "print('\\n{:.1f}% of genes are biased in the correction direction.'.format(p * 100))"
   ]
  },
  {
   "cell_type": "code",
   "execution_count": 44,
   "metadata": {
    "collapsed": true
   },
   "outputs": [],
   "source": [
    "t = locus_p.ix[rna_meta[rna_meta.subject_id.apply(lambda x: x in set(df.sample_id))].index, \n",
    "               set(df.gene_id), 'major_allele_freq']"
   ]
  },
  {
   "cell_type": "code",
   "execution_count": 51,
   "metadata": {
    "collapsed": false
   },
   "outputs": [
    {
     "data": {
      "text/plain": [
       "<matplotlib.axes._subplots.AxesSubplot at 0x7fcf19b6bcd0>"
      ]
     },
     "execution_count": 51,
     "metadata": {},
     "output_type": "execute_result"
    },
    {
     "data": {
      "image/png": "[encoded data removed]",
      "text/plain": [
       "<matplotlib.figure.Figure at 0x7fcf1a390c90>"
      ]
     },
     "metadata": {},
     "output_type": "display_data"
    }
   ],
   "source": [
    "sns.heatmap(t, xticklabels=[], yticklabels=[])"
   ]
  },
  {
   "cell_type": "code",
   "execution_count": null,
   "metadata": {
    "collapsed": true
   },
   "outputs": [],
   "source": []
  },
  {
   "cell_type": "code",
   "execution_count": null,
   "metadata": {
    "collapsed": true
   },
   "outputs": [],
   "source": []
  },
  {
   "cell_type": "code",
   "execution_count": null,
   "metadata": {
    "collapsed": true
   },
   "outputs": [],
   "source": []
  }
 ],
 "metadata": {
  "kernelspec": {
   "display_name": "Python 2",
   "language": "python",
   "name": "python2"
  },
  "language_info": {
   "codemirror_mode": {
    "name": "ipython",
    "version": 2
   },
   "file_extension": ".py",
   "mimetype": "text/x-python",
   "name": "python",
   "nbconvert_exporter": "python",
   "pygments_lexer": "ipython2",
   "version": "2.7.10"
  }
 },
 "nbformat": 4,
 "nbformat_minor": 0
}
