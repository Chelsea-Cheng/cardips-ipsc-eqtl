{
 "cells": [
  {
   "cell_type": "markdown",
   "metadata": {},
   "source": [
    "# ASE Analysis"
   ]
  },
  {
   "cell_type": "code",
   "execution_count": 1,
   "metadata": {
    "collapsed": false
   },
   "outputs": [],
   "source": [
    "import cPickle\n",
    "import glob\n",
    "import gzip\n",
    "import os\n",
    "import random\n",
    "import shutil\n",
    "import subprocess\n",
    "import sys\n",
    "\n",
    "import cdpybio as cpb\n",
    "import matplotlib.pyplot as plt\n",
    "import numpy as np\n",
    "import pandas as pd\n",
    "pd.options.mode.chained_assignment = None\n",
    "import pybedtools as pbt\n",
    "from scipy.stats import fisher_exact\n",
    "import scipy.stats as stats\n",
    "import seaborn as sns\n",
    "\n",
    "import ciepy\n",
    "import cardipspy as cpy\n",
    "\n",
    "%matplotlib inline\n",
    "%load_ext rpy2.ipython\n",
    "\n",
    "dy_name = 'ase_analysis'\n",
    "\n",
    "import socket\n",
    "if socket.gethostname() == 'fl-hn1' or socket.gethostname() == 'fl-hn2':\n",
    "    dy = os.path.join(ciepy.root, 'sandbox', dy_name)\n",
    "    cpy.makedir(dy)\n",
    "    pbt.set_tempdir(dy)\n",
    "    \n",
    "outdir = os.path.join(ciepy.root, 'output', dy_name)\n",
    "cpy.makedir(outdir)\n",
    "\n",
    "private_outdir = os.path.join(ciepy.root, 'private_output', dy_name)\n",
    "cpy.makedir(private_outdir)"
   ]
  },
  {
   "cell_type": "code",
   "execution_count": 2,
   "metadata": {
    "collapsed": false
   },
   "outputs": [],
   "source": [
    "fn = os.path.join(ciepy.root, 'output', 'input_data', 'rnaseq_metadata.tsv')\n",
    "meta = pd.read_table(fn, index_col=0)\n",
    "\n",
    "tg = pd.read_table(cpy.gencode_transcript_gene, index_col=0, \n",
    "                   header=None, squeeze=True)\n",
    "gene_info = pd.read_table(cpy.gencode_gene_info, index_col=0)\n",
    "fn = os.path.join(ciepy.root, 'output', 'eqtl_input', \n",
    "                  'tpm_log_filtered_phe_std_norm_peer_resid.tsv')\n",
    "exp = pd.read_table(fn, index_col=0)\n",
    "fn = os.path.join(ciepy.root, 'output', 'input_data', 'rsem_tpm.tsv')\n",
    "tpm = pd.read_table(fn, index_col=0)\n",
    "\n",
    "fn = os.path.join(ciepy.root, 'output', 'eqtl_processing', 'eqtls01', 'qvalues.tsv')\n",
    "qvalues = pd.read_table(fn, index_col=0)\n",
    "qvalues.columns = ['{}_gene'.format(x) for x in qvalues.columns]\n",
    "fn = os.path.join(ciepy.root, 'output', 'eqtl_processing', 'eqtls01', 'lead_variants.tsv')\n",
    "most_sig = pd.read_table(fn, index_col=0)\n",
    "\n",
    "genes = pbt.BedTool(cpy.gencode_gene_bed)"
   ]
  },
  {
   "cell_type": "code",
   "execution_count": 3,
   "metadata": {
    "collapsed": true
   },
   "outputs": [],
   "source": [
    "fn = os.path.join(ciepy.root, 'output', 'input_data', \n",
    "                  'mbased_major_allele_freq.tsv')\n",
    "maj_af = pd.read_table(fn, index_col=0)\n",
    "\n",
    "fn = os.path.join(ciepy.root, 'output', 'input_data', \n",
    "                  'mbased_p_val_ase.tsv')\n",
    "ase_pval = pd.read_table(fn, index_col=0)\n",
    "\n",
    "locus_p = pd.Panel({'major_allele_freq':maj_af, 'p_val_ase':ase_pval})\n",
    "locus_p = locus_p.swapaxes(0, 2)\n",
    "\n",
    "snv_fns = glob.glob(os.path.join(ciepy.root, 'private_output', 'input_data', 'mbased_snv',\n",
    "                                 '*_snv.tsv'))\n",
    "count_fns = glob.glob(os.path.join(ciepy.root, 'private_output', 'input_data', 'allele_counts',\n",
    "                                   '*mbased_input.tsv'))\n",
    "\n",
    "snv_res = {}\n",
    "for fn in snv_fns:\n",
    "    snv_res[os.path.split(fn)[1].split('_')[0]] = pd.read_table(fn, index_col=0)\n",
    "    \n",
    "count_res = {}\n",
    "for fn in count_fns:\n",
    "    count_res[os.path.split(fn)[1].split('_')[0]] = pd.read_table(fn, index_col=0)\n",
    "\n",
    "snv_p = pd.Panel(snv_res)"
   ]
  },
  {
   "cell_type": "markdown",
   "metadata": {},
   "source": [
    "## General"
   ]
  },
  {
   "cell_type": "markdown",
   "metadata": {},
   "source": [
    "This is Table S8 from the 2015 GTEx paper.\n",
    "\n",
    "                Total sites ≥30 reads | Sites 30 reads ASE p < 0.005 | Sites 30 reads ASE p < 0.005 (%)\n",
    "    Minimum              221          |                8             |                 1.59%\n",
    "    Median             6383.5         |              389.5           |                 5.99%\n",
    "    Maximum             16422         |               1349           |                 15.0%\n",
    "    \n",
    "In the paper they say that \"the fraction of significant ASE sites varied widely\n",
    "across tissues, with a range of 1.7 to 3.7% (median 2.3%).\""
   ]
  },
  {
   "cell_type": "code",
   "execution_count": 4,
   "metadata": {
    "collapsed": false
   },
   "outputs": [
    {
     "data": {
      "image/png": "[encoded data removed]",
      "text/plain": [
       "<matplotlib.figure.Figure at 0x7f24466f0d10>"
      ]
     },
     "metadata": {},
     "output_type": "display_data"
    }
   ],
   "source": [
    "frac = []\n",
    "for k in locus_p.keys():\n",
    "    frac.append(sum(locus_p.ix[k, :, 'p_val_ase'].dropna() < 0.005) / \n",
    "                float(locus_p.ix[k, :, 'p_val_ase'].dropna().shape[0]))\n",
    "\n",
    "plt.hist(frac)\n",
    "plt.title('Fraction of genes with ASE: median = {:.2f}'.format(np.median(frac)))\n",
    "plt.ylabel('Number of samples')\n",
    "plt.xlabel('Fraction of genes with ASE ($p$ < 0.005)');"
   ]
  },
  {
   "cell_type": "code",
   "execution_count": 5,
   "metadata": {
    "collapsed": false
   },
   "outputs": [
    {
     "data": {
      "image/png": "[encoded data removed]",
      "text/plain": [
       "<matplotlib.figure.Figure at 0x7f2382d29790>"
      ]
     },
     "metadata": {},
     "output_type": "display_data"
    }
   ],
   "source": [
    "frac = []\n",
    "for k in locus_p.keys():\n",
    "    d = dict(zip(count_res[k]['feature'], count_res[k]['totalFeatureCount']))\n",
    "    t = locus_p[k, :, ['major_allele_freq', 'p_val_ase']].dropna()\n",
    "    t['totalFeatureCount'] = [d[i] for i in t.index]\n",
    "    t = t[t.totalFeatureCount >= 30]\n",
    "    frac.append(sum(t['p_val_ase'] < 0.005) / float(t.shape[0]))\n",
    "\n",
    "plt.hist(frac)\n",
    "plt.title('Fraction of genes with ASE (total counts $\\geq$ 30): median = {:.2f}'.format(np.median(frac)))\n",
    "plt.ylabel('Number of samples')\n",
    "plt.xlabel('Fraction of genes with ASE ($p$ < 0.005)');"
   ]
  },
  {
   "cell_type": "markdown",
   "metadata": {},
   "source": [
    "It seems that the fraction of genes we see ASE for agrees with GTEx. We may have a bit\n",
    "more power from MBASED although our coverage is probably not quite as high.\n",
    "\n",
    "## ASE/eQTL Enrichment "
   ]
  },
  {
   "cell_type": "code",
   "execution_count": 6,
   "metadata": {
    "collapsed": false
   },
   "outputs": [
    {
     "name": "stdout",
     "output_type": "stream",
     "text": [
      "eQTL genes enriched for ASE with p = 0.0, odds = 2.93\n"
     ]
    }
   ],
   "source": [
    "df = locus_p.ix[:, :, 'p_val_ase']\n",
    "df = df[meta[meta.in_eqtl].index]\n",
    "df = df.ix[set(df.index) & set(qvalues.index)]\n",
    "\n",
    "s = set(df.index) & set(qvalues[qvalues.perm_sig_gene].index)\n",
    "ns = set(df.index) & set(qvalues[qvalues.perm_sig_gene == False].index)\n",
    "\n",
    "t = df.ix[s]\n",
    "s_s = (t[t.isnull() == False] < 0.005).sum().sum()\n",
    "s_ns = (t[t.isnull() == False] >= 0.005).sum().sum()\n",
    "t = df.ix[ns]\n",
    "ns_s = (t[t.isnull() == False] < 0.005).sum().sum()\n",
    "ns_ns = (t[t.isnull() == False] >= 0.005).sum().sum()\n",
    "odds, pval = fisher_exact([[s_s, s_ns], [ns_s, ns_ns]])\n",
    "print('eQTL genes enriched for ASE with p = {}, odds = {:.2f}'.format(pval, odds))"
   ]
  },
  {
   "cell_type": "markdown",
   "metadata": {},
   "source": [
    "$p = 0$ which is at least less than $10^{-292}$: http://stackoverflow.com/questions/20530138/scipy-p-value-returns-0-0"
   ]
  }
 ],
 "metadata": {
  "kernelspec": {
   "display_name": "Python 2",
   "language": "python",
   "name": "python2"
  },
  "language_info": {
   "codemirror_mode": {
    "name": "ipython",
    "version": 2
   },
   "file_extension": ".py",
   "mimetype": "text/x-python",
   "name": "python",
   "nbconvert_exporter": "python",
   "pygments_lexer": "ipython2",
   "version": "2.7.11"
  }
 },
 "nbformat": 4,
 "nbformat_minor": 0
}
