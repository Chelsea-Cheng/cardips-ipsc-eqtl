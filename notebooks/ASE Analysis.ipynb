{
 "cells": [
  {
   "cell_type": "code",
   "execution_count": 1,
   "metadata": {
    "collapsed": true
   },
   "outputs": [],
   "source": [
    "import cPickle\n",
    "import glob\n",
    "import gzip\n",
    "import os\n",
    "import random\n",
    "import shutil\n",
    "import subprocess\n",
    "import sys\n",
    "\n",
    "import cdpybio as cpb\n",
    "import matplotlib.pyplot as plt\n",
    "import numpy as np\n",
    "import pandas as pd\n",
    "import pybedtools as pbt\n",
    "import scipy.stats as stats\n",
    "import seaborn as sns\n",
    "\n",
    "import ciepy\n",
    "import cardipspy as cpy\n",
    "\n",
    "%matplotlib inline\n",
    "%load_ext rpy2.ipython"
   ]
  },
  {
   "cell_type": "code",
   "execution_count": 2,
   "metadata": {
    "collapsed": true
   },
   "outputs": [],
   "source": [
    "outdir = os.path.join(ciepy.root, 'output',\n",
    "                      'ase_analysis')\n",
    "cpy.makedir(outdir)\n",
    "\n",
    "private_outdir = os.path.join(ciepy.root, 'private_output',\n",
    "                              'ase_analysis')\n",
    "cpy.makedir(private_outdir)"
   ]
  },
  {
   "cell_type": "code",
   "execution_count": 38,
   "metadata": {
    "collapsed": false
   },
   "outputs": [],
   "source": [
    "def make_snv_info():\n",
    "    from Bio.Seq import Seq \n",
    "    fn = ('/raid3/projects/CARDIPS/pipeline/RNAseq/'\n",
    "          'exonic_snps/heterozygous_exonic_snv_information.tsv')\n",
    "    info = pd.read_table(fn, index_col=0)\n",
    "    info['ref_allele_stranded'] = ''\n",
    "    info['alt_allele_stranded'] = ''\n",
    "    info.ix[info.strand == '+', 'ref_allele_stranded'] = info.ref_allele + info.strand\n",
    "    info.ix[info.strand == '+', 'alt_allele_stranded'] = info.alt_allele + info.strand\n",
    "    \n",
    "    info.ix[info.strand == '-', 'ref_allele_stranded'] = (info.ref_allele.apply(\n",
    "            lambda x: str(Seq(x).reverse_complement())) + info.strand)\n",
    "    info.ix[info.strand == '-', 'alt_allele_stranded'] = (info.alt_allele.apply(\n",
    "            lambda x: str(Seq(x).reverse_complement())) + info.strand)\n",
    "    return info"
   ]
  },
  {
   "cell_type": "code",
   "execution_count": 39,
   "metadata": {
    "collapsed": true
   },
   "outputs": [],
   "source": [
    "info = make_snv_info()"
   ]
  },
  {
   "cell_type": "code",
   "execution_count": 19,
   "metadata": {
    "collapsed": true
   },
   "outputs": [],
   "source": [
    "locus_fns = glob.glob(os.path.join(ciepy.root, 'output', 'input_data', \n",
    "                                   'mbased_locus', '*tsv'))\n",
    "snv_fns = glob.glob(os.path.join(ciepy.root, 'private_output', 'input_data', \n",
    "                                 'mbased_snv', '*tsv'))\n",
    "count_fns = glob.glob(os.path.join(ciepy.root, 'private_output', 'input_data', \n",
    "                                   'allele_counts', '*tsv'))"
   ]
  },
  {
   "cell_type": "code",
   "execution_count": 20,
   "metadata": {
    "collapsed": true
   },
   "outputs": [],
   "source": [
    "locus_res = {}\n",
    "for fn in locus_fns:\n",
    "    locus_res[os.path.split(fn)[1].split('_')[0]] = pd.read_table(fn, index_col=0)"
   ]
  },
  {
   "cell_type": "raw",
   "metadata": {
    "collapsed": true
   },
   "source": [
    "snv_res = {}\n",
    "for fn in snv_fns:\n",
    "    snv_res[os.path.split(fn)[1].split('_')[0]] = pd.read_table(fn, index_col=0)\n",
    "    \n",
    "count_res = {}\n",
    "for fn in count_fns:\n",
    "    count_res[os.path.split(fn)[1].split('_')[0]] = pd.read_table(fn, index_col=0)"
   ]
  },
  {
   "cell_type": "code",
   "execution_count": 28,
   "metadata": {
    "collapsed": false
   },
   "outputs": [],
   "source": [
    "res = locus_res[locus_res.keys()[0]]\n",
    "counts = pd.read_table([x for x in count_fns if locus_res.keys()[0] in x][0], index_col=0)\n",
    "counts = counts[counts.sum(axis=1) > 0]"
   ]
  },
  {
   "cell_type": "code",
   "execution_count": 30,
   "metadata": {
    "collapsed": false
   },
   "outputs": [
    {
     "data": {
      "text/plain": [
       "<matplotlib.axes._subplots.AxesSubplot at 0x7fc94194f1d0>"
      ]
     },
     "execution_count": 30,
     "metadata": {},
     "output_type": "execute_result"
    },
    {
     "data": {
      "image/png": "[encoded data removed]",
      "text/plain": [
       "<matplotlib.figure.Figure at 0x7fc941949910>"
      ]
     },
     "metadata": {},
     "output_type": "display_data"
    }
   ],
   "source": [
    "res.p_val_ase.hist()"
   ]
  },
  {
   "cell_type": "code",
   "execution_count": 49,
   "metadata": {
    "collapsed": false
   },
   "outputs": [
    {
     "data": {
      "text/html": [
       "<div>\n",
       "<table border=\"1\" class=\"dataframe\">\n",
       "  <thead>\n",
       "    <tr style=\"text-align: right;\">\n",
       "      <th></th>\n",
       "      <th>chrom</th>\n",
       "      <th>pos</th>\n",
       "      <th>ref_allele</th>\n",
       "      <th>alt_allele</th>\n",
       "      <th>locus</th>\n",
       "      <th>name</th>\n",
       "      <th>strand</th>\n",
       "      <th>ref_allele_stranded</th>\n",
       "      <th>alt_allele_stranded</th>\n",
       "    </tr>\n",
       "  </thead>\n",
       "  <tbody>\n",
       "    <tr>\n",
       "      <th>chr1:898852</th>\n",
       "      <td>chr1</td>\n",
       "      <td>898852</td>\n",
       "      <td>C</td>\n",
       "      <td>T</td>\n",
       "      <td>ENSG00000187961.9</td>\n",
       "      <td>ENSG00000187961.9_chr1:898852</td>\n",
       "      <td>+</td>\n",
       "      <td>C+</td>\n",
       "      <td>T+</td>\n",
       "    </tr>\n",
       "    <tr>\n",
       "      <th>chr1:982225</th>\n",
       "      <td>chr1</td>\n",
       "      <td>982225</td>\n",
       "      <td>C</td>\n",
       "      <td>T</td>\n",
       "      <td>ENSG00000188157.9</td>\n",
       "      <td>ENSG00000188157.9_chr1:982225</td>\n",
       "      <td>+</td>\n",
       "      <td>C+</td>\n",
       "      <td>T+</td>\n",
       "    </tr>\n",
       "    <tr>\n",
       "      <th>chr1:989234</th>\n",
       "      <td>chr1</td>\n",
       "      <td>989234</td>\n",
       "      <td>A</td>\n",
       "      <td>G</td>\n",
       "      <td>ENSG00000188157.9</td>\n",
       "      <td>ENSG00000188157.9_chr1:989234</td>\n",
       "      <td>+</td>\n",
       "      <td>A+</td>\n",
       "      <td>G+</td>\n",
       "    </tr>\n",
       "    <tr>\n",
       "      <th>chr1:1152631</th>\n",
       "      <td>chr1</td>\n",
       "      <td>1152631</td>\n",
       "      <td>C</td>\n",
       "      <td>A</td>\n",
       "      <td>ENSG00000078808.12</td>\n",
       "      <td>ENSG00000078808.12_chr1:1152631</td>\n",
       "      <td>-</td>\n",
       "      <td>G-</td>\n",
       "      <td>T-</td>\n",
       "    </tr>\n",
       "    <tr>\n",
       "      <th>chr1:1189605</th>\n",
       "      <td>chr1</td>\n",
       "      <td>1189605</td>\n",
       "      <td>G</td>\n",
       "      <td>A</td>\n",
       "      <td>ENSG00000160087.16</td>\n",
       "      <td>ENSG00000160087.16_chr1:1189605</td>\n",
       "      <td>-</td>\n",
       "      <td>C-</td>\n",
       "      <td>T-</td>\n",
       "    </tr>\n",
       "  </tbody>\n",
       "</table>\n",
       "</div>"
      ],
      "text/plain": [
       "             chrom      pos ref_allele alt_allele               locus  \\\n",
       "chr1:898852   chr1   898852          C          T   ENSG00000187961.9   \n",
       "chr1:982225   chr1   982225          C          T   ENSG00000188157.9   \n",
       "chr1:989234   chr1   989234          A          G   ENSG00000188157.9   \n",
       "chr1:1152631  chr1  1152631          C          A  ENSG00000078808.12   \n",
       "chr1:1189605  chr1  1189605          G          A  ENSG00000160087.16   \n",
       "\n",
       "                                         name strand ref_allele_stranded  \\\n",
       "chr1:898852     ENSG00000187961.9_chr1:898852      +                  C+   \n",
       "chr1:982225     ENSG00000188157.9_chr1:982225      +                  C+   \n",
       "chr1:989234     ENSG00000188157.9_chr1:989234      +                  A+   \n",
       "chr1:1152631  ENSG00000078808.12_chr1:1152631      -                  G-   \n",
       "chr1:1189605  ENSG00000160087.16_chr1:1189605      -                  C-   \n",
       "\n",
       "             alt_allele_stranded  \n",
       "chr1:898852                   T+  \n",
       "chr1:982225                   T+  \n",
       "chr1:989234                   G+  \n",
       "chr1:1152631                  T-  \n",
       "chr1:1189605                  T-  "
      ]
     },
     "execution_count": 49,
     "metadata": {},
     "output_type": "execute_result"
    }
   ],
   "source": [
    "info.ix[counts[counts.sum(axis=1) >= 10].head().index].head()"
   ]
  },
  {
   "cell_type": "code",
   "execution_count": 48,
   "metadata": {
    "collapsed": false
   },
   "outputs": [
    {
     "data": {
      "text/html": [
       "<div>\n",
       "<table border=\"1\" class=\"dataframe\">\n",
       "  <thead>\n",
       "    <tr style=\"text-align: right;\">\n",
       "      <th></th>\n",
       "      <th>A+</th>\n",
       "      <th>T+</th>\n",
       "      <th>C+</th>\n",
       "      <th>G+</th>\n",
       "      <th>N+</th>\n",
       "      <th>A-</th>\n",
       "      <th>T-</th>\n",
       "      <th>C-</th>\n",
       "      <th>G-</th>\n",
       "      <th>N-</th>\n",
       "    </tr>\n",
       "  </thead>\n",
       "  <tbody>\n",
       "    <tr>\n",
       "      <th>chr1:898852</th>\n",
       "      <td>0</td>\n",
       "      <td>8</td>\n",
       "      <td>6</td>\n",
       "      <td>0</td>\n",
       "      <td>0</td>\n",
       "      <td>0</td>\n",
       "      <td>0</td>\n",
       "      <td>0</td>\n",
       "      <td>0</td>\n",
       "      <td>0</td>\n",
       "    </tr>\n",
       "    <tr>\n",
       "      <th>chr1:982225</th>\n",
       "      <td>0</td>\n",
       "      <td>28</td>\n",
       "      <td>27</td>\n",
       "      <td>0</td>\n",
       "      <td>0</td>\n",
       "      <td>1</td>\n",
       "      <td>0</td>\n",
       "      <td>0</td>\n",
       "      <td>1</td>\n",
       "      <td>0</td>\n",
       "    </tr>\n",
       "    <tr>\n",
       "      <th>chr1:989234</th>\n",
       "      <td>52</td>\n",
       "      <td>0</td>\n",
       "      <td>0</td>\n",
       "      <td>35</td>\n",
       "      <td>0</td>\n",
       "      <td>0</td>\n",
       "      <td>0</td>\n",
       "      <td>0</td>\n",
       "      <td>0</td>\n",
       "      <td>0</td>\n",
       "    </tr>\n",
       "    <tr>\n",
       "      <th>chr1:1152631</th>\n",
       "      <td>0</td>\n",
       "      <td>0</td>\n",
       "      <td>0</td>\n",
       "      <td>0</td>\n",
       "      <td>0</td>\n",
       "      <td>0</td>\n",
       "      <td>9</td>\n",
       "      <td>0</td>\n",
       "      <td>12</td>\n",
       "      <td>0</td>\n",
       "    </tr>\n",
       "    <tr>\n",
       "      <th>chr1:1189605</th>\n",
       "      <td>1</td>\n",
       "      <td>0</td>\n",
       "      <td>0</td>\n",
       "      <td>0</td>\n",
       "      <td>0</td>\n",
       "      <td>0</td>\n",
       "      <td>8</td>\n",
       "      <td>1</td>\n",
       "      <td>0</td>\n",
       "      <td>0</td>\n",
       "    </tr>\n",
       "  </tbody>\n",
       "</table>\n",
       "</div>"
      ],
      "text/plain": [
       "              A+  T+  C+  G+  N+  A-  T-  C-  G-  N-\n",
       "chr1:898852    0   8   6   0   0   0   0   0   0   0\n",
       "chr1:982225    0  28  27   0   0   1   0   0   1   0\n",
       "chr1:989234   52   0   0  35   0   0   0   0   0   0\n",
       "chr1:1152631   0   0   0   0   0   0   9   0  12   0\n",
       "chr1:1189605   1   0   0   0   0   0   8   1   0   0"
      ]
     },
     "execution_count": 48,
     "metadata": {},
     "output_type": "execute_result"
    }
   ],
   "source": [
    "counts[counts.sum(axis=1) >= 10].head()"
   ]
  },
  {
   "cell_type": "code",
   "execution_count": 50,
   "metadata": {
    "collapsed": true
   },
   "outputs": [],
   "source": [
    "tdf = info.ix[counts.index].dropna()\n",
    "ref_counts = []\n",
    "for i in tdf.index:\n",
    "    ref_counts.append(counts.ix[i, tdf.ix[i, 'ref_allele_stranded']])\n",
    "alt_counts = []\n",
    "for i in tdf.index:\n",
    "    alt_counts.append(counts.ix[i, tdf.ix[i, 'alt_allele_stranded']])\n",
    "tdf['ref_count'] = ref_counts\n",
    "tdf['alt_count'] = alt_counts\n",
    "tdf = tdf[['chrom', 'pos', 'ref_allele', 'alt_allele', 'locus', 'name',\n",
    "           'ref_count', 'alt_count']]\n",
    "tdf['pos'] = tdf.pos.astype(int)\n",
    "tdf = tdf[tdf.ref_count >= 5]\n",
    "tdf = tdf[tdf.alt_count >= 5]\n",
    "tdf = tdf[tdf.ref_count / (tdf.ref_count + tdf.alt_count) >= 0.1]\n",
    "tdf = tdf[tdf.alt_count / (tdf.ref_count + tdf.alt_count) >= 0.1]"
   ]
  },
  {
   "cell_type": "code",
   "execution_count": 52,
   "metadata": {
    "collapsed": false
   },
   "outputs": [
    {
     "data": {
      "text/html": [
       "<div>\n",
       "<table border=\"1\" class=\"dataframe\">\n",
       "  <thead>\n",
       "    <tr style=\"text-align: right;\">\n",
       "      <th></th>\n",
       "      <th>chrom</th>\n",
       "      <th>pos</th>\n",
       "      <th>ref_allele</th>\n",
       "      <th>alt_allele</th>\n",
       "      <th>locus</th>\n",
       "      <th>name</th>\n",
       "      <th>ref_count</th>\n",
       "      <th>alt_count</th>\n",
       "    </tr>\n",
       "  </thead>\n",
       "  <tbody>\n",
       "    <tr>\n",
       "      <th>chr1:898852</th>\n",
       "      <td>chr1</td>\n",
       "      <td>898852</td>\n",
       "      <td>C</td>\n",
       "      <td>T</td>\n",
       "      <td>ENSG00000187961.9</td>\n",
       "      <td>ENSG00000187961.9_chr1:898852</td>\n",
       "      <td>6</td>\n",
       "      <td>8</td>\n",
       "    </tr>\n",
       "    <tr>\n",
       "      <th>chr1:982225</th>\n",
       "      <td>chr1</td>\n",
       "      <td>982225</td>\n",
       "      <td>C</td>\n",
       "      <td>T</td>\n",
       "      <td>ENSG00000188157.9</td>\n",
       "      <td>ENSG00000188157.9_chr1:982225</td>\n",
       "      <td>27</td>\n",
       "      <td>28</td>\n",
       "    </tr>\n",
       "    <tr>\n",
       "      <th>chr1:989234</th>\n",
       "      <td>chr1</td>\n",
       "      <td>989234</td>\n",
       "      <td>A</td>\n",
       "      <td>G</td>\n",
       "      <td>ENSG00000188157.9</td>\n",
       "      <td>ENSG00000188157.9_chr1:989234</td>\n",
       "      <td>52</td>\n",
       "      <td>35</td>\n",
       "    </tr>\n",
       "    <tr>\n",
       "      <th>chr1:1152631</th>\n",
       "      <td>chr1</td>\n",
       "      <td>1152631</td>\n",
       "      <td>C</td>\n",
       "      <td>A</td>\n",
       "      <td>ENSG00000078808.12</td>\n",
       "      <td>ENSG00000078808.12_chr1:1152631</td>\n",
       "      <td>12</td>\n",
       "      <td>9</td>\n",
       "    </tr>\n",
       "    <tr>\n",
       "      <th>chr1:1321998</th>\n",
       "      <td>chr1</td>\n",
       "      <td>1321998</td>\n",
       "      <td>T</td>\n",
       "      <td>C</td>\n",
       "      <td>ENSG00000221978.7</td>\n",
       "      <td>ENSG00000221978.7_chr1:1321998</td>\n",
       "      <td>5</td>\n",
       "      <td>11</td>\n",
       "    </tr>\n",
       "  </tbody>\n",
       "</table>\n",
       "</div>"
      ],
      "text/plain": [
       "             chrom      pos ref_allele alt_allele               locus  \\\n",
       "chr1:898852   chr1   898852          C          T   ENSG00000187961.9   \n",
       "chr1:982225   chr1   982225          C          T   ENSG00000188157.9   \n",
       "chr1:989234   chr1   989234          A          G   ENSG00000188157.9   \n",
       "chr1:1152631  chr1  1152631          C          A  ENSG00000078808.12   \n",
       "chr1:1321998  chr1  1321998          T          C   ENSG00000221978.7   \n",
       "\n",
       "                                         name  ref_count  alt_count  \n",
       "chr1:898852     ENSG00000187961.9_chr1:898852          6          8  \n",
       "chr1:982225     ENSG00000188157.9_chr1:982225         27         28  \n",
       "chr1:989234     ENSG00000188157.9_chr1:989234         52         35  \n",
       "chr1:1152631  ENSG00000078808.12_chr1:1152631         12          9  \n",
       "chr1:1321998   ENSG00000221978.7_chr1:1321998          5         11  "
      ]
     },
     "execution_count": 52,
     "metadata": {},
     "output_type": "execute_result"
    }
   ],
   "source": [
    "tdf.head()"
   ]
  },
  {
   "cell_type": "code",
   "execution_count": 53,
   "metadata": {
    "collapsed": false
   },
   "outputs": [
    {
     "data": {
      "text/html": [
       "<div>\n",
       "<table border=\"1\" class=\"dataframe\">\n",
       "  <thead>\n",
       "    <tr style=\"text-align: right;\">\n",
       "      <th></th>\n",
       "      <th>major_allele_freq</th>\n",
       "      <th>p_val_ase</th>\n",
       "      <th>p_val_het</th>\n",
       "      <th>p_val_ase_bh</th>\n",
       "      <th>p_val_het_bh</th>\n",
       "    </tr>\n",
       "  </thead>\n",
       "  <tbody>\n",
       "    <tr>\n",
       "      <th>ENSG00000187961.9</th>\n",
       "      <td>0.571429</td>\n",
       "      <td>0.790230</td>\n",
       "      <td>NaN</td>\n",
       "      <td>1</td>\n",
       "      <td>NaN</td>\n",
       "    </tr>\n",
       "    <tr>\n",
       "      <th>ENSG00000188157.9</th>\n",
       "      <td>0.563617</td>\n",
       "      <td>0.220499</td>\n",
       "      <td>0.103904</td>\n",
       "      <td>1</td>\n",
       "      <td>0.958316</td>\n",
       "    </tr>\n",
       "    <tr>\n",
       "      <th>ENSG00000078808.12</th>\n",
       "      <td>0.571429</td>\n",
       "      <td>0.663339</td>\n",
       "      <td>NaN</td>\n",
       "      <td>1</td>\n",
       "      <td>NaN</td>\n",
       "    </tr>\n",
       "    <tr>\n",
       "      <th>ENSG00000221978.7</th>\n",
       "      <td>0.687500</td>\n",
       "      <td>0.210206</td>\n",
       "      <td>NaN</td>\n",
       "      <td>1</td>\n",
       "      <td>NaN</td>\n",
       "    </tr>\n",
       "    <tr>\n",
       "      <th>ENSG00000179403.10</th>\n",
       "      <td>0.565217</td>\n",
       "      <td>0.677358</td>\n",
       "      <td>NaN</td>\n",
       "      <td>1</td>\n",
       "      <td>NaN</td>\n",
       "    </tr>\n",
       "  </tbody>\n",
       "</table>\n",
       "</div>"
      ],
      "text/plain": [
       "                    major_allele_freq  p_val_ase  p_val_het  p_val_ase_bh  \\\n",
       "ENSG00000187961.9            0.571429   0.790230        NaN             1   \n",
       "ENSG00000188157.9            0.563617   0.220499   0.103904             1   \n",
       "ENSG00000078808.12           0.571429   0.663339        NaN             1   \n",
       "ENSG00000221978.7            0.687500   0.210206        NaN             1   \n",
       "ENSG00000179403.10           0.565217   0.677358        NaN             1   \n",
       "\n",
       "                    p_val_het_bh  \n",
       "ENSG00000187961.9            NaN  \n",
       "ENSG00000188157.9       0.958316  \n",
       "ENSG00000078808.12           NaN  \n",
       "ENSG00000221978.7            NaN  \n",
       "ENSG00000179403.10           NaN  "
      ]
     },
     "execution_count": 53,
     "metadata": {},
     "output_type": "execute_result"
    }
   ],
   "source": [
    "res.head()"
   ]
  },
  {
   "cell_type": "code",
   "execution_count": 58,
   "metadata": {
    "collapsed": true
   },
   "outputs": [],
   "source": [
    "s = tdf.groupby('locus').sum()\n",
    "s = s.ref_count + s.alt_count"
   ]
  },
  {
   "cell_type": "code",
   "execution_count": 60,
   "metadata": {
    "collapsed": false
   },
   "outputs": [
    {
     "data": {
      "text/plain": [
       "<matplotlib.axes._subplots.AxesSubplot at 0x7fc91eaa3790>"
      ]
     },
     "execution_count": 60,
     "metadata": {},
     "output_type": "execute_result"
    },
    {
     "data": {
      "image/png": "[encoded data removed]",
      "text/plain": [
       "<matplotlib.figure.Figure at 0x7fc91eae9090>"
      ]
     },
     "metadata": {},
     "output_type": "display_data"
    }
   ],
   "source": [
    "np.log10(s).hist()"
   ]
  },
  {
   "cell_type": "code",
   "execution_count": 80,
   "metadata": {
    "collapsed": false
   },
   "outputs": [
    {
     "name": "stdout",
     "output_type": "stream",
     "text": [
      "20\n",
      "2952\n",
      "428\n",
      "\n",
      "30\n",
      "2503\n",
      "392\n",
      "\n",
      "40\n",
      "2142\n",
      "370\n",
      "\n",
      "50\n",
      "1828\n",
      "336\n",
      "\n"
     ]
    }
   ],
   "source": [
    "for c in [20, 30, 40, 50]:\n",
    "    print(c)\n",
    "    print(s[s >= c].shape[0])\n",
    "    print(sum(res.ix[s[s >= c].index, 'p_val_ase'] < 0.1))\n",
    "    print"
   ]
  },
  {
   "cell_type": "code",
   "execution_count": 74,
   "metadata": {
    "collapsed": false
   },
   "outputs": [
    {
     "data": {
      "text/plain": [
       "<matplotlib.axes._subplots.AxesSubplot at 0x7fc91ca928d0>"
      ]
     },
     "execution_count": 74,
     "metadata": {},
     "output_type": "execute_result"
    },
    {
     "data": {
      "image/png": "[encoded data removed]",
      "text/plain": [
       "<matplotlib.figure.Figure at 0x7fc91cc3fad0>"
      ]
     },
     "metadata": {},
     "output_type": "display_data"
    }
   ],
   "source": [
    "res.p_val_ase.hist()"
   ]
  },
  {
   "cell_type": "code",
   "execution_count": 81,
   "metadata": {
    "collapsed": false
   },
   "outputs": [
    {
     "data": {
      "text/plain": [
       "<matplotlib.axes._subplots.AxesSubplot at 0x7fc91c8d7750>"
      ]
     },
     "execution_count": 81,
     "metadata": {},
     "output_type": "execute_result"
    },
    {
     "data": {
      "image/png": "[encoded data removed]",
      "text/plain": [
       "<matplotlib.figure.Figure at 0x7fc91c8cef10>"
      ]
     },
     "metadata": {},
     "output_type": "display_data"
    }
   ],
   "source": [
    "res.ix[s[s >= 40].index, 'p_val_ase'].hist()"
   ]
  },
  {
   "cell_type": "code",
   "execution_count": 94,
   "metadata": {
    "collapsed": true
   },
   "outputs": [],
   "source": [
    "pvals = res.ix[s[s >= 40].index, 'p_val_ase']"
   ]
  },
  {
   "cell_type": "code",
   "execution_count": 83,
   "metadata": {
    "collapsed": true
   },
   "outputs": [],
   "source": [
    "%%R -i p -o pa\n",
    "\n",
    "pa = p.adjust(p, method=\"BH\")"
   ]
  },
  {
   "cell_type": "code",
   "execution_count": 92,
   "metadata": {
    "collapsed": false
   },
   "outputs": [
    {
     "data": {
      "text/plain": [
       "(3689, 5)"
      ]
     },
     "execution_count": 92,
     "metadata": {},
     "output_type": "execute_result"
    }
   ],
   "source": [
    "res.shape"
   ]
  },
  {
   "cell_type": "code",
   "execution_count": 88,
   "metadata": {
    "collapsed": false
   },
   "outputs": [
    {
     "data": {
      "text/plain": [
       "(77, 5)"
      ]
     },
     "execution_count": 88,
     "metadata": {},
     "output_type": "execute_result"
    }
   ],
   "source": [
    "res[res.p_val_ase_bh < 0.1].shape"
   ]
  },
  {
   "cell_type": "code",
   "execution_count": 93,
   "metadata": {
    "collapsed": false
   },
   "outputs": [
    {
     "data": {
      "text/plain": [
       "2142"
      ]
     },
     "execution_count": 93,
     "metadata": {},
     "output_type": "execute_result"
    }
   ],
   "source": [
    "len(p)"
   ]
  },
  {
   "cell_type": "code",
   "execution_count": 91,
   "metadata": {
    "collapsed": false
   },
   "outputs": [
    {
     "data": {
      "text/plain": [
       "2142"
      ]
     },
     "execution_count": 91,
     "metadata": {},
     "output_type": "execute_result"
    }
   ],
   "source": [
    "len(pa)"
   ]
  },
  {
   "cell_type": "code",
   "execution_count": 90,
   "metadata": {
    "collapsed": false
   },
   "outputs": [
    {
     "data": {
      "text/plain": [
       "77"
      ]
     },
     "execution_count": 90,
     "metadata": {},
     "output_type": "execute_result"
    }
   ],
   "source": [
    "sum(np.array(pa) < 0.1)"
   ]
  },
  {
   "cell_type": "code",
   "execution_count": 86,
   "metadata": {
    "collapsed": false
   },
   "outputs": [
    {
     "data": {
      "text/plain": [
       "<matplotlib.axes._subplots.AxesSubplot at 0x7fc91b1880d0>"
      ]
     },
     "execution_count": 86,
     "metadata": {},
     "output_type": "execute_result"
    },
    {
     "data": {
      "image/png": "[encoded data removed]",
      "text/plain": [
       "<matplotlib.figure.Figure at 0x7fc91c8f2110>"
      ]
     },
     "metadata": {},
     "output_type": "display_data"
    }
   ],
   "source": [
    "pd.Series(list(pa)).hist()"
   ]
  },
  {
   "cell_type": "code",
   "execution_count": null,
   "metadata": {
    "collapsed": true
   },
   "outputs": [],
   "source": []
  },
  {
   "cell_type": "code",
   "execution_count": null,
   "metadata": {
    "collapsed": true
   },
   "outputs": [],
   "source": []
  }
 ],
 "metadata": {
  "kernelspec": {
   "display_name": "Python 2",
   "language": "python",
   "name": "python2"
  },
  "language_info": {
   "codemirror_mode": {
    "name": "ipython",
    "version": 2
   },
   "file_extension": ".py",
   "mimetype": "text/x-python",
   "name": "python",
   "nbconvert_exporter": "python",
   "pygments_lexer": "ipython2",
   "version": "2.7.10"
  }
 },
 "nbformat": 4,
 "nbformat_minor": 0
}
