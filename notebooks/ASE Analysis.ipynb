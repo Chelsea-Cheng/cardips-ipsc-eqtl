{
 "cells": [
  {
   "cell_type": "markdown",
   "metadata": {},
   "source": [
    "# ASE Analysis"
   ]
  },
  {
   "cell_type": "code",
   "execution_count": 1,
   "metadata": {
    "collapsed": false
   },
   "outputs": [],
   "source": [
    "import cPickle\n",
    "import glob\n",
    "import gzip\n",
    "import os\n",
    "import random\n",
    "import shutil\n",
    "import subprocess\n",
    "import sys\n",
    "\n",
    "import cdpybio as cpb\n",
    "import matplotlib.pyplot as plt\n",
    "import numpy as np\n",
    "import pandas as pd\n",
    "pd.options.mode.chained_assignment = None\n",
    "import pybedtools as pbt\n",
    "from scipy.stats import fisher_exact\n",
    "import scipy.stats as stats\n",
    "import seaborn as sns\n",
    "\n",
    "import ciepy\n",
    "import cardipspy as cpy\n",
    "\n",
    "%matplotlib inline\n",
    "%load_ext rpy2.ipython"
   ]
  },
  {
   "cell_type": "code",
   "execution_count": 2,
   "metadata": {
    "collapsed": true
   },
   "outputs": [],
   "source": [
    "outdir = os.path.join(ciepy.root, 'output',\n",
    "                      'ase_analysis')\n",
    "cpy.makedir(outdir)\n",
    "\n",
    "private_outdir = os.path.join(ciepy.root, 'private_output',\n",
    "                              'ase_analysis')\n",
    "cpy.makedir(private_outdir)"
   ]
  },
  {
   "cell_type": "code",
   "execution_count": 3,
   "metadata": {
    "collapsed": true
   },
   "outputs": [],
   "source": [
    "fn = os.path.join(ciepy.root, 'output', 'input_data', 'rnaseq_metadata.tsv')\n",
    "meta = pd.read_table(fn, index_col=0)\n",
    "\n",
    "tg = pd.read_table(cpy.gencode_transcript_gene, index_col=0, \n",
    "                   header=None, squeeze=True)\n",
    "gene_info = pd.read_table(cpy.gencode_gene_info, index_col=0)\n",
    "fn = os.path.join(ciepy.root, 'output', 'eqtl_input', \n",
    "                  'tpm_log_filtered_phe_std_norm_peer_resid.tsv')\n",
    "exp = pd.read_table(fn, index_col=0)\n",
    "fn = os.path.join(ciepy.root, 'output', 'input_data', 'rsem_tpm.tsv')\n",
    "tpm = pd.read_table(fn, index_col=0)\n",
    "\n",
    "fn = os.path.join(ciepy.root, 'output', 'eqtl_processing', 'qvalues.tsv')\n",
    "qvalues = pd.read_table(fn, index_col=0)\n",
    "qvalues.columns = ['{}_gene'.format(x) for x in qvalues.columns]\n",
    "fn = os.path.join(ciepy.root, 'output', 'eqtl_processing', 'most_sig.tsv')\n",
    "most_sig = pd.read_table(fn, index_col=0)\n",
    "\n",
    "genes = pbt.BedTool(cpy.gencode_gene_bed)"
   ]
  },
  {
   "cell_type": "raw",
   "metadata": {
    "collapsed": false
   },
   "source": [
    "def make_snv_info():\n",
    "    from Bio.Seq import Seq \n",
    "    fn = ('/raid3/projects/CARDIPS/pipeline/RNAseq/'\n",
    "          'exonic_snps/heterozygous_exonic_snv_information.tsv')\n",
    "    info = pd.read_table(fn, index_col=0)\n",
    "    info['ref_allele_stranded'] = ''\n",
    "    info['alt_allele_stranded'] = ''\n",
    "    info.ix[info.strand == '+', 'ref_allele_stranded'] = info.ref_allele + info.strand\n",
    "    info.ix[info.strand == '+', 'alt_allele_stranded'] = info.alt_allele + info.strand\n",
    "    \n",
    "    info.ix[info.strand == '-', 'ref_allele_stranded'] = (info.ref_allele.apply(\n",
    "            lambda x: str(Seq(x).reverse_complement())) + info.strand)\n",
    "    info.ix[info.strand == '-', 'alt_allele_stranded'] = (info.alt_allele.apply(\n",
    "            lambda x: str(Seq(x).reverse_complement())) + info.strand)\n",
    "    return info"
   ]
  },
  {
   "cell_type": "raw",
   "metadata": {
    "collapsed": false
   },
   "source": [
    "info = make_snv_info()"
   ]
  },
  {
   "cell_type": "raw",
   "metadata": {
    "collapsed": true
   },
   "source": [
    "locus_fns = glob.glob(os.path.join(ciepy.root, 'output', 'input_data', 'mbased_locus',\n",
    "                                   '*_locus.tsv'))\n",
    "snv_fns = glob.glob(os.path.join(ciepy.root, 'private_output', 'input_data', 'mbased_snv',\n",
    "                                 '*_snv.tsv'))\n",
    "count_fns = glob.glob(os.path.join(ciepy.root, 'private_output', 'input_data', 'allele_counts',\n",
    "                                   '*mbased_input.tsv'))"
   ]
  },
  {
   "cell_type": "raw",
   "metadata": {
    "collapsed": true
   },
   "source": [
    "locus_res = {}\n",
    "for fn in locus_fns:\n",
    "    locus_res[os.path.split(fn)[1].split('_')[0]] = pd.read_table(fn, index_col=0)\n",
    "\n",
    "snv_res = {}\n",
    "for fn in snv_fns:\n",
    "    snv_res[os.path.split(fn)[1].split('_')[0]] = pd.read_table(fn, index_col=0)\n",
    "    \n",
    "count_res = {}\n",
    "for fn in count_fns:\n",
    "    count_res[os.path.split(fn)[1].split('_')[0]] = pd.read_table(fn, index_col=0)"
   ]
  },
  {
   "cell_type": "raw",
   "metadata": {
    "collapsed": false
   },
   "source": [
    "locus_p = pd.Panel(locus_res)\n",
    "snv_p = pd.Panel(snv_res)"
   ]
  },
  {
   "cell_type": "code",
   "execution_count": 4,
   "metadata": {
    "collapsed": true
   },
   "outputs": [],
   "source": [
    "fn = os.path.join(ciepy.root, 'output', 'input_data', \n",
    "                  'mbased_major_allele_freq.tsv')\n",
    "maj_af = pd.read_table(fn, index_col=0)\n",
    "\n",
    "fn = os.path.join(ciepy.root, 'output', 'input_data', \n",
    "                  'mbased_p_val_ase.tsv')\n",
    "ase_pval = pd.read_table(fn, index_col=0)\n",
    "\n",
    "locus_p = pd.Panel({'major_allele_freq':maj_af, 'p_val_ase':ase_pval})\n",
    "locus_p = locus_p.swapaxes(0, 2)\n",
    "\n",
    "snv_fns = glob.glob(os.path.join(ciepy.root, 'private_output', 'input_data', 'mbased_snv',\n",
    "                                 '*_snv.tsv'))\n",
    "count_fns = glob.glob(os.path.join(ciepy.root, 'private_output', 'input_data', 'allele_counts',\n",
    "                                   '*mbased_input.tsv'))\n",
    "\n",
    "snv_res = {}\n",
    "for fn in snv_fns:\n",
    "    snv_res[os.path.split(fn)[1].split('_')[0]] = pd.read_table(fn, index_col=0)\n",
    "    \n",
    "count_res = {}\n",
    "for fn in count_fns:\n",
    "    count_res[os.path.split(fn)[1].split('_')[0]] = pd.read_table(fn, index_col=0)\n",
    "\n",
    "snv_p = pd.Panel(snv_res)"
   ]
  },
  {
   "cell_type": "markdown",
   "metadata": {},
   "source": [
    "## General"
   ]
  },
  {
   "cell_type": "markdown",
   "metadata": {},
   "source": [
    "This is Table S8 from the 2015 GTEx paper.\n",
    "\n",
    "                Total sites ≥30 reads | Sites 30 reads ASE p < 0.005 | Sites 30 reads ASE p < 0.005 (%)\n",
    "    Minimum              221          |                8             |                 1.59%\n",
    "    Median             6383.5         |              389.5           |                 5.99%\n",
    "    Maximum             16422         |               1349           |                 15.0%\n",
    "    \n",
    "In the paper they say that \"the fraction of significant ASE sites varied widely\n",
    "across tissues, with a range of 1.7 to 3.7% (median 2.3%).\""
   ]
  },
  {
   "cell_type": "code",
   "execution_count": 5,
   "metadata": {
    "collapsed": false
   },
   "outputs": [
    {
     "data": {
      "image/png": "[encoded data removed]",
      "text/plain": [
       "<matplotlib.figure.Figure at 0x7f8cd730ed10>"
      ]
     },
     "metadata": {},
     "output_type": "display_data"
    }
   ],
   "source": [
    "frac = []\n",
    "for k in locus_p.keys():\n",
    "    frac.append(sum(locus_p.ix[k, :, 'p_val_ase'].dropna() < 0.005) / \n",
    "                float(locus_p.ix[k, :, 'p_val_ase'].dropna().shape[0]))\n",
    "\n",
    "plt.hist(frac)\n",
    "plt.title('Fraction of genes with ASE: median = {:.2f}'.format(np.median(frac)))\n",
    "plt.ylabel('Number of samples')\n",
    "plt.xlabel('Fraction of genes with ASE ($p$ < 0.005)');"
   ]
  },
  {
   "cell_type": "code",
   "execution_count": 6,
   "metadata": {
    "collapsed": false
   },
   "outputs": [
    {
     "data": {
      "image/png": "[encoded data removed]",
      "text/plain": [
       "<matplotlib.figure.Figure at 0x7f8c2d3d8290>"
      ]
     },
     "metadata": {},
     "output_type": "display_data"
    }
   ],
   "source": [
    "frac = []\n",
    "for k in locus_p.keys():\n",
    "    d = dict(zip(count_res[k]['feature'], count_res[k]['totalFeatureCount']))\n",
    "    t = locus_p[k, :, ['major_allele_freq', 'p_val_ase']].dropna()\n",
    "    t['totalFeatureCount'] = [d[i] for i in t.index]\n",
    "    t = t[t.totalFeatureCount >= 30]\n",
    "    frac.append(sum(t['p_val_ase'] < 0.005) / float(t.shape[0]))\n",
    "\n",
    "plt.hist(frac)\n",
    "plt.title('Fraction of genes with ASE (total counts $\\geq$ 30): median = {:.2f}'.format(np.median(frac)))\n",
    "plt.ylabel('Number of samples')\n",
    "plt.xlabel('Fraction of genes with ASE ($p$ < 0.005)');"
   ]
  },
  {
   "cell_type": "markdown",
   "metadata": {},
   "source": [
    "It seems that the fraction of genes we see ASE for agrees with GTEx. We may have a bit\n",
    "more power from MBASED although our coverage is probably not quite as high.\n",
    "\n",
    "## ASE/eQTL Enrichment "
   ]
  },
  {
   "cell_type": "code",
   "execution_count": 7,
   "metadata": {
    "collapsed": false
   },
   "outputs": [
    {
     "name": "stdout",
     "output_type": "stream",
     "text": [
      "eQTL genes enriched for ASE with p = 0.0, odds = 3.01\n"
     ]
    }
   ],
   "source": [
    "df = locus_p.ix[:, :, 'p_val_ase']\n",
    "df = df[meta[meta.in_eqtl].index]\n",
    "df = df.ix[set(df.index) & set(qvalues.index)]\n",
    "\n",
    "s = set(df.index) & set(qvalues[qvalues.sig_gene].index)\n",
    "ns = set(df.index) & set(qvalues[qvalues.sig_gene == False].index)\n",
    "\n",
    "t = df.ix[s]\n",
    "s_s = (t[t.isnull() == False] < 0.005).sum().sum()\n",
    "s_ns = (t[t.isnull() == False] >= 0.005).sum().sum()\n",
    "t = df.ix[ns]\n",
    "ns_s = (t[t.isnull() == False] < 0.005).sum().sum()\n",
    "ns_ns = (t[t.isnull() == False] >= 0.005).sum().sum()\n",
    "odds, pval = fisher_exact([[s_s, s_ns], [ns_s, ns_ns]])\n",
    "print('eQTL genes enriched for ASE with p = {}, odds = {:.2f}'.format(pval, odds))"
   ]
  },
  {
   "cell_type": "markdown",
   "metadata": {},
   "source": [
    "## Clustering\n",
    "\n",
    "I'd like to see how subjects cluster according to ASE."
   ]
  },
  {
   "cell_type": "code",
   "execution_count": null,
   "metadata": {
    "collapsed": true
   },
   "outputs": [],
   "source": [
    "# Filter for robustly expressed genes and take log.\n",
    "tpm_f = tpm[(tpm == 0).sum(axis=1) == 0]\n",
    "log_tpm = np.log10(tpm_f + 1)\n",
    "# Mean center.\n",
    "log_tpm_c = (log_tpm.T - log_tpm.mean(axis=1)).T\n",
    "# Variance normalize.\n",
    "log_tpm_n = (log_tpm_c.T / log_tpm_c.std(axis=1)).T"
   ]
  },
  {
   "cell_type": "code",
   "execution_count": 33,
   "metadata": {
    "collapsed": true
   },
   "outputs": [],
   "source": [
    "fn = os.path.join(ciepy.root, 'output', 'eqtl_input', 'wgs.kindump')\n",
    "kmatrix = pd.read_table(fn)"
   ]
  },
  {
   "cell_type": "code",
   "execution_count": 34,
   "metadata": {
    "collapsed": false
   },
   "outputs": [],
   "source": [
    "t = meta.drop_duplicates(subset=['subject_id'])\n",
    "t = t[t.wgs_id.isnull() == False]\n",
    "\n",
    "ind = set(kmatrix.index) & set(t.wgs_id)\n",
    "kmatrix_f = kmatrix.ix[ind, ind]\n",
    "\n",
    "kmatrix_f.index = t.index\n",
    "kmatrix_f.columns = t.index"
   ]
  },
  {
   "cell_type": "code",
   "execution_count": 53,
   "metadata": {
    "collapsed": false
   },
   "outputs": [],
   "source": [
    "df = log_tpm_n[t.index]\n",
    "c = df.corr()"
   ]
  },
  {
   "cell_type": "code",
   "execution_count": 61,
   "metadata": {
    "collapsed": false
   },
   "outputs": [],
   "source": [
    "ac = (ase_pval < 0.005).corr(method='spearman')"
   ]
  },
  {
   "cell_type": "code",
   "execution_count": 68,
   "metadata": {
    "collapsed": false
   },
   "outputs": [
    {
     "data": {
      "text/plain": [
       "<matplotlib.collections.PathCollection at 0x7f8c1590fc90>"
      ]
     },
     "execution_count": 68,
     "metadata": {},
     "output_type": "execute_result"
    },
    {
     "data": {
      "image/png": "[encoded data removed]",
      "text/plain": [
       "<matplotlib.figure.Figure at 0x7f8c16220510>"
      ]
     },
     "metadata": {},
     "output_type": "display_data"
    }
   ],
   "source": [
    "i = kmatrix_f.index[0]\n",
    "plt.scatter(kmatrix_f.ix[i], c.ix[i, kmatrix_f.columns])"
   ]
  },
  {
   "cell_type": "code",
   "execution_count": 67,
   "metadata": {
    "collapsed": false
   },
   "outputs": [
    {
     "data": {
      "text/plain": [
       "<matplotlib.collections.PathCollection at 0x7f8c17b9a610>"
      ]
     },
     "execution_count": 67,
     "metadata": {},
     "output_type": "execute_result"
    },
    {
     "data": {
      "image/png": "[encoded data removed]",
      "text/plain": [
       "<matplotlib.figure.Figure at 0x7f8c15d96b50>"
      ]
     },
     "metadata": {},
     "output_type": "display_data"
    }
   ],
   "source": [
    "i = kmatrix_f.index[0]\n",
    "plt.scatter(kmatrix_f.ix[i], ac.ix[i, kmatrix_f.columns])"
   ]
  },
  {
   "cell_type": "code",
   "execution_count": null,
   "metadata": {
    "collapsed": true
   },
   "outputs": [],
   "source": []
  },
  {
   "cell_type": "code",
   "execution_count": null,
   "metadata": {
    "collapsed": true
   },
   "outputs": [],
   "source": []
  },
  {
   "cell_type": "code",
   "execution_count": null,
   "metadata": {
    "collapsed": true
   },
   "outputs": [],
   "source": []
  },
  {
   "cell_type": "code",
   "execution_count": null,
   "metadata": {
    "collapsed": true
   },
   "outputs": [],
   "source": []
  },
  {
   "cell_type": "code",
   "execution_count": null,
   "metadata": {
    "collapsed": true
   },
   "outputs": [],
   "source": []
  },
  {
   "cell_type": "code",
   "execution_count": null,
   "metadata": {
    "collapsed": true
   },
   "outputs": [],
   "source": []
  },
  {
   "cell_type": "code",
   "execution_count": null,
   "metadata": {
    "collapsed": true
   },
   "outputs": [],
   "source": []
  },
  {
   "cell_type": "code",
   "execution_count": null,
   "metadata": {
    "collapsed": true
   },
   "outputs": [],
   "source": []
  },
  {
   "cell_type": "code",
   "execution_count": null,
   "metadata": {
    "collapsed": true
   },
   "outputs": [],
   "source": []
  }
 ],
 "metadata": {
  "kernelspec": {
   "display_name": "Python 2",
   "language": "python",
   "name": "python2"
  },
  "language_info": {
   "codemirror_mode": {
    "name": "ipython",
    "version": 2
   },
   "file_extension": ".py",
   "mimetype": "text/x-python",
   "name": "python",
   "nbconvert_exporter": "python",
   "pygments_lexer": "ipython2",
   "version": "2.7.11"
  }
 },
 "nbformat": 4,
 "nbformat_minor": 0
}
