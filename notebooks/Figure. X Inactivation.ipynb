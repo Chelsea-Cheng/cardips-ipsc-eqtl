{
 "cells": [
  {
   "cell_type": "markdown",
   "metadata": {},
   "source": [
    "# Figure. X Inactivation"
   ]
  },
  {
   "cell_type": "code",
   "execution_count": 1,
   "metadata": {
    "collapsed": false
   },
   "outputs": [],
   "source": [
    "import cPickle\n",
    "import datetime\n",
    "import glob\n",
    "import os\n",
    "import random\n",
    "import re\n",
    "import subprocess\n",
    "\n",
    "import cdpybio as cpb\n",
    "import matplotlib as mpl\n",
    "import matplotlib.gridspec as gridspec\n",
    "import matplotlib.pyplot as plt\n",
    "import numpy as np\n",
    "import pandas as pd\n",
    "import pybedtools as pbt\n",
    "import scipy.stats as stats \n",
    "import seaborn as sns\n",
    "import statsmodels.api as sm\n",
    "import statsmodels.formula.api as smf\n",
    "import statsmodels as sms\n",
    "\n",
    "import cardipspy as cpy\n",
    "import ciepy\n",
    "\n",
    "%matplotlib inline\n",
    "%load_ext rpy2.ipython\n",
    "\n",
    "import socket\n",
    "if socket.gethostname() == 'fl-hn1' or socket.gethostname() == 'fl-hn2':\n",
    "    pbt.set_tempdir('/frazer01/home/cdeboever/tmp')\n",
    "    \n",
    "outdir = os.path.join(ciepy.root, 'output',\n",
    "                      'figure_x_inactivation')\n",
    "cpy.makedir(outdir)\n",
    "\n",
    "private_outdir = os.path.join(ciepy.root, 'private_output',\n",
    "                              'figure_x_inactivation')\n",
    "cpy.makedir(private_outdir)"
   ]
  },
  {
   "cell_type": "code",
   "execution_count": 2,
   "metadata": {
    "collapsed": false
   },
   "outputs": [],
   "source": [
    "plt.rcParams['font.sans-serif'] = ['Arial']\n",
    "plt.rcParams['font.size'] = 8"
   ]
  },
  {
   "cell_type": "code",
   "execution_count": 3,
   "metadata": {
    "collapsed": true
   },
   "outputs": [],
   "source": [
    "fn = os.path.join(ciepy.root, 'output', 'input_data', 'rsem_tpm.tsv')\n",
    "tpm = pd.read_table(fn, index_col=0)\n",
    "fn = os.path.join(ciepy.root, 'output', 'input_data', 'rnaseq_metadata.tsv')\n",
    "rna_meta = pd.read_table(fn, index_col=0)\n",
    "fn = os.path.join(ciepy.root, 'output', 'input_data', 'subject_metadata.tsv')\n",
    "subject_meta = pd.read_table(fn, index_col=0)\n",
    "fn = os.path.join(ciepy.root, 'output', 'input_data', 'wgs_metadata.tsv')\n",
    "wgs_meta = pd.read_table(fn, index_col=0)\n",
    "\n",
    "gene_info = pd.read_table(cpy.gencode_gene_info, index_col=0)\n",
    "\n",
    "genes = pbt.BedTool(cpy.gencode_gene_bed)\n",
    "\n",
    "fn = os.path.join(ciepy.root, 'output', 'input_data', 'cnvs.tsv')\n",
    "cnvs = pd.read_table(fn, index_col=0)\n",
    "\n",
    "fn = os.path.join(ciepy.root, 'output', 'x_inactivation', 'x_ase_exp.tsv')\n",
    "x_exp = pd.read_table(fn, index_col=0)"
   ]
  },
  {
   "cell_type": "code",
   "execution_count": 4,
   "metadata": {
    "collapsed": true
   },
   "outputs": [],
   "source": [
    "fn = os.path.join(ciepy.root, 'output', 'input_data', \n",
    "                  'mbased_major_allele_freq.tsv')\n",
    "maj_af = pd.read_table(fn, index_col=0)\n",
    "\n",
    "fn = os.path.join(ciepy.root, 'output', 'input_data', \n",
    "                  'mbased_p_val_ase.tsv')\n",
    "ase_pval = pd.read_table(fn, index_col=0)\n",
    "\n",
    "locus_p = pd.Panel({'major_allele_freq':maj_af, 'p_val_ase':ase_pval})\n",
    "locus_p = locus_p.swapaxes(0, 2)\n",
    "\n",
    "snv_fns = glob.glob(os.path.join(ciepy.root, 'private_output', 'input_data', 'mbased_snv',\n",
    "                                 '*_snv.tsv'))\n",
    "count_fns = glob.glob(os.path.join(ciepy.root, 'private_output', 'input_data', 'allele_counts',\n",
    "                                   '*mbased_input.tsv'))\n",
    "\n",
    "snv_res = {}\n",
    "for fn in snv_fns:\n",
    "    snv_res[os.path.split(fn)[1].split('_')[0]] = pd.read_table(fn, index_col=0)\n",
    "    \n",
    "count_res = {}\n",
    "for fn in count_fns:\n",
    "    count_res[os.path.split(fn)[1].split('_')[0]] = pd.read_table(fn, index_col=0)\n",
    "\n",
    "snv_p = pd.Panel(snv_res)"
   ]
  },
  {
   "cell_type": "code",
   "execution_count": 5,
   "metadata": {
    "collapsed": true
   },
   "outputs": [],
   "source": [
    "# We'll keep female subjects with no CNVs on the X chromosome.\n",
    "sf = subject_meta[subject_meta.sex == 'F']\n",
    "meta = sf.merge(rna_meta, left_index=True, right_on='subject_id')\n",
    "s = set(meta.subject_id) & set(cnvs.ix[cnvs.chr == 'chrX', 'subject_id'])\n",
    "meta = meta[meta.subject_id.apply(lambda x: x not in s)]\n",
    "\n",
    "meta = meta.ix[[x for x in snv_p.items if x in meta.index]]\n",
    "\n",
    "snv_p = snv_p.ix[meta.index]"
   ]
  },
  {
   "cell_type": "code",
   "execution_count": 6,
   "metadata": {
    "collapsed": true
   },
   "outputs": [],
   "source": [
    "snv_p = snv_p.ix[meta.index]\n",
    "locus_p = locus_p.ix[meta.index]"
   ]
  },
  {
   "cell_type": "code",
   "execution_count": 7,
   "metadata": {
    "collapsed": true
   },
   "outputs": [],
   "source": [
    "# Filter and take log.\n",
    "tpm_f = tpm[meta[meta.sex == 'F'].index]\n",
    "tpm_f = tpm_f[(tpm_f != 0).sum(axis=1) > 0]\n",
    "log_tpm = np.log10(tpm_f + 1)\n",
    "# Mean center.\n",
    "log_tpm_c = (log_tpm.T - log_tpm.mean(axis=1)).T\n",
    "# Variance normalize.\n",
    "log_tpm_n = (log_tpm_c.T / log_tpm_c.std(axis=1)).T"
   ]
  },
  {
   "cell_type": "code",
   "execution_count": 8,
   "metadata": {
    "collapsed": true
   },
   "outputs": [],
   "source": [
    "single = locus_p.ix['071ca248-bcb1-484d-bff2-3aefc84f8688', :, :].dropna()\n",
    "x_single = single[gene_info.ix[single.index, 'chrom'] == 'chrX']\n",
    "notx_single = single[gene_info.ix[single.index, 'chrom'] != 'chrX']"
   ]
  },
  {
   "cell_type": "code",
   "execution_count": 9,
   "metadata": {
    "collapsed": true
   },
   "outputs": [],
   "source": [
    "t = locus_p.ix[:, :, 'major_allele_freq']\n",
    "x_all = locus_p.ix[:, set(t.index) & set(gene_info[gene_info.chrom == 'chrX'].index), :]\n",
    "notx_all = locus_p.ix[:, set(t.index) & set(gene_info[gene_info.chrom != 'chrX'].index), :]"
   ]
  },
  {
   "cell_type": "code",
   "execution_count": 10,
   "metadata": {
    "collapsed": true
   },
   "outputs": [],
   "source": [
    "genes_to_plot = ['XIST', 'TSIX']\n",
    "t = pd.Series(gene_info.index, index=gene_info.gene_name)\n",
    "    \n",
    "exp = log_tpm_n.ix[t[genes_to_plot]].T\n",
    "exp.columns = genes_to_plot\n",
    "exp = exp.ix[x_all.items].sort_values(by='XIST', ascending=False)"
   ]
  },
  {
   "cell_type": "code",
   "execution_count": 11,
   "metadata": {
    "collapsed": true
   },
   "outputs": [],
   "source": [
    "sns.set_style('white')"
   ]
  },
  {
   "cell_type": "markdown",
   "metadata": {},
   "source": [
    "## Paper"
   ]
  },
  {
   "cell_type": "code",
   "execution_count": 47,
   "metadata": {
    "collapsed": false
   },
   "outputs": [
    {
     "data": {
      "image/png": "[encoded data removed]",
      "text/plain": [
       "<matplotlib.figure.Figure at 0x7f773f176850>"
      ]
     },
     "metadata": {},
     "output_type": "display_data"
    }
   ],
   "source": [
    "fig = plt.figure(figsize=(6.85, 9), dpi=300)\n",
    "\n",
    "gs = gridspec.GridSpec(1, 1)\n",
    "ax = fig.add_subplot(gs[0, 0])\n",
    "ax.text(0, 1, 'Figure 6',\n",
    "        size=16, va='top', )\n",
    "ciepy.clean_axis(ax)\n",
    "ax.set_xticks([])\n",
    "ax.set_yticks([])\n",
    "gs.tight_layout(fig, rect=[0, 0.90, 0.5, 1])\n",
    "\n",
    "gs = gridspec.GridSpec(1, 3)\n",
    "ax = fig.add_subplot(gs[0, 0])\n",
    "ax.hist(x_single.major_allele_freq, bins=np.arange(0.5, 1.05, 0.05))\n",
    "ax.set_xlim(0.5, 1)\n",
    "ax.set_ylabel('Number\\nof genes', fontsize=8)\n",
    "ax.set_xlabel('Major allele frequency', fontsize=8)\n",
    "ax.spines['right'].set_visible(False)\n",
    "ax.spines['top'].set_visible(False)\n",
    "ax.set_yticks(np.arange(0, 20, 4))\n",
    "for l in ax.get_xticklines() + ax.get_yticklines(): \n",
    "    l.set_markersize(0)\n",
    "for t in ax.get_xticklabels() + ax.get_yticklabels():\n",
    "    t.set_fontsize(8)\n",
    "\n",
    "ax = fig.add_subplot(gs[0, 1])\n",
    "ax.hist(notx_single.major_allele_freq, bins=np.arange(0.5, 1.05, 0.05))\n",
    "ax.set_xlim(0.5, 1)\n",
    "ax.set_ylabel('Number\\nof genes', fontsize=8)\n",
    "ax.set_xlabel('Major allele frequency', fontsize=8)\n",
    "ax.spines['right'].set_visible(False)\n",
    "ax.spines['top'].set_visible(False)\n",
    "for l in ax.get_xticklines() + ax.get_yticklines(): \n",
    "    l.set_markersize(0)\n",
    "ax.yaxis.set_major_formatter(ciepy.comma_format)\n",
    "for t in ax.get_xticklabels() + ax.get_yticklabels():\n",
    "    t.set_fontsize(8)\n",
    "\n",
    "ax = fig.add_subplot(gs[0, 2])\n",
    "ax.hist((x_exp.mean_sig_exp - x_exp.mean_not_sig_exp))\n",
    "ax.set_ylabel('Number\\nof genes', fontsize=8)\n",
    "ax.set_xlabel('Mean expression difference', fontsize=8)\n",
    "xmin, xmax = ax.get_xlim()\n",
    "ax.set_xlim(-max(abs(xmin), abs(xmax)), max(abs(xmin), abs(xmax)))\n",
    "ax.spines['right'].set_visible(False)\n",
    "ax.spines['top'].set_visible(False)\n",
    "for l in ax.get_xticklines() + ax.get_yticklines(): \n",
    "    l.set_markersize(0)\n",
    "ax.set_xticks([-2, -1, 0, 1, 2])\n",
    "ymin, ymax = ax.get_ylim()\n",
    "ax.vlines(0, ymin, ymax, linestyle='--', lw=0.75);\n",
    "ax2 = ax\n",
    "for t in ax.get_xticklabels() + ax.get_yticklabels():\n",
    "    t.set_fontsize(8)\n",
    "\n",
    "gs.tight_layout(fig, rect=[0, 0.8, 1, 0.95])\n",
    "\n",
    "gs = gridspec.GridSpec(1, 4, width_ratios=[0.5, 1.2, 3, 3])\n",
    "\n",
    "ax = fig.add_subplot(gs[0, 0])\n",
    "passage_im = ax.imshow(np.array([meta.ix[exp.index, 'passage'].values]).T,\n",
    "                       aspect='auto', interpolation='nearest',\n",
    "                       cmap=sns.palettes.cubehelix_palette(light=.95, as_cmap=True))\n",
    "ciepy.clean_axis(ax)\n",
    "ax.set_xlabel('Passage', fontsize=8)\n",
    "\n",
    "ax = fig.add_subplot(gs[0, 1])\n",
    "\n",
    "# Make norm.\n",
    "vmin = np.floor(exp.min().min())\n",
    "vmax = np.ceil(exp.max().max())\n",
    "vmax = max([vmax, abs(vmin)])\n",
    "vmin = vmax * -1\n",
    "exp_norm = mpl.colors.Normalize(vmin, vmax)\n",
    "\n",
    "exp_im = ax.imshow(exp, aspect='auto', interpolation='nearest',\n",
    "                   norm=exp_norm, cmap=plt.get_cmap('RdBu_r'))\n",
    "ciepy.clean_axis(ax)\n",
    "ax.set_xticks([0, 1])\n",
    "ax.set_xticklabels(exp.columns, fontsize=8)\n",
    "for t in ax.get_xticklabels():\n",
    "    t.set_fontstyle('italic') \n",
    "    #t.set_rotation(30)\n",
    "for l in ax.get_xticklines() + ax.get_yticklines(): \n",
    "    l.set_markersize(0)\n",
    "    \n",
    "percent_norm = mpl.colors.Normalize(0, 1)\n",
    "\n",
    "ax = fig.add_subplot(gs[0, 2])\n",
    "r = x_all.ix[:, :, 'major_allele_freq'].apply(lambda z: pd.cut(z[z.isnull() == False], \n",
    "                                                       bins=np.arange(0.5, 1.05, 0.05)))\n",
    "r = r.apply(lambda z: z.value_counts())\n",
    "r = (r.T / r.max(axis=1)).T\n",
    "x_ase_im = ax.imshow(r.ix[exp.index], aspect='auto', interpolation='nearest',\n",
    "                     norm=percent_norm, cmap=sns.palettes.cubehelix_palette(start=0, rot=-0.5, as_cmap=True))\n",
    "ciepy.clean_axis(ax)\n",
    "xmin,xmax = ax.get_xlim()\n",
    "ax.set_xticks(np.arange(xmin, xmax + 1, 2))\n",
    "ax.set_xticklabels(np.arange(0.5, 1.05, 0.1), fontsize=8)#, rotation=30)\n",
    "for l in ax.get_xticklines() + ax.get_yticklines(): \n",
    "    l.set_markersize(0)\n",
    "ax.set_xlabel('Major allele frequency', fontsize=8)\n",
    "    \n",
    "ax = fig.add_subplot(gs[0, 3])\n",
    "r = notx_all.ix[:, :, 'major_allele_freq'].apply(lambda z: pd.cut(z[z.isnull() == False], \n",
    "                                                                   bins=np.arange(0.5, 1.05, 0.05)))\n",
    "r = r.apply(lambda z: z.value_counts())\n",
    "r = (r.T / r.max(axis=1)).T\n",
    "not_x_ase_im = ax.imshow(r.ix[exp.index], aspect='auto', interpolation='nearest',\n",
    "                         norm=percent_norm, cmap=sns.palettes.cubehelix_palette(start=0, rot=-0.5, as_cmap=True))\n",
    "ciepy.clean_axis(ax)\n",
    "xmin,xmax = ax.get_xlim()\n",
    "ax.set_xticks(np.arange(xmin, xmax + 1, 2))\n",
    "ax.set_xticklabels(np.arange(0.5, 1.05, 0.1), fontsize=8)#, rotation=30)\n",
    "for l in ax.get_xticklines() + ax.get_yticklines(): \n",
    "    l.set_markersize(0)\n",
    "ax.set_xlabel('Major allele frequency', fontsize=8)\n",
    "\n",
    "gs.tight_layout(fig, rect=[0, 0.45, 0.8, 0.8])\n",
    "\n",
    "gs = gridspec.GridSpec(2, 2)\n",
    "\n",
    "# Plot colormap for gene expression.\n",
    "ax = fig.add_subplot(gs[0:2, 0])\n",
    "cb = plt.colorbar(mappable=exp_im, cax=ax)\n",
    "cb.solids.set_edgecolor(\"face\")\n",
    "cb.outline.set_linewidth(0)\n",
    "for l in ax.get_yticklines():\n",
    "    l.set_markersize(0)\n",
    "cb.set_label('$\\log$ TPM $z$-score', fontsize=8)\n",
    "for t in ax.get_xticklabels() + ax.get_yticklabels():\n",
    "    t.set_fontsize(8)\n",
    "\n",
    "# Plot colormap for passage number.\n",
    "ax = fig.add_subplot(gs[0, 1])\n",
    "cb = plt.colorbar(mappable=passage_im, cax=ax)\n",
    "cb.solids.set_edgecolor(\"face\")\n",
    "cb.outline.set_linewidth(0)\n",
    "for l in ax.get_yticklines():\n",
    "    l.set_markersize(0)\n",
    "cb.set_label('Passage number', fontsize=8)\n",
    "cb.set_ticks(np.arange(12, 32, 4))\n",
    "for t in ax.get_xticklabels() + ax.get_yticklabels():\n",
    "    t.set_fontsize(8)\n",
    "\n",
    "# Plot colormap for ASE.\n",
    "ax = fig.add_subplot(gs[1, 1])\n",
    "cb = plt.colorbar(mappable=x_ase_im, cax=ax)\n",
    "cb.solids.set_edgecolor(\"face\")\n",
    "cb.outline.set_linewidth(0)\n",
    "for l in ax.get_yticklines():\n",
    "    l.set_markersize(0)\n",
    "cb.set_label('Fraction of genes', fontsize=8)\n",
    "cb.set_ticks(np.arange(0, 1.2, 0.2))\n",
    "for t in ax.get_xticklabels() + ax.get_yticklabels():\n",
    "    t.set_fontsize(8)\n",
    "\n",
    "gs.tight_layout(fig, rect=[0.8, 0.45, 1, 0.8])\n",
    "\n",
    "t = fig.text(0.005, 0.93, 'A', weight='bold', \n",
    "             size=12)\n",
    "t = fig.text(0.315, 0.93, 'B', weight='bold', \n",
    "             size=12)\n",
    "t = fig.text(0.675, 0.93, 'C', weight='bold', \n",
    "             size=12)\n",
    "t = fig.text(0.005, 0.79, 'D', weight='bold', \n",
    "             size=12)\n",
    "t = fig.text(0.005, 0.44, 'E', weight='bold', \n",
    "             size=12)\n",
    "t = fig.text(0.005, 0.22, 'F', weight='bold', \n",
    "             size=12)\n",
    "\n",
    "plt.savefig(os.path.join(outdir, 'x_inactivation_skeleton.pdf'))"
   ]
  },
  {
   "cell_type": "code",
   "execution_count": 13,
   "metadata": {
    "collapsed": true
   },
   "outputs": [],
   "source": [
    "%%R\n",
    "\n",
    "suppressPackageStartupMessages(library(Gviz))"
   ]
  },
  {
   "cell_type": "code",
   "execution_count": 26,
   "metadata": {
    "collapsed": true
   },
   "outputs": [],
   "source": [
    "t = x_all.ix[:, :, 'major_allele_freq']\n",
    "r = gene_info.ix[t.index, ['start', 'end']]"
   ]
  },
  {
   "cell_type": "code",
   "execution_count": 27,
   "metadata": {
    "collapsed": false
   },
   "outputs": [],
   "source": [
    "%%R -i t,r\n",
    "\n",
    "ideoTrack <- IdeogramTrack(genome = \"hg19\", chromosome = \"chrX\", fontsize=8, fontsize.legend=8,\n",
    "                           fontcolor='black', cex=1, cex.id=1, cex.axis=1, cex.title=1)\n",
    "\n",
    "mafTrack <- DataTrack(range=r, data=t, genome=\"hg19\", type=c(\"p\"), alpha=0.5, lwd=8,\n",
    "                      span=0.05, chromosome=\"chrX\", name=\"Major allele frequency\", fontsize=8,\n",
    "                      fontcolor.legend='black', col.axis='black', col.title='black',\n",
    "                      background.title='transparent', cex=1, cex.id=1, cex.axis=1, cex.title=1,\n",
    "                      fontface=1, fontface.title=1, alpha.title=1)"
   ]
  },
  {
   "cell_type": "code",
   "execution_count": 28,
   "metadata": {
    "collapsed": true
   },
   "outputs": [],
   "source": [
    "fn = os.path.join(outdir, 'p_maf.pdf')"
   ]
  },
  {
   "cell_type": "code",
   "execution_count": 29,
   "metadata": {
    "collapsed": false
   },
   "outputs": [
    {
     "data": {
      "text/plain": [
       "png \n",
       "  2 \n"
      ]
     },
     "metadata": {},
     "output_type": "display_data"
    }
   ],
   "source": [
    "%%R -i fn\n",
    "\n",
    "pdf(fn, 6.85, 2)\n",
    "plotTracks(c(ideoTrack, mafTrack), from=0, to=58100000, col.title='black')\n",
    "dev.off()"
   ]
  },
  {
   "cell_type": "code",
   "execution_count": 30,
   "metadata": {
    "collapsed": true
   },
   "outputs": [],
   "source": [
    "fn = os.path.join(outdir, 'q_maf.pdf')"
   ]
  },
  {
   "cell_type": "code",
   "execution_count": 31,
   "metadata": {
    "collapsed": false
   },
   "outputs": [
    {
     "data": {
      "text/plain": [
       "png \n",
       "  2 \n"
      ]
     },
     "metadata": {},
     "output_type": "display_data"
    }
   ],
   "source": [
    "%%R -i fn\n",
    "\n",
    "pdf(fn, 6.85, 2)\n",
    "plotTracks(c(ideoTrack, mafTrack), from=63000000, to=155270560)\n",
    "dev.off()"
   ]
  },
  {
   "cell_type": "markdown",
   "metadata": {},
   "source": [
    "## Presentation"
   ]
  },
  {
   "cell_type": "code",
   "execution_count": 36,
   "metadata": {
    "collapsed": false
   },
   "outputs": [
    {
     "data": {
      "image/png": "[encoded data removed]",
      "text/plain": [
       "<matplotlib.figure.Figure at 0x7fa848225810>"
      ]
     },
     "metadata": {},
     "output_type": "display_data"
    }
   ],
   "source": [
    "# Set fontsize\n",
    "fs = 10\n",
    "\n",
    "fig = plt.figure(figsize=(6.85, 5), dpi=300)\n",
    "\n",
    "gs = gridspec.GridSpec(1, 3)\n",
    "ax = fig.add_subplot(gs[0, 0])\n",
    "ax.hist(x_single.major_allele_freq, bins=np.arange(0.5, 1.05, 0.05))\n",
    "ax.set_xlim(0.5, 1)\n",
    "ax.set_ylabel('Number of genes', fontsize=fs)\n",
    "ax.set_xlabel('Major allele frequency', fontsize=fs)\n",
    "ax.spines['right'].set_visible(False)\n",
    "ax.spines['top'].set_visible(False)\n",
    "ax.set_yticks(np.arange(0, 20, 4))\n",
    "for l in ax.get_xticklines() + ax.get_yticklines(): \n",
    "    l.set_markersize(0)\n",
    "for t in ax.get_xticklabels() + ax.get_yticklabels():\n",
    "    t.set_fontsize(fs)\n",
    "ax.set_title('X Chromosome')\n",
    "\n",
    "ax = fig.add_subplot(gs[0, 1])\n",
    "ax.hist(notx_single.major_allele_freq, bins=np.arange(0.5, 1.05, 0.05))\n",
    "ax.set_xlim(0.5, 1)\n",
    "ax.set_ylabel('Number of genes', fontsize=fs)\n",
    "ax.set_xlabel('Major allele frequency', fontsize=fs)\n",
    "ax.spines['right'].set_visible(False)\n",
    "ax.spines['top'].set_visible(False)\n",
    "for l in ax.get_xticklines() + ax.get_yticklines(): \n",
    "    l.set_markersize(0)\n",
    "ax.yaxis.set_major_formatter(ciepy.comma_format)\n",
    "for t in ax.get_xticklabels() + ax.get_yticklabels():\n",
    "    t.set_fontsize(fs)\n",
    "ax.set_title('Autosomes')\n",
    "\n",
    "ax = fig.add_subplot(gs[0, 2])\n",
    "ax.hist((x_exp.mean_sig_exp - x_exp.mean_not_sig_exp))\n",
    "ax.set_ylabel('Number of genes', fontsize=fs)\n",
    "ax.set_xlabel('Mean expression difference', fontsize=fs)\n",
    "xmin, xmax = ax.get_xlim()\n",
    "ax.set_xlim(-max(abs(xmin), abs(xmax)), max(abs(xmin), abs(xmax)))\n",
    "ax.spines['right'].set_visible(False)\n",
    "ax.spines['top'].set_visible(False)\n",
    "for l in ax.get_xticklines() + ax.get_yticklines(): \n",
    "    l.set_markersize(0)\n",
    "ax.set_xticks([-2, -1, 0, 1, 2])\n",
    "ymin, ymax = ax.get_ylim()\n",
    "ax.vlines(0, ymin, ymax, linestyle='--', lw=0.75);\n",
    "ax2 = ax\n",
    "for t in ax.get_xticklabels() + ax.get_yticklabels():\n",
    "    t.set_fontsize(fs)\n",
    "\n",
    "gs.tight_layout(fig, rect=[0, 0.62, 1, 1.0])\n",
    "\n",
    "# t = fig.text(0.005, 0.88, 'A', weight='bold', \n",
    "#              size=12)\n",
    "# t = fig.text(0.315, 0.88, 'B', weight='bold', \n",
    "#              size=12)\n",
    "# t = fig.text(0.675, 0.88, 'C', weight='bold', \n",
    "#              size=12)\n",
    "\n",
    "gs = gridspec.GridSpec(1, 4, width_ratios=[0.5, 1.2, 3, 3])\n",
    "\n",
    "ax = fig.add_subplot(gs[0, 0])\n",
    "passage_im = ax.imshow(np.array([meta.ix[exp.index, 'passage'].values]).T,\n",
    "                       aspect='auto', interpolation='nearest',\n",
    "                       cmap=sns.palettes.cubehelix_palette(light=.95, as_cmap=True))\n",
    "ciepy.clean_axis(ax)\n",
    "ax.set_xlabel('Passage')\n",
    "\n",
    "ax = fig.add_subplot(gs[0, 1])\n",
    "\n",
    "# Make norm.\n",
    "vmin = np.floor(exp.min().min())\n",
    "vmax = np.ceil(exp.max().max())\n",
    "vmax = max([vmax, abs(vmin)])\n",
    "vmin = vmax * -1\n",
    "exp_norm = mpl.colors.Normalize(vmin, vmax)\n",
    "\n",
    "exp_im = ax.imshow(exp, aspect='auto', interpolation='nearest',\n",
    "                   norm=exp_norm, cmap=plt.get_cmap('RdBu_r'))\n",
    "ciepy.clean_axis(ax)\n",
    "ax.set_xticks([0, 1])\n",
    "ax.set_xticklabels(exp.columns, fontsize=fs)\n",
    "for t in ax.get_xticklabels():\n",
    "    t.set_fontstyle('italic') \n",
    "    t.set_rotation(30)\n",
    "for l in ax.get_xticklines() + ax.get_yticklines(): \n",
    "    l.set_markersize(0)\n",
    "    \n",
    "percent_norm = mpl.colors.Normalize(0, 1)\n",
    "\n",
    "ax = fig.add_subplot(gs[0, 2])\n",
    "r = x_all.ix[:, :, 'major_allele_freq'].apply(lambda z: pd.cut(z[z.isnull() == False], \n",
    "                                                       bins=np.arange(0.5, 1.05, 0.05)))\n",
    "r = r.apply(lambda z: z.value_counts())\n",
    "r = (r.T / r.max(axis=1)).T\n",
    "x_ase_im = ax.imshow(r.ix[exp.index], aspect='auto', interpolation='nearest',\n",
    "                     norm=percent_norm, cmap=sns.palettes.cubehelix_palette(start=0, rot=-0.5, as_cmap=True))\n",
    "ciepy.clean_axis(ax)\n",
    "xmin,xmax = ax.get_xlim()\n",
    "ax.set_xticks(np.arange(xmin, xmax + 1, 2))\n",
    "ax.set_xticklabels(np.arange(0.5, 1.05, 0.1), fontsize=fs)#, rotation=30)\n",
    "for l in ax.get_xticklines() + ax.get_yticklines(): \n",
    "    l.set_markersize(0)\n",
    "ax.set_xlabel('Major allele frequency', fontsize=fs)\n",
    "ax.set_title('X Chromosome')\n",
    "    \n",
    "ax = fig.add_subplot(gs[0, 3])\n",
    "r = notx_all.ix[:, :, 'major_allele_freq'].apply(lambda z: pd.cut(z[z.isnull() == False], \n",
    "                                                                   bins=np.arange(0.5, 1.05, 0.05)))\n",
    "r = r.apply(lambda z: z.value_counts())\n",
    "r = (r.T / r.max(axis=1)).T\n",
    "not_x_ase_im = ax.imshow(r.ix[exp.index], aspect='auto', interpolation='nearest',\n",
    "                         norm=percent_norm, cmap=sns.palettes.cubehelix_palette(start=0, rot=-0.5, as_cmap=True))\n",
    "ciepy.clean_axis(ax)\n",
    "xmin,xmax = ax.get_xlim()\n",
    "ax.set_xticks(np.arange(xmin, xmax + 1, 2))\n",
    "ax.set_xticklabels(np.arange(0.5, 1.05, 0.1), fontsize=fs)#, rotation=30)\n",
    "for l in ax.get_xticklines() + ax.get_yticklines(): \n",
    "    l.set_markersize(0)\n",
    "ax.set_xlabel('Major allele frequency', fontsize=fs)\n",
    "ax.set_title('Autosomes')\n",
    "    \n",
    "# t = fig.text(0.005, 0.615, 'D', weight='bold', \n",
    "#              size=12)\n",
    "\n",
    "gs.tight_layout(fig, rect=[0, 0, 0.75, 0.62])\n",
    "\n",
    "gs = gridspec.GridSpec(2, 2)\n",
    "\n",
    "# Plot colormap for gene expression.\n",
    "ax = fig.add_subplot(gs[0:2, 0])\n",
    "cb = plt.colorbar(mappable=exp_im, cax=ax)\n",
    "cb.solids.set_edgecolor(\"face\")\n",
    "cb.outline.set_linewidth(0)\n",
    "for l in ax.get_yticklines():\n",
    "    l.set_markersize(0)\n",
    "cb.set_label('$\\log$ TPM $z$-score', fontsize=fs)\n",
    "for t in ax.get_xticklabels() + ax.get_yticklabels():\n",
    "    t.set_fontsize(fs)\n",
    "\n",
    "# Plot colormap for passage number.\n",
    "ax = fig.add_subplot(gs[0, 1])\n",
    "cb = plt.colorbar(mappable=passage_im, cax=ax)\n",
    "cb.solids.set_edgecolor(\"face\")\n",
    "cb.outline.set_linewidth(0)\n",
    "for l in ax.get_yticklines():\n",
    "    l.set_markersize(0)\n",
    "cb.set_label('Passage number', fontsize=fs)\n",
    "cb.set_ticks(np.arange(12, 32, 4))\n",
    "for t in ax.get_xticklabels() + ax.get_yticklabels():\n",
    "    t.set_fontsize(fs)\n",
    "\n",
    "# Plot colormap for ASE.\n",
    "ax = fig.add_subplot(gs[1, 1])\n",
    "cb = plt.colorbar(mappable=x_ase_im, cax=ax)\n",
    "cb.solids.set_edgecolor(\"face\")\n",
    "cb.outline.set_linewidth(0)\n",
    "for l in ax.get_yticklines():\n",
    "    l.set_markersize(0)\n",
    "cb.set_label('Fraction of genes', fontsize=fs)\n",
    "cb.set_ticks(np.arange(0, 1.2, 0.2))\n",
    "for t in ax.get_xticklabels() + ax.get_yticklabels():\n",
    "    t.set_fontsize(fs)\n",
    "\n",
    "gs.tight_layout(fig, rect=[0.75, 0, 1, 0.62])\n",
    "\n",
    "plt.savefig(os.path.join(outdir, 'x_inactivation_hists_heatmaps_presentation.pdf'))"
   ]
  },
  {
   "cell_type": "code",
   "execution_count": 22,
   "metadata": {
    "collapsed": true
   },
   "outputs": [],
   "source": [
    "t = x_all.ix[:, :, 'major_allele_freq']\n",
    "r = gene_info.ix[t.index, ['start', 'end']]"
   ]
  },
  {
   "cell_type": "code",
   "execution_count": 30,
   "metadata": {
    "collapsed": false
   },
   "outputs": [],
   "source": [
    "%%R -i t,r\n",
    "\n",
    "ideoTrack <- IdeogramTrack(genome = \"hg19\", chromosome = \"chrX\", fontsize=16, fontsize.legend=16,\n",
    "                           fontcolor='black', cex=1, cex.id=1, cex.axis=1, cex.title=1)\n",
    "\n",
    "mafTrack <- DataTrack(range=r, data=t, genome=\"hg19\", type=c(\"smooth\", \"p\"), alpha=0.75, lwd=8,\n",
    "                      span=0.05, chromosome=\"chrX\", name=\"Major allele frequency\", fontsize=12,\n",
    "                      fontcolor.legend='black', col.axis='black', col.title='black',\n",
    "                      background.title='transparent', cex=1, cex.id=1, cex.axis=1, cex.title=1,\n",
    "                      fontface=1, fontface.title=1, alpha.title=1)"
   ]
  },
  {
   "cell_type": "code",
   "execution_count": 32,
   "metadata": {
    "collapsed": true
   },
   "outputs": [],
   "source": [
    "fn = os.path.join(outdir, 'p_maf_presentation.pdf')"
   ]
  },
  {
   "cell_type": "code",
   "execution_count": 33,
   "metadata": {
    "collapsed": false
   },
   "outputs": [
    {
     "data": {
      "text/plain": [
       "png \n",
       "  2 \n"
      ]
     },
     "metadata": {},
     "output_type": "display_data"
    }
   ],
   "source": [
    "%%R -i fn\n",
    "\n",
    "pdf(fn, 10, 3)\n",
    "plotTracks(c(ideoTrack, mafTrack), from=0, to=58100000, col.title='black')\n",
    "dev.off()"
   ]
  },
  {
   "cell_type": "code",
   "execution_count": 34,
   "metadata": {
    "collapsed": true
   },
   "outputs": [],
   "source": [
    "fn = os.path.join(outdir, 'q_maf_presentation.pdf')"
   ]
  },
  {
   "cell_type": "code",
   "execution_count": 35,
   "metadata": {
    "collapsed": false
   },
   "outputs": [
    {
     "data": {
      "text/plain": [
       "png \n",
       "  2 \n"
      ]
     },
     "metadata": {},
     "output_type": "display_data"
    }
   ],
   "source": [
    "%%R -i fn\n",
    "\n",
    "pdf(fn, 10, 3)\n",
    "plotTracks(c(ideoTrack, mafTrack), from=63000000, to=155270560)\n",
    "dev.off()"
   ]
  }
 ],
 "metadata": {
  "kernelspec": {
   "display_name": "Environment (cie)",
   "language": "",
   "name": "cie"
  },
  "language_info": {
   "codemirror_mode": {
    "name": "ipython",
    "version": 2
   },
   "file_extension": ".py",
   "mimetype": "text/x-python",
   "name": "python",
   "nbconvert_exporter": "python",
   "pygments_lexer": "ipython2",
   "version": "2.7.11"
  }
 },
 "nbformat": 4,
 "nbformat_minor": 0
}
