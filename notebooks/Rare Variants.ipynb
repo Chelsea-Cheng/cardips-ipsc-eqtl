{
 "cells": [
  {
   "cell_type": "markdown",
   "metadata": {},
   "source": [
    "# Rare Variants\n",
    "\n",
    "TODO: Remove WGS derived from fibroblasts? They have a lot of extra variants."
   ]
  },
  {
   "cell_type": "code",
   "execution_count": 52,
   "metadata": {
    "collapsed": false
   },
   "outputs": [
    {
     "name": "stdout",
     "output_type": "stream",
     "text": [
      "The rpy2.ipython extension is already loaded. To reload it, use:\n",
      "  %reload_ext rpy2.ipython\n"
     ]
    }
   ],
   "source": [
    "import copy\n",
    "import datetime as dt\n",
    "import glob\n",
    "import os\n",
    "import re\n",
    "import subprocess\n",
    "import urllib2\n",
    "\n",
    "import cdpybio as cpb\n",
    "from ipyparallel import Client\n",
    "from scipy.stats import fisher_exact\n",
    "import matplotlib.gridspec as gridspec\n",
    "from matplotlib.patches import Rectangle\n",
    "import matplotlib.pyplot as plt\n",
    "import numpy as np\n",
    "import pandas as pd\n",
    "import pyencodetools as pet\n",
    "import pybedtools as pbt\n",
    "import scipy\n",
    "import scipy.stats as stats\n",
    "import seaborn as sns\n",
    "import socket\n",
    "import statsmodels.stats.multitest as smm\n",
    "import vcf as pyvcf\n",
    "\n",
    "import cardipspy as cpy\n",
    "import ciepy\n",
    "\n",
    "%matplotlib inline\n",
    "%load_ext rpy2.ipython\n",
    "\n",
    "dy_name = 'rare_variants'\n",
    "\n",
    "import socket\n",
    "if socket.gethostname() == 'fl-hn1' or socket.gethostname() == 'fl-hn2':\n",
    "    dy = os.path.join(ciepy.root, 'sandbox', dy_name)\n",
    "    cpy.makedir(dy)\n",
    "    pbt.set_tempdir(dy)\n",
    "    \n",
    "outdir = os.path.join(ciepy.root, 'output', dy_name)\n",
    "cpy.makedir(outdir)\n",
    "\n",
    "private_outdir = os.path.join(ciepy.root, 'private_output', dy_name)\n",
    "cpy.makedir(private_outdir)"
   ]
  },
  {
   "cell_type": "code",
   "execution_count": 2,
   "metadata": {
    "collapsed": false
   },
   "outputs": [],
   "source": [
    "tg = pd.read_table(cpy.gencode_transcript_gene, index_col=0, \n",
    "                   header=None, squeeze=True)\n",
    "gene_info = pd.read_table(cpy.gencode_gene_info, index_col=0)\n",
    "genes = pbt.BedTool(cpy.gencode_gene_bed)\n",
    "fn = os.path.join(ciepy.root, 'output', 'input_data', 'rsem_tpm.tsv')\n",
    "tpm = pd.read_table(fn, index_col=0)\n",
    "\n",
    "cnvs = pd.read_table(os.path.join(ciepy.root, 'output', 'input_data',\n",
    "                                  'cnvs.tsv'), index_col=0)\n",
    "fn = os.path.join(ciepy.root, 'output', 'input_data', 'wgs_metadata.tsv')\n",
    "wgs_meta = pd.read_table(fn, index_col=0, squeeze=True)\n",
    "fn = os.path.join(ciepy.root, 'output', 'input_data', 'rnaseq_metadata.tsv')\n",
    "rna_meta = pd.read_table(fn, index_col=0)\n",
    "rna_meta = rna_meta[rna_meta.in_eqtl]\n",
    "fn = os.path.join(ciepy.root, 'output', 'input_data', 'subject_metadata.tsv')\n",
    "subject_meta = pd.read_table(fn, index_col=0)\n",
    "\n",
    "wgs_to_rna = pd.Series(rna_meta.index, index=rna_meta.wgs_id)"
   ]
  },
  {
   "cell_type": "code",
   "execution_count": 3,
   "metadata": {
    "collapsed": true
   },
   "outputs": [],
   "source": [
    "fn = os.path.join(outdir, 'promoter_regions.bed')\n",
    "if not os.path.exists(fn):\n",
    "    promoter_regions = cpb.gencode.make_promoter_bed(cpy.gencode_gtf, merge_by_gene=True,\n",
    "                                                     up=2000, down=200, out=fn)\n",
    "else:\n",
    "    promoter_regions = pbt.BedTool(fn)\n",
    "    \n",
    "gene_to_region = {}\n",
    "for r in promoter_regions:\n",
    "    k = r.name.split('_')[0]\n",
    "    gene_to_region[k] = gene_to_region.get(k, []) + ['{}:{}-{}'.format(r.chrom, r.start, r.end)]"
   ]
  },
  {
   "cell_type": "code",
   "execution_count": 128,
   "metadata": {
    "collapsed": false
   },
   "outputs": [],
   "source": [
    "t = promoter_regions.to_dataframe()\n",
    "t.chrom = t.chrom.apply(lambda x: x[3:])\n",
    "# bcftools needs a one-based inclusive bed file.\n",
    "s = '\\n'.join(t.chrom + '\\t' + (t.start + 1).astype(str) + '\\t' + \n",
    "              t.end.astype(str)) + '\\n'\n",
    "bt = pbt.BedTool(s, from_string=True)"
   ]
  },
  {
   "cell_type": "code",
   "execution_count": 129,
   "metadata": {
    "collapsed": true
   },
   "outputs": [],
   "source": [
    "vcfs = ['CARDIPS_chr{}_phased.vcf.gz'.format(x) for x in range(1, 23)]\n",
    "vcfs = [os.path.join('/projects/CARDIPS/pipeline/WGS/mergedVCF/phased_20151214/', x) for x in vcfs]\n",
    "for vcf in vcfs:\n",
    "    out = os.path.split(vcf)[1].split('.')[0] + '_promoter_variants.vcf'\n",
    "    out = os.path.join(private_outdir, out)\n",
    "    c = 'bcftools view -Ov -R {} {} > {}'.format(bt.fn, vcf, out)\n",
    "    subprocess.check_call(c, shell=True)"
   ]
  },
  {
   "cell_type": "code",
   "execution_count": null,
   "metadata": {
    "collapsed": true
   },
   "outputs": [],
   "source": []
  },
  {
   "cell_type": "code",
   "execution_count": null,
   "metadata": {
    "collapsed": true
   },
   "outputs": [],
   "source": []
  },
  {
   "cell_type": "code",
   "execution_count": 71,
   "metadata": {
    "collapsed": false
   },
   "outputs": [],
   "source": [
    "log_tpm = np.log10(tpm + 1)\n",
    "# We'll limit to the eQTL samples so we have one sample per subject and we know\n",
    "# we have WGS data.\n",
    "log_tpm_f = log_tpm[rna_meta[rna_meta.in_eqtl].index]\n",
    "log_tpm_f = log_tpm_f[(log_tpm_f != 0).sum(axis=1) >= (log_tpm_f.shape[1] * 0.5)]\n",
    "log_tpm_c = (log_tpm_f.T - log_tpm_f.mean(axis=1)).T\n",
    "log_tpm_z = (log_tpm_c.T / log_tpm_c.std(axis=1)).T\n",
    "chroms = ['chr{}'.format(x) for x in range(1, 23)]\n",
    "log_tpm_z = log_tpm_z.ix[set(log_tpm_z.index) & \n",
    "                         set(gene_info[gene_info.chrom.apply(lambda x: x in chroms)].index)]"
   ]
  },
  {
   "cell_type": "code",
   "execution_count": 95,
   "metadata": {
    "collapsed": false
   },
   "outputs": [],
   "source": [
    "def rare_analysis(gene_id):\n",
    "    all_genotypes = []\n",
    "    all_af = []\n",
    "    regions = gene_to_region[gene_id]\n",
    "    for region in regions:\n",
    "        chrom,coords = region.split(':')\n",
    "        start,end = [int(x) for x in coords.split('-')]\n",
    "        # Get the variants in the promoter region for cardips and 1KGP.\n",
    "        fn = ('/projects/CARDIPS/pipeline/WGS/mergedVCF/phased_20151214/'\n",
    "              'CARDIPS_{}_phased.vcf.gz'.format(chrom))\n",
    "        vcf_reader = pyvcf.Reader(open(fn))\n",
    "        cardips_res = vcf_reader.fetch(chrom[3:], start, end)\n",
    "        fn = ('/publicdata/1KGP_20151103/ALL.{}.'\n",
    "              'phase3_shapeit2_mvncall_integrated_v5a.20130502.genotypes.vcf.gz'.format(chrom))\n",
    "        vcf_reader = pyvcf.Reader(open(fn))\n",
    "        kgp_res = vcf_reader.fetch(chrom[3:], start, end)\n",
    "\n",
    "        # Get allele frequency from cardips and 1KGP.\n",
    "        c_ind = []\n",
    "        c_af = []\n",
    "        for r in cardips_res:\n",
    "            if len(r.aaf) == 1:\n",
    "                c_ind.append('chr{}:{}-{}'.format(r.CHROM, r.POS - 1, r.POS - 1 + len(r.REF)))\n",
    "                c_af.append(r.aaf[0])\n",
    "\n",
    "        k_ind = []\n",
    "        k_af = []\n",
    "        for r in kgp_res:\n",
    "            if len(r.INFO['AF']) == 1:\n",
    "                k_ind.append('chr{}:{}-{}'.format(r.CHROM, r.POS - 1, r.POS - 1 + len(r.REF)))\n",
    "                k_af.append([r.INFO['AF'][0], r.INFO['AFR_AF'][0], r.INFO['AMR_AF'][0], \n",
    "                             r.INFO['EAS_AF'][0], r.INFO['EUR_AF'][0], r.INFO['SAS_AF'][0]])\n",
    "        c_df = pd.DataFrame(c_af, index=c_ind, columns=['cardips_AF'])\n",
    "        k_df = pd.DataFrame(k_af, index=k_ind, columns=['AF', 'AFR_AF', 'AMR_AF',\n",
    "                                                        'EAS_AF', 'EUR_AF', 'SAS_AF'])\n",
    "        af = k_df.merge(c_df, left_index=True, right_index=True, how='right')\n",
    "        af.ix[af.AF.isnull(), 'AF'] = 0\n",
    "\n",
    "        fn = ('/projects/CARDIPS/pipeline/WGS/mergedVCF/phased_20151214/'\n",
    "              'CARDIPS_{}_phased.vcf.gz'.format(chrom))\n",
    "        vcf_reader = pyvcf.Reader(open(fn))\n",
    "        cardips_res = vcf_reader.fetch(chrom[3:], start, end)\n",
    "        genotypes = pd.DataFrame(np.nan, index=af.index, columns=log_tpm_z.columns)\n",
    "\n",
    "        for r in cardips_res:\n",
    "            ind = 'chr{}:{}-{}'.format(r.CHROM, r.POS - 1, r.POS - 1 + len(r.REF))\n",
    "            if ind in genotypes.index:\n",
    "                samples = wgs_to_rna[[s.sample for s in r.get_hom_refs()]].dropna().values\n",
    "                genotypes.ix[ind, samples] = 0\n",
    "                samples = wgs_to_rna[[s.sample for s in r.get_hets()]].dropna().values\n",
    "                genotypes.ix[ind, samples] = 1\n",
    "                samples = wgs_to_rna[[s.sample for s in r.get_hom_alts()]].dropna().values\n",
    "                genotypes.ix[ind, samples] = 2\n",
    "\n",
    "        genotypes_f = genotypes.ix[af[af.AF <= 0.01].index]\n",
    "        genotypes_f = genotypes_f[(genotypes_f.sum(axis=1) <= 14) & \n",
    "                                  (genotypes_f.sum(axis=1) > 0)]\n",
    "        all_genotypes.append(genotypes_f)\n",
    "        all_af.append(af)\n",
    "    genotypes = pd.concat(all_genotypes)\n",
    "    af = pd.concat(all_af)\n",
    "    rare = log_tpm_z.ix[gene_id, genotypes.columns[genotypes.sum() > 0]].abs()\n",
    "    no_rare = log_tpm_z.ix[gene_id, genotypes.columns[genotypes.sum() == 0]].abs()\n",
    "    if rare.shape[0] >= 20 and no_rare.shape >= 20:\n",
    "        pvalue = scipy.stats.mannwhitneyu(rare, no_rare).pvalue\n",
    "    else:\n",
    "        pvalue = np.nan\n",
    "    out = [pvalue, rare.mean(), rare.median(), rare.shape[0], \n",
    "           no_rare.mean(), no_rare.median(), no_rare.shape[0]]\n",
    "    return out"
   ]
  },
  {
   "cell_type": "code",
   "execution_count": 8,
   "metadata": {
    "collapsed": false
   },
   "outputs": [
    {
     "data": {
      "text/plain": [
       "<matplotlib.axes._subplots.AxesSubplot at 0x7fb9fa30f150>"
      ]
     },
     "execution_count": 8,
     "metadata": {},
     "output_type": "execute_result"
    },
    {
     "data": {
      "image/png": "[encoded data removed]",
      "text/plain": [
       "<matplotlib.figure.Figure at 0x7fb9fb9f5e50>"
      ]
     },
     "metadata": {},
     "output_type": "display_data"
    }
   ],
   "source": [
    "log_tpm_z.ix[gene_id, genotypes.columns[genotypes.sum() == 0]].abs().hist()\n",
    "log_tpm_z.ix[gene_id, genotypes.columns[genotypes.sum() > 0]].abs().hist()"
   ]
  },
  {
   "cell_type": "code",
   "execution_count": 80,
   "metadata": {
    "collapsed": false
   },
   "outputs": [
    {
     "name": "stdout",
     "output_type": "stream",
     "text": [
      "Cluster has 20 engines.\n"
     ]
    }
   ],
   "source": [
    "from ipyparallel import Client\n",
    "parallel_client = Client()\n",
    "#parallel_client = Client(profile='parallel')\n",
    "dview = parallel_client[:]\n",
    "print('Cluster has {} engines.'.format(len(parallel_client.ids)))"
   ]
  },
  {
   "cell_type": "code",
   "execution_count": 96,
   "metadata": {
    "collapsed": false
   },
   "outputs": [
    {
     "name": "stdout",
     "output_type": "stream",
     "text": [
      "importing cdpybio on engine(s)\n",
      "importing cardipspy on engine(s)\n",
      "importing numpy on engine(s)\n",
      "importing pandas on engine(s)\n",
      "importing os on engine(s)\n",
      "importing scipy.stats on engine(s)\n",
      "importing vcf on engine(s)\n"
     ]
    }
   ],
   "source": [
    "with dview.sync_imports():\n",
    "    import cdpybio\n",
    "    import cardipspy\n",
    "    import numpy\n",
    "    import pandas\n",
    "    import os\n",
    "    import scipy.stats\n",
    "    import vcf"
   ]
  },
  {
   "cell_type": "code",
   "execution_count": 91,
   "metadata": {
    "collapsed": false
   },
   "outputs": [],
   "source": [
    "%px cpb = cdpybio\n",
    "%px cpy = cardipspy\n",
    "%px np = numpy\n",
    "%px pd = pandas\n",
    "%px pyvcf = vcf"
   ]
  },
  {
   "cell_type": "code",
   "execution_count": 97,
   "metadata": {
    "collapsed": true
   },
   "outputs": [],
   "source": [
    "dview.push(dict(rare_analysis=rare_analysis, log_tpm_z=log_tpm_z, \n",
    "                gene_to_region=gene_to_region, wgs_to_rna=wgs_to_rna));"
   ]
  },
  {
   "cell_type": "code",
   "execution_count": 98,
   "metadata": {
    "collapsed": false
   },
   "outputs": [],
   "source": [
    "results = dview.map_sync(lambda x: rare_analysis(x), log_tpm_z.index[500:1500])"
   ]
  },
  {
   "cell_type": "code",
   "execution_count": 103,
   "metadata": {
    "collapsed": false
   },
   "outputs": [],
   "source": [
    "cols = ['pvalue', 'rare_mean', 'rare_median', 'rare_num',\n",
    "        'no_rare_mean', 'no_rare_median', 'no_rare_num']\n",
    "df = pd.DataFrame(results, columns=cols)"
   ]
  },
  {
   "cell_type": "code",
   "execution_count": 116,
   "metadata": {
    "collapsed": false
   },
   "outputs": [
    {
     "data": {
      "image/png": "[encoded data removed]",
      "text/plain": [
       "<matplotlib.figure.Figure at 0x7fb9fca47350>"
      ]
     },
     "metadata": {},
     "output_type": "display_data"
    }
   ],
   "source": [
    "sns.jointplot(x='rare_median', y='no_rare_median', data=df);"
   ]
  },
  {
   "cell_type": "code",
   "execution_count": 117,
   "metadata": {
    "collapsed": false
   },
   "outputs": [
    {
     "data": {
      "text/plain": [
       "WilcoxonResult(statistic=215265.0, pvalue=0.41479965753015891)"
      ]
     },
     "execution_count": 117,
     "metadata": {},
     "output_type": "execute_result"
    }
   ],
   "source": [
    "stats.wilcoxon(df.rare_median, df.no_rare_median)"
   ]
  },
  {
   "cell_type": "markdown",
   "metadata": {},
   "source": [
    "TODO: I want to see if I can use the 1KGP intersection VCFs \n",
    "that I made to speed this stuff up a bit. I want to intersect\n",
    "the variants with some functional annotations too."
   ]
  },
  {
   "cell_type": "code",
   "execution_count": null,
   "metadata": {
    "collapsed": true
   },
   "outputs": [],
   "source": []
  },
  {
   "cell_type": "code",
   "execution_count": null,
   "metadata": {
    "collapsed": true
   },
   "outputs": [],
   "source": []
  },
  {
   "cell_type": "code",
   "execution_count": null,
   "metadata": {
    "collapsed": true
   },
   "outputs": [],
   "source": []
  },
  {
   "cell_type": "code",
   "execution_count": null,
   "metadata": {
    "collapsed": true
   },
   "outputs": [],
   "source": []
  },
  {
   "cell_type": "code",
   "execution_count": null,
   "metadata": {
    "collapsed": true
   },
   "outputs": [],
   "source": []
  },
  {
   "cell_type": "code",
   "execution_count": null,
   "metadata": {
    "collapsed": true
   },
   "outputs": [],
   "source": []
  },
  {
   "cell_type": "code",
   "execution_count": null,
   "metadata": {
    "collapsed": true
   },
   "outputs": [],
   "source": []
  },
  {
   "cell_type": "code",
   "execution_count": null,
   "metadata": {
    "collapsed": true
   },
   "outputs": [],
   "source": []
  },
  {
   "cell_type": "code",
   "execution_count": null,
   "metadata": {
    "collapsed": true
   },
   "outputs": [],
   "source": []
  }
 ],
 "metadata": {
  "kernelspec": {
   "display_name": "Environment (cie)",
   "language": "",
   "name": "cie"
  },
  "language_info": {
   "codemirror_mode": {
    "name": "ipython",
    "version": 2
   },
   "file_extension": ".py",
   "mimetype": "text/x-python",
   "name": "python",
   "nbconvert_exporter": "python",
   "pygments_lexer": "ipython2",
   "version": "2.7.10"
  }
 },
 "nbformat": 4,
 "nbformat_minor": 0
}
