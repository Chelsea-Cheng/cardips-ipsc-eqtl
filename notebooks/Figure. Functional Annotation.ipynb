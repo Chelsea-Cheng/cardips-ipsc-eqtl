{
 "cells": [
  {
   "cell_type": "markdown",
   "metadata": {},
   "source": [
    "# Figure. Functional Annotation"
   ]
  },
  {
   "cell_type": "code",
   "execution_count": 1,
   "metadata": {
    "collapsed": false
   },
   "outputs": [],
   "source": [
    "import cPickle\n",
    "import glob\n",
    "import os\n",
    "import random\n",
    "import subprocess\n",
    "\n",
    "import cdpybio as cpb\n",
    "from ipyparallel import Client\n",
    "import matplotlib as mpl\n",
    "import matplotlib.gridspec as gridspec\n",
    "import matplotlib.pyplot as plt\n",
    "import networkx as nx\n",
    "import numpy as np\n",
    "import pandas as pd\n",
    "import pybedtools as pbt\n",
    "from scipy.stats import fisher_exact\n",
    "import seaborn as sns\n",
    "import statsmodels.api as sm\n",
    "import statsmodels.formula.api as smf\n",
    "import statsmodels as sms\n",
    "import tabix\n",
    "import vcf as pyvcf\n",
    "import weblogolib as logo\n",
    "\n",
    "import cardipspy as cpy\n",
    "import ciepy\n",
    "\n",
    "%matplotlib inline\n",
    "%load_ext rpy2.ipython\n",
    "\n",
    "dy_name = 'figure_functional_annotation'\n",
    "\n",
    "import socket\n",
    "if socket.gethostname() == 'fl-hn1' or socket.gethostname() == 'fl-hn2':\n",
    "    dy = os.path.join(ciepy.root, 'sandbox', 'tmp', dy_name)\n",
    "    cpy.makedir(dy)\n",
    "    pbt.set_tempdir(dy)\n",
    "    \n",
    "outdir = os.path.join(ciepy.root, 'output', dy_name)\n",
    "cpy.makedir(outdir)\n",
    "\n",
    "private_outdir = os.path.join(ciepy.root, 'private_output', dy_name)\n",
    "cpy.makedir(private_outdir)"
   ]
  },
  {
   "cell_type": "code",
   "execution_count": 2,
   "metadata": {
    "collapsed": true
   },
   "outputs": [],
   "source": [
    "sns.set_style('whitegrid')"
   ]
  },
  {
   "cell_type": "code",
   "execution_count": 3,
   "metadata": {
    "collapsed": false
   },
   "outputs": [],
   "source": [
    "fn = os.path.join(ciepy.root, 'output', 'functional_annotation_analysis', 'encode_dnase_res.tsv')\n",
    "encode_dnase_res = pd.read_table(fn, index_col=0)\n",
    "\n",
    "fn = os.path.join(ciepy.root, 'output', 'functional_annotation_analysis', 'roadmap_dnase_res.tsv')\n",
    "roadmap_dnase_res = pd.read_table(fn, index_col=0)\n",
    "\n",
    "fn = os.path.join(os.path.split(cpy.roadmap_15_state_annotation)[0], 'epigenome_metadata.tsv')\n",
    "roadmap_meta = pd.read_table(fn, index_col=0)\n",
    "\n",
    "fn = os.path.join(os.path.split(cpy.roadmap_15_state_annotation)[0], 'EIDlegend.txt')\n",
    "roadmap_ids = pd.read_table(fn, squeeze=True, index_col=0, header=None)\n",
    "\n",
    "fn = os.path.join(ciepy.root, 'output', 'functional_annotation_analysis', 'encode_stem_cell_chip_seq_res.tsv')\n",
    "tf_res = pd.read_table(fn, index_col=0)"
   ]
  },
  {
   "cell_type": "markdown",
   "metadata": {},
   "source": [
    "## Process data\n",
    "\n",
    "I'm going to subset the data a bit for plotting and print out some stats for the paper.\n",
    "I also need to rename the cell lines and categories to have some consistency across the\n",
    "two projects.\n",
    "\n",
    "### DHS results\n",
    "\n",
    "#### Roadmap"
   ]
  },
  {
   "cell_type": "code",
   "execution_count": 4,
   "metadata": {
    "collapsed": true
   },
   "outputs": [],
   "source": [
    "roadmap_dnase_res = roadmap_dnase_res.join(roadmap_meta[['GROUP', 'TYPE', 'ANATOMY']])\n",
    "roadmap_dnase_res['name'] = roadmap_ids[roadmap_dnase_res.index].values"
   ]
  },
  {
   "cell_type": "code",
   "execution_count": 5,
   "metadata": {
    "collapsed": false
   },
   "outputs": [
    {
     "name": "stdout",
     "output_type": "stream",
     "text": [
      "Tested 53 Roadmap cell types.\n"
     ]
    }
   ],
   "source": [
    "print('Tested {} Roadmap cell types.'.format(roadmap_dnase_res.shape[0]))"
   ]
  },
  {
   "cell_type": "code",
   "execution_count": 6,
   "metadata": {
    "collapsed": false
   },
   "outputs": [
    {
     "data": {
      "text/plain": [
       "PrimaryTissue     50\n",
       "PrimaryCulture    38\n",
       "PrimaryCell       25\n",
       "ESCDerived         9\n",
       "CellLine           5\n",
       "Name: TYPE, dtype: int64"
      ]
     },
     "execution_count": 6,
     "metadata": {},
     "output_type": "execute_result"
    }
   ],
   "source": [
    "roadmap_meta.TYPE.value_counts()"
   ]
  },
  {
   "cell_type": "markdown",
   "metadata": {},
   "source": [
    "I can convert some of these labels directly, but some I have to break down.\n",
    "In particular, there are a lot of things categorized as 'PrimaryCulture'."
   ]
  },
  {
   "cell_type": "code",
   "execution_count": 7,
   "metadata": {
    "collapsed": true
   },
   "outputs": [],
   "source": [
    "sample_type_conv = {\n",
    "    'PrimaryTissue':'Primary tissue',\n",
    "    'PrimaryCulture':'Primary culture',\n",
    "    'PrimaryCell':'Primary cell',\n",
    "    'ESCDerived':'In vitro differentiated',\n",
    "    'CellLine':'Immortalized line',\n",
    "}"
   ]
  },
  {
   "cell_type": "code",
   "execution_count": 8,
   "metadata": {
    "collapsed": true
   },
   "outputs": [],
   "source": [
    "roadmap_dnase_res['my_cell_type'] = [sample_type_conv[x] for x in roadmap_dnase_res.TYPE]"
   ]
  },
  {
   "cell_type": "markdown",
   "metadata": {},
   "source": [
    "I want to specifically label the stem and fetal cells from Roadmap."
   ]
  },
  {
   "cell_type": "code",
   "execution_count": 9,
   "metadata": {
    "collapsed": true
   },
   "outputs": [],
   "source": [
    "roadmap_dnase_res.ix[roadmap_dnase_res.ANATOMY == 'IPSC', 'my_cell_type'] = 'Stem cell'\n",
    "roadmap_dnase_res.ix[roadmap_dnase_res.ANATOMY == 'ESC', 'my_cell_type'] = 'Stem cell'\n",
    "roadmap_dnase_res.ix[(roadmap_dnase_res.name.apply(lambda x: 'fetal' in x.lower())) & \n",
    "                     (roadmap_dnase_res.TYPE == 'PrimaryTissue'), 'my_cell_type'] = 'Primary fetal tissue'"
   ]
  },
  {
   "cell_type": "markdown",
   "metadata": {},
   "source": [
    "Now I'll choose the top 25 cell types and rename them with more reasonable\n",
    "and consistent names. For instance, ENCODE has both H1-hESC and H9 while \n",
    "Roadmap says \"H1 Cell Line\". These should be standardized. I also need to standardize\n",
    "capitalization and weird stuff like \"skin02\" in the Roadmap names."
   ]
  },
  {
   "cell_type": "code",
   "execution_count": 10,
   "metadata": {
    "collapsed": false
   },
   "outputs": [],
   "source": [
    "roadmap_dnase_res_f = roadmap_dnase_res.sort_values(by='pvalue', ascending=False).tail(25)\n",
    "\n",
    "name_conv = {\n",
    "    'Primary hematopoietic stem cells G-CSF-mobilized Male':'Hematopoietic stem cells (G-CSF mobilized)',\n",
    "    'Primary monocytes fromperipheralblood':'Peripheral blood monocytes',\n",
    "    'Foreskin Fibroblast Primary Cells skin02':'Foreskin fibroblasts',\n",
    "    'Fetal Adrenal Gland':'Fetal adrenal gland',\n",
    "    'A549 EtOH 0.02pct Lung Carcinoma Cell Line':'A549 lung carcinoma line',\n",
    "    'HSMM Skeletal Muscle Myoblasts Cell Line':'HSMM skeletal muscle myoblasts line',\n",
    "    'Fetal Intestine Large':'Fetal large intestine',\n",
    "    'NHLF Lung Fibroblast Primary Cells':'NHLF lung fibroblasts',\n",
    "    'NH-A Astrocytes Cell Line':'NH-A astrocytes',\n",
    "    'HUVEC Umbilical Vein Endothelial Cells Cell Line':'HUVEC umbilical vein endothelial cells',\n",
    "    'Fetal Stomach':'Fetal stomach',\n",
    "    'Primary hematopoietic stem cells G-CSF-mobilized Female':'Hematopoietic stem cells (G-CSF mobilized)',\n",
    "    'Fetal Kidney':'Fetal kidney',\n",
    "    'Breast variant Human Mammary Epithelial Cells (vHMEC)':'vHMEC breast variant mammary epithelial cells',\n",
    "    'Fetal Lung':'Fetal lung',\n",
    "    'Fetal Intestine Small':'Fetal small intestine',\n",
    "    'Ovary':'Ovary',\n",
    "    'Fetal Heart':'Fetal heart',\n",
    "    'HepG2 Hepatocellular Carcinoma Cell Line':'HepG2 hepatocellular carcinoma line',\n",
    "    'Pancreas':'Pancreas',\n",
    "    'H1 Derived Neuronal Progenitor Cultured Cells':'H1 derived neuronal progenitors',\n",
    "    'H1 BMP4 Derived Mesendoderm Cultured Cells':'H1 BMP4 derived mesendoderm',\n",
    "    'iPS DF 6.9 Cell Line':'iPSC (DF 6.9)',\n",
    "    'iPS DF 19.11 Cell Line':'iPSC (DF 19.11)',\n",
    "    'H9 Cell Line':'H9 hESC',\n",
    "    'H1 Cell Line':'H1 hESC',\n",
    "    'HSMM cell derived Skeletal Muscle Myotubes Cell Line':'HSMM-derived skeletal muscle myotubes line',\n",
    "    'Fetal Brain Male':'Fetal brain',\n",
    "    'Fetal Thymus':'Fetal thymus',\n",
    "    'H1 BMP4 Derived Trophoblast Cultured Cells':'H1 BMP4 derived trophoblasts',\n",
    "    'Foreskin Keratinocyte Primary Cells skin02':'Foreskin keratinocytes',\n",
    "    'Small Intestine':'Small intestine'\n",
    "}\n",
    "\n",
    "roadmap_dnase_res_f['my_name'] = [name_conv[x] for x in roadmap_dnase_res_f.name]"
   ]
  },
  {
   "cell_type": "code",
   "execution_count": 11,
   "metadata": {
    "collapsed": true
   },
   "outputs": [],
   "source": [
    "roadmap_dnase_res['my_name'] = np.nan\n",
    "roadmap_dnase_res.ix[roadmap_dnase_res_f.index, 'my_name'] = roadmap_dnase_res_f.my_name"
   ]
  },
  {
   "cell_type": "markdown",
   "metadata": {},
   "source": [
    "#### ENCODE"
   ]
  },
  {
   "cell_type": "code",
   "execution_count": 12,
   "metadata": {
    "collapsed": false
   },
   "outputs": [
    {
     "name": "stdout",
     "output_type": "stream",
     "text": [
      "Tested 209 samples from 134 cell types.\n",
      "Tested 9 skin fibroblast samples.\n"
     ]
    }
   ],
   "source": [
    "a = encode_dnase_res.shape[0]\n",
    "b = encode_dnase_res.cell_type.value_counts().shape[0]\n",
    "print('Tested {} samples from {} cell types.'.format(a, b))\n",
    "print('Tested {} skin fibroblast samples.'.format(sum(encode_dnase_res.cell_type == 'skin fibroblast')))"
   ]
  },
  {
   "cell_type": "code",
   "execution_count": 13,
   "metadata": {
    "collapsed": false
   },
   "outputs": [
    {
     "name": "stdout",
     "output_type": "stream",
     "text": [
      "The skin fibroblasts were in positions 19, 20, 24, 43, 47, 59, 155, 188, 206 in the list of most enriched lines.\n"
     ]
    }
   ],
   "source": [
    "encode_dnase_res.sort_values(by='pvalue', inplace=True)\n",
    "pos = ', '.join([str(x + 1) for x in np.where(encode_dnase_res.cell_type == 'skin fibroblast')[0]])\n",
    "print('The skin fibroblasts were in positions {} in the list of '\n",
    "      'most enriched lines.'.format(pos))"
   ]
  },
  {
   "cell_type": "code",
   "execution_count": 14,
   "metadata": {
    "collapsed": false
   },
   "outputs": [
    {
     "data": {
      "text/plain": [
       "primary cell                          97\n",
       "immortalized cell line                86\n",
       "in vitro differentiated cells          9\n",
       "tissue                                 8\n",
       "stem cell                              5\n",
       "induced pluripotent stem cell line     4\n",
       "Name: biosample_type, dtype: int64"
      ]
     },
     "execution_count": 14,
     "metadata": {},
     "output_type": "execute_result"
    }
   ],
   "source": [
    "encode_dnase_res.biosample_type.value_counts()"
   ]
  },
  {
   "cell_type": "code",
   "execution_count": 15,
   "metadata": {
    "collapsed": true
   },
   "outputs": [],
   "source": [
    "sample_type_conv = {\n",
    "    'primary cell':'Primary cell',\n",
    "    'immortalized cell line':'Immortalized line',\n",
    "    'in vitro differentiated cells':'In vitro differentiated',\n",
    "    'tissue':'Primary tissue',\n",
    "    'stem cell':'Stem cell',\n",
    "    'induced pluripotent stem cell line':'Stem cell',\n",
    "}"
   ]
  },
  {
   "cell_type": "code",
   "execution_count": 16,
   "metadata": {
    "collapsed": true
   },
   "outputs": [],
   "source": [
    "encode_dnase_res['my_cell_type'] = [sample_type_conv[x] for x in encode_dnase_res.biosample_type]"
   ]
  },
  {
   "cell_type": "markdown",
   "metadata": {},
   "source": [
    "Now I'll choose the top 25 cell types and rename them with more reasonable\n",
    "and consistent names. [This site](http://genome.ucsc.edu/ENCODE/cellTypes.html)\n",
    "has info on the ENCODE cell lines."
   ]
  },
  {
   "cell_type": "code",
   "execution_count": 17,
   "metadata": {
    "collapsed": false
   },
   "outputs": [],
   "source": [
    "encode_dnase_res_f = encode_dnase_res.sort_values(by='pvalue', ascending=False).tail(25)\n",
    "\n",
    "name_conv = {\n",
    "    'H7-hESC':'H7 hESC',\n",
    "    'H1-hESC':'H1 hESC',\n",
    "    'cardiac fibroblast':'Cardiac fibroblasts',\n",
    "    'MCF-7':'MCF-7 breast cancer line',\n",
    "    'cardiac mesoderm':'Cardiac mesoderm',\n",
    "    'skin fibroblast':'Skin fibroblasts',\n",
    "    'dermis blood vessel endothelial cell':'Dermis blood vessel endothelium',\n",
    "    'RWPE1':'RWPE1 prostate prostate epithelial line',\n",
    "    'GM12865':'GM12865 lymphoblastoid line',\n",
    "    'HCT116':'HCT116 colorectal carcinoma line',\n",
    "    'HTR-8/SVneo':'HTR-8/SVneo trophoblast line',\n",
    "    'myoblast':'Myoblasts',\n",
    "    'urothelium cell line':'Urothelium line',\n",
    "    'olfactory neurosphere cell line':'Olfactory neurosphere line',\n",
    "    'induced pluripotent stem cell':'iPSC',\n",
    "    'H9':'H9 hESC',\n",
    "    'NT2/D1':'NT2/D1 pluripotent embryonal carcinoma line',\n",
    "    'K562':'K562',\n",
    "    'Ishikawa':'Ishikawa',\n",
    "    'HEK293':'HEK293',\n",
    "    'SK-N-SH':'SK-N-SH',\n",
    "    'HeLa-S3':'HeLa-S3',\n",
    "    'fibroblast of the conjunctiva':'Conjunctiva fibroblast',\n",
    "    'BE2C':'BE2C',\n",
    "    'fibroblast of lung':'Lung fibroblast',\n",
    "    'HuH-7':'HuH-7'\n",
    "}\n",
    "\n",
    "encode_dnase_res_f['my_name'] = [name_conv[x] for x in encode_dnase_res_f.cell_type]"
   ]
  },
  {
   "cell_type": "code",
   "execution_count": 18,
   "metadata": {
    "collapsed": true
   },
   "outputs": [],
   "source": [
    "encode_dnase_res['my_name'] = np.nan\n",
    "encode_dnase_res.ix[encode_dnase_res_f.index, 'my_name'] = encode_dnase_res_f.my_name"
   ]
  },
  {
   "cell_type": "markdown",
   "metadata": {},
   "source": [
    "### TF results\n",
    "\n",
    "I'll drop duplicate TF results (keeping the most significant). I also want\n",
    "to remove experiments that aren't for TFs."
   ]
  },
  {
   "cell_type": "code",
   "execution_count": 19,
   "metadata": {
    "collapsed": false
   },
   "outputs": [
    {
     "data": {
      "text/plain": [
       "transcription factor                                                                                39\n",
       "chromatin remodeller, transcription factor                                                           8\n",
       "RNA binding protein, transcription factor                                                            3\n",
       "broad histone mark, histone, histone modification                                                    2\n",
       "chromatin remodeller, other context, other post-translational modification, transcription factor     1\n",
       "histone, histone modification, narrow histone mark                                                   1\n",
       "Name: target_type, dtype: int64"
      ]
     },
     "execution_count": 19,
     "metadata": {},
     "output_type": "execute_result"
    }
   ],
   "source": [
    "tf_res = tf_res.sort_values(by='pvalue').drop_duplicates(subset=['target'])\n",
    "tf_res.target_type.value_counts()"
   ]
  },
  {
   "cell_type": "markdown",
   "metadata": {},
   "source": [
    "I'll keep all of the categories that have \"transcription factor.\""
   ]
  },
  {
   "cell_type": "code",
   "execution_count": 20,
   "metadata": {
    "collapsed": true
   },
   "outputs": [],
   "source": [
    "tf_res = tf_res[(tf_res.target_type != 'broad histone mark, histone, histone modification') & \n",
    "                (tf_res.target_type != 'histone, histone modification, narrow histone mark')]"
   ]
  },
  {
   "cell_type": "markdown",
   "metadata": {},
   "source": [
    "I'll also remove Pol2."
   ]
  },
  {
   "cell_type": "code",
   "execution_count": 21,
   "metadata": {
    "collapsed": true
   },
   "outputs": [],
   "source": [
    "tf_res = tf_res.drop(tf_res[tf_res.target.apply(lambda x: 'POLR2A' in x)].index)"
   ]
  },
  {
   "cell_type": "code",
   "execution_count": 22,
   "metadata": {
    "collapsed": false
   },
   "outputs": [
    {
     "name": "stdout",
     "output_type": "stream",
     "text": [
      "We have 49 TF experiments.\n",
      "NANOG is #1 in the list of most enriched TF.\n",
      "POU5F1 is #3 in the list of most enriched TF.\n"
     ]
    }
   ],
   "source": [
    "print('We have {} TF experiments.'.format(tf_res.shape[0]))\n",
    "n = np.where(tf_res.target == 'NANOG')[0][0]\n",
    "print('NANOG is #{} in the list of most enriched TF.'.format(n + 1))\n",
    "n = np.where(tf_res.target == 'POU5F1')[0][0]\n",
    "print('POU5F1 is #{} in the list of most enriched TF.'.format(n + 1))"
   ]
  },
  {
   "cell_type": "code",
   "execution_count": 23,
   "metadata": {
    "collapsed": true
   },
   "outputs": [],
   "source": [
    "tf_res = tf_res.sort_values(by='odds_ratio', ascending=False)"
   ]
  },
  {
   "cell_type": "markdown",
   "metadata": {},
   "source": [
    "## Paper"
   ]
  },
  {
   "cell_type": "code",
   "execution_count": 24,
   "metadata": {
    "collapsed": false
   },
   "outputs": [
    {
     "data": {
      "image/png": "[encoded data removed]",
      "text/plain": [
       "<matplotlib.figure.Figure at 0x7f979ca90850>"
      ]
     },
     "metadata": {},
     "output_type": "display_data"
    }
   ],
   "source": [
    "sns.palplot(sns.color_palette('Set2', 7))"
   ]
  },
  {
   "cell_type": "code",
   "execution_count": 25,
   "metadata": {
    "collapsed": false
   },
   "outputs": [],
   "source": [
    "cdict = dict(zip(set(roadmap_dnase_res.my_cell_type) | set(encode_dnase_res.my_cell_type), \n",
    "                 sns.color_palette('Set2', 7)))"
   ]
  },
  {
   "cell_type": "code",
   "execution_count": 36,
   "metadata": {
    "collapsed": false
   },
   "outputs": [
    {
     "data": {
      "image/png": "[encoded data removed]",
      "text/plain": [
       "<matplotlib.figure.Figure at 0x7f9798e1bf10>"
      ]
     },
     "metadata": {},
     "output_type": "display_data"
    }
   ],
   "source": [
    "fig = plt.figure(figsize=(6.85, 6.1), dpi=300)\n",
    "\n",
    "gs = gridspec.GridSpec(1, 1)\n",
    "ax = fig.add_subplot(gs[0, 0])\n",
    "ax.text(0, 1, 'Figure 2',\n",
    "        size=16, va='top')\n",
    "ciepy.clean_axis(ax)\n",
    "ax.set_xticks([])\n",
    "ax.set_yticks([])\n",
    "gs.tight_layout(fig, rect=[0, 0.95, 0.5, 1])\n",
    "\n",
    "# Roadmap DNase\n",
    "gs = gridspec.GridSpec(1, 1)\n",
    "ax = fig.add_subplot(gs[0, 0])\n",
    "\n",
    "c = [cdict[x] for x in roadmap_dnase_res_f.my_cell_type]\n",
    "(-np.log10(roadmap_dnase_res_f.pvalue)).plot(kind='barh', ax=ax, color=c, lw=0)\n",
    "ax.set_xlabel('$-\\log_{10}$ $p$-value', fontsize=6)\n",
    "ax.set_ylabel('')\n",
    "ax.grid(axis='y')\n",
    "ax.set_yticklabels(roadmap_dnase_res_f.my_name, fontsize=6)\n",
    "\n",
    "for t in ax.get_xticklabels() + ax.get_yticklabels():\n",
    "    t.set_fontsize(6)\n",
    "gs.tight_layout(fig, rect=[0, 0.45, 0.51, 0.94])\n",
    "\n",
    "# ENCODE DNase\n",
    "gs = gridspec.GridSpec(1, 1)\n",
    "ax = fig.add_subplot(gs[0, 0])\n",
    "\n",
    "c = [cdict[x] for x in encode_dnase_res_f.my_cell_type]\n",
    "ax = (-np.log10(encode_dnase_res_f.pvalue)).plot(kind='barh', ax=ax, color=c, label=None, lw=0)\n",
    "ax.set_xlabel('$-\\log_{10}$ $p$-value', fontsize=6)\n",
    "ax.set_ylabel('')\n",
    "ax.grid(axis='y')\n",
    "ax.set_yticklabels(encode_dnase_res_f.my_name, fontsize=6)\n",
    "for t in ax.get_xticklabels() + ax.get_yticklabels():\n",
    "    t.set_fontsize(6)\n",
    "gs.tight_layout(fig, rect=[0.49, 0.45, 1, 0.95])\n",
    "\n",
    "# Color legend\n",
    "gs = gridspec.GridSpec(1, 1)\n",
    "ax = fig.add_subplot(gs[0, 0])\n",
    "ciepy.clean_axis(ax)\n",
    "rects = []\n",
    "labels = []\n",
    "for k in cdict.keys():\n",
    "    if k == 'induced pluripotent stem cell line':\n",
    "        labels.append('iPSC')\n",
    "    elif k == 'in vitro differentiated cells':\n",
    "        labels.append('in vitro\\ndifferentiated\\ncell')\n",
    "    elif k == 'immortalized cell line':\n",
    "        labels.append('immortalized\\ncell line')\n",
    "    else:\n",
    "        labels.append(k)\n",
    "    r = plt.Rectangle((0, 0), 0, 0, fc=cdict[k])\n",
    "    rects.append(r)\n",
    "lgd = ax.legend(rects, labels, loc='upper center', fontsize=6, ncol=7)\n",
    "for p in lgd.get_patches():\n",
    "    p.set_linewidth(0)\n",
    "    \n",
    "gs.tight_layout(fig, rect=[0, 0.45, 1, 0.5])\n",
    "\n",
    "# ENCODE ChIP-seq\n",
    "gs = gridspec.GridSpec(1, 1)\n",
    "ax = fig.add_subplot(gs[0, 0])\n",
    "\n",
    "colord = {True:sns.color_palette()[0], False:sns.color_palette()[1]}\n",
    "tf_res.odds_ratio.plot(ax=ax, kind='bar', lw=0, color=[colord[x] for x in tf_res.pvalue < 0.05])\n",
    "ax.set_ylabel('Odds ratio', fontsize=8)\n",
    "ax.set_xlabel('')\n",
    "ax.grid(axis='x')\n",
    "ax.set_xticklabels(tf_res.target, fontsize=8)\n",
    "for t in ax.get_yticklabels():\n",
    "    t.set_fontsize(8)\n",
    "    \n",
    "# Color legend\n",
    "rects = []\n",
    "labels = ['$p$ < 0.05', '$p$ > 0.05']\n",
    "r = plt.Rectangle((0, 0), 0, 0, fc=colord[True])\n",
    "rects.append(r)\n",
    "r = plt.Rectangle((0, 0), 0, 0, fc=colord[False])\n",
    "rects.append(r)\n",
    "lgd = ax.legend(rects, labels, loc='upper right', fontsize=8, frameon=True, fancybox=True)\n",
    "for p in lgd.get_patches():\n",
    "    p.set_linewidth(0)\n",
    "gs.tight_layout(fig, rect=[0, 0, 1, 0.45])\n",
    "\n",
    "t = fig.text(0.005, 0.92, 'A', weight='bold', \n",
    "             size=12)\n",
    "t = fig.text(0.5, 0.92, 'B', weight='bold', \n",
    "             size=12)\n",
    "t = fig.text(0.005, 0.42, 'C', weight='bold', \n",
    "             size=12)\n",
    "\n",
    "fig.savefig(os.path.join(outdir, 'functional_annotation.png'), dpi=300)"
   ]
  },
  {
   "cell_type": "code",
   "execution_count": 27,
   "metadata": {
    "collapsed": false
   },
   "outputs": [
    {
     "data": {
      "text/plain": [
       "0.161173589054"
      ]
     },
     "execution_count": 27,
     "metadata": {},
     "output_type": "execute_result"
    }
   ],
   "source": [
    "roadmap_dnase_res.pvalue.max()"
   ]
  },
  {
   "cell_type": "code",
   "execution_count": 28,
   "metadata": {
    "collapsed": false
   },
   "outputs": [
    {
     "data": {
      "text/plain": [
       "0.00035665251854699999"
      ]
     },
     "execution_count": 28,
     "metadata": {},
     "output_type": "execute_result"
    }
   ],
   "source": [
    "roadmap_dnase_res_f.pvalue.max()"
   ]
  },
  {
   "cell_type": "code",
   "execution_count": 29,
   "metadata": {
    "collapsed": true
   },
   "outputs": [],
   "source": [
    "# I'll write these files so I can make them into a table for the paper.\n",
    "roadmap_dnase_res.sort_values(by='pvalue').to_csv(os.path.join(outdir, 'roadmap_res.tsv'), sep='\\t')\n",
    "encode_dnase_res.sort_values(by='pvalue').to_csv(os.path.join(outdir, 'encode_res.tsv'), sep='\\t')\n",
    "tf_res.sort_values(by='odds_ratio', ascending=False).to_csv(os.path.join(outdir, 'tf_res.tsv'), sep='\\t')"
   ]
  },
  {
   "cell_type": "code",
   "execution_count": 44,
   "metadata": {
    "collapsed": false
   },
   "outputs": [
    {
     "data": {
      "text/plain": [
       "0.052586206896551725"
      ]
     },
     "execution_count": 44,
     "metadata": {},
     "output_type": "execute_result"
    }
   ],
   "source": [
    "(.05) * 6.1 / 5.8"
   ]
  },
  {
   "cell_type": "code",
   "execution_count": 53,
   "metadata": {
    "collapsed": false
   },
   "outputs": [
    {
     "data": {
      "image/png": "[encoded data removed]",
      "text/plain": [
       "<matplotlib.figure.Figure at 0x7f9799048f90>"
      ]
     },
     "metadata": {},
     "output_type": "display_data"
    }
   ],
   "source": [
    "fig = plt.figure(figsize=(6.85, 5.8), dpi=300)\n",
    "\n",
    "# Roadmap DNase\n",
    "gs = gridspec.GridSpec(1, 1)\n",
    "ax = fig.add_subplot(gs[0, 0])\n",
    "\n",
    "c = [cdict[x] for x in roadmap_dnase_res_f.my_cell_type]\n",
    "(-np.log10(roadmap_dnase_res_f.pvalue)).plot(kind='barh', ax=ax, color=c, lw=0)\n",
    "ax.set_xlabel('$-\\log_{10}$ $p$-value', fontsize=6)\n",
    "ax.set_ylabel('')\n",
    "ax.grid(axis='y')\n",
    "ax.set_yticklabels(roadmap_dnase_res_f.my_name, fontsize=6)\n",
    "\n",
    "for t in ax.get_xticklabels() + ax.get_yticklabels():\n",
    "    t.set_fontsize(6)\n",
    "gs.tight_layout(fig, rect=[0, 0.47, 0.51, 1])\n",
    "\n",
    "# ENCODE DNase\n",
    "gs = gridspec.GridSpec(1, 1)\n",
    "ax = fig.add_subplot(gs[0, 0])\n",
    "\n",
    "c = [cdict[x] for x in encode_dnase_res_f.my_cell_type]\n",
    "ax = (-np.log10(encode_dnase_res_f.pvalue)).plot(kind='barh', ax=ax, color=c, label=None, lw=0)\n",
    "ax.set_xlabel('$-\\log_{10}$ $p$-value', fontsize=6)\n",
    "ax.set_ylabel('')\n",
    "ax.grid(axis='y')\n",
    "ax.set_yticklabels(encode_dnase_res_f.my_name, fontsize=6)\n",
    "for t in ax.get_xticklabels() + ax.get_yticklabels():\n",
    "    t.set_fontsize(6)\n",
    "gs.tight_layout(fig, rect=[0.49, 0.47, 1, 1])\n",
    "\n",
    "# Color legend\n",
    "gs = gridspec.GridSpec(1, 1)\n",
    "ax = fig.add_subplot(gs[0, 0])\n",
    "ciepy.clean_axis(ax)\n",
    "rects = []\n",
    "labels = []\n",
    "for k in cdict.keys():\n",
    "    if k == 'induced pluripotent stem cell line':\n",
    "        labels.append('iPSC')\n",
    "    elif k == 'in vitro differentiated cells':\n",
    "        labels.append('in vitro\\ndifferentiated\\ncell')\n",
    "    elif k == 'immortalized cell line':\n",
    "        labels.append('immortalized\\ncell line')\n",
    "    else:\n",
    "        labels.append(k)\n",
    "    r = plt.Rectangle((0, 0), 0, 0, fc=cdict[k])\n",
    "    rects.append(r)\n",
    "lgd = ax.legend(rects, labels, loc='upper center', fontsize=6, ncol=7)\n",
    "for p in lgd.get_patches():\n",
    "    p.set_linewidth(0)\n",
    "    \n",
    "gs.tight_layout(fig, rect=[0, 0.46, 1, 0.52])\n",
    "\n",
    "# ENCODE ChIP-seq\n",
    "gs = gridspec.GridSpec(1, 1)\n",
    "ax = fig.add_subplot(gs[0, 0])\n",
    "\n",
    "colord = {True:sns.color_palette()[0], False:sns.color_palette()[1]}\n",
    "tf_res.odds_ratio.plot(ax=ax, kind='bar', lw=0, color=[colord[x] for x in tf_res.pvalue < 0.05])\n",
    "ax.set_ylabel('Odds ratio', fontsize=8)\n",
    "ax.set_xlabel('')\n",
    "ax.grid(axis='x')\n",
    "ax.set_xticklabels(tf_res.target, fontsize=8)\n",
    "for t in ax.get_yticklabels():\n",
    "    t.set_fontsize(8)\n",
    "    \n",
    "# Color legend\n",
    "rects = []\n",
    "labels = ['$p$ < 0.05', '$p$ > 0.05']\n",
    "r = plt.Rectangle((0, 0), 0, 0, fc=colord[True])\n",
    "rects.append(r)\n",
    "r = plt.Rectangle((0, 0), 0, 0, fc=colord[False])\n",
    "rects.append(r)\n",
    "lgd = ax.legend(rects, labels, loc='upper right', fontsize=8, frameon=True, fancybox=True)\n",
    "for p in lgd.get_patches():\n",
    "    p.set_linewidth(0)\n",
    "gs.tight_layout(fig, rect=[0, 0, 1, 0.46])\n",
    "\n",
    "t = fig.text(0.005, 0.97, 'A', weight='bold', \n",
    "             size=12)\n",
    "t = fig.text(0.5, 0.97, 'B', weight='bold', \n",
    "             size=12)\n",
    "t = fig.text(0.005, 0.43, 'C', weight='bold', \n",
    "             size=12)\n",
    "\n",
    "fig.savefig(os.path.join(outdir, 'functional_annotation.pdf'), dpi=300)"
   ]
  },
  {
   "cell_type": "code",
   "execution_count": null,
   "metadata": {
    "collapsed": true
   },
   "outputs": [],
   "source": []
  },
  {
   "cell_type": "code",
   "execution_count": null,
   "metadata": {
    "collapsed": true
   },
   "outputs": [],
   "source": []
  },
  {
   "cell_type": "code",
   "execution_count": 30,
   "metadata": {
    "collapsed": false
   },
   "outputs": [
    {
     "ename": "SyntaxError",
     "evalue": "invalid syntax (<ipython-input-30-4715fb1d5390>, line 1)",
     "output_type": "error",
     "traceback": [
      "\u001b[1;36m  File \u001b[1;32m\"<ipython-input-30-4715fb1d5390>\"\u001b[1;36m, line \u001b[1;32m1\u001b[0m\n\u001b[1;33m    3 +\u001b[0m\n\u001b[1;37m        ^\u001b[0m\n\u001b[1;31mSyntaxError\u001b[0m\u001b[1;31m:\u001b[0m invalid syntax\n"
     ]
    }
   ],
   "source": [
    "3 + "
   ]
  },
  {
   "cell_type": "markdown",
   "metadata": {},
   "source": [
    "## Presentation"
   ]
  },
  {
   "cell_type": "code",
   "execution_count": null,
   "metadata": {
    "collapsed": false
   },
   "outputs": [],
   "source": [
    "fig = plt.figure(figsize=(10, 6), dpi=300)\n",
    "\n",
    "fs = 10\n",
    "\n",
    "# Roadmap DNase\n",
    "gs = gridspec.GridSpec(1, 1)\n",
    "ax = fig.add_subplot(gs[0, 0])\n",
    "\n",
    "c = [cdict[x] for x in roadmap_dnase_res_f.my_cell_type]\n",
    "(-np.log10(roadmap_dnase_res_f.pvalue)).plot(kind='barh', ax=ax, color=c, lw=0)\n",
    "ax.set_xlabel('$-\\log_{10}$ $p$-value', fontsize=12)\n",
    "ax.set_ylabel('')\n",
    "ax.grid(axis='y')\n",
    "ax.set_yticklabels(roadmap_dnase_res_f.my_name, fontsize=fs)\n",
    "\n",
    "for t in ax.get_xticklabels() + ax.get_yticklabels():\n",
    "    t.set_fontsize(fs)\n",
    "gs.tight_layout(fig, rect=[0, 0.15, 0.51, 1])\n",
    "\n",
    "# ENCODE DNase\n",
    "gs = gridspec.GridSpec(1, 1)\n",
    "ax = fig.add_subplot(gs[0, 0])\n",
    "\n",
    "c = [cdict[x] for x in encode_dnase_res_f.my_cell_type]\n",
    "ax = (-np.log10(encode_dnase_res_f.pvalue)).plot(kind='barh', ax=ax, color=c, label=None, lw=0)\n",
    "ax.set_xlabel('$-\\log_{10}$ $p$-value', fontsize=fs)\n",
    "ax.set_ylabel('')\n",
    "ax.grid(axis='y')\n",
    "ax.set_yticklabels(encode_dnase_res_f.my_name, fontsize=fs)\n",
    "for t in ax.get_xticklabels() + ax.get_yticklabels():\n",
    "    t.set_fontsize(fs)\n",
    "gs.tight_layout(fig, rect=[0.49, 0.15, 1, 1])\n",
    "\n",
    "# Color legend\n",
    "gs = gridspec.GridSpec(1, 1)\n",
    "ax = fig.add_subplot(gs[0, 0])\n",
    "ciepy.clean_axis(ax)\n",
    "rects = []\n",
    "labels = []\n",
    "for k in cdict.keys():\n",
    "    if k == 'induced pluripotent stem cell line':\n",
    "        labels.append('iPSC')\n",
    "    elif k == 'in vitro differentiated cells':\n",
    "        labels.append('in vitro\\ndifferentiated\\ncell')\n",
    "    elif k == 'immortalized cell line':\n",
    "        labels.append('immortalized\\ncell line')\n",
    "    else:\n",
    "        labels.append(k)\n",
    "    r = plt.Rectangle((0, 0), 0, 0, fc=cdict[k])\n",
    "    rects.append(r)\n",
    "lgd = ax.legend(rects, labels, loc='upper center', fontsize=fs, ncol=4)\n",
    "for p in lgd.get_patches():\n",
    "    p.set_linewidth(0)\n",
    "    \n",
    "gs.tight_layout(fig, rect=[0, 0, 1, 0.15])\n",
    "\n",
    "fig.savefig(os.path.join(outdir, 'dnase_presentation.pdf'))"
   ]
  },
  {
   "cell_type": "code",
   "execution_count": null,
   "metadata": {
    "collapsed": false
   },
   "outputs": [],
   "source": [
    "fig = plt.figure(figsize=(8, 5), dpi=300)\n",
    "\n",
    "# ENCODE ChIP-seq\n",
    "gs = gridspec.GridSpec(1, 1)\n",
    "ax = fig.add_subplot(gs[0, 0])\n",
    "\n",
    "colord = {True:sns.color_palette()[0], False:sns.color_palette()[1]}\n",
    "tf_res.odds_ratio.plot(ax=ax, kind='bar', lw=0, color=[colord[x] for x in tf_res.pvalue < 0.05])\n",
    "ax.set_ylabel('Odds ratio', fontsize=12)\n",
    "ax.set_xlabel('')\n",
    "ax.grid(axis='x')\n",
    "ax.set_xticklabels(tf_res.target, fontsize=11)\n",
    "for t in ax.get_yticklabels():\n",
    "    t.set_fontsize(12)\n",
    "    \n",
    "# Color legend\n",
    "rects = []\n",
    "labels = ['$p$ < 0.05', '$p$ > 0.05']\n",
    "r = plt.Rectangle((0, 0), 0, 0, fc=colord[True])\n",
    "rects.append(r)\n",
    "r = plt.Rectangle((0, 0), 0, 0, fc=colord[False])\n",
    "rects.append(r)\n",
    "lgd = ax.legend(rects, labels, loc='upper right', fontsize=12, frameon=True, fancybox=True)\n",
    "for p in lgd.get_patches():\n",
    "    p.set_linewidth(0)\n",
    "gs.tight_layout(fig, rect=[0, 0, 1, 1])\n",
    "\n",
    "fig.savefig(os.path.join(outdir, 'tf_presentation.pdf'))"
   ]
  }
 ],
 "metadata": {
  "kernelspec": {
   "display_name": "Environment (cie)",
   "language": "",
   "name": "cie"
  },
  "language_info": {
   "codemirror_mode": {
    "name": "ipython",
    "version": 2
   },
   "file_extension": ".py",
   "mimetype": "text/x-python",
   "name": "python",
   "nbconvert_exporter": "python",
   "pygments_lexer": "ipython2",
   "version": "2.7.11"
  }
 },
 "nbformat": 4,
 "nbformat_minor": 0
}
