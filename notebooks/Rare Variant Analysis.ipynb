{
 "cells": [
  {
   "cell_type": "markdown",
   "metadata": {},
   "source": [
    "# Rare Variant Analysis\n",
    "\n",
    "In this notebook, I'm going to analyze the rare variants identified\n",
    "in the Rare Variant Processing notebook."
   ]
  },
  {
   "cell_type": "code",
   "execution_count": 1,
   "metadata": {
    "collapsed": false
   },
   "outputs": [],
   "source": [
    "import copy\n",
    "import cPickle\n",
    "import datetime as dt\n",
    "import glob\n",
    "import os\n",
    "import re\n",
    "import subprocess\n",
    "import urllib2\n",
    "\n",
    "import cdpybio as cpb\n",
    "from ipyparallel import Client\n",
    "from scipy.stats import fisher_exact\n",
    "import matplotlib.gridspec as gridspec\n",
    "from matplotlib.patches import Rectangle\n",
    "import matplotlib.pyplot as plt\n",
    "import numpy as np\n",
    "import pandas as pd\n",
    "import pyencodetools as pet\n",
    "import pybedtools as pbt\n",
    "import scipy\n",
    "import scipy.stats as stats\n",
    "import seaborn as sns\n",
    "import socket\n",
    "import statsmodels.stats.multitest as smm\n",
    "import vcf as pyvcf\n",
    "\n",
    "import cardipspy as cpy\n",
    "import ciepy\n",
    "\n",
    "%matplotlib inline\n",
    "%load_ext rpy2.ipython\n",
    "\n",
    "dy_name = 'rare_variant_analysis'\n",
    "\n",
    "import socket\n",
    "if socket.gethostname() == 'fl-hn1' or socket.gethostname() == 'fl-hn2':\n",
    "    dy = os.path.join(ciepy.root, 'sandbox', 'tmp', dy_name)\n",
    "    cpy.makedir(dy)\n",
    "    pbt.set_tempdir(dy)\n",
    "    \n",
    "outdir = os.path.join(ciepy.root, 'output', dy_name)\n",
    "cpy.makedir(outdir)\n",
    "\n",
    "private_outdir = os.path.join(ciepy.root, 'private_output', dy_name)\n",
    "cpy.makedir(private_outdir)"
   ]
  },
  {
   "cell_type": "code",
   "execution_count": 2,
   "metadata": {
    "collapsed": true
   },
   "outputs": [],
   "source": [
    "sns.set_style('whitegrid')"
   ]
  },
  {
   "cell_type": "code",
   "execution_count": 3,
   "metadata": {
    "collapsed": false
   },
   "outputs": [],
   "source": [
    "tg = pd.read_table(cpy.gencode_transcript_gene, index_col=0, \n",
    "                   header=None, squeeze=True)\n",
    "gene_info = pd.read_table(cpy.gencode_gene_info, index_col=0)\n",
    "genes = pbt.BedTool(cpy.gencode_gene_bed)\n",
    "fn = os.path.join(ciepy.root, 'output', 'input_data', 'rsem_tpm.tsv')\n",
    "tpm = pd.read_table(fn, index_col=0)\n",
    "log_tpm = np.log10(tpm + 1)\n",
    "\n",
    "cnvs = pd.read_table(os.path.join(ciepy.root, 'output', 'input_data',\n",
    "                                  'cnvs.tsv'), index_col=0)\n",
    "fn = os.path.join(ciepy.root, 'output', 'input_data', 'wgs_metadata.tsv')\n",
    "wgs_meta = pd.read_table(fn, index_col=0, squeeze=True)\n",
    "fn = os.path.join(ciepy.root, 'output', 'input_data', 'rnaseq_metadata.tsv')\n",
    "rna_meta = pd.read_table(fn, index_col=0)\n",
    "rna_meta_eqtl = rna_meta[rna_meta.in_eqtl]\n",
    "fn = os.path.join(ciepy.root, 'output', 'input_data', 'subject_metadata.tsv')\n",
    "subject_meta = pd.read_table(fn, index_col=0)\n",
    "\n",
    "rna_meta = rna_meta.merge(subject_meta, left_on='subject_id', right_index=True)\n",
    "\n",
    "fn = os.path.join(os.path.split(cpy.roadmap_15_state_annotation)[0], 'EIDlegend.txt')\n",
    "roadmap_ids = pd.read_table(fn, squeeze=True, index_col=0, header=None)\n",
    "\n",
    "fn = os.path.join(ciepy.root, 'output', 'eqtl_input', 'unrelateds.tsv')\n",
    "unr_rna_meta = pd.read_table(fn, index_col=0)\n",
    "\n",
    "fn = os.path.join(ciepy.root, 'output', 'eqtl_input', 'peer_10_residuals.tsv')\n",
    "residuals = pd.read_table(fn, index_col=0)"
   ]
  },
  {
   "cell_type": "code",
   "execution_count": 4,
   "metadata": {
    "collapsed": true
   },
   "outputs": [],
   "source": [
    "fn = os.path.join(ciepy.root, 'output', 'input_data', \n",
    "                  'mbased_major_allele_freq.tsv')\n",
    "maj_af = pd.read_table(fn, index_col=0)\n",
    "\n",
    "fn = os.path.join(ciepy.root, 'output', 'input_data', \n",
    "                  'mbased_p_val_ase.tsv')\n",
    "ase_pval = pd.read_table(fn, index_col=0)\n",
    "ase_pval = ase_pval[rna_meta[rna_meta.in_eqtl].index]\n",
    "ase_pval.columns = rna_meta[rna_meta.in_eqtl].wgs_id\n",
    "\n",
    "locus_p = pd.Panel({'major_allele_freq':maj_af, 'p_val_ase':ase_pval})\n",
    "locus_p = locus_p.swapaxes(0, 2)"
   ]
  },
  {
   "cell_type": "code",
   "execution_count": 5,
   "metadata": {
    "collapsed": false
   },
   "outputs": [],
   "source": [
    "fn = os.path.join(ciepy.root, 'private_output', \n",
    "                  'rare_variant_processing', 'promoter_dhs_variants.pickle')\n",
    "variants = cPickle.load(open(fn))\n",
    "fn = os.path.join(ciepy.root, 'private_output', \n",
    "                  'rare_variant_processing', 'promoter_dhs_genotypes.tsv')\n",
    "genotypes = pd.read_table(fn, index_col=0)\n",
    "# fn = os.path.join(ciepy.root, 'private_output', \n",
    "#                   'rare_variant_processing', 'tf_disruption.tsv')\n",
    "# tf_disruption = pd.read_table(fn, index_col=0)"
   ]
  },
  {
   "cell_type": "code",
   "execution_count": 6,
   "metadata": {
    "collapsed": true
   },
   "outputs": [],
   "source": [
    "unrelateds = unr_rna_meta"
   ]
  },
  {
   "cell_type": "code",
   "execution_count": 7,
   "metadata": {
    "collapsed": false
   },
   "outputs": [
    {
     "data": {
      "text/plain": [
       "(284025, 25)"
      ]
     },
     "execution_count": 7,
     "metadata": {},
     "output_type": "execute_result"
    }
   ],
   "source": [
    "variants.shape"
   ]
  },
  {
   "cell_type": "markdown",
   "metadata": {},
   "source": [
    "I'll remove variants whose minor allele wasn't in the unrelateds\n",
    "or that weren't called in at least 100 of the unrelateds."
   ]
  },
  {
   "cell_type": "code",
   "execution_count": 8,
   "metadata": {
    "collapsed": false
   },
   "outputs": [
    {
     "data": {
      "text/plain": [
       "(234529, 25)"
      ]
     },
     "execution_count": 8,
     "metadata": {},
     "output_type": "execute_result"
    }
   ],
   "source": [
    "variants_f = variants[variants.unr_mac > 0]\n",
    "variants_f = variants_f[variants_f.unr_called >= 100]\n",
    "variants_f.shape"
   ]
  },
  {
   "cell_type": "markdown",
   "metadata": {},
   "source": [
    "I'm trying to decide on the definition of rare. There are 284,025 promoter\n",
    "DHS variants. Here are the number of 1,000 Genomes populations below 0.5% for each\n",
    "variant:"
   ]
  },
  {
   "cell_type": "code",
   "execution_count": 9,
   "metadata": {
    "collapsed": false
   },
   "outputs": [
    {
     "data": {
      "text/plain": [
       "5    100358\n",
       "0     54222\n",
       "4     32804\n",
       "3     22000\n",
       "1     12788\n",
       "2     12357\n",
       "dtype: int64"
      ]
     },
     "execution_count": 9,
     "metadata": {},
     "output_type": "execute_result"
    }
   ],
   "source": [
    "(variants_f[[x for x in variants_f.columns if '_AF' in x]] < 0.005).sum(axis=1).value_counts()"
   ]
  },
  {
   "cell_type": "markdown",
   "metadata": {},
   "source": [
    "This is what it looks like if we remove variants that aren't in 1KGP."
   ]
  },
  {
   "cell_type": "code",
   "execution_count": 10,
   "metadata": {
    "collapsed": false
   },
   "outputs": [
    {
     "data": {
      "text/plain": [
       "5    58426\n",
       "0    54222\n",
       "4    32804\n",
       "3    22000\n",
       "1    12788\n",
       "2    12357\n",
       "dtype: int64"
      ]
     },
     "execution_count": 10,
     "metadata": {},
     "output_type": "execute_result"
    }
   ],
   "source": [
    "tdf = variants_f[variants_f.AF != 0]\n",
    "(tdf[[x for x in tdf.columns if '_AF' in x]] < 0.005).sum(axis=1).value_counts()"
   ]
  },
  {
   "cell_type": "markdown",
   "metadata": {},
   "source": [
    "Let's keep variants with MAF less than 0.5% in 1KGP."
   ]
  },
  {
   "cell_type": "code",
   "execution_count": 11,
   "metadata": {
    "collapsed": false
   },
   "outputs": [
    {
     "data": {
      "text/plain": [
       "(126820, 25)"
      ]
     },
     "execution_count": 11,
     "metadata": {},
     "output_type": "execute_result"
    }
   ],
   "source": [
    "variants_f = variants_f[variants_f.AF <= 0.005]\n",
    "variants_f.shape"
   ]
  },
  {
   "cell_type": "markdown",
   "metadata": {},
   "source": [
    "This is the number of alleles observed in my unrelateds:"
   ]
  },
  {
   "cell_type": "code",
   "execution_count": 12,
   "metadata": {
    "collapsed": false
   },
   "outputs": [
    {
     "data": {
      "text/plain": [
       "1     85267\n",
       "2     13901\n",
       "3      5407\n",
       "4      2792\n",
       "5      1615\n",
       "6      1117\n",
       "7       765\n",
       "9       590\n",
       "8       555\n",
       "10      479\n",
       "Name: unr_mac, dtype: int64"
      ]
     },
     "execution_count": 12,
     "metadata": {},
     "output_type": "execute_result"
    }
   ],
   "source": [
    "variants_f.unr_mac.value_counts().head(10)"
   ]
  },
  {
   "cell_type": "markdown",
   "metadata": {},
   "source": [
    "And this is the minor allele frequency:"
   ]
  },
  {
   "cell_type": "code",
   "execution_count": 13,
   "metadata": {
    "collapsed": false
   },
   "outputs": [
    {
     "data": {
      "image/png": "[encoded data removed]",
      "text/plain": [
       "<matplotlib.figure.Figure at 0x7f65839af150>"
      ]
     },
     "metadata": {},
     "output_type": "display_data"
    }
   ],
   "source": [
    "variants_f['unr_maf'] = (variants_f.unr_mac / (variants_f.unr_called * 2.))\n",
    "variants_f.unr_maf.hist(bins=np.arange(0, 0.51, 0.01))\n",
    "plt.ylabel('Number of variants')\n",
    "plt.xlabel('Minor allele frequency');"
   ]
  },
  {
   "cell_type": "markdown",
   "metadata": {},
   "source": [
    "There are some variants that I see at a higher frequency but most are rare. I'm going\n",
    "to keep things whose minor allele count is one."
   ]
  },
  {
   "cell_type": "code",
   "execution_count": 14,
   "metadata": {
    "collapsed": false
   },
   "outputs": [
    {
     "data": {
      "text/plain": [
       "(85267, 26)"
      ]
     },
     "execution_count": 14,
     "metadata": {},
     "output_type": "execute_result"
    }
   ],
   "source": [
    "variants_f = variants_f[variants_f.unr_mac == 1]\n",
    "variants_f.shape"
   ]
  },
  {
   "cell_type": "code",
   "execution_count": 15,
   "metadata": {
    "collapsed": false
   },
   "outputs": [
    {
     "data": {
      "text/plain": [
       "65552"
      ]
     },
     "execution_count": 15,
     "metadata": {},
     "output_type": "execute_result"
    }
   ],
   "source": [
    "sum([len(x & set(residuals.index)) > 0 for x in variants_f.genes])"
   ]
  },
  {
   "cell_type": "code",
   "execution_count": 16,
   "metadata": {
    "collapsed": false
   },
   "outputs": [
    {
     "data": {
      "image/png": "[encoded data removed]",
      "text/plain": [
       "<matplotlib.figure.Figure at 0x7f651af61a90>"
      ]
     },
     "metadata": {},
     "output_type": "display_data"
    }
   ],
   "source": [
    "variants_f.max_phyloP100way.hist(bins=np.arange(-20, 10.1, 0.1))\n",
    "plt.xlabel('Max phyloP score')\n",
    "plt.ylabel('Number of variants');"
   ]
  },
  {
   "cell_type": "code",
   "execution_count": 17,
   "metadata": {
    "collapsed": false
   },
   "outputs": [
    {
     "data": {
      "image/png": "[encoded data removed]",
      "text/plain": [
       "<matplotlib.figure.Figure at 0x7f660c29c090>"
      ]
     },
     "metadata": {},
     "output_type": "display_data"
    }
   ],
   "source": [
    "variants_f.cadd_phred.hist(bins=np.arange(0, 51))\n",
    "plt.ylabel('Number of variants')\n",
    "plt.xlabel('CADD PHRED score');"
   ]
  },
  {
   "cell_type": "code",
   "execution_count": 22,
   "metadata": {
    "collapsed": true
   },
   "outputs": [],
   "source": [
    "def stratify_on_rare(variants, genotypes, exp, ase_pvals):\n",
    "    has_rare = pd.DataFrame(False, index=gene_info.index, columns=unrelateds.wgs_id)\n",
    "    cadd = pd.DataFrame(np.nan, index=gene_info.index, columns=unrelateds.wgs_id)\n",
    "    phylop = pd.DataFrame(np.nan, index=gene_info.index, columns=unrelateds.wgs_id)\n",
    "    for i,ind in enumerate(variants.index):\n",
    "        se = genotypes.ix[ind, unrelateds.wgs_id]\n",
    "        mode = se.mode().values[0]\n",
    "        se = se.fillna(mode)\n",
    "        rare_samples = se[se != mode].index\n",
    "        not_rare_samples = se[se == mode].index\n",
    "        has_rare.ix[variants.ix[i, 'genes'], rare_samples] = True\n",
    "        for g in variants.ix[i, 'genes']: \n",
    "            cadd.ix[g, rare_samples] = \\\n",
    "                pd.DataFrame([cadd.ix[g, rare_samples].values, \n",
    "                              variants.ix[i, 'cadd_phred'] * np.ones(len(rare_samples))]).max().values\n",
    "            phylop.ix[g, rare_samples] = \\\n",
    "                pd.DataFrame([phylop.ix[g, rare_samples].values, \n",
    "                              variants.ix[i, 'max_phyloP100way'] * np.ones(len(rare_samples))]).max().values\n",
    "    has_rare_f = has_rare.ix[exp.index]\n",
    "    cadd_f = cadd.ix[has_rare_f.index]\n",
    "    phylop_f = phylop.ix[has_rare_f.index]\n",
    "\n",
    "    has_rare_f = has_rare_f.stack()\n",
    "    cadd_f = cadd_f.stack()\n",
    "    phylop_f = phylop_f.stack()\n",
    "    sz = exp.stack()\n",
    "    ases = ase_pvals.stack()\n",
    "\n",
    "    rare_info = pd.DataFrame({'exp':sz.ix[has_rare_f[has_rare_f].index], \n",
    "                              'cadd':cadd_f.ix[has_rare_f[has_rare_f].index],\n",
    "                              'phylop':phylop_f.ix[has_rare_f[has_rare_f].index]})\n",
    "    rare_info['ase_pval'] = ases.ix[rare_info.index]\n",
    "    not_rare_info = pd.DataFrame({'exp':sz.ix[has_rare_f[has_rare_f == False].index]})\n",
    "    not_rare_info['ase_pval'] = ases.ix[not_rare_info.index]\n",
    "    return rare_info, not_rare_info\n",
    "\n",
    "def summarize_stratification(rare_info, not_rare_info):\n",
    "    r = sum(rare_info.ase_pval.dropna() < 0.005) / float(rare_info.ase_pval.dropna().shape[0])\n",
    "    nr = sum(not_rare_info.ase_pval.dropna() < 0.005) / float(not_rare_info.ase_pval.dropna().shape[0])\n",
    "    a = (rare_info.ase_pval.dropna() < 0.005).value_counts()\n",
    "    b = (not_rare_info.ase_pval.dropna() < 0.005).value_counts()\n",
    "    odds, p = stats.fisher_exact([[a[True], a[False]], [b[True], b[False]]])\n",
    "    print('Gene/samples with rare promoter DHS variant have ASE {:.2f}% of the '\n",
    "          'time while gene/samples without rare promoter DHS variant have ASE '\n",
    "          '{:.2f}% of the time (odds={:.2f}, p={:.2e}, Fisher exact).\\n'.format(r * 100, nr * 100, odds, p))\n",
    "\n",
    "    s,p = stats.mannwhitneyu(rare_info.exp, not_rare_info.exp)\n",
    "    print('Mann Whitney U for distributions of expression values for genes with and without '\n",
    "          'rare promoter DHS variants: p={:.2e}.\\n'.format(p))\n",
    "\n",
    "    s,p = stats.mannwhitneyu(rare_info.exp.abs(), not_rare_info.exp.abs())\n",
    "    print('Mann Whitney U for distributions of expression magnitudes for genes with and without '\n",
    "          'rare promoter DHS variants: p={:.2e}.\\n'.format(p))\n",
    "\n",
    "    weights = np.ones_like(not_rare_info.exp) / float(not_rare_info.shape[0])\n",
    "    m = np.floor(min(not_rare_info.exp.min(), rare_info.exp.min()))\n",
    "    not_rare_info.exp.hist(bins=np.arange(m, abs(m) + 0.2, 0.2), \n",
    "                           alpha=0.5, histtype='stepfilled', \n",
    "                           label='not rare $n={}$'.format(not_rare_info.shape[0]),\n",
    "                           weights=weights)\n",
    "    weights = np.ones_like(rare_info.exp) / float(rare_info.shape[0])\n",
    "    rare_info.exp.hist(bins=np.arange(m, abs(m) + 0.2, 0.2), \n",
    "                       alpha=0.5, histtype='stepfilled', \n",
    "                       label='rare $n={}$'.format(rare_info.shape[0]),\n",
    "                       weights=weights)\n",
    "    plt.legend()\n",
    "    plt.xlabel('Expression')\n",
    "    plt.ylabel('Fraction of gene/sample pairs');\n",
    "    \n",
    "def make_pdfs_cdfs(rare_info, not_rare_info):\n",
    "    # Make PDFs\n",
    "    m = np.floor(rare_info.exp.min())\n",
    "    pdfs = pd.DataFrame(index=np.arange(m, abs(m) + 0.1, 0.1))\n",
    "    density = scipy.stats.gaussian_kde(rare_info.exp)\n",
    "    pdfs['rare'] = density(pdfs.index)\n",
    "    density = scipy.stats.gaussian_kde(not_rare_info.exp)\n",
    "    pdfs['not_rare'] = density(pdfs.index)\n",
    "    \n",
    "    fig,axs = plt.subplots(1, 2, figsize=(10, 4))\n",
    "    ax = axs[0]\n",
    "\n",
    "    # Plot PDFs\n",
    "    pdfs.rare.plot(label='rare', ax=ax)\n",
    "    pdfs.not_rare.plot(label='not rare', ax=ax)\n",
    "    ax.legend()\n",
    "    ax.set_ylabel('Fraction of genes')\n",
    "    ax.set_xlabel('Expression')\n",
    "    ax = axs[1]\n",
    "    (pdfs.rare - pdfs.not_rare).plot(ax=ax)\n",
    "    ax.set_ylabel('$\\Delta$(rare - not rare) fraction of genes')\n",
    "    ax.set_xlabel('Expression')\n",
    "    fig.tight_layout()\n",
    "    \n",
    "    # Make CDFs\n",
    "    cdfs = pd.DataFrame(index=pdfs.index)\n",
    "    area = [0]\n",
    "    for i in range(1, cdfs.shape[0]):\n",
    "        area.append(0.5 * (pdfs['rare'].loc[pdfs.index[i - 1]] + pdfs['rare'][pdfs.index[i]]) * 0.1)\n",
    "    cdfs['rare'] = pd.Series(area, index=cdfs.index).cumsum()\n",
    "    area = [0]\n",
    "    for i in range(1, cdfs.shape[0]):\n",
    "        area.append(0.5 * (pdfs['not_rare'].loc[pdfs.index[i - 1]] + pdfs['not_rare'][pdfs.index[i]]) * 0.1)\n",
    "    cdfs['not_rare'] = pd.Series(area, index=cdfs.index).cumsum()\n",
    "    \n",
    "    # Plot CDFs\n",
    "    cdfs.plot()\n",
    "    plt.xlabel('Expression')\n",
    "    plt.ylabel('Probability');\n",
    "    \n",
    "    return pdfs, cdfs"
   ]
  },
  {
   "cell_type": "code",
   "execution_count": 19,
   "metadata": {
    "collapsed": true
   },
   "outputs": [],
   "source": [
    "residuals_c = (residuals.T - residuals.mean(axis=1)).T\n",
    "residuals_z = (residuals_c.T / residuals_c.std(axis=1)).T"
   ]
  },
  {
   "cell_type": "markdown",
   "metadata": {},
   "source": [
    "## European unrelateds\n",
    "\n",
    "I want to start by looking at just Europeans."
   ]
  },
  {
   "cell_type": "code",
   "execution_count": 20,
   "metadata": {
    "collapsed": true
   },
   "outputs": [],
   "source": [
    "euro_unrelateds = unrelateds.ix[(subject_meta.ix[unrelateds.subject_id, 'ethnicity_group'] == \n",
    "                                 'European').values]\n",
    "t = genotypes.ix[variants_f.index, euro_unrelateds.wgs_id]\n",
    "euro_variants_f = variants_f.ix[t[t.sum(axis=1) > 0].index]"
   ]
  },
  {
   "cell_type": "code",
   "execution_count": 24,
   "metadata": {
    "collapsed": true
   },
   "outputs": [],
   "source": [
    "    euro_rare_info.to_csv(a, sep='\\t')\n",
    "    euro_not_rare_info.to_csv(b, sep='\\t', compression='gzip')"
   ]
  },
  {
   "cell_type": "code",
   "execution_count": null,
   "metadata": {
    "collapsed": true
   },
   "outputs": [],
   "source": [
    "a = os.path.join(private_outdir, 'euro_rare_variants_info.tsv')\n",
    "b = os.path.join(private_outdir, 'euro_not_rare_variants_info.tsv.gz')\n",
    "if not os.path.exists(a) and not os.path.exists(b):\n",
    "    euro_rare_info, euro_not_rare_info = stratify_on_rare(\n",
    "        euro_variants_f,\n",
    "        genotypes[euro_unrelateds.wgs_id], \n",
    "        residuals_z[euro_unrelateds.wgs_id],\n",
    "        ase_pval[euro_unrelateds.wgs_id])\n",
    "    euro_rare_info.to_csv(a, sep='\\t')\n",
    "    euro_not_rare_info.to_csv(b, sep='\\t', compression='gzip')\n",
    "else:\n",
    "    euro_rare_info = pd.read_table(a, index_col=0)\n",
    "    euro_not_rare_info = pd.read_table(b, index_col=0)"
   ]
  },
  {
   "cell_type": "code",
   "execution_count": null,
   "metadata": {
    "collapsed": true
   },
   "outputs": [],
   "source": [
    "summarize_stratification(euro_rare_info, euro_not_rare_info)"
   ]
  },
  {
   "cell_type": "code",
   "execution_count": null,
   "metadata": {
    "collapsed": false
   },
   "outputs": [],
   "source": [
    "all_pdfs,all_cdfs = make_pdfs_cdfs(euro_rare_info, euro_not_rare_info)"
   ]
  },
  {
   "cell_type": "code",
   "execution_count": null,
   "metadata": {
    "collapsed": false
   },
   "outputs": [],
   "source": [
    "euro_rare_info.cadd.hist(bins=np.arange(51))\n",
    "plt.ylabel('Number of variants')\n",
    "plt.xlabel('CADD PHRED score');"
   ]
  },
  {
   "cell_type": "code",
   "execution_count": null,
   "metadata": {
    "collapsed": false
   },
   "outputs": [],
   "source": [
    "summarize_stratification(euro_rare_info[euro_rare_info.cadd >= 10], euro_not_rare_info)"
   ]
  },
  {
   "cell_type": "code",
   "execution_count": null,
   "metadata": {
    "collapsed": false
   },
   "outputs": [],
   "source": [
    "summarize_stratification(euro_rare_info[euro_rare_info.cadd >= 20], euro_not_rare_info)"
   ]
  },
  {
   "cell_type": "code",
   "execution_count": null,
   "metadata": {
    "collapsed": false
   },
   "outputs": [],
   "source": [
    "euro_rare_info.phylop.hist(bins=np.arange(-20, 10.1, 0.1))\n",
    "plt.ylabel('Number of variants')\n",
    "plt.xlabel('Max PhyloP score');"
   ]
  },
  {
   "cell_type": "code",
   "execution_count": null,
   "metadata": {
    "collapsed": false
   },
   "outputs": [],
   "source": [
    "summarize_stratification(euro_rare_info[euro_rare_info.max_phyloP100way >= 1], euro_not_rare_info)"
   ]
  },
  {
   "cell_type": "code",
   "execution_count": null,
   "metadata": {
    "collapsed": false
   },
   "outputs": [],
   "source": [
    "summarize_stratification(euro_rare_info[euro_rare_info.max_phyloP100way >= 3], euro_not_rare_info)"
   ]
  },
  {
   "cell_type": "code",
   "execution_count": null,
   "metadata": {
    "collapsed": false
   },
   "outputs": [],
   "source": [
    "summarize_stratification(euro_rare_info[(euro_rare_info.max_phyloP100way >= 3) &\n",
    "                                        (euro_rare_info.cadd_phred > 20)], euro_not_rare_info)"
   ]
  },
  {
   "cell_type": "raw",
   "metadata": {
    "collapsed": false
   },
   "source": [
    "pdfs.rare_tf_disrupt.plot(label='rare: TF disrupt')\n",
    "pdfs.rare_not_tf_disrupt.plot(label='rare: not TF disrupt')\n",
    "pdfs.not_rare.plot(label='not rare')\n",
    "plt.legend()\n",
    "plt.ylabel('Fraction of genes')\n",
    "plt.xlabel('$\\log TPM$ $z$-score');"
   ]
  },
  {
   "cell_type": "code",
   "execution_count": null,
   "metadata": {
    "collapsed": false
   },
   "outputs": [],
   "source": [
    "vc = euro_rare_info['sample'].value_counts()\n",
    "c = pd.Series(['red', 'blue'], index=['Blood', 'Fibroblast'])[wgs_meta.ix[vc.index, 'cell']]\n",
    "vc.plot(kind='bar', color=c)\n",
    "plt.xticks([]);"
   ]
  },
  {
   "cell_type": "code",
   "execution_count": null,
   "metadata": {
    "collapsed": false
   },
   "outputs": [],
   "source": [
    "wgs_meta.ix[euro_rare_info['sample'].value_counts().head().index]"
   ]
  },
  {
   "cell_type": "code",
   "execution_count": null,
   "metadata": {
    "collapsed": false
   },
   "outputs": [],
   "source": [
    "euro_rare_info['sample'].value_counts().head()"
   ]
  },
  {
   "cell_type": "markdown",
   "metadata": {},
   "source": [
    "## All unrelateds"
   ]
  },
  {
   "cell_type": "code",
   "execution_count": null,
   "metadata": {
    "collapsed": false
   },
   "outputs": [],
   "source": [
    "std = residuals.std(axis=1)\n",
    "std.sort_values(inplace=True, ascending=False)\n",
    "rc = residuals_z.ix[std.head(500).index, unrelateds.wgs_id].corr()\n",
    "sns.heatmap(rc, xticklabels=[], yticklabels=[])\n",
    "plt.title('Sample correlation');"
   ]
  },
  {
   "cell_type": "markdown",
   "metadata": {},
   "source": [
    "The samples aren't really correlated in any meaningful way after PEER,\n",
    "so I think I can use samples from different ancestries."
   ]
  },
  {
   "cell_type": "code",
   "execution_count": null,
   "metadata": {
    "collapsed": false
   },
   "outputs": [],
   "source": [
    "a = os.path.join(private_outdir, 'all_rare_variants_info.tsv')\n",
    "b = os.path.join(private_outdir, 'all_not_rare_variants_info.tsv.gz')\n",
    "if not os.path.exists(a) and not os.path.exists(b):\n",
    "    all_rare_info, all_not_rare_info = stratify_on_rare(\n",
    "        variants_f, \n",
    "        genotypes[unrelateds.wgs_id], \n",
    "        residuals_z[unrelateds.wgs_id],\n",
    "        ase_pval[unrelateds.wgs_id])\n",
    "    all_rare_info.to_csv(a, sep='\\t')\n",
    "    all_not_rare_info.to_csv(b, sep='\\t', compression='gzip')\n",
    "else:\n",
    "    all_rare_info = pd.read_table(a, index_col=0)\n",
    "    all_not_rare_info = pd.read_table(b, index_col=0)"
   ]
  },
  {
   "cell_type": "code",
   "execution_count": null,
   "metadata": {
    "collapsed": false
   },
   "outputs": [],
   "source": [
    "(all_rare_info.shape[0] + all_not_rare_info.shape[0]) / 131."
   ]
  },
  {
   "cell_type": "code",
   "execution_count": null,
   "metadata": {
    "collapsed": false
   },
   "outputs": [],
   "source": [
    "robust_exp = pd.Series(False, index=gene_info.index)\n",
    "robust_exp.ix[residuals_z.index] = True\n",
    "tt = [sum(robust_exp[x]) > 0 for x in variants_f.genes]\n",
    "print('Found {:,} distinct rpdSNVs.'.format(sum(tt)))"
   ]
  },
  {
   "cell_type": "code",
   "execution_count": null,
   "metadata": {
    "collapsed": false
   },
   "outputs": [],
   "source": [
    "n = len(set([x[0] for x in all_rare_info.index]))\n",
    "print('{:,} of {:,} robustly expressed genes have at least one rpdSNV.'.format(n, residuals_z.shape[0]))"
   ]
  },
  {
   "cell_type": "markdown",
   "metadata": {},
   "source": [
    "Note that I use all gene expression values, even if a particular gene didn't have an rpdSNV\n",
    "in any sample."
   ]
  },
  {
   "cell_type": "code",
   "execution_count": null,
   "metadata": {
    "collapsed": false
   },
   "outputs": [],
   "source": [
    "all_rare_info.shape"
   ]
  },
  {
   "cell_type": "code",
   "execution_count": null,
   "metadata": {
    "collapsed": false
   },
   "outputs": [],
   "source": [
    "all_not_rare_info.shape"
   ]
  },
  {
   "cell_type": "code",
   "execution_count": null,
   "metadata": {
    "collapsed": false
   },
   "outputs": [],
   "source": [
    "all_rare_info.shape[0] + all_not_rare_info.shape[0]"
   ]
  },
  {
   "cell_type": "code",
   "execution_count": null,
   "metadata": {
    "collapsed": false
   },
   "outputs": [],
   "source": [
    "18556 * 131"
   ]
  },
  {
   "cell_type": "code",
   "execution_count": null,
   "metadata": {
    "collapsed": false
   },
   "outputs": [],
   "source": [
    "summarize_stratification(all_rare_info, all_not_rare_info)"
   ]
  },
  {
   "cell_type": "code",
   "execution_count": null,
   "metadata": {
    "collapsed": false
   },
   "outputs": [],
   "source": [
    "all_pdfs,all_cdfs = make_pdfs_cdfs(all_rare_info, all_not_rare_info)"
   ]
  },
  {
   "cell_type": "code",
   "execution_count": null,
   "metadata": {
    "collapsed": false
   },
   "outputs": [],
   "source": [
    "vc = pd.Series([x[1] for x in all_rare_info.index]).value_counts()\n",
    "c = pd.Series(['red', 'blue'], index=['Blood', 'Fibroblast'])[wgs_meta.ix[vc.index, 'cell']]\n",
    "vc.plot(kind='bar', color=c)\n",
    "plt.xticks([]);"
   ]
  },
  {
   "cell_type": "code",
   "execution_count": null,
   "metadata": {
    "collapsed": false
   },
   "outputs": [],
   "source": [
    "stats.spearmanr(all_rare_info.exp.abs(), all_rare_info.cadd)"
   ]
  },
  {
   "cell_type": "code",
   "execution_count": null,
   "metadata": {
    "collapsed": false
   },
   "outputs": [],
   "source": [
    "stats.spearmanr(all_rare_info.exp.abs(), all_rare_info.phylop)"
   ]
  },
  {
   "cell_type": "code",
   "execution_count": null,
   "metadata": {
    "collapsed": false
   },
   "outputs": [],
   "source": [
    "summarize_stratification(all_rare_info[all_rare_info.cadd >= 10], all_not_rare_info)"
   ]
  },
  {
   "cell_type": "code",
   "execution_count": null,
   "metadata": {
    "collapsed": false
   },
   "outputs": [],
   "source": [
    "all_pdfs,all_cdfs = make_pdfs_cdfs(all_rare_info[all_rare_info.cadd >= 10], all_not_rare_info)"
   ]
  },
  {
   "cell_type": "code",
   "execution_count": null,
   "metadata": {
    "collapsed": false
   },
   "outputs": [],
   "source": [
    "summarize_stratification(all_rare_info[all_rare_info.cadd >= 20], all_not_rare_info)"
   ]
  },
  {
   "cell_type": "code",
   "execution_count": null,
   "metadata": {
    "collapsed": false
   },
   "outputs": [],
   "source": [
    "all_pdfs,all_cdfs = make_pdfs_cdfs(all_rare_info[all_rare_info.cadd >= 20], all_not_rare_info)"
   ]
  },
  {
   "cell_type": "code",
   "execution_count": null,
   "metadata": {
    "collapsed": false
   },
   "outputs": [],
   "source": [
    "summarize_stratification(all_rare_info[all_rare_info.phylop >= 1], all_not_rare_info)"
   ]
  },
  {
   "cell_type": "code",
   "execution_count": null,
   "metadata": {
    "collapsed": false
   },
   "outputs": [],
   "source": [
    "all_pdfs,all_cdfs = make_pdfs_cdfs(all_rare_info[all_rare_info.phylop >= 1], all_not_rare_info)"
   ]
  },
  {
   "cell_type": "code",
   "execution_count": null,
   "metadata": {
    "collapsed": false
   },
   "outputs": [],
   "source": [
    "summarize_stratification(all_rare_info[all_rare_info.phylop >= 3], all_not_rare_info)"
   ]
  },
  {
   "cell_type": "code",
   "execution_count": null,
   "metadata": {
    "collapsed": false
   },
   "outputs": [],
   "source": [
    "all_pdfs,all_cdfs = make_pdfs_cdfs(all_rare_info[all_rare_info.phylop >= 3], all_not_rare_info)"
   ]
  },
  {
   "cell_type": "markdown",
   "metadata": {},
   "source": [
    "## Rare CNVs"
   ]
  },
  {
   "cell_type": "code",
   "execution_count": null,
   "metadata": {
    "collapsed": true
   },
   "outputs": [],
   "source": [
    "fn = os.path.join(ciepy.root, 'private_output', 'rare_variant_processing', 'rare_cnvs.pickle')\n",
    "rare_cnv_info = cPickle.load(open(fn))"
   ]
  },
  {
   "cell_type": "code",
   "execution_count": null,
   "metadata": {
    "collapsed": true
   },
   "outputs": [],
   "source": [
    "def stratify_on_rare_cnvs(variants, exp, ase_pvals):\n",
    "    has_rare = pd.DataFrame(False, index=gene_info.index, columns=unrelateds.wgs_id)\n",
    "    contains_gene = pd.DataFrame(False, index=gene_info.index, columns=unrelateds.wgs_id)\n",
    "    overlaps_exon = pd.DataFrame(False, index=gene_info.index, columns=unrelateds.wgs_id)\n",
    "    for i,ind in enumerate(variants.index):\n",
    "        has_rare.ix[variants.ix[i, 'overlaps_gene'], variants.ix[i, 'sample']] = True\n",
    "        if variants.ix[i, 'contains_gene'] > np.nan:\n",
    "            contains_gene.ix[variants.ix[i, 'contains_gene'], variants.ix[i, 'sample']] = True\n",
    "        if variants.ix[i, 'overlaps_gene_exon'] > np.nan:\n",
    "            overlaps_exon.ix[variants.ix[i, 'overlaps_gene_exon'], variants.ix[i, 'sample']] = True\n",
    "        \n",
    "    has_rare_f = has_rare.ix[exp.index]\n",
    "    contains_gene_f = contains_gene.ix[has_rare_f.index]\n",
    "    overlaps_exon_f = overlaps_exon.ix[has_rare_f.index]\n",
    "\n",
    "    has_rare_f = has_rare_f.stack()\n",
    "    contains_gene_f = contains_gene_f.stack()\n",
    "    overlaps_exon_f = overlaps_exon_f.stack()\n",
    "    sz = exp.stack()\n",
    "\n",
    "    rare_info = pd.DataFrame({'exp':sz.ix[has_rare_f[has_rare_f].index], \n",
    "                              'contains_gene':contains_gene_f.ix[has_rare_f[has_rare_f].index],\n",
    "                              'overlaps_exon':overlaps_exon_f.ix[has_rare_f[has_rare_f].index]})\n",
    "    rare_info['ase_pval'] = ases.ix[rare_info.index]\n",
    "    not_rare_info = pd.DataFrame({'exp':sz.ix[has_rare_f[has_rare_f == False].index]})\n",
    "    not_rare_info['ase_pval'] = ases.ix[not_rare_info.index]\n",
    "    return rare_info, not_rare_info"
   ]
  },
  {
   "cell_type": "code",
   "execution_count": null,
   "metadata": {
    "collapsed": true
   },
   "outputs": [],
   "source": [
    "rare_del, not_rare_del = stratify_on_rare_cnvs(\n",
    "    rare_cnv_info[rare_cnv_info.svtype == 'DEL'], residuals_z, ase_pval)"
   ]
  },
  {
   "cell_type": "code",
   "execution_count": null,
   "metadata": {
    "collapsed": true
   },
   "outputs": [],
   "source": [
    "rare_dup, not_rare_dup = stratify_on_rare_cnvs(\n",
    "    rare_cnv_info[rare_cnv_info.svtype == 'DUP'], residuals_z, ase_pval)"
   ]
  },
  {
   "cell_type": "markdown",
   "metadata": {},
   "source": [
    "### Deletions"
   ]
  },
  {
   "cell_type": "code",
   "execution_count": null,
   "metadata": {
    "collapsed": false
   },
   "outputs": [],
   "source": [
    "a = rare_del.overlaps_exon.sum()\n",
    "b = rare_del.shape[0]\n",
    "print('{} of {} rare duplications overlap exons.'.format(a, b))"
   ]
  },
  {
   "cell_type": "code",
   "execution_count": null,
   "metadata": {
    "collapsed": false
   },
   "outputs": [],
   "source": [
    "summarize_stratification(rare_del, not_rare_del)"
   ]
  },
  {
   "cell_type": "code",
   "execution_count": null,
   "metadata": {
    "collapsed": false
   },
   "outputs": [],
   "source": [
    "all_pdfs,all_cdfs = make_pdfs_cdfs(rare_del, not_rare_del)"
   ]
  },
  {
   "cell_type": "code",
   "execution_count": null,
   "metadata": {
    "collapsed": false
   },
   "outputs": [],
   "source": [
    "summarize_stratification(rare_del[rare_del.overlaps_exon], not_rare_del)"
   ]
  },
  {
   "cell_type": "code",
   "execution_count": null,
   "metadata": {
    "collapsed": false
   },
   "outputs": [],
   "source": [
    "all_pdfs,all_cdfs = make_pdfs_cdfs(rare_del[rare_del.overlaps_exon], not_rare_del)"
   ]
  },
  {
   "cell_type": "markdown",
   "metadata": {},
   "source": [
    "### Duplications"
   ]
  },
  {
   "cell_type": "code",
   "execution_count": null,
   "metadata": {
    "collapsed": false
   },
   "outputs": [],
   "source": [
    "a = rare_dup.overlaps_exon.sum()\n",
    "b = rare_dup.shape[0]\n",
    "print('{} of {} rare duplications overlap exons.'.format(a, b))"
   ]
  },
  {
   "cell_type": "code",
   "execution_count": null,
   "metadata": {
    "collapsed": false
   },
   "outputs": [],
   "source": [
    "summarize_stratification(rare_dup, not_rare_dup)"
   ]
  },
  {
   "cell_type": "code",
   "execution_count": null,
   "metadata": {
    "collapsed": false
   },
   "outputs": [],
   "source": [
    "all_pdfs,all_cdfs = make_pdfs_cdfs(rare_dup, not_rare_dup)"
   ]
  },
  {
   "cell_type": "code",
   "execution_count": null,
   "metadata": {
    "collapsed": false
   },
   "outputs": [],
   "source": [
    "summarize_stratification(rare_dup[rare_dup.overlaps_exon], not_rare_dup)"
   ]
  },
  {
   "cell_type": "code",
   "execution_count": null,
   "metadata": {
    "collapsed": false
   },
   "outputs": [],
   "source": [
    "all_pdfs,all_cdfs = make_pdfs_cdfs(rare_dup[rare_dup.overlaps_exon], not_rare_dup)"
   ]
  },
  {
   "cell_type": "code",
   "execution_count": null,
   "metadata": {
    "collapsed": true
   },
   "outputs": [],
   "source": [
    "rare_del.to_csv(os.path.join(private_outdir, 'rare_del.tsv'), sep='\\t')\n",
    "not_rare_del.to_csv(os.path.join(private_outdir, 'not_rare_del.tsv'), sep='\\t')\n",
    "\n",
    "rare_dup.to_csv(os.path.join(private_outdir, 'rare_dup.tsv'), sep='\\t')\n",
    "not_rare_dup.to_csv(os.path.join(private_outdir, 'not_rare_dup.tsv'), sep='\\t')"
   ]
  }
 ],
 "metadata": {
  "kernelspec": {
   "display_name": "Environment (cie)",
   "language": "",
   "name": "cie"
  },
  "language_info": {
   "codemirror_mode": {
    "name": "ipython",
    "version": 2
   },
   "file_extension": ".py",
   "mimetype": "text/x-python",
   "name": "python",
   "nbconvert_exporter": "python",
   "pygments_lexer": "ipython2",
   "version": "2.7.11"
  }
 },
 "nbformat": 4,
 "nbformat_minor": 0
}
