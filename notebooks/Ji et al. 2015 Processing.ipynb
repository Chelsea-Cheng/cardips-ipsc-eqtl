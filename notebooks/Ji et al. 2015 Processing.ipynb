{
 "cells": [
  {
   "cell_type": "markdown",
   "metadata": {},
   "source": [
    "# Ji et al. 2015 Processing\n",
    "\n",
    "I'm going to investigate the data from [Ji et al. 2015](http://www.sciencedirect.com/science/article/pii/S1934590915005056). \n",
    "I'd like to understand it better and parse it to make it more useful.\n",
    "I'm going to focus on the naive stem cells."
   ]
  },
  {
   "cell_type": "code",
   "execution_count": 1,
   "metadata": {
    "collapsed": false
   },
   "outputs": [],
   "source": [
    "import os\n",
    "import subprocess\n",
    "\n",
    "import cdpybio as cpb\n",
    "import matplotlib.pyplot as plt\n",
    "import numpy as np\n",
    "import pandas as pd\n",
    "pd.options.mode.chained_assignment = None\n",
    "import pybedtools as pbt\n",
    "import seaborn as sns\n",
    "import vcf as pyvcf\n",
    "\n",
    "import cardipspy as cpy\n",
    "import ciepy\n",
    "\n",
    "%matplotlib inline\n",
    "\n",
    "import socket\n",
    "if socket.gethostname() == 'fl-hn1' or socket.gethostname() == 'fl-hn2':\n",
    "    pbt.set_tempdir('/frazer01/home/cdeboever/tmp')\n",
    "    \n",
    "outdir = os.path.join(ciepy.root, 'output',\n",
    "                      'ji_et_al_2015_processing')\n",
    "cpy.makedir(outdir)\n",
    "\n",
    "private_outdir = os.path.join(ciepy.root, 'private_output',\n",
    "                              'ji_et_al_2015_processing')\n",
    "cpy.makedir(private_outdir)"
   ]
  },
  {
   "cell_type": "code",
   "execution_count": 2,
   "metadata": {
    "collapsed": true
   },
   "outputs": [],
   "source": [
    "promoters = pbt.BedTool('/publicdata/gencode_v19_20151104/promoters_by_gene.bed')\n",
    "exons = pbt.BedTool('/publicdata/gencode_v19_20151104/exons.bed')\n",
    "genes = pbt.BedTool('/publicdata/gencode_v19_20151104/genes.bed')\n",
    "transcript_to_gene = pd.read_table('/publicdata/gencode_v19_20151104/transcript_to_gene.tsv',\n",
    "                                   index_col=0, squeeze=True, header=None)"
   ]
  },
  {
   "cell_type": "code",
   "execution_count": 3,
   "metadata": {
    "collapsed": false
   },
   "outputs": [],
   "source": [
    "# Download supplementary tables\n",
    "peaks_fn = os.path.join(private_outdir, 'mmc3.xlsx')\n",
    "if not os.path.exists(peaks_fn):\n",
    "    url = ('http://www.sciencedirect.com/science/MiamiMultiMediaURL/'\n",
    "           '1-s2.0-S1934590915005056/1-s2.0-S1934590915005056-mmc3.xlsx/'\n",
    "           '274143/html/S1934590915005056/bf6bad434c4c4022025ca74898ee2614/mmc3.xlsx')\n",
    "    !curl {url} > {peaks_fn}\n",
    "\n",
    "interactions_fn = os.path.join(private_outdir, 'mmc4.xlsx')\n",
    "if not os.path.exists(interactions_fn):\n",
    "    url = ('http://www.sciencedirect.com/science/MiamiMultiMediaURL/'\n",
    "           '1-s2.0-S1934590915005056/1-s2.0-S1934590915005056-mmc4.xlsx/'\n",
    "           '274143/html/S1934590915005056/8db92b9dbebd5aaf235d3a1d9d256eb2/mmc4.xlsx')\n",
    "    !curl {url} > {interactions_fn}\n",
    "\n",
    "super_enhancers_fn = os.path.join(private_outdir, 'mmc5.xlsx')\n",
    "if not os.path.exists(super_enhancers_fn):\n",
    "    url = ('http://www.sciencedirect.com/science/MiamiMultiMediaURL/'\n",
    "           '1-s2.0-S1934590915005056/1-s2.0-S1934590915005056-mmc5.xlsx/'\n",
    "           '274143/html/S1934590915005056/2da741445f7de78804be668d429b287f/mmc5.xlsx')\n",
    "    !curl {url} > {super_enhancers_fn}"
   ]
  },
  {
   "cell_type": "code",
   "execution_count": 4,
   "metadata": {
    "collapsed": false
   },
   "outputs": [],
   "source": [
    "# CTCF peaks\n",
    "ctcf = pd.read_excel(peaks_fn, skiprows=3, sheetname='CTCF ChIP-seq peaks')\n",
    "ctcf = ctcf[['chr', 'start', 'end']]\n",
    "ctcf = ctcf.dropna()\n",
    "ctcf.columns = ['chrom', 'start', 'end']\n",
    "ctcf['start'] = ctcf.start.astype(int)\n",
    "ctcf['end'] = ctcf.end.astype(int)\n",
    "s = '\\n'.join(ctcf.chrom + '\\t' + ctcf.start.astype(str) + \n",
    "              '\\t' + ctcf.end.astype(str)) + '\\n'\n",
    "ctcf_bt = pbt.BedTool(s, from_string=True)\n",
    "ctcf_bt = ctcf_bt.sort()\n",
    "ctcf_bt = ctcf_bt.merge()\n",
    "ctcf_bt.saveas(os.path.join(outdir, 'ctcf_peaks.bed'))\n",
    "\n",
    "# H3K27ac peaks\n",
    "enh = pd.read_excel(peaks_fn, skiprows=3, sheetname='H3K27ac ChIP-seq peaks')\n",
    "enh = enh[['chr', 'start', 'end']]\n",
    "enh = enh.dropna()\n",
    "enh.columns = ['chrom', 'start', 'end']\n",
    "enh['start'] = enh.start.astype(int)\n",
    "enh['end'] = enh.end.astype(int)\n",
    "s = '\\n'.join(enh.chrom + '\\t' + enh.start.astype(str) + \n",
    "              '\\t' + enh.end.astype(str)) + '\\n'\n",
    "enh_bt = pbt.BedTool(s, from_string=True)\n",
    "enh_bt = enh_bt.sort()\n",
    "enh_bt = enh_bt.merge()\n",
    "enh_bt.saveas(os.path.join(outdir, 'h3k27ac_peaks.bed'))\n",
    "\n",
    "# Interactions\n",
    "interactions = pd.read_excel(interactions_fn, sheetname='Naive', skiprows=2,\n",
    "                             converters={8:lambda x: {'T': True, 'F':False}[x],\n",
    "                                         9:lambda x: {'T': True, 'F':False}[x],\n",
    "                                         10:lambda x: {'T': True, 'F':False}[x]})\n",
    "\n",
    "# Super-enhancers\n",
    "super_enh = pd.read_excel(super_enhancers_fn, skiprows=2)\n",
    "super_enh = super_enh[super_enh['SE_ID in naive'] != '.']"
   ]
  },
  {
   "cell_type": "markdown",
   "metadata": {},
   "source": [
    "## CTCF, H3K27ac, super-enhancers\n",
    "\n",
    "The CTCF and H3K27ac peaks seem to simply just be the peaks. I've filtered the \n",
    "super-enhancers to only keep super-enhancers identified in the naive stem cells.\n",
    "\n",
    "## Interactions\n",
    "\n",
    "Let's figure out what the interaction table has. I think the first six columns define\n",
    "interactions between the region `Chr_1:Start_1-End_1` and `Chr_2:Start_2-End_2`.\n",
    "The seventh column is just an ID. The paper says\n",
    "\n",
    "    The naive hESC dataset contained ∼88 million unique paired-end tags (PETs) that identified 35,286 high-confidence cohesin-associated intra-chromosomal interactions (Table S3)...\n",
    "    \n",
    "which corresponds to the length of this table (note that we are looking at the naive\n",
    "cells):"
   ]
  },
  {
   "cell_type": "code",
   "execution_count": 5,
   "metadata": {
    "collapsed": false
   },
   "outputs": [
    {
     "data": {
      "text/plain": [
       "(35286, 11)"
      ]
     },
     "execution_count": 5,
     "metadata": {},
     "output_type": "execute_result"
    }
   ],
   "source": [
    "interactions.shape"
   ]
  },
  {
   "cell_type": "markdown",
   "metadata": {},
   "source": [
    "I'm not sure what the score in the eight column is. Let's look a bit."
   ]
  },
  {
   "cell_type": "code",
   "execution_count": 6,
   "metadata": {
    "collapsed": false
   },
   "outputs": [
    {
     "name": "stdout",
     "output_type": "stream",
     "text": [
      "(3, 3074)\n"
     ]
    }
   ],
   "source": [
    "se = interactions.ix[:, 7]\n",
    "print(se.min(), se.max())"
   ]
  },
  {
   "cell_type": "code",
   "execution_count": 7,
   "metadata": {
    "collapsed": false
   },
   "outputs": [
    {
     "data": {
      "image/png": "[encoded data removed]",
      "text/plain": [
       "<matplotlib.figure.Figure at 0x7fbfab92b610>"
      ]
     },
     "metadata": {},
     "output_type": "display_data"
    }
   ],
   "source": [
    "np.log10(se).hist()\n",
    "plt.ylabel('Number of interactions')\n",
    "plt.xlabel('$\\log_{10}$ score');"
   ]
  },
  {
   "cell_type": "markdown",
   "metadata": {},
   "source": [
    "I'm guessing the score is high for more confident interactions. I can look through the\n",
    "methods to verify this.\n",
    "\n",
    "From the paper:\n",
    "    \n",
    "    There were 12,987 CTCF-CTCF loops in naive hESCs, encompassing 37% of the genome and 33% of protein-coding genes (Table S3)."
   ]
  },
  {
   "cell_type": "code",
   "execution_count": 8,
   "metadata": {
    "collapsed": false
   },
   "outputs": [
    {
     "data": {
      "text/plain": [
       "12987"
      ]
     },
     "execution_count": 8,
     "metadata": {},
     "output_type": "execute_result"
    }
   ],
   "source": [
    "interactions[interactions.columns[-2]].sum()"
   ]
  },
  {
   "cell_type": "markdown",
   "metadata": {},
   "source": [
    "We can see that the second to last column identifies things that are loops in naive hESCs\n",
    "but are not at enhancers or promoters. We can see that the columns\n",
    "\n",
    "    CTCF-CTCF loops (not at enhancers or promoters)\n",
    "    CTCF-CTCF loops (putative insulated neighborhoods)\n",
    "    \n",
    "are subsets of\n",
    "\n",
    "    CTCF-CTCF loops"
   ]
  },
  {
   "cell_type": "code",
   "execution_count": 9,
   "metadata": {
    "collapsed": false
   },
   "outputs": [
    {
     "data": {
      "text/plain": [
       "(0, 11)"
      ]
     },
     "execution_count": 9,
     "metadata": {},
     "output_type": "execute_result"
    }
   ],
   "source": [
    "interactions[(interactions[interactions.columns[-3]] == False) & \n",
    "             (interactions[interactions.columns[-2]] == True)].shape"
   ]
  },
  {
   "cell_type": "code",
   "execution_count": 10,
   "metadata": {
    "collapsed": false
   },
   "outputs": [
    {
     "data": {
      "text/plain": [
       "(0, 11)"
      ]
     },
     "execution_count": 10,
     "metadata": {},
     "output_type": "execute_result"
    }
   ],
   "source": [
    "interactions[(interactions[interactions.columns[-3]] == False) & \n",
    "             (interactions[interactions.columns[-1]] == True)].shape"
   ]
  },
  {
   "cell_type": "markdown",
   "metadata": {},
   "source": [
    "However the last column is not a subset of the second to last column:"
   ]
  },
  {
   "cell_type": "code",
   "execution_count": 11,
   "metadata": {
    "collapsed": false
   },
   "outputs": [
    {
     "data": {
      "text/plain": [
       "(6183, 11)"
      ]
     },
     "execution_count": 11,
     "metadata": {},
     "output_type": "execute_result"
    }
   ],
   "source": [
    "interactions[(interactions['CTCF-CTCF loops (not at enhancers or promoters)'] == True) & \n",
    "             (interactions['CTCF-CTCF loops (putative insulated neighborhoods)'] == True)].shape"
   ]
  },
  {
   "cell_type": "code",
   "execution_count": 12,
   "metadata": {
    "collapsed": false
   },
   "outputs": [
    {
     "data": {
      "text/plain": [
       "CTCF-CTCF loops                                       21953\n",
       "CTCF-CTCF loops (not at enhancers or promoters)       12987\n",
       "CTCF-CTCF loops (putative insulated neighborhoods)     9344\n",
       "dtype: int64"
      ]
     },
     "execution_count": 12,
     "metadata": {},
     "output_type": "execute_result"
    }
   ],
   "source": [
    "interactions[interactions.columns[-3:]].sum()"
   ]
  },
  {
   "cell_type": "markdown",
   "metadata": {},
   "source": [
    "So now the question is what to the last three columns mean. I believe \n",
    "the `CTCF-CTCF loops` column is `True` for any interaction where there are \n",
    "CTCF peaks and motifs in each interaction peak and the CTCF motifs \n",
    "are arranged in the expected convergent orientation. These are loops.\n",
    "\n",
    "I think the `CTCF-CTCF loops (not at enhancers or promoters)` is `False` \n",
    "for any interaction where at least one of the interaction peaks overlaps either\n",
    "a promoter (\"promoter regions that are defined as +/- 2 kb of the Refseq TSS\")\n",
    "or an enhancer (defined by the H3k27ac peaks) based on this from the methods:\n",
    "\n",
    "    Operationally, an interaction was defined as associated with the regulatory element if one of the two PET peaks of the interaction overlapped with the regulatory element by at least 1 base pair.\n",
    "    \n",
    "The insulated neighborhoods were defined according to a computational method\n",
    "but the basic idea is that interactions upstream or downsream of the loop \n",
    "should not interact with regions inside of the loop. We can see that of the 12,987\n",
    "CTCF loops that are not promoter/enhancer loops, 6,183 are insulated neighborhoods.\n",
    "\n",
    "Let's look at some of the insulated neighborhoods from one peak to the other."
   ]
  },
  {
   "cell_type": "code",
   "execution_count": 13,
   "metadata": {
    "collapsed": false
   },
   "outputs": [
    {
     "name": "stdout",
     "output_type": "stream",
     "text": [
      "chr1\t1876387\t1975584\n",
      " chr1\t1892659\t1975584\n",
      " chr1\t2127461\t2312590\n",
      " chr1\t2346712\t2477085\n",
      " chr1\t2929886\t3200057\n",
      " chr1\t2929886\t3340656\n",
      " chr1\t3401518\t3534941\n",
      " chr1\t3408807\t3531141\n",
      " chr1\t3408807\t3534941\n",
      " chr1\t4717302\t4885718\n",
      " "
     ]
    }
   ],
   "source": [
    "t = interactions[interactions['CTCF-CTCF loops (putative insulated neighborhoods)']]\n",
    "t = t[t.Chr_1 == t.Chr_2]\n",
    "mi = t.apply(lambda x: min(x['End_1'], x['End_1']), axis=1)\n",
    "ma = t.apply(lambda x: max(x['Start_1'], x['Start_2']), axis=1)\n",
    "s = '\\n'.join(t.Chr_1 + '\\t' + mi.astype(str) + '\\t' + ma.astype(str)) + '\\n'\n",
    "bt = pbt.BedTool(s, from_string=True)\n",
    "bt = bt.sort()\n",
    "bt_merged = bt.merge()\n",
    "bt.head()"
   ]
  },
  {
   "cell_type": "code",
   "execution_count": 14,
   "metadata": {
    "collapsed": false
   },
   "outputs": [
    {
     "name": "stdout",
     "output_type": "stream",
     "text": [
      "2051\n"
     ]
    }
   ],
   "source": [
    "res = bt_merged.intersect(bt, sorted=True, wo=True)\n",
    "count = 0\n",
    "for r in res:\n",
    "    if int(r[1]) < int(r[4]) and int(r[2]) > int(r[5]):\n",
    "        count += 1\n",
    "print(count)"
   ]
  },
  {
   "cell_type": "markdown",
   "metadata": {},
   "source": [
    "We can see that insulated neighborhoods can share one end but differ on the other end:\n",
    "\n",
    "    chr1\t3408807\t3531141\n",
    "    chr1\t3408807\t3534941\n",
    "    \n",
    "There are also some insulated neighborhoods which are completely contained within other \n",
    "insulated neighborhoods.\n",
    "\n",
    "### Interaction sizes\n",
    "\n",
    "Let's look at the interactions a bit more. Here are the sizes \n",
    "of the first and second peaks:"
   ]
  },
  {
   "cell_type": "code",
   "execution_count": 15,
   "metadata": {
    "collapsed": false
   },
   "outputs": [
    {
     "data": {
      "image/png": "[encoded data removed]",
      "text/plain": [
       "<matplotlib.figure.Figure at 0x7fbf3567c490>"
      ]
     },
     "metadata": {},
     "output_type": "display_data"
    }
   ],
   "source": [
    "se = interactions.End_1 - interactions.Start_1\n",
    "np.log10(se.abs()).hist()\n",
    "plt.ylabel('Number of first peaks')\n",
    "plt.xlabel('$log_{10}$ size in bp');"
   ]
  },
  {
   "cell_type": "code",
   "execution_count": 16,
   "metadata": {
    "collapsed": false
   },
   "outputs": [
    {
     "data": {
      "image/png": "[encoded data removed]",
      "text/plain": [
       "<matplotlib.figure.Figure at 0x7fbfab916610>"
      ]
     },
     "metadata": {},
     "output_type": "display_data"
    }
   ],
   "source": [
    "se = interactions.End_2 - interactions.Start_2\n",
    "np.log10(se.abs()).hist()\n",
    "plt.ylabel('Number of second peaks')\n",
    "plt.xlabel('$log_{10}$ size in bp');"
   ]
  },
  {
   "cell_type": "markdown",
   "metadata": {},
   "source": [
    "The paper says:\n",
    "\n",
    "    There were 12,987 CTCF-CTCF loops in naive hESCs, encompassing 37% of the genome and 33% of protein-coding genes (Table S3). These CTCF-CTCF loops ranged from 4 to >800 kb and contained 0–24 protein-coding genes, with a median of 200 kb and one protein-coding gene per loop. \n",
    "\n",
    "After talking to Xiong Ji, it seems that the 200 kb size comes from the insulated neighborhoods.\n",
    "\n",
    "Here's the plot including the peaks:"
   ]
  },
  {
   "cell_type": "code",
   "execution_count": 17,
   "metadata": {
    "collapsed": false
   },
   "outputs": [
    {
     "data": {
      "image/png": "[encoded data removed]",
      "text/plain": [
       "<matplotlib.figure.Figure at 0x7fbf350a96d0>"
      ]
     },
     "metadata": {},
     "output_type": "display_data"
    }
   ],
   "source": [
    "mi = interactions[interactions['CTCF-CTCF loops (not at enhancers or promoters)']].apply(\n",
    "    lambda x: min(x['Start_1'], x['Start_2']), axis=1)\n",
    "ma = interactions[interactions['CTCF-CTCF loops (not at enhancers or promoters)']].apply(\n",
    "    lambda x: max(x['End_1'], x['End_2']), axis=1)\n",
    "se = ma - mi\n",
    "np.log10(se.abs()).hist(bins=50)\n",
    "plt.ylabel('Number of loops')\n",
    "plt.xlabel('$log_{10}$ size in bp')\n",
    "plt.title('Median: {}'.format(se.median()));"
   ]
  },
  {
   "cell_type": "markdown",
   "metadata": {},
   "source": [
    "Here's the plot not including the peaks:"
   ]
  },
  {
   "cell_type": "code",
   "execution_count": 19,
   "metadata": {
    "collapsed": false
   },
   "outputs": [
    {
     "data": {
      "image/png": "[encoded data removed]",
      "text/plain": [
       "<matplotlib.figure.Figure at 0x7fbf331f6c90>"
      ]
     },
     "metadata": {},
     "output_type": "display_data"
    }
   ],
   "source": [
    "mi = interactions[interactions['CTCF-CTCF loops (not at enhancers or promoters)']].apply(\n",
    "    lambda x: min(x['End_1'], x['End_1']), axis=1)\n",
    "ma = interactions[interactions['CTCF-CTCF loops (not at enhancers or promoters)']].apply(\n",
    "    lambda x: max(x['Start_1'], x['Start_2']), axis=1)\n",
    "se = ma - mi\n",
    "np.log10(se.abs()).hist(bins=50)\n",
    "plt.ylabel('Number of loops')\n",
    "plt.xlabel('$log_{10}$ size in bp')\n",
    "plt.title('Median: {}'.format(se.median()));"
   ]
  },
  {
   "cell_type": "markdown",
   "metadata": {},
   "source": [
    "These medians are closer to 100kb than 200kb."
   ]
  },
  {
   "cell_type": "code",
   "execution_count": 20,
   "metadata": {
    "collapsed": false
   },
   "outputs": [
    {
     "data": {
      "image/png": "[encoded data removed]",
      "text/plain": [
       "<matplotlib.figure.Figure at 0x7fbf36e9e650>"
      ]
     },
     "metadata": {},
     "output_type": "display_data"
    }
   ],
   "source": [
    "mi = interactions[interactions['CTCF-CTCF loops (putative insulated neighborhoods)']].apply(\n",
    "    lambda x: min(x['Start_1'], x['Start_2']), axis=1)\n",
    "ma = interactions[interactions['CTCF-CTCF loops (putative insulated neighborhoods)']].apply(\n",
    "    lambda x: max(x['End_1'], x['End_2']), axis=1)\n",
    "se = ma - mi\n",
    "np.log10(se.abs()).hist(bins=50)\n",
    "plt.ylabel('Number of loops')\n",
    "plt.xlabel('$log_{10}$ size in bp')\n",
    "plt.title('Median: {}'.format(se.median()));"
   ]
  },
  {
   "cell_type": "code",
   "execution_count": 21,
   "metadata": {
    "collapsed": false
   },
   "outputs": [
    {
     "data": {
      "image/png": "[encoded data removed]",
      "text/plain": [
       "<matplotlib.figure.Figure at 0x7fbf359c4cd0>"
      ]
     },
     "metadata": {},
     "output_type": "display_data"
    }
   ],
   "source": [
    "mi = interactions[interactions['CTCF-CTCF loops (putative insulated neighborhoods)']].apply(\n",
    "    lambda x: min(x['End_1'], x['End_1']), axis=1)\n",
    "ma = interactions[interactions['CTCF-CTCF loops (putative insulated neighborhoods)']].apply(\n",
    "    lambda x: max(x['Start_1'], x['Start_2']), axis=1)\n",
    "se = ma - mi\n",
    "np.log10(se.abs()).hist(bins=50)\n",
    "plt.ylabel('Number of loops')\n",
    "plt.xlabel('$log_{10}$ size in bp')\n",
    "plt.title('Median: {}'.format(se.median()));"
   ]
  },
  {
   "cell_type": "markdown",
   "metadata": {},
   "source": [
    "The median is closer to 200kb for insulated neighborhoods."
   ]
  },
  {
   "cell_type": "markdown",
   "metadata": {},
   "source": [
    "The last column `CTCF-CTCF loops (putative insulated neighborhoods)` identifies\n",
    "loops that are \"insulated neighborhoods.\" From the paper:\n",
    "\n",
    "    If the CTCF-CTCF loops identified in hESC function as insulated neighborhoods, we expect that most cohesin-associated interactions with an endpoint inside the loop have their other endpoint within the loop.\n",
    "    \n",
    "So an insulated neighborhood basically means that interactions that have a peak within a loop have \n",
    "their other peak in the loop as well."
   ]
  },
  {
   "cell_type": "markdown",
   "metadata": {
    "collapsed": true
   },
   "source": [
    "## Interactions parsing and annotation\n",
    "\n",
    "I'm going to annotate these interactions to make them more useful.\n",
    "I'm going to annotate\n",
    "\n",
    "* whether the interaction is interchromosomal\n",
    "* whether each peak overlaps CTCF, H3K27ac, promoter (for which genes(s)), super-enhancer\n",
    "* genes contained within loop\n",
    "\n",
    "Let's start by renaming the columns to be more friendly and annotating inter- vs. intra- chromosomal."
   ]
  },
  {
   "cell_type": "code",
   "execution_count": 23,
   "metadata": {
    "collapsed": true
   },
   "outputs": [],
   "source": [
    "interactions.columns = ['chrom1', 'start1', 'end1', 'chrom2', 'start2', 'end2', 'ID',\n",
    "                        'score', 'ctcf_loop', 'nep_loop', 'pin_loop']\n",
    "interactions['intra'] = True\n",
    "interactions.ix[interactions.chrom1 != interactions.chrom2, 'intra'] = False"
   ]
  },
  {
   "cell_type": "markdown",
   "metadata": {},
   "source": [
    "I'll add in names (chr:start-end)\n",
    "for the peaks and the entire loop as well as the loop coordinates (`start1` is not always less\n",
    "than `start2` etc.) I'll also make a bed file for the loops. Some of this will be limited\n",
    "to intrachromosomal interactions."
   ]
  },
  {
   "cell_type": "code",
   "execution_count": 24,
   "metadata": {
    "collapsed": false
   },
   "outputs": [],
   "source": [
    "interactions['peak1'] = (interactions.chrom1 + ':' + \n",
    "                         interactions.start1.astype(str) + '-' + \n",
    "                         interactions.end1.astype(str))\n",
    "interactions['peak2'] = (interactions.chrom2 + ':' + \n",
    "                         interactions.start2.astype(str) + '-' + \n",
    "                         interactions.end2.astype(str))\n",
    "\n",
    "tdf = interactions[interactions.intra]\n",
    "loops = (tdf.chrom1 + ':' + tdf.apply(lambda x: x[['start1', 'start2']].min(), axis=1).astype(str) + \n",
    "         '-' + tdf.apply(lambda x: x[['end1', 'end2']].max(), axis=1).astype(str))\n",
    "loops_inner = (tdf.chrom1 + ':' + tdf.apply(lambda x: x[['end1', 'end2']].min(), axis=1).astype(str) + \n",
    "               '-' + tdf.apply(lambda x: x[['start1', 'start2']].max(), axis=1).astype(str))\n",
    "\n",
    "s = '\\n'.join(loops.apply(lambda x: x.replace(':', '\\t').replace('-', '\\t'))) + '\\n'\n",
    "loops_bt = pbt.BedTool(s, from_string=True).sort()\n",
    "loops_bt.saveas(os.path.join(outdir, 'loops.bt'))\n",
    "s = '\\n'.join(loops_inner.apply(lambda x: x.replace(':', '\\t').replace('-', '\\t'))) + '\\n'\n",
    "loops_inner_bt = pbt.BedTool(s, from_string=True).sort()\n",
    "loops_inner_bt.saveas(os.path.join(outdir, 'loops_inner.bt'))\n",
    "\n",
    "interactions['loop'] = np.nan\n",
    "interactions.ix[tdf.index, 'loop'] = loops\n",
    "interactions['loop_inner'] = np.nan\n",
    "interactions.ix[tdf.index, 'loop_inner'] = loops_inner"
   ]
  },
  {
   "cell_type": "markdown",
   "metadata": {},
   "source": [
    "I'll make a bed file for the ChIA-PET peaks so I can work with those."
   ]
  },
  {
   "cell_type": "code",
   "execution_count": 25,
   "metadata": {
    "collapsed": false
   },
   "outputs": [
    {
     "data": {
      "text/plain": [
       "<BedTool(/frazer01/projects/CARDIPS/analysis/cardips-ipsc-eqtl/output/ji_et_al_2015_processing/chia_peaks.bed)>"
      ]
     },
     "execution_count": 25,
     "metadata": {},
     "output_type": "execute_result"
    }
   ],
   "source": [
    "s = '\\n'.join(interactions.chrom1 + '\\t' + interactions.start1.astype(str) + \n",
    "              '\\t' + interactions.end1.astype(str)) + '\\n'\n",
    "s += '\\n'.join(interactions.chrom2 + '\\t' + interactions.start2.astype(str) + \n",
    "               '\\t' + interactions.end2.astype(str)) + '\\n'\n",
    "chia_peaks = pbt.BedTool(s, from_string=True).sort().merge()\n",
    "chia_peaks.saveas(os.path.join(outdir, 'chia_peaks.bed'))"
   ]
  },
  {
   "cell_type": "markdown",
   "metadata": {},
   "source": [
    "Now let's annotate the ChIA-PET peaks with CTCF and H3K27ac. We have some \n",
    "information about this from the last column, but we don't know which exact\n",
    "peaks overlap these features."
   ]
  },
  {
   "cell_type": "code",
   "execution_count": 26,
   "metadata": {
    "collapsed": true
   },
   "outputs": [],
   "source": [
    "def annotate_chia_peaks(bt, name):\n",
    "    res = chia_peaks.intersect(bt, sorted=True, wo=True)\n",
    "    tdf = res.to_dataframe()\n",
    "    tdf.index = (tdf.chrom + ':' + tdf.start.astype(str) +\n",
    "                 '-' + tdf.end.astype(str))\n",
    "    tdf[name] = (tdf.name + ':' + tdf.score.astype(str) +\n",
    "                 '-' + tdf.strand.astype(str))\n",
    "    interactions.index = interactions.peak1\n",
    "    interactions['{}1'.format(name)] = False\n",
    "    ind = set(tdf.index) & set(interactions.index)\n",
    "    interactions.ix[ind, '{}1'.format(name)] = True\n",
    "    interactions.index = interactions.peak2\n",
    "    interactions['{}2'.format(name)] = False\n",
    "    ind = set(tdf.index) & set(interactions.index)\n",
    "    interactions.ix[ind, '{}2'.format(name)] = True\n",
    "    annot = {}\n",
    "    for r in res:\n",
    "        i = '{}:{}-{}'.format(r.chrom, r.start, r.end)\n",
    "        v = '{}:{}-{}'.format(r.name, r.score, r.strand)\n",
    "        annot[i] = annot.get(i, set()) | set([v])\n",
    "    annot = pd.Series(annot)\n",
    "    annot.to_pickle(os.path.join(outdir, 'chia_to_{}.pickle'.format(name)))\n",
    "    interactions.index = range(interactions.shape[0])\n",
    "    return interactions"
   ]
  },
  {
   "cell_type": "raw",
   "metadata": {
    "collapsed": true
   },
   "source": [
    "# s = '\\n'.join(interactions.chrom1 + '\\t' + interactions.start1.astype(str) + \n",
    "#               '\\t' + interactions.end1.astype(str)) + '\\n'\n",
    "# p1 = pbt.BedTool(s, from_string=True).sort().merge()\n",
    "# s = '\\n'.join(interactions.chrom2 + '\\t' + interactions.start2.astype(str) + \n",
    "#               '\\t' + interactions.end2.astype(str)) + '\\n'\n",
    "# p2 = pbt.BedTool(s, from_string=True).sort().merge()\n",
    "\n",
    "# These will be boolean columns indicating that a given ChIA-PET peak\n",
    "# overlaps an annotation.\n",
    "interactions['enh1'] = False\n",
    "interactions['enh2'] = False\n",
    "interactions['ctcf1'] = False\n",
    "interactions['ctcf2'] = False\n",
    "\n",
    "# Pairs of ChIA-PET/CTCF peaks that overap.\n",
    "chia_ctcf = {}\n",
    "# Pairs of ChIA-PET/H3K27ac peaks that overap.\n",
    "chia_enh = {}\n",
    "\n",
    "# CTCF\n",
    "interactions.index = interactions.peak1\n",
    "res = p1.intersect(ctcf_bt, sorted=True, wo=True)\n",
    "tdf = res.to_dataframe()\n",
    "tdf.index = (tdf.chrom + ':' + tdf.start.astype(str) +\n",
    "             '-' + tdf.end.astype(str))\n",
    "tdf['ctcf'] = (tdf.name + ':' + tdf.score.astype(str) +\n",
    "             '-' + tdf.strand.astype(str))\n",
    "interactions.ix[set(tdf.index), 'ctcf1'] = True\n",
    "for r in res:\n",
    "    i = '{}:{}-{}'.format(r.chrom, r.start, r.end)\n",
    "    v = '{}:{}-{}'.format(r.name, r.score, r.strand)\n",
    "    chia_ctcf[i] = chia_ctcf.get(i, set()) | set([v])\n",
    "\n",
    "interactions.index = interactions.peak2\n",
    "res = p2.intersect(ctcf_bt, sorted=True, wo=True)\n",
    "tdf = res.to_dataframe()\n",
    "tdf.index = (tdf.chrom + ':' + tdf.start.astype(str) +\n",
    "             '-' + tdf.end.astype(str))\n",
    "tdf['ctcf'] = (tdf.name + ':' + tdf.score.astype(str) +\n",
    "             '-' + tdf.strand.astype(str))\n",
    "interactions.ix[set(tdf.index), 'ctcf2'] = True\n",
    "for r in res:\n",
    "    i = '{}:{}-{}'.format(r.chrom, r.start, r.end)\n",
    "    v = '{}:{}-{}'.format(r.name, r.score, r.strand)\n",
    "    chia_ctcf[i] = chia_ctcf.get(i, set()) | set([v])\n",
    "chia_ctcf = pd.Series(chia_ctcf)\n",
    "chia_ctcf.to_pickle(os.path.join(outdir, 'chia_to_ctcf.pickle'))\n",
    "\n",
    "# H3K27ac\n",
    "interactions.index = interactions.peak1\n",
    "res = p1.intersect(enh_bt, sorted=True, wo=True)\n",
    "tdf = res.to_dataframe()\n",
    "tdf.index = (tdf.chrom + ':' + tdf.start.astype(str) +\n",
    "             '-' + tdf.end.astype(str))\n",
    "tdf['enh'] = (tdf.name + ':' + tdf.score.astype(str) +\n",
    "             '-' + tdf.strand.astype(str))\n",
    "interactions.ix[set(tdf.index), 'enh1'] = True\n",
    "for r in res:\n",
    "    i = '{}:{}-{}'.format(r.chrom, r.start, r.end)\n",
    "    v = '{}:{}-{}'.format(r.name, r.score, r.strand)\n",
    "    chia_enh[i] = chia_enh.get(i, set()) | set([v])\n",
    "\n",
    "interactions.index = interactions.peak2\n",
    "res = p2.intersect(enh_bt, sorted=True, wo=True)\n",
    "tdf = res.to_dataframe()\n",
    "tdf.index = (tdf.chrom + ':' + tdf.start.astype(str) +\n",
    "             '-' + tdf.end.astype(str))\n",
    "tdf['enh'] = (tdf.name + ':' + tdf.score.astype(str) +\n",
    "             '-' + tdf.strand.astype(str))\n",
    "interactions.ix[set(tdf.index), 'enh2'] = True\n",
    "for r in res:\n",
    "    i = '{}:{}-{}'.format(r.chrom, r.start, r.end)\n",
    "    v = '{}:{}-{}'.format(r.name, r.score, r.strand)\n",
    "    chia_enh[i] = chia_enh.get(i, set()) | set([v])\n",
    "chia_enh = pd.Series(chia_enh)\n",
    "chia_enh.to_pickle(os.path.join(outdir, 'chia_to_h3k27ac.pickle'))\n",
    "\n",
    "interactions.index = range(interactions.shape[0])"
   ]
  },
  {
   "cell_type": "code",
   "execution_count": 27,
   "metadata": {
    "collapsed": true
   },
   "outputs": [],
   "source": [
    "interactions = annotate_chia_peaks(ctcf_bt, 'ctcf')\n",
    "interactions = annotate_chia_peaks(enh_bt, 'h3k27ac')"
   ]
  },
  {
   "cell_type": "markdown",
   "metadata": {
    "collapsed": true
   },
   "source": [
    "Now let's annotate whether ChIA-PET peaks overlap promoters, exons,\n",
    "or gene bodies. We'll also annotate which genes are contained in a loop."
   ]
  },
  {
   "cell_type": "code",
   "execution_count": 28,
   "metadata": {
    "collapsed": true
   },
   "outputs": [],
   "source": [
    "def annotate_chia_peaks(bt, name, use_name_col=False):\n",
    "    res = chia_peaks.intersect(bt, sorted=True, wo=True)\n",
    "    tdf = res.to_dataframe()\n",
    "    tdf.index = (tdf.chrom + ':' + tdf.start.astype(str) +\n",
    "                 '-' + tdf.end.astype(str))\n",
    "    tdf[name] = (tdf.name + ':' + tdf.score.astype(str) +\n",
    "                 '-' + tdf.strand.astype(str))\n",
    "    interactions.index = interactions.peak1\n",
    "    interactions['{}1'.format(name)] = False\n",
    "    ind = set(tdf.index) & set(interactions.index)\n",
    "    interactions.ix[ind, '{}1'.format(name)] = True\n",
    "    interactions.index = interactions.peak2\n",
    "    interactions['{}2'.format(name)] = False\n",
    "    ind = set(tdf.index) & set(interactions.index)\n",
    "    interactions.ix[ind, '{}2'.format(name)] = True\n",
    "    annot = {}\n",
    "    for r in res:\n",
    "        i = '{}:{}-{}'.format(r.chrom, r.start, r.end)\n",
    "        if use_name_col:\n",
    "            v = r.fields[6]\n",
    "        else:\n",
    "            v = '{}:{}-{}'.format(r.name, r.score, r.strand)\n",
    "        annot[i] = annot.get(i, set()) | set([v])\n",
    "    annot = pd.Series(annot)\n",
    "    annot.to_pickle(os.path.join(outdir, 'chia_to_{}.pickle'.format(name)))\n",
    "    interactions.index = range(interactions.shape[0])\n",
    "    return interactions"
   ]
  },
  {
   "cell_type": "code",
   "execution_count": 39,
   "metadata": {
    "collapsed": true
   },
   "outputs": [],
   "source": [
    "interactions = annotate_chia_peaks(promoters, 'promoter', use_name_col=True)\n",
    "interactions = annotate_chia_peaks(exons, 'exon', use_name_col=True)\n",
    "interactions = annotate_chia_peaks(genes, 'gene', use_name_col=True)\n",
    "\n",
    "# I'll parse the peak to promoter and exon mappings for these so they are gene IDs.\n",
    "t = pd.read_pickle(os.path.join(outdir, 'chia_to_promoter.pickle'))\n",
    "t = t.apply(lambda x: set([y.split('_')[0] for y in x]))\n",
    "t.to_pickle(os.path.join(outdir, 'chia_to_promoter_gene.pickle'))\n",
    "t = pd.read_pickle(os.path.join(outdir, 'chia_to_exon.pickle'))\n",
    "t = t.apply(lambda x: set([transcript_to_gene[y.split('_')[0]] for y in x]))\n",
    "t.to_pickle(os.path.join(outdir, 'chia_to_exon_gene.pickle'))"
   ]
  },
  {
   "cell_type": "markdown",
   "metadata": {},
   "source": [
    "Now I'll find which genes are contained within loops. I'll go ahead and do this \n",
    "for all interactions but it's probably only meaningful for loops."
   ]
  },
  {
   "cell_type": "code",
   "execution_count": 70,
   "metadata": {
    "collapsed": false
   },
   "outputs": [],
   "source": [
    "s = '\\n'.join(interactions[interactions.intra].loop.apply(\n",
    "        lambda x: '\\t'.join(cpb.general.parse_region(x)))) + '\\n'\n",
    "bt = pbt.BedTool(s, from_string=True)\n",
    "bt = bt.sort()\n",
    "res = bt.intersect(genes, wo=True, sorted=True)"
   ]
  },
  {
   "cell_type": "code",
   "execution_count": 71,
   "metadata": {
    "collapsed": true
   },
   "outputs": [],
   "source": [
    "interaction_contains = {}\n",
    "interaction_partially_contains = {}\n",
    "for r in res:\n",
    "    ind = '{}:{}-{}'.format(r.chrom, r.start, r.end)\n",
    "    if int(r.fields[5]) - int(r.fields[4]) == int(r.fields[-1]):\n",
    "        interaction_contains[ind] = interaction_contains.get(ind, []) + [r.fields[6]]\n",
    "    else:\n",
    "        interaction_partially_contains[ind] = interaction_partially_contains.get(ind, []) + [r.fields[6]]\n",
    "interaction_contains = pd.Series(interaction_contains)\n",
    "interaction_contains.to_pickle(os.path.join(outdir, 'interaction_contains_gene.pickle'))\n",
    "interaction_partially_contains = pd.Series(interaction_partially_contains)\n",
    "interaction_partially_contains.to_pickle(os.path.join(outdir, 'interaction_partially_contains_gene.pickle'))"
   ]
  },
  {
   "cell_type": "code",
   "execution_count": 82,
   "metadata": {
    "collapsed": true
   },
   "outputs": [],
   "source": [
    "gene_to_containing_interactions = {}\n",
    "for i in interaction_contains.index:\n",
    "    for g in interaction_contains[i]:\n",
    "        gene_to_containing_interactions[g] = gene_to_containing_interactions.get(g, set()) | set([i])\n",
    "gene_to_containing_interactions = pd.Series(gene_to_containing_interactions)\n",
    "gene_to_containing_interactions.to_pickle(\n",
    "    os.path.join(outdir, 'gene_to_containing_interactions.pickle'))"
   ]
  },
  {
   "cell_type": "code",
   "execution_count": 76,
   "metadata": {
    "collapsed": true
   },
   "outputs": [],
   "source": [
    "interactions.to_csv(os.path.join(outdir, 'interactions.tsv'), sep='\\t', index=None)"
   ]
  }
 ],
 "metadata": {
  "kernelspec": {
   "display_name": "Python 2",
   "language": "python",
   "name": "python2"
  },
  "language_info": {
   "codemirror_mode": {
    "name": "ipython",
    "version": 2
   },
   "file_extension": ".py",
   "mimetype": "text/x-python",
   "name": "python",
   "nbconvert_exporter": "python",
   "pygments_lexer": "ipython2",
   "version": "2.7.10"
  }
 },
 "nbformat": 4,
 "nbformat_minor": 0
}
