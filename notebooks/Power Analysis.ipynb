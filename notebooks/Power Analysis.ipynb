{
 "cells": [
  {
   "cell_type": "markdown",
   "metadata": {},
   "source": [
    "# Power Analysis"
   ]
  },
  {
   "cell_type": "code",
   "execution_count": 1,
   "metadata": {
    "collapsed": true
   },
   "outputs": [],
   "source": [
    "import cPickle\n",
    "import datetime\n",
    "import glob\n",
    "import gzip\n",
    "import os\n",
    "import random\n",
    "import re\n",
    "import shutil\n",
    "import subprocess\n",
    "import time\n",
    "import uuid\n",
    "\n",
    "import cdpybio as cpb\n",
    "import matplotlib.pyplot as plt\n",
    "import numpy as np\n",
    "import pandas as pd\n",
    "import pybedtools as pbt\n",
    "import scipy.stats as stats\n",
    "import seaborn as sns\n",
    "import statsmodels.api as sm\n",
    "import vcf as pyvcf\n",
    "\n",
    "import cardipspy as cpy\n",
    "import ciepy\n",
    "\n",
    "%matplotlib inline\n",
    "%load_ext rpy2.ipython\n",
    "\n",
    "dy_name = 'power_analysis'\n",
    "\n",
    "import socket\n",
    "if socket.gethostname() == 'fl-hn1' or socket.gethostname() == 'fl-hn2':\n",
    "    dy = os.path.join(ciepy.root, 'sandbox', dy_name)\n",
    "    cpy.makedir(dy)\n",
    "    pbt.set_tempdir(dy)\n",
    "    \n",
    "outdir = os.path.join(ciepy.root, 'output', dy_name)\n",
    "cpy.makedir(outdir)\n",
    "\n",
    "private_outdir = os.path.join(ciepy.root, 'private_output', dy_name)\n",
    "cpy.makedir(private_outdir)"
   ]
  },
  {
   "cell_type": "code",
   "execution_count": 2,
   "metadata": {
    "collapsed": true
   },
   "outputs": [],
   "source": [
    "exp = pd.read_table(os.path.join(ciepy.root, 'output', 'eqtl_input', \n",
    "                                 'tpm_log_filtered_phe_std_norm_peer_resid.tsv'), index_col=0)\n",
    "\n",
    "rna_meta = pd.read_table(os.path.join(ciepy.root, 'output', 'input_data', 'rnaseq_metadata.tsv'),\n",
    "                         index_col=0)"
   ]
  },
  {
   "cell_type": "code",
   "execution_count": 3,
   "metadata": {
    "collapsed": true
   },
   "outputs": [],
   "source": [
    "# Single tissue results.\n",
    "fns = glob.glob('/publicdata/gtex_20151104/*.eqtl')\n",
    "gtex_results = {}\n",
    "for fn in fns:\n",
    "    gtex_results[os.path.split(fn)[1].split('.')[0]] = pd.read_table(fn, index_col=0,\n",
    "                                                                     low_memory=False)"
   ]
  },
  {
   "cell_type": "markdown",
   "metadata": {},
   "source": [
    "I want to look at power a few different ways. \n",
    "I want to take my unrelateds and subsample them like GTEx does to see how many\n",
    "eGenes I gain as I increase my sample size. I should probably run the full eQTL\n",
    "analysis (with permutations) for the full unrelated set as well.\n",
    "\n",
    "I'm aso going to make an estimate of\n",
    "my power to detect GTEx and Geuvadis eQTLs and compare them to my actual ability\n",
    "to detect the eQTLs. For each Geuvadis/GTEx eQTL, I'll calculate an $R^2$. Since \n",
    "Geuvadis provides $r$ for each eQTL, I can just square $r$. GTEx provides $\\beta$, \n",
    "so I can calculate $R^2$ for a given association as \n",
    "\n",
    "$R^2 = \\left(\\beta \\frac{s_v}{s_g}\\right)^2$,\n",
    "\n",
    "where $s_v$ is the standard deviation of my genotypes at the position and $s_g$ is the\n",
    "standard deviation of the gene's expression in the GTEx data. I can the calculate\n",
    "\n",
    "$f^2 = \\frac{R^2}{1 - R^2}$\n",
    "\n",
    "which I can use in a power test for linear regression.\n",
    "\n",
    "The power calculation is kind of slow when done so many times so this notebook takes a while to run\n",
    "if you need to redo the power calculations."
   ]
  },
  {
   "cell_type": "markdown",
   "metadata": {},
   "source": [
    "## Subsets"
   ]
  },
  {
   "cell_type": "code",
   "execution_count": 4,
   "metadata": {
    "collapsed": false
   },
   "outputs": [],
   "source": [
    "cols = [40, 50, 60, 70, 80, 90, 100]\n",
    "pvals = {}\n",
    "for i in cols:\n",
    "    fn = os.path.join(ciepy.root, 'output', 'eqtl_processing', \n",
    "                      'unrelated_eqtls_{}'.format(i), 'min_pvalues_corrected.tsv')\n",
    "    pvals[i] = pd.read_table(fn, index_col=0).min_pval_bf\n",
    "pvals = pd.DataFrame(pvals)"
   ]
  },
  {
   "cell_type": "code",
   "execution_count": 5,
   "metadata": {
    "collapsed": false
   },
   "outputs": [
    {
     "data": {
      "text/plain": [
       "<matplotlib.axes._subplots.AxesSubplot at 0x7f9b8178b4d0>"
      ]
     },
     "execution_count": 5,
     "metadata": {},
     "output_type": "execute_result"
    },
    {
     "data": {
      "image/png": "[encoded data removed]",
      "text/plain": [
       "<matplotlib.figure.Figure at 0x7f9b8178b5d0>"
      ]
     },
     "metadata": {},
     "output_type": "display_data"
    }
   ],
   "source": [
    "(pvals < 0.05).sum().plot()"
   ]
  },
  {
   "cell_type": "code",
   "execution_count": 6,
   "metadata": {
    "collapsed": false
   },
   "outputs": [
    {
     "data": {
      "text/plain": [
       "40      570\n",
       "50      780\n",
       "60     1017\n",
       "70     1369\n",
       "80     1521\n",
       "90     1706\n",
       "100    1955\n",
       "dtype: int64"
      ]
     },
     "execution_count": 6,
     "metadata": {},
     "output_type": "execute_result"
    }
   ],
   "source": [
    "(pvals < 0.05).sum()"
   ]
  },
  {
   "cell_type": "markdown",
   "metadata": {},
   "source": [
    "## pwr"
   ]
  },
  {
   "cell_type": "code",
   "execution_count": 7,
   "metadata": {
    "collapsed": true
   },
   "outputs": [],
   "source": [
    "cluster_setup = False"
   ]
  },
  {
   "cell_type": "code",
   "execution_count": 8,
   "metadata": {
    "collapsed": true
   },
   "outputs": [],
   "source": [
    "def pwr(df, u, v):\n",
    "    \"\"\"\n",
    "    Execute pwr.f2.test. The dataframe df must have a column f2.\n",
    "    \"\"\"\n",
    "    import rpy2.robjects as ro\n",
    "    ro.r('suppressPackageStartupMessages(library(pwr))')\n",
    "    ro.globalenv['df'] = df\n",
    "    ro.globalenv['u'] = u\n",
    "    ro.globalenv['v'] = v\n",
    "    ro.r('p = rep(1, dim(df)[2])')\n",
    "    ro.r('for(i in 1:dim(df)[1]) {'\n",
    "         'p[i] = pwr.f2.test(u=u, v=v, f2=df[i, \"f2\"], '\n",
    "         'sig.level=0.001, power=NULL)[\"power\"]}')\n",
    "    p = ro.globalenv['p']\n",
    "    power = [x[0] for x in p]\n",
    "    return power"
   ]
  },
  {
   "cell_type": "markdown",
   "metadata": {
    "collapsed": true
   },
   "source": [
    "Here's an example of using `pwr.f2.test`."
   ]
  },
  {
   "cell_type": "code",
   "execution_count": null,
   "metadata": {
    "collapsed": false
   },
   "outputs": [
    {
     "data": {
      "text/plain": [
       "\n",
       "     Multiple regression power calculation \n",
       "\n",
       "              u = 2\n",
       "              v = 117\n",
       "             f2 = 0.060995\n",
       "      sig.level = 1e-08\n",
       "          power = 0.0002883615\n",
       "\n"
      ]
     },
     "metadata": {},
     "output_type": "display_data"
    }
   ],
   "source": [
    "%%R\n",
    "\n",
    "suppressPackageStartupMessages(library(pwr))\n",
    "pwr.f2.test(u=2, v=117, f2=0.060995, sig.level=0.00000001, power=NULL)"
   ]
  },
  {
   "cell_type": "markdown",
   "metadata": {},
   "source": [
    "### Geuvadis"
   ]
  },
  {
   "cell_type": "code",
   "execution_count": null,
   "metadata": {
    "collapsed": false
   },
   "outputs": [
    {
     "name": "stdout",
     "output_type": "stream",
     "text": [
      "Cluster has 250 engines.\n",
      "importing numpy on engine(s)\n",
      "importing vcf on engine(s)"
     ]
    }
   ],
   "source": [
    "url = ('ftp://ftp.ebi.ac.uk/pub/databases/microarray/data/experiment/'\n",
    "       'GEUV/E-GEUV-1/analysis_results/EUR373.gene.cis.FDR5.all.rs137.txt.gz')\n",
    "fn = os.path.join(private_outdir, 'EUR373.gene.cis.FDR5.all.rs137.txt')\n",
    "if not os.path.exists(fn):\n",
    "    !curl {url} > {fn + '.gz'}\n",
    "    !gunzip {fn + '.gz'}\n",
    "\n",
    "geuvadis_fn = os.path.join(outdir, 'geuvadis.tsv')\n",
    "if not os.path.exists(geuvadis_fn):\n",
    "    geuvadis = pd.read_table(os.path.join(private_outdir, 'EUR373.gene.cis.FDR5.all.rs137.txt'), \n",
    "                             low_memory=False)\n",
    "    # Remove genes that I didn't test.\n",
    "    geuvadis['ens_gene_id'] = geuvadis.GENE_ID.apply(lambda x: x.split('.')[0])\n",
    "    tested = pd.DataFrame(True, index=[x.split('.')[0] for x in exp.index], columns=['tested'])\n",
    "    geuvadis = geuvadis.merge(tested, left_on='ens_gene_id', right_index=True)\n",
    "    # Remove indels.\n",
    "    geuvadis = geuvadis[geuvadis.SNPpos - geuvadis.SNPpos.astype(int) == 0]\n",
    "    snps = geuvadis[['SNP_ID', 'CHR_SNP', 'SNPpos']]\n",
    "    snps = snps.drop_duplicates()\n",
    "    snps.CHR_SNP = snps.CHR_SNP.astype(int).astype(str)\n",
    "    snps.index = snps.CHR_SNP + ':' + snps.SNPpos.astype(int).astype(str)\n",
    "    # There are a few positions that still have indels. I'll drop any position\n",
    "    # where there are two entries to fix this.\n",
    "    vc = pd.Series(snps.index).value_counts()\n",
    "    vc = vc[vc == 1]\n",
    "    snps = snps.ix[vc.index]\n",
    "    \n",
    "    from ipyparallel import Client\n",
    "    parallel_client = Client(profile='parallel')\n",
    "    dview = parallel_client[:]\n",
    "    print('Cluster has {} engines.'.format(len(parallel_client.ids)))\n",
    "\n",
    "    with dview.sync_imports():\n",
    "        import numpy\n",
    "        import vcf\n",
    "\n",
    "    %px np = numpy\n",
    "    %px pyvcf = vcf\n",
    "\n",
    "    def calc_stdev(chrom, pos):\n",
    "        res = vcf_reader.fetch(chrom, pos, pos)\n",
    "        try:\n",
    "            r = res.next()\n",
    "            out = np.std([0] * r.num_hom_ref + [1] * r.num_het + [2] * r.num_hom_alt)\n",
    "        except:\n",
    "            out = np.nan\n",
    "        return '{}:{}'.format(chrom, int(pos)), out\n",
    "\n",
    "    dview.push(dict(calc_stdev=calc_stdev))\n",
    "    \n",
    "    %px fn = ('/projects/CARDIPS/analysis/cardips-ipsc-eqtl/private_output/eqtl_input/filtered_all/0000.vcf.gz')\n",
    "    %px vcf_reader = pyvcf.Reader(open(fn))\n",
    "    \n",
    "    cluster_setup = True\n",
    "    \n",
    "    stdev = dview.map_sync(lambda x: calc_stdev(x[0], x[1]), snps[['CHR_SNP', 'SNPpos']].values)\n",
    "    tdf = pd.DataFrame(stdev, columns=['ind', 'genotype_stdev'])\n",
    "    tdf.index = tdf.ind\n",
    "    snps = snps.join(tdf)\n",
    "    geuvadis = geuvadis.merge(snps[['SNP_ID', 'genotype_stdev']])\n",
    "    geuvadis['r2'] = geuvadis.rvalue ** 2\n",
    "    geuvadis = geuvadis.dropna(subset=['genotype_stdev'])\n",
    "    geuvadis['f2'] = geuvadis.r2 / (1 - geuvadis.r2)\n",
    "    \n",
    "    for v in list(np.arange(40, rna_meta.in_unrelateds.sum(), 10)) + [rna_meta.in_unrelateds.sum()]:\n",
    "        p = pwr(df=geuvadis, u=2, v=v - 1)\n",
    "        geuvadis['power_{}'.format(v)] = p\n",
    "    geuvadis.to_csv(geuvadis_fn, sep='\\t')"
   ]
  },
  {
   "cell_type": "code",
   "execution_count": null,
   "metadata": {
    "collapsed": false
   },
   "outputs": [],
   "source": [
    "geuvadis.power_40.hist()\n",
    "plt.xlabel('Power')\n",
    "plt.xlabel('Number of associations');"
   ]
  },
  {
   "cell_type": "code",
   "execution_count": null,
   "metadata": {
    "collapsed": false
   },
   "outputs": [],
   "source": [
    "geuvadis.power_118.hist()\n",
    "plt.xlabel('Power')\n",
    "plt.xlabel('Number of associations');"
   ]
  },
  {
   "cell_type": "markdown",
   "metadata": {},
   "source": [
    "Now I need to read the results for each gene and see whether I tested the\n",
    "particular SNV and what my $p$-value was. One tricky part is that the Gencode\n",
    "IDs are different between the Geuvadis results and my results, but the just \n",
    "differ by what is after the period. I'll make a mapping."
   ]
  },
  {
   "cell_type": "code",
   "execution_count": null,
   "metadata": {
    "collapsed": false
   },
   "outputs": [],
   "source": [
    "geuvadis_genes = pd.DataFrame(geuvadis.GENE_ID.values, \n",
    "                              index=geuvadis.GENE_ID.apply(lambda x: x.split('.')[0]),\n",
    "                              columns=['geuvadis']).drop_duplicates()\n",
    "my_genes = pd.DataFrame(list(exp.index), \n",
    "                        index=[x.split('.')[0] for x in exp.index],\n",
    "                        columns=['ipsc']).drop_duplicates()\n",
    "gene_conv = geuvadis_genes.join(my_genes, how='inner')\n",
    "gene_conv['ens'] = gene_conv.index\n",
    "gene_conv.index = gene_conv.geuvadis"
   ]
  },
  {
   "cell_type": "code",
   "execution_count": null,
   "metadata": {
    "collapsed": false
   },
   "outputs": [],
   "source": [
    "for i in [40, 50, 60, 70, 80]:\n",
    "    col = 'sig_{}'.format(i)\n",
    "    geuvadis[col] = np.nan\n",
    "    dy = os.path.join(ciepy.root, 'private_output', 'run_eqtl_analysis',\n",
    "                      'unrelated_eqtls_{}'.format(i), 'gene_results')\n",
    "    genes = list(set(geuvadis.GENE_ID))\n",
    "    for gene in genes:\n",
    "        fn = os.path.join(dy, gene_conv.ix[gene, 'ipsc'], '{}.tsv'.format(gene_conv.ix[gene, 'ipsc']))\n",
    "        res = ciepy.read_emmax_output(fn)\n",
    "        res.index = res.CHROM.astype(str) + ':' + res.BEG.astype(str)\n",
    "        t = geuvadis[geuvadis.GENE_ID == gene]\n",
    "        t['ind'] = t.index\n",
    "        t.index = t.CHR_SNP.astype(str) + ':' + t.SNPpos.astype(int).astype(str)\n",
    "        t = t.ix[set(res.index) & set(t.index)]\n",
    "        res = res.ix[t.index]\n",
    "        geuvadis.ix[t.ind, col] = (res.PVALUE < 0.001).values"
   ]
  },
  {
   "cell_type": "code",
   "execution_count": null,
   "metadata": {
    "collapsed": false
   },
   "outputs": [],
   "source": [
    "for i in [60, 70, 80]:\n",
    "    col = 'sig_{}'.format(i)\n",
    "    geuvadis[col] = np.nan\n",
    "    dy = os.path.join(ciepy.root, 'private_output', 'run_eqtl_analysis',\n",
    "                      'unrelated_eqtls_{}'.format(i), 'gene_results')\n",
    "    genes = list(set(geuvadis.GENE_ID))\n",
    "    for gene in genes:\n",
    "        fn = os.path.join(dy, gene_conv.ix[gene, 'ipsc'], '{}.tsv'.format(gene_conv.ix[gene, 'ipsc']))\n",
    "        res = ciepy.read_emmax_output(fn)\n",
    "        res.index = res.CHROM.astype(str) + ':' + res.BEG.astype(str)\n",
    "        t = geuvadis[geuvadis.GENE_ID == gene]\n",
    "        t['ind'] = t.index\n",
    "        t.index = t.CHR_SNP.astype(str) + ':' + t.SNPpos.astype(int).astype(str)\n",
    "        t = t.ix[set(res.index) & set(t.index)]\n",
    "        res = res.ix[t.index]\n",
    "        geuvadis.ix[t.ind, col] = (res.PVALUE < 0.001).values"
   ]
  },
  {
   "cell_type": "code",
   "execution_count": null,
   "metadata": {
    "collapsed": true
   },
   "outputs": [],
   "source": [
    "def power_plot(i):\n",
    "    c = pd.cut(geuvadis['power_{}'.format(i)], np.arange(0, 1.01, 0.01))\n",
    "    geuvadis['power_{}_bin'.format(i)] = c\n",
    "    df = pd.crosstab(geuvadis['power_{}_bin'.format(i)], geuvadis['sig_{}'.format(i)])\n",
    "    df['percent'] = df[True] / df.sum(axis=1)\n",
    "    df.percent.plot()\n",
    "    plt.title(i);"
   ]
  },
  {
   "cell_type": "code",
   "execution_count": null,
   "metadata": {
    "collapsed": false
   },
   "outputs": [],
   "source": [
    "power_plot(40)"
   ]
  },
  {
   "cell_type": "code",
   "execution_count": null,
   "metadata": {
    "collapsed": false
   },
   "outputs": [],
   "source": [
    "power_plot(50)"
   ]
  },
  {
   "cell_type": "code",
   "execution_count": null,
   "metadata": {
    "collapsed": false
   },
   "outputs": [],
   "source": [
    "i = '50'\n",
    "c = pd.cut(geuvadis['power_{}'.format(i)], np.arange(0, 1.01, 0.01))\n",
    "geuvadis['power_{}_bin'.format(i)] = c\n",
    "df = pd.crosstab(geuvadis['power_{}_bin'.format(i)], geuvadis['sig_{}'.format(i)])\n",
    "df['percent'] = df[True] / df.sum(axis=1)\n",
    "df.percent.plot()\n",
    "plt.title(i);"
   ]
  },
  {
   "cell_type": "code",
   "execution_count": null,
   "metadata": {
    "collapsed": true
   },
   "outputs": [],
   "source": []
  },
  {
   "cell_type": "code",
   "execution_count": null,
   "metadata": {
    "collapsed": true
   },
   "outputs": [],
   "source": []
  },
  {
   "cell_type": "markdown",
   "metadata": {},
   "source": [
    "### GTEx"
   ]
  },
  {
   "cell_type": "code",
   "execution_count": null,
   "metadata": {
    "collapsed": false
   },
   "outputs": [],
   "source": [
    "fns = glob.glob(os.path.join(outdir, 'gtex_*tsv'))\n",
    "if len(fns) != len(gtex_results.keys())\n",
    "    snps = []\n",
    "    for k in gtex_results.keys():\n",
    "        t = gtex_results[k]\n",
    "        t['indel'] = False\n",
    "        t.ix[[x[-1] == 'I' or x[-1] == 'D' for x in t.index], 'indel'] = True\n",
    "        t = t[t.indel == False]\n",
    "        snps.append(t[['SNP_Chr', 'SNP_Pos']])\n",
    "        gtex_results[k] = t\n",
    "    snps = pd.concat(snps)\n",
    "    snps = snps.drop_duplicates()\n",
    "    snps.index = (snps.SNP_Chr.astype(str) + ':' + snps.SNP_Pos.astype(str))\n",
    "\n",
    "    geuvadis_snps = geuvadis[['CHR_SNP', 'SNPpos', 'genotype_stdev']]\n",
    "    geuvadis_snps.index = (geuvadis_snps.CHR_SNP.astype(str) + ':' + \n",
    "                           geuvadis_snps.SNPpos.astype(int).astype(str))\n",
    "    geuvadis_snps = geuvadis_snps.drop_duplicates()\n",
    "    \n",
    "    snps['genotype_stdev'] = np.nan\n",
    "    ind = list(set(snps.index) & set(geuvadis_snps.index))\n",
    "    snps.ix[ind, 'genotype_stdev'] = geuvadis_snps.ix[ind, 'genotype_stdev']    \n",
    "    snps_todo = snps[snps.genotype_stdev.isnull()]\n",
    "\n",
    "    from ipyparallel import Client\n",
    "    parallel_client = Client()\n",
    "    dview = parallel_client[:]\n",
    "    print('Cluster has {} engines.'.format(len(parallel_client.ids)))\n",
    "    \n",
    "    if cluster_setup == False:\n",
    "\n",
    "        with dview.sync_imports():\n",
    "            import numpy\n",
    "            import vcf\n",
    "\n",
    "        %px np = numpy\n",
    "        %px pyvcf = vcf\n",
    "\n",
    "        def calc_stdev(chrom, pos):\n",
    "            res = vcf_reader.fetch(chrom, pos, pos)\n",
    "            try:\n",
    "                r = res.next()\n",
    "                out = np.std([0] * r.num_hom_ref + [1] * r.num_het + [2] * r.num_hom_alt)\n",
    "            except:\n",
    "                out = np.nan\n",
    "            return '{}:{}'.format(chrom, int(pos)), out\n",
    "\n",
    "        dview.push(dict(calc_stdev=calc_stdev))\n",
    "\n",
    "        %px fn = ('/projects/CARDIPS/analysis/cardips-ipsc-eqtl/private_output/eqtl_input/filtered_all/0000.vcf.gz')\n",
    "        %px vcf_reader = pyvcf.Reader(open(fn))\n",
    "\n",
    "        cluster_setup = True\n",
    "\n",
    "    stdev = dview.map_sync(lambda x: calc_stdev(x[0], x[1]), snps_todo[['SNP_Chr', 'SNP_Pos']].values)\n",
    "    tdf = pd.DataFrame(stdev, columns=['ind', 'genotype_stdev'])\n",
    "    tdf.index = tdf.ind\n",
    "    snps_todo['genotype_stdev'] = tdf.ix[snps_todo.index, 'genotype_stdev']\n",
    "    snps.ix[snps_todo.index, 'genotype_stdev'] = snps_todo.genotype_stdev\n",
    "    snps = snps[snps.genotype_stdev.isnull() == False]\n",
    "    \n",
    "    for k in gtex_results.keys():\n",
    "        t = gtex_results[k]\n",
    "        t.location = t.SNP_Chr.astype(str) + ':' + t.SNP_Pos.astype(str)\n",
    "        t['genotype_stdev'] = snps.ix[t.location, 'genotype_stdev'].values\n",
    "        t = t.dropna(subset=['genotype_stdev'])\n",
    "        gtex_results[k] = t\n",
    "    \n",
    "    for k in gtex_results.keys():\n",
    "        df = gtex_results[k]\n",
    "        for v in list(np.arange(40, rna_meta.in_unrelateds.sum(), 10)) + [rna_meta.in_unrelateds.sum()]:\n",
    "            p = pwr(df=df, u=2, v=v - 1)\n",
    "            df['power_{}'.format(v)] = p\n",
    "        gtex_results[k] = df\n",
    "        df.to_csv(os.path.join(outdir, 'gtex_{}.tsv'.format(k)))"
   ]
  },
  {
   "cell_type": "code",
   "execution_count": null,
   "metadata": {
    "collapsed": false
   },
   "outputs": [],
   "source": [
    "for k in gtex_results.keys():\n",
    "    t = gtex_results[k]\n",
    "    t.location = t.SNP_Chr.astype(str) + ':' + t.SNP_Pos.astype(str)\n",
    "    t['genotype_stdev'] = snps.ix[t.location, 'genotype_stdev'].values\n",
    "    t = t.dropna(subset=['genotype_stdev'])\n",
    "    gtex_results[k] = t"
   ]
  },
  {
   "cell_type": "code",
   "execution_count": null,
   "metadata": {
    "collapsed": false
   },
   "outputs": [],
   "source": [
    "for k in gtex_results.keys():\n",
    "    print(k, gtex_results[k].shape)"
   ]
  },
  {
   "cell_type": "code",
   "execution_count": null,
   "metadata": {
    "collapsed": false
   },
   "outputs": [],
   "source": [
    "for k in gtex_results.keys():\n",
    "    print(k, gtex_results[k].shape)"
   ]
  },
  {
   "cell_type": "code",
   "execution_count": null,
   "metadata": {
    "collapsed": true
   },
   "outputs": [],
   "source": []
  }
 ],
 "metadata": {
  "kernelspec": {
   "display_name": "Environment (cie)",
   "language": "",
   "name": "cie"
  },
  "language_info": {
   "codemirror_mode": {
    "name": "ipython",
    "version": 2
   },
   "file_extension": ".py",
   "mimetype": "text/x-python",
   "name": "python",
   "nbconvert_exporter": "python",
   "pygments_lexer": "ipython2",
   "version": "2.7.11"
  }
 },
 "nbformat": 4,
 "nbformat_minor": 0
}
