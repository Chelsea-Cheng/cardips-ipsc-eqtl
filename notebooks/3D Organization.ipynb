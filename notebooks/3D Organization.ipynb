{
 "cells": [
  {
   "cell_type": "markdown",
   "metadata": {},
   "source": [
    "# 3D Organization"
   ]
  },
  {
   "cell_type": "code",
   "execution_count": 99,
   "metadata": {
    "collapsed": true
   },
   "outputs": [],
   "source": [
    "import os\n",
    "import subprocess\n",
    "\n",
    "import cdpybio as cpb\n",
    "import matplotlib.pyplot as plt\n",
    "import numpy as np\n",
    "import pandas as pd\n",
    "pd.options.mode.chained_assignment = None\n",
    "import pybedtools as pbt\n",
    "import seaborn as sns\n",
    "import vcf as pyvcf\n",
    "\n",
    "import cardipspy as cpy\n",
    "import ciepy\n",
    "\n",
    "%matplotlib inline"
   ]
  },
  {
   "cell_type": "code",
   "execution_count": 2,
   "metadata": {
    "collapsed": true
   },
   "outputs": [],
   "source": [
    "outdir = os.path.join(ciepy.root, 'output',\n",
    "                      '3d_organization')\n",
    "cpy.makedir(outdir)\n",
    "\n",
    "private_outdir = os.path.join(ciepy.root, 'private_output',\n",
    "                              '3d_organization')\n",
    "cpy.makedir(private_outdir)"
   ]
  },
  {
   "cell_type": "code",
   "execution_count": 3,
   "metadata": {
    "collapsed": true
   },
   "outputs": [],
   "source": [
    "fn = os.path.join(ciepy.root, 'output', 'functional_annotation_analysis',\n",
    "                  'encode_stem_cell_chip_seq.tsv')\n",
    "encode_chip_seq = pd.read_table(fn, index_col=0)\n",
    "\n",
    "gene_info = pd.read_table(cpy.gencode_gene_info, index_col=0)\n",
    "t_to_g = pd.read_table(cpy.gencode_transcript_gene, index_col=0, header=None, \n",
    "                       squeeze=True)\n",
    "\n",
    "fn = 'ftp://ftp.informatics.jax.org/pub/reports/HOM_AllOrganism.rpt'\n",
    "conv = pd.read_table(fn, index_col=0, low_memory=False)\n",
    "mouse_genes = conv[conv['Common Organism Name'] == 'mouse, laboratory']\n",
    "human_genes = conv[conv['Common Organism Name'] == 'human']\n",
    "\n",
    "wit_nanog = pd.read_excel(os.path.join(ciepy.root, 'private_data', 'nature12420-s3.xls'))\n",
    "\n",
    "fn = os.path.join(ciepy.root, 'output', 'eqtl_input', \n",
    "                  'tpm_log_filtered_phe_std_norm_peer_resid.tsv')\n",
    "exp = pd.read_table(fn, index_col=0)\n",
    "\n",
    "fn = ('/raid3/projects/CARDIPS/analysis/cardips-ipsc-eqtl/'\n",
    "      'private_data/wgs/biallelic_snvs.vcf.gz')\n",
    "vcf_reader = pyvcf.Reader(open(fn), compressed=True)"
   ]
  },
  {
   "cell_type": "code",
   "execution_count": 5,
   "metadata": {
    "collapsed": true
   },
   "outputs": [],
   "source": [
    "def liftover_bed(bt, chain, mapped=None, unmapped=None):\n",
    "    \"\"\"Lift over a bed file using a given chain file. Returns pandas data\n",
    "    frame with old coordinates as index and new coordinates as columns. Regions\n",
    "    that couldn't be lifted over are discarded.\"\"\"\n",
    "    import tempfile\n",
    "    bt = bt.sort()\n",
    "    mapped = tempfile.NamedTemporaryFile()\n",
    "    unmapped = tempfile.NamedTemporaryFile()\n",
    "    c = '{} {} {} {} {}'.format(cpy.liftOver, bt.fn, chain,\n",
    "                                mapped.name, unmapped.name)\n",
    "    subprocess.check_call(c, shell=True)\n",
    "    with open(unmapped.name) as f:\n",
    "        missing = pbt.BedTool(''.join([x for x in f.readlines()[1::2]]),\n",
    "                              from_string=True)\n",
    "    bt = bt.subtract(missing)\n",
    "    bt_mapped = pbt.BedTool(mapped.name)\n",
    "    old_loc = []\n",
    "    for r in bt:\n",
    "        old_loc.append('{}:{}-{}'.format(r.chrom, r.start, r.end))\n",
    "    new_loc = []\n",
    "    new_chrom = []\n",
    "    new_start = []\n",
    "    new_end = []\n",
    "    for r in bt_mapped:\n",
    "        new_loc.append('{}:{}-{}'.format(r.chrom, r.start, r.end))\n",
    "        new_chrom.append(r.chrom)\n",
    "        new_start.append(r.start)\n",
    "        new_end.append(r.end)\n",
    "    new_info = pd.DataFrame({'loc':new_loc, \n",
    "                             'chrom': new_chrom, \n",
    "                             'start': new_start,\n",
    "                             'end': new_end}, \n",
    "                            index=old_loc)\n",
    "    mapped.close()\n",
    "    unmapped.close()\n",
    "    return new_info"
   ]
  },
  {
   "cell_type": "raw",
   "metadata": {
    "collapsed": true
   },
   "source": [
    "chain = os.path.join(ciepy.root, 'output', 'input_data', \n",
    "                     'mm9.hg19.all.chain')\n",
    "res = liftover_bed(bt, chain)"
   ]
  },
  {
   "cell_type": "code",
   "execution_count": null,
   "metadata": {
    "collapsed": true
   },
   "outputs": [],
   "source": [
    "mouse_genes['symbol_upper'] = mouse_genes['Symbol'].apply(lambda x: x.upper())\n",
    "mouse_genes.ix[mouse_genes.Synonyms.isnull() == False, 'synonyms_list'] = \\\n",
    "    mouse_genes.ix[mouse_genes.Synonyms.isnull() == False, \n",
    "                   'Synonyms'].apply(lambda x: [y.upper() for y in x.split('|')])\n",
    "syns = set([item for sublist in mouse_genes.synonyms_list.dropna().values for item in sublist])\n",
    "synonyms_list = mouse_genes.ix[mouse_genes.synonyms_list.isnull() == False, 'synonyms_list']"
   ]
  },
  {
   "cell_type": "markdown",
   "metadata": {},
   "source": [
    "## *NANOG Trans* Associations"
   ]
  },
  {
   "cell_type": "code",
   "execution_count": null,
   "metadata": {
    "collapsed": true
   },
   "outputs": [],
   "source": [
    "wit_bt = pbt.BedTool('\\n'.join(wit_nanog.chromosome + '\\t' + \n",
    "                               wit_nanog.start.astype(str) + \n",
    "                               '\\t' + wit_nanog.end.astype(str)) + '\\n',\n",
    "                     from_string=True)"
   ]
  },
  {
   "cell_type": "code",
   "execution_count": 7,
   "metadata": {
    "collapsed": false
   },
   "outputs": [],
   "source": [
    "wit_nanog['human_gene_name'] = np.nan\n",
    "wit_nanog['HomoloGene ID'] = np.nan\n",
    "for i in wit_nanog.index:\n",
    "    g = wit_nanog.ix[i, 'associated gene'].upper()\n",
    "    t = mouse_genes[mouse_genes.symbol_upper == g]\n",
    "    if t.shape[0] == 0:\n",
    "        if g in syns:\n",
    "            t = synonyms_list[synonyms_list.apply(lambda x: g in x)]\n",
    "    if t.shape[0] == 1:\n",
    "        if t.index[0] in human_genes.index.values:\n",
    "            wit_nanog.ix[i, 'HomoloGene ID'] = t.index[0]\n",
    "            ht = human_genes.ix[t.index[0], 'Symbol']\n",
    "            if type(ht) == str:\n",
    "                wit_nanog.ix[i, 'human_gene_name'] = ht\n",
    "            else:\n",
    "                wit_nanog.ix[i, 'human_gene_name'] = '|'.join(ht.values)"
   ]
  },
  {
   "cell_type": "code",
   "execution_count": 8,
   "metadata": {
    "collapsed": false
   },
   "outputs": [],
   "source": [
    "wit_nanog['human_gene_id'] = np.nan\n",
    "for i in wit_nanog.human_gene_name.dropna().index:\n",
    "    t = gene_info[gene_info.gene_name == wit_nanog.ix[i, 'human_gene_name']]\n",
    "    if t.shape[0] == 1:\n",
    "        wit_nanog.ix[i, 'human_gene_id'] = t.index[0]\n",
    "    elif t.shape[0] == 0:\n",
    "        t = gene_info[gene_info.gene_name.apply(lambda x: x.upper()) == \n",
    "                      wit_nanog.ix[i, 'human_gene_name'].upper()]"
   ]
  },
  {
   "cell_type": "code",
   "execution_count": 9,
   "metadata": {
    "collapsed": false
   },
   "outputs": [],
   "source": [
    "# I can go to 100000. Most local QTLs are closer than that.\n",
    "tss = pbt.BedTool(cpy.gencode_tss_bed)\n",
    "tss_2kb = tss.slop(l=2000, r=2000, g=pbt.genome_registry.hg19).merge()\n",
    "res = tss_2kb.intersect(tss, wo=True, sorted=True)\n",
    "\n",
    "genes_to_tss = {}\n",
    "for r in res:\n",
    "    g = t_to_g[r.fields[6].split('_')[0]]\n",
    "    genes_to_tss[g] = genes_to_tss.get(g, set()) | set(['{}:{}-{}'.format(r.chrom, r.start, r.end)])\n",
    "genes_to_tss = pd.Series(genes_to_tss)"
   ]
  },
  {
   "cell_type": "code",
   "execution_count": 11,
   "metadata": {
    "collapsed": true
   },
   "outputs": [],
   "source": [
    "gene_id = gene_info[gene_info.gene_name == 'NANOG'].index[0]\n",
    "toutdir = os.path.join(outdir, 'wit_nanog_trans')\n",
    "\n",
    "if not os.path.exists(toutdir):\n",
    "    os.chdir('/raid3/projects/CARDIPS/analysis/cardips-ipsc-eqtl/notebooks')\n",
    "    cpy.makedir(toutdir)\n",
    "    fn = os.path.join(toutdir, 'wit_nanog_trans.sh')\n",
    "    with open(fn, 'w') as f:\n",
    "        c = 'python {} \\\\\\n\\t'.format(os.path.join(ciepy.root, 'scripts', 'run_emmax.py'))\n",
    "        c += ' \\\\\\n\\t'.join([\n",
    "                gene_id,\n",
    "                os.path.join(ciepy.root, 'private_data', 'wgs', 'biallelic_snvs.vcf.gz'),\n",
    "                ','.join(reduce(lambda x,y: x | y, genes_to_tss[wit_nanog.human_gene_id.dropna()])),\n",
    "                os.path.join(ciepy.root, 'output', 'eqtl_input', \n",
    "                             'tpm_log_filtered_phe_std_norm_peer_resid.tsv'),\n",
    "                os.path.join(ciepy.root, 'output', 'eqtl_input', 'emmax.ind'),\n",
    "                os.path.join(ciepy.root, 'output', 'eqtl_input', 'wgs.kin'),\n",
    "                toutdir,\n",
    "                '-c {}'.format(os.path.join(ciepy.root, 'output', 'eqtl_input', \n",
    "                                            'emmax_sex_only.cov')),\n",
    "                '-i 10000 -a 20000'\n",
    "            ])\n",
    "        f.write(c + '\\n')\n",
    "    subprocess.check_call('bash {}'.format(fn), shell=True)"
   ]
  },
  {
   "cell_type": "code",
   "execution_count": 160,
   "metadata": {
    "collapsed": false
   },
   "outputs": [],
   "source": [
    "res = ciepy.read_emmax_output(os.path.join(toutdir, '{}.tsv'.format(gene_id)))\n",
    "res = res.sort(columns=['PVALUE'])\n",
    "min_pvals = pd.read_table(os.path.join(toutdir, 'minimum_pvalues.tsv'),                            \n",
    "                          header=None, squeeze=True)\n",
    "p = (1 + sum(min_pvals <= res.PVALUE.min())) / float(min_pvals.shape[0] + 1)"
   ]
  },
  {
   "cell_type": "code",
   "execution_count": 162,
   "metadata": {
    "collapsed": false
   },
   "outputs": [
    {
     "data": {
      "image/png": "[encoded data removed]",
      "text/plain": [
       "<matplotlib.figure.Figure at 0x7f2905e7b790>"
      ]
     },
     "metadata": {},
     "output_type": "display_data"
    }
   ],
   "source": [
    "(-np.log10(res.PVALUE)).hist()\n",
    "ya, yb = plt.ylim()\n",
    "plt.vlines(-np.log10(res.PVALUE.min()), ya, yb,\n",
    "           color='red', label='Most significant')\n",
    "plt.legend(loc='upper center')\n",
    "plt.title('Observed $p$-value distribution for Nanog trans')\n",
    "plt.xlabel('$-\\log_{10}$ $p$-value')\n",
    "plt.ylabel('Number of SNVs');"
   ]
  },
  {
   "cell_type": "code",
   "execution_count": 163,
   "metadata": {
    "collapsed": false
   },
   "outputs": [
    {
     "data": {
      "image/png": "[encoded data removed]",
      "text/plain": [
       "<matplotlib.figure.Figure at 0x7f2905f05450>"
      ]
     },
     "metadata": {},
     "output_type": "display_data"
    }
   ],
   "source": [
    "fig, ax = plt.subplots(1, 1)\n",
    "ax = (-np.log10(min_pvals)).hist(bins=100, ax=ax)\n",
    "ax.set_ylabel('Number of $p$-values')\n",
    "ax.set_xlabel('$-\\log_{10}$ $p$-value')\n",
    "ya, yb = ax.get_ylim()\n",
    "ax.vlines(-np.log10(res.PVALUE.min()), ya, yb, colors=['red'], \n",
    "          label='Observed: $p$={}'.format(res.PVALUE.min()))\n",
    "ax.legend()\n",
    "ax.set_title('Minimum $p$-value distribution for Nanog trans');"
   ]
  },
  {
   "cell_type": "code",
   "execution_count": 48,
   "metadata": {
    "collapsed": false
   },
   "outputs": [
    {
     "data": {
      "image/png": "[encoded data removed]",
      "text/plain": [
       "<matplotlib.figure.Figure at 0x7f2921a1b090>"
      ]
     },
     "metadata": {},
     "output_type": "display_data"
    }
   ],
   "source": [
    "t =  vcf_reader.fetch('chr{}'.format(res.CHROM.values[0]), \n",
    "                      res.BEG.values[0], res.BEG.values[0] + 1)\n",
    "r = t.next()\n",
    "tdf = pd.DataFrame(exp.ix[gene_id])\n",
    "tdf.columns = ['expression']\n",
    "tdf['genotype'] = 0\n",
    "hets = set(exp.columns) & set([s.sample for s in r.get_hets()])\n",
    "tdf.ix[hets, 'genotype'] = 1\n",
    "alts = set(exp.columns) & set([s.sample for s in r.get_hom_alts()])\n",
    "tdf.ix[alts, 'genotype'] = 2\n",
    "plt.figure()\n",
    "#sns.lmplot(x='genotype', y='expression', data=tdf)\n",
    "ax = sns.violinplot(x='genotype', y='expression', data=tdf, color='grey',\n",
    "                order=[0, 1, 2], scale='count')\n",
    "sns.regplot(x='genotype', y='expression', data=tdf, scatter=False, color='red')\n",
    "ya, yb = plt.ylim()\n",
    "plt.text(0, yb, 'n={}'.format(sum(tdf.genotype == 0)), \n",
    "         verticalalignment='top', horizontalalignment='center')\n",
    "plt.text(1, yb, 'n={}'.format(sum(tdf.genotype == 1)), \n",
    "         verticalalignment='top', horizontalalignment='center')\n",
    "plt.text(2, yb, 'n={}'.format(sum(tdf.genotype == 2)), \n",
    "         verticalalignment='top', horizontalalignment='center')\n",
    "plt.title('Expression vs. genotype for {}'.format(gene_info.ix[gene_id, 'gene_name']));"
   ]
  },
  {
   "cell_type": "markdown",
   "metadata": {},
   "source": [
    "This appears to be a *trans* eQTL for *NANOG*. The variant lies in a\n",
    "weak enhancer region in H1-hESCs (chr16:90,102,249-90,102,518) that \n",
    "is mainly marked by H3K4me1 and is in the intron of the *GAS8* gene."
   ]
  },
  {
   "cell_type": "code",
   "execution_count": 50,
   "metadata": {
    "collapsed": false
   },
   "outputs": [],
   "source": [
    "sig_bt = pbt.BedTool('chr{}\\t{}\\t{}\\n'.format(res.CHROM[0], res.BEG[0] - 1, res.END[0]), \n",
    "                     from_string=True)\n",
    "overlap = pd.Series(False, index=encode_chip_seq.target)\n",
    "for i in encode_chip_seq.index:\n",
    "    c = encode_chip_seq.ix[i, 'target']\n",
    "    bt = pbt.BedTool(cpb.general.read_gzipped_text_url(encode_chip_seq.ix[i, 'narrowPeak_url']), \n",
    "                     from_string=True)\n",
    "    bt = bt.sort()\n",
    "    inter = sig_bt.intersect(bt, sorted=True, wo=True)\n",
    "    if len(inter) > 0:\n",
    "        overlap[c] = True"
   ]
  },
  {
   "cell_type": "markdown",
   "metadata": {},
   "source": [
    "### Nearby SNVs\n",
    "\n",
    "I'd like to look at other SNVs near this one that appears to have a significant\n",
    "trans association to see whether any others are more strongly associated. "
   ]
  },
  {
   "cell_type": "code",
   "execution_count": 124,
   "metadata": {
    "collapsed": true
   },
   "outputs": [],
   "source": [
    "gene_id = gene_info[gene_info.gene_name == 'NANOG'].index[0]\n",
    "toutdir = os.path.join(outdir, 'nanog_gas8')\n",
    "\n",
    "if not os.path.exists(toutdir):\n",
    "    t = tss.slop(l=1000000, r=1000000, g=pbt.genome_registry.hg19).merge()\n",
    "    res = t.intersect(tss, wo=True, sorted=True)\n",
    "    t = {}\n",
    "    for r in res:\n",
    "        g = t_to_g[r.fields[6].split('_')[0]]\n",
    "        t[g] = t.get(g, set()) | set(['{}:{}-{}'.format(r.chrom, r.start, r.end)])\n",
    "    t = pd.Series(t)\n",
    "    \n",
    "    os.chdir('/raid3/projects/CARDIPS/analysis/cardips-ipsc-eqtl/notebooks')\n",
    "    cpy.makedir(toutdir)\n",
    "    fn = os.path.join(toutdir, 'nanog_gas8.sh')\n",
    "    with open(fn, 'w') as f:\n",
    "        c = 'python {} \\\\\\n\\t'.format(os.path.join(ciepy.root, 'scripts', 'run_emmax.py'))\n",
    "        c += ' \\\\\\n\\t'.join([\n",
    "                gene_id,\n",
    "                os.path.join(ciepy.root, 'private_data', 'wgs', 'biallelic_snvs.vcf.gz'),\n",
    "                ','.join(t[gene_info[gene_info.gene_name == 'GAS8'].index[0]]),\n",
    "                os.path.join(ciepy.root, 'output', 'eqtl_input', \n",
    "                             'tpm_log_filtered_phe_std_norm_peer_resid.tsv'),\n",
    "                os.path.join(ciepy.root, 'output', 'eqtl_input', 'emmax.ind'),\n",
    "                os.path.join(ciepy.root, 'output', 'eqtl_input', 'wgs.kin'),\n",
    "                toutdir,\n",
    "                '-c {}'.format(os.path.join(ciepy.root, 'output', 'eqtl_input', \n",
    "                                            'emmax_sex_only.cov')),\n",
    "            ])\n",
    "        f.write(c + '\\n')\n",
    "    subprocess.check_call('bash {}'.format(fn), shell=True)"
   ]
  },
  {
   "cell_type": "raw",
   "metadata": {},
   "source": [
    "res = ciepy.read_emmax_output(os.path.join(toutdir, '{}.tsv'.format(gene_id)))\n",
    "res = res.sort(columns=['PVALUE'])\n",
    "min_pvals = pd.read_table(os.path.join(toutdir, 'minimum_pvalues.tsv'),                            \n",
    "                          header=None, squeeze=True)\n",
    "p = (1 + sum(min_pvals <= res.PVALUE.min())) / float(min_pvals.shape[0] + 1)"
   ]
  },
  {
   "cell_type": "code",
   "execution_count": 143,
   "metadata": {
    "collapsed": true
   },
   "outputs": [],
   "source": [
    "gas8_res = ciepy.read_emmax_output(os.path.join(toutdir, '{}.tsv'.format(gene_id)))\n",
    "gas8_res = gas8_res.sort(columns=['PVALUE'])\n",
    "gas8_min_pvals = pd.read_table(os.path.join(toutdir, 'minimum_pvalues.tsv'),                            \n",
    "                               header=None, squeeze=True)\n",
    "gas8_p = (1 + sum(gas8_min_pvals <= gas8_res.PVALUE.min())) / float(gas8_min_pvals.shape[0] + 1)"
   ]
  },
  {
   "cell_type": "code",
   "execution_count": 144,
   "metadata": {
    "collapsed": false
   },
   "outputs": [
    {
     "data": {
      "text/plain": [
       "0.31368631368631367"
      ]
     },
     "execution_count": 144,
     "metadata": {},
     "output_type": "execute_result"
    }
   ],
   "source": [
    "gas8_p"
   ]
  },
  {
   "cell_type": "code",
   "execution_count": 137,
   "metadata": {
    "collapsed": true
   },
   "outputs": [],
   "source": [
    "gas8_res = ciepy.read_emmax_output(os.path.join(toutdir, '{}.tsv'.format(gene_id)))\n",
    "gas8_res = gas8_res.sort(columns=['PVALUE'])"
   ]
  },
  {
   "cell_type": "code",
   "execution_count": 166,
   "metadata": {
    "collapsed": false
   },
   "outputs": [],
   "source": [
    "res.index = ('chr' + res.CHROM.astype(str) + ':' + \n",
    "             res.BEG.astype(str) + '-' + res.END.astype(str))\n",
    "gas8_res.index = ('chr' + gas8_res.CHROM.astype(str) + ':' + \n",
    "                  gas8_res.BEG.astype(str) + '-' + gas8_res.END.astype(str))"
   ]
  },
  {
   "cell_type": "code",
   "execution_count": 167,
   "metadata": {
    "collapsed": true
   },
   "outputs": [],
   "source": [
    "shared = set(res.index) & set(gas8_res.index)\n",
    "not_shared = set(gas8_res.index) - shared"
   ]
  },
  {
   "cell_type": "code",
   "execution_count": 170,
   "metadata": {
    "collapsed": false
   },
   "outputs": [
    {
     "data": {
      "text/plain": [
       "<matplotlib.axes._subplots.AxesSubplot at 0x7f2905fda050>"
      ]
     },
     "execution_count": 170,
     "metadata": {},
     "output_type": "execute_result"
    },
    {
     "data": {
      "image/png": "[encoded data removed]",
      "text/plain": [
       "<matplotlib.figure.Figure at 0x7f290617c6d0>"
      ]
     },
     "metadata": {},
     "output_type": "display_data"
    }
   ],
   "source": [
    "(-np.log10(gas8_res.ix[shared, 'PVALUE'])).hist()"
   ]
  },
  {
   "cell_type": "code",
   "execution_count": 171,
   "metadata": {
    "collapsed": false
   },
   "outputs": [
    {
     "data": {
      "text/plain": [
       "<matplotlib.axes._subplots.AxesSubplot at 0x7f2905b119d0>"
      ]
     },
     "execution_count": 171,
     "metadata": {},
     "output_type": "execute_result"
    },
    {
     "data": {
      "image/png": "[encoded data removed]",
      "text/plain": [
       "<matplotlib.figure.Figure at 0x7f2905fe6e90>"
      ]
     },
     "metadata": {},
     "output_type": "display_data"
    }
   ],
   "source": [
    "(-np.log10(gas8_res.ix[not_shared, 'PVALUE'])).hist()"
   ]
  },
  {
   "cell_type": "markdown",
   "metadata": {},
   "source": [
    "### Interaction Database\n",
    "\n",
    "I want to see if there is any evidence of an interaction between this \n",
    "gene/enhancer and Nanog according to data from the interaction database."
   ]
  },
  {
   "cell_type": "code",
   "execution_count": 56,
   "metadata": {
    "collapsed": false
   },
   "outputs": [],
   "source": [
    "fn = '/raid2/projects/chromatin_interactions/downloaded/4DGenome/4DGenome_HomoSapiens_hg19.txt'\n",
    "inter_db = pd.read_table(fn, low_memory=False)"
   ]
  },
  {
   "cell_type": "code",
   "execution_count": 80,
   "metadata": {
    "collapsed": false
   },
   "outputs": [],
   "source": [
    "s = '\\n'.join(inter_db.InteractorAChr + '\\t' + inter_db.InteractorAStart.astype(str) + \n",
    "              '\\t' + inter_db.InteractorAEnd.astype(str) + '\\t' + \n",
    "              inter_db.InteractorBChr + ':' + inter_db.InteractorBStart.astype(str) + \n",
    "              '-' + inter_db.InteractorBEnd.astype(str)) + '\\n'\n",
    "abt = pbt.BedTool(s, from_string=True)\n",
    "\n",
    "s = '\\n'.join(inter_db.InteractorBChr + '\\t' + inter_db.InteractorBStart.astype(str) + \n",
    "              '\\t' + inter_db.InteractorBEnd.astype(str) + '\\t' + \n",
    "              inter_db.InteractorAChr + ':' + inter_db.InteractorAStart.astype(str) + \n",
    "              '-' + inter_db.InteractorAEnd.astype(str)) + '\\n'\n",
    "bbt = pbt.BedTool(s, from_string=True)\n",
    "\n",
    "chrom, start, end = gene_info.ix[gene_info.gene_name == 'NANOG', ['chrom', 'start', 'end']].values[0]\n",
    "nanog_bt = pbt.BedTool('{}\\t{}\\t{}\\n'.format(chrom, start, end), from_string=True)\n",
    "resa = nanog_bt.intersect(abt, wo=True)\n",
    "resb = nanog_bt.intersect(bbt, wo=True)"
   ]
  },
  {
   "cell_type": "code",
   "execution_count": 100,
   "metadata": {
    "collapsed": false
   },
   "outputs": [
    {
     "name": "stdout",
     "output_type": "stream",
     "text": [
      "chr12\t7940389\t7948655\tchr12\t7942001\t7944001\tchr12:7899118-7901118\t2000\n",
      "chr12\t7940389\t7948655\tchr12\t7942001\t7944001\tchr12:7899118-7901118\t2000\n",
      "chr12\t7940389\t7948655\tchr12\t7942001\t7944001\tchr12:7952063-7954063\t2000\n",
      "chr12\t7940389\t7948655\tchr12\t7942001\t7944001\tchr12:7952063-7954063\t2000\n",
      "chr12\t7940389\t7948655\tchr12\t7942001\t7944001\tchr12:8002414-8004414\t2000\n",
      "chr12\t7940389\t7948655\tchr12\t7942001\t7944001\tchr12:8002414-8004414\t2000\n",
      "chr12\t7940389\t7948655\tchr12\t7942001\t7944001\tchr12:8024420-8026420\t2000\n",
      "chr12\t7940389\t7948655\tchr12\t7942001\t7944001\tchr12:8024420-8026420\t2000\n",
      "chr12\t7940389\t7948655\tchr12\t7942001\t7944001\tchr12:8233807-8235807\t2000\n",
      "chr12\t7940389\t7948655\tchr12\t7942201\t7944201\tchr12:7899118-7901118\t2000\n",
      "chr12\t7940389\t7948655\tchr12\t7942201\t7944201\tchr12:7925148-7927148\t2000\n",
      "chr12\t7940389\t7948655\tchr12\t7942201\t7944201\tchr12:7952063-7954063\t2000\n",
      "chr12\t7940389\t7948655\tchr12\t7942201\t7944201\tchr12:8233807-8235807\t2000\n",
      "\n"
     ]
    }
   ],
   "source": [
    "print(resa)"
   ]
  },
  {
   "cell_type": "code",
   "execution_count": 101,
   "metadata": {
    "collapsed": false
   },
   "outputs": [
    {
     "name": "stdout",
     "output_type": "stream",
     "text": [
      "chr12\t7940389\t7948655\tchr12\t7940992\t7942992\tchr12:7789801-7791801\t2000\n",
      "chr12\t7940389\t7948655\tchr12\t7940992\t7942992\tchr12:7949601-7951601\t2000\n",
      "chr12\t7940389\t7948655\tchr12\t7940992\t7942992\tchr12:8042401-8044401\t2000\n",
      "chr12\t7940389\t7948655\tchr12\t7940992\t7942992\tchr12:8042401-8044401\t2000\n",
      "chr12\t7940389\t7948655\tchr12\t7940992\t7942992\tchr12:8057401-8059401\t2000\n",
      "chr12\t7940389\t7948655\tchr12\t7940992\t7942992\tchr12:8086201-8088201\t2000\n",
      "chr12\t7940389\t7948655\tchr12\t7940992\t7942992\tchr12:8112801-8114801\t2000\n",
      "chr12\t7940389\t7948655\tchr12\t7940992\t7942992\tchr12:8189801-8191801\t2000\n",
      "chr12\t7940389\t7948655\tchr12\t7940992\t7942992\tchr12:8190001-8192001\t2000\n",
      "chr12\t7940389\t7948655\tchr12\t7940992\t7942992\tchr12:8190001-8192001\t2000\n",
      "chr12\t7940389\t7948655\tchr12\t7940992\t7942992\tchr12:8190001-8192001\t2000\n",
      "chr12\t7940389\t7948655\tchr12\t7940992\t7942992\tchr12:8190001-8192001\t2000\n",
      "chr12\t7940389\t7948655\tchr12\t7940992\t7942992\tchr12:8190201-8192201\t2000\n",
      "chr12\t7940389\t7948655\tchr12\t7940992\t7942992\tchr12:8190201-8192201\t2000\n",
      "chr12\t7940389\t7948655\tchr12\t7940992\t7942992\tchr12:8190201-8192201\t2000\n",
      "\n"
     ]
    }
   ],
   "source": [
    "print(resb)"
   ]
  },
  {
   "cell_type": "code",
   "execution_count": null,
   "metadata": {
    "collapsed": true
   },
   "outputs": [],
   "source": []
  },
  {
   "cell_type": "code",
   "execution_count": null,
   "metadata": {
    "collapsed": true
   },
   "outputs": [],
   "source": []
  },
  {
   "cell_type": "code",
   "execution_count": null,
   "metadata": {
    "collapsed": true
   },
   "outputs": [],
   "source": []
  },
  {
   "cell_type": "code",
   "execution_count": null,
   "metadata": {
    "collapsed": true
   },
   "outputs": [],
   "source": []
  },
  {
   "cell_type": "code",
   "execution_count": null,
   "metadata": {
    "collapsed": true
   },
   "outputs": [],
   "source": []
  },
  {
   "cell_type": "code",
   "execution_count": null,
   "metadata": {
    "collapsed": true
   },
   "outputs": [],
   "source": []
  },
  {
   "cell_type": "code",
   "execution_count": null,
   "metadata": {
    "collapsed": true
   },
   "outputs": [],
   "source": []
  },
  {
   "cell_type": "code",
   "execution_count": null,
   "metadata": {
    "collapsed": true
   },
   "outputs": [],
   "source": []
  },
  {
   "cell_type": "code",
   "execution_count": null,
   "metadata": {
    "collapsed": true
   },
   "outputs": [],
   "source": []
  },
  {
   "cell_type": "code",
   "execution_count": null,
   "metadata": {
    "collapsed": true
   },
   "outputs": [],
   "source": []
  },
  {
   "cell_type": "code",
   "execution_count": null,
   "metadata": {
    "collapsed": true
   },
   "outputs": [],
   "source": []
  }
 ],
 "metadata": {
  "kernelspec": {
   "display_name": "Python 2",
   "language": "python",
   "name": "python2"
  },
  "language_info": {
   "codemirror_mode": {
    "name": "ipython",
    "version": 2
   },
   "file_extension": ".py",
   "mimetype": "text/x-python",
   "name": "python",
   "nbconvert_exporter": "python",
   "pygments_lexer": "ipython2",
   "version": "2.7.10"
  }
 },
 "nbformat": 4,
 "nbformat_minor": 0
}
