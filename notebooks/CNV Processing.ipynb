{
 "cells": [
  {
   "cell_type": "markdown",
   "metadata": {},
   "source": [
    "# CNV Processing"
   ]
  },
  {
   "cell_type": "code",
   "execution_count": 1,
   "metadata": {
    "collapsed": true
   },
   "outputs": [],
   "source": [
    "import cPickle\n",
    "import datetime\n",
    "import glob\n",
    "import os\n",
    "import random\n",
    "import re\n",
    "import subprocess\n",
    "import urllib2\n",
    "\n",
    "import cdpybio as cpb\n",
    "import matplotlib.gridspec as gridspec\n",
    "import matplotlib.pyplot as plt\n",
    "import numpy as np\n",
    "import pandas as pd\n",
    "pd.options.mode.chained_assignment = None  # default='warn'\n",
    "import pybedtools as pbt\n",
    "import scipy.stats as stats\n",
    "import seaborn as sns\n",
    "import statsmodels.api as sm\n",
    "import statsmodels.formula.api as smf\n",
    "import vcf as pyvcf\n",
    "\n",
    "import cardipspy as cpy\n",
    "import ciepy\n",
    "\n",
    "%matplotlib inline\n",
    "\n",
    "dy_name = 'cnv_processing'\n",
    "\n",
    "import socket\n",
    "if socket.gethostname() == 'fl-hn1' or socket.gethostname() == 'fl-hn2':\n",
    "    dy = os.path.join(ciepy.root, 'sandbox', dy_name)\n",
    "    cpy.makedir(dy)\n",
    "    pbt.set_tempdir(dy)\n",
    "    \n",
    "outdir = os.path.join(ciepy.root, 'output', dy_name)\n",
    "cpy.makedir(outdir)\n",
    "\n",
    "private_outdir = os.path.join(ciepy.root, 'private_output', dy_name)\n",
    "cpy.makedir(private_outdir)"
   ]
  },
  {
   "cell_type": "code",
   "execution_count": 2,
   "metadata": {
    "collapsed": true
   },
   "outputs": [],
   "source": [
    "fn = os.path.join(ciepy.root, 'output', 'input_data', 'rsem_tpm.tsv')\n",
    "tpm = pd.read_table(fn, index_col=0)\n",
    "fn = os.path.join(ciepy.root, 'output', 'input_data', 'rnaseq_metadata.tsv')\n",
    "rna_meta = pd.read_table(fn, index_col=0)\n",
    "fn = os.path.join(ciepy.root, 'output', 'eqtl_input', 'unrelateds.tsv')\n",
    "unr_rna_meta = pd.read_table(fn, index_col=0)\n",
    "fn = os.path.join(ciepy.root, 'output', 'input_data', 'subject_metadata.tsv')\n",
    "subject_meta = pd.read_table(fn, index_col=0)\n",
    "fn = os.path.join(ciepy.root, 'output', 'input_data', 'wgs_metadata.tsv')\n",
    "wgs_meta = pd.read_table(fn, index_col=0)\n",
    "\n",
    "rna_meta = rna_meta.merge(subject_meta, left_on='subject_id', right_index=True)\n",
    "\n",
    "gene_info = pd.read_table(cpy.gencode_gene_info, index_col=0)\n",
    "gene_info['ensembl_id'] = [x.split('.')[0] for x in gene_info.index]\n",
    "\n",
    "genes = pbt.BedTool(cpy.gencode_gene_bed)\n",
    "\n",
    "exp = pd.read_table(os.path.join(ciepy.root, 'output', 'eqtl_input', \n",
    "                                 'tpm_log_filtered_phe_std_norm_peer_resid.tsv'), index_col=0)"
   ]
  },
  {
   "cell_type": "code",
   "execution_count": 3,
   "metadata": {
    "collapsed": true
   },
   "outputs": [],
   "source": [
    "fn = os.path.join(os.path.split(cpy.roadmap_15_state_annotation)[0], 'EIDlegend.txt')\n",
    "roadmap_ids = pd.read_table(fn, squeeze=True, index_col=0, header=None)"
   ]
  },
  {
   "cell_type": "code",
   "execution_count": 4,
   "metadata": {
    "collapsed": true
   },
   "outputs": [],
   "source": [
    "fn = '/projects/CARDIPS/pipeline/WGS/BF_GS_Discovery/eval/CopyNumberClass.report.dat'\n",
    "report = pd.read_table(fn, index_col=0)"
   ]
  },
  {
   "cell_type": "markdown",
   "metadata": {},
   "source": [
    "## Speedseq CNVs"
   ]
  },
  {
   "cell_type": "code",
   "execution_count": 5,
   "metadata": {
    "collapsed": false
   },
   "outputs": [],
   "source": [
    "def read_merged_lumpy_vcf(fn):\n",
    "    \"\"\"Read and parse a merged VCF of lumpy results.\"\"\"\n",
    "    df = pd.read_table(fn, skiprows=641, low_memory=False)\n",
    "    df.columns = [x.replace('#', '') for x in df.columns]\n",
    "    df = df[df.ALT.apply(lambda x: x in ['<DEL>', '<DUP>'])]\n",
    "    gcols = df.columns[8:]\n",
    "    genotypes = df[gcols]\n",
    "    genotypes = genotypes.apply(lambda x: [y.split(':')[0] for y in x], axis=1)\n",
    "    df = df.drop(gcols, axis=1)\n",
    "    cols = [x.split('=')[0] for x in df.INFO[0].split(';')]\n",
    "    imprecise = []\n",
    "    rows = []\n",
    "    for i in df.index:\n",
    "        vals = list(df.ix[i, 'INFO'].split(';'))\n",
    "        if 'IMPRECISE' in vals:\n",
    "            imprecise.append(True)\n",
    "            vals.remove('IMPRECISE')\n",
    "        else:\n",
    "            imprecise.append(False)\n",
    "        rows.append(dict([x.split('=') for x in vals]))\n",
    "    df['imprecise'] = imprecise\n",
    "    tdf = pd.DataFrame(rows, index=df.index)\n",
    "    df = df.join(tdf)\n",
    "    df = df.drop('INFO', axis=1)\n",
    "    df.CHROM = 'chr' + df.CHROM.astype(str)\n",
    "    # cols = df.FORMAT[0].split(':')\n",
    "    # ds = df.apply(lambda x: pd.Series(dict(zip(x['FORMAT'].split(':'), x[df.columns[8]].split(':')))), axis=1)\n",
    "    # ds = ds.drop(set(df.columns) & set(ds.columns), axis=1)\n",
    "    # df = df.join(ds)\n",
    "    # df = df.drop(['FORMAT', df.columns[8]], axis=1)\n",
    "    df.ALT = df.ALT.apply(lambda x: x[1:4])\n",
    "    df = df[df.END.isnull() == False]\n",
    "    for c in ['POS', 'END', 'PE', 'SR', 'SU', 'SVLEN']:\n",
    "        df[c] = df[c].astype(int)\n",
    "    return df, genotypes"
   ]
  },
  {
   "cell_type": "code",
   "execution_count": 261,
   "metadata": {
    "collapsed": false
   },
   "outputs": [],
   "source": [
    "fn = '/frazer01/home/djakubosky/sandbox/svtools/Lumpy_274_Merged.vcf'\n",
    "lumpy_info, lumpy_genotypes = read_merged_lumpy_vcf(fn)\n",
    "lumpy_info['name'] = (lumpy_info.ALT + '_' + lumpy_info.CHROM.apply(lambda x: x[3:]) + \n",
    "                      '_' + lumpy_info.POS.astype(str) + '_' + lumpy_info.END.astype(str))\n",
    "# Some lumpy SVs show up multiple times in the VCF (not sure why) so I'll just keep one.\n",
    "lumpy_info = lumpy_info.drop_duplicates(subset=['name'])\n",
    "lumpy_genotypes = lumpy_genotypes.ix[lumpy_info.index]\n",
    "lumpy_info.index = lumpy_info.name\n",
    "lumpy_genotypes.index = lumpy_info.name"
   ]
  },
  {
   "cell_type": "code",
   "execution_count": 267,
   "metadata": {
    "collapsed": false
   },
   "outputs": [
    {
     "data": {
      "image/png": "[encoded data removed]",
      "text/plain": [
       "<matplotlib.figure.Figure at 0x7feff6cc8150>"
      ]
     },
     "metadata": {},
     "output_type": "display_data"
    }
   ],
   "source": [
    "np.log10(lumpy_info.SU).hist()\n",
    "plt.ylabel('Number of SVs')\n",
    "plt.xlabel('$log_{10}$ SU');"
   ]
  },
  {
   "cell_type": "markdown",
   "metadata": {},
   "source": [
    "## Genome Strip CNVs"
   ]
  },
  {
   "cell_type": "code",
   "execution_count": 8,
   "metadata": {
    "collapsed": false
   },
   "outputs": [
    {
     "data": {
      "image/png": "[encoded data removed]",
      "text/plain": [
       "<matplotlib.figure.Figure at 0x7ff09c469750>"
      ]
     },
     "metadata": {},
     "output_type": "display_data"
    }
   ],
   "source": [
    "report.NVARIANT.hist(bins=range(275))\n",
    "plt.ylabel('Number of CNVs')\n",
    "plt.xlabel('Number of variant samples');"
   ]
  },
  {
   "cell_type": "code",
   "execution_count": 9,
   "metadata": {
    "collapsed": false
   },
   "outputs": [],
   "source": [
    "out = os.path.join(private_outdir, 'gs_cnv_genotypes.tsv')\n",
    "if not os.path.exists(out):\n",
    "    fn = '/projects/CARDIPS/pipeline/WGS/BF_GS_Discovery/gs_cnv.genotypes.vcf'\n",
    "    f = open(fn)\n",
    "    line = f.readline()\n",
    "    while line[0:2] == '##':\n",
    "        line = f.readline()\n",
    "    header = line[1:].strip().split('\\t')\n",
    "\n",
    "    ind = []\n",
    "    copy_numbers = []\n",
    "    line = f.readline().strip()\n",
    "    while line != '':\n",
    "        t = line.split('\\t')\n",
    "        ind.append(t[2])\n",
    "        copy_numbers.append([int(x.split(':')[1]) for x in t[9:]])\n",
    "        line = f.readline().strip()\n",
    "    cns = pd.DataFrame(copy_numbers, index=ind, columns=header[9:])\n",
    "    cns.to_csv(out, sep='\\t')\n",
    "else:\n",
    "    cns = pd.read_table(out, index_col=0)"
   ]
  },
  {
   "cell_type": "code",
   "execution_count": 10,
   "metadata": {
    "collapsed": true
   },
   "outputs": [],
   "source": [
    "cnv_info = pd.DataFrame([x.split('_')[1:] for x in cns.index], \n",
    "                        index=cns.index, columns=['chrom', 'start', 'end'])\n",
    "cnv_info['chrom'] = 'chr' + cnv_info.chrom\n",
    "cnv_info['start'] = cnv_info.start.astype(int)\n",
    "cnv_info['end'] = cnv_info.end.astype(int)\n",
    "cnv_info['length'] = cnv_info.end - cnv_info.start\n",
    "cnv_info['name'] = cnv_info.index"
   ]
  },
  {
   "cell_type": "code",
   "execution_count": 11,
   "metadata": {
    "collapsed": false
   },
   "outputs": [],
   "source": [
    "s = '\\n'.join(cnv_info.chrom + '\\t' + cnv_info.start.astype(str) + \n",
    "              '\\t' + cnv_info.end.astype(str) + '\\t' + cnv_info.name) + '\\n'\n",
    "cnv_bt = pbt.BedTool(s, from_string=True)\n",
    "cnv_bt = cnv_bt.sort()\n",
    "cnv_bt.saveas(os.path.join(outdir, 'cnvs.bed'), trackline=\"track type=bed name='CNVs'\")\n",
    "if not os.path.exists('/home/cdeboever/public_html/cnvs.bed'):\n",
    "    os.symlink(os.path.join(outdir, 'cnvs.bed'), '/home/cdeboever/public_html/cnvs.bed')"
   ]
  },
  {
   "cell_type": "code",
   "execution_count": 12,
   "metadata": {
    "collapsed": false
   },
   "outputs": [],
   "source": [
    "res = cnv_bt.intersect(genes, sorted=True, wo=True)\n",
    "df = res.to_dataframe()\n",
    "gb = df.groupby('name')\n",
    "d = gb.groups\n",
    "for k in d.keys():\n",
    "    d[k] = list(df.ix[d[k], 'thickEnd'].values)\n",
    "se = pd.Series(d)\n",
    "cnv_info['gene_overlaps'] = np.nan\n",
    "cnv_info.ix[se.index, 'gene_overlaps'] = se.apply(lambda x: ','.join(x))\n",
    "tss_bt = pbt.BedTool('/publicdata/gencode_v19_20151104/tss_merged.bed')\n",
    "res = cnv_bt.closest(tss_bt, D='b')\n",
    "df = res.to_dataframe()\n",
    "cnv_info.ix[df.name, 'nearest_tss_dist'] = df.thickEnd.values\n",
    "cnv_info = cnv_info.join(report)\n",
    "mode = cns.mode(axis=1)[0]\n",
    "cnv_info['cn_mode'] = mode\n",
    "nvariant = [sum(cns.ix[i] != cnv_info.ix[i, 'cn_mode']) for i in cnv_info.index]\n",
    "cnv_info['diff_from_mode'] = nvariant\n",
    "cnv_info['percent_diff_from_mode'] = cnv_info.diff_from_mode / cns.shape[1]\n",
    "t = cns[unr_rna_meta.wgs_id]\n",
    "nvariant = [sum(t.ix[i] != cnv_info.ix[i, 'cn_mode']) for i in cnv_info.index]\n",
    "cnv_info['unrelated_diff_from_mode'] = nvariant\n",
    "cnv_info['unrelated_percent_diff_from_mode'] = cnv_info.unrelated_diff_from_mode / unr_rna_meta.shape[0]\n",
    "rna_meta_eqtl = rna_meta[rna_meta.in_eqtl]\n",
    "vc = rna_meta_eqtl.family_id.value_counts()\n",
    "vc = vc[vc > 4]\n",
    "for x in vc.index:\n",
    "    t = cns[rna_meta_eqtl.ix[rna_meta_eqtl.family_id == x, 'wgs_id']]\n",
    "    pvariant = [sum(t.ix[i] != cnv_info.ix[i, 'cn_mode']) for i in cnv_info.index]\n",
    "    cnv_info['{}_{}_diff_from_mode'.format(x, vc[x])] = np.array(pvariant)\n",
    "    cnv_info['{}_{}_percent_diff_from_mode'.format(x, vc[x])] = np.array(pvariant) / float(vc[x])\n",
    "family_cols = ['{}_{}_percent_diff_from_mode'.format(x, vc[x]) for x in vc.index]\n",
    "cnv_info.to_csv(os.path.join(outdir, 'cnv_info.tsv'), sep='\\t')"
   ]
  },
  {
   "cell_type": "code",
   "execution_count": 13,
   "metadata": {
    "collapsed": false
   },
   "outputs": [
    {
     "data": {
      "image/png": "[encoded data removed]",
      "text/plain": [
       "<matplotlib.figure.Figure at 0x7ff009acea50>"
      ]
     },
     "metadata": {},
     "output_type": "display_data"
    }
   ],
   "source": [
    "cnv_info.unrelated_diff_from_mode.hist(bins=range(118))\n",
    "plt.xlabel('Number of unrelateds different from mode')\n",
    "plt.ylabel('Number of CNVs');"
   ]
  },
  {
   "cell_type": "code",
   "execution_count": 14,
   "metadata": {
    "collapsed": false
   },
   "outputs": [
    {
     "data": {
      "image/png": "[encoded data removed]",
      "text/plain": [
       "<matplotlib.figure.Figure at 0x7ff00723ddd0>"
      ]
     },
     "metadata": {},
     "output_type": "display_data"
    }
   ],
   "source": [
    "plt.scatter(cnv_info.unrelated_percent_diff_from_mode, cnv_info[family_cols[0]])\n",
    "plt.xlabel('Percent unrelated samples different from mode')\n",
    "plt.ylabel('Percent family {}\\nsamples different from mode'.format(family_cols[0].split('_')[0]));"
   ]
  },
  {
   "cell_type": "code",
   "execution_count": 15,
   "metadata": {
    "collapsed": false
   },
   "outputs": [
    {
     "data": {
      "image/png": "[encoded data removed]",
      "text/plain": [
       "<matplotlib.figure.Figure at 0x7feff1b08150>"
      ]
     },
     "metadata": {},
     "output_type": "display_data"
    }
   ],
   "source": [
    "p1 = cnv_info.percent_diff_from_mode\n",
    "p2 = cnv_info.unrelated_percent_diff_from_mode\n",
    "diff = p1 - p2\n",
    "diff.sort_values(inplace=True)\n",
    "plt.scatter(p1, p2)\n",
    "plt.xlabel('Percent samples different from mode')\n",
    "plt.ylabel('Percent unrelated samples different from mode');"
   ]
  },
  {
   "cell_type": "code",
   "execution_count": 16,
   "metadata": {
    "collapsed": false
   },
   "outputs": [
    {
     "data": {
      "image/png": "[encoded data removed]",
      "text/plain": [
       "<matplotlib.figure.Figure at 0x7feff4d0f150>"
      ]
     },
     "metadata": {},
     "output_type": "display_data"
    }
   ],
   "source": [
    "cnv_info.length.hist(log=True)\n",
    "plt.ylabel('$\\log_{10}$ number of CNVs')\n",
    "plt.xlabel('CNV length');"
   ]
  },
  {
   "cell_type": "raw",
   "metadata": {
    "collapsed": true
   },
   "source": [
    "sns.set_context('talk', font_scale=1.5)"
   ]
  },
  {
   "cell_type": "code",
   "execution_count": 17,
   "metadata": {
    "collapsed": false
   },
   "outputs": [
    {
     "data": {
      "image/png": "[encoded data removed]",
      "text/plain": [
       "<matplotlib.figure.Figure at 0x7feff03a74d0>"
      ]
     },
     "metadata": {},
     "output_type": "display_data"
    }
   ],
   "source": [
    "(np.log10(cnv_info.length)).hist()\n",
    "plt.ylabel('Number of CNVs')\n",
    "plt.xlabel('$\\log_{10}$ CNV length');"
   ]
  },
  {
   "cell_type": "code",
   "execution_count": 18,
   "metadata": {
    "collapsed": false
   },
   "outputs": [
    {
     "data": {
      "text/plain": [
       "count     14500.000000\n",
       "mean       6615.005931\n",
       "std       10552.781125\n",
       "min         999.000000\n",
       "25%        1660.000000\n",
       "50%        3049.000000\n",
       "75%        6574.250000\n",
       "max      208946.000000\n",
       "Name: length, dtype: float64"
      ]
     },
     "execution_count": 18,
     "metadata": {},
     "output_type": "execute_result"
    }
   ],
   "source": [
    "cnv_info.length.describe()"
   ]
  },
  {
   "cell_type": "code",
   "execution_count": 19,
   "metadata": {
    "collapsed": false
   },
   "outputs": [
    {
     "name": "stdout",
     "output_type": "stream",
     "text": [
      "32.7% of CNVs are less than 2,000 bp\n",
      "67.2% of CNVs are less than 5,000 bp\n",
      "84.1% of CNVs are less than 10,000 bp\n",
      "99.0% of CNVs are less than 50,000 bp\n",
      "99.9% of CNVs are less than 100,000 bp\n",
      "100.0% of CNVs are less than 200,000 bp\n"
     ]
    }
   ],
   "source": [
    "cutoffs = np.array([2, 5, 10, 50, 100, 200]) * 1000\n",
    "for c in cutoffs:\n",
    "    print('{:.1f}% of CNVs are less than {:,} bp'.format(\n",
    "            100 * sum(cnv_info.length < c) / float(cnv_info.shape[0]), c))"
   ]
  },
  {
   "cell_type": "markdown",
   "metadata": {},
   "source": [
    "### Functional annotations\n",
    "\n",
    "I'm going to annotate the CNVs with more info."
   ]
  },
  {
   "cell_type": "code",
   "execution_count": 24,
   "metadata": {
    "collapsed": true
   },
   "outputs": [],
   "source": [
    "def cnv_counts(url, name):\n",
    "    bt = pbt.BedTool(cpb.general.read_gzipped_text_url(url), from_string=True)\n",
    "    bt = bt.sort()\n",
    "    res = cnv_bt.intersect(bt, sorted=True, wo=True)\n",
    "    r = res[0]\n",
    "    df = res.to_dataframe(names=range(len(res[0].fields)))\n",
    "    vc = df[3].value_counts()\n",
    "    counts = pd.DataFrame(0, columns=[name], index=cnv_info.index)\n",
    "    counts.ix[vc.index, name] = vc\n",
    "    return counts\n",
    "\n",
    "def cluster_setup():\n",
    "    from ipyparallel import Client\n",
    "    parallel_client = Client(profile='parallel')\n",
    "    dview = parallel_client[:]\n",
    "    print('Cluster has {} engines.'.format(len(parallel_client.ids)))\n",
    "    with dview.sync_imports():\n",
    "        import cdpybio\n",
    "        import pandas\n",
    "        import pybedtools\n",
    "    %px cpb = cdpybio\n",
    "    %px pd = pandas\n",
    "    %px pbt = pybedtools\n",
    "    dview.push(dict(cnv_bt=cnv_bt, cnv_info=cnv_info, \n",
    "                    cnv_counts=cnv_counts))\n",
    "    return dview\n",
    "\n",
    "cluster_ready = False"
   ]
  },
  {
   "cell_type": "markdown",
   "metadata": {},
   "source": [
    "#### Roadmap DNase and ChIP-seq"
   ]
  },
  {
   "cell_type": "code",
   "execution_count": 25,
   "metadata": {
    "collapsed": false
   },
   "outputs": [],
   "source": [
    "out = os.path.join(outdir, 'roadmap_overlap.tsv')\n",
    "if not os.path.exists(out):\n",
    "    url = ('http://egg2.wustl.edu/roadmap/data/byFileType'\n",
    "           '/peaks/consolidated/narrowPeak/')\n",
    "    website = urllib2.urlopen(url)\n",
    "    html = website.read()\n",
    "    files = re.findall('href=\"(.*\\.gz)\"', html)\n",
    "    lines = [x for x in roadmap_ids.index if ('ES' in roadmap_ids[x] and 'Cultured' not in roadmap_ids[x])]\n",
    "    lines += [x for x in roadmap_ids.index if 'iPS' in roadmap_ids[x]]\n",
    "    files = [x for x in files if x.split('-')[0] in lines]\n",
    "    files = [x for x in files if 'hotspot' not in x]\n",
    "\n",
    "    roadmap_peak_pvals = pd.DataFrame(\n",
    "        -1, index=lines, \n",
    "        columns=set([x.split('-')[1].split('.')[0] for x in files]))\n",
    "    roadmap_peak_oddsratios = pd.DataFrame(\n",
    "        0, index=lines, \n",
    "        columns=set([x.split('-')[1].split('.')[0] for x in files]))\n",
    "\n",
    "    urls = ['http://egg2.wustl.edu/roadmap/data/byFileType/peaks/consolidated/narrowPeak/{}'.format(n)\n",
    "            for n in files]\n",
    "    lines = [roadmap_ids[re.findall('E\\d{3}', url)[0]][0:-10].replace(' ', '_') for url in urls]\n",
    "    btype = [re.findall('-(.+)\\.', url)[0].split('.')[0] for url in urls]\n",
    "    names = ['{}_{}'.format(lines[i], btype[i]) for i in range(len(lines))]\n",
    "    todo = zip(urls, names)\n",
    "    if cluster_ready == False:\n",
    "        dview = cluster_setup()\n",
    "        cluster_ready = True\n",
    "    counts = dview.map_sync(lambda x: cnv_counts(x[0], x[1]), todo)\n",
    "    roadmap_dnase_counts = pd.concat(counts, axis=1)\n",
    "    roadmap_dnase_counts.to_csv(out, sep='\\t')\n",
    "else:\n",
    "    roadmap_dnase_counts = pd.read_table(out, index_col=0)"
   ]
  },
  {
   "cell_type": "markdown",
   "metadata": {},
   "source": [
    "#### Roadmap chromatin state"
   ]
  },
  {
   "cell_type": "code",
   "execution_count": 26,
   "metadata": {
    "collapsed": false
   },
   "outputs": [],
   "source": [
    "lines = [x for x in roadmap_ids.index if 'iPS' in roadmap_ids[x]]\n",
    "for line in lines:\n",
    "    fn = ('/publicdata/roadmap_25_state_20151104/'\n",
    "          '{}_25_imputed12marks_mnemonics_sorted.bed'.format(line))\n",
    "    bt = pbt.BedTool(fn)\n",
    "    res = cnv_bt.intersect(bt, sorted=True, wo=True)\n",
    "    df = res.to_dataframe(names=range(len(res[0].fields)))\n",
    "    c = df.groupby([3, 7]).sum()[8]\n",
    "    c = c.sort_values(ascending=False)\n",
    "    t = c.unstack()\n",
    "    t[t.isnull()] = 0\n",
    "    name = roadmap_ids[line][:-10].replace(' ', '_')\n",
    "    t.to_csv(os.path.join(outdir, '{}_chromatin_state.tsv'.format(name)), sep='\\t')"
   ]
  },
  {
   "cell_type": "markdown",
   "metadata": {},
   "source": [
    "#### ENCODE DNase"
   ]
  },
  {
   "cell_type": "code",
   "execution_count": 27,
   "metadata": {
    "collapsed": true
   },
   "outputs": [],
   "source": [
    "out = os.path.join(outdir, 'encode_dnase_overlap.tsv')\n",
    "if not os.path.exists(out):\n",
    "    encode_dnase = pd.read_table(os.path.join(ciepy.root, 'output', \n",
    "                                              'functional_annotation_analysis', \n",
    "                                              'encode_dnase.tsv'), index_col=0)\n",
    "    encode_dnase = encode_dnase[encode_dnase.biosample_type == 'stem cell']\n",
    "    encode_dnase['name'] = encode_dnase.cell_type + '_' + 'DNase'\n",
    "    if cluster_ready == False:\n",
    "        dview = cluster_setup()\n",
    "        cluster_ready = True\n",
    "    dview.push(dict(encode_dnase=encode_dnase));\n",
    "    counts = dview.map_sync(lambda i: cnv_counts(encode_dnase.ix[i, 'narrowPeak_url'], \n",
    "                                                 encode_dnase.ix[i, 'name']), \n",
    "                            encode_dnase.index)\n",
    "    encode_dnase_counts = pd.concat(counts, axis=1)\n",
    "    encode_dnase_counts.to_csv(out, sep='\\t')\n",
    "else:\n",
    "    encode_dnase_counts = pd.read_table(out, index_col=0)"
   ]
  },
  {
   "cell_type": "markdown",
   "metadata": {},
   "source": [
    "#### ENCODE ChIP-seq"
   ]
  },
  {
   "cell_type": "code",
   "execution_count": 28,
   "metadata": {
    "collapsed": true
   },
   "outputs": [],
   "source": [
    "out = os.path.join(outdir, 'encode_tf_chip_seq_overlap.tsv')\n",
    "if not os.path.exists(out):\n",
    "    encode_tf_chip_seq = pd.read_table(os.path.join(ciepy.root, 'output', \n",
    "                                                    'functional_annotation_analysis', \n",
    "                                                    'encode_stem_cell_chip_seq.tsv'), index_col=0)\n",
    "    encode_tf_chip_seq = encode_tf_chip_seq.drop_duplicates(subset='target')\n",
    "    encode_tf_chip_seq['name'] = encode_tf_chip_seq.cell_type + '-' + encode_tf_chip_seq.target\n",
    "    if cluster_ready == False:\n",
    "        dview = cluster_setup()\n",
    "        cluster_ready = True\n",
    "    dview.push(dict(encode_tf_chip_seq=encode_tf_chip_seq));\n",
    "    counts = dview.map_sync(lambda i: cnv_counts(encode_tf_chip_seq.ix[i, 'narrowPeak_url'], \n",
    "                                                 encode_tf_chip_seq.ix[i, 'name']), \n",
    "                            encode_tf_chip_seq.index)\n",
    "    encode_tf_chip_seq_counts = pd.concat(counts, axis=1)\n",
    "    encode_tf_chip_seq_counts.to_csv(out, sep='\\t')\n",
    "else:\n",
    "    encode_tf_chip_seq_counts = pd.read_table(out, index_col=0)"
   ]
  },
  {
   "cell_type": "markdown",
   "metadata": {},
   "source": [
    "## EMMAX CNVs\n",
    "\n",
    "I want to find CNVs that I can include in the EMMAX association analysis. \n",
    "\n",
    "### GenomeStrip\n",
    "\n",
    "For GS, I can use CNVs that have at most three copy number states and have a\n",
    "minor allele frequency greater than 1% (aka at least 1% of samples differ from \n",
    "the mode copy number state). I can also separately test mCNVs for an association \n",
    "with gene expression."
   ]
  },
  {
   "cell_type": "code",
   "execution_count": 165,
   "metadata": {
    "collapsed": false
   },
   "outputs": [],
   "source": [
    "# Get copy number states for samples in eQTL analysis.\n",
    "cns_f = cns[rna_meta[rna_meta.in_eqtl].wgs_id]\n",
    "# Get the number of distinct copy number states for each CNV.\n",
    "num_states = cns_f.apply(lambda x: len(set(x)), axis=1)\n",
    "# Keep CNVs with two or three states.\n",
    "cns_emmax = cns_f.ix[num_states[num_states.apply(lambda x: x in [2, 3])].index]\n",
    "# Remove CNVs where less than 1% of the samples are different from the mode.\n",
    "b = (cns_emmax.apply(lambda x: x.value_counts().max() < \n",
    "                     cns_emmax.shape[1] - np.floor(rna_meta.in_eqtl.sum() * 0.01), axis=1))\n",
    "cns_emmax = cns_emmax[b]"
   ]
  },
  {
   "cell_type": "code",
   "execution_count": 166,
   "metadata": {
    "collapsed": false
   },
   "outputs": [
    {
     "data": {
      "image/png": "[encoded data removed]",
      "text/plain": [
       "<matplotlib.figure.Figure at 0x7fefe74aa410>"
      ]
     },
     "metadata": {},
     "output_type": "display_data"
    }
   ],
   "source": [
    "maj_af = cns_emmax.apply(lambda x: x.value_counts().max(), axis=1) / cns_emmax.shape[1]\n",
    "maj_af.hist(bins=np.arange(0, 1.01, 0.01))\n",
    "plt.ylabel('Number of CNVs')\n",
    "plt.xlabel('Mode CN frequency (major allele frequency)');"
   ]
  },
  {
   "cell_type": "code",
   "execution_count": 167,
   "metadata": {
    "collapsed": false
   },
   "outputs": [],
   "source": [
    "t = cnv_info.ix[cns_emmax.index]\n",
    "s = '\\n'.join(t.chrom + '\\t' + t.start.astype(str) + '\\t' + t.end.astype(str) + \n",
    "              '\\t' + t.name) + '\\n'\n",
    "cns_emmax_bt = pbt.BedTool(s, from_string=True)\n",
    "cns_emmax_bt = cns_emmax_bt.sort()\n",
    "\n",
    "fn = os.path.join(ciepy.root, 'output', 'eqtl_input', 'variant_regions.bed')\n",
    "variant_regions = pbt.BedTool(fn)\n",
    "genes_todo = set(exp.index)\n",
    "\n",
    "res = cns_emmax_bt.intersect(variant_regions, sorted=True, wo=True)\n",
    "g = []\n",
    "for r in res:\n",
    "    g.append(r.fields[-3].split('_')[0])\n",
    "cnv_gene_vc = pd.Series(g).value_counts()\n",
    "cnv_gene_vc = cnv_gene_vc[set(cnv_gene_vc.index) & genes_todo]"
   ]
  },
  {
   "cell_type": "code",
   "execution_count": 168,
   "metadata": {
    "collapsed": false
   },
   "outputs": [
    {
     "data": {
      "image/png": "[encoded data removed]",
      "text/plain": [
       "<matplotlib.figure.Figure at 0x7fefe7d69210>"
      ]
     },
     "metadata": {},
     "output_type": "display_data"
    }
   ],
   "source": [
    "cnv_gene_vc.hist(bins=range(cnv_gene_vc.max()))\n",
    "plt.ylabel('Number of genes')\n",
    "plt.xlabel('Number of CNVs overlapping variant window');"
   ]
  },
  {
   "cell_type": "markdown",
   "metadata": {},
   "source": [
    "I think that I can collapse some mCNVs to be biallelic. For instance, the CNV\n",
    "below has one person with copy number 4, but if we exclude that person, we would\n",
    "only have three copy number states. The person who is four is likely just an error and\n",
    "should actually be 3, or at the least it wouldn't hurt to make them copy number 3 or \n",
    "just not include them in the analysis."
   ]
  },
  {
   "cell_type": "code",
   "execution_count": 169,
   "metadata": {
    "collapsed": false
   },
   "outputs": [
    {
     "data": {
      "text/plain": [
       "CALLRATE               0.989\n",
       "CNMIN                      1\n",
       "CNMAX                      4\n",
       "CNALLELES                  3\n",
       "NNONREF                  140\n",
       "NVARIANT                 140\n",
       "CNCATEGORY             MIXED\n",
       "CNDIST        0,109,131,30,1\n",
       "Name: CNV_19_40372246_40375846, dtype: object"
      ]
     },
     "execution_count": 169,
     "metadata": {},
     "output_type": "execute_result"
    }
   ],
   "source": [
    "report.ix['CNV_19_40372246_40375846']"
   ]
  },
  {
   "cell_type": "raw",
   "metadata": {},
   "source": [
    "cns_f = cns[rna_meta[rna_meta.in_eqtl].wgs_id]\n",
    "cns_emmax = cns_f.ix[num_states[num_states.apply(lambda x: x in [2, 3])].index]\n",
    "b = cns_emmax.apply(lambda x: x.value_counts().max() < cns_emmax.shape[1] - np.floor(207 * 0.05), axis=1)\n",
    "cns_emmax = cns_emmax[b]"
   ]
  },
  {
   "cell_type": "code",
   "execution_count": 170,
   "metadata": {
    "collapsed": true
   },
   "outputs": [],
   "source": [
    "t = cns_f.ix[set(cns_f.index) - set(cns_emmax.index)]\n",
    "t = t[t.apply(lambda x: len(set(x)) > 3, axis=1)]\n",
    "# b has the number of samples that have one of the top three copy number states\n",
    "b = t.apply(lambda x: x.value_counts()[0:3].sum(), axis=1)"
   ]
  },
  {
   "cell_type": "code",
   "execution_count": 171,
   "metadata": {
    "collapsed": false
   },
   "outputs": [
    {
     "data": {
      "image/png": "[encoded data removed]",
      "text/plain": [
       "<matplotlib.figure.Figure at 0x7feff8d99050>"
      ]
     },
     "metadata": {},
     "output_type": "display_data"
    }
   ],
   "source": [
    "b.hist(bins=range(208))\n",
    "plt.xlim(0, 209)\n",
    "plt.ylabel('Number of CNVs')\n",
    "plt.xlabel('Number of individuals with one of top three CNs');"
   ]
  },
  {
   "cell_type": "markdown",
   "metadata": {},
   "source": [
    "This plot shows us that many CNVs are almost biallelic. If we remove \n",
    "a few samples, we can make more sites biallelic."
   ]
  },
  {
   "cell_type": "code",
   "execution_count": 172,
   "metadata": {
    "collapsed": false
   },
   "outputs": [
    {
     "data": {
      "text/plain": [
       "807"
      ]
     },
     "execution_count": 172,
     "metadata": {},
     "output_type": "execute_result"
    }
   ],
   "source": [
    "sum(b >= rna_meta.in_eqtl.sum() * 0.95)"
   ]
  },
  {
   "cell_type": "markdown",
   "metadata": {},
   "source": [
    "There are 807 CNVs for which I can remove people with rare copy numbers\n",
    "and still have 95% call rate. I'll set the rare copy numbers to missing\n",
    "and include these."
   ]
  },
  {
   "cell_type": "code",
   "execution_count": 173,
   "metadata": {
    "collapsed": false
   },
   "outputs": [],
   "source": [
    "rows = []\n",
    "for i in b[b >= rna_meta.in_eqtl.sum() * 0.95].index:\n",
    "    se = cns_f.ix[i]\n",
    "    vc = se.value_counts()\n",
    "    se[se.apply(lambda x: x not in vc.index[0:3])] = np.nan\n",
    "    rows.append(se)\n",
    "df = pd.DataFrame(rows, index=b[b >= rna_meta.in_eqtl.sum() * 0.95].index, \n",
    "                  columns=cns_f.columns)"
   ]
  },
  {
   "cell_type": "code",
   "execution_count": 174,
   "metadata": {
    "collapsed": true
   },
   "outputs": [],
   "source": [
    "b = df.apply(lambda x: x.value_counts().max() < df.shape[1] - np.floor(rna_meta.in_eqtl.sum() * 0.05), axis=1)\n",
    "df = df[b]"
   ]
  },
  {
   "cell_type": "code",
   "execution_count": 175,
   "metadata": {
    "collapsed": true
   },
   "outputs": [],
   "source": [
    "cns_emmax = pd.concat([cns_emmax, df])\n",
    "cns_emmax.to_csv(os.path.join(private_outdir, 'gs_emmax_cnvs.tsv'), sep='\\t')"
   ]
  },
  {
   "cell_type": "code",
   "execution_count": 176,
   "metadata": {
    "collapsed": false
   },
   "outputs": [
    {
     "data": {
      "text/plain": [
       "(5348, 215)"
      ]
     },
     "execution_count": 176,
     "metadata": {},
     "output_type": "execute_result"
    }
   ],
   "source": [
    "cns_emmax.shape"
   ]
  },
  {
   "cell_type": "markdown",
   "metadata": {},
   "source": [
    "I want to remove CNV in the MHC region because these are likely alignment artifacts.\n",
    "[`Bioinformatics and Functional Genomics` by Jonathan Pevsner](https://books.google.com/books?id=FKRjCgAAQBAJ&pg=PA50&lpg=PA50&dq=ucsc+genome+browser+mhc&source=bl&ots=6i7JYq_oA5&sig=DlZM3EvEmc5G4hLSK-0haSDz7vM&hl=en&sa=X&ved=0ahUKEwid0auysI_LAhXKLyYKHZkqD1YQ6AEIRjAH#v=onepage&q=ucsc%20genome%20browser%20mhc&f=false) \n",
    "says the MHC is ~29.6 to 33.1 mb on chromosome 6 so I'll use that."
   ]
  },
  {
   "cell_type": "code",
   "execution_count": 177,
   "metadata": {
    "collapsed": true
   },
   "outputs": [],
   "source": [
    "t = cnv_info.ix[cns_emmax.index]\n",
    "s = '\\n'.join(t.chrom + '\\t' + t.start.astype(str) + '\\t' + t.end.astype(str) + \n",
    "              '\\t' + t.name) + '\\n'\n",
    "cns_emmax_bt = pbt.BedTool(s, from_string=True)\n",
    "cns_emmax_bt = cns_emmax_bt.sort()\n",
    "mhc_bt = pbt.BedTool('chr6\\t{}\\t{}'.format(int(29.6e6), int(33.1e6)), from_string=True)\n",
    "res = cns_emmax_bt.intersect(mhc_bt, wa=True, v=True)\n",
    "df = res.to_dataframe()\n",
    "cns_emmax = cns_emmax.ix[df.name]"
   ]
  },
  {
   "cell_type": "code",
   "execution_count": 178,
   "metadata": {
    "collapsed": false
   },
   "outputs": [
    {
     "data": {
      "text/plain": [
       "(5287, 215)"
      ]
     },
     "execution_count": 178,
     "metadata": {},
     "output_type": "execute_result"
    }
   ],
   "source": [
    "cns_emmax.shape"
   ]
  },
  {
   "cell_type": "markdown",
   "metadata": {},
   "source": [
    "I'll write a VCF file with the CNV genotypes."
   ]
  },
  {
   "cell_type": "code",
   "execution_count": 179,
   "metadata": {
    "collapsed": true
   },
   "outputs": [],
   "source": [
    "cns_emmax_genotypes = cns_emmax.copy(deep=True).astype(str)\n",
    "mins = cns_emmax.apply(lambda x: x == x.min(), axis=1)\n",
    "maxs = cns_emmax.apply(lambda x: x == x.max(), axis=1)\n",
    "nulls = cns_emmax.isnull()\n",
    "hets = (mins.astype(int) + maxs.astype(int) + nulls.astype(int) == 0)\n",
    "cns_emmax_genotypes[mins] = '0/0'\n",
    "cns_emmax_genotypes[hets] = '0/1'\n",
    "cns_emmax_genotypes[maxs] = '1/1'\n",
    "cns_emmax_genotypes[nulls] = './.'"
   ]
  },
  {
   "cell_type": "code",
   "execution_count": 180,
   "metadata": {
    "collapsed": false
   },
   "outputs": [],
   "source": [
    "cns_emmax_info = cnv_info.ix[cns_emmax.index, ['chrom', 'start']]\n",
    "cns_emmax_info.chrom = cns_emmax_info.chrom.apply(lambda x: x[3:])\n",
    "#cns_emmax_info = cns_emmax_info.drop(['end', 'length'], axis=1)\n",
    "cns_emmax_info.start = cns_emmax_info.start.astype(str)\n",
    "cns_emmax_info['id'] = cns_emmax_info.index\n",
    "cns_emmax_info['ref'] = 'N'\n",
    "cns_emmax_info['alt'] = 'N'\n",
    "cns_emmax_info['qual'] = '100000'\n",
    "cns_emmax_info['filter'] = 'PASS'\n",
    "cns_emmax_info['info'] = ''\n",
    "cns_emmax_info['format'] = 'GT'\n",
    "cns_emmax_info = cns_emmax_info.join(cns_emmax_genotypes[sorted(cns_emmax_genotypes.columns)])"
   ]
  },
  {
   "cell_type": "code",
   "execution_count": 181,
   "metadata": {
    "collapsed": false
   },
   "outputs": [],
   "source": [
    "with open('/projects/CARDIPS/analysis/cardips-ipsc-eqtl/misc/header.vcf') as f:\n",
    "    lines = f.readlines()\n",
    "vs = lines[-1].strip().split('\\t')[9:]\n",
    "colnames = lines[-1].strip().split('\\t')[0:9]"
   ]
  },
  {
   "cell_type": "code",
   "execution_count": 182,
   "metadata": {
    "collapsed": false
   },
   "outputs": [
    {
     "name": "stdout",
     "output_type": "stream",
     "text": [
      "sort -k1,1d -k2,2n\r\n"
     ]
    }
   ],
   "source": [
    "out = os.path.join(private_outdir, 'gs_emmax_sorted.vcf')\n",
    "if not os.path.exists(out):\n",
    "    with open(os.path.join(private_outdir, 'gs_emmax.vcf'), 'w') as f:\n",
    "        f.write(''.join(lines[0:-1]))\n",
    "        f.write('\\t'.join(colnames + list(cns_emmax_info.columns[9:])) + '\\n')\n",
    "        f.write('\\n'.join(cns_emmax_info.apply(lambda x: '\\t'.join(x), axis=1)) + '\\n')\n",
    "    !cat {os.path.join(private_outdir, 'gs_emmax.vcf')} | vcf-sort > {out}\n",
    "    !bgzip {out}\n",
    "    !bcftools index {out}.gz\n",
    "    !bcftools index -t {out}.gz\n",
    "    !rm {os.path.join(private_outdir, 'gs_emmax.vcf')}"
   ]
  },
  {
   "cell_type": "markdown",
   "metadata": {},
   "source": [
    "Let's see which genes have CNVs to test now that we've added in some more CNVs."
   ]
  },
  {
   "cell_type": "code",
   "execution_count": 183,
   "metadata": {
    "collapsed": false
   },
   "outputs": [],
   "source": [
    "t = cnv_info.ix[cns_emmax.index]\n",
    "s = '\\n'.join(t.chrom + '\\t' + t.start.astype(str) + '\\t' + t.end.astype(str) + \n",
    "              '\\t' + t.name) + '\\n'\n",
    "cns_emmax_bt = pbt.BedTool(s, from_string=True)\n",
    "cns_emmax_bt = cns_emmax_bt.sort()\n",
    "\n",
    "res = cns_emmax_bt.intersect(variant_regions, sorted=True, wo=True)\n",
    "g = []\n",
    "for r in res:\n",
    "    g.append(r.fields[-3].split('_')[0])\n",
    "cnv_gene_vc = pd.Series(g).value_counts()\n",
    "cnv_gene_vc = cnv_gene_vc[set(cnv_gene_vc.index) & genes_todo]"
   ]
  },
  {
   "cell_type": "code",
   "execution_count": 184,
   "metadata": {
    "collapsed": true
   },
   "outputs": [],
   "source": [
    "t = cnv_info.ix[cns_emmax.index]\n",
    "s = '\\n'.join(t.chrom + '\\t' + t.start.astype(str) + '\\t' + t.end.astype(str) + \n",
    "              '\\t' + t.name) + '\\n'\n",
    "cns_emmax_bt = pbt.BedTool(s, from_string=True)\n",
    "cns_emmax_bt = cns_emmax_bt.sort()"
   ]
  },
  {
   "cell_type": "code",
   "execution_count": 185,
   "metadata": {
    "collapsed": false
   },
   "outputs": [
    {
     "data": {
      "text/plain": [
       "(16854,)"
      ]
     },
     "execution_count": 185,
     "metadata": {},
     "output_type": "execute_result"
    }
   ],
   "source": [
    "cnv_gene_vc.shape"
   ]
  },
  {
   "cell_type": "code",
   "execution_count": 186,
   "metadata": {
    "collapsed": false
   },
   "outputs": [
    {
     "data": {
      "image/png": "[encoded data removed]",
      "text/plain": [
       "<matplotlib.figure.Figure at 0x7feff75ecdd0>"
      ]
     },
     "metadata": {},
     "output_type": "display_data"
    }
   ],
   "source": [
    "cnv_gene_vc.hist(bins=range(cnv_gene_vc.max()))\n",
    "plt.ylabel('Number of genes')\n",
    "plt.xlabel('Number of CNVs overlapping variant window');"
   ]
  },
  {
   "cell_type": "markdown",
   "metadata": {},
   "source": [
    "### Lumpy"
   ]
  },
  {
   "cell_type": "code",
   "execution_count": 268,
   "metadata": {
    "collapsed": true
   },
   "outputs": [],
   "source": [
    "lumpy_genotypes_f = lumpy_genotypes[rna_meta_eqtl.wgs_id]"
   ]
  },
  {
   "cell_type": "code",
   "execution_count": 269,
   "metadata": {
    "collapsed": false
   },
   "outputs": [],
   "source": [
    "lumpy_ref_ac = lumpy_genotypes_f.apply(lambda x: ''.join(x).count('0'), axis=1)\n",
    "lumpy_alt_ac = lumpy_genotypes_f.apply(lambda x: ''.join(x).count('1'), axis=1)\n",
    "\n",
    "lumpy_ref_af = lumpy_ref_ac.astype(float) / (lumpy_ref_ac + lumpy_alt_ac)\n",
    "lumpy_alt_af = lumpy_alt_ac.astype(float) / (lumpy_ref_ac + lumpy_alt_ac)"
   ]
  },
  {
   "cell_type": "code",
   "execution_count": 270,
   "metadata": {
    "collapsed": false
   },
   "outputs": [
    {
     "data": {
      "image/png": "[encoded data removed]",
      "text/plain": [
       "<matplotlib.figure.Figure at 0x7fefb83ccb10>"
      ]
     },
     "metadata": {},
     "output_type": "display_data"
    }
   ],
   "source": [
    "plt.scatter(lumpy_ref_af, lumpy_info.SU)\n",
    "plt.ylabel('SU')\n",
    "plt.xlabel('Reference allele frequency');"
   ]
  },
  {
   "cell_type": "code",
   "execution_count": 271,
   "metadata": {
    "collapsed": false
   },
   "outputs": [
    {
     "data": {
      "image/png": "[encoded data removed]",
      "text/plain": [
       "<matplotlib.figure.Figure at 0x7fefb9b56c10>"
      ]
     },
     "metadata": {},
     "output_type": "display_data"
    }
   ],
   "source": [
    "lumpy_ref_af[lumpy_info[lumpy_info.SU == 4].index].hist()\n",
    "plt.xlabel('Reference allele frequency')\n",
    "plt.ylabel('Number of SVs with SU == 4');"
   ]
  },
  {
   "cell_type": "code",
   "execution_count": 272,
   "metadata": {
    "collapsed": true
   },
   "outputs": [],
   "source": [
    "lumpy_af = pd.DataFrame({'ref':lumpy_ref_af, 'alt':lumpy_alt_af})\n",
    "lumpy_af['maj_af'] = lumpy_af.max(axis=1)\n",
    "lumpy_af['min_af'] = lumpy_af.min(axis=1)"
   ]
  },
  {
   "cell_type": "code",
   "execution_count": 273,
   "metadata": {
    "collapsed": false
   },
   "outputs": [
    {
     "name": "stdout",
     "output_type": "stream",
     "text": [
      "11,301 lumpy SVs have minor allele frequency > 1%.\n"
     ]
    }
   ],
   "source": [
    "n = lumpy_af[lumpy_af.min_af >= 0.01].shape[0]\n",
    "print('{:,} lumpy SVs have minor allele frequency > 1%.'.format(n))"
   ]
  },
  {
   "cell_type": "markdown",
   "metadata": {},
   "source": [
    "I'll make a VCF file like I did for GS. I'll make them similarly formatted."
   ]
  },
  {
   "cell_type": "code",
   "execution_count": 274,
   "metadata": {
    "collapsed": true
   },
   "outputs": [],
   "source": [
    "lumpy_keep = lumpy_af[lumpy_af.min_af >= 0.01].index"
   ]
  },
  {
   "cell_type": "code",
   "execution_count": 275,
   "metadata": {
    "collapsed": false
   },
   "outputs": [],
   "source": [
    "t = lumpy_info.ix[lumpy_keep]\n",
    "s = '\\n'.join(t.CHROM + '\\t' + t.POS.astype(str) + '\\t' + t.END.astype(str) + \n",
    "              '\\t' + t.name) + '\\n'\n",
    "lumpy_emmax_bt = pbt.BedTool(s, from_string=True)\n",
    "lumpy_emmax_bt = lumpy_emmax_bt.sort()\n",
    "mhc_bt = pbt.BedTool('chr6\\t{}\\t{}'.format(int(29.6e6), int(33.1e6)), from_string=True)\n",
    "res = lumpy_emmax_bt.intersect(mhc_bt, wa=True, v=True)\n",
    "df = res.to_dataframe()\n",
    "lumpy_keep = list(df.name)"
   ]
  },
  {
   "cell_type": "code",
   "execution_count": 278,
   "metadata": {
    "collapsed": false
   },
   "outputs": [],
   "source": [
    "lumpy_emmax_info = lumpy_info.ix[lumpy_keep, ['CHROM', 'POS','ID', 'REF', 'ALT', 'QUAL', 'FILTER', 'END']]\n",
    "lumpy_emmax_info.CHROM = lumpy_emmax_info.CHROM.apply(lambda x: x[3:])\n",
    "lumpy_emmax_info.ID = (lumpy_emmax_info.ALT + '_' + lumpy_emmax_info.CHROM + \n",
    "                       '_' + lumpy_emmax_info.POS.astype(str) + '_' + lumpy_emmax_info.END.astype(str))\n",
    "lumpy_emmax_info.ALT = 'N'\n",
    "lumpy_emmax_info.FILTER = 'PASS'\n",
    "lumpy_emmax_info = lumpy_emmax_info.drop('END', axis=1)\n",
    "lumpy_emmax_info['INFO'] = ''\n",
    "lumpy_emmax_info['FORMAT'] = 'GT'\n",
    "lumpy_emmax_info = lumpy_emmax_info.join(lumpy_genotypes_f[sorted(lumpy_genotypes_f.columns)])\n",
    "lumpy_emmax_info = lumpy_emmax_info.astype(str)"
   ]
  },
  {
   "cell_type": "code",
   "execution_count": 281,
   "metadata": {
    "collapsed": true
   },
   "outputs": [],
   "source": [
    "with open('/projects/CARDIPS/analysis/cardips-ipsc-eqtl/misc/header.vcf') as f:\n",
    "    lines = f.readlines()\n",
    "vs = lines[-1].strip().split('\\t')[9:]\n",
    "colnames = lines[-1].strip().split('\\t')[0:9]"
   ]
  },
  {
   "cell_type": "code",
   "execution_count": 282,
   "metadata": {
    "collapsed": false
   },
   "outputs": [
    {
     "name": "stdout",
     "output_type": "stream",
     "text": [
      "sort -k1,1d -k2,2n\r\n"
     ]
    }
   ],
   "source": [
    "out = os.path.join(private_outdir, 'lumpy_emmax_sorted.vcf')\n",
    "if not os.path.exists(out):\n",
    "    with open(os.path.join(private_outdir, 'lumpy_emmax.vcf'), 'w') as f:\n",
    "        f.write(''.join(lines[0:-1]))\n",
    "        f.write('\\t'.join(colnames + list(lumpy_emmax_info.columns[9:])) + '\\n')\n",
    "        f.write('\\n'.join(lumpy_emmax_info.apply(lambda x: '\\t'.join(x), axis=1)) + '\\n')\n",
    "    !cat {os.path.join(private_outdir, 'lumpy_emmax.vcf')} | vcf-sort > {out}\n",
    "    !bgzip {out}\n",
    "    !bcftools index {out}.gz\n",
    "    !bcftools index -t {out}.gz\n",
    "    !rm {os.path.join(private_outdir, 'lumpy_emmax.vcf')}"
   ]
  },
  {
   "cell_type": "markdown",
   "metadata": {
    "collapsed": true
   },
   "source": [
    "## mCNVs\n",
    "\n",
    "I want to identify mCNVs that I can test for associations with gene expression. \n",
    "I'll filter the mCNVs more in the notebook where I do the analysis."
   ]
  },
  {
   "cell_type": "code",
   "execution_count": 78,
   "metadata": {
    "collapsed": false
   },
   "outputs": [],
   "source": [
    "mcnvs = cns_f.ix[num_states[num_states > 3].index]\n",
    "mcnvs_f = mcnvs.ix[set(mcnvs.index) - set(cns_emmax.index)]\n",
    "mcnvs_f.to_csv(os.path.join(private_outdir, 'mcnvs.tsv'), sep='\\t')"
   ]
  }
 ],
 "metadata": {
  "kernelspec": {
   "display_name": "Environment (cie)",
   "language": "",
   "name": "cie"
  },
  "language_info": {
   "codemirror_mode": {
    "name": "ipython",
    "version": 2
   },
   "file_extension": ".py",
   "mimetype": "text/x-python",
   "name": "python",
   "nbconvert_exporter": "python",
   "pygments_lexer": "ipython2",
   "version": "2.7.11"
  }
 },
 "nbformat": 4,
 "nbformat_minor": 0
}
