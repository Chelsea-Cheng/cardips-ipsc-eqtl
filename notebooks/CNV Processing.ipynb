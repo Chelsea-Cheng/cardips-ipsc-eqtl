{
 "cells": [
  {
   "cell_type": "markdown",
   "metadata": {},
   "source": [
    "# CNV Processing"
   ]
  },
  {
   "cell_type": "code",
   "execution_count": 1,
   "metadata": {
    "collapsed": true
   },
   "outputs": [],
   "source": [
    "import cPickle\n",
    "import datetime\n",
    "import glob\n",
    "import os\n",
    "import random\n",
    "import re\n",
    "import subprocess\n",
    "\n",
    "import cdpybio as cpb\n",
    "import matplotlib.gridspec as gridspec\n",
    "import matplotlib.pyplot as plt\n",
    "import numpy as np\n",
    "import pandas as pd\n",
    "pd.options.mode.chained_assignment = None  # default='warn'\n",
    "import pybedtools as pbt\n",
    "import scipy.stats as stats\n",
    "import seaborn as sns\n",
    "import statsmodels.api as sm\n",
    "import statsmodels.formula.api as smf\n",
    "import vcf as pyvcf\n",
    "\n",
    "import cardipspy as cpy\n",
    "import ciepy\n",
    "\n",
    "%matplotlib inline\n",
    "\n",
    "import socket\n",
    "if socket.gethostname() == 'fl-hn1' or socket.gethostname() == 'fl-hn2':\n",
    "    pbt.set_tempdir('/frazer01/home/cdeboever/tmp')\n",
    "    \n",
    "outdir = os.path.join(ciepy.root, 'output',\n",
    "                      'cnv_processing')\n",
    "cpy.makedir(outdir)\n",
    "\n",
    "private_outdir = os.path.join(ciepy.root, 'private_output',\n",
    "                              'cnv_processing')\n",
    "cpy.makedir(private_outdir)"
   ]
  },
  {
   "cell_type": "code",
   "execution_count": 2,
   "metadata": {
    "collapsed": true
   },
   "outputs": [],
   "source": [
    "fn = os.path.join(ciepy.root, 'output', 'input_data', 'rsem_tpm.tsv')\n",
    "tpm = pd.read_table(fn, index_col=0)\n",
    "fn = os.path.join(ciepy.root, 'output', 'input_data', 'rnaseq_metadata.tsv')\n",
    "rna_meta = pd.read_table(fn, index_col=0)\n",
    "fn = os.path.join(ciepy.root, 'output', 'input_data', 'subject_metadata.tsv')\n",
    "subject_meta = pd.read_table(fn, index_col=0)\n",
    "fn = os.path.join(ciepy.root, 'output', 'input_data', 'wgs_metadata.tsv')\n",
    "wgs_meta = pd.read_table(fn, index_col=0)\n",
    "\n",
    "gene_info = pd.read_table(cpy.gencode_gene_info, index_col=0)\n",
    "gene_info['ensembl_id'] = [x.split('.')[0] for x in gene_info.index]\n",
    "\n",
    "genes = pbt.BedTool(cpy.gencode_gene_bed)"
   ]
  },
  {
   "cell_type": "code",
   "execution_count": 3,
   "metadata": {
    "collapsed": true
   },
   "outputs": [],
   "source": [
    "fn = '/projects/CARDIPS/pipeline/WGS/BF_GS_Discovery/eval/CopyNumberClass.report.dat'\n",
    "report = pd.read_table(fn, index_col=0)"
   ]
  },
  {
   "cell_type": "markdown",
   "metadata": {},
   "source": [
    "## Speedseq CNVs"
   ]
  },
  {
   "cell_type": "code",
   "execution_count": 4,
   "metadata": {
    "collapsed": true
   },
   "outputs": [],
   "source": [
    "def read_ss_vcf(fn):\n",
    "    \"\"\"Read and parse a lumpy/speedseq vcf.\"\"\"\n",
    "    df = pd.read_table(fn, skiprows=47)\n",
    "    df.columns = [x.replace('#', '') for x in df.columns]\n",
    "    df = df[df.ALT.apply(lambda x: x in ['<DEL>', '<DUP>'])]\n",
    "    cols = [x.split('=')[0] for x in df.INFO[0].split(';')]\n",
    "    imprecise = []\n",
    "    rows = []\n",
    "    for i in df.index:\n",
    "        vals = list(df.ix[i, 'INFO'].split(';'))\n",
    "        if 'IMPRECISE' in vals:\n",
    "            imprecise.append(True)\n",
    "            vals.remove('IMPRECISE')\n",
    "        else:\n",
    "            imprecise.append(False)\n",
    "        rows.append(dict([x.split('=') for x in vals]))\n",
    "    df['imprecise'] = imprecise\n",
    "    tdf = pd.DataFrame(rows, index=df.index)\n",
    "    df = df.join(tdf)\n",
    "    df = df.drop('INFO', axis=1)\n",
    "    cols = df.FORMAT[0].split(':')\n",
    "    ds = df.apply(lambda x: pd.Series(dict(zip(x['FORMAT'].split(':'), x[df.columns[8]].split(':')))), axis=1)\n",
    "    ds = ds.drop(set(df.columns) & set(ds.columns), axis=1)\n",
    "    df = df.join(ds)\n",
    "    df = df.drop(['FORMAT', df.columns[8]], axis=1)\n",
    "    df.ALT = df.ALT.apply(lambda x: x[1:4])\n",
    "    df = df[df.END.isnull() == False]\n",
    "    for c in ['POS', 'END']:\n",
    "        df[c] = df[c].astype(int)\n",
    "    for c in ['QUAL', 'PE', 'AB', 'CN', 'SQ', 'SR', 'SU', 'SVLEN', 'AO', \n",
    "              'AP', 'AS', 'DP', 'QA', 'QR', 'RO', 'RP', 'RS']:\n",
    "        df[c] = df[c].astype(float)\n",
    "    return df"
   ]
  },
  {
   "cell_type": "raw",
   "metadata": {
    "collapsed": true
   },
   "source": [
    "t = []\n",
    "for fn in fns:\n",
    "    with open(fn) as f:\n",
    "        t.append(len(f.readlines()))\n",
    "se = pd.Series(t, index=fns)"
   ]
  },
  {
   "cell_type": "code",
   "execution_count": 7,
   "metadata": {
    "collapsed": false
   },
   "outputs": [],
   "source": [
    "fns = glob.glob('/frazer01/projects/CARDIPS/pipeline/WGS/SS_CNV_Calls2/*/*_filtered_Auto.gt.vcf')\n",
    "t = []\n",
    "for fn in fns:\n",
    "    with open(fn) as f:\n",
    "        t.append(len(f.readlines()))\n",
    "se = pd.Series(t, index=fns)\n",
    "fns = list(set(fns) - set(se[se == 0].index))\n",
    "dfs = []\n",
    "for fn in fns:\n",
    "    dfs.append(read_ss_vcf(fn))"
   ]
  },
  {
   "cell_type": "markdown",
   "metadata": {},
   "source": [
    "## Genome Strip CNVs"
   ]
  },
  {
   "cell_type": "code",
   "execution_count": 63,
   "metadata": {
    "collapsed": false
   },
   "outputs": [
    {
     "data": {
      "image/png": "[encoded data removed]",
      "text/plain": [
       "<matplotlib.figure.Figure at 0x7f988fde8910>"
      ]
     },
     "metadata": {},
     "output_type": "display_data"
    }
   ],
   "source": [
    "report.NVARIANT.hist(bins=range(275))\n",
    "plt.ylabel('Number of CNVs')\n",
    "plt.xlabel('Number of variant samples');"
   ]
  },
  {
   "cell_type": "code",
   "execution_count": 12,
   "metadata": {
    "collapsed": false
   },
   "outputs": [],
   "source": [
    "fn = '/projects/CARDIPS/pipeline/WGS/BF_GS_Discovery/gs_cnv.genotypes.vcf'\n",
    "f = open(fn)\n",
    "line = f.readline()\n",
    "while line[0:2] == '##':\n",
    "    line = f.readline()\n",
    "header = line[1:].strip().split('\\t')\n",
    "\n",
    "ind = []\n",
    "copy_numbers = []\n",
    "line = f.readline().strip()\n",
    "while line != '':\n",
    "    t = line.split('\\t')\n",
    "    ind.append(t[2])\n",
    "    copy_numbers.append([int(x.split(':')[1]) for x in t[9:]])\n",
    "    line = f.readline().strip()\n",
    "cns = pd.DataFrame(copy_numbers, index=ind, columns=header[9:])"
   ]
  },
  {
   "cell_type": "code",
   "execution_count": 13,
   "metadata": {
    "collapsed": false
   },
   "outputs": [],
   "source": [
    "cnv_info = pd.DataFrame([x.split('_')[1:] for x in cns.index], \n",
    "                        index=cns.index, columns=['chrom', 'start', 'end'])\n",
    "cnv_info['chrom'] = 'chr' + cnv_info.chrom\n",
    "cnv_info['start'] = cnv_info.start.astype(int)\n",
    "cnv_info['end'] = cnv_info.end.astype(int)\n",
    "cnv_info['length'] = cnv_info.end - cnv_info.start\n",
    "cnv_info['name'] = cnv_info.index\n",
    "cnv_info.to_csv(os.path.join(outdir, 'cnv_info.tsv'), sep='\\t')"
   ]
  },
  {
   "cell_type": "code",
   "execution_count": 31,
   "metadata": {
    "collapsed": false
   },
   "outputs": [
    {
     "data": {
      "image/png": "[encoded data removed]",
      "text/plain": [
       "<matplotlib.figure.Figure at 0x7f9895b84990>"
      ]
     },
     "metadata": {},
     "output_type": "display_data"
    }
   ],
   "source": [
    "cnv_info.length.hist(log=True)\n",
    "plt.ylabel('$\\log_{10}$ number of CNVs')\n",
    "plt.xlabel('CNV length');"
   ]
  },
  {
   "cell_type": "code",
   "execution_count": 37,
   "metadata": {
    "collapsed": true
   },
   "outputs": [],
   "source": [
    "sns.set_context('talk', font_scale=1.5)"
   ]
  },
  {
   "cell_type": "code",
   "execution_count": 38,
   "metadata": {
    "collapsed": false
   },
   "outputs": [
    {
     "data": {
      "image/png": "[encoded data removed]",
      "text/plain": [
       "<matplotlib.figure.Figure at 0x7f9877fb4ed0>"
      ]
     },
     "metadata": {},
     "output_type": "display_data"
    }
   ],
   "source": [
    "(np.log10(cnv_info.length)).hist()\n",
    "plt.ylabel('Number of CNVs')\n",
    "plt.xlabel('$\\log_{10}$ CNV length');"
   ]
  },
  {
   "cell_type": "code",
   "execution_count": 16,
   "metadata": {
    "collapsed": false
   },
   "outputs": [
    {
     "data": {
      "text/plain": [
       "count     14500.000000\n",
       "mean       6615.005931\n",
       "std       10552.781125\n",
       "min         999.000000\n",
       "25%        1660.000000\n",
       "50%        3049.000000\n",
       "75%        6574.250000\n",
       "max      208946.000000\n",
       "Name: length, dtype: float64"
      ]
     },
     "execution_count": 16,
     "metadata": {},
     "output_type": "execute_result"
    }
   ],
   "source": [
    "cnv_info.length.describe()"
   ]
  },
  {
   "cell_type": "code",
   "execution_count": 36,
   "metadata": {
    "collapsed": false
   },
   "outputs": [
    {
     "name": "stdout",
     "output_type": "stream",
     "text": [
      "32.7% of CNVs are less than 2,000 bp\n",
      "67.2% of CNVs are less than 5,000 bp\n",
      "84.1% of CNVs are less than 10,000 bp\n",
      "99.0% of CNVs are less than 50,000 bp\n",
      "99.9% of CNVs are less than 100,000 bp\n",
      "100.0% of CNVs are less than 200,000 bp\n"
     ]
    }
   ],
   "source": [
    "cutoffs = np.array([2, 5, 10, 50, 100, 200]) * 1000\n",
    "for c in cutoffs:\n",
    "    print('{:.1f}% of CNVs are less than {:,} bp'.format(\n",
    "            100 * sum(cnv_info.length < c) / float(cnv_info.shape[0]), c))"
   ]
  },
  {
   "cell_type": "markdown",
   "metadata": {},
   "source": [
    "## EMMAX CNVs\n",
    "\n",
    "I want to find CNVs that I can include in the EMMAX association analysis. \n",
    "These will be CNVs that have at most three copy number states and have a\n",
    "minor allele frequency greater than 5%.\n",
    "\n",
    "I can also separately test mCNVs for an association with gene expression."
   ]
  },
  {
   "cell_type": "code",
   "execution_count": 20,
   "metadata": {
    "collapsed": false
   },
   "outputs": [],
   "source": [
    "cns_f = cns[rna_meta[rna_meta.in_eqtl].wgs_id]\n",
    "num_states = cns_f.apply(lambda x: len(set(x)), axis=1)\n",
    "cns_emmax = cns_f.ix[num_states[num_states.apply(lambda x: x in [2, 3])].index]"
   ]
  },
  {
   "cell_type": "code",
   "execution_count": 22,
   "metadata": {
    "collapsed": false
   },
   "outputs": [],
   "source": [
    "b = cns_emmax.apply(lambda x: x.value_counts().max() < cns_emmax.shape[1] - np.floor(207 * 0.05), axis=1)\n",
    "cns_emmax = cns_emmax[b]"
   ]
  },
  {
   "cell_type": "code",
   "execution_count": 23,
   "metadata": {
    "collapsed": true
   },
   "outputs": [],
   "source": [
    "maj_af = cns_emmax.apply(lambda x: x.value_counts().max(), axis=1) / cns_emmax.shape[1]"
   ]
  },
  {
   "cell_type": "code",
   "execution_count": 24,
   "metadata": {
    "collapsed": true
   },
   "outputs": [],
   "source": [
    "t = cnv_info.ix[cns_emmax.index]\n",
    "s = '\\n'.join(t.chrom + '\\t' + t.start.astype(str) + '\\t' + t.end.astype(str) + \n",
    "              '\\t' + t.name) + '\\n'\n",
    "cns_emmax_bt = pbt.BedTool(s, from_string=True)\n",
    "cns_emmax_bt = cns_emmax_bt.sort()\n",
    "\n",
    "fn = os.path.join(ciepy.root, 'output', 'eqtl_input', 'variant_regions.bed')\n",
    "variant_regions = pbt.BedTool(fn)\n",
    "fn = os.path.join(ciepy.root, 'output', 'eqtl_processing', 'qvalues.tsv')\n",
    "qvalues = pd.read_table(fn, index_col=0)\n",
    "\n",
    "res = cns_emmax_bt.intersect(variant_regions, sorted=True, wo=True)\n",
    "g = []\n",
    "for r in res:\n",
    "    g.append(r.fields[-3].split('_')[0])\n",
    "cnv_gene_vc = pd.Series(g).value_counts()\n",
    "cnv_gene_vc = cnv_gene_vc[set(cnv_gene_vc.index) & set(qvalues.index)]"
   ]
  },
  {
   "cell_type": "code",
   "execution_count": 39,
   "metadata": {
    "collapsed": false
   },
   "outputs": [
    {
     "data": {
      "image/png": "[encoded data removed]",
      "text/plain": [
       "<matplotlib.figure.Figure at 0x7f988f5db1d0>"
      ]
     },
     "metadata": {},
     "output_type": "display_data"
    }
   ],
   "source": [
    "cnv_gene_vc.hist(bins=range(cnv_gene_vc.max()))\n",
    "plt.ylabel('Number of genes')\n",
    "plt.xlabel('Number of CNVs overlapping variant window');"
   ]
  },
  {
   "cell_type": "markdown",
   "metadata": {},
   "source": [
    "I think that I can collapse some mCNVs to be biallelic. For instance, the CNV\n",
    "below has one person with copy number 4, but if we exclude that person, we would\n",
    "only have three copy number states. The person who is four is likely just an error and\n",
    "should actually be 3, or at the least it wouldn't hurt to make them copy number 3 or \n",
    "just not include them in the analysis."
   ]
  },
  {
   "cell_type": "code",
   "execution_count": 26,
   "metadata": {
    "collapsed": false
   },
   "outputs": [
    {
     "data": {
      "text/plain": [
       "CALLRATE               0.989\n",
       "CNMIN                      1\n",
       "CNMAX                      4\n",
       "CNALLELES                  3\n",
       "NNONREF                  140\n",
       "NVARIANT                 140\n",
       "CNCATEGORY             MIXED\n",
       "CNDIST        0,109,131,30,1\n",
       "Name: CNV_19_40372246_40375846, dtype: object"
      ]
     },
     "execution_count": 26,
     "metadata": {},
     "output_type": "execute_result"
    }
   ],
   "source": [
    "report.ix['CNV_19_40372246_40375846']"
   ]
  },
  {
   "cell_type": "raw",
   "metadata": {},
   "source": [
    "cns_f = cns[rna_meta[rna_meta.in_eqtl].wgs_id]\n",
    "cns_emmax = cns_f.ix[num_states[num_states.apply(lambda x: x in [2, 3])].index]\n",
    "b = cns_emmax.apply(lambda x: x.value_counts().max() < cns_emmax.shape[1] - np.floor(207 * 0.05), axis=1)\n",
    "cns_emmax = cns_emmax[b]"
   ]
  },
  {
   "cell_type": "code",
   "execution_count": 40,
   "metadata": {
    "collapsed": true
   },
   "outputs": [],
   "source": [
    "t = cns_f.ix[set(cns_f.index) - set(cns_emmax.index)]\n",
    "t = t[t.apply(lambda x: len(set(x)) > 3, axis=1)]\n",
    "b = t.apply(lambda x: x.value_counts()[0:3].sum(), axis=1)"
   ]
  },
  {
   "cell_type": "code",
   "execution_count": 41,
   "metadata": {
    "collapsed": false
   },
   "outputs": [
    {
     "data": {
      "image/png": "[encoded data removed]",
      "text/plain": [
       "<matplotlib.figure.Figure at 0x7f988a943ad0>"
      ]
     },
     "metadata": {},
     "output_type": "display_data"
    }
   ],
   "source": [
    "b.hist(bins=range(208))\n",
    "plt.xlim(0, 209)\n",
    "plt.ylabel('Number of CNVs')\n",
    "plt.xlabel('Number of individuals with one of top three CNs');"
   ]
  },
  {
   "cell_type": "markdown",
   "metadata": {},
   "source": [
    "This plot shows us that many CNVs are almost biallelic. If we remove \n",
    "a few samples, we can make more sites biallelic."
   ]
  },
  {
   "cell_type": "code",
   "execution_count": 42,
   "metadata": {
    "collapsed": false
   },
   "outputs": [
    {
     "data": {
      "text/plain": [
       "785"
      ]
     },
     "execution_count": 42,
     "metadata": {},
     "output_type": "execute_result"
    }
   ],
   "source": [
    "sum(b >= 197)"
   ]
  },
  {
   "cell_type": "markdown",
   "metadata": {},
   "source": [
    "There are 785 CNVs for which I can remove people with rare copy numbers\n",
    "and still have 95% call rate. I'll set the rare copy numbers to missing\n",
    "and include these."
   ]
  },
  {
   "cell_type": "code",
   "execution_count": 46,
   "metadata": {
    "collapsed": true
   },
   "outputs": [],
   "source": [
    "rows = []\n",
    "for i in b[b >= 197].index:\n",
    "    se = cns_f.ix[i]\n",
    "    vc = se.value_counts()\n",
    "    se[se.apply(lambda x: x not in vc.index[0:3])] = np.nan\n",
    "    rows.append(se)\n",
    "df = pd.DataFrame(rows, index=b[b >= 197].index, \n",
    "                  columns=cns_f.columns)"
   ]
  },
  {
   "cell_type": "code",
   "execution_count": 47,
   "metadata": {
    "collapsed": true
   },
   "outputs": [],
   "source": [
    "b = df.apply(lambda x: x.value_counts().max() < df.shape[1] - np.floor(207 * 0.05), axis=1)\n",
    "df = df[b]"
   ]
  },
  {
   "cell_type": "code",
   "execution_count": 48,
   "metadata": {
    "collapsed": true
   },
   "outputs": [],
   "source": [
    "cns_emmax = pd.concat([cns_emmax, df])\n",
    "cns_emmax.to_csv(os.path.join(private_outdir, 'emmax_cnvs.tsv'), sep='\\t')"
   ]
  },
  {
   "cell_type": "code",
   "execution_count": 49,
   "metadata": {
    "collapsed": false
   },
   "outputs": [
    {
     "data": {
      "text/plain": [
       "(3183, 207)"
      ]
     },
     "execution_count": 49,
     "metadata": {},
     "output_type": "execute_result"
    }
   ],
   "source": [
    "cns_emmax.shape"
   ]
  },
  {
   "cell_type": "markdown",
   "metadata": {},
   "source": [
    "I'll write a VCF file with the CNV genotypes."
   ]
  },
  {
   "cell_type": "code",
   "execution_count": 50,
   "metadata": {
    "collapsed": true
   },
   "outputs": [],
   "source": [
    "cns_emmax_genotypes = cns_emmax.copy(deep=True).astype(str)\n",
    "mins = cns_emmax.apply(lambda x: x == x.min(), axis=1)\n",
    "maxs = cns_emmax.apply(lambda x: x == x.max(), axis=1)\n",
    "nulls = cns_emmax.isnull()\n",
    "hets = (mins.astype(int) + maxs.astype(int) + nulls.astype(int) == 0)\n",
    "cns_emmax_genotypes[mins] = '0/0'\n",
    "cns_emmax_genotypes[hets] = '0/1'\n",
    "cns_emmax_genotypes[maxs] = '1/1'\n",
    "cns_emmax_genotypes[nulls] = './.'"
   ]
  },
  {
   "cell_type": "code",
   "execution_count": 51,
   "metadata": {
    "collapsed": true
   },
   "outputs": [],
   "source": [
    "cns_emmax_info = cnv_info.ix[cns_emmax.index]\n",
    "cns_emmax_info.chrom = cns_emmax_info.chrom.apply(lambda x: x[3:])\n",
    "cns_emmax_info = cns_emmax_info.drop(['end', 'length'], axis=1)\n",
    "cns_emmax_info.start = cns_emmax_info.start.astype(str)\n",
    "cns_emmax_info['ref'] = 'N'\n",
    "cns_emmax_info['alt'] = 'N'\n",
    "cns_emmax_info['qual'] = '100000'\n",
    "cns_emmax_info['filter'] = 'PASS'\n",
    "cns_emmax_info['info'] = ''\n",
    "cns_emmax_info['format'] = 'GT'\n",
    "cns_emmax_info = cns_emmax_info.join(cns_emmax_genotypes[sorted(cns_emmax_genotypes.columns)])"
   ]
  },
  {
   "cell_type": "code",
   "execution_count": null,
   "metadata": {
    "collapsed": false
   },
   "outputs": [],
   "source": [
    "with open('/projects/CARDIPS/analysis/cardips-ipsc-eqtl/scripts/header.vcf') as f:\n",
    "    lines = f.readlines()\n",
    "vs = lines[-1].strip().split('\\t')[9:]\n",
    "colnames = lines[-1].strip().split('\\t')[0:9]"
   ]
  },
  {
   "cell_type": "code",
   "execution_count": null,
   "metadata": {
    "collapsed": false
   },
   "outputs": [],
   "source": [
    "with open(os.path.join(private_outdir, 'emmax.vcf'), 'w') as f:\n",
    "    f.write(''.join(lines[0:-1]))\n",
    "    f.write('\\t'.join(colnames + list(cns_emmax_info.columns[9:])) + '\\n')\n",
    "    f.write('\\n'.join(cns_emmax_info.apply(lambda x: '\\t'.join(x), axis=1)) + '\\n')\n",
    "out = os.path.join(private_outdir, 'emmax_sorted.vcf')\n",
    "!cat {os.path.join(private_outdir, 'emmax.vcf')} | vcf-sort > {out}\n",
    "!bgzip {out}\n",
    "!bcftools index {out}.gz\n",
    "!bcftools index -t {out}.gz\n",
    "!rm {os.path.join(private_outdir, 'emmax.vcf')}"
   ]
  },
  {
   "cell_type": "markdown",
   "metadata": {},
   "source": [
    "Let's see which genes have CNVs to test now that we've added in some more CNVs."
   ]
  },
  {
   "cell_type": "code",
   "execution_count": 52,
   "metadata": {
    "collapsed": true
   },
   "outputs": [],
   "source": [
    "t = cnv_info.ix[cns_emmax.index]\n",
    "s = '\\n'.join(t.chrom + '\\t' + t.start.astype(str) + '\\t' + t.end.astype(str) + \n",
    "              '\\t' + t.name) + '\\n'\n",
    "cns_emmax_bt = pbt.BedTool(s, from_string=True)\n",
    "cns_emmax_bt = cns_emmax_bt.sort()\n",
    "\n",
    "fn = os.path.join(ciepy.root, 'output', 'eqtl_input', 'variant_regions.bed')\n",
    "variant_regions = pbt.BedTool(fn)\n",
    "fn = os.path.join(ciepy.root, 'output', 'eqtl_processing', 'qvalues.tsv')\n",
    "qvalues = pd.read_table(fn, index_col=0)\n",
    "\n",
    "res = cns_emmax_bt.intersect(variant_regions, sorted=True, wo=True)\n",
    "g = []\n",
    "for r in res:\n",
    "    g.append(r.fields[-3].split('_')[0])\n",
    "cnv_gene_vc = pd.Series(g).value_counts()\n",
    "cnv_gene_vc = cnv_gene_vc[set(cnv_gene_vc.index) & set(qvalues.index)]"
   ]
  },
  {
   "cell_type": "code",
   "execution_count": 53,
   "metadata": {
    "collapsed": true
   },
   "outputs": [],
   "source": [
    "t = cnv_info.ix[cns_emmax.index]\n",
    "s = '\\n'.join(t.chrom + '\\t' + t.start.astype(str) + '\\t' + t.end.astype(str) + \n",
    "              '\\t' + t.name) + '\\n'\n",
    "cns_emmax_bt = pbt.BedTool(s, from_string=True)\n",
    "cns_emmax_bt = cns_emmax_bt.sort()"
   ]
  },
  {
   "cell_type": "code",
   "execution_count": 54,
   "metadata": {
    "collapsed": false
   },
   "outputs": [
    {
     "data": {
      "text/plain": [
       "(12829,)"
      ]
     },
     "execution_count": 54,
     "metadata": {},
     "output_type": "execute_result"
    }
   ],
   "source": [
    "cnv_gene_vc.shape"
   ]
  },
  {
   "cell_type": "code",
   "execution_count": 55,
   "metadata": {
    "collapsed": false
   },
   "outputs": [
    {
     "data": {
      "image/png": "[encoded data removed]",
      "text/plain": [
       "<matplotlib.figure.Figure at 0x7f98893df910>"
      ]
     },
     "metadata": {},
     "output_type": "display_data"
    }
   ],
   "source": [
    "cnv_gene_vc.hist(bins=range(cnv_gene_vc.max()))\n",
    "plt.ylabel('Number of genes')\n",
    "plt.xlabel('Number of CNVs overlapping variant window');"
   ]
  },
  {
   "cell_type": "code",
   "execution_count": 56,
   "metadata": {
    "collapsed": true
   },
   "outputs": [],
   "source": [
    "done = set(qvalues.index) - set(cnv_gene_vc.index)"
   ]
  },
  {
   "cell_type": "code",
   "execution_count": null,
   "metadata": {
    "collapsed": true
   },
   "outputs": [],
   "source": [
    "def chunks(l, n):\n",
    "    \"\"\"Yield successive n-sized chunks from l.\"\"\"\n",
    "    for i in xrange(0, len(l), n):\n",
    "        yield l[i:i+n]"
   ]
  },
  {
   "cell_type": "code",
   "execution_count": null,
   "metadata": {
    "collapsed": false
   },
   "outputs": [],
   "source": [
    "c = chunks(list(done), 100)"
   ]
  },
  {
   "cell_type": "code",
   "execution_count": null,
   "metadata": {
    "collapsed": false
   },
   "outputs": [],
   "source": [
    "len(done)"
   ]
  },
  {
   "cell_type": "code",
   "execution_count": null,
   "metadata": {
    "collapsed": true
   },
   "outputs": [],
   "source": [
    "gs = c.next()"
   ]
  },
  {
   "cell_type": "code",
   "execution_count": null,
   "metadata": {
    "collapsed": true
   },
   "outputs": [],
   "source": [
    "with open(os.path.join(ciepy.root, 'sandbox', 'copy.sh'), 'w') as f:\n",
    "    while True:\n",
    "        try:\n",
    "            gs = c.next()\n",
    "        except StopIteration:\n",
    "            break\n",
    "        dys = ['/projects/CARDIPS/analysis/cardips-ipsc-eqtl/output/run_eqtl_analysis/results/{}'.format(x)\n",
    "               for x in gs]\n",
    "        command = 'cp -r {} /projects/CARDIPS/analysis/cardips-ipsc-eqtl/private_output/run_eqtl_analysis/results\\n'.format(' '.join(dys))\n",
    "        f.write(command)"
   ]
  },
  {
   "cell_type": "markdown",
   "metadata": {
    "collapsed": true
   },
   "source": [
    "## mCNVs\n",
    "\n",
    "I want to identify mCNVs that I can test for associations with gene expression. \n",
    "I'll filter the mCNVs more in the notebook where I do the analysis."
   ]
  },
  {
   "cell_type": "code",
   "execution_count": null,
   "metadata": {
    "collapsed": false
   },
   "outputs": [],
   "source": [
    "mcnvs = cns_f.ix[num_states[num_states > 3].index]\n",
    "mcnvs_f = mcnvs_f.ix[set(mcnvs_f.index) - set(cns_emmax.index)]\n",
    "mcnvs_f.to_csv(os.path.join(private_outdir, 'mcnvs.tsv'), sep='\\t')"
   ]
  }
 ],
 "metadata": {
  "kernelspec": {
   "display_name": "Environment (cie)",
   "language": "",
   "name": "cie"
  },
  "language_info": {
   "codemirror_mode": {
    "name": "ipython",
    "version": 2
   },
   "file_extension": ".py",
   "mimetype": "text/x-python",
   "name": "python",
   "nbconvert_exporter": "python",
   "pygments_lexer": "ipython2",
   "version": "2.7.11"
  }
 },
 "nbformat": 4,
 "nbformat_minor": 0
}
