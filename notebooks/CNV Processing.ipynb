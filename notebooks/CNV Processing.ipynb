{
 "cells": [
  {
   "cell_type": "markdown",
   "metadata": {},
   "source": [
    "# CNV Processing"
   ]
  },
  {
   "cell_type": "code",
   "execution_count": 1,
   "metadata": {
    "collapsed": true
   },
   "outputs": [],
   "source": [
    "import cPickle\n",
    "import datetime\n",
    "import glob\n",
    "import os\n",
    "import random\n",
    "import re\n",
    "import subprocess\n",
    "import urllib2\n",
    "\n",
    "import cdpybio as cpb\n",
    "import matplotlib.gridspec as gridspec\n",
    "import matplotlib.pyplot as plt\n",
    "import numpy as np\n",
    "import pandas as pd\n",
    "pd.options.mode.chained_assignment = None  # default='warn'\n",
    "import pybedtools as pbt\n",
    "import scipy.stats as stats\n",
    "import seaborn as sns\n",
    "import statsmodels.api as sm\n",
    "import statsmodels.formula.api as smf\n",
    "import vcf as pyvcf\n",
    "\n",
    "import cardipspy as cpy\n",
    "import ciepy\n",
    "\n",
    "%matplotlib inline\n",
    "\n",
    "dy_name = 'cnv_processing'\n",
    "\n",
    "import socket\n",
    "if socket.gethostname() == 'fl-hn1' or socket.gethostname() == 'fl-hn2':\n",
    "    dy = os.path.join(ciepy.root, 'sandbox', dy_name)\n",
    "    cpy.makedir(dy)\n",
    "    pbt.set_tempdir(dy)\n",
    "    \n",
    "outdir = os.path.join(ciepy.root, 'output', dy_name)\n",
    "cpy.makedir(outdir)\n",
    "\n",
    "private_outdir = os.path.join(ciepy.root, 'private_output', dy_name)\n",
    "cpy.makedir(private_outdir)"
   ]
  },
  {
   "cell_type": "code",
   "execution_count": 2,
   "metadata": {
    "collapsed": true
   },
   "outputs": [],
   "source": [
    "fn = os.path.join(ciepy.root, 'output', 'input_data', 'rsem_tpm.tsv')\n",
    "tpm = pd.read_table(fn, index_col=0)\n",
    "fn = os.path.join(ciepy.root, 'output', 'input_data', 'rnaseq_metadata.tsv')\n",
    "rna_meta = pd.read_table(fn, index_col=0)\n",
    "fn = os.path.join(ciepy.root, 'output', 'input_data', 'subject_metadata.tsv')\n",
    "subject_meta = pd.read_table(fn, index_col=0)\n",
    "fn = os.path.join(ciepy.root, 'output', 'input_data', 'wgs_metadata.tsv')\n",
    "wgs_meta = pd.read_table(fn, index_col=0)\n",
    "\n",
    "rna_meta = rna_meta.merge(subject_meta, left_on='subject_id', right_index=True)\n",
    "\n",
    "gene_info = pd.read_table(cpy.gencode_gene_info, index_col=0)\n",
    "gene_info['ensembl_id'] = [x.split('.')[0] for x in gene_info.index]\n",
    "\n",
    "genes = pbt.BedTool(cpy.gencode_gene_bed)\n",
    "\n",
    "exp = pd.read_table(os.path.join(ciepy.root, 'output', 'eqtl_input', \n",
    "                                 'tpm_log_filtered_phe_std_norm_peer_resid.tsv'), index_col=0)"
   ]
  },
  {
   "cell_type": "code",
   "execution_count": 3,
   "metadata": {
    "collapsed": true
   },
   "outputs": [],
   "source": [
    "fn = os.path.join(os.path.split(cpy.roadmap_15_state_annotation)[0], 'EIDlegend.txt')\n",
    "roadmap_ids = pd.read_table(fn, squeeze=True, index_col=0, header=None)"
   ]
  },
  {
   "cell_type": "code",
   "execution_count": 4,
   "metadata": {
    "collapsed": true
   },
   "outputs": [],
   "source": [
    "fn = '/projects/CARDIPS/pipeline/WGS/BF_GS_Discovery/eval/CopyNumberClass.report.dat'\n",
    "report = pd.read_table(fn, index_col=0)"
   ]
  },
  {
   "cell_type": "markdown",
   "metadata": {},
   "source": [
    "## Speedseq CNVs"
   ]
  },
  {
   "cell_type": "raw",
   "metadata": {
    "collapsed": true
   },
   "source": [
    "def read_ss_vcf(fn):\n",
    "    \"\"\"Read and parse a lumpy/speedseq vcf.\"\"\"\n",
    "    df = pd.read_table(fn, skiprows=47)\n",
    "    df.columns = [x.replace('#', '') for x in df.columns]\n",
    "    df = df[df.ALT.apply(lambda x: x in ['<DEL>', '<DUP>'])]\n",
    "    cols = [x.split('=')[0] for x in df.INFO[0].split(';')]\n",
    "    imprecise = []\n",
    "    rows = []\n",
    "    for i in df.index:\n",
    "        vals = list(df.ix[i, 'INFO'].split(';'))\n",
    "        if 'IMPRECISE' in vals:\n",
    "            imprecise.append(True)\n",
    "            vals.remove('IMPRECISE')\n",
    "        else:\n",
    "            imprecise.append(False)\n",
    "        rows.append(dict([x.split('=') for x in vals]))\n",
    "    df['imprecise'] = imprecise\n",
    "    tdf = pd.DataFrame(rows, index=df.index)\n",
    "    df = df.join(tdf)\n",
    "    df = df.drop('INFO', axis=1)\n",
    "    cols = df.FORMAT[0].split(':')\n",
    "    ds = df.apply(lambda x: pd.Series(dict(zip(x['FORMAT'].split(':'), x[df.columns[8]].split(':')))), axis=1)\n",
    "    ds = ds.drop(set(df.columns) & set(ds.columns), axis=1)\n",
    "    df = df.join(ds)\n",
    "    df = df.drop(['FORMAT', df.columns[8]], axis=1)\n",
    "    df.ALT = df.ALT.apply(lambda x: x[1:4])\n",
    "    df = df[df.END.isnull() == False]\n",
    "    for c in ['POS', 'END']:\n",
    "        df[c] = df[c].astype(int)\n",
    "    for c in ['QUAL', 'PE', 'AB', 'CN', 'SQ', 'SR', 'SU', 'SVLEN', 'AO', \n",
    "              'AP', 'AS', 'DP', 'QA', 'QR', 'RO', 'RP', 'RS']:\n",
    "        df[c] = df[c].astype(float)\n",
    "    return df"
   ]
  },
  {
   "cell_type": "raw",
   "metadata": {
    "collapsed": true
   },
   "source": [
    "t = []\n",
    "for fn in fns:\n",
    "    with open(fn) as f:\n",
    "        t.append(len(f.readlines()))\n",
    "se = pd.Series(t, index=fns)"
   ]
  },
  {
   "cell_type": "raw",
   "metadata": {
    "collapsed": false
   },
   "source": [
    "fns = glob.glob('/frazer01/projects/CARDIPS/pipeline/WGS/SS_CNV_Calls2/*/*_filtered_Auto.gt.vcf')\n",
    "t = []\n",
    "for fn in fns:\n",
    "    with open(fn) as f:\n",
    "        t.append(len(f.readlines()))\n",
    "se = pd.Series(t, index=fns)\n",
    "fns = list(set(fns) - set(se[se == 0].index))\n",
    "dfs = []\n",
    "for fn in fns:\n",
    "    dfs.append(read_ss_vcf(fn))"
   ]
  },
  {
   "cell_type": "markdown",
   "metadata": {},
   "source": [
    "## Genome Strip CNVs"
   ]
  },
  {
   "cell_type": "code",
   "execution_count": 5,
   "metadata": {
    "collapsed": false
   },
   "outputs": [
    {
     "data": {
      "image/png": "[encoded data removed]",
      "text/plain": [
       "<matplotlib.figure.Figure at 0x7f07a0f55750>"
      ]
     },
     "metadata": {},
     "output_type": "display_data"
    }
   ],
   "source": [
    "report.NVARIANT.hist(bins=range(275))\n",
    "plt.ylabel('Number of CNVs')\n",
    "plt.xlabel('Number of variant samples');"
   ]
  },
  {
   "cell_type": "code",
   "execution_count": 6,
   "metadata": {
    "collapsed": false
   },
   "outputs": [],
   "source": [
    "out = os.path.join(private_outdir, 'cnv_genotypes.tsv')\n",
    "if not os.path.exists(out):\n",
    "    fn = '/projects/CARDIPS/pipeline/WGS/BF_GS_Discovery/gs_cnv.genotypes.vcf'\n",
    "    f = open(fn)\n",
    "    line = f.readline()\n",
    "    while line[0:2] == '##':\n",
    "        line = f.readline()\n",
    "    header = line[1:].strip().split('\\t')\n",
    "\n",
    "    ind = []\n",
    "    copy_numbers = []\n",
    "    line = f.readline().strip()\n",
    "    while line != '':\n",
    "        t = line.split('\\t')\n",
    "        ind.append(t[2])\n",
    "        copy_numbers.append([int(x.split(':')[1]) for x in t[9:]])\n",
    "        line = f.readline().strip()\n",
    "    cns = pd.DataFrame(copy_numbers, index=ind, columns=header[9:])\n",
    "    cns.to_csv(out, sep='\\t')\n",
    "else:\n",
    "    cns = pd.read_table(out, index_col=0)"
   ]
  },
  {
   "cell_type": "code",
   "execution_count": 8,
   "metadata": {
    "collapsed": true
   },
   "outputs": [],
   "source": [
    "s = '\\n'.join(cnv_info.chrom + '\\t' + cnv_info.start.astype(str) + \n",
    "              '\\t' + cnv_info.end.astype(str) + '\\t' + cnv_info.name) + '\\n'\n",
    "cnv_bt = pbt.BedTool(s, from_string=True)\n",
    "cnv_bt = cnv_bt.sort()\n",
    "cnv_bt.saveas(os.path.join(outdir, 'cnvs.bed'), trackline=\"track type=bed name='CNVs'\")\n",
    "os.symlink(os.path.join(outdir, 'cnvs.bed'), '/home/cdeboever/public_html/cnvs.bed')"
   ]
  },
  {
   "cell_type": "code",
   "execution_count": 93,
   "metadata": {
    "collapsed": false
   },
   "outputs": [],
   "source": [
    "tt = res.to_dataframe()"
   ]
  },
  {
   "cell_type": "code",
   "execution_count": 98,
   "metadata": {
    "collapsed": false
   },
   "outputs": [
    {
     "data": {
      "text/plain": [
       "4"
      ]
     },
     "execution_count": 98,
     "metadata": {},
     "output_type": "execute_result"
    }
   ],
   "source": [
    "len(cnv_bt[0].fields)"
   ]
  },
  {
   "cell_type": "code",
   "execution_count": 94,
   "metadata": {
    "collapsed": false
   },
   "outputs": [
    {
     "data": {
      "text/html": [
       "<div>\n",
       "<table border=\"1\" class=\"dataframe\">\n",
       "  <thead>\n",
       "    <tr style=\"text-align: right;\">\n",
       "      <th></th>\n",
       "      <th>chrom</th>\n",
       "      <th>start</th>\n",
       "      <th>end</th>\n",
       "      <th>name</th>\n",
       "      <th>score</th>\n",
       "      <th>strand</th>\n",
       "      <th>thickStart</th>\n",
       "      <th>thickEnd</th>\n",
       "    </tr>\n",
       "  </thead>\n",
       "  <tbody>\n",
       "    <tr>\n",
       "      <th>0</th>\n",
       "      <td>chr1</td>\n",
       "      <td>55176</td>\n",
       "      <td>56686</td>\n",
       "      <td>CNV_1_55176_56686</td>\n",
       "      <td>chr1</td>\n",
       "      <td>53048</td>\n",
       "      <td>53049</td>\n",
       "      <td>-2128</td>\n",
       "    </tr>\n",
       "    <tr>\n",
       "      <th>1</th>\n",
       "      <td>chr1</td>\n",
       "      <td>85392</td>\n",
       "      <td>86406</td>\n",
       "      <td>CNV_1_85392_86406</td>\n",
       "      <td>chr1</td>\n",
       "      <td>91104</td>\n",
       "      <td>91105</td>\n",
       "      <td>4699</td>\n",
       "    </tr>\n",
       "    <tr>\n",
       "      <th>2</th>\n",
       "      <td>chr1</td>\n",
       "      <td>86407</td>\n",
       "      <td>91299</td>\n",
       "      <td>CNV_1_86407_91299</td>\n",
       "      <td>chr1</td>\n",
       "      <td>91104</td>\n",
       "      <td>91105</td>\n",
       "      <td>0</td>\n",
       "    </tr>\n",
       "    <tr>\n",
       "      <th>3</th>\n",
       "      <td>chr1</td>\n",
       "      <td>562952</td>\n",
       "      <td>567683</td>\n",
       "      <td>CNV_1_562952_567683</td>\n",
       "      <td>chr1</td>\n",
       "      <td>564389</td>\n",
       "      <td>564390</td>\n",
       "      <td>0</td>\n",
       "    </tr>\n",
       "    <tr>\n",
       "      <th>4</th>\n",
       "      <td>chr1</td>\n",
       "      <td>562952</td>\n",
       "      <td>567683</td>\n",
       "      <td>CNV_1_562952_567683</td>\n",
       "      <td>chr1</td>\n",
       "      <td>564441</td>\n",
       "      <td>564442</td>\n",
       "      <td>0</td>\n",
       "    </tr>\n",
       "  </tbody>\n",
       "</table>\n",
       "</div>"
      ],
      "text/plain": [
       "  chrom   start     end                 name score  strand  thickStart  \\\n",
       "0  chr1   55176   56686    CNV_1_55176_56686  chr1   53048       53049   \n",
       "1  chr1   85392   86406    CNV_1_85392_86406  chr1   91104       91105   \n",
       "2  chr1   86407   91299    CNV_1_86407_91299  chr1   91104       91105   \n",
       "3  chr1  562952  567683  CNV_1_562952_567683  chr1  564389      564390   \n",
       "4  chr1  562952  567683  CNV_1_562952_567683  chr1  564441      564442   \n",
       "\n",
       "   thickEnd  \n",
       "0     -2128  \n",
       "1      4699  \n",
       "2         0  \n",
       "3         0  \n",
       "4         0  "
      ]
     },
     "execution_count": 94,
     "metadata": {},
     "output_type": "execute_result"
    }
   ],
   "source": [
    "tt.head()"
   ]
  },
  {
   "cell_type": "code",
   "execution_count": 90,
   "metadata": {
    "collapsed": false
   },
   "outputs": [],
   "source": [
    "cnv_info = pd.DataFrame([x.split('_')[1:] for x in cns.index], \n",
    "                        index=cns.index, columns=['chrom', 'start', 'end'])\n",
    "cnv_info['chrom'] = 'chr' + cnv_info.chrom\n",
    "cnv_info['start'] = cnv_info.start.astype(int)\n",
    "cnv_info['end'] = cnv_info.end.astype(int)\n",
    "cnv_info['length'] = cnv_info.end - cnv_info.start\n",
    "cnv_info['name'] = cnv_info.index\n",
    "res = cnv_bt.intersect(genes, sorted=True, wo=True)\n",
    "df = res.to_dataframe()\n",
    "gb = df.groupby('name')\n",
    "d = gb.groups\n",
    "for k in d.keys():\n",
    "    d[k] = list(df.ix[d[k], 'thickEnd'].values)\n",
    "se = pd.Series(d)\n",
    "cnv_info['gene_overlaps'] = np.nan\n",
    "cnv_info.ix[se.index, 'gene_overlaps'] = se.apply(lambda x: ','.join(x))\n",
    "tss_bt = pbt.BedTool('/publicdata/gencode_v19_20151104/tss_merged.bed')\n",
    "res = cnv_bt.closest(tss_bt, D='b')\n",
    "df = res.to_dataframe()\n",
    "cnv_info.ix[df.name, 'nearest_tss_dist'] = df.thickEnd.values\n",
    "cnv_info = cnv_info.join(report)\n",
    "mode = cns.mode(axis=1)[0]\n",
    "cnv_info['cn_mode'] = mode\n",
    "nvariant = [sum(cns.ix[i] != cnv_info.ix[i, 'cn_mode']) for i in cnv_info.index]\n",
    "cnv_info['diff_from_mode'] = nvariant\n",
    "cnv_info['percent_diff_from_mode'] = cnv_info.diff_from_mode / cns.shape[1]\n",
    "t = cns[rna_meta.ix[rna_meta.in_unrelateds, 'wgs_id']]\n",
    "nvariant = [sum(t.ix[i] != cnv_info.ix[i, 'cn_mode']) for i in cnv_info.index]\n",
    "cnv_info['unrelated_diff_from_mode'] = nvariant\n",
    "cnv_info['unrelated_percent_diff_from_mode'] = cnv_info.unrelated_diff_from_mode / rna_meta.in_unrelateds.sum()\n",
    "rna_meta_eqtl = rna_meta[rna_meta.in_eqtl]\n",
    "vc = rna_meta_eqtl.family_id.value_counts()\n",
    "vc = vc[vc > 4]\n",
    "for x in vc.index:\n",
    "    t = cns[rna_meta_eqtl.ix[rna_meta_eqtl.family_id == x, 'wgs_id']]\n",
    "    pvariant = [sum(t.ix[i] != cnv_info.ix[i, 'cn_mode']) for i in cnv_info.index]\n",
    "    cnv_info['{}_{}_diff_from_mode'.format(x, vc[x])] = np.array(pvariant)\n",
    "    cnv_info['{}_{}_percent_diff_from_mode'.format(x, vc[x])] = np.array(pvariant) / float(vc[x])\n",
    "family_cols = ['{}_{}_percent_diff_from_mode'.format(x, vc[x]) for x in vc.index]\n",
    "cnv_info.to_csv(os.path.join(outdir, 'cnv_info.tsv'), sep='\\t')"
   ]
  },
  {
   "cell_type": "code",
   "execution_count": 91,
   "metadata": {
    "collapsed": false
   },
   "outputs": [
    {
     "data": {
      "text/html": [
       "<div>\n",
       "<table border=\"1\" class=\"dataframe\">\n",
       "  <thead>\n",
       "    <tr style=\"text-align: right;\">\n",
       "      <th></th>\n",
       "      <th>CNV_1_55176_56686</th>\n",
       "      <th>CNV_1_85392_86406</th>\n",
       "      <th>CNV_1_86407_91299</th>\n",
       "      <th>CNV_1_562952_567683</th>\n",
       "      <th>CNV_1_565576_567883</th>\n",
       "    </tr>\n",
       "  </thead>\n",
       "  <tbody>\n",
       "    <tr>\n",
       "      <th>chrom</th>\n",
       "      <td>chr1</td>\n",
       "      <td>chr1</td>\n",
       "      <td>chr1</td>\n",
       "      <td>chr1</td>\n",
       "      <td>chr1</td>\n",
       "    </tr>\n",
       "    <tr>\n",
       "      <th>start</th>\n",
       "      <td>55176</td>\n",
       "      <td>85392</td>\n",
       "      <td>86407</td>\n",
       "      <td>562952</td>\n",
       "      <td>565576</td>\n",
       "    </tr>\n",
       "    <tr>\n",
       "      <th>end</th>\n",
       "      <td>56686</td>\n",
       "      <td>86406</td>\n",
       "      <td>91299</td>\n",
       "      <td>567683</td>\n",
       "      <td>567883</td>\n",
       "    </tr>\n",
       "    <tr>\n",
       "      <th>length</th>\n",
       "      <td>1510</td>\n",
       "      <td>1014</td>\n",
       "      <td>4892</td>\n",
       "      <td>4731</td>\n",
       "      <td>2307</td>\n",
       "    </tr>\n",
       "    <tr>\n",
       "      <th>name</th>\n",
       "      <td>CNV_1_55176_56686</td>\n",
       "      <td>CNV_1_85392_86406</td>\n",
       "      <td>CNV_1_86407_91299</td>\n",
       "      <td>CNV_1_562952_567683</td>\n",
       "      <td>CNV_1_565576_567883</td>\n",
       "    </tr>\n",
       "    <tr>\n",
       "      <th>gene_overlaps</th>\n",
       "      <td>NaN</td>\n",
       "      <td>NaN</td>\n",
       "      <td>ENSG00000238009.2,ENSG00000239945.1</td>\n",
       "      <td>ENSG00000230021.3,ENSG00000223659.1,ENSG000002...</td>\n",
       "      <td>ENSG00000230021.3,ENSG00000225630.1,ENSG000002...</td>\n",
       "    </tr>\n",
       "    <tr>\n",
       "      <th>nearest_tss_dist</th>\n",
       "      <td>-2128</td>\n",
       "      <td>4699</td>\n",
       "      <td>0</td>\n",
       "      <td>0</td>\n",
       "      <td>0</td>\n",
       "    </tr>\n",
       "    <tr>\n",
       "      <th>CALLRATE</th>\n",
       "      <td>0.96</td>\n",
       "      <td>0.942</td>\n",
       "      <td>1</td>\n",
       "      <td>0.901</td>\n",
       "      <td>0.934</td>\n",
       "    </tr>\n",
       "    <tr>\n",
       "      <th>CNMIN</th>\n",
       "      <td>0</td>\n",
       "      <td>0</td>\n",
       "      <td>0</td>\n",
       "      <td>0</td>\n",
       "      <td>0</td>\n",
       "    </tr>\n",
       "    <tr>\n",
       "      <th>CNMAX</th>\n",
       "      <td>5</td>\n",
       "      <td>5</td>\n",
       "      <td>4</td>\n",
       "      <td>18</td>\n",
       "      <td>20</td>\n",
       "    </tr>\n",
       "    <tr>\n",
       "      <th>CNALLELES</th>\n",
       "      <td>4</td>\n",
       "      <td>4</td>\n",
       "      <td>3</td>\n",
       "      <td>10</td>\n",
       "      <td>11</td>\n",
       "    </tr>\n",
       "    <tr>\n",
       "      <th>NNONREF</th>\n",
       "      <td>202</td>\n",
       "      <td>184</td>\n",
       "      <td>211</td>\n",
       "      <td>131</td>\n",
       "      <td>142</td>\n",
       "    </tr>\n",
       "    <tr>\n",
       "      <th>NVARIANT</th>\n",
       "      <td>147</td>\n",
       "      <td>171</td>\n",
       "      <td>158</td>\n",
       "      <td>131</td>\n",
       "      <td>142</td>\n",
       "    </tr>\n",
       "    <tr>\n",
       "      <th>CNCATEGORY</th>\n",
       "      <td>MIXED</td>\n",
       "      <td>MIXED</td>\n",
       "      <td>MIXED</td>\n",
       "      <td>MIXED</td>\n",
       "      <td>MIXED</td>\n",
       "    </tr>\n",
       "    <tr>\n",
       "      <th>CNDIST</th>\n",
       "      <td>63,116,61,17,4,2</td>\n",
       "      <td>57,87,74,24,15,1</td>\n",
       "      <td>64,116,63,24,7</td>\n",
       "      <td>9,63,116,46,8,3,0,0,0,0,0,0,0,1,0,0,0,0,1</td>\n",
       "      <td>10,65,114,47,14,0,1,0,3,0,0,0,0,0,0,0,0,0,1,0,1</td>\n",
       "    </tr>\n",
       "    <tr>\n",
       "      <th>cn_mode</th>\n",
       "      <td>1</td>\n",
       "      <td>1</td>\n",
       "      <td>1</td>\n",
       "      <td>2</td>\n",
       "      <td>2</td>\n",
       "    </tr>\n",
       "    <tr>\n",
       "      <th>diff_from_mode</th>\n",
       "      <td>157</td>\n",
       "      <td>186</td>\n",
       "      <td>158</td>\n",
       "      <td>154</td>\n",
       "      <td>157</td>\n",
       "    </tr>\n",
       "    <tr>\n",
       "      <th>percent_diff_from_mode</th>\n",
       "      <td>0.572993</td>\n",
       "      <td>0.678832</td>\n",
       "      <td>0.576642</td>\n",
       "      <td>0.562044</td>\n",
       "      <td>0.572993</td>\n",
       "    </tr>\n",
       "    <tr>\n",
       "      <th>unrelated_diff_from_mode</th>\n",
       "      <td>68</td>\n",
       "      <td>80</td>\n",
       "      <td>67</td>\n",
       "      <td>76</td>\n",
       "      <td>76</td>\n",
       "    </tr>\n",
       "    <tr>\n",
       "      <th>unrelated_percent_diff_from_mode</th>\n",
       "      <td>0.576271</td>\n",
       "      <td>0.677966</td>\n",
       "      <td>0.567797</td>\n",
       "      <td>0.644068</td>\n",
       "      <td>0.644068</td>\n",
       "    </tr>\n",
       "    <tr>\n",
       "      <th>abb401f1-5c3e-48ed-8c55-839ce2afe7e6_14_diff_from_mode</th>\n",
       "      <td>7</td>\n",
       "      <td>8</td>\n",
       "      <td>7</td>\n",
       "      <td>13</td>\n",
       "      <td>13</td>\n",
       "    </tr>\n",
       "    <tr>\n",
       "      <th>abb401f1-5c3e-48ed-8c55-839ce2afe7e6_14_percent_diff_from_mode</th>\n",
       "      <td>0.5</td>\n",
       "      <td>0.571429</td>\n",
       "      <td>0.5</td>\n",
       "      <td>0.928571</td>\n",
       "      <td>0.928571</td>\n",
       "    </tr>\n",
       "    <tr>\n",
       "      <th>84fda65d-9a06-4bbe-ad75-a24773724c32_11_diff_from_mode</th>\n",
       "      <td>3</td>\n",
       "      <td>5</td>\n",
       "      <td>3</td>\n",
       "      <td>5</td>\n",
       "      <td>5</td>\n",
       "    </tr>\n",
       "    <tr>\n",
       "      <th>84fda65d-9a06-4bbe-ad75-a24773724c32_11_percent_diff_from_mode</th>\n",
       "      <td>0.272727</td>\n",
       "      <td>0.454545</td>\n",
       "      <td>0.272727</td>\n",
       "      <td>0.454545</td>\n",
       "      <td>0.454545</td>\n",
       "    </tr>\n",
       "    <tr>\n",
       "      <th>a56f620d-82e4-4963-a80b-b97c091c4b06_9_diff_from_mode</th>\n",
       "      <td>4</td>\n",
       "      <td>5</td>\n",
       "      <td>5</td>\n",
       "      <td>2</td>\n",
       "      <td>2</td>\n",
       "    </tr>\n",
       "    <tr>\n",
       "      <th>a56f620d-82e4-4963-a80b-b97c091c4b06_9_percent_diff_from_mode</th>\n",
       "      <td>0.444444</td>\n",
       "      <td>0.555556</td>\n",
       "      <td>0.555556</td>\n",
       "      <td>0.222222</td>\n",
       "      <td>0.222222</td>\n",
       "    </tr>\n",
       "    <tr>\n",
       "      <th>319aca18-4ca4-444d-80ca-3c0065169793_5_diff_from_mode</th>\n",
       "      <td>5</td>\n",
       "      <td>5</td>\n",
       "      <td>5</td>\n",
       "      <td>4</td>\n",
       "      <td>4</td>\n",
       "    </tr>\n",
       "    <tr>\n",
       "      <th>319aca18-4ca4-444d-80ca-3c0065169793_5_percent_diff_from_mode</th>\n",
       "      <td>1</td>\n",
       "      <td>1</td>\n",
       "      <td>1</td>\n",
       "      <td>0.8</td>\n",
       "      <td>0.8</td>\n",
       "    </tr>\n",
       "    <tr>\n",
       "      <th>cec0061a-f86c-4d8f-979f-3c6edce2d905_5_diff_from_mode</th>\n",
       "      <td>2</td>\n",
       "      <td>3</td>\n",
       "      <td>2</td>\n",
       "      <td>1</td>\n",
       "      <td>1</td>\n",
       "    </tr>\n",
       "    <tr>\n",
       "      <th>cec0061a-f86c-4d8f-979f-3c6edce2d905_5_percent_diff_from_mode</th>\n",
       "      <td>0.4</td>\n",
       "      <td>0.6</td>\n",
       "      <td>0.4</td>\n",
       "      <td>0.2</td>\n",
       "      <td>0.2</td>\n",
       "    </tr>\n",
       "    <tr>\n",
       "      <th>0a78a1f4-540f-4f63-acd1-197228abad11_5_diff_from_mode</th>\n",
       "      <td>2</td>\n",
       "      <td>2</td>\n",
       "      <td>2</td>\n",
       "      <td>1</td>\n",
       "      <td>1</td>\n",
       "    </tr>\n",
       "    <tr>\n",
       "      <th>0a78a1f4-540f-4f63-acd1-197228abad11_5_percent_diff_from_mode</th>\n",
       "      <td>0.4</td>\n",
       "      <td>0.4</td>\n",
       "      <td>0.4</td>\n",
       "      <td>0.2</td>\n",
       "      <td>0.2</td>\n",
       "    </tr>\n",
       "    <tr>\n",
       "      <th>24bb1db3-75fb-4c66-9ccd-8e98dc3fadf1_5_diff_from_mode</th>\n",
       "      <td>2</td>\n",
       "      <td>2</td>\n",
       "      <td>2</td>\n",
       "      <td>3</td>\n",
       "      <td>3</td>\n",
       "    </tr>\n",
       "    <tr>\n",
       "      <th>24bb1db3-75fb-4c66-9ccd-8e98dc3fadf1_5_percent_diff_from_mode</th>\n",
       "      <td>0.4</td>\n",
       "      <td>0.4</td>\n",
       "      <td>0.4</td>\n",
       "      <td>0.6</td>\n",
       "      <td>0.6</td>\n",
       "    </tr>\n",
       "  </tbody>\n",
       "</table>\n",
       "</div>"
      ],
      "text/plain": [
       "                                                    CNV_1_55176_56686  \\\n",
       "chrom                                                            chr1   \n",
       "start                                                           55176   \n",
       "end                                                             56686   \n",
       "length                                                           1510   \n",
       "name                                                CNV_1_55176_56686   \n",
       "gene_overlaps                                                     NaN   \n",
       "nearest_tss_dist                                                -2128   \n",
       "CALLRATE                                                         0.96   \n",
       "CNMIN                                                               0   \n",
       "CNMAX                                                               5   \n",
       "CNALLELES                                                           4   \n",
       "NNONREF                                                           202   \n",
       "NVARIANT                                                          147   \n",
       "CNCATEGORY                                                      MIXED   \n",
       "CNDIST                                               63,116,61,17,4,2   \n",
       "cn_mode                                                             1   \n",
       "diff_from_mode                                                    157   \n",
       "percent_diff_from_mode                                       0.572993   \n",
       "unrelated_diff_from_mode                                           68   \n",
       "unrelated_percent_diff_from_mode                             0.576271   \n",
       "abb401f1-5c3e-48ed-8c55-839ce2afe7e6_14_diff_fr...                  7   \n",
       "abb401f1-5c3e-48ed-8c55-839ce2afe7e6_14_percent...                0.5   \n",
       "84fda65d-9a06-4bbe-ad75-a24773724c32_11_diff_fr...                  3   \n",
       "84fda65d-9a06-4bbe-ad75-a24773724c32_11_percent...           0.272727   \n",
       "a56f620d-82e4-4963-a80b-b97c091c4b06_9_diff_fro...                  4   \n",
       "a56f620d-82e4-4963-a80b-b97c091c4b06_9_percent_...           0.444444   \n",
       "319aca18-4ca4-444d-80ca-3c0065169793_5_diff_fro...                  5   \n",
       "319aca18-4ca4-444d-80ca-3c0065169793_5_percent_...                  1   \n",
       "cec0061a-f86c-4d8f-979f-3c6edce2d905_5_diff_fro...                  2   \n",
       "cec0061a-f86c-4d8f-979f-3c6edce2d905_5_percent_...                0.4   \n",
       "0a78a1f4-540f-4f63-acd1-197228abad11_5_diff_fro...                  2   \n",
       "0a78a1f4-540f-4f63-acd1-197228abad11_5_percent_...                0.4   \n",
       "24bb1db3-75fb-4c66-9ccd-8e98dc3fadf1_5_diff_fro...                  2   \n",
       "24bb1db3-75fb-4c66-9ccd-8e98dc3fadf1_5_percent_...                0.4   \n",
       "\n",
       "                                                    CNV_1_85392_86406  \\\n",
       "chrom                                                            chr1   \n",
       "start                                                           85392   \n",
       "end                                                             86406   \n",
       "length                                                           1014   \n",
       "name                                                CNV_1_85392_86406   \n",
       "gene_overlaps                                                     NaN   \n",
       "nearest_tss_dist                                                 4699   \n",
       "CALLRATE                                                        0.942   \n",
       "CNMIN                                                               0   \n",
       "CNMAX                                                               5   \n",
       "CNALLELES                                                           4   \n",
       "NNONREF                                                           184   \n",
       "NVARIANT                                                          171   \n",
       "CNCATEGORY                                                      MIXED   \n",
       "CNDIST                                               57,87,74,24,15,1   \n",
       "cn_mode                                                             1   \n",
       "diff_from_mode                                                    186   \n",
       "percent_diff_from_mode                                       0.678832   \n",
       "unrelated_diff_from_mode                                           80   \n",
       "unrelated_percent_diff_from_mode                             0.677966   \n",
       "abb401f1-5c3e-48ed-8c55-839ce2afe7e6_14_diff_fr...                  8   \n",
       "abb401f1-5c3e-48ed-8c55-839ce2afe7e6_14_percent...           0.571429   \n",
       "84fda65d-9a06-4bbe-ad75-a24773724c32_11_diff_fr...                  5   \n",
       "84fda65d-9a06-4bbe-ad75-a24773724c32_11_percent...           0.454545   \n",
       "a56f620d-82e4-4963-a80b-b97c091c4b06_9_diff_fro...                  5   \n",
       "a56f620d-82e4-4963-a80b-b97c091c4b06_9_percent_...           0.555556   \n",
       "319aca18-4ca4-444d-80ca-3c0065169793_5_diff_fro...                  5   \n",
       "319aca18-4ca4-444d-80ca-3c0065169793_5_percent_...                  1   \n",
       "cec0061a-f86c-4d8f-979f-3c6edce2d905_5_diff_fro...                  3   \n",
       "cec0061a-f86c-4d8f-979f-3c6edce2d905_5_percent_...                0.6   \n",
       "0a78a1f4-540f-4f63-acd1-197228abad11_5_diff_fro...                  2   \n",
       "0a78a1f4-540f-4f63-acd1-197228abad11_5_percent_...                0.4   \n",
       "24bb1db3-75fb-4c66-9ccd-8e98dc3fadf1_5_diff_fro...                  2   \n",
       "24bb1db3-75fb-4c66-9ccd-8e98dc3fadf1_5_percent_...                0.4   \n",
       "\n",
       "                                                                      CNV_1_86407_91299  \\\n",
       "chrom                                                                              chr1   \n",
       "start                                                                             86407   \n",
       "end                                                                               91299   \n",
       "length                                                                             4892   \n",
       "name                                                                  CNV_1_86407_91299   \n",
       "gene_overlaps                                       ENSG00000238009.2,ENSG00000239945.1   \n",
       "nearest_tss_dist                                                                      0   \n",
       "CALLRATE                                                                              1   \n",
       "CNMIN                                                                                 0   \n",
       "CNMAX                                                                                 4   \n",
       "CNALLELES                                                                             3   \n",
       "NNONREF                                                                             211   \n",
       "NVARIANT                                                                            158   \n",
       "CNCATEGORY                                                                        MIXED   \n",
       "CNDIST                                                                   64,116,63,24,7   \n",
       "cn_mode                                                                               1   \n",
       "diff_from_mode                                                                      158   \n",
       "percent_diff_from_mode                                                         0.576642   \n",
       "unrelated_diff_from_mode                                                             67   \n",
       "unrelated_percent_diff_from_mode                                               0.567797   \n",
       "abb401f1-5c3e-48ed-8c55-839ce2afe7e6_14_diff_fr...                                    7   \n",
       "abb401f1-5c3e-48ed-8c55-839ce2afe7e6_14_percent...                                  0.5   \n",
       "84fda65d-9a06-4bbe-ad75-a24773724c32_11_diff_fr...                                    3   \n",
       "84fda65d-9a06-4bbe-ad75-a24773724c32_11_percent...                             0.272727   \n",
       "a56f620d-82e4-4963-a80b-b97c091c4b06_9_diff_fro...                                    5   \n",
       "a56f620d-82e4-4963-a80b-b97c091c4b06_9_percent_...                             0.555556   \n",
       "319aca18-4ca4-444d-80ca-3c0065169793_5_diff_fro...                                    5   \n",
       "319aca18-4ca4-444d-80ca-3c0065169793_5_percent_...                                    1   \n",
       "cec0061a-f86c-4d8f-979f-3c6edce2d905_5_diff_fro...                                    2   \n",
       "cec0061a-f86c-4d8f-979f-3c6edce2d905_5_percent_...                                  0.4   \n",
       "0a78a1f4-540f-4f63-acd1-197228abad11_5_diff_fro...                                    2   \n",
       "0a78a1f4-540f-4f63-acd1-197228abad11_5_percent_...                                  0.4   \n",
       "24bb1db3-75fb-4c66-9ccd-8e98dc3fadf1_5_diff_fro...                                    2   \n",
       "24bb1db3-75fb-4c66-9ccd-8e98dc3fadf1_5_percent_...                                  0.4   \n",
       "\n",
       "                                                                                  CNV_1_562952_567683  \\\n",
       "chrom                                                                                            chr1   \n",
       "start                                                                                          562952   \n",
       "end                                                                                            567683   \n",
       "length                                                                                           4731   \n",
       "name                                                                              CNV_1_562952_567683   \n",
       "gene_overlaps                                       ENSG00000230021.3,ENSG00000223659.1,ENSG000002...   \n",
       "nearest_tss_dist                                                                                    0   \n",
       "CALLRATE                                                                                        0.901   \n",
       "CNMIN                                                                                               0   \n",
       "CNMAX                                                                                              18   \n",
       "CNALLELES                                                                                          10   \n",
       "NNONREF                                                                                           131   \n",
       "NVARIANT                                                                                          131   \n",
       "CNCATEGORY                                                                                      MIXED   \n",
       "CNDIST                                                      9,63,116,46,8,3,0,0,0,0,0,0,0,1,0,0,0,0,1   \n",
       "cn_mode                                                                                             2   \n",
       "diff_from_mode                                                                                    154   \n",
       "percent_diff_from_mode                                                                       0.562044   \n",
       "unrelated_diff_from_mode                                                                           76   \n",
       "unrelated_percent_diff_from_mode                                                             0.644068   \n",
       "abb401f1-5c3e-48ed-8c55-839ce2afe7e6_14_diff_fr...                                                 13   \n",
       "abb401f1-5c3e-48ed-8c55-839ce2afe7e6_14_percent...                                           0.928571   \n",
       "84fda65d-9a06-4bbe-ad75-a24773724c32_11_diff_fr...                                                  5   \n",
       "84fda65d-9a06-4bbe-ad75-a24773724c32_11_percent...                                           0.454545   \n",
       "a56f620d-82e4-4963-a80b-b97c091c4b06_9_diff_fro...                                                  2   \n",
       "a56f620d-82e4-4963-a80b-b97c091c4b06_9_percent_...                                           0.222222   \n",
       "319aca18-4ca4-444d-80ca-3c0065169793_5_diff_fro...                                                  4   \n",
       "319aca18-4ca4-444d-80ca-3c0065169793_5_percent_...                                                0.8   \n",
       "cec0061a-f86c-4d8f-979f-3c6edce2d905_5_diff_fro...                                                  1   \n",
       "cec0061a-f86c-4d8f-979f-3c6edce2d905_5_percent_...                                                0.2   \n",
       "0a78a1f4-540f-4f63-acd1-197228abad11_5_diff_fro...                                                  1   \n",
       "0a78a1f4-540f-4f63-acd1-197228abad11_5_percent_...                                                0.2   \n",
       "24bb1db3-75fb-4c66-9ccd-8e98dc3fadf1_5_diff_fro...                                                  3   \n",
       "24bb1db3-75fb-4c66-9ccd-8e98dc3fadf1_5_percent_...                                                0.6   \n",
       "\n",
       "                                                                                  CNV_1_565576_567883  \n",
       "chrom                                                                                            chr1  \n",
       "start                                                                                          565576  \n",
       "end                                                                                            567883  \n",
       "length                                                                                           2307  \n",
       "name                                                                              CNV_1_565576_567883  \n",
       "gene_overlaps                                       ENSG00000230021.3,ENSG00000225630.1,ENSG000002...  \n",
       "nearest_tss_dist                                                                                    0  \n",
       "CALLRATE                                                                                        0.934  \n",
       "CNMIN                                                                                               0  \n",
       "CNMAX                                                                                              20  \n",
       "CNALLELES                                                                                          11  \n",
       "NNONREF                                                                                           142  \n",
       "NVARIANT                                                                                          142  \n",
       "CNCATEGORY                                                                                      MIXED  \n",
       "CNDIST                                                10,65,114,47,14,0,1,0,3,0,0,0,0,0,0,0,0,0,1,0,1  \n",
       "cn_mode                                                                                             2  \n",
       "diff_from_mode                                                                                    157  \n",
       "percent_diff_from_mode                                                                       0.572993  \n",
       "unrelated_diff_from_mode                                                                           76  \n",
       "unrelated_percent_diff_from_mode                                                             0.644068  \n",
       "abb401f1-5c3e-48ed-8c55-839ce2afe7e6_14_diff_fr...                                                 13  \n",
       "abb401f1-5c3e-48ed-8c55-839ce2afe7e6_14_percent...                                           0.928571  \n",
       "84fda65d-9a06-4bbe-ad75-a24773724c32_11_diff_fr...                                                  5  \n",
       "84fda65d-9a06-4bbe-ad75-a24773724c32_11_percent...                                           0.454545  \n",
       "a56f620d-82e4-4963-a80b-b97c091c4b06_9_diff_fro...                                                  2  \n",
       "a56f620d-82e4-4963-a80b-b97c091c4b06_9_percent_...                                           0.222222  \n",
       "319aca18-4ca4-444d-80ca-3c0065169793_5_diff_fro...                                                  4  \n",
       "319aca18-4ca4-444d-80ca-3c0065169793_5_percent_...                                                0.8  \n",
       "cec0061a-f86c-4d8f-979f-3c6edce2d905_5_diff_fro...                                                  1  \n",
       "cec0061a-f86c-4d8f-979f-3c6edce2d905_5_percent_...                                                0.2  \n",
       "0a78a1f4-540f-4f63-acd1-197228abad11_5_diff_fro...                                                  1  \n",
       "0a78a1f4-540f-4f63-acd1-197228abad11_5_percent_...                                                0.2  \n",
       "24bb1db3-75fb-4c66-9ccd-8e98dc3fadf1_5_diff_fro...                                                  3  \n",
       "24bb1db3-75fb-4c66-9ccd-8e98dc3fadf1_5_percent_...                                                0.6  "
      ]
     },
     "execution_count": 91,
     "metadata": {},
     "output_type": "execute_result"
    }
   ],
   "source": [
    "cnv_info.head().T"
   ]
  },
  {
   "cell_type": "code",
   "execution_count": 78,
   "metadata": {
    "collapsed": false
   },
   "outputs": [
    {
     "data": {
      "text/plain": [
       "<matplotlib.axes._subplots.AxesSubplot at 0x7f07981b1c10>"
      ]
     },
     "execution_count": 78,
     "metadata": {},
     "output_type": "execute_result"
    },
    {
     "data": {
      "image/png": "[encoded data removed]",
      "text/plain": [
       "<matplotlib.figure.Figure at 0x7f07981b1710>"
      ]
     },
     "metadata": {},
     "output_type": "display_data"
    }
   ],
   "source": [
    "cnv_info.unrelated_diff_from_mode.hist(bins=range(118))"
   ]
  },
  {
   "cell_type": "raw",
   "metadata": {},
   "source": [
    "cnv_info[family_cols[0]] - cnv_info.unrelated_percent_diff_from_mode"
   ]
  },
  {
   "cell_type": "code",
   "execution_count": 308,
   "metadata": {
    "collapsed": false
   },
   "outputs": [
    {
     "data": {
      "text/plain": [
       "<matplotlib.collections.PathCollection at 0x7f395189f150>"
      ]
     },
     "execution_count": 308,
     "metadata": {},
     "output_type": "execute_result"
    },
    {
     "data": {
      "image/png": "[encoded data removed]",
      "text/plain": [
       "<matplotlib.figure.Figure at 0x7f3951914390>"
      ]
     },
     "metadata": {},
     "output_type": "display_data"
    }
   ],
   "source": [
    "plt.scatter(cnv_info.unrelated_percent_diff_from_mode, cnv_info[family_cols[0]])"
   ]
  },
  {
   "cell_type": "code",
   "execution_count": null,
   "metadata": {
    "collapsed": true
   },
   "outputs": [],
   "source": []
  },
  {
   "cell_type": "code",
   "execution_count": 277,
   "metadata": {
    "collapsed": false
   },
   "outputs": [
    {
     "data": {
      "text/plain": [
       "<matplotlib.collections.PathCollection at 0x7f3951a6aed0>"
      ]
     },
     "execution_count": 277,
     "metadata": {},
     "output_type": "execute_result"
    },
    {
     "data": {
      "image/png": "[encoded data removed]",
      "text/plain": [
       "<matplotlib.figure.Figure at 0x7f3952700710>"
      ]
     },
     "metadata": {},
     "output_type": "display_data"
    }
   ],
   "source": [
    "p1 = cnv_info.diff_from_mode / cns.shape[1]\n",
    "p2 = cnv_info.unrelated_diff_from_mode / rna_meta.in_unrelateds.sum()\n",
    "diff = p1 - p2\n",
    "diff.sort_values(inplace=True)\n",
    "plt.scatter(p1, p2)"
   ]
  },
  {
   "cell_type": "code",
   "execution_count": 282,
   "metadata": {
    "collapsed": false
   },
   "outputs": [
    {
     "data": {
      "text/plain": [
       "CNV_1_565853_567683         -0.106396\n",
       "CNV_19_55246790_55248087    -0.105097\n",
       "CNV_1_149240401_149245571   -0.103241\n",
       "CNV_8_131850793_131852692   -0.098416\n",
       "CNV_9_36362952_36364076     -0.091798\n",
       "dtype: float64"
      ]
     },
     "execution_count": 282,
     "metadata": {},
     "output_type": "execute_result"
    }
   ],
   "source": [
    "diff.head()"
   ]
  },
  {
   "cell_type": "code",
   "execution_count": 283,
   "metadata": {
    "collapsed": false
   },
   "outputs": [
    {
     "data": {
      "text/plain": [
       "CNV_19_55260924_55265523     0.118768\n",
       "CNV_19_55245253_55246951     0.119943\n",
       "CNV_2_118408441_118412348    0.121304\n",
       "CNV_19_55283794_55288263     0.122417\n",
       "CNV_19_55288966_55291862     0.122417\n",
       "dtype: float64"
      ]
     },
     "execution_count": 283,
     "metadata": {},
     "output_type": "execute_result"
    }
   ],
   "source": [
    "diff.tail()"
   ]
  },
  {
   "cell_type": "code",
   "execution_count": null,
   "metadata": {
    "collapsed": true
   },
   "outputs": [],
   "source": []
  },
  {
   "cell_type": "code",
   "execution_count": 268,
   "metadata": {
    "collapsed": false
   },
   "outputs": [
    {
     "data": {
      "text/plain": [
       "2     13216\n",
       "1       404\n",
       "4       274\n",
       "0       220\n",
       "3       180\n",
       "6        94\n",
       "5        59\n",
       "8        23\n",
       "12       15\n",
       "7         9\n",
       "13        3\n",
       "10        2\n",
       "9         1\n",
       "Name: cn_mode, dtype: int64"
      ]
     },
     "execution_count": 268,
     "metadata": {},
     "output_type": "execute_result"
    }
   ],
   "source": [
    "cnv_info.cn_mode.value_counts()"
   ]
  },
  {
   "cell_type": "code",
   "execution_count": 27,
   "metadata": {
    "collapsed": true
   },
   "outputs": [],
   "source": [
    "cnv_info.length.hist?"
   ]
  },
  {
   "cell_type": "code",
   "execution_count": 28,
   "metadata": {
    "collapsed": true
   },
   "outputs": [],
   "source": [
    "?plt.hist"
   ]
  },
  {
   "cell_type": "code",
   "execution_count": 26,
   "metadata": {
    "collapsed": false
   },
   "outputs": [
    {
     "data": {
      "image/png": "[encoded data removed]",
      "text/plain": [
       "<matplotlib.figure.Figure at 0x7f07974c3c10>"
      ]
     },
     "metadata": {},
     "output_type": "display_data"
    }
   ],
   "source": [
    "cnv_info.length.hist(log=True, )\n",
    "plt.ylabel('$\\log_{10}$ number of CNVs')\n",
    "plt.xlabel('CNV length');"
   ]
  },
  {
   "cell_type": "code",
   "execution_count": 7,
   "metadata": {
    "collapsed": false
   },
   "outputs": [],
   "source": []
  },
  {
   "cell_type": "code",
   "execution_count": 8,
   "metadata": {
    "collapsed": false
   },
   "outputs": [
    {
     "data": {
      "image/png": "[encoded data removed]",
      "text/plain": [
       "<matplotlib.figure.Figure at 0x7f39a54e1710>"
      ]
     },
     "metadata": {},
     "output_type": "display_data"
    }
   ],
   "source": [
    "cnv_info.length.hist(log=True)\n",
    "plt.ylabel('$\\log_{10}$ number of CNVs')\n",
    "plt.xlabel('CNV length');"
   ]
  },
  {
   "cell_type": "raw",
   "metadata": {
    "collapsed": true
   },
   "source": [
    "sns.set_context('talk', font_scale=1.5)"
   ]
  },
  {
   "cell_type": "code",
   "execution_count": 9,
   "metadata": {
    "collapsed": false
   },
   "outputs": [
    {
     "data": {
      "image/png": "[encoded data removed]",
      "text/plain": [
       "<matplotlib.figure.Figure at 0x7f39c2648dd0>"
      ]
     },
     "metadata": {},
     "output_type": "display_data"
    }
   ],
   "source": [
    "(np.log10(cnv_info.length)).hist()\n",
    "plt.ylabel('Number of CNVs')\n",
    "plt.xlabel('$\\log_{10}$ CNV length');"
   ]
  },
  {
   "cell_type": "code",
   "execution_count": 10,
   "metadata": {
    "collapsed": false
   },
   "outputs": [
    {
     "data": {
      "text/plain": [
       "count     14500.000000\n",
       "mean       6615.005931\n",
       "std       10552.781125\n",
       "min         999.000000\n",
       "25%        1660.000000\n",
       "50%        3049.000000\n",
       "75%        6574.250000\n",
       "max      208946.000000\n",
       "Name: length, dtype: float64"
      ]
     },
     "execution_count": 10,
     "metadata": {},
     "output_type": "execute_result"
    }
   ],
   "source": [
    "cnv_info.length.describe()"
   ]
  },
  {
   "cell_type": "code",
   "execution_count": 11,
   "metadata": {
    "collapsed": false
   },
   "outputs": [
    {
     "name": "stdout",
     "output_type": "stream",
     "text": [
      "32.7% of CNVs are less than 2,000 bp\n",
      "67.2% of CNVs are less than 5,000 bp\n",
      "84.1% of CNVs are less than 10,000 bp\n",
      "99.0% of CNVs are less than 50,000 bp\n",
      "99.9% of CNVs are less than 100,000 bp\n",
      "100.0% of CNVs are less than 200,000 bp\n"
     ]
    }
   ],
   "source": [
    "cutoffs = np.array([2, 5, 10, 50, 100, 200]) * 1000\n",
    "for c in cutoffs:\n",
    "    print('{:.1f}% of CNVs are less than {:,} bp'.format(\n",
    "            100 * sum(cnv_info.length < c) / float(cnv_info.shape[0]), c))"
   ]
  },
  {
   "cell_type": "markdown",
   "metadata": {},
   "source": [
    "### Functional annotations\n",
    "\n",
    "I'm going to annotate the CNVs with more info."
   ]
  },
  {
   "cell_type": "code",
   "execution_count": 20,
   "metadata": {
    "collapsed": false
   },
   "outputs": [
    {
     "name": "stdout",
     "output_type": "stream",
     "text": [
      "Cluster has 250 engines.\n"
     ]
    }
   ],
   "source": [
    "from ipyparallel import Client\n",
    "parallel_client = Client(profile='parallel')\n",
    "dview = parallel_client[:]\n",
    "print('Cluster has {} engines.'.format(len(parallel_client.ids)))"
   ]
  },
  {
   "cell_type": "code",
   "execution_count": 21,
   "metadata": {
    "collapsed": false
   },
   "outputs": [
    {
     "name": "stdout",
     "output_type": "stream",
     "text": [
      "importing cdpybio on engine(s)\n",
      "importing pandas on engine(s)\n",
      "importing pybedtools on engine(s)\n"
     ]
    }
   ],
   "source": [
    "with dview.sync_imports():\n",
    "    import cdpybio\n",
    "    import pandas\n",
    "    import pybedtools"
   ]
  },
  {
   "cell_type": "code",
   "execution_count": 22,
   "metadata": {
    "collapsed": true
   },
   "outputs": [],
   "source": [
    "%px cpb = cdpybio\n",
    "%px pd = pandas\n",
    "%px pbt = pybedtools"
   ]
  },
  {
   "cell_type": "code",
   "execution_count": 23,
   "metadata": {
    "collapsed": true
   },
   "outputs": [],
   "source": [
    "def cnv_counts(url, name):\n",
    "    bt = pbt.BedTool(cpb.general.read_gzipped_text_url(url), from_string=True)\n",
    "    bt = bt.sort()\n",
    "    res = cnv_bt.intersect(bt, sorted=True, wo=True)\n",
    "    r = res[0]\n",
    "    df = res.to_dataframe(names=range(len(res[0].fields)))\n",
    "    vc = df[3].value_counts()\n",
    "    counts = pd.DataFrame(0, columns=[name], index=cnv_info.index)\n",
    "    counts.ix[vc.index, name] = vc\n",
    "    return counts"
   ]
  },
  {
   "cell_type": "code",
   "execution_count": 24,
   "metadata": {
    "collapsed": true
   },
   "outputs": [],
   "source": [
    "dview.push(dict(cnv_bt=cnv_bt, cnv_info=cnv_info, \n",
    "                cnv_counts=cnv_counts));"
   ]
  },
  {
   "cell_type": "markdown",
   "metadata": {},
   "source": [
    "#### Roadmap DNase and ChIP-seq"
   ]
  },
  {
   "cell_type": "code",
   "execution_count": 25,
   "metadata": {
    "collapsed": false
   },
   "outputs": [],
   "source": [
    "out = os.path.join(outdir, 'roadmap_overlap.tsv')\n",
    "if not os.path.exists(out):\n",
    "    url = ('http://egg2.wustl.edu/roadmap/data/byFileType'\n",
    "           '/peaks/consolidated/narrowPeak/')\n",
    "    website = urllib2.urlopen(url)\n",
    "    html = website.read()\n",
    "    files = re.findall('href=\"(.*\\.gz)\"', html)\n",
    "    lines = [x for x in roadmap_ids.index if ('ES' in roadmap_ids[x] and 'Cultured' not in roadmap_ids[x])]\n",
    "    lines += [x for x in roadmap_ids.index if 'iPS' in roadmap_ids[x]]\n",
    "    files = [x for x in files if x.split('-')[0] in lines]\n",
    "    files = [x for x in files if 'hotspot' not in x]\n",
    "\n",
    "    roadmap_peak_pvals = pd.DataFrame(\n",
    "        -1, index=lines, \n",
    "        columns=set([x.split('-')[1].split('.')[0] for x in files]))\n",
    "    roadmap_peak_oddsratios = pd.DataFrame(\n",
    "        0, index=lines, \n",
    "        columns=set([x.split('-')[1].split('.')[0] for x in files]))\n",
    "\n",
    "    urls = ['http://egg2.wustl.edu/roadmap/data/byFileType/peaks/consolidated/narrowPeak/{}'.format(n)\n",
    "            for n in files]\n",
    "    lines = [roadmap_ids[re.findall('E\\d{3}', url)[0]][0:-10].replace(' ', '_') for url in urls]\n",
    "    btype = [re.findall('-(.+)\\.', url)[0].split('.')[0] for url in urls]\n",
    "    names = ['{}_{}'.format(lines[i], btype[i]) for i in range(len(lines))]\n",
    "    todo = zip(urls, names)\n",
    "    counts = dview.map_sync(lambda x: cnv_counts(x[0], x[1]), todo)\n",
    "    roadmap_dnase_counts = pd.concat(counts, axis=1)\n",
    "    roadmap_dnase_counts.to_csv(out, sep='\\t')\n",
    "else:\n",
    "    roadmap_dnase_counts = pd.read_table(out, index_col=0)"
   ]
  },
  {
   "cell_type": "markdown",
   "metadata": {},
   "source": [
    "#### Roadmap chromatin state"
   ]
  },
  {
   "cell_type": "code",
   "execution_count": 199,
   "metadata": {
    "collapsed": false
   },
   "outputs": [],
   "source": [
    "lines = [x for x in roadmap_ids.index if 'iPS' in roadmap_ids[x]]\n",
    "for line in lines:\n",
    "    fn = ('/publicdata/roadmap_25_state_20151104/'\n",
    "          '{}_25_imputed12marks_mnemonics_sorted.bed'.format(line))\n",
    "    bt = pbt.BedTool(fn)\n",
    "    res = cnv_bt.intersect(bt, sorted=True, wo=True)\n",
    "    df = res.to_dataframe(names=range(len(res[0].fields)))\n",
    "    c = df.groupby([3, 7]).sum()[8]\n",
    "    c = c.sort_values(ascending=False)\n",
    "    t = c.unstack()\n",
    "    t[t.isnull()] = 0\n",
    "    name = roadmap_ids[line][:-10].replace(' ', '_')\n",
    "    t.to_csv(os.path.join(outdir, '{}_chromatin_state.tsv'.format(name)), sep='\\t')"
   ]
  },
  {
   "cell_type": "markdown",
   "metadata": {},
   "source": [
    "#### ENCODE DNase"
   ]
  },
  {
   "cell_type": "code",
   "execution_count": 198,
   "metadata": {
    "collapsed": true
   },
   "outputs": [],
   "source": [
    "out = os.path.join(outdir, 'encode_dnase_overlap.tsv')\n",
    "if not os.path.exists(out):\n",
    "    encode_dnase = pd.read_table(os.path.join(ciepy.root, 'output', \n",
    "                                              'functional_annotation_analysis', \n",
    "                                              'encode_dnase.tsv'), index_col=0)\n",
    "    encode_dnase = encode_dnase[encode_dnase.biosample_type == 'stem cell']\n",
    "    encode_dnase['name'] = encode_dnase.cell_type + '_' + 'DNase'\n",
    "    dview.push(dict(encode_dnase=encode_dnase));\n",
    "    counts = dview.map_sync(lambda i: cnv_counts(encode_dnase.ix[i, 'narrowPeak_url'], \n",
    "                                                 encode_dnase.ix[i, 'name']), \n",
    "                            encode_dnase.index)\n",
    "    encode_dnase_counts = pd.concat(counts, axis=1)\n",
    "    encode_dnase_counts.to_csv(out, sep='\\t')\n",
    "else:\n",
    "    encode_dnase_counts = pd.read_table(out, index_col=0)"
   ]
  },
  {
   "cell_type": "markdown",
   "metadata": {},
   "source": [
    "#### ENCODE ChIP-seq"
   ]
  },
  {
   "cell_type": "code",
   "execution_count": 200,
   "metadata": {
    "collapsed": true
   },
   "outputs": [],
   "source": [
    "out = os.path.join(outdir, 'encode_tf_chip_seq_overlap.tsv')\n",
    "if not os.path.exists(out):\n",
    "    encode_tf_chip_seq = pd.read_table(os.path.join(ciepy.root, 'output', \n",
    "                                                    'functional_annotation_analysis', \n",
    "                                                    'encode_stem_cell_chip_seq.tsv'), index_col=0)\n",
    "    encode_tf_chip_seq = encode_tf_chip_seq.drop_duplicates(subset='target')\n",
    "    encode_tf_chip_seq['name'] = encode_tf_chip_seq.cell_type + '-' + encode_tf_chip_seq.target\n",
    "    dview.push(dict(encode_tf_chip_seq=encode_tf_chip_seq));\n",
    "    counts = dview.map_sync(lambda i: cnv_counts(encode_tf_chip_seq.ix[i, 'narrowPeak_url'], \n",
    "                                                 encode_tf_chip_seq.ix[i, 'name']), \n",
    "                            encode_tf_chip_seq.index)\n",
    "    encode_tf_chip_seq_counts = pd.concat(counts, axis=1)\n",
    "    encode_tf_chip_seq_counts.to_csv(out, sep='\\t')\n",
    "else:\n",
    "    encode_tf_chip_seq_counts = pd.read_table(out, index_col=0)"
   ]
  },
  {
   "cell_type": "markdown",
   "metadata": {},
   "source": [
    "## EMMAX CNVs\n",
    "\n",
    "I want to find CNVs that I can include in the EMMAX association analysis. \n",
    "These will be CNVs that have at most three copy number states and have a\n",
    "minor allele frequency greater than 5%.\n",
    "\n",
    "I can also separately test mCNVs for an association with gene expression."
   ]
  },
  {
   "cell_type": "code",
   "execution_count": 204,
   "metadata": {
    "collapsed": false
   },
   "outputs": [],
   "source": [
    "cns_f = cns[rna_meta[rna_meta.in_eqtl].wgs_id]\n",
    "num_states = cns_f.apply(lambda x: len(set(x)), axis=1)\n",
    "cns_emmax = cns_f.ix[num_states[num_states.apply(lambda x: x in [2, 3])].index]"
   ]
  },
  {
   "cell_type": "code",
   "execution_count": 205,
   "metadata": {
    "collapsed": false
   },
   "outputs": [],
   "source": [
    "b = (cns_emmax.apply(lambda x: x.value_counts().max() < \n",
    "                     cns_emmax.shape[1] - np.floor(rna_meta.in_eqtl.sum() * 0.05), axis=1))\n",
    "cns_emmax = cns_emmax[b]"
   ]
  },
  {
   "cell_type": "code",
   "execution_count": 206,
   "metadata": {
    "collapsed": true
   },
   "outputs": [],
   "source": [
    "maj_af = cns_emmax.apply(lambda x: x.value_counts().max(), axis=1) / cns_emmax.shape[1]"
   ]
  },
  {
   "cell_type": "code",
   "execution_count": 207,
   "metadata": {
    "collapsed": false
   },
   "outputs": [],
   "source": [
    "t = cnv_info.ix[cns_emmax.index]\n",
    "s = '\\n'.join(t.chrom + '\\t' + t.start.astype(str) + '\\t' + t.end.astype(str) + \n",
    "              '\\t' + t.name) + '\\n'\n",
    "cns_emmax_bt = pbt.BedTool(s, from_string=True)\n",
    "cns_emmax_bt = cns_emmax_bt.sort()\n",
    "\n",
    "fn = os.path.join(ciepy.root, 'output', 'eqtl_input', 'variant_regions.bed')\n",
    "variant_regions = pbt.BedTool(fn)\n",
    "genes_todo = set(exp.index)\n",
    "\n",
    "res = cns_emmax_bt.intersect(variant_regions, sorted=True, wo=True)\n",
    "g = []\n",
    "for r in res:\n",
    "    g.append(r.fields[-3].split('_')[0])\n",
    "cnv_gene_vc = pd.Series(g).value_counts()\n",
    "cnv_gene_vc = cnv_gene_vc[set(cnv_gene_vc.index) & genes_todo]"
   ]
  },
  {
   "cell_type": "code",
   "execution_count": 208,
   "metadata": {
    "collapsed": false
   },
   "outputs": [
    {
     "data": {
      "image/png": "[encoded data removed]",
      "text/plain": [
       "<matplotlib.figure.Figure at 0x7f39b1088a10>"
      ]
     },
     "metadata": {},
     "output_type": "display_data"
    }
   ],
   "source": [
    "cnv_gene_vc.hist(bins=range(cnv_gene_vc.max()))\n",
    "plt.ylabel('Number of genes')\n",
    "plt.xlabel('Number of CNVs overlapping variant window');"
   ]
  },
  {
   "cell_type": "markdown",
   "metadata": {},
   "source": [
    "I think that I can collapse some mCNVs to be biallelic. For instance, the CNV\n",
    "below has one person with copy number 4, but if we exclude that person, we would\n",
    "only have three copy number states. The person who is four is likely just an error and\n",
    "should actually be 3, or at the least it wouldn't hurt to make them copy number 3 or \n",
    "just not include them in the analysis."
   ]
  },
  {
   "cell_type": "code",
   "execution_count": 209,
   "metadata": {
    "collapsed": false
   },
   "outputs": [
    {
     "data": {
      "text/plain": [
       "CALLRATE               0.989\n",
       "CNMIN                      1\n",
       "CNMAX                      4\n",
       "CNALLELES                  3\n",
       "NNONREF                  140\n",
       "NVARIANT                 140\n",
       "CNCATEGORY             MIXED\n",
       "CNDIST        0,109,131,30,1\n",
       "Name: CNV_19_40372246_40375846, dtype: object"
      ]
     },
     "execution_count": 209,
     "metadata": {},
     "output_type": "execute_result"
    }
   ],
   "source": [
    "report.ix['CNV_19_40372246_40375846']"
   ]
  },
  {
   "cell_type": "raw",
   "metadata": {},
   "source": [
    "cns_f = cns[rna_meta[rna_meta.in_eqtl].wgs_id]\n",
    "cns_emmax = cns_f.ix[num_states[num_states.apply(lambda x: x in [2, 3])].index]\n",
    "b = cns_emmax.apply(lambda x: x.value_counts().max() < cns_emmax.shape[1] - np.floor(207 * 0.05), axis=1)\n",
    "cns_emmax = cns_emmax[b]"
   ]
  },
  {
   "cell_type": "code",
   "execution_count": 210,
   "metadata": {
    "collapsed": true
   },
   "outputs": [],
   "source": [
    "t = cns_f.ix[set(cns_f.index) - set(cns_emmax.index)]\n",
    "t = t[t.apply(lambda x: len(set(x)) > 3, axis=1)]\n",
    "b = t.apply(lambda x: x.value_counts()[0:3].sum(), axis=1)"
   ]
  },
  {
   "cell_type": "code",
   "execution_count": 211,
   "metadata": {
    "collapsed": false
   },
   "outputs": [
    {
     "data": {
      "image/png": "[encoded data removed]",
      "text/plain": [
       "<matplotlib.figure.Figure at 0x7f39aba74610>"
      ]
     },
     "metadata": {},
     "output_type": "display_data"
    }
   ],
   "source": [
    "b.hist(bins=range(208))\n",
    "plt.xlim(0, 209)\n",
    "plt.ylabel('Number of CNVs')\n",
    "plt.xlabel('Number of individuals with one of top three CNs');"
   ]
  },
  {
   "cell_type": "markdown",
   "metadata": {},
   "source": [
    "This plot shows us that many CNVs are almost biallelic. If we remove \n",
    "a few samples, we can make more sites biallelic."
   ]
  },
  {
   "cell_type": "code",
   "execution_count": 212,
   "metadata": {
    "collapsed": false
   },
   "outputs": [
    {
     "data": {
      "text/plain": [
       "807"
      ]
     },
     "execution_count": 212,
     "metadata": {},
     "output_type": "execute_result"
    }
   ],
   "source": [
    "sum(b >= rna_meta.in_eqtl.sum() * 0.95)"
   ]
  },
  {
   "cell_type": "markdown",
   "metadata": {},
   "source": [
    "There are 807 CNVs for which I can remove people with rare copy numbers\n",
    "and still have 95% call rate. I'll set the rare copy numbers to missing\n",
    "and include these."
   ]
  },
  {
   "cell_type": "code",
   "execution_count": 213,
   "metadata": {
    "collapsed": false
   },
   "outputs": [],
   "source": [
    "rows = []\n",
    "for i in b[b >= rna_meta.in_eqtl.sum() * 0.95].index:\n",
    "    se = cns_f.ix[i]\n",
    "    vc = se.value_counts()\n",
    "    se[se.apply(lambda x: x not in vc.index[0:3])] = np.nan\n",
    "    rows.append(se)\n",
    "df = pd.DataFrame(rows, index=b[b >= rna_meta.in_eqtl.sum() * 0.95].index, \n",
    "                  columns=cns_f.columns)"
   ]
  },
  {
   "cell_type": "code",
   "execution_count": 214,
   "metadata": {
    "collapsed": true
   },
   "outputs": [],
   "source": [
    "b = df.apply(lambda x: x.value_counts().max() < df.shape[1] - np.floor(rna_meta.in_eqtl.sum() * 0.05), axis=1)\n",
    "df = df[b]"
   ]
  },
  {
   "cell_type": "code",
   "execution_count": 215,
   "metadata": {
    "collapsed": true
   },
   "outputs": [],
   "source": [
    "cns_emmax = pd.concat([cns_emmax, df])\n",
    "cns_emmax.to_csv(os.path.join(private_outdir, 'emmax_cnvs.tsv'), sep='\\t')"
   ]
  },
  {
   "cell_type": "code",
   "execution_count": 216,
   "metadata": {
    "collapsed": false
   },
   "outputs": [
    {
     "data": {
      "text/plain": [
       "(3222, 215)"
      ]
     },
     "execution_count": 216,
     "metadata": {},
     "output_type": "execute_result"
    }
   ],
   "source": [
    "cns_emmax.shape"
   ]
  },
  {
   "cell_type": "markdown",
   "metadata": {},
   "source": [
    "I'll write a VCF file with the CNV genotypes."
   ]
  },
  {
   "cell_type": "code",
   "execution_count": 217,
   "metadata": {
    "collapsed": true
   },
   "outputs": [],
   "source": [
    "cns_emmax_genotypes = cns_emmax.copy(deep=True).astype(str)\n",
    "mins = cns_emmax.apply(lambda x: x == x.min(), axis=1)\n",
    "maxs = cns_emmax.apply(lambda x: x == x.max(), axis=1)\n",
    "nulls = cns_emmax.isnull()\n",
    "hets = (mins.astype(int) + maxs.astype(int) + nulls.astype(int) == 0)\n",
    "cns_emmax_genotypes[mins] = '0/0'\n",
    "cns_emmax_genotypes[hets] = '0/1'\n",
    "cns_emmax_genotypes[maxs] = '1/1'\n",
    "cns_emmax_genotypes[nulls] = './.'"
   ]
  },
  {
   "cell_type": "code",
   "execution_count": 218,
   "metadata": {
    "collapsed": true
   },
   "outputs": [],
   "source": [
    "cns_emmax_info = cnv_info.ix[cns_emmax.index]\n",
    "cns_emmax_info.chrom = cns_emmax_info.chrom.apply(lambda x: x[3:])\n",
    "cns_emmax_info = cns_emmax_info.drop(['end', 'length'], axis=1)\n",
    "cns_emmax_info.start = cns_emmax_info.start.astype(str)\n",
    "cns_emmax_info['ref'] = 'N'\n",
    "cns_emmax_info['alt'] = 'N'\n",
    "cns_emmax_info['qual'] = '100000'\n",
    "cns_emmax_info['filter'] = 'PASS'\n",
    "cns_emmax_info['info'] = ''\n",
    "cns_emmax_info['format'] = 'GT'\n",
    "cns_emmax_info = cns_emmax_info.join(cns_emmax_genotypes[sorted(cns_emmax_genotypes.columns)])"
   ]
  },
  {
   "cell_type": "code",
   "execution_count": 219,
   "metadata": {
    "collapsed": false
   },
   "outputs": [],
   "source": [
    "with open('/projects/CARDIPS/analysis/cardips-ipsc-eqtl/misc/header.vcf') as f:\n",
    "    lines = f.readlines()\n",
    "vs = lines[-1].strip().split('\\t')[9:]\n",
    "colnames = lines[-1].strip().split('\\t')[0:9]"
   ]
  },
  {
   "cell_type": "code",
   "execution_count": null,
   "metadata": {
    "collapsed": true
   },
   "outputs": [],
   "source": [
    "out = os.path.join(private_outdir, 'emmax_sorted.vcf')\n",
    "if not os.path.exists(out):\n",
    "    with open(os.path.join(private_outdir, 'emmax.vcf'), 'w') as f:\n",
    "        f.write(''.join(lines[0:-1]))\n",
    "        f.write('\\t'.join(colnames + list(cns_emmax_info.columns[9:])) + '\\n')\n",
    "        f.write('\\n'.join(cns_emmax_info.apply(lambda x: '\\t'.join(x), axis=1)) + '\\n')\n",
    "    !cat {os.path.join(private_outdir, 'emmax.vcf')} | vcf-sort > {out}\n",
    "    !bgzip {out}\n",
    "    !bcftools index {out}.gz\n",
    "    !bcftools index -t {out}.gz\n",
    "    !rm {os.path.join(private_outdir, 'emmax.vcf')}"
   ]
  },
  {
   "cell_type": "markdown",
   "metadata": {},
   "source": [
    "Let's see which genes have CNVs to test now that we've added in some more CNVs."
   ]
  },
  {
   "cell_type": "code",
   "execution_count": 221,
   "metadata": {
    "collapsed": false
   },
   "outputs": [],
   "source": [
    "t = cnv_info.ix[cns_emmax.index]\n",
    "s = '\\n'.join(t.chrom + '\\t' + t.start.astype(str) + '\\t' + t.end.astype(str) + \n",
    "              '\\t' + t.name) + '\\n'\n",
    "cns_emmax_bt = pbt.BedTool(s, from_string=True)\n",
    "cns_emmax_bt = cns_emmax_bt.sort()\n",
    "\n",
    "res = cns_emmax_bt.intersect(variant_regions, sorted=True, wo=True)\n",
    "g = []\n",
    "for r in res:\n",
    "    g.append(r.fields[-3].split('_')[0])\n",
    "cnv_gene_vc = pd.Series(g).value_counts()\n",
    "cnv_gene_vc = cnv_gene_vc[set(cnv_gene_vc.index) & genes_todo]"
   ]
  },
  {
   "cell_type": "code",
   "execution_count": 222,
   "metadata": {
    "collapsed": true
   },
   "outputs": [],
   "source": [
    "t = cnv_info.ix[cns_emmax.index]\n",
    "s = '\\n'.join(t.chrom + '\\t' + t.start.astype(str) + '\\t' + t.end.astype(str) + \n",
    "              '\\t' + t.name) + '\\n'\n",
    "cns_emmax_bt = pbt.BedTool(s, from_string=True)\n",
    "cns_emmax_bt = cns_emmax_bt.sort()"
   ]
  },
  {
   "cell_type": "code",
   "execution_count": 223,
   "metadata": {
    "collapsed": false
   },
   "outputs": [
    {
     "data": {
      "text/plain": [
       "(13631,)"
      ]
     },
     "execution_count": 223,
     "metadata": {},
     "output_type": "execute_result"
    }
   ],
   "source": [
    "cnv_gene_vc.shape"
   ]
  },
  {
   "cell_type": "code",
   "execution_count": 224,
   "metadata": {
    "collapsed": false
   },
   "outputs": [
    {
     "data": {
      "image/png": "[encoded data removed]",
      "text/plain": [
       "<matplotlib.figure.Figure at 0x7f39ab997ad0>"
      ]
     },
     "metadata": {},
     "output_type": "display_data"
    }
   ],
   "source": [
    "cnv_gene_vc.hist(bins=range(cnv_gene_vc.max()))\n",
    "plt.ylabel('Number of genes')\n",
    "plt.xlabel('Number of CNVs overlapping variant window');"
   ]
  },
  {
   "cell_type": "markdown",
   "metadata": {
    "collapsed": true
   },
   "source": [
    "## mCNVs\n",
    "\n",
    "I want to identify mCNVs that I can test for associations with gene expression. \n",
    "I'll filter the mCNVs more in the notebook where I do the analysis."
   ]
  },
  {
   "cell_type": "code",
   "execution_count": 38,
   "metadata": {
    "collapsed": false
   },
   "outputs": [],
   "source": [
    "mcnvs = cns_f.ix[num_states[num_states > 3].index]\n",
    "mcnvs_f = mcnvs.ix[set(mcnvs.index) - set(cns_emmax.index)]\n",
    "mcnvs_f.to_csv(os.path.join(private_outdir, 'mcnvs.tsv'), sep='\\t')"
   ]
  }
 ],
 "metadata": {
  "kernelspec": {
   "display_name": "Environment (cie)",
   "language": "",
   "name": "cie"
  },
  "language_info": {
   "codemirror_mode": {
    "name": "ipython",
    "version": 2
   },
   "file_extension": ".py",
   "mimetype": "text/x-python",
   "name": "python",
   "nbconvert_exporter": "python",
   "pygments_lexer": "ipython2",
   "version": "2.7.11"
  }
 },
 "nbformat": 4,
 "nbformat_minor": 0
}
