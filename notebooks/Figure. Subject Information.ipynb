{
 "cells": [
  {
   "cell_type": "markdown",
   "metadata": {},
   "source": [
    "# Figure. Subject Information"
   ]
  },
  {
   "cell_type": "code",
   "execution_count": 1,
   "metadata": {
    "collapsed": false
   },
   "outputs": [],
   "source": [
    "import copy\n",
    "import os\n",
    "import subprocess\n",
    "\n",
    "import cdpybio as cpb\n",
    "import matplotlib as mpl\n",
    "import matplotlib.gridspec as gridspec\n",
    "import matplotlib.pyplot as plt\n",
    "import numpy as np\n",
    "import pandas as pd\n",
    "import seaborn as sns\n",
    "\n",
    "import ciepy\n",
    "import cardipspy as cpy\n",
    "\n",
    "%matplotlib inline\n",
    "%load_ext rpy2.ipython\n",
    "\n",
    "dy_name = 'figure_subject_information'\n",
    "    \n",
    "outdir = os.path.join(ciepy.root, 'output', dy_name)\n",
    "cpy.makedir(outdir)\n",
    "\n",
    "private_outdir = os.path.join(ciepy.root, 'private_output', dy_name)\n",
    "cpy.makedir(private_outdir)"
   ]
  },
  {
   "cell_type": "markdown",
   "metadata": {},
   "source": [
    "Each figure should be able to fit on a single 8.5 x 11 inch page. Please do not send figure panels as individual files. We use three standard widths for figures: 1 column, 85 mm; 1.5 column, 114 mm; and 2 column, 174 mm (the full width of the page). Although your figure size may be reduced in the print journal, please keep these widths in mind. For Previews and other three-column formats, these widths are also applicable, though the width of a single column will be 55 mm."
   ]
  },
  {
   "cell_type": "code",
   "execution_count": 2,
   "metadata": {
    "collapsed": true
   },
   "outputs": [],
   "source": [
    "fn = os.path.join(ciepy.root, 'output', 'input_data', 'wgs_metadata.tsv')\n",
    "wgs_meta = pd.read_table(fn, index_col=0, squeeze=True)\n",
    "fn = os.path.join(ciepy.root, 'output', 'input_data', 'rnaseq_metadata.tsv')\n",
    "rna_meta = pd.read_table(fn, index_col=0)\n",
    "rna_meta = rna_meta[rna_meta.in_eqtl]\n",
    "fn = os.path.join(ciepy.root, 'output', 'input_data', 'subject_metadata.tsv')\n",
    "subject_meta = pd.read_table(fn, index_col=0)"
   ]
  },
  {
   "cell_type": "code",
   "execution_count": 3,
   "metadata": {
    "collapsed": false
   },
   "outputs": [],
   "source": [
    "subject_meta = subject_meta.ix[set(rna_meta.subject_id)]\n",
    "family_vc = subject_meta.family_id.value_counts()\n",
    "family_vc = family_vc[family_vc > 1]\n",
    "eth_vc = subject_meta.ethnicity_group.value_counts().sort_values()\n",
    "sex_vc = subject_meta.sex.value_counts()\n",
    "sex_vc.index = pd.Series(['Female', 'Male'], index=['F', 'M'])[sex_vc.index]"
   ]
  },
  {
   "cell_type": "code",
   "execution_count": 4,
   "metadata": {
    "collapsed": true
   },
   "outputs": [],
   "source": [
    "sns.set_style('whitegrid')"
   ]
  },
  {
   "cell_type": "code",
   "execution_count": 5,
   "metadata": {
    "collapsed": false
   },
   "outputs": [
    {
     "name": "stdout",
     "output_type": "stream",
     "text": [
      "66.05% of the subjects are European.\n"
     ]
    }
   ],
   "source": [
    "p = subject_meta.ethnicity_group.value_counts()['European'] / float(subject_meta.shape[0])\n",
    "print('{:.2f}% of the subjects are European.'.format(p * 100))"
   ]
  },
  {
   "cell_type": "code",
   "execution_count": 6,
   "metadata": {
    "collapsed": false
   },
   "outputs": [
    {
     "name": "stdout",
     "output_type": "stream",
     "text": [
      "Median subject age: 48.3.\n"
     ]
    }
   ],
   "source": [
    "n = subject_meta.age.median()\n",
    "print('Median subject age: {}.'.format(n))"
   ]
  },
  {
   "cell_type": "code",
   "execution_count": 7,
   "metadata": {
    "collapsed": false
   },
   "outputs": [
    {
     "name": "stdout",
     "output_type": "stream",
     "text": [
      "55.35% of subjects are female.\n"
     ]
    }
   ],
   "source": [
    "p = sex_vc['Female'] / float(sex_vc.sum())\n",
    "print('{:.2f}% of subjects are female.'.format(p * 100))"
   ]
  },
  {
   "cell_type": "code",
   "execution_count": 8,
   "metadata": {
    "collapsed": false
   },
   "outputs": [
    {
     "name": "stderr",
     "output_type": "stream",
     "text": [
      "/frazer01/home/cdeboever/software/anaconda/envs/cie/lib/python2.7/site-packages/matplotlib/gridspec.py:302: UserWarning: This figure includes Axes that are not compatible with tight_layout, so its results might be incorrect.\n",
      "  warnings.warn(\"This figure includes Axes that are not \"\n"
     ]
    },
    {
     "data": {
      "image/png": "[encoded data removed]",
      "text/plain": [
       "<matplotlib.figure.Figure at 0x7fd1657afc90>"
      ]
     },
     "metadata": {},
     "output_type": "display_data"
    }
   ],
   "source": [
    "bcolor = (0.29803921568627451, 0.44705882352941179, 0.69019607843137254, 1.0)\n",
    "\n",
    "fig = plt.figure(figsize=(6.85, 4), dpi=300)\n",
    "\n",
    "gs = gridspec.GridSpec(1, 1)\n",
    "ax = fig.add_subplot(gs[0, 0])\n",
    "ax.text(0, 1, 'Figure S1',\n",
    "        size=16, va='top')\n",
    "ciepy.clean_axis(ax)\n",
    "ax.set_xticks([])\n",
    "ax.set_yticks([])\n",
    "gs.tight_layout(fig, rect=[0, 0.90, 0.5, 1])\n",
    "\n",
    "# Age\n",
    "gs = gridspec.GridSpec(1, 1)\n",
    "ax = fig.add_subplot(gs[0, 0])\n",
    "subject_meta.age.hist(bins=np.arange(5, 95, 5), ax=ax)\n",
    "for t in ax.get_xticklabels() + ax.get_yticklabels():\n",
    "    t.set_fontsize(8)\n",
    "ax.set_xlabel('Age (years)', fontsize=8)\n",
    "ax.set_ylabel('Number of subjects', fontsize=8)\n",
    "ax.grid(axis='x')\n",
    "gs.tight_layout(fig, rect=[0, 0.45, 0.4, 0.9])\n",
    "\n",
    "# Ethnicity\n",
    "gs = gridspec.GridSpec(1, 1)\n",
    "ax = fig.add_subplot(gs[0, 0])\n",
    "eth_vc.plot(kind='barh', color=bcolor)\n",
    "for t in ax.get_xticklabels() + ax.get_yticklabels():\n",
    "    t.set_fontsize(8)\n",
    "ax.set_ylabel('Ethnicity', fontsize=8)\n",
    "ax.set_xlabel('Number of subjects', fontsize=8)\n",
    "ax.grid(axis='y')\n",
    "gs.tight_layout(fig, rect=[0.4, 0.45, 1, 0.9])\n",
    "\n",
    "# Family size\n",
    "gs = gridspec.GridSpec(1, 1)\n",
    "ax = fig.add_subplot(gs[0, 0])\n",
    "family_vc.plot(kind='bar', color=bcolor)\n",
    "ax.set_xticks([])\n",
    "for t in ax.get_xticklabels() + ax.get_yticklabels():\n",
    "    t.set_fontsize(8)\n",
    "ax.set_xlabel('Family', fontsize=8)\n",
    "ax.set_ylabel('Number of family members', fontsize=8)\n",
    "gs.tight_layout(fig, rect=[0.4, 0, 1, 0.45])\n",
    "\n",
    "# Sex \n",
    "gs = gridspec.GridSpec(1, 1)\n",
    "ax = fig.add_subplot(gs[0, 0])\n",
    "sex_vc.plot(kind='barh', color=bcolor)\n",
    "for t in ax.get_xticklabels() + ax.get_yticklabels():\n",
    "    t.set_fontsize(8)\n",
    "ax.set_ylabel('Sex', fontsize=8)\n",
    "ax.set_xlabel('Number of subjects', fontsize=8)\n",
    "ax.grid(axis='y')\n",
    "gs.tight_layout(fig, rect=[0, 0, 0.4, 0.45])\n",
    "\n",
    "t = fig.text(0.005, 0.87, 'A', weight='bold', \n",
    "             size=12)\n",
    "t = fig.text(0.4, 0.87, 'B', weight='bold', \n",
    "             size=12)\n",
    "t = fig.text(0.005, 0.45, 'C', weight='bold', \n",
    "             size=12)\n",
    "t = fig.text(0.4, 0.45, 'D', weight='bold', \n",
    "             size=12)\n",
    "\n",
    "fig.savefig(os.path.join(outdir, 'subject_info.pdf'))\n",
    "fig.savefig(os.path.join(outdir, 'subject_info.png'), dpi=300)"
   ]
  },
  {
   "cell_type": "code",
   "execution_count": 9,
   "metadata": {
    "collapsed": false
   },
   "outputs": [
    {
     "data": {
      "image/png": "[encoded data removed]",
      "text/plain": [
       "<matplotlib.figure.Figure at 0x7fd1657b0050>"
      ]
     },
     "metadata": {},
     "output_type": "display_data"
    }
   ],
   "source": [
    "fs = 10\n",
    "bcolor = (0.29803921568627451, 0.44705882352941179, 0.69019607843137254, 1.0)\n",
    "\n",
    "fig = plt.figure(figsize=(6, 4), dpi=300)\n",
    "\n",
    "# Age\n",
    "gs = gridspec.GridSpec(1, 1)\n",
    "ax = fig.add_subplot(gs[0, 0])\n",
    "subject_meta.age.hist(bins=np.arange(5, 95, 5), ax=ax)\n",
    "for t in ax.get_xticklabels():\n",
    "    t.set_fontsize(8)\n",
    "for t in ax.get_yticklabels():\n",
    "    t.set_fontsize(fs)\n",
    "ax.set_xlabel('Age (years)', fontsize=fs)\n",
    "ax.set_ylabel('Number of subjects', fontsize=fs)\n",
    "ax.grid(axis='x')\n",
    "gs.tight_layout(fig, rect=[0, 0.45, 0.4, 1])\n",
    "\n",
    "# Ethnicity\n",
    "gs = gridspec.GridSpec(1, 1)\n",
    "ax = fig.add_subplot(gs[0, 0])\n",
    "eth_vc.plot(kind='barh', color=bcolor)\n",
    "ax.set_xticks(ax.get_xticks()[0::2])\n",
    "for t in ax.get_xticklabels():\n",
    "    t.set_fontsize(8)\n",
    "for t in ax.get_yticklabels():\n",
    "    t.set_fontsize(fs)\n",
    "ax.set_ylabel('Ethnicity', fontsize=fs)\n",
    "ax.set_xlabel('Number of subjects', fontsize=fs)\n",
    "ax.grid(axis='y')\n",
    "gs.tight_layout(fig, rect=[0.4, 0.45, 1, 1])\n",
    "\n",
    "# Family size\n",
    "gs = gridspec.GridSpec(1, 1)\n",
    "ax = fig.add_subplot(gs[0, 0])\n",
    "family_vc.plot(kind='bar', color=bcolor)\n",
    "ax.set_xticks([])\n",
    "for t in ax.get_xticklabels() + ax.get_yticklabels():\n",
    "    t.set_fontsize(fs)\n",
    "ax.set_xlabel('Family', fontsize=fs)\n",
    "ax.set_ylabel('Number of family members', fontsize=fs)\n",
    "gs.tight_layout(fig, rect=[0.4, 0, 1, 0.5])\n",
    "\n",
    "# Sex \n",
    "gs = gridspec.GridSpec(1, 1)\n",
    "ax = fig.add_subplot(gs[0, 0])\n",
    "sex_vc.plot(kind='barh', color=bcolor)\n",
    "for t in ax.get_xticklabels():\n",
    "    t.set_fontsize(8)\n",
    "for t in ax.get_yticklabels():\n",
    "    t.set_fontsize(fs)\n",
    "ax.set_ylabel('Sex', fontsize=fs)\n",
    "ax.set_xlabel('Number of subjects', fontsize=fs)\n",
    "ax.grid(axis='y')\n",
    "gs.tight_layout(fig, rect=[0, 0, 0.4, 0.5])\n",
    "\n",
    "fig.savefig(os.path.join(outdir, 'subject_info_presentation.pdf'))"
   ]
  }
 ],
 "metadata": {
  "kernelspec": {
   "display_name": "Environment (cie)",
   "language": "",
   "name": "cie"
  },
  "language_info": {
   "codemirror_mode": {
    "name": "ipython",
    "version": 2
   },
   "file_extension": ".py",
   "mimetype": "text/x-python",
   "name": "python",
   "nbconvert_exporter": "python",
   "pygments_lexer": "ipython2",
   "version": "2.7.11"
  }
 },
 "nbformat": 4,
 "nbformat_minor": 0
}
