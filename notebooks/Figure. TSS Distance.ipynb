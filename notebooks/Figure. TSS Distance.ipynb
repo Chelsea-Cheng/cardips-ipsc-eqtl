{
 "cells": [
  {
   "cell_type": "markdown",
   "metadata": {},
   "source": [
    "# Figure. TSS Distance"
   ]
  },
  {
   "cell_type": "code",
   "execution_count": 1,
   "metadata": {
    "collapsed": true
   },
   "outputs": [],
   "source": [
    "import cPickle\n",
    "import glob\n",
    "import os\n",
    "import random\n",
    "import subprocess\n",
    "\n",
    "import cdpybio as cpb\n",
    "from ipyparallel import Client\n",
    "import matplotlib as mpl\n",
    "import matplotlib.gridspec as gridspec\n",
    "import matplotlib.pyplot as plt\n",
    "import numpy as np\n",
    "import pandas as pd\n",
    "import pybedtools as pbt\n",
    "from scipy.stats import fisher_exact\n",
    "import seaborn as sns\n",
    "import tabix\n",
    "import vcf as pyvcf\n",
    "import weblogolib as logo\n",
    "\n",
    "import cardipspy as cpy\n",
    "import ciepy\n",
    "\n",
    "%matplotlib inline\n",
    "%load_ext rpy2.ipython\n",
    "\n",
    "dy_name = 'figure_tss_distance'\n",
    "\n",
    "import socket\n",
    "if socket.gethostname() == 'fl-hn1' or socket.gethostname() == 'fl-hn2':\n",
    "    dy = os.path.join(ciepy.root, 'sandbox', dy_name)\n",
    "    cpy.makedir(dy)\n",
    "    pbt.set_tempdir(dy)\n",
    "    \n",
    "outdir = os.path.join(ciepy.root, 'output', dy_name)\n",
    "cpy.makedir(outdir)\n",
    "\n",
    "private_outdir = os.path.join(ciepy.root, 'private_output', dy_name)\n",
    "cpy.makedir(private_outdir)"
   ]
  },
  {
   "cell_type": "code",
   "execution_count": 2,
   "metadata": {
    "collapsed": true
   },
   "outputs": [],
   "source": [
    "fn = os.path.join(ciepy.root, 'output', 'eqtl_processing', 'eqtls01', 'lead_variants.tsv')\n",
    "lead_vars = pd.read_table(fn, index_col=0)\n",
    "sig = lead_vars[lead_vars.perm_sig]\n",
    "\n",
    "fn = os.path.join(ciepy.root, 'output', 'input_data', 'rnaseq_metadata.tsv')\n",
    "rna_meta = pd.read_table(fn, index_col=0)"
   ]
  },
  {
   "cell_type": "code",
   "execution_count": 3,
   "metadata": {
    "collapsed": true
   },
   "outputs": [],
   "source": [
    "sns.set_style('whitegrid')"
   ]
  },
  {
   "cell_type": "code",
   "execution_count": 4,
   "metadata": {
    "collapsed": false
   },
   "outputs": [
    {
     "name": "stderr",
     "output_type": "stream",
     "text": [
      "/frazer01/home/cdeboever/software/anaconda/envs/cie/lib/python2.7/site-packages/matplotlib/gridspec.py:302: UserWarning: This figure includes Axes that are not compatible with tight_layout, so its results might be incorrect.\n",
      "  warnings.warn(\"This figure includes Axes that are not \"\n"
     ]
    },
    {
     "data": {
      "image/png": "[encoded data removed]",
      "text/plain": [
       "<matplotlib.figure.Figure at 0x7fadc97dc190>"
      ]
     },
     "metadata": {},
     "output_type": "display_data"
    }
   ],
   "source": [
    "fig = plt.figure(figsize=(6.85, 3), dpi=300)\n",
    "\n",
    "gs = gridspec.GridSpec(1, 1)\n",
    "ax = fig.add_subplot(gs[0, 0])\n",
    "ax.text(0, 1, 'Figure S3',\n",
    "        size=16, va='top')\n",
    "ciepy.clean_axis(ax)\n",
    "ax.set_xticks([])\n",
    "ax.set_yticks([])\n",
    "gs.tight_layout(fig, rect=[0, 0.8, 0.5, 1])\n",
    "\n",
    "gs = gridspec.GridSpec(1, 3)\n",
    "ax = fig.add_subplot(gs[0, 0])\n",
    "n,b,p = ax.hist(sig[sig.variant_type == 'snv'].tss_dist, \n",
    "                bins=np.arange(-500000, 510000, 10000),\n",
    "                histtype='stepfilled', linewidth=0)\n",
    "ax.set_ylabel('Number of SNVs', fontsize=8)\n",
    "ticks = ax.set_xticks([-300000, 0, 300000])\n",
    "ticks = ax.set_xticklabels([int(x) for x in ax.get_xticks() / 1000])\n",
    "ax.set_xlim(-500000, 500000)\n",
    "ax.set_xlabel('Distance (kb)', fontsize=8)\n",
    "ax.spines['right'].set_visible(False)\n",
    "ax.spines['top'].set_visible(False)\n",
    "ax.yaxis.set_major_formatter(ciepy.comma_format)\n",
    "for l in ax.get_xticklines() + ax.get_yticklines(): \n",
    "    l.set_markersize(0)\n",
    "for t in ax.get_xticklabels() + ax.get_yticklabels():\n",
    "    t.set_fontsize(8)\n",
    "ax.grid('off')\n",
    "#ax.set_yticks(ax.get_yticks()[0::2])\n",
    "    \n",
    "ax = fig.add_subplot(gs[0, 1])\n",
    "n,b,p = ax.hist(sig[(sig.variant_type == 'ins') | (sig.variant_type == 'del')].tss_dist, \n",
    "                bins=np.arange(-500000, 510000, 10000),\n",
    "                histtype='stepfilled', linewidth=0)\n",
    "ax.set_ylabel('Number of indels', fontsize=8)\n",
    "ticks = ax.set_xticks([-300000, 0, 300000])\n",
    "ticks = ax.set_xticklabels([int(x) for x in ax.get_xticks() / 1000])\n",
    "ax.set_xlim(-500000, 500000)\n",
    "ax.set_xlabel('Distance (kb)', fontsize=8)\n",
    "ax.spines['right'].set_visible(False)\n",
    "ax.spines['top'].set_visible(False)\n",
    "ax.yaxis.set_major_formatter(ciepy.comma_format)\n",
    "for l in ax.get_xticklines() + ax.get_yticklines(): \n",
    "    l.set_markersize(0)\n",
    "for t in ax.get_xticklabels() + ax.get_yticklabels():\n",
    "    t.set_fontsize(8)\n",
    "ax.grid('off')\n",
    "#ax.set_yticks(ax.get_yticks()[0::2])\n",
    "    \n",
    "ax = fig.add_subplot(gs[0, 2])\n",
    "n,b,p = ax.hist(sig[sig.variant_type == 'cnv'].tss_dist, \n",
    "                bins=np.arange(-500000, 510000, 10000),\n",
    "                histtype='stepfilled', linewidth=0)\n",
    "ax.set_ylabel('Number of CNVs', fontsize=8)\n",
    "ticks = ax.set_xticks([-300000, 0, 300000])\n",
    "ticks = ax.set_xticklabels([int(x) for x in ax.get_xticks() / 1000])\n",
    "ax.set_xlim(-500000, 500000)\n",
    "ax.set_xlabel('Distance (kb)', fontsize=8)\n",
    "ax.spines['right'].set_visible(False)\n",
    "ax.spines['top'].set_visible(False)\n",
    "ax.yaxis.set_major_formatter(ciepy.comma_format)\n",
    "for l in ax.get_xticklines() + ax.get_yticklines(): \n",
    "    l.set_markersize(0)\n",
    "for t in ax.get_xticklabels() + ax.get_yticklabels():\n",
    "    t.set_fontsize(8)\n",
    "ax.grid('off')\n",
    "#ax.set_yticks(ax.get_yticks()[0::2])\n",
    "\n",
    "t = fig.text(0.005, 0.81, 'A', weight='bold', \n",
    "             size=12)\n",
    "t = fig.text(0.335, 0.81, 'B', weight='bold', \n",
    "             size=12)\n",
    "t = fig.text(0.675, 0.81, 'C', weight='bold', \n",
    "             size=12)\n",
    "    \n",
    "gs.tight_layout(fig, rect=[0, 0, 1, 0.9])\n",
    "\n",
    "fig.savefig(os.path.join(outdir, 'tss_distance.pdf'))\n",
    "fig.savefig(os.path.join(outdir, 'tss_distance.png'), dpi=300)"
   ]
  }
 ],
 "metadata": {
  "kernelspec": {
   "display_name": "Environment (cie)",
   "language": "",
   "name": "cie"
  },
  "language_info": {
   "codemirror_mode": {
    "name": "ipython",
    "version": 2
   },
   "file_extension": ".py",
   "mimetype": "text/x-python",
   "name": "python",
   "nbconvert_exporter": "python",
   "pygments_lexer": "ipython2",
   "version": "2.7.11"
  }
 },
 "nbformat": 4,
 "nbformat_minor": 0
}
