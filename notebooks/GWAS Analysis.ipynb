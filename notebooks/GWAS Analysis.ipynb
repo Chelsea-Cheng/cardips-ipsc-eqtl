{
 "cells": [
  {
   "cell_type": "markdown",
   "metadata": {},
   "source": [
    "# GWAS Analysis\n",
    "\n",
    "I want to see whether the eQTLs are enriched for GWAS hits."
   ]
  },
  {
   "cell_type": "code",
   "execution_count": 19,
   "metadata": {
    "collapsed": true
   },
   "outputs": [],
   "source": [
    "import os\n",
    "import subprocess\n",
    "\n",
    "import pandas as pd\n",
    "import pybedtools as pbt\n",
    "\n",
    "import cardipspy as cpy\n",
    "import ciepy\n",
    "\n",
    "%matplotlib inline"
   ]
  },
  {
   "cell_type": "code",
   "execution_count": 2,
   "metadata": {
    "collapsed": false
   },
   "outputs": [],
   "source": [
    "import socket\n",
    "if socket.gethostname() == 'fl1':\n",
    "    pbt.set_tempdir('/projects/cdeboever/pybedtools_temp')"
   ]
  },
  {
   "cell_type": "code",
   "execution_count": 3,
   "metadata": {
    "collapsed": true
   },
   "outputs": [],
   "source": [
    "outdir = os.path.join(ciepy.root, 'output',\n",
    "                      'gwas_analysis')\n",
    "cpy.makedir(outdir)\n",
    "\n",
    "private_outdir = os.path.join(ciepy.root, 'private_output',\n",
    "                              'gwas_analysis')\n",
    "cpy.makedir(private_outdir)"
   ]
  },
  {
   "cell_type": "code",
   "execution_count": 4,
   "metadata": {
    "collapsed": false
   },
   "outputs": [],
   "source": [
    "gwas = pd.read_table(cpy.gwas_catalog, low_memory=False)\n",
    "gwas = gwas.dropna(subset=['CHR_ID', 'CHR_POS'])\n",
    "gwas['CHR_ID'] = 'chr' + gwas.CHR_ID.astype(int).astype(str)\n",
    "gwas['CHR_POS'] = gwas.CHR_POS.astype(int)\n",
    "gwas['hg38_loc'] = gwas.CHR_ID + ':' + gwas.CHR_POS.astype(str)"
   ]
  },
  {
   "cell_type": "markdown",
   "metadata": {},
   "source": [
    "## Convert GWAS Coordinates to hg19\n",
    "\n",
    "The latest GWAS catalog from EBI has coordinates in hg38, so I'll\n",
    "use `liftOver` to get hg19 coordinates."
   ]
  },
  {
   "cell_type": "code",
   "execution_count": 5,
   "metadata": {
    "collapsed": true
   },
   "outputs": [],
   "source": [
    "lines = '\\n'.join(gwas.CHR_ID + '\\t' + \n",
    "                  (gwas.CHR_POS - 1).astype(str) + \n",
    "                  '\\t' + gwas.CHR_POS.astype(str)) + '\\n'\n",
    "hg38_bt = pbt.BedTool(lines, from_string=True).sort()\n",
    "hg38_bed = os.path.join(outdir, 'hg38_gwas_snps.bed')\n",
    "hg38_bt = hg38_bt.saveas(hg38_bed)"
   ]
  },
  {
   "cell_type": "code",
   "execution_count": 6,
   "metadata": {
    "collapsed": false
   },
   "outputs": [
    {
     "data": {
      "text/plain": [
       "0"
      ]
     },
     "execution_count": 6,
     "metadata": {},
     "output_type": "execute_result"
    }
   ],
   "source": [
    "hg19_bed = os.path.join(outdir, 'hg19_gwas_snps.bed')\n",
    "hg19_unmapped = os.path.join(outdir, 'hg19_gwas_snps_unmapped.txt')\n",
    "chain = os.path.join(ciepy.root, 'output', 'input_data', \n",
    "                     'hg38ToHg19.over.chain')\n",
    "c = '{} {} {} {} {}'.format(cpy.liftOver, hg38_bed, chain,\n",
    "                            hg19_bed, hg19_unmapped)\n",
    "subprocess.check_call(c, shell=True)"
   ]
  },
  {
   "cell_type": "code",
   "execution_count": 7,
   "metadata": {
    "collapsed": false
   },
   "outputs": [],
   "source": [
    "with open(hg19_unmapped) as f:\n",
    "    missing = pbt.BedTool(''.join([x for x in f.readlines()[1::2]]),\n",
    "                          from_string=True)\n",
    "hg38_mapped = hg38_bt.subtract(missing)\n",
    "hg19_mapped = pbt.BedTool(hg19_bed)"
   ]
  },
  {
   "cell_type": "code",
   "execution_count": 11,
   "metadata": {
    "collapsed": false
   },
   "outputs": [],
   "source": [
    "old_loc = []\n",
    "for r in hg38_mapped:\n",
    "    old_loc.append('{}:{}'.format(r.chrom, r.end))\n",
    "new_loc = []\n",
    "new_chrom = []\n",
    "new_pos = []\n",
    "for r in hg19_mapped:\n",
    "    new_loc.append('{}:{}'.format(r.chrom, r.end))\n",
    "    new_chrom.append(r.chrom)\n",
    "    new_pos.append(r.end)\n",
    "\n",
    "new_info = pd.DataFrame({'hg19_loc':new_loc, \n",
    "                         'hg19_chrom': new_chrom, \n",
    "                         'hg19_pos': new_pos}, index=old_loc)\n",
    "gwas.index = gwas.hg38_loc\n",
    "gwas = gwas.join(new_info)"
   ]
  },
  {
   "cell_type": "markdown",
   "metadata": {},
   "source": [
    "## Get Null Set\n",
    "\n",
    "I need to obtain a set of SNVs to calculate a null distribution with. \n",
    "These null SNVs should not be significant for an eQTL and should be\n",
    "matched based on\n",
    "\n",
    "* distance to TSS\n",
    "* MAF\n",
    "* LD\n",
    "\n",
    "My matching is based Grubert et al. I'll stratify MAF from 0 to 0.5 in \n",
    "0.05 intervals. For TSS, I'll define the distribution by log distance \n",
    "from all SNPs to TSS and binned into 10 breaks. For LD, I'll calculate\n",
    "log number of SNPs tagged by each variant within 1 Mb with $R^2 \\geq 0.8$."
   ]
  },
  {
   "cell_type": "code",
   "execution_count": null,
   "metadata": {
    "collapsed": true
   },
   "outputs": [],
   "source": []
  },
  {
   "cell_type": "code",
   "execution_count": null,
   "metadata": {
    "collapsed": true
   },
   "outputs": [],
   "source": []
  },
  {
   "cell_type": "code",
   "execution_count": null,
   "metadata": {
    "collapsed": true
   },
   "outputs": [],
   "source": []
  },
  {
   "cell_type": "code",
   "execution_count": null,
   "metadata": {
    "collapsed": true
   },
   "outputs": [],
   "source": []
  },
  {
   "cell_type": "code",
   "execution_count": null,
   "metadata": {
    "collapsed": true
   },
   "outputs": [],
   "source": []
  },
  {
   "cell_type": "code",
   "execution_count": null,
   "metadata": {
    "collapsed": true
   },
   "outputs": [],
   "source": []
  },
  {
   "cell_type": "code",
   "execution_count": null,
   "metadata": {
    "collapsed": true
   },
   "outputs": [],
   "source": []
  },
  {
   "cell_type": "code",
   "execution_count": null,
   "metadata": {
    "collapsed": true
   },
   "outputs": [],
   "source": []
  },
  {
   "cell_type": "code",
   "execution_count": null,
   "metadata": {
    "collapsed": true
   },
   "outputs": [],
   "source": []
  },
  {
   "cell_type": "code",
   "execution_count": null,
   "metadata": {
    "collapsed": true
   },
   "outputs": [],
   "source": []
  }
 ],
 "metadata": {
  "kernelspec": {
   "display_name": "Python 2",
   "language": "python",
   "name": "python2"
  },
  "language_info": {
   "codemirror_mode": {
    "name": "ipython",
    "version": 2
   },
   "file_extension": ".py",
   "mimetype": "text/x-python",
   "name": "python",
   "nbconvert_exporter": "python",
   "pygments_lexer": "ipython2",
   "version": "2.7.10"
  }
 },
 "nbformat": 4,
 "nbformat_minor": 0
}
