{
 "cells": [
  {
   "cell_type": "markdown",
   "metadata": {},
   "source": [
    "# GWAS Analysis\n",
    "\n",
    "I want to see whether the eQTLs are enriched for GWAS hits."
   ]
  },
  {
   "cell_type": "code",
   "execution_count": 1,
   "metadata": {
    "collapsed": false
   },
   "outputs": [],
   "source": [
    "import glob\n",
    "import os\n",
    "import random\n",
    "import subprocess\n",
    "\n",
    "import matplotlib.pyplot as plt\n",
    "import networkx as nx\n",
    "import numpy as np\n",
    "import pandas as pd\n",
    "import pybedtools as pbt\n",
    "import seaborn as sns\n",
    "import tabix\n",
    "\n",
    "import cardipspy as cpy\n",
    "import ciepy\n",
    "\n",
    "%matplotlib inline"
   ]
  },
  {
   "cell_type": "code",
   "execution_count": 2,
   "metadata": {
    "collapsed": false
   },
   "outputs": [],
   "source": [
    "import socket\n",
    "if socket.gethostname() == 'fl1':\n",
    "    pbt.set_tempdir('/projects/cdeboever/pybedtools_temp')"
   ]
  },
  {
   "cell_type": "code",
   "execution_count": 3,
   "metadata": {
    "collapsed": true
   },
   "outputs": [],
   "source": [
    "outdir = os.path.join(ciepy.root, 'output',\n",
    "                      'gwas_analysis')\n",
    "cpy.makedir(outdir)\n",
    "\n",
    "private_outdir = os.path.join(ciepy.root, 'private_output',\n",
    "                              'gwas_analysis')\n",
    "cpy.makedir(private_outdir)"
   ]
  },
  {
   "cell_type": "code",
   "execution_count": 4,
   "metadata": {
    "collapsed": false
   },
   "outputs": [],
   "source": [
    "gwas = pd.read_table(cpy.gwas_catalog, low_memory=False)\n",
    "gwas = gwas.dropna(subset=['CHR_ID', 'CHR_POS'])\n",
    "gwas['CHR_ID'] = 'chr' + gwas.CHR_ID.astype(int).astype(str)\n",
    "gwas['CHR_POS'] = gwas.CHR_POS.astype(int)\n",
    "gwas['hg38_loc'] = gwas.CHR_ID + ':' + gwas.CHR_POS.astype(str)"
   ]
  },
  {
   "cell_type": "code",
   "execution_count": 5,
   "metadata": {
    "collapsed": false
   },
   "outputs": [],
   "source": [
    "fn = os.path.join(ciepy.root, 'output', 'eqtl_processing', 'qvalues.tsv')\n",
    "qvalues = pd.read_table(fn, index_col=0)\n",
    "qvalues.columns = ['{}_gene'.format(x) for x in qvalues.columns]\n",
    "fn = os.path.join(ciepy.root, 'output', 'eqtl_processing', 'most_sig.tsv')\n",
    "most_sig = pd.read_table(fn, index_col=0)\n",
    "most_sig = most_sig.join(qvalues)\n",
    "most_sig = most_sig.drop_duplicates(subset=['gene'])\n",
    "sig = most_sig[most_sig.sig_gene]\n",
    "sig = sig.drop_duplicates(subset=['gene'])"
   ]
  },
  {
   "cell_type": "markdown",
   "metadata": {},
   "source": [
    "## Get Null Sets\n",
    "\n",
    "I need to obtain a set of SNVs to calculate a null distribution with. \n",
    "These null SNVs should not be significant for an eQTL and should be\n",
    "matched based on\n",
    "\n",
    "* distance to TSS\n",
    "* MAF\n",
    "* number of SNVs in LD with\n",
    "\n",
    "My matching is based Grubert et al. and Waszak et al. I'll stratify MAF from 0 to 0.5 in \n",
    "0.05 intervals. For TSS, I'll define the distribution by log distance \n",
    "from all SNPs to TSS and binned into 10 breaks. \n",
    "\n",
    "The `top_snv_results_sorted.tsv` file has all of the EMMAX results appended together\n",
    "with the lowest $p$-value for each SNV (some SNVs were tested for multiple genes). \n",
    "I can take the lowest $p$-value for each SNV to make sure it isn't significant. \n",
    "The file also contains the MAF. I can add the TSS distance."
   ]
  },
  {
   "cell_type": "code",
   "execution_count": 14,
   "metadata": {
    "collapsed": true
   },
   "outputs": [],
   "source": [
    "fn = os.path.join(ciepy.root, 'output', 'eqtl_processing', 'top_snv_results_sorted.tsv.gz')\n",
    "names = ['CHROM', 'BEG', 'END', 'MARKER_ID', 'NS',\n",
    "         'AC', 'CALLRATE', 'GENOCNT', 'MAF', 'STAT', \n",
    "         'PVALUE', 'BETA', 'SEBETA', 'R2']\n",
    "snvs = pd.read_table(fn, header=None, low_memory=False, names=names)\n",
    "snvs.index = ('chr' + snvs.CHROM.astype(str) + ':' + snvs.BEG.astype(str))\n",
    "snvs.CHROM = 'chr' + snvs.CHROM.astype(str)\n",
    "snvs['MAF_bin'] = pd.cut(snvs.MAF, np.arange(0, 0.55, 0.05))"
   ]
  },
  {
   "cell_type": "code",
   "execution_count": 17,
   "metadata": {
    "collapsed": true
   },
   "outputs": [],
   "source": [
    "snvs['ld_count'] = 0\n",
    "for c in set(snvs.CHROM):\n",
    "    t = snvs[snvs.CHROM == c]\n",
    "    s = '\\n'.join(c.strip('chr') + '\\t' + (t.BEG - 1).astype(str) + '\\t' + t.END.astype(str)) + '\\n'\n",
    "    bt = pbt.BedTool(s, from_string=True)\n",
    "    ld_c = pbt.BedTool('/raid3/publicdata/1KGP/LD/counts/{}_EUR_ld_all.hap_08_counts.bed'.format(c))\n",
    "    res = bt.intersect(ld_c, sorted=True, wo=True)\n",
    "    ind = []\n",
    "    count = []\n",
    "    for r in res:\n",
    "        ind.append('chr{}:{}'.format(r.chrom, r.end))\n",
    "        count.append(int(r.fields[-2]))\n",
    "    snvs.ix[ind, 'ld_count'] = count\n",
    "snvs['ld_count_bin'] = pd.cut(np.log10(snvs.ld_count + 1), bins=10)"
   ]
  },
  {
   "cell_type": "code",
   "execution_count": 18,
   "metadata": {
    "collapsed": false
   },
   "outputs": [
    {
     "data": {
      "image/png": "[encoded data removed]",
      "text/plain": [
       "<matplotlib.figure.Figure at 0x7f820be81310>"
      ]
     },
     "metadata": {},
     "output_type": "display_data"
    }
   ],
   "source": [
    "snvs.MAF.hist()\n",
    "plt.ylabel('Number of SNVs')\n",
    "plt.xlabel('Minor Allele Frequency')\n",
    "plt.title('Minor Allele Frequency Distribution');"
   ]
  },
  {
   "cell_type": "markdown",
   "metadata": {},
   "source": [
    "Now I'll find the distance to the nearest TSS for each top SNV."
   ]
  },
  {
   "cell_type": "code",
   "execution_count": 22,
   "metadata": {
    "collapsed": true
   },
   "outputs": [],
   "source": [
    "tss = pbt.BedTool(cpy.gencode_tss_bed)\n",
    "snvs['BEG'] = snvs.BEG - 1\n",
    "fn = os.path.join(outdir, 'top_snvs.bed')\n",
    "snvs[['CHROM', 'BEG', 'END']].to_csv(fn, sep='\\t', index=False, header=False)\n",
    "snvs['BEG'] = snvs.BEG + 1\n",
    "bt = pbt.BedTool(fn)\n",
    "res = bt.closest(tss, D='b', sorted=True, t='first')\n",
    "dist = []\n",
    "r = res.to_dataframe()\n",
    "snvs['tss_dist'] = r['blockCount'].values\n",
    "snvs['tss_dist_bin'] = pd.cut(np.log10(snvs.tss_dist.abs() + 1), 10)"
   ]
  },
  {
   "cell_type": "code",
   "execution_count": 31,
   "metadata": {
    "collapsed": true
   },
   "outputs": [],
   "source": [
    "bins = {'maf':sorted(list(set(snvs.MAF_bin))),\n",
    "        'ld':sorted(list(set(snvs.ld_count_bin))),\n",
    "        'tss':sorted(list(set(snvs.tss_dist_bin)))}\n",
    "\n",
    "snvs['group'] = snvs.MAF_bin.astype(str) + '::' + snvs.tss_dist_bin.astype(str) + '::' + snvs.ld_count_bin.astype(str)\n",
    "sig_snvs = snvs.ix[set(sig['loc'].values)]\n",
    "not_sig_snvs = snvs[snvs.PVALUE > 0.1]"
   ]
  },
  {
   "cell_type": "markdown",
   "metadata": {},
   "source": [
    "I'll choose my null sets from `not_sig`. "
   ]
  },
  {
   "cell_type": "code",
   "execution_count": 86,
   "metadata": {
    "collapsed": false
   },
   "outputs": [],
   "source": [
    "fn = os.path.join(outdir, 'null_sets.tsv')\n",
    "if not os.path.exists(fn):\n",
    "    random.seed(20151007)\n",
    "    num_null_sets = 5\n",
    "    num_null_sets = 50\n",
    "    #num_null_sets = 1000\n",
    "    null_sets = []\n",
    "    vc = sig_snvs.group.value_counts()\n",
    "    for i in vc.index:\n",
    "        tdf = not_sig_snvs[not_sig_snvs.group == i]\n",
    "        count = vc[i]\n",
    "        for n in xrange(num_null_sets):\n",
    "            if tdf.shape[0] == 0:\n",
    "                groups = [i]\n",
    "                while tdf.shape[0] == 0:\n",
    "                    # If there are no potential null SNVs in this group, we'll\n",
    "                    # expand the group randomly.\n",
    "                    g = groups[-1]\n",
    "                    # Choose random bin.\n",
    "                    b = random.choice(['maf', 'ld', 'tss'])\n",
    "                    # Get possibilities for that bin.\n",
    "                    t = bins[b]\n",
    "                    # Get last set of bin values and the value for the bin we want to change.\n",
    "                    d = dict(zip(['maf', 'tss', 'ld'], g.split('::')))\n",
    "                    cat = d[b]\n",
    "                    # Randomly walk away from bin value.\n",
    "                    ind = t.index(cat)\n",
    "                    if ind == 0:\n",
    "                        ind += 1\n",
    "                    elif ind == len(t) - 1:\n",
    "                        ind -= 1\n",
    "                    else:\n",
    "                        ind += random.choice([-1, 1])\n",
    "                    d[b] = t[ind]\n",
    "                    groups.append('{}::{}::{}'.format(d['maf'], d['tss'], d['ld']))\n",
    "                    tdf = not_sig_snvs[not_sig_snvs.group.apply(lambda x: x in groups)]\n",
    "            \n",
    "            if count <= tdf.shape[0]:\n",
    "                ind = random.sample(tdf.index, count)\n",
    "            else:\n",
    "                ind = list(np.random.choice(tdf.index, size=count, replace=True))\n",
    "            if i == vc.index[0]:\n",
    "                null_sets.append(ind)\n",
    "            else:\n",
    "                null_sets[n] += ind\n",
    "    null_sets = pd.DataFrame(null_sets).T            \n",
    "    null_sets.to_csv(fn, index=False, header=False, sep='\\t')\n",
    "else:\n",
    "    null_sets = pd.read_table(fn, header=None)"
   ]
  },
  {
   "cell_type": "markdown",
   "metadata": {},
   "source": [
    "## Calculate LD\n",
    "\n",
    "I'm going to calculate LD between all of the GWAS variants, all of my \n",
    "null set variants, and all of my significant variants. This currently \n",
    "takes about 24 hours."
   ]
  },
  {
   "cell_type": "code",
   "execution_count": null,
   "metadata": {
    "collapsed": false
   },
   "outputs": [],
   "source": [
    "toutdir = os.path.join(outdir, 'ld')\n",
    "if not os.path.exists(toutdir):\n",
    "    cpy.makedir(toutdir)\n",
    "    positions = set(null_sets.values.flatten()) | set(sig_snvs.index)\n",
    "    tdf = pd.DataFrame([x.split(':') for x in positions], columns=['chrom', 'start'])\n",
    "    vcfs = glob.glob('/raid3/projects/T2D/analysis/common_variants/vcf/1KGP_chr*_SNPs.recode.vcf')\n",
    "    for v in vcfs:\n",
    "        chrom = os.path.split(v)[1].split('_')[1]\n",
    "        t = tdf[tdf.chrom == chrom]\n",
    "        t.chrom = t.chrom.apply(lambda x: x[3:])\n",
    "        pos_fn = os.path.join(toutdir, '{}_positions.txt'.format(chrom))\n",
    "        out = os.path.join(toutdir, '{}_ld'.format(chrom))\n",
    "        t.to_csv(pos_fn, index=False, header=False, sep='\\t')\n",
    "        c = ('{} --vcf {} --hap-r2 --keep /raid3/publicdata/1KGP/EUR_individuals.txt '\n",
    "             '--positions {} --ld-window-bp 1000000 --min-r2 0.5 --out {}'.format(\n",
    "            cpy.vcftools, v, pos_fn, out))\n",
    "        subprocess.check_call(c, shell=True)"
   ]
  },
  {
   "cell_type": "markdown",
   "metadata": {},
   "source": [
    "I'm going to combine all of the LD results into a bed file\n",
    "that I can intersect with the potential QTNs and the null \n",
    "sets."
   ]
  },
  {
   "cell_type": "code",
   "execution_count": 488,
   "metadata": {
    "collapsed": false
   },
   "outputs": [],
   "source": [
    "fn = os.path.join(outdir, 'ld_results.bed')\n",
    "if not os.path.exists(fn):\n",
    "    chroms = [\n",
    "     'chr1',\n",
    "     'chr10',\n",
    "     'chr11',\n",
    "     'chr12',\n",
    "     'chr13',\n",
    "     'chr14',\n",
    "     'chr15',\n",
    "     'chr16',\n",
    "     'chr17',\n",
    "     'chr18',\n",
    "     'chr19',\n",
    "     'chr2',\n",
    "     'chr20',\n",
    "     'chr21',\n",
    "     'chr22',\n",
    "     'chr3',\n",
    "     'chr4',\n",
    "     'chr5',\n",
    "     'chr6',\n",
    "     'chr7',\n",
    "     'chr8',\n",
    "     'chr9']\n",
    "    fns = [os.path.join(outdir, 'ld', '{}_ld.hap.ld'.format(x)) for x in chroms]\n",
    "    c = ('cat {} | grep -v CHR | awk \\'{{OFS=\"\\\\t\" ; print \"chr\" $1, $2 - 1, '\n",
    "         '$2, \"chr\" $1 \":\" $2 \"*\" \"chr\" $1 \":\" $3 \"*\" $5}}\\' '\n",
    "         '> {}'.format(' '.join(fns), fn))\n",
    "    subprocess.check_call(c, shell=True)"
   ]
  },
  {
   "cell_type": "markdown",
   "metadata": {},
   "source": [
    "## Calculate Enrichment\n",
    "\n",
    "For each GWAS I will derive a null distribution of overlap (defined as being\n",
    "in LD above a threshold) using the 1,000 null sets. Then I will derive an\n",
    "empirical $p$-value for the significant eQTL variants."
   ]
  },
  {
   "cell_type": "code",
   "execution_count": null,
   "metadata": {
    "collapsed": true
   },
   "outputs": [],
   "source": [
    "ld_res = pbt.BedTool(os.path.join(outdir, 'ld_results.bed'))\n",
    "bt = pbt.BedTool('\\n'.join(sig_snvs.CHROM + '\\t' + (sig_snvs.BEG - 1).astype(str) + \n",
    "                           '\\t' + sig_snvs.BEG.astype(str)) + '\\n', from_string=True)\n",
    "bt = bt.sort()\n",
    "res = bt.intersect(ld_res, sorted=True, wo=True)\n",
    "real_ld_snvs = []\n",
    "for r in res:\n",
    "    real_ld_snvs.append(r.fields[-2].split('*')[1])\n",
    "real_ld_snvs = set(real_ld_snvs) | set(sig_snvs.index)  \n",
    "\n",
    "null_ld_snvs = {}\n",
    "for i in null_sets.columns:\n",
    "    df = pd.DataFrame([[x.split(':')[0] for x in null_sets[i]],\n",
    "                       [x.split(':')[1] for x in null_sets[i]]],\n",
    "                      index=['CHROM', 'BEG']).T\n",
    "    df.index = df.CHROM + ':' + df.BEG.astype(str)\n",
    "    bt = pbt.BedTool('\\n'.join(df.CHROM + '\\t' + (df.BEG.astype(int) - 1).astype(str) + \n",
    "                               '\\t' + df.BEG.astype(str)) + '\\n', from_string=True)\n",
    "    bt = bt.sort()\n",
    "    res = bt.intersect(ld_res, sorted=True, wo=True)\n",
    "    ld_snvs = []\n",
    "    for r in res:\n",
    "        ld_snvs.append(r.fields[-2].split('*')[1])\n",
    "    ld_snvs = set(real_ld_snvs) | set(df.index)\n",
    "    null_ld_snvs[i] = ld_snvs\n",
    "    if i % 100 == 0:\n",
    "        print(i)"
   ]
  },
  {
   "cell_type": "code",
   "execution_count": 493,
   "metadata": {
    "collapsed": false
   },
   "outputs": [],
   "source": [
    "se = pd.Series([len(x) for x in null_ld_snvs.values()])"
   ]
  },
  {
   "cell_type": "code",
   "execution_count": 500,
   "metadata": {
    "collapsed": false
   },
   "outputs": [
    {
     "data": {
      "text/plain": [
       "25504"
      ]
     },
     "execution_count": 500,
     "metadata": {},
     "output_type": "execute_result"
    }
   ],
   "source": [
    "se.min()"
   ]
  },
  {
   "cell_type": "code",
   "execution_count": 501,
   "metadata": {
    "collapsed": false
   },
   "outputs": [
    {
     "data": {
      "text/plain": [
       "25582"
      ]
     },
     "execution_count": 501,
     "metadata": {},
     "output_type": "execute_result"
    }
   ],
   "source": [
    "se.max()"
   ]
  },
  {
   "cell_type": "code",
   "execution_count": 498,
   "metadata": {
    "collapsed": false
   },
   "outputs": [
    {
     "data": {
      "image/png": "[encoded data removed]",
      "text/plain": [
       "<matplotlib.figure.Figure at 0x7fcd623f2c90>"
      ]
     },
     "metadata": {},
     "output_type": "display_data"
    }
   ],
   "source": [
    "ax = se.hist()"
   ]
  },
  {
   "cell_type": "code",
   "execution_count": 499,
   "metadata": {
    "collapsed": false
   },
   "outputs": [
    {
     "data": {
      "text/plain": [
       "array([ 25500.,  25510.,  25520.,  25530.,  25540.,  25550.,  25560.,\n",
       "        25570.,  25580.,  25590.])"
      ]
     },
     "execution_count": 499,
     "metadata": {},
     "output_type": "execute_result"
    }
   ],
   "source": [
    "ax.get_xticks()"
   ]
  },
  {
   "cell_type": "code",
   "execution_count": 443,
   "metadata": {
    "collapsed": false
   },
   "outputs": [
    {
     "data": {
      "image/png": "[encoded data removed]",
      "text/plain": [
       "<matplotlib.figure.Figure at 0x7fcd627d3f90>"
      ]
     },
     "metadata": {},
     "output_type": "display_data"
    }
   ],
   "source": [
    "n,b,p = plt.hist([len(x) for x in null_ld_snvs.values()])\n",
    "plt.title('Number of null LD SNVs ({:,} for real)'.format(len(real_ld_snvs)))\n",
    "plt.xlabel('Number of LD SNVs')\n",
    "plt.ylabel('Number of null sets');"
   ]
  },
  {
   "cell_type": "code",
   "execution_count": 444,
   "metadata": {
    "collapsed": false
   },
   "outputs": [
    {
     "data": {
      "image/png": "[encoded data removed]",
      "text/plain": [
       "<matplotlib.figure.Figure at 0x7fcd628db650>"
      ]
     },
     "metadata": {},
     "output_type": "display_data"
    }
   ],
   "source": [
    "np.log10(gwas.PUBMEDID.value_counts()).hist()\n",
    "plt.ylabel('Number of studies')\n",
    "plt.xlabel('$\\log_{10}$ number of hits')\n",
    "plt.title('Number of hits per study');"
   ]
  },
  {
   "cell_type": "markdown",
   "metadata": {},
   "source": [
    "I'm only going to look at GWAS studies with a reasonable number of hits.\n",
    "For now, I'll take studies with 10 or more hits."
   ]
  },
  {
   "cell_type": "code",
   "execution_count": 475,
   "metadata": {
    "collapsed": true
   },
   "outputs": [],
   "source": [
    "vc = gwas.PUBMEDID.value_counts()\n",
    "vc = vc[vc >= 10]"
   ]
  },
  {
   "cell_type": "code",
   "execution_count": 479,
   "metadata": {
    "collapsed": true
   },
   "outputs": [],
   "source": [
    "se = pd.Series(dict(zip(gwas.PUBMEDID, gwas['DISEASE/TRAIT'])))"
   ]
  },
  {
   "cell_type": "code",
   "execution_count": 481,
   "metadata": {
    "collapsed": false
   },
   "outputs": [],
   "source": [
    "vc = vc[vc >= 200]"
   ]
  },
  {
   "cell_type": "code",
   "execution_count": 456,
   "metadata": {
    "collapsed": false
   },
   "outputs": [],
   "source": [
    "vc = gwas.PUBMEDID.value_counts()\n",
    "vc = vc[vc >= 10]\n",
    "overlaps = pd.DataFrame(index=vc.index, columns=['real'] + list(null_sets.columns))\n",
    "for pubmed_id in gwas.PUBMEDID.values:\n",
    "    # Get GWAS SNVs.\n",
    "    s = set(gwas.ix[gwas.PUBMEDID == pubmed_id, 'hg19_loc'])\n",
    "    # Count overlap with real LD SNVs.\n",
    "    #real_overlap = len(real_ld_snvs & s) / float(len(real_ld_snvs))\n",
    "    real_overlap = len(real_ld_snvs & s) / float(len(s))\n",
    "    overlaps.ix[pubmed_id, 'real'] = real_overlap\n",
    "    # Count overlap with each null set.\n",
    "    #null_overlap = []\n",
    "    #for i in null_sets.columns:\n",
    "    #    overlaps.ix[pubmed_id, i] = len(s & null_ld_snvs[i]) / float(len(null_ld_snvs[i]))\n",
    "    # Get empirical p-value.\n",
    "    # Perhaps generate fisher p-value as well? Contingency table is\n",
    "    # eQTL SNV by in LD with GWAS SNP"
   ]
  },
  {
   "cell_type": "code",
   "execution_count": 466,
   "metadata": {
    "collapsed": true
   },
   "outputs": [],
   "source": [
    "vc = gwas.PUBMEDID.value_counts()\n",
    "vc = vc[vc >= 50]"
   ]
  },
  {
   "cell_type": "code",
   "execution_count": 468,
   "metadata": {
    "collapsed": false
   },
   "outputs": [],
   "source": [
    "se = copy.deepcopy(overlaps['real'])\n",
    "se = se[vc.index]"
   ]
  },
  {
   "cell_type": "code",
   "execution_count": 469,
   "metadata": {
    "collapsed": false
   },
   "outputs": [],
   "source": [
    "se.sort(ascending=False)"
   ]
  },
  {
   "cell_type": "code",
   "execution_count": 472,
   "metadata": {
    "collapsed": true
   },
   "outputs": [],
   "source": [
    "d = dict(zip(gwas.PUBMEDID, gwas['DISEASE/TRAIT']))"
   ]
  },
  {
   "cell_type": "code",
   "execution_count": 473,
   "metadata": {
    "collapsed": false
   },
   "outputs": [],
   "source": [
    "se.index = [d[i] for i in se.index]"
   ]
  },
  {
   "cell_type": "code",
   "execution_count": 474,
   "metadata": {
    "collapsed": false
   },
   "outputs": [
    {
     "data": {
      "text/plain": [
       "Age-related macular degeneration                                                                                                                        0.1\n",
       "Liver enzyme levels (alkaline phosphatase)                                                                                                       0.06976744\n",
       "Sex hormone-binding globulin levels                                                                                                                  0.0625\n",
       "Platelet counts                                                                                                                                  0.05555556\n",
       "Diastolic blood pressure                                                                                                                         0.04761905\n",
       "Mean corpuscular hemoglobin                                                                                                                            0.04\n",
       "Hematological parameters                                                                                                                         0.03846154\n",
       "Thyroid hormone levels                                                                                                                           0.03846154\n",
       "Pulmonary function                                                                                                                               0.03333333\n",
       "Systemic lupus erythematosus                                                                                                                     0.02941176\n",
       "Phospholipid levels (plasma)                                                                                                                     0.02857143\n",
       "Plasma omega-6 polyunsaturated fatty acid levels (gamma-linolenic acid)                                                                          0.02777778\n",
       "Metabolic traits                                                                                                                                 0.02702703\n",
       "Pulmonary function (interaction)                                                                                                                 0.02325581\n",
       "Palmitic acid (16:0) plasma levels                                                                                                               0.02325581\n",
       "Red blood cell traits                                                                                                                            0.02222222\n",
       "Coronary heart disease                                                                                                                           0.02040816\n",
       "Cholesterol, total                                                                                                                               0.01898734\n",
       "Urate levels                                                                                                                                     0.01886792\n",
       "Inflammatory bowel disease                                                                                                                       0.01851852\n",
       "Thiazide-induced adverse metabolic effects in hypertensive patients                                                                              0.01694915\n",
       "Educational attainment                                                                                                                             0.015625\n",
       "Height                                                                                                                                           0.01507538\n",
       "Height                                                                                                                                            0.0137931\n",
       "Blood metabolite ratios                                                                                                                          0.01376147\n",
       "Autism spectrum disorder, attention deficit-hyperactivity disorder, bipolar disorder, major depressive disorder, and schizophrenia (combined)    0.01369863\n",
       "QT interval                                                                                                                                      0.01351351\n",
       "Platelet counts                                                                                                                                      0.0125\n",
       "Multiple sclerosis                                                                                                                               0.01234568\n",
       "Rheumatoid arthritis                                                                                                                             0.01149425\n",
       "                                                                                                                                                    ...    \n",
       "Cardiovascular disease risk factors                                                                                                                       0\n",
       "Metabolic syndrome (bivariate traits)                                                                                                                     0\n",
       "Phospholipid levels (plasma)                                                                                                                              0\n",
       "Eye color                                                                                                                                                 0\n",
       "HDL cholesterol                                                                                                                                           0\n",
       "HDL cholesterol                                                                                                                                           0\n",
       "Hypertension                                                                                                                                              0\n",
       "Menarche (age at onset)                                                                                                                                   0\n",
       "Crohn's disease                                                                                                                                           0\n",
       "Visceral adipose tissue/subcutaneous adipose tissue ratio                                                                                                 0\n",
       "Metabolite levels                                                                                                                                         0\n",
       "Urinary metabolites (H-NMR features)                                                                                                                      0\n",
       "Red blood cell traits                                                                                                                                     0\n",
       "Bone mineral density (paediatric, lower limb)                                                                                                             0\n",
       "Type 2 diabetes                                                                                                                                           0\n",
       "Hepcidin levels                                                                                                                                           0\n",
       "Verbal declarative memory                                                                                                                                 0\n",
       "Fasting glucose-related traits (interaction with BMI)                                                                                                     0\n",
       "Mean corpuscular volume                                                                                                                                   0\n",
       "Fasting glucose-related traits                                                                                                                            0\n",
       "Migraine with aura                                                                                                                                        0\n",
       "HDL cholesterol                                                                                                                                           0\n",
       "Serum total protein level                                                                                                                                 0\n",
       "Lewy body disease                                                                                                                                         0\n",
       "Iron status biomarkers (ferritin levels)                                                                                                                  0\n",
       "HDL cholesterol                                                                                                                                           0\n",
       "Coronary artery disease                                                                                                                                   0\n",
       "Mean corpuscular hemoglobin                                                                                                                               0\n",
       "Lipid metabolism phenotypes                                                                                                                               0\n",
       "IgG glycosylation                                                                                                                                         0\n",
       "Name: real, dtype: object"
      ]
     },
     "execution_count": 474,
     "metadata": {},
     "output_type": "execute_result"
    }
   ],
   "source": [
    "se"
   ]
  },
  {
   "cell_type": "code",
   "execution_count": null,
   "metadata": {
    "collapsed": true
   },
   "outputs": [],
   "source": [
    "q"
   ]
  },
  {
   "cell_type": "code",
   "execution_count": null,
   "metadata": {
    "collapsed": true
   },
   "outputs": [],
   "source": []
  },
  {
   "cell_type": "code",
   "execution_count": null,
   "metadata": {
    "collapsed": true
   },
   "outputs": [],
   "source": []
  },
  {
   "cell_type": "code",
   "execution_count": null,
   "metadata": {
    "collapsed": true
   },
   "outputs": [],
   "source": []
  },
  {
   "cell_type": "code",
   "execution_count": 115,
   "metadata": {
    "collapsed": true
   },
   "outputs": [],
   "source": [
    "with open('/raid3/projects/CARDIPS/analysis/cardips-ipsc-eqtl/sandbox/gwas_stuff/phenotypes.txt') as f:\n",
    "    lines = [x.strip().split() for x in f.readlines()]\n",
    "counts = [int(x[0]) for x in lines]\n",
    "phenos = [' '.join(x[1:]) for x in lines]\n",
    "se = pd.Series(counts, index=phenos)\n",
    "se.sort(ascending=False)\n",
    "se = se[se >= 500]"
   ]
  },
  {
   "cell_type": "code",
   "execution_count": 135,
   "metadata": {
    "collapsed": true
   },
   "outputs": [],
   "source": []
  },
  {
   "cell_type": "code",
   "execution_count": 136,
   "metadata": {
    "collapsed": false
   },
   "outputs": [
    {
     "data": {
      "text/plain": [
       "Neuroblastoma (brain cancer)           30570\n",
       "Prostate cancer                         7134\n",
       "Breast cancer                           6252\n",
       "Renal cell carcinoma (renal cancer)     2011\n",
       "Lung cancer                              762\n",
       "Colorectal cancer                        650\n",
       "dtype: int64"
      ]
     },
     "execution_count": 136,
     "metadata": {},
     "output_type": "execute_result"
    }
   ],
   "source": [
    "se[[x for x in se.index if 'cancer' in x.lower()]]"
   ]
  },
  {
   "cell_type": "code",
   "execution_count": 137,
   "metadata": {
    "collapsed": false
   },
   "outputs": [
    {
     "data": {
      "text/plain": [
       "Neuroblastoma (brain cancer)           30570\n",
       "Prostate cancer                         7134\n",
       "Breast cancer                           6252\n",
       "Renal cell carcinoma (renal cancer)     2011\n",
       "Lung cancer                              762\n",
       "Colorectal cancer                        650\n",
       "dtype: int64"
      ]
     },
     "execution_count": 137,
     "metadata": {},
     "output_type": "execute_result"
    }
   ],
   "source": [
    "se[[x for x in se.index if 'cancer' in x.lower()]]"
   ]
  },
  {
   "cell_type": "code",
   "execution_count": 138,
   "metadata": {
    "collapsed": false
   },
   "outputs": [
    {
     "data": {
      "text/plain": [
       "['Fasting blood glucose',\n",
       " 'Diastolic blood pressure (DBP)',\n",
       " 'Systolic blood pressure (SBP)',\n",
       " 'Red blood cell count (RBC)',\n",
       " 'Gene expression of SLC25A43 in peripheral blood monocytes',\n",
       " 'Gene expression of CLDN23 in peripheral blood monocytes',\n",
       " 'Gene expression of SLC25A19 in peripheral blood monocytes',\n",
       " 'Gene expression of BTN3A2 in peripheral blood monocytes',\n",
       " 'Gene expression of HLA-A29.1 in peripheral blood monocytes',\n",
       " 'Gene expression of HLA-DRB1 in peripheral blood monocytes',\n",
       " 'Gene expression of HLA-DRB5 in peripheral blood monocytes']"
      ]
     },
     "execution_count": 138,
     "metadata": {},
     "output_type": "execute_result"
    }
   ],
   "source": [
    "[x for x in se.index if 'blood' in x]"
   ]
  },
  {
   "cell_type": "code",
   "execution_count": 27,
   "metadata": {
    "collapsed": false
   },
   "outputs": [
    {
     "data": {
      "text/html": [
       "<div>\n",
       "<table border=\"1\" class=\"dataframe\">\n",
       "  <thead>\n",
       "    <tr style=\"text-align: right;\">\n",
       "      <th></th>\n",
       "      <th>NHLBIkey</th>\n",
       "      <th>HUPfield</th>\n",
       "      <th>LastCurationDate</th>\n",
       "      <th>CreationDate</th>\n",
       "      <th>SNPid(dbSNP134)</th>\n",
       "      <th>chr(hg19)</th>\n",
       "      <th>pos(hg19)</th>\n",
       "      <th>PMID</th>\n",
       "      <th>SNPid(in paper)</th>\n",
       "      <th>LocationWithinPaper</th>\n",
       "      <th>...</th>\n",
       "      <th>dbSNPClinStatus</th>\n",
       "      <th>ORegAnno</th>\n",
       "      <th>ConservPredTFBS</th>\n",
       "      <th>HumanEnhancer</th>\n",
       "      <th>RNAedit</th>\n",
       "      <th>PolyPhen2</th>\n",
       "      <th>SIFT</th>\n",
       "      <th>LS-SNP</th>\n",
       "      <th>UniProt</th>\n",
       "      <th>EqtlMethMetabStudy</th>\n",
       "    </tr>\n",
       "  </thead>\n",
       "  <tbody>\n",
       "    <tr>\n",
       "      <th>17</th>\n",
       "      <td>2190911518</td>\n",
       "      <td>Jan2014</td>\n",
       "      <td>8/17/12</td>\n",
       "      <td>8/17/12</td>\n",
       "      <td>18</td>\n",
       "      <td>7</td>\n",
       "      <td>11597475</td>\n",
       "      <td>21909115</td>\n",
       "      <td>rs18</td>\n",
       "      <td>Full Data</td>\n",
       "      <td>...</td>\n",
       "      <td>NaN</td>\n",
       "      <td>NaN</td>\n",
       "      <td>NaN</td>\n",
       "      <td>NaN</td>\n",
       "      <td>NaN</td>\n",
       "      <td>NaN</td>\n",
       "      <td>NaN</td>\n",
       "      <td>NaN</td>\n",
       "      <td>NaN</td>\n",
       "      <td>NaN</td>\n",
       "    </tr>\n",
       "    <tr>\n",
       "      <th>20</th>\n",
       "      <td>2190911521</td>\n",
       "      <td>Jan2014</td>\n",
       "      <td>8/17/12</td>\n",
       "      <td>8/17/12</td>\n",
       "      <td>21</td>\n",
       "      <td>7</td>\n",
       "      <td>11596934</td>\n",
       "      <td>21909115</td>\n",
       "      <td>rs21</td>\n",
       "      <td>Full Data</td>\n",
       "      <td>...</td>\n",
       "      <td>NaN</td>\n",
       "      <td>NaN</td>\n",
       "      <td>NaN</td>\n",
       "      <td>NaN</td>\n",
       "      <td>NaN</td>\n",
       "      <td>NaN</td>\n",
       "      <td>NaN</td>\n",
       "      <td>NaN</td>\n",
       "      <td>NaN</td>\n",
       "      <td>NaN</td>\n",
       "    </tr>\n",
       "    <tr>\n",
       "      <th>21</th>\n",
       "      <td>2190911522</td>\n",
       "      <td>Jan2014</td>\n",
       "      <td>8/17/12</td>\n",
       "      <td>8/17/12</td>\n",
       "      <td>22</td>\n",
       "      <td>7</td>\n",
       "      <td>11596502</td>\n",
       "      <td>21909115</td>\n",
       "      <td>rs22</td>\n",
       "      <td>Full Data</td>\n",
       "      <td>...</td>\n",
       "      <td>NaN</td>\n",
       "      <td>NaN</td>\n",
       "      <td>NaN</td>\n",
       "      <td>NaN</td>\n",
       "      <td>NaN</td>\n",
       "      <td>NaN</td>\n",
       "      <td>NaN</td>\n",
       "      <td>NaN</td>\n",
       "      <td>NaN</td>\n",
       "      <td>NaN</td>\n",
       "    </tr>\n",
       "    <tr>\n",
       "      <th>43</th>\n",
       "      <td>2190911544</td>\n",
       "      <td>Jan2014</td>\n",
       "      <td>8/17/12</td>\n",
       "      <td>8/17/12</td>\n",
       "      <td>67</td>\n",
       "      <td>7</td>\n",
       "      <td>11615098</td>\n",
       "      <td>21909115</td>\n",
       "      <td>rs67</td>\n",
       "      <td>Full Data</td>\n",
       "      <td>...</td>\n",
       "      <td>NaN</td>\n",
       "      <td>NaN</td>\n",
       "      <td>NaN</td>\n",
       "      <td>NaN</td>\n",
       "      <td>NaN</td>\n",
       "      <td>NaN</td>\n",
       "      <td>NaN</td>\n",
       "      <td>NaN</td>\n",
       "      <td>NaN</td>\n",
       "      <td>NaN</td>\n",
       "    </tr>\n",
       "    <tr>\n",
       "      <th>45</th>\n",
       "      <td>2190911546</td>\n",
       "      <td>Jan2014</td>\n",
       "      <td>8/17/12</td>\n",
       "      <td>8/17/12</td>\n",
       "      <td>68</td>\n",
       "      <td>7</td>\n",
       "      <td>11614942</td>\n",
       "      <td>21909115</td>\n",
       "      <td>rs68</td>\n",
       "      <td>Full Data</td>\n",
       "      <td>...</td>\n",
       "      <td>NaN</td>\n",
       "      <td>NaN</td>\n",
       "      <td>NaN</td>\n",
       "      <td>NaN</td>\n",
       "      <td>NaN</td>\n",
       "      <td>NaN</td>\n",
       "      <td>NaN</td>\n",
       "      <td>NaN</td>\n",
       "      <td>NaN</td>\n",
       "      <td>NaN</td>\n",
       "    </tr>\n",
       "    <tr>\n",
       "      <th>47</th>\n",
       "      <td>2190911548</td>\n",
       "      <td>Jan2014</td>\n",
       "      <td>8/17/12</td>\n",
       "      <td>8/17/12</td>\n",
       "      <td>69</td>\n",
       "      <td>7</td>\n",
       "      <td>11613172</td>\n",
       "      <td>21909115</td>\n",
       "      <td>rs69</td>\n",
       "      <td>Full Data</td>\n",
       "      <td>...</td>\n",
       "      <td>NaN</td>\n",
       "      <td>NaN</td>\n",
       "      <td>NaN</td>\n",
       "      <td>NaN</td>\n",
       "      <td>NaN</td>\n",
       "      <td>NaN</td>\n",
       "      <td>NaN</td>\n",
       "      <td>NaN</td>\n",
       "      <td>NaN</td>\n",
       "      <td>NaN</td>\n",
       "    </tr>\n",
       "  </tbody>\n",
       "</table>\n",
       "<p>6 rows × 70 columns</p>\n",
       "</div>"
      ],
      "text/plain": [
       "      NHLBIkey HUPfield LastCurationDate CreationDate  SNPid(dbSNP134)  \\\n",
       "17  2190911518  Jan2014          8/17/12      8/17/12               18   \n",
       "20  2190911521  Jan2014          8/17/12      8/17/12               21   \n",
       "21  2190911522  Jan2014          8/17/12      8/17/12               22   \n",
       "43  2190911544  Jan2014          8/17/12      8/17/12               67   \n",
       "45  2190911546  Jan2014          8/17/12      8/17/12               68   \n",
       "47  2190911548  Jan2014          8/17/12      8/17/12               69   \n",
       "\n",
       "    chr(hg19)  pos(hg19)      PMID SNPid(in paper) LocationWithinPaper  \\\n",
       "17          7   11597475  21909115            rs18           Full Data   \n",
       "20          7   11596934  21909115            rs21           Full Data   \n",
       "21          7   11596502  21909115            rs22           Full Data   \n",
       "43          7   11615098  21909115            rs67           Full Data   \n",
       "45          7   11614942  21909115            rs68           Full Data   \n",
       "47          7   11613172  21909115            rs69           Full Data   \n",
       "\n",
       "          ...          dbSNPClinStatus ORegAnno ConservPredTFBS HumanEnhancer  \\\n",
       "17        ...                      NaN      NaN             NaN           NaN   \n",
       "20        ...                      NaN      NaN             NaN           NaN   \n",
       "21        ...                      NaN      NaN             NaN           NaN   \n",
       "43        ...                      NaN      NaN             NaN           NaN   \n",
       "45        ...                      NaN      NaN             NaN           NaN   \n",
       "47        ...                      NaN      NaN             NaN           NaN   \n",
       "\n",
       "   RNAedit PolyPhen2 SIFT LS-SNP UniProt EqtlMethMetabStudy  \n",
       "17     NaN       NaN  NaN    NaN     NaN                NaN  \n",
       "20     NaN       NaN  NaN    NaN     NaN                NaN  \n",
       "21     NaN       NaN  NaN    NaN     NaN                NaN  \n",
       "43     NaN       NaN  NaN    NaN     NaN                NaN  \n",
       "45     NaN       NaN  NaN    NaN     NaN                NaN  \n",
       "47     NaN       NaN  NaN    NaN     NaN                NaN  \n",
       "\n",
       "[6 rows x 70 columns]"
      ]
     },
     "execution_count": 27,
     "metadata": {},
     "output_type": "execute_result"
    }
   ],
   "source": [
    "grasp[grasp[grasp.columns[11]] == 'Systolic blood pressure (SBP)']"
   ]
  },
  {
   "cell_type": "code",
   "execution_count": 20,
   "metadata": {
    "collapsed": false
   },
   "outputs": [],
   "source": [
    "grasp = pd.read_table('/raid3/projects/CARDIPS/analysis/cardips-ipsc-eqtl/sandbox/gwas_stuff/test.tsv')"
   ]
  },
  {
   "cell_type": "code",
   "execution_count": 22,
   "metadata": {
    "collapsed": false
   },
   "outputs": [
    {
     "data": {
      "text/html": [
       "<div>\n",
       "<table border=\"1\" class=\"dataframe\">\n",
       "  <thead>\n",
       "    <tr style=\"text-align: right;\">\n",
       "      <th></th>\n",
       "      <th>NHLBIkey</th>\n",
       "      <th>HUPfield</th>\n",
       "      <th>LastCurationDate</th>\n",
       "      <th>CreationDate</th>\n",
       "      <th>SNPid(dbSNP134)</th>\n",
       "      <th>chr(hg19)</th>\n",
       "      <th>pos(hg19)</th>\n",
       "      <th>PMID</th>\n",
       "      <th>SNPid(in paper)</th>\n",
       "      <th>LocationWithinPaper</th>\n",
       "      <th>...</th>\n",
       "      <th>dbSNPClinStatus</th>\n",
       "      <th>ORegAnno</th>\n",
       "      <th>ConservPredTFBS</th>\n",
       "      <th>HumanEnhancer</th>\n",
       "      <th>RNAedit</th>\n",
       "      <th>PolyPhen2</th>\n",
       "      <th>SIFT</th>\n",
       "      <th>LS-SNP</th>\n",
       "      <th>UniProt</th>\n",
       "      <th>EqtlMethMetabStudy</th>\n",
       "    </tr>\n",
       "  </thead>\n",
       "  <tbody>\n",
       "    <tr>\n",
       "      <th>0</th>\n",
       "      <td>203831461</td>\n",
       "      <td>Jan2014</td>\n",
       "      <td>8/17/12</td>\n",
       "      <td>8/17/12</td>\n",
       "      <td>3</td>\n",
       "      <td>13</td>\n",
       "      <td>32446842</td>\n",
       "      <td>20383146</td>\n",
       "      <td>rs3</td>\n",
       "      <td>Full Scan</td>\n",
       "      <td>...</td>\n",
       "      <td>NaN</td>\n",
       "      <td>NaN</td>\n",
       "      <td>NaN</td>\n",
       "      <td>NaN</td>\n",
       "      <td>NaN</td>\n",
       "      <td>NaN</td>\n",
       "      <td>NaN</td>\n",
       "      <td>NaN</td>\n",
       "      <td>NaN</td>\n",
       "      <td>NaN</td>\n",
       "    </tr>\n",
       "    <tr>\n",
       "      <th>1</th>\n",
       "      <td>204538422</td>\n",
       "      <td>Jan2014</td>\n",
       "      <td>8/17/12</td>\n",
       "      <td>8/17/12</td>\n",
       "      <td>3</td>\n",
       "      <td>13</td>\n",
       "      <td>32446842</td>\n",
       "      <td>20453842</td>\n",
       "      <td>rs3</td>\n",
       "      <td>FullScan</td>\n",
       "      <td>...</td>\n",
       "      <td>NaN</td>\n",
       "      <td>NaN</td>\n",
       "      <td>NaN</td>\n",
       "      <td>NaN</td>\n",
       "      <td>NaN</td>\n",
       "      <td>NaN</td>\n",
       "      <td>NaN</td>\n",
       "      <td>NaN</td>\n",
       "      <td>NaN</td>\n",
       "      <td>NaN</td>\n",
       "    </tr>\n",
       "    <tr>\n",
       "      <th>2</th>\n",
       "      <td>175543003</td>\n",
       "      <td>Jan2014</td>\n",
       "      <td>8/17/12</td>\n",
       "      <td>8/17/12</td>\n",
       "      <td>4</td>\n",
       "      <td>13</td>\n",
       "      <td>32447222</td>\n",
       "      <td>17554300</td>\n",
       "      <td>rs4</td>\n",
       "      <td>Webdata</td>\n",
       "      <td>...</td>\n",
       "      <td>NaN</td>\n",
       "      <td>NaN</td>\n",
       "      <td>NaN</td>\n",
       "      <td>NaN</td>\n",
       "      <td>NaN</td>\n",
       "      <td>NaN</td>\n",
       "      <td>NaN</td>\n",
       "      <td>NaN</td>\n",
       "      <td>NaN</td>\n",
       "      <td>NaN</td>\n",
       "    </tr>\n",
       "    <tr>\n",
       "      <th>3</th>\n",
       "      <td>203831464</td>\n",
       "      <td>Jan2014</td>\n",
       "      <td>8/17/12</td>\n",
       "      <td>8/17/12</td>\n",
       "      <td>4</td>\n",
       "      <td>13</td>\n",
       "      <td>32447222</td>\n",
       "      <td>20383146</td>\n",
       "      <td>rs4</td>\n",
       "      <td>Full Scan</td>\n",
       "      <td>...</td>\n",
       "      <td>NaN</td>\n",
       "      <td>NaN</td>\n",
       "      <td>NaN</td>\n",
       "      <td>NaN</td>\n",
       "      <td>NaN</td>\n",
       "      <td>NaN</td>\n",
       "      <td>NaN</td>\n",
       "      <td>NaN</td>\n",
       "      <td>NaN</td>\n",
       "      <td>NaN</td>\n",
       "    </tr>\n",
       "    <tr>\n",
       "      <th>4</th>\n",
       "      <td>204538425</td>\n",
       "      <td>Jan2014</td>\n",
       "      <td>8/17/12</td>\n",
       "      <td>8/17/12</td>\n",
       "      <td>4</td>\n",
       "      <td>13</td>\n",
       "      <td>32447222</td>\n",
       "      <td>20453842</td>\n",
       "      <td>rs4</td>\n",
       "      <td>FullScan</td>\n",
       "      <td>...</td>\n",
       "      <td>NaN</td>\n",
       "      <td>NaN</td>\n",
       "      <td>NaN</td>\n",
       "      <td>NaN</td>\n",
       "      <td>NaN</td>\n",
       "      <td>NaN</td>\n",
       "      <td>NaN</td>\n",
       "      <td>NaN</td>\n",
       "      <td>NaN</td>\n",
       "      <td>NaN</td>\n",
       "    </tr>\n",
       "  </tbody>\n",
       "</table>\n",
       "<p>5 rows × 70 columns</p>\n",
       "</div>"
      ],
      "text/plain": [
       "    NHLBIkey HUPfield LastCurationDate CreationDate  SNPid(dbSNP134)  \\\n",
       "0  203831461  Jan2014          8/17/12      8/17/12                3   \n",
       "1  204538422  Jan2014          8/17/12      8/17/12                3   \n",
       "2  175543003  Jan2014          8/17/12      8/17/12                4   \n",
       "3  203831464  Jan2014          8/17/12      8/17/12                4   \n",
       "4  204538425  Jan2014          8/17/12      8/17/12                4   \n",
       "\n",
       "   chr(hg19)  pos(hg19)      PMID SNPid(in paper) LocationWithinPaper  \\\n",
       "0         13   32446842  20383146             rs3           Full Scan   \n",
       "1         13   32446842  20453842             rs3            FullScan   \n",
       "2         13   32447222  17554300             rs4             Webdata   \n",
       "3         13   32447222  20383146             rs4           Full Scan   \n",
       "4         13   32447222  20453842             rs4            FullScan   \n",
       "\n",
       "         ...          dbSNPClinStatus ORegAnno ConservPredTFBS HumanEnhancer  \\\n",
       "0        ...                      NaN      NaN             NaN           NaN   \n",
       "1        ...                      NaN      NaN             NaN           NaN   \n",
       "2        ...                      NaN      NaN             NaN           NaN   \n",
       "3        ...                      NaN      NaN             NaN           NaN   \n",
       "4        ...                      NaN      NaN             NaN           NaN   \n",
       "\n",
       "  RNAedit PolyPhen2 SIFT LS-SNP UniProt EqtlMethMetabStudy  \n",
       "0     NaN       NaN  NaN    NaN     NaN                NaN  \n",
       "1     NaN       NaN  NaN    NaN     NaN                NaN  \n",
       "2     NaN       NaN  NaN    NaN     NaN                NaN  \n",
       "3     NaN       NaN  NaN    NaN     NaN                NaN  \n",
       "4     NaN       NaN  NaN    NaN     NaN                NaN  \n",
       "\n",
       "[5 rows x 70 columns]"
      ]
     },
     "execution_count": 22,
     "metadata": {},
     "output_type": "execute_result"
    }
   ],
   "source": [
    "grasp.head()"
   ]
  },
  {
   "cell_type": "code",
   "execution_count": null,
   "metadata": {
    "collapsed": true
   },
   "outputs": [],
   "source": [
    "grasp.head().T"
   ]
  },
  {
   "cell_type": "code",
   "execution_count": 94,
   "metadata": {
    "collapsed": false
   },
   "outputs": [
    {
     "data": {
      "text/html": [
       "<div>\n",
       "<table border=\"1\" class=\"dataframe\">\n",
       "  <thead>\n",
       "    <tr style=\"text-align: right;\">\n",
       "      <th></th>\n",
       "      <th>NHLBIkey</th>\n",
       "      <th>HUPfield</th>\n",
       "      <th>LastCurationDate</th>\n",
       "      <th>CreationDate</th>\n",
       "      <th>SNPid(dbSNP134)</th>\n",
       "      <th>chr(hg19)</th>\n",
       "      <th>pos(hg19)</th>\n",
       "      <th>PMID</th>\n",
       "      <th>SNPid(in paper)</th>\n",
       "      <th>LocationWithinPaper</th>\n",
       "      <th>...</th>\n",
       "      <th>dbSNPClinStatus</th>\n",
       "      <th>ORegAnno</th>\n",
       "      <th>ConservPredTFBS</th>\n",
       "      <th>HumanEnhancer</th>\n",
       "      <th>RNAedit</th>\n",
       "      <th>PolyPhen2</th>\n",
       "      <th>SIFT</th>\n",
       "      <th>LS-SNP</th>\n",
       "      <th>UniProt</th>\n",
       "      <th>EqtlMethMetabStudy</th>\n",
       "    </tr>\n",
       "  </thead>\n",
       "  <tbody>\n",
       "    <tr>\n",
       "      <th>0</th>\n",
       "      <td>203831461</td>\n",
       "      <td>Jan2014</td>\n",
       "      <td>8/17/12</td>\n",
       "      <td>8/17/12</td>\n",
       "      <td>3</td>\n",
       "      <td>13</td>\n",
       "      <td>32446842</td>\n",
       "      <td>20383146</td>\n",
       "      <td>rs3</td>\n",
       "      <td>Full Scan</td>\n",
       "      <td>...</td>\n",
       "      <td>NaN</td>\n",
       "      <td>NaN</td>\n",
       "      <td>NaN</td>\n",
       "      <td>NaN</td>\n",
       "      <td>NaN</td>\n",
       "      <td>NaN</td>\n",
       "      <td>NaN</td>\n",
       "      <td>NaN</td>\n",
       "      <td>NaN</td>\n",
       "      <td>NaN</td>\n",
       "    </tr>\n",
       "    <tr>\n",
       "      <th>1</th>\n",
       "      <td>204538422</td>\n",
       "      <td>Jan2014</td>\n",
       "      <td>8/17/12</td>\n",
       "      <td>8/17/12</td>\n",
       "      <td>3</td>\n",
       "      <td>13</td>\n",
       "      <td>32446842</td>\n",
       "      <td>20453842</td>\n",
       "      <td>rs3</td>\n",
       "      <td>FullScan</td>\n",
       "      <td>...</td>\n",
       "      <td>NaN</td>\n",
       "      <td>NaN</td>\n",
       "      <td>NaN</td>\n",
       "      <td>NaN</td>\n",
       "      <td>NaN</td>\n",
       "      <td>NaN</td>\n",
       "      <td>NaN</td>\n",
       "      <td>NaN</td>\n",
       "      <td>NaN</td>\n",
       "      <td>NaN</td>\n",
       "    </tr>\n",
       "    <tr>\n",
       "      <th>2</th>\n",
       "      <td>175543003</td>\n",
       "      <td>Jan2014</td>\n",
       "      <td>8/17/12</td>\n",
       "      <td>8/17/12</td>\n",
       "      <td>4</td>\n",
       "      <td>13</td>\n",
       "      <td>32447222</td>\n",
       "      <td>17554300</td>\n",
       "      <td>rs4</td>\n",
       "      <td>Webdata</td>\n",
       "      <td>...</td>\n",
       "      <td>NaN</td>\n",
       "      <td>NaN</td>\n",
       "      <td>NaN</td>\n",
       "      <td>NaN</td>\n",
       "      <td>NaN</td>\n",
       "      <td>NaN</td>\n",
       "      <td>NaN</td>\n",
       "      <td>NaN</td>\n",
       "      <td>NaN</td>\n",
       "      <td>NaN</td>\n",
       "    </tr>\n",
       "    <tr>\n",
       "      <th>3</th>\n",
       "      <td>203831464</td>\n",
       "      <td>Jan2014</td>\n",
       "      <td>8/17/12</td>\n",
       "      <td>8/17/12</td>\n",
       "      <td>4</td>\n",
       "      <td>13</td>\n",
       "      <td>32447222</td>\n",
       "      <td>20383146</td>\n",
       "      <td>rs4</td>\n",
       "      <td>Full Scan</td>\n",
       "      <td>...</td>\n",
       "      <td>NaN</td>\n",
       "      <td>NaN</td>\n",
       "      <td>NaN</td>\n",
       "      <td>NaN</td>\n",
       "      <td>NaN</td>\n",
       "      <td>NaN</td>\n",
       "      <td>NaN</td>\n",
       "      <td>NaN</td>\n",
       "      <td>NaN</td>\n",
       "      <td>NaN</td>\n",
       "    </tr>\n",
       "    <tr>\n",
       "      <th>4</th>\n",
       "      <td>204538425</td>\n",
       "      <td>Jan2014</td>\n",
       "      <td>8/17/12</td>\n",
       "      <td>8/17/12</td>\n",
       "      <td>4</td>\n",
       "      <td>13</td>\n",
       "      <td>32447222</td>\n",
       "      <td>20453842</td>\n",
       "      <td>rs4</td>\n",
       "      <td>FullScan</td>\n",
       "      <td>...</td>\n",
       "      <td>NaN</td>\n",
       "      <td>NaN</td>\n",
       "      <td>NaN</td>\n",
       "      <td>NaN</td>\n",
       "      <td>NaN</td>\n",
       "      <td>NaN</td>\n",
       "      <td>NaN</td>\n",
       "      <td>NaN</td>\n",
       "      <td>NaN</td>\n",
       "      <td>NaN</td>\n",
       "    </tr>\n",
       "  </tbody>\n",
       "</table>\n",
       "<p>5 rows × 70 columns</p>\n",
       "</div>"
      ],
      "text/plain": [
       "    NHLBIkey HUPfield LastCurationDate CreationDate  SNPid(dbSNP134)  \\\n",
       "0  203831461  Jan2014          8/17/12      8/17/12                3   \n",
       "1  204538422  Jan2014          8/17/12      8/17/12                3   \n",
       "2  175543003  Jan2014          8/17/12      8/17/12                4   \n",
       "3  203831464  Jan2014          8/17/12      8/17/12                4   \n",
       "4  204538425  Jan2014          8/17/12      8/17/12                4   \n",
       "\n",
       "   chr(hg19)  pos(hg19)      PMID SNPid(in paper) LocationWithinPaper  \\\n",
       "0         13   32446842  20383146             rs3           Full Scan   \n",
       "1         13   32446842  20453842             rs3            FullScan   \n",
       "2         13   32447222  17554300             rs4             Webdata   \n",
       "3         13   32447222  20383146             rs4           Full Scan   \n",
       "4         13   32447222  20453842             rs4            FullScan   \n",
       "\n",
       "         ...          dbSNPClinStatus ORegAnno ConservPredTFBS HumanEnhancer  \\\n",
       "0        ...                      NaN      NaN             NaN           NaN   \n",
       "1        ...                      NaN      NaN             NaN           NaN   \n",
       "2        ...                      NaN      NaN             NaN           NaN   \n",
       "3        ...                      NaN      NaN             NaN           NaN   \n",
       "4        ...                      NaN      NaN             NaN           NaN   \n",
       "\n",
       "  RNAedit PolyPhen2 SIFT LS-SNP UniProt EqtlMethMetabStudy  \n",
       "0     NaN       NaN  NaN    NaN     NaN                NaN  \n",
       "1     NaN       NaN  NaN    NaN     NaN                NaN  \n",
       "2     NaN       NaN  NaN    NaN     NaN                NaN  \n",
       "3     NaN       NaN  NaN    NaN     NaN                NaN  \n",
       "4     NaN       NaN  NaN    NaN     NaN                NaN  \n",
       "\n",
       "[5 rows x 70 columns]"
      ]
     },
     "execution_count": 94,
     "metadata": {},
     "output_type": "execute_result"
    }
   ],
   "source": [
    "grasp.head()"
   ]
  },
  {
   "cell_type": "code",
   "execution_count": 98,
   "metadata": {
    "collapsed": false
   },
   "outputs": [
    {
     "data": {
      "text/plain": [
       "0         Chronic kidney disease (CKD) and renal traits\n",
       "1                                  Rheumatoid arthritis\n",
       "2     Multiple traits (bipolar disorder, coronary ar...\n",
       "3         Chronic kidney disease (CKD) and renal traits\n",
       "4                                  Rheumatoid arthritis\n",
       "5                            Bone mineral density (BMD)\n",
       "6                            Bone mineral density (BMD)\n",
       "7           Ovarian failure (premature ovarian failure)\n",
       "8                                                Height\n",
       "9                                       Waist:hip ratio\n",
       "10    Response to statin treatment (simvastatin, pra...\n",
       "11                             Lipid level measurements\n",
       "12                             Lipid level measurements\n",
       "13                                Albuminuria, in urine\n",
       "14                             Lipid level measurements\n",
       "15                                               Asthma\n",
       "16                                 Rheumatoid arthritis\n",
       "17                                       Blood pressure\n",
       "18                                Albuminuria, in urine\n",
       "19                                 Rheumatoid arthritis\n",
       "20                                       Blood pressure\n",
       "21                                       Blood pressure\n",
       "22                                       Blood pressure\n",
       "23                                       Blood pressure\n",
       "24                      Response to glucose and insulin\n",
       "25                                       Blood pressure\n",
       "26                                       Blood pressure\n",
       "27    Response to statin treatment (simvastatin, pra...\n",
       "28                             Lipid level measurements\n",
       "29                             Lipid level measurements\n",
       "                            ...                        \n",
       "69                             Lipid level measurements\n",
       "70                                  Alzheimer's disease\n",
       "71                                  Major mood disorder\n",
       "72                                               Autism\n",
       "73                             Lipid level measurements\n",
       "74                      Alzheimer's disease, late onset\n",
       "75    Comorbid depressive syndrome and alcohol depen...\n",
       "76                                     Bipolar disorder\n",
       "77    Creutzfeldt-Jakob disease and other prion dise...\n",
       "78                                Metabolites, in urine\n",
       "79    Glucose homeostasis traits (fasting glucose, f...\n",
       "80                                               Height\n",
       "81                                       Blood pressure\n",
       "82    Glucose homeostasis traits (fasting glucose, f...\n",
       "83                                               Height\n",
       "84                                       Blood pressure\n",
       "85    Glucose homeostasis traits (fasting glucose, f...\n",
       "86                                               Height\n",
       "87                                       Blood pressure\n",
       "88    Glucose homeostasis traits (fasting glucose, f...\n",
       "89                                               Height\n",
       "90                                       Blood pressure\n",
       "91                                Metabolites, in urine\n",
       "92                                Metabolites, in urine\n",
       "93        Chronic kidney disease (CKD) and renal traits\n",
       "94                                  Alzheimer's disease\n",
       "95                             Lipid level measurements\n",
       "96                         Gene expression in monocytes\n",
       "97              Leukemia (chronic lymphocytic leukemia)\n",
       "98                                  Alzheimer's disease\n",
       "Name: PaperPhenotypeDescription, dtype: object"
      ]
     },
     "execution_count": 98,
     "metadata": {},
     "output_type": "execute_result"
    }
   ],
   "source": [
    "grasp.PaperPhenotypeDescription"
   ]
  },
  {
   "cell_type": "code",
   "execution_count": 93,
   "metadata": {
    "collapsed": false
   },
   "outputs": [
    {
     "data": {
      "text/plain": [
       "0                                Chronic kidney disease\n",
       "1                                  Rheumatoid arthritis\n",
       "2     Coronary artery disease (CAD), combined contro...\n",
       "3                                Chronic kidney disease\n",
       "4                                  Rheumatoid arthritis\n",
       "5                      Spine bone mineral density (BMD)\n",
       "6                        Hip bone mineral density (BMD)\n",
       "7                             Premature ovarian failure\n",
       "8                                                Height\n",
       "9                                       Waist hip ratio\n",
       "10                  HDL cholesterol change with statins\n",
       "11                                    Total cholesterol\n",
       "12                                      LDL cholesterol\n",
       "13                                     Microalbuminuria\n",
       "14                                        Triglycerides\n",
       "15                                               Asthma\n",
       "16                                 Rheumatoid arthritis\n",
       "17                        Systolic blood pressure (SBP)\n",
       "18                                     Microalbuminuria\n",
       "19                                 Rheumatoid arthritis\n",
       "20                        Systolic blood pressure (SBP)\n",
       "21                        Systolic blood pressure (SBP)\n",
       "22                       Diastolic blood pressure (DBP)\n",
       "23                       Diastolic blood pressure (DBP)\n",
       "24                                       2 hour glucose\n",
       "25                       Diastolic blood pressure (DBP)\n",
       "26                       Diastolic blood pressure (DBP)\n",
       "27                    Triglycerides change with statins\n",
       "28                                      HDL cholesterol\n",
       "29                                      HDL cholesterol\n",
       "                            ...                        \n",
       "69                                        Triglycerides\n",
       "70                                  Alzheimer's disease\n",
       "71                            Major depressive disorder\n",
       "72                                               Autism\n",
       "73                                      HDL cholesterol\n",
       "74                                  Alzheimer's disease\n",
       "75    Comorbid depressive syndrome and alcohol depen...\n",
       "76                                     Bipolar disorder\n",
       "77                   Sporadic Creutzfeldt-Jakob disease\n",
       "78                         3-Aminoisobutyrate:Histidine\n",
       "79                                               HOMA-B\n",
       "80                                               Height\n",
       "81                       Diastolic blood pressure (DBP)\n",
       "82                                               HOMA-B\n",
       "83                                               Height\n",
       "84                       Diastolic blood pressure (DBP)\n",
       "85                                               HOMA-B\n",
       "86                                               Height\n",
       "87                       Diastolic blood pressure (DBP)\n",
       "88                                               HOMA-B\n",
       "89                                               Height\n",
       "90                       Diastolic blood pressure (DBP)\n",
       "91                        3-Hydroxyisovalerate:Tyrosine\n",
       "92                        2-Hydroxyisobutyrate:Tyrosine\n",
       "93                               Chronic kidney disease\n",
       "94                       Late onset Alzheimer's disease\n",
       "95                                        Triglycerides\n",
       "96    Gene expression of DFNA5 in peripheral blood m...\n",
       "97                         Chronic lymphocytic leukemia\n",
       "98                       Late onset Alzheimer's disease\n",
       "Name: Phenotype, dtype: object"
      ]
     },
     "execution_count": 93,
     "metadata": {},
     "output_type": "execute_result"
    }
   ],
   "source": [
    "grasp.Phenotype"
   ]
  },
  {
   "cell_type": "code",
   "execution_count": 92,
   "metadata": {
    "collapsed": false
   },
   "outputs": [
    {
     "name": "stdout",
     "output_type": "stream",
     "text": [
      "NHLBIkey\n",
      "HUPfield\n",
      "LastCurationDate\n",
      "CreationDate\n",
      "SNPid(dbSNP134)\n",
      "chr(hg19)\n",
      "pos(hg19)\n",
      "PMID\n",
      "SNPid(in paper)\n",
      "LocationWithinPaper\n",
      "Pvalue\n",
      "Phenotype\n",
      "PaperPhenotypeDescription\n",
      "PaperPhenotypeCategories\n",
      "DatePub\n",
      "InNHGRIcat(as of 3/31/12)\n",
      "Journal\n",
      "Title\n",
      "IncludesMale/Female Only Analyses\n",
      "Exclusively Male/Female\n",
      "Initial Sample Description\n",
      "Replication Sample Description\n",
      "Platform [SNPs passing QC]\n",
      "GWASancestryDescription\n",
      "TotalSamples(discovery+replication)\n",
      "TotalDiscoverySamples\n",
      "European Discovery\n",
      "African Discovery\n",
      "East Asian Discovery\n",
      "Indian/South Asian Discovery\n",
      "Hispanic Discovery\n",
      "Native Discovery\n",
      "Micronesian Discovery\n",
      "Arab/ME Discovery\n",
      "Mixed Discovery\n",
      "Unspecified Discovery\n",
      "Filipino Discovery\n",
      "Indonesian Discovery\n",
      "Total replication samples\n",
      "European Replication\n",
      "African Replication\n",
      "East Asian Replication\n",
      "Indian/South Asian Replication\n",
      "Hispanic Replication\n",
      "Native Replication\n",
      "Micronesian Replication\n",
      "Arab/ME Replication\n",
      "Mixed Replication\n",
      "Unspecified Replication\n",
      "Filipino Replication\n",
      "Indonesian Replication\n",
      "InGene\n",
      "NearestGene\n",
      "InLincRNA\n",
      "InMiRNA\n",
      "InMiRNABS\n",
      "dbSNPfxn\n",
      "dbSNPMAF\n",
      "dbSNPalleles/het/se\n",
      "dbSNPvalidation\n",
      "dbSNPClinStatus\n",
      "ORegAnno\n",
      "ConservPredTFBS\n",
      "HumanEnhancer\n",
      "RNAedit\n",
      "PolyPhen2\n",
      "SIFT\n",
      "LS-SNP\n",
      "UniProt\n",
      "EqtlMethMetabStudy\n"
     ]
    }
   ],
   "source": [
    "print('\\n'.join(grasp.columns))"
   ]
  },
  {
   "cell_type": "code",
   "execution_count": null,
   "metadata": {
    "collapsed": true
   },
   "outputs": [],
   "source": []
  },
  {
   "cell_type": "code",
   "execution_count": null,
   "metadata": {
    "collapsed": true
   },
   "outputs": [],
   "source": []
  },
  {
   "cell_type": "code",
   "execution_count": null,
   "metadata": {
    "collapsed": true
   },
   "outputs": [],
   "source": []
  }
 ],
 "metadata": {
  "kernelspec": {
   "display_name": "Python 2",
   "language": "python",
   "name": "python2"
  },
  "language_info": {
   "codemirror_mode": {
    "name": "ipython",
    "version": 2
   },
   "file_extension": ".py",
   "mimetype": "text/x-python",
   "name": "python",
   "nbconvert_exporter": "python",
   "pygments_lexer": "ipython2",
   "version": "2.7.10"
  }
 },
 "nbformat": 4,
 "nbformat_minor": 0
}
