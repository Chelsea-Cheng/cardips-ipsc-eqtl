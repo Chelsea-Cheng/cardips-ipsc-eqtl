{
 "cells": [
  {
   "cell_type": "code",
   "execution_count": 87,
   "metadata": {
    "collapsed": false
   },
   "outputs": [
    {
     "name": "stdout",
     "output_type": "stream",
     "text": [
      "The rpy2.ipython extension is already loaded. To reload it, use:\n",
      "  %reload_ext rpy2.ipython\n"
     ]
    }
   ],
   "source": [
    "import cPickle\n",
    "import datetime\n",
    "import glob\n",
    "import gzip\n",
    "import os\n",
    "import random\n",
    "import shutil\n",
    "import subprocess\n",
    "import time\n",
    "import uuid\n",
    "\n",
    "import cdpybio as cpb\n",
    "import matplotlib.pyplot as plt\n",
    "import numpy as np\n",
    "import pandas as pd\n",
    "import pybedtools as pbt\n",
    "import scipy.stats as stats\n",
    "import seaborn as sns\n",
    "import statsmodels.api as sm\n",
    "\n",
    "import ciepy as cpy\n",
    "import projectpy as ppy\n",
    "\n",
    "%matplotlib inline\n",
    "%load_ext rpy2.ipython\n",
    "\n",
    "random.seed(20150605)"
   ]
  },
  {
   "cell_type": "code",
   "execution_count": 3,
   "metadata": {
    "collapsed": true
   },
   "outputs": [],
   "source": [
    "outdir = os.path.join(cpy.root, 'output',\n",
    "                      'run_eqtl_analysis')\n",
    "ppy.makedir(outdir)\n",
    "\n",
    "private_outdir = os.path.join(cpy.root, 'private_output',\n",
    "                              'run_eqtl_analysis')\n",
    "ppy.makedir(private_outdir)"
   ]
  },
  {
   "cell_type": "code",
   "execution_count": 4,
   "metadata": {
    "collapsed": false
   },
   "outputs": [],
   "source": [
    "gene_info = pd.read_table('/raid3/projects/CARDIPS/data/public/gencode_v19/gene_info.tsv',\n",
    "                          index_col=0)\n",
    "\n",
    "fn = os.path.join(cpy.root, 'output', 'eqtl_input', 'gene_to_regions.p')\n",
    "gene_to_regions = cPickle.load(open(fn, 'rb'))\n",
    "\n",
    "vsd = pd.read_table(os.path.join(cpy.root, 'output', 'eqtl_input', 'vst_counts.tsv'), index_col=0)"
   ]
  },
  {
   "cell_type": "markdown",
   "metadata": {},
   "source": [
    "# Run EMMAX"
   ]
  },
  {
   "cell_type": "code",
   "execution_count": 188,
   "metadata": {
    "collapsed": true
   },
   "outputs": [],
   "source": [
    "todo = list(set(vsd.index) - \n",
    "            set([os.path.split(x)[1] for x in glob.glob(os.path.join(outdir, 'test_results', '*'))]))\n",
    "todo = [x for x in todo if gene_info.ix[x, 'chrom'] not in ['chrX', 'chrY', 'chrM']]"
   ]
  },
  {
   "cell_type": "markdown",
   "metadata": {},
   "source": [
    "## PBS"
   ]
  },
  {
   "cell_type": "code",
   "execution_count": 172,
   "metadata": {
    "collapsed": false
   },
   "outputs": [],
   "source": [
    "def run_emmax_pbs(gene_ids, n=10):\n",
    "    \"\"\"\n",
    "    gene_ids is a list of gene_ids and n is the number of genes to submit at the same time.\n",
    "    This script will find n number of genes that EMMAX hasn't been run for and submit a job\n",
    "    for those genes.\n",
    "    \"\"\"\n",
    "    genes_todo = []\n",
    "    i = 0\n",
    "    while len(genes_todo) < n:\n",
    "        if not os.path.exists(os.path.join(outdir, 'test_results', gene_ids[i])):\n",
    "            genes_todo.append(gene_ids[i])\n",
    "        i += 1\n",
    "    res = datetime.datetime.now()\n",
    "    date = '{}-{:02d}-{:02d}-{:02d}-{:02d}-{:02d}'.format(res.year, res.month,\n",
    "                                                          res.day, res.hour,\n",
    "                                                          res.minute,\n",
    "                                                          res.second)\n",
    "    fn = os.path.join(outdir, 'test_results', 'pbs_scripts', '{}.pbs'.format(date))\n",
    "    with open(fn, 'w') as f:\n",
    "        f.write('#!/bin/bash\\n#PBS -q medium\\n')\n",
    "        f.write('#PBS -N emmax_{}\\n'.format(date))\n",
    "        f.write('#PBS -l nodes=1:ppn=2\\n')\n",
    "        f.write('#PBS -o {}/emmax_{}.out\\n'.format(\n",
    "                os.path.join(outdir, 'test_results', 'pbs_scripts'), date))\n",
    "        f.write('#PBS -e {}/emmax_{}.err\\n\\n'.format(\n",
    "                    os.path.join(outdir, 'test_results', 'pbs_scripts'), date))\n",
    "        f.write('source activate cardips\\n')\n",
    "        f.write('source /raid3/projects/CARDIPS/other_repos/'\n",
    "                'cardips-data-software/environment.sh\\n\\n')\n",
    "        for gene_id in genes_todo:\n",
    "            toutdir = os.path.join(outdir, 'test_results', gene_id)\n",
    "            ppy.makedir(toutdir)\n",
    "            c = 'python {} \\\\\\n\\t'.format(os.path.join(cpy.root, 'scripts', 'run_emmax.py'))\n",
    "            c += ' \\\\\\n\\t'.join([\n",
    "                    gene_id,\n",
    "                    os.path.join(cpy.root, 'private_data', 'wgs', 'merged_pass_uuid_ann_ref.vcf.gz'),\n",
    "                    ','.join(gene_to_regions[gene_id]),\n",
    "                    os.path.join(cpy.root, 'output', 'eqtl_input', 'phe_vst_counts.tsv'),\n",
    "                    os.path.join(cpy.root, 'output', 'eqtl_input', 'emmax.ind'),\n",
    "                    os.path.join(cpy.root, 'output', 'kinship_matrix', 'wgs.kin'),\n",
    "                    toutdir,\n",
    "                    '-c {}'.format(os.path.join(cpy.root, 'output', 'eqtl_input', \n",
    "                                                'emmax.cov')),\n",
    "                ])\n",
    "            f.write(c + '\\n\\n')\n",
    "    ppy.submit_job(fn)"
   ]
  },
  {
   "cell_type": "code",
   "execution_count": null,
   "metadata": {
    "collapsed": false
   },
   "outputs": [],
   "source": [
    "for i in range(10):\n",
    "    run_emmax_pbs(todo, n=20)\n",
    "    run_emmax_pbs(todo, n=20)\n",
    "    run_emmax_pbs(todo, n=20)\n",
    "    run_emmax_pbs(todo, n=20)\n",
    "    run_emmax_pbs(todo, n=20)\n",
    "    time.sleep(120)"
   ]
  },
  {
   "cell_type": "code",
   "execution_count": 186,
   "metadata": {
    "collapsed": false,
    "scrolled": false
   },
   "outputs": [],
   "source": [
    "with open('/raid3/projects/CARDIPS/analysis/cardips-ipsc-eqtl/output/'\n",
    "          'run_eqtl_analysis/test_results/pbs_scripts/jnames.txt') as f:\n",
    "    jnames = [x.strip().split()[-1] for x in f.readlines()]\n",
    "\n",
    "pbs = glob.glob('/raid3/projects/CARDIPS/analysis/cardips-ipsc-eqtl/output/'\n",
    "                'run_eqtl_analysis/test_results/pbs_scripts/*.pbs')\n",
    "done = {}\n",
    "for p in pbs:\n",
    "    done[p] = []\n",
    "    with open(p) as f:\n",
    "        lines = [x.strip().split()[0] for x in f.readlines() if x.strip()[0:3] == 'ENS']\n",
    "    for g in lines:\n",
    "        if os.path.exists('/raid3/projects/CARDIPS/analysis/cardips-ipsc-eqtl/output/'\n",
    "                          'run_eqtl_analysis/test_results/{}/minimum_pvalues.tsv'.format(g)):\n",
    "            done[p].append(g)\n",
    "            \n",
    "not_done = []\n",
    "for k in done.keys():\n",
    "    n = os.path.split(k)[1]\n",
    "    if len(done[k]) == 0 and 'emmax_{}'.format(os.path.splitext(n)[0]) not in jnames:\n",
    "        not_done.append(k)\n",
    "        print('{} not started'.format(n))"
   ]
  },
  {
   "cell_type": "code",
   "execution_count": 180,
   "metadata": {
    "collapsed": true
   },
   "outputs": [],
   "source": [
    "for fn in not_done:\n",
    "    ppy.submit_job(fn)"
   ]
  },
  {
   "cell_type": "raw",
   "metadata": {
    "collapsed": true
   },
   "source": [
    "dirs = glob.glob('/raid3/projects/CARDIPS/analysis/cardips-ipsc-eqtl/output/'\n",
    "                 'run_eqtl_analysis/test_results/ENS*')\n",
    "to_remove = [x for x in dirs if len(glob.glob(os.path.join(x, 'minimum_pvalues.tsv'))) == 0]\n",
    "#for d in to_remove:\n",
    "#    shutil.rmtree(d)"
   ]
  },
  {
   "cell_type": "code",
   "execution_count": null,
   "metadata": {
    "collapsed": true
   },
   "outputs": [],
   "source": [
    "3 + "
   ]
  },
  {
   "cell_type": "markdown",
   "metadata": {},
   "source": [
    "## Local"
   ]
  },
  {
   "cell_type": "code",
   "execution_count": 48,
   "metadata": {
    "collapsed": false
   },
   "outputs": [],
   "source": [
    "def run_emmax(gene_id):\n",
    "    os.chdir('/raid3/projects/CARDIPS/analysis/cardips-ipsc-eqtl/notebooks')\n",
    "    toutdir = os.path.join(outdir, 'test_results', gene_id)\n",
    "    if not os.path.exists(toutdir):\n",
    "        ppy.makedir(toutdir)\n",
    "        fn = os.path.join(toutdir, '{}.sh'.format(gene_id))\n",
    "        with open(fn, 'w') as f:\n",
    "            c = 'python {} \\\\\\n\\t'.format(os.path.join(cpy.root, 'scripts', 'run_emmax.py'))\n",
    "            c += ' \\\\\\n\\t'.join([\n",
    "                    gene_id,\n",
    "                    os.path.join(cpy.root, 'private_data', 'wgs', 'merged_pass_uuid_ann_ref.vcf.gz'),\n",
    "                    ','.join(gene_to_regions[gene_id]),\n",
    "                    os.path.join(cpy.root, 'output', 'eqtl_input', 'phe_vst_counts.tsv'),\n",
    "                    os.path.join(cpy.root, 'output', 'eqtl_input', 'emmax.ind'),\n",
    "                    os.path.join(cpy.root, 'output', 'kinship_matrix', 'wgs.kin'),\n",
    "                    toutdir,\n",
    "                    '-c {}'.format(os.path.join(cpy.root, 'output', 'eqtl_input', \n",
    "                                                'emmax.cov')),\n",
    "                ])\n",
    "            f.write(c + '\\n')\n",
    "        subprocess.check_call('bash {}'.format(fn), shell=True)"
   ]
  },
  {
   "cell_type": "code",
   "execution_count": 134,
   "metadata": {
    "collapsed": false
   },
   "outputs": [
    {
     "name": "stdout",
     "output_type": "stream",
     "text": [
      "2015-07-18 08:16:45.402 [IPClusterStop] CRITICAL | Could not read pid file, cluster is probably not running.\r\n"
     ]
    }
   ],
   "source": [
    "!ipcluster stop --profile=cardips"
   ]
  },
  {
   "cell_type": "code",
   "execution_count": 99,
   "metadata": {
    "collapsed": true
   },
   "outputs": [],
   "source": [
    "!ipcluster start -n 12 --daemon --profile=cardips\n",
    "!sleep 30"
   ]
  },
  {
   "cell_type": "code",
   "execution_count": 101,
   "metadata": {
    "collapsed": false
   },
   "outputs": [],
   "source": [
    "from IPython.parallel import Client\n",
    "parallel_client = Client()"
   ]
  },
  {
   "cell_type": "code",
   "execution_count": 102,
   "metadata": {
    "collapsed": true
   },
   "outputs": [],
   "source": [
    "dview = parallel_client[:]"
   ]
  },
  {
   "cell_type": "code",
   "execution_count": 103,
   "metadata": {
    "collapsed": false
   },
   "outputs": [
    {
     "name": "stdout",
     "output_type": "stream",
     "text": [
      "importing os on engine(s)\n",
      "importing subprocess on engine(s)\n",
      "importing time on engine(s)\n",
      "importing ciepy on engine(s)\n",
      "importing projectpy on engine(s)\n"
     ]
    }
   ],
   "source": [
    "with dview.sync_imports():\n",
    "    import os\n",
    "    import subprocess\n",
    "    import time\n",
    "    import ciepy\n",
    "    import projectpy"
   ]
  },
  {
   "cell_type": "code",
   "execution_count": 104,
   "metadata": {
    "collapsed": true
   },
   "outputs": [],
   "source": [
    "%px cpy = ciepy\n",
    "%px ppy = projectpy"
   ]
  },
  {
   "cell_type": "code",
   "execution_count": 105,
   "metadata": {
    "collapsed": false
   },
   "outputs": [
    {
     "data": {
      "text/plain": [
       "<AsyncResult: _push>"
      ]
     },
     "execution_count": 105,
     "metadata": {},
     "output_type": "execute_result"
    }
   ],
   "source": [
    "dview.push(dict(gene_to_regions=gene_to_regions, outdir=outdir, run_emmax=run_emmax))"
   ]
  },
  {
   "cell_type": "code",
   "execution_count": 129,
   "metadata": {
    "collapsed": false
   },
   "outputs": [],
   "source": [
    "dview.scatter('todo', todo);"
   ]
  },
  {
   "cell_type": "code",
   "execution_count": 130,
   "metadata": {
    "collapsed": false
   },
   "outputs": [],
   "source": [
    "sleep = np.arange(0, 10 * len(parallel_client.ids), 10)\n",
    "dview.scatter('sleep', sleep);"
   ]
  },
  {
   "cell_type": "code",
   "execution_count": null,
   "metadata": {
    "collapsed": false
   },
   "outputs": [],
   "source": [
    "%px time.sleep(sleep[0]) ; [run_emmax(x) for x in todo]"
   ]
  }
 ],
 "metadata": {
  "kernelspec": {
   "display_name": "Python 2",
   "language": "python",
   "name": "python2"
  },
  "language_info": {
   "codemirror_mode": {
    "name": "ipython",
    "version": 2
   },
   "file_extension": ".py",
   "mimetype": "text/x-python",
   "name": "python",
   "nbconvert_exporter": "python",
   "pygments_lexer": "ipython2",
   "version": "2.7.10"
  }
 },
 "nbformat": 4,
 "nbformat_minor": 0
}
