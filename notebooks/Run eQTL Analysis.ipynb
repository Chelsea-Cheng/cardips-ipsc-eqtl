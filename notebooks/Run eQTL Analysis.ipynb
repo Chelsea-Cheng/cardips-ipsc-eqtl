{
 "cells": [
  {
   "cell_type": "code",
   "execution_count": 1,
   "metadata": {
    "collapsed": true
   },
   "outputs": [],
   "source": [
    "import glob\n",
    "import gzip\n",
    "import os\n",
    "import random\n",
    "import shutil\n",
    "import subprocess\n",
    "import uuid\n",
    "\n",
    "import cdpybio as cpb\n",
    "import matplotlib.pyplot as plt\n",
    "import numpy as np\n",
    "import pandas as pd\n",
    "import pybedtools as pbt\n",
    "import seaborn as sns\n",
    "import statsmodels.api as sm\n",
    "\n",
    "import ciepy as cpy\n",
    "import projectpy as ppy\n",
    "\n",
    "%matplotlib inline\n",
    "%load_ext rpy2.ipython\n",
    "\n",
    "random.seed(20150605)"
   ]
  },
  {
   "cell_type": "code",
   "execution_count": 2,
   "metadata": {
    "collapsed": true
   },
   "outputs": [],
   "source": [
    "outdir = os.path.join(cpy.root, 'output',\n",
    "                      'run_eqtl_analysis')\n",
    "ppy.makedir(outdir)\n",
    "\n",
    "private_outdir = os.path.join(cpy.root, 'private_output',\n",
    "                              'run_eqtl_analysis')\n",
    "ppy.makedir(private_outdir)"
   ]
  },
  {
   "cell_type": "code",
   "execution_count": null,
   "metadata": {
    "collapsed": true
   },
   "outputs": [],
   "source": [
    "\n",
    "#gene_to_regions = \n",
    "\n",
    "vsd = pd.read_table(os.path.join(cpy.root, 'eqtl_input', 'vst_counts.tsv'), index_col=0)"
   ]
  },
  {
   "cell_type": "code",
   "execution_count": 3,
   "metadata": {
    "collapsed": false
   },
   "outputs": [
    {
     "ename": "NameError",
     "evalue": "name 'fn' is not defined",
     "output_type": "error",
     "traceback": [
      "\u001b[1;31m---------------------------------------------------------------------------\u001b[0m",
      "\u001b[1;31mNameError\u001b[0m                                 Traceback (most recent call last)",
      "\u001b[1;32m<ipython-input-3-f491b2a5eaeb>\u001b[0m in \u001b[0;36m<module>\u001b[1;34m()\u001b[0m\n\u001b[0;32m      5\u001b[0m \u001b[1;33m\u001b[0m\u001b[0m\n\u001b[0;32m      6\u001b[0m \u001b[0mos\u001b[0m\u001b[1;33m.\u001b[0m\u001b[0mpath\u001b[0m\u001b[1;33m.\u001b[0m\u001b[0mjoin\u001b[0m\u001b[1;33m(\u001b[0m\u001b[0mcpy\u001b[0m\u001b[1;33m.\u001b[0m\u001b[0mroot\u001b[0m\u001b[1;33m,\u001b[0m \u001b[1;34m'private_data'\u001b[0m\u001b[1;33m,\u001b[0m \u001b[1;34m'DI_6a_db_gap_pedigree_04292015_UUIDs_only_V1.xlsx'\u001b[0m\u001b[1;33m)\u001b[0m\u001b[1;33m\u001b[0m\u001b[0m\n\u001b[1;32m----> 7\u001b[1;33m \u001b[0mpedigree\u001b[0m \u001b[1;33m=\u001b[0m \u001b[0mpd\u001b[0m\u001b[1;33m.\u001b[0m\u001b[0mread_excel\u001b[0m\u001b[1;33m(\u001b[0m\u001b[0mfn\u001b[0m\u001b[1;33m)\u001b[0m\u001b[1;33m\u001b[0m\u001b[0m\n\u001b[0m\u001b[0;32m      8\u001b[0m \u001b[0mpedigree\u001b[0m\u001b[1;33m.\u001b[0m\u001b[0mindex\u001b[0m \u001b[1;33m=\u001b[0m \u001b[0mpedigree\u001b[0m\u001b[1;33m.\u001b[0m\u001b[0mSUBJECT_ID\u001b[0m\u001b[1;33m\u001b[0m\u001b[0m\n\u001b[0;32m      9\u001b[0m \u001b[1;33m\u001b[0m\u001b[0m\n",
      "\u001b[1;31mNameError\u001b[0m: name 'fn' is not defined"
     ]
    }
   ],
   "source": [
    "array_meta = pd.read_table(os.path.join(cpy.root, 'data', 'array_metadata.tsv'), index_col=0)\n",
    "wgs_meta = pd.read_table(os.path.join(cpy.root, 'data', 'wgs_metadata.tsv'), index_col=0, \n",
    "                         squeeze=True)\n",
    "rna_meta = pd.read_table(os.path.join(cpy.root, 'data', 'rna_seq_metadata.tsv'), index_col=0)\n",
    "\n",
    "os.path.join(cpy.root, 'private_data', 'DI_6a_db_gap_pedigree_04292015_UUIDs_only_V1.xlsx')\n",
    "pedigree = pd.read_excel(fn)\n",
    "pedigree.index = pedigree.SUBJECT_ID\n",
    "\n",
    "gene_counts = pd.read_table(os.path.join(cpy.root, 'data', 'gene_counts.tsv'),\n",
    "                            index_col=0)\n",
    "gene_info = pd.read_table('/raid3/projects/CARDIPS/data/public/gencode_v19/gene_info.tsv',\n",
    "                          index_col=0)\n",
    "genes = pbt.BedTool('/raid3/projects/CARDIPS/data/public/gencode_v19/genes.bed')\n",
    "\n"
   ]
  },
  {
   "cell_type": "code",
   "execution_count": null,
   "metadata": {
    "collapsed": true
   },
   "outputs": [],
   "source": []
  },
  {
   "cell_type": "code",
   "execution_count": null,
   "metadata": {
    "collapsed": true
   },
   "outputs": [],
   "source": [
    "def run_emmax_permutations(gene_id, regions, ped, kinship_matrix, tempdir, outdir, \n",
    "                           permuted_peds):\n",
    "    \"\"\"\n",
    "    Run EMMAX for a single gene given a ped file and permuted ped files.\n",
    "    \n",
    "    Parameters\n",
    "    ----------\n",
    "    gene_id : str\n",
    "        Gencode gene ID for gene to test.\n",
    "        \n",
    "    regions : list\n",
    "        List of strings of the form 'chr1:100-200'. Biallelic SNVs in these regions\n",
    "        will be tested.\n",
    "    \n",
    "    ped : str\n",
    "        Path to PED file with actual genotypes (i.e. not permuted).\n",
    "        \n",
    "    kinship_matrix : str\n",
    "        Path to kinship matrix file.\n",
    "        \n",
    "    tempdir : str\n",
    "        Path to directory where temp directory should be made.\n",
    "        \n",
    "    outdir : str\n",
    "        Path to directory where results will be saved.\n",
    "        \n",
    "    permuted_peds : list\n",
    "        List of strings of paths to permuted PED files.\n",
    "\n",
    "    \"\"\"\n",
    "    tempdir = os.path.join(tempdir, gene_id)\n",
    "    ppy.makedir(tempdir)\n",
    "\n",
    "    curdir = os.path.realpath(os.curdir)\n",
    "    os.chdir(tempdir)\n",
    "    \n",
    "    # Make VCF file.\n",
    "    vcf = _make_emmax_vcf(gene_id, tempdir, regions)\n",
    "    \n",
    "    # Run EMMAX for real data.\n",
    "    _emmax(gene_id, ped, kinship_matrix, vcf, gene_id)\n",
    "    \n",
    "    # Run EMMAX for permuted data.\n",
    "    names = []\n",
    "    pvalues = []\n",
    "    for fn in permuted_peds:\n",
    "        prefix = os.path.splitext(os.path.split(fn)[1])[0]\n",
    "        names.append(prefix)\n",
    "        _emmax(gene_id, fn, kinship_matrix, vcf, prefix)\n",
    "        out = '{}.epacts.gz'.format(prefix)\n",
    "        res = _read_emmax_output(out)\n",
    "        res.index = 'chr' + res.CHROM.astype(str) + ':' + res.BEG.astype(str)\n",
    "        pvalues.append(res.PVALUE)\n",
    "        res.PVALUE.to_csv('{}_pvalues.tsv'.format(prefix), sep='\\t')\n",
    "        c = 'rm {}.epacts.gz'.format(prefix)\n",
    "        subprocess.check_call(c, shell=True)\n",
    "    pvalues = pd.DataFrame(pvalues, index=names).T\n",
    "    pvalues.to_csv('permuted_pvalues.tsv', sep='\\t')\n",
    "    \n",
    "    # Remove VCF file.\n",
    "    c = 'rm {0}.vcf.gz {0}.vcf.gz.tbi'.format(gene_id)\n",
    "    subprocess.check_call(c, shell=True)\n",
    "    \n",
    "    # Copy output to outdir.\n",
    "    outdir = os.path.join(outdir, gene_id)\n",
    "    ppy.makedir(outdir)\n",
    "    shutil.move('{}.epacts.gz'.format(gene_id), outdir)\n",
    "    shutil.move('permuted_pvalues.tsv', outdir)\n",
    "    shutil.rmtree(tempdir)\n",
    "    \n",
    "    os.chdir(curdir)\n",
    "    \n",
    "def _emmax(gene_id, ped, kinship_matrix, vcf, prefix):\n",
    "    \"\"\"\n",
    "    Execute EMMAX command.\n",
    "\n",
    "    Parameters\n",
    "    ----------\n",
    "    gene_id : str\n",
    "        Gencode gene ID for gene to test.\n",
    "    \n",
    "    ped : str\n",
    "        Path to PED file with actual genotypes (i.e. not permuted).\n",
    "        \n",
    "    kinship_matrix : str\n",
    "        Path to kinship matrix file.\n",
    "        \n",
    "    vcf : str\n",
    "        Path to VCF file with SNVs to test.\n",
    "        \n",
    "    prefix : str\n",
    "        Prefix for naming output files.\n",
    "\n",
    "    \"\"\"\n",
    "    c = ('{} single --vcf {} --ped {} --min-maf 0.1 --kin {} --pheno {} '\n",
    "         '--cov FC1 --cov FC2 --test q.emmax --out {} --run 4'.format(\n",
    "        ppy.epacts,\n",
    "        vcf,\n",
    "        ped,\n",
    "        kinship_matrix,\n",
    "        gene_id,\n",
    "        prefix))\n",
    "    subprocess.check_call(c, shell=True)\n",
    "    _delete_extra_files(prefix)\n",
    "    \n",
    "def _make_emmax_vcf(gene_id, tempdir, regions):\n",
    "    fn = os.path.join(tempdir, '{}.vcf.gz'.format(gene_id))\n",
    "    c = ('{} view {} -q 0.1:minor -m2 -M2 -v snps -r {} | '\n",
    "         '{} annotate --rename-chrs {} -O z > {}'.format(\n",
    "            ppy.bcftools, \n",
    "            os.path.join(cpy.root, 'private_data', 'wgs', 'merged_pass_uuid_ann_ref.vcf.gz'),\n",
    "            ','.join(regions),\n",
    "            ppy.bcftools,\n",
    "            os.path.join(cpy.root, 'data', 'chromosome_conversion.txt'),\n",
    "            fn))\n",
    "    subprocess.check_call(c, shell=True)\n",
    "\n",
    "    c = ('{} index --tbi {}'.format(ppy.bcftools, fn))\n",
    "    subprocess.check_call(c, shell=True)\n",
    "    return fn\n",
    "    \n",
    "def _delete_extra_files(prefix):\n",
    "    \"\"\"\n",
    "    Delete extra EMMAX files that we don't need.\n",
    "    \"\"\"\n",
    "    to_delete = ['cov', 'eigR', 'epacts.conf', 'epacts.gz.tbi', 'epacts.mh.pdf', 'epacts.OK', \n",
    "                 'epacts.qq.pdf', 'epacts.R', 'epacts.top5000', 'ind', 'Makefile', 'phe', 'reml']\n",
    "    for suffix in to_delete:\n",
    "        c = 'rm {}.{}'.format(prefix, suffix)\n",
    "        subprocess.check_call(c, shell=True)\n",
    "        \n",
    "def _read_emmax_output(fn):\n",
    "    with gzip.open(fn) as f:\n",
    "        lines = [x.strip().split('\\t') for x in f.readlines()]\n",
    "    lines[0][0] = lines[0][0][1:]\n",
    "    res = pd.DataFrame(lines[1:], columns=lines[0])\n",
    "    res = res.convert_objects(convert_numeric=True)\n",
    "    return res"
   ]
  },
  {
   "cell_type": "markdown",
   "metadata": {},
   "source": [
    "TODO: Move permutations to separate function."
   ]
  },
  {
   "cell_type": "code",
   "execution_count": null,
   "metadata": {
    "collapsed": true
   },
   "outputs": [],
   "source": [
    "ped_fn = os.path.join(cpy.root, 'private_output', 'eqtl_input', 'vsd.ped')\n",
    "kinship_matrix_fn = os.path.join(cpy.root, 'output', 'kinship_matrix', 'wgs.kinf')\n",
    "tempdir = '/dev/shm'"
   ]
  },
  {
   "cell_type": "code",
   "execution_count": null,
   "metadata": {
    "collapsed": true
   },
   "outputs": [],
   "source": [
    "os.chdir('/raid3/projects/CARDIPS/analysis/cardips-ipsc-eqtl/notebooks')\n",
    "\n",
    "gene_id = test_gene_id\n",
    "regions = gene_to_regions[test_gene_id]\n",
    "ped = ped_fn\n",
    "kinship_matrix = os.path.join(cpy.root, 'output', 'kinship_matrix', 'wgs.kinf')\n",
    "tempdir = '/dev/shm'\n",
    "outdir = outdir\n",
    "permuted_peds = glob.glob(os.path.join(private_outdir, 'permuted_*.ped'))\n",
    "#run_emmax_permutations(gene_id, regions, ped, kinship_matrix, tempdir, outdir, permuted_peds)"
   ]
  }
 ],
 "metadata": {
  "kernelspec": {
   "display_name": "Python 2",
   "language": "python",
   "name": "python2"
  },
  "language_info": {
   "codemirror_mode": {
    "name": "ipython",
    "version": 2
   },
   "file_extension": ".py",
   "mimetype": "text/x-python",
   "name": "python",
   "nbconvert_exporter": "python",
   "pygments_lexer": "ipython2",
   "version": "2.7.10"
  }
 },
 "nbformat": 4,
 "nbformat_minor": 0
}
