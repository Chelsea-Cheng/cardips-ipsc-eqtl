{
 "cells": [
  {
   "cell_type": "code",
   "execution_count": 87,
   "metadata": {
    "collapsed": false
   },
   "outputs": [
    {
     "name": "stdout",
     "output_type": "stream",
     "text": [
      "The rpy2.ipython extension is already loaded. To reload it, use:\n",
      "  %reload_ext rpy2.ipython\n"
     ]
    }
   ],
   "source": [
    "import cPickle\n",
    "import datetime\n",
    "import glob\n",
    "import gzip\n",
    "import os\n",
    "import random\n",
    "import shutil\n",
    "import subprocess\n",
    "import time\n",
    "import uuid\n",
    "\n",
    "import cdpybio as cpb\n",
    "import matplotlib.pyplot as plt\n",
    "import numpy as np\n",
    "import pandas as pd\n",
    "import pybedtools as pbt\n",
    "import scipy.stats as stats\n",
    "import seaborn as sns\n",
    "import statsmodels.api as sm\n",
    "\n",
    "import ciepy as cpy\n",
    "import projectpy as ppy\n",
    "\n",
    "%matplotlib inline\n",
    "%load_ext rpy2.ipython\n",
    "\n",
    "random.seed(20150605)"
   ]
  },
  {
   "cell_type": "code",
   "execution_count": 3,
   "metadata": {
    "collapsed": true
   },
   "outputs": [],
   "source": [
    "outdir = os.path.join(cpy.root, 'output',\n",
    "                      'run_eqtl_analysis')\n",
    "ppy.makedir(outdir)\n",
    "\n",
    "private_outdir = os.path.join(cpy.root, 'private_output',\n",
    "                              'run_eqtl_analysis')\n",
    "ppy.makedir(private_outdir)"
   ]
  },
  {
   "cell_type": "code",
   "execution_count": 4,
   "metadata": {
    "collapsed": false
   },
   "outputs": [],
   "source": [
    "gene_info = pd.read_table('/raid3/projects/CARDIPS/data/public/gencode_v19/gene_info.tsv',\n",
    "                          index_col=0)\n",
    "\n",
    "fn = os.path.join(cpy.root, 'output', 'eqtl_input', 'gene_to_regions.p')\n",
    "gene_to_regions = cPickle.load(open(fn, 'rb'))\n",
    "\n",
    "vsd = pd.read_table(os.path.join(cpy.root, 'output', 'eqtl_input', 'vst_counts.tsv'), index_col=0)"
   ]
  },
  {
   "cell_type": "markdown",
   "metadata": {},
   "source": [
    "# Normality of Expression Values\n",
    "\n",
    "I want to see how normal the expression values are."
   ]
  },
  {
   "cell_type": "code",
   "execution_count": 5,
   "metadata": {
    "collapsed": false
   },
   "outputs": [],
   "source": [
    "res = stats.mstats.normaltest(vsd, axis=1)"
   ]
  },
  {
   "cell_type": "code",
   "execution_count": 6,
   "metadata": {
    "collapsed": false
   },
   "outputs": [
    {
     "data": {
      "image/png": "[encoded data removed]",
      "text/plain": [
       "<matplotlib.figure.Figure at 0x7eff6f83ec10>"
      ]
     },
     "metadata": {},
     "output_type": "display_data"
    }
   ],
   "source": [
    "pd.Series(-1 * np.log(res[1])).hist(bins=20)\n",
    "plt.ylabel('Number of genes')\n",
    "plt.xlabel('$-\\log$ $p$-value for test of normality');"
   ]
  },
  {
   "cell_type": "code",
   "execution_count": 7,
   "metadata": {
    "collapsed": false
   },
   "outputs": [
    {
     "data": {
      "text/plain": [
       "7771"
      ]
     },
     "execution_count": 7,
     "metadata": {},
     "output_type": "execute_result"
    }
   ],
   "source": [
    "(res[1] < 0.05).sum()"
   ]
  },
  {
   "cell_type": "markdown",
   "metadata": {},
   "source": [
    "It seems like a fair number of genes deviate from normality. However, when I've looked at some\n",
    "genes graphically, the distributions often aren't too weird. I'm not sure whether I need to \n",
    "normalize the data (quantile, map to normal, etc.) or not."
   ]
  },
  {
   "cell_type": "markdown",
   "metadata": {},
   "source": [
    "# Run EMMAX"
   ]
  },
  {
   "cell_type": "raw",
   "metadata": {
    "collapsed": true
   },
   "source": [
    "gene_id = gene_info[gene_info.gene_name == 'SOX2'].index[0]\n",
    "\n",
    "toutdir = os.path.join(outdir, 'test_results', gene_id)\n",
    "ppy.makedir(toutdir)\n",
    "with open(os.path.join(toutdir, '{}.sh'.format(gene_id)), 'w') as f:\n",
    "    f.write('cd {}\\n\\n'.format(toutdir))\n",
    "    c = 'python {} \\\\\\n\\t'.format(os.path.join(cpy.root, 'scripts', 'run_emmax.py'))\n",
    "    c += ' \\\\\\n\\t'.join([\n",
    "            gene_id,\n",
    "            os.path.join(cpy.root, 'private_data', 'wgs', 'merged_pass_uuid_ann_ref.vcf.gz'),\n",
    "            ','.join(gene_to_regions[gene_id]),\n",
    "            os.path.join(cpy.root, 'output', 'eqtl_input', 'phe_vst_counts.tsv'),\n",
    "            os.path.join(cpy.root, 'output', 'eqtl_input', 'emmax.ind'),\n",
    "            os.path.join(cpy.root, 'output', 'kinship_matrix', 'wgs.kin'),\n",
    "            toutdir,\n",
    "            '-c {}'.format(os.path.join(cpy.root, 'output', 'eqtl_input', \n",
    "                                        'emmax.cov')),\n",
    "        ])\n",
    "    f.write(c + '\\n')"
   ]
  },
  {
   "cell_type": "code",
   "execution_count": 188,
   "metadata": {
    "collapsed": true
   },
   "outputs": [],
   "source": [
    "todo = list(set(vsd.index) - \n",
    "            set([os.path.split(x)[1] for x in glob.glob(os.path.join(outdir, 'test_results', '*'))]))\n",
    "todo = [x for x in todo if gene_info.ix[x, 'chrom'] not in ['chrX', 'chrY', 'chrM']]"
   ]
  },
  {
   "cell_type": "markdown",
   "metadata": {},
   "source": [
    "## PBS"
   ]
  },
  {
   "cell_type": "code",
   "execution_count": 172,
   "metadata": {
    "collapsed": false
   },
   "outputs": [],
   "source": [
    "def run_emmax_pbs(gene_ids, n=10):\n",
    "    \"\"\"\n",
    "    gene_ids is a list of gene_ids and n is the number of genes to submit at the same time.\n",
    "    This script will find n number of genes that EMMAX hasn't been run for and submit a job\n",
    "    for those genes.\n",
    "    \"\"\"\n",
    "    genes_todo = []\n",
    "    i = 0\n",
    "    while len(genes_todo) < n:\n",
    "        if not os.path.exists(os.path.join(outdir, 'test_results', gene_ids[i])):\n",
    "            genes_todo.append(gene_ids[i])\n",
    "        i += 1\n",
    "    res = datetime.datetime.now()\n",
    "    date = '{}-{:02d}-{:02d}-{:02d}-{:02d}-{:02d}'.format(res.year, res.month,\n",
    "                                                          res.day, res.hour,\n",
    "                                                          res.minute,\n",
    "                                                          res.second)\n",
    "    fn = os.path.join(outdir, 'test_results', 'pbs_scripts', '{}.pbs'.format(date))\n",
    "    with open(fn, 'w') as f:\n",
    "        f.write('#!/bin/bash\\n#PBS -q medium\\n')\n",
    "        f.write('#PBS -N emmax_{}\\n'.format(date))\n",
    "        f.write('#PBS -l nodes=1:ppn=2\\n')\n",
    "        f.write('#PBS -o {}/emmax_{}.out\\n'.format(\n",
    "                os.path.join(outdir, 'test_results', 'pbs_scripts'), date))\n",
    "        f.write('#PBS -e {}/emmax_{}.err\\n\\n'.format(\n",
    "                    os.path.join(outdir, 'test_results', 'pbs_scripts'), date))\n",
    "        f.write('source activate cardips\\n')\n",
    "        f.write('source /raid3/projects/CARDIPS/other_repos/'\n",
    "                'cardips-data-software/environment.sh\\n\\n')\n",
    "        for gene_id in genes_todo:\n",
    "            toutdir = os.path.join(outdir, 'test_results', gene_id)\n",
    "            ppy.makedir(toutdir)\n",
    "            c = 'python {} \\\\\\n\\t'.format(os.path.join(cpy.root, 'scripts', 'run_emmax.py'))\n",
    "            c += ' \\\\\\n\\t'.join([\n",
    "                    gene_id,\n",
    "                    os.path.join(cpy.root, 'private_data', 'wgs', 'merged_pass_uuid_ann_ref.vcf.gz'),\n",
    "                    ','.join(gene_to_regions[gene_id]),\n",
    "                    os.path.join(cpy.root, 'output', 'eqtl_input', 'phe_vst_counts.tsv'),\n",
    "                    os.path.join(cpy.root, 'output', 'eqtl_input', 'emmax.ind'),\n",
    "                    os.path.join(cpy.root, 'output', 'kinship_matrix', 'wgs.kin'),\n",
    "                    toutdir,\n",
    "                    '-c {}'.format(os.path.join(cpy.root, 'output', 'eqtl_input', \n",
    "                                                'emmax.cov')),\n",
    "                ])\n",
    "            f.write(c + '\\n\\n')\n",
    "    ppy.submit_job(fn)"
   ]
  },
  {
   "cell_type": "code",
   "execution_count": null,
   "metadata": {
    "collapsed": false
   },
   "outputs": [],
   "source": [
    "for i in range(10):\n",
    "    run_emmax_pbs(todo, n=20)\n",
    "    run_emmax_pbs(todo, n=20)\n",
    "    run_emmax_pbs(todo, n=20)\n",
    "    run_emmax_pbs(todo, n=20)\n",
    "    run_emmax_pbs(todo, n=20)\n",
    "    time.sleep(120)"
   ]
  },
  {
   "cell_type": "code",
   "execution_count": 186,
   "metadata": {
    "collapsed": false,
    "scrolled": false
   },
   "outputs": [],
   "source": [
    "with open('/raid3/projects/CARDIPS/analysis/cardips-ipsc-eqtl/output/'\n",
    "          'run_eqtl_analysis/test_results/pbs_scripts/jnames.txt') as f:\n",
    "    jnames = [x.strip().split()[-1] for x in f.readlines()]\n",
    "\n",
    "pbs = glob.glob('/raid3/projects/CARDIPS/analysis/cardips-ipsc-eqtl/output/'\n",
    "                'run_eqtl_analysis/test_results/pbs_scripts/*.pbs')\n",
    "done = {}\n",
    "for p in pbs:\n",
    "    done[p] = []\n",
    "    with open(p) as f:\n",
    "        lines = [x.strip().split()[0] for x in f.readlines() if x.strip()[0:3] == 'ENS']\n",
    "    for g in lines:\n",
    "        if os.path.exists('/raid3/projects/CARDIPS/analysis/cardips-ipsc-eqtl/output/'\n",
    "                          'run_eqtl_analysis/test_results/{}/minimum_pvalues.tsv'.format(g)):\n",
    "            done[p].append(g)\n",
    "            \n",
    "not_done = []\n",
    "for k in done.keys():\n",
    "    n = os.path.split(k)[1]\n",
    "    if len(done[k]) == 0 and 'emmax_{}'.format(os.path.splitext(n)[0]) not in jnames:\n",
    "        not_done.append(k)\n",
    "        print('{} not started'.format(n))"
   ]
  },
  {
   "cell_type": "code",
   "execution_count": 180,
   "metadata": {
    "collapsed": true
   },
   "outputs": [],
   "source": [
    "for fn in not_done:\n",
    "    ppy.submit_job(fn)"
   ]
  },
  {
   "cell_type": "code",
   "execution_count": 90,
   "metadata": {
    "collapsed": true
   },
   "outputs": [],
   "source": [
    "dirs = glob.glob('/raid3/projects/CARDIPS/analysis/cardips-ipsc-eqtl/output/'\n",
    "                 'run_eqtl_analysis/test_results/ENS*')\n",
    "to_remove = [x for x in dirs if len(glob.glob(os.path.join(x, 'minimum_pvalues.tsv'))) == 0]\n",
    "#for d in to_remove:\n",
    "#    shutil.rmtree(d)"
   ]
  },
  {
   "cell_type": "markdown",
   "metadata": {},
   "source": [
    "## Local"
   ]
  },
  {
   "cell_type": "code",
   "execution_count": 48,
   "metadata": {
    "collapsed": false
   },
   "outputs": [],
   "source": [
    "def run_emmax(gene_id):\n",
    "    os.chdir('/raid3/projects/CARDIPS/analysis/cardips-ipsc-eqtl/notebooks')\n",
    "    toutdir = os.path.join(outdir, 'test_results', gene_id)\n",
    "    if not os.path.exists(toutdir):\n",
    "        ppy.makedir(toutdir)\n",
    "        fn = os.path.join(toutdir, '{}.sh'.format(gene_id))\n",
    "        with open(fn, 'w') as f:\n",
    "            c = 'python {} \\\\\\n\\t'.format(os.path.join(cpy.root, 'scripts', 'run_emmax.py'))\n",
    "            c += ' \\\\\\n\\t'.join([\n",
    "                    gene_id,\n",
    "                    os.path.join(cpy.root, 'private_data', 'wgs', 'merged_pass_uuid_ann_ref.vcf.gz'),\n",
    "                    ','.join(gene_to_regions[gene_id]),\n",
    "                    os.path.join(cpy.root, 'output', 'eqtl_input', 'phe_vst_counts.tsv'),\n",
    "                    os.path.join(cpy.root, 'output', 'eqtl_input', 'emmax.ind'),\n",
    "                    os.path.join(cpy.root, 'output', 'kinship_matrix', 'wgs.kin'),\n",
    "                    toutdir,\n",
    "                    '-c {}'.format(os.path.join(cpy.root, 'output', 'eqtl_input', \n",
    "                                                'emmax.cov')),\n",
    "                ])\n",
    "            f.write(c + '\\n')\n",
    "        subprocess.check_call('bash {}'.format(fn), shell=True)"
   ]
  },
  {
   "cell_type": "code",
   "execution_count": 134,
   "metadata": {
    "collapsed": false
   },
   "outputs": [
    {
     "name": "stdout",
     "output_type": "stream",
     "text": [
      "2015-07-18 08:16:45.402 [IPClusterStop] CRITICAL | Could not read pid file, cluster is probably not running.\r\n"
     ]
    }
   ],
   "source": [
    "!ipcluster stop --profile=cardips"
   ]
  },
  {
   "cell_type": "code",
   "execution_count": 99,
   "metadata": {
    "collapsed": true
   },
   "outputs": [],
   "source": [
    "!ipcluster start -n 12 --daemon --profile=cardips\n",
    "!sleep 30"
   ]
  },
  {
   "cell_type": "code",
   "execution_count": 101,
   "metadata": {
    "collapsed": false
   },
   "outputs": [],
   "source": [
    "from IPython.parallel import Client\n",
    "parallel_client = Client()"
   ]
  },
  {
   "cell_type": "code",
   "execution_count": 102,
   "metadata": {
    "collapsed": true
   },
   "outputs": [],
   "source": [
    "dview = parallel_client[:]"
   ]
  },
  {
   "cell_type": "code",
   "execution_count": 103,
   "metadata": {
    "collapsed": false
   },
   "outputs": [
    {
     "name": "stdout",
     "output_type": "stream",
     "text": [
      "importing os on engine(s)\n",
      "importing subprocess on engine(s)\n",
      "importing time on engine(s)\n",
      "importing ciepy on engine(s)\n",
      "importing projectpy on engine(s)\n"
     ]
    }
   ],
   "source": [
    "with dview.sync_imports():\n",
    "    import os\n",
    "    import subprocess\n",
    "    import time\n",
    "    import ciepy\n",
    "    import projectpy"
   ]
  },
  {
   "cell_type": "code",
   "execution_count": 104,
   "metadata": {
    "collapsed": true
   },
   "outputs": [],
   "source": [
    "%px cpy = ciepy\n",
    "%px ppy = projectpy"
   ]
  },
  {
   "cell_type": "code",
   "execution_count": 105,
   "metadata": {
    "collapsed": false
   },
   "outputs": [
    {
     "data": {
      "text/plain": [
       "<AsyncResult: _push>"
      ]
     },
     "execution_count": 105,
     "metadata": {},
     "output_type": "execute_result"
    }
   ],
   "source": [
    "dview.push(dict(gene_to_regions=gene_to_regions, outdir=outdir, run_emmax=run_emmax))"
   ]
  },
  {
   "cell_type": "code",
   "execution_count": 129,
   "metadata": {
    "collapsed": false
   },
   "outputs": [],
   "source": [
    "dview.scatter('todo', todo);"
   ]
  },
  {
   "cell_type": "code",
   "execution_count": 130,
   "metadata": {
    "collapsed": false
   },
   "outputs": [],
   "source": [
    "sleep = np.arange(0, 10 * len(parallel_client.ids), 10)\n",
    "dview.scatter('sleep', sleep);"
   ]
  },
  {
   "cell_type": "code",
   "execution_count": null,
   "metadata": {
    "collapsed": false
   },
   "outputs": [],
   "source": [
    "%px time.sleep(sleep[0]) ; [run_emmax(x) for x in todo]"
   ]
  },
  {
   "cell_type": "code",
   "execution_count": null,
   "metadata": {
    "collapsed": true
   },
   "outputs": [],
   "source": []
  },
  {
   "cell_type": "code",
   "execution_count": null,
   "metadata": {
    "collapsed": true
   },
   "outputs": [],
   "source": [
    "3 +"
   ]
  },
  {
   "cell_type": "markdown",
   "metadata": {},
   "source": [
    "# Old"
   ]
  },
  {
   "cell_type": "code",
   "execution_count": 7,
   "metadata": {
    "collapsed": false
   },
   "outputs": [],
   "source": [
    "def run_emmax(gene_id, regions, ped, kinship_matrix, tempdir, outdir, \n",
    "              permuted_peds, num_lesser_pval=15, min_permut=1000, max_permut=10000):\n",
    "    \"\"\"\n",
    "    Run EMMAX for a single gene given a ped file and permuted ped files.\n",
    "    \n",
    "    This function will run EMMAX and \n",
    "    \n",
    "    Parameters\n",
    "    ----------\n",
    "    gene_id : str\n",
    "        Gencode gene ID for gene to test.\n",
    "        \n",
    "    regions : list\n",
    "        List of strings of the form 'chr1:100-200'. Biallelic SNVs in these regions\n",
    "        will be tested.\n",
    "    \n",
    "    ped : str\n",
    "        Path to PED file with actual genotypes (i.e. not permuted).\n",
    "        \n",
    "    kinship_matrix : str\n",
    "        Path to kinship matrix file.\n",
    "        \n",
    "    tempdir : str\n",
    "        Path to directory where temp directory should be made.\n",
    "        \n",
    "    outdir : str\n",
    "        Path to directory where results will be saved.\n",
    "        \n",
    "    permuted_peds : list\n",
    "        List of strings of paths to permuted PED files.\n",
    "        \n",
    "    num_lesser_pval : int\n",
    "        Number of p-values less than minimum gene p-value that must be observed to \n",
    "        stop testing permutations.\n",
    "        \n",
    "    min_permut : int\n",
    "        The minimum number of permutations to test.\n",
    "        \n",
    "    max_permut : int\n",
    "        The maximum number of permutations to test.\n",
    "\n",
    "    \"\"\"\n",
    "    tempdir = os.path.join(tempdir, gene_id)\n",
    "    ppy.makedir(tempdir)\n",
    "\n",
    "    curdir = os.path.realpath(os.curdir)\n",
    "    os.chdir(tempdir)\n",
    "    \n",
    "    # Make VCF file.\n",
    "    vcf = _make_emmax_vcf(gene_id, tempdir, regions)\n",
    "    \n",
    "    # Run EMMAX for real data.\n",
    "    _emmax(gene_id, ped, kinship_matrix, vcf, gene_id)\n",
    "    out = '{}.epacts.gz'.format(gene_id)\n",
    "    real_res = read_emmax_output(out)\n",
    "    min_pval = real_res.PVALUE.min()\n",
    "    \n",
    "    # Run EMMAX for permuted data.\n",
    "    ped_df = pd.read_table(ped)\n",
    "    names = []\n",
    "    pvalues = []\n",
    "    min_pvalues = []\n",
    "    i = 0\n",
    "    num_lesser_pvals = 0\n",
    "    while i < len(permuted_peds) and i < max_permut:\n",
    "        fn = permuted_peds[i]\n",
    "        prefix = os.path.splitext(os.path.split(fn)[1])[0]\n",
    "        names.append(prefix)\n",
    "        tdf = pd.read_table(fn)\n",
    "        tdf[gene_id] = ped_df[gene_id].values\n",
    "        ped_fn = os.path.join(tempdir, '{}.ped'.format(prefix))\n",
    "        tdf.to_csv(ped_fn, index=False, sep='\\t')\n",
    "        _emmax(gene_id, ped_fn, kinship_matrix, vcf, prefix)\n",
    "        out = '{}.epacts.gz'.format(prefix)\n",
    "        res = read_emmax_output(out)\n",
    "        res.index = 'chr' + res.CHROM.astype(str) + ':' + res.BEG.astype(str)\n",
    "        pvalues.append(res.PVALUE)\n",
    "        m = res.PVALUE.min()\n",
    "        min_pvalues.append(m)\n",
    "        if m < min_pval:\n",
    "            num_lesser_pvals += 1\n",
    "        res.PVALUE.to_csv('{}_pvalues.tsv'.format(prefix), sep='\\t')\n",
    "        c = 'rm {0}.epacts.gz {0}.ped'.format(prefix)\n",
    "        subprocess.check_call(c, shell=True)\n",
    "        if (num_lesser_pvals >= num_lesser_pval) and (i + 1 >= min_permut):\n",
    "            break\n",
    "        i += 1\n",
    "        if i % 50 == 0:\n",
    "            print('Finished {}'.format(i))\n",
    "        \n",
    "    pvalues = pd.DataFrame(pvalues, index=names).T\n",
    "    pvalues.to_csv('permuted_pvalues.tsv', sep='\\t')\n",
    "    min_pvalues = pd.Series(min_pvalues, index=names)\n",
    "    min_pvalues.to_csv('minimum_pvalues.tsv', sep='\\t')\n",
    "    \n",
    "    # Remove VCF file.\n",
    "    c = 'rm {0}.vcf.gz {0}.vcf.gz.tbi'.format(gene_id)\n",
    "    subprocess.check_call(c, shell=True)\n",
    "    \n",
    "    # Copy output to outdir.\n",
    "    outdir = os.path.join(outdir, gene_id)\n",
    "    ppy.makedir(outdir)\n",
    "    shutil.move('{}.epacts.gz'.format(gene_id), outdir)\n",
    "    shutil.move('permuted_pvalues.tsv', outdir)\n",
    "    shutil.move('minimum_pvalues.tsv', outdir)\n",
    "    shutil.rmtree(tempdir)\n",
    "    \n",
    "    os.chdir(curdir)\n",
    "    \n",
    "def _emmax(gene_id, ped, kinship_matrix, vcf, prefix):\n",
    "    \"\"\"\n",
    "    Execute EMMAX command.\n",
    "\n",
    "    Parameters\n",
    "    ----------\n",
    "    gene_id : str\n",
    "        Gencode gene ID for gene to test.\n",
    "    \n",
    "    ped : str\n",
    "        Path to PED file with actual genotypes (i.e. not permuted).\n",
    "        \n",
    "    kinship_matrix : str\n",
    "        Path to kinship matrix file.\n",
    "        \n",
    "    vcf : str\n",
    "        Path to VCF file with SNVs to test.\n",
    "        \n",
    "    prefix : str\n",
    "        Prefix for naming output files.\n",
    "\n",
    "    \"\"\"\n",
    "    c = ('{} single --vcf {} --ped {} --min-maf 0.1 --kin {} --pheno {} '\n",
    "         '--cov FC1 --cov FC2 --test q.emmax --out {} --run 4'.format(\n",
    "        ppy.epacts,\n",
    "        vcf,\n",
    "        ped,\n",
    "        kinship_matrix,\n",
    "        gene_id,\n",
    "        prefix))\n",
    "    subprocess.check_call(c, shell=True)\n",
    "    _delete_extra_files(prefix)\n",
    "    \n",
    "def _make_emmax_vcf(gene_id, tempdir, regions):\n",
    "    fn = os.path.join(tempdir, '{}.vcf.gz'.format(gene_id))\n",
    "    c = ('{} view {} -q 0.1:minor -m2 -M2 -v snps -r {} | '\n",
    "         '{} annotate --rename-chrs {} -O z > {}'.format(\n",
    "            ppy.bcftools, \n",
    "            os.path.join(cpy.root, 'private_data', 'wgs', 'merged_pass_uuid_ann_ref.vcf.gz'),\n",
    "            ','.join(regions),\n",
    "            ppy.bcftools,\n",
    "            os.path.join(cpy.root, 'data', 'chromosome_conversion.txt'),\n",
    "            fn))\n",
    "    subprocess.check_call(c, shell=True)\n",
    "\n",
    "    c = ('{} index --tbi {}'.format(ppy.bcftools, fn))\n",
    "    subprocess.check_call(c, shell=True)\n",
    "    return fn\n",
    "    \n",
    "def _delete_extra_files(prefix):\n",
    "    \"\"\"\n",
    "    Delete extra EMMAX files that we don't need.\n",
    "    \"\"\"\n",
    "    to_delete = ['cov', 'eigR', 'epacts.conf', 'epacts.gz.tbi', 'epacts.mh.pdf', 'epacts.OK', \n",
    "                 'epacts.qq.pdf', 'epacts.R', 'epacts.top5000', 'ind', 'Makefile', 'phe', 'reml']\n",
    "    for suffix in to_delete:\n",
    "        c = 'rm {}.{}'.format(prefix, suffix)\n",
    "        subprocess.check_call(c, shell=True)\n",
    "        \n",
    "def read_emmax_output(fn):\n",
    "    with gzip.open(fn) as f:\n",
    "        lines = [x.strip().split('\\t') for x in f.readlines()]\n",
    "    lines[0][0] = lines[0][0][1:]\n",
    "    res = pd.DataFrame(lines[1:], columns=lines[0])\n",
    "    res = res.convert_objects(convert_numeric=True)\n",
    "    return res"
   ]
  },
  {
   "cell_type": "code",
   "execution_count": 8,
   "metadata": {
    "collapsed": false
   },
   "outputs": [
    {
     "name": "stdout",
     "output_type": "stream",
     "text": [
      "Finished 50\n",
      "Finished 100\n",
      "Finished 150\n",
      "Finished 200\n",
      "Finished 250\n",
      "Finished 300\n",
      "Finished 350\n",
      "Finished 400\n",
      "Finished 450\n",
      "Finished 500\n",
      "Finished 550\n",
      "Finished 600\n",
      "Finished 650\n",
      "Finished 700\n",
      "Finished 750\n",
      "Finished 800\n",
      "Finished 850\n",
      "Finished 900\n",
      "Finished 950\n"
     ]
    }
   ],
   "source": [
    "os.chdir('/raid3/projects/CARDIPS/analysis/cardips-ipsc-eqtl/notebooks')\n",
    "gene_id = gene_info[gene_info.gene_name == 'SOX2'].index[0]\n",
    "regions = gene_to_regions[gene_id]\n",
    "ped_fn = os.path.join(cpy.root, 'private_output', 'eqtl_input', 'vsd.ped')\n",
    "kinship_matrix_fn = os.path.join(cpy.root, 'output', 'kinship_matrix', 'wgs.kinf')\n",
    "tempdir = '/dev/shm'\n",
    "permuted_peds = glob.glob(os.path.join(cpy.root, 'private_output', 'eqtl_input', \n",
    "                                       'permuted_peds', 'permuted_*.ped'))\n",
    "permuted_peds.sort()\n",
    "run_emmax(gene_id, regions, ped_fn, kinship_matrix_fn, tempdir, outdir, permuted_peds)"
   ]
  },
  {
   "cell_type": "code",
   "execution_count": 10,
   "metadata": {
    "collapsed": false
   },
   "outputs": [],
   "source": [
    "res = read_emmax_output('/raid3/projects/CARDIPS/analysis/cardips-ipsc-eqtl/output/'\n",
    "                        'run_eqtl_analysis/ENSG00000181449.2/ENSG00000181449.2.epacts.gz')\n",
    "min_pvals = pd.read_table(('/raid3/projects/CARDIPS/analysis/cardips-ipsc-eqtl/output/'\n",
    "                           'run_eqtl_analysis/ENSG00000181449.2/minimum_pvalues.tsv'),\n",
    "                          index_col=0, header=None, names=['min_pval'])"
   ]
  },
  {
   "cell_type": "code",
   "execution_count": 13,
   "metadata": {
    "collapsed": false
   },
   "outputs": [
    {
     "data": {
      "text/plain": [
       "array([[<matplotlib.axes._subplots.AxesSubplot object at 0x7f5b938d7e50>]], dtype=object)"
      ]
     },
     "execution_count": 13,
     "metadata": {},
     "output_type": "execute_result"
    },
    {
     "data": {
      "image/png": "[encoded data removed]",
      "text/plain": [
       "<matplotlib.figure.Figure at 0x7f5b944d6e90>"
      ]
     },
     "metadata": {},
     "output_type": "display_data"
    }
   ],
   "source": [
    "min_pvals.hist()"
   ]
  },
  {
   "cell_type": "code",
   "execution_count": null,
   "metadata": {
    "collapsed": true
   },
   "outputs": [],
   "source": [
    "%%R\n",
    "\n",
    "library(qvalue)"
   ]
  },
  {
   "cell_type": "code",
   "execution_count": null,
   "metadata": {
    "collapsed": true
   },
   "outputs": [],
   "source": []
  },
  {
   "cell_type": "code",
   "execution_count": null,
   "metadata": {
    "collapsed": true
   },
   "outputs": [],
   "source": []
  },
  {
   "cell_type": "code",
   "execution_count": null,
   "metadata": {
    "collapsed": true
   },
   "outputs": [],
   "source": []
  },
  {
   "cell_type": "code",
   "execution_count": null,
   "metadata": {
    "collapsed": true
   },
   "outputs": [],
   "source": []
  },
  {
   "cell_type": "code",
   "execution_count": null,
   "metadata": {
    "collapsed": true
   },
   "outputs": [],
   "source": []
  },
  {
   "cell_type": "code",
   "execution_count": null,
   "metadata": {
    "collapsed": true
   },
   "outputs": [],
   "source": []
  },
  {
   "cell_type": "code",
   "execution_count": null,
   "metadata": {
    "collapsed": true
   },
   "outputs": [],
   "source": []
  }
 ],
 "metadata": {
  "kernelspec": {
   "display_name": "Python 2",
   "language": "python",
   "name": "python2"
  },
  "language_info": {
   "codemirror_mode": {
    "name": "ipython",
    "version": 2
   },
   "file_extension": ".py",
   "mimetype": "text/x-python",
   "name": "python",
   "nbconvert_exporter": "python",
   "pygments_lexer": "ipython2",
   "version": "2.7.10"
  }
 },
 "nbformat": 4,
 "nbformat_minor": 0
}
