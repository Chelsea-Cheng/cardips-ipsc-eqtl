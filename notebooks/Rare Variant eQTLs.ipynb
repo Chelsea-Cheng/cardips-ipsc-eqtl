{
 "cells": [
  {
   "cell_type": "markdown",
   "metadata": {},
   "source": [
    "# Rare Variant eQTLs\n",
    "\n",
    "I'm going to examine the eQTL results to determine whether any of the eQTLs are driven\n",
    "by rare variants that are at a higher frequency in our subject set."
   ]
  },
  {
   "cell_type": "code",
   "execution_count": 1,
   "metadata": {
    "collapsed": true
   },
   "outputs": [],
   "source": [
    "import glob\n",
    "import os\n",
    "import random\n",
    "import subprocess\n",
    "\n",
    "import cdpybio as cpb\n",
    "import matplotlib.pyplot as plt\n",
    "import numpy as np\n",
    "import pandas as pd\n",
    "pd.options.mode.chained_assignment = None  # default='warn'\n",
    "import pybedtools as pbt\n",
    "import seaborn as sns\n",
    "import statsmodels.stats.multitest as smm\n",
    "import vcf as pyvcf\n",
    "\n",
    "import cardipspy as cpy\n",
    "import ciepy\n",
    "\n",
    "%matplotlib inline\n",
    "%load_ext rpy2.ipython\n",
    "\n",
    "dy_name = 'rare_variant_eqtls'\n",
    "\n",
    "import socket\n",
    "if socket.gethostname() == 'fl-hn1' or socket.gethostname() == 'fl-hn2':\n",
    "    dy = os.path.join(ciepy.root, 'sandbox', 'tmp', dy_name)\n",
    "    cpy.makedir(dy)\n",
    "    pbt.set_tempdir(dy)\n",
    "    \n",
    "outdir = os.path.join(ciepy.root, 'output', dy_name)\n",
    "cpy.makedir(outdir)\n",
    "\n",
    "private_outdir = os.path.join(ciepy.root, 'private_output', dy_name)\n",
    "cpy.makedir(private_outdir)"
   ]
  },
  {
   "cell_type": "code",
   "execution_count": 2,
   "metadata": {
    "collapsed": true
   },
   "outputs": [],
   "source": [
    "fn = os.path.join(ciepy.root, 'output', 'eqtl_processing', 'eqtls01', 'lead_variants.tsv')\n",
    "lead_vars = pd.read_table(fn, index_col=0)\n",
    "\n",
    "fn = os.path.join(ciepy.root, 'output', 'eqtl_processing', 'unrelated_eqtls01', 'lead_variants.tsv')\n",
    "unr_lead_vars = pd.read_table(fn, index_col=0)\n",
    "\n",
    "fn = os.path.join(ciepy.root, 'output', 'input_data', 'rnaseq_metadata.tsv')\n",
    "rna_meta = pd.read_table(fn, index_col=0)\n",
    "rna_meta_eqtl = rna_meta[rna_meta.in_eqtl]\n",
    "\n",
    "fn = os.path.join(ciepy.root, 'output', 'input_data', 'subject_metadata.tsv')\n",
    "subject_meta = pd.read_table(fn, index_col=0)\n",
    "\n",
    "subject_meta_eqtl = subject_meta.ix[rna_meta_eqtl.subject_id]\n",
    "rna_meta_eqtl = rna_meta_eqtl.merge(subject_meta_eqtl, left_on='subject_id', right_index=True)"
   ]
  },
  {
   "cell_type": "code",
   "execution_count": 3,
   "metadata": {
    "collapsed": false
   },
   "outputs": [],
   "source": [
    "lead_vars = lead_vars[lead_vars.perm_sig]\n",
    "unr_lead_vars = unr_lead_vars[unr_lead_vars.perm_sig]"
   ]
  },
  {
   "cell_type": "code",
   "execution_count": 4,
   "metadata": {
    "collapsed": false
   },
   "outputs": [],
   "source": [
    "af_cols = [x for x in lead_vars.columns if '_AF' in x]\n",
    "lead_vars_af = lead_vars.dropna(subset=af_cols)"
   ]
  },
  {
   "cell_type": "code",
   "execution_count": 5,
   "metadata": {
    "collapsed": false
   },
   "outputs": [
    {
     "data": {
      "image/png": "[encoded data removed]",
      "text/plain": [
       "<matplotlib.figure.Figure at 0x7fa2a2e47a50>"
      ]
     },
     "metadata": {},
     "output_type": "display_data"
    }
   ],
   "source": [
    "lead_vars_af.AF.hist()\n",
    "plt.ylabel('Number of variants')\n",
    "plt.xlabel('Alternate allele frequency');"
   ]
  },
  {
   "cell_type": "markdown",
   "metadata": {},
   "source": [
    "The allele frequencies from 1,000 Genomes are for the alternate allele, \n",
    "so I need to take care when I define which allele is minor."
   ]
  },
  {
   "cell_type": "code",
   "execution_count": 6,
   "metadata": {
    "collapsed": false
   },
   "outputs": [
    {
     "name": "stdout",
     "output_type": "stream",
     "text": [
      "There are 143 variants where the alternate is rare and 0 where the reference is rare.\n"
     ]
    }
   ],
   "source": [
    "a = sum((lead_vars_af[af_cols] < 0.005).sum(axis=1) == len(af_cols))\n",
    "b = sum((lead_vars_af[af_cols] > 1 - 0.005).sum(axis=1) == len(af_cols))\n",
    "print('There are {} variants where the alternate is rare and {} '\n",
    "      'where the reference is rare.'.format(a, b))"
   ]
  },
  {
   "cell_type": "markdown",
   "metadata": {},
   "source": [
    "It doesn't seem like any of my eQTL lead variants have rare reference alleles, so I can \n",
    "say that rare variants have the alternate allele as the minor allele."
   ]
  },
  {
   "cell_type": "code",
   "execution_count": 7,
   "metadata": {
    "collapsed": false
   },
   "outputs": [
    {
     "name": "stdout",
     "output_type": "stream",
     "text": [
      "There are 143 rare lead variants for 106 eGenes.\n"
     ]
    }
   ],
   "source": [
    "lead_vars_af['rare'] = False\n",
    "lead_vars_af.ix[lead_vars_af[(lead_vars_af[af_cols] < 0.005).sum(axis=1) == len(af_cols)].index, 'rare'] = True\n",
    "a = lead_vars_af.rare.sum()\n",
    "b = len(set(lead_vars_af.ix[lead_vars_af.rare, 'gene_id']))\n",
    "print('There are {} rare lead variants for {} eGenes.'.format(a, b))"
   ]
  },
  {
   "cell_type": "code",
   "execution_count": 9,
   "metadata": {
    "collapsed": false
   },
   "outputs": [
    {
     "data": {
      "image/png": "[encoded data removed]",
      "text/plain": [
       "<matplotlib.figure.Figure at 0x7fa2a5e1c190>"
      ]
     },
     "metadata": {},
     "output_type": "display_data"
    }
   ],
   "source": [
    "se = lead_vars_af[lead_vars_af.rare].beta\n",
    "weights = np.ones_like(se) / float(se.shape[0])\n",
    "se.hist(bins=np.arange(-3, 3.1, 0.1), label='rare', alpha=0.5, weights=weights, histtype='stepfilled')\n",
    "\n",
    "se = lead_vars_af[lead_vars_af.rare == False].beta\n",
    "weights = np.ones_like(se) / float(se.shape[0])\n",
    "se.hist(bins=np.arange(-3, 3.1, 0.1), label='not rare', alpha=0.5, weights=weights, histtype='stepfilled')\n",
    "plt.xlim(-3, 3)\n",
    "plt.xlabel('Beta')\n",
    "plt.ylabel('Fraction of lead variants')\n",
    "plt.title('All samples')\n",
    "plt.legend();"
   ]
  },
  {
   "cell_type": "code",
   "execution_count": 10,
   "metadata": {
    "collapsed": true
   },
   "outputs": [],
   "source": [
    "af_cols = [x for x in unr_lead_vars.columns if '_AF' in x]\n",
    "unr_lead_vars_af = unr_lead_vars.dropna(subset=af_cols)\n",
    "unr_lead_vars_af['rare'] = False\n",
    "unr_lead_vars_af.ix[unr_lead_vars_af[(unr_lead_vars_af[af_cols] < 0.005).sum(axis=1) == \n",
    "                                     len(af_cols)].index, 'rare'] = True"
   ]
  },
  {
   "cell_type": "code",
   "execution_count": 11,
   "metadata": {
    "collapsed": false
   },
   "outputs": [
    {
     "data": {
      "image/png": "[encoded data removed]",
      "text/plain": [
       "<matplotlib.figure.Figure at 0x7fa2a2ea7d90>"
      ]
     },
     "metadata": {},
     "output_type": "display_data"
    }
   ],
   "source": [
    "se = unr_lead_vars_af[unr_lead_vars_af.rare].beta\n",
    "weights = np.ones_like(se) / float(se.shape[0])\n",
    "se.hist(bins=np.arange(-3, 3.1, 0.1), label='rare', alpha=0.5, weights=weights, histtype='stepfilled')\n",
    "\n",
    "se = unr_lead_vars_af[unr_lead_vars_af.rare == False].beta\n",
    "weights = np.ones_like(se) / float(se.shape[0])\n",
    "se.hist(bins=np.arange(-3, 3.1, 0.1), label='not rare', alpha=0.5, weights=weights, histtype='stepfilled')\n",
    "plt.xlim(-3, 3)\n",
    "plt.xlabel('Beta')\n",
    "plt.ylabel('Fraction of lead variants')\n",
    "plt.title('Unrelateds eQTL')\n",
    "plt.legend();"
   ]
  },
  {
   "cell_type": "code",
   "execution_count": 12,
   "metadata": {
    "collapsed": true
   },
   "outputs": [],
   "source": [
    "out = os.path.join(private_outdir, 'genotypes.tsv')\n",
    "if not os.path.exists(out):\n",
    "    genotypes = pd.DataFrame(np.nan, index=lead_vars_af.index, columns=rna_meta_eqtl.wgs_id)\n",
    "\n",
    "    fn = '/projects/CARDIPS/analysis/cardips-ipsc-eqtl/private_output/eqtl_input/filtered_all/0000.vcf.gz'\n",
    "    vcf_reader = pyvcf.VCFReader(open(fn))\n",
    "\n",
    "    count = 0\n",
    "    for i in lead_vars_af.index:\n",
    "        if count % 1000 == 0:\n",
    "            print(count)\n",
    "        res = vcf_reader.fetch(lead_vars_af.ix[i, 'chrom'][3:], lead_vars_af.ix[i, 'end'],\n",
    "                               lead_vars_af.ix[i, 'end'])\n",
    "        r = res.next()\n",
    "\n",
    "        hom_refs = set(rna_meta_eqtl.wgs_id) & set([x.sample for x in r.get_hom_refs()])\n",
    "        hets = set(rna_meta_eqtl.wgs_id) & set([x.sample for x in r.get_hets()])\n",
    "        hom_alts = set(rna_meta_eqtl.wgs_id) & set([x.sample for x in r.get_hom_alts()])\n",
    "\n",
    "        genotypes.ix[i, hom_refs] = 0\n",
    "        genotypes.ix[i, hets] = 1\n",
    "        genotypes.ix[i, hom_alts] = 2\n",
    "        count += 1\n",
    "\n",
    "    genotypes.to_csv(out, sep='\\t')\n",
    "else:\n",
    "    genotypes = pd.read_table(out, index_col=0)"
   ]
  },
  {
   "cell_type": "code",
   "execution_count": 13,
   "metadata": {
    "collapsed": true
   },
   "outputs": [],
   "source": [
    "genotypes_f = genotypes.ix[lead_vars_af.index, rna_meta_eqtl.wgs_id]"
   ]
  },
  {
   "cell_type": "code",
   "execution_count": 14,
   "metadata": {
    "collapsed": false
   },
   "outputs": [],
   "source": [
    "lead_vars_af['ref_is_major'] = lead_vars_af.ac < lead_vars_af.ns"
   ]
  },
  {
   "cell_type": "code",
   "execution_count": 15,
   "metadata": {
    "collapsed": false
   },
   "outputs": [
    {
     "data": {
      "image/png": "[encoded data removed]",
      "text/plain": [
       "<matplotlib.figure.Figure at 0x7fa2a2ea0bd0>"
      ]
     },
     "metadata": {},
     "output_type": "display_data"
    }
   ],
   "source": [
    "t = lead_vars_af[lead_vars_af.rare]\n",
    "plt.scatter(t.maf, t.AF)\n",
    "plt.ylim(-0.0001, 0.002)\n",
    "plt.ylabel('1,000 Genomes MAF')\n",
    "plt.xlabel('CARDiPS MAF');"
   ]
  },
  {
   "cell_type": "code",
   "execution_count": 16,
   "metadata": {
    "collapsed": true
   },
   "outputs": [],
   "source": [
    "family_vc = subject_meta_eqtl.family_id.value_counts()\n",
    "family_vc = family_vc[family_vc * 2 >= lead_vars_af.ac.min()]"
   ]
  },
  {
   "cell_type": "code",
   "execution_count": 17,
   "metadata": {
    "collapsed": false
   },
   "outputs": [],
   "source": [
    "for i in family_vc.index:\n",
    "    se = genotypes_f[rna_meta_eqtl[rna_meta_eqtl.family_id == i].wgs_id].sum(axis=1)\n",
    "    c = '{}_maf'.format(i)\n",
    "    lead_vars_af[c] = np.nan\n",
    "    lead_vars_af.ix[lead_vars_af.ref_is_major, c] = se[lead_vars_af.ref_is_major] / (family_vc[i] * 2)\n",
    "    lead_vars_af.ix[lead_vars_af.ref_is_major == False, c] = \\\n",
    "        (family_vc[i] * 2 - se[lead_vars_af.ref_is_major == False]) / (family_vc[i] * 2)\n",
    "    c = '{}_mac'.format(i)\n",
    "    lead_vars_af.ix[lead_vars_af.ref_is_major, c] = se[lead_vars_af.ref_is_major]\n",
    "    lead_vars_af.ix[lead_vars_af.ref_is_major == False, c] = \\\n",
    "        (family_vc[i] * 2 - se[lead_vars_af.ref_is_major == False])"
   ]
  },
  {
   "cell_type": "code",
   "execution_count": 18,
   "metadata": {
    "collapsed": true
   },
   "outputs": [],
   "source": [
    "c = '{}_maf'.format(family_vc.index[1])\n",
    "t = lead_vars_af[lead_vars_af[c] > lead_vars_af.maf]\n",
    "t = t[t.rare]\n",
    "t = t[t.maf < 0.05]"
   ]
  },
  {
   "cell_type": "code",
   "execution_count": 19,
   "metadata": {
    "collapsed": false
   },
   "outputs": [
    {
     "data": {
      "text/plain": [
       "<matplotlib.collections.PathCollection at 0x7fa2a5dd6f50>"
      ]
     },
     "execution_count": 19,
     "metadata": {},
     "output_type": "execute_result"
    },
    {
     "data": {
      "image/png": "[encoded data removed]",
      "text/plain": [
       "<matplotlib.figure.Figure at 0x7fa2a309e310>"
      ]
     },
     "metadata": {},
     "output_type": "display_data"
    }
   ],
   "source": [
    "plt.scatter(t.maf, t[c])"
   ]
  },
  {
   "cell_type": "code",
   "execution_count": 34,
   "metadata": {
    "collapsed": false
   },
   "outputs": [
    {
     "name": "stdout",
     "output_type": "stream",
     "text": [
      "('abb401f1-5c3e-48ed-8c55-839ce2afe7e6', 1, ['Hispanic', 'African American', 'Multiple ethnicities reported', 'European'])\n",
      "('84fda65d-9a06-4bbe-ad75-a24773724c32', 2, ['Asian', 'Multiple ethnicities reported', 'European'])\n",
      "('a56f620d-82e4-4963-a80b-b97c091c4b06', 0, ['Multiple ethnicities reported', 'European'])\n",
      "('319aca18-4ca4-444d-80ca-3c0065169793', 0, ['Asian'])\n",
      "('0a78a1f4-540f-4f63-acd1-197228abad11', 0, ['European'])\n",
      "('cec0061a-f86c-4d8f-979f-3c6edce2d905', 0, ['European'])\n",
      "('24bb1db3-75fb-4c66-9ccd-8e98dc3fadf1', 0, ['European'])\n",
      "('f9d0c0e4-4408-469a-8c14-e65352142cc9', 0, ['Asian'])\n",
      "('225e50a6-3386-4df5-b47d-6a564cde04d3', 0, ['Asian'])\n",
      "('a23bb99f-656b-4853-a029-2400ec16dae6', 0, ['European'])\n",
      "('2c54a579-6ba4-45be-b3cc-e2003349acd7', 0, ['European'])\n",
      "('0fef459e-1c58-4bf8-9b2e-48da79a78536', 0, ['European'])\n",
      "('bdc08658-e9d6-45ce-8f51-57775682c800', 0, ['European'])\n",
      "('25e71a57-1993-4844-a0e1-f273522a8d05', 0, ['European'])\n",
      "('bdc7cf80-9790-410e-abf0-6085d2881790', 0, ['European'])\n",
      "('a11862e5-d800-4f1b-acc0-41d7368c2b32', 0, ['European'])\n",
      "('d4bfdb4d-593c-4216-8a85-85bc98ec8f50', 0, ['Asian'])\n",
      "('6c5edc7b-4dde-4802-80e7-995b62133292', 0, ['Asian', 'Multiple ethnicities reported', 'European'])\n",
      "('530532cb-78cc-41e8-a2bc-a30e9108221b', 0, ['Multiple ethnicities reported', 'European'])\n",
      "('80d4fbb6-6aaf-4414-acf9-e75d02ba15a6', 0, ['European'])\n",
      "('f5352d65-a24e-4d0c-84a8-0539e396a5e4', 0, ['Multiple ethnicities reported', 'European'])\n"
     ]
    }
   ],
   "source": [
    "for i in family_vc.index:\n",
    "    c = '{}_mac'.format(i)\n",
    "    a = set(subject_meta.ix[subject_meta.family_id == i, 'ethnicity_group'])\n",
    "    print(i, len(set(lead_vars_af.ix[lead_vars_af.ac == lead_vars_af[c], 'gene_id'])), list(a))"
   ]
  },
  {
   "cell_type": "code",
   "execution_count": 21,
   "metadata": {
    "collapsed": false
   },
   "outputs": [
    {
     "data": {
      "text/html": [
       "<div>\n",
       "<table border=\"1\" class=\"dataframe\">\n",
       "  <thead>\n",
       "    <tr style=\"text-align: right;\">\n",
       "      <th></th>\n",
       "      <th>sex</th>\n",
       "      <th>age</th>\n",
       "      <th>family_id</th>\n",
       "      <th>father_id</th>\n",
       "      <th>mother_id</th>\n",
       "      <th>twin_id</th>\n",
       "      <th>ethnicity_group</th>\n",
       "    </tr>\n",
       "    <tr>\n",
       "      <th>id</th>\n",
       "      <th></th>\n",
       "      <th></th>\n",
       "      <th></th>\n",
       "      <th></th>\n",
       "      <th></th>\n",
       "      <th></th>\n",
       "      <th></th>\n",
       "    </tr>\n",
       "  </thead>\n",
       "  <tbody>\n",
       "    <tr>\n",
       "      <th>f549b5fa-a6c0-49fb-8a07-dda4f72ff076</th>\n",
       "      <td>M</td>\n",
       "      <td>51.9</td>\n",
       "      <td>84fda65d-9a06-4bbe-ad75-a24773724c32</td>\n",
       "      <td>NaN</td>\n",
       "      <td>NaN</td>\n",
       "      <td>NaN</td>\n",
       "      <td>European</td>\n",
       "    </tr>\n",
       "    <tr>\n",
       "      <th>2a81d225-42f6-43cf-904a-be64bf3fd2d7</th>\n",
       "      <td>F</td>\n",
       "      <td>45.2</td>\n",
       "      <td>84fda65d-9a06-4bbe-ad75-a24773724c32</td>\n",
       "      <td>6a784dd7-9c48-4841-93f9-930b9de49cc4</td>\n",
       "      <td>ae3637d4-493e-482e-bc48-6915e30ffb9c</td>\n",
       "      <td>NaN</td>\n",
       "      <td>Multiple ethnicities reported</td>\n",
       "    </tr>\n",
       "    <tr>\n",
       "      <th>e932e556-59a6-4f70-9b4c-ef5f69dac3ce</th>\n",
       "      <td>F</td>\n",
       "      <td>48.3</td>\n",
       "      <td>84fda65d-9a06-4bbe-ad75-a24773724c32</td>\n",
       "      <td>6a784dd7-9c48-4841-93f9-930b9de49cc4</td>\n",
       "      <td>ae3637d4-493e-482e-bc48-6915e30ffb9c</td>\n",
       "      <td>NaN</td>\n",
       "      <td>Multiple ethnicities reported</td>\n",
       "    </tr>\n",
       "    <tr>\n",
       "      <th>de9c74e8-d399-465e-92cd-904a0e323bca</th>\n",
       "      <td>M</td>\n",
       "      <td>50.2</td>\n",
       "      <td>84fda65d-9a06-4bbe-ad75-a24773724c32</td>\n",
       "      <td>6a784dd7-9c48-4841-93f9-930b9de49cc4</td>\n",
       "      <td>ae3637d4-493e-482e-bc48-6915e30ffb9c</td>\n",
       "      <td>NaN</td>\n",
       "      <td>European</td>\n",
       "    </tr>\n",
       "    <tr>\n",
       "      <th>f772212a-cd98-40f9-bdcd-e75740c1f6be</th>\n",
       "      <td>F</td>\n",
       "      <td>18.1</td>\n",
       "      <td>84fda65d-9a06-4bbe-ad75-a24773724c32</td>\n",
       "      <td>f549b5fa-a6c0-49fb-8a07-dda4f72ff076</td>\n",
       "      <td>e932e556-59a6-4f70-9b4c-ef5f69dac3ce</td>\n",
       "      <td>NaN</td>\n",
       "      <td>European</td>\n",
       "    </tr>\n",
       "  </tbody>\n",
       "</table>\n",
       "</div>"
      ],
      "text/plain": [
       "                                     sex   age  \\\n",
       "id                                               \n",
       "f549b5fa-a6c0-49fb-8a07-dda4f72ff076   M  51.9   \n",
       "2a81d225-42f6-43cf-904a-be64bf3fd2d7   F  45.2   \n",
       "e932e556-59a6-4f70-9b4c-ef5f69dac3ce   F  48.3   \n",
       "de9c74e8-d399-465e-92cd-904a0e323bca   M  50.2   \n",
       "f772212a-cd98-40f9-bdcd-e75740c1f6be   F  18.1   \n",
       "\n",
       "                                                                 family_id  \\\n",
       "id                                                                           \n",
       "f549b5fa-a6c0-49fb-8a07-dda4f72ff076  84fda65d-9a06-4bbe-ad75-a24773724c32   \n",
       "2a81d225-42f6-43cf-904a-be64bf3fd2d7  84fda65d-9a06-4bbe-ad75-a24773724c32   \n",
       "e932e556-59a6-4f70-9b4c-ef5f69dac3ce  84fda65d-9a06-4bbe-ad75-a24773724c32   \n",
       "de9c74e8-d399-465e-92cd-904a0e323bca  84fda65d-9a06-4bbe-ad75-a24773724c32   \n",
       "f772212a-cd98-40f9-bdcd-e75740c1f6be  84fda65d-9a06-4bbe-ad75-a24773724c32   \n",
       "\n",
       "                                                                 father_id  \\\n",
       "id                                                                           \n",
       "f549b5fa-a6c0-49fb-8a07-dda4f72ff076                                   NaN   \n",
       "2a81d225-42f6-43cf-904a-be64bf3fd2d7  6a784dd7-9c48-4841-93f9-930b9de49cc4   \n",
       "e932e556-59a6-4f70-9b4c-ef5f69dac3ce  6a784dd7-9c48-4841-93f9-930b9de49cc4   \n",
       "de9c74e8-d399-465e-92cd-904a0e323bca  6a784dd7-9c48-4841-93f9-930b9de49cc4   \n",
       "f772212a-cd98-40f9-bdcd-e75740c1f6be  f549b5fa-a6c0-49fb-8a07-dda4f72ff076   \n",
       "\n",
       "                                                                 mother_id  \\\n",
       "id                                                                           \n",
       "f549b5fa-a6c0-49fb-8a07-dda4f72ff076                                   NaN   \n",
       "2a81d225-42f6-43cf-904a-be64bf3fd2d7  ae3637d4-493e-482e-bc48-6915e30ffb9c   \n",
       "e932e556-59a6-4f70-9b4c-ef5f69dac3ce  ae3637d4-493e-482e-bc48-6915e30ffb9c   \n",
       "de9c74e8-d399-465e-92cd-904a0e323bca  ae3637d4-493e-482e-bc48-6915e30ffb9c   \n",
       "f772212a-cd98-40f9-bdcd-e75740c1f6be  e932e556-59a6-4f70-9b4c-ef5f69dac3ce   \n",
       "\n",
       "                                     twin_id                ethnicity_group  \n",
       "id                                                                           \n",
       "f549b5fa-a6c0-49fb-8a07-dda4f72ff076     NaN                       European  \n",
       "2a81d225-42f6-43cf-904a-be64bf3fd2d7     NaN  Multiple ethnicities reported  \n",
       "e932e556-59a6-4f70-9b4c-ef5f69dac3ce     NaN  Multiple ethnicities reported  \n",
       "de9c74e8-d399-465e-92cd-904a0e323bca     NaN                       European  \n",
       "f772212a-cd98-40f9-bdcd-e75740c1f6be     NaN                       European  "
      ]
     },
     "execution_count": 21,
     "metadata": {},
     "output_type": "execute_result"
    }
   ],
   "source": [
    "subject_meta[subject_meta.family_id == '84fda65d-9a06-4bbe-ad75-a24773724c32'].head()"
   ]
  },
  {
   "cell_type": "code",
   "execution_count": 21,
   "metadata": {
    "collapsed": false
   },
   "outputs": [],
   "source": [
    "lead_vars_af.to_csv(os.path.join(outdir, 'lead_vars_af.tsv'), sep='\\t')\n",
    "unr_lead_vars_af.to_csv(os.path.join(outdir, 'unr_lead_vars_af.tsv'), sep='\\t')"
   ]
  },
  {
   "cell_type": "code",
   "execution_count": 28,
   "metadata": {
    "collapsed": false
   },
   "outputs": [],
   "source": [
    "tdf = lead_vars_af[lead_vars_af.rare]"
   ]
  },
  {
   "cell_type": "code",
   "execution_count": 31,
   "metadata": {
    "collapsed": false
   },
   "outputs": [
    {
     "data": {
      "text/plain": [
       "<matplotlib.collections.PathCollection at 0x7f8040262ad0>"
      ]
     },
     "execution_count": 31,
     "metadata": {},
     "output_type": "execute_result"
    },
    {
     "data": {
      "image/png": "[encoded data removed]",
      "text/plain": [
       "<matplotlib.figure.Figure at 0x7f8040260810>"
      ]
     },
     "metadata": {},
     "output_type": "display_data"
    }
   ],
   "source": [
    "plt.scatter(tdf.AF, tdf.beta)"
   ]
  },
  {
   "cell_type": "code",
   "execution_count": 35,
   "metadata": {
    "collapsed": false
   },
   "outputs": [
    {
     "data": {
      "text/html": [
       "<div>\n",
       "<table border=\"1\" class=\"dataframe\">\n",
       "  <thead>\n",
       "    <tr style=\"text-align: right;\">\n",
       "      <th></th>\n",
       "      <th>chrom</th>\n",
       "      <th>start</th>\n",
       "      <th>end</th>\n",
       "      <th>marker_id</th>\n",
       "      <th>ns</th>\n",
       "      <th>ac</th>\n",
       "      <th>callrate</th>\n",
       "      <th>genocnt</th>\n",
       "      <th>maf</th>\n",
       "      <th>stat</th>\n",
       "      <th>...</th>\n",
       "      <th>d4bfdb4d-593c-4216-8a85-85bc98ec8f50_maf</th>\n",
       "      <th>d4bfdb4d-593c-4216-8a85-85bc98ec8f50_mac</th>\n",
       "      <th>6c5edc7b-4dde-4802-80e7-995b62133292_maf</th>\n",
       "      <th>6c5edc7b-4dde-4802-80e7-995b62133292_mac</th>\n",
       "      <th>530532cb-78cc-41e8-a2bc-a30e9108221b_maf</th>\n",
       "      <th>530532cb-78cc-41e8-a2bc-a30e9108221b_mac</th>\n",
       "      <th>80d4fbb6-6aaf-4414-acf9-e75d02ba15a6_maf</th>\n",
       "      <th>80d4fbb6-6aaf-4414-acf9-e75d02ba15a6_mac</th>\n",
       "      <th>f5352d65-a24e-4d0c-84a8-0539e396a5e4_maf</th>\n",
       "      <th>f5352d65-a24e-4d0c-84a8-0539e396a5e4_mac</th>\n",
       "    </tr>\n",
       "  </thead>\n",
       "  <tbody>\n",
       "    <tr>\n",
       "      <th>chr14:23615514-23615515:ENSG00000100897.13</th>\n",
       "      <td>chr14</td>\n",
       "      <td>23615514</td>\n",
       "      <td>23615515</td>\n",
       "      <td>14:23615515_G/A_rs117617634</td>\n",
       "      <td>215</td>\n",
       "      <td>9</td>\n",
       "      <td>1</td>\n",
       "      <td>206/9/0</td>\n",
       "      <td>0.02093</td>\n",
       "      <td>-4.8404</td>\n",
       "      <td>...</td>\n",
       "      <td>0</td>\n",
       "      <td>0</td>\n",
       "      <td>0</td>\n",
       "      <td>0</td>\n",
       "      <td>0</td>\n",
       "      <td>0</td>\n",
       "      <td>0</td>\n",
       "      <td>0</td>\n",
       "      <td>0</td>\n",
       "      <td>0</td>\n",
       "    </tr>\n",
       "    <tr>\n",
       "      <th>chr11:66914128-66914129:ENSG00000173992.4</th>\n",
       "      <td>chr11</td>\n",
       "      <td>66914128</td>\n",
       "      <td>66914129</td>\n",
       "      <td>11:66914129_A/G</td>\n",
       "      <td>215</td>\n",
       "      <td>8</td>\n",
       "      <td>1</td>\n",
       "      <td>207/8/0</td>\n",
       "      <td>0.01860</td>\n",
       "      <td>-4.4335</td>\n",
       "      <td>...</td>\n",
       "      <td>0</td>\n",
       "      <td>0</td>\n",
       "      <td>0</td>\n",
       "      <td>0</td>\n",
       "      <td>0</td>\n",
       "      <td>0</td>\n",
       "      <td>0</td>\n",
       "      <td>0</td>\n",
       "      <td>0</td>\n",
       "      <td>0</td>\n",
       "    </tr>\n",
       "  </tbody>\n",
       "</table>\n",
       "<p>2 rows × 79 columns</p>\n",
       "</div>"
      ],
      "text/plain": [
       "                                            chrom     start       end  \\\n",
       "chr14:23615514-23615515:ENSG00000100897.13  chr14  23615514  23615515   \n",
       "chr11:66914128-66914129:ENSG00000173992.4   chr11  66914128  66914129   \n",
       "\n",
       "                                                              marker_id   ns  \\\n",
       "chr14:23615514-23615515:ENSG00000100897.13  14:23615515_G/A_rs117617634  215   \n",
       "chr11:66914128-66914129:ENSG00000173992.4               11:66914129_A/G  215   \n",
       "\n",
       "                                            ac  callrate  genocnt      maf  \\\n",
       "chr14:23615514-23615515:ENSG00000100897.13   9         1  206/9/0  0.02093   \n",
       "chr11:66914128-66914129:ENSG00000173992.4    8         1  207/8/0  0.01860   \n",
       "\n",
       "                                              stat  \\\n",
       "chr14:23615514-23615515:ENSG00000100897.13 -4.8404   \n",
       "chr11:66914128-66914129:ENSG00000173992.4  -4.4335   \n",
       "\n",
       "                                                             ...                     \\\n",
       "chr14:23615514-23615515:ENSG00000100897.13                   ...                      \n",
       "chr11:66914128-66914129:ENSG00000173992.4                    ...                      \n",
       "\n",
       "                                            d4bfdb4d-593c-4216-8a85-85bc98ec8f50_maf  \\\n",
       "chr14:23615514-23615515:ENSG00000100897.13                                         0   \n",
       "chr11:66914128-66914129:ENSG00000173992.4                                          0   \n",
       "\n",
       "                                            d4bfdb4d-593c-4216-8a85-85bc98ec8f50_mac  \\\n",
       "chr14:23615514-23615515:ENSG00000100897.13                                         0   \n",
       "chr11:66914128-66914129:ENSG00000173992.4                                          0   \n",
       "\n",
       "                                            6c5edc7b-4dde-4802-80e7-995b62133292_maf  \\\n",
       "chr14:23615514-23615515:ENSG00000100897.13                                         0   \n",
       "chr11:66914128-66914129:ENSG00000173992.4                                          0   \n",
       "\n",
       "                                            6c5edc7b-4dde-4802-80e7-995b62133292_mac  \\\n",
       "chr14:23615514-23615515:ENSG00000100897.13                                         0   \n",
       "chr11:66914128-66914129:ENSG00000173992.4                                          0   \n",
       "\n",
       "                                           530532cb-78cc-41e8-a2bc-a30e9108221b_maf  \\\n",
       "chr14:23615514-23615515:ENSG00000100897.13                                        0   \n",
       "chr11:66914128-66914129:ENSG00000173992.4                                         0   \n",
       "\n",
       "                                           530532cb-78cc-41e8-a2bc-a30e9108221b_mac  \\\n",
       "chr14:23615514-23615515:ENSG00000100897.13                                        0   \n",
       "chr11:66914128-66914129:ENSG00000173992.4                                         0   \n",
       "\n",
       "                                           80d4fbb6-6aaf-4414-acf9-e75d02ba15a6_maf  \\\n",
       "chr14:23615514-23615515:ENSG00000100897.13                                        0   \n",
       "chr11:66914128-66914129:ENSG00000173992.4                                         0   \n",
       "\n",
       "                                           80d4fbb6-6aaf-4414-acf9-e75d02ba15a6_mac  \\\n",
       "chr14:23615514-23615515:ENSG00000100897.13                                        0   \n",
       "chr11:66914128-66914129:ENSG00000173992.4                                         0   \n",
       "\n",
       "                                           f5352d65-a24e-4d0c-84a8-0539e396a5e4_maf  \\\n",
       "chr14:23615514-23615515:ENSG00000100897.13                                        0   \n",
       "chr11:66914128-66914129:ENSG00000173992.4                                         0   \n",
       "\n",
       "                                           f5352d65-a24e-4d0c-84a8-0539e396a5e4_mac  \n",
       "chr14:23615514-23615515:ENSG00000100897.13                                        0  \n",
       "chr11:66914128-66914129:ENSG00000173992.4                                         0  \n",
       "\n",
       "[2 rows x 79 columns]"
      ]
     },
     "execution_count": 35,
     "metadata": {},
     "output_type": "execute_result"
    }
   ],
   "source": [
    "t = lead_vars_af[lead_vars_af.ac == lead_vars_af['84fda65d-9a06-4bbe-ad75-a24773724c32_mac']]\n",
    "t.sort_values(by='pvalue', inplace=True)\n",
    "t.drop_duplicates(subset=['gene_id'])"
   ]
  },
  {
   "cell_type": "code",
   "execution_count": 36,
   "metadata": {
    "collapsed": false
   },
   "outputs": [
    {
     "data": {
      "text/html": [
       "<div>\n",
       "<table border=\"1\" class=\"dataframe\">\n",
       "  <thead>\n",
       "    <tr style=\"text-align: right;\">\n",
       "      <th></th>\n",
       "      <th>chrom</th>\n",
       "      <th>start</th>\n",
       "      <th>end</th>\n",
       "      <th>marker_id</th>\n",
       "      <th>ns</th>\n",
       "      <th>ac</th>\n",
       "      <th>callrate</th>\n",
       "      <th>genocnt</th>\n",
       "      <th>maf</th>\n",
       "      <th>stat</th>\n",
       "      <th>...</th>\n",
       "      <th>d4bfdb4d-593c-4216-8a85-85bc98ec8f50_maf</th>\n",
       "      <th>d4bfdb4d-593c-4216-8a85-85bc98ec8f50_mac</th>\n",
       "      <th>6c5edc7b-4dde-4802-80e7-995b62133292_maf</th>\n",
       "      <th>6c5edc7b-4dde-4802-80e7-995b62133292_mac</th>\n",
       "      <th>530532cb-78cc-41e8-a2bc-a30e9108221b_maf</th>\n",
       "      <th>530532cb-78cc-41e8-a2bc-a30e9108221b_mac</th>\n",
       "      <th>80d4fbb6-6aaf-4414-acf9-e75d02ba15a6_maf</th>\n",
       "      <th>80d4fbb6-6aaf-4414-acf9-e75d02ba15a6_mac</th>\n",
       "      <th>f5352d65-a24e-4d0c-84a8-0539e396a5e4_maf</th>\n",
       "      <th>f5352d65-a24e-4d0c-84a8-0539e396a5e4_mac</th>\n",
       "    </tr>\n",
       "  </thead>\n",
       "  <tbody>\n",
       "    <tr>\n",
       "      <th>chr7:111481507-111481508:ENSG00000006652.9</th>\n",
       "      <td>chr7</td>\n",
       "      <td>111481507</td>\n",
       "      <td>111481508</td>\n",
       "      <td>7:111481508_C/T</td>\n",
       "      <td>215</td>\n",
       "      <td>6</td>\n",
       "      <td>1</td>\n",
       "      <td>209/6/0</td>\n",
       "      <td>0.01395</td>\n",
       "      <td>4.374</td>\n",
       "      <td>...</td>\n",
       "      <td>0</td>\n",
       "      <td>0</td>\n",
       "      <td>0</td>\n",
       "      <td>0</td>\n",
       "      <td>0</td>\n",
       "      <td>0</td>\n",
       "      <td>0</td>\n",
       "      <td>0</td>\n",
       "      <td>0</td>\n",
       "      <td>0</td>\n",
       "    </tr>\n",
       "  </tbody>\n",
       "</table>\n",
       "<p>1 rows × 79 columns</p>\n",
       "</div>"
      ],
      "text/plain": [
       "                                           chrom      start        end  \\\n",
       "chr7:111481507-111481508:ENSG00000006652.9  chr7  111481507  111481508   \n",
       "\n",
       "                                                  marker_id   ns  ac  \\\n",
       "chr7:111481507-111481508:ENSG00000006652.9  7:111481508_C/T  215   6   \n",
       "\n",
       "                                            callrate  genocnt      maf   stat  \\\n",
       "chr7:111481507-111481508:ENSG00000006652.9         1  209/6/0  0.01395  4.374   \n",
       "\n",
       "                                                             ...                     \\\n",
       "chr7:111481507-111481508:ENSG00000006652.9                   ...                      \n",
       "\n",
       "                                            d4bfdb4d-593c-4216-8a85-85bc98ec8f50_maf  \\\n",
       "chr7:111481507-111481508:ENSG00000006652.9                                         0   \n",
       "\n",
       "                                            d4bfdb4d-593c-4216-8a85-85bc98ec8f50_mac  \\\n",
       "chr7:111481507-111481508:ENSG00000006652.9                                         0   \n",
       "\n",
       "                                            6c5edc7b-4dde-4802-80e7-995b62133292_maf  \\\n",
       "chr7:111481507-111481508:ENSG00000006652.9                                         0   \n",
       "\n",
       "                                            6c5edc7b-4dde-4802-80e7-995b62133292_mac  \\\n",
       "chr7:111481507-111481508:ENSG00000006652.9                                         0   \n",
       "\n",
       "                                           530532cb-78cc-41e8-a2bc-a30e9108221b_maf  \\\n",
       "chr7:111481507-111481508:ENSG00000006652.9                                        0   \n",
       "\n",
       "                                           530532cb-78cc-41e8-a2bc-a30e9108221b_mac  \\\n",
       "chr7:111481507-111481508:ENSG00000006652.9                                        0   \n",
       "\n",
       "                                           80d4fbb6-6aaf-4414-acf9-e75d02ba15a6_maf  \\\n",
       "chr7:111481507-111481508:ENSG00000006652.9                                        0   \n",
       "\n",
       "                                           80d4fbb6-6aaf-4414-acf9-e75d02ba15a6_mac  \\\n",
       "chr7:111481507-111481508:ENSG00000006652.9                                        0   \n",
       "\n",
       "                                           f5352d65-a24e-4d0c-84a8-0539e396a5e4_maf  \\\n",
       "chr7:111481507-111481508:ENSG00000006652.9                                        0   \n",
       "\n",
       "                                           f5352d65-a24e-4d0c-84a8-0539e396a5e4_mac  \n",
       "chr7:111481507-111481508:ENSG00000006652.9                                        0  \n",
       "\n",
       "[1 rows x 79 columns]"
      ]
     },
     "execution_count": 36,
     "metadata": {},
     "output_type": "execute_result"
    }
   ],
   "source": [
    "t = lead_vars_af[lead_vars_af.ac == lead_vars_af['abb401f1-5c3e-48ed-8c55-839ce2afe7e6_mac']]\n",
    "t.sort_values(by='pvalue', inplace=True)\n",
    "t.drop_duplicates(subset=['gene_id'])"
   ]
  },
  {
   "cell_type": "markdown",
   "metadata": {
    "collapsed": true
   },
   "source": [
    "TODO: Are any of the lead variants for the second or third eQTLs rare?"
   ]
  },
  {
   "cell_type": "code",
   "execution_count": null,
   "metadata": {
    "collapsed": true
   },
   "outputs": [],
   "source": []
  },
  {
   "cell_type": "code",
   "execution_count": null,
   "metadata": {
    "collapsed": true
   },
   "outputs": [],
   "source": []
  },
  {
   "cell_type": "code",
   "execution_count": null,
   "metadata": {
    "collapsed": true
   },
   "outputs": [],
   "source": []
  }
 ],
 "metadata": {
  "kernelspec": {
   "display_name": "Environment (cie)",
   "language": "",
   "name": "cie"
  },
  "language_info": {
   "codemirror_mode": {
    "name": "ipython",
    "version": 2
   },
   "file_extension": ".py",
   "mimetype": "text/x-python",
   "name": "python",
   "nbconvert_exporter": "python",
   "pygments_lexer": "ipython2",
   "version": "2.7.11"
  }
 },
 "nbformat": 4,
 "nbformat_minor": 0
}
