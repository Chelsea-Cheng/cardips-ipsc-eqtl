{
 "cells": [
  {
   "cell_type": "markdown",
   "metadata": {},
   "source": [
    "# eQTL Methods Exploration\n",
    "\n",
    "I want to look at a few things here:\n",
    "\n",
    "* make sure EMMAX is actually using the covariates I'm providing\n",
    "* the effect of using different expression estimates\n",
    "* the effect of quantile normalization followed by transformation to a standard normal\n",
    "* the effect of including (genotype or expression) PCs as covariates?\n",
    "\n",
    "It's not clear to me how I can compare different approaches to see which is \"best.\" \n",
    "One approach could be to use the GTEx multi-tissue eQTLs as a gold standard. If some\n",
    "particular approach ascribes more significance to the GTEx multi-tissue eQTLs than\n",
    "other approaches, that approach could be considered superior. However, that approach\n",
    "may also lead to more false posititives."
   ]
  },
  {
   "cell_type": "code",
   "execution_count": 1,
   "metadata": {
    "collapsed": false
   },
   "outputs": [
    {
     "name": "stderr",
     "output_type": "stream",
     "text": [
      "/frazer01/home/cdeboever/software/anaconda/envs/cie/lib/python2.7/site-packages/matplotlib/__init__.py:872: UserWarning: axes.color_cycle is deprecated and replaced with axes.prop_cycle; please use the latter.\n",
      "  warnings.warn(self.msg_depr % (key, alt_key))\n"
     ]
    }
   ],
   "source": [
    "import cPickle\n",
    "import glob\n",
    "import gzip\n",
    "import os\n",
    "import random\n",
    "import shutil\n",
    "import subprocess\n",
    "import sys\n",
    "\n",
    "import cdpybio as cpb\n",
    "import matplotlib.pyplot as plt\n",
    "import mygene\n",
    "import myvariant\n",
    "import numpy as np\n",
    "import pandas as pd\n",
    "import pybedtools as pbt\n",
    "import scipy.stats as stats\n",
    "import seaborn as sns\n",
    "\n",
    "import ciepy\n",
    "import cardipspy as cpy\n",
    "\n",
    "%matplotlib inline\n",
    "%load_ext rpy2.ipython\n",
    "\n",
    "dy_name = 'eqtl_methods_exploration'\n",
    "\n",
    "import socket\n",
    "if socket.gethostname() == 'fl-hn1' or socket.gethostname() == 'fl-hn2':\n",
    "    dy = os.path.join(ciepy.root, 'sandbox', dy_name)\n",
    "    cpy.makedir(dy)\n",
    "    pbt.set_tempdir(dy)\n",
    "    \n",
    "outdir = os.path.join(ciepy.root, 'output', dy_name)\n",
    "cpy.makedir(outdir)\n",
    "\n",
    "private_outdir = os.path.join(ciepy.root, 'private_output', dy_name)\n",
    "cpy.makedir(private_outdir)"
   ]
  },
  {
   "cell_type": "code",
   "execution_count": 3,
   "metadata": {
    "collapsed": false
   },
   "outputs": [],
   "source": [
    "exp = pd.read_table(os.path.join(\n",
    "        ciepy.root, 'output', 'eqtl_input', \n",
    "        'tpm_log_filtered_phe_std_norm_peer_resid.tsv'), \n",
    "                    index_col=0)"
   ]
  },
  {
   "cell_type": "code",
   "execution_count": 4,
   "metadata": {
    "collapsed": false
   },
   "outputs": [],
   "source": [
    "fn = os.path.join(ciepy.root, 'output', 'eqtl_input', 'gene_to_regions.p')\n",
    "gene_to_regions = cPickle.load(open(fn, 'rb'))\n",
    "gene_info = pd.read_table(cpy.gencode_gene_info, index_col=0)\n",
    "\n",
    "# This file has the probability of the SNP being a QTL for each tissue\n",
    "# for the top SNP for that gene. \n",
    "fn = ('/publicdata/gtex_multi_tissue_20151212/'\n",
    "      'Multi_tissue_eQTL_GTEx_Pilot_Phase_datasets/'\n",
    "      'res_final_amean_com_genes_com_snps.txt')\n",
    "multi_probs = pd.read_table(fn, index_col=0)"
   ]
  },
  {
   "cell_type": "code",
   "execution_count": 5,
   "metadata": {
    "collapsed": true
   },
   "outputs": [],
   "source": [
    "def orig_dir():\n",
    "    os.chdir('/raid3/projects/CARDIPS/analysis/cardips-ipsc-eqtl/notebooks/')"
   ]
  },
  {
   "cell_type": "markdown",
   "metadata": {},
   "source": [
    "I've copied the methods from the `run_emmax.py` script here so I can run some\n",
    "simple analyses."
   ]
  },
  {
   "cell_type": "raw",
   "metadata": {
    "collapsed": true
   },
   "source": [
    "def _phe(phenof, gene_id, phenos, permut=None):\n",
    "    \"\"\" \n",
    "    Make .phe file for EMMAX. The first column is individual ID and the second\n",
    "    column is the phenotype value.\n",
    "    \n",
    "    Parameters\n",
    "    ----------\n",
    "    phenof : str\n",
    "        Path for output phe file.\n",
    "\n",
    "    gene_id : str\n",
    "        ID for gene (must be contained in phenos.index).\n",
    "\n",
    "    phenos : pandas.DataFrame\n",
    "        DataFrame with phenotype values.\n",
    "\n",
    "    permut : list\n",
    "        A list of indices to permute the phenotype data before writing it.\n",
    "\n",
    "    \"\"\"\n",
    "    se = phenos.ix[gene_id]\n",
    "    if permut:\n",
    "        se = pd.Series(se.values[permut], index=se.index)\n",
    "    se.to_csv(phenof, header=False, sep='\\t')\n",
    "\n",
    "def _reml(eigf, remlf, phe, ind, kin, cov=None):\n",
    "    \"\"\" \n",
    "    Make reml file for EMMAX.\n",
    "    \n",
    "    Parameters\n",
    "    ----------\n",
    "    eigf : str\n",
    "        Path for output eigR file.\n",
    "\n",
    "    remlf : str\n",
    "        Path for output reml file.\n",
    "\n",
    "    \"\"\"\n",
    "    c = ('{}/pEmmax reml --phenof {} --kinf {} --indf {} --out-eigf {} '\n",
    "         '--out-remlf {}'.format(\n",
    "             os.path.split(cpy.epacts)[0],\n",
    "             phe,\n",
    "             kin,\n",
    "             ind,\n",
    "             eigf,\n",
    "             remlf))\n",
    "    if cov:\n",
    "        c += ' --covf {}'.format(cov)\n",
    "    subprocess.check_call(c, shell=True)\n",
    "\n",
    "def run_emmax(gene_id, vcf, regions, phenotypes, ind, kin, tempdir, outdir,\n",
    "              cov=None, num_lesser_pval=15, min_permut=1000, max_permut=10000):\n",
    "    \"\"\" \n",
    "    Run EMMAX for a single gene given a ped file and permuted ped files.\n",
    "    \n",
    "    This function will run EMMAX and...\n",
    "    \n",
    "    Parameters\n",
    "    ----------\n",
    "    gene_id : str\n",
    "        Gencode gene ID for gene to test.\n",
    "        \n",
    "    regions : list\n",
    "        List of strings of the form 'chr1:100-200'. Biallelic SNVs in these\n",
    "        regions will be tested.\n",
    "\n",
    "    phenotypes : str\n",
    "        Path to file with phenotype information. Columns should be individual\n",
    "        IDs that are in the same order as the ind and cov files. Index should be\n",
    "        phenotype names (i.e. gene IDs).\n",
    "    \n",
    "    ind : str\n",
    "        Path to ind file for EMMAX. Order should match order of cov phenotypes\n",
    "        files.\n",
    "        \n",
    "    kin : str\n",
    "        Path to kinship matrix file.\n",
    "        \n",
    "    tempdir : str\n",
    "        Path to directory where temp directory should be made.\n",
    "             \n",
    "    outdir : str\n",
    "        Path to directory where results will be saved.\n",
    "             \n",
    "    cov : str \n",
    "        Path to covariates file for EMMAX.\n",
    "        \n",
    "    num_lesser_pval : int\n",
    "        Number of p-values less than minimum gene p-value that must be observed\n",
    "        to stop testing permutations.\n",
    "              \n",
    "    min_permut : int\n",
    "        The minimum number of permutations to test.\n",
    "        \n",
    "    max_permut : int\n",
    "        The maximum number of permutations to test.\n",
    "\n",
    "    \"\"\"\n",
    "    import random\n",
    "    random.seed(20150605)\n",
    "\n",
    "    tempdir = os.path.join(tempdir, gene_id)\n",
    "    cpy.makedir(tempdir)\n",
    "\n",
    "    curdir = os.path.realpath(os.curdir)\n",
    "    os.chdir(tempdir)\n",
    "\n",
    "    # Make VCF file. This VCF file will only have biallelic SNVs in the regions\n",
    "    # of interest.\n",
    "    vcf = _make_emmax_vcf(vcf, gene_id, tempdir, regions, ind)\n",
    "\n",
    "    # Make phe file.\n",
    "    order = pd.read_table(ind, index_col=0, header=None)\n",
    "    phenos = pd.read_table(phenotypes, index_col=0)[order.index]\n",
    "    phenof = os.path.join(tempdir, '{}.phe'.format(gene_id))\n",
    "    _phe(phenof, gene_id, phenos)\n",
    "\n",
    "    # Make reml file.\n",
    "    eigf = os.path.join(tempdir, '{}.eigR'.format(gene_id))\n",
    "    remlf = os.path.join(tempdir, '{}.reml'.format(gene_id))\n",
    "    _reml(eigf, remlf, phenof, ind, kin, cov=cov)\n",
    "\n",
    "    # Run association.\n",
    "    out = os.path.join(outdir, '{}.tsv'.format(gene_id))\n",
    "    _emmax(out, vcf, phenof, ind, eigf, remlf)\n",
    "    _emmax_cleanup(gene_id)\n",
    "    real_res = pd.read_table(out)\n",
    "    min_pval = real_res.PVALUE.min()\n",
    "\n",
    "    # Do the previous steps for permutations.\n",
    "    pvalues = []\n",
    "    min_pvalues = []\n",
    "    i = 0\n",
    "    num_lesser_pvals = 0\n",
    "    while i < max_permut:\n",
    "        # Run EMMAX for this permutation.\n",
    "        p = random.sample(range(phenos.shape[1]), phenos.shape[1])\n",
    "        phenof = os.path.join(tempdir, '{}.phe'.format(gene_id))\n",
    "        _phe(phenof, gene_id, phenos, permut=p)\n",
    "        eigf = os.path.join(tempdir, '{}.eigR'.format(gene_id))\n",
    "        remlf = os.path.join(tempdir, '{}.reml'.format(gene_id))\n",
    "        _reml(eigf, remlf, phenof, ind, kin, cov=cov)\n",
    "        out = os.path.join(tempdir, '{}_permutation_{}.tsv'.format(\n",
    "            gene_id, str(i + 1).zfill(len(str(max_permut)))))\n",
    "        _emmax(out, vcf, phenof, ind, eigf, remlf)\n",
    "        _emmax_cleanup(gene_id)\n",
    "\n",
    "        # Read results.\n",
    "        res = pd.read_table(out)\n",
    "        res.index = ('chr' + res['#CHROM'].astype(str) + ':' +\n",
    "                     res.BEG.astype(str))\n",
    "        pvalues.append(res.PVALUE)\n",
    "        m = res.PVALUE.min()\n",
    "        min_pvalues.append(m)\n",
    "        if m < min_pval:\n",
    "            num_lesser_pvals += 1\n",
    "        if (num_lesser_pvals >= num_lesser_pval) and (i + 1 >= min_permut):\n",
    "            break\n",
    "        i += 1\n",
    "        if i % 50 == 0:\n",
    "            sys.stderr.write('Finished {} permutations'.format(i))\n",
    "        os.remove(out)\n",
    "\n",
    "\n",
    "    # Remove VCF file.\n",
    "    os.remove('{}.vcf.gz'.format(gene_id))\n",
    "    os.remove('{}.vcf.gz.tbi'.format(gene_id))\n",
    "\n",
    "    pvalues = pd.DataFrame(pvalues).T\n",
    "    pvalues.to_csv(os.path.join(outdir, 'permuted_pvalues.tsv'), index=None,\n",
    "                   sep='\\t', header=None)\n",
    "    min_pvalues = pd.Series(min_pvalues, index=None)\n",
    "    min_pvalues.to_csv(os.path.join(outdir, 'minimum_pvalues.tsv'), sep='\\t',\n",
    "                       index=None)\n",
    "\n",
    "    shutil.rmtree(tempdir)\n",
    "\n",
    "def _emmax(out, vcf, phe, ind, eig, reml):\n",
    "    \"\"\"\n",
    "    Execute EMMAX command.\n",
    "         \n",
    "    Parameters\n",
    "    ----------\n",
    "    out : str\n",
    "        Output file?\n",
    "             \n",
    "    vcf : str\n",
    "        Path to VCF file that contains only the SNVs to test.\n",
    "             \n",
    "    \"\"\"\n",
    "    c = ('{}/pEmmax assoc --vcf {} --phenof {} --field GT --indf {} --eigf {} '\n",
    "         '--remlf {} --out-assocf {} --minMAF 0.1 --maxMAF 1 --maxMAC '\n",
    "         '1000000000 --minRSQ 0 --minCallRate 0.5 --minMAC 3'.format(\n",
    "             os.path.split(cpy.epacts)[0],\n",
    "             vcf,\n",
    "             phe,\n",
    "             ind,\n",
    "             eig,\n",
    "             reml,\n",
    "             out\n",
    "         ))      \n",
    "    subprocess.check_call(c, shell=True)\n",
    "\n",
    "def _emmax_cleanup(prefix):\n",
    "    \"\"\" \n",
    "    Delete extra EMMAX files that we don't need.\n",
    "    \"\"\"\n",
    "    to_delete = ['eigR', 'phe', 'reml']\n",
    "    for suffix in to_delete:\n",
    "        fn = '{}.{}'.format(prefix, suffix)\n",
    "        if os.path.exists(fn):\n",
    "            os.remove(fn)\n",
    "\n",
    "def _make_emmax_vcf(vcf, gene_id, tempdir, regions, ind):\n",
    "    import ciepy\n",
    "        \n",
    "    ind = pd.read_table(ind, index_col=0, header=None)\n",
    "    fn = os.path.join(tempdir, '{}.vcf.gz'.format(gene_id))\n",
    "    c = ('{} view {} -q 0.1:minor -m2 -M2 -v snps -r {} -s {} | '\n",
    "         '{} filter -m x | {} annotate --rename-chrs {} -O z > {}'.format(\n",
    "             cpy.bcftools,               \n",
    "             vcf,\n",
    "             ','.join(regions),\n",
    "             ','.join(ind.index),\n",
    "             cpy.bcftools,\n",
    "             cpy.bcftools,\n",
    "             os.path.join(ciepy.root, 'data', 'chromosome_conversion.txt'),\n",
    "             fn))\n",
    "    subprocess.check_call(c, shell=True)\n",
    "\n",
    "    c = ('{} index --tbi {}'.format(cpy.bcftools, fn))\n",
    "    subprocess.check_call(c, shell=True)\n",
    "    return fn\n",
    "\n",
    "def _delete_extra_files(prefix):\n",
    "    \"\"\"\n",
    "    Delete extra EMMAX files that we don't need.\n",
    "    \"\"\"\n",
    "    to_delete = ['cov', 'eigR', 'epacts.conf', 'epacts.gz.tbi', 'epacts.mh.pdf',\n",
    "                 'epacts.OK', 'epacts.qq.pdf', 'epacts.R', 'epacts.top5000',\n",
    "                 'ind', 'Makefile', 'phe', 'reml']\n",
    "    for suffix in to_delete:\n",
    "        fn = '{}.{}'.format(prefix, suffix)\n",
    "        if os.path.exists(fn):\n",
    "            os.remove(fn)"
   ]
  },
  {
   "cell_type": "markdown",
   "metadata": {},
   "source": [
    "This is an example call to `run_emmax.py`:\n",
    "\n",
    "    python /raid3/projects/CARDIPS/analysis/cardips-ipsc-eqtl/scripts/run_emmax.py \\\n",
    "        ENSG00000103723.8 \\\n",
    "        /raid3/projects/CARDIPS/analysis/cardips-ipsc-eqtl/private_data/wgs/biallelic_snvs.vcf.gz \\\n",
    "        chr15:82331447-84378665 \\\n",
    "        /raid3/projects/CARDIPS/analysis/cardips-ipsc-eqtl/output/eqtl_input/vst_counts_phe.tsv \\\n",
    "        /raid3/projects/CARDIPS/analysis/cardips-ipsc-eqtl/output/eqtl_input/emmax.ind \\\n",
    "        /raid3/projects/CARDIPS/analysis/cardips-ipsc-eqtl/output/eqtl_input/wgs.kin \\\n",
    "        /raid3/projects/CARDIPS/analysis/cardips-ipsc-eqtl/output/run_eqtl_analysis/test_results/ENSG00000103723.8 \\\n",
    "        -c /raid3/projects/CARDIPS/analysis/cardips-ipsc-eqtl/output/eqtl_input/emmax.cov\n",
    "        \n",
    "The genes ENSG00000189306.6 and ENSG00000169715.10 are significant while ENSG00000181315.6\n",
    "and ENSG00000198912.6 are not significant. I can use these for testing."
   ]
  },
  {
   "cell_type": "markdown",
   "metadata": {},
   "source": [
    "## Gold Standard\n",
    "\n",
    "To evaluate methodologies, I'm going to compare the $p$-values for a set of high-confidence\n",
    "multi-tissue eQTLs (defined as GTEx eQTLs that have probability of 1 for being an eQTL\n",
    "in each tissue in the multi-tissue analysis). First I need to figure out the coordinates of\n",
    "the dbSNP IDs GTEx used since I'm using a different dbSNP version."
   ]
  },
  {
   "cell_type": "code",
   "execution_count": 6,
   "metadata": {
    "collapsed": false
   },
   "outputs": [
    {
     "data": {
      "text/plain": [
       "(64,)"
      ]
     },
     "execution_count": 6,
     "metadata": {},
     "output_type": "execute_result"
    }
   ],
   "source": [
    "# Remove insertions/deletions.\n",
    "multi_probs = multi_probs[multi_probs.snp.apply(lambda x: x[0:2] == 'rs')]\n",
    "multi_probs_sum = multi_probs.sum(axis=1)\n",
    "multi_probs_sum.sort_values(ascending=False, inplace=True)\n",
    "top_eqtls = multi_probs_sum[multi_probs_sum == 9]\n",
    "#intersection = set(vsd_phe.index) & set(evsd_phe.index) & set(tpm_phe.index)\n",
    "#top_eqtls = top_eqtls.ix[set(top_eqtls.index) & intersection]\n",
    "top_eqtls = top_eqtls.ix[set(top_eqtls.index) & set(exp.index)]\n",
    "top_eqtls.shape"
   ]
  },
  {
   "cell_type": "markdown",
   "metadata": {},
   "source": [
    "There are 64 \"top\" eQTLs. It seems like MyVariantInfo doesn't have information\n",
    "on all of them, so I'll just keep those I can get position information for."
   ]
  },
  {
   "cell_type": "code",
   "execution_count": 7,
   "metadata": {
    "collapsed": false
   },
   "outputs": [],
   "source": [
    "mg = mygene.MyGeneInfo()\n",
    "mv = myvariant.MyVariantInfo()\n",
    "rsids = []\n",
    "chroms = []\n",
    "starts = []\n",
    "gtex_genes = []\n",
    "my_genes = []\n",
    "for gene_id in top_eqtls.index:\n",
    "    my_gene_id = None\n",
    "    if gene_id in gene_info.index:\n",
    "        my_gene_id = gene_id\n",
    "    else:\n",
    "        try:\n",
    "            res = mg.getgene(gene_id.split('.')[0])\n",
    "            symbol = res['symbol']\n",
    "            my_gene_id = gene_info[gene_info.gene_name == symbol].index[0]\n",
    "        except AssertionError:\n",
    "            break\n",
    "    if my_gene_id:\n",
    "        rsid = multi_probs.ix[gene_id, 'snp']\n",
    "        res = mv.query('dbsnp.rsid:{}'.format(rsid), fields='dbsnp')\n",
    "        if len(res['hits']) == 1:\n",
    "            rsids.append(rsid)\n",
    "            chroms.append(res['hits'][0]['dbsnp']['chrom'])\n",
    "            starts.append(res['hits'][0]['dbsnp']['hg19']['start'])\n",
    "            gtex_genes.append(gene_id)\n",
    "            my_genes.append(my_gene_id)\n",
    "            \n",
    "gold_eqtls = pd.DataFrame([chroms, starts, gtex_genes, my_genes, rsids], columns=my_genes,\n",
    "                          index=['chrom', 'start', 'gtex_gene_id', 'my_gene_id', 'rsid']).T\n",
    "gold_eqtls['snp'] = 'chr' + gold_eqtls.chrom.astype(str) + ':' + gold_eqtls.start.astype(str)\n",
    "gold_eqtls.to_csv(os.path.join(outdir, 'gold_eqtls.tsv'), \n",
    "                  sep='\\t')"
   ]
  },
  {
   "cell_type": "code",
   "execution_count": null,
   "metadata": {
    "collapsed": true
   },
   "outputs": [],
   "source": [
    "2 + "
   ]
  },
  {
   "cell_type": "markdown",
   "metadata": {},
   "source": [
    "## Is EMMAX using covariates?\n",
    "\n",
    "I just want to do a sanity check to make sure EMMAX makes different covariate files\n",
    "when I provide different covariate information."
   ]
  },
  {
   "cell_type": "code",
   "execution_count": 30,
   "metadata": {
    "collapsed": true
   },
   "outputs": [],
   "source": [
    "gene_id = gold_eqtls.index[0]\n",
    "all_vcf = os.path.join(ciepy.root, 'private_output', 'eqtl_input', \n",
    "                       'filtered_all', '0000.vcf.gz')\n",
    "#all_vcf = ('/raid3/projects/CARDIPS/analysis/cardips-ipsc-eqtl/'\n",
    "#           'private_data/wgs/biallelic_snvs.vcf.gz')\n",
    "ind = '/raid3/projects/CARDIPS/analysis/cardips-ipsc-eqtl/output/eqtl_input/emmax.ind'\n",
    "phenotypes = '/raid3/projects/CARDIPS/analysis/cardips-ipsc-eqtl/output/eqtl_input/vst_counts_phe.tsv'\n",
    "kin = '/raid3/projects/CARDIPS/analysis/cardips-ipsc-eqtl/output/eqtl_input/wgs.kin'\n",
    "cov = '/raid3/projects/CARDIPS/analysis/cardips-ipsc-eqtl/output/eqtl_input/emmax.cov'"
   ]
  },
  {
   "cell_type": "code",
   "execution_count": 31,
   "metadata": {
    "collapsed": false
   },
   "outputs": [
    {
     "name": "stdout",
     "output_type": "stream",
     "text": [
      "307312\n",
      "312016\n"
     ]
    }
   ],
   "source": [
    "os.chdir('/raid3/projects/CARDIPS/analysis/cardips-ipsc-eqtl/notebooks/')\n",
    "\n",
    "tempdir = os.path.join('/dev/shm', gene_id)\n",
    "cpy.makedir(tempdir)\n",
    "\n",
    "curdir = os.path.realpath(os.curdir)\n",
    "os.chdir(tempdir)\n",
    "\n",
    "# Make VCF file. This VCF file will only have biallelic SNVs in the regions\n",
    "# of interest.\n",
    "regions = gene_to_regions[gene_id]\n",
    "vcf = _make_emmax_vcf(all_vcf, gene_id, tempdir, regions, ind)\n",
    "\n",
    "# Make phe file.\n",
    "order = pd.read_table(ind, index_col=0, header=None)\n",
    "phenos = pd.read_table(phenotypes, index_col=0)[order.index]\n",
    "phenof = os.path.join(tempdir, '{}.phe'.format(gene_id))\n",
    "_phe(phenof, gene_id, phenos)\n",
    "\n",
    "# Make reml file.\n",
    "eigf = os.path.join(tempdir, '{}.eigR'.format(gene_id))\n",
    "remlf = os.path.join(tempdir, '{}.reml'.format(gene_id))\n",
    "_reml(eigf, remlf, phenof, ind, kin, cov=cov)\n",
    "\n",
    "# Run association.\n",
    "out = os.path.join(tempdir, '{}.tsv'.format(gene_id))\n",
    "_emmax(out, vcf, phenof, ind, eigf, remlf)\n",
    "#_emmax_cleanup(gene_id)\n",
    "real_res = pd.read_table(out)\n",
    "min_pval = real_res.PVALUE.min()\n",
    "\n",
    "# Make reml file with no covariates.\n",
    "eigf_no_cov = os.path.join(tempdir, '{}_no_cov.eigR'.format(gene_id))\n",
    "remlf_no_cov = os.path.join(tempdir, '{}_no_cov.reml'.format(gene_id))\n",
    "_reml(eigf_no_cov, remlf_no_cov, phenof, ind, kin)\n",
    "\n",
    "print(os.path.getsize(eigf))\n",
    "print(os.path.getsize(eigf_no_cov))"
   ]
  },
  {
   "cell_type": "markdown",
   "metadata": {},
   "source": [
    "So the eigenvector file is different when I don't include covariates."
   ]
  },
  {
   "cell_type": "code",
   "execution_count": 32,
   "metadata": {
    "collapsed": false
   },
   "outputs": [
    {
     "name": "stdout",
     "output_type": "stream",
     "text": [
      "307312\n",
      "310448\n"
     ]
    }
   ],
   "source": [
    "c = pd.read_table(cov, header=None, index_col=0)\n",
    "\n",
    "# Make covariate file with only sex information.\n",
    "sex_only_cov = os.path.join(tempdir, 'sex_only.cov')\n",
    "c[1].to_csv(sex_only_cov, header=None, sep='\\t')\n",
    "\n",
    "# Make reml file with only sex covariate.\n",
    "eigf_sex_only = os.path.join(tempdir, '{}_sex_only.eigR'.format(gene_id))\n",
    "remlf_sex_only = os.path.join(tempdir, '{}_sex_only.reml'.format(gene_id))\n",
    "_reml(eigf_sex_only, remlf_sex_only, phenof, ind, kin, cov=sex_only_cov)\n",
    "\n",
    "print(os.path.getsize(eigf))\n",
    "print(os.path.getsize(eigf_sex_only))"
   ]
  },
  {
   "cell_type": "markdown",
   "metadata": {
    "collapsed": true
   },
   "source": [
    "The eigenvector file is also different when I remove the batch covariates. \n",
    "So it appears that EMMAX is doing *something* different when I give it covariates."
   ]
  },
  {
   "cell_type": "markdown",
   "metadata": {},
   "source": [
    "## Different Expression Estimates\n",
    "\n",
    "I'm considering using three different expression estimates:\n",
    "* naive counts: The number of reads overlapping a gene.\n",
    "* RSEM effective counts: The effective counts estimated by RSEM.\n",
    "* RSEM TPM: Transcript TPM summed together per gene.\n",
    "\n",
    "I want to make a method that takes as input each and outputs the \n",
    "correlation between expected counts/TPM and naive counts\n",
    "as well as the $p$-value correlation."
   ]
  },
  {
   "cell_type": "code",
   "execution_count": 38,
   "metadata": {
    "collapsed": false
   },
   "outputs": [],
   "source": [
    "# Run association.\n",
    "out = os.path.join(tempdir, '{}_evsd.tsv'.format(gene_id))\n",
    "_emmax(out, vcf, evsd_phenof, ind, eigf, remlf)\n",
    "#_emmax_cleanup(gene_id)\n",
    "evsd_res = pd.read_table(out)\n",
    "out = os.path.join(tempdir, '{}_tpm.tsv'.format(gene_id))\n",
    "_emmax(out, vcf, tpm_phenof, ind, eigf, remlf)\n",
    "#_emmax_cleanup(gene_id)\n",
    "tpm_res = pd.read_table(out)"
   ]
  },
  {
   "cell_type": "code",
   "execution_count": 39,
   "metadata": {
    "collapsed": false
   },
   "outputs": [
    {
     "data": {
      "image/png": "[encoded data removed]",
      "text/plain": [
       "<matplotlib.figure.Figure at 0x7f2a0c3f9ed0>"
      ]
     },
     "metadata": {},
     "output_type": "display_data"
    }
   ],
   "source": [
    "real_res.PVALUE.hist()\n",
    "plt.ylabel('Number of genes')\n",
    "plt.xlabel('$p$ value')\n",
    "plt.title('VST counts $p$-value histogram');"
   ]
  },
  {
   "cell_type": "code",
   "execution_count": 40,
   "metadata": {
    "collapsed": false
   },
   "outputs": [
    {
     "data": {
      "image/png": "[encoded data removed]",
      "text/plain": [
       "<matplotlib.figure.Figure at 0x7f2a0c3f99d0>"
      ]
     },
     "metadata": {},
     "output_type": "display_data"
    }
   ],
   "source": [
    "evsd_res.PVALUE.hist()\n",
    "plt.ylabel('Number of genes')\n",
    "plt.xlabel('$p$ value')\n",
    "plt.title('VST effective counts $p$-value histogram');"
   ]
  },
  {
   "cell_type": "code",
   "execution_count": 41,
   "metadata": {
    "collapsed": false
   },
   "outputs": [
    {
     "data": {
      "image/png": "[encoded data removed]",
      "text/plain": [
       "<matplotlib.figure.Figure at 0x7f2a0c1123d0>"
      ]
     },
     "metadata": {},
     "output_type": "display_data"
    }
   ],
   "source": [
    "tpm_res.PVALUE.hist()\n",
    "plt.ylabel('Number of genes')\n",
    "plt.xlabel('$p$ value')\n",
    "plt.title('$\\log_{10}$ TPM $p$-value histogram');"
   ]
  },
  {
   "cell_type": "code",
   "execution_count": 42,
   "metadata": {
    "collapsed": false
   },
   "outputs": [
    {
     "data": {
      "image/png": "[encoded data removed]",
      "text/plain": [
       "<matplotlib.figure.Figure at 0x7f2a0c55f6d0>"
      ]
     },
     "metadata": {},
     "output_type": "display_data"
    }
   ],
   "source": [
    "plt.scatter(real_res.PVALUE, evsd_res.PVALUE)\n",
    "plt.ylabel('VST effective counts')\n",
    "plt.xlabel('VST naive counts')\n",
    "plt.title('Naive vs. effective counts $p$-values');"
   ]
  },
  {
   "cell_type": "code",
   "execution_count": 43,
   "metadata": {
    "collapsed": false
   },
   "outputs": [
    {
     "data": {
      "image/png": "[encoded data removed]",
      "text/plain": [
       "<matplotlib.figure.Figure at 0x7f2a0c1e7590>"
      ]
     },
     "metadata": {},
     "output_type": "display_data"
    }
   ],
   "source": [
    "plt.scatter(real_res.PVALUE, tpm_res.PVALUE)\n",
    "plt.ylabel('$\\log_{10}$ TPM')\n",
    "plt.xlabel('VST naive counts')\n",
    "plt.title('TPM vs. naive counts $p$-values');"
   ]
  },
  {
   "cell_type": "code",
   "execution_count": 44,
   "metadata": {
    "collapsed": false
   },
   "outputs": [
    {
     "data": {
      "image/png": "[encoded data removed]",
      "text/plain": [
       "<matplotlib.figure.Figure at 0x7f2a0bf5f450>"
      ]
     },
     "metadata": {},
     "output_type": "display_data"
    }
   ],
   "source": [
    "plt.scatter(vsd_phe.ix[gene_id], evsd_phe.ix[gene_id])\n",
    "plt.ylabel('VST effective counts')\n",
    "plt.xlabel('VST naive counts')\n",
    "plt.title('Naive vs. effective counts');"
   ]
  },
  {
   "cell_type": "code",
   "execution_count": 45,
   "metadata": {
    "collapsed": false
   },
   "outputs": [
    {
     "data": {
      "image/png": "[encoded data removed]",
      "text/plain": [
       "<matplotlib.figure.Figure at 0x7f2a0be2e7d0>"
      ]
     },
     "metadata": {},
     "output_type": "display_data"
    }
   ],
   "source": [
    "plt.scatter(vsd_phe.ix[gene_id], tpm_phe.ix[gene_id])\n",
    "plt.ylabel('$\\log_{10}$ TPM')\n",
    "plt.xlabel('VST naive counts')\n",
    "plt.title('TPM vs. naive counts');"
   ]
  },
  {
   "cell_type": "markdown",
   "metadata": {
    "collapsed": true
   },
   "source": [
    "Just looking at one gene, we can see that there is little difference between\n",
    "using naive counts and RSEM effective counts. I imagine there are some genes \n",
    "that differ more using these two estimates, but my experience has been that\n",
    "the effective counts are very similar to the naive counts.\n",
    "\n",
    "The $p$-values for TPM are quite different than those for the naive counts. \n",
    "The expression estimates themselves are correlated. I think that this difference\n",
    "may arise in part because TPM is limited in scale. It may also be the case that\n",
    "the $\\log$ transformation doesn't make the TPM values very \"normal\" compared to\n",
    "the VST naive counts."
   ]
  },
  {
   "cell_type": "code",
   "execution_count": 144,
   "metadata": {
    "collapsed": false
   },
   "outputs": [],
   "source": [
    "def compare_exp_estimates(gene_id):\n",
    "    tempdir = os.path.join('/dev/shm', gene_id)\n",
    "    cpy.makedir(tempdir)\n",
    "\n",
    "    curdir = os.path.realpath(os.curdir)\n",
    "    os.chdir(tempdir)\n",
    "\n",
    "    # Make VCF file. This VCF file will only have biallelic SNVs in the regions\n",
    "    # of interest.\n",
    "    regions = gene_to_regions[gene_id]\n",
    "    vcf = _make_emmax_vcf(all_vcf, gene_id, tempdir, regions, ind)\n",
    "\n",
    "    # Make phe files.\n",
    "    order = pd.read_table(ind, index_col=0, header=None)\n",
    "    phenos = pd.read_table(phenotypes, index_col=0)[order.index]\n",
    "    phenof = os.path.join(tempdir, '{}.phe'.format(gene_id))\n",
    "    _phe(phenof, gene_id, vsd_phe)\n",
    "    evsd_phenof = os.path.join(tempdir, '{}_evsd.phe'.format(gene_id))\n",
    "    _phe(evsd_phenof, gene_id, evsd_phe)\n",
    "    tpm_phenof = os.path.join(tempdir, '{}_tpm.phe'.format(gene_id))\n",
    "    _phe(tpm_phenof, gene_id, tpm_phe)\n",
    "    fpkm_phenof = os.path.join(tempdir, '{}_fpkm.phe'.format(gene_id))\n",
    "    _phe(fpkm_phenof, gene_id, fpkm_phe)\n",
    "    \n",
    "    phenof_std_norm = os.path.join(tempdir, '{}_std_norm.phe'.format(gene_id))\n",
    "    _phe(phenof_std_norm, gene_id, vsd_phe_std_norm)\n",
    "    evsd_phenof_std_norm = os.path.join(tempdir, '{}_evsd_std_norm.phe'.format(gene_id))\n",
    "    _phe(evsd_phenof_std_norm, gene_id, evsd_phe_std_norm)\n",
    "    tpm_phenof_std_norm = os.path.join(tempdir, '{}_tpm_std_norm.phe'.format(gene_id))\n",
    "    _phe(tpm_phenof_std_norm, gene_id, tpm_phe_std_norm)\n",
    "    fpkm_phenof_std_norm = os.path.join(tempdir, '{}_fpkm_std_norm.phe'.format(gene_id))\n",
    "    _phe(fpkm_phenof_std_norm, gene_id, fpkm_phe_std_norm)\n",
    "\n",
    "    # Make reml file.\n",
    "    eigf = os.path.join(tempdir, '{}.eigR'.format(gene_id))\n",
    "    remlf = os.path.join(tempdir, '{}.reml'.format(gene_id))\n",
    "    _reml(eigf, remlf, phenof, ind, kin, cov=cov)\n",
    "\n",
    "    # Run associations.\n",
    "    out = os.path.join(tempdir, '{}.tsv'.format(gene_id))\n",
    "    _emmax(out, vcf, phenof, ind, eigf, remlf)\n",
    "    vsd_res = pd.read_table(out)\n",
    "    out = os.path.join(tempdir, '{}_evsd.tsv'.format(gene_id))\n",
    "    _emmax(out, vcf, evsd_phenof, ind, eigf, remlf)\n",
    "    evsd_res = pd.read_table(out)\n",
    "    out = os.path.join(tempdir, '{}_tpm.tsv'.format(gene_id))\n",
    "    _emmax(out, vcf, tpm_phenof, ind, eigf, remlf)\n",
    "    tpm_res = pd.read_table(out)\n",
    "    out = os.path.join(tempdir, '{}_fpkm.tsv'.format(gene_id))\n",
    "    _emmax(out, vcf, fpkm_phenof, ind, eigf, remlf)\n",
    "    fpkm_res = pd.read_table(out)\n",
    "    \n",
    "    out = os.path.join(tempdir, '{}_std_norm.tsv'.format(gene_id))\n",
    "    _emmax(out, vcf, phenof_std_norm, ind, eigf, remlf)\n",
    "    vsd_res_std_norm = pd.read_table(out)\n",
    "    out = os.path.join(tempdir, '{}_evsd_std_norm.tsv'.format(gene_id))\n",
    "    _emmax(out, vcf, evsd_phenof_std_norm, ind, eigf, remlf)\n",
    "    evsd_res_std_norm = pd.read_table(out)\n",
    "    out = os.path.join(tempdir, '{}_tpm_std_norm.tsv'.format(gene_id))\n",
    "    _emmax(out, vcf, tpm_phenof_std_norm, ind, eigf, remlf)\n",
    "    tpm_res_std_norm = pd.read_table(out)\n",
    "    out = os.path.join(tempdir, '{}_fpkm_std_norm.tsv'.format(gene_id))\n",
    "    _emmax(out, vcf, fpkm_phenof_std_norm, ind, eigf, remlf)\n",
    "    fpkm_res_std_norm = pd.read_table(out)\n",
    "    \n",
    "    pvals = pd.DataFrame({'vsd_pval':vsd_res.PVALUE.values,\n",
    "                          'evsd_pval':evsd_res.PVALUE.values,\n",
    "                          'tpm_pval':tpm_res.PVALUE.values,\n",
    "                          'fpkm_pval':fpkm_res.PVALUE.values,\n",
    "                          'vsd_pval_std_norm':vsd_res_std_norm.PVALUE.values,\n",
    "                          'evsd_pval_std_norm':evsd_res_std_norm.PVALUE.values,\n",
    "                          'tpm_pval_std_norm':tpm_res_std_norm.PVALUE.values,\n",
    "                          'fpkm_pval_std_norm':fpkm_res_std_norm.PVALUE.values\n",
    "                         },\n",
    "                         index=('chr' + vsd_res['#CHROM'].astype(str) + \n",
    "                                ':' + vsd_res.BEG.astype(str)))\n",
    "                          \n",
    "    exp = pd.DataFrame({'vsd_exp':vsd_phe.ix[gene_id],\n",
    "                        'evsd_exp':evsd_phe.ix[gene_id], \n",
    "                        'tpm_exp':tpm_phe.ix[gene_id].values,\n",
    "                        'fpkm_exp':fpkm_phe.ix[gene_id].values,\n",
    "                        'vsd_exp_std_norm':vsd_phe_std_norm.ix[gene_id],\n",
    "                        'evsd_exp_std_norm':evsd_phe_std_norm.ix[gene_id], \n",
    "                        'tpm_exp_std_norm':tpm_phe_std_norm.ix[gene_id].values,\n",
    "                        'fpkm_exp_std_norm':fpkm_phe_std_norm.ix[gene_id].values})\n",
    "    \n",
    "    shutil.rmtree(tempdir)\n",
    "    orig_dir()\n",
    "    return pvals, exp"
   ]
  },
  {
   "cell_type": "code",
   "execution_count": 148,
   "metadata": {
    "collapsed": false
   },
   "outputs": [],
   "source": [
    "pvals = {}\n",
    "exp = {}\n",
    "gold_genes = []\n",
    "gold_pvals = []\n",
    "for g in gold_eqtls.my_gene_id:\n",
    "    p, e = compare_exp_estimates(g)\n",
    "    pvals[g] = p\n",
    "    exp[g] = e\n",
    "    if gold_eqtls.ix[g, 'snp'] in p.index:\n",
    "        gold_genes.append(g)\n",
    "        gold_pvals.append(p.ix[gold_eqtls.ix[g, 'snp']])\n",
    "gold_pvals = pd.DataFrame(gold_pvals, index=gold_genes)\n",
    "log_gold_pvals = -np.log10(gold_pvals)"
   ]
  },
  {
   "cell_type": "code",
   "execution_count": 158,
   "metadata": {
    "collapsed": false
   },
   "outputs": [
    {
     "data": {
      "image/png": "[encoded data removed]",
      "text/plain": [
       "<matplotlib.figure.Figure at 0x7f29fec6cdd0>"
      ]
     },
     "metadata": {},
     "output_type": "display_data"
    }
   ],
   "source": [
    "a = log_gold_pvals.hist()"
   ]
  },
  {
   "cell_type": "code",
   "execution_count": 163,
   "metadata": {
    "collapsed": false
   },
   "outputs": [
    {
     "data": {
      "text/plain": [
       "<matplotlib.collections.PathCollection at 0x7f2a0133edd0>"
      ]
     },
     "execution_count": 163,
     "metadata": {},
     "output_type": "execute_result"
    },
    {
     "data": {
      "image/png": "[encoded data removed]",
      "text/plain": [
       "<matplotlib.figure.Figure at 0x7f29fe96ded0>"
      ]
     },
     "metadata": {},
     "output_type": "display_data"
    }
   ],
   "source": [
    "plt.scatter(log_gold_pvals.vsd_pval, log_gold_pvals.tpm_pval)"
   ]
  },
  {
   "cell_type": "code",
   "execution_count": 162,
   "metadata": {
    "collapsed": false
   },
   "outputs": [
    {
     "data": {
      "text/plain": [
       "<matplotlib.collections.PathCollection at 0x7f2a01187f90>"
      ]
     },
     "execution_count": 162,
     "metadata": {},
     "output_type": "execute_result"
    },
    {
     "data": {
      "image/png": "[encoded data removed]",
      "text/plain": [
       "<matplotlib.figure.Figure at 0x7f2a0124b990>"
      ]
     },
     "metadata": {},
     "output_type": "display_data"
    }
   ],
   "source": [
    "plt.scatter(log_gold_pvals.fpkm_pval, log_gold_pvals.tpm_pval)"
   ]
  },
  {
   "cell_type": "code",
   "execution_count": 153,
   "metadata": {
    "collapsed": false
   },
   "outputs": [
    {
     "data": {
      "text/plain": [
       "evsd_pval             861.924527\n",
       "evsd_pval_std_norm    758.585425\n",
       "fpkm_pval             807.900396\n",
       "fpkm_pval_std_norm    704.805923\n",
       "tpm_pval              823.959170\n",
       "tpm_pval_std_norm     722.797981\n",
       "vsd_pval              861.358998\n",
       "vsd_pval_std_norm     774.362060\n",
       "dtype: float64"
      ]
     },
     "execution_count": 153,
     "metadata": {},
     "output_type": "execute_result"
    }
   ],
   "source": [
    "log_gold_pvals.sum()"
   ]
  },
  {
   "cell_type": "code",
   "execution_count": 165,
   "metadata": {
    "collapsed": false
   },
   "outputs": [
    {
     "data": {
      "text/html": [
       "<div>\n",
       "<table border=\"1\" class=\"dataframe\">\n",
       "  <thead>\n",
       "    <tr style=\"text-align: right;\">\n",
       "      <th></th>\n",
       "      <th>evsd_pval</th>\n",
       "      <th>evsd_pval_std_norm</th>\n",
       "      <th>fpkm_pval</th>\n",
       "      <th>fpkm_pval_std_norm</th>\n",
       "      <th>tpm_pval</th>\n",
       "      <th>tpm_pval_std_norm</th>\n",
       "      <th>vsd_pval</th>\n",
       "      <th>vsd_pval_std_norm</th>\n",
       "    </tr>\n",
       "  </thead>\n",
       "  <tbody>\n",
       "    <tr>\n",
       "      <th>evsd_pval</th>\n",
       "      <td>1.000000</td>\n",
       "      <td>0.964929</td>\n",
       "      <td>0.963991</td>\n",
       "      <td>0.953094</td>\n",
       "      <td>0.957743</td>\n",
       "      <td>0.939168</td>\n",
       "      <td>0.895202</td>\n",
       "      <td>0.873549</td>\n",
       "    </tr>\n",
       "    <tr>\n",
       "      <th>evsd_pval_std_norm</th>\n",
       "      <td>0.964929</td>\n",
       "      <td>1.000000</td>\n",
       "      <td>0.904671</td>\n",
       "      <td>0.971543</td>\n",
       "      <td>0.898728</td>\n",
       "      <td>0.956456</td>\n",
       "      <td>0.904722</td>\n",
       "      <td>0.936513</td>\n",
       "    </tr>\n",
       "    <tr>\n",
       "      <th>fpkm_pval</th>\n",
       "      <td>0.963991</td>\n",
       "      <td>0.904671</td>\n",
       "      <td>1.000000</td>\n",
       "      <td>0.943567</td>\n",
       "      <td>0.995838</td>\n",
       "      <td>0.933551</td>\n",
       "      <td>0.788346</td>\n",
       "      <td>0.762051</td>\n",
       "    </tr>\n",
       "    <tr>\n",
       "      <th>fpkm_pval_std_norm</th>\n",
       "      <td>0.953094</td>\n",
       "      <td>0.971543</td>\n",
       "      <td>0.943567</td>\n",
       "      <td>1.000000</td>\n",
       "      <td>0.944875</td>\n",
       "      <td>0.993991</td>\n",
       "      <td>0.866676</td>\n",
       "      <td>0.885776</td>\n",
       "    </tr>\n",
       "    <tr>\n",
       "      <th>tpm_pval</th>\n",
       "      <td>0.957743</td>\n",
       "      <td>0.898728</td>\n",
       "      <td>0.995838</td>\n",
       "      <td>0.944875</td>\n",
       "      <td>1.000000</td>\n",
       "      <td>0.944307</td>\n",
       "      <td>0.787027</td>\n",
       "      <td>0.758746</td>\n",
       "    </tr>\n",
       "    <tr>\n",
       "      <th>tpm_pval_std_norm</th>\n",
       "      <td>0.939168</td>\n",
       "      <td>0.956456</td>\n",
       "      <td>0.933551</td>\n",
       "      <td>0.993991</td>\n",
       "      <td>0.944307</td>\n",
       "      <td>1.000000</td>\n",
       "      <td>0.859680</td>\n",
       "      <td>0.875380</td>\n",
       "    </tr>\n",
       "    <tr>\n",
       "      <th>vsd_pval</th>\n",
       "      <td>0.895202</td>\n",
       "      <td>0.904722</td>\n",
       "      <td>0.788346</td>\n",
       "      <td>0.866676</td>\n",
       "      <td>0.787027</td>\n",
       "      <td>0.859680</td>\n",
       "      <td>1.000000</td>\n",
       "      <td>0.972497</td>\n",
       "    </tr>\n",
       "    <tr>\n",
       "      <th>vsd_pval_std_norm</th>\n",
       "      <td>0.873549</td>\n",
       "      <td>0.936513</td>\n",
       "      <td>0.762051</td>\n",
       "      <td>0.885776</td>\n",
       "      <td>0.758746</td>\n",
       "      <td>0.875380</td>\n",
       "      <td>0.972497</td>\n",
       "      <td>1.000000</td>\n",
       "    </tr>\n",
       "  </tbody>\n",
       "</table>\n",
       "</div>"
      ],
      "text/plain": [
       "                    evsd_pval  evsd_pval_std_norm  fpkm_pval  \\\n",
       "evsd_pval            1.000000            0.964929   0.963991   \n",
       "evsd_pval_std_norm   0.964929            1.000000   0.904671   \n",
       "fpkm_pval            0.963991            0.904671   1.000000   \n",
       "fpkm_pval_std_norm   0.953094            0.971543   0.943567   \n",
       "tpm_pval             0.957743            0.898728   0.995838   \n",
       "tpm_pval_std_norm    0.939168            0.956456   0.933551   \n",
       "vsd_pval             0.895202            0.904722   0.788346   \n",
       "vsd_pval_std_norm    0.873549            0.936513   0.762051   \n",
       "\n",
       "                    fpkm_pval_std_norm  tpm_pval  tpm_pval_std_norm  vsd_pval  \\\n",
       "evsd_pval                     0.953094  0.957743           0.939168  0.895202   \n",
       "evsd_pval_std_norm            0.971543  0.898728           0.956456  0.904722   \n",
       "fpkm_pval                     0.943567  0.995838           0.933551  0.788346   \n",
       "fpkm_pval_std_norm            1.000000  0.944875           0.993991  0.866676   \n",
       "tpm_pval                      0.944875  1.000000           0.944307  0.787027   \n",
       "tpm_pval_std_norm             0.993991  0.944307           1.000000  0.859680   \n",
       "vsd_pval                      0.866676  0.787027           0.859680  1.000000   \n",
       "vsd_pval_std_norm             0.885776  0.758746           0.875380  0.972497   \n",
       "\n",
       "                    vsd_pval_std_norm  \n",
       "evsd_pval                    0.873549  \n",
       "evsd_pval_std_norm           0.936513  \n",
       "fpkm_pval                    0.762051  \n",
       "fpkm_pval_std_norm           0.885776  \n",
       "tpm_pval                     0.758746  \n",
       "tpm_pval_std_norm            0.875380  \n",
       "vsd_pval                     0.972497  \n",
       "vsd_pval_std_norm            1.000000  "
      ]
     },
     "execution_count": 165,
     "metadata": {},
     "output_type": "execute_result"
    }
   ],
   "source": [
    "log_gold_pvals.corr()"
   ]
  },
  {
   "cell_type": "code",
   "execution_count": 199,
   "metadata": {
    "collapsed": true
   },
   "outputs": [],
   "source": [
    "def run_emmax_comparison(gene_id):\n",
    "    phes = ['vst_counts_phe.tsv',\n",
    "            'vst_expected_counts_phe.tsv',\n",
    "            'tpm_log_filtered_phe.tsv',\n",
    "            'fpkm_log_filtered_phe.tsv',\n",
    "            'vst_counts_phe_std_norm.tsv',\n",
    "            'vst_expected_counts_phe_std_norm.tsv',\n",
    "            'tpm_log_filtered_phe_std_norm.tsv',\n",
    "            'fpkm_log_filtered_phe_std_norm.tsv']\n",
    "    phes = [os.path.join(ciepy.root, 'output', 'eqtl_input', x) for x in phes]\n",
    "    for phe in phes:\n",
    "        run_emmax(gene_id, phe)"
   ]
  },
  {
   "cell_type": "code",
   "execution_count": 177,
   "metadata": {
    "collapsed": true
   },
   "outputs": [],
   "source": [
    "def run_emmax(gene_id, phe):\n",
    "    os.chdir('/raid3/projects/CARDIPS/analysis/cardips-ipsc-eqtl/notebooks')\n",
    "    name = os.path.split(phe)[1].split('.')[0]\n",
    "    toutdir = os.path.join(outdir, name, gene_id)\n",
    "    if not os.path.exists(toutdir):\n",
    "        cpy.makedir(toutdir)\n",
    "        fn = os.path.join(toutdir, '{}.sh'.format(gene_id))\n",
    "        with open(fn, 'w') as f:\n",
    "            c = 'python {} \\\\\\n\\t'.format(os.path.join(ciepy.root, 'scripts', 'run_emmax.py'))\n",
    "            c += ' \\\\\\n\\t'.join([\n",
    "                    gene_id,\n",
    "                    os.path.join(ciepy.root, 'private_data', 'wgs', 'biallelic_snvs.vcf.gz'),\n",
    "                    ','.join(gene_to_regions[gene_id]),\n",
    "                    phe,\n",
    "                    os.path.join(ciepy.root, 'output', 'eqtl_input', 'emmax.ind'),\n",
    "                    os.path.join(ciepy.root, 'output', 'eqtl_input', 'wgs.kin'),\n",
    "                    toutdir,\n",
    "                    '-c {}'.format(os.path.join(ciepy.root, 'output', 'eqtl_input', \n",
    "                                                'emmax.cov')),\n",
    "                ])\n",
    "            f.write(c + '\\n')\n",
    "        subprocess.check_call('bash {}'.format(fn), shell=True)"
   ]
  },
  {
   "cell_type": "code",
   "execution_count": 200,
   "metadata": {
    "collapsed": false
   },
   "outputs": [
    {
     "name": "stdout",
     "output_type": "stream",
     "text": [
      "2015-09-07 18:46:16.679 [IPClusterStop] Stopping cluster [pid=46196] with [signal=2]\r\n"
     ]
    }
   ],
   "source": [
    "!ipcluster stop --profile=cardips"
   ]
  },
  {
   "cell_type": "code",
   "execution_count": 201,
   "metadata": {
    "collapsed": true
   },
   "outputs": [],
   "source": [
    "!ipcluster start -n 15 --daemon --profile=cardips\n",
    "!sleep 60"
   ]
  },
  {
   "cell_type": "code",
   "execution_count": 202,
   "metadata": {
    "collapsed": false
   },
   "outputs": [],
   "source": [
    "from IPython.parallel import Client\n",
    "parallel_client = Client()"
   ]
  },
  {
   "cell_type": "code",
   "execution_count": 203,
   "metadata": {
    "collapsed": false
   },
   "outputs": [
    {
     "name": "stdout",
     "output_type": "stream",
     "text": [
      "importing os on engine(s)\n",
      "importing subprocess on engine(s)\n",
      "importing time on engine(s)\n",
      "importing cardipspy on engine(s)\n",
      "importing ciepy on engine(s)\n"
     ]
    }
   ],
   "source": [
    "dview = parallel_client[:]\n",
    "with dview.sync_imports():\n",
    "    import os\n",
    "    import subprocess\n",
    "    import time\n",
    "    import cardipspy\n",
    "    import ciepy"
   ]
  },
  {
   "cell_type": "code",
   "execution_count": 204,
   "metadata": {
    "collapsed": false
   },
   "outputs": [],
   "source": [
    "%px cpy = cardipspy"
   ]
  },
  {
   "cell_type": "code",
   "execution_count": 205,
   "metadata": {
    "collapsed": true
   },
   "outputs": [],
   "source": [
    "todo = list(gold_eqtls.index)"
   ]
  },
  {
   "cell_type": "code",
   "execution_count": 206,
   "metadata": {
    "collapsed": false
   },
   "outputs": [
    {
     "data": {
      "text/plain": [
       "<AsyncResult: scatter>"
      ]
     },
     "execution_count": 206,
     "metadata": {},
     "output_type": "execute_result"
    }
   ],
   "source": [
    "dview.push(dict(gene_to_regions=gene_to_regions, outdir=outdir, run_emmax=run_emmax,\n",
    "                run_emmax_comparison=run_emmax_comparison))\n",
    "dview.scatter('todo', todo);"
   ]
  },
  {
   "cell_type": "code",
   "execution_count": null,
   "metadata": {
    "collapsed": true
   },
   "outputs": [],
   "source": [
    "sleep = np.arange(0, 10 * len(parallel_client.ids), 10)\n",
    "dview.scatter('sleep', sleep);"
   ]
  },
  {
   "cell_type": "code",
   "execution_count": null,
   "metadata": {
    "collapsed": true
   },
   "outputs": [],
   "source": [
    "%px time.sleep(sleep[0]) ; [run_emmax_comparison(x) for x in todo]"
   ]
  },
  {
   "cell_type": "code",
   "execution_count": null,
   "metadata": {
    "collapsed": true
   },
   "outputs": [],
   "source": []
  }
 ],
 "metadata": {
  "kernelspec": {
   "display_name": "Python 2",
   "language": "python",
   "name": "python2"
  },
  "language_info": {
   "codemirror_mode": {
    "name": "ipython",
    "version": 2
   },
   "file_extension": ".py",
   "mimetype": "text/x-python",
   "name": "python",
   "nbconvert_exporter": "python",
   "pygments_lexer": "ipython2",
   "version": "2.7.11"
  }
 },
 "nbformat": 4,
 "nbformat_minor": 0
}
