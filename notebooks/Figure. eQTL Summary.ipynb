{
 "cells": [
  {
   "cell_type": "markdown",
   "metadata": {},
   "source": [
    "# Figure. eQTL Summary"
   ]
  },
  {
   "cell_type": "code",
   "execution_count": 1,
   "metadata": {
    "collapsed": true
   },
   "outputs": [],
   "source": [
    "import cPickle\n",
    "import glob\n",
    "import os\n",
    "import random\n",
    "import subprocess\n",
    "\n",
    "import cdpybio as cpb\n",
    "from ipyparallel import Client\n",
    "import matplotlib as mpl\n",
    "import matplotlib.gridspec as gridspec\n",
    "import matplotlib.pyplot as plt\n",
    "import numpy as np\n",
    "import pandas as pd\n",
    "import pybedtools as pbt\n",
    "from scipy.stats import fisher_exact\n",
    "import seaborn as sns\n",
    "import tabix\n",
    "import vcf as pyvcf\n",
    "import weblogolib as logo\n",
    "\n",
    "import cardipspy as cpy\n",
    "import ciepy\n",
    "\n",
    "%matplotlib inline\n",
    "%load_ext rpy2.ipython\n",
    "\n",
    "dy_name = 'figure_eqtl_summary'\n",
    "\n",
    "import socket\n",
    "if socket.gethostname() == 'fl-hn1' or socket.gethostname() == 'fl-hn2':\n",
    "    dy = os.path.join(ciepy.root, 'sandbox', dy_name)\n",
    "    cpy.makedir(dy)\n",
    "    pbt.set_tempdir(dy)\n",
    "    \n",
    "outdir = os.path.join(ciepy.root, 'output', dy_name)\n",
    "cpy.makedir(outdir)\n",
    "\n",
    "private_outdir = os.path.join(ciepy.root, 'private_output', dy_name)\n",
    "cpy.makedir(private_outdir)"
   ]
  },
  {
   "cell_type": "code",
   "execution_count": 2,
   "metadata": {
    "collapsed": true
   },
   "outputs": [],
   "source": [
    "sns.set_style('whitegrid')"
   ]
  },
  {
   "cell_type": "code",
   "execution_count": 3,
   "metadata": {
    "collapsed": true
   },
   "outputs": [],
   "source": [
    "gene_info = pd.read_table(cpy.gencode_gene_info, index_col=0)\n",
    "\n",
    "dy = os.path.join(ciepy.root, 'output/eqtl_processing/eqtls01')\n",
    "fn = os.path.join(dy, 'qvalues.tsv')\n",
    "qvalues = pd.read_table(fn, index_col=0)\n",
    "\n",
    "# fn = '/projects/CARDIPS/analysis/cardips-ipsc-eqtl/output/eqtl_processing/no_peer_no_std_norm01/h2.tsv'\n",
    "# h2 = pd.read_table(fn, index_col=0, header=None, squeeze=True)\n",
    "\n",
    "fn = os.path.join(ciepy.root, 'output', 'input_data', 'rsem_tpm.tsv')\n",
    "exp = pd.read_table(fn, index_col=0)"
   ]
  },
  {
   "cell_type": "code",
   "execution_count": 4,
   "metadata": {
    "collapsed": true
   },
   "outputs": [],
   "source": [
    "fn = os.path.join(ciepy.root, 'output', 'eqtl_processing', 'eqtls01', 'lead_variants.tsv')\n",
    "lead_vars = pd.read_table(fn, index_col=0)\n",
    "sig = lead_vars[lead_vars.perm_sig]\n",
    "\n",
    "fn = os.path.join(ciepy.root, 'output', 'gtex_analysis', 'plot_data.tsv')\n",
    "plotd = pd.read_table(fn, index_col=0)\n",
    "fn = os.path.join(ciepy.root, 'output', 'input_data', 'rnaseq_metadata.tsv')\n",
    "rna_meta = pd.read_table(fn, index_col=0)"
   ]
  },
  {
   "cell_type": "code",
   "execution_count": 5,
   "metadata": {
    "collapsed": false
   },
   "outputs": [],
   "source": [
    "fn = os.path.join(ciepy.root, 'private_output', 'eqtl_input', \n",
    "                  'filtered_all', '0000.vcf.gz')\n",
    "vcf_reader = pyvcf.Reader(open(fn), compressed=True)\n",
    "res_fns = glob.glob(os.path.join(ciepy.root, 'private_output', 'run_eqtl_analysis', 'eqtls01', \n",
    "                                 'gene_results', '*', 'ENS*.tsv'))\n",
    "res_fns = pd.Series(res_fns,\n",
    "                    index=[os.path.splitext(os.path.split(x)[1])[0] for x in res_fns])\n",
    "\n",
    "qvalue_sig = qvalues[qvalues.perm_sig == 1]\n",
    "qvalue_sig = qvalue_sig.sort_values('perm_qvalue')"
   ]
  },
  {
   "cell_type": "code",
   "execution_count": 6,
   "metadata": {
    "collapsed": true
   },
   "outputs": [],
   "source": [
    "fn = os.path.join(ciepy.root, 'output', 'eqtl_input', \n",
    "                  'tpm_log_filtered_phe_std_norm_peer_resid.tsv')\n",
    "resid_exp = pd.read_table(fn, index_col=0)"
   ]
  },
  {
   "cell_type": "code",
   "execution_count": 7,
   "metadata": {
    "collapsed": true
   },
   "outputs": [],
   "source": [
    "log_exp = np.log10(exp + 1)\n",
    "#log_exp = (log_exp.T - log_exp.mean(axis=1)).T\n",
    "log_exp = log_exp[rna_meta[rna_meta.in_eqtl].index]\n",
    "log_exp.columns = rna_meta[rna_meta.in_eqtl].wgs_id"
   ]
  },
  {
   "cell_type": "code",
   "execution_count": 8,
   "metadata": {
    "collapsed": true
   },
   "outputs": [],
   "source": [
    "# Example genes.\n",
    "pgenes = ['IDO1', 'LCK', 'POU5F1', 'CXCL5', 'BCL9', 'FGFR1']\n",
    "pgenes = ['POU5F1', 'CXCL5', 'BCL9', 'FGFR1', 'IDO1']\n",
    "genes = []\n",
    "for g in pgenes:\n",
    "    i = gene_info[gene_info.gene_name == g].index[0]\n",
    "    if i in qvalues[qvalues.perm_sig].index:\n",
    "        genes.append(i)"
   ]
  },
  {
   "cell_type": "code",
   "execution_count": 9,
   "metadata": {
    "collapsed": false
   },
   "outputs": [
    {
     "data": {
      "text/html": [
       "<div>\n",
       "<table border=\"1\" class=\"dataframe\">\n",
       "  <thead>\n",
       "    <tr style=\"text-align: right;\">\n",
       "      <th></th>\n",
       "      <th>gene_name</th>\n",
       "      <th>gene_type</th>\n",
       "      <th>chrom</th>\n",
       "      <th>start</th>\n",
       "      <th>end</th>\n",
       "      <th>strand</th>\n",
       "      <th>gene_status</th>\n",
       "      <th>source</th>\n",
       "      <th>level</th>\n",
       "      <th>r2</th>\n",
       "      <th>h2</th>\n",
       "    </tr>\n",
       "    <tr>\n",
       "      <th>gene_id</th>\n",
       "      <th></th>\n",
       "      <th></th>\n",
       "      <th></th>\n",
       "      <th></th>\n",
       "      <th></th>\n",
       "      <th></th>\n",
       "      <th></th>\n",
       "      <th></th>\n",
       "      <th></th>\n",
       "      <th></th>\n",
       "      <th></th>\n",
       "    </tr>\n",
       "  </thead>\n",
       "  <tbody>\n",
       "    <tr>\n",
       "      <th>ENSG00000204531.11</th>\n",
       "      <td>POU5F1</td>\n",
       "      <td>protein_coding</td>\n",
       "      <td>chr6</td>\n",
       "      <td>31132118</td>\n",
       "      <td>31148508</td>\n",
       "      <td>-</td>\n",
       "      <td>KNOWN</td>\n",
       "      <td>HAVANA</td>\n",
       "      <td>1</td>\n",
       "      <td>0.18250</td>\n",
       "      <td>0.557788</td>\n",
       "    </tr>\n",
       "    <tr>\n",
       "      <th>ENSG00000163735.6</th>\n",
       "      <td>CXCL5</td>\n",
       "      <td>protein_coding</td>\n",
       "      <td>chr4</td>\n",
       "      <td>74861358</td>\n",
       "      <td>74864496</td>\n",
       "      <td>-</td>\n",
       "      <td>KNOWN</td>\n",
       "      <td>HAVANA</td>\n",
       "      <td>2</td>\n",
       "      <td>0.19310</td>\n",
       "      <td>0.799549</td>\n",
       "    </tr>\n",
       "    <tr>\n",
       "      <th>ENSG00000116128.5</th>\n",
       "      <td>BCL9</td>\n",
       "      <td>protein_coding</td>\n",
       "      <td>chr1</td>\n",
       "      <td>147013181</td>\n",
       "      <td>147098017</td>\n",
       "      <td>+</td>\n",
       "      <td>KNOWN</td>\n",
       "      <td>HAVANA</td>\n",
       "      <td>2</td>\n",
       "      <td>0.06051</td>\n",
       "      <td>0.666568</td>\n",
       "    </tr>\n",
       "    <tr>\n",
       "      <th>ENSG00000077782.15</th>\n",
       "      <td>FGFR1</td>\n",
       "      <td>protein_coding</td>\n",
       "      <td>chr8</td>\n",
       "      <td>38268655</td>\n",
       "      <td>38326352</td>\n",
       "      <td>-</td>\n",
       "      <td>KNOWN</td>\n",
       "      <td>HAVANA</td>\n",
       "      <td>1</td>\n",
       "      <td>0.10850</td>\n",
       "      <td>0.137035</td>\n",
       "    </tr>\n",
       "    <tr>\n",
       "      <th>ENSG00000131203.8</th>\n",
       "      <td>IDO1</td>\n",
       "      <td>protein_coding</td>\n",
       "      <td>chr8</td>\n",
       "      <td>39759793</td>\n",
       "      <td>39785963</td>\n",
       "      <td>+</td>\n",
       "      <td>KNOWN</td>\n",
       "      <td>HAVANA</td>\n",
       "      <td>2</td>\n",
       "      <td>0.10770</td>\n",
       "      <td>0.715645</td>\n",
       "    </tr>\n",
       "  </tbody>\n",
       "</table>\n",
       "</div>"
      ],
      "text/plain": [
       "                   gene_name       gene_type chrom      start        end  \\\n",
       "gene_id                                                                    \n",
       "ENSG00000204531.11    POU5F1  protein_coding  chr6   31132118   31148508   \n",
       "ENSG00000163735.6      CXCL5  protein_coding  chr4   74861358   74864496   \n",
       "ENSG00000116128.5       BCL9  protein_coding  chr1  147013181  147098017   \n",
       "ENSG00000077782.15     FGFR1  protein_coding  chr8   38268655   38326352   \n",
       "ENSG00000131203.8       IDO1  protein_coding  chr8   39759793   39785963   \n",
       "\n",
       "                   strand gene_status  source  level       r2        h2  \n",
       "gene_id                                                                  \n",
       "ENSG00000204531.11      -       KNOWN  HAVANA      1  0.18250  0.557788  \n",
       "ENSG00000163735.6       -       KNOWN  HAVANA      2  0.19310  0.799549  \n",
       "ENSG00000116128.5       +       KNOWN  HAVANA      2  0.06051  0.666568  \n",
       "ENSG00000077782.15      -       KNOWN  HAVANA      1  0.10850  0.137035  \n",
       "ENSG00000131203.8       +       KNOWN  HAVANA      2  0.10770  0.715645  "
      ]
     },
     "execution_count": 9,
     "metadata": {},
     "output_type": "execute_result"
    }
   ],
   "source": [
    "pdf = gene_info.ix[genes]\n",
    "t_h2 = []\n",
    "t_r2 = []\n",
    "for g in pdf.index:\n",
    "    fn = os.path.join(ciepy.root, 'private_output/run_eqtl_analysis/no_peer_no_std_norm01/gene_results', \n",
    "                      g, '{}.tsv'.format(g))\n",
    "    res = ciepy.read_emmax_output(fn)\n",
    "    res = res.sort_values('PVALUE')\n",
    "    t_r2.append(res.R2.values[0])\n",
    "    fn = os.path.join(ciepy.root, 'private_output/run_eqtl_analysis/no_peer_no_std_norm01/gene_results', \n",
    "                      g, '{}.reml'.format(g))\n",
    "    t_h2.append(pd.read_table(fn, index_col=0, header=None, squeeze=True)['h2'])\n",
    "pdf['r2'] = t_r2\n",
    "pdf['h2'] = t_h2\n",
    "pdf"
   ]
  },
  {
   "cell_type": "code",
   "execution_count": 10,
   "metadata": {
    "collapsed": true
   },
   "outputs": [],
   "source": [
    "def eqtl_violin(gene_id, exp, ax):\n",
    "    res = ciepy.read_emmax_output(res_fns[gene_id])\n",
    "    res = res.sort_values('PVALUE')\n",
    "    t =  vcf_reader.fetch(res.CHROM.values[0], \n",
    "                          res.BEG.values[0], \n",
    "                          res.BEG.values[0] + 1)\n",
    "    r = t.next()\n",
    "    tdf = pd.DataFrame(exp.ix[gene_id])\n",
    "    tdf.columns = ['Expression']\n",
    "    tdf['Genotype'] = 0\n",
    "    hets = set(exp.columns) & set([s.sample for s in r.get_hets()])\n",
    "    tdf.ix[hets, 'Genotype'] = 1\n",
    "    alts = set(exp.columns) & set([s.sample for s in r.get_hom_alts()])\n",
    "    tdf.ix[alts, 'Genotype'] = 2\n",
    "    ax = sns.violinplot(x='Genotype', y='Expression', data=tdf, color='grey',\n",
    "                        order=[0, 1, 2], scale='count', linewidth=0.5)\n",
    "    ax.set_ylabel('$\\\\log_{10}$ TPM', fontsize=8)\n",
    "    for t in ax.get_xticklabels() + ax.get_yticklabels():\n",
    "        t.set_fontsize(6)\n",
    "    sns.regplot(x='Genotype', y='Expression', data=tdf, scatter=False, color='red', \n",
    "                ci=None, line_kws={'linewidth':0.8})\n",
    "    ax.set_ylabel('$\\\\log_{10}$ TPM', fontsize=8)\n",
    "    ya, yb = plt.ylim()\n",
    "    ax.set_xlabel('')\n",
    "    #ax.set_xticklabels(['Homo.\\nref.', 'Het.', 'Homo.\\nalt.'], fontsize=8)\n",
    "    ax.set_xticklabels([r.REF + '\\n' + r.REF, r.REF + '\\n' + str(r.ALT[0]), str(r.ALT[0]) + '\\n' + str(r.ALT[0])])\n",
    "    ax.set_title(gene_info.ix[pdf.index[i], 'gene_name'], fontsize=8, style='italic')\n",
    "    #ax.set_xlabel('Genotype', fontsize=8)\n",
    "    return ax"
   ]
  },
  {
   "cell_type": "code",
   "execution_count": 11,
   "metadata": {
    "collapsed": false
   },
   "outputs": [],
   "source": [
    "a = gene_info.ix[qvalue_sig.index, 'gene_type'].value_counts()\n",
    "b = gene_info.ix[qvalues.index, 'gene_type'].value_counts()\n",
    "gtypes = pd.concat([a, b], axis=1)\n",
    "gtypes = gtypes.fillna(0)\n",
    "gtypes.columns = ['Significant', 'Tested']\n",
    "gtypes['Not significant'] = gtypes.Tested - gtypes.Significant\n",
    "gtypes.sort_values(by=['Tested'], inplace=True, ascending=True)\n",
    "gtypes = gtypes.drop('Tested', axis=1)\n",
    "gtypes.index = [x.replace('_', ' ') for x in gtypes.index]"
   ]
  },
  {
   "cell_type": "code",
   "execution_count": 12,
   "metadata": {
    "collapsed": false
   },
   "outputs": [
    {
     "data": {
      "text/html": [
       "<div>\n",
       "<table border=\"1\" class=\"dataframe\">\n",
       "  <thead>\n",
       "    <tr style=\"text-align: right;\">\n",
       "      <th></th>\n",
       "      <th>Significant</th>\n",
       "      <th>Not significant</th>\n",
       "    </tr>\n",
       "  </thead>\n",
       "  <tbody>\n",
       "    <tr>\n",
       "      <th>processed transcript</th>\n",
       "      <td>92</td>\n",
       "      <td>131</td>\n",
       "    </tr>\n",
       "    <tr>\n",
       "      <th>antisense</th>\n",
       "      <td>269</td>\n",
       "      <td>657</td>\n",
       "    </tr>\n",
       "    <tr>\n",
       "      <th>lincRNA</th>\n",
       "      <td>362</td>\n",
       "      <td>687</td>\n",
       "    </tr>\n",
       "    <tr>\n",
       "      <th>pseudogene</th>\n",
       "      <td>334</td>\n",
       "      <td>1059</td>\n",
       "    </tr>\n",
       "    <tr>\n",
       "      <th>protein coding</th>\n",
       "      <td>4622</td>\n",
       "      <td>9215</td>\n",
       "    </tr>\n",
       "  </tbody>\n",
       "</table>\n",
       "</div>"
      ],
      "text/plain": [
       "                      Significant  Not significant\n",
       "processed transcript           92              131\n",
       "antisense                     269              657\n",
       "lincRNA                       362              687\n",
       "pseudogene                    334             1059\n",
       "protein coding               4622             9215"
      ]
     },
     "execution_count": 12,
     "metadata": {},
     "output_type": "execute_result"
    }
   ],
   "source": [
    "gtypes.tail(5)"
   ]
  },
  {
   "cell_type": "code",
   "execution_count": 13,
   "metadata": {
    "collapsed": true
   },
   "outputs": [],
   "source": [
    "from matplotlib.colors import ListedColormap\n",
    "\n",
    "my_cmap = ListedColormap(sns.color_palette())"
   ]
  },
  {
   "cell_type": "code",
   "execution_count": 14,
   "metadata": {
    "collapsed": false
   },
   "outputs": [
    {
     "name": "stderr",
     "output_type": "stream",
     "text": [
      "/frazer01/home/cdeboever/software/anaconda/envs/cie/lib/python2.7/site-packages/matplotlib/gridspec.py:302: UserWarning: This figure includes Axes that are not compatible with tight_layout, so its results might be incorrect.\n",
      "  warnings.warn(\"This figure includes Axes that are not \"\n"
     ]
    },
    {
     "data": {
      "image/png": "[encoded data removed]",
      "text/plain": [
       "<matplotlib.figure.Figure at 0x7f5648bdcc90>"
      ]
     },
     "metadata": {},
     "output_type": "display_data"
    }
   ],
   "source": [
    "fig = plt.figure(figsize=(4.48, 6.1), dpi=300)\n",
    "\n",
    "gs = gridspec.GridSpec(1, 1)\n",
    "ax = fig.add_subplot(gs[0, 0])\n",
    "ax.text(0, 1, 'Figure 1',\n",
    "        size=16, va='top')\n",
    "ciepy.clean_axis(ax)\n",
    "ax.set_xticks([])\n",
    "ax.set_yticks([])\n",
    "gs.tight_layout(fig, rect=[0, 0.95, 0.5, 1])\n",
    "\n",
    "# eGene types.\n",
    "gs = gridspec.GridSpec(1, 2, width_ratios=[4, 1])\n",
    "ax = fig.add_subplot(gs[0, 0])\n",
    "gtypes.tail().plot(kind='barh', stacked=True, ax=ax, legend=False, lw=0, colormap=my_cmap)\n",
    "ax.legend(frameon=True, fancybox=True, fontsize=8, loc='lower right')\n",
    "ax.set_xlim(0, 5500)\n",
    "ax.grid(axis='y')\n",
    "ax.xaxis.set_major_formatter(ciepy.comma_format)\n",
    "for t in ax.get_xticklabels() + ax.get_yticklabels():\n",
    "    t.set_fontsize(8)\n",
    "ax.set_xlabel('Number of genes', fontsize=8)\n",
    "sns.despine(ax=ax, top=False)\n",
    "xmin,xmax = ax.get_xlim()\n",
    "ymin,ymax = ax.get_ylim()\n",
    "xbreaksize = 0.01 * (xmax - xmin)\n",
    "ybreaksize = 0.1 * (ymax - ymin)\n",
    "fudge = 0.001 * (xmax - xmin)\n",
    "kwargs = dict(lw=1, color='0.8', solid_capstyle='butt', clip_on=False, zorder=0)\n",
    "ax.plot((xmax + fudge - xbreaksize, xmax + fudge + xbreaksize), \n",
    "        (ymin - ybreaksize, ymin + ybreaksize), **kwargs) # top-left diagonal\n",
    "ax.plot((xmax + fudge - xbreaksize, xmax + fudge + xbreaksize), \n",
    "        (ymax - ybreaksize, ymax + ybreaksize), **kwargs) # bottom-left diagonal\n",
    "\n",
    "# Make top of protein-coding genes.\n",
    "ax2 = fig.add_subplot(gs[0, 1])\n",
    "gtypes.tail().plot(kind='barh', stacked=True, ax=ax2, legend=False, lw=0, colormap=my_cmap)\n",
    "sns.despine(ax=ax2, top=False, left=True, right=False)\n",
    "ax2.set_xlim(12500, 14000)\n",
    "ax2.set_yticks([])\n",
    "ax2.grid(axis='y')\n",
    "ax2.set_xticks([13000, 14000])\n",
    "ax2.xaxis.set_major_formatter(ciepy.comma_format)\n",
    "for t in ax2.get_xticklabels() + ax2.get_yticklabels():\n",
    "    t.set_fontsize(8)\n",
    "gs.tight_layout(fig, rect=[0, 0.75, 1, 0.95])\n",
    "xmin,xmax = ax2.get_xlim()\n",
    "ymin,ymax = ax2.get_ylim()\n",
    "ax2.plot((xmin - fudge - xbreaksize, xmin - fudge + xbreaksize), \n",
    "        (ymin - ybreaksize, ymin + ybreaksize), **kwargs) # bottom-right diagonal\n",
    "ax2.plot((xmin - fudge - xbreaksize, xmin - fudge + xbreaksize), \n",
    "        (ymax - ybreaksize, ymax + ybreaksize), **kwargs) # top-right diagonal\n",
    "\n",
    "gs = gridspec.GridSpec(1, 1)\n",
    "ax = fig.add_subplot(gs[0, 0])\n",
    "i = 0\n",
    "ax = eqtl_violin(pdf.index[i], log_exp, ax)\n",
    "ax.set_title(gene_info.ix[pdf.index[i], 'gene_name'], fontsize=8, style='italic')\n",
    "gs.tight_layout(fig, rect=[0, 0.55, 0.5, 0.78])\n",
    "\n",
    "gs = gridspec.GridSpec(1, 1)\n",
    "ax = fig.add_subplot(gs[0, 0])\n",
    "i = 1\n",
    "ax = eqtl_violin(pdf.index[i], log_exp, ax)\n",
    "ax.set_title(gene_info.ix[pdf.index[i], 'gene_name'], fontsize=8, style='italic')\n",
    "gs.tight_layout(fig, rect=[0.5, 0.55, 1, 0.78])\n",
    "\n",
    "gs = gridspec.GridSpec(1, 1)\n",
    "ax = fig.add_subplot(gs[0, 0])\n",
    "i = 2\n",
    "ax = eqtl_violin(pdf.index[i], log_exp, ax)\n",
    "ax.set_title(gene_info.ix[pdf.index[i], 'gene_name'], fontsize=8, style='italic')\n",
    "ax.set_yticks(ax.get_yticks()[0::2])\n",
    "gs.tight_layout(fig, rect=[0, 0.35, 0.5, 0.58])\n",
    "\n",
    "gs = gridspec.GridSpec(1, 1)\n",
    "ax = fig.add_subplot(gs[0, 0])\n",
    "i = 3\n",
    "ax = eqtl_violin(pdf.index[i], log_exp, ax)\n",
    "gs.tight_layout(fig, rect=[0.5, 0.35, 1, 0.58])\n",
    "\n",
    "# Number of eGenes vs. number of samples\n",
    "gs = gridspec.GridSpec(1, 1)\n",
    "ax = fig.add_subplot(gs[0, 0])\n",
    "ax.scatter(plotd.ix[plotd.source == 'gtex', 'num_samples'], \n",
    "           plotd.ix[plotd.source == 'gtex', 'num_sig_genes'],\n",
    "           label='GTEx', color=cpb.analysis.tableau20[0], s=25, alpha=0.75)\n",
    "ax.scatter([plotd.ix['ipsc', 'num_samples']], \n",
    "           [plotd.ix['ipsc', 'num_sig_genes']],\n",
    "           label='iPSC', color=cpb.analysis.tableau20[6], alpha=0.75, s=40, marker='*')\n",
    "ax.scatter([plotd.ix['ipsc_unrelateds', 'num_samples']], \n",
    "           [plotd.ix['ipsc_unrelateds', 'num_sig_genes']],\n",
    "           label='iPSC unrelateds', color=cpb.analysis.tableau20[6], alpha=0.75, s=25, marker='d')\n",
    "ax.legend(fontsize=7, loc='lower right', ncol=2, bbox_to_anchor=(1, 1))\n",
    "ax.set_xlabel('Number of samples', fontsize=8)\n",
    "ax.set_ylabel('Number of eGenes', fontsize=8)\n",
    "for t in ax.get_xticklabels() + ax.get_yticklabels():\n",
    "    t.set_fontsize(8)\n",
    "#ax.legend(frameon=True, fancybox=True, fontsize=7, loc='lower right')\n",
    "ax.yaxis.set_major_formatter(ciepy.comma_format)\n",
    "ax.set_xticks(ax.get_xticks()[1::2])\n",
    "gs.tight_layout(fig, rect=[0, 0, 0.52, 0.34])\n",
    "\n",
    "# Percent distinct eGenes\n",
    "gs = gridspec.GridSpec(1, 1)\n",
    "ax = fig.add_subplot(gs[0, 0])\n",
    "ax.scatter(plotd.ix[plotd.source == 'gtex', 'num_samples'], \n",
    "           plotd.ix[plotd.source == 'gtex', 'percent_distinct_egenes'],\n",
    "           label='GTEx', color=cpb.analysis.tableau20[0], s=25, alpha=0.75)\n",
    "ax.scatter([plotd.ix['ipsc', 'num_samples']], \n",
    "           [plotd.ix['ipsc', 'percent_distinct_egenes']],\n",
    "           label='iPSC', color=cpb.analysis.tableau20[6], alpha=0.75, s=40, marker='*')\n",
    "ax.scatter([plotd.ix['ipsc_unrelateds', 'num_samples']], \n",
    "           [plotd.ix['ipsc_unrelateds', 'percent_distinct_egenes']],\n",
    "           label='iPSC unrelateds', color=cpb.analysis.tableau20[6], alpha=0.75, s=25, marker='d')\n",
    "ax.legend(fontsize=7, loc='lower right', ncol=2, bbox_to_anchor=(1, 1))\n",
    "ax.set_xlabel('Number of samples', fontsize=8)\n",
    "ax.set_ylabel('Percent unique eGenes', fontsize=8)\n",
    "for t in ax.get_xticklabels() + ax.get_yticklabels():\n",
    "    t.set_fontsize(8)\n",
    "# ax.legend(frameon=True, fancybox=True, fontsize=7, loc='upper right')\n",
    "ymin,ymax = ax.get_ylim()\n",
    "ax.set_ylim(0, ymax)\n",
    "ax.set_ylim(0, 0.1)\n",
    "ax.set_xticks(ax.get_xticks()[1::2])\n",
    "gs.tight_layout(fig, rect=[0.48, 0, 1, 0.34])\n",
    "\n",
    "t = fig.text(0.005, 0.91, 'A', weight='bold', \n",
    "             size=12)\n",
    "t = fig.text(0.005, 0.74, 'B', weight='bold', \n",
    "             size=12)\n",
    "t = fig.text(0.5, 0.74, 'C', weight='bold', \n",
    "             size=12)\n",
    "t = fig.text(0.005, 0.54, 'D', weight='bold', \n",
    "             size=12)\n",
    "t = fig.text(0.5, 0.54, 'E', weight='bold', \n",
    "             size=12)\n",
    "t = fig.text(0.005, 0.34, 'F', weight='bold', \n",
    "             size=12)\n",
    "t = fig.text(0.5, 0.34, 'G', weight='bold', \n",
    "             size=12)\n",
    "\n",
    "fig.savefig(os.path.join(outdir, 'eqtl_summary.pdf'))\n",
    "fig.savefig(os.path.join(outdir, 'eqtl_summary.png'), dpi=300)"
   ]
  },
  {
   "cell_type": "code",
   "execution_count": 15,
   "metadata": {
    "collapsed": false
   },
   "outputs": [
    {
     "data": {
      "image/png": "[encoded data removed]",
      "text/plain": [
       "<matplotlib.figure.Figure at 0x7f564409e610>"
      ]
     },
     "metadata": {},
     "output_type": "display_data"
    }
   ],
   "source": [
    "fig = plt.figure(figsize=(7, 4), dpi=300)\n",
    "\n",
    "fs = 12\n",
    "\n",
    "gs = gridspec.GridSpec(1, 1)\n",
    "# Number of eGenes vs. number of samples\n",
    "gs = gridspec.GridSpec(1, 1)\n",
    "ax = fig.add_subplot(gs[0, 0])\n",
    "ax.scatter(plotd.ix[plotd.source == 'gtex', 'num_samples'], \n",
    "           plotd.ix[plotd.source == 'gtex', 'num_sig_genes'],\n",
    "           label='GTEx', color=cpb.analysis.tableau20[0], s=50, alpha=0.75)\n",
    "ax.scatter([plotd.ix['ipsc', 'num_samples']], \n",
    "           [plotd.ix['ipsc', 'num_sig_genes']],\n",
    "           label='iPSC', color=cpb.analysis.tableau20[6], alpha=0.75, s=75, marker='*')\n",
    "ax.scatter([plotd.ix['ipsc_unrelateds', 'num_samples']], \n",
    "           [plotd.ix['ipsc_unrelateds', 'num_sig_genes']],\n",
    "           label='iPSC unrelateds', color=cpb.analysis.tableau20[6], alpha=0.75, s=50, marker='d')\n",
    "ax.legend(fontsize=fs, loc='lower center', ncol=3, bbox_to_anchor=(1, 1))\n",
    "ax.set_xlabel('Number of samples', fontsize=fs)\n",
    "ax.set_ylabel('Number of eGenes', fontsize=fs)\n",
    "for t in ax.get_xticklabels() + ax.get_yticklabels():\n",
    "    t.set_fontsize(fs)\n",
    "#ax.legend(frameon=True, fancybox=True, fontsize=7, loc='lower right')\n",
    "ax.yaxis.set_major_formatter(ciepy.comma_format)\n",
    "ax.set_xticks(ax.get_xticks()[1::2])\n",
    "gs.tight_layout(fig, rect=[0, 0, 0.52, 0.9])\n",
    "\n",
    "# Percent distinct eGenes\n",
    "gs = gridspec.GridSpec(1, 1)\n",
    "ax = fig.add_subplot(gs[0, 0])\n",
    "ax.scatter(plotd.ix[plotd.source == 'gtex', 'num_samples'], \n",
    "           plotd.ix[plotd.source == 'gtex', 'percent_distinct_egenes'],\n",
    "           label='GTEx', color=cpb.analysis.tableau20[0], s=50, alpha=0.75)\n",
    "ax.scatter([plotd.ix['ipsc', 'num_samples']], \n",
    "           [plotd.ix['ipsc', 'percent_distinct_egenes']],\n",
    "           label='iPSC', color=cpb.analysis.tableau20[6], alpha=0.75, s=75, marker='*')\n",
    "ax.scatter([plotd.ix['ipsc_unrelateds', 'num_samples']], \n",
    "           [plotd.ix['ipsc_unrelateds', 'percent_distinct_egenes']],\n",
    "           label='iPSC unrelateds', color=cpb.analysis.tableau20[6], alpha=0.75, s=50, marker='d')\n",
    "#ax.legend(fontsize=fs, loc='lower right', ncol=2, bbox_to_anchor=(1, 1))\n",
    "ax.set_xlabel('Number of samples', fontsize=fs)\n",
    "ax.set_ylabel('Percent unique eGenes', fontsize=fs)\n",
    "for t in ax.get_xticklabels() + ax.get_yticklabels():\n",
    "    t.set_fontsize(fs)\n",
    "# ax.legend(frameon=True, fancybox=True, fontsize=7, loc='upper right')\n",
    "ymin,ymax = ax.get_ylim()\n",
    "ax.set_ylim(0, 0.1)\n",
    "ax.set_xticks(ax.get_xticks()[1::2])\n",
    "gs.tight_layout(fig, rect=[0.48, 0, 1, 0.9])\n",
    "\n",
    "fig.savefig(os.path.join(outdir, 'power_presentation.pdf'))"
   ]
  }
 ],
 "metadata": {
  "kernelspec": {
   "display_name": "Environment (cie)",
   "language": "",
   "name": "cie"
  },
  "language_info": {
   "codemirror_mode": {
    "name": "ipython",
    "version": 2
   },
   "file_extension": ".py",
   "mimetype": "text/x-python",
   "name": "python",
   "nbconvert_exporter": "python",
   "pygments_lexer": "ipython2",
   "version": "2.7.11"
  }
 },
 "nbformat": 4,
 "nbformat_minor": 0
}
