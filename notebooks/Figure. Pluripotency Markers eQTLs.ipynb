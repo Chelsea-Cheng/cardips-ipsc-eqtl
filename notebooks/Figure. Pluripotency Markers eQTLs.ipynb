{
 "cells": [
  {
   "cell_type": "markdown",
   "metadata": {},
   "source": [
    "# Figure. Pluripotency Markers eQTLs"
   ]
  },
  {
   "cell_type": "code",
   "execution_count": 1,
   "metadata": {
    "collapsed": false
   },
   "outputs": [],
   "source": [
    "import cPickle\n",
    "import glob\n",
    "import os\n",
    "import random\n",
    "import subprocess\n",
    "\n",
    "import cdpybio as cpb\n",
    "from ipyparallel import Client\n",
    "import matplotlib as mpl\n",
    "import matplotlib.gridspec as gridspec\n",
    "import matplotlib.pyplot as plt\n",
    "import networkx as nx\n",
    "import numpy as np\n",
    "import pandas as pd\n",
    "import pybedtools as pbt\n",
    "from scipy.stats import fisher_exact\n",
    "import seaborn as sns\n",
    "import statsmodels.api as sm\n",
    "import statsmodels.formula.api as smf\n",
    "import statsmodels as sms\n",
    "import tabix\n",
    "import vcf as pyvcf\n",
    "import weblogolib as logo\n",
    "\n",
    "import cardipspy as cpy\n",
    "import ciepy\n",
    "\n",
    "%matplotlib inline\n",
    "%load_ext rpy2.ipython\n",
    "\n",
    "dy_name = 'figure_pluripotency_markers_eqtls'\n",
    "\n",
    "import socket\n",
    "if socket.gethostname() == 'fl-hn1' or socket.gethostname() == 'fl-hn2':\n",
    "    dy = os.path.join(ciepy.root, 'sandbox', 'tmp', dy_name)\n",
    "    cpy.makedir(dy)\n",
    "    pbt.set_tempdir(dy)\n",
    "    \n",
    "outdir = os.path.join(ciepy.root, 'output', dy_name)\n",
    "cpy.makedir(outdir)\n",
    "\n",
    "private_outdir = os.path.join(ciepy.root, 'private_output', dy_name)\n",
    "cpy.makedir(private_outdir)"
   ]
  },
  {
   "cell_type": "code",
   "execution_count": 2,
   "metadata": {
    "collapsed": true
   },
   "outputs": [],
   "source": [
    "gene_info = pd.read_table(cpy.gencode_gene_info, index_col=0)\n",
    "\n",
    "dy = os.path.join(ciepy.root, 'output/eqtl_processing/eqtls01')\n",
    "fn = os.path.join(dy, 'qvalues.tsv')\n",
    "qvalues = pd.read_table(fn, index_col=0)\n",
    "\n",
    "fn = '/projects/CARDIPS/analysis/cardips-ipsc-eqtl/output/eqtl_processing/no_peer_no_std_norm01/h2.tsv'\n",
    "h2 = pd.read_table(fn, index_col=0, header=None, squeeze=True)\n",
    "\n",
    "fn = os.path.join(ciepy.root, 'output', 'eqtl_input', \n",
    "                  'tpm_log_filtered_phe_std_norm_peer_resid.tsv')\n",
    "resid_exp = pd.read_table(fn, index_col=0)\n",
    "\n",
    "fn = os.path.join(ciepy.root, 'output', 'input_data', 'rsem_tpm.tsv')\n",
    "exp = pd.read_table(fn, index_col=0)"
   ]
  },
  {
   "cell_type": "code",
   "execution_count": 3,
   "metadata": {
    "collapsed": true
   },
   "outputs": [],
   "source": [
    "fn = os.path.join(ciepy.root, 'output', 'input_data', 'rnaseq_metadata.tsv')\n",
    "rna_meta = pd.read_table(fn, index_col=0)\n",
    "rna_meta = rna_meta[rna_meta.in_eqtl]"
   ]
  },
  {
   "cell_type": "code",
   "execution_count": 4,
   "metadata": {
    "collapsed": true
   },
   "outputs": [],
   "source": [
    "fn = os.path.join(ciepy.root, 'private_output', 'eqtl_input', \n",
    "                  'filtered_all', '0000.vcf.gz')\n",
    "vcf_reader = pyvcf.Reader(open(fn), compressed=True)\n",
    "res_fns = glob.glob(os.path.join(ciepy.root, 'private_output', 'run_eqtl_analysis', 'eqtls01', \n",
    "                                 'gene_results', '*', 'ENS*.tsv'))\n",
    "res_fns = pd.Series(res_fns,\n",
    "                    index=[os.path.splitext(os.path.split(x)[1])[0] for x in res_fns])\n",
    "\n",
    "qvalue_sig = qvalues[qvalues.perm_sig == 1]\n",
    "qvalue_sig = qvalue_sig.sort_values('perm_qvalue')"
   ]
  },
  {
   "cell_type": "code",
   "execution_count": 5,
   "metadata": {
    "collapsed": true
   },
   "outputs": [],
   "source": [
    "log_exp = np.log10(exp + 1)\n",
    "#log_exp = (log_exp.T - log_exp.mean(axis=1)).T\n",
    "log_exp = log_exp[rna_meta.index]\n",
    "log_exp.columns = rna_meta.wgs_id"
   ]
  },
  {
   "cell_type": "code",
   "execution_count": 6,
   "metadata": {
    "collapsed": false
   },
   "outputs": [],
   "source": [
    "# Markers of pluripotency from http://www.nature.com/nbt/journal/v33/n11/full/nbt.3387.html.\n",
    "pgenes = ['CXCL5', 'IDO1', 'LCK', 'TRIM22', 'DNMT3B', 'HESX1', 'SOX2', 'POU5F1', 'NANOG']\n",
    "genes = []\n",
    "for g in pgenes:\n",
    "    i = gene_info[gene_info.gene_name == g].index[0]\n",
    "    if i in qvalues[qvalues.perm_sig].index:\n",
    "        genes.append(i)"
   ]
  },
  {
   "cell_type": "code",
   "execution_count": 7,
   "metadata": {
    "collapsed": false
   },
   "outputs": [
    {
     "data": {
      "text/html": [
       "<div>\n",
       "<table border=\"1\" class=\"dataframe\">\n",
       "  <thead>\n",
       "    <tr style=\"text-align: right;\">\n",
       "      <th></th>\n",
       "      <th>gene_name</th>\n",
       "      <th>gene_type</th>\n",
       "      <th>chrom</th>\n",
       "      <th>start</th>\n",
       "      <th>end</th>\n",
       "      <th>strand</th>\n",
       "      <th>gene_status</th>\n",
       "      <th>source</th>\n",
       "      <th>level</th>\n",
       "      <th>r2</th>\n",
       "      <th>h2</th>\n",
       "    </tr>\n",
       "    <tr>\n",
       "      <th>gene_id</th>\n",
       "      <th></th>\n",
       "      <th></th>\n",
       "      <th></th>\n",
       "      <th></th>\n",
       "      <th></th>\n",
       "      <th></th>\n",
       "      <th></th>\n",
       "      <th></th>\n",
       "      <th></th>\n",
       "      <th></th>\n",
       "      <th></th>\n",
       "    </tr>\n",
       "  </thead>\n",
       "  <tbody>\n",
       "    <tr>\n",
       "      <th>ENSG00000163735.6</th>\n",
       "      <td>CXCL5</td>\n",
       "      <td>protein_coding</td>\n",
       "      <td>chr4</td>\n",
       "      <td>74861358</td>\n",
       "      <td>74864496</td>\n",
       "      <td>-</td>\n",
       "      <td>KNOWN</td>\n",
       "      <td>HAVANA</td>\n",
       "      <td>2</td>\n",
       "      <td>0.18400</td>\n",
       "      <td>0.799549</td>\n",
       "    </tr>\n",
       "    <tr>\n",
       "      <th>ENSG00000131203.8</th>\n",
       "      <td>IDO1</td>\n",
       "      <td>protein_coding</td>\n",
       "      <td>chr8</td>\n",
       "      <td>39759793</td>\n",
       "      <td>39785963</td>\n",
       "      <td>+</td>\n",
       "      <td>KNOWN</td>\n",
       "      <td>HAVANA</td>\n",
       "      <td>2</td>\n",
       "      <td>0.10650</td>\n",
       "      <td>0.715645</td>\n",
       "    </tr>\n",
       "    <tr>\n",
       "      <th>ENSG00000182866.12</th>\n",
       "      <td>LCK</td>\n",
       "      <td>protein_coding</td>\n",
       "      <td>chr1</td>\n",
       "      <td>32716839</td>\n",
       "      <td>32751766</td>\n",
       "      <td>+</td>\n",
       "      <td>KNOWN</td>\n",
       "      <td>HAVANA</td>\n",
       "      <td>2</td>\n",
       "      <td>0.05772</td>\n",
       "      <td>0.666568</td>\n",
       "    </tr>\n",
       "    <tr>\n",
       "      <th>ENSG00000204531.11</th>\n",
       "      <td>POU5F1</td>\n",
       "      <td>protein_coding</td>\n",
       "      <td>chr6</td>\n",
       "      <td>31132118</td>\n",
       "      <td>31148508</td>\n",
       "      <td>-</td>\n",
       "      <td>KNOWN</td>\n",
       "      <td>HAVANA</td>\n",
       "      <td>1</td>\n",
       "      <td>0.19070</td>\n",
       "      <td>0.799549</td>\n",
       "    </tr>\n",
       "  </tbody>\n",
       "</table>\n",
       "</div>"
      ],
      "text/plain": [
       "                   gene_name       gene_type chrom     start       end strand  \\\n",
       "gene_id                                                                         \n",
       "ENSG00000163735.6      CXCL5  protein_coding  chr4  74861358  74864496      -   \n",
       "ENSG00000131203.8       IDO1  protein_coding  chr8  39759793  39785963      +   \n",
       "ENSG00000182866.12       LCK  protein_coding  chr1  32716839  32751766      +   \n",
       "ENSG00000204531.11    POU5F1  protein_coding  chr6  31132118  31148508      -   \n",
       "\n",
       "                   gene_status  source  level       r2        h2  \n",
       "gene_id                                                           \n",
       "ENSG00000163735.6        KNOWN  HAVANA      2  0.18400  0.799549  \n",
       "ENSG00000131203.8        KNOWN  HAVANA      2  0.10650  0.715645  \n",
       "ENSG00000182866.12       KNOWN  HAVANA      2  0.05772  0.666568  \n",
       "ENSG00000204531.11       KNOWN  HAVANA      1  0.19070  0.799549  "
      ]
     },
     "execution_count": 7,
     "metadata": {},
     "output_type": "execute_result"
    }
   ],
   "source": [
    "pdf = gene_info.ix[genes]\n",
    "t_h2 = []\n",
    "t_r2 = []\n",
    "for g in pdf.index:\n",
    "    fn = os.path.join(ciepy.root, 'private_output/run_eqtl_analysis/no_peer_no_std_norm01/gene_results', \n",
    "                      g, '{}.tsv'.format(g))\n",
    "    res = ciepy.read_emmax_output(fn)\n",
    "    res = res.sort_values('PVALUE')\n",
    "    t_r2.append(res.R2.values[0])\n",
    "    fn = os.path.join(ciepy.root, 'private_output/run_eqtl_analysis/no_peer_no_std_norm01/gene_results', \n",
    "                      g, '{}.reml'.format(g))\n",
    "    t_h2.append(pd.read_table(fn, index_col=0, header=None, squeeze=True)['h2'])\n",
    "pdf['r2'] = t_r2\n",
    "pdf['h2'] = t_h2\n",
    "pdf"
   ]
  },
  {
   "cell_type": "code",
   "execution_count": 8,
   "metadata": {
    "collapsed": true
   },
   "outputs": [],
   "source": [
    "fn = os.path.join(ciepy.root, 'output', 'eqtl_input', \n",
    "                  'tpm_log_filtered.tsv')\n",
    "t = pd.read_table(fn, index_col=0)"
   ]
  },
  {
   "cell_type": "code",
   "execution_count": 9,
   "metadata": {
    "collapsed": true
   },
   "outputs": [],
   "source": [
    "def eqtl_violin(gene_id, exp, ax):\n",
    "    res = ciepy.read_emmax_output(res_fns[gene_id])\n",
    "    res = res.sort_values('PVALUE')\n",
    "    t =  vcf_reader.fetch(res.CHROM.values[0], \n",
    "                          res.BEG.values[0], \n",
    "                          res.BEG.values[0] + 1)\n",
    "    r = t.next()\n",
    "    tdf = pd.DataFrame(exp.ix[gene_id])\n",
    "    tdf.columns = ['Expression']\n",
    "    tdf['Genotype'] = 0\n",
    "    hets = set(exp.columns) & set([s.sample for s in r.get_hets()])\n",
    "    tdf.ix[hets, 'Genotype'] = 1\n",
    "    alts = set(exp.columns) & set([s.sample for s in r.get_hom_alts()])\n",
    "    tdf.ix[alts, 'Genotype'] = 2\n",
    "    ax = sns.violinplot(x='Genotype', y='Expression', data=tdf, color='grey',\n",
    "                        order=[0, 1, 2], scale='count', linewidth=0.5)\n",
    "    ax.set_ylabel('$\\\\log_{10}$ TPM', fontsize=8)\n",
    "    for t in ax.get_xticklabels() + ax.get_yticklabels():\n",
    "        t.set_fontsize(8)\n",
    "    sns.regplot(x='Genotype', y='Expression', data=tdf, scatter=False, color='red', \n",
    "                ci=None, line_kws={'linewidth':0.8})\n",
    "    ax.set_ylabel('$\\\\log_{10}$ TPM', fontsize=8)\n",
    "    ya, yb = plt.ylim()\n",
    "    ax.set_xlabel('')\n",
    "    ax.set_xticklabels(['Homo.\\nref.', 'Het.', 'Homo.\\nalt.'], fontsize=8)\n",
    "    return tdf"
   ]
  },
  {
   "cell_type": "code",
   "execution_count": 10,
   "metadata": {
    "collapsed": true
   },
   "outputs": [],
   "source": [
    "sns.set_style('whitegrid')"
   ]
  },
  {
   "cell_type": "code",
   "execution_count": 11,
   "metadata": {
    "collapsed": false
   },
   "outputs": [
    {
     "name": "stderr",
     "output_type": "stream",
     "text": [
      "/frazer01/home/cdeboever/software/anaconda/envs/cie/lib/python2.7/site-packages/matplotlib/gridspec.py:302: UserWarning: This figure includes Axes that are not compatible with tight_layout, so its results might be incorrect.\n",
      "  warnings.warn(\"This figure includes Axes that are not \"\n"
     ]
    },
    {
     "ename": "AttributeError",
     "evalue": "'list' object has no attribute 'hist'",
     "output_type": "error",
     "traceback": [
      "\u001b[1;31m---------------------------------------------------------------------------\u001b[0m",
      "\u001b[1;31mAttributeError\u001b[0m                            Traceback (most recent call last)",
      "\u001b[1;32m<ipython-input-11-18b864db0e8e>\u001b[0m in \u001b[0;36m<module>\u001b[1;34m()\u001b[0m\n\u001b[0;32m     49\u001b[0m \u001b[0mgs\u001b[0m \u001b[1;33m=\u001b[0m \u001b[0mgridspec\u001b[0m\u001b[1;33m.\u001b[0m\u001b[0mGridSpec\u001b[0m\u001b[1;33m(\u001b[0m\u001b[1;36m1\u001b[0m\u001b[1;33m,\u001b[0m \u001b[1;36m1\u001b[0m\u001b[1;33m)\u001b[0m\u001b[1;33m\u001b[0m\u001b[0m\n\u001b[0;32m     50\u001b[0m \u001b[0max\u001b[0m \u001b[1;33m=\u001b[0m \u001b[0mfig\u001b[0m\u001b[1;33m.\u001b[0m\u001b[0madd_subplot\u001b[0m\u001b[1;33m(\u001b[0m\u001b[0mgs\u001b[0m\u001b[1;33m[\u001b[0m\u001b[1;36m0\u001b[0m\u001b[1;33m,\u001b[0m \u001b[1;36m0\u001b[0m\u001b[1;33m]\u001b[0m\u001b[1;33m)\u001b[0m\u001b[1;33m\u001b[0m\u001b[0m\n\u001b[1;32m---> 51\u001b[1;33m \u001b[0mh2\u001b[0m\u001b[1;33m.\u001b[0m\u001b[0mhist\u001b[0m\u001b[1;33m(\u001b[0m\u001b[0mbins\u001b[0m\u001b[1;33m=\u001b[0m\u001b[0mnp\u001b[0m\u001b[1;33m.\u001b[0m\u001b[0marange\u001b[0m\u001b[1;33m(\u001b[0m\u001b[1;36m0\u001b[0m\u001b[1;33m,\u001b[0m \u001b[1;36m1.01\u001b[0m\u001b[1;33m,\u001b[0m \u001b[1;36m0.01\u001b[0m\u001b[1;33m)\u001b[0m\u001b[1;33m,\u001b[0m \u001b[0max\u001b[0m\u001b[1;33m=\u001b[0m\u001b[0max\u001b[0m\u001b[1;33m)\u001b[0m\u001b[1;33m\u001b[0m\u001b[0m\n\u001b[0m\u001b[0;32m     52\u001b[0m \u001b[1;32mfor\u001b[0m \u001b[0mt\u001b[0m \u001b[1;32min\u001b[0m \u001b[0max\u001b[0m\u001b[1;33m.\u001b[0m\u001b[0mget_xticklabels\u001b[0m\u001b[1;33m(\u001b[0m\u001b[1;33m)\u001b[0m \u001b[1;33m+\u001b[0m \u001b[0max\u001b[0m\u001b[1;33m.\u001b[0m\u001b[0mget_yticklabels\u001b[0m\u001b[1;33m(\u001b[0m\u001b[1;33m)\u001b[0m\u001b[1;33m:\u001b[0m\u001b[1;33m\u001b[0m\u001b[0m\n\u001b[0;32m     53\u001b[0m     \u001b[0mt\u001b[0m\u001b[1;33m.\u001b[0m\u001b[0mset_fontsize\u001b[0m\u001b[1;33m(\u001b[0m\u001b[1;36m8\u001b[0m\u001b[1;33m)\u001b[0m\u001b[1;33m\u001b[0m\u001b[0m\n",
      "\u001b[1;31mAttributeError\u001b[0m: 'list' object has no attribute 'hist'"
     ]
    },
    {
     "data": {
      "image/png": "[encoded data removed]",
      "text/plain": [
       "<matplotlib.figure.Figure at 0x7fd10b3bea10>"
      ]
     },
     "metadata": {},
     "output_type": "display_data"
    }
   ],
   "source": [
    "fig = plt.figure(figsize=(4.48, 6.1), dpi=300)\n",
    "\n",
    "gs = gridspec.GridSpec(1, 1)\n",
    "ax = fig.add_subplot(gs[0, 0])\n",
    "ax.text(0, 1, 'Figure S3',\n",
    "        size=16, va='top')\n",
    "ciepy.clean_axis(ax)\n",
    "ax.set_xticks([])\n",
    "ax.set_yticks([])\n",
    "gs.tight_layout(fig, rect=[0, 0.9, 0.5, 1])\n",
    "\n",
    "gs = gridspec.GridSpec(1, 1)\n",
    "ax = fig.add_subplot(gs[0, 0])\n",
    "i = 0\n",
    "t = eqtl_violin(pdf.index[i], log_exp, ax)\n",
    "textstr = '{}; $R^2={:.2f}$; $h^2={:.2f}$'.format(\n",
    "    gene_info.ix[pdf.index[i], 'gene_name'], pdf.ix[i, 'r2'], pdf.ix[i, 'h2'])\n",
    "ax.set_title(textstr, fontsize=8)\n",
    "gs.tight_layout(fig, rect=[0, 0.58, 0.5, 0.9])\n",
    "\n",
    "gs = gridspec.GridSpec(1, 1)\n",
    "ax = fig.add_subplot(gs[0, 0])\n",
    "i = 1\n",
    "t = eqtl_violin(pdf.index[i], log_exp, ax)\n",
    "textstr = '{}; $R^2={:.2f}$; $h^2={:.2f}$'.format(\n",
    "    gene_info.ix[pdf.index[i], 'gene_name'], pdf.ix[i, 'r2'], pdf.ix[i, 'h2'])\n",
    "ax.set_title(textstr, fontsize=8)\n",
    "gs.tight_layout(fig, rect=[0.5, 0.58, 1, 0.9])\n",
    "\n",
    "gs = gridspec.GridSpec(1, 1)\n",
    "ax = fig.add_subplot(gs[0, 0])\n",
    "i = 2\n",
    "t = eqtl_violin(pdf.index[i], log_exp, ax)\n",
    "textstr = '{}; $R^2={:.2f}$; $h^2={:.2f}$'.format(\n",
    "    gene_info.ix[pdf.index[i], 'gene_name'], pdf.ix[i, 'r2'], pdf.ix[i, 'h2'])\n",
    "ax.set_title(textstr, fontsize=8)\n",
    "gs.tight_layout(fig, rect=[0, 0.3, 0.5, 0.62])\n",
    "\n",
    "gs = gridspec.GridSpec(1, 1)\n",
    "ax = fig.add_subplot(gs[0, 0])\n",
    "i = 3\n",
    "t = eqtl_violin(pdf.index[i], log_exp, ax)\n",
    "ax.set_title(gene_info.ix[pdf.index[i], 'gene_name'], fontsize=8)\n",
    "textstr = '{}; $R^2={:.2f}$; $h^2={:.2f}$'.format(\n",
    "    gene_info.ix[pdf.index[i], 'gene_name'], pdf.ix[i, 'r2'], pdf.ix[i, 'h2'])\n",
    "ax.set_title(textstr, fontsize=8)\n",
    "gs.tight_layout(fig, rect=[0.5, 0.3, 1, 0.62])\n",
    "\n",
    "gs = gridspec.GridSpec(1, 1)\n",
    "ax = fig.add_subplot(gs[0, 0])\n",
    "h2.hist(bins=np.arange(0, 1.01, 0.01), ax=ax)\n",
    "for t in ax.get_xticklabels() + ax.get_yticklabels():\n",
    "    t.set_fontsize(8)\n",
    "ax.set_ylabel('Numbe of genes', fontsize=8)\n",
    "ax.set_xlabel('$h^2$ estimated by EMMAX', fontsize=8)\n",
    "gs.tight_layout(fig, rect=[0, 0, 1, 0.33])\n",
    "\n",
    "t = fig.text(0.005, 0.865, 'A', weight='bold', \n",
    "             size=12)\n",
    "t = fig.text(0.5, 0.865, 'B', weight='bold', \n",
    "             size=12)\n",
    "t = fig.text(0.005, 0.585, 'C', weight='bold', \n",
    "             size=12)\n",
    "t = fig.text(0.5, 0.585, 'D', weight='bold', \n",
    "             size=12)\n",
    "t = fig.text(0.005, 0.31, 'E', weight='bold', \n",
    "             size=12)"
   ]
  },
  {
   "cell_type": "code",
   "execution_count": 12,
   "metadata": {
    "collapsed": false
   },
   "outputs": [
    {
     "ename": "AttributeError",
     "evalue": "'list' object has no attribute 'hist'",
     "output_type": "error",
     "traceback": [
      "\u001b[1;31m---------------------------------------------------------------------------\u001b[0m",
      "\u001b[1;31mAttributeError\u001b[0m                            Traceback (most recent call last)",
      "\u001b[1;32m<ipython-input-12-791a6d2e8701>\u001b[0m in \u001b[0;36m<module>\u001b[1;34m()\u001b[0m\n\u001b[1;32m----> 1\u001b[1;33m \u001b[0mh2\u001b[0m\u001b[1;33m.\u001b[0m\u001b[0mhist\u001b[0m\u001b[1;33m(\u001b[0m\u001b[1;33m)\u001b[0m\u001b[1;33m\u001b[0m\u001b[0m\n\u001b[0m",
      "\u001b[1;31mAttributeError\u001b[0m: 'list' object has no attribute 'hist'"
     ]
    }
   ],
   "source": [
    "h2.hist()"
   ]
  },
  {
   "cell_type": "code",
   "execution_count": null,
   "metadata": {
    "collapsed": true
   },
   "outputs": [],
   "source": []
  }
 ],
 "metadata": {
  "kernelspec": {
   "display_name": "Environment (cie)",
   "language": "",
   "name": "cie"
  },
  "language_info": {
   "codemirror_mode": {
    "name": "ipython",
    "version": 2
   },
   "file_extension": ".py",
   "mimetype": "text/x-python",
   "name": "python",
   "nbconvert_exporter": "python",
   "pygments_lexer": "ipython2",
   "version": "2.7.11"
  }
 },
 "nbformat": 4,
 "nbformat_minor": 0
}
