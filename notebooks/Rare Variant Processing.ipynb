{
 "cells": [
  {
   "cell_type": "markdown",
   "metadata": {},
   "source": [
    "# Rare Variant Processing\n",
    "\n",
    "In this notebook, I'm going to identify rare variants and annotate them."
   ]
  },
  {
   "cell_type": "code",
   "execution_count": 1,
   "metadata": {
    "collapsed": false
   },
   "outputs": [],
   "source": [
    "import copy\n",
    "import cPickle\n",
    "import datetime as dt\n",
    "import glob\n",
    "import os\n",
    "import re\n",
    "import subprocess\n",
    "import urllib2\n",
    "\n",
    "import cdpybio as cpb\n",
    "from ipyparallel import Client\n",
    "from scipy.stats import fisher_exact\n",
    "import matplotlib.gridspec as gridspec\n",
    "from matplotlib.patches import Rectangle\n",
    "import matplotlib.pyplot as plt\n",
    "import numpy as np\n",
    "import pandas as pd\n",
    "import pyencodetools as pet\n",
    "import pybedtools as pbt\n",
    "import pyBigWig\n",
    "import scipy\n",
    "import scipy.stats as stats\n",
    "import seaborn as sns\n",
    "import socket\n",
    "import statsmodels.stats.multitest as smm\n",
    "import vcf as pyvcf\n",
    "\n",
    "import cardipspy as cpy\n",
    "import ciepy\n",
    "\n",
    "%matplotlib inline\n",
    "%load_ext rpy2.ipython\n",
    "\n",
    "dy_name = 'rare_variant_processing'\n",
    "\n",
    "import socket\n",
    "if socket.gethostname() == 'fl-hn1' or socket.gethostname() == 'fl-hn2':\n",
    "    dy = os.path.join(ciepy.root, 'sandbox', dy_name)\n",
    "    cpy.makedir(dy)\n",
    "    pbt.set_tempdir(dy)\n",
    "    \n",
    "outdir = os.path.join(ciepy.root, 'output', dy_name)\n",
    "cpy.makedir(outdir)\n",
    "\n",
    "private_outdir = os.path.join(ciepy.root, 'private_output', dy_name)\n",
    "cpy.makedir(private_outdir)"
   ]
  },
  {
   "cell_type": "code",
   "execution_count": 2,
   "metadata": {
    "collapsed": true
   },
   "outputs": [],
   "source": [
    "sns.set_style('whitegrid')"
   ]
  },
  {
   "cell_type": "code",
   "execution_count": 3,
   "metadata": {
    "collapsed": false
   },
   "outputs": [],
   "source": [
    "tg = pd.read_table(cpy.gencode_transcript_gene, index_col=0, \n",
    "                   header=None, squeeze=True)\n",
    "gene_info = pd.read_table(cpy.gencode_gene_info, index_col=0)\n",
    "genes = pbt.BedTool(cpy.gencode_gene_bed)\n",
    "fn = os.path.join(ciepy.root, 'output', 'input_data', 'rsem_tpm.tsv')\n",
    "tpm = pd.read_table(fn, index_col=0)\n",
    "\n",
    "cnvs = pd.read_table(os.path.join(ciepy.root, 'output', 'input_data',\n",
    "                                  'cnvs.tsv'), index_col=0)\n",
    "fn = os.path.join(ciepy.root, 'output', 'input_data', 'wgs_metadata.tsv')\n",
    "wgs_meta = pd.read_table(fn, index_col=0, squeeze=True)\n",
    "fn = os.path.join(ciepy.root, 'output', 'input_data', 'rnaseq_metadata.tsv')\n",
    "rna_meta = pd.read_table(fn, index_col=0)\n",
    "rna_meta_eqtl = rna_meta[rna_meta.in_eqtl]\n",
    "fn = os.path.join(ciepy.root, 'output', 'input_data', 'subject_metadata.tsv')\n",
    "subject_meta = pd.read_table(fn, index_col=0)\n",
    "\n",
    "rna_meta = rna_meta.merge(subject_meta, left_on='subject_id', right_index=True)\n",
    "\n",
    "fn = os.path.join(os.path.split(cpy.roadmap_15_state_annotation)[0], 'EIDlegend.txt')\n",
    "roadmap_ids = pd.read_table(fn, squeeze=True, index_col=0, header=None)\n",
    "\n",
    "phylop = pyBigWig.open('/publicdata/phyloP100way_20160224/hg19.100way.phyloP100way.bw')\n",
    "\n",
    "fn = '/projects/CARDIPS/pipeline/WGS/annotateVCF/CARDIPS_201512.PASS.hg19.CADD.vcf.gz'\n",
    "cadd = pd.read_table(fn, skiprows=1)\n",
    "cadd.columns = [x.replace('#', '') for x in cadd.columns]\n",
    "cadd.CHROM = 'chr' + cadd.CHROM.astype(str)\n",
    "cadd.index = cadd.CHROM + ':' + cadd.POS.astype(str) + ':' + cadd.REF + ':' + cadd.ALT"
   ]
  },
  {
   "cell_type": "code",
   "execution_count": 4,
   "metadata": {
    "collapsed": true
   },
   "outputs": [],
   "source": [
    "fn = os.path.join(ciepy.root, 'output', 'input_data', \n",
    "                  'mbased_major_allele_freq.tsv')\n",
    "maj_af = pd.read_table(fn, index_col=0)\n",
    "\n",
    "fn = os.path.join(ciepy.root, 'output', 'input_data', \n",
    "                  'mbased_p_val_ase.tsv')\n",
    "ase_pval = pd.read_table(fn, index_col=0)\n",
    "\n",
    "locus_p = pd.Panel({'major_allele_freq':maj_af, 'p_val_ase':ase_pval})\n",
    "locus_p = locus_p.swapaxes(0, 2)"
   ]
  },
  {
   "cell_type": "code",
   "execution_count": 5,
   "metadata": {
    "collapsed": true
   },
   "outputs": [],
   "source": [
    "log_tpm = np.log10(tpm + 1)"
   ]
  },
  {
   "cell_type": "markdown",
   "metadata": {},
   "source": [
    "## SNVs and indels\n",
    "\n",
    "Get SNVs and indels in promoters."
   ]
  },
  {
   "cell_type": "code",
   "execution_count": 6,
   "metadata": {
    "collapsed": false
   },
   "outputs": [],
   "source": [
    "promoter_bt = pbt.BedTool('/publicdata/gencode_v19_20151104/promoters_merged.bed')\n",
    "df = promoter_bt.to_dataframe()\n",
    "s = '\\n'.join(df.chrom.apply(lambda x: x[3:]) + '\\t' + \n",
    "              df.start.astype(str) + '\\t' + df.end.astype(str)) + '\\n'\n",
    "promoter_bt = pbt.BedTool(s, from_string=True)"
   ]
  },
  {
   "cell_type": "code",
   "execution_count": 7,
   "metadata": {
    "collapsed": false
   },
   "outputs": [],
   "source": [
    "vcfs = ['CARDIPS_chr{}_phased.vcf.gz'.format(x) for x in range(1, 23)]\n",
    "vcfs = [os.path.join('/projects/CARDIPS/pipeline/WGS/mergedVCF/phased_20151214/', x) for x in vcfs]\n",
    "for vcf in vcfs:\n",
    "    out = os.path.split(vcf)[1].split('.')[0] + '_promoter_variants.vcf.gz'\n",
    "    out = os.path.join(private_outdir, out)\n",
    "    if not os.path.exists(out):\n",
    "        c = 'bcftools view -Oz -R {} {} > {}'.format(promoter_bt.fn, vcf, out)\n",
    "        subprocess.check_call(c, shell=True)\n",
    "        c = 'bcftools index {}'.format(out)\n",
    "        subprocess.check_call(c, shell=True)"
   ]
  },
  {
   "cell_type": "markdown",
   "metadata": {},
   "source": [
    "Make merged bed file for roadmap DHSs for stem cell."
   ]
  },
  {
   "cell_type": "code",
   "execution_count": 335,
   "metadata": {
    "collapsed": false
   },
   "outputs": [],
   "source": [
    "    url = ('http://egg2.wustl.edu/roadmap/data/byFileType'\n",
    "           '/peaks/consolidated/narrowPeak/')\n",
    "    website = urllib2.urlopen(url)\n",
    "    html = website.read()\n",
    "    files = re.findall('href=\"(E\\d\\d\\d-DNase.macs2.narrowPeak.gz)\"', html)\n",
    "    roadmap_dnase_res = pd.DataFrame(\n",
    "        -1, index=[x.split('-')[0] for x in files], \n",
    "        columns=['odds_ratio', 'pvalue'])\n",
    "\n",
    "    urls = ['http://egg2.wustl.edu/roadmap/data/byFileType/peaks/consolidated/narrowPeak/{}'.format(n)\n",
    "            for n in files]\n",
    "    lines = ['iPS-15b Cell Line', 'iPS-18 Cell Line', 'iPS-20b Cell Line',\n",
    "             'iPS DF 6.9 Cell Line', 'iPS DF 19.11 Cell Line', 'H1 Cell Line',\n",
    "             'H9 Cell Line']\n",
    "    urls = [x for x in urls if roadmap_ids[os.path.split(x.split('-')[0])[1]] in lines]"
   ]
  },
  {
   "cell_type": "code",
   "execution_count": 8,
   "metadata": {
    "collapsed": true
   },
   "outputs": [],
   "source": [
    "out = os.path.join(outdir, 'roadmap_stem_cell_dhs.bed')\n",
    "if not os.path.exists(out):\n",
    "    url = ('http://egg2.wustl.edu/roadmap/data/byFileType'\n",
    "           '/peaks/consolidated/narrowPeak/')\n",
    "    website = urllib2.urlopen(url)\n",
    "    html = website.read()\n",
    "    files = re.findall('href=\"(E\\d\\d\\d-DNase.macs2.narrowPeak.gz)\"', html)\n",
    "    roadmap_dnase_res = pd.DataFrame(\n",
    "        -1, index=[x.split('-')[0] for x in files], \n",
    "        columns=['odds_ratio', 'pvalue'])\n",
    "\n",
    "    urls = ['http://egg2.wustl.edu/roadmap/data/byFileType/peaks/consolidated/narrowPeak/{}'.format(n)\n",
    "            for n in files]\n",
    "    lines = ['iPS-15b Cell Line', 'iPS-18 Cell Line', 'iPS-20b Cell Line',\n",
    "             'iPS DF 6.9 Cell Line', 'iPS DF 19.11 Cell Line', 'H1 Cell Line',\n",
    "             'H9 Cell Line']\n",
    "    urls = [x for x in urls if roadmap_ids[os.path.split(x.split('-')[0])[1]] in lines]\n",
    "\n",
    "    dhs_bt = pbt.BedTool(''.join([cpb.general.read_gzipped_text_url(url) for url in urls]), from_string=True)\n",
    "    dhs_bt = dhs_bt.sort().merge()\n",
    "    df = dhs_bt.to_dataframe()\n",
    "    df.chrom = df.chrom.apply(lambda x: x[3:])\n",
    "    s = '\\n'.join(df.chrom + '\\t' + df.start.astype(str) + \n",
    "                  '\\t' + df.end.astype(str)) + '\\n'\n",
    "    dhs_bt = pbt.BedTool(s, from_string=True)\n",
    "    dhs_bt.saveas(out)\n",
    "else:\n",
    "    dhs_bt = pbt.BedTool(out)"
   ]
  },
  {
   "cell_type": "markdown",
   "metadata": {},
   "source": [
    "Get variants that overlap merged DHSs."
   ]
  },
  {
   "cell_type": "code",
   "execution_count": 9,
   "metadata": {
    "collapsed": false
   },
   "outputs": [],
   "source": [
    "vcfs = [os.path.join(private_outdir, 'CARDIPS_chr{}_phased_promoter_variants.vcf.gz'.format(x)) \n",
    "        for x in range(1, 23)]\n",
    "for vcf in vcfs:\n",
    "    out = os.path.split(vcf)[1].split('.')[0] + '_dhs.vcf.gz'\n",
    "    out = os.path.join(private_outdir, out)\n",
    "    if not os.path.exists(out):\n",
    "        temp = os.path.join(private_outdir, 'temp.vcf')\n",
    "        c = 'bcftools view -m2 -M2 -Ov -R {} {} > {}'.format(dhs_bt.fn, vcf, temp)\n",
    "        subprocess.check_call(c, shell=True)\n",
    "        temp_header = os.path.join(private_outdir, 'temp_header.vcf')\n",
    "        c = 'grep ^\\\\# {} > {}'.format(temp, temp_header)\n",
    "        subprocess.check_call(c, shell=True)\n",
    "        temp_lines = os.path.join(private_outdir, 'temp_lines.vcf')\n",
    "        c = 'grep -v ^\\\\# {} | sort -k1,1 -k2,2n | uniq > {}'.format(temp, temp_lines)\n",
    "        subprocess.check_call(c, shell=True)\n",
    "        c = 'cat {} {} | bgzip > {}'.format(temp_header, temp_lines, out)\n",
    "        subprocess.check_call(c, shell=True)\n",
    "        c = 'bcftools index {}'.format(out)\n",
    "        subprocess.check_call(c, shell=True)\n",
    "        c = 'rm {} {} {}'.format(temp, temp_header, temp_lines)\n",
    "        subprocess.check_call(c, shell=True)"
   ]
  },
  {
   "cell_type": "markdown",
   "metadata": {},
   "source": [
    "Annotate variants with 1,000 genomes allele frequencies."
   ]
  },
  {
   "cell_type": "code",
   "execution_count": 10,
   "metadata": {
    "collapsed": true
   },
   "outputs": [],
   "source": [
    "fn = os.path.join(ciepy.root, 'output', 'eqtl_input', 'unrelateds.tsv')\n",
    "unr_rna_meta = pd.read_table(fn, index_col=0)\n",
    "unrelateds = list(unr_rna_meta.wgs_id)"
   ]
  },
  {
   "cell_type": "code",
   "execution_count": 11,
   "metadata": {
    "collapsed": false
   },
   "outputs": [
    {
     "data": {
      "text/plain": [
       "European                         94\n",
       "Asian                            18\n",
       "Multiple ethnicities reported     6\n",
       "Hispanic                          6\n",
       "African American                  3\n",
       "Indian                            3\n",
       "Middle Eastern                    1\n",
       "Name: ethnicity_group, dtype: int64"
      ]
     },
     "execution_count": 11,
     "metadata": {},
     "output_type": "execute_result"
    }
   ],
   "source": [
    "subject_meta.ix[unr_rna_meta.subject_id, 'ethnicity_group'].value_counts()"
   ]
  },
  {
   "cell_type": "code",
   "execution_count": 12,
   "metadata": {
    "collapsed": true
   },
   "outputs": [],
   "source": [
    "promoters = pbt.BedTool('/publicdata/gencode_v19_20151104/promoters_by_gene.bed')\n",
    "promoters_t = pbt.BedTool('/publicdata/gencode_v19_20151104/promoters.bed')"
   ]
  },
  {
   "cell_type": "code",
   "execution_count": null,
   "metadata": {
    "collapsed": true
   },
   "outputs": [],
   "source": [
    "out_fn = os.path.join(private_outdir, 'promoter_dhs_variants.pickle')\n",
    "if not os.path.exists(out_fn):\n",
    "    vcfs = [os.path.join(private_outdir, 'CARDIPS_chr{}_phased_promoter_variants_dhs.vcf.gz'.format(x)) \n",
    "            for x in range(1, 23)]\n",
    "    ind = []\n",
    "    variants = []\n",
    "    genotypes = []\n",
    "\n",
    "    for vcf in vcfs:\n",
    "        vcf_reader = pyvcf.Reader(open(vcf))\n",
    "        for r in vcf_reader:\n",
    "            s = [x.sample for x in r.samples if x.called]\n",
    "            gt = [x.gt_alleles for x in r.samples if x.called]\n",
    "            gt = pd.DataFrame(gt, index=s, columns=['allele_a', 'allele_b'])\n",
    "            gt = gt.ix[unrelateds].dropna()\n",
    "            unr_num_called = gt.shape[0]\n",
    "\n",
    "            se = pd.Series(0, index=['0', '1'])\n",
    "            vc = gt.allele_a.value_counts()\n",
    "            se.ix[vc.index] += vc\n",
    "            vc = gt.allele_b.value_counts()\n",
    "            se.ix[vc.index] += vc\n",
    "            uac = se.min()\n",
    "            pos = 'chr{}:{}-{}'.format(r.CHROM, r.POS - 1, r.POS - 1 + len(r.REF))\n",
    "            ind.append(pos)\n",
    "            variants.append(['chr{}'.format(r.CHROM), r.POS - 1, r.POS - 1 + len(r.REF), \n",
    "                              r.ID, pos, r.REF, str(r.ALT[0]), uac, unr_num_called])\n",
    "            se = pd.concat([pd.Series(0, index=[x.sample for x in r.get_hom_refs()]),\n",
    "                            pd.Series(1, index=[x.sample for x in r.get_hets()]),\n",
    "                            pd.Series(2, index=[x.sample for x in r.get_hom_alts()])])\n",
    "            genotypes.append(se)\n",
    "\n",
    "    cols = ['chrom', 'start', 'end', 'variant_id', 'position', 'ref', 'alt', 'unr_mac', 'unr_called']\n",
    "    variants = pd.DataFrame(variants, index=ind, columns=cols)\n",
    "    genotypes = pd.DataFrame(genotypes, index=ind)\n",
    "\n",
    "    afs = ['AF', 'EUR_AF', 'SAS_AF', 'AFR_AF', 'AMR_AF', 'EAS_AF', 'VT']\n",
    "    for c in afs:\n",
    "        variants[c] = 0\n",
    "\n",
    "    for chrom in set(variants.chrom):\n",
    "        tdf = variants[variants.chrom == chrom]\n",
    "        kgp_vcf_reader = pyvcf.Reader(open(\n",
    "                '/publicdata/1KGP_20151103/ALL.{}.phase3_shapeit2_mvncall_integrated_v5a'\n",
    "                '.20130502.genotypes.vcf.gz'.format(chrom)))\n",
    "        for i in tdf.index:\n",
    "            res = kgp_vcf_reader.fetch(chrom[3:], tdf.ix[i, 'start'] + 1, tdf.ix[i, 'start'] + 1)\n",
    "            try:\n",
    "                kgp = res.next()\n",
    "                for c in afs:\n",
    "                    variants.ix[i, c] = kgp.INFO[c][0]\n",
    "            except StopIteration:\n",
    "                continue\n",
    "                \n",
    "    # Annotate rare variants with their associated genes, transcripts, and promoters.\n",
    "    s = '\\n'.join(variants.chrom + '\\t' + variants.start.astype(str) + '\\t' + \n",
    "                  variants.end.astype(str) + '\\t' + variants.position) + '\\n'\n",
    "    bt = pbt.BedTool(s, from_string=True).sort()\n",
    "\n",
    "    # Annotate with genes.\n",
    "    res = bt.intersect(promoters, sorted=True, wo=True)\n",
    "    df = res.to_dataframe()\n",
    "    df['gene'] = df.thickEnd.apply(lambda x: x.split('_')[0])\n",
    "    gb = df[['name', 'gene']].groupby('name')\n",
    "    se = pd.Series(dict(list(gb['gene'])))\n",
    "    variants['genes'] = se.apply(lambda x: set(x))\n",
    "\n",
    "    # Annotate with transcripts.\n",
    "    res = bt.intersect(promoters_t, sorted=True, wo=True)\n",
    "    df = res.to_dataframe()\n",
    "    df['transcript'] = df.thickEnd.apply(lambda x: x.split('_')[0])\n",
    "    gb = df[['name', 'transcript']].groupby('name')\n",
    "    se = pd.Series(dict(list(gb['transcript'])))\n",
    "    variants['transcripts'] = se.apply(lambda x: set(x))\n",
    "\n",
    "    # Annotate with promoters.\n",
    "    df['promoter'] = df.score + ':' + df.strand.astype(str) + '-' + df.thickStart.astype(str)\n",
    "    gb = df[['name', 'promoter']].groupby('name')\n",
    "    se = pd.Series(dict(list(gb['promoter'])))\n",
    "    variants['promoters'] = se.apply(lambda x: set(x))\n",
    "\n",
    "    # Drop any variants that don't have an annotated gene or transcript. This shouldn't \n",
    "    # happen but does for a handful for some reason.\n",
    "    variants = variants[variants.genes.isnull() == False]\n",
    "    variants = variants[variants.transcripts.isnull() == False]\n",
    "\n",
    "    # Label indels.\n",
    "    variants['indel'] = False\n",
    "    variants.ix[(variants.end - variants.start != 1), 'indel'] = True\n",
    "    \n",
    "    # Get phyloP scores.\n",
    "    max_cons = []\n",
    "    min_cons = []\n",
    "    mean_cons = []\n",
    "    for i in variants.index:\n",
    "        res = phylop.intervals(variants.ix[i, 'chrom'], variants.ix[i, 'start'], variants.ix[i, 'end'])\n",
    "        if res is None:\n",
    "            max_cons.append(np.nan)\n",
    "            min_cons.append(np.nan)\n",
    "            mean_cons.append(np.nan)\n",
    "        else:\n",
    "            max_cons.append(max([x[2] for x in res]))\n",
    "            min_cons.append(min([x[2] for x in res]))\n",
    "            mean_cons.append(np.mean([x[2] for x in res]))\n",
    "    variants['max_phyloP100way'] = max_cons\n",
    "    variants['min_phyloP100way'] = min_cons\n",
    "    variants['mean_phyloP100way'] = mean_cons\n",
    "    \n",
    "    # CADD scores\n",
    "    ind = variants.chrom + ':' + (variants.start + 1).astype(str) + ':' + variants.ref + ':' + variants.alt\n",
    "    variants['cadd_rawscore'] = cadd.ix[ind, 'RawScore'].values\n",
    "    variants['cadd_phred'] = cadd.ix[ind, 'PHRED'].values\n",
    "    \n",
    "    # Save object as pickle and genotypes.\n",
    "    cPickle.dump(variants, open(out_fn, 'w'))\n",
    "    \n",
    "    fn = os.path.join(private_outdir, 'promoter_dhs_genotypes.tsv')\n",
    "    genotypes.to_csv(fn, sep='\\t')"
   ]
  },
  {
   "cell_type": "code",
   "execution_count": 333,
   "metadata": {
    "collapsed": true
   },
   "outputs": [],
   "source": [
    "out_fn = os.path.join(private_outdir, 'promoter_dhs_variants.pickle')\n",
    "# Save object as pickle and genotypes.\n",
    "cPickle.dump(variants, open(out_fn, 'w'))"
   ]
  },
  {
   "cell_type": "code",
   "execution_count": 23,
   "metadata": {
    "collapsed": false
   },
   "outputs": [
    {
     "data": {
      "image/png": "[encoded data removed]",
      "text/plain": [
       "<matplotlib.figure.Figure at 0x7f89d5703a10>"
      ]
     },
     "metadata": {},
     "output_type": "display_data"
    }
   ],
   "source": [
    "variants.AF.hist()\n",
    "plt.ylabel('Number of variants')\n",
    "plt.xlabel('Minor allele frequency');"
   ]
  },
  {
   "cell_type": "code",
   "execution_count": null,
   "metadata": {
    "collapsed": true
   },
   "outputs": [],
   "source": [
    "3 + "
   ]
  },
  {
   "cell_type": "markdown",
   "metadata": {},
   "source": [
    "### Transcription factor disruption\n",
    "\n",
    "I want to annotate the rare variants with whether they disrupt\n",
    "TF binding sites."
   ]
  },
  {
   "cell_type": "code",
   "execution_count": 29,
   "metadata": {
    "collapsed": true
   },
   "outputs": [],
   "source": [
    "encode_tf_chip_seq = pd.read_table(os.path.join(ciepy.root, 'output', \n",
    "                                                'functional_annotation_analysis', \n",
    "                                                'encode_stem_cell_chip_seq.tsv'), index_col=0)\n",
    "encode_tf_chip_seq = encode_tf_chip_seq.drop_duplicates(subset='target')\n",
    "fn = os.path.join(ciepy.root, 'output', 'motif_search', 'motif_info_full.tsv')\n",
    "motif_info = pd.read_table(fn, index_col=0)\n",
    "fn = os.path.join(ciepy.root, 'output', 'motif_search', 'motif_info_rep.tsv')\n",
    "motif_info_rep = pd.read_table(fn, index_col=0)\n",
    "fn = os.path.join(ciepy.root, 'output', 'motif_search', 'matrices.pickle')\n",
    "with open(fn) as f:\n",
    "    matrices = cPickle.load(f)\n",
    "encode_tf_chip_seq = encode_tf_chip_seq[encode_tf_chip_seq.target.apply(lambda x: x in set(motif_info_rep.tf))]"
   ]
  },
  {
   "cell_type": "code",
   "execution_count": 31,
   "metadata": {
    "collapsed": false
   },
   "outputs": [],
   "source": [
    "out = os.path.join(private_outdir, 'tf_overlap.tsv')\n",
    "if not os.path.exists(out):\n",
    "    s = '\\n'.join(rare_vars.chrom + '\\t' + rare_vars.start.astype(str) + \n",
    "                  '\\t' + rare_vars.end.astype(str) + '\\t' + \n",
    "                  pd.Series(rare_vars.index, index=rare_vars.index)) + '\\n'\n",
    "    rv_bt = pbt.BedTool(s, from_string=True).sort()\n",
    "    tf_overlap = pd.DataFrame(False, index=rare_vars.index, columns=encode_tf_chip_seq.target)\n",
    "\n",
    "    for i in encode_tf_chip_seq.index:\n",
    "        target = encode_tf_chip_seq.ix[i, 'target']\n",
    "        s = cpb.general.read_gzipped_text_url(encode_tf_chip_seq.ix[i, 'narrowPeak_url'])\n",
    "        bt = pbt.BedTool(s, from_string=True)\n",
    "        bt = bt.sort()\n",
    "        res = rv_bt.intersect(bt, sorted=True, wo=True)\n",
    "        df = res.to_dataframe(names=range(len(res[0].fields)))\n",
    "        tf_overlap.ix[set(df[3]), target] = True\n",
    "    tf_overlap.to_csv(out, sep='\\t')\n",
    "else:\n",
    "    tf_overlap = pd.read_table(out, index_col=0)"
   ]
  },
  {
   "cell_type": "code",
   "execution_count": 34,
   "metadata": {
    "collapsed": false
   },
   "outputs": [
    {
     "name": "stdout",
     "output_type": "stream",
     "text": [
      "Cluster has 20 engines.\n",
      "importing cdpybio on engine(s)\n",
      "importing cardipspy on engine(s)\n"
     ]
    }
   ],
   "source": [
    "out = os.path.join(private_outdir, 'tf_disruption.tsv')\n",
    "if not os.path.exists(out):\n",
    "    tdf = tf_overlap[tf_overlap.sum(axis=1) > 0]\n",
    "    var_tf_overlaps = {}\n",
    "    for i in tdf.index:\n",
    "        se = tdf.ix[i]\n",
    "        se = se[se]\n",
    "        var_tf_overlaps[i] = list(motif_info[motif_info.tf.apply(lambda x: x in se.index)].index)\n",
    "    tf_disruption = pd.DataFrame(False, index=tf_overlap.index, columns=tf_overlap.columns)\n",
    "\n",
    "    from ipyparallel import Client\n",
    "    # parallel_client = Client(profile='parallel')\n",
    "    parallel_client = Client()\n",
    "    dview = parallel_client[:]\n",
    "    print('Cluster has {} engines.'.format(len(parallel_client.ids)))\n",
    "    \n",
    "    with dview.sync_imports():\n",
    "        import cdpybio\n",
    "        import cardipspy\n",
    "        \n",
    "    %px cpb = cdpybio\n",
    "    %px cpy = cardipspy\n",
    "    \n",
    "    dview.push(dict(rare_vars=rare_vars));\n",
    "    dview.push(dict(var_tf_overlaps=var_tf_overlaps));\n",
    "    dview.push(dict(matrices=matrices));\n",
    "    \n",
    "    res = dview.map_sync(lambda i: cpb.moodsext.find_motif_disruptions(\n",
    "            rare_vars.ix[i, 'position'], rare_vars.ix[i, 'ref'], rare_vars.ix[i, 'alt'], \n",
    "            cpy.hg19, {k:matrices[k] for k in matrices.keys() if k in var_tf_overlaps[i]}), \n",
    "                         var_tf_overlaps.keys())\n",
    "    for i,k in enumerate(var_tf_overlaps.keys()):\n",
    "        if res[i].shape[0] > 0:\n",
    "            tf_disruption.ix[k, set(motif_info.ix[res[i][res[i]['score_diff'].abs() >= 2.5].index, 'tf'])] = True\n",
    "    tf_disruption.to_csv(out, sep='\\t')\n",
    "else:\n",
    "    tf_disruption = pd.read_table(out, index_col=0)"
   ]
  },
  {
   "cell_type": "markdown",
   "metadata": {},
   "source": [
    "### Dinucleotide substitutions\n",
    "\n",
    "I want to collect some information on dinucleotide substitutions so I can see\n",
    "if samples have the CC->TT mutations associated with UV damage."
   ]
  },
  {
   "cell_type": "code",
   "execution_count": null,
   "metadata": {
    "collapsed": true
   },
   "outputs": [],
   "source": [
    "# Note: I ran this at the command line so these commands need to be checked to make sure they work.\n",
    "out = os.path.join(private_outdir, 'adj.vcf.gz')\n",
    "if not os.path.exists(out):\n",
    "    temp = os.path.join(private_outdir, 'temp.vcf')\n",
    "    header = os.path.join(private_outdir, 'header.vcf')\n",
    "    ! bcftools view --max-ac 1:minor -i 'ID=\".\"' -m2 -M2 -v snps \\\n",
    "        /projects/CARDIPS/pipeline/WGS/mergedVCF/CARDIPS_201512.PASS.vcf.gz \\\n",
    "        | awk 'BEGIN {pos=0 ; prev=\"\"} {if (pos==$2) print prev\"\\n\"$0 ; pos=$2+1 ; prev=$0}' \\\n",
    "        | uniq > {temp}\n",
    "    ! zcat /projects/CARDIPS/pipeline/WGS/mergedVCF/CARDIPS_201512.PASS.vcf.gz | head -n 1000 | grep ^\\# > {header}\n",
    "    ! cat {header} {temp} > {out[0:-3]}\n",
    "    ! bgzip {out[0:-3]}\n",
    "    ! tabix -p vcf {out}\n",
    "    ! rm {temp} {header}"
   ]
  },
  {
   "cell_type": "code",
   "execution_count": 146,
   "metadata": {
    "collapsed": false
   },
   "outputs": [],
   "source": [
    "out = os.path.join(private_outdir, 'adj_info.tsv')\n",
    "if not os.path.exists(out):\n",
    "    vals = {'sample':[], 'ref':[], 'alt':[]}\n",
    "\n",
    "    vcf_reader = pyvcf.Reader(open(os.path.join(private_outdir, 'adj.vcf.gz')))\n",
    "    while True:\n",
    "        try:\n",
    "            line_one = vcf_reader.next()\n",
    "            line_two = vcf_reader.next()\n",
    "            if line_two.POS - 1 != line_one.POS:\n",
    "                line_one = line_two\n",
    "                line_two = vcf_reader.next()\n",
    "            assert line_two.POS - 1 == line_one.POS\n",
    "\n",
    "            hets_one = line_one.get_hets()\n",
    "            hets_two = line_two.get_hets()\n",
    "            if len(hets_one) == len(hets_two) == 1:\n",
    "                sone = hets_one[0].sample\n",
    "                stwo = hets_two[0].sample\n",
    "\n",
    "                if sone == stwo:\n",
    "                    vals['sample'].append(sone)\n",
    "                    vals['ref'].append(line_one.REF + line_two.REF)\n",
    "                    vals['alt'].append(str(line_one.ALT[0]) + str(line_two.ALT[0]))\n",
    "        except StopIteration:\n",
    "            break\n",
    "    adj_info = pd.DataFrame(vals)\n",
    "    adj_info['substitution'] = adj_info.ref + ':' + adj_info.alt\n",
    "    adj_info.to_csv(out, sep='\\t')"
   ]
  },
  {
   "cell_type": "code",
   "execution_count": 147,
   "metadata": {
    "collapsed": false
   },
   "outputs": [
    {
     "data": {
      "text/plain": [
       "CC:TT    7422\n",
       "GG:AA    7100\n",
       "TG:CA     701\n",
       "CA:TG     622\n",
       "GC:TT     591\n",
       "GC:AA     534\n",
       "GA:TT     307\n",
       "GC:AT     303\n",
       "GA:AT     291\n",
       "TC:AA     267\n",
       "TC:AT     256\n",
       "TC:CT     228\n",
       "GA:AG     224\n",
       "GG:TT     212\n",
       "CC:AA     199\n",
       "CA:AG     174\n",
       "AA:TT     174\n",
       "TG:CT     168\n",
       "GG:AC     165\n",
       "GG:AT     144\n",
       "CC:GT     141\n",
       "GC:AG     137\n",
       "GA:AC     134\n",
       "AC:TT     134\n",
       "CA:AT     129\n",
       "CC:AT     128\n",
       "GT:AA     127\n",
       "CT:TC     123\n",
       "CA:TT     123\n",
       "TA:AT     122\n",
       "         ... \n",
       "GG:CC      26\n",
       "TG:AC      26\n",
       "AA:TG      26\n",
       "AA:CT      25\n",
       "TT:CA      25\n",
       "AC:TG      22\n",
       "CA:GC      22\n",
       "CG:TC      22\n",
       "AT:GG      22\n",
       "TG:GC      21\n",
       "AA:CG      21\n",
       "TA:GG      20\n",
       "AA:CC      19\n",
       "CG:AT      19\n",
       "CA:GT      19\n",
       "GA:CG      16\n",
       "CG:GC      16\n",
       "AT:CG      15\n",
       "GA:CC      15\n",
       "TT:CG      15\n",
       "CG:GA      14\n",
       "TC:CG      14\n",
       "TC:GG      14\n",
       "TA:GC      13\n",
       "CG:GT      11\n",
       "GT:CA      10\n",
       "GT:CG       8\n",
       "GC:CG       8\n",
       "AC:CG       8\n",
       "CG:AC       8\n",
       "Name: substitution, dtype: int64"
      ]
     },
     "execution_count": 147,
     "metadata": {},
     "output_type": "execute_result"
    }
   ],
   "source": [
    "adj_info.substitution.value_counts()"
   ]
  },
  {
   "cell_type": "code",
   "execution_count": 148,
   "metadata": {
    "collapsed": true
   },
   "outputs": [],
   "source": [
    "gb = adj_info.groupby('sample')"
   ]
  },
  {
   "cell_type": "code",
   "execution_count": 149,
   "metadata": {
    "collapsed": true
   },
   "outputs": [],
   "source": [
    "vc = adj_info['sample'].value_counts()"
   ]
  },
  {
   "cell_type": "code",
   "execution_count": 151,
   "metadata": {
    "collapsed": false
   },
   "outputs": [
    {
     "data": {
      "image/png": "[encoded data removed]",
      "text/plain": [
       "<matplotlib.figure.Figure at 0x7f647fa2c490>"
      ]
     },
     "metadata": {},
     "output_type": "display_data"
    }
   ],
   "source": [
    "vc[vc > 100].plot(kind='bar');"
   ]
  },
  {
   "cell_type": "code",
   "execution_count": 140,
   "metadata": {
    "collapsed": false
   },
   "outputs": [
    {
     "data": {
      "text/plain": [
       "substitution\n",
       "GA:AG    3\n",
       "AG:TC    2\n",
       "CA:TT    2\n",
       "CT:TC    2\n",
       "GC:CT    2\n",
       "TA:AT    2\n",
       "TC:AT    2\n",
       "TC:CT    2\n",
       "AA:GG    1\n",
       "AC:GG    1\n",
       "AG:TA    1\n",
       "CA:AC    1\n",
       "CA:GG    1\n",
       "CA:TG    1\n",
       "CC:AA    1\n",
       "CT:AC    1\n",
       "CT:TG    1\n",
       "GA:CT    1\n",
       "GA:TG    1\n",
       "GA:TT    1\n",
       "GC:AT    1\n",
       "GC:TA    1\n",
       "GT:AA    1\n",
       "TA:AG    1\n",
       "TG:AA    1\n",
       "TG:AT    1\n",
       "TG:CC    1\n",
       "TG:CT    1\n",
       "TT:AG    1\n",
       "TT:GA    1\n",
       "dtype: int64"
      ]
     },
     "execution_count": 140,
     "metadata": {},
     "output_type": "execute_result"
    }
   ],
   "source": [
    "gb.substitution.value_counts()['63968319-c83a-460c-bcb0-c74f13309332']"
   ]
  },
  {
   "cell_type": "code",
   "execution_count": null,
   "metadata": {
    "collapsed": true
   },
   "outputs": [],
   "source": []
  },
  {
   "cell_type": "code",
   "execution_count": 126,
   "metadata": {
    "collapsed": false
   },
   "outputs": [
    {
     "data": {
      "text/html": [
       "<div>\n",
       "<table border=\"1\" class=\"dataframe\">\n",
       "  <thead>\n",
       "    <tr style=\"text-align: right;\">\n",
       "      <th></th>\n",
       "      <th>alt</th>\n",
       "      <th>ref</th>\n",
       "      <th>sample</th>\n",
       "      <th>substitution</th>\n",
       "    </tr>\n",
       "  </thead>\n",
       "  <tbody>\n",
       "    <tr>\n",
       "      <th>0</th>\n",
       "      <td>AA</td>\n",
       "      <td>GG</td>\n",
       "      <td>8316c9af-4692-4a44-bc7e-1c79a6d98fd4</td>\n",
       "      <td>GG:AA</td>\n",
       "    </tr>\n",
       "    <tr>\n",
       "      <th>1</th>\n",
       "      <td>AA</td>\n",
       "      <td>GG</td>\n",
       "      <td>97ed0713-bd60-4dfc-8035-e7bb6740d020</td>\n",
       "      <td>GG:AA</td>\n",
       "    </tr>\n",
       "    <tr>\n",
       "      <th>2</th>\n",
       "      <td>TT</td>\n",
       "      <td>CC</td>\n",
       "      <td>ff2a8240-307b-43ff-9d88-cf569d566780</td>\n",
       "      <td>CC:TT</td>\n",
       "    </tr>\n",
       "    <tr>\n",
       "      <th>3</th>\n",
       "      <td>TT</td>\n",
       "      <td>CC</td>\n",
       "      <td>8316c9af-4692-4a44-bc7e-1c79a6d98fd4</td>\n",
       "      <td>CC:TT</td>\n",
       "    </tr>\n",
       "    <tr>\n",
       "      <th>4</th>\n",
       "      <td>AA</td>\n",
       "      <td>GG</td>\n",
       "      <td>c45b714b-c3a6-4a37-87d4-1cb9ba079706</td>\n",
       "      <td>GG:AA</td>\n",
       "    </tr>\n",
       "  </tbody>\n",
       "</table>\n",
       "</div>"
      ],
      "text/plain": [
       "  alt ref                                sample substitution\n",
       "0  AA  GG  8316c9af-4692-4a44-bc7e-1c79a6d98fd4        GG:AA\n",
       "1  AA  GG  97ed0713-bd60-4dfc-8035-e7bb6740d020        GG:AA\n",
       "2  TT  CC  ff2a8240-307b-43ff-9d88-cf569d566780        CC:TT\n",
       "3  TT  CC  8316c9af-4692-4a44-bc7e-1c79a6d98fd4        CC:TT\n",
       "4  AA  GG  c45b714b-c3a6-4a37-87d4-1cb9ba079706        GG:AA"
      ]
     },
     "execution_count": 126,
     "metadata": {},
     "output_type": "execute_result"
    }
   ],
   "source": [
    "tdf.head()"
   ]
  },
  {
   "cell_type": "markdown",
   "metadata": {},
   "source": [
    "## Rare CNVs"
   ]
  },
  {
   "cell_type": "code",
   "execution_count": 237,
   "metadata": {
    "collapsed": false
   },
   "outputs": [],
   "source": [
    "fn = os.path.join(ciepy.root, 'output/cnv_processing/gs_info.pickle')\n",
    "gs_info = cPickle.load(open(fn))\n",
    "fn = os.path.join(ciepy.root, 'private_output/cnv_processing/gs_genotypes.tsv')\n",
    "gs_geno = pd.read_table(fn, index_col=0)\n",
    "\n",
    "fn = os.path.join(ciepy.root, 'output/cnv_processing/lumpy_info.pickle')\n",
    "lumpy_info = cPickle.load(open(fn))\n",
    "lumpy_info['start'] = lumpy_info.pos\n",
    "fn = os.path.join(ciepy.root, 'private_output/cnv_processing/lumpy_genotypes.tsv')\n",
    "lumpy_geno = pd.read_table(fn, index_col=0)"
   ]
  },
  {
   "cell_type": "code",
   "execution_count": 238,
   "metadata": {
    "collapsed": false
   },
   "outputs": [
    {
     "data": {
      "image/png": "[encoded data removed]",
      "text/plain": [
       "<matplotlib.figure.Figure at 0x7f8a20eb6090>"
      ]
     },
     "metadata": {},
     "output_type": "display_data"
    }
   ],
   "source": [
    "gs_info.unrelated_percent_diff_from_mode.hist(bins=100)\n",
    "plt.ylabel('Number of CNVs')\n",
    "plt.xlabel('Percent unrelateds different from mode');"
   ]
  },
  {
   "cell_type": "code",
   "execution_count": 239,
   "metadata": {
    "collapsed": false
   },
   "outputs": [],
   "source": [
    "gs_info.sort_values(by='unrelated_diff_from_mode', inplace=True)"
   ]
  },
  {
   "cell_type": "markdown",
   "metadata": {},
   "source": [
    "I'm going to filter the lumpy calls a bit."
   ]
  },
  {
   "cell_type": "code",
   "execution_count": 240,
   "metadata": {
    "collapsed": true
   },
   "outputs": [],
   "source": [
    "lumpy_info = lumpy_info[lumpy_info.su >= 14]\n",
    "lumpy_geno = lumpy_geno.ix[lumpy_info.index, unrelateds]\n",
    "lumpy_rare_geno = lumpy_geno[lumpy_geno.sum(axis=1) == 1]\n",
    "lumpy_rare_info = lumpy_info.ix[lumpy_rare_geno.index]"
   ]
  },
  {
   "cell_type": "code",
   "execution_count": 242,
   "metadata": {
    "collapsed": false
   },
   "outputs": [],
   "source": [
    "cols = list(set(lumpy_rare_info.columns) & set(gs_info.columns))\n",
    "rare_cnv_info = pd.concat([lumpy_rare_info[cols], gs_info.ix[gs_info.unrelated_diff_from_mode == 1, cols]])\n",
    "# rare_cnv_info = gs_info[gs_info.unrelated_diff_from_mode == 1]\n",
    "rare_cnv_info = rare_cnv_info.dropna(subset=['overlaps_gene'])\n",
    "\n",
    "rare_cnv_info['caller'] = 'genomestrip'\n",
    "rare_cnv_info.ix[rare_cnv_info.name.apply(lambda x: 'DEL' in x), 'caller'] = 'lumpy'\n",
    "rare_cnv_info.ix[rare_cnv_info.name.apply(lambda x: 'DUP' in x), 'caller'] = 'lumpy'"
   ]
  },
  {
   "cell_type": "code",
   "execution_count": 243,
   "metadata": {
    "collapsed": true
   },
   "outputs": [],
   "source": [
    "rare_cnv_info['sample'] = np.nan"
   ]
  },
  {
   "cell_type": "code",
   "execution_count": 244,
   "metadata": {
    "collapsed": true
   },
   "outputs": [],
   "source": [
    "rare_cnv_info['svtype'] = np.nan\n",
    "ind = rare_cnv_info[rare_cnv_info.caller == 'lumpy'].index\n",
    "rare_cnv_info.ix[ind, 'svtype'] = lumpy_info.ix[ind, 'svtype']"
   ]
  },
  {
   "cell_type": "code",
   "execution_count": 245,
   "metadata": {
    "collapsed": true
   },
   "outputs": [],
   "source": [
    "samples = []\n",
    "for i in ind:\n",
    "    se = lumpy_geno.ix[i, unrelateds]\n",
    "    samples.append(se[se == 1].index[0])\n",
    "rare_cnv_info.ix[ind, 'sample'] = samples"
   ]
  },
  {
   "cell_type": "code",
   "execution_count": 246,
   "metadata": {
    "collapsed": false
   },
   "outputs": [],
   "source": [
    "samples = []\n",
    "ind = rare_cnv_info[rare_cnv_info.caller == 'genomestrip'].index\n",
    "for i in ind:\n",
    "    vc = gs_geno.ix[i, unrelateds].value_counts()\n",
    "    mi = vc[vc == vc.min()].index[0]\n",
    "    ma = vc[vc == vc.max()].index[0]\n",
    "    if mi < ma:\n",
    "        rare_cnv_info.ix[i, 'svtype'] = 'DEL'\n",
    "    elif mi > ma:\n",
    "        rare_cnv_info.ix[i, 'svtype'] = 'DUP'\n",
    "    se = gs_geno.ix[i, unrelateds]\n",
    "    samples.append(se[se == mi].index[0])\n",
    "rare_cnv_info.ix[ind, 'sample'] = samples"
   ]
  },
  {
   "cell_type": "markdown",
   "metadata": {},
   "source": [
    "Remove MHC CNVs."
   ]
  },
  {
   "cell_type": "code",
   "execution_count": 247,
   "metadata": {
    "collapsed": true
   },
   "outputs": [],
   "source": [
    "mhc_bt = pbt.BedTool('chr6\\t{}\\t{}'.format(int(29.6e6), int(33.1e6)), from_string=True)\n",
    "s = '\\n'.join(rare_cnv_info.chrom + '\\t' + rare_cnv_info.start.astype(str) + '\\t' + \n",
    "              rare_cnv_info.end.astype(str) + '\\t' + rare_cnv_info.name) + '\\n'\n",
    "rare_cnv_bt = pbt.BedTool(s, from_string=True)\n",
    "res = rare_cnv_bt.intersect(mhc_bt, v=True, wa=True)\n",
    "df = res.to_dataframe()\n",
    "rare_cnv_info = rare_cnv_info.ix[df.name]"
   ]
  },
  {
   "cell_type": "code",
   "execution_count": 248,
   "metadata": {
    "collapsed": false
   },
   "outputs": [
    {
     "data": {
      "text/plain": [
       "4fc00735-6005-4e26-a5d9-3008c62aa632    873\n",
       "32ee31cb-156d-4a95-a708-6271f7e2cbab    164\n",
       "ebb69264-564b-49ee-b013-86e83a1b9f49    161\n",
       "916c0056-cef2-488f-ae44-cb9b1398669e    120\n",
       "63968319-c83a-460c-bcb0-c74f13309332     86\n",
       "Name: sample, dtype: int64"
      ]
     },
     "execution_count": 248,
     "metadata": {},
     "output_type": "execute_result"
    }
   ],
   "source": [
    "rare_cnv_info['sample'].value_counts().head()"
   ]
  },
  {
   "cell_type": "code",
   "execution_count": 249,
   "metadata": {
    "collapsed": false
   },
   "outputs": [
    {
     "data": {
      "text/plain": [
       "sex                                                   M\n",
       "age                                                64.7\n",
       "family_id          6130d59b-8343-4628-9c67-aff53dabc4b4\n",
       "father_id                                           NaN\n",
       "mother_id                                           NaN\n",
       "twin_id                                             NaN\n",
       "ethnicity_group                                European\n",
       "Name: 0ad8c77c-4d4b-4bac-9f16-99c2ab84ee81, dtype: object"
      ]
     },
     "execution_count": 249,
     "metadata": {},
     "output_type": "execute_result"
    }
   ],
   "source": [
    "subject_meta.ix[wgs_meta.ix['4fc00735-6005-4e26-a5d9-3008c62aa632', 'subject_id']]"
   ]
  },
  {
   "cell_type": "code",
   "execution_count": 253,
   "metadata": {
    "collapsed": false
   },
   "outputs": [],
   "source": [
    "cPickle.dump(rare_cnv_info, open(os.path.join(private_outdir, 'rare_cnvs.pickle'), 'w'))"
   ]
  }
 ],
 "metadata": {
  "kernelspec": {
   "display_name": "Environment (cie)",
   "language": "",
   "name": "cie"
  },
  "language_info": {
   "codemirror_mode": {
    "name": "ipython",
    "version": 2
   },
   "file_extension": ".py",
   "mimetype": "text/x-python",
   "name": "python",
   "nbconvert_exporter": "python",
   "pygments_lexer": "ipython2",
   "version": "2.7.11"
  }
 },
 "nbformat": 4,
 "nbformat_minor": 0
}
