{
 "cells": [
  {
   "cell_type": "markdown",
   "metadata": {},
   "source": [
    "# Rare Variant Processing\n",
    "\n",
    "In this notebook, I'm going to identify rare variants and annotate them."
   ]
  },
  {
   "cell_type": "code",
   "execution_count": 15,
   "metadata": {
    "collapsed": false
   },
   "outputs": [
    {
     "name": "stdout",
     "output_type": "stream",
     "text": [
      "The rpy2.ipython extension is already loaded. To reload it, use:\n",
      "  %reload_ext rpy2.ipython\n"
     ]
    }
   ],
   "source": [
    "import copy\n",
    "import cPickle\n",
    "import datetime as dt\n",
    "import glob\n",
    "import os\n",
    "import re\n",
    "import subprocess\n",
    "import urllib2\n",
    "\n",
    "import cdpybio as cpb\n",
    "from ipyparallel import Client\n",
    "from scipy.stats import fisher_exact\n",
    "import matplotlib.gridspec as gridspec\n",
    "from matplotlib.patches import Rectangle\n",
    "import matplotlib.pyplot as plt\n",
    "import numpy as np\n",
    "import pandas as pd\n",
    "import pyencodetools as pet\n",
    "import pybedtools as pbt\n",
    "import pyBigWig\n",
    "import scipy\n",
    "import scipy.stats as stats\n",
    "import seaborn as sns\n",
    "import socket\n",
    "import statsmodels.stats.multitest as smm\n",
    "import vcf as pyvcf\n",
    "\n",
    "import cardipspy as cpy\n",
    "import ciepy\n",
    "\n",
    "%matplotlib inline\n",
    "%load_ext rpy2.ipython\n",
    "\n",
    "dy_name = 'rare_variant_processing'\n",
    "\n",
    "import socket\n",
    "if socket.gethostname() == 'fl-hn1' or socket.gethostname() == 'fl-hn2':\n",
    "    dy = os.path.join(ciepy.root, 'sandbox', dy_name)\n",
    "    cpy.makedir(dy)\n",
    "    pbt.set_tempdir(dy)\n",
    "    \n",
    "outdir = os.path.join(ciepy.root, 'output', dy_name)\n",
    "cpy.makedir(outdir)\n",
    "\n",
    "private_outdir = os.path.join(ciepy.root, 'private_output', dy_name)\n",
    "cpy.makedir(private_outdir)"
   ]
  },
  {
   "cell_type": "code",
   "execution_count": 2,
   "metadata": {
    "collapsed": true
   },
   "outputs": [],
   "source": [
    "sns.set_style('whitegrid')"
   ]
  },
  {
   "cell_type": "code",
   "execution_count": 3,
   "metadata": {
    "collapsed": false
   },
   "outputs": [],
   "source": [
    "tg = pd.read_table(cpy.gencode_transcript_gene, index_col=0, \n",
    "                   header=None, squeeze=True)\n",
    "gene_info = pd.read_table(cpy.gencode_gene_info, index_col=0)\n",
    "genes = pbt.BedTool(cpy.gencode_gene_bed)\n",
    "fn = os.path.join(ciepy.root, 'output', 'input_data', 'rsem_tpm.tsv')\n",
    "tpm = pd.read_table(fn, index_col=0)\n",
    "\n",
    "cnvs = pd.read_table(os.path.join(ciepy.root, 'output', 'input_data',\n",
    "                                  'cnvs.tsv'), index_col=0)\n",
    "fn = os.path.join(ciepy.root, 'output', 'input_data', 'wgs_metadata.tsv')\n",
    "wgs_meta = pd.read_table(fn, index_col=0, squeeze=True)\n",
    "fn = os.path.join(ciepy.root, 'output', 'input_data', 'rnaseq_metadata.tsv')\n",
    "rna_meta = pd.read_table(fn, index_col=0)\n",
    "rna_meta_eqtl = rna_meta[rna_meta.in_eqtl]\n",
    "fn = os.path.join(ciepy.root, 'output', 'input_data', 'subject_metadata.tsv')\n",
    "subject_meta = pd.read_table(fn, index_col=0)\n",
    "\n",
    "rna_meta = rna_meta.merge(subject_meta, left_on='subject_id', right_index=True)\n",
    "\n",
    "fn = os.path.join(os.path.split(cpy.roadmap_15_state_annotation)[0], 'EIDlegend.txt')\n",
    "roadmap_ids = pd.read_table(fn, squeeze=True, index_col=0, header=None)"
   ]
  },
  {
   "cell_type": "code",
   "execution_count": 4,
   "metadata": {
    "collapsed": true
   },
   "outputs": [],
   "source": [
    "fn = os.path.join(ciepy.root, 'output', 'input_data', \n",
    "                  'mbased_major_allele_freq.tsv')\n",
    "maj_af = pd.read_table(fn, index_col=0)\n",
    "\n",
    "fn = os.path.join(ciepy.root, 'output', 'input_data', \n",
    "                  'mbased_p_val_ase.tsv')\n",
    "ase_pval = pd.read_table(fn, index_col=0)\n",
    "\n",
    "locus_p = pd.Panel({'major_allele_freq':maj_af, 'p_val_ase':ase_pval})\n",
    "locus_p = locus_p.swapaxes(0, 2)"
   ]
  },
  {
   "cell_type": "code",
   "execution_count": 5,
   "metadata": {
    "collapsed": true
   },
   "outputs": [],
   "source": [
    "log_tpm = np.log10(tpm + 1)"
   ]
  },
  {
   "cell_type": "markdown",
   "metadata": {},
   "source": [
    "## SNVs and indels\n",
    "\n",
    "Get SNVs and indels in promoters."
   ]
  },
  {
   "cell_type": "code",
   "execution_count": 6,
   "metadata": {
    "collapsed": false
   },
   "outputs": [],
   "source": [
    "promoter_bt = pbt.BedTool('/publicdata/gencode_v19_20151104/promoters_merged.bed')\n",
    "df = promoter_bt.to_dataframe()\n",
    "s = '\\n'.join(df.chrom.apply(lambda x: x[3:]) + '\\t' + \n",
    "              df.start.astype(str) + '\\t' + df.end.astype(str)) + '\\n'\n",
    "promoter_bt = pbt.BedTool(s, from_string=True)"
   ]
  },
  {
   "cell_type": "code",
   "execution_count": 7,
   "metadata": {
    "collapsed": false
   },
   "outputs": [],
   "source": [
    "vcfs = ['CARDIPS_chr{}_phased.vcf.gz'.format(x) for x in range(1, 23)]\n",
    "vcfs = [os.path.join('/projects/CARDIPS/pipeline/WGS/mergedVCF/phased_20151214/', x) for x in vcfs]\n",
    "for vcf in vcfs:\n",
    "    out = os.path.split(vcf)[1].split('.')[0] + '_promoter_variants.vcf.gz'\n",
    "    out = os.path.join(private_outdir, out)\n",
    "    if not os.path.exists(out):\n",
    "        c = 'bcftools view -Oz -R {} {} > {}'.format(promoter_bt.fn, vcf, out)\n",
    "        subprocess.check_call(c, shell=True)\n",
    "        c = 'bcftools index {}'.format(out)\n",
    "        subprocess.check_call(c, shell=True)"
   ]
  },
  {
   "cell_type": "markdown",
   "metadata": {},
   "source": [
    "Annotate variants with 1,000 genomes European allele frequency."
   ]
  },
  {
   "cell_type": "code",
   "execution_count": 8,
   "metadata": {
    "collapsed": false
   },
   "outputs": [],
   "source": [
    "for i in range(1, 23):\n",
    "    vcf = os.path.join(private_outdir, 'CARDIPS_chr{}_phased_promoter_variants.vcf.gz'.format(i))\n",
    "    kgp_vcf = ('/publicdata/1KGP_20151103/ALL.chr{}.'\n",
    "               'phase3_shapeit2_mvncall_integrated_v5a.20130502.genotypes.vcf.gz'.format(i))\n",
    "    out = os.path.split(vcf)[1].split('.')[0] + '_annot.vcf.gz'\n",
    "    out = os.path.join(private_outdir, out)\n",
    "    if not os.path.exists(out):\n",
    "        c = ('bcftools annotate -a {} -c EUR_AF -Oz {} > {}'.format(kgp_vcf, vcf, out))\n",
    "        subprocess.check_call(c, shell=True)\n",
    "        c = 'bcftools index {}'.format(out)\n",
    "        subprocess.check_call(c, shell=True)"
   ]
  },
  {
   "cell_type": "markdown",
   "metadata": {},
   "source": [
    "Make merged bed file for roadmap DHSs for stem cell."
   ]
  },
  {
   "cell_type": "code",
   "execution_count": 9,
   "metadata": {
    "collapsed": true
   },
   "outputs": [],
   "source": [
    "out = os.path.join(outdir, 'roadmap_stem_cell_dhs.bed')\n",
    "if not os.path.exists(out):\n",
    "    url = ('http://egg2.wustl.edu/roadmap/data/byFileType'\n",
    "           '/peaks/consolidated/narrowPeak/')\n",
    "    website = urllib2.urlopen(url)\n",
    "    html = website.read()\n",
    "    files = re.findall('href=\"(E\\d\\d\\d-DNase.macs2.narrowPeak.gz)\"', html)\n",
    "    roadmap_dnase_res = pd.DataFrame(\n",
    "        -1, index=[x.split('-')[0] for x in files], \n",
    "        columns=['odds_ratio', 'pvalue'])\n",
    "\n",
    "    urls = ['http://egg2.wustl.edu/roadmap/data/byFileType/peaks/consolidated/narrowPeak/{}'.format(n)\n",
    "            for n in files]\n",
    "    lines = ['iPS-15b Cell Line', 'iPS-18 Cell Line', 'iPS-20b Cell Line',\n",
    "             'iPS DF 6.9 Cell Line', 'iPS DF 19.11 Cell Line', 'H1 Cell Line',\n",
    "             'H9 Cell Line']\n",
    "    urls = [x for x in urls if roadmap_ids[os.path.split(x.split('-')[0])[1]] in lines]\n",
    "\n",
    "    dhs_bt = pbt.BedTool(''.join([cpb.general.read_gzipped_text_url(url) for url in urls]), from_string=True)\n",
    "    dhs_bt = dhs_bt.sort().merge()\n",
    "    df = dhs_bt.to_dataframe()\n",
    "    df.chrom = df.chrom.apply(lambda x: x[3:])\n",
    "    s = '\\n'.join(df.chrom + '\\t' + df.start.astype(str) + \n",
    "                  '\\t' + df.end.astype(str)) + '\\n'\n",
    "    dhs_bt = pbt.BedTool(s, from_string=True)\n",
    "    dhs_bt.saveas(out)\n",
    "else:\n",
    "    dhs_bt = pbt.BedTool(out)"
   ]
  },
  {
   "cell_type": "markdown",
   "metadata": {},
   "source": [
    "Get variants that overlap merged DHSs."
   ]
  },
  {
   "cell_type": "code",
   "execution_count": 10,
   "metadata": {
    "collapsed": false
   },
   "outputs": [],
   "source": [
    "vcfs = [os.path.join(private_outdir, 'CARDIPS_chr{}_phased_promoter_variants_annot.vcf.gz'.format(x)) \n",
    "        for x in range(1, 23)]\n",
    "for vcf in vcfs:\n",
    "    out = os.path.split(vcf)[1].split('.')[0] + '_dhs.vcf.gz'\n",
    "    out = os.path.join(private_outdir, out)\n",
    "    if not os.path.exists(out):\n",
    "        temp = os.path.join(private_outdir, 'temp.vcf')\n",
    "        c = 'bcftools view -m2 -M2 -Ov -R {} {} > {}'.format(dhs_bt.fn, vcf, temp)\n",
    "        subprocess.check_call(c, shell=True)\n",
    "        temp_header = os.path.join(private_outdir, 'temp_header.vcf')\n",
    "        c = 'grep ^\\\\# {} > {}'.format(temp, temp_header)\n",
    "        subprocess.check_call(c, shell=True)\n",
    "        temp_lines = os.path.join(private_outdir, 'temp_lines.vcf')\n",
    "        c = 'grep -v ^\\\\# {} | sort -k1,1 -k2,2n | uniq > {}'.format(temp, temp_lines)\n",
    "        subprocess.check_call(c, shell=True)\n",
    "        c = 'cat {} {} | bgzip > {}'.format(temp_header, temp_lines, out)\n",
    "        subprocess.check_call(c, shell=True)\n",
    "        c = 'bcftools index {}'.format(out)\n",
    "        subprocess.check_call(c, shell=True)\n",
    "        c = 'rm {} {} {}'.format(temp, temp_header, temp_lines)\n",
    "        subprocess.check_call(c, shell=True)"
   ]
  },
  {
   "cell_type": "markdown",
   "metadata": {},
   "source": [
    "Filter promoter variants to only keep rare variants."
   ]
  },
  {
   "cell_type": "code",
   "execution_count": 11,
   "metadata": {
    "collapsed": true
   },
   "outputs": [],
   "source": [
    "fn = os.path.join(ciepy.root, 'output', 'eqtl_input', 'unrelateds.tsv')\n",
    "unr_rna_meta = pd.read_table(fn, index_col=0)\n",
    "unrelateds = list(unr_rna_meta.wgs_id)"
   ]
  },
  {
   "cell_type": "code",
   "execution_count": 12,
   "metadata": {
    "collapsed": true
   },
   "outputs": [],
   "source": [
    "promoters = pbt.BedTool('/publicdata/gencode_v19_20151104/promoters_by_gene.bed')\n",
    "promoters_t = pbt.BedTool('/publicdata/gencode_v19_20151104/promoters.bed')"
   ]
  },
  {
   "cell_type": "code",
   "execution_count": 13,
   "metadata": {
    "collapsed": false
   },
   "outputs": [],
   "source": [
    "rare_var_out = os.path.join(private_outdir, 'rare_variants.pickle')\n",
    "if not os.path.exists(rare_var_out):\n",
    "    # First we go through each VCF and check the MAF in 1KGP and our unrelated individuals.\n",
    "    # We'll keep variants below specified cutoffs.\n",
    "    vcfs = [os.path.join(private_outdir, 'CARDIPS_chr{}_phased_promoter_variants_annot_dhs.vcf.gz'.format(x)) \n",
    "            for x in range(1, 23)]\n",
    "    ind = []\n",
    "    rare_vars = []\n",
    "    rare_var_genotypes = []\n",
    "    for vcf in vcfs:\n",
    "        vcf_reader = pyvcf.Reader(open(vcf))\n",
    "        out = vcf.split('.')[0] + '_rare.vcf.gz'\n",
    "        if not os.path.exists(out):\n",
    "            f = open(out[:-3], 'w')\n",
    "            vcf_writer = pyvcf.Writer(f, vcf_reader)\n",
    "            eur_af = []\n",
    "            unr_af = []\n",
    "            unr_num_called = []\n",
    "            for r in vcf_reader:\n",
    "                if 'EUR_AF' in r.INFO.keys():\n",
    "                    eaf = r.INFO['EUR_AF'][0]\n",
    "                else:\n",
    "                    eaf = 0\n",
    "                eaf\n",
    "\n",
    "                s = [x.sample for x in r.samples if x.called]\n",
    "                gt = [x.gt_alleles for x in r.samples if x.called]\n",
    "                gt = pd.DataFrame(gt, index=s, columns=['allele_a', 'allele_b'])\n",
    "                gt = gt.ix[unrelateds].dropna()\n",
    "                unr_num_called = gt.shape[0]\n",
    "\n",
    "                se = pd.Series(0, index=['0', '1'])\n",
    "                vc = gt.allele_a.value_counts()\n",
    "                se.ix[vc.index] += vc\n",
    "                vc = gt.allele_b.value_counts()\n",
    "                se.ix[vc.index] += vc\n",
    "                #uaf = float(se.min()) / se.sum()\n",
    "                uac = se.min()\n",
    "                if eaf < 0.005 and uac == 1 and unr_num_called >= 100:\n",
    "                    vcf_writer.write_record(r)\n",
    "                    pos = 'chr{}:{}-{}'.format(r.CHROM, r.POS - 1, r.POS - 1 + len(r.REF))\n",
    "                    ind.append(pos)\n",
    "                    rare_vars.append(['chr{}'.format(r.CHROM), r.POS - 1, r.POS - 1 + len(r.REF), \n",
    "                                      r.ID, pos, r.REF, str(r.ALT[0]), eaf])\n",
    "                    se = pd.concat([pd.Series(0, index=[x.sample for x in r.get_hom_refs()]),\n",
    "                                    pd.Series(1, index=[x.sample for x in r.get_hets()]),\n",
    "                                    pd.Series(0, index=[x.sample for x in r.get_hom_alts()])])\n",
    "                    rare_var_genotypes.append(se)\n",
    "\n",
    "            vcf_writer.close()\n",
    "            f.close()\n",
    "            !bgzip {out[:-3]}\n",
    "            !bcftools index {out}\n",
    "            \n",
    "    # Construct dataframes for rare variants and their genotypes.\n",
    "    cols = ['chrom', 'start', 'end', 'variant_id', 'position', 'ref', 'alt', 'eur_af']\n",
    "    rare_vars = pd.DataFrame(rare_vars, index=ind, columns=cols)\n",
    "    rare_var_genotypes = pd.DataFrame(rare_var_genotypes, index=ind)\n",
    "    rare_vars.to_csv(rare_var_out, sep='\\t')\n",
    "    fn = os.path.join(private_outdir, 'rare_variant_genotypes.tsv')\n",
    "    rare_var_genotypes.to_csv(fn, sep='\\t')\n",
    "    \n",
    "    # Annotate rare variants with their associated genes, transcripts, and promoters.\n",
    "    s = '\\n'.join(rare_vars.chrom + '\\t' + rare_vars.start.astype(str) + '\\t' + \n",
    "                  rare_vars.end.astype(str) + '\\t' + rare_vars.position) + '\\n'\n",
    "    bt = pbt.BedTool(s, from_string=True).sort()\n",
    "\n",
    "    # Annotate with genes.\n",
    "    res = bt.intersect(promoters, sorted=True, wo=True)\n",
    "    df = res.to_dataframe()\n",
    "    df['gene'] = df.thickEnd.apply(lambda x: x.split('_')[0])\n",
    "    gb = df[['name', 'gene']].groupby('name')\n",
    "    se = pd.Series(dict(list(gb['gene'])))\n",
    "    rare_vars['genes'] = se.apply(lambda x: set(x))\n",
    "\n",
    "    # Annotate with transcripts.\n",
    "    res = bt.intersect(promoters_t, sorted=True, wo=True)\n",
    "    df = res.to_dataframe()\n",
    "    df['transcript'] = df.thickEnd.apply(lambda x: x.split('_')[0])\n",
    "    gb = df[['name', 'transcript']].groupby('name')\n",
    "    se = pd.Series(dict(list(gb['transcript'])))\n",
    "    rare_vars['transcripts'] = se.apply(lambda x: set(x))\n",
    "\n",
    "    # Annotate with promoters.\n",
    "    df['promoter'] = df.score + ':' + df.strand.astype(str) + '-' + df.thickStart.astype(str)\n",
    "    gb = df[['name', 'promoter']].groupby('name')\n",
    "    se = pd.Series(dict(list(gb['promoter'])))\n",
    "    rare_vars['promoters'] = se.apply(lambda x: set(x))\n",
    "\n",
    "    # Drop any variants that don't have an annotate gene or transcript. This should't \n",
    "    # happen but does for a handful for some reason.\n",
    "    rare_vars = rare_vars[rare_vars.genes.isnull() == False]\n",
    "    rare_vars = rare_vars[rare_vars.transcripts.isnull() == False]\n",
    "    \n",
    "    # Label indels.\n",
    "    rare_vars['indel'] = False\n",
    "    rare_vars.ix[(rare_vars.end - rare_vars.start != 1), 'indel'] = True\n",
    "\n",
    "    # Add conservation scores.\n",
    "    phylop = pyBigWig.open('/publicdata/phyloP100way_20160224/hg19.100way.phyloP100way.bw')\n",
    "    cons = []\n",
    "    for i in rare_vars.index:\n",
    "        cons.append(np.mean(phylop.values(rare_vars.ix[i, 'chrom'],\n",
    "                                          rare_vars.ix[i, 'start'],\n",
    "                                          rare_vars.ix[i, 'end'])))\n",
    "    rare_vars['conservation'] = cons\n",
    "    \n",
    "    # Save object as pickle.\n",
    "    cPickle.dump(rare_vars, open(rare_var_out, 'w'))\n",
    "else:\n",
    "    rare_vars = cPickle.load(open(rare_var_out))\n",
    "    fn = os.path.join(private_outdir, 'rare_variant_genotypes.tsv')\n",
    "    rare_var_genotypes = pd.read_table(fn, index_col=0)"
   ]
  },
  {
   "cell_type": "raw",
   "metadata": {},
   "source": [
    "    tss = pbt.BedTool(cpy.gencode_tss_bed)\n",
    "    tss_df = tss.to_dataframe()\n",
    "    tss_df['gene'] = tss_df.name.apply(lambda x: transcript_to_gene[x.split('_')[0]])\n",
    "    s = '\\n'.join(tss_df.gene + '\\t' + tss_df.start.astype(str) + '\\t' +\n",
    "                  tss_df.end.astype(str) + '\\t' + tss_df.name + '\\t' + \n",
    "                  tss_df.score + '\\t' + tss_df.strand) + '\\n'\n",
    "    fake_tss = pbt.BedTool(s, from_string=True)\n",
    "    fake_tss = fake_tss.sort()\n",
    "\n",
    "    s = '\\n'.join(df.gene_id + '\\t' + df.start.astype(str) + '\\t' + \n",
    "                  df.end.astype(str) + '\\t.\\t' + df.chrom) + '\\n'\n",
    "    fake_df_bt = pbt.BedTool(s, from_string=True)\n",
    "    fake_df_bt = fake_df_bt.sort()\n",
    "\n",
    "    res = fake_df_bt.closest(fake_tss, D='b', sorted=True)\n",
    "    res_df = res.to_dataframe()\n",
    "    res_df.index = (res_df.score + ':' + res_df.start.astype(str) + '-' + \n",
    "                    res_df.end.astype(str) + ':' + res_df.chrom)\n",
    "\n",
    "    res_df['variant_gene'] = res_df.index\n",
    "    res_df = res_df.drop_duplicates(subset=['variant_gene'])\n",
    "\n",
    "    df['tss_dist'] = res_df.ix[df.index, 'blockStarts']\n",
    "    df['tss_dist_abs'] = df.tss_dist.abs()"
   ]
  },
  {
   "cell_type": "code",
   "execution_count": null,
   "metadata": {
    "collapsed": true
   },
   "outputs": [],
   "source": []
  },
  {
   "cell_type": "code",
   "execution_count": null,
   "metadata": {
    "collapsed": true
   },
   "outputs": [],
   "source": []
  },
  {
   "cell_type": "code",
   "execution_count": 14,
   "metadata": {
    "collapsed": false
   },
   "outputs": [
    {
     "data": {
      "text/plain": [
       "5"
      ]
     },
     "execution_count": 14,
     "metadata": {},
     "output_type": "execute_result"
    }
   ],
   "source": [
    "3  +2"
   ]
  },
  {
   "cell_type": "markdown",
   "metadata": {},
   "source": [
    "### Transcription factor disruption\n",
    "\n",
    "I want to annotate the rare variants with whether they disrupt\n",
    "TF binding sites."
   ]
  },
  {
   "cell_type": "code",
   "execution_count": 26,
   "metadata": {
    "collapsed": true
   },
   "outputs": [],
   "source": [
    "encode_tf_chip_seq = pd.read_table(os.path.join(ciepy.root, 'output', \n",
    "                                                'functional_annotation_analysis', \n",
    "                                                'encode_stem_cell_chip_seq.tsv'), index_col=0)\n",
    "encode_tf_chip_seq = encode_tf_chip_seq.drop_duplicates(subset='target')\n",
    "fn = os.path.join(ciepy.root, 'output', 'motif_search', 'motif_info_full.tsv')\n",
    "motif_info = pd.read_table(fn, index_col=0)\n",
    "fn = os.path.join(ciepy.root, 'output', 'motif_search', 'motif_info_rep.tsv')\n",
    "motif_info_rep = pd.read_table(fn, index_col=0)\n",
    "fn = os.path.join(ciepy.root, 'output', 'motif_search', 'matrices.pickle')\n",
    "with open(fn) as f:\n",
    "    matrices = cPickle.load(f)\n",
    "encode_tf_chip_seq = encode_tf_chip_seq[encode_tf_chip_seq.target.apply(lambda x: x in set(motif_info_rep.tf))]"
   ]
  },
  {
   "cell_type": "code",
   "execution_count": null,
   "metadata": {
    "collapsed": false
   },
   "outputs": [],
   "source": [
    "out = os.path.join(outdir, 'tf_overlap.tsv')\n",
    "if not os.path.exists(out):\n",
    "    s = '\\n'.join(rare_vars.chrom + '\\t' + rare_vars.start.astype(str) + \n",
    "                  '\\t' + rare_vars.end.astype(str) + '\\t' + \n",
    "                  pd.Series(rare_vars.index, index=rare_vars.index)) + '\\n'\n",
    "    rv_bt = pbt.BedTool(s, from_string=True).sort()\n",
    "    tf_overlap = pd.DataFrame(False, index=rare_vars.index, columns=encode_tf_chip_seq.target)\n",
    "\n",
    "    for i in encode_tf_chip_seq.index:\n",
    "        target = encode_tf_chip_seq.ix[i, 'target']\n",
    "        s = cpb.general.read_gzipped_text_url(encode_tf_chip_seq.ix[i, 'narrowPeak_url'])\n",
    "        bt = pbt.BedTool(s, from_string=True)\n",
    "        bt = bt.sort()\n",
    "        res = rv_bt.intersect(bt, sorted=True, wo=True)\n",
    "        df = res.to_dataframe(names=range(len(res[0].fields)))\n",
    "        tf_overlap.ix[set(df[3]), target] = True\n",
    "    tf_overlap.to_csv(out, sep='\\t')\n",
    "else:\n",
    "    tf_overlap = pd.read_table(out, index_col=0)"
   ]
  },
  {
   "cell_type": "code",
   "execution_count": null,
   "metadata": {
    "collapsed": false
   },
   "outputs": [
    {
     "name": "stdout",
     "output_type": "stream",
     "text": [
      "\n"
     ]
    }
   ],
   "source": [
    "out = os.path.join(outdir, 'tf_disruption.tsv')\n",
    "if not os.path.exists(out):\n",
    "    tdf = tf_overlap[tf_overlap.sum(axis=1) > 0]\n",
    "    var_tf_overlaps = {}\n",
    "    for i in tdf.index:\n",
    "        se = tdf.ix[i]\n",
    "        se = se[se]\n",
    "        var_tf_overlaps[i] = list(motif_info[motif_info.tf.apply(lambda x: x in se.index)].index)\n",
    "    tf_disruption = pd.DataFrame(False, index=tf_overlap.index, columns=tf_overlap.columns)\n",
    "\n",
    "    from ipyparallel import Client\n",
    "    parallel_client = Client(profile='parallel')\n",
    "    dview = parallel_client[:]\n",
    "    print('Cluster has {} engines.'.format(len(parallel_client.ids)))\n",
    "    \n",
    "    with dview.sync_imports():\n",
    "        import cdpybio\n",
    "        import cardipspy\n",
    "        \n",
    "    %px cpb = cdpybio\n",
    "    %px cpy = cardipspy\n",
    "    \n",
    "    dview.push(dict(rare_vars=rare_vars));\n",
    "    dview.push(dict(var_tf_overlaps=var_tf_overlaps));\n",
    "    dview.push(dict(matrices=matrices));\n",
    "    \n",
    "    res = dview.map_sync(lambda i: cpb.moodsext.find_motif_disruptions(\n",
    "            rare_vars.ix[i, 'position'], rare_vars.ix[i, 'ref'], rare_vars.ix[i, 'alt'], \n",
    "            cpy.hg19, {k:matrices[k] for k in matrices.keys() if k in var_tf_overlaps[i]}), \n",
    "                         var_tf_overlaps.keys())\n",
    "    for i,k in enumerate(var_tf_overlaps.keys()):\n",
    "        if res[i].shape[0] > 0:\n",
    "            tf_disruption.ix[k, set(motif_info.ix[res[i][res[i]['score_diff'].abs() >= 2.5].index, 'tf'])] = True\n",
    "    tf_disruption.to_csv(out, sep='\\t')\n",
    "else:\n",
    "    tf_disruption = pd.read_table(out, index_col=0)"
   ]
  },
  {
   "cell_type": "code",
   "execution_count": null,
   "metadata": {
    "collapsed": true
   },
   "outputs": [],
   "source": [
    "2 + "
   ]
  },
  {
   "cell_type": "markdown",
   "metadata": {},
   "source": [
    "## Rare CNVs"
   ]
  },
  {
   "cell_type": "code",
   "execution_count": null,
   "metadata": {
    "collapsed": true
   },
   "outputs": [],
   "source": [
    "fn = os.path.join(ciepy.root, 'output/cnv_processing/cnv_info.tsv')\n",
    "cnv_info = pd.read_table(fn, index_col=0)\n",
    "fn = os.path.join(ciepy.root, 'private_output/cnv_processing/cnv_genotypes.tsv')\n",
    "cnv_geno = pd.read_table(fn, index_col=0)"
   ]
  },
  {
   "cell_type": "code",
   "execution_count": null,
   "metadata": {
    "collapsed": false
   },
   "outputs": [
    {
     "data": {
      "image/png": "[encoded data removed]",
      "text/plain": [
       "<matplotlib.figure.Figure at 0x7f45e2d83150>"
      ]
     },
     "metadata": {},
     "output_type": "display_data"
    }
   ],
   "source": [
    "cnv_info.unrelated_percent_diff_from_mode.hist(bins=100)\n",
    "plt.ylabel('Number of CNVs')\n",
    "plt.xlabel('Percent unrelateds different from mode');"
   ]
  },
  {
   "cell_type": "code",
   "execution_count": null,
   "metadata": {
    "collapsed": false
   },
   "outputs": [],
   "source": [
    "cnv_info.sort_values(by='unrelated_diff_from_mode', inplace=True)"
   ]
  },
  {
   "cell_type": "code",
   "execution_count": null,
   "metadata": {
    "collapsed": false
   },
   "outputs": [],
   "source": [
    "rare_cnv_info = cnv_info[cnv_info.unrelated_diff_from_mode == 1]\n",
    "rare_cnv_info = rare_cnv_info.dropna(subset=['gene_overlaps'])"
   ]
  },
  {
   "cell_type": "raw",
   "metadata": {},
   "source": [
    "s = '\\n'.join(rare_cnv_info.chrom + '\\t' + rare_cnv_info.start.astype(str) + \n",
    "              '\\t' + rare_cnv_info.end.astype(str) + '\\t' + rare_cnv_info.name) + '\\n'\n",
    "cnv_bt = pbt.BedTool(s, from_string=True)"
   ]
  },
  {
   "cell_type": "code",
   "execution_count": null,
   "metadata": {
    "collapsed": false
   },
   "outputs": [],
   "source": [
    "lessr = []\n",
    "for i in rare_cnv_info.index:\n",
    "    se = cnv_geno.ix[i, unrelateds]\n",
    "    mode = rare_cnv_info.ix[i, 'cn_mode']\n",
    "    if sum(se < mode) > 0:\n",
    "        lessr.append(se[se < mode])\n",
    "rare_cnv_less = pd.DataFrame(lessr)\n",
    "rare_cnv_less.to_csv(os.path.join(private_outdir, 'rare_cnv_less.tsv'), sep='\\t')"
   ]
  },
  {
   "cell_type": "code",
   "execution_count": null,
   "metadata": {
    "collapsed": false
   },
   "outputs": [],
   "source": [
    "cnv_rare = []\n",
    "cnv_rare_ase_pval = []\n",
    "cnv_rare_less = []\n",
    "cnv_rare_greater = []\n",
    "cnv_not_rare = []\n",
    "cnv_not_rare_ase_pval = []\n",
    "for i in rare_cnv_info.index:\n",
    "    se = cnv_geno.ix[i, unrelateds]\n",
    "    mode = rare_cnv_info.ix[i, 'cn_mode']\n",
    "    r = se[se != mode].index\n",
    "    lessr = se[se < mode]\n",
    "    greaterr = se[se > mode]\n",
    "    nr = se[se == mode].index\n",
    "    for g in set(rare_cnv_info.ix[i, 'gene_overlaps'].split(',')) & set(log_tpm_z.index):\n",
    "        cnv_rare += list(log_tpm_z.ix[g, r])\n",
    "        cnv_rare_less += list(log_tpm_z.ix[g, lessr])\n",
    "        cnv_rare_greater += list(log_tpm_z.ix[g, greaterr])\n",
    "        cnv_not_rare += list(log_tpm_z.ix[g, nr])\n",
    "        if g in ase_pval.index:\n",
    "            cnv_rare_ase_pval += list(ase_pval_f.ix[g, r])\n",
    "            cnv_not_rare_ase_pval += list(ase_pval_f.ix[g, nr])\n",
    "cnv_rare = pd.Series(cnv_rare)\n",
    "cnv_rare_ase_pval = pd.Series(cnv_rare_ase_pval).dropna()\n",
    "cnv_not_rare = pd.Series(cnv_not_rare)\n",
    "cnv_rare_less = pd.Series(cnv_rare_less)\n",
    "cnv_rare_greater = pd.Series(cnv_rare_greater)\n",
    "cnv_not_rare_ase_pval = pd.Series(cnv_not_rare_ase_pval).dropna()"
   ]
  },
  {
   "cell_type": "code",
   "execution_count": null,
   "metadata": {
    "collapsed": false
   },
   "outputs": [
    {
     "name": "stdout",
     "output_type": "stream",
     "text": [
      "Gene/samples with rare genic CNV have ASE 8.04% of the time while gene/samples without rare promoter DHS variant have ASE 3.12% of the time (odds=2.72, p=9.73e-13, Fisher exact).\n"
     ]
    }
   ],
   "source": [
    "r = sum(cnv_rare_ase_pval < 0.005) / float(cnv_rare_ase_pval.shape[0])\n",
    "nr = sum(cnv_not_rare_ase_pval < 0.005) / float(cnv_not_rare_ase_pval.shape[0])\n",
    "a = (cnv_rare_ase_pval < 0.005).value_counts()\n",
    "b = (cnv_not_rare_ase_pval < 0.005).value_counts()\n",
    "odds, p = stats.fisher_exact([[a[True], a[False]], [b[True], b[False]]])\n",
    "print('Gene/samples with rare genic CNV have ASE {:.2f}% of the '\n",
    "      'time while gene/samples without rare promoter DHS variant have ASE '\n",
    "      '{:.2f}% of the time (odds={:.2f}, p={:.2e}, Fisher exact).'.format(r * 100, nr * 100, odds, p))"
   ]
  },
  {
   "cell_type": "code",
   "execution_count": null,
   "metadata": {
    "collapsed": false
   },
   "outputs": [
    {
     "name": "stdout",
     "output_type": "stream",
     "text": [
      "The distributions of z-score expression values for genes with and without rare genic CNVs is significantly different (Mann-Whitney U, p=8.41e-08).\n"
     ]
    }
   ],
   "source": [
    "s,p = stats.mannwhitneyu(cnv_rare, cnv_not_rare)\n",
    "print('The distributions of z-score expression values for genes with and without '\n",
    "      'rare genic CNVs is significantly different (Mann-Whitney U, p={:.2e}).'.format(p))"
   ]
  },
  {
   "cell_type": "code",
   "execution_count": null,
   "metadata": {
    "collapsed": false
   },
   "outputs": [
    {
     "name": "stdout",
     "output_type": "stream",
     "text": [
      "The distributions of z-score expression magnitudes for genes with and without rare genic CNVs is significantly different (Mann-Whitney U, p=1.56e-18).\n"
     ]
    }
   ],
   "source": [
    "s,p = stats.mannwhitneyu(cnv_rare.abs(), cnv_not_rare.abs())\n",
    "print('The distributions of z-score expression magnitudes for genes with and without '\n",
    "      'rare genic CNVs is significantly different (Mann-Whitney U, p={:.2e}).'.format(p))"
   ]
  },
  {
   "cell_type": "code",
   "execution_count": null,
   "metadata": {
    "collapsed": false
   },
   "outputs": [
    {
     "name": "stdout",
     "output_type": "stream",
     "text": [
      "MannwhitneyuResult(statistic=244274758.0, pvalue=0.26920546044906934)\n",
      "MannwhitneyuResult(statistic=195411157.0, pvalue=8.539737391520741e-53)\n"
     ]
    }
   ],
   "source": [
    "print(stats.mannwhitneyu(cnv_rare_less, cnv_not_rare))\n",
    "print(stats.mannwhitneyu(cnv_rare_less.abs(), cnv_not_rare.abs()))"
   ]
  },
  {
   "cell_type": "code",
   "execution_count": null,
   "metadata": {
    "collapsed": false
   },
   "outputs": [
    {
     "name": "stdout",
     "output_type": "stream",
     "text": [
      "MannwhitneyuResult(statistic=48318389.0, pvalue=3.2154123707138734e-22)\n",
      "MannwhitneyuResult(statistic=52732573.0, pvalue=9.762408868882238e-13)\n"
     ]
    }
   ],
   "source": [
    "print(stats.mannwhitneyu(cnv_rare_greater, cnv_not_rare))\n",
    "print(stats.mannwhitneyu(cnv_rare_greater.abs(), cnv_not_rare.abs()))"
   ]
  },
  {
   "cell_type": "code",
   "execution_count": null,
   "metadata": {
    "collapsed": false
   },
   "outputs": [
    {
     "data": {
      "image/png": "[encoded data removed]",
      "text/plain": [
       "<matplotlib.figure.Figure at 0x7f457d146690>"
      ]
     },
     "metadata": {},
     "output_type": "display_data"
    }
   ],
   "source": [
    "cnv_rare.hist(bins=np.arange(-4, 4, 0.1), normed=True, alpha=0.5, histtype='stepfilled', label='rare')\n",
    "cnv_not_rare.hist(bins=np.arange(-4, 4, 0.1), normed=True, alpha=0.5, histtype='stepfilled', label='not rare')\n",
    "plt.legend()\n",
    "plt.ylabel('Fraction of genes')\n",
    "plt.xlabel('$\\log TPM$ $z$-score');"
   ]
  },
  {
   "cell_type": "code",
   "execution_count": null,
   "metadata": {
    "collapsed": false
   },
   "outputs": [
    {
     "data": {
      "image/png": "[encoded data removed]",
      "text/plain": [
       "<matplotlib.figure.Figure at 0x7f45cd7d2750>"
      ]
     },
     "metadata": {},
     "output_type": "display_data"
    }
   ],
   "source": [
    "xs = np.arange(-8, 8.1, 0.1)\n",
    "density = scipy.stats.gaussian_kde(cnv_rare)\n",
    "y_rare = density(xs)\n",
    "density = scipy.stats.gaussian_kde(cnv_not_rare)\n",
    "y_not_rare = density(xs)\n",
    "y_rare = pd.Series(y_rare, index=xs)\n",
    "y_not_rare = pd.Series(y_not_rare, index=xs)\n",
    "y_rare.plot(label='rare')\n",
    "y_not_rare.plot(label='not rare')\n",
    "plt.legend()\n",
    "plt.ylabel('Fraction of genes')\n",
    "plt.xlabel('$\\log TPM$ $z$-score');"
   ]
  },
  {
   "cell_type": "code",
   "execution_count": null,
   "metadata": {
    "collapsed": false
   },
   "outputs": [
    {
     "data": {
      "image/png": "[encoded data removed]",
      "text/plain": [
       "<matplotlib.figure.Figure at 0x7f45cd877c90>"
      ]
     },
     "metadata": {},
     "output_type": "display_data"
    }
   ],
   "source": [
    "cnv_rare_less.hist(bins=np.arange(-4, 4, 0.1), normed=True, alpha=0.5, histtype='stepfilled', label='rare')\n",
    "cnv_not_rare.hist(bins=np.arange(-4, 4, 0.1), normed=True, alpha=0.5, histtype='stepfilled', label='not rare')\n",
    "plt.legend()\n",
    "plt.ylabel('Fraction of genes')\n",
    "plt.xlabel('$\\log TPM$ $z$-score');"
   ]
  },
  {
   "cell_type": "code",
   "execution_count": null,
   "metadata": {
    "collapsed": false
   },
   "outputs": [
    {
     "data": {
      "image/png": "[encoded data removed]",
      "text/plain": [
       "<matplotlib.figure.Figure at 0x7f457d146350>"
      ]
     },
     "metadata": {},
     "output_type": "display_data"
    }
   ],
   "source": [
    "xs = np.arange(-8, 8.1, 0.1)\n",
    "density = scipy.stats.gaussian_kde(cnv_rare_less)\n",
    "y_rare = density(xs)\n",
    "density = scipy.stats.gaussian_kde(cnv_not_rare)\n",
    "y_not_rare = density(xs)\n",
    "y_rare = pd.Series(y_rare, index=xs)\n",
    "y_not_rare = pd.Series(y_not_rare, index=xs)\n",
    "y_rare.plot(label='rare')\n",
    "y_not_rare.plot(label='not rare')\n",
    "plt.legend()\n",
    "plt.ylabel('Fraction of genes')\n",
    "plt.xlabel('$\\log TPM$ $z$-score');"
   ]
  },
  {
   "cell_type": "code",
   "execution_count": null,
   "metadata": {
    "collapsed": false
   },
   "outputs": [
    {
     "data": {
      "image/png": "[encoded data removed]",
      "text/plain": [
       "<matplotlib.figure.Figure at 0x7f45cd7dd910>"
      ]
     },
     "metadata": {},
     "output_type": "display_data"
    }
   ],
   "source": [
    "cnv_rare_greater.hist(bins=np.arange(-4, 4, 0.1), normed=True, alpha=0.5, histtype='stepfilled', label='rare')\n",
    "cnv_not_rare.hist(bins=np.arange(-4, 4, 0.1), normed=True, alpha=0.5, histtype='stepfilled', label='not rare')\n",
    "plt.legend()\n",
    "plt.ylabel('Fraction of genes')\n",
    "plt.xlabel('$\\log TPM$ $z$-score');"
   ]
  },
  {
   "cell_type": "code",
   "execution_count": null,
   "metadata": {
    "collapsed": false
   },
   "outputs": [
    {
     "data": {
      "image/png": "[encoded data removed]",
      "text/plain": [
       "<matplotlib.figure.Figure at 0x7f4531974710>"
      ]
     },
     "metadata": {},
     "output_type": "display_data"
    }
   ],
   "source": [
    "xs = np.arange(-8, 8.1, 0.1)\n",
    "density = scipy.stats.gaussian_kde(cnv_rare_greater)\n",
    "y_rare = density(xs)\n",
    "density = scipy.stats.gaussian_kde(cnv_not_rare)\n",
    "y_not_rare = density(xs)\n",
    "y_rare = pd.Series(y_rare, index=xs)\n",
    "y_not_rare = pd.Series(y_not_rare, index=xs)\n",
    "y_rare.plot(label='rare')\n",
    "y_not_rare.plot(label='not rare')\n",
    "plt.legend()\n",
    "plt.ylabel('Fraction of genes')\n",
    "plt.xlabel('$\\log TPM$ $z$-score');"
   ]
  },
  {
   "cell_type": "code",
   "execution_count": null,
   "metadata": {
    "collapsed": false
   },
   "outputs": [
    {
     "data": {
      "image/png": "[encoded data removed]",
      "text/plain": [
       "<matplotlib.figure.Figure at 0x7f45cd71f0d0>"
      ]
     },
     "metadata": {},
     "output_type": "display_data"
    }
   ],
   "source": [
    "fig,axs = plt.subplots(1, 3, figsize=(7, 4))\n",
    "ax = axs[0]\n",
    "cnv_not_rare.hist(bins=np.arange(-4, 4, 0.1), normed=True, alpha=0.5, histtype='stepfilled', label='not rare', ax=ax)\n",
    "cnv_rare.hist(bins=np.arange(-4, 4, 0.1), normed=True, alpha=0.5, histtype='stepfilled', label='rare', ax=ax)\n",
    "ax.legend()\n",
    "ax.set_ylabel('Fraction of genes')\n",
    "ax.set_xlabel('$\\log TPM$ $z$-score')\n",
    "ax.set_title('All')\n",
    "\n",
    "ax = axs[1]\n",
    "cnv_not_rare.hist(bins=np.arange(-4, 4, 0.1), normed=True, alpha=0.5, histtype='stepfilled', label='not rare', ax=ax)\n",
    "cnv_rare_less.hist(bins=np.arange(-4, 4, 0.1), normed=True, alpha=0.5, histtype='stepfilled', label='rare', ax=ax)\n",
    "ax.legend()\n",
    "ax.set_ylabel('Fraction of genes')\n",
    "ax.set_xlabel('$\\log TPM$ $z$-score');\n",
    "ax.set_title('Del')\n",
    "\n",
    "ax = axs[2]\n",
    "cnv_not_rare.hist(bins=np.arange(-4, 4, 0.1), normed=True, alpha=0.5, histtype='stepfilled', label='not rare', ax=ax)\n",
    "cnv_rare_greater.hist(bins=np.arange(-4, 4, 0.1), normed=True, alpha=0.5, histtype='stepfilled', label='rare', ax=ax)\n",
    "ax.legend()\n",
    "ax.set_ylabel('Fraction of genes')\n",
    "ax.set_xlabel('$\\log TPM$ $z$-score')\n",
    "ax.set_title('Dup')\n",
    "\n",
    "fig.tight_layout()\n",
    "fig.savefig(os.path.join(outdir, 'rare_cnv_hists.pdf'))"
   ]
  },
  {
   "cell_type": "code",
   "execution_count": null,
   "metadata": {
    "collapsed": true
   },
   "outputs": [],
   "source": []
  },
  {
   "cell_type": "code",
   "execution_count": null,
   "metadata": {
    "collapsed": false
   },
   "outputs": [
    {
     "name": "stdout",
     "output_type": "stream",
     "text": [
      "('CNV_8_146276675_146279317', 'ENSG00000182307.8', f4b0146d-7508-457f-a754-bb4042583c4b    3\n",
      "Name: CNV_8_146276675_146279317, dtype: int64)\n",
      "('CNV_9_36273428_36278602', 'ENSG00000122705.12', 7e46a561-21f6-4340-b2e2-41ef50b7d943    3\n",
      "Name: CNV_9_36273428_36278602, dtype: int64)\n",
      "('CNV_7_148820780_148825437', 'ENSG00000197024.4', d5034b1e-43c1-486a-8d18-18b15f635e70    3\n",
      "Name: CNV_7_148820780_148825437, dtype: int64)\n",
      "('CNV_7_133582402_133604451', 'ENSG00000131558.10', 62e55d9a-4bf7-4ab1-bfc1-32b711e68dd4    3\n",
      "Name: CNV_7_133582402_133604451, dtype: int64)\n",
      "('CNV_7_133552783_133574111', 'ENSG00000131558.10', 62e55d9a-4bf7-4ab1-bfc1-32b711e68dd4    3\n",
      "Name: CNV_7_133552783_133574111, dtype: int64)\n",
      "('CNV_7_133526828_133552782', 'ENSG00000131558.10', 62e55d9a-4bf7-4ab1-bfc1-32b711e68dd4    3\n",
      "Name: CNV_7_133526828_133552782, dtype: int64)\n",
      "('CNV_7_133472945_133511987', 'ENSG00000131558.10', 62e55d9a-4bf7-4ab1-bfc1-32b711e68dd4    3\n",
      "Name: CNV_7_133472945_133511987, dtype: int64)\n",
      "('CNV_7_133425056_133428755', 'ENSG00000131558.10', 62e55d9a-4bf7-4ab1-bfc1-32b711e68dd4    3\n",
      "Name: CNV_7_133425056_133428755, dtype: int64)\n",
      "('CNV_10_126611451_126612650', 'ENSG00000249456.1', c7a966f7-e22e-4807-afff-2bae9ca5fc72    3\n",
      "Name: CNV_10_126611451_126612650, dtype: int64)\n",
      "('CNV_11_65914737_65917012', 'ENSG00000175115.7', 63968319-c83a-460c-bcb0-c74f13309332    3\n",
      "Name: CNV_11_65914737_65917012, dtype: int64)\n",
      "('CNV_11_62598951_62619778', 'ENSG00000162236.7', 38a14b37-c328-415f-a530-b0187731578e    3\n",
      "Name: CNV_11_62598951_62619778, dtype: int64)\n",
      "('CNV_9_115276595_115278963', 'ENSG00000165185.10', a669ce2f-aed5-4218-9199-1dff58b72591    3\n",
      "Name: CNV_9_115276595_115278963, dtype: int64)\n",
      "('CNV_10_717045_719090', 'ENSG00000151240.11', d2646a17-2dcd-4053-a105-0be825590396    3\n",
      "Name: CNV_10_717045_719090, dtype: int64)\n",
      "('CNV_10_637233_641982', 'ENSG00000151240.11', d2646a17-2dcd-4053-a105-0be825590396    3\n",
      "Name: CNV_10_637233_641982, dtype: int64)\n",
      "('CNV_9_97934004_97936203', 'ENSG00000158169.7', 63968319-c83a-460c-bcb0-c74f13309332    3\n",
      "Name: CNV_9_97934004_97936203, dtype: int64)\n",
      "('CNV_2_203301293_203303332', 'ENSG00000204217.8', 63968319-c83a-460c-bcb0-c74f13309332    3\n",
      "Name: CNV_2_203301293_203303332, dtype: int64)\n",
      "('CNV_20_30892985_30894784', 'ENSG00000101350.6', 8316c9af-4692-4a44-bc7e-1c79a6d98fd4    3\n",
      "Name: CNV_20_30892985_30894784, dtype: int64)\n",
      "('CNV_16_69849127_69858011', 'ENSG00000198373.8', 41e8cf37-c9ba-4ce1-a586-d0b8e18a6095    3\n",
      "Name: CNV_16_69849127_69858011, dtype: int64)\n",
      "('CNV_2_128110058_128111811', 'ENSG00000169967.12', c9867c9b-fc41-4cfd-9020-3e6d6a46dc7b    3\n",
      "Name: CNV_2_128110058_128111811, dtype: int64)\n",
      "('CNV_3_176878096_176932144', 'ENSG00000177565.11', df4c7d2c-1e36-4dd7-a2b1-fe61a5ec26f6    3\n",
      "Name: CNV_3_176878096_176932144, dtype: int64)\n",
      "('CNV_3_176831401_176833825', 'ENSG00000177565.11', df4c7d2c-1e36-4dd7-a2b1-fe61a5ec26f6    3\n",
      "Name: CNV_3_176831401_176833825, dtype: int64)\n",
      "('CNV_3_176795785_176867203', 'ENSG00000177565.11', df4c7d2c-1e36-4dd7-a2b1-fe61a5ec26f6    3\n",
      "Name: CNV_3_176795785_176867203, dtype: int64)\n",
      "('CNV_4_3954975_3980864', 'ENSG00000253917.3', 9df870bf-744c-4cfe-a95d-e04b61dbf2a5    3\n",
      "Name: CNV_4_3954975_3980864, dtype: int64)\n",
      "('CNV_3_32084932_32088393', 'ENSG00000144645.9', c9867c9b-fc41-4cfd-9020-3e6d6a46dc7b    3\n",
      "Name: CNV_3_32084932_32088393, dtype: int64)\n",
      "('CNV_3_128321777_128351159', 'ENSG00000163902.7', 8ae6e66c-b3a2-436a-8a28-94356cd373fd    3\n",
      "Name: CNV_3_128321777_128351159, dtype: int64)\n",
      "('CNV_3_128369408_128377842', 'ENSG00000163902.7', 8ae6e66c-b3a2-436a-8a28-94356cd373fd    3\n",
      "Name: CNV_3_128369408_128377842, dtype: int64)\n",
      "('CNV_19_3120954_3123636', 'ENSG00000088256.4', 4300b7a4-4bc2-458d-a95e-afd8fbafa232    3\n",
      "Name: CNV_19_3120954_3123636, dtype: int64)\n",
      "('CNV_1_121305880_121332488', 'ENSG00000231752.1', 522a5b8a-98e5-49e0-8dd5-09793ebcbeac    3\n",
      "Name: CNV_1_121305880_121332488, dtype: int64)\n",
      "('CNV_1_121276099_121305879', 'ENSG00000231752.1', 522a5b8a-98e5-49e0-8dd5-09793ebcbeac    3\n",
      "Name: CNV_1_121276099_121305879, dtype: int64)\n",
      "('CNV_1_120517468_120521138', 'ENSG00000134250.13', 2d9b9c8d-5187-4db3-b609-25b390a16045    3\n",
      "Name: CNV_1_120517468_120521138, dtype: int64)\n",
      "('CNV_19_5053668_5056295', 'ENSG00000127663.10', c7a966f7-e22e-4807-afff-2bae9ca5fc72    3\n",
      "Name: CNV_19_5053668_5056295, dtype: int64)\n",
      "('CNV_1_100518029_100521049', 'ENSG00000156875.9', 6f5d6ab9-9f5d-4023-9fd3-46d1f1557e50    3\n",
      "Name: CNV_1_100518029_100521049, dtype: int64)\n",
      "('CNV_1_15958603_15960602', 'ENSG00000197312.7', 63968319-c83a-460c-bcb0-c74f13309332    3\n",
      "Name: CNV_1_15958603_15960602, dtype: int64)\n",
      "('CNV_1_52373945_52377181', 'ENSG00000169213.6', 9127d78b-54a1-4be2-a6b9-40097c8cbc5a    3\n",
      "Name: CNV_1_52373945_52377181, dtype: int64)\n",
      "('CNV_1_32575376_32581552', 'ENSG00000025800.9', 7d8960f9-cc83-4d6e-b370-bd7ff712b035    3\n",
      "Name: CNV_1_32575376_32581552, dtype: int64)\n",
      "('CNV_2_25293820_25298341', 'ENSG00000084710.9', 34cad816-bc95-4567-ab76-2690e22a96fe    3\n",
      "Name: CNV_2_25293820_25298341, dtype: int64)\n",
      "('CNV_1_183381248_183383358', 'ENSG00000157064.6', 13a6fc37-f9f3-4b1b-8e6d-340754b84dd0    3\n",
      "Name: CNV_1_183381248_183383358, dtype: int64)\n",
      "('CNV_17_57662776_57677968', 'ENSG00000108406.5', 662be858-35d3-48a3-a22a-357d78eeb07b    3\n",
      "Name: CNV_17_57662776_57677968, dtype: int64)\n",
      "('CNV_7_5764934_5815390', 'ENSG00000011275.14', fe1673d4-b53e-453a-a06b-b04b9f1fe89e    3\n",
      "Name: CNV_7_5764934_5815390, dtype: int64)\n",
      "('CNV_7_5695219_5712934', 'ENSG00000011275.14', fe1673d4-b53e-453a-a06b-b04b9f1fe89e    3\n",
      "Name: CNV_7_5695219_5712934, dtype: int64)\n",
      "('CNV_6_34801894_34820550', 'ENSG00000065060.12', c2a8ad0d-aaa0-4c29-a9b2-6e6617995a7d    3\n",
      "Name: CNV_6_34801894_34820550, dtype: int64)\n",
      "('CNV_6_34788402_34799543', 'ENSG00000065060.12', c2a8ad0d-aaa0-4c29-a9b2-6e6617995a7d    3\n",
      "Name: CNV_6_34788402_34799543, dtype: int64)\n",
      "('CNV_6_34748481_34786179', 'ENSG00000065060.12', c2a8ad0d-aaa0-4c29-a9b2-6e6617995a7d    3\n",
      "Name: CNV_6_34748481_34786179, dtype: int64)\n",
      "('CNV_7_98710345_98715144', 'ENSG00000198742.5', 41b56a79-65a4-44d0-8f3e-86c7d6621fcb    3\n",
      "Name: CNV_7_98710345_98715144, dtype: int64)\n",
      "('CNV_7_7629406_7649451', 'ENSG00000164654.11', b0f5085e-34ab-478e-a4b8-1be9105884fa    3\n",
      "Name: CNV_7_7629406_7649451, dtype: int64)\n",
      "('CNV_7_7616242_7635105', 'ENSG00000164654.11', b0f5085e-34ab-478e-a4b8-1be9105884fa    3\n",
      "Name: CNV_7_7616242_7635105, dtype: int64)\n",
      "('CNV_7_7601811_7623985', 'ENSG00000164654.11', b0f5085e-34ab-478e-a4b8-1be9105884fa    3\n",
      "Name: CNV_7_7601811_7623985, dtype: int64)\n",
      "('CNV_7_7585525_7606510', 'ENSG00000164654.11', b0f5085e-34ab-478e-a4b8-1be9105884fa    3\n",
      "Name: CNV_7_7585525_7606510, dtype: int64)\n",
      "('CNV_7_66640366_66643472', 'ENSG00000198874.8', c7a966f7-e22e-4807-afff-2bae9ca5fc72    3\n",
      "Name: CNV_7_66640366_66643472, dtype: int64)\n",
      "('CNV_7_47594402_47605901', 'ENSG00000136205.12', 397d0f20-b491-4964-a9a9-e1ebd87402dc    3\n",
      "Name: CNV_7_47594402_47605901, dtype: int64)\n",
      "('CNV_15_44115562_44116775', 'ENSG00000140259.6', 41b56a79-65a4-44d0-8f3e-86c7d6621fcb    3\n",
      "Name: CNV_15_44115562_44116775, dtype: int64)\n",
      "('CNV_20_45952314_45962941', 'ENSG00000101040.15', 88facd8c-e8d7-4aee-b0f7-ad0fa47f256e    3\n",
      "Name: CNV_20_45952314_45962941, dtype: int64)\n",
      "('CNV_4_99816601_99825639', 'ENSG00000151247.8', 102831d4-9fb5-460d-8b60-ef9978789891    3\n",
      "Name: CNV_4_99816601_99825639, dtype: int64)\n",
      "('CNV_5_110416953_110446553', 'ENSG00000134987.7', 7d8960f9-cc83-4d6e-b370-bd7ff712b035    3\n",
      "Name: CNV_5_110416953_110446553, dtype: int64)\n",
      "('CNV_13_114809249_114820320', 'ENSG00000185989.9', 2d9b9c8d-5187-4db3-b609-25b390a16045    3\n",
      "Name: CNV_13_114809249_114820320, dtype: int64)\n",
      "('CNV_5_176571077_176574326', 'ENSG00000165671.14', c7a966f7-e22e-4807-afff-2bae9ca5fc72    3\n",
      "Name: CNV_5_176571077_176574326, dtype: int64)\n",
      "('CNV_5_74729974_74740910', 'ENSG00000113163.11', 102831d4-9fb5-460d-8b60-ef9978789891    3\n",
      "Name: CNV_5_74729974_74740910, dtype: int64)\n"
     ]
    }
   ],
   "source": [
    "cnv_rare = []\n",
    "cnv_rare_less = []\n",
    "cnv_rare_greater = []\n",
    "cnv_not_rare = []\n",
    "for i in rare_cnv_info.index:\n",
    "    se = cnv_geno.ix[i, unrelateds]\n",
    "    mode = rare_cnv_info.ix[i, 'cn_mode']\n",
    "    r = se[se != mode].index\n",
    "    lessr = se[se < mode]\n",
    "    greaterr = se[se > mode]\n",
    "    nr = se[se == mode].index\n",
    "    for g in set(rare_cnv_info.ix[i, 'gene_overlaps'].split(',')) & set(log_tpm_z.index):\n",
    "        if greaterr.shape[0] > 0:\n",
    "            if sum(log_tpm_z.ix[g, greaterr] < -2) > 0:\n",
    "                print(i, g, greaterr)"
   ]
  },
  {
   "cell_type": "code",
   "execution_count": null,
   "metadata": {
    "collapsed": false
   },
   "outputs": [
    {
     "data": {
      "text/plain": [
       "gene_name                CLTA\n",
       "gene_type      protein_coding\n",
       "chrom                    chr9\n",
       "start                36190852\n",
       "end                  36304778\n",
       "strand                      +\n",
       "gene_status             KNOWN\n",
       "source                 HAVANA\n",
       "level                       1\n",
       "Name: ENSG00000122705.12, dtype: object"
      ]
     },
     "execution_count": 69,
     "metadata": {},
     "output_type": "execute_result"
    }
   ],
   "source": [
    "gene_info.ix['ENSG00000122705.12']"
   ]
  },
  {
   "cell_type": "code",
   "execution_count": null,
   "metadata": {
    "collapsed": false
   },
   "outputs": [
    {
     "ename": "AttributeError",
     "evalue": "'list' object has no attribute 'head'",
     "output_type": "error",
     "traceback": [
      "\u001b[1;31m---------------------------------------------------------------------------\u001b[0m",
      "\u001b[1;31mAttributeError\u001b[0m                            Traceback (most recent call last)",
      "\u001b[1;32m<ipython-input-70-a195f5331978>\u001b[0m in \u001b[0;36m<module>\u001b[1;34m()\u001b[0m\n\u001b[1;32m----> 1\u001b[1;33m \u001b[0mcnv_rare_greater\u001b[0m\u001b[1;33m.\u001b[0m\u001b[0mhead\u001b[0m\u001b[1;33m(\u001b[0m\u001b[1;33m)\u001b[0m\u001b[1;33m\u001b[0m\u001b[0m\n\u001b[0m",
      "\u001b[1;31mAttributeError\u001b[0m: 'list' object has no attribute 'head'"
     ]
    }
   ],
   "source": [
    "cnv_rare_greater.head()"
   ]
  },
  {
   "cell_type": "code",
   "execution_count": null,
   "metadata": {
    "collapsed": true
   },
   "outputs": [],
   "source": [
    "tt = log_tpm_z.apply(lambda x: stats.mstats.normaltest(x)[1], axis=1)"
   ]
  },
  {
   "cell_type": "code",
   "execution_count": null,
   "metadata": {
    "collapsed": false
   },
   "outputs": [],
   "source": [
    "tt.hist()"
   ]
  },
  {
   "cell_type": "code",
   "execution_count": null,
   "metadata": {
    "collapsed": true
   },
   "outputs": [],
   "source": []
  },
  {
   "cell_type": "code",
   "execution_count": null,
   "metadata": {
    "collapsed": true
   },
   "outputs": [],
   "source": [
    "?fisher_exact"
   ]
  },
  {
   "cell_type": "code",
   "execution_count": null,
   "metadata": {
    "collapsed": true
   },
   "outputs": [],
   "source": []
  }
 ],
 "metadata": {
  "kernelspec": {
   "display_name": "Environment (cie)",
   "language": "",
   "name": "cie"
  },
  "language_info": {
   "codemirror_mode": {
    "name": "ipython",
    "version": 2
   },
   "file_extension": ".py",
   "mimetype": "text/x-python",
   "name": "python",
   "nbconvert_exporter": "python",
   "pygments_lexer": "ipython2",
   "version": "2.7.11"
  }
 },
 "nbformat": 4,
 "nbformat_minor": 0
}
