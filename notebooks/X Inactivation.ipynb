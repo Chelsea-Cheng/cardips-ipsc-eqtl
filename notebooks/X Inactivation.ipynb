{
 "cells": [
  {
   "cell_type": "markdown",
   "metadata": {},
   "source": [
    "# X Inactivation"
   ]
  },
  {
   "cell_type": "code",
   "execution_count": 1,
   "metadata": {
    "collapsed": true
   },
   "outputs": [],
   "source": [
    "import glob\n",
    "import os\n",
    "import random\n",
    "import subprocess\n",
    "\n",
    "import matplotlib.gridspec as gridspec\n",
    "import matplotlib.pyplot as plt\n",
    "import numpy as np\n",
    "import pandas as pd\n",
    "import pybedtools as pbt\n",
    "import seaborn as sns\n",
    "\n",
    "import cardipspy as cpy\n",
    "import ciepy\n",
    "\n",
    "%matplotlib inline"
   ]
  },
  {
   "cell_type": "code",
   "execution_count": 2,
   "metadata": {
    "collapsed": true
   },
   "outputs": [],
   "source": [
    "import socket\n",
    "if socket.gethostname() == 'fl1':\n",
    "    pbt.set_tempdir('/projects/cdeboever/pybedtools_temp')"
   ]
  },
  {
   "cell_type": "code",
   "execution_count": 4,
   "metadata": {
    "collapsed": true
   },
   "outputs": [],
   "source": [
    "outdir = os.path.join(ciepy.root, 'output',\n",
    "                      'x_inactivation')\n",
    "cpy.makedir(outdir)\n",
    "\n",
    "private_outdir = os.path.join(ciepy.root, 'private_output',\n",
    "                              'x_inactivation')\n",
    "cpy.makedir(private_outdir)"
   ]
  },
  {
   "cell_type": "code",
   "execution_count": 24,
   "metadata": {
    "collapsed": true
   },
   "outputs": [],
   "source": [
    "fn = os.path.join(ciepy.root, 'output', 'input_data', 'rsem_tpm.tsv')\n",
    "tpm = pd.read_table(fn, index_col=0)\n",
    "fn = os.path.join(ciepy.root, 'output', 'input_data', 'rnaseq_metadata.tsv')\n",
    "rna_meta = pd.read_table(fn, index_col=0)\n",
    "fn = os.path.join(ciepy.root, 'output', 'input_data', 'subject_metadata.tsv')\n",
    "subject_meta = pd.read_table(fn, index_col=0)\n",
    "fn = os.path.join(ciepy.root, 'output', 'input_data', 'wgs_metadata.tsv')\n",
    "wgs_meta = pd.read_table(fn, index_col=0)\n",
    "\n",
    "gene_info = pd.read_table(cpy.gencode_gene_info, index_col=0)"
   ]
  },
  {
   "cell_type": "code",
   "execution_count": 6,
   "metadata": {
    "collapsed": true
   },
   "outputs": [],
   "source": [
    "locus_fns = glob.glob(os.path.join(ciepy.root, 'output', 'input_data', 'mbased_locus',\n",
    "                                   '*_locus.tsv'))\n",
    "snv_fns = glob.glob(os.path.join(ciepy.root, 'private_output', 'input_data', 'mbased_snv',\n",
    "                                 '*_snv.tsv'))\n",
    "count_fns = glob.glob(os.path.join(ciepy.root, 'private_output', 'input_data', 'allele_counts',\n",
    "                                   '*mbased_input.tsv'))"
   ]
  },
  {
   "cell_type": "code",
   "execution_count": 7,
   "metadata": {
    "collapsed": true
   },
   "outputs": [],
   "source": [
    "locus_res = {}\n",
    "for fn in locus_fns:\n",
    "    locus_res[os.path.split(fn)[1].split('_')[0]] = pd.read_table(fn, index_col=0)\n",
    "\n",
    "snv_res = {}\n",
    "for fn in snv_fns:\n",
    "    snv_res[os.path.split(fn)[1].split('_')[0]] = pd.read_table(fn, index_col=0)\n",
    "    \n",
    "count_res = {}\n",
    "for fn in count_fns:\n",
    "    count_res[os.path.split(fn)[1].split('_')[0]] = pd.read_table(fn, index_col=0)\n",
    "\n",
    "locus_p = pd.Panel(locus_res)\n",
    "snv_p = pd.Panel(snv_res)"
   ]
  },
  {
   "cell_type": "code",
   "execution_count": 51,
   "metadata": {
    "collapsed": false
   },
   "outputs": [],
   "source": [
    "sf = subject_meta[subject_meta.sex == 'F']\n",
    "meta = sf.merge(rna_meta, left_index=True, right_on='subject_id')\n",
    "meta = meta.ix[[x for x in snv_p.items if x in meta.index]]"
   ]
  },
  {
   "cell_type": "code",
   "execution_count": 95,
   "metadata": {
    "collapsed": true
   },
   "outputs": [],
   "source": [
    "locus_p = locus_p.ix[meta.index]\n",
    "snv_p = snv_p.ix[meta.index]"
   ]
  },
  {
   "cell_type": "code",
   "execution_count": 273,
   "metadata": {
    "collapsed": false
   },
   "outputs": [],
   "source": [
    "# Filter  and take log.\n",
    "tpm_f = tpm[(tpm != 0).sum(axis=1) > 0]\n",
    "log_tpm = np.log10(tpm_f + 1)\n",
    "# Mean center.\n",
    "log_tpm_c = (log_tpm.T - log_tpm.mean(axis=1)).T\n",
    "# Variance normalize.\n",
    "log_tpm_n = (log_tpm_c.T / log_tpm_c.std(axis=1)).T"
   ]
  },
  {
   "cell_type": "markdown",
   "metadata": {},
   "source": [
    "## Individual Sample\n",
    "\n",
    "Let's take a look at one sample."
   ]
  },
  {
   "cell_type": "code",
   "execution_count": 295,
   "metadata": {
    "collapsed": true
   },
   "outputs": [],
   "source": [
    "df = locus_res[meta.index[0]]\n",
    "x = df[gene_info.ix[df.index, 'chrom'] == 'chrX']\n",
    "notx = df[gene_info.ix[df.index, 'chrom'] != 'chrX']"
   ]
  },
  {
   "cell_type": "code",
   "execution_count": 296,
   "metadata": {
    "collapsed": false
   },
   "outputs": [
    {
     "data": {
      "image/png": "[encoded data removed]",
      "text/plain": [
       "<matplotlib.figure.Figure at 0x7f936e12b5d0>"
      ]
     },
     "metadata": {},
     "output_type": "display_data"
    }
   ],
   "source": [
    "fig, axs = plt.subplots(1, 2, figsize=(8, 4))\n",
    "ax = axs[0]\n",
    "x.major_allele_freq.hist(ax=ax)\n",
    "ax.set_title('X chromosome genes')\n",
    "ax.set_ylabel('Number of genes')\n",
    "ax.set_xlabel('Major allele frequency')\n",
    "ax = axs[1]\n",
    "notx.major_allele_freq.hist(ax=ax)\n",
    "ax.set_title('Autosomal genes')\n",
    "ax.set_ylabel('Number of genes')\n",
    "ax.set_xlabel('Major allele frequency')\n",
    "plt.tight_layout();"
   ]
  },
  {
   "cell_type": "code",
   "execution_count": 297,
   "metadata": {
    "collapsed": false
   },
   "outputs": [
    {
     "data": {
      "image/png": "[encoded data removed]",
      "text/plain": [
       "<matplotlib.figure.Figure at 0x7f936f63d850>"
      ]
     },
     "metadata": {},
     "output_type": "display_data"
    }
   ],
   "source": [
    "fig, axs = plt.subplots(1, 2, figsize=(8, 4))\n",
    "ax = axs[0]\n",
    "(-np.log10(x.p_val_ase + x.p_val_ase[x.p_val_ase != 0].min())).hist(ax=ax)\n",
    "ax.set_title('X chromosome genes')\n",
    "ax.set_ylabel('Number of genes')\n",
    "ax.set_xlabel('$-\\log_{10}$ $p$-value')\n",
    "ax = axs[1]\n",
    "(-np.log10(notx.p_val_ase + notx.p_val_ase[notx.p_val_ase != 0].min())).hist(ax=ax)\n",
    "ax.set_title('Autosomal genes')\n",
    "ax.set_ylabel('Number of genes')\n",
    "ax.set_xlabel('$-\\log_{10}$ $p$-value')\n",
    "plt.tight_layout();"
   ]
  },
  {
   "cell_type": "markdown",
   "metadata": {},
   "source": [
    "## All Samples"
   ]
  },
  {
   "cell_type": "raw",
   "metadata": {},
   "source": [
    "d = pd.DataFrame([x[x.isnull() == False].median(), \n",
    "                  notx[notx.isnull() == False].median()],\n",
    "                index=['X', 'autosomal']).T\n",
    "d = d.stack()\n",
    "d = pd.DataFrame([d.values, [z[1] for z in d.index]], \n",
    "                 columns=[z[0] for z in d.index],\n",
    "                 index=['Frequency', 'Location']).T\n",
    "d['Frequency'] = d['Frequency'].astype(float)"
   ]
  },
  {
   "cell_type": "code",
   "execution_count": 301,
   "metadata": {
    "collapsed": true
   },
   "outputs": [],
   "source": [
    "t = locus_p.ix[:, :, 'major_allele_freq']\n",
    "x = t.ix[set(t.index) & set(gene_info[gene_info.chrom == 'chrX'].index)]\n",
    "notx = t.ix[set(t.index) & set(gene_info[gene_info.chrom != 'chrX'].index)]"
   ]
  },
  {
   "cell_type": "code",
   "execution_count": 304,
   "metadata": {
    "collapsed": false
   },
   "outputs": [
    {
     "data": {
      "text/plain": [
       "(456, 128)"
      ]
     },
     "execution_count": 304,
     "metadata": {},
     "output_type": "execute_result"
    }
   ],
   "source": [
    "x.shape"
   ]
  },
  {
   "cell_type": "code",
   "execution_count": 310,
   "metadata": {
    "collapsed": true
   },
   "outputs": [],
   "source": [
    "?sns.clustermap"
   ]
  },
  {
   "cell_type": "code",
   "execution_count": 324,
   "metadata": {
    "collapsed": false
   },
   "outputs": [
    {
     "data": {
      "image/png": "[encoded data removed]",
      "text/plain": [
       "<matplotlib.figure.Figure at 0x7f936ec2c310>"
      ]
     },
     "metadata": {},
     "output_type": "display_data"
    }
   ],
   "source": [
    "fig = plt.figure(figsize=(12, 4))\n",
    "gs = gridspec.GridSpec(1, 3, width_ratios=[1, 3, 3])\n",
    "\n",
    "ax = plt.subplot(gs[0])\n",
    "exp = log_tpm_n.ix[[gene_info[gene_info.gene_name == 'XIST'].index[0], \n",
    "                    gene_info[gene_info.gene_name == 'TSIX'].index[0]]].T\n",
    "exp.columns = ['XIST', 'TSIX']\n",
    "exp = exp.ix[x.columns].sort(columns='XIST', ascending=False)\n",
    "sns.heatmap(exp, yticklabels=False, ax=ax)\n",
    "ax.set_ylabel('')\n",
    "ax.set_title('Expression')\n",
    "\n",
    "ax = plt.subplot(gs[1])\n",
    "r = x.apply(lambda z: pd.cut(z[z.isnull() == False], bins=np.arange(0.5, 1.05, 0.05)))\n",
    "r = r.apply(lambda z: z.value_counts())\n",
    "sns.heatmap(r.ix[exp.index], yticklabels=False, ax=ax)\n",
    "ax.set_ylabel('')\n",
    "ax.set_title('X MajAF distribution')\n",
    "\n",
    "ax = plt.subplot(gs[2])\n",
    "r = notx.apply(lambda z: pd.cut(z[z.isnull() == False], bins=np.arange(0.5, 1.05, 0.05)))\n",
    "r = r.apply(lambda z: z.value_counts())\n",
    "sns.heatmap(r.ix[exp.index], yticklabels=False, ax=ax)\n",
    "ax.set_ylabel('')\n",
    "ax.set_title('Autosomal MajAF distribution');"
   ]
  },
  {
   "cell_type": "markdown",
   "metadata": {},
   "source": [
    "The X chromosome is clearly enriched for having ASE which is probably due\n",
    "to incomplete X reactivation. However, only some genes show residual \n",
    "inactivation. Are these the same genes across samples?"
   ]
  },
  {
   "cell_type": "code",
   "execution_count": 120,
   "metadata": {
    "collapsed": false
   },
   "outputs": [
    {
     "data": {
      "image/png": "[encoded data removed]",
      "text/plain": [
       "<matplotlib.figure.Figure at 0x7f935fecd510>"
      ]
     },
     "metadata": {},
     "output_type": "display_data"
    }
   ],
   "source": [
    "t = locus_p.ix[:, :, 'major_allele_freq']\n",
    "t = t.ix[set(t.index) & set(gene_info[gene_info.chrom == 'chrX'].index)]\n",
    "freq = (t[t.isnull() == False] > 0.75).sum(axis=1) / (t.isnull() == False).sum(axis=1)\n",
    "\n",
    "freq.hist()\n",
    "plt.ylabel('Number of genes')\n",
    "plt.xlabel('Percentage of samples with major freq. > 75%');"
   ]
  },
  {
   "cell_type": "markdown",
   "metadata": {},
   "source": [
    "The above histogram shows what percentage of samples have major\n",
    "allele frequency greater than 75% for each gene. Note that a gene in a sample is\n",
    "included here only if it was tested by MBASED for ASE. We can see that\n",
    "most genes either have all or no samples with major allele frequency\n",
    "greater than 75%. This suggests that reactivation happens preferentially.\n",
    "I'd like to build a model that predicts whether reactivation occurs.\n",
    "I could use the major allele frequency or significant ASE. If I use\n",
    "significant ASE I can build a logisitic model. I should look into the\n",
    "X inactivation literature but I imagine some relevant features could be:\n",
    "\n",
    "* replication timing \n",
    "* distance from centromere or telomere \n",
    "* XIST binding motif density (does it have a binding motif?)\n",
    "* distance from X inactivation center\n",
    "* XIST expression\n",
    "* TSIX expression"
   ]
  },
  {
   "cell_type": "code",
   "execution_count": 338,
   "metadata": {
    "collapsed": false
   },
   "outputs": [],
   "source": [
    "df = pd.read_table('/raid3/projects/CARDIPS/analysis/cardips-ipsc-eqtl/sandbox/RD_sm300_2936763_hFibiPS4p72.txt',\n",
    "                   low_memory=False, skiprows=15, index_col=0)"
   ]
  },
  {
   "cell_type": "code",
   "execution_count": 339,
   "metadata": {
    "collapsed": false
   },
   "outputs": [
    {
     "data": {
      "text/html": [
       "<div>\n",
       "<table border=\"1\" class=\"dataframe\">\n",
       "  <thead>\n",
       "    <tr style=\"text-align: right;\">\n",
       "      <th></th>\n",
       "      <th>Gene_Name</th>\n",
       "      <th>Chromosome</th>\n",
       "      <th>Start_Position</th>\n",
       "      <th>End_Position</th>\n",
       "      <th>Data_Value</th>\n",
       "    </tr>\n",
       "    <tr>\n",
       "      <th>ID</th>\n",
       "      <th></th>\n",
       "      <th></th>\n",
       "      <th></th>\n",
       "      <th></th>\n",
       "      <th></th>\n",
       "    </tr>\n",
       "  </thead>\n",
       "  <tbody>\n",
       "    <tr>\n",
       "      <th>X1</th>\n",
       "      <td>NaN</td>\n",
       "      <td>chr1</td>\n",
       "      <td>17781</td>\n",
       "      <td>17841</td>\n",
       "      <td>-0.247134</td>\n",
       "    </tr>\n",
       "    <tr>\n",
       "      <th>X2</th>\n",
       "      <td>NaN</td>\n",
       "      <td>chr1</td>\n",
       "      <td>30659</td>\n",
       "      <td>30719</td>\n",
       "      <td>-0.240810</td>\n",
       "    </tr>\n",
       "    <tr>\n",
       "      <th>X3</th>\n",
       "      <td>NaN</td>\n",
       "      <td>chr1</td>\n",
       "      <td>31123</td>\n",
       "      <td>31183</td>\n",
       "      <td>-0.240594</td>\n",
       "    </tr>\n",
       "    <tr>\n",
       "      <th>X4</th>\n",
       "      <td>NaN</td>\n",
       "      <td>chr1</td>\n",
       "      <td>32108</td>\n",
       "      <td>32168</td>\n",
       "      <td>-0.240140</td>\n",
       "    </tr>\n",
       "    <tr>\n",
       "      <th>X5</th>\n",
       "      <td>NaN</td>\n",
       "      <td>chr1</td>\n",
       "      <td>36566</td>\n",
       "      <td>36626</td>\n",
       "      <td>-0.238136</td>\n",
       "    </tr>\n",
       "  </tbody>\n",
       "</table>\n",
       "</div>"
      ],
      "text/plain": [
       "    Gene_Name Chromosome  Start_Position  End_Position  Data_Value\n",
       "ID                                                                \n",
       "X1        NaN       chr1           17781         17841   -0.247134\n",
       "X2        NaN       chr1           30659         30719   -0.240810\n",
       "X3        NaN       chr1           31123         31183   -0.240594\n",
       "X4        NaN       chr1           32108         32168   -0.240140\n",
       "X5        NaN       chr1           36566         36626   -0.238136"
      ]
     },
     "execution_count": 339,
     "metadata": {},
     "output_type": "execute_result"
    }
   ],
   "source": [
    "df.head()"
   ]
  },
  {
   "cell_type": "code",
   "execution_count": 341,
   "metadata": {
    "collapsed": false
   },
   "outputs": [
    {
     "data": {
      "text/plain": [
       "chr2     183249\n",
       "chr1     171757\n",
       "chr3     146506\n",
       "chr4     139731\n",
       "chr5     133149\n",
       "chr6     126695\n",
       "chr7     118517\n",
       "chr8     108547\n",
       "chrX     106458\n",
       "chr10    102066\n",
       "chr11     98426\n",
       "chr12     97812\n",
       "chr9      91213\n",
       "chr13     74283\n",
       "chr14     67627\n",
       "chr15     61486\n",
       "chr17     59833\n",
       "chr16     59590\n",
       "chr18     58024\n",
       "chr20     45971\n",
       "chr19     41242\n",
       "chr22     26718\n",
       "chr21     26142\n",
       "chrY      16637\n",
       "dtype: int64"
      ]
     },
     "execution_count": 341,
     "metadata": {},
     "output_type": "execute_result"
    }
   ],
   "source": [
    "df.Chromosome.value_counts()"
   ]
  },
  {
   "cell_type": "code",
   "execution_count": null,
   "metadata": {
    "collapsed": true
   },
   "outputs": [],
   "source": []
  }
 ],
 "metadata": {
  "kernelspec": {
   "display_name": "Python 2",
   "language": "python",
   "name": "python2"
  },
  "language_info": {
   "codemirror_mode": {
    "name": "ipython",
    "version": 2
   },
   "file_extension": ".py",
   "mimetype": "text/x-python",
   "name": "python",
   "nbconvert_exporter": "python",
   "pygments_lexer": "ipython2",
   "version": "2.7.10"
  }
 },
 "nbformat": 4,
 "nbformat_minor": 0
}
